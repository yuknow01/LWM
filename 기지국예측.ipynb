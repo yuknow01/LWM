{
 "cells": [
  {
   "cell_type": "code",
   "execution_count": 1,
   "id": "0b9c09f5",
   "metadata": {},
   "outputs": [
    {
     "name": "stdout",
     "output_type": "stream",
     "text": [
      "Requirement already satisfied: DeepMIMOv3 in c:\\users\\dlghd\\anaconda3\\lib\\site-packages (0.2.8)\n",
      "Requirement already satisfied: numpy in c:\\users\\dlghd\\anaconda3\\lib\\site-packages (from DeepMIMOv3) (1.24.3)\n",
      "Requirement already satisfied: scipy in c:\\users\\dlghd\\anaconda3\\lib\\site-packages (from DeepMIMOv3) (1.10.1)\n",
      "Requirement already satisfied: tqdm in c:\\users\\dlghd\\anaconda3\\lib\\site-packages (from DeepMIMOv3) (4.65.0)\n",
      "Requirement already satisfied: matplotlib in c:\\users\\dlghd\\anaconda3\\lib\\site-packages (from DeepMIMOv3) (3.7.1)\n",
      "Requirement already satisfied: contourpy>=1.0.1 in c:\\users\\dlghd\\anaconda3\\lib\\site-packages (from matplotlib->DeepMIMOv3) (1.0.5)\n",
      "Requirement already satisfied: cycler>=0.10 in c:\\users\\dlghd\\anaconda3\\lib\\site-packages (from matplotlib->DeepMIMOv3) (0.11.0)\n",
      "Requirement already satisfied: fonttools>=4.22.0 in c:\\users\\dlghd\\anaconda3\\lib\\site-packages (from matplotlib->DeepMIMOv3) (4.25.0)\n",
      "Requirement already satisfied: kiwisolver>=1.0.1 in c:\\users\\dlghd\\anaconda3\\lib\\site-packages (from matplotlib->DeepMIMOv3) (1.4.4)\n",
      "Requirement already satisfied: packaging>=20.0 in c:\\users\\dlghd\\anaconda3\\lib\\site-packages (from matplotlib->DeepMIMOv3) (23.0)\n",
      "Requirement already satisfied: pillow>=6.2.0 in c:\\users\\dlghd\\anaconda3\\lib\\site-packages (from matplotlib->DeepMIMOv3) (9.4.0)\n",
      "Requirement already satisfied: pyparsing>=2.3.1 in c:\\users\\dlghd\\anaconda3\\lib\\site-packages (from matplotlib->DeepMIMOv3) (3.0.9)\n",
      "Requirement already satisfied: python-dateutil>=2.7 in c:\\users\\dlghd\\anaconda3\\lib\\site-packages (from matplotlib->DeepMIMOv3) (2.8.2)\n",
      "Requirement already satisfied: colorama in c:\\users\\dlghd\\anaconda3\\lib\\site-packages (from tqdm->DeepMIMOv3) (0.4.6)\n",
      "Requirement already satisfied: six>=1.5 in c:\\users\\dlghd\\anaconda3\\lib\\site-packages (from python-dateutil>=2.7->matplotlib->DeepMIMOv3) (1.16.0)\n"
     ]
    }
   ],
   "source": [
    "# 이 예제에 필요한 DeepMIMO 및 기타 라이브러리 가져오기 \n",
    "!pip install DeepMIMOv3\n",
    "import  DeepMIMOv3\n",
    "import  numpy  as  np \n",
    "from  pprint  import  pprint \n",
    "import  matplotlib.pyplot  as  plt\n",
    "\n",
    "plt . rcParams [ 'figure.figsize' ]  =  [ 12 ,  8 ]  # 기본 플롯 크기 설정"
   ]
  },
  {
   "cell_type": "code",
   "execution_count": 2,
   "id": "2fa395e0",
   "metadata": {},
   "outputs": [
    {
     "name": "stdout",
     "output_type": "stream",
     "text": [
      "{'OFDM': {'RX_filter': 0,\n",
      "          'bandwidth': 0.05,\n",
      "          'selected_subcarriers': array([0]),\n",
      "          'subcarriers': 512},\n",
      " 'OFDM_channels': 1,\n",
      " 'active_BS': array([1]),\n",
      " 'bs_antenna': {'FoV': array([360, 180]),\n",
      "                'radiation_pattern': 'isotropic',\n",
      "                'rotation': array([0, 0, 0]),\n",
      "                'shape': array([8, 4]),\n",
      "                'spacing': 0.5},\n",
      " 'dataset_folder': './Raytracing_scenarios',\n",
      " 'dynamic_scenario_scenes': array([1]),\n",
      " 'enable_BS2BS': 1,\n",
      " 'enable_doppler': 0,\n",
      " 'enable_dual_polar': 0,\n",
      " 'num_paths': 5,\n",
      " 'scenario': 'O1_60',\n",
      " 'ue_antenna': {'FoV': array([360, 180]),\n",
      "                'radiation_pattern': 'isotropic',\n",
      "                'rotation': array([0, 0, 0]),\n",
      "                'shape': array([4, 2]),\n",
      "                'spacing': 0.5},\n",
      " 'user_rows': array([1]),\n",
      " 'user_subsampling': 1}\n"
     ]
    }
   ],
   "source": [
    "## Load and print the default parameters\n",
    "parameters = DeepMIMOv3.default_params()\n",
    "pprint(parameters)"
   ]
  },
  {
   "cell_type": "markdown",
   "id": "d956cbb6",
   "metadata": {},
   "source": [
    "## dynamic scenarios"
   ]
  },
  {
   "cell_type": "code",
   "execution_count": 11,
   "id": "107b148d",
   "metadata": {},
   "outputs": [],
   "source": [
    "## Change parameters for the setup\n",
    "# Scenario O1_60 extracted at the dataset_folder\n",
    "#LWM 동적 시나리오 불러오기\n",
    "#자신의 LWM 파일 위치 경로 작성\n",
    "parameters['dataset_folder'] = r'C:\\Users\\dlghd\\졸업프로젝트\\LWM'\n",
    "# scnario = 02_dyn_3p5 <- 다운받은 파일(동적시나리오)\n",
    "parameters['scenario'] = 'O2_dyn_3p5'\n",
    "parameters['dynamic_scenario_scenes'] = np.arange(5) #scene 0~4\n",
    "\n",
    "parameters['num_paths'] = 10\n",
    "\n",
    "# User rows 1-100\n",
    "parameters['user_row_first'] = 1\n",
    "parameters['user_row_last'] = 100\n",
    "\n",
    "# Activate only the first basestation\n",
    "parameters['active_BS'] = np.array([1]) \n",
    "\n",
    "parameters['OFDM']['bandwidth'] = 0.05 # 50 MHz\n",
    "parameters['OFDM']['subcarriers'] = 512 # OFDM with 512 subcarriers\n",
    "parameters['OFDM']['subcarriers_limit'] = 64 # Keep only first 64 subcarriers\n",
    "\n",
    "parameters['ue_antenna']['shape'] = np.array([1, 1, 1]) # Single antenna\n",
    "parameters['bs_antenna']['shape'] = np.array([1, 32, 1]) # ULA of 32 elements\n",
    "#parameters['bs_antenna']['rotation'] = np.array([0, 30, 90]) # ULA of 32 elements\n",
    "#parameters['ue_antenna']['rotation'] = np.array([[0, 30], [30, 60], [60, 90]]) # ULA of 32 elements\n",
    "#parameters['ue_antenna']['radiation_pattern'] = 'isotropic' \n",
    "#parameters['bs_antenna']['radiation_pattern'] = 'halfwave-dipole' "
   ]
  },
  {
   "cell_type": "code",
   "execution_count": 12,
   "id": "9859f52d",
   "metadata": {},
   "outputs": [
    {
     "name": "stdout",
     "output_type": "stream",
     "text": [
      "The following parameters seem unnecessary:\n",
      "{'user_row_first', 'scene', 'subcarriers_limit', 'user_row_last'}\n",
      "\n",
      "Scene 1/5\n",
      "\n",
      "Basestation 1\n",
      "\n",
      "UE-BS Channels\n"
     ]
    },
    {
     "name": "stderr",
     "output_type": "stream",
     "text": [
      "Reading ray-tracing: 100%|██████████████████████████████████████████████████████| 3782/3782 [00:00<00:00, 42685.58it/s]\n",
      "Generating channels: 100%|███████████████████████████████████████████████████████| 1891/1891 [00:00<00:00, 3605.99it/s]\n"
     ]
    },
    {
     "name": "stdout",
     "output_type": "stream",
     "text": [
      "\n",
      "BS-BS Channels\n"
     ]
    },
    {
     "name": "stderr",
     "output_type": "stream",
     "text": [
      "Reading ray-tracing: 100%|███████████████████████████████████████████████████████████████████████| 1/1 [00:00<?, ?it/s]\n",
      "Generating channels: 100%|██████████████████████████████████████████████████████████████| 1/1 [00:00<00:00, 497.31it/s]\n"
     ]
    },
    {
     "name": "stdout",
     "output_type": "stream",
     "text": [
      "\n",
      "Scene 2/5\n",
      "\n",
      "Basestation 1\n",
      "\n",
      "UE-BS Channels\n"
     ]
    },
    {
     "name": "stderr",
     "output_type": "stream",
     "text": [
      "Reading ray-tracing: 100%|██████████████████████████████████████████████████████| 3782/3782 [00:00<00:00, 44271.82it/s]\n",
      "Generating channels: 100%|███████████████████████████████████████████████████████| 1891/1891 [00:00<00:00, 3830.63it/s]\n"
     ]
    },
    {
     "name": "stdout",
     "output_type": "stream",
     "text": [
      "\n",
      "BS-BS Channels\n"
     ]
    },
    {
     "name": "stderr",
     "output_type": "stream",
     "text": [
      "Reading ray-tracing: 100%|███████████████████████████████████████████████████████████████████████| 1/1 [00:00<?, ?it/s]\n",
      "Generating channels: 100%|██████████████████████████████████████████████████████████████| 1/1 [00:00<00:00, 490.68it/s]\n"
     ]
    },
    {
     "name": "stdout",
     "output_type": "stream",
     "text": [
      "\n",
      "Scene 3/5\n",
      "\n",
      "Basestation 1\n",
      "\n",
      "UE-BS Channels\n"
     ]
    },
    {
     "name": "stderr",
     "output_type": "stream",
     "text": [
      "Reading ray-tracing: 100%|██████████████████████████████████████████████████████| 3782/3782 [00:00<00:00, 44254.03it/s]\n",
      "Generating channels: 100%|███████████████████████████████████████████████████████| 1891/1891 [00:00<00:00, 3822.35it/s]\n"
     ]
    },
    {
     "name": "stdout",
     "output_type": "stream",
     "text": [
      "\n",
      "BS-BS Channels\n"
     ]
    },
    {
     "name": "stderr",
     "output_type": "stream",
     "text": [
      "Reading ray-tracing: 100%|███████████████████████████████████████████████████████████████████████| 1/1 [00:00<?, ?it/s]\n",
      "Generating channels: 100%|██████████████████████████████████████████████████████████████| 1/1 [00:00<00:00, 495.60it/s]\n"
     ]
    },
    {
     "name": "stdout",
     "output_type": "stream",
     "text": [
      "\n",
      "Scene 4/5\n",
      "\n",
      "Basestation 1\n",
      "\n",
      "UE-BS Channels\n"
     ]
    },
    {
     "name": "stderr",
     "output_type": "stream",
     "text": [
      "Reading ray-tracing: 100%|██████████████████████████████████████████████████████| 3782/3782 [00:00<00:00, 44715.97it/s]\n",
      "Generating channels: 100%|███████████████████████████████████████████████████████| 1891/1891 [00:00<00:00, 3861.36it/s]\n"
     ]
    },
    {
     "name": "stdout",
     "output_type": "stream",
     "text": [
      "\n",
      "BS-BS Channels\n"
     ]
    },
    {
     "name": "stderr",
     "output_type": "stream",
     "text": [
      "Reading ray-tracing: 100%|███████████████████████████████████████████████████████████████████████| 1/1 [00:00<?, ?it/s]\n",
      "Generating channels: 100%|██████████████████████████████████████████████████████████████| 1/1 [00:00<00:00, 499.80it/s]\n"
     ]
    },
    {
     "name": "stdout",
     "output_type": "stream",
     "text": [
      "\n",
      "Scene 5/5\n",
      "\n",
      "Basestation 1\n",
      "\n",
      "UE-BS Channels\n"
     ]
    },
    {
     "name": "stderr",
     "output_type": "stream",
     "text": [
      "Reading ray-tracing: 100%|██████████████████████████████████████████████████████| 3782/3782 [00:00<00:00, 44562.34it/s]\n",
      "Generating channels: 100%|███████████████████████████████████████████████████████| 1891/1891 [00:00<00:00, 3780.15it/s]\n"
     ]
    },
    {
     "name": "stdout",
     "output_type": "stream",
     "text": [
      "\n",
      "BS-BS Channels\n"
     ]
    },
    {
     "name": "stderr",
     "output_type": "stream",
     "text": [
      "Reading ray-tracing: 100%|███████████████████████████████████████████████████████████████████████| 1/1 [00:00<?, ?it/s]\n",
      "Generating channels: 100%|██████████████████████████████████████████████████████████████| 1/1 [00:00<00:00, 990.62it/s]\n"
     ]
    }
   ],
   "source": [
    "## Generate and inspect the dataset\n",
    "dataset = DeepMIMOv3.generate_data(parameters)"
   ]
  },
  {
   "cell_type": "code",
   "execution_count": 15,
   "id": "e91a5e58",
   "metadata": {},
   "outputs": [
    {
     "data": {
      "text/plain": [
       "5"
      ]
     },
     "execution_count": 15,
     "metadata": {},
     "output_type": "execute_result"
    }
   ],
   "source": [
    "len(dataset)"
   ]
  },
  {
   "cell_type": "code",
   "execution_count": 19,
   "id": "4688af89",
   "metadata": {},
   "outputs": [
    {
     "data": {
      "text/plain": [
       "[{'user': {'paths': array([{'num_paths': 0, 'DoD_phi': [], 'DoD_theta': [], 'DoA_phi': [], 'DoA_theta': [], 'phase': [], 'ToA': [], 'power': [], 'LoS': []},\n",
       "          {'num_paths': 0, 'DoD_phi': [], 'DoD_theta': [], 'DoA_phi': [], 'DoA_theta': [], 'phase': [], 'ToA': [], 'power': [], 'LoS': []},\n",
       "          {'num_paths': 0, 'DoD_phi': [], 'DoD_theta': [], 'DoA_phi': [], 'DoA_theta': [], 'phase': [], 'ToA': [], 'power': [], 'LoS': []},\n",
       "          ...,\n",
       "          {'num_paths': 1, 'DoD_phi': array([-4.67836], dtype=float32), 'DoD_theta': array([90.9207], dtype=float32), 'DoA_phi': array([175.322], dtype=float32), 'DoA_theta': array([89.0793], dtype=float32), 'phase': array([3.80264], dtype=float32), 'ToA': array([1.03828e-06], dtype=float32), 'LoS': array([0.], dtype=float32), 'power': array([4.792699e-10], dtype=float32)},\n",
       "          {'num_paths': 1, 'DoD_phi': array([-4.67536], dtype=float32), 'DoD_theta': array([90.9201], dtype=float32), 'DoA_phi': array([175.325], dtype=float32), 'DoA_theta': array([89.0799], dtype=float32), 'phase': array([-114.143], dtype=float32), 'ToA': array([1.03895e-06], dtype=float32), 'LoS': array([0.], dtype=float32), 'power': array([4.786525e-10], dtype=float32)},\n",
       "          {'num_paths': 1, 'DoD_phi': array([-4.67236], dtype=float32), 'DoD_theta': array([90.9195], dtype=float32), 'DoA_phi': array([175.328], dtype=float32), 'DoA_theta': array([89.0805], dtype=float32), 'phase': array([127.908], dtype=float32), 'ToA': array([1.03961e-06], dtype=float32), 'LoS': array([0.], dtype=float32), 'power': array([4.7804644e-10], dtype=float32)}],\n",
       "         dtype=object),\n",
       "   'LoS': array([-1, -1, -1, ...,  0,  0,  0], dtype=int8),\n",
       "   'location': array([[-91.03330231, -15.37629986,   1.        ],\n",
       "          [-90.83329773, -15.37629986,   1.        ],\n",
       "          [-90.63330078, -15.37629986,   1.        ],\n",
       "          ...,\n",
       "          [286.56698608, -15.37629986,   1.        ],\n",
       "          [286.76699829, -15.37629986,   1.        ],\n",
       "          [286.9670105 , -15.37629986,   1.        ]]),\n",
       "   'distance': array([ 97.52539825,  97.33260345,  97.13980103, ..., 284.74398804,\n",
       "          284.94299316, 285.14199829]),\n",
       "   'pathloss': array([ 0.        ,  0.        ,  0.        , ..., 93.19419861,\n",
       "          93.19979858, 93.20529938]),\n",
       "   'channel': array([[[[ 0.0000000e+00+0.0000000e+00j],\n",
       "            [ 0.0000000e+00+0.0000000e+00j],\n",
       "            [ 0.0000000e+00+0.0000000e+00j],\n",
       "            ...,\n",
       "            [ 0.0000000e+00+0.0000000e+00j],\n",
       "            [ 0.0000000e+00+0.0000000e+00j],\n",
       "            [ 0.0000000e+00+0.0000000e+00j]]],\n",
       "   \n",
       "   \n",
       "          [[[ 0.0000000e+00+0.0000000e+00j],\n",
       "            [ 0.0000000e+00+0.0000000e+00j],\n",
       "            [ 0.0000000e+00+0.0000000e+00j],\n",
       "            ...,\n",
       "            [ 0.0000000e+00+0.0000000e+00j],\n",
       "            [ 0.0000000e+00+0.0000000e+00j],\n",
       "            [ 0.0000000e+00+0.0000000e+00j]]],\n",
       "   \n",
       "   \n",
       "          [[[ 0.0000000e+00+0.0000000e+00j],\n",
       "            [ 0.0000000e+00+0.0000000e+00j],\n",
       "            [ 0.0000000e+00+0.0000000e+00j],\n",
       "            ...,\n",
       "            [ 0.0000000e+00+0.0000000e+00j],\n",
       "            [ 0.0000000e+00+0.0000000e+00j],\n",
       "            [ 0.0000000e+00+0.0000000e+00j]]],\n",
       "   \n",
       "   \n",
       "          ...,\n",
       "   \n",
       "   \n",
       "          [[[ 9.6537917e-07+6.4165093e-08j],\n",
       "            [ 9.6738711e-07+1.5370968e-08j],\n",
       "            [ 9.6693032e-07-3.3462314e-08j],\n",
       "            ...,\n",
       "            [ 1.6675772e-07-9.5302988e-07j],\n",
       "            [ 1.1845604e-07-9.6023030e-07j],\n",
       "            [ 6.9852568e-08-9.6498434e-07j]]],\n",
       "   \n",
       "   \n",
       "          [[[-3.9547123e-07-8.8230991e-07j],\n",
       "            [-4.3945982e-07-8.6124521e-07j],\n",
       "            [-4.8233022e-07-8.3798915e-07j],\n",
       "            ...,\n",
       "            [-9.1974050e-07+2.9823755e-07j],\n",
       "            [-9.0353137e-07+3.4423735e-07j],\n",
       "            [-8.8502321e-07+3.8936125e-07j]]],\n",
       "   \n",
       "   \n",
       "          [[[-5.9367386e-07+7.6238814e-07j],\n",
       "            [-5.5449988e-07+7.9133702e-07j],\n",
       "            [-5.1391680e-07+8.1827494e-07j],\n",
       "            ...,\n",
       "            [ 6.9344634e-07+6.7291643e-07j],\n",
       "            [ 7.2647617e-07+6.3711599e-07j],\n",
       "            [ 7.5765985e-07+5.9969653e-07j]]]], dtype=complex64)},\n",
       "  'basestation': {'paths': array([{'num_paths': 2, 'DoD_phi': array([   0.   , -141.952], dtype=float32), 'DoD_theta': array([180.    ,  89.9997], dtype=float32), 'DoA_phi': array([-180.  , -141.95], dtype=float32), 'DoA_theta': array([180.    ,  89.9997], dtype=float32), 'phase': array([  68.6712, -129.443 ], dtype=float32), 'ToA': array([3.83724e-08, 3.63243e-07], dtype=float32), 'LoS': array([0., 0.], dtype=float32), 'power': array([5.4408858e-08, 2.8096997e-10], dtype=float32)}],\n",
       "         dtype=object),\n",
       "   'LoS': [0.0],\n",
       "   'location': array([[ 3., 10.,  6.]]),\n",
       "   'distance': array([0.]),\n",
       "   'pathloss': array([73.25530243]),\n",
       "   'channel': [array([[[ 3.27880882e-06+9.03047146e-06j],\n",
       "            [-4.22006268e-06-1.01746392e-05j],\n",
       "            [ 3.27882920e-06+9.03045542e-06j],\n",
       "            ...,\n",
       "            [-4.21982438e-06-1.01748453e-05j],\n",
       "            [ 3.27911451e-06+9.03023098e-06j],\n",
       "            [-4.21980736e-06-1.01748600e-05j]],\n",
       "    \n",
       "           [[-4.22006268e-06-1.01746392e-05j],\n",
       "            [ 3.27882920e-06+9.03045542e-06j],\n",
       "            [-4.22004567e-06-1.01746539e-05j],\n",
       "            ...,\n",
       "            [ 3.27911451e-06+9.03023098e-06j],\n",
       "            [-4.21980736e-06-1.01748600e-05j],\n",
       "            [ 3.27913490e-06+9.03021495e-06j]],\n",
       "    \n",
       "           [[ 3.27882920e-06+9.03045542e-06j],\n",
       "            [-4.22004567e-06-1.01746539e-05j],\n",
       "            [ 3.27884957e-06+9.03043939e-06j],\n",
       "            ...,\n",
       "            [-4.21980736e-06-1.01748600e-05j],\n",
       "            [ 3.27913490e-06+9.03021495e-06j],\n",
       "            [-4.21979033e-06-1.01748747e-05j]],\n",
       "    \n",
       "           ...,\n",
       "    \n",
       "           [[-4.21982438e-06-1.01748453e-05j],\n",
       "            [ 3.27911451e-06+9.03023098e-06j],\n",
       "            [-4.21980736e-06-1.01748600e-05j],\n",
       "            ...,\n",
       "            [ 3.27939993e-06+9.03000665e-06j],\n",
       "            [-4.21956895e-06-1.01750660e-05j],\n",
       "            [ 3.27942032e-06+9.02999063e-06j]],\n",
       "    \n",
       "           [[ 3.27911451e-06+9.03023098e-06j],\n",
       "            [-4.21980736e-06-1.01748600e-05j],\n",
       "            [ 3.27913490e-06+9.03021495e-06j],\n",
       "            ...,\n",
       "            [-4.21956895e-06-1.01750660e-05j],\n",
       "            [ 3.27942032e-06+9.02999063e-06j],\n",
       "            [-4.21955192e-06-1.01750807e-05j]],\n",
       "    \n",
       "           [[-4.21980736e-06-1.01748600e-05j],\n",
       "            [ 3.27913490e-06+9.03021495e-06j],\n",
       "            [-4.21979033e-06-1.01748747e-05j],\n",
       "            ...,\n",
       "            [ 3.27942032e-06+9.02999063e-06j],\n",
       "            [-4.21955192e-06-1.01750807e-05j],\n",
       "            [ 3.27944071e-06+9.02997461e-06j]]])]},\n",
       "  'location': array([ 3., 10.,  6.])}]"
      ]
     },
     "execution_count": 19,
     "metadata": {},
     "output_type": "execute_result"
    }
   ],
   "source": [
    "dataset[0]"
   ]
  },
  {
   "cell_type": "code",
   "execution_count": 29,
   "id": "18c69593",
   "metadata": {},
   "outputs": [
    {
     "data": {
      "text/plain": [
       "list"
      ]
     },
     "execution_count": 29,
     "metadata": {},
     "output_type": "execute_result"
    }
   ],
   "source": [
    "type(dataset[0])"
   ]
  },
  {
   "cell_type": "code",
   "execution_count": 30,
   "id": "4cf55fc8",
   "metadata": {},
   "outputs": [
    {
     "name": "stdout",
     "output_type": "stream",
     "text": [
      "[{'user': {'paths': array([{'num_paths': 0, 'DoD_phi': [], 'DoD_theta': [], 'DoA_phi': [], 'DoA_theta': [], 'phase': [], 'ToA': [], 'power': [], 'LoS': []},\n",
      "       {'num_paths': 0, 'DoD_phi': [], 'DoD_theta': [], 'DoA_phi': [], 'DoA_theta': [], 'phase': [], 'ToA': [], 'power': [], 'LoS': []},\n",
      "       {'num_paths': 0, 'DoD_phi': [], 'DoD_theta': [], 'DoA_phi': [], 'DoA_theta': [], 'phase': [], 'ToA': [], 'power': [], 'LoS': []},\n",
      "       ...,\n",
      "       {'num_paths': 1, 'DoD_phi': array([-4.67836], dtype=float32), 'DoD_theta': array([90.9207], dtype=float32), 'DoA_phi': array([175.322], dtype=float32), 'DoA_theta': array([89.0793], dtype=float32), 'phase': array([3.80264], dtype=float32), 'ToA': array([1.03828e-06], dtype=float32), 'LoS': array([0.], dtype=float32), 'power': array([4.792699e-10], dtype=float32)},\n",
      "       {'num_paths': 1, 'DoD_phi': array([-4.67536], dtype=float32), 'DoD_theta': array([90.9201], dtype=float32), 'DoA_phi': array([175.325], dtype=float32), 'DoA_theta': array([89.0799], dtype=float32), 'phase': array([-114.143], dtype=float32), 'ToA': array([1.03895e-06], dtype=float32), 'LoS': array([0.], dtype=float32), 'power': array([4.786525e-10], dtype=float32)},\n",
      "       {'num_paths': 1, 'DoD_phi': array([-4.67236], dtype=float32), 'DoD_theta': array([90.9195], dtype=float32), 'DoA_phi': array([175.328], dtype=float32), 'DoA_theta': array([89.0805], dtype=float32), 'phase': array([127.908], dtype=float32), 'ToA': array([1.03961e-06], dtype=float32), 'LoS': array([0.], dtype=float32), 'power': array([4.7804644e-10], dtype=float32)}],\n",
      "      dtype=object), 'LoS': array([-1, -1, -1, ...,  0,  0,  0], dtype=int8), 'location': array([[-91.03330231, -15.37629986,   1.        ],\n",
      "       [-90.83329773, -15.37629986,   1.        ],\n",
      "       [-90.63330078, -15.37629986,   1.        ],\n",
      "       ...,\n",
      "       [286.56698608, -15.37629986,   1.        ],\n",
      "       [286.76699829, -15.37629986,   1.        ],\n",
      "       [286.9670105 , -15.37629986,   1.        ]]), 'distance': array([ 97.52539825,  97.33260345,  97.13980103, ..., 284.74398804,\n",
      "       284.94299316, 285.14199829]), 'pathloss': array([ 0.        ,  0.        ,  0.        , ..., 93.19419861,\n",
      "       93.19979858, 93.20529938]), 'channel': array([[[[ 0.0000000e+00+0.0000000e+00j],\n",
      "         [ 0.0000000e+00+0.0000000e+00j],\n",
      "         [ 0.0000000e+00+0.0000000e+00j],\n",
      "         ...,\n",
      "         [ 0.0000000e+00+0.0000000e+00j],\n",
      "         [ 0.0000000e+00+0.0000000e+00j],\n",
      "         [ 0.0000000e+00+0.0000000e+00j]]],\n",
      "\n",
      "\n",
      "       [[[ 0.0000000e+00+0.0000000e+00j],\n",
      "         [ 0.0000000e+00+0.0000000e+00j],\n",
      "         [ 0.0000000e+00+0.0000000e+00j],\n",
      "         ...,\n",
      "         [ 0.0000000e+00+0.0000000e+00j],\n",
      "         [ 0.0000000e+00+0.0000000e+00j],\n",
      "         [ 0.0000000e+00+0.0000000e+00j]]],\n",
      "\n",
      "\n",
      "       [[[ 0.0000000e+00+0.0000000e+00j],\n",
      "         [ 0.0000000e+00+0.0000000e+00j],\n",
      "         [ 0.0000000e+00+0.0000000e+00j],\n",
      "         ...,\n",
      "         [ 0.0000000e+00+0.0000000e+00j],\n",
      "         [ 0.0000000e+00+0.0000000e+00j],\n",
      "         [ 0.0000000e+00+0.0000000e+00j]]],\n",
      "\n",
      "\n",
      "       ...,\n",
      "\n",
      "\n",
      "       [[[ 9.6537917e-07+6.4165093e-08j],\n",
      "         [ 9.6738711e-07+1.5370968e-08j],\n",
      "         [ 9.6693032e-07-3.3462314e-08j],\n",
      "         ...,\n",
      "         [ 1.6675772e-07-9.5302988e-07j],\n",
      "         [ 1.1845604e-07-9.6023030e-07j],\n",
      "         [ 6.9852568e-08-9.6498434e-07j]]],\n",
      "\n",
      "\n",
      "       [[[-3.9547123e-07-8.8230991e-07j],\n",
      "         [-4.3945982e-07-8.6124521e-07j],\n",
      "         [-4.8233022e-07-8.3798915e-07j],\n",
      "         ...,\n",
      "         [-9.1974050e-07+2.9823755e-07j],\n",
      "         [-9.0353137e-07+3.4423735e-07j],\n",
      "         [-8.8502321e-07+3.8936125e-07j]]],\n",
      "\n",
      "\n",
      "       [[[-5.9367386e-07+7.6238814e-07j],\n",
      "         [-5.5449988e-07+7.9133702e-07j],\n",
      "         [-5.1391680e-07+8.1827494e-07j],\n",
      "         ...,\n",
      "         [ 6.9344634e-07+6.7291643e-07j],\n",
      "         [ 7.2647617e-07+6.3711599e-07j],\n",
      "         [ 7.5765985e-07+5.9969653e-07j]]]], dtype=complex64)}, 'basestation': {'paths': array([{'num_paths': 2, 'DoD_phi': array([   0.   , -141.952], dtype=float32), 'DoD_theta': array([180.    ,  89.9997], dtype=float32), 'DoA_phi': array([-180.  , -141.95], dtype=float32), 'DoA_theta': array([180.    ,  89.9997], dtype=float32), 'phase': array([  68.6712, -129.443 ], dtype=float32), 'ToA': array([3.83724e-08, 3.63243e-07], dtype=float32), 'LoS': array([0., 0.], dtype=float32), 'power': array([5.4408858e-08, 2.8096997e-10], dtype=float32)}],\n",
      "      dtype=object), 'LoS': [0.0], 'location': array([[ 3., 10.,  6.]]), 'distance': array([0.]), 'pathloss': array([73.25530243]), 'channel': [array([[[ 3.27880882e-06+9.03047146e-06j],\n",
      "        [-4.22006268e-06-1.01746392e-05j],\n",
      "        [ 3.27882920e-06+9.03045542e-06j],\n",
      "        ...,\n",
      "        [-4.21982438e-06-1.01748453e-05j],\n",
      "        [ 3.27911451e-06+9.03023098e-06j],\n",
      "        [-4.21980736e-06-1.01748600e-05j]],\n",
      "\n",
      "       [[-4.22006268e-06-1.01746392e-05j],\n",
      "        [ 3.27882920e-06+9.03045542e-06j],\n",
      "        [-4.22004567e-06-1.01746539e-05j],\n",
      "        ...,\n",
      "        [ 3.27911451e-06+9.03023098e-06j],\n",
      "        [-4.21980736e-06-1.01748600e-05j],\n",
      "        [ 3.27913490e-06+9.03021495e-06j]],\n",
      "\n",
      "       [[ 3.27882920e-06+9.03045542e-06j],\n",
      "        [-4.22004567e-06-1.01746539e-05j],\n",
      "        [ 3.27884957e-06+9.03043939e-06j],\n",
      "        ...,\n",
      "        [-4.21980736e-06-1.01748600e-05j],\n",
      "        [ 3.27913490e-06+9.03021495e-06j],\n",
      "        [-4.21979033e-06-1.01748747e-05j]],\n",
      "\n",
      "       ...,\n",
      "\n",
      "       [[-4.21982438e-06-1.01748453e-05j],\n",
      "        [ 3.27911451e-06+9.03023098e-06j],\n",
      "        [-4.21980736e-06-1.01748600e-05j],\n",
      "        ...,\n",
      "        [ 3.27939993e-06+9.03000665e-06j],\n",
      "        [-4.21956895e-06-1.01750660e-05j],\n",
      "        [ 3.27942032e-06+9.02999063e-06j]],\n",
      "\n",
      "       [[ 3.27911451e-06+9.03023098e-06j],\n",
      "        [-4.21980736e-06-1.01748600e-05j],\n",
      "        [ 3.27913490e-06+9.03021495e-06j],\n",
      "        ...,\n",
      "        [-4.21956895e-06-1.01750660e-05j],\n",
      "        [ 3.27942032e-06+9.02999063e-06j],\n",
      "        [-4.21955192e-06-1.01750807e-05j]],\n",
      "\n",
      "       [[-4.21980736e-06-1.01748600e-05j],\n",
      "        [ 3.27913490e-06+9.03021495e-06j],\n",
      "        [-4.21979033e-06-1.01748747e-05j],\n",
      "        ...,\n",
      "        [ 3.27942032e-06+9.02999063e-06j],\n",
      "        [-4.21955192e-06-1.01750807e-05j],\n",
      "        [ 3.27944071e-06+9.02997461e-06j]]])]}, 'location': array([ 3., 10.,  6.])}]\n"
     ]
    }
   ],
   "source": [
    "print(dataset[0])"
   ]
  },
  {
   "cell_type": "markdown",
   "id": "bbee4063",
   "metadata": {},
   "source": [
    "## 사용자 데이터 접근"
   ]
  },
  {
   "cell_type": "code",
   "execution_count": 32,
   "id": "b31d9271",
   "metadata": {},
   "outputs": [
    {
     "name": "stdout",
     "output_type": "stream",
     "text": [
      "dict_keys(['paths', 'LoS', 'location', 'distance', 'pathloss', 'channel'])\n"
     ]
    }
   ],
   "source": [
    "user_data = dataset[0][0]['user']\n",
    "print(user_data.keys())\n"
   ]
  },
  {
   "cell_type": "markdown",
   "id": "f82d0434",
   "metadata": {},
   "source": [
    "## 사용자 채널 정보 확인"
   ]
  },
  {
   "cell_type": "code",
   "execution_count": 33,
   "id": "5b3fe76d",
   "metadata": {},
   "outputs": [
    {
     "name": "stdout",
     "output_type": "stream",
     "text": [
      "(1891, 1, 32, 1)\n"
     ]
    }
   ],
   "source": [
    "channel = dataset[0][0]['user']['channel']\n",
    "print(channel.shape)  # (user, BS antennas, subcarriers, ... 등)\n"
   ]
  },
  {
   "cell_type": "markdown",
   "id": "1270fd9a",
   "metadata": {},
   "source": [
    "## 사용자 위치 정보"
   ]
  },
  {
   "cell_type": "code",
   "execution_count": 35,
   "id": "a1f5acc7",
   "metadata": {},
   "outputs": [
    {
     "name": "stdout",
     "output_type": "stream",
     "text": [
      "(1891, 3)\n",
      "[[-91.03330231 -15.37629986   1.        ]\n",
      " [-90.83329773 -15.37629986   1.        ]\n",
      " [-90.63330078 -15.37629986   1.        ]\n",
      " [-90.4332962  -15.37629986   1.        ]]\n"
     ]
    }
   ],
   "source": [
    "location = dataset[0][0]['user']['location']\n",
    "print(location.shape)      # (사용자 수, 3)\n",
    "print(location[0:4])         # 첫 번째 사용자의 (x, y, z)\n"
   ]
  },
  {
   "cell_type": "markdown",
   "id": "94e4cbd4",
   "metadata": {},
   "source": [
    "## 경로 정보"
   ]
  },
  {
   "cell_type": "code",
   "execution_count": 44,
   "id": "009f2367",
   "metadata": {},
   "outputs": [
    {
     "name": "stdout",
     "output_type": "stream",
     "text": [
      "1891\n",
      "{'num_paths': 0, 'DoD_phi': [], 'DoD_theta': [], 'DoA_phi': [], 'DoA_theta': [], 'phase': [], 'ToA': [], 'power': [], 'LoS': []}\n"
     ]
    }
   ],
   "source": [
    "paths = dataset[0][0]['user']['paths']\n",
    "#사용자 수\n",
    "print(len(paths))\n",
    "# 첫 번째 사용자 경로 정보\n",
    "print(paths[0])"
   ]
  },
  {
   "cell_type": "markdown",
   "id": "9f5348e2",
   "metadata": {},
   "source": [
    "## 기지국 정보"
   ]
  },
  {
   "cell_type": "code",
   "execution_count": 40,
   "id": "09929733",
   "metadata": {},
   "outputs": [
    {
     "name": "stdout",
     "output_type": "stream",
     "text": [
      "dict_keys(['paths', 'LoS', 'location', 'distance', 'pathloss', 'channel'])\n"
     ]
    }
   ],
   "source": [
    "bs_data = dataset[0][0]['basestation']\n",
    "print(bs_data.keys())\n"
   ]
  },
  {
   "cell_type": "markdown",
   "id": "58c7c8c1",
   "metadata": {},
   "source": [
    "## scene 및 사용자 수"
   ]
  },
  {
   "cell_type": "code",
   "execution_count": 45,
   "id": "b6729a65",
   "metadata": {},
   "outputs": [
    {
     "name": "stdout",
     "output_type": "stream",
     "text": [
      "Scene 0: 1891 users\n"
     ]
    }
   ],
   "source": [
    "for i, scene in enumerate(dataset[0]):\n",
    "    user_locs = scene['user']['location']\n",
    "    print(f\"Scene {i}: {len(user_locs)} users\")\n"
   ]
  },
  {
   "cell_type": "markdown",
   "id": "6199554d",
   "metadata": {},
   "source": [
    "## 채널 수"
   ]
  },
  {
   "cell_type": "code",
   "execution_count": 47,
   "id": "60aba1e5",
   "metadata": {},
   "outputs": [
    {
     "data": {
      "text/plain": [
       "1891"
      ]
     },
     "execution_count": 47,
     "metadata": {},
     "output_type": "execute_result"
    }
   ],
   "source": [
    "len(dataset[0][0]['user']['channel'])"
   ]
  },
  {
   "cell_type": "code",
   "execution_count": 50,
   "id": "fa4c3296",
   "metadata": {},
   "outputs": [
    {
     "name": "stdout",
     "output_type": "stream",
     "text": [
      "{'num_paths': 0, 'DoD_phi': [], 'DoD_theta': [], 'DoA_phi': [], 'DoA_theta': [], 'phase': [], 'ToA': [], 'power': [], 'LoS': []}\n"
     ]
    }
   ],
   "source": [
    "print(dataset[0][0]['user']['paths'][0])"
   ]
  },
  {
   "cell_type": "code",
   "execution_count": 56,
   "id": "f9d6d19c",
   "metadata": {},
   "outputs": [
    {
     "name": "stdout",
     "output_type": "stream",
     "text": [
      "(1, 32, 1)\n"
     ]
    }
   ],
   "source": [
    "scene = dataset[0][0] # scene 0\n",
    "ue_idx = 0 # 첫 번째 사용자\n",
    "channel = scene['user']['channel'][ue_idx]\n",
    "print(channel.shape)"
   ]
  },
  {
   "cell_type": "code",
   "execution_count": 57,
   "id": "3d0c88a6",
   "metadata": {},
   "outputs": [
    {
     "name": "stdout",
     "output_type": "stream",
     "text": [
      "❌ Cannot visualize. Channel magnitude shape is (32,) (expected 2D).\n"
     ]
    },
    {
     "data": {
      "image/png": "[encoded data removed]",
      "text/plain": [
       "<Figure size 800x400 with 1 Axes>"
      ]
     },
     "metadata": {},
     "output_type": "display_data"
    }
   ],
   "source": [
    "channel_mag = np.abs(np.squeeze(channel))\n",
    "\n",
    "# 시각화\n",
    "if channel_mag.ndim == 2:\n",
    "    plt.figure(figsize=(8, 6))\n",
    "    plt.imshow(channel_mag.T, aspect='auto', cmap='viridis')\n",
    "    plt.title('Channel Magnitude Response')\n",
    "    plt.xlabel('Subcarriers')\n",
    "    plt.ylabel('TX Antennas')\n",
    "    plt.colorbar(label='Magnitude')\n",
    "    plt.show()\n",
    "else:\n",
    "    print(f\"❌ Cannot visualize. Channel magnitude shape is {channel_mag.shape} (expected 2D).\")\n",
    "    # 예: 서브캐리어 1개인 경우 → 1D plot\n",
    "    if channel_mag.ndim == 1:\n",
    "        plt.figure(figsize=(8, 4))\n",
    "        plt.plot(channel_mag)\n",
    "        plt.title('1D Channel Magnitude (Single Subcarrier)')\n",
    "        plt.xlabel('TX Antenna Index')\n",
    "        plt.ylabel('Magnitude')\n",
    "        plt.grid(True)\n",
    "        plt.show()"
   ]
  },
  {
   "cell_type": "code",
   "execution_count": null,
   "id": "eb86aeca",
   "metadata": {},
   "outputs": [],
   "source": []
  }
 ],
 "metadata": {
  "kernelspec": {
   "display_name": "Python 3 (ipykernel)",
   "language": "python",
   "name": "python3"
  },
  "language_info": {
   "codemirror_mode": {
    "name": "ipython",
    "version": 3
   },
   "file_extension": ".py",
   "mimetype": "text/x-python",
   "name": "python",
   "nbconvert_exporter": "python",
   "pygments_lexer": "ipython3",
   "version": "3.11.3"
  }
 },
 "nbformat": 4,
 "nbformat_minor": 5
}
