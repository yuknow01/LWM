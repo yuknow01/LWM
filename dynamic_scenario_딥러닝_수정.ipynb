{
 "cells": [
  {
   "cell_type": "code",
   "execution_count": 41,
   "id": "0ec90d17",
   "metadata": {},
   "outputs": [],
   "source": [
    "import torch\n",
    "import torch.nn as nn\n",
    "import torch.optim as optim\n",
    "import torchvision\n",
    "import torchvision.transforms as transforms\n",
    "from torch.utils.data import DataLoader,TensorDataset"
   ]
  },
  {
   "cell_type": "code",
   "execution_count": 2,
   "id": "47baa533",
   "metadata": {},
   "outputs": [
    {
     "name": "stdout",
     "output_type": "stream",
     "text": [
      "cuda\n"
     ]
    }
   ],
   "source": [
    "# GPU 설정\n",
    "device = torch.device(\"cuda\" if torch.cuda.is_available() else \"cpu\")\n",
    "print(device)"
   ]
  },
  {
   "cell_type": "code",
   "execution_count": 3,
   "id": "23623e8a",
   "metadata": {},
   "outputs": [
    {
     "name": "stdout",
     "output_type": "stream",
     "text": [
      "Requirement already satisfied: DeepMIMOv3 in c:\\users\\dlghd\\anaconda3\\lib\\site-packages (0.2.8)\n",
      "Requirement already satisfied: umap-learn in c:\\users\\dlghd\\anaconda3\\lib\\site-packages (0.5.7)\n",
      "Requirement already satisfied: numpy in c:\\users\\dlghd\\anaconda3\\lib\\site-packages (from DeepMIMOv3) (1.24.3)\n",
      "Requirement already satisfied: scipy in c:\\users\\dlghd\\anaconda3\\lib\\site-packages (from DeepMIMOv3) (1.10.1)\n",
      "Requirement already satisfied: tqdm in c:\\users\\dlghd\\anaconda3\\lib\\site-packages (from DeepMIMOv3) (4.65.0)\n",
      "Requirement already satisfied: matplotlib in c:\\users\\dlghd\\anaconda3\\lib\\site-packages (from DeepMIMOv3) (3.7.1)\n",
      "Requirement already satisfied: scikit-learn>=0.22 in c:\\users\\dlghd\\anaconda3\\lib\\site-packages (from umap-learn) (1.2.2)\n",
      "Requirement already satisfied: numba>=0.51.2 in c:\\users\\dlghd\\anaconda3\\lib\\site-packages (from umap-learn) (0.57.0)\n",
      "Requirement already satisfied: pynndescent>=0.5 in c:\\users\\dlghd\\anaconda3\\lib\\site-packages (from umap-learn) (0.5.13)\n",
      "Requirement already satisfied: llvmlite<0.41,>=0.40.0dev0 in c:\\users\\dlghd\\anaconda3\\lib\\site-packages (from numba>=0.51.2->umap-learn) (0.40.0)\n",
      "Requirement already satisfied: joblib>=0.11 in c:\\users\\dlghd\\anaconda3\\lib\\site-packages (from pynndescent>=0.5->umap-learn) (1.2.0)\n",
      "Requirement already satisfied: threadpoolctl>=2.0.0 in c:\\users\\dlghd\\anaconda3\\lib\\site-packages (from scikit-learn>=0.22->umap-learn) (2.2.0)\n",
      "Requirement already satisfied: contourpy>=1.0.1 in c:\\users\\dlghd\\anaconda3\\lib\\site-packages (from matplotlib->DeepMIMOv3) (1.0.5)\n",
      "Requirement already satisfied: cycler>=0.10 in c:\\users\\dlghd\\anaconda3\\lib\\site-packages (from matplotlib->DeepMIMOv3) (0.11.0)\n",
      "Requirement already satisfied: fonttools>=4.22.0 in c:\\users\\dlghd\\anaconda3\\lib\\site-packages (from matplotlib->DeepMIMOv3) (4.25.0)\n",
      "Requirement already satisfied: kiwisolver>=1.0.1 in c:\\users\\dlghd\\anaconda3\\lib\\site-packages (from matplotlib->DeepMIMOv3) (1.4.4)\n",
      "Requirement already satisfied: packaging>=20.0 in c:\\users\\dlghd\\anaconda3\\lib\\site-packages (from matplotlib->DeepMIMOv3) (23.0)\n",
      "Requirement already satisfied: pillow>=6.2.0 in c:\\users\\dlghd\\anaconda3\\lib\\site-packages (from matplotlib->DeepMIMOv3) (9.4.0)\n",
      "Requirement already satisfied: pyparsing>=2.3.1 in c:\\users\\dlghd\\anaconda3\\lib\\site-packages (from matplotlib->DeepMIMOv3) (3.0.9)\n",
      "Requirement already satisfied: python-dateutil>=2.7 in c:\\users\\dlghd\\anaconda3\\lib\\site-packages (from matplotlib->DeepMIMOv3) (2.8.2)\n",
      "Requirement already satisfied: colorama in c:\\users\\dlghd\\anaconda3\\lib\\site-packages (from tqdm->DeepMIMOv3) (0.4.6)\n",
      "Requirement already satisfied: six>=1.5 in c:\\users\\dlghd\\anaconda3\\lib\\site-packages (from python-dateutil>=2.7->matplotlib->DeepMIMOv3) (1.16.0)\n",
      "Note: you may need to restart the kernel to use updated packages.\n"
     ]
    }
   ],
   "source": [
    "pip install DeepMIMOv3 umap-learn"
   ]
  },
  {
   "cell_type": "code",
   "execution_count": 4,
   "id": "14b3564f",
   "metadata": {},
   "outputs": [],
   "source": [
    "#LWM을 하기위한 라이브러리 가져오기\n",
    "import DeepMIMOv3\n",
    "import numpy as np\n",
    "from pprint import pprint\n",
    "import matplotlib.pyplot as plt\n",
    "\n",
    "plt . rcParams [ 'figure.figsize' ]  =  [ 12 ,  8 ]  # 기본 플롯 크기 설정"
   ]
  },
  {
   "cell_type": "code",
   "execution_count": 5,
   "id": "ce5ac681",
   "metadata": {},
   "outputs": [
    {
     "name": "stdout",
     "output_type": "stream",
     "text": [
      "{'OFDM': {'RX_filter': 0,\n",
      "          'bandwidth': 0.05,\n",
      "          'selected_subcarriers': array([0]),\n",
      "          'subcarriers': 512},\n",
      " 'OFDM_channels': 1,\n",
      " 'active_BS': array([1]),\n",
      " 'bs_antenna': {'FoV': array([360, 180]),\n",
      "                'radiation_pattern': 'isotropic',\n",
      "                'rotation': array([0, 0, 0]),\n",
      "                'shape': array([8, 4]),\n",
      "                'spacing': 0.5},\n",
      " 'dataset_folder': './Raytracing_scenarios',\n",
      " 'dynamic_scenario_scenes': array([1]),\n",
      " 'enable_BS2BS': 1,\n",
      " 'enable_doppler': 0,\n",
      " 'enable_dual_polar': 0,\n",
      " 'num_paths': 5,\n",
      " 'scenario': 'O1_60',\n",
      " 'ue_antenna': {'FoV': array([360, 180]),\n",
      "                'radiation_pattern': 'isotropic',\n",
      "                'rotation': array([0, 0, 0]),\n",
      "                'shape': array([4, 2]),\n",
      "                'spacing': 0.5},\n",
      " 'user_rows': array([1]),\n",
      " 'user_subsampling': 1}\n"
     ]
    }
   ],
   "source": [
    "## Load and print the default parameters\n",
    "# bandwith: 0.05GHz(50MHz 대역폭 사용)\n",
    "\n",
    "parameters = DeepMIMOv3.default_params()\n",
    "pprint(parameters)"
   ]
  },
  {
   "cell_type": "code",
   "execution_count": 6,
   "id": "1f0642c1",
   "metadata": {},
   "outputs": [],
   "source": [
    "## Change parameters for the setup\n",
    "# Scenario O1_60 extracted at the dataset_folder\n",
    "#LWM 동적 시나리오 불러오기\n",
    "#자신의 LWM 파일 위치 경로 작성\n",
    "# parameters['dataset_folder'] = r'/content/drive/MyDrive/Colab Notebooks/LWM'\n",
    "parameters['dataset_folder'] = r'C:\\Users\\dlghd\\졸업프로젝트\\LWM'\n",
    "\n",
    "# scnario = 02_dyn_3p5 <- 다운받은 파일(동적시나리오)\n",
    "parameters['scenario'] = 'O2_dyn_3p5'\n",
    "parameters['dynamic_scenario_scenes'] = np.arange(10) #scene 0~9\n",
    "\n",
    "# 각 사용자-기지국 채널에 대해 최대 10개 멀티패스 경로 사용\n",
    "parameters['num_paths'] = 10\n",
    "\n",
    "# User rows 1-100\n",
    "parameters['user_rows'] = np.arange(100)\n",
    "\n",
    "# Activate only the first basestation\n",
    "parameters['active_BS'] = np.array([1])\n",
    "\n",
    "parameters['activate_OFDM'] = 1\n",
    "\n",
    "parameters['OFDM']['bandwidth'] = 0.05 # 50 MHz\n",
    "parameters['OFDM']['subcarriers'] = 512 # OFDM with 512 subcarriers\n",
    "parameters['OFDM']['selected_subcarriers'] = np.arange(0, 64, 1)\n",
    "#parameters['OFDM']['subcarriers_limit'] = 64 # Keep only first 64 subcarriers\n",
    "\n",
    "parameters['ue_antenna']['shape'] = np.array([1, 1]) # Single antenna\n",
    "parameters['bs_antenna']['shape'] = np.array([1, 32]) # ULA of 32 elements\n",
    "#parameters['bs_antenna']['rotation'] = np.array([0, 30, 90]) # ULA of 32 elements\n",
    "#parameters['ue_antenna']['rotation'] = np.array([[0, 30], [30, 60], [60, 90]]) # ULA of 32 elements\n",
    "#parameters['ue_antenna']['radiation_pattern'] = 'isotropic'\n",
    "#parameters['bs_antenna']['radiation_pattern'] = 'halfwave-dipole'"
   ]
  },
  {
   "cell_type": "code",
   "execution_count": 7,
   "id": "30aa4ae2",
   "metadata": {},
   "outputs": [
    {
     "name": "stdout",
     "output_type": "stream",
     "text": [
      "{'dataset_folder': 'C:\\\\Users\\\\dlghd\\\\졸업프로젝트\\\\LWM', 'scenario': 'O2_dyn_3p5', 'dynamic_scenario_scenes': array([0, 1, 2, 3, 4, 5, 6, 7, 8, 9]), 'num_paths': 10, 'active_BS': array([1]), 'user_rows': array([ 0,  1,  2,  3,  4,  5,  6,  7,  8,  9, 10, 11, 12, 13, 14, 15, 16,\n",
      "       17, 18, 19, 20, 21, 22, 23, 24, 25, 26, 27, 28, 29, 30, 31, 32, 33,\n",
      "       34, 35, 36, 37, 38, 39, 40, 41, 42, 43, 44, 45, 46, 47, 48, 49, 50,\n",
      "       51, 52, 53, 54, 55, 56, 57, 58, 59, 60, 61, 62, 63, 64, 65, 66, 67,\n",
      "       68, 69, 70, 71, 72, 73, 74, 75, 76, 77, 78, 79, 80, 81, 82, 83, 84,\n",
      "       85, 86, 87, 88, 89, 90, 91, 92, 93, 94, 95, 96, 97, 98, 99]), 'user_subsampling': 1, 'bs_antenna': {'shape': array([ 1, 32]), 'spacing': 0.5, 'rotation': array([0, 0, 0]), 'FoV': array([360, 180]), 'radiation_pattern': 'isotropic'}, 'ue_antenna': {'shape': array([1, 1]), 'spacing': 0.5, 'rotation': array([0, 0, 0]), 'FoV': array([360, 180]), 'radiation_pattern': 'isotropic'}, 'enable_doppler': 0, 'enable_dual_polar': 0, 'enable_BS2BS': 1, 'OFDM_channels': 1, 'OFDM': {'subcarriers': 512, 'selected_subcarriers': array([ 0,  1,  2,  3,  4,  5,  6,  7,  8,  9, 10, 11, 12, 13, 14, 15, 16,\n",
      "       17, 18, 19, 20, 21, 22, 23, 24, 25, 26, 27, 28, 29, 30, 31, 32, 33,\n",
      "       34, 35, 36, 37, 38, 39, 40, 41, 42, 43, 44, 45, 46, 47, 48, 49, 50,\n",
      "       51, 52, 53, 54, 55, 56, 57, 58, 59, 60, 61, 62, 63]), 'bandwidth': 0.05, 'RX_filter': 0}, 'activate_OFDM': 1}\n"
     ]
    }
   ],
   "source": [
    "print(parameters)"
   ]
  },
  {
   "cell_type": "code",
   "execution_count": 8,
   "id": "b87a86e5",
   "metadata": {},
   "outputs": [
    {
     "name": "stdout",
     "output_type": "stream",
     "text": [
      "The following parameters seem unnecessary:\n",
      "{'activate_OFDM'}\n",
      "\n",
      "Scene 1/10\n",
      "\n",
      "Basestation 1\n",
      "\n",
      "UE-BS Channels\n"
     ]
    },
    {
     "name": "stderr",
     "output_type": "stream",
     "text": [
      "Reading ray-tracing: 100%|████████████████████████████████████████████████████| 69040/69040 [00:03<00:00, 20342.09it/s]\n",
      "Generating channels: 100%|█████████████████████████████████████████████████████| 69040/69040 [00:25<00:00, 2758.37it/s]\n"
     ]
    },
    {
     "name": "stdout",
     "output_type": "stream",
     "text": [
      "\n",
      "BS-BS Channels\n"
     ]
    },
    {
     "name": "stderr",
     "output_type": "stream",
     "text": [
      "Reading ray-tracing: 100%|███████████████████████████████████████████████████████████████████████| 1/1 [00:00<?, ?it/s]\n",
      "Generating channels: 100%|██████████████████████████████████████████████████████████████| 1/1 [00:00<00:00, 500.51it/s]\n"
     ]
    },
    {
     "name": "stdout",
     "output_type": "stream",
     "text": [
      "\n",
      "Scene 2/10\n",
      "\n",
      "Basestation 1\n",
      "\n",
      "UE-BS Channels\n"
     ]
    },
    {
     "name": "stderr",
     "output_type": "stream",
     "text": [
      "Reading ray-tracing: 100%|████████████████████████████████████████████████████| 69040/69040 [00:03<00:00, 19860.45it/s]\n",
      "Generating channels: 100%|█████████████████████████████████████████████████████| 69040/69040 [00:23<00:00, 2969.53it/s]\n"
     ]
    },
    {
     "name": "stdout",
     "output_type": "stream",
     "text": [
      "\n",
      "BS-BS Channels\n"
     ]
    },
    {
     "name": "stderr",
     "output_type": "stream",
     "text": [
      "Reading ray-tracing: 100%|███████████████████████████████████████████████████████████████████████| 1/1 [00:00<?, ?it/s]\n",
      "Generating channels: 100%|██████████████████████████████████████████████████████████████| 1/1 [00:00<00:00, 249.77it/s]\n"
     ]
    },
    {
     "name": "stdout",
     "output_type": "stream",
     "text": [
      "\n",
      "Scene 3/10\n",
      "\n",
      "Basestation 1\n",
      "\n",
      "UE-BS Channels\n"
     ]
    },
    {
     "name": "stderr",
     "output_type": "stream",
     "text": [
      "Reading ray-tracing: 100%|████████████████████████████████████████████████████| 69040/69040 [00:04<00:00, 16888.95it/s]\n",
      "Generating channels: 100%|█████████████████████████████████████████████████████| 69040/69040 [00:24<00:00, 2862.47it/s]\n"
     ]
    },
    {
     "name": "stdout",
     "output_type": "stream",
     "text": [
      "\n",
      "BS-BS Channels\n"
     ]
    },
    {
     "name": "stderr",
     "output_type": "stream",
     "text": [
      "Reading ray-tracing: 100%|█████████████████████████████████████████████████████████████| 1/1 [00:00<00:00, 1004.86it/s]\n",
      "Generating channels: 100%|██████████████████████████████████████████████████████████████| 1/1 [00:00<00:00, 249.97it/s]\n"
     ]
    },
    {
     "name": "stdout",
     "output_type": "stream",
     "text": [
      "\n",
      "Scene 4/10\n",
      "\n",
      "Basestation 1\n",
      "\n",
      "UE-BS Channels\n"
     ]
    },
    {
     "name": "stderr",
     "output_type": "stream",
     "text": [
      "Reading ray-tracing: 100%|████████████████████████████████████████████████████| 69040/69040 [00:04<00:00, 16979.70it/s]\n",
      "Generating channels: 100%|█████████████████████████████████████████████████████| 69040/69040 [00:25<00:00, 2708.62it/s]\n"
     ]
    },
    {
     "name": "stdout",
     "output_type": "stream",
     "text": [
      "\n",
      "BS-BS Channels\n"
     ]
    },
    {
     "name": "stderr",
     "output_type": "stream",
     "text": [
      "Reading ray-tracing: 100%|██████████████████████████████████████████████████████████████| 1/1 [00:00<00:00, 999.36it/s]\n",
      "Generating channels: 100%|██████████████████████████████████████████████████████████████| 1/1 [00:00<00:00, 200.13it/s]\n"
     ]
    },
    {
     "name": "stdout",
     "output_type": "stream",
     "text": [
      "\n",
      "Scene 5/10\n",
      "\n",
      "Basestation 1\n",
      "\n",
      "UE-BS Channels\n"
     ]
    },
    {
     "name": "stderr",
     "output_type": "stream",
     "text": [
      "Reading ray-tracing: 100%|████████████████████████████████████████████████████| 69040/69040 [00:04<00:00, 15817.70it/s]\n",
      "Generating channels: 100%|█████████████████████████████████████████████████████| 69040/69040 [00:24<00:00, 2775.49it/s]\n"
     ]
    },
    {
     "name": "stdout",
     "output_type": "stream",
     "text": [
      "\n",
      "BS-BS Channels\n"
     ]
    },
    {
     "name": "stderr",
     "output_type": "stream",
     "text": [
      "Reading ray-tracing: 100%|███████████████████████████████████████████████████████████████████████| 1/1 [00:00<?, ?it/s]\n",
      "Generating channels: 100%|██████████████████████████████████████████████████████████████| 1/1 [00:00<00:00, 249.93it/s]\n"
     ]
    },
    {
     "name": "stdout",
     "output_type": "stream",
     "text": [
      "\n",
      "Scene 6/10\n",
      "\n",
      "Basestation 1\n",
      "\n",
      "UE-BS Channels\n"
     ]
    },
    {
     "name": "stderr",
     "output_type": "stream",
     "text": [
      "Reading ray-tracing: 100%|████████████████████████████████████████████████████| 69040/69040 [00:03<00:00, 17277.56it/s]\n",
      "Generating channels: 100%|█████████████████████████████████████████████████████| 69040/69040 [00:24<00:00, 2801.60it/s]\n"
     ]
    },
    {
     "name": "stdout",
     "output_type": "stream",
     "text": [
      "\n",
      "BS-BS Channels\n"
     ]
    },
    {
     "name": "stderr",
     "output_type": "stream",
     "text": [
      "Reading ray-tracing: 100%|███████████████████████████████████████████████████████████████████████| 1/1 [00:00<?, ?it/s]\n",
      "Generating channels: 100%|██████████████████████████████████████████████████████████████| 1/1 [00:00<00:00, 199.99it/s]\n"
     ]
    },
    {
     "name": "stdout",
     "output_type": "stream",
     "text": [
      "\n",
      "Scene 7/10\n",
      "\n",
      "Basestation 1\n",
      "\n",
      "UE-BS Channels\n"
     ]
    },
    {
     "name": "stderr",
     "output_type": "stream",
     "text": [
      "Reading ray-tracing: 100%|████████████████████████████████████████████████████| 69040/69040 [00:04<00:00, 16419.64it/s]\n",
      "Generating channels: 100%|█████████████████████████████████████████████████████| 69040/69040 [00:21<00:00, 3254.36it/s]\n"
     ]
    },
    {
     "name": "stdout",
     "output_type": "stream",
     "text": [
      "\n",
      "BS-BS Channels\n"
     ]
    },
    {
     "name": "stderr",
     "output_type": "stream",
     "text": [
      "Reading ray-tracing: 100%|███████████████████████████████████████████████████████████████████████| 1/1 [00:00<?, ?it/s]\n",
      "Generating channels: 100%|██████████████████████████████████████████████████████████████| 1/1 [00:00<00:00, 331.09it/s]\n"
     ]
    },
    {
     "name": "stdout",
     "output_type": "stream",
     "text": [
      "\n",
      "Scene 8/10\n",
      "\n",
      "Basestation 1\n",
      "\n",
      "UE-BS Channels\n"
     ]
    },
    {
     "name": "stderr",
     "output_type": "stream",
     "text": [
      "Reading ray-tracing: 100%|████████████████████████████████████████████████████| 69040/69040 [00:03<00:00, 20288.40it/s]\n",
      "Generating channels: 100%|█████████████████████████████████████████████████████| 69040/69040 [00:21<00:00, 3231.31it/s]\n"
     ]
    },
    {
     "name": "stdout",
     "output_type": "stream",
     "text": [
      "\n",
      "BS-BS Channels\n"
     ]
    },
    {
     "name": "stderr",
     "output_type": "stream",
     "text": [
      "Reading ray-tracing: 100%|███████████████████████████████████████████████████████████████████████| 1/1 [00:00<?, ?it/s]\n",
      "Generating channels: 100%|██████████████████████████████████████████████████████████████| 1/1 [00:00<00:00, 246.30it/s]\n"
     ]
    },
    {
     "name": "stdout",
     "output_type": "stream",
     "text": [
      "\n",
      "Scene 9/10\n",
      "\n",
      "Basestation 1\n",
      "\n",
      "UE-BS Channels\n"
     ]
    },
    {
     "name": "stderr",
     "output_type": "stream",
     "text": [
      "Reading ray-tracing: 100%|████████████████████████████████████████████████████| 69040/69040 [00:03<00:00, 19847.79it/s]\n",
      "Generating channels: 100%|█████████████████████████████████████████████████████| 69040/69040 [00:21<00:00, 3151.82it/s]\n"
     ]
    },
    {
     "name": "stdout",
     "output_type": "stream",
     "text": [
      "\n",
      "BS-BS Channels\n"
     ]
    },
    {
     "name": "stderr",
     "output_type": "stream",
     "text": [
      "Reading ray-tracing: 100%|███████████████████████████████████████████████████████████████████████| 1/1 [00:00<?, ?it/s]\n",
      "Generating channels: 100%|██████████████████████████████████████████████████████████████| 1/1 [00:00<00:00, 333.41it/s]\n"
     ]
    },
    {
     "name": "stdout",
     "output_type": "stream",
     "text": [
      "\n",
      "Scene 10/10\n",
      "\n",
      "Basestation 1\n",
      "\n",
      "UE-BS Channels\n"
     ]
    },
    {
     "name": "stderr",
     "output_type": "stream",
     "text": [
      "Reading ray-tracing: 100%|████████████████████████████████████████████████████| 69040/69040 [00:03<00:00, 19711.31it/s]\n",
      "Generating channels: 100%|█████████████████████████████████████████████████████| 69040/69040 [00:22<00:00, 3090.53it/s]\n"
     ]
    },
    {
     "name": "stdout",
     "output_type": "stream",
     "text": [
      "\n",
      "BS-BS Channels\n"
     ]
    },
    {
     "name": "stderr",
     "output_type": "stream",
     "text": [
      "Reading ray-tracing: 100%|██████████████████████████████████████████████████████████████| 1/1 [00:00<00:00, 949.80it/s]\n",
      "Generating channels: 100%|██████████████████████████████████████████████████████████████| 1/1 [00:00<00:00, 186.61it/s]\n"
     ]
    }
   ],
   "source": [
    "## Generate and inspect the dataset\n",
    "dataset = DeepMIMOv3.generate_data(parameters)"
   ]
  },
  {
   "cell_type": "code",
   "execution_count": 9,
   "id": "4e127d34",
   "metadata": {},
   "outputs": [
    {
     "data": {
      "text/plain": [
       "10"
      ]
     },
     "execution_count": 9,
     "metadata": {},
     "output_type": "execute_result"
    }
   ],
   "source": [
    "len(dataset)"
   ]
  },
  {
   "cell_type": "code",
   "execution_count": 10,
   "id": "cccdc93e",
   "metadata": {},
   "outputs": [
    {
     "data": {
      "text/plain": [
       "[{'user': {'paths': array([{'num_paths': 0, 'DoD_phi': [], 'DoD_theta': [], 'DoA_phi': [], 'DoA_theta': [], 'phase': [], 'ToA': [], 'power': [], 'LoS': []},\n",
       "          {'num_paths': 0, 'DoD_phi': [], 'DoD_theta': [], 'DoA_phi': [], 'DoA_theta': [], 'phase': [], 'ToA': [], 'power': [], 'LoS': []},\n",
       "          {'num_paths': 0, 'DoD_phi': [], 'DoD_theta': [], 'DoA_phi': [], 'DoA_theta': [], 'phase': [], 'ToA': [], 'power': [], 'LoS': []},\n",
       "          ...,\n",
       "          {'num_paths': 0, 'DoD_phi': [], 'DoD_theta': [], 'DoA_phi': [], 'DoA_theta': [], 'phase': [], 'ToA': [], 'power': [], 'LoS': []},\n",
       "          {'num_paths': 0, 'DoD_phi': [], 'DoD_theta': [], 'DoA_phi': [], 'DoA_theta': [], 'phase': [], 'ToA': [], 'power': [], 'LoS': []},\n",
       "          {'num_paths': 0, 'DoD_phi': [], 'DoD_theta': [], 'DoA_phi': [], 'DoA_theta': [], 'phase': [], 'ToA': [], 'power': [], 'LoS': []}],\n",
       "         dtype=object),\n",
       "   'LoS': array([-1, -1, -1, ..., -1, -1, -1], dtype=int8),\n",
       "   'location': array([[-91.03330231, -15.57629967,   1.        ],\n",
       "          [-90.83329773, -15.57629967,   1.        ],\n",
       "          [-90.63330078, -15.57629967,   1.        ],\n",
       "          ...,\n",
       "          [222.25999451, -54.89479828,   1.        ],\n",
       "          [222.46000671, -54.89479828,   1.        ],\n",
       "          [222.66000366, -54.89479828,   1.        ]]),\n",
       "   'distance': array([ 97.57769775,  97.38500214,  97.19229889, ..., 228.71699524,\n",
       "          228.90899658, 229.1000061 ]),\n",
       "   'pathloss': array([0., 0., 0., ..., 0., 0., 0.]),\n",
       "   'channel': array([[[[0.+0.j, 0.+0.j, 0.+0.j, ..., 0.+0.j, 0.+0.j, 0.+0.j],\n",
       "            [0.+0.j, 0.+0.j, 0.+0.j, ..., 0.+0.j, 0.+0.j, 0.+0.j],\n",
       "            [0.+0.j, 0.+0.j, 0.+0.j, ..., 0.+0.j, 0.+0.j, 0.+0.j],\n",
       "            ...,\n",
       "            [0.+0.j, 0.+0.j, 0.+0.j, ..., 0.+0.j, 0.+0.j, 0.+0.j],\n",
       "            [0.+0.j, 0.+0.j, 0.+0.j, ..., 0.+0.j, 0.+0.j, 0.+0.j],\n",
       "            [0.+0.j, 0.+0.j, 0.+0.j, ..., 0.+0.j, 0.+0.j, 0.+0.j]]],\n",
       "   \n",
       "   \n",
       "          [[[0.+0.j, 0.+0.j, 0.+0.j, ..., 0.+0.j, 0.+0.j, 0.+0.j],\n",
       "            [0.+0.j, 0.+0.j, 0.+0.j, ..., 0.+0.j, 0.+0.j, 0.+0.j],\n",
       "            [0.+0.j, 0.+0.j, 0.+0.j, ..., 0.+0.j, 0.+0.j, 0.+0.j],\n",
       "            ...,\n",
       "            [0.+0.j, 0.+0.j, 0.+0.j, ..., 0.+0.j, 0.+0.j, 0.+0.j],\n",
       "            [0.+0.j, 0.+0.j, 0.+0.j, ..., 0.+0.j, 0.+0.j, 0.+0.j],\n",
       "            [0.+0.j, 0.+0.j, 0.+0.j, ..., 0.+0.j, 0.+0.j, 0.+0.j]]],\n",
       "   \n",
       "   \n",
       "          [[[0.+0.j, 0.+0.j, 0.+0.j, ..., 0.+0.j, 0.+0.j, 0.+0.j],\n",
       "            [0.+0.j, 0.+0.j, 0.+0.j, ..., 0.+0.j, 0.+0.j, 0.+0.j],\n",
       "            [0.+0.j, 0.+0.j, 0.+0.j, ..., 0.+0.j, 0.+0.j, 0.+0.j],\n",
       "            ...,\n",
       "            [0.+0.j, 0.+0.j, 0.+0.j, ..., 0.+0.j, 0.+0.j, 0.+0.j],\n",
       "            [0.+0.j, 0.+0.j, 0.+0.j, ..., 0.+0.j, 0.+0.j, 0.+0.j],\n",
       "            [0.+0.j, 0.+0.j, 0.+0.j, ..., 0.+0.j, 0.+0.j, 0.+0.j]]],\n",
       "   \n",
       "   \n",
       "          ...,\n",
       "   \n",
       "   \n",
       "          [[[0.+0.j, 0.+0.j, 0.+0.j, ..., 0.+0.j, 0.+0.j, 0.+0.j],\n",
       "            [0.+0.j, 0.+0.j, 0.+0.j, ..., 0.+0.j, 0.+0.j, 0.+0.j],\n",
       "            [0.+0.j, 0.+0.j, 0.+0.j, ..., 0.+0.j, 0.+0.j, 0.+0.j],\n",
       "            ...,\n",
       "            [0.+0.j, 0.+0.j, 0.+0.j, ..., 0.+0.j, 0.+0.j, 0.+0.j],\n",
       "            [0.+0.j, 0.+0.j, 0.+0.j, ..., 0.+0.j, 0.+0.j, 0.+0.j],\n",
       "            [0.+0.j, 0.+0.j, 0.+0.j, ..., 0.+0.j, 0.+0.j, 0.+0.j]]],\n",
       "   \n",
       "   \n",
       "          [[[0.+0.j, 0.+0.j, 0.+0.j, ..., 0.+0.j, 0.+0.j, 0.+0.j],\n",
       "            [0.+0.j, 0.+0.j, 0.+0.j, ..., 0.+0.j, 0.+0.j, 0.+0.j],\n",
       "            [0.+0.j, 0.+0.j, 0.+0.j, ..., 0.+0.j, 0.+0.j, 0.+0.j],\n",
       "            ...,\n",
       "            [0.+0.j, 0.+0.j, 0.+0.j, ..., 0.+0.j, 0.+0.j, 0.+0.j],\n",
       "            [0.+0.j, 0.+0.j, 0.+0.j, ..., 0.+0.j, 0.+0.j, 0.+0.j],\n",
       "            [0.+0.j, 0.+0.j, 0.+0.j, ..., 0.+0.j, 0.+0.j, 0.+0.j]]],\n",
       "   \n",
       "   \n",
       "          [[[0.+0.j, 0.+0.j, 0.+0.j, ..., 0.+0.j, 0.+0.j, 0.+0.j],\n",
       "            [0.+0.j, 0.+0.j, 0.+0.j, ..., 0.+0.j, 0.+0.j, 0.+0.j],\n",
       "            [0.+0.j, 0.+0.j, 0.+0.j, ..., 0.+0.j, 0.+0.j, 0.+0.j],\n",
       "            ...,\n",
       "            [0.+0.j, 0.+0.j, 0.+0.j, ..., 0.+0.j, 0.+0.j, 0.+0.j],\n",
       "            [0.+0.j, 0.+0.j, 0.+0.j, ..., 0.+0.j, 0.+0.j, 0.+0.j],\n",
       "            [0.+0.j, 0.+0.j, 0.+0.j, ..., 0.+0.j, 0.+0.j, 0.+0.j]]]],\n",
       "         dtype=complex64)},\n",
       "  'basestation': {'paths': array([{'num_paths': 2, 'DoD_phi': array([   0.   , -141.952], dtype=float32), 'DoD_theta': array([180.    ,  89.9997], dtype=float32), 'DoA_phi': array([-180.  , -141.95], dtype=float32), 'DoA_theta': array([180.    ,  89.9997], dtype=float32), 'phase': array([  68.6712, -129.443 ], dtype=float32), 'ToA': array([3.83724e-08, 3.63243e-07], dtype=float32), 'LoS': array([0., 0.], dtype=float32), 'power': array([5.4408858e-08, 2.8096997e-10], dtype=float32)}],\n",
       "         dtype=object),\n",
       "   'LoS': [0.0],\n",
       "   'location': array([[ 3., 10.,  6.]]),\n",
       "   'distance': array([0.]),\n",
       "   'pathloss': array([73.25530243]),\n",
       "   'channel': [array([[[ 3.27880882e-06+9.03047146e-06j,\n",
       "              3.38902836e-06+9.05771773e-06j,\n",
       "              3.52600751e-06+9.10214646e-06j, ...,\n",
       "              9.28594190e-06-2.31882918e-06j,\n",
       "              9.26814511e-06-2.39473446e-06j,\n",
       "              9.27899575e-06-2.48241610e-06j],\n",
       "            [-4.22006268e-06-1.01746392e-05j,\n",
       "             -4.55990916e-06-9.96552678e-06j,\n",
       "             -4.86858996e-06-9.72868608e-06j, ...,\n",
       "             -1.07515196e-05+2.53599163e-06j,\n",
       "             -1.06494687e-05+2.93048000e-06j,\n",
       "             -1.05077289e-05+3.31024060e-06j],\n",
       "            [ 3.27882920e-06+9.03045542e-06j,\n",
       "              3.38904486e-06+9.05769790e-06j,\n",
       "              3.52601939e-06+9.10212379e-06j, ...,\n",
       "              9.28593792e-06-2.31885488e-06j,\n",
       "              9.26813589e-06-2.39475878e-06j,\n",
       "              9.27898172e-06-2.48243791e-06j],\n",
       "            ...,\n",
       "            [-4.21982438e-06-1.01748453e-05j,\n",
       "             -4.55972469e-06-9.96578487e-06j,\n",
       "             -4.86846960e-06-9.72898291e-06j, ...,\n",
       "             -1.07515633e-05+2.53568085e-06j,\n",
       "             -1.06495846e-05+2.93018834e-06j,\n",
       "             -1.05079111e-05+3.30998367e-06j],\n",
       "            [ 3.27911451e-06+9.03023098e-06j,\n",
       "              3.38927589e-06+9.05742036e-06j,\n",
       "              3.52618585e-06+9.10180640e-06j, ...,\n",
       "              9.28588238e-06-2.31921470e-06j,\n",
       "              9.26800688e-06-2.39509920e-06j,\n",
       "              9.27878532e-06-2.48274327e-06j],\n",
       "            [-4.21980736e-06-1.01748600e-05j,\n",
       "             -4.55971151e-06-9.96580330e-06j,\n",
       "             -4.86846100e-06-9.72900412e-06j, ...,\n",
       "             -1.07515664e-05+2.53565866e-06j,\n",
       "             -1.06495929e-05+2.93016751e-06j,\n",
       "             -1.05079242e-05+3.30996531e-06j]],\n",
       "    \n",
       "           [[-4.22006268e-06-1.01746392e-05j,\n",
       "             -4.55990916e-06-9.96552678e-06j,\n",
       "             -4.86858996e-06-9.72868608e-06j, ...,\n",
       "             -1.07515196e-05+2.53599163e-06j,\n",
       "             -1.06494687e-05+2.93048000e-06j,\n",
       "             -1.05077289e-05+3.31024060e-06j],\n",
       "            [ 3.27882920e-06+9.03045542e-06j,\n",
       "              3.38904486e-06+9.05769790e-06j,\n",
       "              3.52601939e-06+9.10212379e-06j, ...,\n",
       "              9.28593792e-06-2.31885488e-06j,\n",
       "              9.26813589e-06-2.39475878e-06j,\n",
       "              9.27898172e-06-2.48243791e-06j],\n",
       "            [-4.22004567e-06-1.01746539e-05j,\n",
       "             -4.55989598e-06-9.96554522e-06j,\n",
       "             -4.86858137e-06-9.72870728e-06j, ...,\n",
       "             -1.07515227e-05+2.53596943e-06j,\n",
       "             -1.06494770e-05+2.93045917e-06j,\n",
       "             -1.05077419e-05+3.31022225e-06j],\n",
       "            ...,\n",
       "            [ 3.27911451e-06+9.03023098e-06j,\n",
       "              3.38927589e-06+9.05742036e-06j,\n",
       "              3.52618585e-06+9.10180640e-06j, ...,\n",
       "              9.28588238e-06-2.31921470e-06j,\n",
       "              9.26800688e-06-2.39509920e-06j,\n",
       "              9.27878532e-06-2.48274327e-06j],\n",
       "            [-4.21980736e-06-1.01748600e-05j,\n",
       "             -4.55971151e-06-9.96580330e-06j,\n",
       "             -4.86846100e-06-9.72900412e-06j, ...,\n",
       "             -1.07515664e-05+2.53565866e-06j,\n",
       "             -1.06495929e-05+2.93016751e-06j,\n",
       "             -1.05079242e-05+3.30996531e-06j],\n",
       "            [ 3.27913490e-06+9.03021495e-06j,\n",
       "              3.38929240e-06+9.05740054e-06j,\n",
       "              3.52619775e-06+9.10178373e-06j, ...,\n",
       "              9.28587842e-06-2.31924040e-06j,\n",
       "              9.26799767e-06-2.39512351e-06j,\n",
       "              9.27877129e-06-2.48276509e-06j]],\n",
       "    \n",
       "           [[ 3.27882920e-06+9.03045542e-06j,\n",
       "              3.38904486e-06+9.05769790e-06j,\n",
       "              3.52601939e-06+9.10212379e-06j, ...,\n",
       "              9.28593792e-06-2.31885488e-06j,\n",
       "              9.26813589e-06-2.39475878e-06j,\n",
       "              9.27898172e-06-2.48243791e-06j],\n",
       "            [-4.22004567e-06-1.01746539e-05j,\n",
       "             -4.55989598e-06-9.96554522e-06j,\n",
       "             -4.86858137e-06-9.72870728e-06j, ...,\n",
       "             -1.07515227e-05+2.53596943e-06j,\n",
       "             -1.06494770e-05+2.93045917e-06j,\n",
       "             -1.05077419e-05+3.31022225e-06j],\n",
       "            [ 3.27884957e-06+9.03043939e-06j,\n",
       "              3.38906136e-06+9.05767808e-06j,\n",
       "              3.52603128e-06+9.10210111e-06j, ...,\n",
       "              9.28593395e-06-2.31888058e-06j,\n",
       "              9.26812667e-06-2.39478309e-06j,\n",
       "              9.27896769e-06-2.48245972e-06j],\n",
       "            ...,\n",
       "            [-4.21980736e-06-1.01748600e-05j,\n",
       "             -4.55971151e-06-9.96580330e-06j,\n",
       "             -4.86846100e-06-9.72900412e-06j, ...,\n",
       "             -1.07515664e-05+2.53565866e-06j,\n",
       "             -1.06495929e-05+2.93016751e-06j,\n",
       "             -1.05079242e-05+3.30996531e-06j],\n",
       "            [ 3.27913490e-06+9.03021495e-06j,\n",
       "              3.38929240e-06+9.05740054e-06j,\n",
       "              3.52619775e-06+9.10178373e-06j, ...,\n",
       "              9.28587842e-06-2.31924040e-06j,\n",
       "              9.26799767e-06-2.39512351e-06j,\n",
       "              9.27877129e-06-2.48276509e-06j],\n",
       "            [-4.21979033e-06-1.01748747e-05j,\n",
       "             -4.55969833e-06-9.96582173e-06j,\n",
       "             -4.86845239e-06-9.72902532e-06j, ...,\n",
       "             -1.07515695e-05+2.53563646e-06j,\n",
       "             -1.06496012e-05+2.93014667e-06j,\n",
       "             -1.05079372e-05+3.30994695e-06j]],\n",
       "    \n",
       "           ...,\n",
       "    \n",
       "           [[-4.21982438e-06-1.01748453e-05j,\n",
       "             -4.55972469e-06-9.96578487e-06j,\n",
       "             -4.86846960e-06-9.72898291e-06j, ...,\n",
       "             -1.07515633e-05+2.53568085e-06j,\n",
       "             -1.06495846e-05+2.93018834e-06j,\n",
       "             -1.05079111e-05+3.30998367e-06j],\n",
       "            [ 3.27911451e-06+9.03023098e-06j,\n",
       "              3.38927589e-06+9.05742036e-06j,\n",
       "              3.52618585e-06+9.10180640e-06j, ...,\n",
       "              9.28588238e-06-2.31921470e-06j,\n",
       "              9.26800688e-06-2.39509920e-06j,\n",
       "              9.27878532e-06-2.48274327e-06j],\n",
       "            [-4.21980736e-06-1.01748600e-05j,\n",
       "             -4.55971151e-06-9.96580330e-06j,\n",
       "             -4.86846100e-06-9.72900412e-06j, ...,\n",
       "             -1.07515664e-05+2.53565866e-06j,\n",
       "             -1.06495929e-05+2.93016751e-06j,\n",
       "             -1.05079242e-05+3.30996531e-06j],\n",
       "            ...,\n",
       "            [ 3.27939993e-06+9.03000665e-06j,\n",
       "              3.38950705e-06+9.05714291e-06j,\n",
       "              3.52635246e-06+9.10148908e-06j, ...,\n",
       "              9.28582700e-06-2.31957454e-06j,\n",
       "              9.26787803e-06-2.39543967e-06j,\n",
       "              9.27858904e-06-2.48304873e-06j],\n",
       "            [-4.21956895e-06-1.01750660e-05j,\n",
       "             -4.55952692e-06-9.96606129e-06j,\n",
       "             -4.86834048e-06-9.72930088e-06j, ...,\n",
       "             -1.07516099e-05+2.53534786e-06j,\n",
       "             -1.06497087e-05+2.92987578e-06j,\n",
       "             -1.05081062e-05+3.30970829e-06j],\n",
       "            [ 3.27942032e-06+9.02999063e-06j,\n",
       "              3.38952357e-06+9.05712310e-06j,\n",
       "              3.52636436e-06+9.10146642e-06j, ...,\n",
       "              9.28582305e-06-2.31960025e-06j,\n",
       "              9.26786883e-06-2.39546399e-06j,\n",
       "              9.27857503e-06-2.48307055e-06j]],\n",
       "    \n",
       "           [[ 3.27911451e-06+9.03023098e-06j,\n",
       "              3.38927589e-06+9.05742036e-06j,\n",
       "              3.52618585e-06+9.10180640e-06j, ...,\n",
       "              9.28588238e-06-2.31921470e-06j,\n",
       "              9.26800688e-06-2.39509920e-06j,\n",
       "              9.27878532e-06-2.48274327e-06j],\n",
       "            [-4.21980736e-06-1.01748600e-05j,\n",
       "             -4.55971151e-06-9.96580330e-06j,\n",
       "             -4.86846100e-06-9.72900412e-06j, ...,\n",
       "             -1.07515664e-05+2.53565866e-06j,\n",
       "             -1.06495929e-05+2.93016751e-06j,\n",
       "             -1.05079242e-05+3.30996531e-06j],\n",
       "            [ 3.27913490e-06+9.03021495e-06j,\n",
       "              3.38929240e-06+9.05740054e-06j,\n",
       "              3.52619775e-06+9.10178373e-06j, ...,\n",
       "              9.28587842e-06-2.31924040e-06j,\n",
       "              9.26799767e-06-2.39512351e-06j,\n",
       "              9.27877129e-06-2.48276509e-06j],\n",
       "            ...,\n",
       "            [-4.21956895e-06-1.01750660e-05j,\n",
       "             -4.55952692e-06-9.96606129e-06j,\n",
       "             -4.86834048e-06-9.72930088e-06j, ...,\n",
       "             -1.07516099e-05+2.53534786e-06j,\n",
       "             -1.06497087e-05+2.92987578e-06j,\n",
       "             -1.05081062e-05+3.30970829e-06j],\n",
       "            [ 3.27942032e-06+9.02999063e-06j,\n",
       "              3.38952357e-06+9.05712310e-06j,\n",
       "              3.52636436e-06+9.10146642e-06j, ...,\n",
       "              9.28582305e-06-2.31960025e-06j,\n",
       "              9.26786883e-06-2.39546399e-06j,\n",
       "              9.27857503e-06-2.48307055e-06j],\n",
       "            [-4.21955192e-06-1.01750807e-05j,\n",
       "             -4.55951373e-06-9.96607971e-06j,\n",
       "             -4.86833187e-06-9.72932208e-06j, ...,\n",
       "             -1.07516130e-05+2.53532566e-06j,\n",
       "             -1.06497170e-05+2.92985494e-06j,\n",
       "             -1.05081192e-05+3.30968993e-06j]],\n",
       "    \n",
       "           [[-4.21980736e-06-1.01748600e-05j,\n",
       "             -4.55971151e-06-9.96580330e-06j,\n",
       "             -4.86846100e-06-9.72900412e-06j, ...,\n",
       "             -1.07515664e-05+2.53565866e-06j,\n",
       "             -1.06495929e-05+2.93016751e-06j,\n",
       "             -1.05079242e-05+3.30996531e-06j],\n",
       "            [ 3.27913490e-06+9.03021495e-06j,\n",
       "              3.38929240e-06+9.05740054e-06j,\n",
       "              3.52619775e-06+9.10178373e-06j, ...,\n",
       "              9.28587842e-06-2.31924040e-06j,\n",
       "              9.26799767e-06-2.39512351e-06j,\n",
       "              9.27877129e-06-2.48276509e-06j],\n",
       "            [-4.21979033e-06-1.01748747e-05j,\n",
       "             -4.55969833e-06-9.96582173e-06j,\n",
       "             -4.86845239e-06-9.72902532e-06j, ...,\n",
       "             -1.07515695e-05+2.53563646e-06j,\n",
       "             -1.06496012e-05+2.93014667e-06j,\n",
       "             -1.05079372e-05+3.30994695e-06j],\n",
       "            ...,\n",
       "            [ 3.27942032e-06+9.02999063e-06j,\n",
       "              3.38952357e-06+9.05712310e-06j,\n",
       "              3.52636436e-06+9.10146642e-06j, ...,\n",
       "              9.28582305e-06-2.31960025e-06j,\n",
       "              9.26786883e-06-2.39546399e-06j,\n",
       "              9.27857503e-06-2.48307055e-06j],\n",
       "            [-4.21955192e-06-1.01750807e-05j,\n",
       "             -4.55951373e-06-9.96607971e-06j,\n",
       "             -4.86833187e-06-9.72932208e-06j, ...,\n",
       "             -1.07516130e-05+2.53532566e-06j,\n",
       "             -1.06497170e-05+2.92985494e-06j,\n",
       "             -1.05081192e-05+3.30968993e-06j],\n",
       "            [ 3.27944071e-06+9.02997461e-06j,\n",
       "              3.38954008e-06+9.05710329e-06j,\n",
       "              3.52637627e-06+9.10144375e-06j, ...,\n",
       "              9.28581910e-06-2.31962595e-06j,\n",
       "              9.26785963e-06-2.39548832e-06j,\n",
       "              9.27856101e-06-2.48309237e-06j]]])]},\n",
       "  'location': array([ 3., 10.,  6.])}]"
      ]
     },
     "execution_count": 10,
     "metadata": {},
     "output_type": "execute_result"
    }
   ],
   "source": [
    "dataset[0]"
   ]
  },
  {
   "cell_type": "markdown",
   "id": "5b4e72d4",
   "metadata": {},
   "source": [
    "# 사용자 접근 데이터"
   ]
  },
  {
   "cell_type": "code",
   "execution_count": 11,
   "id": "57828d31",
   "metadata": {},
   "outputs": [
    {
     "name": "stdout",
     "output_type": "stream",
     "text": [
      "dict_keys(['paths', 'LoS', 'location', 'distance', 'pathloss', 'channel'])\n"
     ]
    }
   ],
   "source": [
    "user_data = dataset[0][0]['user']\n",
    "print(user_data.keys())"
   ]
  },
  {
   "cell_type": "markdown",
   "id": "bc5a3b0c",
   "metadata": {},
   "source": [
    "# 사용자 채널 정보 확인"
   ]
  },
  {
   "cell_type": "code",
   "execution_count": 12,
   "id": "23b2884b",
   "metadata": {},
   "outputs": [
    {
     "name": "stdout",
     "output_type": "stream",
     "text": [
      "(69040, 1, 32, 64)\n"
     ]
    }
   ],
   "source": [
    "# subcarries = 나눈 각각의 주파수 채널\n",
    "# Channel = H <- 채널 벡터\n",
    "# 채널 형태\n",
    "# (user, UE antenna, Bs antenna, subcarrier)\n",
    "channel = dataset[0][0]['user']['channel']\n",
    "print(channel.shape)  "
   ]
  },
  {
   "cell_type": "code",
   "execution_count": 13,
   "id": "bf443dc9",
   "metadata": {},
   "outputs": [
    {
     "name": "stdout",
     "output_type": "stream",
     "text": [
      "[[[-4.9276509e-06+6.0179661e-07j -4.7681883e-06+1.3829425e-06j\n",
      "   -4.4857170e-06+2.1285541e-06j ...  4.3711116e-06-2.4074948e-06j\n",
      "    3.9297033e-06-3.0764131e-06j  3.3868639e-06-3.6660977e-06j]\n",
      "  [-4.7825752e-06+1.6998159e-06j -4.4491662e-06+2.4436672e-06j\n",
      "   -4.0009481e-06+3.1246111e-06j ...  3.8229477e-06-3.3767817e-06j\n",
      "    3.2333687e-06-3.9455144e-06j  2.5602983e-06-4.4125736e-06j]\n",
      "  [-4.3861578e-06+2.7614337e-06j -3.8878534e-06+3.4282084e-06j\n",
      "   -3.2891933e-06+4.0066625e-06j ...  3.0543217e-06-4.2173128e-06j\n",
      "    2.3400164e-06-4.6522073e-06j  1.5652473e-06-4.9671735e-06j]\n",
      "  ...\n",
      "  [-5.9705985e-06+1.8381670e-06j -5.5992200e-06+2.7702260e-06j\n",
      "   -5.0834296e-06+3.6307945e-06j ...  4.8462462e-06-3.9304277e-06j\n",
      "    4.1544481e-06-4.6554678e-06j  3.3555179e-06-5.2603964e-06j]\n",
      "  [-5.3850690e-06+3.0986103e-06j -4.8194606e-06+3.9206407e-06j\n",
      "   -4.1295657e-06+4.6415066e-06j ...  3.8328362e-06-4.8787911e-06j\n",
      "    3.0023016e-06-5.4293314e-06j  2.0943648e-06-5.8398036e-06j]\n",
      "  [-4.5357333e-06+4.1878652e-06j -3.8067144e-06+4.8598408e-06j\n",
      "   -2.9795442e-06+5.4064294e-06j ...  2.6393784e-06-5.5698706e-06j\n",
      "    1.7136289e-06-5.9204085e-06j  7.4372792e-07-6.1182200e-06j]]]\n"
     ]
    }
   ],
   "source": [
    "print(dataset[0][0]['user']['channel'][100])"
   ]
  },
  {
   "cell_type": "code",
   "execution_count": 14,
   "id": "1a931204",
   "metadata": {},
   "outputs": [
    {
     "name": "stdout",
     "output_type": "stream",
     "text": [
      "1\n"
     ]
    }
   ],
   "source": [
    "print(len(dataset[0][0]['user']['channel'][100]))"
   ]
  },
  {
   "cell_type": "code",
   "execution_count": 15,
   "id": "ff08a89e",
   "metadata": {},
   "outputs": [
    {
     "name": "stdout",
     "output_type": "stream",
     "text": [
      "[ 1.14151417e-05-4.36109121e-06j  1.13104134e-05-4.99916769e-06j\n",
      "  1.11716581e-05-5.67118514e-06j  1.09873472e-05-6.37486755e-06j\n",
      "  1.07464039e-05-7.10507175e-06j  1.04388646e-05-7.85394786e-06j\n",
      "  1.00564839e-05-8.61123954e-06j  9.59326280e-06-9.36472679e-06j\n",
      "  9.04586159e-06-1.01007672e-05j  8.41387282e-06-1.08049298e-05j\n",
      "  7.69995040e-06-1.14626673e-05j  6.90977913e-06-1.20600052e-05j\n",
      "  6.05189052e-06-1.25842089e-05j  5.13732675e-06-1.30243880e-05j\n",
      "  4.17918318e-06-1.33720132e-05j  3.19203900e-06-1.36213148e-05j\n",
      "  2.19131471e-06-1.37695433e-05j  1.19258925e-06-1.38170753e-05j\n",
      "  2.10908027e-07-1.37673669e-05j -7.39877976e-07-1.36267463e-05j\n",
      " -1.64770893e-06-1.34040656e-05j -2.50281732e-06-1.31102279e-05j\n",
      " -3.29810814e-06-1.27576113e-05j -4.02939668e-06-1.23594264e-05j\n",
      " -4.69549514e-06-1.19290335e-05j -5.29813951e-06-1.14792647e-05j\n",
      " -5.84176632e-06-1.10217779e-05j -6.33314448e-06-1.05664840e-05j\n",
      " -6.78089191e-06-1.01210744e-05j -7.19489299e-06-9.69066787e-06j\n",
      " -7.58565420e-06-9.27761084e-06j -7.96363111e-06-8.88142313e-06j\n",
      " -8.33856484e-06-8.49890512e-06j -8.71885459e-06-8.12439157e-06j\n",
      " -9.11101597e-06-7.75014814e-06j -9.51923721e-06-7.36687571e-06j\n",
      " -9.94506809e-06-6.96431107e-06j -1.03872544e-05-6.53187772e-06j\n",
      " -1.08417298e-05-6.05936111e-06j -1.13017559e-05-5.53756945e-06j\n",
      " -1.17582258e-05-4.95894210e-06j -1.22000811e-05-4.31807575e-06j\n",
      " -1.26148598e-05-3.61214165e-06j -1.29893097e-05-2.84116686e-06j\n",
      " -1.33100630e-05-2.00816589e-06j -1.35643195e-05-1.11911800e-06j\n",
      " -1.37405095e-05-1.82786522e-07j -1.38288988e-05+7.89607157e-07j\n",
      " -1.38221067e-05+1.78484061e-06j -1.37155066e-05+2.78825269e-06j\n",
      " -1.35074870e-05+3.78438449e-06j -1.31995657e-05+4.75766183e-06j\n",
      " -1.27963385e-05+5.69308668e-06j -1.23052841e-05+6.57690180e-06j\n",
      " -1.17364107e-05+7.39718735e-06j -1.11017880e-05+8.14437226e-06j\n",
      " -1.04149713e-05+8.81161304e-06j -9.69035409e-06+9.39504571e-06j\n",
      " -8.94248751e-06+9.89386990e-06j -8.18538956e-06+1.03102893e-05j\n",
      " -7.43190139e-06+1.06492889e-05j -6.69309748e-06+1.09182747e-05j\n",
      " -5.97780945e-06+1.11265890e-05j -5.29226054e-06+1.12849320e-05j]\n"
     ]
    }
   ],
   "source": [
    "print(channel[10000][0][0])"
   ]
  },
  {
   "cell_type": "markdown",
   "id": "2b079846",
   "metadata": {},
   "source": [
    "# 사용자 위치 정보"
   ]
  },
  {
   "cell_type": "code",
   "execution_count": 16,
   "id": "84337e94",
   "metadata": {},
   "outputs": [
    {
     "name": "stdout",
     "output_type": "stream",
     "text": [
      "(69040, 3)\n",
      "[[-91.03330231 -15.57629967   1.        ]\n",
      " [-90.83329773 -15.57629967   1.        ]\n",
      " [-90.63330078 -15.57629967   1.        ]\n",
      " [-90.4332962  -15.57629967   1.        ]]\n"
     ]
    }
   ],
   "source": [
    "location = dataset[0][0]['user']['location']\n",
    "print(location.shape)      # (사용자 수, 3)\n",
    "print(location[0:4])         # 첫 번째 사용자의 (x, y, z)"
   ]
  },
  {
   "cell_type": "markdown",
   "id": "60e9a9b6",
   "metadata": {},
   "source": [
    "# 경로정보"
   ]
  },
  {
   "cell_type": "code",
   "execution_count": 17,
   "id": "79cde8ee",
   "metadata": {},
   "outputs": [
    {
     "name": "stdout",
     "output_type": "stream",
     "text": [
      "69040\n",
      "{'num_paths': 0, 'DoD_phi': [], 'DoD_theta': [], 'DoA_phi': [], 'DoA_theta': [], 'phase': [], 'ToA': [], 'power': [], 'LoS': []}\n"
     ]
    }
   ],
   "source": [
    "paths = dataset[0][0]['user']['paths']\n",
    "#사용자 수\n",
    "print(len(paths))\n",
    "# 첫 번째 사용자 경로 정보\n",
    "print(paths[0])"
   ]
  },
  {
   "cell_type": "markdown",
   "id": "f2242869",
   "metadata": {},
   "source": [
    "# 기지국 정보"
   ]
  },
  {
   "cell_type": "code",
   "execution_count": 18,
   "id": "2900e481",
   "metadata": {},
   "outputs": [
    {
     "name": "stdout",
     "output_type": "stream",
     "text": [
      "dict_keys(['paths', 'LoS', 'location', 'distance', 'pathloss', 'channel'])\n"
     ]
    }
   ],
   "source": [
    "bs_data = dataset[0][0]['basestation']\n",
    "print(bs_data.keys())\n"
   ]
  },
  {
   "cell_type": "markdown",
   "id": "c063ea95",
   "metadata": {},
   "source": [
    "# Scene 및 사용자 수"
   ]
  },
  {
   "cell_type": "code",
   "execution_count": 19,
   "id": "a20df92d",
   "metadata": {},
   "outputs": [
    {
     "name": "stdout",
     "output_type": "stream",
     "text": [
      "Scene 0: 69040 users\n"
     ]
    }
   ],
   "source": [
    "for i, scene in enumerate(dataset[0]):\n",
    "    user_locs = scene['user']['location']\n",
    "    print(f\"Scene {i}: {len(user_locs)} users\")"
   ]
  },
  {
   "cell_type": "markdown",
   "id": "b38f71e1",
   "metadata": {},
   "source": [
    "# 채널 수"
   ]
  },
  {
   "cell_type": "code",
   "execution_count": 20,
   "id": "cbbee52e",
   "metadata": {},
   "outputs": [
    {
     "data": {
      "text/plain": [
       "69040"
      ]
     },
     "execution_count": 20,
     "metadata": {},
     "output_type": "execute_result"
    }
   ],
   "source": [
    "len(dataset[0][0]['user']['channel'])"
   ]
  },
  {
   "cell_type": "code",
   "execution_count": 21,
   "id": "2d474195",
   "metadata": {},
   "outputs": [
    {
     "name": "stdout",
     "output_type": "stream",
     "text": [
      "{'num_paths': 0, 'DoD_phi': [], 'DoD_theta': [], 'DoA_phi': [], 'DoA_theta': [], 'phase': [], 'ToA': [], 'power': [], 'LoS': []}\n"
     ]
    }
   ],
   "source": [
    "print(dataset[0][0]['user']['paths'][0])"
   ]
  },
  {
   "cell_type": "code",
   "execution_count": 22,
   "id": "73df9912",
   "metadata": {},
   "outputs": [
    {
     "name": "stdout",
     "output_type": "stream",
     "text": [
      "(1, 32, 64)\n"
     ]
    }
   ],
   "source": [
    "scene = dataset[0][0] # scene 0\n",
    "ue_idx = 0 # 첫 번째 사용자\n",
    "channel = scene['user']['channel'][ue_idx]\n",
    "print(channel.shape)"
   ]
  },
  {
   "cell_type": "code",
   "execution_count": 23,
   "id": "c312bc2a",
   "metadata": {},
   "outputs": [],
   "source": [
    "import torch\n",
    "import torch.nn as nn\n",
    "import torch.optim as optim\n",
    "import torchvision\n",
    "import torchvision.transforms as transforms\n",
    "from torch.utils.data import DataLoader\n",
    "import matplotlib.pyplot as plt"
   ]
  },
  {
   "cell_type": "code",
   "execution_count": 24,
   "id": "7f11a45a",
   "metadata": {},
   "outputs": [
    {
     "name": "stdout",
     "output_type": "stream",
     "text": [
      "cuda\n"
     ]
    }
   ],
   "source": [
    "# GPU 설정\n",
    "device = torch.device(\"cuda\" if torch.cuda.is_available() else \"cpu\")\n",
    "\n",
    "print(device)"
   ]
  },
  {
   "cell_type": "markdown",
   "id": "373ffb59",
   "metadata": {},
   "source": [
    "# channel CIR mat 정보 가져오기"
   ]
  },
  {
   "cell_type": "code",
   "execution_count": 25,
   "id": "ec4461cb",
   "metadata": {},
   "outputs": [
    {
     "name": "stdout",
     "output_type": "stream",
     "text": [
      "dict_keys(['__header__', '__version__', '__globals__', 'CIR_array_full'])\n"
     ]
    }
   ],
   "source": [
    "import scipy.io as sio\n",
    "\n",
    "file_path = r'C:\\Users\\dlghd\\졸업프로젝트\\LWM\\O2_dyn_3p5\\scene_0\\O2_dyn_3p5.1.CIR.mat'\n",
    "mat_data = sio.loadmat(file_path)\n",
    "\n",
    "# 파일 안의 key 확인\n",
    "print(mat_data.keys())\n",
    "\n",
    "\n"
   ]
  },
  {
   "cell_type": "code",
   "execution_count": 26,
   "id": "662cb441",
   "metadata": {},
   "outputs": [
    {
     "name": "stdout",
     "output_type": "stream",
     "text": [
      "b'MATLAB 5.0 MAT-file, Platform: PCWIN64, Created on: Wed Jun 30 11:33:01 2021'\n"
     ]
    }
   ],
   "source": [
    "# 일반적으로 CIR key는 'CIR' 또는 'cir' 같은 이름일 가능성 높음\n",
    "H_cir = mat_data['__header__']  \n",
    "print(H_cir)"
   ]
  },
  {
   "cell_type": "markdown",
   "id": "88f3d7c7",
   "metadata": {},
   "source": [
    "# Time-Prediction 시작\n",
    "## Time Series 형태로 변환\n",
    "### 단일사용자 채널 예측"
   ]
  },
  {
   "cell_type": "code",
   "execution_count": 27,
   "id": "db7345b0",
   "metadata": {},
   "outputs": [],
   "source": [
    "# H = dataset[0][0]['user']['channel'][100]  # (1, 32, 64), complex\n",
    "# H = H.squeeze(0)  # → (32, 64)\n",
    "\n",
    "# # 채널은 복소수 형태\n",
    "# H_real = H.real   # shape: (32, 64)\n",
    "# H_imag = H.imag   # shape: (32, 64)\n",
    "\n",
    "# H_combined = np.concatenate([H_real, H_imag], axis=0)  # shape: (64, 64)\n"
   ]
  },
  {
   "cell_type": "code",
   "execution_count": 28,
   "id": "1f97d362",
   "metadata": {},
   "outputs": [],
   "source": [
    "channel_sequence = []\n",
    "\n",
    "for scene in dataset:\n",
    "    H = scene[0]['user']['channel'][100]\n",
    "    H = H.squeeze(0)\n",
    "    # 채널은 복소수 형태 \n",
    "    H_real = H.real # (32, 64) = (BS antenna, subcarrier)\n",
    "    H_imag = H.imag\n",
    "    H_concat = np.concatenate([H_real, H_imag], axis=0) \n",
    "    channel_sequence.append(H_concat)\n",
    "\n",
    "# T는 sence\n",
    "channel_sequence = np.stack(channel_sequence)  # shape: (T, 64, 64) = (real/imag쌍, subcarrier)\n",
    "\n",
    "#서브케리어를 각가의 데이터로 보고 데이터 예측 \n",
    "# 주파수 64개 10scene 있고 \n"
   ]
  },
  {
   "cell_type": "code",
   "execution_count": 33,
   "id": "8b04bbe0",
   "metadata": {},
   "outputs": [],
   "source": [
    "# 데이터 만들기\n",
    "# seq_len = 시퀀스를 잘라서 사용\n",
    "# [0,1,2,3,4], [1,2,3,4,5], [2,3,4,5,6],[3,4,5,6,7],[4,5,6,7,8],[5,6,7,8,9]\n",
    "seq_len = 5\n",
    "X = []\n",
    "y = []\n",
    "\n",
    "for i in range(len(channel_sequence) - seq_len):\n",
    "    input_seq = channel_sequence[i:i+seq_len-1] # t=0~3\n",
    "    target = channel_sequence[i+seq_len-1] # t = 4\n",
    "    \n",
    "    X.append(input_seq)\n",
    "    y.append(target)\n",
    "\n",
    "# T = scene case\n",
    "# samples = T - seq_len + 1\n",
    "X = np.array(X) # shape: (samples, seq_len-1, 64, 64)\n",
    "y = np.array(y) # shape: (samples, 64, 64)"
   ]
  },
  {
   "cell_type": "code",
   "execution_count": 34,
   "id": "62f3bce6",
   "metadata": {},
   "outputs": [
    {
     "name": "stdout",
     "output_type": "stream",
     "text": [
      "5\n"
     ]
    }
   ],
   "source": [
    "print(len(channel_sequence)-seq_len)"
   ]
  },
  {
   "cell_type": "code",
   "execution_count": 35,
   "id": "0357b60e",
   "metadata": {},
   "outputs": [],
   "source": [
    "# Flatten\n",
    "# 4096 = 64 * 64\n",
    "X_flat = X.reshape(X.shape[0], X.shape[1], -1) # (5,4,4096) = (샘플, 시퀀스 길이)\n",
    "y_flat = y.reshape(y.shape[0],-1) #(5,4096) # 샘플 대상 예측"
   ]
  },
  {
   "cell_type": "code",
   "execution_count": 36,
   "id": "2ba295df",
   "metadata": {},
   "outputs": [
    {
     "name": "stdout",
     "output_type": "stream",
     "text": [
      "(5, 4, 4096)\n",
      "(5, 4096)\n"
     ]
    }
   ],
   "source": [
    "print(X_flat.shape)\n",
    "print(y_flat.shape)"
   ]
  },
  {
   "cell_type": "code",
   "execution_count": 37,
   "id": "4d2c007c",
   "metadata": {},
   "outputs": [],
   "source": [
    "# 데이터 생성\n",
    "# 데이터 GPU로 계산하게 바꾸기\n",
    "X_t = torch.tensor(X_flat, dtype = torch.float32)\n",
    "y_t = torch.tensor(y_flat, dtype = torch.float32)\n",
    "masked_pos = torch.full((X_t.shape[0], 1), seq_len - 2, dtype=torch.long, device='cuda')  # 마지막 위치 예측\n",
    "X_t = X_t.to(device)\n",
    "y_t = y_t.to(device)"
   ]
  },
  {
   "cell_type": "code",
   "execution_count": 44,
   "id": "da7df155",
   "metadata": {},
   "outputs": [],
   "source": [
    "# 데이터 설정\n",
    "\n",
    "batch_size = 64\n",
    "\n",
    "# 전체 데이터셋\n",
    "full_dataset = TensorDataset(X_t, y_t, masked_pos)\n",
    "\n",
    "# 비율 정하기\n",
    "total_len = len(full_dataset)\n",
    "train_len = int(total_len * 0.6)\n",
    "val_len = int(total_len*0.2)\n",
    "test_len = total_len - (train_len + val_len)\n",
    "\n",
    "# 데이터 분리\n",
    "train_dataset, val_dataset, test_dataset = torch.utils.data.random_split(\n",
    "    full_dataset, [train_len, val_len, test_len])\n",
    "\n",
    "# DataLoader\n",
    "train_loader = DataLoader(train_dataset, batch_size=batch_size, shuffle=True)\n",
    "val_loader = DataLoader(val_dataset, batch_size=batch_size, shuffle=False)\n",
    "test_loader = DataLoader(test_dataset, batch_size=batch_size, shuffle=False)\n"
   ]
  },
  {
   "cell_type": "code",
   "execution_count": 45,
   "id": "b37383cc",
   "metadata": {},
   "outputs": [],
   "source": [
    "# 모델 초기화 및 gpu 이도 \n",
    "# 손실 함수 및 옵티마이저 설정\n",
    "from lwm_model import lwm\n",
    "\n",
    "element_length = 64*64 # H_real * H_imag\n",
    "\n",
    "model = lwm(element_length=element_length).to(device)\n",
    "criterion =nn.MSELoss()\n",
    "optimizer = optim.Adam(model.parameters(), lr=1e-4)\n"
   ]
  },
  {
   "cell_type": "code",
   "execution_count": 52,
   "id": "625b128d",
   "metadata": {},
   "outputs": [
    {
     "name": "stdout",
     "output_type": "stream",
     "text": [
      "Epoch 1/100 |  Train Loss: 0.000612 |  Val Loss: 0.000064\n",
      "Epoch 2/100 |  Train Loss: 0.001122 |  Val Loss: 0.000059\n",
      "Epoch 3/100 |  Train Loss: 0.000427 |  Val Loss: 0.000059\n",
      "Epoch 4/100 |  Train Loss: 0.000359 |  Val Loss: 0.000059\n",
      "Epoch 5/100 |  Train Loss: 0.000604 |  Val Loss: 0.000061\n",
      "Epoch 6/100 |  Train Loss: 0.000629 |  Val Loss: 0.000059\n",
      "Epoch 7/100 |  Train Loss: 0.000580 |  Val Loss: 0.000053\n",
      "Epoch 8/100 |  Train Loss: 0.000577 |  Val Loss: 0.000041\n",
      "Epoch 9/100 |  Train Loss: 0.000917 |  Val Loss: 0.000032\n",
      "Epoch 10/100 |  Train Loss: 0.000640 |  Val Loss: 0.000031\n",
      "Epoch 11/100 |  Train Loss: 0.000423 |  Val Loss: 0.000032\n",
      "Epoch 12/100 |  Train Loss: 0.000686 |  Val Loss: 0.000040\n",
      "Epoch 13/100 |  Train Loss: 0.000507 |  Val Loss: 0.000051\n",
      "Epoch 14/100 |  Train Loss: 0.000463 |  Val Loss: 0.000061\n",
      "Epoch 15/100 |  Train Loss: 0.000415 |  Val Loss: 0.000070\n",
      "Epoch 16/100 |  Train Loss: 0.000576 |  Val Loss: 0.000071\n",
      "Epoch 17/100 |  Train Loss: 0.000607 |  Val Loss: 0.000065\n",
      "Epoch 18/100 |  Train Loss: 0.000452 |  Val Loss: 0.000055\n",
      "Epoch 19/100 |  Train Loss: 0.000576 |  Val Loss: 0.000044\n",
      "Epoch 20/100 |  Train Loss: 0.000789 |  Val Loss: 0.000038\n",
      "Epoch 21/100 |  Train Loss: 0.000859 |  Val Loss: 0.000032\n",
      "Epoch 22/100 |  Train Loss: 0.000312 |  Val Loss: 0.000034\n",
      "Epoch 23/100 |  Train Loss: 0.000655 |  Val Loss: 0.000041\n",
      "Epoch 24/100 |  Train Loss: 0.000512 |  Val Loss: 0.000047\n",
      "Epoch 25/100 |  Train Loss: 0.000545 |  Val Loss: 0.000049\n",
      "Epoch 26/100 |  Train Loss: 0.000856 |  Val Loss: 0.000045\n",
      "Epoch 27/100 |  Train Loss: 0.000697 |  Val Loss: 0.000038\n",
      "Epoch 28/100 |  Train Loss: 0.000545 |  Val Loss: 0.000032\n",
      "Epoch 29/100 |  Train Loss: 0.000508 |  Val Loss: 0.000030\n",
      "Epoch 30/100 |  Train Loss: 0.000405 |  Val Loss: 0.000030\n",
      "Epoch 31/100 |  Train Loss: 0.000536 |  Val Loss: 0.000032\n",
      "Epoch 32/100 |  Train Loss: 0.000639 |  Val Loss: 0.000033\n",
      "Epoch 33/100 |  Train Loss: 0.000614 |  Val Loss: 0.000034\n",
      "Epoch 34/100 |  Train Loss: 0.000733 |  Val Loss: 0.000032\n",
      "Epoch 35/100 |  Train Loss: 0.000681 |  Val Loss: 0.000031\n",
      "Epoch 36/100 |  Train Loss: 0.000372 |  Val Loss: 0.000032\n",
      "Epoch 37/100 |  Train Loss: 0.000489 |  Val Loss: 0.000035\n",
      "Epoch 38/100 |  Train Loss: 0.000472 |  Val Loss: 0.000038\n",
      "Epoch 39/100 |  Train Loss: 0.000664 |  Val Loss: 0.000042\n",
      "Epoch 40/100 |  Train Loss: 0.000519 |  Val Loss: 0.000044\n",
      "Epoch 41/100 |  Train Loss: 0.000767 |  Val Loss: 0.000043\n",
      "Epoch 42/100 |  Train Loss: 0.000695 |  Val Loss: 0.000044\n",
      "Epoch 43/100 |  Train Loss: 0.000906 |  Val Loss: 0.000047\n",
      "Epoch 44/100 |  Train Loss: 0.000602 |  Val Loss: 0.000057\n",
      "Epoch 45/100 |  Train Loss: 0.000582 |  Val Loss: 0.000064\n",
      "Epoch 46/100 |  Train Loss: 0.000501 |  Val Loss: 0.000064\n",
      "Epoch 47/100 |  Train Loss: 0.000419 |  Val Loss: 0.000059\n",
      "Epoch 48/100 |  Train Loss: 0.000729 |  Val Loss: 0.000050\n",
      "Epoch 49/100 |  Train Loss: 0.000808 |  Val Loss: 0.000041\n",
      "Epoch 50/100 |  Train Loss: 0.000865 |  Val Loss: 0.000037\n",
      "Epoch 51/100 |  Train Loss: 0.000587 |  Val Loss: 0.000042\n",
      "Epoch 52/100 |  Train Loss: 0.000451 |  Val Loss: 0.000055\n",
      "Epoch 53/100 |  Train Loss: 0.000526 |  Val Loss: 0.000061\n",
      "Epoch 54/100 |  Train Loss: 0.000621 |  Val Loss: 0.000067\n",
      "Epoch 55/100 |  Train Loss: 0.000533 |  Val Loss: 0.000070\n",
      "Epoch 56/100 |  Train Loss: 0.000398 |  Val Loss: 0.000068\n",
      "Epoch 57/100 |  Train Loss: 0.000622 |  Val Loss: 0.000061\n",
      "Epoch 58/100 |  Train Loss: 0.000751 |  Val Loss: 0.000053\n",
      "Epoch 59/100 |  Train Loss: 0.000469 |  Val Loss: 0.000044\n",
      "Epoch 60/100 |  Train Loss: 0.000583 |  Val Loss: 0.000038\n",
      "Epoch 61/100 |  Train Loss: 0.000613 |  Val Loss: 0.000032\n",
      "Epoch 62/100 |  Train Loss: 0.000517 |  Val Loss: 0.000035\n",
      "Epoch 63/100 |  Train Loss: 0.000645 |  Val Loss: 0.000044\n",
      "Epoch 64/100 |  Train Loss: 0.000501 |  Val Loss: 0.000049\n",
      "Epoch 65/100 |  Train Loss: 0.000655 |  Val Loss: 0.000050\n",
      "Epoch 66/100 |  Train Loss: 0.000527 |  Val Loss: 0.000051\n",
      "Epoch 67/100 |  Train Loss: 0.000580 |  Val Loss: 0.000052\n",
      "Epoch 68/100 |  Train Loss: 0.000496 |  Val Loss: 0.000053\n",
      "Epoch 69/100 |  Train Loss: 0.000441 |  Val Loss: 0.000055\n",
      "Epoch 70/100 |  Train Loss: 0.000490 |  Val Loss: 0.000059\n",
      "Epoch 71/100 |  Train Loss: 0.000585 |  Val Loss: 0.000063\n",
      "Epoch 72/100 |  Train Loss: 0.000820 |  Val Loss: 0.000063\n",
      "Epoch 73/100 |  Train Loss: 0.000589 |  Val Loss: 0.000071\n",
      "Epoch 74/100 |  Train Loss: 0.000511 |  Val Loss: 0.000078\n",
      "Epoch 75/100 |  Train Loss: 0.000509 |  Val Loss: 0.000084\n",
      "Epoch 76/100 |  Train Loss: 0.000529 |  Val Loss: 0.000088\n",
      "Epoch 77/100 |  Train Loss: 0.000783 |  Val Loss: 0.000098\n",
      "Epoch 78/100 |  Train Loss: 0.000639 |  Val Loss: 0.000099\n",
      "Epoch 79/100 |  Train Loss: 0.000581 |  Val Loss: 0.000094\n",
      "Epoch 80/100 |  Train Loss: 0.000826 |  Val Loss: 0.000086\n",
      "Epoch 81/100 |  Train Loss: 0.000909 |  Val Loss: 0.000075\n",
      "Epoch 82/100 |  Train Loss: 0.000608 |  Val Loss: 0.000065\n",
      "Epoch 83/100 |  Train Loss: 0.000463 |  Val Loss: 0.000057\n",
      "Epoch 84/100 |  Train Loss: 0.000586 |  Val Loss: 0.000049\n",
      "Epoch 85/100 |  Train Loss: 0.000876 |  Val Loss: 0.000040\n",
      "Epoch 86/100 |  Train Loss: 0.000524 |  Val Loss: 0.000039\n",
      "Epoch 87/100 |  Train Loss: 0.000652 |  Val Loss: 0.000045\n",
      "Epoch 88/100 |  Train Loss: 0.000512 |  Val Loss: 0.000053\n",
      "Epoch 89/100 |  Train Loss: 0.000465 |  Val Loss: 0.000062\n",
      "Epoch 90/100 |  Train Loss: 0.000516 |  Val Loss: 0.000067\n",
      "Epoch 91/100 |  Train Loss: 0.000414 |  Val Loss: 0.000069\n",
      "Epoch 92/100 |  Train Loss: 0.000574 |  Val Loss: 0.000072\n",
      "Epoch 93/100 |  Train Loss: 0.000324 |  Val Loss: 0.000073\n",
      "Epoch 94/100 |  Train Loss: 0.000636 |  Val Loss: 0.000071\n",
      "Epoch 95/100 |  Train Loss: 0.000624 |  Val Loss: 0.000066\n",
      "Epoch 96/100 |  Train Loss: 0.000552 |  Val Loss: 0.000064\n",
      "Epoch 97/100 |  Train Loss: 0.000488 |  Val Loss: 0.000068\n",
      "Epoch 98/100 |  Train Loss: 0.000630 |  Val Loss: 0.000067\n",
      "Epoch 99/100 |  Train Loss: 0.000408 |  Val Loss: 0.000067\n",
      "Epoch 100/100 |  Train Loss: 0.000356 |  Val Loss: 0.000069\n",
      "\n",
      "⏱️ 전체 학습 시간: 8.95초\n"
     ]
    }
   ],
   "source": [
    "# 모델학습\n",
    "import time\n",
    "start = time.time()\n",
    "\n",
    "num_epochs = 100\n",
    "for epoch in range(num_epochs):\n",
    "    model.train()\n",
    "    train_loss = 0.0\n",
    "\n",
    "    for X_batch, y_batch, masked_batch in train_loader:\n",
    "        X_batch = X_batch.to(device)\n",
    "        y_batch = y_batch.to(device)\n",
    "        masked_batch = masked_batch.to(device)\n",
    "\n",
    "        optimizer.zero_grad()\n",
    "        pred, _ = model(X_batch, masked_batch)  # ← masked_pos 사용\n",
    "        pred = pred.squeeze(1)  # (batch, 1, 4096) → (batch, 4096)\n",
    "\n",
    "        loss = criterion(pred, y_batch)\n",
    "        loss.backward()\n",
    "        optimizer.step()\n",
    "\n",
    "        train_loss += loss.item()\n",
    "\n",
    "    # 🔍 검증 루프 (Validation)\n",
    "    model.eval()\n",
    "    val_loss = 0.0\n",
    "    with torch.no_grad():\n",
    "        for X_val, y_val, masked_val in val_loader:\n",
    "            X_val = X_val.to(device)\n",
    "            y_val = y_val.to(device)\n",
    "            masked_val = masked_val.to(device)\n",
    "\n",
    "            val_pred, _ = model(X_val, masked_val)\n",
    "            val_pred = val_pred.squeeze(1)\n",
    "\n",
    "            loss = criterion(val_pred, y_val)\n",
    "            val_loss += loss.item()\n",
    "\n",
    "    print(f\"Epoch {epoch+1}/{num_epochs} |  Train Loss: {train_loss/len(train_loader):.6f} |  Val Loss: {val_loss/len(val_loader):.6f}\")\n",
    "\n",
    "end = time.time()\n",
    "print(f\"\\n⏱️ 전체 학습 시간: {round(end - start, 2)}초\")\n"
   ]
  },
  {
   "cell_type": "code",
   "execution_count": 53,
   "id": "342ea1e7",
   "metadata": {},
   "outputs": [
    {
     "name": "stdout",
     "output_type": "stream",
     "text": [
      "Final Test NMSE: 141183844352.000000\n"
     ]
    }
   ],
   "source": [
    "def nmse_metric(H_pred, H_true):\n",
    "    # 그대로 사용 (기존 정의)\n",
    "    # H_pred, H_true: shape (batch, 32, 64)\n",
    "    num = torch.sum((H_pred - H_true)**2, dim=[1, 2])\n",
    "    den = torch.sum((H_true)**2, dim=[1, 2])\n",
    "    nmse_vals = num / (den + 1e-12)\n",
    "    return torch.mean(nmse_vals)\n",
    "\n",
    "# ... 학습이 끝난 뒤 ...\n",
    "\n",
    "\n",
    "model.eval()\n",
    "test_nmse = 0.0\n",
    "count = 0\n",
    "\n",
    "with torch.no_grad():\n",
    "    for X_batch, y_batch, masked_batch in test_loader:\n",
    "        # GPU로 이동\n",
    "        X_batch = X_batch.to(device)\n",
    "        y_batch = y_batch.to(device)\n",
    "        masked_batch = masked_batch.to(device)\n",
    "\n",
    "        # 모델 예측\n",
    "        pred, _ = model(X_batch, masked_batch)  # shape: (batch, 1, 2048) or (batch, 1, 4096)\n",
    "        pred = pred.squeeze(1)                 # shape: (batch, 2048)\n",
    "\n",
    "        # reshape to (batch, 32, 64)\n",
    "        H_pred = pred.view(-1, 32, 64)         # (batch, 32, 64)\n",
    "        H_true = y_batch.view(-1, 32, 64)      # (batch, 32, 64)\n",
    "\n",
    "        nmse_val = nmse_metric(H_pred, H_true)\n",
    "        test_nmse += nmse_val.item()\n",
    "        count += 1\n",
    "\n",
    "test_nmse /= count\n",
    "print(f\"Final Test NMSE: {test_nmse:.6f}\")\n"
   ]
  },
  {
   "cell_type": "code",
   "execution_count": null,
   "id": "72376ae4",
   "metadata": {},
   "outputs": [],
   "source": []
  },
  {
   "cell_type": "code",
   "execution_count": null,
   "id": "d632bcb2",
   "metadata": {},
   "outputs": [],
   "source": []
  },
  {
   "cell_type": "code",
   "execution_count": null,
   "id": "ba1fdcce",
   "metadata": {},
   "outputs": [],
   "source": []
  },
  {
   "cell_type": "code",
   "execution_count": 15,
   "id": "357de029",
   "metadata": {},
   "outputs": [
    {
     "name": "stdout",
     "output_type": "stream",
     "text": [
      "[[[[0.+0.j 0.+0.j 0.+0.j ... 0.+0.j 0.+0.j 0.+0.j]\n",
      "   [0.+0.j 0.+0.j 0.+0.j ... 0.+0.j 0.+0.j 0.+0.j]\n",
      "   [0.+0.j 0.+0.j 0.+0.j ... 0.+0.j 0.+0.j 0.+0.j]\n",
      "   ...\n",
      "   [0.+0.j 0.+0.j 0.+0.j ... 0.+0.j 0.+0.j 0.+0.j]\n",
      "   [0.+0.j 0.+0.j 0.+0.j ... 0.+0.j 0.+0.j 0.+0.j]\n",
      "   [0.+0.j 0.+0.j 0.+0.j ... 0.+0.j 0.+0.j 0.+0.j]]]\n",
      "\n",
      "\n",
      " [[[0.+0.j 0.+0.j 0.+0.j ... 0.+0.j 0.+0.j 0.+0.j]\n",
      "   [0.+0.j 0.+0.j 0.+0.j ... 0.+0.j 0.+0.j 0.+0.j]\n",
      "   [0.+0.j 0.+0.j 0.+0.j ... 0.+0.j 0.+0.j 0.+0.j]\n",
      "   ...\n",
      "   [0.+0.j 0.+0.j 0.+0.j ... 0.+0.j 0.+0.j 0.+0.j]\n",
      "   [0.+0.j 0.+0.j 0.+0.j ... 0.+0.j 0.+0.j 0.+0.j]\n",
      "   [0.+0.j 0.+0.j 0.+0.j ... 0.+0.j 0.+0.j 0.+0.j]]]\n",
      "\n",
      "\n",
      " [[[0.+0.j 0.+0.j 0.+0.j ... 0.+0.j 0.+0.j 0.+0.j]\n",
      "   [0.+0.j 0.+0.j 0.+0.j ... 0.+0.j 0.+0.j 0.+0.j]\n",
      "   [0.+0.j 0.+0.j 0.+0.j ... 0.+0.j 0.+0.j 0.+0.j]\n",
      "   ...\n",
      "   [0.+0.j 0.+0.j 0.+0.j ... 0.+0.j 0.+0.j 0.+0.j]\n",
      "   [0.+0.j 0.+0.j 0.+0.j ... 0.+0.j 0.+0.j 0.+0.j]\n",
      "   [0.+0.j 0.+0.j 0.+0.j ... 0.+0.j 0.+0.j 0.+0.j]]]\n",
      "\n",
      "\n",
      " ...\n",
      "\n",
      "\n",
      " [[[0.+0.j 0.+0.j 0.+0.j ... 0.+0.j 0.+0.j 0.+0.j]\n",
      "   [0.+0.j 0.+0.j 0.+0.j ... 0.+0.j 0.+0.j 0.+0.j]\n",
      "   [0.+0.j 0.+0.j 0.+0.j ... 0.+0.j 0.+0.j 0.+0.j]\n",
      "   ...\n",
      "   [0.+0.j 0.+0.j 0.+0.j ... 0.+0.j 0.+0.j 0.+0.j]\n",
      "   [0.+0.j 0.+0.j 0.+0.j ... 0.+0.j 0.+0.j 0.+0.j]\n",
      "   [0.+0.j 0.+0.j 0.+0.j ... 0.+0.j 0.+0.j 0.+0.j]]]\n",
      "\n",
      "\n",
      " [[[0.+0.j 0.+0.j 0.+0.j ... 0.+0.j 0.+0.j 0.+0.j]\n",
      "   [0.+0.j 0.+0.j 0.+0.j ... 0.+0.j 0.+0.j 0.+0.j]\n",
      "   [0.+0.j 0.+0.j 0.+0.j ... 0.+0.j 0.+0.j 0.+0.j]\n",
      "   ...\n",
      "   [0.+0.j 0.+0.j 0.+0.j ... 0.+0.j 0.+0.j 0.+0.j]\n",
      "   [0.+0.j 0.+0.j 0.+0.j ... 0.+0.j 0.+0.j 0.+0.j]\n",
      "   [0.+0.j 0.+0.j 0.+0.j ... 0.+0.j 0.+0.j 0.+0.j]]]\n",
      "\n",
      "\n",
      " [[[0.+0.j 0.+0.j 0.+0.j ... 0.+0.j 0.+0.j 0.+0.j]\n",
      "   [0.+0.j 0.+0.j 0.+0.j ... 0.+0.j 0.+0.j 0.+0.j]\n",
      "   [0.+0.j 0.+0.j 0.+0.j ... 0.+0.j 0.+0.j 0.+0.j]\n",
      "   ...\n",
      "   [0.+0.j 0.+0.j 0.+0.j ... 0.+0.j 0.+0.j 0.+0.j]\n",
      "   [0.+0.j 0.+0.j 0.+0.j ... 0.+0.j 0.+0.j 0.+0.j]\n",
      "   [0.+0.j 0.+0.j 0.+0.j ... 0.+0.j 0.+0.j 0.+0.j]]]]\n"
     ]
    }
   ],
   "source": [
    "print(dataset[0][0]['user']['channel'])"
   ]
  },
  {
   "cell_type": "code",
   "execution_count": 53,
   "id": "43cc1865",
   "metadata": {},
   "outputs": [],
   "source": [
    "# (예: 사용자 0번, 위치 index 100, scene 0~9까지)\n",
    "# 같은 사용자의 같은 위치에서 시간에 따라 채널이 변하는지\n",
    "\n",
    "ue_idx = 0\n",
    "loc_idx = 100\n",
    "channel_sequence = []\n",
    "\n",
    "for scene in dataset:\n",
    "    channel = scene[ue_idx]['user']['channel']\n",
    "    h = channel[loc_idx, 0, :, 0]  # shape: (32,)\n",
    "    channel_sequence.append(h)\n",
    "\n",
    "channel_sequence = np.stack(channel_sequence)  # shape: (T, 32)\n"
   ]
  },
  {
   "cell_type": "code",
   "execution_count": 65,
   "id": "7a7ecf41",
   "metadata": {},
   "outputs": [
    {
     "name": "stdout",
     "output_type": "stream",
     "text": [
      "입력 시퀀스 X: (5, 5, 32)\n",
      "예측 대상 y: (5, 32)\n",
      "tensor([[4],\n",
      "        [4],\n",
      "        [4],\n",
      "        [4],\n",
      "        [4]])\n"
     ]
    }
   ],
   "source": [
    "# 입출력 시퀀스\n",
    "import numpy as np\n",
    "\n",
    "#batch_size\n",
    "seq_len = 5\n",
    "\n",
    "X = []\n",
    "y = []\n",
    "\n",
    "for i in range(len(channel_sequence) - seq_len):\n",
    "    # shape: (seq_len, features)\n",
    "    # target: (features)\n",
    "    input_seq = channel_sequence[i:i+seq_len]\n",
    "    target = channel_sequence[i+seq_len]\n",
    "    \n",
    "    X.append(input_seq)\n",
    "    y.append(target)\n",
    "\n",
    "\n",
    "\n",
    "X = np.array(X)\n",
    "y = np.array(y)\n",
    "# 마스킹 위치 \n",
    "masked_pos = torch.full((X.shape[0], 1), seq_len - 1, dtype=torch.long)\n",
    "\n",
    "print(\"입력 시퀀스 X:\", X.shape)\n",
    "print(\"예측 대상 y:\", y.shape)\n",
    "print(masked_pos)"
   ]
  },
  {
   "cell_type": "code",
   "execution_count": 55,
   "id": "f0bf5120",
   "metadata": {},
   "outputs": [],
   "source": [
    "# 데이터 텐서로 바꾸기\n",
    "import torch\n",
    "\n",
    "X_t = torch.tensor(X, dtype=torch.float32, device=device)  # shape: (samples, seq_len, element_length)\n",
    "y_t = torch.tensor(y, dtype=torch.float32, device=device)  # shape: (samples, element_length)\n"
   ]
  },
  {
   "cell_type": "code",
   "execution_count": 56,
   "id": "dc547493",
   "metadata": {},
   "outputs": [],
   "source": [
    "# DataLoader로 묶기\n",
    "from torch.utils.data import TensorDataset, DataLoader\n",
    "\n",
    "train_dataset = TensorDataset(X_t, y_t)\n",
    "train_loader = DataLoader(train_dataset, batch_size = 32, shuffle=True)"
   ]
  },
  {
   "cell_type": "code",
   "execution_count": 57,
   "id": "9fe4d354",
   "metadata": {},
   "outputs": [],
   "source": [
    "# LWM 모델 가져오기\n",
    "from lwm_model import lwm\n",
    "import torch.nn as nn\n",
    "import torch.optim as optim\n",
    "\n",
    "element_length = 64 # 32 imag채널 + 32 real채널\n",
    "\n",
    "device = 'cuda' if torch.cuda.is_available() else 'cpu'\n",
    "\n",
    "model = lwm(element_length=element_length).to(device)\n",
    "optimizer = optim.Adam(model.parameters(), lr=1e-4)\n",
    "criterion = nn.MSELoss()"
   ]
  },
  {
   "cell_type": "code",
   "execution_count": 67,
   "id": "d27a2a23",
   "metadata": {},
   "outputs": [
    {
     "ename": "RuntimeError",
     "evalue": "mat1 and mat2 shapes cannot be multiplied (25x32 and 64x64)",
     "output_type": "error",
     "traceback": [
      "\u001b[1;31m---------------------------------------------------------------------------\u001b[0m",
      "\u001b[1;31mRuntimeError\u001b[0m                              Traceback (most recent call last)",
      "Cell \u001b[1;32mIn[67], line 15\u001b[0m\n\u001b[0;32m     12\u001b[0m masked_pos \u001b[38;5;241m=\u001b[39m masked_pos\n\u001b[0;32m     14\u001b[0m optimizer\u001b[38;5;241m.\u001b[39mzero_grad()\n\u001b[1;32m---> 15\u001b[0m pred, _ \u001b[38;5;241m=\u001b[39m model(X_batch, masked_pos)\n\u001b[0;32m     16\u001b[0m pred \u001b[38;5;241m=\u001b[39m pred\u001b[38;5;241m.\u001b[39msqueeze(\u001b[38;5;241m1\u001b[39m)\n\u001b[0;32m     18\u001b[0m loss \u001b[38;5;241m=\u001b[39m criterion(pred, y_batch)\n",
      "File \u001b[1;32m~\\anaconda3\\Lib\\site-packages\\torch\\nn\\modules\\module.py:1518\u001b[0m, in \u001b[0;36mModule._wrapped_call_impl\u001b[1;34m(self, *args, **kwargs)\u001b[0m\n\u001b[0;32m   1516\u001b[0m     \u001b[38;5;28;01mreturn\u001b[39;00m \u001b[38;5;28mself\u001b[39m\u001b[38;5;241m.\u001b[39m_compiled_call_impl(\u001b[38;5;241m*\u001b[39margs, \u001b[38;5;241m*\u001b[39m\u001b[38;5;241m*\u001b[39mkwargs)  \u001b[38;5;66;03m# type: ignore[misc]\u001b[39;00m\n\u001b[0;32m   1517\u001b[0m \u001b[38;5;28;01melse\u001b[39;00m:\n\u001b[1;32m-> 1518\u001b[0m     \u001b[38;5;28;01mreturn\u001b[39;00m \u001b[38;5;28mself\u001b[39m\u001b[38;5;241m.\u001b[39m_call_impl(\u001b[38;5;241m*\u001b[39margs, \u001b[38;5;241m*\u001b[39m\u001b[38;5;241m*\u001b[39mkwargs)\n",
      "File \u001b[1;32m~\\anaconda3\\Lib\\site-packages\\torch\\nn\\modules\\module.py:1527\u001b[0m, in \u001b[0;36mModule._call_impl\u001b[1;34m(self, *args, **kwargs)\u001b[0m\n\u001b[0;32m   1522\u001b[0m \u001b[38;5;66;03m# If we don't have any hooks, we want to skip the rest of the logic in\u001b[39;00m\n\u001b[0;32m   1523\u001b[0m \u001b[38;5;66;03m# this function, and just call forward.\u001b[39;00m\n\u001b[0;32m   1524\u001b[0m \u001b[38;5;28;01mif\u001b[39;00m \u001b[38;5;129;01mnot\u001b[39;00m (\u001b[38;5;28mself\u001b[39m\u001b[38;5;241m.\u001b[39m_backward_hooks \u001b[38;5;129;01mor\u001b[39;00m \u001b[38;5;28mself\u001b[39m\u001b[38;5;241m.\u001b[39m_backward_pre_hooks \u001b[38;5;129;01mor\u001b[39;00m \u001b[38;5;28mself\u001b[39m\u001b[38;5;241m.\u001b[39m_forward_hooks \u001b[38;5;129;01mor\u001b[39;00m \u001b[38;5;28mself\u001b[39m\u001b[38;5;241m.\u001b[39m_forward_pre_hooks\n\u001b[0;32m   1525\u001b[0m         \u001b[38;5;129;01mor\u001b[39;00m _global_backward_pre_hooks \u001b[38;5;129;01mor\u001b[39;00m _global_backward_hooks\n\u001b[0;32m   1526\u001b[0m         \u001b[38;5;129;01mor\u001b[39;00m _global_forward_hooks \u001b[38;5;129;01mor\u001b[39;00m _global_forward_pre_hooks):\n\u001b[1;32m-> 1527\u001b[0m     \u001b[38;5;28;01mreturn\u001b[39;00m forward_call(\u001b[38;5;241m*\u001b[39margs, \u001b[38;5;241m*\u001b[39m\u001b[38;5;241m*\u001b[39mkwargs)\n\u001b[0;32m   1529\u001b[0m \u001b[38;5;28;01mtry\u001b[39;00m:\n\u001b[0;32m   1530\u001b[0m     result \u001b[38;5;241m=\u001b[39m \u001b[38;5;28;01mNone\u001b[39;00m\n",
      "File \u001b[1;32m~\\졸업프로젝트\\LWM\\lwm_model.py:125\u001b[0m, in \u001b[0;36mlwm.forward\u001b[1;34m(self, input_ids, masked_pos)\u001b[0m\n\u001b[0;32m    124\u001b[0m \u001b[38;5;28;01mdef\u001b[39;00m \u001b[38;5;21mforward\u001b[39m(\u001b[38;5;28mself\u001b[39m, input_ids, masked_pos):\n\u001b[1;32m--> 125\u001b[0m     output \u001b[38;5;241m=\u001b[39m \u001b[38;5;28mself\u001b[39m\u001b[38;5;241m.\u001b[39membedding(input_ids)\n\u001b[0;32m    126\u001b[0m     \u001b[38;5;28;01mfor\u001b[39;00m layer \u001b[38;5;129;01min\u001b[39;00m \u001b[38;5;28mself\u001b[39m\u001b[38;5;241m.\u001b[39mlayers:\n\u001b[0;32m    127\u001b[0m         output, _ \u001b[38;5;241m=\u001b[39m layer(output)\n",
      "File \u001b[1;32m~\\anaconda3\\Lib\\site-packages\\torch\\nn\\modules\\module.py:1518\u001b[0m, in \u001b[0;36mModule._wrapped_call_impl\u001b[1;34m(self, *args, **kwargs)\u001b[0m\n\u001b[0;32m   1516\u001b[0m     \u001b[38;5;28;01mreturn\u001b[39;00m \u001b[38;5;28mself\u001b[39m\u001b[38;5;241m.\u001b[39m_compiled_call_impl(\u001b[38;5;241m*\u001b[39margs, \u001b[38;5;241m*\u001b[39m\u001b[38;5;241m*\u001b[39mkwargs)  \u001b[38;5;66;03m# type: ignore[misc]\u001b[39;00m\n\u001b[0;32m   1517\u001b[0m \u001b[38;5;28;01melse\u001b[39;00m:\n\u001b[1;32m-> 1518\u001b[0m     \u001b[38;5;28;01mreturn\u001b[39;00m \u001b[38;5;28mself\u001b[39m\u001b[38;5;241m.\u001b[39m_call_impl(\u001b[38;5;241m*\u001b[39margs, \u001b[38;5;241m*\u001b[39m\u001b[38;5;241m*\u001b[39mkwargs)\n",
      "File \u001b[1;32m~\\anaconda3\\Lib\\site-packages\\torch\\nn\\modules\\module.py:1527\u001b[0m, in \u001b[0;36mModule._call_impl\u001b[1;34m(self, *args, **kwargs)\u001b[0m\n\u001b[0;32m   1522\u001b[0m \u001b[38;5;66;03m# If we don't have any hooks, we want to skip the rest of the logic in\u001b[39;00m\n\u001b[0;32m   1523\u001b[0m \u001b[38;5;66;03m# this function, and just call forward.\u001b[39;00m\n\u001b[0;32m   1524\u001b[0m \u001b[38;5;28;01mif\u001b[39;00m \u001b[38;5;129;01mnot\u001b[39;00m (\u001b[38;5;28mself\u001b[39m\u001b[38;5;241m.\u001b[39m_backward_hooks \u001b[38;5;129;01mor\u001b[39;00m \u001b[38;5;28mself\u001b[39m\u001b[38;5;241m.\u001b[39m_backward_pre_hooks \u001b[38;5;129;01mor\u001b[39;00m \u001b[38;5;28mself\u001b[39m\u001b[38;5;241m.\u001b[39m_forward_hooks \u001b[38;5;129;01mor\u001b[39;00m \u001b[38;5;28mself\u001b[39m\u001b[38;5;241m.\u001b[39m_forward_pre_hooks\n\u001b[0;32m   1525\u001b[0m         \u001b[38;5;129;01mor\u001b[39;00m _global_backward_pre_hooks \u001b[38;5;129;01mor\u001b[39;00m _global_backward_hooks\n\u001b[0;32m   1526\u001b[0m         \u001b[38;5;129;01mor\u001b[39;00m _global_forward_hooks \u001b[38;5;129;01mor\u001b[39;00m _global_forward_pre_hooks):\n\u001b[1;32m-> 1527\u001b[0m     \u001b[38;5;28;01mreturn\u001b[39;00m forward_call(\u001b[38;5;241m*\u001b[39margs, \u001b[38;5;241m*\u001b[39m\u001b[38;5;241m*\u001b[39mkwargs)\n\u001b[0;32m   1529\u001b[0m \u001b[38;5;28;01mtry\u001b[39;00m:\n\u001b[0;32m   1530\u001b[0m     result \u001b[38;5;241m=\u001b[39m \u001b[38;5;28;01mNone\u001b[39;00m\n",
      "File \u001b[1;32m~\\졸업프로젝트\\LWM\\lwm_model.py:41\u001b[0m, in \u001b[0;36mEmbedding.forward\u001b[1;34m(self, x)\u001b[0m\n\u001b[0;32m     39\u001b[0m pos \u001b[38;5;241m=\u001b[39m torch\u001b[38;5;241m.\u001b[39marange(seq_len, dtype\u001b[38;5;241m=\u001b[39mtorch\u001b[38;5;241m.\u001b[39mlong, device\u001b[38;5;241m=\u001b[39mx\u001b[38;5;241m.\u001b[39mdevice)\n\u001b[0;32m     40\u001b[0m pos \u001b[38;5;241m=\u001b[39m pos\u001b[38;5;241m.\u001b[39munsqueeze(\u001b[38;5;241m0\u001b[39m)\u001b[38;5;241m.\u001b[39mexpand_as(x[:, :, \u001b[38;5;241m0\u001b[39m])\n\u001b[1;32m---> 41\u001b[0m tok_emb \u001b[38;5;241m=\u001b[39m \u001b[38;5;28mself\u001b[39m\u001b[38;5;241m.\u001b[39mproj(x\u001b[38;5;241m.\u001b[39mfloat())  \n\u001b[0;32m     42\u001b[0m embedding \u001b[38;5;241m=\u001b[39m tok_emb \u001b[38;5;241m+\u001b[39m \u001b[38;5;28mself\u001b[39m\u001b[38;5;241m.\u001b[39mpos_embed(pos)\n\u001b[0;32m     43\u001b[0m \u001b[38;5;28;01mreturn\u001b[39;00m \u001b[38;5;28mself\u001b[39m\u001b[38;5;241m.\u001b[39mnorm(embedding)\n",
      "File \u001b[1;32m~\\anaconda3\\Lib\\site-packages\\torch\\nn\\modules\\module.py:1518\u001b[0m, in \u001b[0;36mModule._wrapped_call_impl\u001b[1;34m(self, *args, **kwargs)\u001b[0m\n\u001b[0;32m   1516\u001b[0m     \u001b[38;5;28;01mreturn\u001b[39;00m \u001b[38;5;28mself\u001b[39m\u001b[38;5;241m.\u001b[39m_compiled_call_impl(\u001b[38;5;241m*\u001b[39margs, \u001b[38;5;241m*\u001b[39m\u001b[38;5;241m*\u001b[39mkwargs)  \u001b[38;5;66;03m# type: ignore[misc]\u001b[39;00m\n\u001b[0;32m   1517\u001b[0m \u001b[38;5;28;01melse\u001b[39;00m:\n\u001b[1;32m-> 1518\u001b[0m     \u001b[38;5;28;01mreturn\u001b[39;00m \u001b[38;5;28mself\u001b[39m\u001b[38;5;241m.\u001b[39m_call_impl(\u001b[38;5;241m*\u001b[39margs, \u001b[38;5;241m*\u001b[39m\u001b[38;5;241m*\u001b[39mkwargs)\n",
      "File \u001b[1;32m~\\anaconda3\\Lib\\site-packages\\torch\\nn\\modules\\module.py:1527\u001b[0m, in \u001b[0;36mModule._call_impl\u001b[1;34m(self, *args, **kwargs)\u001b[0m\n\u001b[0;32m   1522\u001b[0m \u001b[38;5;66;03m# If we don't have any hooks, we want to skip the rest of the logic in\u001b[39;00m\n\u001b[0;32m   1523\u001b[0m \u001b[38;5;66;03m# this function, and just call forward.\u001b[39;00m\n\u001b[0;32m   1524\u001b[0m \u001b[38;5;28;01mif\u001b[39;00m \u001b[38;5;129;01mnot\u001b[39;00m (\u001b[38;5;28mself\u001b[39m\u001b[38;5;241m.\u001b[39m_backward_hooks \u001b[38;5;129;01mor\u001b[39;00m \u001b[38;5;28mself\u001b[39m\u001b[38;5;241m.\u001b[39m_backward_pre_hooks \u001b[38;5;129;01mor\u001b[39;00m \u001b[38;5;28mself\u001b[39m\u001b[38;5;241m.\u001b[39m_forward_hooks \u001b[38;5;129;01mor\u001b[39;00m \u001b[38;5;28mself\u001b[39m\u001b[38;5;241m.\u001b[39m_forward_pre_hooks\n\u001b[0;32m   1525\u001b[0m         \u001b[38;5;129;01mor\u001b[39;00m _global_backward_pre_hooks \u001b[38;5;129;01mor\u001b[39;00m _global_backward_hooks\n\u001b[0;32m   1526\u001b[0m         \u001b[38;5;129;01mor\u001b[39;00m _global_forward_hooks \u001b[38;5;129;01mor\u001b[39;00m _global_forward_pre_hooks):\n\u001b[1;32m-> 1527\u001b[0m     \u001b[38;5;28;01mreturn\u001b[39;00m forward_call(\u001b[38;5;241m*\u001b[39margs, \u001b[38;5;241m*\u001b[39m\u001b[38;5;241m*\u001b[39mkwargs)\n\u001b[0;32m   1529\u001b[0m \u001b[38;5;28;01mtry\u001b[39;00m:\n\u001b[0;32m   1530\u001b[0m     result \u001b[38;5;241m=\u001b[39m \u001b[38;5;28;01mNone\u001b[39;00m\n",
      "File \u001b[1;32m~\\anaconda3\\Lib\\site-packages\\torch\\nn\\modules\\linear.py:114\u001b[0m, in \u001b[0;36mLinear.forward\u001b[1;34m(self, input)\u001b[0m\n\u001b[0;32m    113\u001b[0m \u001b[38;5;28;01mdef\u001b[39;00m \u001b[38;5;21mforward\u001b[39m(\u001b[38;5;28mself\u001b[39m, \u001b[38;5;28minput\u001b[39m: Tensor) \u001b[38;5;241m-\u001b[39m\u001b[38;5;241m>\u001b[39m Tensor:\n\u001b[1;32m--> 114\u001b[0m     \u001b[38;5;28;01mreturn\u001b[39;00m F\u001b[38;5;241m.\u001b[39mlinear(\u001b[38;5;28minput\u001b[39m, \u001b[38;5;28mself\u001b[39m\u001b[38;5;241m.\u001b[39mweight, \u001b[38;5;28mself\u001b[39m\u001b[38;5;241m.\u001b[39mbias)\n",
      "\u001b[1;31mRuntimeError\u001b[0m: mat1 and mat2 shapes cannot be multiplied (25x32 and 64x64)"
     ]
    }
   ],
   "source": [
    "# 모델 학습\n",
    "num_epochs = 5\n",
    "\n",
    "for epoch in range(num_epochs):\n",
    "    model.train()\n",
    "    running_loss = 0.0\n",
    "\n",
    "    for X_batch, y_batch in train_loader:\n",
    "        X_batch, y_batch = X_batch.to(device), y_batch.to(device)\n",
    "\n",
    "        seq_len = X_batch.shape[1]\n",
    "        masked_pos = masked_pos\n",
    "        \n",
    "        optimizer.zero_grad()\n",
    "        pred, _ = model(X_batch, masked_pos)\n",
    "        pred = pred.squeeze(1)\n",
    "        \n",
    "        loss = criterion(pred, y_batch)\n",
    "        loss.backward()\n",
    "        optimizer.step()\n",
    "\n",
    "        running_loss += loss.item()\n",
    "\n",
    "    print(f\"Epoch [{epoch+1}/{num_epochs}], Loss: {running_loss/len(train_loader):.6f}\")\n"
   ]
  },
  {
   "cell_type": "code",
   "execution_count": null,
   "id": "fdf21c18",
   "metadata": {},
   "outputs": [],
   "source": []
  },
  {
   "cell_type": "code",
   "execution_count": null,
   "id": "88a7eedd",
   "metadata": {},
   "outputs": [],
   "source": []
  },
  {
   "cell_type": "code",
   "execution_count": 22,
   "id": "e454ee31",
   "metadata": {},
   "outputs": [
    {
     "name": "stdout",
     "output_type": "stream",
     "text": [
      "[[0.+0.j 0.+0.j 0.+0.j 0.+0.j 0.+0.j 0.+0.j 0.+0.j 0.+0.j 0.+0.j 0.+0.j\n",
      "  0.+0.j 0.+0.j 0.+0.j 0.+0.j 0.+0.j 0.+0.j 0.+0.j 0.+0.j 0.+0.j 0.+0.j\n",
      "  0.+0.j 0.+0.j 0.+0.j 0.+0.j 0.+0.j 0.+0.j 0.+0.j 0.+0.j 0.+0.j 0.+0.j\n",
      "  0.+0.j 0.+0.j]]\n"
     ]
    }
   ],
   "source": [
    "print(channel_sequence)"
   ]
  },
  {
   "cell_type": "code",
   "execution_count": 23,
   "id": "f73fab40",
   "metadata": {},
   "outputs": [
    {
     "name": "stdout",
     "output_type": "stream",
     "text": [
      "0\n"
     ]
    }
   ],
   "source": [
    "print(dataset[0][0]['user']['paths'][0]['num_paths'])\n"
   ]
  },
  {
   "cell_type": "code",
   "execution_count": 24,
   "id": "6d90b762",
   "metadata": {},
   "outputs": [
    {
     "name": "stdout",
     "output_type": "stream",
     "text": [
      "dict_keys(['user', 'basestation', 'location'])\n"
     ]
    }
   ],
   "source": [
    "print(dataset[0][0].keys())\n"
   ]
  },
  {
   "cell_type": "markdown",
   "id": "69344e7a",
   "metadata": {},
   "source": [
    "# LWM 동적시나리오 가져와서 분석해보기"
   ]
  },
  {
   "cell_type": "code",
   "execution_count": 62,
   "id": "bae3a430",
   "metadata": {},
   "outputs": [],
   "source": [
    "channels = []\n",
    "\n",
    "for scene_idx in range(10):  # scene 0~9\n",
    "    user_channels = []\n",
    "\n",
    "    for user in dataset[scene_idx]:  # 각 사용자\n",
    "        channel = user['user']['channel']  # shape: (1891, 1, 32, 1)\n",
    "        channel = channel.squeeze(1).squeeze(-1)  # shape: (1891, 32)\n",
    "        user_channels.append(channel)\n",
    "\n",
    "    user_channels = np.stack(user_channels)  # (num_users, 1891, 32)\n",
    "    channels.append(user_channels)\n",
    "\n",
    "# → channels: (10 scenes, num_users, 1891, 32)\n",
    "channels = np.stack(channels)             # shape: (10, num_users, 1891, 32)\n",
    "channels = channels.transpose(1, 0, 2, 3)  # → (num_users, 10, 1891, 32)\n",
    "\n",
    "# 예: 특정 위치 index만 사용 (예: loc_idx = 100)\n",
    "loc_idx = 100\n",
    "channel_data = channels[:, :, loc_idx, :]  # shape: (num_users, 10, 32)\n",
    "\n",
    "# 데이터 나누기\n",
    "seq_len = 10\n",
    "input_ids = torch.tensor(channel_data[:, :seq_len-1, :], dtype=torch.float32)\n",
    "target_ids = torch.tensor(channel_data[:, seq_len-1, :], dtype=torch.float32)\n",
    "masked_pos = torch.full((input_ids.shape[0], 1), seq_len-2, dtype=torch.long)\n"
   ]
  },
  {
   "cell_type": "code",
   "execution_count": 63,
   "id": "dc63c818",
   "metadata": {},
   "outputs": [
    {
     "ename": "NameError",
     "evalue": "name 'batch_size' is not defined",
     "output_type": "error",
     "traceback": [
      "\u001b[1;31m---------------------------------------------------------------------------\u001b[0m",
      "\u001b[1;31mNameError\u001b[0m                                 Traceback (most recent call last)",
      "Cell \u001b[1;32mIn[63], line 3\u001b[0m\n\u001b[0;32m      1\u001b[0m \u001b[38;5;66;03m# 학습/테스트 분리\u001b[39;00m\n\u001b[0;32m      2\u001b[0m \u001b[38;5;66;03m# train 80%, test 20%\u001b[39;00m\n\u001b[1;32m----> 3\u001b[0m split_idx \u001b[38;5;241m=\u001b[39m \u001b[38;5;28mint\u001b[39m(\u001b[38;5;241m0.8\u001b[39m\u001b[38;5;241m*\u001b[39mbatch_size)\n\u001b[0;32m      5\u001b[0m X_train  \u001b[38;5;241m=\u001b[39m input_ids[:split_idx]\n\u001b[0;32m      6\u001b[0m y_train \u001b[38;5;241m=\u001b[39m target_ids[:split_idx]\n",
      "\u001b[1;31mNameError\u001b[0m: name 'batch_size' is not defined"
     ]
    }
   ],
   "source": [
    "# 학습/테스트 분리\n",
    "# train 80%, test 20%\n",
    "split_idx = int(0.8*batch_size)\n",
    "\n",
    "X_train  = input_ids[:split_idx]\n",
    "y_train = target_ids[:split_idx]\n",
    "pos_train = masked_pos[:split_idx]\n",
    "\n",
    "X_test = input_ids[split_idx:]\n",
    "y_test = target_ids[split_idx:]\n",
    "pos_test = masked_pos[split_idx:]"
   ]
  },
  {
   "cell_type": "code",
   "execution_count": null,
   "id": "67d1e712",
   "metadata": {},
   "outputs": [],
   "source": [
    "#DataLoader 설정\n",
    "from torch.utils.data import TensorDataset, DataLoader\n",
    "\n",
    "train_dataset = TensorDataset(X_train, y_train, pos_train)\n",
    "test_dataset = TensorDataset(X_test, y_test, pos_test)\n",
    "\n",
    "train_loader = DataLoader(train_dataset, batch_size=32 , shuffle=True)\n",
    "test_loader = DataLoader(test_dataset, batch_size=32, shuffle=False)\n"
   ]
  },
  {
   "cell_type": "code",
   "execution_count": null,
   "id": "3aa1c0ec",
   "metadata": {},
   "outputs": [],
   "source": [
    "# 학습 파이프라인\n",
    "from lwm_model import lwm\n",
    "import torch.nn as nn\n",
    "import torch.optim as optim\n",
    "\n",
    "device = 'cuda' if torch.cuda.is_available() else 'cpu'\n",
    "\n",
    "model = lwm(element_length=element_length).to(device)\n",
    "optimizer = optim.Adam(model.parameters(), lr=1e-4)\n",
    "criterion = nn.MSELoss()\n"
   ]
  },
  {
   "cell_type": "code",
   "execution_count": null,
   "id": "0d716594",
   "metadata": {},
   "outputs": [],
   "source": [
    "# 학습 루프\n",
    "n_epochs = 100\n",
    "\n",
    "\n",
    "for epoch in range(n_epochs):\n",
    "    model.train()\n",
    "    total_loss = 0\n",
    "    count = 0\n",
    "\n",
    "    for input_ids_batch, target_ids_batch, masked_pos_batch in train_loader:\n",
    "        input_ids_batch = input_ids_batch.to(device)\n",
    "        target_ids_batch = target_ids_batch.to(device)\n",
    "        masked_pos_batch = masked_pos_batch.to(device)\n",
    "\n",
    "        optimizer.zero_grad()\n",
    "\n",
    "        logits, _ = model(input_ids_batch, masked_pos_batch)\n",
    "        loss = criterion(logits.squeeze(1), target_ids_batch.squeeze(1))\n",
    "\n",
    "        loss.backward()\n",
    "        optimizer.step()\n",
    "\n",
    "        total_loss += loss.item()\n",
    "        count += 1\n",
    "\n",
    "    if epoch % 5 == 0:\n",
    "      avg_loss = total_loss / count\n",
    "      print(f\"Epoch {epoch}: Avg Loss = {avg_loss:.6f}\")\n"
   ]
  },
  {
   "cell_type": "code",
   "execution_count": null,
   "id": "2416bc57",
   "metadata": {},
   "outputs": [],
   "source": [
    "# 예측 후 시각화\n",
    "import matplotlib.pyplot as plt\n",
    "\n",
    "model.eval()\n",
    "with torch.no_grad():\n",
    "    pred, _ = model(input_ids.to(device), masked_pos.to(device))\n",
    "    pred = pred.squeeze(1).cpu().numpy()\n",
    "    target = target_ids.squeeze(1).numpy()\n",
    "\n",
    "# 예: 사용자 0의 첫 번째 feature\n",
    "plt.plot(pred[0], label=\"Predicted\")\n",
    "plt.plot(target[0], label=\"Actual\", linestyle=\"--\")\n",
    "plt.title(\"Predicted vs Actual (User 0)\")\n",
    "plt.legend()\n",
    "plt.grid(True)\n",
    "plt.show()\n"
   ]
  },
  {
   "cell_type": "code",
   "execution_count": null,
   "id": "7ca9ab16",
   "metadata": {},
   "outputs": [],
   "source": []
  },
  {
   "cell_type": "code",
   "execution_count": null,
   "id": "309713e0",
   "metadata": {},
   "outputs": [],
   "source": []
  },
  {
   "cell_type": "markdown",
   "id": "8449a694",
   "metadata": {},
   "source": [
    "# LWM을 가져와서 예측하기"
   ]
  },
  {
   "cell_type": "code",
   "execution_count": 60,
   "id": "07c79a7e",
   "metadata": {},
   "outputs": [
    {
     "ename": "SyntaxError",
     "evalue": "expected ':' (3271643563.py, line 22)",
     "output_type": "error",
     "traceback": [
      "\u001b[1;36m  Cell \u001b[1;32mIn[60], line 22\u001b[1;36m\u001b[0m\n\u001b[1;33m    for user in dataset\u001b[0m\n\u001b[1;37m                       ^\u001b[0m\n\u001b[1;31mSyntaxError\u001b[0m\u001b[1;31m:\u001b[0m expected ':'\n"
     ]
    }
   ],
   "source": [
    "## 데이터 준비 예시\n",
    "\n",
    "import torch\n",
    "import numpy as np\n",
    "\n",
    "# 예시: shape (batch, seq_len, element_length)\n",
    "# element_length = 채널 real + imag = 예: 64\n",
    "# seq_len = 예: 10개 시점\n",
    "# batch_size = 사용자 수\n",
    "\n",
    "# batch_size가 커질수록 정확도 하락\n",
    "seq_len = 10 # 총 10개 time step ex(scene 0 ~ 9)\n",
    "element_length = 64 # 채널 real + imag\n",
    "\n",
    "# dummy channel data (여기에 실제 채널 데이터 사용)\n",
    "channels = []  # 전체 scene 채널을 모을 리스트\n",
    "\n",
    "for scene_idx in range(10):  # scene 0 ~ 9\n",
    "    user_channels = [] # 해당 scene의 모든 사용자 채널 저장\n",
    "\n",
    "    # dataset[scene_idx]에서 한 사용자의 딕셔너리는\n",
    "    # {'user': {...}, 'basestation': {...}} 구조\n",
    "    for user_dict in dataset[scene_idx]:  # 각 scene의 사용자 순회\n",
    "        # channel = user_dict['channel']  # ← 이것 때문에 KeyError 발생\n",
    "        channel = user_dict['user']['channel']  # 실제 데이터 구조에 맞춰 수정\n",
    "\n",
    "        # (1) shape 확인 후 squeeze\n",
    "        # 보통 ( something, 1, something, 1 ) 형태라면 이렇게:\n",
    "        channel = channel.squeeze(1).squeeze(-1)  # → (32,) 형태로 변형\n",
    "        # (2) 사용자 채널 리스트에 누적\n",
    "        user_channels.append(channel)\n",
    "\n",
    "    # scene 하나(10개 중 1개)에 대한 \"모든 사용자\" 채널을 stack\n",
    "    channels.append(np.stack(user_channels))  # (user, antenna) shape로 stack\n",
    "\n",
    "# (scene, user, antenna) → (user, scene, antenna)\n",
    "channel_data = np.stack(channels, axis=0).transpose(1, 0, 2)  # → (사용자 수, 10, 32)\n",
    "batch_size = channel_data.shape[0]  # 사용자 수 기반으로 설정\n",
    "\n",
    "# 아래코드는 dumy 채널 데이터였음\n",
    "# channel_data = np.random.randn(batch_size, seq_len, element_length).astype(np.float32)\n",
    "\n",
    "input_ids = torch.tensor(channel_data[:, :seq_len-1, :])       # t=0~(n-2)\n",
    "target_ids = torch.tensor(channel_data[:, seq_len-1:seq_len, :])  # t=(n-1)\n",
    "masked_pos = torch.full((batch_size, 1), seq_len-2)  # 마지막 step 위치\n"
   ]
  },
  {
   "cell_type": "code",
   "execution_count": 29,
   "id": "5c26ff32",
   "metadata": {},
   "outputs": [
    {
     "name": "stdout",
     "output_type": "stream",
     "text": [
      "<class 'dict'>\n"
     ]
    }
   ],
   "source": [
    "print(type(user))"
   ]
  },
  {
   "cell_type": "code",
   "execution_count": 30,
   "id": "5538e8bb",
   "metadata": {},
   "outputs": [
    {
     "name": "stdout",
     "output_type": "stream",
     "text": [
      "{'user': {'paths': array([{'num_paths': 0, 'DoD_phi': [], 'DoD_theta': [], 'DoA_phi': [], 'DoA_theta': [], 'phase': [], 'ToA': [], 'power': [], 'LoS': []},\n",
      "       {'num_paths': 0, 'DoD_phi': [], 'DoD_theta': [], 'DoA_phi': [], 'DoA_theta': [], 'phase': [], 'ToA': [], 'power': [], 'LoS': []},\n",
      "       {'num_paths': 0, 'DoD_phi': [], 'DoD_theta': [], 'DoA_phi': [], 'DoA_theta': [], 'phase': [], 'ToA': [], 'power': [], 'LoS': []},\n",
      "       ...,\n",
      "       {'num_paths': 1, 'DoD_phi': array([-4.67836], dtype=float32), 'DoD_theta': array([90.9207], dtype=float32), 'DoA_phi': array([175.322], dtype=float32), 'DoA_theta': array([89.0793], dtype=float32), 'phase': array([3.80264], dtype=float32), 'ToA': array([1.03828e-06], dtype=float32), 'LoS': array([0.], dtype=float32), 'power': array([4.792699e-10], dtype=float32)},\n",
      "       {'num_paths': 1, 'DoD_phi': array([-4.67536], dtype=float32), 'DoD_theta': array([90.9201], dtype=float32), 'DoA_phi': array([175.325], dtype=float32), 'DoA_theta': array([89.0799], dtype=float32), 'phase': array([-114.143], dtype=float32), 'ToA': array([1.03895e-06], dtype=float32), 'LoS': array([0.], dtype=float32), 'power': array([4.786525e-10], dtype=float32)},\n",
      "       {'num_paths': 1, 'DoD_phi': array([-4.67236], dtype=float32), 'DoD_theta': array([90.9195], dtype=float32), 'DoA_phi': array([175.328], dtype=float32), 'DoA_theta': array([89.0805], dtype=float32), 'phase': array([127.908], dtype=float32), 'ToA': array([1.03961e-06], dtype=float32), 'LoS': array([0.], dtype=float32), 'power': array([4.7804644e-10], dtype=float32)}],\n",
      "      dtype=object), 'LoS': array([-1, -1, -1, ...,  0,  0,  0], dtype=int8), 'location': array([[-91.03330231, -15.37629986,   1.        ],\n",
      "       [-90.83329773, -15.37629986,   1.        ],\n",
      "       [-90.63330078, -15.37629986,   1.        ],\n",
      "       ...,\n",
      "       [286.56698608, -15.37629986,   1.        ],\n",
      "       [286.76699829, -15.37629986,   1.        ],\n",
      "       [286.9670105 , -15.37629986,   1.        ]]), 'distance': array([ 97.52539825,  97.33260345,  97.13980103, ..., 284.74398804,\n",
      "       284.94299316, 285.14199829]), 'pathloss': array([ 0.        ,  0.        ,  0.        , ..., 93.19419861,\n",
      "       93.19979858, 93.20529938]), 'channel': array([[[[ 0.0000000e+00+0.0000000e+00j],\n",
      "         [ 0.0000000e+00+0.0000000e+00j],\n",
      "         [ 0.0000000e+00+0.0000000e+00j],\n",
      "         ...,\n",
      "         [ 0.0000000e+00+0.0000000e+00j],\n",
      "         [ 0.0000000e+00+0.0000000e+00j],\n",
      "         [ 0.0000000e+00+0.0000000e+00j]]],\n",
      "\n",
      "\n",
      "       [[[ 0.0000000e+00+0.0000000e+00j],\n",
      "         [ 0.0000000e+00+0.0000000e+00j],\n",
      "         [ 0.0000000e+00+0.0000000e+00j],\n",
      "         ...,\n",
      "         [ 0.0000000e+00+0.0000000e+00j],\n",
      "         [ 0.0000000e+00+0.0000000e+00j],\n",
      "         [ 0.0000000e+00+0.0000000e+00j]]],\n",
      "\n",
      "\n",
      "       [[[ 0.0000000e+00+0.0000000e+00j],\n",
      "         [ 0.0000000e+00+0.0000000e+00j],\n",
      "         [ 0.0000000e+00+0.0000000e+00j],\n",
      "         ...,\n",
      "         [ 0.0000000e+00+0.0000000e+00j],\n",
      "         [ 0.0000000e+00+0.0000000e+00j],\n",
      "         [ 0.0000000e+00+0.0000000e+00j]]],\n",
      "\n",
      "\n",
      "       ...,\n",
      "\n",
      "\n",
      "       [[[ 9.6537917e-07+6.4165093e-08j],\n",
      "         [ 9.6738711e-07+1.5370968e-08j],\n",
      "         [ 9.6693032e-07-3.3462314e-08j],\n",
      "         ...,\n",
      "         [ 1.6675772e-07-9.5302988e-07j],\n",
      "         [ 1.1845604e-07-9.6023030e-07j],\n",
      "         [ 6.9852568e-08-9.6498434e-07j]]],\n",
      "\n",
      "\n",
      "       [[[-3.9547123e-07-8.8230991e-07j],\n",
      "         [-4.3945982e-07-8.6124521e-07j],\n",
      "         [-4.8233022e-07-8.3798915e-07j],\n",
      "         ...,\n",
      "         [-9.1974050e-07+2.9823755e-07j],\n",
      "         [-9.0353137e-07+3.4423735e-07j],\n",
      "         [-8.8502321e-07+3.8936125e-07j]]],\n",
      "\n",
      "\n",
      "       [[[-5.9367386e-07+7.6238814e-07j],\n",
      "         [-5.5449988e-07+7.9133702e-07j],\n",
      "         [-5.1391680e-07+8.1827494e-07j],\n",
      "         ...,\n",
      "         [ 6.9344634e-07+6.7291643e-07j],\n",
      "         [ 7.2647617e-07+6.3711599e-07j],\n",
      "         [ 7.5765985e-07+5.9969653e-07j]]]], dtype=complex64)}, 'basestation': {'paths': array([{'num_paths': 2, 'DoD_phi': array([   0.   , -141.952], dtype=float32), 'DoD_theta': array([180.    ,  89.9997], dtype=float32), 'DoA_phi': array([-180.  , -141.95], dtype=float32), 'DoA_theta': array([180.    ,  89.9997], dtype=float32), 'phase': array([  68.6712, -129.443 ], dtype=float32), 'ToA': array([3.83724e-08, 3.63243e-07], dtype=float32), 'LoS': array([0., 0.], dtype=float32), 'power': array([5.4408858e-08, 2.8096997e-10], dtype=float32)}],\n",
      "      dtype=object), 'LoS': [0.0], 'location': array([[ 3., 10.,  6.]]), 'distance': array([0.]), 'pathloss': array([73.25530243]), 'channel': [array([[[ 3.27880882e-06+9.03047146e-06j],\n",
      "        [-4.22006268e-06-1.01746392e-05j],\n",
      "        [ 3.27882920e-06+9.03045542e-06j],\n",
      "        ...,\n",
      "        [-4.21982438e-06-1.01748453e-05j],\n",
      "        [ 3.27911451e-06+9.03023098e-06j],\n",
      "        [-4.21980736e-06-1.01748600e-05j]],\n",
      "\n",
      "       [[-4.22006268e-06-1.01746392e-05j],\n",
      "        [ 3.27882920e-06+9.03045542e-06j],\n",
      "        [-4.22004567e-06-1.01746539e-05j],\n",
      "        ...,\n",
      "        [ 3.27911451e-06+9.03023098e-06j],\n",
      "        [-4.21980736e-06-1.01748600e-05j],\n",
      "        [ 3.27913490e-06+9.03021495e-06j]],\n",
      "\n",
      "       [[ 3.27882920e-06+9.03045542e-06j],\n",
      "        [-4.22004567e-06-1.01746539e-05j],\n",
      "        [ 3.27884957e-06+9.03043939e-06j],\n",
      "        ...,\n",
      "        [-4.21980736e-06-1.01748600e-05j],\n",
      "        [ 3.27913490e-06+9.03021495e-06j],\n",
      "        [-4.21979033e-06-1.01748747e-05j]],\n",
      "\n",
      "       ...,\n",
      "\n",
      "       [[-4.21982438e-06-1.01748453e-05j],\n",
      "        [ 3.27911451e-06+9.03023098e-06j],\n",
      "        [-4.21980736e-06-1.01748600e-05j],\n",
      "        ...,\n",
      "        [ 3.27939993e-06+9.03000665e-06j],\n",
      "        [-4.21956895e-06-1.01750660e-05j],\n",
      "        [ 3.27942032e-06+9.02999063e-06j]],\n",
      "\n",
      "       [[ 3.27911451e-06+9.03023098e-06j],\n",
      "        [-4.21980736e-06-1.01748600e-05j],\n",
      "        [ 3.27913490e-06+9.03021495e-06j],\n",
      "        ...,\n",
      "        [-4.21956895e-06-1.01750660e-05j],\n",
      "        [ 3.27942032e-06+9.02999063e-06j],\n",
      "        [-4.21955192e-06-1.01750807e-05j]],\n",
      "\n",
      "       [[-4.21980736e-06-1.01748600e-05j],\n",
      "        [ 3.27913490e-06+9.03021495e-06j],\n",
      "        [-4.21979033e-06-1.01748747e-05j],\n",
      "        ...,\n",
      "        [ 3.27942032e-06+9.02999063e-06j],\n",
      "        [-4.21955192e-06-1.01750807e-05j],\n",
      "        [ 3.27944071e-06+9.02997461e-06j]]])]}, 'location': array([ 3., 10.,  6.])}\n"
     ]
    }
   ],
   "source": [
    "print(user)"
   ]
  },
  {
   "cell_type": "code",
   "execution_count": 32,
   "id": "bbacd6aa",
   "metadata": {},
   "outputs": [
    {
     "name": "stdout",
     "output_type": "stream",
     "text": [
      "{'user': {'paths': array([{'num_paths': 0, 'DoD_phi': [], 'DoD_theta': [], 'DoA_phi': [], 'DoA_theta': [], 'phase': [], 'ToA': [], 'power': [], 'LoS': []},\n",
      "       {'num_paths': 0, 'DoD_phi': [], 'DoD_theta': [], 'DoA_phi': [], 'DoA_theta': [], 'phase': [], 'ToA': [], 'power': [], 'LoS': []},\n",
      "       {'num_paths': 0, 'DoD_phi': [], 'DoD_theta': [], 'DoA_phi': [], 'DoA_theta': [], 'phase': [], 'ToA': [], 'power': [], 'LoS': []},\n",
      "       ...,\n",
      "       {'num_paths': 1, 'DoD_phi': array([-4.67836], dtype=float32), 'DoD_theta': array([90.9207], dtype=float32), 'DoA_phi': array([175.322], dtype=float32), 'DoA_theta': array([89.0793], dtype=float32), 'phase': array([3.80264], dtype=float32), 'ToA': array([1.03828e-06], dtype=float32), 'LoS': array([0.], dtype=float32), 'power': array([4.792699e-10], dtype=float32)},\n",
      "       {'num_paths': 1, 'DoD_phi': array([-4.67536], dtype=float32), 'DoD_theta': array([90.9201], dtype=float32), 'DoA_phi': array([175.325], dtype=float32), 'DoA_theta': array([89.0799], dtype=float32), 'phase': array([-114.143], dtype=float32), 'ToA': array([1.03895e-06], dtype=float32), 'LoS': array([0.], dtype=float32), 'power': array([4.786525e-10], dtype=float32)},\n",
      "       {'num_paths': 1, 'DoD_phi': array([-4.67236], dtype=float32), 'DoD_theta': array([90.9195], dtype=float32), 'DoA_phi': array([175.328], dtype=float32), 'DoA_theta': array([89.0805], dtype=float32), 'phase': array([127.908], dtype=float32), 'ToA': array([1.03961e-06], dtype=float32), 'LoS': array([0.], dtype=float32), 'power': array([4.7804644e-10], dtype=float32)}],\n",
      "      dtype=object), 'LoS': array([-1, -1, -1, ...,  0,  0,  0], dtype=int8), 'location': array([[-91.03330231, -15.37629986,   1.        ],\n",
      "       [-90.83329773, -15.37629986,   1.        ],\n",
      "       [-90.63330078, -15.37629986,   1.        ],\n",
      "       ...,\n",
      "       [286.56698608, -15.37629986,   1.        ],\n",
      "       [286.76699829, -15.37629986,   1.        ],\n",
      "       [286.9670105 , -15.37629986,   1.        ]]), 'distance': array([ 97.52539825,  97.33260345,  97.13980103, ..., 284.74398804,\n",
      "       284.94299316, 285.14199829]), 'pathloss': array([ 0.        ,  0.        ,  0.        , ..., 93.19419861,\n",
      "       93.19979858, 93.20529938]), 'channel': array([[[[ 0.0000000e+00+0.0000000e+00j],\n",
      "         [ 0.0000000e+00+0.0000000e+00j],\n",
      "         [ 0.0000000e+00+0.0000000e+00j],\n",
      "         ...,\n",
      "         [ 0.0000000e+00+0.0000000e+00j],\n",
      "         [ 0.0000000e+00+0.0000000e+00j],\n",
      "         [ 0.0000000e+00+0.0000000e+00j]]],\n",
      "\n",
      "\n",
      "       [[[ 0.0000000e+00+0.0000000e+00j],\n",
      "         [ 0.0000000e+00+0.0000000e+00j],\n",
      "         [ 0.0000000e+00+0.0000000e+00j],\n",
      "         ...,\n",
      "         [ 0.0000000e+00+0.0000000e+00j],\n",
      "         [ 0.0000000e+00+0.0000000e+00j],\n",
      "         [ 0.0000000e+00+0.0000000e+00j]]],\n",
      "\n",
      "\n",
      "       [[[ 0.0000000e+00+0.0000000e+00j],\n",
      "         [ 0.0000000e+00+0.0000000e+00j],\n",
      "         [ 0.0000000e+00+0.0000000e+00j],\n",
      "         ...,\n",
      "         [ 0.0000000e+00+0.0000000e+00j],\n",
      "         [ 0.0000000e+00+0.0000000e+00j],\n",
      "         [ 0.0000000e+00+0.0000000e+00j]]],\n",
      "\n",
      "\n",
      "       ...,\n",
      "\n",
      "\n",
      "       [[[ 9.6537917e-07+6.4165093e-08j],\n",
      "         [ 9.6738711e-07+1.5370968e-08j],\n",
      "         [ 9.6693032e-07-3.3462314e-08j],\n",
      "         ...,\n",
      "         [ 1.6675772e-07-9.5302988e-07j],\n",
      "         [ 1.1845604e-07-9.6023030e-07j],\n",
      "         [ 6.9852568e-08-9.6498434e-07j]]],\n",
      "\n",
      "\n",
      "       [[[-3.9547123e-07-8.8230991e-07j],\n",
      "         [-4.3945982e-07-8.6124521e-07j],\n",
      "         [-4.8233022e-07-8.3798915e-07j],\n",
      "         ...,\n",
      "         [-9.1974050e-07+2.9823755e-07j],\n",
      "         [-9.0353137e-07+3.4423735e-07j],\n",
      "         [-8.8502321e-07+3.8936125e-07j]]],\n",
      "\n",
      "\n",
      "       [[[-5.9367386e-07+7.6238814e-07j],\n",
      "         [-5.5449988e-07+7.9133702e-07j],\n",
      "         [-5.1391680e-07+8.1827494e-07j],\n",
      "         ...,\n",
      "         [ 6.9344634e-07+6.7291643e-07j],\n",
      "         [ 7.2647617e-07+6.3711599e-07j],\n",
      "         [ 7.5765985e-07+5.9969653e-07j]]]], dtype=complex64)}, 'basestation': {'paths': array([{'num_paths': 2, 'DoD_phi': array([   0.   , -141.952], dtype=float32), 'DoD_theta': array([180.    ,  89.9997], dtype=float32), 'DoA_phi': array([-180.  , -141.95], dtype=float32), 'DoA_theta': array([180.    ,  89.9997], dtype=float32), 'phase': array([  68.6712, -129.443 ], dtype=float32), 'ToA': array([3.83724e-08, 3.63243e-07], dtype=float32), 'LoS': array([0., 0.], dtype=float32), 'power': array([5.4408858e-08, 2.8096997e-10], dtype=float32)}],\n",
      "      dtype=object), 'LoS': [0.0], 'location': array([[ 3., 10.,  6.]]), 'distance': array([0.]), 'pathloss': array([73.25530243]), 'channel': [array([[[ 3.27880882e-06+9.03047146e-06j],\n",
      "        [-4.22006268e-06-1.01746392e-05j],\n",
      "        [ 3.27882920e-06+9.03045542e-06j],\n",
      "        ...,\n",
      "        [-4.21982438e-06-1.01748453e-05j],\n",
      "        [ 3.27911451e-06+9.03023098e-06j],\n",
      "        [-4.21980736e-06-1.01748600e-05j]],\n",
      "\n",
      "       [[-4.22006268e-06-1.01746392e-05j],\n",
      "        [ 3.27882920e-06+9.03045542e-06j],\n",
      "        [-4.22004567e-06-1.01746539e-05j],\n",
      "        ...,\n",
      "        [ 3.27911451e-06+9.03023098e-06j],\n",
      "        [-4.21980736e-06-1.01748600e-05j],\n",
      "        [ 3.27913490e-06+9.03021495e-06j]],\n",
      "\n",
      "       [[ 3.27882920e-06+9.03045542e-06j],\n",
      "        [-4.22004567e-06-1.01746539e-05j],\n",
      "        [ 3.27884957e-06+9.03043939e-06j],\n",
      "        ...,\n",
      "        [-4.21980736e-06-1.01748600e-05j],\n",
      "        [ 3.27913490e-06+9.03021495e-06j],\n",
      "        [-4.21979033e-06-1.01748747e-05j]],\n",
      "\n",
      "       ...,\n",
      "\n",
      "       [[-4.21982438e-06-1.01748453e-05j],\n",
      "        [ 3.27911451e-06+9.03023098e-06j],\n",
      "        [-4.21980736e-06-1.01748600e-05j],\n",
      "        ...,\n",
      "        [ 3.27939993e-06+9.03000665e-06j],\n",
      "        [-4.21956895e-06-1.01750660e-05j],\n",
      "        [ 3.27942032e-06+9.02999063e-06j]],\n",
      "\n",
      "       [[ 3.27911451e-06+9.03023098e-06j],\n",
      "        [-4.21980736e-06-1.01748600e-05j],\n",
      "        [ 3.27913490e-06+9.03021495e-06j],\n",
      "        ...,\n",
      "        [-4.21956895e-06-1.01750660e-05j],\n",
      "        [ 3.27942032e-06+9.02999063e-06j],\n",
      "        [-4.21955192e-06-1.01750807e-05j]],\n",
      "\n",
      "       [[-4.21980736e-06-1.01748600e-05j],\n",
      "        [ 3.27913490e-06+9.03021495e-06j],\n",
      "        [-4.21979033e-06-1.01748747e-05j],\n",
      "        ...,\n",
      "        [ 3.27942032e-06+9.02999063e-06j],\n",
      "        [-4.21955192e-06-1.01750807e-05j],\n",
      "        [ 3.27944071e-06+9.02997461e-06j]]])]}, 'location': array([ 3., 10.,  6.])}\n"
     ]
    }
   ],
   "source": [
    "print(dataset[0][0])"
   ]
  },
  {
   "cell_type": "code",
   "execution_count": null,
   "id": "66e37a39",
   "metadata": {},
   "outputs": [],
   "source": []
  }
 ],
 "metadata": {
  "kernelspec": {
   "display_name": "Python 3 (ipykernel)",
   "language": "python",
   "name": "python3"
  },
  "language_info": {
   "codemirror_mode": {
    "name": "ipython",
    "version": 3
   },
   "file_extension": ".py",
   "mimetype": "text/x-python",
   "name": "python",
   "nbconvert_exporter": "python",
   "pygments_lexer": "ipython3",
   "version": "3.11.3"
  }
 },
 "nbformat": 4,
 "nbformat_minor": 5
}
