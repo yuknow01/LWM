{
 "cells": [
  {
   "cell_type": "code",
   "execution_count": 1,
   "id": "0ec90d17",
   "metadata": {},
   "outputs": [],
   "source": [
    "import torch\n",
    "import torch.nn as nn\n",
    "import torch.optim as optim\n",
    "import torchvision\n",
    "import torchvision.transforms as transforms\n",
    "from torch.utils.data import DataLoader"
   ]
  },
  {
   "cell_type": "code",
   "execution_count": 2,
   "id": "47baa533",
   "metadata": {},
   "outputs": [
    {
     "name": "stdout",
     "output_type": "stream",
     "text": [
      "cuda\n"
     ]
    }
   ],
   "source": [
    "# GPU 설정\n",
    "device = torch.device(\"cuda\" if torch.cuda.is_available() else \"cpu\")\n",
    "print(device)"
   ]
  },
  {
   "cell_type": "code",
   "execution_count": 3,
   "id": "23623e8a",
   "metadata": {},
   "outputs": [
    {
     "name": "stdout",
     "output_type": "stream",
     "text": [
      "Requirement already satisfied: DeepMIMOv3 in c:\\users\\dlghd\\anaconda3\\lib\\site-packages (0.2.8)\n",
      "Requirement already satisfied: umap-learn in c:\\users\\dlghd\\anaconda3\\lib\\site-packages (0.5.7)\n",
      "Requirement already satisfied: numpy in c:\\users\\dlghd\\anaconda3\\lib\\site-packages (from DeepMIMOv3) (1.24.3)\n",
      "Requirement already satisfied: scipy in c:\\users\\dlghd\\anaconda3\\lib\\site-packages (from DeepMIMOv3) (1.10.1)\n",
      "Requirement already satisfied: tqdm in c:\\users\\dlghd\\anaconda3\\lib\\site-packages (from DeepMIMOv3) (4.65.0)\n",
      "Requirement already satisfied: matplotlib in c:\\users\\dlghd\\anaconda3\\lib\\site-packages (from DeepMIMOv3) (3.7.1)\n",
      "Requirement already satisfied: scikit-learn>=0.22 in c:\\users\\dlghd\\anaconda3\\lib\\site-packages (from umap-learn) (1.2.2)\n",
      "Requirement already satisfied: numba>=0.51.2 in c:\\users\\dlghd\\anaconda3\\lib\\site-packages (from umap-learn) (0.57.0)\n",
      "Requirement already satisfied: pynndescent>=0.5 in c:\\users\\dlghd\\anaconda3\\lib\\site-packages (from umap-learn) (0.5.13)\n",
      "Requirement already satisfied: llvmlite<0.41,>=0.40.0dev0 in c:\\users\\dlghd\\anaconda3\\lib\\site-packages (from numba>=0.51.2->umap-learn) (0.40.0)\n",
      "Requirement already satisfied: joblib>=0.11 in c:\\users\\dlghd\\anaconda3\\lib\\site-packages (from pynndescent>=0.5->umap-learn) (1.2.0)\n",
      "Requirement already satisfied: threadpoolctl>=2.0.0 in c:\\users\\dlghd\\anaconda3\\lib\\site-packages (from scikit-learn>=0.22->umap-learn) (2.2.0)\n",
      "Requirement already satisfied: contourpy>=1.0.1 in c:\\users\\dlghd\\anaconda3\\lib\\site-packages (from matplotlib->DeepMIMOv3) (1.0.5)\n",
      "Requirement already satisfied: cycler>=0.10 in c:\\users\\dlghd\\anaconda3\\lib\\site-packages (from matplotlib->DeepMIMOv3) (0.11.0)\n",
      "Requirement already satisfied: fonttools>=4.22.0 in c:\\users\\dlghd\\anaconda3\\lib\\site-packages (from matplotlib->DeepMIMOv3) (4.25.0)\n",
      "Requirement already satisfied: kiwisolver>=1.0.1 in c:\\users\\dlghd\\anaconda3\\lib\\site-packages (from matplotlib->DeepMIMOv3) (1.4.4)\n",
      "Requirement already satisfied: packaging>=20.0 in c:\\users\\dlghd\\anaconda3\\lib\\site-packages (from matplotlib->DeepMIMOv3) (23.0)\n",
      "Requirement already satisfied: pillow>=6.2.0 in c:\\users\\dlghd\\anaconda3\\lib\\site-packages (from matplotlib->DeepMIMOv3) (9.4.0)\n",
      "Requirement already satisfied: pyparsing>=2.3.1 in c:\\users\\dlghd\\anaconda3\\lib\\site-packages (from matplotlib->DeepMIMOv3) (3.0.9)\n",
      "Requirement already satisfied: python-dateutil>=2.7 in c:\\users\\dlghd\\anaconda3\\lib\\site-packages (from matplotlib->DeepMIMOv3) (2.8.2)\n",
      "Requirement already satisfied: colorama in c:\\users\\dlghd\\anaconda3\\lib\\site-packages (from tqdm->DeepMIMOv3) (0.4.6)\n",
      "Requirement already satisfied: six>=1.5 in c:\\users\\dlghd\\anaconda3\\lib\\site-packages (from python-dateutil>=2.7->matplotlib->DeepMIMOv3) (1.16.0)\n",
      "Note: you may need to restart the kernel to use updated packages.\n"
     ]
    }
   ],
   "source": [
    "pip install DeepMIMOv3 umap-learn"
   ]
  },
  {
   "cell_type": "code",
   "execution_count": 4,
   "id": "14b3564f",
   "metadata": {},
   "outputs": [],
   "source": [
    "#LWM을 하기위한 라이브러리 가져오기\n",
    "import DeepMIMOv3\n",
    "import numpy as np\n",
    "from pprint import pprint\n",
    "import matplotlib.pyplot as plt\n",
    "\n",
    "plt . rcParams [ 'figure.figsize' ]  =  [ 12 ,  8 ]  # 기본 플롯 크기 설정"
   ]
  },
  {
   "cell_type": "code",
   "execution_count": 5,
   "id": "ce5ac681",
   "metadata": {},
   "outputs": [
    {
     "name": "stdout",
     "output_type": "stream",
     "text": [
      "{'OFDM': {'RX_filter': 0,\n",
      "          'bandwidth': 0.05,\n",
      "          'selected_subcarriers': array([0]),\n",
      "          'subcarriers': 512},\n",
      " 'OFDM_channels': 1,\n",
      " 'active_BS': array([1]),\n",
      " 'bs_antenna': {'FoV': array([360, 180]),\n",
      "                'radiation_pattern': 'isotropic',\n",
      "                'rotation': array([0, 0, 0]),\n",
      "                'shape': array([8, 4]),\n",
      "                'spacing': 0.5},\n",
      " 'dataset_folder': './Raytracing_scenarios',\n",
      " 'dynamic_scenario_scenes': array([1]),\n",
      " 'enable_BS2BS': 1,\n",
      " 'enable_doppler': 0,\n",
      " 'enable_dual_polar': 0,\n",
      " 'num_paths': 5,\n",
      " 'scenario': 'O1_60',\n",
      " 'ue_antenna': {'FoV': array([360, 180]),\n",
      "                'radiation_pattern': 'isotropic',\n",
      "                'rotation': array([0, 0, 0]),\n",
      "                'shape': array([4, 2]),\n",
      "                'spacing': 0.5},\n",
      " 'user_rows': array([1]),\n",
      " 'user_subsampling': 1}\n"
     ]
    }
   ],
   "source": [
    "## Load and print the default parameters\n",
    "# bandwith: 0.05GHz(50MHz 대역폭 사용)\n",
    "\n",
    "parameters = DeepMIMOv3.default_params()\n",
    "pprint(parameters)"
   ]
  },
  {
   "cell_type": "code",
   "execution_count": 6,
   "id": "1f0642c1",
   "metadata": {},
   "outputs": [],
   "source": [
    "## Change parameters for the setup\n",
    "# Scenario O1_60 extracted at the dataset_folder\n",
    "#LWM 동적 시나리오 불러오기\n",
    "#자신의 LWM 파일 위치 경로 작성\n",
    "# parameters['dataset_folder'] = r'/content/drive/MyDrive/Colab Notebooks/LWM'\n",
    "parameters['dataset_folder'] = r'C:\\Users\\dlghd\\졸업프로젝트\\LWM'\n",
    "\n",
    "# scnario = 02_dyn_3p5 <- 다운받은 파일(동적시나리오)\n",
    "parameters['scenario'] = 'O2_dyn_3p5'\n",
    "parameters['dynamic_scenario_scenes'] = np.arange(10) #scene 0~9\n",
    "\n",
    "# 각 사용자-기지국 채널에 대해 최대 10개 멀티패스 경로 사용\n",
    "parameters['num_paths'] = 10\n",
    "\n",
    "# User rows 1-100\n",
    "parameters['user_rows'] = np.arange(100)\n",
    "\n",
    "# Activate only the first basestation\n",
    "parameters['active_BS'] = np.array([1])\n",
    "\n",
    "parameters['activate_OFDM'] = 1\n",
    "\n",
    "parameters['OFDM']['bandwidth'] = 0.05 # 50 MHz\n",
    "parameters['OFDM']['subcarriers'] = 512 # OFDM with 512 subcarriers\n",
    "parameters['OFDM']['selected_subcarriers'] = np.arange(0, 64, 1)\n",
    "#parameters['OFDM']['subcarriers_limit'] = 64 # Keep only first 64 subcarriers\n",
    "\n",
    "parameters['ue_antenna']['shape'] = np.array([1, 1]) # Single antenna\n",
    "parameters['bs_antenna']['shape'] = np.array([1, 32]) # ULA of 32 elements\n",
    "#parameters['bs_antenna']['rotation'] = np.array([0, 30, 90]) # ULA of 32 elements\n",
    "#parameters['ue_antenna']['rotation'] = np.array([[0, 30], [30, 60], [60, 90]]) # ULA of 32 elements\n",
    "#parameters['ue_antenna']['radiation_pattern'] = 'isotropic'\n",
    "#parameters['bs_antenna']['radiation_pattern'] = 'halfwave-dipole'"
   ]
  },
  {
   "cell_type": "code",
   "execution_count": 7,
   "id": "30aa4ae2",
   "metadata": {},
   "outputs": [
    {
     "name": "stdout",
     "output_type": "stream",
     "text": [
      "{'dataset_folder': 'C:\\\\Users\\\\dlghd\\\\졸업프로젝트\\\\LWM', 'scenario': 'O2_dyn_3p5', 'dynamic_scenario_scenes': array([0, 1, 2, 3, 4, 5, 6, 7, 8, 9]), 'num_paths': 10, 'active_BS': array([1]), 'user_rows': array([ 0,  1,  2,  3,  4,  5,  6,  7,  8,  9, 10, 11, 12, 13, 14, 15, 16,\n",
      "       17, 18, 19, 20, 21, 22, 23, 24, 25, 26, 27, 28, 29, 30, 31, 32, 33,\n",
      "       34, 35, 36, 37, 38, 39, 40, 41, 42, 43, 44, 45, 46, 47, 48, 49, 50,\n",
      "       51, 52, 53, 54, 55, 56, 57, 58, 59, 60, 61, 62, 63, 64, 65, 66, 67,\n",
      "       68, 69, 70, 71, 72, 73, 74, 75, 76, 77, 78, 79, 80, 81, 82, 83, 84,\n",
      "       85, 86, 87, 88, 89, 90, 91, 92, 93, 94, 95, 96, 97, 98, 99]), 'user_subsampling': 1, 'bs_antenna': {'shape': array([ 1, 32]), 'spacing': 0.5, 'rotation': array([0, 0, 0]), 'FoV': array([360, 180]), 'radiation_pattern': 'isotropic'}, 'ue_antenna': {'shape': array([1, 1]), 'spacing': 0.5, 'rotation': array([0, 0, 0]), 'FoV': array([360, 180]), 'radiation_pattern': 'isotropic'}, 'enable_doppler': 0, 'enable_dual_polar': 0, 'enable_BS2BS': 1, 'OFDM_channels': 1, 'OFDM': {'subcarriers': 512, 'selected_subcarriers': array([ 0,  1,  2,  3,  4,  5,  6,  7,  8,  9, 10, 11, 12, 13, 14, 15, 16,\n",
      "       17, 18, 19, 20, 21, 22, 23, 24, 25, 26, 27, 28, 29, 30, 31, 32, 33,\n",
      "       34, 35, 36, 37, 38, 39, 40, 41, 42, 43, 44, 45, 46, 47, 48, 49, 50,\n",
      "       51, 52, 53, 54, 55, 56, 57, 58, 59, 60, 61, 62, 63]), 'bandwidth': 0.05, 'RX_filter': 0}, 'activate_OFDM': 1}\n"
     ]
    }
   ],
   "source": [
    "print(parameters)"
   ]
  },
  {
   "cell_type": "code",
   "execution_count": 8,
   "id": "b87a86e5",
   "metadata": {},
   "outputs": [
    {
     "name": "stdout",
     "output_type": "stream",
     "text": [
      "The following parameters seem unnecessary:\n",
      "{'activate_OFDM'}\n",
      "\n",
      "Scene 1/10\n",
      "\n",
      "Basestation 1\n",
      "\n",
      "UE-BS Channels\n"
     ]
    },
    {
     "name": "stderr",
     "output_type": "stream",
     "text": [
      "Reading ray-tracing: 100%|████████████████████████████████████████████████████| 69040/69040 [00:03<00:00, 19950.46it/s]\n",
      "Generating channels: 100%|█████████████████████████████████████████████████████| 69040/69040 [00:23<00:00, 2972.34it/s]\n"
     ]
    },
    {
     "name": "stdout",
     "output_type": "stream",
     "text": [
      "\n",
      "BS-BS Channels\n"
     ]
    },
    {
     "name": "stderr",
     "output_type": "stream",
     "text": [
      "Reading ray-tracing: 100%|███████████████████████████████████████████████████████████████████████| 1/1 [00:00<?, ?it/s]\n",
      "Generating channels: 100%|██████████████████████████████████████████████████████████████| 1/1 [00:00<00:00, 250.18it/s]\n"
     ]
    },
    {
     "name": "stdout",
     "output_type": "stream",
     "text": [
      "\n",
      "Scene 2/10\n",
      "\n",
      "Basestation 1\n",
      "\n",
      "UE-BS Channels\n"
     ]
    },
    {
     "name": "stderr",
     "output_type": "stream",
     "text": [
      "Reading ray-tracing: 100%|████████████████████████████████████████████████████| 69040/69040 [00:03<00:00, 18797.74it/s]\n",
      "Generating channels: 100%|█████████████████████████████████████████████████████| 69040/69040 [00:22<00:00, 3131.27it/s]\n"
     ]
    },
    {
     "name": "stdout",
     "output_type": "stream",
     "text": [
      "\n",
      "BS-BS Channels\n"
     ]
    },
    {
     "name": "stderr",
     "output_type": "stream",
     "text": [
      "Reading ray-tracing: 100%|██████████████████████████████████████████████████████████████| 1/1 [00:00<00:00, 836.85it/s]\n",
      "Generating channels: 100%|███████████████████████████████████████████████████████████████| 1/1 [00:00<00:00, 72.25it/s]\n"
     ]
    },
    {
     "name": "stdout",
     "output_type": "stream",
     "text": [
      "\n",
      "Scene 3/10\n",
      "\n",
      "Basestation 1\n",
      "\n",
      "UE-BS Channels\n"
     ]
    },
    {
     "name": "stderr",
     "output_type": "stream",
     "text": [
      "Reading ray-tracing: 100%|████████████████████████████████████████████████████| 69040/69040 [00:03<00:00, 19073.03it/s]\n",
      "Generating channels: 100%|█████████████████████████████████████████████████████| 69040/69040 [00:22<00:00, 3126.41it/s]\n"
     ]
    },
    {
     "name": "stdout",
     "output_type": "stream",
     "text": [
      "\n",
      "BS-BS Channels\n"
     ]
    },
    {
     "name": "stderr",
     "output_type": "stream",
     "text": [
      "Reading ray-tracing: 100%|██████████████████████████████████████████████████████████████| 1/1 [00:00<00:00, 988.52it/s]\n",
      "Generating channels: 100%|██████████████████████████████████████████████████████████████| 1/1 [00:00<00:00, 234.31it/s]\n"
     ]
    },
    {
     "name": "stdout",
     "output_type": "stream",
     "text": [
      "\n",
      "Scene 4/10\n",
      "\n",
      "Basestation 1\n",
      "\n",
      "UE-BS Channels\n"
     ]
    },
    {
     "name": "stderr",
     "output_type": "stream",
     "text": [
      "Reading ray-tracing: 100%|████████████████████████████████████████████████████| 69040/69040 [00:04<00:00, 16563.99it/s]\n",
      "Generating channels: 100%|█████████████████████████████████████████████████████| 69040/69040 [00:23<00:00, 2905.84it/s]\n"
     ]
    },
    {
     "name": "stdout",
     "output_type": "stream",
     "text": [
      "\n",
      "BS-BS Channels\n"
     ]
    },
    {
     "name": "stderr",
     "output_type": "stream",
     "text": [
      "Reading ray-tracing: 100%|███████████████████████████████████████████████████████████████████████| 1/1 [00:00<?, ?it/s]\n",
      "Generating channels: 100%|██████████████████████████████████████████████████████████████| 1/1 [00:00<00:00, 200.20it/s]\n"
     ]
    },
    {
     "name": "stdout",
     "output_type": "stream",
     "text": [
      "\n",
      "Scene 5/10\n",
      "\n",
      "Basestation 1\n",
      "\n",
      "UE-BS Channels\n"
     ]
    },
    {
     "name": "stderr",
     "output_type": "stream",
     "text": [
      "Reading ray-tracing: 100%|████████████████████████████████████████████████████| 69040/69040 [00:04<00:00, 16612.25it/s]\n",
      "Generating channels: 100%|█████████████████████████████████████████████████████| 69040/69040 [00:24<00:00, 2800.07it/s]\n"
     ]
    },
    {
     "name": "stdout",
     "output_type": "stream",
     "text": [
      "\n",
      "BS-BS Channels\n"
     ]
    },
    {
     "name": "stderr",
     "output_type": "stream",
     "text": [
      "Reading ray-tracing: 100%|███████████████████████████████████████████████████████████████████████| 1/1 [00:00<?, ?it/s]\n",
      "Generating channels: 100%|██████████████████████████████████████████████████████████████| 1/1 [00:00<00:00, 211.31it/s]\n"
     ]
    },
    {
     "name": "stdout",
     "output_type": "stream",
     "text": [
      "\n",
      "Scene 6/10\n",
      "\n",
      "Basestation 1\n",
      "\n",
      "UE-BS Channels\n"
     ]
    },
    {
     "name": "stderr",
     "output_type": "stream",
     "text": [
      "Reading ray-tracing: 100%|████████████████████████████████████████████████████| 69040/69040 [00:04<00:00, 14191.54it/s]\n",
      "Generating channels: 100%|█████████████████████████████████████████████████████| 69040/69040 [00:30<00:00, 2289.78it/s]\n"
     ]
    },
    {
     "name": "stdout",
     "output_type": "stream",
     "text": [
      "\n",
      "BS-BS Channels\n"
     ]
    },
    {
     "name": "stderr",
     "output_type": "stream",
     "text": [
      "Reading ray-tracing: 100%|██████████████████████████████████████████████████████████████| 1/1 [00:00<00:00, 999.12it/s]\n",
      "Generating channels: 100%|██████████████████████████████████████████████████████████████| 1/1 [00:00<00:00, 333.46it/s]\n"
     ]
    },
    {
     "name": "stdout",
     "output_type": "stream",
     "text": [
      "\n",
      "Scene 7/10\n",
      "\n",
      "Basestation 1\n",
      "\n",
      "UE-BS Channels\n"
     ]
    },
    {
     "name": "stderr",
     "output_type": "stream",
     "text": [
      "Reading ray-tracing: 100%|████████████████████████████████████████████████████| 69040/69040 [00:04<00:00, 16983.64it/s]\n",
      "Generating channels: 100%|█████████████████████████████████████████████████████| 69040/69040 [00:24<00:00, 2785.99it/s]\n"
     ]
    },
    {
     "name": "stdout",
     "output_type": "stream",
     "text": [
      "\n",
      "BS-BS Channels\n"
     ]
    },
    {
     "name": "stderr",
     "output_type": "stream",
     "text": [
      "Reading ray-tracing: 100%|██████████████████████████████████████████████████████████████| 1/1 [00:00<00:00, 974.97it/s]\n",
      "Generating channels: 100%|██████████████████████████████████████████████████████████████| 1/1 [00:00<00:00, 285.39it/s]\n"
     ]
    },
    {
     "name": "stdout",
     "output_type": "stream",
     "text": [
      "\n",
      "Scene 8/10\n",
      "\n",
      "Basestation 1\n",
      "\n",
      "UE-BS Channels\n"
     ]
    },
    {
     "name": "stderr",
     "output_type": "stream",
     "text": [
      "Reading ray-tracing: 100%|████████████████████████████████████████████████████| 69040/69040 [00:04<00:00, 16954.91it/s]\n",
      "Generating channels: 100%|█████████████████████████████████████████████████████| 69040/69040 [00:25<00:00, 2690.66it/s]\n"
     ]
    },
    {
     "name": "stdout",
     "output_type": "stream",
     "text": [
      "\n",
      "BS-BS Channels\n"
     ]
    },
    {
     "name": "stderr",
     "output_type": "stream",
     "text": [
      "Reading ray-tracing: 100%|█████████████████████████████████████████████████████████████| 1/1 [00:00<00:00, 1001.98it/s]\n",
      "Generating channels: 100%|██████████████████████████████████████████████████████████████| 1/1 [00:00<00:00, 176.80it/s]\n"
     ]
    },
    {
     "name": "stdout",
     "output_type": "stream",
     "text": [
      "\n",
      "Scene 9/10\n",
      "\n",
      "Basestation 1\n",
      "\n",
      "UE-BS Channels\n"
     ]
    },
    {
     "name": "stderr",
     "output_type": "stream",
     "text": [
      "Reading ray-tracing: 100%|████████████████████████████████████████████████████| 69040/69040 [00:04<00:00, 15954.54it/s]\n",
      "Generating channels: 100%|█████████████████████████████████████████████████████| 69040/69040 [00:30<00:00, 2257.63it/s]\n"
     ]
    },
    {
     "name": "stdout",
     "output_type": "stream",
     "text": [
      "\n",
      "BS-BS Channels\n"
     ]
    },
    {
     "name": "stderr",
     "output_type": "stream",
     "text": [
      "Reading ray-tracing: 100%|███████████████████████████████████████████████████████████████████████| 1/1 [00:00<?, ?it/s]\n",
      "Generating channels: 100%|██████████████████████████████████████████████████████████████| 1/1 [00:00<00:00, 220.65it/s]\n"
     ]
    },
    {
     "name": "stdout",
     "output_type": "stream",
     "text": [
      "\n",
      "Scene 10/10\n",
      "\n",
      "Basestation 1\n",
      "\n",
      "UE-BS Channels\n"
     ]
    },
    {
     "name": "stderr",
     "output_type": "stream",
     "text": [
      "Reading ray-tracing: 100%|████████████████████████████████████████████████████| 69040/69040 [00:05<00:00, 13351.93it/s]\n"
     ]
    },
    {
     "ename": "MemoryError",
     "evalue": "Unable to allocate 1.05 GiB for an array with shape (69040, 1, 32, 64) and data type complex64",
     "output_type": "error",
     "traceback": [
      "\u001b[1;31m---------------------------------------------------------------------------\u001b[0m",
      "\u001b[1;31mMemoryError\u001b[0m                               Traceback (most recent call last)",
      "Cell \u001b[1;32mIn[8], line 4\u001b[0m\n\u001b[0;32m      2\u001b[0m \u001b[38;5;28;01mimport\u001b[39;00m \u001b[38;5;21;01mtime\u001b[39;00m\n\u001b[0;32m      3\u001b[0m start \u001b[38;5;241m=\u001b[39m time\u001b[38;5;241m.\u001b[39mtime()\n\u001b[1;32m----> 4\u001b[0m dataset \u001b[38;5;241m=\u001b[39m DeepMIMOv3\u001b[38;5;241m.\u001b[39mgenerate_data(parameters)\n\u001b[0;32m      5\u001b[0m end \u001b[38;5;241m=\u001b[39m time\u001b[38;5;241m.\u001b[39mtime()\n\u001b[0;32m      7\u001b[0m \u001b[38;5;28mprint\u001b[39m(\u001b[38;5;124mf\u001b[39m\u001b[38;5;124m\"\u001b[39m\u001b[38;5;124m걸리는시간: \u001b[39m\u001b[38;5;132;01m{\u001b[39;00m\u001b[38;5;28mround\u001b[39m(end\u001b[38;5;241m-\u001b[39mstart,\u001b[38;5;241m2\u001b[39m)\u001b[38;5;132;01m}\u001b[39;00m\u001b[38;5;124m\"\u001b[39m)\n",
      "File \u001b[1;32m~\\anaconda3\\Lib\\site-packages\\DeepMIMOv3\\generator.py:39\u001b[0m, in \u001b[0;36mgenerate_data\u001b[1;34m(ext_params)\u001b[0m\n\u001b[0;32m     33\u001b[0m         params[c\u001b[38;5;241m.\u001b[39mPARAMSET_SCENARIO_FIL] \u001b[38;5;241m=\u001b[39m os\u001b[38;5;241m.\u001b[39mpath\u001b[38;5;241m.\u001b[39mjoin(\n\u001b[0;32m     34\u001b[0m                                     os\u001b[38;5;241m.\u001b[39mpath\u001b[38;5;241m.\u001b[39mabspath(params[c\u001b[38;5;241m.\u001b[39mPARAMSET_DATASET_FOLDER]), \n\u001b[0;32m     35\u001b[0m                                     params[c\u001b[38;5;241m.\u001b[39mPARAMSET_SCENARIO],\n\u001b[0;32m     36\u001b[0m                                     \u001b[38;5;124m'\u001b[39m\u001b[38;5;124mscene_\u001b[39m\u001b[38;5;124m'\u001b[39m \u001b[38;5;241m+\u001b[39m \u001b[38;5;28mstr\u001b[39m(scene)\n\u001b[0;32m     37\u001b[0m                                     )\n\u001b[0;32m     38\u001b[0m         \u001b[38;5;28mprint\u001b[39m(\u001b[38;5;124m'\u001b[39m\u001b[38;5;130;01m\\n\u001b[39;00m\u001b[38;5;124mScene \u001b[39m\u001b[38;5;132;01m%i\u001b[39;00m\u001b[38;5;124m/\u001b[39m\u001b[38;5;132;01m%i\u001b[39;00m\u001b[38;5;124m'\u001b[39m \u001b[38;5;241m%\u001b[39m (scene_i\u001b[38;5;241m+\u001b[39m\u001b[38;5;241m1\u001b[39m, num_of_scenes))\n\u001b[1;32m---> 39\u001b[0m         dataset\u001b[38;5;241m.\u001b[39mappend(generate_scene_data(params))\n\u001b[0;32m     40\u001b[0m \u001b[38;5;66;03m# If static scenario\u001b[39;00m\n\u001b[0;32m     41\u001b[0m \u001b[38;5;28;01melse\u001b[39;00m:\n\u001b[0;32m     42\u001b[0m     params[c\u001b[38;5;241m.\u001b[39mPARAMSET_SCENARIO_FIL] \u001b[38;5;241m=\u001b[39m os\u001b[38;5;241m.\u001b[39mpath\u001b[38;5;241m.\u001b[39mjoin(\n\u001b[0;32m     43\u001b[0m                                 os\u001b[38;5;241m.\u001b[39mpath\u001b[38;5;241m.\u001b[39mabspath(params[c\u001b[38;5;241m.\u001b[39mPARAMSET_DATASET_FOLDER]), \n\u001b[0;32m     44\u001b[0m                                 params[c\u001b[38;5;241m.\u001b[39mPARAMSET_SCENARIO]\n\u001b[0;32m     45\u001b[0m                                 )\n",
      "File \u001b[1;32m~\\anaconda3\\Lib\\site-packages\\DeepMIMOv3\\generator.py:69\u001b[0m, in \u001b[0;36mgenerate_scene_data\u001b[1;34m(params)\u001b[0m\n\u001b[0;32m     63\u001b[0m         dataset[i][c\u001b[38;5;241m.\u001b[39mDICT_UE_IDX][polar_str][c\u001b[38;5;241m.\u001b[39mOUT_CHANNEL], dataset[i][c\u001b[38;5;241m.\u001b[39mDICT_UE_IDX][polar_str][c\u001b[38;5;241m.\u001b[39mOUT_LOS] \u001b[38;5;241m=\u001b[39m generate_MIMO_channel(dataset[i][c\u001b[38;5;241m.\u001b[39mDICT_UE_IDX][polar_str][c\u001b[38;5;241m.\u001b[39mOUT_PATH], \n\u001b[0;32m     64\u001b[0m                                                                                                                                      params, \n\u001b[0;32m     65\u001b[0m                                                                                                                                      params[c\u001b[38;5;241m.\u001b[39mPARAMSET_ANT_BS][i], \n\u001b[0;32m     66\u001b[0m                                                                                                                                      params[c\u001b[38;5;241m.\u001b[39mPARAMSET_ANT_UE]\n\u001b[0;32m     67\u001b[0m                                                                                                                                      )\n\u001b[0;32m     68\u001b[0m \u001b[38;5;28;01melse\u001b[39;00m:\n\u001b[1;32m---> 69\u001b[0m     dataset[i][c\u001b[38;5;241m.\u001b[39mDICT_UE_IDX][c\u001b[38;5;241m.\u001b[39mOUT_CHANNEL], dataset[i][c\u001b[38;5;241m.\u001b[39mDICT_UE_IDX][c\u001b[38;5;241m.\u001b[39mOUT_LOS] \u001b[38;5;241m=\u001b[39m generate_MIMO_channel(dataset[i][c\u001b[38;5;241m.\u001b[39mDICT_UE_IDX][c\u001b[38;5;241m.\u001b[39mOUT_PATH], \n\u001b[0;32m     70\u001b[0m                                                                                                            params, \n\u001b[0;32m     71\u001b[0m                                                                                                            params[c\u001b[38;5;241m.\u001b[39mPARAMSET_ANT_BS][i], \n\u001b[0;32m     72\u001b[0m                                                                                                            params[c\u001b[38;5;241m.\u001b[39mPARAMSET_ANT_UE]\n\u001b[0;32m     73\u001b[0m                                                                                                            )\n\u001b[0;32m     75\u001b[0m \u001b[38;5;28;01mif\u001b[39;00m params[c\u001b[38;5;241m.\u001b[39mPARAMSET_BS2BS]:\n\u001b[0;32m     76\u001b[0m     safe_print(\u001b[38;5;124m'\u001b[39m\u001b[38;5;130;01m\\n\u001b[39;00m\u001b[38;5;124mBS-BS Channels\u001b[39m\u001b[38;5;124m'\u001b[39m)\n",
      "File \u001b[1;32m~\\anaconda3\\Lib\\site-packages\\DeepMIMOv3\\construct_deepmimo.py:35\u001b[0m, in \u001b[0;36mgenerate_MIMO_channel\u001b[1;34m(raydata, params, tx_ant_params, rx_ant_params)\u001b[0m\n\u001b[0;32m     32\u001b[0m ant_rx_ind \u001b[38;5;241m=\u001b[39m ant_indices(rx_ant_params[c\u001b[38;5;241m.\u001b[39mPARAMSET_ANT_SHAPE])\n\u001b[0;32m     34\u001b[0m \u001b[38;5;28;01mif\u001b[39;00m  params[c\u001b[38;5;241m.\u001b[39mPARAMSET_FDTD]:\n\u001b[1;32m---> 35\u001b[0m     channel \u001b[38;5;241m=\u001b[39m np\u001b[38;5;241m.\u001b[39mzeros((\u001b[38;5;28mlen\u001b[39m(raydata), M_rx, M_tx, \u001b[38;5;28mlen\u001b[39m(subcarriers)), dtype \u001b[38;5;241m=\u001b[39m np\u001b[38;5;241m.\u001b[39mcsingle)\n\u001b[0;32m     36\u001b[0m \u001b[38;5;28;01melse\u001b[39;00m:\n\u001b[0;32m     37\u001b[0m     channel \u001b[38;5;241m=\u001b[39m np\u001b[38;5;241m.\u001b[39mzeros((\u001b[38;5;28mlen\u001b[39m(raydata), M_rx, M_tx, params[c\u001b[38;5;241m.\u001b[39mPARAMSET_NUM_PATHS]), dtype \u001b[38;5;241m=\u001b[39m np\u001b[38;5;241m.\u001b[39mcsingle)\n",
      "\u001b[1;31mMemoryError\u001b[0m: Unable to allocate 1.05 GiB for an array with shape (69040, 1, 32, 64) and data type complex64"
     ]
    }
   ],
   "source": [
    "## Generate and inspect the dataset\n",
    "import time\n",
    "start = time.time()\n",
    "dataset = DeepMIMOv3.generate_data(parameters)\n",
    "end = time.time()\n",
    "\n",
    "print(f\"걸리는시간: {round(end-start,2)}\")"
   ]
  },
  {
   "cell_type": "code",
   "execution_count": null,
   "id": "4e127d34",
   "metadata": {},
   "outputs": [],
   "source": [
    "len(dataset)"
   ]
  },
  {
   "cell_type": "code",
   "execution_count": null,
   "id": "cccdc93e",
   "metadata": {},
   "outputs": [],
   "source": [
    "dataset[0]"
   ]
  },
  {
   "cell_type": "markdown",
   "id": "5b4e72d4",
   "metadata": {},
   "source": [
    "# 사용자 접근 데이터"
   ]
  },
  {
   "cell_type": "code",
   "execution_count": null,
   "id": "57828d31",
   "metadata": {},
   "outputs": [],
   "source": [
    "user_data = dataset[0][0]['user']\n",
    "print(user_data.keys())"
   ]
  },
  {
   "cell_type": "markdown",
   "id": "bc5a3b0c",
   "metadata": {},
   "source": [
    "# 사용자 채널 정보 확인"
   ]
  },
  {
   "cell_type": "code",
   "execution_count": null,
   "id": "23b2884b",
   "metadata": {},
   "outputs": [],
   "source": [
    "# subcarries = 나눈 각각의 주파수 채널\n",
    "# Channel = H <- 채널 벡터\n",
    "# 채널 형태\n",
    "# (user, UE antenna, Bs antenna, subcarrier)\n",
    "channel = dataset[0][0]['user']['channel']\n",
    "print(channel.shape)  "
   ]
  },
  {
   "cell_type": "code",
   "execution_count": null,
   "id": "bf443dc9",
   "metadata": {},
   "outputs": [],
   "source": [
    "print(dataset[0][0]['user']['channel'][100])"
   ]
  },
  {
   "cell_type": "code",
   "execution_count": null,
   "id": "1a931204",
   "metadata": {},
   "outputs": [],
   "source": [
    "print(len(dataset[0][0]['user']['channel'][100]))"
   ]
  },
  {
   "cell_type": "code",
   "execution_count": null,
   "id": "ff08a89e",
   "metadata": {},
   "outputs": [],
   "source": [
    "print(channel[10000][0][0])"
   ]
  },
  {
   "cell_type": "code",
   "execution_count": null,
   "id": "f65feb3b",
   "metadata": {},
   "outputs": [],
   "source": [
    "print(channel[1][0][0])"
   ]
  },
  {
   "cell_type": "markdown",
   "id": "2b079846",
   "metadata": {},
   "source": [
    "# 사용자 위치 정보"
   ]
  },
  {
   "cell_type": "code",
   "execution_count": null,
   "id": "84337e94",
   "metadata": {},
   "outputs": [],
   "source": [
    "location = dataset[0][0]['user']['location']\n",
    "print(location.shape)      # (사용자 수, 3)\n",
    "print(location[0:4])         # 첫 번째 사용자의 (x, y, z)"
   ]
  },
  {
   "cell_type": "markdown",
   "id": "60e9a9b6",
   "metadata": {},
   "source": [
    "# 경로정보"
   ]
  },
  {
   "cell_type": "code",
   "execution_count": null,
   "id": "79cde8ee",
   "metadata": {},
   "outputs": [],
   "source": [
    "paths = dataset[0][0]['user']['paths']\n",
    "#사용자 수\n",
    "print(len(paths))\n",
    "# 첫 번째 사용자 경로 정보\n",
    "print(paths[0])"
   ]
  },
  {
   "cell_type": "markdown",
   "id": "f2242869",
   "metadata": {},
   "source": [
    "# 기지국 정보"
   ]
  },
  {
   "cell_type": "code",
   "execution_count": null,
   "id": "2900e481",
   "metadata": {},
   "outputs": [],
   "source": [
    "bs_data = dataset[0][0]['basestation']\n",
    "print(bs_data.keys())\n"
   ]
  },
  {
   "cell_type": "markdown",
   "id": "c063ea95",
   "metadata": {},
   "source": [
    "# Scene 및 사용자 수"
   ]
  },
  {
   "cell_type": "code",
   "execution_count": null,
   "id": "a20df92d",
   "metadata": {},
   "outputs": [],
   "source": [
    "for i, scene in enumerate(dataset[0]):\n",
    "    user_locs = scene['user']['location']\n",
    "    print(f\"Scene {i}: {len(user_locs)} users\")"
   ]
  },
  {
   "cell_type": "markdown",
   "id": "b38f71e1",
   "metadata": {},
   "source": [
    "# 채널 수"
   ]
  },
  {
   "cell_type": "code",
   "execution_count": null,
   "id": "cbbee52e",
   "metadata": {},
   "outputs": [],
   "source": [
    "len(dataset[0][0]['user']['channel'])"
   ]
  },
  {
   "cell_type": "code",
   "execution_count": null,
   "id": "2d474195",
   "metadata": {},
   "outputs": [],
   "source": [
    "print(dataset[0][0]['user']['paths'][0])"
   ]
  },
  {
   "cell_type": "code",
   "execution_count": null,
   "id": "73df9912",
   "metadata": {},
   "outputs": [],
   "source": [
    "scene = dataset[0][0] # scene 0\n",
    "ue_idx = 0 # 첫 번째 사용자\n",
    "channel = scene['user']['channel'][ue_idx]\n",
    "print(channel.shape)"
   ]
  },
  {
   "cell_type": "code",
   "execution_count": null,
   "id": "c312bc2a",
   "metadata": {},
   "outputs": [],
   "source": [
    "import torch\n",
    "import torch.nn as nn\n",
    "import torch.optim as optim\n",
    "import torchvision\n",
    "import torchvision.transforms as transforms\n",
    "from torch.utils.data import DataLoader\n",
    "import matplotlib.pyplot as plt"
   ]
  },
  {
   "cell_type": "code",
   "execution_count": null,
   "id": "7f11a45a",
   "metadata": {},
   "outputs": [],
   "source": [
    "# GPU 설정\n",
    "device = torch.device(\"cuda\" if torch.cuda.is_available() else \"cpu\")\n",
    "\n",
    "print(device)"
   ]
  },
  {
   "cell_type": "markdown",
   "id": "373ffb59",
   "metadata": {},
   "source": [
    "# channel CIR mat 정보 가져오기"
   ]
  },
  {
   "cell_type": "code",
   "execution_count": null,
   "id": "ec4461cb",
   "metadata": {},
   "outputs": [],
   "source": [
    "import scipy.io as sio\n",
    "\n",
    "file_path = r'C:\\Users\\dlghd\\졸업프로젝트\\LWM\\O2_dyn_3p5\\scene_0\\O2_dyn_3p5.1.CIR.mat'\n",
    "mat_data = sio.loadmat(file_path)\n",
    "\n",
    "# 파일 안의 key 확인\n",
    "print(mat_data.keys())\n",
    "\n",
    "\n"
   ]
  },
  {
   "cell_type": "code",
   "execution_count": null,
   "id": "662cb441",
   "metadata": {},
   "outputs": [],
   "source": [
    "# 일반적으로 CIR key는 'CIR' 또는 'cir' 같은 이름일 가능성 높음\n",
    "H_cir = mat_data['__header__']  \n",
    "print(H_cir)"
   ]
  },
  {
   "cell_type": "markdown",
   "id": "88f3d7c7",
   "metadata": {},
   "source": [
    "# Time-Prediction 시작\n",
    "## Time Series 형태로 변환\n",
    "### 단일사용자 채널 예측"
   ]
  },
  {
   "cell_type": "code",
   "execution_count": null,
   "id": "db7345b0",
   "metadata": {},
   "outputs": [],
   "source": [
    "# H = dataset[0][0]['user']['channel'][100]  # (1, 32, 64), complex\n",
    "# H = H.squeeze(0)  # → (32, 64)\n",
    "\n",
    "# # 채널은 복소수 형태\n",
    "# H_real = H.real   # shape: (32, 64)\n",
    "# H_imag = H.imag   # shape: (32, 64)\n",
    "\n",
    "# H_combined = np.concatenate([H_real, H_imag], axis=0)  # shape: (64, 64)\n"
   ]
  },
  {
   "cell_type": "code",
   "execution_count": null,
   "id": "1f97d362",
   "metadata": {},
   "outputs": [],
   "source": [
    "# # 단일 사용자에 대한 예측 코드\n",
    "# channel_sequence = []\n",
    "\n",
    "# for scene in dataset:\n",
    "#     # 100번재 사용자에 대한 예측\n",
    "#     H = scene[0]['user']['channel'][100]\n",
    "#     H = H.squeeze(0)\n",
    "#     # 채널은 복소수 형태 \n",
    "#     H_real = H.real # (32, 64) = (BS antenna, subcarrier)\n",
    "#     H_imag = H.imag\n",
    "#     H_concat = np.concatenate([H_real, H_imag], axis=0) \n",
    "#     channel_sequence.append(H_concat)\n",
    "\n",
    "# # T는 sence\n",
    "# channel_sequence = np.stack(channel_sequence)  # shape: (T, 64, 64) = (real/imag쌍, subcarrier)\n"
   ]
  },
  {
   "cell_type": "code",
   "execution_count": null,
   "id": "63f48bf7",
   "metadata": {},
   "outputs": [],
   "source": [
    "\n",
    "print(dataset[0][0]['user']['channel'].shape)"
   ]
  },
  {
   "cell_type": "code",
   "execution_count": null,
   "id": "966444f2",
   "metadata": {},
   "outputs": [],
   "source": [
    "# print(\"-\" * 40)\n",
    "# print(\"scene 개수 :\", len(dataset[0]))\n",
    "\n",
    "# valid_users = 0\n",
    "# for s_idx, scene in enumerate(dataset):\n",
    "#     ch_all = scene['user']['channel']\n",
    "#     nonzero_mask = np.abs(ch_all).sum(axis=(1,2,3)) > 0   # (num_users,)\n",
    "#     n_ok = nonzero_mask.sum()\n",
    "#     print(f\"scene {s_idx}  ▶  사용자 {n_ok}/{len(ch_all)} 명 유효\")\n",
    "#     valid_users += n_ok\n",
    "# print(\"총 유효 사용자(중복 포함):\", valid_users)\n",
    "# print(\"-\" * 40)\n"
   ]
  },
  {
   "cell_type": "code",
   "execution_count": null,
   "id": "c68d3bcb",
   "metadata": {},
   "outputs": [],
   "source": [
    "print(dataset[0][0]['user']['channel'])"
   ]
  },
  {
   "cell_type": "code",
   "execution_count": null,
   "id": "c5a6666e",
   "metadata": {},
   "outputs": [],
   "source": [
    "# user 전체 시퀀스 만들어서 전체 user에 대한 prediction 진행하기\n",
    "# 형태 dict user: H\n",
    "user_sequence = {}\n",
    "\n",
    "for scene in dataset:\n",
    "    channel = scene[0]['user']['channel']  # user,1,32,64\n",
    "    \n",
    "    for user, H in enumerate(channel):\n",
    "        if np.abs(H).sum() == 0:\n",
    "            continue\n",
    "        \n",
    "        H = H.squeeze(0) # 32,64\n",
    "        H_concat = np.concatenate([H.real,H.imag], axis=0)\n",
    "        \n",
    "        user_sequence.setdefault(user,[]).append(H_concat)\n"
   ]
  },
  {
   "cell_type": "code",
   "execution_count": null,
   "id": "9effab5e",
   "metadata": {},
   "outputs": [],
   "source": [
    "# (scene 수)\n",
    "print(\"scene 수:\", len(user_sequence[0]))\n",
    "# 채널 행렬 크기 (64, 64)\n",
    "print(\"user_sequence[0][0] shape:\", np.array(user_sequence[0][0]).shape)\n",
    "# 서브캐리어\n",
    "print(\"user_sequence[0][0][0] 길이:\", len(user_sequence[0][0][0]))\n"
   ]
  },
  {
   "cell_type": "code",
   "execution_count": null,
   "id": "8b04bbe0",
   "metadata": {},
   "outputs": [],
   "source": [
    "seq_len = 5\n",
    "X = []\n",
    "y = []\n",
    "\n",
    "# sequence 부족한거 패스\n",
    "for seq in user_sequence.values():  \n",
    "    if len(seq) < seq_len:\n",
    "        continue  \n",
    "    seq = np.stack(seq)  # (T_user, 64, 64)\n",
    "\n",
    "    for i in range(len(seq) - seq_len + 1):\n",
    "        X.append(seq[i:i+seq_len-1])        # (seq_len-1, 64, 64)\n",
    "        y.append(seq[i+seq_len-1])          # (64, 64)\n"
   ]
  },
  {
   "cell_type": "code",
   "execution_count": null,
   "id": "6189b41f",
   "metadata": {},
   "outputs": [],
   "source": [
    "print(type(X))"
   ]
  },
  {
   "cell_type": "code",
   "execution_count": 87,
   "id": "4a87d449",
   "metadata": {},
   "outputs": [
    {
     "ename": "MemoryError",
     "evalue": "Unable to allocate 17.2 GiB for an array with shape (282322, 4, 64, 64) and data type float32",
     "output_type": "error",
     "traceback": [
      "\u001b[1;31m---------------------------------------------------------------------------\u001b[0m",
      "\u001b[1;31mMemoryError\u001b[0m                               Traceback (most recent call last)",
      "Cell \u001b[1;32mIn[87], line 1\u001b[0m\n\u001b[1;32m----> 1\u001b[0m X \u001b[38;5;241m=\u001b[39m np\u001b[38;5;241m.\u001b[39mstack(X)\n\u001b[0;32m      2\u001b[0m y \u001b[38;5;241m=\u001b[39m np\u001b[38;5;241m.\u001b[39mstack(y)\n",
      "File \u001b[1;32m<__array_function__ internals>:200\u001b[0m, in \u001b[0;36mstack\u001b[1;34m(*args, **kwargs)\u001b[0m\n",
      "File \u001b[1;32m~\\anaconda3\\Lib\\site-packages\\numpy\\core\\shape_base.py:471\u001b[0m, in \u001b[0;36mstack\u001b[1;34m(arrays, axis, out, dtype, casting)\u001b[0m\n\u001b[0;32m    469\u001b[0m sl \u001b[38;5;241m=\u001b[39m (\u001b[38;5;28mslice\u001b[39m(\u001b[38;5;28;01mNone\u001b[39;00m),) \u001b[38;5;241m*\u001b[39m axis \u001b[38;5;241m+\u001b[39m (_nx\u001b[38;5;241m.\u001b[39mnewaxis,)\n\u001b[0;32m    470\u001b[0m expanded_arrays \u001b[38;5;241m=\u001b[39m [arr[sl] \u001b[38;5;28;01mfor\u001b[39;00m arr \u001b[38;5;129;01min\u001b[39;00m arrays]\n\u001b[1;32m--> 471\u001b[0m \u001b[38;5;28;01mreturn\u001b[39;00m _nx\u001b[38;5;241m.\u001b[39mconcatenate(expanded_arrays, axis\u001b[38;5;241m=\u001b[39maxis, out\u001b[38;5;241m=\u001b[39mout,\n\u001b[0;32m    472\u001b[0m                        dtype\u001b[38;5;241m=\u001b[39mdtype, casting\u001b[38;5;241m=\u001b[39mcasting)\n",
      "File \u001b[1;32m<__array_function__ internals>:200\u001b[0m, in \u001b[0;36mconcatenate\u001b[1;34m(*args, **kwargs)\u001b[0m\n",
      "\u001b[1;31mMemoryError\u001b[0m: Unable to allocate 17.2 GiB for an array with shape (282322, 4, 64, 64) and data type float32"
     ]
    }
   ],
   "source": [
    "X = np.stack(X)\n",
    "y = np.stack(y)"
   ]
  },
  {
   "cell_type": "code",
   "execution_count": 84,
   "id": "0357b60e",
   "metadata": {},
   "outputs": [
    {
     "ename": "AttributeError",
     "evalue": "'list' object has no attribute 'reshape'",
     "output_type": "error",
     "traceback": [
      "\u001b[1;31m---------------------------------------------------------------------------\u001b[0m",
      "\u001b[1;31mAttributeError\u001b[0m                            Traceback (most recent call last)",
      "Cell \u001b[1;32mIn[84], line 3\u001b[0m\n\u001b[0;32m      1\u001b[0m \u001b[38;5;66;03m# Flatten\u001b[39;00m\n\u001b[0;32m      2\u001b[0m \u001b[38;5;66;03m# 4096 = 64 * 64\u001b[39;00m\n\u001b[1;32m----> 3\u001b[0m X_flat \u001b[38;5;241m=\u001b[39m X\u001b[38;5;241m.\u001b[39mreshape(X\u001b[38;5;241m.\u001b[39mshape[\u001b[38;5;241m0\u001b[39m], X\u001b[38;5;241m.\u001b[39mshape[\u001b[38;5;241m1\u001b[39m], \u001b[38;5;241m-\u001b[39m\u001b[38;5;241m1\u001b[39m) \u001b[38;5;66;03m# (5,4,4096) = (샘플, 시퀀스 길이)\u001b[39;00m\n\u001b[0;32m      4\u001b[0m y_flat \u001b[38;5;241m=\u001b[39m y\u001b[38;5;241m.\u001b[39mreshape(y\u001b[38;5;241m.\u001b[39mshape[\u001b[38;5;241m0\u001b[39m],\u001b[38;5;241m-\u001b[39m\u001b[38;5;241m1\u001b[39m)\n",
      "\u001b[1;31mAttributeError\u001b[0m: 'list' object has no attribute 'reshape'"
     ]
    }
   ],
   "source": [
    "# Flatten\n",
    "# 4096 = 64 * 64\n",
    "\n",
    "X_flat = X.reshape(X.shape[0], X.shape[1], -1) # (5,4,4096) = (샘플, 시퀀스 길이)\n",
    "y_flat = y.reshape(y.shape[0],-1) #(5,4096) # 샘플 대상 예측"
   ]
  },
  {
   "cell_type": "code",
   "execution_count": 100,
   "id": "2ba295df",
   "metadata": {},
   "outputs": [
    {
     "name": "stdout",
     "output_type": "stream",
     "text": [
      "(6, 4, 4096)\n",
      "(6, 4096)\n"
     ]
    }
   ],
   "source": [
    "print(X_flat.shape)\n",
    "print(y_flat.shape)"
   ]
  },
  {
   "cell_type": "code",
   "execution_count": 101,
   "id": "4d2c007c",
   "metadata": {},
   "outputs": [],
   "source": [
    "import torch\n",
    "from torch.utils.data import TensorDataset, DataLoader, random_split\n",
    "\n",
    "device = torch.device(\"cuda\" if torch.cuda.is_available() else \"cpu\")\n",
    "\n",
    "# 아래 텐서 cpu로\n",
    "X_t = torch.tensor(X_flat, dtype=torch.float32)        # (N, seq_len, element_length)\n",
    "y_t = torch.tensor(y_flat, dtype=torch.float32)        # (N,)\n",
    "masked_pos = torch.full((X_t.shape[0], 1),             # (N, 1)\n",
    "                        seq_len - 2,\n",
    "                        dtype=torch.long)\n",
    "\n",
    "#  Dataset 생성\n",
    "full_ds = TensorDataset(X_t, masked_pos, y_t)\n",
    "\n",
    "# train / val 8:2 분할\n",
    "train_size = int(len(full_ds) * 0.8)\n",
    "val_size   = len(full_ds) - train_size\n",
    "train_ds, val_ds = random_split(full_ds, [train_size, val_size])\n",
    "\n",
    "# DataLoader 정의\n",
    "batch_size = 32\n",
    "\n",
    "train_loader = DataLoader(\n",
    "    train_ds,\n",
    "    batch_size=batch_size,\n",
    "    shuffle=True,        # epoch마다 섞기\n",
    "    drop_last=False\n",
    ")\n",
    "\n",
    "val_loader = DataLoader(\n",
    "    val_ds,\n",
    "    batch_size=batch_size,\n",
    "    shuffle=False\n",
    ")\n"
   ]
  },
  {
   "cell_type": "code",
   "execution_count": 102,
   "id": "580386d8",
   "metadata": {},
   "outputs": [
    {
     "name": "stdout",
     "output_type": "stream",
     "text": [
      "tensor([[[-4.9277e-06, -4.7682e-06, -4.4857e-06,  ..., -5.5699e-06,\n",
      "          -5.9204e-06, -6.1182e-06],\n",
      "         [ 0.0000e+00,  0.0000e+00,  0.0000e+00,  ...,  0.0000e+00,\n",
      "           0.0000e+00,  0.0000e+00],\n",
      "         [ 0.0000e+00,  0.0000e+00,  0.0000e+00,  ...,  0.0000e+00,\n",
      "           0.0000e+00,  0.0000e+00],\n",
      "         [ 0.0000e+00,  0.0000e+00,  0.0000e+00,  ...,  0.0000e+00,\n",
      "           0.0000e+00,  0.0000e+00]],\n",
      "\n",
      "        [[ 0.0000e+00,  0.0000e+00,  0.0000e+00,  ...,  0.0000e+00,\n",
      "           0.0000e+00,  0.0000e+00],\n",
      "         [ 0.0000e+00,  0.0000e+00,  0.0000e+00,  ...,  0.0000e+00,\n",
      "           0.0000e+00,  0.0000e+00],\n",
      "         [ 0.0000e+00,  0.0000e+00,  0.0000e+00,  ...,  0.0000e+00,\n",
      "           0.0000e+00,  0.0000e+00],\n",
      "         [ 0.0000e+00,  0.0000e+00,  0.0000e+00,  ...,  0.0000e+00,\n",
      "           0.0000e+00,  0.0000e+00]],\n",
      "\n",
      "        [[ 0.0000e+00,  0.0000e+00,  0.0000e+00,  ...,  0.0000e+00,\n",
      "           0.0000e+00,  0.0000e+00],\n",
      "         [ 0.0000e+00,  0.0000e+00,  0.0000e+00,  ...,  0.0000e+00,\n",
      "           0.0000e+00,  0.0000e+00],\n",
      "         [ 0.0000e+00,  0.0000e+00,  0.0000e+00,  ...,  0.0000e+00,\n",
      "           0.0000e+00,  0.0000e+00],\n",
      "         [ 0.0000e+00,  0.0000e+00,  0.0000e+00,  ...,  0.0000e+00,\n",
      "           0.0000e+00,  0.0000e+00]],\n",
      "\n",
      "        [[ 0.0000e+00,  0.0000e+00,  0.0000e+00,  ...,  0.0000e+00,\n",
      "           0.0000e+00,  0.0000e+00],\n",
      "         [ 0.0000e+00,  0.0000e+00,  0.0000e+00,  ...,  0.0000e+00,\n",
      "           0.0000e+00,  0.0000e+00],\n",
      "         [ 0.0000e+00,  0.0000e+00,  0.0000e+00,  ...,  0.0000e+00,\n",
      "           0.0000e+00,  0.0000e+00],\n",
      "         [ 0.0000e+00,  0.0000e+00,  0.0000e+00,  ...,  0.0000e+00,\n",
      "           0.0000e+00,  0.0000e+00]],\n",
      "\n",
      "        [[ 0.0000e+00,  0.0000e+00,  0.0000e+00,  ...,  0.0000e+00,\n",
      "           0.0000e+00,  0.0000e+00],\n",
      "         [ 0.0000e+00,  0.0000e+00,  0.0000e+00,  ...,  0.0000e+00,\n",
      "           0.0000e+00,  0.0000e+00],\n",
      "         [ 0.0000e+00,  0.0000e+00,  0.0000e+00,  ...,  0.0000e+00,\n",
      "           0.0000e+00,  0.0000e+00],\n",
      "         [ 0.0000e+00,  0.0000e+00,  0.0000e+00,  ...,  0.0000e+00,\n",
      "           0.0000e+00,  0.0000e+00]],\n",
      "\n",
      "        [[ 0.0000e+00,  0.0000e+00,  0.0000e+00,  ...,  0.0000e+00,\n",
      "           0.0000e+00,  0.0000e+00],\n",
      "         [ 0.0000e+00,  0.0000e+00,  0.0000e+00,  ...,  0.0000e+00,\n",
      "           0.0000e+00,  0.0000e+00],\n",
      "         [ 0.0000e+00,  0.0000e+00,  0.0000e+00,  ...,  0.0000e+00,\n",
      "           0.0000e+00,  0.0000e+00],\n",
      "         [ 0.0000e+00,  0.0000e+00,  0.0000e+00,  ...,  0.0000e+00,\n",
      "           0.0000e+00,  0.0000e+00]]])\n"
     ]
    }
   ],
   "source": [
    "print(X_t)"
   ]
  },
  {
   "cell_type": "code",
   "execution_count": 103,
   "id": "9f988d55",
   "metadata": {},
   "outputs": [
    {
     "name": "stdout",
     "output_type": "stream",
     "text": [
      "tensor(0.)\n"
     ]
    }
   ],
   "source": [
    "print(X_t[3][0][1])"
   ]
  },
  {
   "cell_type": "code",
   "execution_count": 104,
   "id": "00c61dec",
   "metadata": {},
   "outputs": [
    {
     "name": "stdout",
     "output_type": "stream",
     "text": [
      "torch.Size([6, 4, 4096])\n",
      "torch.Size([6, 4096])\n"
     ]
    }
   ],
   "source": [
    "print(X_t.shape)\n",
    "print(y_t.shape)\n",
    "# mini_batch, sequence_len, H_real+H_imag"
   ]
  },
  {
   "cell_type": "markdown",
   "id": "4cf6bac8",
   "metadata": {},
   "source": [
    "# 아래 코드 구조\n",
    "┌──────────────────────────────────────────────────────────────┐\n",
    "│ input_ids  (B, seq_len, element_length)  ─┐                 │\n",
    "│ masked_pos (B, num_mask)                  ├─>  LWM backbone │\n",
    "│                                           │    (12-층 트랜스포머)  \n",
    "└────────────────────────────────────────────┘         │\n",
    "            logits_lm  (B, num_mask, element_length)  │   enc_output (B, seq_len, d_model)\n",
    "                                                      ▼\n",
    "                        ┌─[풀링]───────────────┐      ←── feat (B, d_model)\n",
    "                        │ 첫 토큰(0번) 선택    │\n",
    "                        │   or 평균/최대 풀링 │\n",
    "                        └──────────────────────┘\n",
    "                                      ▼\n",
    "                       FC 헤드  (d_model → hidden_dim → out_dim)\n",
    "                                      ▼\n",
    "                                out (B, out_dim)\n",
    "\n",
    "# 시각적비유\n",
    "\n",
    "[패치 프로젝터]──▶[Transformer ×12]──▶[LayerNorm]──┐\n",
    "                                                  ├─▶ 64-차 벡터 (CLS 또는 풀링) ─▶ MLP ─▶ out                                                \n",
    "[Positional Embedding]─────────────────────────────┘\n"
   ]
  },
  {
   "cell_type": "code",
   "execution_count": 105,
   "id": "7d882a4d",
   "metadata": {},
   "outputs": [],
   "source": [
    "\"\"\"\n",
    "LWMWithHead: 사전학습된 LWM(Transformer encoder)을 ‘백본(backbone)’으로 사용하고,\n",
    "그 뒤에 새로운 완전연결(FC) 헤드(head)를 붙여 다운스트림 작업(회귀·분류 등)에\n",
    "사용할 수 있도록 만든 래퍼(wrapper) 클래스입니다.\n",
    "\"\"\"\n",
    "\n",
    "import torch\n",
    "import torch.nn as nn\n",
    "from lwm_model import lwm   # 기존 LWM 모델 클래스 (import 경로는 프로젝트 구조에 맞게 조정)\n",
    "\n",
    "class LWMWithHead(nn.Module):\n",
    "    \"\"\"\n",
    "    Args\n",
    "    ----\n",
    "    element_length : int\n",
    "        LWM 입력 패치의 길이. 예) 64*64 = 4096 (H_real + H_imag)\n",
    "    d_model        : int\n",
    "        Transformer 모델 차원(=LWM hidden size).\n",
    "    max_len        : int\n",
    "        포지셔널 임베딩 최대 길이(시퀀스 길이).\n",
    "    n_layers       : int\n",
    "        Transformer 인코더 층 수.\n",
    "    hidden_dim     : int\n",
    "        새 FC 헤드의 중간 차원.\n",
    "    out_dim        : int\n",
    "        최종 출력 차원. 1 → 회귀/이진분류, k → k-클래스 분류.\n",
    "    freeze_backbone: bool\n",
    "        True면 백본을 동결(freeze)하여 헤드만 학습.\n",
    "    ckpt_path      : str | None\n",
    "        사전학습 가중치(.pth) 경로. None이면 랜덤 초기화.\n",
    "    device         : str\n",
    "        'cuda' / 'cpu' 등 모델을 올릴 장치.\n",
    "    \"\"\"\n",
    "\n",
    "    def __init__(\n",
    "        self,\n",
    "        element_length: int = 4096,\n",
    "        d_model: int = 64,\n",
    "        max_len: int = 129,\n",
    "        n_layers: int = 12,\n",
    "        hidden_dim: int = 256,\n",
    "        out_dim: int = 1,\n",
    "        freeze_backbone: bool = False,\n",
    "        ckpt_path: str | None = None,\n",
    "        device: str = \"cuda\",\n",
    "    ):\n",
    "        super().__init__()\n",
    "\n",
    "        # ────────────────────────────\n",
    "        # 1) 백본(backbone) 초기화\n",
    "        # ────────────────────────────\n",
    "        if ckpt_path is None:\n",
    "            # 가중치 없이 새로 생성\n",
    "            self.backbone = lwm(\n",
    "                element_length=element_length,\n",
    "                d_model=d_model,\n",
    "                max_len=max_len,\n",
    "                n_layers=n_layers\n",
    "            ).to(device)\n",
    "        else:\n",
    "            # 사전학습 가중치 로드\n",
    "            self.backbone = lwm.from_pretrained(\n",
    "                ckpt_name=ckpt_path,\n",
    "                device=device\n",
    "            )\n",
    "\n",
    "        # 백본 동결(선택)\n",
    "        if freeze_backbone:\n",
    "            for p in self.backbone.parameters():\n",
    "                p.requires_grad = False\n",
    "\n",
    "        # ────────────────────────────\n",
    "        # 2) 헤드(head) 정의\n",
    "        # ────────────────────────────\n",
    "        self.head = nn.Sequential(\n",
    "            nn.Linear(d_model, hidden_dim),  # 첫 FC\n",
    "            nn.ReLU(),                       # 활성화\n",
    "            nn.Dropout(0.3),                 # 드롭아웃\n",
    "            nn.Linear(hidden_dim, out_dim)   # 최종 FC\n",
    "        )\n",
    "\n",
    "    # ────────────────────────────\n",
    "    # forward\n",
    "    # ────────────────────────────\n",
    "    def forward(self, input_ids, masked_pos):\n",
    "        \"\"\"\n",
    "        Parameters\n",
    "        ----------\n",
    "        input_ids : Tensor  (B, seq_len, element_length)\n",
    "            LWM 입력 시퀀스 (패치/토큰 단위 실수·복소수 채널값 등).\n",
    "        masked_pos : Tensor  (B, num_mask)\n",
    "            LWM의 마스크드 채널 모델링용 인덱스 (백본 규격 유지용).\n",
    "\n",
    "        Returns\n",
    "        -------\n",
    "        out : Tensor  (B, out_dim)\n",
    "            헤드에서 계산된 다운스트림 작업용 로짓/예측값.\n",
    "        \"\"\"\n",
    "\n",
    "        # 기존 LWM forward:\n",
    "        #   logits_lm : (B, num_mask, element_length)  ← 사용 안 함\n",
    "        #   enc_output: (B, seq_len, d_model)\n",
    "        _, enc_output = self.backbone(input_ids, masked_pos)\n",
    "\n",
    "        # 특징 추출(feat)\n",
    "        # ① 첫 토큰 벡터 사용 (CLS 개념) ─────────────\n",
    "        feat = enc_output[:, 0, :]           # (B, d_model)\n",
    "\n",
    "        # ② 평균 풀링 예시 (필요 시 주석 해제) ─────\n",
    "        # feat = enc_output.mean(dim=1)       # (B, d_model)\n",
    "\n",
    "        # ③ Max 풀링 예시 (필요 시 주석 해제) ─────\n",
    "        # feat, _ = enc_output.max(dim=1)     # (B, d_model)\n",
    "\n",
    "        # 헤드 통과 → 최종 출력\n",
    "        out = self.head(feat)                # (B, out_dim)\n",
    "        return out\n"
   ]
  },
  {
   "cell_type": "code",
   "execution_count": 106,
   "id": "b37383cc",
   "metadata": {},
   "outputs": [
    {
     "name": "stdout",
     "output_type": "stream",
     "text": [
      "Using device: cuda\n"
     ]
    }
   ],
   "source": [
    "import torch\n",
    "import torch.nn as nn\n",
    "from torch.optim import Adam\n",
    "\n",
    "# 디바이스 설정(GPU/CPU)\n",
    "device = torch.device(\"cuda\" if torch.cuda.is_available() else \"cpu\")\n",
    "print(f\"Using device: {device}\")\n",
    "\n",
    "# 모델 초기화\n",
    "element_length = 64 * 64\n",
    "model = LWMWithHead(\n",
    "    element_length=element_length,\n",
    "    out_dim=element_length, # 회귀(스칼라 예측) = out_dim을 4096으로해야 진행됨\n",
    "    freeze_backbone=False,  # backbone과 같이 학습\n",
    "    ckpt_path = None, # 사전학습 weight 없으며 None\n",
    "    device = device\n",
    ").to(device)\n",
    "\n",
    "# 손실함수\n",
    "criterion = nn.MSELoss()\n",
    "\n",
    "# 옵티마이저 설정\n",
    "optimizer = Adam(model.parameters(), lr=1e-4)"
   ]
  },
  {
   "cell_type": "code",
   "execution_count": 107,
   "id": "625b128d",
   "metadata": {},
   "outputs": [
    {
     "name": "stdout",
     "output_type": "stream",
     "text": [
      "Epoch 1/10, Loss: 0.099071\n",
      "Epoch 2/10, Loss: 0.079470\n",
      "Epoch 3/10, Loss: 0.064805\n",
      "Epoch 4/10, Loss: 0.048726\n",
      "Epoch 5/10, Loss: 0.048853\n",
      "Epoch 6/10, Loss: 0.043881\n",
      "Epoch 7/10, Loss: 0.039516\n",
      "Epoch 8/10, Loss: 0.034874\n",
      "Epoch 9/10, Loss: 0.030161\n",
      "Epoch 10/10, Loss: 0.033556\n",
      "걸린시간: 0.5\n"
     ]
    }
   ],
   "source": [
    "# 모델 학습\n",
    "import time\n",
    "start = time.time()\n",
    "\n",
    "num_epochs = 10\n",
    "for epoch in range(num_epochs):\n",
    "    model.train()\n",
    "    for input_ids, masked_pos, target in train_loader:\n",
    "        input_ids, masked_pos, target = [x.to(device) for x in (input_ids, masked_pos, target)]\n",
    "        \n",
    "        pred = model(input_ids, masked_pos).squeeze(-1)  # (B,)로 맞춤\n",
    "        loss = criterion(pred, target)\n",
    "\n",
    "        optimizer.zero_grad()\n",
    "        loss.backward()\n",
    "        optimizer.step()\n",
    "    \n",
    "    print(f\"Epoch {epoch+1}/{num_epochs}, Loss: {loss.item():.6f}\")\n",
    "end = time.time()\n",
    "\n",
    "print(f\"걸린시간: {round(end-start,2)}\")"
   ]
  },
  {
   "cell_type": "code",
   "execution_count": 108,
   "id": "3598cd58",
   "metadata": {},
   "outputs": [],
   "source": [
    "# 모델 평가 방법\n",
    "import torch.nn.functional as F\n",
    "\n",
    "def rmse(pred: torch.Tensor, target: torch.Tensor) -> torch.Tensor:\n",
    "    \"\"\"\n",
    "    RMSE = Root MSE\n",
    "    RMSE = {1/n*sum((y^-y)**2)}**1/2\n",
    "    \"\"\"\n",
    "    return torch.sqrt(F.mse_loss(pred, target, reduction=\"mean\"))   # √MSE\n",
    "\n",
    "def nmse(pred: torch.Tensor, target: torch.Tensor) -> torch.Tensor:\n",
    "    \"\"\"\n",
    "    Normalized MSE  =  E[‖ŷ − y‖²] / E[‖y‖²]\n",
    "    returns: 스칼라 (배치 평균)\n",
    "    \"\"\"\n",
    "    # (B, …) → (B,)  : 각 샘플별 제곱합\n",
    "    mse_per_sample   = ((pred - target)**2).view(pred.size(0), -1).sum(dim=1)\n",
    "    power_per_sample = (target**2).view(target.size(0), -1).sum(dim=1)\n",
    "    return (mse_per_sample / power_per_sample).mean()\n"
   ]
  },
  {
   "cell_type": "code",
   "execution_count": 109,
   "id": "97deedce",
   "metadata": {},
   "outputs": [],
   "source": [
    "# 모델 평가 함수\n",
    "import torch\n",
    "import torch.nn.functional as F\n",
    "\n",
    "# ─────────────────────────────────────────\n",
    "# 1. 배치 단위 RMSE, NMSE 함수\n",
    "# ─────────────────────────────────────────\n",
    "def rmse(pred: torch.Tensor, target: torch.Tensor) -> torch.Tensor:\n",
    "    \"\"\"\n",
    "    Root-Mean-Squared Error\n",
    "    returns: 스칼라 (배치 평균)\n",
    "    \"\"\"\n",
    "    return torch.sqrt(F.mse_loss(pred, target, reduction=\"mean\"))   # √MSE\n",
    "\n",
    "def nmse(pred: torch.Tensor, target: torch.Tensor) -> torch.Tensor:\n",
    "    \"\"\"\n",
    "    Normalized MSE  =  E[‖ŷ − y‖²] / E[‖y‖²]\n",
    "      · 채널 예측 분야에서 흔히 쓰는 지표\n",
    "    returns: 스칼라 (배치 평균)\n",
    "    \"\"\"\n",
    "    # (B, …) → (B,)  : 각 샘플별 제곱합\n",
    "    mse_per_sample   = ((pred - target)**2).view(pred.size(0), -1).sum(dim=1)\n",
    "    power_per_sample = (target**2).view(target.size(0), -1).sum(dim=1)\n",
    "    return (mse_per_sample / power_per_sample).mean()\n",
    "\n",
    "\n",
    "# ─────────────────────────────────────────\n",
    "# 2. 검증 루프 예시\n",
    "# ─────────────────────────────────────────\n",
    "def evaluate(model, loader, device=\"cuda\"):\n",
    "    model.eval()\n",
    "    total_rmse, total_nmse = 0.0, 0.0\n",
    "\n",
    "    with torch.no_grad():\n",
    "        for input_ids, masked_pos, target in loader:\n",
    "            input_ids  = input_ids.to(device)\n",
    "            masked_pos = masked_pos.to(device)\n",
    "            target     = target.to(device)\n",
    "\n",
    "            pred = model(input_ids, masked_pos)\n",
    "\n",
    "            total_rmse += rmse(pred, target).item() * input_ids.size(0)\n",
    "            total_nmse += nmse(pred, target).item() * input_ids.size(0)\n",
    "\n",
    "    N = len(loader.dataset)\n",
    "    return {\n",
    "        \"RMSE\": total_rmse / N,\n",
    "        \"NMSE\": total_nmse / N\n",
    "    }\n"
   ]
  },
  {
   "cell_type": "code",
   "execution_count": 110,
   "id": "1670cdec",
   "metadata": {},
   "outputs": [
    {
     "name": "stdout",
     "output_type": "stream",
     "text": [
      "[Epoch 01]  val_RMSE = 0.1194   val_NMSE = inf   val_NMSE(dB) = inf dB\n",
      "[Epoch 02]  val_RMSE = 0.1135   val_NMSE = inf   val_NMSE(dB) = inf dB\n",
      "[Epoch 03]  val_RMSE = 0.1082   val_NMSE = inf   val_NMSE(dB) = inf dB\n",
      "[Epoch 04]  val_RMSE = 0.1039   val_NMSE = inf   val_NMSE(dB) = inf dB\n",
      "[Epoch 05]  val_RMSE = 0.1008   val_NMSE = inf   val_NMSE(dB) = inf dB\n",
      "[Epoch 06]  val_RMSE = 0.0985   val_NMSE = inf   val_NMSE(dB) = inf dB\n",
      "[Epoch 07]  val_RMSE = 0.0965   val_NMSE = inf   val_NMSE(dB) = inf dB\n",
      "[Epoch 08]  val_RMSE = 0.0945   val_NMSE = inf   val_NMSE(dB) = inf dB\n",
      "[Epoch 09]  val_RMSE = 0.0925   val_NMSE = inf   val_NMSE(dB) = inf dB\n",
      "[Epoch 10]  val_RMSE = 0.0907   val_NMSE = inf   val_NMSE(dB) = inf dB\n",
      "[Epoch 11]  val_RMSE = 0.0889   val_NMSE = inf   val_NMSE(dB) = inf dB\n",
      "[Epoch 12]  val_RMSE = 0.0870   val_NMSE = inf   val_NMSE(dB) = inf dB\n",
      "[Epoch 13]  val_RMSE = 0.0849   val_NMSE = inf   val_NMSE(dB) = inf dB\n",
      "[Epoch 14]  val_RMSE = 0.0826   val_NMSE = inf   val_NMSE(dB) = inf dB\n",
      "[Epoch 15]  val_RMSE = 0.0803   val_NMSE = inf   val_NMSE(dB) = inf dB\n",
      "[Epoch 16]  val_RMSE = 0.0779   val_NMSE = inf   val_NMSE(dB) = inf dB\n",
      "[Epoch 17]  val_RMSE = 0.0757   val_NMSE = inf   val_NMSE(dB) = inf dB\n",
      "[Epoch 18]  val_RMSE = 0.0737   val_NMSE = inf   val_NMSE(dB) = inf dB\n",
      "[Epoch 19]  val_RMSE = 0.0720   val_NMSE = inf   val_NMSE(dB) = inf dB\n",
      "[Epoch 20]  val_RMSE = 0.0707   val_NMSE = inf   val_NMSE(dB) = inf dB\n",
      "[Epoch 21]  val_RMSE = 0.0695   val_NMSE = inf   val_NMSE(dB) = inf dB\n",
      "[Epoch 22]  val_RMSE = 0.0683   val_NMSE = inf   val_NMSE(dB) = inf dB\n",
      "[Epoch 23]  val_RMSE = 0.0673   val_NMSE = inf   val_NMSE(dB) = inf dB\n",
      "[Epoch 24]  val_RMSE = 0.0663   val_NMSE = inf   val_NMSE(dB) = inf dB\n",
      "[Epoch 25]  val_RMSE = 0.0652   val_NMSE = inf   val_NMSE(dB) = inf dB\n",
      "[Epoch 26]  val_RMSE = 0.0639   val_NMSE = inf   val_NMSE(dB) = inf dB\n",
      "[Epoch 27]  val_RMSE = 0.0625   val_NMSE = inf   val_NMSE(dB) = inf dB\n",
      "[Epoch 28]  val_RMSE = 0.0612   val_NMSE = inf   val_NMSE(dB) = inf dB\n",
      "[Epoch 29]  val_RMSE = 0.0599   val_NMSE = inf   val_NMSE(dB) = inf dB\n",
      "[Epoch 30]  val_RMSE = 0.0588   val_NMSE = inf   val_NMSE(dB) = inf dB\n"
     ]
    }
   ],
   "source": [
    "num_epochs = 30\n",
    "patience_counter = 0\n",
    "\n",
    "for epoch in range(1, num_epochs + 1):\n",
    "    # ──────────── ① 학습 ────────────\n",
    "    model.train()\n",
    "    for input_ids, masked_pos, target in train_loader:\n",
    "        input_ids  = input_ids.to(device)\n",
    "        masked_pos = masked_pos.to(device)\n",
    "        target     = target.to(device)\n",
    "\n",
    "        pred = model(input_ids, masked_pos)\n",
    "        loss = criterion(pred, target)\n",
    "\n",
    "        optimizer.zero_grad()\n",
    "        loss.backward()\n",
    "        optimizer.step()\n",
    "\n",
    "    # ──────────── ② 검증 ────────────\n",
    "    metrics = evaluate(model, val_loader, device)\n",
    "    rmse_val, nmse_val = metrics[\"RMSE\"], metrics[\"NMSE\"]\n",
    "\n",
    "    # ──────────── ③ 로그 출력 ────────────\n",
    "    print(f\"[Epoch {epoch:02d}]  \"\n",
    "          f\"val_RMSE = {rmse_val:.4f}   \"\n",
    "          f\"val_NMSE = {nmse_val:.4e}   \"\n",
    "          f\"val_NMSE(dB) = {10*torch.log10(torch.tensor(nmse_val)):.2f} dB\")\n"
   ]
  },
  {
   "cell_type": "code",
   "execution_count": null,
   "id": "5e7b169d",
   "metadata": {},
   "outputs": [],
   "source": []
  }
 ],
 "metadata": {
  "kernelspec": {
   "display_name": "Python 3 (ipykernel)",
   "language": "python",
   "name": "python3"
  },
  "language_info": {
   "codemirror_mode": {
    "name": "ipython",
    "version": 3
   },
   "file_extension": ".py",
   "mimetype": "text/x-python",
   "name": "python",
   "nbconvert_exporter": "python",
   "pygments_lexer": "ipython3",
   "version": "3.11.3"
  }
 },
 "nbformat": 4,
 "nbformat_minor": 5
}
