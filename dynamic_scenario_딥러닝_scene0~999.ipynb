{
 "cells": [
  {
   "cell_type": "code",
   "execution_count": 1,
   "id": "0ec90d17",
   "metadata": {},
   "outputs": [],
   "source": [
    "import torch\n",
    "import torch.nn as nn\n",
    "import torch.optim as optim\n",
    "import torchvision\n",
    "import torchvision.transforms as transforms\n",
    "from torch.utils.data import DataLoader"
   ]
  },
  {
   "cell_type": "code",
   "execution_count": 2,
   "id": "47baa533",
   "metadata": {},
   "outputs": [
    {
     "name": "stdout",
     "output_type": "stream",
     "text": [
      "cuda\n"
     ]
    }
   ],
   "source": [
    "# GPU 설정\n",
    "device = torch.device(\"cuda\" if torch.cuda.is_available() else \"cpu\")\n",
    "print(device)"
   ]
  },
  {
   "cell_type": "code",
   "execution_count": 3,
   "id": "23623e8a",
   "metadata": {},
   "outputs": [
    {
     "name": "stdout",
     "output_type": "stream",
     "text": [
      "Requirement already satisfied: DeepMIMOv3 in c:\\users\\dlghd\\anaconda3\\lib\\site-packages (0.2.8)\n",
      "Requirement already satisfied: umap-learn in c:\\users\\dlghd\\anaconda3\\lib\\site-packages (0.5.7)\n",
      "Requirement already satisfied: numpy in c:\\users\\dlghd\\anaconda3\\lib\\site-packages (from DeepMIMOv3) (1.24.3)\n",
      "Requirement already satisfied: scipy in c:\\users\\dlghd\\anaconda3\\lib\\site-packages (from DeepMIMOv3) (1.10.1)\n",
      "Requirement already satisfied: tqdm in c:\\users\\dlghd\\anaconda3\\lib\\site-packages (from DeepMIMOv3) (4.65.0)\n",
      "Requirement already satisfied: matplotlib in c:\\users\\dlghd\\anaconda3\\lib\\site-packages (from DeepMIMOv3) (3.7.1)\n",
      "Requirement already satisfied: scikit-learn>=0.22 in c:\\users\\dlghd\\anaconda3\\lib\\site-packages (from umap-learn) (1.2.2)\n",
      "Requirement already satisfied: numba>=0.51.2 in c:\\users\\dlghd\\anaconda3\\lib\\site-packages (from umap-learn) (0.57.0)\n",
      "Requirement already satisfied: pynndescent>=0.5 in c:\\users\\dlghd\\anaconda3\\lib\\site-packages (from umap-learn) (0.5.13)\n",
      "Requirement already satisfied: llvmlite<0.41,>=0.40.0dev0 in c:\\users\\dlghd\\anaconda3\\lib\\site-packages (from numba>=0.51.2->umap-learn) (0.40.0)\n",
      "Requirement already satisfied: joblib>=0.11 in c:\\users\\dlghd\\anaconda3\\lib\\site-packages (from pynndescent>=0.5->umap-learn) (1.2.0)\n",
      "Requirement already satisfied: threadpoolctl>=2.0.0 in c:\\users\\dlghd\\anaconda3\\lib\\site-packages (from scikit-learn>=0.22->umap-learn) (2.2.0)\n",
      "Requirement already satisfied: contourpy>=1.0.1 in c:\\users\\dlghd\\anaconda3\\lib\\site-packages (from matplotlib->DeepMIMOv3) (1.0.5)\n",
      "Requirement already satisfied: cycler>=0.10 in c:\\users\\dlghd\\anaconda3\\lib\\site-packages (from matplotlib->DeepMIMOv3) (0.11.0)\n",
      "Requirement already satisfied: fonttools>=4.22.0 in c:\\users\\dlghd\\anaconda3\\lib\\site-packages (from matplotlib->DeepMIMOv3) (4.25.0)\n",
      "Requirement already satisfied: kiwisolver>=1.0.1 in c:\\users\\dlghd\\anaconda3\\lib\\site-packages (from matplotlib->DeepMIMOv3) (1.4.4)\n",
      "Requirement already satisfied: packaging>=20.0 in c:\\users\\dlghd\\anaconda3\\lib\\site-packages (from matplotlib->DeepMIMOv3) (23.0)\n",
      "Requirement already satisfied: pillow>=6.2.0 in c:\\users\\dlghd\\anaconda3\\lib\\site-packages (from matplotlib->DeepMIMOv3) (9.4.0)\n",
      "Requirement already satisfied: pyparsing>=2.3.1 in c:\\users\\dlghd\\anaconda3\\lib\\site-packages (from matplotlib->DeepMIMOv3) (3.0.9)\n",
      "Requirement already satisfied: python-dateutil>=2.7 in c:\\users\\dlghd\\anaconda3\\lib\\site-packages (from matplotlib->DeepMIMOv3) (2.8.2)\n",
      "Requirement already satisfied: colorama in c:\\users\\dlghd\\anaconda3\\lib\\site-packages (from tqdm->DeepMIMOv3) (0.4.6)\n",
      "Requirement already satisfied: six>=1.5 in c:\\users\\dlghd\\anaconda3\\lib\\site-packages (from python-dateutil>=2.7->matplotlib->DeepMIMOv3) (1.16.0)\n",
      "Note: you may need to restart the kernel to use updated packages.\n"
     ]
    }
   ],
   "source": [
    "pip install DeepMIMOv3 umap-learn"
   ]
  },
  {
   "cell_type": "code",
   "execution_count": 4,
   "id": "14b3564f",
   "metadata": {},
   "outputs": [],
   "source": [
    "#LWM을 하기위한 라이브러리 가져오기\n",
    "import DeepMIMOv3\n",
    "import numpy as np\n",
    "from pprint import pprint\n",
    "import matplotlib.pyplot as plt\n",
    "\n",
    "plt . rcParams [ 'figure.figsize' ]  =  [ 12 ,  8 ]  # 기본 플롯 크기 설정"
   ]
  },
  {
   "cell_type": "code",
   "execution_count": 5,
   "id": "ce5ac681",
   "metadata": {},
   "outputs": [
    {
     "name": "stdout",
     "output_type": "stream",
     "text": [
      "{'OFDM': {'RX_filter': 0,\n",
      "          'bandwidth': 0.05,\n",
      "          'selected_subcarriers': array([0]),\n",
      "          'subcarriers': 512},\n",
      " 'OFDM_channels': 1,\n",
      " 'active_BS': array([1]),\n",
      " 'bs_antenna': {'FoV': array([360, 180]),\n",
      "                'radiation_pattern': 'isotropic',\n",
      "                'rotation': array([0, 0, 0]),\n",
      "                'shape': array([8, 4]),\n",
      "                'spacing': 0.5},\n",
      " 'dataset_folder': './Raytracing_scenarios',\n",
      " 'dynamic_scenario_scenes': array([1]),\n",
      " 'enable_BS2BS': 1,\n",
      " 'enable_doppler': 0,\n",
      " 'enable_dual_polar': 0,\n",
      " 'num_paths': 5,\n",
      " 'scenario': 'O1_60',\n",
      " 'ue_antenna': {'FoV': array([360, 180]),\n",
      "                'radiation_pattern': 'isotropic',\n",
      "                'rotation': array([0, 0, 0]),\n",
      "                'shape': array([4, 2]),\n",
      "                'spacing': 0.5},\n",
      " 'user_rows': array([1]),\n",
      " 'user_subsampling': 1}\n"
     ]
    }
   ],
   "source": [
    "## Load and print the default parameters\n",
    "# bandwith: 0.05GHz(50MHz 대역폭 사용)\n",
    "\n",
    "parameters = DeepMIMOv3.default_params()\n",
    "pprint(parameters)"
   ]
  },
  {
   "cell_type": "code",
   "execution_count": 6,
   "id": "1f0642c1",
   "metadata": {},
   "outputs": [],
   "source": [
    "## Change parameters for the setup\n",
    "# Scenario O1_60 extracted at the dataset_folder\n",
    "#LWM 동적 시나리오 불러오기\n",
    "#자신의 LWM 파일 위치 경로 작성\n",
    "# parameters['dataset_folder'] = r'/content/drive/MyDrive/Colab Notebooks/LWM'\n",
    "parameters['dataset_folder'] = r'C:\\Users\\dlghd\\졸업프로젝트\\LWM'\n",
    "\n",
    "# scnario = 02_dyn_3p5 <- 다운받은 파일(동적시나리오)\n",
    "parameters['scenario'] = 'O2_dyn_3p5'\n",
    "parameters['dynamic_scenario_scenes'] = np.arange(1000) #scene 0~9\n",
    "\n",
    "# 각 사용자-기지국 채널에 대해 최대 10개 멀티패스 경로 사용\n",
    "parameters['num_paths'] = 10\n",
    "\n",
    "# User rows 1-100\n",
    "parameters['user_rows'] = np.arange(100)\n",
    "\n",
    "# Activate only the first basestation\n",
    "parameters['active_BS'] = np.array([1])\n",
    "\n",
    "parameters['activate_OFDM'] = 1\n",
    "\n",
    "parameters['OFDM']['bandwidth'] = 0.05 # 50 MHz\n",
    "parameters['OFDM']['subcarriers'] = 512 # OFDM with 512 subcarriers\n",
    "parameters['OFDM']['selected_subcarriers'] = np.arange(0, 64, 1)\n",
    "#parameters['OFDM']['subcarriers_limit'] = 64 # Keep only first 64 subcarriers\n",
    "\n",
    "parameters['ue_antenna']['shape'] = np.array([1, 1]) # Single antenna\n",
    "parameters['bs_antenna']['shape'] = np.array([1, 32]) # ULA of 32 elements\n",
    "#parameters['bs_antenna']['rotation'] = np.array([0, 30, 90]) # ULA of 32 elements\n",
    "#parameters['ue_antenna']['rotation'] = np.array([[0, 30], [30, 60], [60, 90]]) # ULA of 32 elements\n",
    "#parameters['ue_antenna']['radiation_pattern'] = 'isotropic'\n",
    "#parameters['bs_antenna']['radiation_pattern'] = 'halfwave-dipole'"
   ]
  },
  {
   "cell_type": "code",
   "execution_count": 7,
   "id": "30aa4ae2",
   "metadata": {},
   "outputs": [
    {
     "name": "stdout",
     "output_type": "stream",
     "text": [
      "{'dataset_folder': 'C:\\\\Users\\\\dlghd\\\\졸업프로젝트\\\\LWM', 'scenario': 'O2_dyn_3p5', 'dynamic_scenario_scenes': array([  0,   1,   2,   3,   4,   5,   6,   7,   8,   9,  10,  11,  12,\n",
      "        13,  14,  15,  16,  17,  18,  19,  20,  21,  22,  23,  24,  25,\n",
      "        26,  27,  28,  29,  30,  31,  32,  33,  34,  35,  36,  37,  38,\n",
      "        39,  40,  41,  42,  43,  44,  45,  46,  47,  48,  49,  50,  51,\n",
      "        52,  53,  54,  55,  56,  57,  58,  59,  60,  61,  62,  63,  64,\n",
      "        65,  66,  67,  68,  69,  70,  71,  72,  73,  74,  75,  76,  77,\n",
      "        78,  79,  80,  81,  82,  83,  84,  85,  86,  87,  88,  89,  90,\n",
      "        91,  92,  93,  94,  95,  96,  97,  98,  99, 100, 101, 102, 103,\n",
      "       104, 105, 106, 107, 108, 109, 110, 111, 112, 113, 114, 115, 116,\n",
      "       117, 118, 119, 120, 121, 122, 123, 124, 125, 126, 127, 128, 129,\n",
      "       130, 131, 132, 133, 134, 135, 136, 137, 138, 139, 140, 141, 142,\n",
      "       143, 144, 145, 146, 147, 148, 149, 150, 151, 152, 153, 154, 155,\n",
      "       156, 157, 158, 159, 160, 161, 162, 163, 164, 165, 166, 167, 168,\n",
      "       169, 170, 171, 172, 173, 174, 175, 176, 177, 178, 179, 180, 181,\n",
      "       182, 183, 184, 185, 186, 187, 188, 189, 190, 191, 192, 193, 194,\n",
      "       195, 196, 197, 198, 199, 200, 201, 202, 203, 204, 205, 206, 207,\n",
      "       208, 209, 210, 211, 212, 213, 214, 215, 216, 217, 218, 219, 220,\n",
      "       221, 222, 223, 224, 225, 226, 227, 228, 229, 230, 231, 232, 233,\n",
      "       234, 235, 236, 237, 238, 239, 240, 241, 242, 243, 244, 245, 246,\n",
      "       247, 248, 249, 250, 251, 252, 253, 254, 255, 256, 257, 258, 259,\n",
      "       260, 261, 262, 263, 264, 265, 266, 267, 268, 269, 270, 271, 272,\n",
      "       273, 274, 275, 276, 277, 278, 279, 280, 281, 282, 283, 284, 285,\n",
      "       286, 287, 288, 289, 290, 291, 292, 293, 294, 295, 296, 297, 298,\n",
      "       299, 300, 301, 302, 303, 304, 305, 306, 307, 308, 309, 310, 311,\n",
      "       312, 313, 314, 315, 316, 317, 318, 319, 320, 321, 322, 323, 324,\n",
      "       325, 326, 327, 328, 329, 330, 331, 332, 333, 334, 335, 336, 337,\n",
      "       338, 339, 340, 341, 342, 343, 344, 345, 346, 347, 348, 349, 350,\n",
      "       351, 352, 353, 354, 355, 356, 357, 358, 359, 360, 361, 362, 363,\n",
      "       364, 365, 366, 367, 368, 369, 370, 371, 372, 373, 374, 375, 376,\n",
      "       377, 378, 379, 380, 381, 382, 383, 384, 385, 386, 387, 388, 389,\n",
      "       390, 391, 392, 393, 394, 395, 396, 397, 398, 399, 400, 401, 402,\n",
      "       403, 404, 405, 406, 407, 408, 409, 410, 411, 412, 413, 414, 415,\n",
      "       416, 417, 418, 419, 420, 421, 422, 423, 424, 425, 426, 427, 428,\n",
      "       429, 430, 431, 432, 433, 434, 435, 436, 437, 438, 439, 440, 441,\n",
      "       442, 443, 444, 445, 446, 447, 448, 449, 450, 451, 452, 453, 454,\n",
      "       455, 456, 457, 458, 459, 460, 461, 462, 463, 464, 465, 466, 467,\n",
      "       468, 469, 470, 471, 472, 473, 474, 475, 476, 477, 478, 479, 480,\n",
      "       481, 482, 483, 484, 485, 486, 487, 488, 489, 490, 491, 492, 493,\n",
      "       494, 495, 496, 497, 498, 499, 500, 501, 502, 503, 504, 505, 506,\n",
      "       507, 508, 509, 510, 511, 512, 513, 514, 515, 516, 517, 518, 519,\n",
      "       520, 521, 522, 523, 524, 525, 526, 527, 528, 529, 530, 531, 532,\n",
      "       533, 534, 535, 536, 537, 538, 539, 540, 541, 542, 543, 544, 545,\n",
      "       546, 547, 548, 549, 550, 551, 552, 553, 554, 555, 556, 557, 558,\n",
      "       559, 560, 561, 562, 563, 564, 565, 566, 567, 568, 569, 570, 571,\n",
      "       572, 573, 574, 575, 576, 577, 578, 579, 580, 581, 582, 583, 584,\n",
      "       585, 586, 587, 588, 589, 590, 591, 592, 593, 594, 595, 596, 597,\n",
      "       598, 599, 600, 601, 602, 603, 604, 605, 606, 607, 608, 609, 610,\n",
      "       611, 612, 613, 614, 615, 616, 617, 618, 619, 620, 621, 622, 623,\n",
      "       624, 625, 626, 627, 628, 629, 630, 631, 632, 633, 634, 635, 636,\n",
      "       637, 638, 639, 640, 641, 642, 643, 644, 645, 646, 647, 648, 649,\n",
      "       650, 651, 652, 653, 654, 655, 656, 657, 658, 659, 660, 661, 662,\n",
      "       663, 664, 665, 666, 667, 668, 669, 670, 671, 672, 673, 674, 675,\n",
      "       676, 677, 678, 679, 680, 681, 682, 683, 684, 685, 686, 687, 688,\n",
      "       689, 690, 691, 692, 693, 694, 695, 696, 697, 698, 699, 700, 701,\n",
      "       702, 703, 704, 705, 706, 707, 708, 709, 710, 711, 712, 713, 714,\n",
      "       715, 716, 717, 718, 719, 720, 721, 722, 723, 724, 725, 726, 727,\n",
      "       728, 729, 730, 731, 732, 733, 734, 735, 736, 737, 738, 739, 740,\n",
      "       741, 742, 743, 744, 745, 746, 747, 748, 749, 750, 751, 752, 753,\n",
      "       754, 755, 756, 757, 758, 759, 760, 761, 762, 763, 764, 765, 766,\n",
      "       767, 768, 769, 770, 771, 772, 773, 774, 775, 776, 777, 778, 779,\n",
      "       780, 781, 782, 783, 784, 785, 786, 787, 788, 789, 790, 791, 792,\n",
      "       793, 794, 795, 796, 797, 798, 799, 800, 801, 802, 803, 804, 805,\n",
      "       806, 807, 808, 809, 810, 811, 812, 813, 814, 815, 816, 817, 818,\n",
      "       819, 820, 821, 822, 823, 824, 825, 826, 827, 828, 829, 830, 831,\n",
      "       832, 833, 834, 835, 836, 837, 838, 839, 840, 841, 842, 843, 844,\n",
      "       845, 846, 847, 848, 849, 850, 851, 852, 853, 854, 855, 856, 857,\n",
      "       858, 859, 860, 861, 862, 863, 864, 865, 866, 867, 868, 869, 870,\n",
      "       871, 872, 873, 874, 875, 876, 877, 878, 879, 880, 881, 882, 883,\n",
      "       884, 885, 886, 887, 888, 889, 890, 891, 892, 893, 894, 895, 896,\n",
      "       897, 898, 899, 900, 901, 902, 903, 904, 905, 906, 907, 908, 909,\n",
      "       910, 911, 912, 913, 914, 915, 916, 917, 918, 919, 920, 921, 922,\n",
      "       923, 924, 925, 926, 927, 928, 929, 930, 931, 932, 933, 934, 935,\n",
      "       936, 937, 938, 939, 940, 941, 942, 943, 944, 945, 946, 947, 948,\n",
      "       949, 950, 951, 952, 953, 954, 955, 956, 957, 958, 959, 960, 961,\n",
      "       962, 963, 964, 965, 966, 967, 968, 969, 970, 971, 972, 973, 974,\n",
      "       975, 976, 977, 978, 979, 980, 981, 982, 983, 984, 985, 986, 987,\n",
      "       988, 989, 990, 991, 992, 993, 994, 995, 996, 997, 998, 999]), 'num_paths': 10, 'active_BS': array([1]), 'user_rows': array([ 0,  1,  2,  3,  4,  5,  6,  7,  8,  9, 10, 11, 12, 13, 14, 15, 16,\n",
      "       17, 18, 19, 20, 21, 22, 23, 24, 25, 26, 27, 28, 29, 30, 31, 32, 33,\n",
      "       34, 35, 36, 37, 38, 39, 40, 41, 42, 43, 44, 45, 46, 47, 48, 49, 50,\n",
      "       51, 52, 53, 54, 55, 56, 57, 58, 59, 60, 61, 62, 63, 64, 65, 66, 67,\n",
      "       68, 69, 70, 71, 72, 73, 74, 75, 76, 77, 78, 79, 80, 81, 82, 83, 84,\n",
      "       85, 86, 87, 88, 89, 90, 91, 92, 93, 94, 95, 96, 97, 98, 99]), 'user_subsampling': 1, 'bs_antenna': {'shape': array([ 1, 32]), 'spacing': 0.5, 'rotation': array([0, 0, 0]), 'FoV': array([360, 180]), 'radiation_pattern': 'isotropic'}, 'ue_antenna': {'shape': array([1, 1]), 'spacing': 0.5, 'rotation': array([0, 0, 0]), 'FoV': array([360, 180]), 'radiation_pattern': 'isotropic'}, 'enable_doppler': 0, 'enable_dual_polar': 0, 'enable_BS2BS': 1, 'OFDM_channels': 1, 'OFDM': {'subcarriers': 512, 'selected_subcarriers': array([ 0,  1,  2,  3,  4,  5,  6,  7,  8,  9, 10, 11, 12, 13, 14, 15, 16,\n",
      "       17, 18, 19, 20, 21, 22, 23, 24, 25, 26, 27, 28, 29, 30, 31, 32, 33,\n",
      "       34, 35, 36, 37, 38, 39, 40, 41, 42, 43, 44, 45, 46, 47, 48, 49, 50,\n",
      "       51, 52, 53, 54, 55, 56, 57, 58, 59, 60, 61, 62, 63]), 'bandwidth': 0.05, 'RX_filter': 0}, 'activate_OFDM': 1}\n"
     ]
    }
   ],
   "source": [
    "print(parameters)"
   ]
  },
  {
   "cell_type": "code",
   "execution_count": 8,
   "id": "b87a86e5",
   "metadata": {},
   "outputs": [
    {
     "name": "stdout",
     "output_type": "stream",
     "text": [
      "The following parameters seem unnecessary:\n",
      "{'activate_OFDM'}\n",
      "\n",
      "Scene 1/1000\n",
      "\n",
      "Basestation 1\n",
      "\n",
      "UE-BS Channels\n"
     ]
    },
    {
     "name": "stderr",
     "output_type": "stream",
     "text": [
      "Reading ray-tracing: 100%|████████████████████████████████████████████████████| 69040/69040 [00:02<00:00, 33441.20it/s]\n",
      "Generating channels: 100%|█████████████████████████████████████████████████████| 69040/69040 [00:12<00:00, 5479.57it/s]\n"
     ]
    },
    {
     "name": "stdout",
     "output_type": "stream",
     "text": [
      "\n",
      "BS-BS Channels\n"
     ]
    },
    {
     "name": "stderr",
     "output_type": "stream",
     "text": [
      "Reading ray-tracing: 100%|███████████████████████████████████████████████████████████████████████| 1/1 [00:00<?, ?it/s]\n",
      "Generating channels: 100%|██████████████████████████████████████████████████████████████| 1/1 [00:00<00:00, 332.99it/s]\n"
     ]
    },
    {
     "name": "stdout",
     "output_type": "stream",
     "text": [
      "\n",
      "Scene 2/1000\n",
      "\n",
      "Basestation 1\n",
      "\n",
      "UE-BS Channels\n"
     ]
    },
    {
     "name": "stderr",
     "output_type": "stream",
     "text": [
      "Reading ray-tracing: 100%|████████████████████████████████████████████████████| 69040/69040 [00:02<00:00, 30469.91it/s]\n",
      "Generating channels: 100%|█████████████████████████████████████████████████████| 69040/69040 [00:12<00:00, 5442.61it/s]\n"
     ]
    },
    {
     "name": "stdout",
     "output_type": "stream",
     "text": [
      "\n",
      "BS-BS Channels\n"
     ]
    },
    {
     "name": "stderr",
     "output_type": "stream",
     "text": [
      "Reading ray-tracing: 100%|███████████████████████████████████████████████████████████████████████| 1/1 [00:00<?, ?it/s]\n",
      "Generating channels: 100%|██████████████████████████████████████████████████████████████| 1/1 [00:00<00:00, 500.16it/s]\n"
     ]
    },
    {
     "name": "stdout",
     "output_type": "stream",
     "text": [
      "\n",
      "Scene 3/1000\n",
      "\n",
      "Basestation 1\n",
      "\n",
      "UE-BS Channels\n"
     ]
    },
    {
     "name": "stderr",
     "output_type": "stream",
     "text": [
      "Reading ray-tracing: 100%|████████████████████████████████████████████████████| 69040/69040 [00:02<00:00, 31977.74it/s]\n",
      "Generating channels: 100%|█████████████████████████████████████████████████████| 69040/69040 [00:13<00:00, 5151.05it/s]\n"
     ]
    },
    {
     "name": "stdout",
     "output_type": "stream",
     "text": [
      "\n",
      "BS-BS Channels\n"
     ]
    },
    {
     "name": "stderr",
     "output_type": "stream",
     "text": [
      "Reading ray-tracing: 100%|███████████████████████████████████████████████████████████████████████| 1/1 [00:00<?, ?it/s]\n",
      "Generating channels: 100%|██████████████████████████████████████████████████████████████| 1/1 [00:00<00:00, 332.91it/s]\n"
     ]
    },
    {
     "name": "stdout",
     "output_type": "stream",
     "text": [
      "\n",
      "Scene 4/1000\n",
      "\n",
      "Basestation 1\n",
      "\n",
      "UE-BS Channels\n"
     ]
    },
    {
     "name": "stderr",
     "output_type": "stream",
     "text": [
      "Reading ray-tracing: 100%|████████████████████████████████████████████████████| 69040/69040 [00:02<00:00, 31967.46it/s]\n",
      "Generating channels: 100%|█████████████████████████████████████████████████████| 69040/69040 [00:12<00:00, 5646.85it/s]\n"
     ]
    },
    {
     "name": "stdout",
     "output_type": "stream",
     "text": [
      "\n",
      "BS-BS Channels\n"
     ]
    },
    {
     "name": "stderr",
     "output_type": "stream",
     "text": [
      "Reading ray-tracing: 100%|███████████████████████████████████████████████████████████████████████| 1/1 [00:00<?, ?it/s]\n",
      "Generating channels: 100%|██████████████████████████████████████████████████████████████| 1/1 [00:00<00:00, 333.41it/s]\n"
     ]
    },
    {
     "name": "stdout",
     "output_type": "stream",
     "text": [
      "\n",
      "Scene 5/1000\n",
      "\n",
      "Basestation 1\n",
      "\n",
      "UE-BS Channels\n"
     ]
    },
    {
     "name": "stderr",
     "output_type": "stream",
     "text": [
      "Reading ray-tracing: 100%|████████████████████████████████████████████████████| 69040/69040 [00:02<00:00, 31064.24it/s]\n",
      "Generating channels: 100%|█████████████████████████████████████████████████████| 69040/69040 [00:12<00:00, 5427.92it/s]\n"
     ]
    },
    {
     "name": "stdout",
     "output_type": "stream",
     "text": [
      "\n",
      "BS-BS Channels\n"
     ]
    },
    {
     "name": "stderr",
     "output_type": "stream",
     "text": [
      "Reading ray-tracing: 100%|███████████████████████████████████████████████████████████████████████| 1/1 [00:00<?, ?it/s]\n",
      "Generating channels: 100%|██████████████████████████████████████████████████████████████| 1/1 [00:00<00:00, 500.27it/s]\n"
     ]
    },
    {
     "name": "stdout",
     "output_type": "stream",
     "text": [
      "\n",
      "Scene 6/1000\n",
      "\n",
      "Basestation 1\n",
      "\n",
      "UE-BS Channels\n"
     ]
    },
    {
     "name": "stderr",
     "output_type": "stream",
     "text": [
      "Reading ray-tracing: 100%|████████████████████████████████████████████████████| 69040/69040 [00:01<00:00, 34848.18it/s]\n",
      "Generating channels: 100%|█████████████████████████████████████████████████████| 69040/69040 [00:12<00:00, 5555.67it/s]\n"
     ]
    },
    {
     "name": "stdout",
     "output_type": "stream",
     "text": [
      "\n",
      "BS-BS Channels\n"
     ]
    },
    {
     "name": "stderr",
     "output_type": "stream",
     "text": [
      "Reading ray-tracing: 100%|███████████████████████████████████████████████████████████████████████| 1/1 [00:00<?, ?it/s]\n",
      "Generating channels: 100%|██████████████████████████████████████████████████████████████| 1/1 [00:00<00:00, 333.20it/s]\n"
     ]
    },
    {
     "name": "stdout",
     "output_type": "stream",
     "text": [
      "\n",
      "Scene 7/1000\n",
      "\n",
      "Basestation 1\n",
      "\n",
      "UE-BS Channels\n"
     ]
    },
    {
     "name": "stderr",
     "output_type": "stream",
     "text": [
      "Reading ray-tracing: 100%|████████████████████████████████████████████████████| 69040/69040 [00:02<00:00, 31103.50it/s]\n",
      "Generating channels: 100%|█████████████████████████████████████████████████████| 69040/69040 [00:12<00:00, 5594.66it/s]\n"
     ]
    },
    {
     "name": "stdout",
     "output_type": "stream",
     "text": [
      "\n",
      "BS-BS Channels\n"
     ]
    },
    {
     "name": "stderr",
     "output_type": "stream",
     "text": [
      "Reading ray-tracing: 100%|███████████████████████████████████████████████████████████████████████| 1/1 [00:00<?, ?it/s]\n",
      "Generating channels: 100%|██████████████████████████████████████████████████████████████| 1/1 [00:00<00:00, 500.22it/s]\n"
     ]
    },
    {
     "name": "stdout",
     "output_type": "stream",
     "text": [
      "\n",
      "Scene 8/1000\n",
      "\n",
      "Basestation 1\n",
      "\n",
      "UE-BS Channels\n"
     ]
    },
    {
     "name": "stderr",
     "output_type": "stream",
     "text": [
      "Reading ray-tracing: 100%|████████████████████████████████████████████████████| 69040/69040 [00:02<00:00, 32096.45it/s]\n",
      "Generating channels: 100%|█████████████████████████████████████████████████████| 69040/69040 [00:13<00:00, 4991.42it/s]\n"
     ]
    },
    {
     "name": "stdout",
     "output_type": "stream",
     "text": [
      "\n",
      "BS-BS Channels\n"
     ]
    },
    {
     "name": "stderr",
     "output_type": "stream",
     "text": [
      "Reading ray-tracing: 100%|███████████████████████████████████████████████████████████████████████| 1/1 [00:00<?, ?it/s]\n",
      "Generating channels: 100%|██████████████████████████████████████████████████████████████| 1/1 [00:00<00:00, 499.68it/s]\n"
     ]
    },
    {
     "name": "stdout",
     "output_type": "stream",
     "text": [
      "\n",
      "Scene 9/1000\n",
      "\n",
      "Basestation 1\n",
      "\n",
      "UE-BS Channels\n"
     ]
    },
    {
     "name": "stderr",
     "output_type": "stream",
     "text": [
      "Reading ray-tracing: 100%|████████████████████████████████████████████████████| 69040/69040 [00:02<00:00, 32893.38it/s]\n",
      "Generating channels: 100%|█████████████████████████████████████████████████████| 69040/69040 [00:12<00:00, 5490.07it/s]\n"
     ]
    },
    {
     "name": "stdout",
     "output_type": "stream",
     "text": [
      "\n",
      "BS-BS Channels\n"
     ]
    },
    {
     "name": "stderr",
     "output_type": "stream",
     "text": [
      "Reading ray-tracing: 100%|███████████████████████████████████████████████████████████████████████| 1/1 [00:00<?, ?it/s]\n",
      "Generating channels: 100%|██████████████████████████████████████████████████████████████| 1/1 [00:00<00:00, 333.52it/s]\n"
     ]
    },
    {
     "name": "stdout",
     "output_type": "stream",
     "text": [
      "\n",
      "Scene 10/1000\n",
      "\n",
      "Basestation 1\n",
      "\n",
      "UE-BS Channels\n"
     ]
    },
    {
     "name": "stderr",
     "output_type": "stream",
     "text": [
      "Reading ray-tracing: 100%|████████████████████████████████████████████████████| 69040/69040 [00:02<00:00, 32889.19it/s]\n",
      "Generating channels: 100%|█████████████████████████████████████████████████████| 69040/69040 [00:13<00:00, 5284.99it/s]\n"
     ]
    },
    {
     "name": "stdout",
     "output_type": "stream",
     "text": [
      "\n",
      "BS-BS Channels\n"
     ]
    },
    {
     "name": "stderr",
     "output_type": "stream",
     "text": [
      "Reading ray-tracing: 100%|██████████████████████████████████████████████████████████████| 1/1 [00:00<00:00, 999.12it/s]\n",
      "Generating channels: 100%|██████████████████████████████████████████████████████████████| 1/1 [00:00<00:00, 333.28it/s]\n"
     ]
    },
    {
     "name": "stdout",
     "output_type": "stream",
     "text": [
      "\n",
      "Scene 11/1000\n",
      "\n",
      "Basestation 1\n",
      "\n",
      "UE-BS Channels\n"
     ]
    },
    {
     "name": "stderr",
     "output_type": "stream",
     "text": [
      "Reading ray-tracing: 100%|████████████████████████████████████████████████████| 69040/69040 [00:02<00:00, 32527.26it/s]\n",
      "Generating channels: 100%|█████████████████████████████████████████████████████| 69040/69040 [00:13<00:00, 5244.44it/s]\n"
     ]
    },
    {
     "name": "stdout",
     "output_type": "stream",
     "text": [
      "\n",
      "BS-BS Channels\n"
     ]
    },
    {
     "name": "stderr",
     "output_type": "stream",
     "text": [
      "Reading ray-tracing: 100%|███████████████████████████████████████████████████████████████████████| 1/1 [00:00<?, ?it/s]\n",
      "Generating channels: 100%|██████████████████████████████████████████████████████████████| 1/1 [00:00<00:00, 499.86it/s]\n"
     ]
    },
    {
     "name": "stdout",
     "output_type": "stream",
     "text": [
      "\n",
      "Scene 12/1000\n",
      "\n",
      "Basestation 1\n",
      "\n",
      "UE-BS Channels\n"
     ]
    },
    {
     "name": "stderr",
     "output_type": "stream",
     "text": [
      "Reading ray-tracing: 100%|████████████████████████████████████████████████████| 69040/69040 [00:02<00:00, 32955.66it/s]\n",
      "Generating channels: 100%|█████████████████████████████████████████████████████| 69040/69040 [00:12<00:00, 5511.56it/s]\n"
     ]
    },
    {
     "name": "stdout",
     "output_type": "stream",
     "text": [
      "\n",
      "BS-BS Channels\n"
     ]
    },
    {
     "name": "stderr",
     "output_type": "stream",
     "text": [
      "Reading ray-tracing: 100%|██████████████████████████████████████████████████████████████| 1/1 [00:00<00:00, 999.60it/s]\n",
      "Generating channels: 100%|██████████████████████████████████████████████████████████████| 1/1 [00:00<00:00, 500.10it/s]\n"
     ]
    },
    {
     "name": "stdout",
     "output_type": "stream",
     "text": [
      "\n",
      "Scene 13/1000\n",
      "\n",
      "Basestation 1\n",
      "\n",
      "UE-BS Channels\n"
     ]
    },
    {
     "name": "stderr",
     "output_type": "stream",
     "text": [
      "Reading ray-tracing: 100%|████████████████████████████████████████████████████| 69040/69040 [00:02<00:00, 29701.26it/s]\n",
      "Generating channels: 100%|█████████████████████████████████████████████████████| 69040/69040 [00:13<00:00, 4971.31it/s]\n"
     ]
    },
    {
     "name": "stdout",
     "output_type": "stream",
     "text": [
      "\n",
      "BS-BS Channels\n"
     ]
    },
    {
     "name": "stderr",
     "output_type": "stream",
     "text": [
      "Reading ray-tracing: 100%|███████████████████████████████████████████████████████████████████████| 1/1 [00:00<?, ?it/s]\n",
      "Generating channels: 100%|██████████████████████████████████████████████████████████████| 1/1 [00:00<00:00, 333.68it/s]\n"
     ]
    },
    {
     "name": "stdout",
     "output_type": "stream",
     "text": [
      "\n",
      "Scene 14/1000\n",
      "\n",
      "Basestation 1\n",
      "\n",
      "UE-BS Channels\n"
     ]
    },
    {
     "name": "stderr",
     "output_type": "stream",
     "text": [
      "Reading ray-tracing: 100%|████████████████████████████████████████████████████| 69040/69040 [00:02<00:00, 30447.27it/s]\n",
      "Generating channels: 100%|█████████████████████████████████████████████████████| 69040/69040 [00:13<00:00, 5021.29it/s]\n"
     ]
    },
    {
     "name": "stdout",
     "output_type": "stream",
     "text": [
      "\n",
      "BS-BS Channels\n"
     ]
    },
    {
     "name": "stderr",
     "output_type": "stream",
     "text": [
      "Reading ray-tracing: 100%|██████████████████████████████████████████████████████████████| 1/1 [00:00<00:00, 999.36it/s]\n",
      "Generating channels: 100%|██████████████████████████████████████████████████████████████| 1/1 [00:00<00:00, 333.33it/s]\n"
     ]
    },
    {
     "name": "stdout",
     "output_type": "stream",
     "text": [
      "\n",
      "Scene 15/1000\n",
      "\n",
      "Basestation 1\n",
      "\n",
      "UE-BS Channels\n"
     ]
    },
    {
     "name": "stderr",
     "output_type": "stream",
     "text": [
      "Reading ray-tracing: 100%|████████████████████████████████████████████████████| 69040/69040 [00:02<00:00, 31679.92it/s]\n",
      "Generating channels: 100%|█████████████████████████████████████████████████████| 69040/69040 [00:13<00:00, 5066.49it/s]\n"
     ]
    },
    {
     "name": "stdout",
     "output_type": "stream",
     "text": [
      "\n",
      "BS-BS Channels\n"
     ]
    },
    {
     "name": "stderr",
     "output_type": "stream",
     "text": [
      "Reading ray-tracing: 100%|███████████████████████████████████████████████████████████████████████| 1/1 [00:00<?, ?it/s]\n",
      "Generating channels: 100%|██████████████████████████████████████████████████████████████| 1/1 [00:00<00:00, 499.68it/s]\n"
     ]
    },
    {
     "name": "stdout",
     "output_type": "stream",
     "text": [
      "\n",
      "Scene 16/1000\n",
      "\n",
      "Basestation 1\n",
      "\n",
      "UE-BS Channels\n"
     ]
    },
    {
     "name": "stderr",
     "output_type": "stream",
     "text": [
      "Reading ray-tracing: 100%|████████████████████████████████████████████████████| 69040/69040 [00:02<00:00, 32326.65it/s]\n",
      "Generating channels: 100%|█████████████████████████████████████████████████████| 69040/69040 [00:13<00:00, 5270.78it/s]\n"
     ]
    },
    {
     "name": "stdout",
     "output_type": "stream",
     "text": [
      "\n",
      "BS-BS Channels\n"
     ]
    },
    {
     "name": "stderr",
     "output_type": "stream",
     "text": [
      "Reading ray-tracing: 100%|███████████████████████████████████████████████████████████████████████| 1/1 [00:00<?, ?it/s]\n",
      "Generating channels: 100%|██████████████████████████████████████████████████████████████| 1/1 [00:00<00:00, 335.09it/s]\n"
     ]
    },
    {
     "name": "stdout",
     "output_type": "stream",
     "text": [
      "\n",
      "Scene 17/1000\n",
      "\n",
      "Basestation 1\n",
      "\n",
      "UE-BS Channels\n"
     ]
    },
    {
     "name": "stderr",
     "output_type": "stream",
     "text": [
      "Reading ray-tracing: 100%|████████████████████████████████████████████████████| 69040/69040 [00:02<00:00, 32670.01it/s]\n",
      "Generating channels: 100%|█████████████████████████████████████████████████████| 69040/69040 [00:12<00:00, 5328.14it/s]\n"
     ]
    },
    {
     "name": "stdout",
     "output_type": "stream",
     "text": [
      "\n",
      "BS-BS Channels\n"
     ]
    },
    {
     "name": "stderr",
     "output_type": "stream",
     "text": [
      "Reading ray-tracing: 100%|███████████████████████████████████████████████████████████████████████| 1/1 [00:00<?, ?it/s]\n",
      "Generating channels: 100%|██████████████████████████████████████████████████████████████| 1/1 [00:00<00:00, 250.06it/s]\n"
     ]
    },
    {
     "name": "stdout",
     "output_type": "stream",
     "text": [
      "\n",
      "Scene 18/1000\n",
      "\n",
      "Basestation 1\n",
      "\n",
      "UE-BS Channels\n"
     ]
    },
    {
     "name": "stderr",
     "output_type": "stream",
     "text": [
      "Reading ray-tracing: 100%|████████████████████████████████████████████████████| 69040/69040 [00:02<00:00, 29627.45it/s]\n",
      "Generating channels: 100%|█████████████████████████████████████████████████████| 69040/69040 [00:13<00:00, 5024.84it/s]\n"
     ]
    },
    {
     "name": "stdout",
     "output_type": "stream",
     "text": [
      "\n",
      "BS-BS Channels\n"
     ]
    },
    {
     "name": "stderr",
     "output_type": "stream",
     "text": [
      "Reading ray-tracing: 100%|███████████████████████████████████████████████████████████████████████| 1/1 [00:00<?, ?it/s]\n",
      "Generating channels: 100%|██████████████████████████████████████████████████████████████| 1/1 [00:00<00:00, 333.91it/s]\n"
     ]
    },
    {
     "name": "stdout",
     "output_type": "stream",
     "text": [
      "\n",
      "Scene 19/1000\n",
      "\n",
      "Basestation 1\n",
      "\n",
      "UE-BS Channels\n"
     ]
    },
    {
     "name": "stderr",
     "output_type": "stream",
     "text": [
      "Reading ray-tracing: 100%|████████████████████████████████████████████████████| 69040/69040 [00:02<00:00, 33597.51it/s]\n",
      "Generating channels: 100%|█████████████████████████████████████████████████████| 69040/69040 [00:12<00:00, 5432.59it/s]\n"
     ]
    },
    {
     "name": "stdout",
     "output_type": "stream",
     "text": [
      "\n",
      "BS-BS Channels\n"
     ]
    },
    {
     "name": "stderr",
     "output_type": "stream",
     "text": [
      "Reading ray-tracing: 100%|███████████████████████████████████████████████████████████████████████| 1/1 [00:00<?, ?it/s]\n",
      "Generating channels: 100%|██████████████████████████████████████████████████████████████| 1/1 [00:00<00:00, 333.12it/s]\n"
     ]
    },
    {
     "name": "stdout",
     "output_type": "stream",
     "text": [
      "\n",
      "Scene 20/1000\n",
      "\n",
      "Basestation 1\n",
      "\n",
      "UE-BS Channels\n"
     ]
    },
    {
     "name": "stderr",
     "output_type": "stream",
     "text": [
      "Reading ray-tracing: 100%|████████████████████████████████████████████████████| 69040/69040 [00:02<00:00, 33266.20it/s]\n",
      "Generating channels: 100%|█████████████████████████████████████████████████████| 69040/69040 [00:12<00:00, 5480.36it/s]\n"
     ]
    },
    {
     "name": "stdout",
     "output_type": "stream",
     "text": [
      "\n",
      "BS-BS Channels\n"
     ]
    },
    {
     "name": "stderr",
     "output_type": "stream",
     "text": [
      "Reading ray-tracing: 100%|███████████████████████████████████████████████████████████████████████| 1/1 [00:00<?, ?it/s]\n",
      "Generating channels: 100%|██████████████████████████████████████████████████████████████| 1/1 [00:00<00:00, 498.14it/s]\n"
     ]
    },
    {
     "name": "stdout",
     "output_type": "stream",
     "text": [
      "\n",
      "Scene 21/1000\n",
      "\n",
      "Basestation 1\n",
      "\n",
      "UE-BS Channels\n"
     ]
    },
    {
     "name": "stderr",
     "output_type": "stream",
     "text": [
      "Reading ray-tracing: 100%|████████████████████████████████████████████████████| 69040/69040 [00:02<00:00, 33233.67it/s]\n",
      "Generating channels: 100%|█████████████████████████████████████████████████████| 69040/69040 [00:12<00:00, 5340.85it/s]\n"
     ]
    },
    {
     "name": "stdout",
     "output_type": "stream",
     "text": [
      "\n",
      "BS-BS Channels\n"
     ]
    },
    {
     "name": "stderr",
     "output_type": "stream",
     "text": [
      "Reading ray-tracing: 100%|███████████████████████████████████████████████████████████████████████| 1/1 [00:00<?, ?it/s]\n",
      "Generating channels: 100%|██████████████████████████████████████████████████████████████| 1/1 [00:00<00:00, 499.98it/s]\n"
     ]
    },
    {
     "name": "stdout",
     "output_type": "stream",
     "text": [
      "\n",
      "Scene 22/1000\n",
      "\n",
      "Basestation 1\n",
      "\n",
      "UE-BS Channels\n"
     ]
    },
    {
     "name": "stderr",
     "output_type": "stream",
     "text": [
      "Reading ray-tracing: 100%|████████████████████████████████████████████████████| 69040/69040 [00:02<00:00, 33457.20it/s]\n",
      "Generating channels: 100%|█████████████████████████████████████████████████████| 69040/69040 [00:12<00:00, 5554.11it/s]\n"
     ]
    },
    {
     "name": "stdout",
     "output_type": "stream",
     "text": [
      "\n",
      "BS-BS Channels\n"
     ]
    },
    {
     "name": "stderr",
     "output_type": "stream",
     "text": [
      "Reading ray-tracing: 100%|█████████████████████████████████████████████████████████████| 1/1 [00:00<00:00, 1001.51it/s]\n",
      "Generating channels: 100%|██████████████████████████████████████████████████████████████| 1/1 [00:00<00:00, 333.23it/s]\n"
     ]
    },
    {
     "name": "stdout",
     "output_type": "stream",
     "text": [
      "\n",
      "Scene 23/1000\n",
      "\n",
      "Basestation 1\n",
      "\n",
      "UE-BS Channels\n"
     ]
    },
    {
     "name": "stderr",
     "output_type": "stream",
     "text": [
      "Reading ray-tracing: 100%|████████████████████████████████████████████████████| 69040/69040 [00:02<00:00, 33576.30it/s]\n",
      "Generating channels: 100%|█████████████████████████████████████████████████████| 69040/69040 [00:12<00:00, 5569.82it/s]\n"
     ]
    },
    {
     "name": "stdout",
     "output_type": "stream",
     "text": [
      "\n",
      "BS-BS Channels\n"
     ]
    },
    {
     "name": "stderr",
     "output_type": "stream",
     "text": [
      "Reading ray-tracing: 100%|███████████████████████████████████████████████████████████████████████| 1/1 [00:00<?, ?it/s]\n",
      "Generating channels: 100%|██████████████████████████████████████████████████████████████| 1/1 [00:00<00:00, 332.93it/s]\n"
     ]
    },
    {
     "name": "stdout",
     "output_type": "stream",
     "text": [
      "\n",
      "Scene 24/1000\n",
      "\n",
      "Basestation 1\n",
      "\n",
      "UE-BS Channels\n"
     ]
    },
    {
     "name": "stderr",
     "output_type": "stream",
     "text": [
      "Reading ray-tracing: 100%|████████████████████████████████████████████████████| 69040/69040 [00:02<00:00, 34236.46it/s]\n",
      "Generating channels: 100%|█████████████████████████████████████████████████████| 69040/69040 [00:12<00:00, 5623.19it/s]\n"
     ]
    },
    {
     "name": "stdout",
     "output_type": "stream",
     "text": [
      "\n",
      "BS-BS Channels\n"
     ]
    },
    {
     "name": "stderr",
     "output_type": "stream",
     "text": [
      "Reading ray-tracing: 100%|███████████████████████████████████████████████████████████████████████| 1/1 [00:00<?, ?it/s]\n",
      "Generating channels: 100%|██████████████████████████████████████████████████████████████| 1/1 [00:00<00:00, 499.68it/s]\n"
     ]
    },
    {
     "name": "stdout",
     "output_type": "stream",
     "text": [
      "\n",
      "Scene 25/1000\n",
      "\n",
      "Basestation 1\n",
      "\n",
      "UE-BS Channels\n"
     ]
    },
    {
     "name": "stderr",
     "output_type": "stream",
     "text": [
      "Reading ray-tracing: 100%|████████████████████████████████████████████████████| 69040/69040 [00:02<00:00, 32738.24it/s]\n",
      "Generating channels: 100%|█████████████████████████████████████████████████████| 69040/69040 [00:12<00:00, 5589.18it/s]\n"
     ]
    },
    {
     "name": "stdout",
     "output_type": "stream",
     "text": [
      "\n",
      "BS-BS Channels\n"
     ]
    },
    {
     "name": "stderr",
     "output_type": "stream",
     "text": [
      "Reading ray-tracing: 100%|███████████████████████████████████████████████████████████████████████| 1/1 [00:00<?, ?it/s]\n",
      "Generating channels: 100%|██████████████████████████████████████████████████████████████| 1/1 [00:00<00:00, 333.15it/s]\n"
     ]
    },
    {
     "name": "stdout",
     "output_type": "stream",
     "text": [
      "\n",
      "Scene 26/1000\n",
      "\n",
      "Basestation 1\n",
      "\n",
      "UE-BS Channels\n"
     ]
    },
    {
     "name": "stderr",
     "output_type": "stream",
     "text": [
      "Reading ray-tracing: 100%|████████████████████████████████████████████████████| 69040/69040 [00:02<00:00, 33428.45it/s]\n",
      "Generating channels: 100%|█████████████████████████████████████████████████████| 69040/69040 [00:12<00:00, 5608.79it/s]\n"
     ]
    },
    {
     "name": "stdout",
     "output_type": "stream",
     "text": [
      "\n",
      "BS-BS Channels\n"
     ]
    },
    {
     "name": "stderr",
     "output_type": "stream",
     "text": [
      "Reading ray-tracing: 100%|██████████████████████████████████████████████████████████████| 1/1 [00:00<00:00, 998.88it/s]\n",
      "Generating channels: 100%|██████████████████████████████████████████████████████████████| 1/1 [00:00<00:00, 499.56it/s]\n"
     ]
    },
    {
     "name": "stdout",
     "output_type": "stream",
     "text": [
      "\n",
      "Scene 27/1000\n",
      "\n",
      "Basestation 1\n",
      "\n",
      "UE-BS Channels\n"
     ]
    },
    {
     "name": "stderr",
     "output_type": "stream",
     "text": [
      "Reading ray-tracing: 100%|████████████████████████████████████████████████████| 69040/69040 [00:02<00:00, 33067.92it/s]\n",
      "Generating channels: 100%|█████████████████████████████████████████████████████| 69040/69040 [00:12<00:00, 5626.61it/s]\n"
     ]
    },
    {
     "name": "stdout",
     "output_type": "stream",
     "text": [
      "\n",
      "BS-BS Channels\n"
     ]
    },
    {
     "name": "stderr",
     "output_type": "stream",
     "text": [
      "Reading ray-tracing: 100%|███████████████████████████████████████████████████████████████████████| 1/1 [00:00<?, ?it/s]\n",
      "Generating channels: 100%|██████████████████████████████████████████████████████████████| 1/1 [00:00<00:00, 500.27it/s]\n"
     ]
    },
    {
     "name": "stdout",
     "output_type": "stream",
     "text": [
      "\n",
      "Scene 28/1000\n",
      "\n",
      "Basestation 1\n",
      "\n",
      "UE-BS Channels\n"
     ]
    },
    {
     "name": "stderr",
     "output_type": "stream",
     "text": [
      "Reading ray-tracing: 100%|████████████████████████████████████████████████████| 69040/69040 [00:02<00:00, 33520.16it/s]\n",
      "Generating channels: 100%|█████████████████████████████████████████████████████| 69040/69040 [00:12<00:00, 5475.65it/s]\n"
     ]
    },
    {
     "name": "stdout",
     "output_type": "stream",
     "text": [
      "\n",
      "BS-BS Channels\n"
     ]
    },
    {
     "name": "stderr",
     "output_type": "stream",
     "text": [
      "Reading ray-tracing: 100%|███████████████████████████████████████████████████████████████████████| 1/1 [00:00<?, ?it/s]\n",
      "Generating channels: 100%|██████████████████████████████████████████████████████████████| 1/1 [00:00<00:00, 499.62it/s]\n"
     ]
    },
    {
     "name": "stdout",
     "output_type": "stream",
     "text": [
      "\n",
      "Scene 29/1000\n",
      "\n",
      "Basestation 1\n",
      "\n",
      "UE-BS Channels\n"
     ]
    },
    {
     "name": "stderr",
     "output_type": "stream",
     "text": [
      "Reading ray-tracing: 100%|████████████████████████████████████████████████████| 69040/69040 [00:02<00:00, 34019.00it/s]\n",
      "Generating channels: 100%|█████████████████████████████████████████████████████| 69040/69040 [00:12<00:00, 5658.44it/s]\n"
     ]
    },
    {
     "name": "stdout",
     "output_type": "stream",
     "text": [
      "\n",
      "BS-BS Channels\n"
     ]
    },
    {
     "name": "stderr",
     "output_type": "stream",
     "text": [
      "Reading ray-tracing: 100%|███████████████████████████████████████████████████████████████████████| 1/1 [00:00<?, ?it/s]\n",
      "Generating channels: 100%|██████████████████████████████████████████████████████████████| 1/1 [00:00<00:00, 499.92it/s]\n"
     ]
    },
    {
     "name": "stdout",
     "output_type": "stream",
     "text": [
      "\n",
      "Scene 30/1000\n",
      "\n",
      "Basestation 1\n",
      "\n",
      "UE-BS Channels\n"
     ]
    },
    {
     "name": "stderr",
     "output_type": "stream",
     "text": [
      "Reading ray-tracing: 100%|████████████████████████████████████████████████████| 69040/69040 [00:02<00:00, 33287.66it/s]\n",
      "Generating channels: 100%|█████████████████████████████████████████████████████| 69040/69040 [00:13<00:00, 5258.78it/s]\n"
     ]
    },
    {
     "name": "stdout",
     "output_type": "stream",
     "text": [
      "\n",
      "BS-BS Channels\n"
     ]
    },
    {
     "name": "stderr",
     "output_type": "stream",
     "text": [
      "Reading ray-tracing: 100%|███████████████████████████████████████████████████████████████████████| 1/1 [00:00<?, ?it/s]\n",
      "Generating channels: 100%|██████████████████████████████████████████████████████████████| 1/1 [00:00<00:00, 499.86it/s]\n"
     ]
    },
    {
     "name": "stdout",
     "output_type": "stream",
     "text": [
      "\n",
      "Scene 31/1000\n",
      "\n",
      "Basestation 1\n",
      "\n",
      "UE-BS Channels\n"
     ]
    },
    {
     "name": "stderr",
     "output_type": "stream",
     "text": [
      "Reading ray-tracing: 100%|████████████████████████████████████████████████████| 69040/69040 [00:02<00:00, 33402.84it/s]\n",
      "Generating channels: 100%|█████████████████████████████████████████████████████| 69040/69040 [00:12<00:00, 5484.20it/s]\n"
     ]
    },
    {
     "name": "stdout",
     "output_type": "stream",
     "text": [
      "\n",
      "BS-BS Channels\n"
     ]
    },
    {
     "name": "stderr",
     "output_type": "stream",
     "text": [
      "Reading ray-tracing: 100%|███████████████████████████████████████████████████████████████████████| 1/1 [00:00<?, ?it/s]\n",
      "Generating channels: 100%|██████████████████████████████████████████████████████████████| 1/1 [00:00<00:00, 199.94it/s]\n"
     ]
    },
    {
     "name": "stdout",
     "output_type": "stream",
     "text": [
      "\n",
      "Scene 32/1000\n",
      "\n",
      "Basestation 1\n",
      "\n",
      "UE-BS Channels\n"
     ]
    },
    {
     "name": "stderr",
     "output_type": "stream",
     "text": [
      "Reading ray-tracing: 100%|████████████████████████████████████████████████████| 69040/69040 [00:02<00:00, 32318.73it/s]\n",
      "Generating channels: 100%|█████████████████████████████████████████████████████| 69040/69040 [00:12<00:00, 5428.18it/s]\n"
     ]
    },
    {
     "name": "stdout",
     "output_type": "stream",
     "text": [
      "\n",
      "BS-BS Channels\n"
     ]
    },
    {
     "name": "stderr",
     "output_type": "stream",
     "text": [
      "Reading ray-tracing: 100%|██████████████████████████████████████████████████████████████| 1/1 [00:00<00:00, 998.17it/s]\n",
      "Generating channels: 100%|██████████████████████████████████████████████████████████████| 1/1 [00:00<00:00, 501.11it/s]\n"
     ]
    },
    {
     "name": "stdout",
     "output_type": "stream",
     "text": [
      "\n",
      "Scene 33/1000\n",
      "\n",
      "Basestation 1\n",
      "\n",
      "UE-BS Channels\n"
     ]
    },
    {
     "name": "stderr",
     "output_type": "stream",
     "text": [
      "Reading ray-tracing: 100%|████████████████████████████████████████████████████| 69040/69040 [00:02<00:00, 31690.58it/s]\n",
      "Generating channels: 100%|█████████████████████████████████████████████████████| 69040/69040 [00:12<00:00, 5348.05it/s]\n"
     ]
    },
    {
     "name": "stdout",
     "output_type": "stream",
     "text": [
      "\n",
      "BS-BS Channels\n"
     ]
    },
    {
     "name": "stderr",
     "output_type": "stream",
     "text": [
      "Reading ray-tracing: 100%|█████████████████████████████████████████████████████████████| 1/1 [00:00<00:00, 1021.26it/s]\n",
      "Generating channels: 100%|██████████████████████████████████████████████████████████████| 1/1 [00:00<00:00, 498.97it/s]\n"
     ]
    },
    {
     "name": "stdout",
     "output_type": "stream",
     "text": [
      "\n",
      "Scene 34/1000\n",
      "\n",
      "Basestation 1\n",
      "\n",
      "UE-BS Channels\n"
     ]
    },
    {
     "name": "stderr",
     "output_type": "stream",
     "text": [
      "Reading ray-tracing: 100%|████████████████████████████████████████████████████| 69040/69040 [00:02<00:00, 32821.10it/s]\n",
      "Generating channels: 100%|█████████████████████████████████████████████████████| 69040/69040 [00:12<00:00, 5330.01it/s]\n"
     ]
    },
    {
     "name": "stdout",
     "output_type": "stream",
     "text": [
      "\n",
      "BS-BS Channels\n"
     ]
    },
    {
     "name": "stderr",
     "output_type": "stream",
     "text": [
      "Reading ray-tracing: 100%|██████████████████████████████████████████████████████████████| 1/1 [00:00<00:00, 993.20it/s]\n",
      "Generating channels: 100%|██████████████████████████████████████████████████████████████| 1/1 [00:00<00:00, 333.41it/s]\n"
     ]
    },
    {
     "name": "stdout",
     "output_type": "stream",
     "text": [
      "\n",
      "Scene 35/1000\n",
      "\n",
      "Basestation 1\n",
      "\n",
      "UE-BS Channels\n"
     ]
    },
    {
     "name": "stderr",
     "output_type": "stream",
     "text": [
      "Reading ray-tracing: 100%|████████████████████████████████████████████████████| 69040/69040 [00:02<00:00, 33061.65it/s]\n",
      "Generating channels: 100%|█████████████████████████████████████████████████████| 69040/69040 [00:12<00:00, 5427.05it/s]\n"
     ]
    },
    {
     "name": "stdout",
     "output_type": "stream",
     "text": [
      "\n",
      "BS-BS Channels\n"
     ]
    },
    {
     "name": "stderr",
     "output_type": "stream",
     "text": [
      "Reading ray-tracing: 100%|███████████████████████████████████████████████████████████████████████| 1/1 [00:00<?, ?it/s]\n",
      "Generating channels: 100%|██████████████████████████████████████████████████████████████| 1/1 [00:00<00:00, 500.51it/s]\n"
     ]
    },
    {
     "name": "stdout",
     "output_type": "stream",
     "text": [
      "\n",
      "Scene 36/1000\n",
      "\n",
      "Basestation 1\n",
      "\n",
      "UE-BS Channels\n"
     ]
    },
    {
     "name": "stderr",
     "output_type": "stream",
     "text": [
      "Reading ray-tracing: 100%|████████████████████████████████████████████████████| 69040/69040 [00:02<00:00, 32261.23it/s]\n",
      "Generating channels: 100%|█████████████████████████████████████████████████████| 69040/69040 [00:12<00:00, 5465.88it/s]\n"
     ]
    },
    {
     "name": "stdout",
     "output_type": "stream",
     "text": [
      "\n",
      "BS-BS Channels\n"
     ]
    },
    {
     "name": "stderr",
     "output_type": "stream",
     "text": [
      "Reading ray-tracing: 100%|███████████████████████████████████████████████████████████████████████| 1/1 [00:00<?, ?it/s]\n",
      "Generating channels: 100%|██████████████████████████████████████████████████████████████| 1/1 [00:00<00:00, 500.33it/s]\n"
     ]
    },
    {
     "name": "stdout",
     "output_type": "stream",
     "text": [
      "\n",
      "Scene 37/1000\n",
      "\n",
      "Basestation 1\n",
      "\n",
      "UE-BS Channels\n"
     ]
    },
    {
     "name": "stderr",
     "output_type": "stream",
     "text": [
      "Reading ray-tracing: 100%|████████████████████████████████████████████████████| 69040/69040 [00:02<00:00, 33186.36it/s]\n",
      "Generating channels: 100%|█████████████████████████████████████████████████████| 69040/69040 [00:12<00:00, 5668.16it/s]\n"
     ]
    },
    {
     "name": "stdout",
     "output_type": "stream",
     "text": [
      "\n",
      "BS-BS Channels\n"
     ]
    },
    {
     "name": "stderr",
     "output_type": "stream",
     "text": [
      "Reading ray-tracing: 100%|██████████████████████████████████████████████████████████████| 1/1 [00:00<00:00, 999.60it/s]\n",
      "Generating channels: 100%|██████████████████████████████████████████████████████████████| 1/1 [00:00<00:00, 332.99it/s]\n"
     ]
    },
    {
     "name": "stdout",
     "output_type": "stream",
     "text": [
      "\n",
      "Scene 38/1000\n",
      "\n",
      "Basestation 1\n",
      "\n",
      "UE-BS Channels\n"
     ]
    },
    {
     "name": "stderr",
     "output_type": "stream",
     "text": [
      "Reading ray-tracing: 100%|████████████████████████████████████████████████████| 69040/69040 [00:02<00:00, 32472.65it/s]\n",
      "Generating channels: 100%|█████████████████████████████████████████████████████| 69040/69040 [00:12<00:00, 5494.97it/s]\n"
     ]
    },
    {
     "name": "stdout",
     "output_type": "stream",
     "text": [
      "\n",
      "BS-BS Channels\n"
     ]
    },
    {
     "name": "stderr",
     "output_type": "stream",
     "text": [
      "Reading ray-tracing: 100%|███████████████████████████████████████████████████████████████████████| 1/1 [00:00<?, ?it/s]\n",
      "Generating channels: 100%|██████████████████████████████████████████████████████████████| 1/1 [00:00<00:00, 500.33it/s]\n"
     ]
    },
    {
     "name": "stdout",
     "output_type": "stream",
     "text": [
      "\n",
      "Scene 39/1000\n",
      "\n",
      "Basestation 1\n",
      "\n",
      "UE-BS Channels\n"
     ]
    },
    {
     "name": "stderr",
     "output_type": "stream",
     "text": [
      "Reading ray-tracing: 100%|████████████████████████████████████████████████████| 69040/69040 [00:02<00:00, 31310.12it/s]\n"
     ]
    },
    {
     "ename": "MemoryError",
     "evalue": "Unable to allocate 1.05 GiB for an array with shape (69040, 1, 32, 64) and data type complex64",
     "output_type": "error",
     "traceback": [
      "\u001b[1;31m---------------------------------------------------------------------------\u001b[0m",
      "\u001b[1;31mMemoryError\u001b[0m                               Traceback (most recent call last)",
      "Cell \u001b[1;32mIn[8], line 4\u001b[0m\n\u001b[0;32m      2\u001b[0m \u001b[38;5;28;01mimport\u001b[39;00m \u001b[38;5;21;01mtime\u001b[39;00m\n\u001b[0;32m      3\u001b[0m start \u001b[38;5;241m=\u001b[39m time\u001b[38;5;241m.\u001b[39mtime()\n\u001b[1;32m----> 4\u001b[0m dataset \u001b[38;5;241m=\u001b[39m DeepMIMOv3\u001b[38;5;241m.\u001b[39mgenerate_data(parameters)\n\u001b[0;32m      5\u001b[0m end \u001b[38;5;241m=\u001b[39m time\u001b[38;5;241m.\u001b[39mtime()\n\u001b[0;32m      6\u001b[0m \u001b[38;5;28mprint\u001b[39m(\u001b[38;5;124mf\u001b[39m\u001b[38;5;124m\"\u001b[39m\u001b[38;5;124m걸리는 시간: \u001b[39m\u001b[38;5;132;01m{\u001b[39;00m\u001b[38;5;28mround\u001b[39m(end\u001b[38;5;241m-\u001b[39mstart,\u001b[38;5;241m2\u001b[39m)\u001b[38;5;132;01m}\u001b[39;00m\u001b[38;5;124m\"\u001b[39m)\n",
      "File \u001b[1;32m~\\anaconda3\\Lib\\site-packages\\DeepMIMOv3\\generator.py:39\u001b[0m, in \u001b[0;36mgenerate_data\u001b[1;34m(ext_params)\u001b[0m\n\u001b[0;32m     33\u001b[0m         params[c\u001b[38;5;241m.\u001b[39mPARAMSET_SCENARIO_FIL] \u001b[38;5;241m=\u001b[39m os\u001b[38;5;241m.\u001b[39mpath\u001b[38;5;241m.\u001b[39mjoin(\n\u001b[0;32m     34\u001b[0m                                     os\u001b[38;5;241m.\u001b[39mpath\u001b[38;5;241m.\u001b[39mabspath(params[c\u001b[38;5;241m.\u001b[39mPARAMSET_DATASET_FOLDER]), \n\u001b[0;32m     35\u001b[0m                                     params[c\u001b[38;5;241m.\u001b[39mPARAMSET_SCENARIO],\n\u001b[0;32m     36\u001b[0m                                     \u001b[38;5;124m'\u001b[39m\u001b[38;5;124mscene_\u001b[39m\u001b[38;5;124m'\u001b[39m \u001b[38;5;241m+\u001b[39m \u001b[38;5;28mstr\u001b[39m(scene)\n\u001b[0;32m     37\u001b[0m                                     )\n\u001b[0;32m     38\u001b[0m         \u001b[38;5;28mprint\u001b[39m(\u001b[38;5;124m'\u001b[39m\u001b[38;5;130;01m\\n\u001b[39;00m\u001b[38;5;124mScene \u001b[39m\u001b[38;5;132;01m%i\u001b[39;00m\u001b[38;5;124m/\u001b[39m\u001b[38;5;132;01m%i\u001b[39;00m\u001b[38;5;124m'\u001b[39m \u001b[38;5;241m%\u001b[39m (scene_i\u001b[38;5;241m+\u001b[39m\u001b[38;5;241m1\u001b[39m, num_of_scenes))\n\u001b[1;32m---> 39\u001b[0m         dataset\u001b[38;5;241m.\u001b[39mappend(generate_scene_data(params))\n\u001b[0;32m     40\u001b[0m \u001b[38;5;66;03m# If static scenario\u001b[39;00m\n\u001b[0;32m     41\u001b[0m \u001b[38;5;28;01melse\u001b[39;00m:\n\u001b[0;32m     42\u001b[0m     params[c\u001b[38;5;241m.\u001b[39mPARAMSET_SCENARIO_FIL] \u001b[38;5;241m=\u001b[39m os\u001b[38;5;241m.\u001b[39mpath\u001b[38;5;241m.\u001b[39mjoin(\n\u001b[0;32m     43\u001b[0m                                 os\u001b[38;5;241m.\u001b[39mpath\u001b[38;5;241m.\u001b[39mabspath(params[c\u001b[38;5;241m.\u001b[39mPARAMSET_DATASET_FOLDER]), \n\u001b[0;32m     44\u001b[0m                                 params[c\u001b[38;5;241m.\u001b[39mPARAMSET_SCENARIO]\n\u001b[0;32m     45\u001b[0m                                 )\n",
      "File \u001b[1;32m~\\anaconda3\\Lib\\site-packages\\DeepMIMOv3\\generator.py:69\u001b[0m, in \u001b[0;36mgenerate_scene_data\u001b[1;34m(params)\u001b[0m\n\u001b[0;32m     63\u001b[0m         dataset[i][c\u001b[38;5;241m.\u001b[39mDICT_UE_IDX][polar_str][c\u001b[38;5;241m.\u001b[39mOUT_CHANNEL], dataset[i][c\u001b[38;5;241m.\u001b[39mDICT_UE_IDX][polar_str][c\u001b[38;5;241m.\u001b[39mOUT_LOS] \u001b[38;5;241m=\u001b[39m generate_MIMO_channel(dataset[i][c\u001b[38;5;241m.\u001b[39mDICT_UE_IDX][polar_str][c\u001b[38;5;241m.\u001b[39mOUT_PATH], \n\u001b[0;32m     64\u001b[0m                                                                                                                                      params, \n\u001b[0;32m     65\u001b[0m                                                                                                                                      params[c\u001b[38;5;241m.\u001b[39mPARAMSET_ANT_BS][i], \n\u001b[0;32m     66\u001b[0m                                                                                                                                      params[c\u001b[38;5;241m.\u001b[39mPARAMSET_ANT_UE]\n\u001b[0;32m     67\u001b[0m                                                                                                                                      )\n\u001b[0;32m     68\u001b[0m \u001b[38;5;28;01melse\u001b[39;00m:\n\u001b[1;32m---> 69\u001b[0m     dataset[i][c\u001b[38;5;241m.\u001b[39mDICT_UE_IDX][c\u001b[38;5;241m.\u001b[39mOUT_CHANNEL], dataset[i][c\u001b[38;5;241m.\u001b[39mDICT_UE_IDX][c\u001b[38;5;241m.\u001b[39mOUT_LOS] \u001b[38;5;241m=\u001b[39m generate_MIMO_channel(dataset[i][c\u001b[38;5;241m.\u001b[39mDICT_UE_IDX][c\u001b[38;5;241m.\u001b[39mOUT_PATH], \n\u001b[0;32m     70\u001b[0m                                                                                                            params, \n\u001b[0;32m     71\u001b[0m                                                                                                            params[c\u001b[38;5;241m.\u001b[39mPARAMSET_ANT_BS][i], \n\u001b[0;32m     72\u001b[0m                                                                                                            params[c\u001b[38;5;241m.\u001b[39mPARAMSET_ANT_UE]\n\u001b[0;32m     73\u001b[0m                                                                                                            )\n\u001b[0;32m     75\u001b[0m \u001b[38;5;28;01mif\u001b[39;00m params[c\u001b[38;5;241m.\u001b[39mPARAMSET_BS2BS]:\n\u001b[0;32m     76\u001b[0m     safe_print(\u001b[38;5;124m'\u001b[39m\u001b[38;5;130;01m\\n\u001b[39;00m\u001b[38;5;124mBS-BS Channels\u001b[39m\u001b[38;5;124m'\u001b[39m)\n",
      "File \u001b[1;32m~\\anaconda3\\Lib\\site-packages\\DeepMIMOv3\\construct_deepmimo.py:35\u001b[0m, in \u001b[0;36mgenerate_MIMO_channel\u001b[1;34m(raydata, params, tx_ant_params, rx_ant_params)\u001b[0m\n\u001b[0;32m     32\u001b[0m ant_rx_ind \u001b[38;5;241m=\u001b[39m ant_indices(rx_ant_params[c\u001b[38;5;241m.\u001b[39mPARAMSET_ANT_SHAPE])\n\u001b[0;32m     34\u001b[0m \u001b[38;5;28;01mif\u001b[39;00m  params[c\u001b[38;5;241m.\u001b[39mPARAMSET_FDTD]:\n\u001b[1;32m---> 35\u001b[0m     channel \u001b[38;5;241m=\u001b[39m np\u001b[38;5;241m.\u001b[39mzeros((\u001b[38;5;28mlen\u001b[39m(raydata), M_rx, M_tx, \u001b[38;5;28mlen\u001b[39m(subcarriers)), dtype \u001b[38;5;241m=\u001b[39m np\u001b[38;5;241m.\u001b[39mcsingle)\n\u001b[0;32m     36\u001b[0m \u001b[38;5;28;01melse\u001b[39;00m:\n\u001b[0;32m     37\u001b[0m     channel \u001b[38;5;241m=\u001b[39m np\u001b[38;5;241m.\u001b[39mzeros((\u001b[38;5;28mlen\u001b[39m(raydata), M_rx, M_tx, params[c\u001b[38;5;241m.\u001b[39mPARAMSET_NUM_PATHS]), dtype \u001b[38;5;241m=\u001b[39m np\u001b[38;5;241m.\u001b[39mcsingle)\n",
      "\u001b[1;31mMemoryError\u001b[0m: Unable to allocate 1.05 GiB for an array with shape (69040, 1, 32, 64) and data type complex64"
     ]
    }
   ],
   "source": [
    "## Generate and inspect the dataset\n",
    "import time\n",
    "start = time.time()\n",
    "dataset = DeepMIMOv3.generate_data(parameters)\n",
    "end = time.time()\n",
    "print(f\"걸리는 시간: {round(end-start,2)}\")"
   ]
  },
  {
   "cell_type": "code",
   "execution_count": null,
   "id": "4e127d34",
   "metadata": {},
   "outputs": [],
   "source": [
    "len(dataset)"
   ]
  },
  {
   "cell_type": "code",
   "execution_count": null,
   "id": "cccdc93e",
   "metadata": {},
   "outputs": [],
   "source": [
    "dataset[0]"
   ]
  },
  {
   "cell_type": "markdown",
   "id": "5b4e72d4",
   "metadata": {},
   "source": [
    "# 사용자 접근 데이터"
   ]
  },
  {
   "cell_type": "code",
   "execution_count": null,
   "id": "57828d31",
   "metadata": {},
   "outputs": [],
   "source": [
    "user_data = dataset[0][0]['user']\n",
    "print(user_data.keys())"
   ]
  },
  {
   "cell_type": "markdown",
   "id": "bc5a3b0c",
   "metadata": {},
   "source": [
    "# 사용자 채널 정보 확인"
   ]
  },
  {
   "cell_type": "code",
   "execution_count": null,
   "id": "23b2884b",
   "metadata": {},
   "outputs": [],
   "source": [
    "# subcarries = 나눈 각각의 주파수 채널\n",
    "# Channel = H <- 채널 벡터\n",
    "# 채널 형태\n",
    "# (user, UE antenna, Bs antenna, subcarrier)\n",
    "channel = dataset[0][0]['user']['channel']\n",
    "print(channel.shape)  "
   ]
  },
  {
   "cell_type": "code",
   "execution_count": null,
   "id": "bf443dc9",
   "metadata": {},
   "outputs": [],
   "source": [
    "print(dataset[0][0]['user']['channel'][100])"
   ]
  },
  {
   "cell_type": "code",
   "execution_count": null,
   "id": "1a931204",
   "metadata": {},
   "outputs": [],
   "source": [
    "print(len(dataset[0][0]['user']['channel'][100]))"
   ]
  },
  {
   "cell_type": "code",
   "execution_count": null,
   "id": "ff08a89e",
   "metadata": {},
   "outputs": [],
   "source": [
    "print(channel[10000][0][0])"
   ]
  },
  {
   "cell_type": "markdown",
   "id": "2b079846",
   "metadata": {},
   "source": [
    "# 사용자 위치 정보"
   ]
  },
  {
   "cell_type": "code",
   "execution_count": null,
   "id": "84337e94",
   "metadata": {},
   "outputs": [],
   "source": [
    "location = dataset[0][0]['user']['location']\n",
    "print(location.shape)      # (사용자 수, 3)\n",
    "print(location[0:4])         # 첫 번째 사용자의 (x, y, z)"
   ]
  },
  {
   "cell_type": "markdown",
   "id": "60e9a9b6",
   "metadata": {},
   "source": [
    "# 경로정보"
   ]
  },
  {
   "cell_type": "code",
   "execution_count": null,
   "id": "79cde8ee",
   "metadata": {},
   "outputs": [],
   "source": [
    "paths = dataset[0][0]['user']['paths']\n",
    "#사용자 수\n",
    "print(len(paths))\n",
    "# 첫 번째 사용자 경로 정보\n",
    "print(paths[0])"
   ]
  },
  {
   "cell_type": "markdown",
   "id": "f2242869",
   "metadata": {},
   "source": [
    "# 기지국 정보"
   ]
  },
  {
   "cell_type": "code",
   "execution_count": null,
   "id": "2900e481",
   "metadata": {},
   "outputs": [],
   "source": [
    "bs_data = dataset[0][0]['basestation']\n",
    "print(bs_data.keys())\n"
   ]
  },
  {
   "cell_type": "markdown",
   "id": "c063ea95",
   "metadata": {},
   "source": [
    "# Scene 및 사용자 수"
   ]
  },
  {
   "cell_type": "code",
   "execution_count": null,
   "id": "a20df92d",
   "metadata": {},
   "outputs": [],
   "source": [
    "for i, scene in enumerate(dataset[0]):\n",
    "    user_locs = scene['user']['location']\n",
    "    print(f\"Scene {i}: {len(user_locs)} users\")"
   ]
  },
  {
   "cell_type": "markdown",
   "id": "b38f71e1",
   "metadata": {},
   "source": [
    "# 채널 수"
   ]
  },
  {
   "cell_type": "code",
   "execution_count": null,
   "id": "cbbee52e",
   "metadata": {},
   "outputs": [],
   "source": [
    "len(dataset[0][0]['user']['channel'])"
   ]
  },
  {
   "cell_type": "code",
   "execution_count": null,
   "id": "2d474195",
   "metadata": {},
   "outputs": [],
   "source": [
    "print(dataset[0][0]['user']['paths'][0])"
   ]
  },
  {
   "cell_type": "code",
   "execution_count": null,
   "id": "73df9912",
   "metadata": {},
   "outputs": [],
   "source": [
    "scene = dataset[0][0] # scene 0\n",
    "ue_idx = 0 # 첫 번째 사용자\n",
    "channel = scene['user']['channel'][ue_idx]\n",
    "print(channel.shape)"
   ]
  },
  {
   "cell_type": "code",
   "execution_count": null,
   "id": "c312bc2a",
   "metadata": {},
   "outputs": [],
   "source": [
    "import torch\n",
    "import torch.nn as nn\n",
    "import torch.optim as optim\n",
    "import torchvision\n",
    "import torchvision.transforms as transforms\n",
    "from torch.utils.data import DataLoader\n",
    "import matplotlib.pyplot as plt"
   ]
  },
  {
   "cell_type": "code",
   "execution_count": null,
   "id": "7f11a45a",
   "metadata": {},
   "outputs": [],
   "source": [
    "# GPU 설정\n",
    "device = torch.device(\"cuda\" if torch.cuda.is_available() else \"cpu\")\n",
    "\n",
    "print(device)"
   ]
  },
  {
   "cell_type": "markdown",
   "id": "373ffb59",
   "metadata": {},
   "source": [
    "# channel CIR mat 정보 가져오기"
   ]
  },
  {
   "cell_type": "code",
   "execution_count": null,
   "id": "ec4461cb",
   "metadata": {},
   "outputs": [],
   "source": [
    "import scipy.io as sio\n",
    "\n",
    "file_path = r'C:\\Users\\dlghd\\졸업프로젝트\\LWM\\O2_dyn_3p5\\scene_0\\O2_dyn_3p5.1.CIR.mat'\n",
    "mat_data = sio.loadmat(file_path)\n",
    "\n",
    "# 파일 안의 key 확인\n",
    "print(mat_data.keys())\n",
    "\n",
    "\n"
   ]
  },
  {
   "cell_type": "code",
   "execution_count": null,
   "id": "662cb441",
   "metadata": {},
   "outputs": [],
   "source": [
    "# 일반적으로 CIR key는 'CIR' 또는 'cir' 같은 이름일 가능성 높음\n",
    "H_cir = mat_data['__header__']  \n",
    "print(H_cir)"
   ]
  },
  {
   "cell_type": "markdown",
   "id": "88f3d7c7",
   "metadata": {},
   "source": [
    "# Time-Prediction 시작\n",
    "## Time Series 형태로 변환\n",
    "### 단일사용자 채널 예측"
   ]
  },
  {
   "cell_type": "code",
   "execution_count": null,
   "id": "db7345b0",
   "metadata": {},
   "outputs": [],
   "source": [
    "# H = dataset[0][0]['user']['channel'][100]  # (1, 32, 64), complex\n",
    "# H = H.squeeze(0)  # → (32, 64)\n",
    "\n",
    "# # 채널은 복소수 형태\n",
    "# H_real = H.real   # shape: (32, 64)\n",
    "# H_imag = H.imag   # shape: (32, 64)\n",
    "\n",
    "# H_combined = np.concatenate([H_real, H_imag], axis=0)  # shape: (64, 64)\n"
   ]
  },
  {
   "cell_type": "code",
   "execution_count": null,
   "id": "1f97d362",
   "metadata": {},
   "outputs": [],
   "source": [
    "channel_sequence = []\n",
    "\n",
    "for scene in dataset:\n",
    "    H = scene[0]['user']['channel'][100]\n",
    "    H = H.squeeze(0)\n",
    "    # 채널은 복소수 형태 \n",
    "    H_real = H.real # (32, 64) = (BS antenna, subcarrier)\n",
    "    H_imag = H.imag\n",
    "    H_concat = np.concatenate([H_real, H_imag], axis=0) \n",
    "    channel_sequence.append(H_concat)\n",
    "\n",
    "# T는 sence\n",
    "channel_sequence = np.stack(channel_sequence)  # shape: (T, 64, 64) = (real/imag쌍, subcarrier)\n"
   ]
  },
  {
   "cell_type": "code",
   "execution_count": null,
   "id": "8b04bbe0",
   "metadata": {},
   "outputs": [],
   "source": [
    "# 데이터 만들기\n",
    "# seq_len = 시퀀스를 잘라서 사용\n",
    "# [0,1,2,3,4], [1,2,3,4,5], [2,3,4,5]\n",
    "seq_len = 5\n",
    "X = []\n",
    "y = []\n",
    "\n",
    "for i in range(len(channel_sequence) - seq_len):\n",
    "    input_seq = channel_sequence[i:i+seq_len-1] # t=0~3\n",
    "    target = channel_sequence[i+seq_len-1] # t = 4\n",
    "    \n",
    "    X.append(input_seq)\n",
    "    y.append(target)\n",
    "\n",
    "# T = scene case\n",
    "# samples = T - seq_len + 1\n",
    "X = np.array(X) # shape: (samples, seq_len-1, 64, 64)\n",
    "y = np.array(y) # shape: (samples, 64, 64)"
   ]
  },
  {
   "cell_type": "code",
   "execution_count": null,
   "id": "0357b60e",
   "metadata": {},
   "outputs": [],
   "source": [
    "# Flatten\n",
    "# 4096 = 64 * 64\n",
    "X_flat = X.reshape(X.shape[0], X.shape[1], -1) # (5,4,4096) = (샘플, 시퀀스 길이)\n",
    "y_flat = y.reshape(y.shape[0],-1) #(5,4096) # 샘플 대상 예측"
   ]
  },
  {
   "cell_type": "code",
   "execution_count": null,
   "id": "2ba295df",
   "metadata": {},
   "outputs": [],
   "source": [
    "print(X_flat.shape)\n",
    "print(y_flat.shape)"
   ]
  },
  {
   "cell_type": "code",
   "execution_count": null,
   "id": "4d2c007c",
   "metadata": {},
   "outputs": [],
   "source": [
    "# 데이터 생성\n",
    "# 데이터 GPU로 계산하게 바꾸기\n",
    "X_t = torch.tensor(X_flat, dtype = torch.float32)\n",
    "y_t = torch.tensor(y_flat, dtype = torch.float32)\n",
    "masked_pos = torch.full((X_t.shape[0], 1), seq_len - 2, dtype=torch.long, device='cuda')  # 마지막 위치 예측\n",
    "X_t = X_t.to(device)\n",
    "y_t = y_t.to(device)"
   ]
  },
  {
   "cell_type": "code",
   "execution_count": null,
   "id": "b37383cc",
   "metadata": {},
   "outputs": [],
   "source": [
    "# 모델 초기화 및 gpu 이도 \n",
    "# 손실 함수 및 옵티마이저 설정\n",
    "from lwm_model import lwm\n",
    "\n",
    "element_length = 64*64 # H_real * H_imag\n",
    "\n",
    "model = lwm(element_length=element_length).to(device)\n",
    "criterion =nn.MSELoss()\n",
    "optimizer = optim.Adam(model.parameters(), lr=1e-4)\n"
   ]
  },
  {
   "cell_type": "code",
   "execution_count": null,
   "id": "625b128d",
   "metadata": {},
   "outputs": [],
   "source": [
    "# 모델 학습\n",
    "import time\n",
    "start = time.time()\n",
    "\n",
    "num_epochs = 10\n",
    "for epoch in range(num_epochs):\n",
    "    model.train()\n",
    "    running_loss = 0.0\n",
    "    \n",
    "    optimizer.zero_grad()\n",
    "    \n",
    "    pred,_ = model(X_t, masked_pos)\n",
    "    pred = pred.squeeze(1)\n",
    "    \n",
    "    loss = criterion(pred, y_t)\n",
    "    loss.backward()\n",
    "    optimizer.step()\n",
    "    \n",
    "    print(f\"Epoch {epoch+1}/{num_epochs}, Loss: {loss.item():.6f}\")\n",
    "end = time.time()\n",
    "\n",
    "print(f\"걸린시간: {round(end-start,2)}\")"
   ]
  },
  {
   "cell_type": "code",
   "execution_count": null,
   "id": "342ea1e7",
   "metadata": {},
   "outputs": [],
   "source": [
    "# 모델 평가\n",
    "model.eval()  \n",
    "\n",
    "with torch.no_grad():  \n",
    "    pred, _ = model(X_t, masked_pos)  # 새로운 데이터 넣기\n",
    "    pred = pred.squeeze(1)\n",
    "\n",
    "    val_loss = criterion(pred, y_t)\n",
    "    print(f\"Validation Loss: {val_loss.item():.6f}\")\n"
   ]
  },
  {
   "cell_type": "code",
   "execution_count": null,
   "id": "72376ae4",
   "metadata": {},
   "outputs": [],
   "source": []
  },
  {
   "cell_type": "code",
   "execution_count": null,
   "id": "d632bcb2",
   "metadata": {},
   "outputs": [],
   "source": []
  },
  {
   "cell_type": "code",
   "execution_count": null,
   "id": "ba1fdcce",
   "metadata": {},
   "outputs": [],
   "source": []
  },
  {
   "cell_type": "code",
   "execution_count": 15,
   "id": "357de029",
   "metadata": {},
   "outputs": [
    {
     "name": "stdout",
     "output_type": "stream",
     "text": [
      "[[[[0.+0.j 0.+0.j 0.+0.j ... 0.+0.j 0.+0.j 0.+0.j]\n",
      "   [0.+0.j 0.+0.j 0.+0.j ... 0.+0.j 0.+0.j 0.+0.j]\n",
      "   [0.+0.j 0.+0.j 0.+0.j ... 0.+0.j 0.+0.j 0.+0.j]\n",
      "   ...\n",
      "   [0.+0.j 0.+0.j 0.+0.j ... 0.+0.j 0.+0.j 0.+0.j]\n",
      "   [0.+0.j 0.+0.j 0.+0.j ... 0.+0.j 0.+0.j 0.+0.j]\n",
      "   [0.+0.j 0.+0.j 0.+0.j ... 0.+0.j 0.+0.j 0.+0.j]]]\n",
      "\n",
      "\n",
      " [[[0.+0.j 0.+0.j 0.+0.j ... 0.+0.j 0.+0.j 0.+0.j]\n",
      "   [0.+0.j 0.+0.j 0.+0.j ... 0.+0.j 0.+0.j 0.+0.j]\n",
      "   [0.+0.j 0.+0.j 0.+0.j ... 0.+0.j 0.+0.j 0.+0.j]\n",
      "   ...\n",
      "   [0.+0.j 0.+0.j 0.+0.j ... 0.+0.j 0.+0.j 0.+0.j]\n",
      "   [0.+0.j 0.+0.j 0.+0.j ... 0.+0.j 0.+0.j 0.+0.j]\n",
      "   [0.+0.j 0.+0.j 0.+0.j ... 0.+0.j 0.+0.j 0.+0.j]]]\n",
      "\n",
      "\n",
      " [[[0.+0.j 0.+0.j 0.+0.j ... 0.+0.j 0.+0.j 0.+0.j]\n",
      "   [0.+0.j 0.+0.j 0.+0.j ... 0.+0.j 0.+0.j 0.+0.j]\n",
      "   [0.+0.j 0.+0.j 0.+0.j ... 0.+0.j 0.+0.j 0.+0.j]\n",
      "   ...\n",
      "   [0.+0.j 0.+0.j 0.+0.j ... 0.+0.j 0.+0.j 0.+0.j]\n",
      "   [0.+0.j 0.+0.j 0.+0.j ... 0.+0.j 0.+0.j 0.+0.j]\n",
      "   [0.+0.j 0.+0.j 0.+0.j ... 0.+0.j 0.+0.j 0.+0.j]]]\n",
      "\n",
      "\n",
      " ...\n",
      "\n",
      "\n",
      " [[[0.+0.j 0.+0.j 0.+0.j ... 0.+0.j 0.+0.j 0.+0.j]\n",
      "   [0.+0.j 0.+0.j 0.+0.j ... 0.+0.j 0.+0.j 0.+0.j]\n",
      "   [0.+0.j 0.+0.j 0.+0.j ... 0.+0.j 0.+0.j 0.+0.j]\n",
      "   ...\n",
      "   [0.+0.j 0.+0.j 0.+0.j ... 0.+0.j 0.+0.j 0.+0.j]\n",
      "   [0.+0.j 0.+0.j 0.+0.j ... 0.+0.j 0.+0.j 0.+0.j]\n",
      "   [0.+0.j 0.+0.j 0.+0.j ... 0.+0.j 0.+0.j 0.+0.j]]]\n",
      "\n",
      "\n",
      " [[[0.+0.j 0.+0.j 0.+0.j ... 0.+0.j 0.+0.j 0.+0.j]\n",
      "   [0.+0.j 0.+0.j 0.+0.j ... 0.+0.j 0.+0.j 0.+0.j]\n",
      "   [0.+0.j 0.+0.j 0.+0.j ... 0.+0.j 0.+0.j 0.+0.j]\n",
      "   ...\n",
      "   [0.+0.j 0.+0.j 0.+0.j ... 0.+0.j 0.+0.j 0.+0.j]\n",
      "   [0.+0.j 0.+0.j 0.+0.j ... 0.+0.j 0.+0.j 0.+0.j]\n",
      "   [0.+0.j 0.+0.j 0.+0.j ... 0.+0.j 0.+0.j 0.+0.j]]]\n",
      "\n",
      "\n",
      " [[[0.+0.j 0.+0.j 0.+0.j ... 0.+0.j 0.+0.j 0.+0.j]\n",
      "   [0.+0.j 0.+0.j 0.+0.j ... 0.+0.j 0.+0.j 0.+0.j]\n",
      "   [0.+0.j 0.+0.j 0.+0.j ... 0.+0.j 0.+0.j 0.+0.j]\n",
      "   ...\n",
      "   [0.+0.j 0.+0.j 0.+0.j ... 0.+0.j 0.+0.j 0.+0.j]\n",
      "   [0.+0.j 0.+0.j 0.+0.j ... 0.+0.j 0.+0.j 0.+0.j]\n",
      "   [0.+0.j 0.+0.j 0.+0.j ... 0.+0.j 0.+0.j 0.+0.j]]]]\n"
     ]
    }
   ],
   "source": [
    "print(dataset[0][0]['user']['channel'])"
   ]
  },
  {
   "cell_type": "code",
   "execution_count": 53,
   "id": "43cc1865",
   "metadata": {},
   "outputs": [],
   "source": [
    "# (예: 사용자 0번, 위치 index 100, scene 0~9까지)\n",
    "# 같은 사용자의 같은 위치에서 시간에 따라 채널이 변하는지\n",
    "\n",
    "ue_idx = 0\n",
    "loc_idx = 100\n",
    "channel_sequence = []\n",
    "\n",
    "for scene in dataset:\n",
    "    channel = scene[ue_idx]['user']['channel']\n",
    "    h = channel[loc_idx, 0, :, 0]  # shape: (32,)\n",
    "    channel_sequence.append(h)\n",
    "\n",
    "channel_sequence = np.stack(channel_sequence)  # shape: (T, 32)\n"
   ]
  },
  {
   "cell_type": "code",
   "execution_count": 65,
   "id": "7a7ecf41",
   "metadata": {},
   "outputs": [
    {
     "name": "stdout",
     "output_type": "stream",
     "text": [
      "입력 시퀀스 X: (5, 5, 32)\n",
      "예측 대상 y: (5, 32)\n",
      "tensor([[4],\n",
      "        [4],\n",
      "        [4],\n",
      "        [4],\n",
      "        [4]])\n"
     ]
    }
   ],
   "source": [
    "# 입출력 시퀀스\n",
    "import numpy as np\n",
    "\n",
    "#batch_size\n",
    "seq_len = 5\n",
    "\n",
    "X = []\n",
    "y = []\n",
    "\n",
    "for i in range(len(channel_sequence) - seq_len):\n",
    "    # shape: (seq_len, features)\n",
    "    # target: (features)\n",
    "    input_seq = channel_sequence[i:i+seq_len]\n",
    "    target = channel_sequence[i+seq_len]\n",
    "    \n",
    "    X.append(input_seq)\n",
    "    y.append(target)\n",
    "\n",
    "\n",
    "\n",
    "X = np.array(X)\n",
    "y = np.array(y)\n",
    "# 마스킹 위치 \n",
    "masked_pos = torch.full((X.shape[0], 1), seq_len - 1, dtype=torch.long)\n",
    "\n",
    "print(\"입력 시퀀스 X:\", X.shape)\n",
    "print(\"예측 대상 y:\", y.shape)\n",
    "print(masked_pos)"
   ]
  },
  {
   "cell_type": "code",
   "execution_count": 55,
   "id": "f0bf5120",
   "metadata": {},
   "outputs": [],
   "source": [
    "# 데이터 텐서로 바꾸기\n",
    "import torch\n",
    "\n",
    "X_t = torch.tensor(X, dtype=torch.float32, device=device)  # shape: (samples, seq_len, element_length)\n",
    "y_t = torch.tensor(y, dtype=torch.float32, device=device)  # shape: (samples, element_length)\n"
   ]
  },
  {
   "cell_type": "code",
   "execution_count": 56,
   "id": "dc547493",
   "metadata": {},
   "outputs": [],
   "source": [
    "# DataLoader로 묶기\n",
    "from torch.utils.data import TensorDataset, DataLoader\n",
    "\n",
    "train_dataset = TensorDataset(X_t, y_t)\n",
    "train_loader = DataLoader(train_dataset, batch_size = 32, shuffle=True)"
   ]
  },
  {
   "cell_type": "code",
   "execution_count": 57,
   "id": "9fe4d354",
   "metadata": {},
   "outputs": [],
   "source": [
    "# LWM 모델 가져오기\n",
    "from lwm_model import lwm\n",
    "import torch.nn as nn\n",
    "import torch.optim as optim\n",
    "\n",
    "element_length = 64 # 32 imag채널 + 32 real채널\n",
    "\n",
    "device = 'cuda' if torch.cuda.is_available() else 'cpu'\n",
    "\n",
    "model = lwm(element_length=element_length).to(device)\n",
    "optimizer = optim.Adam(model.parameters(), lr=1e-4)\n",
    "criterion = nn.MSELoss()"
   ]
  },
  {
   "cell_type": "code",
   "execution_count": 67,
   "id": "d27a2a23",
   "metadata": {},
   "outputs": [
    {
     "ename": "RuntimeError",
     "evalue": "mat1 and mat2 shapes cannot be multiplied (25x32 and 64x64)",
     "output_type": "error",
     "traceback": [
      "\u001b[1;31m---------------------------------------------------------------------------\u001b[0m",
      "\u001b[1;31mRuntimeError\u001b[0m                              Traceback (most recent call last)",
      "Cell \u001b[1;32mIn[67], line 15\u001b[0m\n\u001b[0;32m     12\u001b[0m masked_pos \u001b[38;5;241m=\u001b[39m masked_pos\n\u001b[0;32m     14\u001b[0m optimizer\u001b[38;5;241m.\u001b[39mzero_grad()\n\u001b[1;32m---> 15\u001b[0m pred, _ \u001b[38;5;241m=\u001b[39m model(X_batch, masked_pos)\n\u001b[0;32m     16\u001b[0m pred \u001b[38;5;241m=\u001b[39m pred\u001b[38;5;241m.\u001b[39msqueeze(\u001b[38;5;241m1\u001b[39m)\n\u001b[0;32m     18\u001b[0m loss \u001b[38;5;241m=\u001b[39m criterion(pred, y_batch)\n",
      "File \u001b[1;32m~\\anaconda3\\Lib\\site-packages\\torch\\nn\\modules\\module.py:1518\u001b[0m, in \u001b[0;36mModule._wrapped_call_impl\u001b[1;34m(self, *args, **kwargs)\u001b[0m\n\u001b[0;32m   1516\u001b[0m     \u001b[38;5;28;01mreturn\u001b[39;00m \u001b[38;5;28mself\u001b[39m\u001b[38;5;241m.\u001b[39m_compiled_call_impl(\u001b[38;5;241m*\u001b[39margs, \u001b[38;5;241m*\u001b[39m\u001b[38;5;241m*\u001b[39mkwargs)  \u001b[38;5;66;03m# type: ignore[misc]\u001b[39;00m\n\u001b[0;32m   1517\u001b[0m \u001b[38;5;28;01melse\u001b[39;00m:\n\u001b[1;32m-> 1518\u001b[0m     \u001b[38;5;28;01mreturn\u001b[39;00m \u001b[38;5;28mself\u001b[39m\u001b[38;5;241m.\u001b[39m_call_impl(\u001b[38;5;241m*\u001b[39margs, \u001b[38;5;241m*\u001b[39m\u001b[38;5;241m*\u001b[39mkwargs)\n",
      "File \u001b[1;32m~\\anaconda3\\Lib\\site-packages\\torch\\nn\\modules\\module.py:1527\u001b[0m, in \u001b[0;36mModule._call_impl\u001b[1;34m(self, *args, **kwargs)\u001b[0m\n\u001b[0;32m   1522\u001b[0m \u001b[38;5;66;03m# If we don't have any hooks, we want to skip the rest of the logic in\u001b[39;00m\n\u001b[0;32m   1523\u001b[0m \u001b[38;5;66;03m# this function, and just call forward.\u001b[39;00m\n\u001b[0;32m   1524\u001b[0m \u001b[38;5;28;01mif\u001b[39;00m \u001b[38;5;129;01mnot\u001b[39;00m (\u001b[38;5;28mself\u001b[39m\u001b[38;5;241m.\u001b[39m_backward_hooks \u001b[38;5;129;01mor\u001b[39;00m \u001b[38;5;28mself\u001b[39m\u001b[38;5;241m.\u001b[39m_backward_pre_hooks \u001b[38;5;129;01mor\u001b[39;00m \u001b[38;5;28mself\u001b[39m\u001b[38;5;241m.\u001b[39m_forward_hooks \u001b[38;5;129;01mor\u001b[39;00m \u001b[38;5;28mself\u001b[39m\u001b[38;5;241m.\u001b[39m_forward_pre_hooks\n\u001b[0;32m   1525\u001b[0m         \u001b[38;5;129;01mor\u001b[39;00m _global_backward_pre_hooks \u001b[38;5;129;01mor\u001b[39;00m _global_backward_hooks\n\u001b[0;32m   1526\u001b[0m         \u001b[38;5;129;01mor\u001b[39;00m _global_forward_hooks \u001b[38;5;129;01mor\u001b[39;00m _global_forward_pre_hooks):\n\u001b[1;32m-> 1527\u001b[0m     \u001b[38;5;28;01mreturn\u001b[39;00m forward_call(\u001b[38;5;241m*\u001b[39margs, \u001b[38;5;241m*\u001b[39m\u001b[38;5;241m*\u001b[39mkwargs)\n\u001b[0;32m   1529\u001b[0m \u001b[38;5;28;01mtry\u001b[39;00m:\n\u001b[0;32m   1530\u001b[0m     result \u001b[38;5;241m=\u001b[39m \u001b[38;5;28;01mNone\u001b[39;00m\n",
      "File \u001b[1;32m~\\졸업프로젝트\\LWM\\lwm_model.py:125\u001b[0m, in \u001b[0;36mlwm.forward\u001b[1;34m(self, input_ids, masked_pos)\u001b[0m\n\u001b[0;32m    124\u001b[0m \u001b[38;5;28;01mdef\u001b[39;00m \u001b[38;5;21mforward\u001b[39m(\u001b[38;5;28mself\u001b[39m, input_ids, masked_pos):\n\u001b[1;32m--> 125\u001b[0m     output \u001b[38;5;241m=\u001b[39m \u001b[38;5;28mself\u001b[39m\u001b[38;5;241m.\u001b[39membedding(input_ids)\n\u001b[0;32m    126\u001b[0m     \u001b[38;5;28;01mfor\u001b[39;00m layer \u001b[38;5;129;01min\u001b[39;00m \u001b[38;5;28mself\u001b[39m\u001b[38;5;241m.\u001b[39mlayers:\n\u001b[0;32m    127\u001b[0m         output, _ \u001b[38;5;241m=\u001b[39m layer(output)\n",
      "File \u001b[1;32m~\\anaconda3\\Lib\\site-packages\\torch\\nn\\modules\\module.py:1518\u001b[0m, in \u001b[0;36mModule._wrapped_call_impl\u001b[1;34m(self, *args, **kwargs)\u001b[0m\n\u001b[0;32m   1516\u001b[0m     \u001b[38;5;28;01mreturn\u001b[39;00m \u001b[38;5;28mself\u001b[39m\u001b[38;5;241m.\u001b[39m_compiled_call_impl(\u001b[38;5;241m*\u001b[39margs, \u001b[38;5;241m*\u001b[39m\u001b[38;5;241m*\u001b[39mkwargs)  \u001b[38;5;66;03m# type: ignore[misc]\u001b[39;00m\n\u001b[0;32m   1517\u001b[0m \u001b[38;5;28;01melse\u001b[39;00m:\n\u001b[1;32m-> 1518\u001b[0m     \u001b[38;5;28;01mreturn\u001b[39;00m \u001b[38;5;28mself\u001b[39m\u001b[38;5;241m.\u001b[39m_call_impl(\u001b[38;5;241m*\u001b[39margs, \u001b[38;5;241m*\u001b[39m\u001b[38;5;241m*\u001b[39mkwargs)\n",
      "File \u001b[1;32m~\\anaconda3\\Lib\\site-packages\\torch\\nn\\modules\\module.py:1527\u001b[0m, in \u001b[0;36mModule._call_impl\u001b[1;34m(self, *args, **kwargs)\u001b[0m\n\u001b[0;32m   1522\u001b[0m \u001b[38;5;66;03m# If we don't have any hooks, we want to skip the rest of the logic in\u001b[39;00m\n\u001b[0;32m   1523\u001b[0m \u001b[38;5;66;03m# this function, and just call forward.\u001b[39;00m\n\u001b[0;32m   1524\u001b[0m \u001b[38;5;28;01mif\u001b[39;00m \u001b[38;5;129;01mnot\u001b[39;00m (\u001b[38;5;28mself\u001b[39m\u001b[38;5;241m.\u001b[39m_backward_hooks \u001b[38;5;129;01mor\u001b[39;00m \u001b[38;5;28mself\u001b[39m\u001b[38;5;241m.\u001b[39m_backward_pre_hooks \u001b[38;5;129;01mor\u001b[39;00m \u001b[38;5;28mself\u001b[39m\u001b[38;5;241m.\u001b[39m_forward_hooks \u001b[38;5;129;01mor\u001b[39;00m \u001b[38;5;28mself\u001b[39m\u001b[38;5;241m.\u001b[39m_forward_pre_hooks\n\u001b[0;32m   1525\u001b[0m         \u001b[38;5;129;01mor\u001b[39;00m _global_backward_pre_hooks \u001b[38;5;129;01mor\u001b[39;00m _global_backward_hooks\n\u001b[0;32m   1526\u001b[0m         \u001b[38;5;129;01mor\u001b[39;00m _global_forward_hooks \u001b[38;5;129;01mor\u001b[39;00m _global_forward_pre_hooks):\n\u001b[1;32m-> 1527\u001b[0m     \u001b[38;5;28;01mreturn\u001b[39;00m forward_call(\u001b[38;5;241m*\u001b[39margs, \u001b[38;5;241m*\u001b[39m\u001b[38;5;241m*\u001b[39mkwargs)\n\u001b[0;32m   1529\u001b[0m \u001b[38;5;28;01mtry\u001b[39;00m:\n\u001b[0;32m   1530\u001b[0m     result \u001b[38;5;241m=\u001b[39m \u001b[38;5;28;01mNone\u001b[39;00m\n",
      "File \u001b[1;32m~\\졸업프로젝트\\LWM\\lwm_model.py:41\u001b[0m, in \u001b[0;36mEmbedding.forward\u001b[1;34m(self, x)\u001b[0m\n\u001b[0;32m     39\u001b[0m pos \u001b[38;5;241m=\u001b[39m torch\u001b[38;5;241m.\u001b[39marange(seq_len, dtype\u001b[38;5;241m=\u001b[39mtorch\u001b[38;5;241m.\u001b[39mlong, device\u001b[38;5;241m=\u001b[39mx\u001b[38;5;241m.\u001b[39mdevice)\n\u001b[0;32m     40\u001b[0m pos \u001b[38;5;241m=\u001b[39m pos\u001b[38;5;241m.\u001b[39munsqueeze(\u001b[38;5;241m0\u001b[39m)\u001b[38;5;241m.\u001b[39mexpand_as(x[:, :, \u001b[38;5;241m0\u001b[39m])\n\u001b[1;32m---> 41\u001b[0m tok_emb \u001b[38;5;241m=\u001b[39m \u001b[38;5;28mself\u001b[39m\u001b[38;5;241m.\u001b[39mproj(x\u001b[38;5;241m.\u001b[39mfloat())  \n\u001b[0;32m     42\u001b[0m embedding \u001b[38;5;241m=\u001b[39m tok_emb \u001b[38;5;241m+\u001b[39m \u001b[38;5;28mself\u001b[39m\u001b[38;5;241m.\u001b[39mpos_embed(pos)\n\u001b[0;32m     43\u001b[0m \u001b[38;5;28;01mreturn\u001b[39;00m \u001b[38;5;28mself\u001b[39m\u001b[38;5;241m.\u001b[39mnorm(embedding)\n",
      "File \u001b[1;32m~\\anaconda3\\Lib\\site-packages\\torch\\nn\\modules\\module.py:1518\u001b[0m, in \u001b[0;36mModule._wrapped_call_impl\u001b[1;34m(self, *args, **kwargs)\u001b[0m\n\u001b[0;32m   1516\u001b[0m     \u001b[38;5;28;01mreturn\u001b[39;00m \u001b[38;5;28mself\u001b[39m\u001b[38;5;241m.\u001b[39m_compiled_call_impl(\u001b[38;5;241m*\u001b[39margs, \u001b[38;5;241m*\u001b[39m\u001b[38;5;241m*\u001b[39mkwargs)  \u001b[38;5;66;03m# type: ignore[misc]\u001b[39;00m\n\u001b[0;32m   1517\u001b[0m \u001b[38;5;28;01melse\u001b[39;00m:\n\u001b[1;32m-> 1518\u001b[0m     \u001b[38;5;28;01mreturn\u001b[39;00m \u001b[38;5;28mself\u001b[39m\u001b[38;5;241m.\u001b[39m_call_impl(\u001b[38;5;241m*\u001b[39margs, \u001b[38;5;241m*\u001b[39m\u001b[38;5;241m*\u001b[39mkwargs)\n",
      "File \u001b[1;32m~\\anaconda3\\Lib\\site-packages\\torch\\nn\\modules\\module.py:1527\u001b[0m, in \u001b[0;36mModule._call_impl\u001b[1;34m(self, *args, **kwargs)\u001b[0m\n\u001b[0;32m   1522\u001b[0m \u001b[38;5;66;03m# If we don't have any hooks, we want to skip the rest of the logic in\u001b[39;00m\n\u001b[0;32m   1523\u001b[0m \u001b[38;5;66;03m# this function, and just call forward.\u001b[39;00m\n\u001b[0;32m   1524\u001b[0m \u001b[38;5;28;01mif\u001b[39;00m \u001b[38;5;129;01mnot\u001b[39;00m (\u001b[38;5;28mself\u001b[39m\u001b[38;5;241m.\u001b[39m_backward_hooks \u001b[38;5;129;01mor\u001b[39;00m \u001b[38;5;28mself\u001b[39m\u001b[38;5;241m.\u001b[39m_backward_pre_hooks \u001b[38;5;129;01mor\u001b[39;00m \u001b[38;5;28mself\u001b[39m\u001b[38;5;241m.\u001b[39m_forward_hooks \u001b[38;5;129;01mor\u001b[39;00m \u001b[38;5;28mself\u001b[39m\u001b[38;5;241m.\u001b[39m_forward_pre_hooks\n\u001b[0;32m   1525\u001b[0m         \u001b[38;5;129;01mor\u001b[39;00m _global_backward_pre_hooks \u001b[38;5;129;01mor\u001b[39;00m _global_backward_hooks\n\u001b[0;32m   1526\u001b[0m         \u001b[38;5;129;01mor\u001b[39;00m _global_forward_hooks \u001b[38;5;129;01mor\u001b[39;00m _global_forward_pre_hooks):\n\u001b[1;32m-> 1527\u001b[0m     \u001b[38;5;28;01mreturn\u001b[39;00m forward_call(\u001b[38;5;241m*\u001b[39margs, \u001b[38;5;241m*\u001b[39m\u001b[38;5;241m*\u001b[39mkwargs)\n\u001b[0;32m   1529\u001b[0m \u001b[38;5;28;01mtry\u001b[39;00m:\n\u001b[0;32m   1530\u001b[0m     result \u001b[38;5;241m=\u001b[39m \u001b[38;5;28;01mNone\u001b[39;00m\n",
      "File \u001b[1;32m~\\anaconda3\\Lib\\site-packages\\torch\\nn\\modules\\linear.py:114\u001b[0m, in \u001b[0;36mLinear.forward\u001b[1;34m(self, input)\u001b[0m\n\u001b[0;32m    113\u001b[0m \u001b[38;5;28;01mdef\u001b[39;00m \u001b[38;5;21mforward\u001b[39m(\u001b[38;5;28mself\u001b[39m, \u001b[38;5;28minput\u001b[39m: Tensor) \u001b[38;5;241m-\u001b[39m\u001b[38;5;241m>\u001b[39m Tensor:\n\u001b[1;32m--> 114\u001b[0m     \u001b[38;5;28;01mreturn\u001b[39;00m F\u001b[38;5;241m.\u001b[39mlinear(\u001b[38;5;28minput\u001b[39m, \u001b[38;5;28mself\u001b[39m\u001b[38;5;241m.\u001b[39mweight, \u001b[38;5;28mself\u001b[39m\u001b[38;5;241m.\u001b[39mbias)\n",
      "\u001b[1;31mRuntimeError\u001b[0m: mat1 and mat2 shapes cannot be multiplied (25x32 and 64x64)"
     ]
    }
   ],
   "source": [
    "# 모델 학습\n",
    "num_epochs = 5\n",
    "\n",
    "for epoch in range(num_epochs):\n",
    "    model.train()\n",
    "    running_loss = 0.0\n",
    "\n",
    "    for X_batch, y_batch in train_loader:\n",
    "        X_batch, y_batch = X_batch.to(device), y_batch.to(device)\n",
    "\n",
    "        seq_len = X_batch.shape[1]\n",
    "        masked_pos = masked_pos\n",
    "        \n",
    "        optimizer.zero_grad()\n",
    "        pred, _ = model(X_batch, masked_pos)\n",
    "        pred = pred.squeeze(1)\n",
    "        \n",
    "        loss = criterion(pred, y_batch)\n",
    "        loss.backward()\n",
    "        optimizer.step()\n",
    "\n",
    "        running_loss += loss.item()\n",
    "\n",
    "    print(f\"Epoch [{epoch+1}/{num_epochs}], Loss: {running_loss/len(train_loader):.6f}\")\n"
   ]
  },
  {
   "cell_type": "code",
   "execution_count": null,
   "id": "fdf21c18",
   "metadata": {},
   "outputs": [],
   "source": []
  },
  {
   "cell_type": "code",
   "execution_count": null,
   "id": "88a7eedd",
   "metadata": {},
   "outputs": [],
   "source": []
  },
  {
   "cell_type": "code",
   "execution_count": 22,
   "id": "e454ee31",
   "metadata": {},
   "outputs": [
    {
     "name": "stdout",
     "output_type": "stream",
     "text": [
      "[[0.+0.j 0.+0.j 0.+0.j 0.+0.j 0.+0.j 0.+0.j 0.+0.j 0.+0.j 0.+0.j 0.+0.j\n",
      "  0.+0.j 0.+0.j 0.+0.j 0.+0.j 0.+0.j 0.+0.j 0.+0.j 0.+0.j 0.+0.j 0.+0.j\n",
      "  0.+0.j 0.+0.j 0.+0.j 0.+0.j 0.+0.j 0.+0.j 0.+0.j 0.+0.j 0.+0.j 0.+0.j\n",
      "  0.+0.j 0.+0.j]]\n"
     ]
    }
   ],
   "source": [
    "print(channel_sequence)"
   ]
  },
  {
   "cell_type": "code",
   "execution_count": 23,
   "id": "f73fab40",
   "metadata": {},
   "outputs": [
    {
     "name": "stdout",
     "output_type": "stream",
     "text": [
      "0\n"
     ]
    }
   ],
   "source": [
    "print(dataset[0][0]['user']['paths'][0]['num_paths'])\n"
   ]
  },
  {
   "cell_type": "code",
   "execution_count": 24,
   "id": "6d90b762",
   "metadata": {},
   "outputs": [
    {
     "name": "stdout",
     "output_type": "stream",
     "text": [
      "dict_keys(['user', 'basestation', 'location'])\n"
     ]
    }
   ],
   "source": [
    "print(dataset[0][0].keys())\n"
   ]
  },
  {
   "cell_type": "markdown",
   "id": "69344e7a",
   "metadata": {},
   "source": [
    "# LWM 동적시나리오 가져와서 분석해보기"
   ]
  },
  {
   "cell_type": "code",
   "execution_count": 62,
   "id": "bae3a430",
   "metadata": {},
   "outputs": [],
   "source": [
    "channels = []\n",
    "\n",
    "for scene_idx in range(10):  # scene 0~9\n",
    "    user_channels = []\n",
    "\n",
    "    for user in dataset[scene_idx]:  # 각 사용자\n",
    "        channel = user['user']['channel']  # shape: (1891, 1, 32, 1)\n",
    "        channel = channel.squeeze(1).squeeze(-1)  # shape: (1891, 32)\n",
    "        user_channels.append(channel)\n",
    "\n",
    "    user_channels = np.stack(user_channels)  # (num_users, 1891, 32)\n",
    "    channels.append(user_channels)\n",
    "\n",
    "# → channels: (10 scenes, num_users, 1891, 32)\n",
    "channels = np.stack(channels)             # shape: (10, num_users, 1891, 32)\n",
    "channels = channels.transpose(1, 0, 2, 3)  # → (num_users, 10, 1891, 32)\n",
    "\n",
    "# 예: 특정 위치 index만 사용 (예: loc_idx = 100)\n",
    "loc_idx = 100\n",
    "channel_data = channels[:, :, loc_idx, :]  # shape: (num_users, 10, 32)\n",
    "\n",
    "# 데이터 나누기\n",
    "seq_len = 10\n",
    "input_ids = torch.tensor(channel_data[:, :seq_len-1, :], dtype=torch.float32)\n",
    "target_ids = torch.tensor(channel_data[:, seq_len-1, :], dtype=torch.float32)\n",
    "masked_pos = torch.full((input_ids.shape[0], 1), seq_len-2, dtype=torch.long)\n"
   ]
  },
  {
   "cell_type": "code",
   "execution_count": 63,
   "id": "dc63c818",
   "metadata": {},
   "outputs": [
    {
     "ename": "NameError",
     "evalue": "name 'batch_size' is not defined",
     "output_type": "error",
     "traceback": [
      "\u001b[1;31m---------------------------------------------------------------------------\u001b[0m",
      "\u001b[1;31mNameError\u001b[0m                                 Traceback (most recent call last)",
      "Cell \u001b[1;32mIn[63], line 3\u001b[0m\n\u001b[0;32m      1\u001b[0m \u001b[38;5;66;03m# 학습/테스트 분리\u001b[39;00m\n\u001b[0;32m      2\u001b[0m \u001b[38;5;66;03m# train 80%, test 20%\u001b[39;00m\n\u001b[1;32m----> 3\u001b[0m split_idx \u001b[38;5;241m=\u001b[39m \u001b[38;5;28mint\u001b[39m(\u001b[38;5;241m0.8\u001b[39m\u001b[38;5;241m*\u001b[39mbatch_size)\n\u001b[0;32m      5\u001b[0m X_train  \u001b[38;5;241m=\u001b[39m input_ids[:split_idx]\n\u001b[0;32m      6\u001b[0m y_train \u001b[38;5;241m=\u001b[39m target_ids[:split_idx]\n",
      "\u001b[1;31mNameError\u001b[0m: name 'batch_size' is not defined"
     ]
    }
   ],
   "source": [
    "# 학습/테스트 분리\n",
    "# train 80%, test 20%\n",
    "split_idx = int(0.8*batch_size)\n",
    "\n",
    "X_train  = input_ids[:split_idx]\n",
    "y_train = target_ids[:split_idx]\n",
    "pos_train = masked_pos[:split_idx]\n",
    "\n",
    "X_test = input_ids[split_idx:]\n",
    "y_test = target_ids[split_idx:]\n",
    "pos_test = masked_pos[split_idx:]"
   ]
  },
  {
   "cell_type": "code",
   "execution_count": null,
   "id": "67d1e712",
   "metadata": {},
   "outputs": [],
   "source": [
    "#DataLoader 설정\n",
    "from torch.utils.data import TensorDataset, DataLoader\n",
    "\n",
    "train_dataset = TensorDataset(X_train, y_train, pos_train)\n",
    "test_dataset = TensorDataset(X_test, y_test, pos_test)\n",
    "\n",
    "train_loader = DataLoader(train_dataset, batch_size=32 , shuffle=True)\n",
    "test_loader = DataLoader(test_dataset, batch_size=32, shuffle=False)\n"
   ]
  },
  {
   "cell_type": "code",
   "execution_count": null,
   "id": "3aa1c0ec",
   "metadata": {},
   "outputs": [],
   "source": [
    "# 학습 파이프라인\n",
    "from lwm_model import lwm\n",
    "import torch.nn as nn\n",
    "import torch.optim as optim\n",
    "\n",
    "device = 'cuda' if torch.cuda.is_available() else 'cpu'\n",
    "\n",
    "model = lwm(element_length=element_length).to(device)\n",
    "optimizer = optim.Adam(model.parameters(), lr=1e-4)\n",
    "criterion = nn.MSELoss()\n"
   ]
  },
  {
   "cell_type": "code",
   "execution_count": null,
   "id": "0d716594",
   "metadata": {},
   "outputs": [],
   "source": [
    "# 학습 루프\n",
    "n_epochs = 100\n",
    "\n",
    "\n",
    "for epoch in range(n_epochs):\n",
    "    model.train()\n",
    "    total_loss = 0\n",
    "    count = 0\n",
    "\n",
    "    for input_ids_batch, target_ids_batch, masked_pos_batch in train_loader:\n",
    "        input_ids_batch = input_ids_batch.to(device)\n",
    "        target_ids_batch = target_ids_batch.to(device)\n",
    "        masked_pos_batch = masked_pos_batch.to(device)\n",
    "\n",
    "        optimizer.zero_grad()\n",
    "\n",
    "        logits, _ = model(input_ids_batch, masked_pos_batch)\n",
    "        loss = criterion(logits.squeeze(1), target_ids_batch.squeeze(1))\n",
    "\n",
    "        loss.backward()\n",
    "        optimizer.step()\n",
    "\n",
    "        total_loss += loss.item()\n",
    "        count += 1\n",
    "\n",
    "    if epoch % 5 == 0:\n",
    "      avg_loss = total_loss / count\n",
    "      print(f\"Epoch {epoch}: Avg Loss = {avg_loss:.6f}\")\n"
   ]
  },
  {
   "cell_type": "code",
   "execution_count": null,
   "id": "2416bc57",
   "metadata": {},
   "outputs": [],
   "source": [
    "# 예측 후 시각화\n",
    "import matplotlib.pyplot as plt\n",
    "\n",
    "model.eval()\n",
    "with torch.no_grad():\n",
    "    pred, _ = model(input_ids.to(device), masked_pos.to(device))\n",
    "    pred = pred.squeeze(1).cpu().numpy()\n",
    "    target = target_ids.squeeze(1).numpy()\n",
    "\n",
    "# 예: 사용자 0의 첫 번째 feature\n",
    "plt.plot(pred[0], label=\"Predicted\")\n",
    "plt.plot(target[0], label=\"Actual\", linestyle=\"--\")\n",
    "plt.title(\"Predicted vs Actual (User 0)\")\n",
    "plt.legend()\n",
    "plt.grid(True)\n",
    "plt.show()\n"
   ]
  },
  {
   "cell_type": "code",
   "execution_count": null,
   "id": "7ca9ab16",
   "metadata": {},
   "outputs": [],
   "source": []
  },
  {
   "cell_type": "code",
   "execution_count": null,
   "id": "309713e0",
   "metadata": {},
   "outputs": [],
   "source": []
  },
  {
   "cell_type": "markdown",
   "id": "8449a694",
   "metadata": {},
   "source": [
    "# LWM을 가져와서 예측하기"
   ]
  },
  {
   "cell_type": "code",
   "execution_count": 60,
   "id": "07c79a7e",
   "metadata": {},
   "outputs": [
    {
     "ename": "SyntaxError",
     "evalue": "expected ':' (3271643563.py, line 22)",
     "output_type": "error",
     "traceback": [
      "\u001b[1;36m  Cell \u001b[1;32mIn[60], line 22\u001b[1;36m\u001b[0m\n\u001b[1;33m    for user in dataset\u001b[0m\n\u001b[1;37m                       ^\u001b[0m\n\u001b[1;31mSyntaxError\u001b[0m\u001b[1;31m:\u001b[0m expected ':'\n"
     ]
    }
   ],
   "source": [
    "## 데이터 준비 예시\n",
    "\n",
    "import torch\n",
    "import numpy as np\n",
    "\n",
    "# 예시: shape (batch, seq_len, element_length)\n",
    "# element_length = 채널 real + imag = 예: 64\n",
    "# seq_len = 예: 10개 시점\n",
    "# batch_size = 사용자 수\n",
    "\n",
    "# batch_size가 커질수록 정확도 하락\n",
    "seq_len = 10 # 총 10개 time step ex(scene 0 ~ 9)\n",
    "element_length = 64 # 채널 real + imag\n",
    "\n",
    "# dummy channel data (여기에 실제 채널 데이터 사용)\n",
    "channels = []  # 전체 scene 채널을 모을 리스트\n",
    "\n",
    "for scene_idx in range(10):  # scene 0 ~ 9\n",
    "    user_channels = [] # 해당 scene의 모든 사용자 채널 저장\n",
    "\n",
    "    # dataset[scene_idx]에서 한 사용자의 딕셔너리는\n",
    "    # {'user': {...}, 'basestation': {...}} 구조\n",
    "    for user_dict in dataset[scene_idx]:  # 각 scene의 사용자 순회\n",
    "        # channel = user_dict['channel']  # ← 이것 때문에 KeyError 발생\n",
    "        channel = user_dict['user']['channel']  # 실제 데이터 구조에 맞춰 수정\n",
    "\n",
    "        # (1) shape 확인 후 squeeze\n",
    "        # 보통 ( something, 1, something, 1 ) 형태라면 이렇게:\n",
    "        channel = channel.squeeze(1).squeeze(-1)  # → (32,) 형태로 변형\n",
    "        # (2) 사용자 채널 리스트에 누적\n",
    "        user_channels.append(channel)\n",
    "\n",
    "    # scene 하나(10개 중 1개)에 대한 \"모든 사용자\" 채널을 stack\n",
    "    channels.append(np.stack(user_channels))  # (user, antenna) shape로 stack\n",
    "\n",
    "# (scene, user, antenna) → (user, scene, antenna)\n",
    "channel_data = np.stack(channels, axis=0).transpose(1, 0, 2)  # → (사용자 수, 10, 32)\n",
    "batch_size = channel_data.shape[0]  # 사용자 수 기반으로 설정\n",
    "\n",
    "# 아래코드는 dumy 채널 데이터였음\n",
    "# channel_data = np.random.randn(batch_size, seq_len, element_length).astype(np.float32)\n",
    "\n",
    "input_ids = torch.tensor(channel_data[:, :seq_len-1, :])       # t=0~(n-2)\n",
    "target_ids = torch.tensor(channel_data[:, seq_len-1:seq_len, :])  # t=(n-1)\n",
    "masked_pos = torch.full((batch_size, 1), seq_len-2)  # 마지막 step 위치\n"
   ]
  },
  {
   "cell_type": "code",
   "execution_count": 29,
   "id": "5c26ff32",
   "metadata": {},
   "outputs": [
    {
     "name": "stdout",
     "output_type": "stream",
     "text": [
      "<class 'dict'>\n"
     ]
    }
   ],
   "source": [
    "print(type(user))"
   ]
  },
  {
   "cell_type": "code",
   "execution_count": 30,
   "id": "5538e8bb",
   "metadata": {},
   "outputs": [
    {
     "name": "stdout",
     "output_type": "stream",
     "text": [
      "{'user': {'paths': array([{'num_paths': 0, 'DoD_phi': [], 'DoD_theta': [], 'DoA_phi': [], 'DoA_theta': [], 'phase': [], 'ToA': [], 'power': [], 'LoS': []},\n",
      "       {'num_paths': 0, 'DoD_phi': [], 'DoD_theta': [], 'DoA_phi': [], 'DoA_theta': [], 'phase': [], 'ToA': [], 'power': [], 'LoS': []},\n",
      "       {'num_paths': 0, 'DoD_phi': [], 'DoD_theta': [], 'DoA_phi': [], 'DoA_theta': [], 'phase': [], 'ToA': [], 'power': [], 'LoS': []},\n",
      "       ...,\n",
      "       {'num_paths': 1, 'DoD_phi': array([-4.67836], dtype=float32), 'DoD_theta': array([90.9207], dtype=float32), 'DoA_phi': array([175.322], dtype=float32), 'DoA_theta': array([89.0793], dtype=float32), 'phase': array([3.80264], dtype=float32), 'ToA': array([1.03828e-06], dtype=float32), 'LoS': array([0.], dtype=float32), 'power': array([4.792699e-10], dtype=float32)},\n",
      "       {'num_paths': 1, 'DoD_phi': array([-4.67536], dtype=float32), 'DoD_theta': array([90.9201], dtype=float32), 'DoA_phi': array([175.325], dtype=float32), 'DoA_theta': array([89.0799], dtype=float32), 'phase': array([-114.143], dtype=float32), 'ToA': array([1.03895e-06], dtype=float32), 'LoS': array([0.], dtype=float32), 'power': array([4.786525e-10], dtype=float32)},\n",
      "       {'num_paths': 1, 'DoD_phi': array([-4.67236], dtype=float32), 'DoD_theta': array([90.9195], dtype=float32), 'DoA_phi': array([175.328], dtype=float32), 'DoA_theta': array([89.0805], dtype=float32), 'phase': array([127.908], dtype=float32), 'ToA': array([1.03961e-06], dtype=float32), 'LoS': array([0.], dtype=float32), 'power': array([4.7804644e-10], dtype=float32)}],\n",
      "      dtype=object), 'LoS': array([-1, -1, -1, ...,  0,  0,  0], dtype=int8), 'location': array([[-91.03330231, -15.37629986,   1.        ],\n",
      "       [-90.83329773, -15.37629986,   1.        ],\n",
      "       [-90.63330078, -15.37629986,   1.        ],\n",
      "       ...,\n",
      "       [286.56698608, -15.37629986,   1.        ],\n",
      "       [286.76699829, -15.37629986,   1.        ],\n",
      "       [286.9670105 , -15.37629986,   1.        ]]), 'distance': array([ 97.52539825,  97.33260345,  97.13980103, ..., 284.74398804,\n",
      "       284.94299316, 285.14199829]), 'pathloss': array([ 0.        ,  0.        ,  0.        , ..., 93.19419861,\n",
      "       93.19979858, 93.20529938]), 'channel': array([[[[ 0.0000000e+00+0.0000000e+00j],\n",
      "         [ 0.0000000e+00+0.0000000e+00j],\n",
      "         [ 0.0000000e+00+0.0000000e+00j],\n",
      "         ...,\n",
      "         [ 0.0000000e+00+0.0000000e+00j],\n",
      "         [ 0.0000000e+00+0.0000000e+00j],\n",
      "         [ 0.0000000e+00+0.0000000e+00j]]],\n",
      "\n",
      "\n",
      "       [[[ 0.0000000e+00+0.0000000e+00j],\n",
      "         [ 0.0000000e+00+0.0000000e+00j],\n",
      "         [ 0.0000000e+00+0.0000000e+00j],\n",
      "         ...,\n",
      "         [ 0.0000000e+00+0.0000000e+00j],\n",
      "         [ 0.0000000e+00+0.0000000e+00j],\n",
      "         [ 0.0000000e+00+0.0000000e+00j]]],\n",
      "\n",
      "\n",
      "       [[[ 0.0000000e+00+0.0000000e+00j],\n",
      "         [ 0.0000000e+00+0.0000000e+00j],\n",
      "         [ 0.0000000e+00+0.0000000e+00j],\n",
      "         ...,\n",
      "         [ 0.0000000e+00+0.0000000e+00j],\n",
      "         [ 0.0000000e+00+0.0000000e+00j],\n",
      "         [ 0.0000000e+00+0.0000000e+00j]]],\n",
      "\n",
      "\n",
      "       ...,\n",
      "\n",
      "\n",
      "       [[[ 9.6537917e-07+6.4165093e-08j],\n",
      "         [ 9.6738711e-07+1.5370968e-08j],\n",
      "         [ 9.6693032e-07-3.3462314e-08j],\n",
      "         ...,\n",
      "         [ 1.6675772e-07-9.5302988e-07j],\n",
      "         [ 1.1845604e-07-9.6023030e-07j],\n",
      "         [ 6.9852568e-08-9.6498434e-07j]]],\n",
      "\n",
      "\n",
      "       [[[-3.9547123e-07-8.8230991e-07j],\n",
      "         [-4.3945982e-07-8.6124521e-07j],\n",
      "         [-4.8233022e-07-8.3798915e-07j],\n",
      "         ...,\n",
      "         [-9.1974050e-07+2.9823755e-07j],\n",
      "         [-9.0353137e-07+3.4423735e-07j],\n",
      "         [-8.8502321e-07+3.8936125e-07j]]],\n",
      "\n",
      "\n",
      "       [[[-5.9367386e-07+7.6238814e-07j],\n",
      "         [-5.5449988e-07+7.9133702e-07j],\n",
      "         [-5.1391680e-07+8.1827494e-07j],\n",
      "         ...,\n",
      "         [ 6.9344634e-07+6.7291643e-07j],\n",
      "         [ 7.2647617e-07+6.3711599e-07j],\n",
      "         [ 7.5765985e-07+5.9969653e-07j]]]], dtype=complex64)}, 'basestation': {'paths': array([{'num_paths': 2, 'DoD_phi': array([   0.   , -141.952], dtype=float32), 'DoD_theta': array([180.    ,  89.9997], dtype=float32), 'DoA_phi': array([-180.  , -141.95], dtype=float32), 'DoA_theta': array([180.    ,  89.9997], dtype=float32), 'phase': array([  68.6712, -129.443 ], dtype=float32), 'ToA': array([3.83724e-08, 3.63243e-07], dtype=float32), 'LoS': array([0., 0.], dtype=float32), 'power': array([5.4408858e-08, 2.8096997e-10], dtype=float32)}],\n",
      "      dtype=object), 'LoS': [0.0], 'location': array([[ 3., 10.,  6.]]), 'distance': array([0.]), 'pathloss': array([73.25530243]), 'channel': [array([[[ 3.27880882e-06+9.03047146e-06j],\n",
      "        [-4.22006268e-06-1.01746392e-05j],\n",
      "        [ 3.27882920e-06+9.03045542e-06j],\n",
      "        ...,\n",
      "        [-4.21982438e-06-1.01748453e-05j],\n",
      "        [ 3.27911451e-06+9.03023098e-06j],\n",
      "        [-4.21980736e-06-1.01748600e-05j]],\n",
      "\n",
      "       [[-4.22006268e-06-1.01746392e-05j],\n",
      "        [ 3.27882920e-06+9.03045542e-06j],\n",
      "        [-4.22004567e-06-1.01746539e-05j],\n",
      "        ...,\n",
      "        [ 3.27911451e-06+9.03023098e-06j],\n",
      "        [-4.21980736e-06-1.01748600e-05j],\n",
      "        [ 3.27913490e-06+9.03021495e-06j]],\n",
      "\n",
      "       [[ 3.27882920e-06+9.03045542e-06j],\n",
      "        [-4.22004567e-06-1.01746539e-05j],\n",
      "        [ 3.27884957e-06+9.03043939e-06j],\n",
      "        ...,\n",
      "        [-4.21980736e-06-1.01748600e-05j],\n",
      "        [ 3.27913490e-06+9.03021495e-06j],\n",
      "        [-4.21979033e-06-1.01748747e-05j]],\n",
      "\n",
      "       ...,\n",
      "\n",
      "       [[-4.21982438e-06-1.01748453e-05j],\n",
      "        [ 3.27911451e-06+9.03023098e-06j],\n",
      "        [-4.21980736e-06-1.01748600e-05j],\n",
      "        ...,\n",
      "        [ 3.27939993e-06+9.03000665e-06j],\n",
      "        [-4.21956895e-06-1.01750660e-05j],\n",
      "        [ 3.27942032e-06+9.02999063e-06j]],\n",
      "\n",
      "       [[ 3.27911451e-06+9.03023098e-06j],\n",
      "        [-4.21980736e-06-1.01748600e-05j],\n",
      "        [ 3.27913490e-06+9.03021495e-06j],\n",
      "        ...,\n",
      "        [-4.21956895e-06-1.01750660e-05j],\n",
      "        [ 3.27942032e-06+9.02999063e-06j],\n",
      "        [-4.21955192e-06-1.01750807e-05j]],\n",
      "\n",
      "       [[-4.21980736e-06-1.01748600e-05j],\n",
      "        [ 3.27913490e-06+9.03021495e-06j],\n",
      "        [-4.21979033e-06-1.01748747e-05j],\n",
      "        ...,\n",
      "        [ 3.27942032e-06+9.02999063e-06j],\n",
      "        [-4.21955192e-06-1.01750807e-05j],\n",
      "        [ 3.27944071e-06+9.02997461e-06j]]])]}, 'location': array([ 3., 10.,  6.])}\n"
     ]
    }
   ],
   "source": [
    "print(user)"
   ]
  },
  {
   "cell_type": "code",
   "execution_count": 32,
   "id": "bbacd6aa",
   "metadata": {},
   "outputs": [
    {
     "name": "stdout",
     "output_type": "stream",
     "text": [
      "{'user': {'paths': array([{'num_paths': 0, 'DoD_phi': [], 'DoD_theta': [], 'DoA_phi': [], 'DoA_theta': [], 'phase': [], 'ToA': [], 'power': [], 'LoS': []},\n",
      "       {'num_paths': 0, 'DoD_phi': [], 'DoD_theta': [], 'DoA_phi': [], 'DoA_theta': [], 'phase': [], 'ToA': [], 'power': [], 'LoS': []},\n",
      "       {'num_paths': 0, 'DoD_phi': [], 'DoD_theta': [], 'DoA_phi': [], 'DoA_theta': [], 'phase': [], 'ToA': [], 'power': [], 'LoS': []},\n",
      "       ...,\n",
      "       {'num_paths': 1, 'DoD_phi': array([-4.67836], dtype=float32), 'DoD_theta': array([90.9207], dtype=float32), 'DoA_phi': array([175.322], dtype=float32), 'DoA_theta': array([89.0793], dtype=float32), 'phase': array([3.80264], dtype=float32), 'ToA': array([1.03828e-06], dtype=float32), 'LoS': array([0.], dtype=float32), 'power': array([4.792699e-10], dtype=float32)},\n",
      "       {'num_paths': 1, 'DoD_phi': array([-4.67536], dtype=float32), 'DoD_theta': array([90.9201], dtype=float32), 'DoA_phi': array([175.325], dtype=float32), 'DoA_theta': array([89.0799], dtype=float32), 'phase': array([-114.143], dtype=float32), 'ToA': array([1.03895e-06], dtype=float32), 'LoS': array([0.], dtype=float32), 'power': array([4.786525e-10], dtype=float32)},\n",
      "       {'num_paths': 1, 'DoD_phi': array([-4.67236], dtype=float32), 'DoD_theta': array([90.9195], dtype=float32), 'DoA_phi': array([175.328], dtype=float32), 'DoA_theta': array([89.0805], dtype=float32), 'phase': array([127.908], dtype=float32), 'ToA': array([1.03961e-06], dtype=float32), 'LoS': array([0.], dtype=float32), 'power': array([4.7804644e-10], dtype=float32)}],\n",
      "      dtype=object), 'LoS': array([-1, -1, -1, ...,  0,  0,  0], dtype=int8), 'location': array([[-91.03330231, -15.37629986,   1.        ],\n",
      "       [-90.83329773, -15.37629986,   1.        ],\n",
      "       [-90.63330078, -15.37629986,   1.        ],\n",
      "       ...,\n",
      "       [286.56698608, -15.37629986,   1.        ],\n",
      "       [286.76699829, -15.37629986,   1.        ],\n",
      "       [286.9670105 , -15.37629986,   1.        ]]), 'distance': array([ 97.52539825,  97.33260345,  97.13980103, ..., 284.74398804,\n",
      "       284.94299316, 285.14199829]), 'pathloss': array([ 0.        ,  0.        ,  0.        , ..., 93.19419861,\n",
      "       93.19979858, 93.20529938]), 'channel': array([[[[ 0.0000000e+00+0.0000000e+00j],\n",
      "         [ 0.0000000e+00+0.0000000e+00j],\n",
      "         [ 0.0000000e+00+0.0000000e+00j],\n",
      "         ...,\n",
      "         [ 0.0000000e+00+0.0000000e+00j],\n",
      "         [ 0.0000000e+00+0.0000000e+00j],\n",
      "         [ 0.0000000e+00+0.0000000e+00j]]],\n",
      "\n",
      "\n",
      "       [[[ 0.0000000e+00+0.0000000e+00j],\n",
      "         [ 0.0000000e+00+0.0000000e+00j],\n",
      "         [ 0.0000000e+00+0.0000000e+00j],\n",
      "         ...,\n",
      "         [ 0.0000000e+00+0.0000000e+00j],\n",
      "         [ 0.0000000e+00+0.0000000e+00j],\n",
      "         [ 0.0000000e+00+0.0000000e+00j]]],\n",
      "\n",
      "\n",
      "       [[[ 0.0000000e+00+0.0000000e+00j],\n",
      "         [ 0.0000000e+00+0.0000000e+00j],\n",
      "         [ 0.0000000e+00+0.0000000e+00j],\n",
      "         ...,\n",
      "         [ 0.0000000e+00+0.0000000e+00j],\n",
      "         [ 0.0000000e+00+0.0000000e+00j],\n",
      "         [ 0.0000000e+00+0.0000000e+00j]]],\n",
      "\n",
      "\n",
      "       ...,\n",
      "\n",
      "\n",
      "       [[[ 9.6537917e-07+6.4165093e-08j],\n",
      "         [ 9.6738711e-07+1.5370968e-08j],\n",
      "         [ 9.6693032e-07-3.3462314e-08j],\n",
      "         ...,\n",
      "         [ 1.6675772e-07-9.5302988e-07j],\n",
      "         [ 1.1845604e-07-9.6023030e-07j],\n",
      "         [ 6.9852568e-08-9.6498434e-07j]]],\n",
      "\n",
      "\n",
      "       [[[-3.9547123e-07-8.8230991e-07j],\n",
      "         [-4.3945982e-07-8.6124521e-07j],\n",
      "         [-4.8233022e-07-8.3798915e-07j],\n",
      "         ...,\n",
      "         [-9.1974050e-07+2.9823755e-07j],\n",
      "         [-9.0353137e-07+3.4423735e-07j],\n",
      "         [-8.8502321e-07+3.8936125e-07j]]],\n",
      "\n",
      "\n",
      "       [[[-5.9367386e-07+7.6238814e-07j],\n",
      "         [-5.5449988e-07+7.9133702e-07j],\n",
      "         [-5.1391680e-07+8.1827494e-07j],\n",
      "         ...,\n",
      "         [ 6.9344634e-07+6.7291643e-07j],\n",
      "         [ 7.2647617e-07+6.3711599e-07j],\n",
      "         [ 7.5765985e-07+5.9969653e-07j]]]], dtype=complex64)}, 'basestation': {'paths': array([{'num_paths': 2, 'DoD_phi': array([   0.   , -141.952], dtype=float32), 'DoD_theta': array([180.    ,  89.9997], dtype=float32), 'DoA_phi': array([-180.  , -141.95], dtype=float32), 'DoA_theta': array([180.    ,  89.9997], dtype=float32), 'phase': array([  68.6712, -129.443 ], dtype=float32), 'ToA': array([3.83724e-08, 3.63243e-07], dtype=float32), 'LoS': array([0., 0.], dtype=float32), 'power': array([5.4408858e-08, 2.8096997e-10], dtype=float32)}],\n",
      "      dtype=object), 'LoS': [0.0], 'location': array([[ 3., 10.,  6.]]), 'distance': array([0.]), 'pathloss': array([73.25530243]), 'channel': [array([[[ 3.27880882e-06+9.03047146e-06j],\n",
      "        [-4.22006268e-06-1.01746392e-05j],\n",
      "        [ 3.27882920e-06+9.03045542e-06j],\n",
      "        ...,\n",
      "        [-4.21982438e-06-1.01748453e-05j],\n",
      "        [ 3.27911451e-06+9.03023098e-06j],\n",
      "        [-4.21980736e-06-1.01748600e-05j]],\n",
      "\n",
      "       [[-4.22006268e-06-1.01746392e-05j],\n",
      "        [ 3.27882920e-06+9.03045542e-06j],\n",
      "        [-4.22004567e-06-1.01746539e-05j],\n",
      "        ...,\n",
      "        [ 3.27911451e-06+9.03023098e-06j],\n",
      "        [-4.21980736e-06-1.01748600e-05j],\n",
      "        [ 3.27913490e-06+9.03021495e-06j]],\n",
      "\n",
      "       [[ 3.27882920e-06+9.03045542e-06j],\n",
      "        [-4.22004567e-06-1.01746539e-05j],\n",
      "        [ 3.27884957e-06+9.03043939e-06j],\n",
      "        ...,\n",
      "        [-4.21980736e-06-1.01748600e-05j],\n",
      "        [ 3.27913490e-06+9.03021495e-06j],\n",
      "        [-4.21979033e-06-1.01748747e-05j]],\n",
      "\n",
      "       ...,\n",
      "\n",
      "       [[-4.21982438e-06-1.01748453e-05j],\n",
      "        [ 3.27911451e-06+9.03023098e-06j],\n",
      "        [-4.21980736e-06-1.01748600e-05j],\n",
      "        ...,\n",
      "        [ 3.27939993e-06+9.03000665e-06j],\n",
      "        [-4.21956895e-06-1.01750660e-05j],\n",
      "        [ 3.27942032e-06+9.02999063e-06j]],\n",
      "\n",
      "       [[ 3.27911451e-06+9.03023098e-06j],\n",
      "        [-4.21980736e-06-1.01748600e-05j],\n",
      "        [ 3.27913490e-06+9.03021495e-06j],\n",
      "        ...,\n",
      "        [-4.21956895e-06-1.01750660e-05j],\n",
      "        [ 3.27942032e-06+9.02999063e-06j],\n",
      "        [-4.21955192e-06-1.01750807e-05j]],\n",
      "\n",
      "       [[-4.21980736e-06-1.01748600e-05j],\n",
      "        [ 3.27913490e-06+9.03021495e-06j],\n",
      "        [-4.21979033e-06-1.01748747e-05j],\n",
      "        ...,\n",
      "        [ 3.27942032e-06+9.02999063e-06j],\n",
      "        [-4.21955192e-06-1.01750807e-05j],\n",
      "        [ 3.27944071e-06+9.02997461e-06j]]])]}, 'location': array([ 3., 10.,  6.])}\n"
     ]
    }
   ],
   "source": [
    "print(dataset[0][0])"
   ]
  },
  {
   "cell_type": "code",
   "execution_count": null,
   "id": "66e37a39",
   "metadata": {},
   "outputs": [],
   "source": []
  }
 ],
 "metadata": {
  "kernelspec": {
   "display_name": "Python 3 (ipykernel)",
   "language": "python",
   "name": "python3"
  },
  "language_info": {
   "codemirror_mode": {
    "name": "ipython",
    "version": 3
   },
   "file_extension": ".py",
   "mimetype": "text/x-python",
   "name": "python",
   "nbconvert_exporter": "python",
   "pygments_lexer": "ipython3",
   "version": "3.11.3"
  }
 },
 "nbformat": 4,
 "nbformat_minor": 5
}
