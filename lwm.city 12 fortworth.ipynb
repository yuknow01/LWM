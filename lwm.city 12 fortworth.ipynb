{
 "cells": [
  {
   "cell_type": "code",
   "execution_count": 1,
   "id": "27e9fa51",
   "metadata": {},
   "outputs": [
    {
     "name": "stdout",
     "output_type": "stream",
     "text": [
      "3.11.3 | packaged by Anaconda, Inc. | (main, Apr 19 2023, 23:46:34) [MSC v.1916 64 bit (AMD64)]\n"
     ]
    }
   ],
   "source": [
    "import sys\n",
    "print(sys.version)"
   ]
  },
  {
   "cell_type": "code",
   "execution_count": 2,
   "id": "846fad6b",
   "metadata": {},
   "outputs": [
    {
     "name": "stdout",
     "output_type": "stream",
     "text": [
      "Requirement already satisfied: DeepMIMOv3 in c:\\users\\dlghd\\anaconda3\\lib\\site-packages (0.2.8)\n",
      "Requirement already satisfied: umap-learn in c:\\users\\dlghd\\anaconda3\\lib\\site-packages (0.5.7)\n",
      "Requirement already satisfied: numpy in c:\\users\\dlghd\\anaconda3\\lib\\site-packages (from DeepMIMOv3) (1.24.3)\n",
      "Requirement already satisfied: scipy in c:\\users\\dlghd\\anaconda3\\lib\\site-packages (from DeepMIMOv3) (1.10.1)\n",
      "Requirement already satisfied: tqdm in c:\\users\\dlghd\\anaconda3\\lib\\site-packages (from DeepMIMOv3) (4.65.0)\n",
      "Requirement already satisfied: matplotlib in c:\\users\\dlghd\\anaconda3\\lib\\site-packages (from DeepMIMOv3) (3.7.1)\n",
      "Requirement already satisfied: scikit-learn>=0.22 in c:\\users\\dlghd\\anaconda3\\lib\\site-packages (from umap-learn) (1.2.2)\n",
      "Requirement already satisfied: numba>=0.51.2 in c:\\users\\dlghd\\anaconda3\\lib\\site-packages (from umap-learn) (0.57.0)\n",
      "Requirement already satisfied: pynndescent>=0.5 in c:\\users\\dlghd\\anaconda3\\lib\\site-packages (from umap-learn) (0.5.13)\n",
      "Requirement already satisfied: llvmlite<0.41,>=0.40.0dev0 in c:\\users\\dlghd\\anaconda3\\lib\\site-packages (from numba>=0.51.2->umap-learn) (0.40.0)\n",
      "Requirement already satisfied: joblib>=0.11 in c:\\users\\dlghd\\anaconda3\\lib\\site-packages (from pynndescent>=0.5->umap-learn) (1.2.0)\n",
      "Requirement already satisfied: threadpoolctl>=2.0.0 in c:\\users\\dlghd\\anaconda3\\lib\\site-packages (from scikit-learn>=0.22->umap-learn) (2.2.0)\n",
      "Requirement already satisfied: contourpy>=1.0.1 in c:\\users\\dlghd\\anaconda3\\lib\\site-packages (from matplotlib->DeepMIMOv3) (1.0.5)\n",
      "Requirement already satisfied: cycler>=0.10 in c:\\users\\dlghd\\anaconda3\\lib\\site-packages (from matplotlib->DeepMIMOv3) (0.11.0)\n",
      "Requirement already satisfied: fonttools>=4.22.0 in c:\\users\\dlghd\\anaconda3\\lib\\site-packages (from matplotlib->DeepMIMOv3) (4.25.0)\n",
      "Requirement already satisfied: kiwisolver>=1.0.1 in c:\\users\\dlghd\\anaconda3\\lib\\site-packages (from matplotlib->DeepMIMOv3) (1.4.4)\n",
      "Requirement already satisfied: packaging>=20.0 in c:\\users\\dlghd\\anaconda3\\lib\\site-packages (from matplotlib->DeepMIMOv3) (23.0)\n",
      "Requirement already satisfied: pillow>=6.2.0 in c:\\users\\dlghd\\anaconda3\\lib\\site-packages (from matplotlib->DeepMIMOv3) (9.4.0)\n",
      "Requirement already satisfied: pyparsing>=2.3.1 in c:\\users\\dlghd\\anaconda3\\lib\\site-packages (from matplotlib->DeepMIMOv3) (3.0.9)\n",
      "Requirement already satisfied: python-dateutil>=2.7 in c:\\users\\dlghd\\anaconda3\\lib\\site-packages (from matplotlib->DeepMIMOv3) (2.8.2)\n",
      "Requirement already satisfied: colorama in c:\\users\\dlghd\\anaconda3\\lib\\site-packages (from tqdm->DeepMIMOv3) (0.4.6)\n",
      "Requirement already satisfied: six>=1.5 in c:\\users\\dlghd\\anaconda3\\lib\\site-packages (from python-dateutil>=2.7->matplotlib->DeepMIMOv3) (1.16.0)\n",
      "Note: you may need to restart the kernel to use updated packages.\n"
     ]
    }
   ],
   "source": [
    "pip install DeepMIMOv3 umap-learn"
   ]
  },
  {
   "cell_type": "code",
   "execution_count": 2,
   "id": "78bb9af6",
   "metadata": {},
   "outputs": [
    {
     "name": "stdout",
     "output_type": "stream",
     "text": [
      "C:\\Users\\dlghd\\anaconda3\\Lib\\site-packages\\DeepMIMOv3\\__init__.py\n",
      "C:\\Users\\dlghd\\anaconda3\\Lib\\site-packages\\umap\\__init__.py\n"
     ]
    }
   ],
   "source": [
    "import DeepMIMOv3\n",
    "import umap\n",
    "\n",
    "print(DeepMIMOv3.__file__)\n",
    "print(umap.__file__)"
   ]
  },
  {
   "cell_type": "code",
   "execution_count": 3,
   "id": "79a1442b",
   "metadata": {},
   "outputs": [
    {
     "name": "stdout",
     "output_type": "stream",
     "text": [
      "Requirement already satisfied: mat73 in c:\\users\\dlghd\\anaconda3\\lib\\site-packages (0.65)\n",
      "Requirement already satisfied: h5py in c:\\users\\dlghd\\anaconda3\\lib\\site-packages (from mat73) (3.7.0)\n",
      "Requirement already satisfied: numpy in c:\\users\\dlghd\\anaconda3\\lib\\site-packages (from mat73) (1.24.3)\n",
      "Note: you may need to restart the kernel to use updated packages.\n"
     ]
    }
   ],
   "source": [
    "pip install mat73"
   ]
  },
  {
   "cell_type": "code",
   "execution_count": 4,
   "id": "c4aa974e",
   "metadata": {},
   "outputs": [
    {
     "name": "stdout",
     "output_type": "stream",
     "text": [
      " C 드라이브의 볼륨: OS\n",
      " 볼륨 일련 번호: BE16-7D03\n",
      "\n",
      " C:\\Users\\dlghd\\졸업프로젝트\\LWM 디렉터리\n",
      "\n",
      "2025-03-25  오후 02:40    <DIR>          .\n",
      "2025-03-17  오후 06:20    <DIR>          ..\n",
      "2025-03-13  오후 07:34             1,605 .gitattributes\n",
      "2025-03-13  오후 07:34                 7 .gitignore\n",
      "2025-03-24  오후 01:47    <DIR>          .ipynb_checkpoints\n",
      "2025-03-24  오후 12:55    <DIR>          __pycache__\n",
      "2025-03-13  오후 07:34               114 config.json\n",
      "2025-03-17  오후 06:29             4,406 inference.ipynb\n",
      "2025-03-13  오후 07:34             2,548 inference.py\n",
      "2025-03-17  오후 06:30            21,620 input_preprocess.ipynb\n",
      "2025-03-13  오후 07:34            13,485 input_preprocess.py\n",
      "2025-03-24  오후 06:20    <DIR>          LWM\n",
      "2025-03-25  오후 02:40            25,013 lwm.city 12 fortworth.ipynb\n",
      "2025-03-24  오후 12:34           153,782 lwm.city_12_fortworth의 사본\n",
      "2025-03-17  오후 06:34             5,713 lwm_model.ipynb\n",
      "2025-03-13  오후 07:34             5,029 lwm_model.py\n",
      "2025-03-13  오후 07:34         1,607,460 lwm_paper.pdf\n",
      "2025-03-13  오후 07:34         2,509,918 model_weights.pth\n",
      "2025-03-24  오후 06:39    <DIR>          O2_dyn_3p5\n",
      "2025-03-13  오후 07:34            18,455 README.md\n",
      "2025-03-17  오후 06:33    <DIR>          scenarios\n",
      "2025-03-18  오후 01:19            24,186 tutorial.ipynb\n",
      "2025-03-13  오후 07:34            11,559 tutorial.py\n",
      "2025-03-21  오전 11:46               589 Untitled.ipynb\n",
      "2025-03-18  오후 02:21    <DIR>          utils\n",
      "2025-03-21  오전 09:49            14,537 utils.ipynb\n",
      "2025-03-13  오후 07:34            12,237 utils.py\n",
      "2025-03-24  오후 09:16            62,113 기지국예측.ipynb\n",
      "              20개 파일           4,494,376 바이트\n",
      "               8개 디렉터리  127,773,442,048 바이트 남음\n"
     ]
    }
   ],
   "source": [
    "ls"
   ]
  },
  {
   "cell_type": "code",
   "execution_count": 5,
   "id": "1fd8b625",
   "metadata": {},
   "outputs": [],
   "source": [
    "import os\n",
    "\n",
    "# Step 1: Clone the model repository (if not already cloned)\n",
    "model_repo_url = \"https://huggingface.co/wi-lab/lwm\"\n",
    "model_repo_dir = \"./LWM\"\n",
    "\n",
    "if not os.path.exists(model_repo_dir):\n",
    "    print(f\"Cloning model repository from {model_repo_url}...\")\n",
    "    subprocess.run([\"git\", \"clone\", model_repo_url, model_repo_dir], check=True)"
   ]
  },
  {
   "cell_type": "code",
   "execution_count": 6,
   "id": "e8df30e2",
   "metadata": {},
   "outputs": [
    {
     "name": "stdout",
     "output_type": "stream",
     "text": [
      " C 드라이브의 볼륨: OS\n",
      " 볼륨 일련 번호: BE16-7D03\n",
      "\n",
      " C:\\Users\\dlghd\\졸업프로젝트\\LWM\\LWM\\scenarios 디렉터리\n",
      "\n",
      "2025-03-17  오후 06:42    <DIR>          .\n",
      "2025-03-24  오후 06:20    <DIR>          ..\n",
      "2025-03-17  오후 06:42             2,122 .gitattributes\n",
      "2025-03-17  오후 06:42                86 .gitignore\n",
      "2025-03-17  오후 06:42    <DIR>          beam_prediction_challenge\n",
      "2025-03-17  오후 06:42    <DIR>          city_11_santaclara\n",
      "2025-03-17  오후 06:42    <DIR>          city_12_fortworth\n",
      "2025-03-17  오후 06:42    <DIR>          city_15_indianapolis\n",
      "2025-03-17  오후 06:42    <DIR>          city_18_denver\n",
      "2025-03-17  오후 06:42    <DIR>          city_19_oklahoma\n",
      "2025-03-17  오후 06:42    <DIR>          city_6_miami\n",
      "2025-03-17  오후 06:42    <DIR>          city_7_sandiego\n",
      "2025-03-17  오후 06:42    <DIR>          los_classification_challenge\n",
      "2025-03-17  오후 06:42    <DIR>          mmWave_scenarios\n",
      "2025-03-17  오후 06:42               432 README.md\n",
      "2025-03-17  오후 06:59    <DIR>          utils\n",
      "               3개 파일               2,640 바이트\n",
      "              13개 디렉터리  127,772,917,760 바이트 남음\n"
     ]
    }
   ],
   "source": [
    "ls .\\LWM\\scenarios"
   ]
  },
  {
   "cell_type": "markdown",
   "id": "7b74b071",
   "metadata": {},
   "source": [
    "## colab에서는 matfile가능 jupyter 아래 수정"
   ]
  },
  {
   "cell_type": "code",
   "execution_count": 8,
   "id": "20b38cdc",
   "metadata": {
    "scrolled": false
   },
   "outputs": [
    {
     "name": "stdout",
     "output_type": "stream",
     "text": [
      "\n",
      "Basestation 1\n",
      "\n",
      "UE-BS Channels\n"
     ]
    },
    {
     "ename": "ValueError",
     "evalue": "Unknown mat file type, version 101, 32",
     "output_type": "error",
     "traceback": [
      "\u001b[1;31m---------------------------------------------------------------------------\u001b[0m",
      "\u001b[1;31mValueError\u001b[0m                                Traceback (most recent call last)",
      "Cell \u001b[1;32mIn[8], line 14\u001b[0m\n\u001b[0;32m     11\u001b[0m scenario_idxs \u001b[38;5;241m=\u001b[39m np\u001b[38;5;241m.\u001b[39marray([\u001b[38;5;241m0\u001b[39m, \u001b[38;5;241m1\u001b[39m, \u001b[38;5;241m2\u001b[39m, \u001b[38;5;241m3\u001b[39m, \u001b[38;5;241m4\u001b[39m, \u001b[38;5;241m5\u001b[39m])[\u001b[38;5;241m3\u001b[39m]\n\u001b[0;32m     12\u001b[0m selected_scenario_names \u001b[38;5;241m=\u001b[39m scenario_names[scenario_idxs]\n\u001b[1;32m---> 14\u001b[0m preprocessed_chs \u001b[38;5;241m=\u001b[39m tokenizer(\n\u001b[0;32m     15\u001b[0m     selected_scenario_names\u001b[38;5;241m=\u001b[39mselected_scenario_names,\n\u001b[0;32m     16\u001b[0m     manual_data\u001b[38;5;241m=\u001b[39m\u001b[38;5;28;01mNone\u001b[39;00m,\n\u001b[0;32m     17\u001b[0m     gen_raw\u001b[38;5;241m=\u001b[39m\u001b[38;5;28;01mTrue\u001b[39;00m,\n\u001b[0;32m     18\u001b[0m     snr_db\u001b[38;5;241m=\u001b[39m\u001b[38;5;28;01mNone\u001b[39;00m\n\u001b[0;32m     19\u001b[0m )\n\u001b[0;32m     21\u001b[0m device \u001b[38;5;241m=\u001b[39m \u001b[38;5;124m'\u001b[39m\u001b[38;5;124mcuda\u001b[39m\u001b[38;5;124m'\u001b[39m \u001b[38;5;28;01mif\u001b[39;00m torch\u001b[38;5;241m.\u001b[39mcuda\u001b[38;5;241m.\u001b[39mis_available() \u001b[38;5;28;01melse\u001b[39;00m \u001b[38;5;124m'\u001b[39m\u001b[38;5;124mcpu\u001b[39m\u001b[38;5;124m'\u001b[39m\n\u001b[0;32m     22\u001b[0m \u001b[38;5;28mprint\u001b[39m(\u001b[38;5;124mf\u001b[39m\u001b[38;5;124m\"\u001b[39m\u001b[38;5;124mLoading the LWM model on \u001b[39m\u001b[38;5;132;01m{\u001b[39;00mdevice\u001b[38;5;132;01m}\u001b[39;00m\u001b[38;5;124m ...\u001b[39m\u001b[38;5;124m\"\u001b[39m)\n",
      "File \u001b[1;32m~\\졸업프로젝트\\LWM\\input_preprocess.py:50\u001b[0m, in \u001b[0;36mtokenizer\u001b[1;34m(selected_scenario_names, manual_data, gen_raw, snr_db)\u001b[0m\n\u001b[0;32m     48\u001b[0m \u001b[38;5;28;01mif\u001b[39;00m \u001b[38;5;28misinstance\u001b[39m(selected_scenario_names, \u001b[38;5;28mstr\u001b[39m):\n\u001b[0;32m     49\u001b[0m     selected_scenario_names \u001b[38;5;241m=\u001b[39m [selected_scenario_names]\n\u001b[1;32m---> 50\u001b[0m deepmimo_data \u001b[38;5;241m=\u001b[39m [DeepMIMO_data_gen(scenario_name) \u001b[38;5;28;01mfor\u001b[39;00m scenario_name \u001b[38;5;129;01min\u001b[39;00m selected_scenario_names]\n\u001b[0;32m     51\u001b[0m n_scenarios \u001b[38;5;241m=\u001b[39m \u001b[38;5;28mlen\u001b[39m(selected_scenario_names)\n\u001b[0;32m     53\u001b[0m cleaned_deepmimo_data \u001b[38;5;241m=\u001b[39m [deepmimo_data_cleaning(deepmimo_data[scenario_idx]) \u001b[38;5;28;01mfor\u001b[39;00m scenario_idx \u001b[38;5;129;01min\u001b[39;00m \u001b[38;5;28mrange\u001b[39m(n_scenarios)]\n",
      "File \u001b[1;32m~\\졸업프로젝트\\LWM\\input_preprocess.py:50\u001b[0m, in \u001b[0;36m<listcomp>\u001b[1;34m(.0)\u001b[0m\n\u001b[0;32m     48\u001b[0m \u001b[38;5;28;01mif\u001b[39;00m \u001b[38;5;28misinstance\u001b[39m(selected_scenario_names, \u001b[38;5;28mstr\u001b[39m):\n\u001b[0;32m     49\u001b[0m     selected_scenario_names \u001b[38;5;241m=\u001b[39m [selected_scenario_names]\n\u001b[1;32m---> 50\u001b[0m deepmimo_data \u001b[38;5;241m=\u001b[39m [DeepMIMO_data_gen(scenario_name) \u001b[38;5;28;01mfor\u001b[39;00m scenario_name \u001b[38;5;129;01min\u001b[39;00m selected_scenario_names]\n\u001b[0;32m     51\u001b[0m n_scenarios \u001b[38;5;241m=\u001b[39m \u001b[38;5;28mlen\u001b[39m(selected_scenario_names)\n\u001b[0;32m     53\u001b[0m cleaned_deepmimo_data \u001b[38;5;241m=\u001b[39m [deepmimo_data_cleaning(deepmimo_data[scenario_idx]) \u001b[38;5;28;01mfor\u001b[39;00m scenario_idx \u001b[38;5;129;01min\u001b[39;00m \u001b[38;5;28mrange\u001b[39m(n_scenarios)]\n",
      "File \u001b[1;32m~\\졸업프로젝트\\LWM\\input_preprocess.py:124\u001b[0m, in \u001b[0;36mDeepMIMO_data_gen\u001b[1;34m(scenario)\u001b[0m\n\u001b[0;32m    120\u001b[0m \u001b[38;5;28;01mimport\u001b[39;00m \u001b[38;5;21;01mDeepMIMOv3\u001b[39;00m\n\u001b[0;32m    122\u001b[0m parameters, row_column_users, n_ant_bs, n_ant_ue, n_subcarriers \u001b[38;5;241m=\u001b[39m get_parameters(scenario)\n\u001b[1;32m--> 124\u001b[0m deepMIMO_dataset \u001b[38;5;241m=\u001b[39m DeepMIMOv3\u001b[38;5;241m.\u001b[39mgenerate_data(parameters)\n\u001b[0;32m    125\u001b[0m uniform_idxs \u001b[38;5;241m=\u001b[39m uniform_sampling(deepMIMO_dataset, [\u001b[38;5;241m1\u001b[39m, \u001b[38;5;241m1\u001b[39m], \u001b[38;5;28mlen\u001b[39m(parameters[\u001b[38;5;124m'\u001b[39m\u001b[38;5;124muser_rows\u001b[39m\u001b[38;5;124m'\u001b[39m]), \n\u001b[0;32m    126\u001b[0m                                 users_per_row\u001b[38;5;241m=\u001b[39mrow_column_users[scenario][\u001b[38;5;124m'\u001b[39m\u001b[38;5;124mn_per_row\u001b[39m\u001b[38;5;124m'\u001b[39m])\n\u001b[0;32m    127\u001b[0m data \u001b[38;5;241m=\u001b[39m select_by_idx(deepMIMO_dataset, uniform_idxs)[\u001b[38;5;241m0\u001b[39m]\n",
      "File \u001b[1;32m~\\anaconda3\\Lib\\site-packages\\DeepMIMOv3\\generator.py:46\u001b[0m, in \u001b[0;36mgenerate_data\u001b[1;34m(ext_params)\u001b[0m\n\u001b[0;32m     40\u001b[0m \u001b[38;5;66;03m# If static scenario\u001b[39;00m\n\u001b[0;32m     41\u001b[0m \u001b[38;5;28;01melse\u001b[39;00m:\n\u001b[0;32m     42\u001b[0m     params[c\u001b[38;5;241m.\u001b[39mPARAMSET_SCENARIO_FIL] \u001b[38;5;241m=\u001b[39m os\u001b[38;5;241m.\u001b[39mpath\u001b[38;5;241m.\u001b[39mjoin(\n\u001b[0;32m     43\u001b[0m                                 os\u001b[38;5;241m.\u001b[39mpath\u001b[38;5;241m.\u001b[39mabspath(params[c\u001b[38;5;241m.\u001b[39mPARAMSET_DATASET_FOLDER]), \n\u001b[0;32m     44\u001b[0m                                 params[c\u001b[38;5;241m.\u001b[39mPARAMSET_SCENARIO]\n\u001b[0;32m     45\u001b[0m                                 )\n\u001b[1;32m---> 46\u001b[0m     dataset \u001b[38;5;241m=\u001b[39m generate_scene_data(params)\n\u001b[0;32m     47\u001b[0m \u001b[38;5;28;01mreturn\u001b[39;00m dataset\n",
      "File \u001b[1;32m~\\anaconda3\\Lib\\site-packages\\DeepMIMOv3\\generator.py:59\u001b[0m, in \u001b[0;36mgenerate_scene_data\u001b[1;34m(params)\u001b[0m\n\u001b[0;32m     56\u001b[0m safe_print(\u001b[38;5;124m'\u001b[39m\u001b[38;5;130;01m\\n\u001b[39;00m\u001b[38;5;124mBasestation \u001b[39m\u001b[38;5;132;01m%i\u001b[39;00m\u001b[38;5;124m'\u001b[39m \u001b[38;5;241m%\u001b[39m bs_indx)\n\u001b[0;32m     58\u001b[0m safe_print(\u001b[38;5;124m'\u001b[39m\u001b[38;5;130;01m\\n\u001b[39;00m\u001b[38;5;124mUE-BS Channels\u001b[39m\u001b[38;5;124m'\u001b[39m)\n\u001b[1;32m---> 59\u001b[0m dataset[i][c\u001b[38;5;241m.\u001b[39mDICT_UE_IDX], dataset[i][c\u001b[38;5;241m.\u001b[39mOUT_LOC] \u001b[38;5;241m=\u001b[39m params[\u001b[38;5;124m'\u001b[39m\u001b[38;5;124mraytracing_fn\u001b[39m\u001b[38;5;124m'\u001b[39m](bs_indx, params, user\u001b[38;5;241m=\u001b[39m\u001b[38;5;28;01mTrue\u001b[39;00m)\n\u001b[0;32m     61\u001b[0m \u001b[38;5;28;01mif\u001b[39;00m params[\u001b[38;5;124m'\u001b[39m\u001b[38;5;124mscenario_params\u001b[39m\u001b[38;5;124m'\u001b[39m][\u001b[38;5;124m'\u001b[39m\u001b[38;5;124mdual_polar_available\u001b[39m\u001b[38;5;124m'\u001b[39m] \u001b[38;5;129;01mand\u001b[39;00m params[\u001b[38;5;124m'\u001b[39m\u001b[38;5;124menable_dual_polar\u001b[39m\u001b[38;5;124m'\u001b[39m]:\n\u001b[0;32m     62\u001b[0m     \u001b[38;5;28;01mfor\u001b[39;00m polar_str \u001b[38;5;129;01min\u001b[39;00m [\u001b[38;5;124m'\u001b[39m\u001b[38;5;124mVV\u001b[39m\u001b[38;5;124m'\u001b[39m, \u001b[38;5;124m'\u001b[39m\u001b[38;5;124mVH\u001b[39m\u001b[38;5;124m'\u001b[39m, \u001b[38;5;124m'\u001b[39m\u001b[38;5;124mHH\u001b[39m\u001b[38;5;124m'\u001b[39m, \u001b[38;5;124m'\u001b[39m\u001b[38;5;124mHV\u001b[39m\u001b[38;5;124m'\u001b[39m]:\n",
      "File \u001b[1;32m~\\anaconda3\\Lib\\site-packages\\DeepMIMOv3\\raytracing_v3.py:28\u001b[0m, in \u001b[0;36mread_raytracing\u001b[1;34m(bs_id, params, user)\u001b[0m\n\u001b[0;32m     25\u001b[0m \u001b[38;5;28;01melse\u001b[39;00m:\n\u001b[0;32m     26\u001b[0m     generation_idx \u001b[38;5;241m=\u001b[39m params[c\u001b[38;5;241m.\u001b[39mPARAMSET_ACTIVE_BS]\u001b[38;5;241m-\u001b[39m\u001b[38;5;241m1\u001b[39m \u001b[38;5;66;03m# Active BS IDX\u001b[39;00m\n\u001b[1;32m---> 28\u001b[0m ray_data, rx_locs, tx_loc \u001b[38;5;241m=\u001b[39m load_ray_data(generation_idx, bs_id, params, user)\n\u001b[0;32m     30\u001b[0m \u001b[38;5;28;01mif\u001b[39;00m params[\u001b[38;5;124m'\u001b[39m\u001b[38;5;124mscenario_params\u001b[39m\u001b[38;5;124m'\u001b[39m][\u001b[38;5;124m'\u001b[39m\u001b[38;5;124mdual_polar_available\u001b[39m\u001b[38;5;124m'\u001b[39m] \u001b[38;5;129;01mand\u001b[39;00m params[\u001b[38;5;124m'\u001b[39m\u001b[38;5;124menable_dual_polar\u001b[39m\u001b[38;5;124m'\u001b[39m]:\n\u001b[0;32m     31\u001b[0m     ray_data_out \u001b[38;5;241m=\u001b[39m {}\n",
      "File \u001b[1;32m~\\anaconda3\\Lib\\site-packages\\DeepMIMOv3\\raytracing_v3.py:163\u001b[0m, in \u001b[0;36mload_ray_data\u001b[1;34m(generation_idx, bs_id, params, user)\u001b[0m\n\u001b[0;32m    161\u001b[0m users_in_file \u001b[38;5;241m=\u001b[39m np\u001b[38;5;241m.\u001b[39mlogical_and(generation_idx \u001b[38;5;241m>\u001b[39m\u001b[38;5;241m=\u001b[39m file_start, generation_idx\u001b[38;5;241m<\u001b[39mfile_end)\n\u001b[0;32m    162\u001b[0m \u001b[38;5;28;01mif\u001b[39;00m np\u001b[38;5;241m.\u001b[39msum(users_in_file)\u001b[38;5;241m>\u001b[39m\u001b[38;5;241m0\u001b[39m:\n\u001b[1;32m--> 163\u001b[0m     file_data \u001b[38;5;241m=\u001b[39m scipy\u001b[38;5;241m.\u001b[39mio\u001b[38;5;241m.\u001b[39mloadmat(file)\n\u001b[0;32m    164\u001b[0m     \u001b[38;5;28;01mfor\u001b[39;00m user \u001b[38;5;129;01min\u001b[39;00m generation_idx[users_in_file]: \u001b[38;5;66;03m# May remove this for loop with array indexing\u001b[39;00m\n\u001b[0;32m    165\u001b[0m         \u001b[38;5;28;01mif\u001b[39;00m params[\u001b[38;5;124m'\u001b[39m\u001b[38;5;124mscenario_params\u001b[39m\u001b[38;5;124m'\u001b[39m][\u001b[38;5;124m'\u001b[39m\u001b[38;5;124mdual_polar_available\u001b[39m\u001b[38;5;124m'\u001b[39m]:\n",
      "File \u001b[1;32m~\\anaconda3\\Lib\\site-packages\\scipy\\io\\matlab\\_mio.py:226\u001b[0m, in \u001b[0;36mloadmat\u001b[1;34m(file_name, mdict, appendmat, **kwargs)\u001b[0m\n\u001b[0;32m    224\u001b[0m variable_names \u001b[38;5;241m=\u001b[39m kwargs\u001b[38;5;241m.\u001b[39mpop(\u001b[38;5;124m'\u001b[39m\u001b[38;5;124mvariable_names\u001b[39m\u001b[38;5;124m'\u001b[39m, \u001b[38;5;28;01mNone\u001b[39;00m)\n\u001b[0;32m    225\u001b[0m \u001b[38;5;28;01mwith\u001b[39;00m _open_file_context(file_name, appendmat) \u001b[38;5;28;01mas\u001b[39;00m f:\n\u001b[1;32m--> 226\u001b[0m     MR, _ \u001b[38;5;241m=\u001b[39m mat_reader_factory(f, \u001b[38;5;241m*\u001b[39m\u001b[38;5;241m*\u001b[39mkwargs)\n\u001b[0;32m    227\u001b[0m     matfile_dict \u001b[38;5;241m=\u001b[39m MR\u001b[38;5;241m.\u001b[39mget_variables(variable_names)\n\u001b[0;32m    229\u001b[0m \u001b[38;5;28;01mif\u001b[39;00m mdict \u001b[38;5;129;01mis\u001b[39;00m \u001b[38;5;129;01mnot\u001b[39;00m \u001b[38;5;28;01mNone\u001b[39;00m:\n",
      "File \u001b[1;32m~\\anaconda3\\Lib\\site-packages\\scipy\\io\\matlab\\_mio.py:74\u001b[0m, in \u001b[0;36mmat_reader_factory\u001b[1;34m(file_name, appendmat, **kwargs)\u001b[0m\n\u001b[0;32m     54\u001b[0m \u001b[38;5;250m\u001b[39m\u001b[38;5;124;03m\"\"\"\u001b[39;00m\n\u001b[0;32m     55\u001b[0m \u001b[38;5;124;03mCreate reader for matlab .mat format files.\u001b[39;00m\n\u001b[0;32m     56\u001b[0m \n\u001b[1;32m   (...)\u001b[0m\n\u001b[0;32m     71\u001b[0m \n\u001b[0;32m     72\u001b[0m \u001b[38;5;124;03m\"\"\"\u001b[39;00m\n\u001b[0;32m     73\u001b[0m byte_stream, file_opened \u001b[38;5;241m=\u001b[39m _open_file(file_name, appendmat)\n\u001b[1;32m---> 74\u001b[0m mjv, mnv \u001b[38;5;241m=\u001b[39m _get_matfile_version(byte_stream)\n\u001b[0;32m     75\u001b[0m \u001b[38;5;28;01mif\u001b[39;00m mjv \u001b[38;5;241m==\u001b[39m \u001b[38;5;241m0\u001b[39m:\n\u001b[0;32m     76\u001b[0m     \u001b[38;5;28;01mreturn\u001b[39;00m MatFile4Reader(byte_stream, \u001b[38;5;241m*\u001b[39m\u001b[38;5;241m*\u001b[39mkwargs), file_opened\n",
      "File \u001b[1;32m~\\anaconda3\\Lib\\site-packages\\scipy\\io\\matlab\\_miobase.py:251\u001b[0m, in \u001b[0;36m_get_matfile_version\u001b[1;34m(fileobj)\u001b[0m\n\u001b[0;32m    249\u001b[0m \u001b[38;5;28;01mif\u001b[39;00m maj_val \u001b[38;5;129;01min\u001b[39;00m (\u001b[38;5;241m1\u001b[39m, \u001b[38;5;241m2\u001b[39m):\n\u001b[0;32m    250\u001b[0m     \u001b[38;5;28;01mreturn\u001b[39;00m ret\n\u001b[1;32m--> 251\u001b[0m \u001b[38;5;28;01mraise\u001b[39;00m \u001b[38;5;167;01mValueError\u001b[39;00m(\u001b[38;5;124m'\u001b[39m\u001b[38;5;124mUnknown mat file type, version \u001b[39m\u001b[38;5;132;01m%s\u001b[39;00m\u001b[38;5;124m, \u001b[39m\u001b[38;5;132;01m%s\u001b[39;00m\u001b[38;5;124m'\u001b[39m \u001b[38;5;241m%\u001b[39m ret)\n",
      "\u001b[1;31mValueError\u001b[0m: Unknown mat file type, version 101, 32"
     ]
    }
   ],
   "source": [
    "from input_preprocess import tokenizer\n",
    "from lwm_model import lwm\n",
    "import torch\n",
    "import numpy as np\n",
    "\n",
    "scenario_names = np.array([\n",
    "    \"city_18_denver\", \"city_15_indianapolis\", \"city_19_oklahoma\",\n",
    "    \"city_12_fortworth\", \"city_11_santaclara\", \"city_7_sandiego\"\n",
    "])\n",
    "#  scenairo 중 city_12_fortworth 확인\n",
    "scenario_idxs = np.array([0, 1, 2, 3, 4, 5])[3]\n",
    "selected_scenario_names = scenario_names[scenario_idxs]\n",
    "\n",
    "preprocessed_chs = tokenizer(\n",
    "    selected_scenario_names=selected_scenario_names,\n",
    "    manual_data=None,\n",
    "    gen_raw=True,\n",
    "    snr_db=None\n",
    ")\n",
    "\n",
    "device = 'cuda' if torch.cuda.is_available() else 'cpu'\n",
    "print(f\"Loading the LWM model on {device} ...\")\n",
    "model = lwm.from_pretrained(device=device)"
   ]
  },
  {
   "cell_type": "code",
   "execution_count": 7,
   "id": "21775b70",
   "metadata": {},
   "outputs": [
    {
     "name": "stdout",
     "output_type": "stream",
     "text": [
      "1.10.1\n"
     ]
    }
   ],
   "source": [
    "import scipy\n",
    "print(scipy.__version__)"
   ]
  },
  {
   "cell_type": "code",
   "execution_count": null,
   "id": "7e90410f",
   "metadata": {},
   "outputs": [],
   "source": []
  }
 ],
 "metadata": {
  "kernelspec": {
   "display_name": "Python 3 (ipykernel)",
   "language": "python",
   "name": "python3"
  },
  "language_info": {
   "codemirror_mode": {
    "name": "ipython",
    "version": 3
   },
   "file_extension": ".py",
   "mimetype": "text/x-python",
   "name": "python",
   "nbconvert_exporter": "python",
   "pygments_lexer": "ipython3",
   "version": "3.11.3"
  }
 },
 "nbformat": 4,
 "nbformat_minor": 5
}
