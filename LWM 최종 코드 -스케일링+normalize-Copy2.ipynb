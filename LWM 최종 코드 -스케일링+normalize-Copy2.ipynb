{
 "cells": [
  {
   "cell_type": "markdown",
   "id": "eeacb7fd",
   "metadata": {},
   "source": [
    "## import"
   ]
  },
  {
   "cell_type": "code",
   "execution_count": 7,
   "id": "0ec90d17",
   "metadata": {},
   "outputs": [],
   "source": [
    "import torch\n",
    "import torch.nn as nn\n",
    "import torch.optim as optim\n",
    "import torchvision\n",
    "import torchvision.transforms as transforms\n",
    "from torch.utils.data import TensorDataset, DataLoader, random_split\n",
    "#LWM을 하기위한 라이브러리 가져오기\n",
    "import DeepMIMOv3\n",
    "import numpy as np\n",
    "from pprint import pprint\n",
    "import matplotlib.pyplot as plt\n",
    "import time\n",
    "\n",
    "\n",
    "plt . rcParams [ 'figure.figsize' ]  =  [ 12 ,  8 ]  # 기본 플롯 크기 설정"
   ]
  },
  {
   "cell_type": "markdown",
   "id": "38e17e0b",
   "metadata": {},
   "source": [
    "## GPU설정"
   ]
  },
  {
   "cell_type": "code",
   "execution_count": 8,
   "id": "47baa533",
   "metadata": {},
   "outputs": [
    {
     "name": "stdout",
     "output_type": "stream",
     "text": [
      "cuda\n"
     ]
    }
   ],
   "source": [
    "# GPU 설정\n",
    "device = torch.device(\"cuda\" if torch.cuda.is_available() else \"cpu\")\n",
    "print(device)"
   ]
  },
  {
   "cell_type": "code",
   "execution_count": 9,
   "id": "6a6fcece",
   "metadata": {},
   "outputs": [
    {
     "name": "stdout",
     "output_type": "stream",
     "text": [
      "11.8\n",
      "90100\n",
      "CUDA available: True\n"
     ]
    }
   ],
   "source": [
    "import torch\n",
    "print(torch.version.cuda)                   # 설치된 CUDA 버전 (예: '11.7')\n",
    "print(torch.backends.cudnn.version())       # cuDNN 버전 (예: 8200)\n",
    "print(\"CUDA available:\", torch.cuda.is_available())  # True\n"
   ]
  },
  {
   "cell_type": "markdown",
   "id": "5c9e064d",
   "metadata": {},
   "source": [
    "# DeepMIMOv3 다운"
   ]
  },
  {
   "cell_type": "code",
   "execution_count": 10,
   "id": "23623e8a",
   "metadata": {},
   "outputs": [],
   "source": [
    "# pip install DeepMIMOv3 umap-learn"
   ]
  },
  {
   "cell_type": "markdown",
   "id": "19540670",
   "metadata": {},
   "source": [
    "## 파라미터 수정"
   ]
  },
  {
   "cell_type": "code",
   "execution_count": 11,
   "id": "ce5ac681",
   "metadata": {},
   "outputs": [
    {
     "name": "stdout",
     "output_type": "stream",
     "text": [
      "{'OFDM': {'RX_filter': 0,\n",
      "          'bandwidth': 0.05,\n",
      "          'selected_subcarriers': array([0]),\n",
      "          'subcarriers': 512},\n",
      " 'OFDM_channels': 1,\n",
      " 'active_BS': array([1]),\n",
      " 'bs_antenna': {'FoV': array([360, 180]),\n",
      "                'radiation_pattern': 'isotropic',\n",
      "                'rotation': array([0, 0, 0]),\n",
      "                'shape': array([8, 4]),\n",
      "                'spacing': 0.5},\n",
      " 'dataset_folder': './Raytracing_scenarios',\n",
      " 'dynamic_scenario_scenes': array([1]),\n",
      " 'enable_BS2BS': 1,\n",
      " 'enable_doppler': 0,\n",
      " 'enable_dual_polar': 0,\n",
      " 'num_paths': 5,\n",
      " 'scenario': 'O1_60',\n",
      " 'ue_antenna': {'FoV': array([360, 180]),\n",
      "                'radiation_pattern': 'isotropic',\n",
      "                'rotation': array([0, 0, 0]),\n",
      "                'shape': array([4, 2]),\n",
      "                'spacing': 0.5},\n",
      " 'user_rows': array([1]),\n",
      " 'user_subsampling': 1}\n"
     ]
    }
   ],
   "source": [
    "## Load and print the default parameters\n",
    "# bandwith: 0.05GHz(50MHz 대역폭 사용)\n",
    "parameters = DeepMIMOv3.default_params()\n",
    "pprint(parameters)"
   ]
  },
  {
   "cell_type": "code",
   "execution_count": 12,
   "id": "1f0642c1",
   "metadata": {},
   "outputs": [],
   "source": [
    "## Change parameters for the setup\n",
    "# Scenario O1_60 extracted at the dataset_folder\n",
    "#LWM 동적 시나리오 불러오기\n",
    "#자신의 LWM 파일 위치 경로 작성\n",
    "# parameters['dataset_folder'] = r'/content/drive/MyDrive/Colab Notebooks/LWM'\n",
    "scene = 15 # 장면 수\n",
    "parameters['dataset_folder'] = r'C:\\Users\\dlghd\\졸업프로젝트\\LWM'\n",
    "\n",
    "# scnario = 02_dyn_3p5 <- 다운받은 파일(동적시나리오)\n",
    "parameters['scenario'] = 'O2_dyn_3p5'\n",
    "parameters['dynamic_scenario_scenes'] = np.arange(scene) #scene 0~9\n",
    "\n",
    "# 각 사용자-기지국 채널에 대해 최대 10개 멀티패스 경로 사용\n",
    "parameters['num_paths'] = 10\n",
    "\n",
    "# User rows 1-100\n",
    "parameters['user_rows'] = np.arange(100)\n",
    "# User 축소하기\n",
    "parameters['user_subsampling'] = 0.01\n",
    "\n",
    "# Activate only the first basestation\n",
    "parameters['active_BS'] = np.array([1])\n",
    "\n",
    "parameters['activate_OFDM'] = 1\n",
    "\n",
    "parameters['OFDM']['bandwidth'] = 0.05 # 50 MHz\n",
    "parameters['OFDM']['subcarriers'] = 512 # OFDM with 512 subcarriers\n",
    "parameters['OFDM']['selected_subcarriers'] = np.arange(0, 64, 1)\n",
    "#parameters['OFDM']['subcarriers_limit'] = 64 # Keep only first 64 subcarriers\n",
    "\n",
    "parameters['ue_antenna']['shape'] = np.array([1, 1]) # Single antenna\n",
    "parameters['bs_antenna']['shape'] = np.array([1, 32]) # ULA of 32 elements\n",
    "#parameters['bs_antenna']['rotation'] = np.array([0, 30, 90]) # ULA of 32 elements\n",
    "#parameters['ue_antenna']['rotation'] = np.array([[0, 30], [30, 60], [60, 90]]) # ULA of 32 elements\n",
    "#parameters['ue_antenna']['radiation_pattern'] = 'isotropic'\n",
    "#parameters['bs_antenna']['radiation_pattern'] = 'halfwave-dipole'"
   ]
  },
  {
   "cell_type": "code",
   "execution_count": 13,
   "id": "30aa4ae2",
   "metadata": {
    "scrolled": true
   },
   "outputs": [
    {
     "name": "stdout",
     "output_type": "stream",
     "text": [
      "{'dataset_folder': 'C:\\\\Users\\\\dlghd\\\\졸업프로젝트\\\\LWM', 'scenario': 'O2_dyn_3p5', 'dynamic_scenario_scenes': array([ 0,  1,  2,  3,  4,  5,  6,  7,  8,  9, 10, 11, 12, 13, 14]), 'num_paths': 10, 'active_BS': array([1]), 'user_rows': array([ 0,  1,  2,  3,  4,  5,  6,  7,  8,  9, 10, 11, 12, 13, 14, 15, 16,\n",
      "       17, 18, 19, 20, 21, 22, 23, 24, 25, 26, 27, 28, 29, 30, 31, 32, 33,\n",
      "       34, 35, 36, 37, 38, 39, 40, 41, 42, 43, 44, 45, 46, 47, 48, 49, 50,\n",
      "       51, 52, 53, 54, 55, 56, 57, 58, 59, 60, 61, 62, 63, 64, 65, 66, 67,\n",
      "       68, 69, 70, 71, 72, 73, 74, 75, 76, 77, 78, 79, 80, 81, 82, 83, 84,\n",
      "       85, 86, 87, 88, 89, 90, 91, 92, 93, 94, 95, 96, 97, 98, 99]), 'user_subsampling': 0.01, 'bs_antenna': {'shape': array([ 1, 32]), 'spacing': 0.5, 'rotation': array([0, 0, 0]), 'FoV': array([360, 180]), 'radiation_pattern': 'isotropic'}, 'ue_antenna': {'shape': array([1, 1]), 'spacing': 0.5, 'rotation': array([0, 0, 0]), 'FoV': array([360, 180]), 'radiation_pattern': 'isotropic'}, 'enable_doppler': 0, 'enable_dual_polar': 0, 'enable_BS2BS': 1, 'OFDM_channels': 1, 'OFDM': {'subcarriers': 512, 'selected_subcarriers': array([ 0,  1,  2,  3,  4,  5,  6,  7,  8,  9, 10, 11, 12, 13, 14, 15, 16,\n",
      "       17, 18, 19, 20, 21, 22, 23, 24, 25, 26, 27, 28, 29, 30, 31, 32, 33,\n",
      "       34, 35, 36, 37, 38, 39, 40, 41, 42, 43, 44, 45, 46, 47, 48, 49, 50,\n",
      "       51, 52, 53, 54, 55, 56, 57, 58, 59, 60, 61, 62, 63]), 'bandwidth': 0.05, 'RX_filter': 0}, 'activate_OFDM': 1}\n"
     ]
    }
   ],
   "source": [
    "print(parameters)"
   ]
  },
  {
   "cell_type": "markdown",
   "id": "3326b22d",
   "metadata": {},
   "source": [
    "## dataset 구축"
   ]
  },
  {
   "cell_type": "code",
   "execution_count": 14,
   "id": "b87a86e5",
   "metadata": {},
   "outputs": [
    {
     "name": "stderr",
     "output_type": "stream",
     "text": [
      "  0%|                                                                                            | 0/3 [00:00<?, ?it/s]"
     ]
    },
    {
     "name": "stdout",
     "output_type": "stream",
     "text": [
      "The following parameters seem unnecessary:\n",
      "{'activate_OFDM'}\n",
      "\n",
      "Scene 1/5\n",
      "\n",
      "Basestation 1\n",
      "\n",
      "UE-BS Channels\n"
     ]
    },
    {
     "name": "stderr",
     "output_type": "stream",
     "text": [
      "\n",
      "Reading ray-tracing:   0%|                                                                   | 0/69006 [00:00<?, ?it/s]\u001b[A\n",
      "Reading ray-tracing:  40%|████████████████████▎                              | 27507/69006 [00:00<00:00, 273421.64it/s]\u001b[A\n",
      "Reading ray-tracing: 100%|███████████████████████████████████████████████████| 69006/69006 [00:00<00:00, 263175.64it/s]\u001b[A\n",
      "\n",
      "Generating channels:   0%|                                                                     | 0/727 [00:00<?, ?it/s]\u001b[A\n",
      "Generating channels: 100%|█████████████████████████████████████████████████████████| 727/727 [00:00<00:00, 5574.76it/s]\u001b[A\n"
     ]
    },
    {
     "name": "stdout",
     "output_type": "stream",
     "text": [
      "\n",
      "BS-BS Channels\n"
     ]
    },
    {
     "name": "stderr",
     "output_type": "stream",
     "text": [
      "\n",
      "Reading ray-tracing: 100%|███████████████████████████████████████████████████████████████████████| 1/1 [00:00<?, ?it/s]\u001b[A\n",
      "\n",
      "Generating channels: 100%|██████████████████████████████████████████████████████████████| 1/1 [00:00<00:00, 999.83it/s]\u001b[A\n"
     ]
    },
    {
     "name": "stdout",
     "output_type": "stream",
     "text": [
      "\n",
      "Scene 2/5\n",
      "\n",
      "Basestation 1\n",
      "\n",
      "UE-BS Channels\n"
     ]
    },
    {
     "name": "stderr",
     "output_type": "stream",
     "text": [
      "\n",
      "Reading ray-tracing:   0%|                                                                   | 0/69006 [00:00<?, ?it/s]\u001b[A\n",
      "Reading ray-tracing:  38%|███████████████████▍                               | 26310/69006 [00:00<00:00, 262410.80it/s]\u001b[A\n",
      "Reading ray-tracing: 100%|███████████████████████████████████████████████████| 69006/69006 [00:00<00:00, 272036.24it/s]\u001b[A\n",
      "\n",
      "Generating channels:   0%|                                                                     | 0/727 [00:00<?, ?it/s]\u001b[A\n",
      "Generating channels: 100%|█████████████████████████████████████████████████████████| 727/727 [00:00<00:00, 6625.24it/s]\u001b[A\n"
     ]
    },
    {
     "name": "stdout",
     "output_type": "stream",
     "text": [
      "\n",
      "BS-BS Channels\n"
     ]
    },
    {
     "name": "stderr",
     "output_type": "stream",
     "text": [
      "\n",
      "Reading ray-tracing: 100%|█████████████████████████████████████████████████████████████| 1/1 [00:00<00:00, 1015.08it/s]\u001b[A\n",
      "\n",
      "Generating channels: 100%|██████████████████████████████████████████████████████████████| 1/1 [00:00<00:00, 499.38it/s]\u001b[A\n"
     ]
    },
    {
     "name": "stdout",
     "output_type": "stream",
     "text": [
      "\n",
      "Scene 3/5\n",
      "\n",
      "Basestation 1\n",
      "\n",
      "UE-BS Channels\n"
     ]
    },
    {
     "name": "stderr",
     "output_type": "stream",
     "text": [
      "\n",
      "Reading ray-tracing:   0%|                                                                   | 0/69006 [00:00<?, ?it/s]\u001b[A\n",
      "Reading ray-tracing:  38%|███████████████████▌                               | 26539/69006 [00:00<00:00, 265209.41it/s]\u001b[A\n",
      "Reading ray-tracing: 100%|███████████████████████████████████████████████████| 69006/69006 [00:00<00:00, 270372.50it/s]\u001b[A\n",
      "\n",
      "Generating channels:   0%|                                                                     | 0/727 [00:00<?, ?it/s]\u001b[A\n",
      "Generating channels: 100%|█████████████████████████████████████████████████████████| 727/727 [00:00<00:00, 6178.39it/s]\u001b[A\n"
     ]
    },
    {
     "name": "stdout",
     "output_type": "stream",
     "text": [
      "\n",
      "BS-BS Channels\n"
     ]
    },
    {
     "name": "stderr",
     "output_type": "stream",
     "text": [
      "\n",
      "Reading ray-tracing: 100%|███████████████████████████████████████████████████████████████████████| 1/1 [00:00<?, ?it/s]\u001b[A\n",
      "\n",
      "Generating channels: 100%|██████████████████████████████████████████████████████████████| 1/1 [00:00<00:00, 500.45it/s]\u001b[A\n"
     ]
    },
    {
     "name": "stdout",
     "output_type": "stream",
     "text": [
      "\n",
      "Scene 4/5\n",
      "\n",
      "Basestation 1\n",
      "\n",
      "UE-BS Channels\n"
     ]
    },
    {
     "name": "stderr",
     "output_type": "stream",
     "text": [
      "\n",
      "Reading ray-tracing:   0%|                                                                   | 0/69006 [00:00<?, ?it/s]\u001b[A\n",
      "Reading ray-tracing:  40%|████████████████████▍                              | 27727/69006 [00:00<00:00, 275854.26it/s]\u001b[A\n",
      "Reading ray-tracing: 100%|███████████████████████████████████████████████████| 69006/69006 [00:00<00:00, 274211.48it/s]\u001b[A\n",
      "\n",
      "Generating channels:   0%|                                                                     | 0/727 [00:00<?, ?it/s]\u001b[A\n",
      "Generating channels: 100%|█████████████████████████████████████████████████████████| 727/727 [00:00<00:00, 6359.82it/s]\u001b[A\n"
     ]
    },
    {
     "name": "stdout",
     "output_type": "stream",
     "text": [
      "\n",
      "BS-BS Channels\n"
     ]
    },
    {
     "name": "stderr",
     "output_type": "stream",
     "text": [
      "\n",
      "Reading ray-tracing: 100%|███████████████████████████████████████████████████████████████████████| 1/1 [00:00<?, ?it/s]\u001b[A\n",
      "\n",
      "Generating channels: 100%|██████████████████████████████████████████████████████████████| 1/1 [00:00<00:00, 499.98it/s]\u001b[A\n"
     ]
    },
    {
     "name": "stdout",
     "output_type": "stream",
     "text": [
      "\n",
      "Scene 5/5\n",
      "\n",
      "Basestation 1\n",
      "\n",
      "UE-BS Channels\n"
     ]
    },
    {
     "name": "stderr",
     "output_type": "stream",
     "text": [
      "\n",
      "Reading ray-tracing:   0%|                                                                   | 0/69006 [00:00<?, ?it/s]\u001b[A\n",
      "Reading ray-tracing:  39%|███████████████████▊                               | 26833/69006 [00:00<00:00, 267347.38it/s]\u001b[A\n",
      "Reading ray-tracing: 100%|███████████████████████████████████████████████████| 69006/69006 [00:00<00:00, 266285.29it/s]\u001b[A\n",
      "\n",
      "Generating channels:   0%|                                                                     | 0/727 [00:00<?, ?it/s]\u001b[A\n",
      "Generating channels: 100%|█████████████████████████████████████████████████████████| 727/727 [00:00<00:00, 6413.46it/s]\u001b[A\n"
     ]
    },
    {
     "name": "stdout",
     "output_type": "stream",
     "text": [
      "\n",
      "BS-BS Channels\n"
     ]
    },
    {
     "name": "stderr",
     "output_type": "stream",
     "text": [
      "\n",
      "Reading ray-tracing: 100%|███████████████████████████████████████████████████████████████████████| 1/1 [00:00<?, ?it/s]\u001b[A\n",
      "\n",
      "Generating channels: 100%|██████████████████████████████████████████████████████████████| 1/1 [00:00<00:00, 499.80it/s]\u001b[A\n",
      " 33%|████████████████████████████                                                        | 1/3 [00:07<00:15,  7.71s/it]"
     ]
    },
    {
     "name": "stdout",
     "output_type": "stream",
     "text": [
      "Scenes 0–4 generation time: 7.58s\n",
      "The following parameters seem unnecessary:\n",
      "{'activate_OFDM'}\n",
      "\n",
      "Scene 1/5\n",
      "\n",
      "Basestation 1\n",
      "\n",
      "UE-BS Channels\n"
     ]
    },
    {
     "name": "stderr",
     "output_type": "stream",
     "text": [
      "\n",
      "Reading ray-tracing:   0%|                                                                   | 0/69006 [00:00<?, ?it/s]\u001b[A\n",
      "Reading ray-tracing:  40%|████████████████████▍                              | 27700/69006 [00:00<00:00, 275815.28it/s]\u001b[A\n",
      "Reading ray-tracing: 100%|███████████████████████████████████████████████████| 69006/69006 [00:00<00:00, 275267.43it/s]\u001b[A\n",
      "\n",
      "Generating channels:   0%|                                                                     | 0/727 [00:00<?, ?it/s]\u001b[A\n",
      "Generating channels: 100%|█████████████████████████████████████████████████████████| 727/727 [00:00<00:00, 6599.34it/s]\u001b[A\n"
     ]
    },
    {
     "name": "stdout",
     "output_type": "stream",
     "text": [
      "\n",
      "BS-BS Channels\n"
     ]
    },
    {
     "name": "stderr",
     "output_type": "stream",
     "text": [
      "\n",
      "Reading ray-tracing: 100%|███████████████████████████████████████████████████████████████████████| 1/1 [00:00<?, ?it/s]\u001b[A\n",
      "\n",
      "Generating channels: 100%|██████████████████████████████████████████████████████████████| 1/1 [00:00<00:00, 999.60it/s]\u001b[A\n"
     ]
    },
    {
     "name": "stdout",
     "output_type": "stream",
     "text": [
      "\n",
      "Scene 2/5\n",
      "\n",
      "Basestation 1\n",
      "\n",
      "UE-BS Channels\n"
     ]
    },
    {
     "name": "stderr",
     "output_type": "stream",
     "text": [
      "\n",
      "Reading ray-tracing:   0%|                                                                   | 0/69006 [00:00<?, ?it/s]\u001b[A\n",
      "Reading ray-tracing:  39%|███████████████████▉                               | 26966/69006 [00:00<00:00, 267672.96it/s]\u001b[A\n",
      "Reading ray-tracing: 100%|███████████████████████████████████████████████████| 69006/69006 [00:00<00:00, 267190.90it/s]\u001b[A\n",
      "\n",
      "Generating channels:   0%|                                                                     | 0/727 [00:00<?, ?it/s]\u001b[A\n",
      "Generating channels: 100%|█████████████████████████████████████████████████████████| 727/727 [00:00<00:00, 6316.79it/s]\u001b[A\n"
     ]
    },
    {
     "name": "stdout",
     "output_type": "stream",
     "text": [
      "\n",
      "BS-BS Channels\n"
     ]
    },
    {
     "name": "stderr",
     "output_type": "stream",
     "text": [
      "\n",
      "Reading ray-tracing: 100%|█████████████████████████████████████████████████████████████| 1/1 [00:00<00:00, 1021.26it/s]\u001b[A\n",
      "\n",
      "Generating channels: 100%|█████████████████████████████████████████████████████████████| 1/1 [00:00<00:00, 1001.03it/s]\u001b[A\n"
     ]
    },
    {
     "name": "stdout",
     "output_type": "stream",
     "text": [
      "\n",
      "Scene 3/5\n",
      "\n",
      "Basestation 1\n",
      "\n",
      "UE-BS Channels\n"
     ]
    },
    {
     "name": "stderr",
     "output_type": "stream",
     "text": [
      "\n",
      "Reading ray-tracing:   0%|                                                                   | 0/69006 [00:00<?, ?it/s]\u001b[A\n",
      "Reading ray-tracing:  38%|███████████████████▌                               | 26443/69006 [00:00<00:00, 262704.07it/s]\u001b[A\n",
      "Reading ray-tracing: 100%|███████████████████████████████████████████████████| 69006/69006 [00:00<00:00, 269169.84it/s]\u001b[A\n",
      "\n",
      "Generating channels:   0%|                                                                     | 0/727 [00:00<?, ?it/s]\u001b[A\n",
      "Generating channels: 100%|█████████████████████████████████████████████████████████| 727/727 [00:00<00:00, 6166.80it/s]\u001b[A\n"
     ]
    },
    {
     "name": "stdout",
     "output_type": "stream",
     "text": [
      "\n",
      "BS-BS Channels\n"
     ]
    },
    {
     "name": "stderr",
     "output_type": "stream",
     "text": [
      "\n",
      "Reading ray-tracing: 100%|███████████████████████████████████████████████████████████████████████| 1/1 [00:00<?, ?it/s]\u001b[A\n",
      "\n",
      "Generating channels: 100%|██████████████████████████████████████████████████████████████| 1/1 [00:00<00:00, 499.92it/s]\u001b[A\n"
     ]
    },
    {
     "name": "stdout",
     "output_type": "stream",
     "text": [
      "\n",
      "Scene 4/5\n",
      "\n",
      "Basestation 1\n",
      "\n",
      "UE-BS Channels\n"
     ]
    },
    {
     "name": "stderr",
     "output_type": "stream",
     "text": [
      "\n",
      "Reading ray-tracing:   0%|                                                                   | 0/69006 [00:00<?, ?it/s]\u001b[A\n",
      "Reading ray-tracing:  38%|███████████████████▏                               | 25954/69006 [00:00<00:00, 259343.00it/s]\u001b[A\n",
      "Reading ray-tracing: 100%|███████████████████████████████████████████████████| 69006/69006 [00:00<00:00, 257776.42it/s]\u001b[A\n",
      "\n",
      "Generating channels:   0%|                                                                     | 0/727 [00:00<?, ?it/s]\u001b[A\n",
      "Generating channels: 100%|█████████████████████████████████████████████████████████| 727/727 [00:00<00:00, 5849.36it/s]\u001b[A\n"
     ]
    },
    {
     "name": "stdout",
     "output_type": "stream",
     "text": [
      "\n",
      "BS-BS Channels\n"
     ]
    },
    {
     "name": "stderr",
     "output_type": "stream",
     "text": [
      "\n",
      "Reading ray-tracing: 100%|███████████████████████████████████████████████████████████████████████| 1/1 [00:00<?, ?it/s]\u001b[A\n",
      "\n",
      "Generating channels: 100%|██████████████████████████████████████████████████████████████| 1/1 [00:00<00:00, 333.38it/s]\u001b[A\n"
     ]
    },
    {
     "name": "stdout",
     "output_type": "stream",
     "text": [
      "\n",
      "Scene 5/5\n",
      "\n",
      "Basestation 1\n",
      "\n",
      "UE-BS Channels\n"
     ]
    },
    {
     "name": "stderr",
     "output_type": "stream",
     "text": [
      "\n",
      "Reading ray-tracing:   0%|                                                                   | 0/69006 [00:00<?, ?it/s]\u001b[A\n",
      "Reading ray-tracing:  38%|███████████████████▌                               | 26422/69006 [00:00<00:00, 263851.62it/s]\u001b[A\n",
      "Reading ray-tracing: 100%|███████████████████████████████████████████████████| 69006/69006 [00:00<00:00, 263093.58it/s]\u001b[A\n",
      "\n",
      "Generating channels:   0%|                                                                     | 0/727 [00:00<?, ?it/s]\u001b[A\n",
      "Generating channels: 100%|█████████████████████████████████████████████████████████| 727/727 [00:00<00:00, 5439.69it/s]\u001b[A\n"
     ]
    },
    {
     "name": "stdout",
     "output_type": "stream",
     "text": [
      "\n",
      "BS-BS Channels\n"
     ]
    },
    {
     "name": "stderr",
     "output_type": "stream",
     "text": [
      "\n",
      "Reading ray-tracing: 100%|███████████████████████████████████████████████████████████████████████| 1/1 [00:00<?, ?it/s]\u001b[A\n",
      "\n",
      "Generating channels: 100%|█████████████████████████████████████████████████████████████| 1/1 [00:00<00:00, 1002.22it/s]\u001b[A\n",
      " 67%|████████████████████████████████████████████████████████                            | 2/3 [00:15<00:07,  7.57s/it]"
     ]
    },
    {
     "name": "stdout",
     "output_type": "stream",
     "text": [
      "Scenes 5–9 generation time: 7.35s\n",
      "The following parameters seem unnecessary:\n",
      "{'activate_OFDM'}\n",
      "\n",
      "Scene 1/5\n",
      "\n",
      "Basestation 1\n",
      "\n",
      "UE-BS Channels\n"
     ]
    },
    {
     "name": "stderr",
     "output_type": "stream",
     "text": [
      "\n",
      "Reading ray-tracing:   0%|                                                                   | 0/69006 [00:00<?, ?it/s]\u001b[A\n",
      "Reading ray-tracing:  37%|██████████████████▉                                | 25643/69006 [00:00<00:00, 253979.04it/s]\u001b[A\n",
      "Reading ray-tracing: 100%|███████████████████████████████████████████████████| 69006/69006 [00:00<00:00, 255807.97it/s]\u001b[A\n",
      "\n",
      "Generating channels:   0%|                                                                     | 0/727 [00:00<?, ?it/s]\u001b[A\n",
      "Generating channels: 100%|█████████████████████████████████████████████████████████| 727/727 [00:00<00:00, 5667.65it/s]\u001b[A\n"
     ]
    },
    {
     "name": "stdout",
     "output_type": "stream",
     "text": [
      "\n",
      "BS-BS Channels\n"
     ]
    },
    {
     "name": "stderr",
     "output_type": "stream",
     "text": [
      "\n",
      "Reading ray-tracing: 100%|███████████████████████████████████████████████████████████████████████| 1/1 [00:00<?, ?it/s]\u001b[A\n",
      "\n",
      "Generating channels: 100%|█████████████████████████████████████████████████████████████| 1/1 [00:00<00:00, 1000.07it/s]\u001b[A\n"
     ]
    },
    {
     "name": "stdout",
     "output_type": "stream",
     "text": [
      "\n",
      "Scene 2/5\n",
      "\n",
      "Basestation 1\n",
      "\n",
      "UE-BS Channels\n"
     ]
    },
    {
     "name": "stderr",
     "output_type": "stream",
     "text": [
      "\n",
      "Reading ray-tracing:   0%|                                                                   | 0/69006 [00:00<?, ?it/s]\u001b[A\n",
      "Reading ray-tracing:  38%|███████████████████▎                               | 26174/69006 [00:00<00:00, 259886.35it/s]\u001b[A\n",
      "Reading ray-tracing: 100%|███████████████████████████████████████████████████| 69006/69006 [00:00<00:00, 264502.52it/s]\u001b[A\n",
      "\n",
      "Generating channels:   0%|                                                                     | 0/727 [00:00<?, ?it/s]\u001b[A\n",
      "Generating channels: 100%|█████████████████████████████████████████████████████████| 727/727 [00:00<00:00, 5962.83it/s]\u001b[A\n"
     ]
    },
    {
     "name": "stdout",
     "output_type": "stream",
     "text": [
      "\n",
      "BS-BS Channels\n"
     ]
    },
    {
     "name": "stderr",
     "output_type": "stream",
     "text": [
      "\n",
      "Reading ray-tracing: 100%|███████████████████████████████████████████████████████████████████████| 1/1 [00:00<?, ?it/s]\u001b[A\n",
      "\n",
      "Generating channels: 100%|██████████████████████████████████████████████████████████████| 1/1 [00:00<00:00, 500.16it/s]\u001b[A\n"
     ]
    },
    {
     "name": "stdout",
     "output_type": "stream",
     "text": [
      "\n",
      "Scene 3/5\n",
      "\n",
      "Basestation 1\n",
      "\n",
      "UE-BS Channels\n"
     ]
    },
    {
     "name": "stderr",
     "output_type": "stream",
     "text": [
      "\n",
      "Reading ray-tracing:   0%|                                                                   | 0/69006 [00:00<?, ?it/s]\u001b[A\n",
      "Reading ray-tracing:  38%|███████████████████▌                               | 26488/69006 [00:00<00:00, 264773.57it/s]\u001b[A\n",
      "Reading ray-tracing: 100%|███████████████████████████████████████████████████| 69006/69006 [00:00<00:00, 270320.99it/s]\u001b[A\n",
      "\n",
      "Generating channels:   0%|                                                                     | 0/727 [00:00<?, ?it/s]\u001b[A\n",
      "Generating channels: 100%|█████████████████████████████████████████████████████████| 727/727 [00:00<00:00, 5756.03it/s]\u001b[A\n"
     ]
    },
    {
     "name": "stdout",
     "output_type": "stream",
     "text": [
      "\n",
      "BS-BS Channels\n"
     ]
    },
    {
     "name": "stderr",
     "output_type": "stream",
     "text": [
      "\n",
      "Reading ray-tracing: 100%|███████████████████████████████████████████████████████████████████████| 1/1 [00:00<?, ?it/s]\u001b[A\n",
      "\n",
      "Generating channels: 100%|██████████████████████████████████████████████████████████████| 1/1 [00:00<00:00, 333.38it/s]\u001b[A\n"
     ]
    },
    {
     "name": "stdout",
     "output_type": "stream",
     "text": [
      "\n",
      "Scene 4/5\n",
      "\n",
      "Basestation 1\n",
      "\n",
      "UE-BS Channels\n"
     ]
    },
    {
     "name": "stderr",
     "output_type": "stream",
     "text": [
      "\n",
      "Reading ray-tracing:   0%|                                                                   | 0/69006 [00:00<?, ?it/s]\u001b[A\n",
      "Reading ray-tracing:  39%|███████████████████▉                               | 26920/69006 [00:00<00:00, 266667.29it/s]\u001b[A\n",
      "Reading ray-tracing: 100%|███████████████████████████████████████████████████| 69006/69006 [00:00<00:00, 264291.42it/s]\u001b[A\n",
      "\n",
      "Generating channels:   0%|                                                                     | 0/727 [00:00<?, ?it/s]\u001b[A\n",
      "Generating channels: 100%|█████████████████████████████████████████████████████████| 727/727 [00:00<00:00, 6060.28it/s]\u001b[A\n"
     ]
    },
    {
     "name": "stdout",
     "output_type": "stream",
     "text": [
      "\n",
      "BS-BS Channels\n"
     ]
    },
    {
     "name": "stderr",
     "output_type": "stream",
     "text": [
      "\n",
      "Reading ray-tracing: 100%|███████████████████████████████████████████████████████████████████████| 1/1 [00:00<?, ?it/s]\u001b[A\n",
      "\n",
      "Generating channels: 100%|██████████████████████████████████████████████████████████████| 1/1 [00:00<00:00, 500.27it/s]\u001b[A\n"
     ]
    },
    {
     "name": "stdout",
     "output_type": "stream",
     "text": [
      "\n",
      "Scene 5/5\n",
      "\n",
      "Basestation 1\n",
      "\n",
      "UE-BS Channels\n"
     ]
    },
    {
     "name": "stderr",
     "output_type": "stream",
     "text": [
      "\n",
      "Reading ray-tracing:   0%|                                                                   | 0/69006 [00:00<?, ?it/s]\u001b[A\n",
      "Reading ray-tracing:  37%|███████████████████                                | 25749/69006 [00:00<00:00, 257450.35it/s]\u001b[A\n",
      "Reading ray-tracing: 100%|███████████████████████████████████████████████████| 69006/69006 [00:00<00:00, 258280.65it/s]\u001b[A\n",
      "\n",
      "Generating channels:   0%|                                                                     | 0/727 [00:00<?, ?it/s]\u001b[A\n",
      "Generating channels: 100%|█████████████████████████████████████████████████████████| 727/727 [00:00<00:00, 5776.74it/s]\u001b[A\n"
     ]
    },
    {
     "name": "stdout",
     "output_type": "stream",
     "text": [
      "\n",
      "BS-BS Channels\n"
     ]
    },
    {
     "name": "stderr",
     "output_type": "stream",
     "text": [
      "\n",
      "Reading ray-tracing: 100%|███████████████████████████████████████████████████████████████████████| 1/1 [00:00<?, ?it/s]\u001b[A\n",
      "\n",
      "Generating channels: 100%|██████████████████████████████████████████████████████████████| 1/1 [00:00<00:00, 465.88it/s]\u001b[A\n",
      "100%|████████████████████████████████████████████████████████████████████████████████████| 3/3 [00:22<00:00,  7.57s/it]"
     ]
    },
    {
     "name": "stdout",
     "output_type": "stream",
     "text": [
      "Scenes 10–14 generation time: 7.38s\n"
     ]
    },
    {
     "name": "stderr",
     "output_type": "stream",
     "text": [
      "\n"
     ]
    }
   ],
   "source": [
    "## dataset 구축 (chunked on‑the‑fly generation)\n",
    "import time, gc\n",
    "from tqdm import tqdm\n",
    "\n",
    "# 0~999 씬 인덱스, 한 번에 50개씩 처리\n",
    "scene_indices = np.arange(scene)\n",
    "chunk_size   = 5\n",
    "all_data     = []\n",
    "\n",
    "# 씬 묶음(chunk)마다 generate_data 호출\n",
    "for i in tqdm(range(0, len(scene_indices), chunk_size)):\n",
    "    chunk = scene_indices[i : i+chunk_size].tolist()\n",
    "    parameters['dynamic_scenario_scenes'] = chunk\n",
    "\n",
    "    start = time.time()\n",
    "    data_chunk = DeepMIMOv3.generate_data(parameters)\n",
    "    print(f\"Scenes {chunk[0]}–{chunk[-1]} generation time: {time.time() - start:.2f}s\")\n",
    "\n",
    "    # 바로 all_data에 합치거나, 디스크에 저장해도 OK\n",
    "    all_data.extend(data_chunk)\n",
    "\n",
    "    # 메모리 해제\n",
    "    del data_chunk\n",
    "    gc.collect()\n",
    "\n",
    "# 마지막에 하나의 리스트로 합친 데이터셋\n",
    "dataset = all_data\n"
   ]
  },
  {
   "cell_type": "code",
   "execution_count": 15,
   "id": "0b6f3c58",
   "metadata": {},
   "outputs": [
    {
     "name": "stdout",
     "output_type": "stream",
     "text": [
      "[ 0  1  2  3  4  5  6  7  8  9 10 11 12 13 14 15 16 17 18 19 20 21 22 23\n",
      " 24 25 26 27 28 29 30 31 32 33 34 35 36 37 38 39 40 41 42 43 44 45 46 47\n",
      " 48 49 50 51 52 53 54 55 56 57 58 59 60 61 62 63 64 65 66 67 68 69 70 71\n",
      " 72 73 74 75 76 77 78 79 80 81 82 83 84 85 86 87 88 89 90 91 92 93 94 95\n",
      " 96 97 98 99]\n"
     ]
    }
   ],
   "source": [
    "print(parameters['user_rows'])"
   ]
  },
  {
   "cell_type": "code",
   "execution_count": 16,
   "id": "9ee486e9",
   "metadata": {},
   "outputs": [
    {
     "name": "stdout",
     "output_type": "stream",
     "text": [
      "{'dataset_folder': 'C:\\\\Users\\\\dlghd\\\\졸업프로젝트\\\\LWM', 'scenario': 'O2_dyn_3p5', 'dynamic_scenario_scenes': [10, 11, 12, 13, 14], 'num_paths': 10, 'active_BS': array([1]), 'user_rows': array([ 0,  1,  2,  3,  4,  5,  6,  7,  8,  9, 10, 11, 12, 13, 14, 15, 16,\n",
      "       17, 18, 19, 20, 21, 22, 23, 24, 25, 26, 27, 28, 29, 30, 31, 32, 33,\n",
      "       34, 35, 36, 37, 38, 39, 40, 41, 42, 43, 44, 45, 46, 47, 48, 49, 50,\n",
      "       51, 52, 53, 54, 55, 56, 57, 58, 59, 60, 61, 62, 63, 64, 65, 66, 67,\n",
      "       68, 69, 70, 71, 72, 73, 74, 75, 76, 77, 78, 79, 80, 81, 82, 83, 84,\n",
      "       85, 86, 87, 88, 89, 90, 91, 92, 93, 94, 95, 96, 97, 98, 99]), 'user_subsampling': 0.01, 'bs_antenna': {'shape': array([ 1, 32]), 'spacing': 0.5, 'rotation': array([0, 0, 0]), 'FoV': array([360, 180]), 'radiation_pattern': 'isotropic'}, 'ue_antenna': {'shape': array([1, 1]), 'spacing': 0.5, 'rotation': array([0, 0, 0]), 'FoV': array([360, 180]), 'radiation_pattern': 'isotropic'}, 'enable_doppler': 0, 'enable_dual_polar': 0, 'enable_BS2BS': 1, 'OFDM_channels': 1, 'OFDM': {'subcarriers': 512, 'selected_subcarriers': array([ 0,  1,  2,  3,  4,  5,  6,  7,  8,  9, 10, 11, 12, 13, 14, 15, 16,\n",
      "       17, 18, 19, 20, 21, 22, 23, 24, 25, 26, 27, 28, 29, 30, 31, 32, 33,\n",
      "       34, 35, 36, 37, 38, 39, 40, 41, 42, 43, 44, 45, 46, 47, 48, 49, 50,\n",
      "       51, 52, 53, 54, 55, 56, 57, 58, 59, 60, 61, 62, 63]), 'bandwidth': 0.05, 'RX_filter': 0}, 'activate_OFDM': 1}\n"
     ]
    }
   ],
   "source": [
    "print(parameters)"
   ]
  },
  {
   "cell_type": "markdown",
   "id": "5b4e72d4",
   "metadata": {},
   "source": [
    "# 사용자 접근 데이터"
   ]
  },
  {
   "cell_type": "code",
   "execution_count": 17,
   "id": "57828d31",
   "metadata": {},
   "outputs": [
    {
     "name": "stdout",
     "output_type": "stream",
     "text": [
      "dict_keys(['paths', 'LoS', 'location', 'distance', 'pathloss', 'channel'])\n"
     ]
    }
   ],
   "source": [
    "user_data = dataset[0][0]['user']\n",
    "print(user_data.keys())"
   ]
  },
  {
   "cell_type": "markdown",
   "id": "bc5a3b0c",
   "metadata": {},
   "source": [
    "# 사용자 채널 정보 확인"
   ]
  },
  {
   "cell_type": "code",
   "execution_count": 18,
   "id": "23b2884b",
   "metadata": {},
   "outputs": [
    {
     "name": "stdout",
     "output_type": "stream",
     "text": [
      "(727, 1, 32, 64)\n"
     ]
    }
   ],
   "source": [
    "# subcarries = 나눈 각각의 주파수 채널\n",
    "# Channel = H <- 채널 벡터\n",
    "# 채널 형태\n",
    "# (user, UE antenna, Bs antenna, subcarrier)\n",
    "channel = dataset[0][0]['user']['channel']\n",
    "print(channel.shape)  "
   ]
  },
  {
   "cell_type": "code",
   "execution_count": 19,
   "id": "bf443dc9",
   "metadata": {},
   "outputs": [
    {
     "name": "stdout",
     "output_type": "stream",
     "text": [
      "[[[ 8.57045598e-06+5.5781261e-06j  8.89099283e-06+5.0515800e-06j\n",
      "    9.17921989e-06+4.5066768e-06j ... -1.02173499e-05-4.1711201e-07j\n",
      "   -1.02239183e-05+1.9928974e-07j -1.01933329e-05+8.1496728e-07j]\n",
      "  [ 1.02161603e-05+4.4529790e-07j  1.02244285e-05-1.7108337e-07j\n",
      "    1.01955429e-05-7.8684292e-07j ... -9.00999748e-06+4.8361312e-06j\n",
      "   -8.70222630e-06+5.3702393e-06j -8.36283198e-06+5.8848323e-06j]\n",
      "  [ 9.02330430e-06-4.8112561e-06j  8.71700831e-06-5.3462113e-06j\n",
      "    8.37903553e-06-5.8617388e-06j ... -5.29921817e-06+8.7456565e-06j\n",
      "   -4.76262221e-06+9.0490685e-06j -4.20871947e-06+9.3195977e-06j]\n",
      "  ...\n",
      "  [-7.00710962e-06-7.4477266e-06j -7.44313866e-06-7.0119827e-06j\n",
      "   -7.85211978e-06-6.5507575e-06j ...  9.82847632e-06+2.8229874e-06j\n",
      "    9.98071755e-06+2.2256456e-06j  1.00966881e-05+1.6202162e-06j]\n",
      "  [-9.82065103e-06-2.8500913e-06j -9.97453935e-06-2.2531719e-06j\n",
      "   -1.00921798e-05-1.6480645e-06j ...  9.89848286e-06-2.5667589e-06j\n",
      "    9.72583803e-06-3.1585257e-06j  9.51785023e-06-3.7388147e-06j]\n",
      "  [-9.90552599e-06+2.5394413e-06j -9.73451461e-06+3.1316822e-06j\n",
      "   -9.52812843e-06+3.7125428e-06j ...  7.21819652e-06-7.2433313e-06j\n",
      "    6.76863647e-06-7.6651013e-06j  6.29447914e-06-8.0590162e-06j]]]\n"
     ]
    }
   ],
   "source": [
    "print(dataset[0][0]['user']['channel'][100])"
   ]
  },
  {
   "cell_type": "markdown",
   "id": "2b079846",
   "metadata": {},
   "source": [
    "# 사용자 위치 정보"
   ]
  },
  {
   "cell_type": "code",
   "execution_count": 20,
   "id": "84337e94",
   "metadata": {},
   "outputs": [
    {
     "name": "stdout",
     "output_type": "stream",
     "text": [
      "(727, 3)\n",
      "[[-71.03330231 -15.57629967   1.        ]\n",
      " [-68.63330078 -15.57629967   1.        ]\n",
      " [-52.83330154 -15.57629967   1.        ]\n",
      " [-31.23329926 -15.57629967   1.        ]]\n"
     ]
    }
   ],
   "source": [
    "location = dataset[0][0]['user']['location']\n",
    "print(location.shape)      # (사용자 수, 3)\n",
    "print(location[0:4])         # 첫 번째 사용자의 (x, y, z)"
   ]
  },
  {
   "cell_type": "markdown",
   "id": "60e9a9b6",
   "metadata": {},
   "source": [
    "# 경로정보"
   ]
  },
  {
   "cell_type": "code",
   "execution_count": 21,
   "id": "79cde8ee",
   "metadata": {},
   "outputs": [
    {
     "name": "stdout",
     "output_type": "stream",
     "text": [
      "727\n",
      "{'num_paths': 2, 'DoD_phi': array([-160.941, -160.941], dtype=float32), 'DoD_theta': array([93.6525, 94.7439], dtype=float32), 'DoA_phi': array([19.0585, 19.0585], dtype=float32), 'DoA_theta': array([86.3475, 94.7439], dtype=float32), 'phase': array([ 143.357, -137.611], dtype=float32), 'ToA': array([2.61886e-07, 2.62253e-07], dtype=float32), 'LoS': array([1., 0.], dtype=float32), 'power': array([7.5363324e-09, 3.2098095e-09], dtype=float32)}\n"
     ]
    }
   ],
   "source": [
    "paths = dataset[0][0]['user']['paths']\n",
    "#사용자 수\n",
    "print(len(paths))\n",
    "# 첫 번째 사용자 경로 정보\n",
    "print(paths[0])"
   ]
  },
  {
   "cell_type": "markdown",
   "id": "f2242869",
   "metadata": {},
   "source": [
    "# 기지국 정보"
   ]
  },
  {
   "cell_type": "code",
   "execution_count": 22,
   "id": "2900e481",
   "metadata": {},
   "outputs": [
    {
     "name": "stdout",
     "output_type": "stream",
     "text": [
      "dict_keys(['paths', 'LoS', 'location', 'distance', 'pathloss', 'channel'])\n"
     ]
    }
   ],
   "source": [
    "bs_data = dataset[0][0]['basestation']\n",
    "print(bs_data.keys())\n"
   ]
  },
  {
   "cell_type": "markdown",
   "id": "c063ea95",
   "metadata": {},
   "source": [
    "# Scene 및 사용자 수"
   ]
  },
  {
   "cell_type": "code",
   "execution_count": 23,
   "id": "a20df92d",
   "metadata": {},
   "outputs": [
    {
     "name": "stdout",
     "output_type": "stream",
     "text": [
      "Scene 0: 727 users\n"
     ]
    }
   ],
   "source": [
    "for i, scene in enumerate(dataset[0]):\n",
    "    user_locs = scene['user']['location']\n",
    "    print(f\"Scene {i}: {len(user_locs)} users\")"
   ]
  },
  {
   "cell_type": "markdown",
   "id": "b38f71e1",
   "metadata": {},
   "source": [
    "# 채널 수"
   ]
  },
  {
   "cell_type": "code",
   "execution_count": 24,
   "id": "cbbee52e",
   "metadata": {},
   "outputs": [
    {
     "data": {
      "text/plain": [
       "727"
      ]
     },
     "execution_count": 24,
     "metadata": {},
     "output_type": "execute_result"
    }
   ],
   "source": [
    "len(dataset[0][0]['user']['channel'])"
   ]
  },
  {
   "cell_type": "code",
   "execution_count": 25,
   "id": "2d474195",
   "metadata": {},
   "outputs": [
    {
     "name": "stdout",
     "output_type": "stream",
     "text": [
      "{'num_paths': 2, 'DoD_phi': array([-160.941, -160.941], dtype=float32), 'DoD_theta': array([93.6525, 94.7439], dtype=float32), 'DoA_phi': array([19.0585, 19.0585], dtype=float32), 'DoA_theta': array([86.3475, 94.7439], dtype=float32), 'phase': array([ 143.357, -137.611], dtype=float32), 'ToA': array([2.61886e-07, 2.62253e-07], dtype=float32), 'LoS': array([1., 0.], dtype=float32), 'power': array([7.5363324e-09, 3.2098095e-09], dtype=float32)}\n"
     ]
    }
   ],
   "source": [
    "print(dataset[0][0]['user']['paths'][0])"
   ]
  },
  {
   "cell_type": "code",
   "execution_count": 26,
   "id": "73df9912",
   "metadata": {},
   "outputs": [
    {
     "name": "stdout",
     "output_type": "stream",
     "text": [
      "(1, 32, 64)\n"
     ]
    }
   ],
   "source": [
    "scene = dataset[0][0] # scene 0\n",
    "ue_idx = 0 # 첫 번째 사용자\n",
    "channel = scene['user']['channel'][ue_idx]\n",
    "print(channel.shape)"
   ]
  },
  {
   "cell_type": "markdown",
   "id": "373ffb59",
   "metadata": {},
   "source": [
    "# channel CIR mat 정보 가져오기"
   ]
  },
  {
   "cell_type": "code",
   "execution_count": 27,
   "id": "ec4461cb",
   "metadata": {},
   "outputs": [
    {
     "name": "stdout",
     "output_type": "stream",
     "text": [
      "dict_keys(['__header__', '__version__', '__globals__', 'CIR_array_full'])\n"
     ]
    }
   ],
   "source": [
    "import scipy.io as sio\n",
    "\n",
    "file_path = r'C:\\Users\\dlghd\\졸업프로젝트\\LWM\\O2_dyn_3p5\\scene_0\\O2_dyn_3p5.1.CIR.mat'\n",
    "mat_data = sio.loadmat(file_path)\n",
    "\n",
    "# 파일 안의 key 확인\n",
    "print(mat_data.keys())\n",
    "\n",
    "\n"
   ]
  },
  {
   "cell_type": "code",
   "execution_count": 28,
   "id": "662cb441",
   "metadata": {},
   "outputs": [
    {
     "name": "stdout",
     "output_type": "stream",
     "text": [
      "b'MATLAB 5.0 MAT-file, Platform: PCWIN64, Created on: Wed Jun 30 11:33:01 2021'\n"
     ]
    }
   ],
   "source": [
    "# 일반적으로 CIR key는 'CIR' 또는 'cir' 같은 이름일 가능성 높음\n",
    "H_cir = mat_data['__header__']  \n",
    "print(H_cir)"
   ]
  },
  {
   "cell_type": "markdown",
   "id": "88f3d7c7",
   "metadata": {},
   "source": [
    "# Time-Prediction 시작\n",
    "## Time Series 형태로 변환\n",
    "### 단일사용자 채널 예측"
   ]
  },
  {
   "cell_type": "code",
   "execution_count": 29,
   "id": "4f36971f",
   "metadata": {},
   "outputs": [
    {
     "name": "stdout",
     "output_type": "stream",
     "text": [
      "0이 존재하는 채널 개수 0\n"
     ]
    }
   ],
   "source": [
    "# print(dataset[0][0]['user']['channel'][150][0][3])\n",
    "\n",
    "count = 0\n",
    "for h in dataset[0][0]['user']['channel'][100][0]:\n",
    "#     h = h.squeeze(0)\n",
    "    h_real = h.real\n",
    "    h_imag = h.imag\n",
    "    if np.sum(np.abs(h_real)) ==0:\n",
    "        count+=1\n",
    "    elif np.sum(np.abs(h_imag)) == 0:\n",
    "        count+=1\n",
    "\n",
    "print(\"0이 존재하는 채널 개수\",count)"
   ]
  },
  {
   "cell_type": "code",
   "execution_count": 30,
   "id": "7575de2b",
   "metadata": {},
   "outputs": [
    {
     "name": "stdout",
     "output_type": "stream",
     "text": [
      "Antenna #3 subcarriers: [ 5.3233252e-06-8.73100362e-06j  4.7875683e-06-9.03589535e-06j\n",
      "  4.2344141e-06-9.30795068e-06j  3.6658719e-06-9.54618190e-06j\n",
      "  3.0840083e-06-9.74972318e-06j  2.4909377e-06-9.91783418e-06j\n",
      "  1.8888149e-06-1.00499046e-05j  1.2798286e-06-1.01454543e-05j\n",
      "  6.6619128e-07-1.02041367e-05j  5.0133124e-08-1.02257372e-05j\n",
      " -5.6610725e-07-1.02101776e-05j -1.1802904e-06-1.01575160e-05j\n",
      " -1.7901845e-06-1.00679417e-05j -2.3935731e-06-9.94178117e-06j\n",
      " -2.9882635e-06-9.77949367e-06j -3.5720950e-06-9.58166765e-06j\n",
      " -4.1429457e-06-9.34902255e-06j -4.6987411e-06-9.08240327e-06j\n",
      " -5.2374617e-06-8.78277933e-06j -5.7571492e-06-8.45123941e-06j\n",
      " -6.2559161e-06-8.08898767e-06j -6.7319493e-06-7.69734197e-06j\n",
      " -7.1835188e-06-7.27772431e-06j -7.6089841e-06-6.83165945e-06j\n",
      " -8.0067985e-06-6.36076902e-06j -8.3755176e-06-5.86676424e-06j\n",
      " -8.7137996e-06-5.35144000e-06j -9.0204167e-06-4.81666848e-06j\n",
      " -9.2942537e-06-4.26439374e-06j -9.5343166e-06-3.69662257e-06j\n",
      " -9.7397324e-06-3.11541817e-06j -9.9097542e-06-2.52289237e-06j\n",
      " -1.0043765e-05-1.92119842e-06j -1.0141277e-05-1.31252318e-06j\n",
      " -1.0201937e-05-6.99078271e-07j -1.0225523e-05-8.30929494e-08j\n",
      " -1.0211949e-05+5.33194338e-07j -1.0161268e-05+1.14754403e-06j\n",
      " -1.0073660e-05+1.75772368e-06j -9.9494455e-06+2.36151573e-06j\n",
      " -9.7890743e-06+2.95672635e-06j -9.5931318e-06+3.54119220e-06j\n",
      " -9.3623275e-06+4.11278961e-06j -9.0975009e-06+4.66944175e-06j\n",
      " -8.7996150e-06+5.20912499e-06j -8.4697522e-06+5.72987892e-06j\n",
      " -8.1091102e-06+6.22981088e-06j -7.7190007e-06+6.70710369e-06j\n",
      " -7.3008405e-06+7.16002387e-06j -6.8561499e-06+7.58692431e-06j\n",
      " -6.3865441e-06+7.98625479e-06j -5.8937303e-06+8.35656374e-06j\n",
      " -5.3794988e-06+8.69650557e-06j -4.8457186e-06+9.00484429e-06j\n",
      " -4.2943293e-06+9.28046029e-06j -3.7273348e-06+9.52235223e-06j\n",
      " -3.1467955e-06+9.72963971e-06j -2.5548209e-06+9.90157059e-06j\n",
      " -1.9535621e-06+1.00375200e-05j -1.3452043e-06+1.01369933e-05j\n",
      " -7.3195804e-07+1.01996302e-05j -1.1605191e-07+1.02252015e-05j\n",
      "  5.0027592e-07+1.02136155e-05j  1.1147858e-06+1.01649139e-05j]\n",
      "0+0j인 서브캐리어 개수: 0\n",
      "완전 0+0j 안테나 포트 개수: 0\n",
      "0이 아닌 서브캐리어 개수: 2048\n"
     ]
    }
   ],
   "source": [
    "import numpy as np\n",
    "\n",
    "# 1) (user, ue_port, bs_ant, subc) → (bs_ant, subc) 로 squeeze\n",
    "H = dataset[0][0]['user']['channel'][100, 0]   # shape: (32, 64), complex\n",
    "\n",
    "# 2) BS 안테나 인덱스 3의 서브캐리어 벡터 (64,)\n",
    "print(\"Antenna #3 subcarriers:\", H[3])\n",
    "\n",
    "# 3) 전체 서브캐리어(32×64) 중 값이 정확히 0인 요소 개수\n",
    "zero_elements = np.sum(H == 0)\n",
    "print(\"0+0j인 서브캐리어 개수:\", zero_elements)\n",
    "\n",
    "# 4) 서브캐리어 전부가 0인 안테나 포트(행) 개수\n",
    "zero_ports = np.sum(np.all(H == 0, axis=1))\n",
    "print(\"완전 0+0j 안테나 포트 개수:\", zero_ports)\n",
    "\n",
    "# 5) 만약 “값이 하나도 0이 아닌” 서브캐리어 요소 개수를 보고 싶다면\n",
    "nonzero_elements = np.sum(np.abs(H) > 0)\n",
    "print(\"0이 아닌 서브캐리어 개수:\", nonzero_elements)\n"
   ]
  },
  {
   "cell_type": "markdown",
   "id": "a20a73af",
   "metadata": {},
   "source": [
    "## 결측치 제거 및 dataload"
   ]
  },
  {
   "cell_type": "code",
   "execution_count": 33,
   "id": "1f97d362",
   "metadata": {},
   "outputs": [],
   "source": [
    "# from torch.utils.data import Dataset, DataLoader\n",
    "\n",
    "# class ChannelDataset(Dataset):\n",
    "#     def __init__(self, dataset):\n",
    "#         self.dataset = dataset\n",
    "    \n",
    "#     def __len__(self):\n",
    "#         return len(self.dataset)\n",
    "    \n",
    "#     def __getitem__(self,idx):\n",
    "#         scene = self.dataset[idx]\n",
    "#         H = scene[0]['user']['channel'].squeeze(1)\n",
    "        \n",
    "#         mask_valid_sc = ~np.all(H == 0+0j, axis=(0,1))\n",
    "        \n",
    "#         H = H[:,:,mask_valid_sc]\n",
    "        \n",
    "#         H_real = H.real\n",
    "#         H_imag = H.imag\n",
    "#         H_concat  = np.concatenate([H_real, H_imag], 1)\n",
    "#         H_sc_first = H_concat.transpose(0,2,1)\n",
    "        \n",
    "#         return torch.from_numpy(H_sc_first.astype(np.float32))   \n",
    "            \n",
    "            "
   ]
  },
  {
   "cell_type": "code",
   "execution_count": 34,
   "id": "94309077",
   "metadata": {},
   "outputs": [],
   "source": [
    "# ─────────────────────────────────────────────\n",
    "# ❶ IterableDataset: 모든 유저·서브캐리어를 스트리밍\n",
    "import torch\n",
    "from torch.utils.data import IterableDataset, DataLoader\n",
    "import numpy as np\n",
    "\n",
    "class ChannelSeqDataset(IterableDataset):\n",
    "    \"\"\"\n",
    "    • seq_len 개의 과거 채널 벡터(real 64 + imag 64 → 128) → 다음 시점 벡터 예측\n",
    "    • 벡터는 평균전력 1 로 power‑normalize 후 반환\n",
    "    \"\"\"\n",
    "    def __init__(self, scenes, seq_len: int = 5, eps: float = 1e-9):\n",
    "        super().__init__()\n",
    "        self.scenes   = scenes\n",
    "        self.seq_len  = seq_len\n",
    "        self.eps      = eps                        # 0 division 방지용 신호세기의 크기 \n",
    "        ch0           = scenes[0][0]['user']['channel']\n",
    "        self.U        = ch0.shape[0]               # 사용자 수\n",
    "        self.A        = ch0.shape[2]               # 안테나 32\n",
    "        self.S        = ch0.shape[3]               # 서브캐리어 64\n",
    "        self.vec_len  = 2 * self.A                 # 64 real + imag\n",
    "        0\n",
    "    def _vec(self, scene, u: int, sc: int) -> torch.Tensor:\n",
    "        \"\"\"(32,) complex → (64,) float32  +  power norm\"\"\"\n",
    "        h = scene[0]['user']['channel'][u, 0, :, sc]          # (32,)\n",
    "        v = np.concatenate([h.real, h.imag]).astype(np.float32)\n",
    "        p = np.mean(v * v) + self.eps                         # 평균 전력: 채널 벡터 h의 각 성분의 진폭 제곱을 합산\n",
    "        v /= np.sqrt(p)                                       # 정규화\n",
    "        return torch.from_numpy(v)                            # (64,)\n",
    "\n",
    "    def __iter__(self):\n",
    "        T = len(self.scenes)\n",
    "        for t in range(self.seq_len, T):                      # 타깃 시점\n",
    "            past_scenes = self.scenes[t - self.seq_len : t]\n",
    "            tgt_scene   = self.scenes[t]\n",
    "            for u in range(self.U):\n",
    "                for s in range(self.S):\n",
    "                    seq = torch.stack([self._vec(ps, u, s) for ps in past_scenes])\n",
    "                    if not torch.any(seq):                    # 전부 0 이면 skip\n",
    "                        continue\n",
    "                    target     = self._vec(tgt_scene, u, s)\n",
    "                    if not torch.any(target): # target이 0이면 스킵\n",
    "                        continue\n",
    "                    masked_pos = torch.tensor([self.seq_len - 2], dtype=torch.long)\n",
    "                    yield seq, masked_pos, target             # shapes: (5,64) / (1,) / (64,)\n",
    "    \n",
    "    def __len__(self):\n",
    "         return (len(self.scenes) - self.seq_len) * self.U * self.S\n",
    "# ─────────────────────────────────────────────\n",
    "# ❷ 학습·검증 DataLoader train : val = 6 : 4\n",
    "seq_len      = 5\n",
    "split_ratio  = 0.6\n",
    "split_idx    = int(len(dataset) * split_ratio)\n",
    "\n",
    "train_ds = ChannelSeqDataset(dataset[:split_idx], seq_len=seq_len)\n",
    "val_ds   = ChannelSeqDataset(dataset[split_idx:], seq_len=seq_len)\n",
    "\n",
    "# train_ds 순회하면서 feature/target min, max 계산\n",
    "\n",
    "\n",
    "batch_size   = 32\n",
    "train_loader = DataLoader(train_ds, batch_size=batch_size, shuffle=False)\n",
    "val_loader   = DataLoader(val_ds,   batch_size=batch_size, shuffle=False)\n",
    "# ─────────────────────────────────────────────\n"
   ]
  },
  {
   "cell_type": "code",
   "execution_count": 39,
   "id": "21a23b60-4cf1-45de-9a26-ae1f1c1dfba1",
   "metadata": {},
   "outputs": [],
   "source": [
    "from sklearn.preprocessing   import MinMaxScaler\n",
    "from torch.utils.data        import TensorDataset, DataLoader\n",
    "\n",
    "# ❶ 모든 seq/mask/target을 한 번에 뽑아서 NumPy로\n",
    "X_list, mposes_list, y_list = [], [], []\n",
    "for seq, mpos, tgt in ChannelSeqDataset(dataset, seq_len=seq_len):\n",
    "    X_list.append( seq.numpy() )           # (seq_len, vec_len)\n",
    "    mposes_list.append( mpos.item() )      # 스칼라 마스크 인덱스\n",
    "    y_list.append( tgt.numpy() )           # (vec_len,)\n",
    "\n",
    "X       = np.stack(X_list,      axis=0)    # (N, seq_len, vec_len)\n",
    "mposes  = np.array(mposes_list).reshape(-1,1)  # (N, 1)\n",
    "y       = np.stack(y_list,      axis=0)    # (N, vec_len)\n",
    "\n",
    "# ❷ Train/Val split  (6:4)\n",
    "split_idx = int(len(X) * split_ratio)\n",
    "X_tr,  X_va  = X[:split_idx],  X[split_idx:]\n",
    "mp_tr, mp_va = mposes[:split_idx], mposes[split_idx:]\n",
    "y_tr,  y_va  = y[:split_idx],  y[split_idx:]\n",
    "\n",
    "# ❸ 스케일링 (X, y 만)\n",
    "scaler_x = MinMaxScaler(); scaler_y = MinMaxScaler()\n",
    "Ntr, L, D = X_tr.shape\n",
    "\n",
    "# train 에서만 fit\n",
    "scaler_x .fit( X_tr.reshape(-1, D) )\n",
    "scaler_y .fit( y_tr )\n",
    "\n",
    "# transform 후 원래 shape 복원\n",
    "X_tr_s = scaler_x.transform(X_tr.reshape(-1, D)).reshape(Ntr, L, D)\n",
    "X_va_s = scaler_x.transform(X_va.reshape(-1, D)).reshape(X_va.shape)\n",
    "y_tr_s = scaler_y.transform(y_tr)\n",
    "y_va_s = scaler_y.transform(y_va)\n",
    "\n",
    "# ❹ TensorDataset 에 세 개 모두 담기\n",
    "train_ds = TensorDataset(\n",
    "    torch.from_numpy(X_tr_s).float(),     # seqs\n",
    "    torch.from_numpy(mp_tr).long(),       # mposes\n",
    "    torch.from_numpy(y_tr_s).float()      # tgts\n",
    ")\n",
    "val_ds   = TensorDataset(\n",
    "    torch.from_numpy(X_va_s).float(),\n",
    "    torch.from_numpy(mp_va).long(),\n",
    "    torch.from_numpy(y_va_s).float()\n",
    ")\n",
    "\n",
    "train_loader = DataLoader(train_ds, batch_size=batch_size, shuffle=True)\n",
    "val_loader   = DataLoader(val_ds,   batch_size=batch_size, shuffle=False)\n",
    "\n",
    "# 이제 배치 언패킹이 딱 맞습니다!\n",
    "first_batch = next(iter(train_loader))\n",
    "seqs, mposes, tgts = first_batch   # (B, L, D), (B,1), (B, D)\n"
   ]
  },
  {
   "cell_type": "code",
   "execution_count": 40,
   "id": "0aaadd66",
   "metadata": {},
   "outputs": [
    {
     "data": {
      "text/plain": [
       "200563"
      ]
     },
     "execution_count": 40,
     "metadata": {},
     "output_type": "execute_result"
    }
   ],
   "source": [
    "len(train_ds) #4x727x64"
   ]
  },
  {
   "cell_type": "code",
   "execution_count": 41,
   "id": "90f5b39c",
   "metadata": {},
   "outputs": [
    {
     "data": {
      "text/plain": [
       "133709"
      ]
     },
     "execution_count": 41,
     "metadata": {},
     "output_type": "execute_result"
    }
   ],
   "source": [
    "len(val_ds) #1x727x64"
   ]
  },
  {
   "cell_type": "code",
   "execution_count": 42,
   "id": "fe8a8a2f",
   "metadata": {},
   "outputs": [
    {
     "name": "stdout",
     "output_type": "stream",
     "text": [
      "<torch.utils.data.dataloader.DataLoader object at 0x0000021D7A29AB40>\n",
      "batch_size: 32\n",
      "dataset: <torch.utils.data.dataset.TensorDataset object at 0x0000021D7F23BAD0>\n",
      "total samples: 200563\n",
      "total batches: 6268\n",
      "seqs.shape: torch.Size([32, 5, 64])\n",
      "mposes.shape: torch.Size([32, 1])\n",
      "tgts.shape: torch.Size([32, 64])\n"
     ]
    }
   ],
   "source": [
    "# 1) DataLoader 설정 확인\n",
    "print(train_loader)                # DataLoader 정보 전체\n",
    "print(\"batch_size:\", train_loader.batch_size)\n",
    "print(\"dataset:\",   train_loader.dataset)\n",
    "\n",
    "# 총 샘플 수\n",
    "print(\"total samples:\", len(train_loader.dataset))\n",
    "# → (len(scenes) - seq_len) * U * S 와 동일한 값\n",
    "\n",
    "# 총 배치 수\n",
    "print(\"total batches:\", len(train_loader))\n",
    "# → ceil(total_samples / batch_size)\n",
    "\n",
    "\n",
    "# 3) 첫 번째 배치 내용 확인\n",
    "first_batch = next(iter(train_loader))\n",
    "seqs, mposes, tgts = first_batch\n",
    "print(\"seqs.shape:\",   seqs.shape)    # (B, seq_len, vec_len)\n",
    "print(\"mposes.shape:\", mposes.shape)  # (B, 1)\n",
    "print(\"tgts.shape:\",   tgts.shape)    # (B, vec_len)\n"
   ]
  },
  {
   "cell_type": "code",
   "execution_count": 43,
   "id": "87a41f65-8d0b-4a20-a8e2-e5e692bf2959",
   "metadata": {
    "scrolled": true
   },
   "outputs": [
    {
     "name": "stdout",
     "output_type": "stream",
     "text": [
      "<torch.utils.data.dataset.TensorDataset object at 0x0000021D7F23BAD0>\n",
      "전체 샘플 수 (len): 6268\n",
      "\n",
      "샘플 #0\n",
      "  seq shape : torch.Size([32, 5, 64])\n",
      "  masked_pos : tensor([[3],\n",
      "        [3],\n",
      "        [3],\n",
      "        [3],\n",
      "        [3],\n",
      "        [3],\n",
      "        [3],\n",
      "        [3],\n",
      "        [3],\n",
      "        [3],\n",
      "        [3],\n",
      "        [3],\n",
      "        [3],\n",
      "        [3],\n",
      "        [3],\n",
      "        [3],\n",
      "        [3],\n",
      "        [3],\n",
      "        [3],\n",
      "        [3],\n",
      "        [3],\n",
      "        [3],\n",
      "        [3],\n",
      "        [3],\n",
      "        [3],\n",
      "        [3],\n",
      "        [3],\n",
      "        [3],\n",
      "        [3],\n",
      "        [3],\n",
      "        [3],\n",
      "        [3]])\n",
      "  target shape: torch.Size([32, 64])\n",
      "  seq example:\n",
      " tensor([[[0.5009, 0.5127, 0.5130,  ..., 0.5131, 0.5078, 0.4909],\n",
      "         [0.4510, 0.4649, 0.4685,  ..., 0.4815, 0.4842, 0.4749],\n",
      "         [0.4510, 0.4649, 0.4685,  ..., 0.4815, 0.4842, 0.4749],\n",
      "         [0.4305, 0.4958, 0.5439,  ..., 0.5157, 0.5103, 0.4945],\n",
      "         [0.4305, 0.4958, 0.5439,  ..., 0.5157, 0.5103, 0.4945]],\n",
      "\n",
      "        [[0.5635, 0.5760, 0.5769,  ..., 0.4394, 0.4392, 0.4245],\n",
      "         [0.5278, 0.5414, 0.5434,  ..., 0.4706, 0.4683, 0.4528],\n",
      "         [0.5189, 0.5351, 0.5394,  ..., 0.4689, 0.4647, 0.4472],\n",
      "         [0.5205, 0.5368, 0.5412,  ..., 0.4671, 0.4628, 0.4452],\n",
      "         [0.5554, 0.5711, 0.5751,  ..., 0.4336, 0.4308, 0.4134]],\n",
      "\n",
      "        [[0.3534, 0.4563, 0.5474,  ..., 0.6195, 0.5263, 0.4337],\n",
      "         [0.3508, 0.4229, 0.4939,  ..., 0.5176, 0.4062, 0.3009],\n",
      "         [0.3971, 0.4639, 0.5296,  ..., 0.6147, 0.4837, 0.3573],\n",
      "         [0.3828, 0.4964, 0.5931,  ..., 0.6930, 0.5924, 0.4775],\n",
      "         [0.4649, 0.5909, 0.6854,  ..., 0.6779, 0.6139, 0.5348]],\n",
      "\n",
      "        ...,\n",
      "\n",
      "        [[0.4745, 0.6767, 0.8032,  ..., 0.7475, 0.6527, 0.4986],\n",
      "         [0.4745, 0.6767, 0.8032,  ..., 0.7475, 0.6527, 0.4986],\n",
      "         [0.4745, 0.6767, 0.8032,  ..., 0.7475, 0.6527, 0.4986],\n",
      "         [0.4745, 0.6767, 0.8032,  ..., 0.7475, 0.6527, 0.4986],\n",
      "         [0.4745, 0.6767, 0.8032,  ..., 0.7475, 0.6527, 0.4986]],\n",
      "\n",
      "        [[0.5009, 0.5127, 0.5130,  ..., 0.5131, 0.5078, 0.4909],\n",
      "         [0.4682, 0.4809, 0.4819,  ..., 0.5430, 0.5359, 0.5185],\n",
      "         [0.4682, 0.4813, 0.4827,  ..., 0.5414, 0.5340, 0.5163],\n",
      "         [0.4873, 0.4978, 0.4967,  ..., 0.5330, 0.5281, 0.5125],\n",
      "         [0.5245, 0.5340, 0.5322,  ..., 0.4983, 0.4953, 0.4801]],\n",
      "\n",
      "        [[0.5656, 0.5668, 0.5573,  ..., 0.5391, 0.5359, 0.5219],\n",
      "         [0.5578, 0.5602, 0.5517,  ..., 0.5477, 0.5433, 0.5285],\n",
      "         [0.5651, 0.5665, 0.5572,  ..., 0.5399, 0.5365, 0.5223],\n",
      "         [0.5614, 0.5622, 0.5522,  ..., 0.5417, 0.5390, 0.5255],\n",
      "         [0.5353, 0.5432, 0.5397,  ..., 0.5061, 0.5047, 0.4914]]])\n",
      "  target example:\n",
      " tensor([[0.4052, 0.4690, 0.5212,  ..., 0.5111, 0.5346, 0.5316],\n",
      "        [0.5517, 0.5634, 0.5697,  ..., 0.4275, 0.4592, 0.4612],\n",
      "        [0.3416, 0.4519, 0.5505,  ..., 0.7214, 0.6481, 0.5420],\n",
      "        ...,\n",
      "        [0.4745, 0.6765, 0.8114,  ..., 0.7204, 0.6557, 0.5186],\n",
      "        [0.4855, 0.4995, 0.5072,  ..., 0.4907, 0.5158, 0.5131],\n",
      "        [0.5296, 0.5386, 0.5419,  ..., 0.4852, 0.5152, 0.5167]])\n",
      "\n",
      "샘플 #1\n",
      "  seq shape : torch.Size([32, 5, 64])\n",
      "  masked_pos : tensor([[3],\n",
      "        [3],\n",
      "        [3],\n",
      "        [3],\n",
      "        [3],\n",
      "        [3],\n",
      "        [3],\n",
      "        [3],\n",
      "        [3],\n",
      "        [3],\n",
      "        [3],\n",
      "        [3],\n",
      "        [3],\n",
      "        [3],\n",
      "        [3],\n",
      "        [3],\n",
      "        [3],\n",
      "        [3],\n",
      "        [3],\n",
      "        [3],\n",
      "        [3],\n",
      "        [3],\n",
      "        [3],\n",
      "        [3],\n",
      "        [3],\n",
      "        [3],\n",
      "        [3],\n",
      "        [3],\n",
      "        [3],\n",
      "        [3],\n",
      "        [3],\n",
      "        [3]])\n",
      "  target shape: torch.Size([32, 64])\n",
      "  seq example:\n",
      " tensor([[[0.4887, 0.4994, 0.4985,  ..., 0.5273, 0.5226, 0.5070],\n",
      "         [0.5252, 0.5352, 0.5338,  ..., 0.4928, 0.4895, 0.4737],\n",
      "         [0.5009, 0.5127, 0.5130,  ..., 0.5131, 0.5078, 0.4909],\n",
      "         [0.5236, 0.5356, 0.5362,  ..., 0.4886, 0.4839, 0.4666],\n",
      "         [0.5236, 0.5356, 0.5362,  ..., 0.4886, 0.4839, 0.4666]],\n",
      "\n",
      "        [[0.4814, 0.4945, 0.4958,  ..., 0.5323, 0.5257, 0.5084],\n",
      "         [0.4799, 0.4921, 0.4925,  ..., 0.5313, 0.5256, 0.5091],\n",
      "         [0.5192, 0.5293, 0.5280,  ..., 0.4980, 0.4944, 0.4786],\n",
      "         [0.4856, 0.4968, 0.4964,  ..., 0.5288, 0.5236, 0.5076],\n",
      "         [0.4634, 0.4804, 0.4854,  ..., 0.5155, 0.5066, 0.4863]],\n",
      "\n",
      "        [[0.2700, 0.2399, 0.2586,  ..., 0.7349, 0.7076, 0.6279],\n",
      "         [0.2700, 0.2399, 0.2586,  ..., 0.7349, 0.7076, 0.6279],\n",
      "         [0.2700, 0.2399, 0.2586,  ..., 0.7349, 0.7076, 0.6279],\n",
      "         [0.4393, 0.4031, 0.4075,  ..., 0.6485, 0.6061, 0.5143],\n",
      "         [0.4293, 0.3705, 0.3545,  ..., 0.6124, 0.5932, 0.5227]],\n",
      "\n",
      "        ...,\n",
      "\n",
      "        [[0.2859, 0.2438, 0.2544,  ..., 0.7373, 0.6817, 0.5774],\n",
      "         [0.2859, 0.2438, 0.2544,  ..., 0.7373, 0.6817, 0.5774],\n",
      "         [0.2859, 0.2438, 0.2544,  ..., 0.7373, 0.6817, 0.5774],\n",
      "         [0.4737, 0.4867, 0.4890,  ..., 0.4998, 0.4993, 0.4870],\n",
      "         [0.4737, 0.4867, 0.4890,  ..., 0.4998, 0.4993, 0.4870]],\n",
      "\n",
      "        [[0.5009, 0.5127, 0.5130,  ..., 0.5131, 0.5078, 0.4909],\n",
      "         [0.4709, 0.4850, 0.4874,  ..., 0.5235, 0.5154, 0.4961],\n",
      "         [0.4794, 0.4900, 0.4891,  ..., 0.5439, 0.5375, 0.5207],\n",
      "         [0.5345, 0.5453, 0.5446,  ..., 0.4875, 0.4847, 0.4694],\n",
      "         [0.4431, 0.4552, 0.4558,  ..., 0.5471, 0.5341, 0.5108]],\n",
      "\n",
      "        [[0.5784, 0.6021, 0.6097,  ..., 0.3823, 0.3637, 0.3446],\n",
      "         [0.6064, 0.6538, 0.6769,  ..., 0.4147, 0.4157, 0.4102],\n",
      "         [0.5731, 0.6136, 0.6316,  ..., 0.3727, 0.3822, 0.3849],\n",
      "         [0.5731, 0.6136, 0.6316,  ..., 0.3727, 0.3822, 0.3849],\n",
      "         [0.5731, 0.6136, 0.6316,  ..., 0.3727, 0.3822, 0.3849]]])\n",
      "  target example:\n",
      " tensor([[0.5236, 0.5355, 0.5416,  ..., 0.4599, 0.4883, 0.4878],\n",
      "        [0.4815, 0.4928, 0.4978,  ..., 0.5126, 0.5369, 0.5338],\n",
      "        [0.2742, 0.1989, 0.1787,  ..., 0.6553, 0.6847, 0.6410],\n",
      "        ...,\n",
      "        [0.4737, 0.4866, 0.4939,  ..., 0.4712, 0.5036, 0.5074],\n",
      "        [0.5015, 0.5122, 0.5169,  ..., 0.4978, 0.5240, 0.5223],\n",
      "        [0.5731, 0.6135, 0.6380,  ..., 0.3434, 0.3875, 0.4094]])\n",
      "\n",
      "샘플 #2\n",
      "  seq shape : torch.Size([32, 5, 64])\n",
      "  masked_pos : tensor([[3],\n",
      "        [3],\n",
      "        [3],\n",
      "        [3],\n",
      "        [3],\n",
      "        [3],\n",
      "        [3],\n",
      "        [3],\n",
      "        [3],\n",
      "        [3],\n",
      "        [3],\n",
      "        [3],\n",
      "        [3],\n",
      "        [3],\n",
      "        [3],\n",
      "        [3],\n",
      "        [3],\n",
      "        [3],\n",
      "        [3],\n",
      "        [3],\n",
      "        [3],\n",
      "        [3],\n",
      "        [3],\n",
      "        [3],\n",
      "        [3],\n",
      "        [3],\n",
      "        [3],\n",
      "        [3],\n",
      "        [3],\n",
      "        [3],\n",
      "        [3],\n",
      "        [3]])\n",
      "  target shape: torch.Size([32, 64])\n",
      "  seq example:\n",
      " tensor([[[0.2797, 0.5521, 0.7639,  ..., 0.3057, 0.1829, 0.2185],\n",
      "         [0.2797, 0.5521, 0.7639,  ..., 0.3057, 0.1829, 0.2185],\n",
      "         [0.2797, 0.5521, 0.7639,  ..., 0.3057, 0.1829, 0.2185],\n",
      "         [0.2475, 0.5068, 0.7431,  ..., 0.3487, 0.2019, 0.1994],\n",
      "         [0.2475, 0.5068, 0.7431,  ..., 0.3487, 0.2019, 0.1994]],\n",
      "\n",
      "        [[0.5269, 0.5388, 0.5392,  ..., 0.4858, 0.4819, 0.4655],\n",
      "         [0.5269, 0.5388, 0.5392,  ..., 0.4858, 0.4819, 0.4655],\n",
      "         [0.5283, 0.5380, 0.5363,  ..., 0.4949, 0.4925, 0.4778],\n",
      "         [0.5381, 0.5516, 0.5536,  ..., 0.4663, 0.4619, 0.4440],\n",
      "         [0.4974, 0.5115, 0.5138,  ..., 0.5063, 0.5000, 0.4820]],\n",
      "\n",
      "        [[0.6250, 0.6895, 0.7311,  ..., 0.4781, 0.4696, 0.4542],\n",
      "         [0.5554, 0.6003, 0.6252,  ..., 0.5922, 0.5680, 0.5378],\n",
      "         [0.6052, 0.6543, 0.6823,  ..., 0.5243, 0.4996, 0.4664],\n",
      "         [0.5992, 0.6119, 0.6085,  ..., 0.5720, 0.5372, 0.4921],\n",
      "         [0.6265, 0.6479, 0.6512,  ..., 0.6207, 0.5837, 0.5370]],\n",
      "\n",
      "        ...,\n",
      "\n",
      "        [[0.5089, 0.5253, 0.5299,  ..., 0.4712, 0.4650, 0.4456],\n",
      "         [0.5308, 0.5445, 0.5467,  ..., 0.4592, 0.4555, 0.4381],\n",
      "         [0.5296, 0.5431, 0.5450,  ..., 0.4612, 0.4576, 0.4404],\n",
      "         [0.4968, 0.5103, 0.5121,  ..., 0.4945, 0.4899, 0.4732],\n",
      "         [0.4738, 0.4868, 0.4881,  ..., 0.5367, 0.5296, 0.5120]],\n",
      "\n",
      "        [[0.5120, 0.5250, 0.5264,  ..., 0.4996, 0.4936, 0.4754],\n",
      "         [0.4757, 0.4894, 0.4912,  ..., 0.5342, 0.5268, 0.5089],\n",
      "         [0.5292, 0.5402, 0.5398,  ..., 0.4872, 0.4834, 0.4669],\n",
      "         [0.5292, 0.5402, 0.5398,  ..., 0.4872, 0.4834, 0.4669],\n",
      "         [0.5292, 0.5402, 0.5398,  ..., 0.4872, 0.4834, 0.4669]],\n",
      "\n",
      "        [[0.5403, 0.5511, 0.5500,  ..., 0.5064, 0.4999, 0.4815],\n",
      "         [0.5092, 0.5209, 0.5211,  ..., 0.4957, 0.4890, 0.4700],\n",
      "         [0.4651, 0.4768, 0.4771,  ..., 0.5265, 0.5153, 0.4930],\n",
      "         [0.4382, 0.4474, 0.4451,  ..., 0.5892, 0.5761, 0.5543],\n",
      "         [0.5480, 0.5516, 0.5442,  ..., 0.5225, 0.5192, 0.5045]]])\n",
      "  target example:\n",
      " tensor([[0.2475, 0.5067, 0.7506,  ..., 0.3192, 0.2087, 0.2312],\n",
      "        [0.5055, 0.5164, 0.5213,  ..., 0.4839, 0.5125, 0.5128],\n",
      "        [0.5712, 0.5862, 0.5900,  ..., 0.5325, 0.5093, 0.4609],\n",
      "        ...,\n",
      "        [0.5054, 0.5185, 0.5256,  ..., 0.4756, 0.5022, 0.5004],\n",
      "        [0.5292, 0.5401, 0.5453,  ..., 0.4586, 0.4878, 0.4881],\n",
      "        [0.5369, 0.5471, 0.5517,  ..., 0.4678, 0.4946, 0.4927]])\n",
      "\n",
      "샘플 #3\n",
      "  seq shape : torch.Size([32, 5, 64])\n",
      "  masked_pos : tensor([[3],\n",
      "        [3],\n",
      "        [3],\n",
      "        [3],\n",
      "        [3],\n",
      "        [3],\n",
      "        [3],\n",
      "        [3],\n",
      "        [3],\n",
      "        [3],\n",
      "        [3],\n",
      "        [3],\n",
      "        [3],\n",
      "        [3],\n",
      "        [3],\n",
      "        [3],\n",
      "        [3],\n",
      "        [3],\n",
      "        [3],\n",
      "        [3],\n",
      "        [3],\n",
      "        [3],\n",
      "        [3],\n",
      "        [3],\n",
      "        [3],\n",
      "        [3],\n",
      "        [3],\n",
      "        [3],\n",
      "        [3],\n",
      "        [3],\n",
      "        [3],\n",
      "        [3]])\n",
      "  target shape: torch.Size([32, 64])\n",
      "  seq example:\n",
      " tensor([[[0.1809, 0.3056, 0.4951,  ..., 0.6495, 0.7670, 0.7705],\n",
      "         [0.1809, 0.3056, 0.4951,  ..., 0.6495, 0.7670, 0.7705],\n",
      "         [0.1809, 0.3056, 0.4951,  ..., 0.6495, 0.7670, 0.7705],\n",
      "         [0.1869, 0.2692, 0.4424,  ..., 0.6109, 0.7176, 0.7416],\n",
      "         [0.1869, 0.2692, 0.4424,  ..., 0.6109, 0.7176, 0.7416]],\n",
      "\n",
      "        [[0.6616, 0.7079, 0.7220,  ..., 0.3172, 0.3436, 0.3594],\n",
      "         [0.6039, 0.6661, 0.6964,  ..., 0.3700, 0.3952, 0.4120],\n",
      "         [0.6389, 0.6941, 0.7186,  ..., 0.3891, 0.4269, 0.4577],\n",
      "         [0.6079, 0.6629, 0.6905,  ..., 0.3787, 0.4157, 0.4422],\n",
      "         [0.6756, 0.7518, 0.7915,  ..., 0.3693, 0.3758, 0.3759]],\n",
      "\n",
      "        [[0.5826, 0.5818, 0.5690,  ..., 0.5524, 0.5367, 0.5106],\n",
      "         [0.5826, 0.5818, 0.5690,  ..., 0.5524, 0.5367, 0.5106],\n",
      "         [0.5826, 0.5818, 0.5690,  ..., 0.5524, 0.5367, 0.5106],\n",
      "         [0.5826, 0.5818, 0.5690,  ..., 0.5524, 0.5367, 0.5106],\n",
      "         [0.5826, 0.5818, 0.5690,  ..., 0.5524, 0.5367, 0.5106]],\n",
      "\n",
      "        ...,\n",
      "\n",
      "        [[0.2677, 0.1803, 0.2568,  ..., 0.7364, 0.5082, 0.2848],\n",
      "         [0.2677, 0.1803, 0.2568,  ..., 0.7364, 0.5082, 0.2848],\n",
      "         [0.2837, 0.1603, 0.2196,  ..., 0.7670, 0.5402, 0.2916],\n",
      "         [0.2837, 0.1603, 0.2196,  ..., 0.7670, 0.5402, 0.2916],\n",
      "         [0.2837, 0.1603, 0.2196,  ..., 0.7670, 0.5402, 0.2916]],\n",
      "\n",
      "        [[0.4938, 0.5039, 0.5028,  ..., 0.4945, 0.4879, 0.4690],\n",
      "         [0.5477, 0.5575, 0.5558,  ..., 0.4786, 0.4777, 0.4640],\n",
      "         [0.5363, 0.5462, 0.5447,  ..., 0.4885, 0.4874, 0.4738],\n",
      "         [0.5240, 0.5345, 0.5335,  ..., 0.4997, 0.4981, 0.4844],\n",
      "         [0.5009, 0.5127, 0.5130,  ..., 0.5131, 0.5078, 0.4909]],\n",
      "\n",
      "        [[0.3444, 0.3402, 0.3310,  ..., 0.5338, 0.5333, 0.5197],\n",
      "         [0.4304, 0.4226, 0.4091,  ..., 0.5818, 0.5795, 0.5649],\n",
      "         [0.4582, 0.4410, 0.4197,  ..., 0.5769, 0.5877, 0.5850],\n",
      "         [0.4315, 0.4184, 0.4011,  ..., 0.5522, 0.5614, 0.5563],\n",
      "         [0.4315, 0.4184, 0.4011,  ..., 0.5522, 0.5614, 0.5563]]])\n",
      "  target example:\n",
      " tensor([[0.3741, 0.4143, 0.5165,  ..., 0.4295, 0.6613, 0.7837],\n",
      "        [0.5983, 0.6212, 0.6260,  ..., 0.3876, 0.4800, 0.5432],\n",
      "        [0.5489, 0.5466, 0.5384,  ..., 0.5232, 0.5352, 0.5205],\n",
      "        ...,\n",
      "        [0.2837, 0.1603, 0.2218,  ..., 0.7401, 0.5441, 0.3198],\n",
      "        [0.4982, 0.5089, 0.5135,  ..., 0.4843, 0.5126, 0.5127],\n",
      "        [0.4315, 0.4183, 0.4052,  ..., 0.5239, 0.5652, 0.5739]])\n",
      "\n",
      "샘플 #4\n",
      "  seq shape : torch.Size([32, 5, 64])\n",
      "  masked_pos : tensor([[3],\n",
      "        [3],\n",
      "        [3],\n",
      "        [3],\n",
      "        [3],\n",
      "        [3],\n",
      "        [3],\n",
      "        [3],\n",
      "        [3],\n",
      "        [3],\n",
      "        [3],\n",
      "        [3],\n",
      "        [3],\n",
      "        [3],\n",
      "        [3],\n",
      "        [3],\n",
      "        [3],\n",
      "        [3],\n",
      "        [3],\n",
      "        [3],\n",
      "        [3],\n",
      "        [3],\n",
      "        [3],\n",
      "        [3],\n",
      "        [3],\n",
      "        [3],\n",
      "        [3],\n",
      "        [3],\n",
      "        [3],\n",
      "        [3],\n",
      "        [3],\n",
      "        [3]])\n",
      "  target shape: torch.Size([32, 64])\n",
      "  seq example:\n",
      " tensor([[[0.5544, 0.5772, 0.5866,  ..., 0.5510, 0.5536, 0.5439],\n",
      "         [0.5735, 0.5775, 0.5698,  ..., 0.6146, 0.6093, 0.5943],\n",
      "         [0.4654, 0.4880, 0.4981,  ..., 0.5476, 0.5453, 0.5312],\n",
      "         [0.6366, 0.6558, 0.6604,  ..., 0.5966, 0.5885, 0.5698],\n",
      "         [0.5438, 0.5536, 0.5493,  ..., 0.6085, 0.5800, 0.5423]],\n",
      "\n",
      "        [[0.4784, 0.5019, 0.5131,  ..., 0.5185, 0.5200, 0.5098],\n",
      "         [0.5156, 0.5401, 0.5519,  ..., 0.5355, 0.5407, 0.5345],\n",
      "         [0.5563, 0.5764, 0.5836,  ..., 0.5764, 0.5798, 0.5729],\n",
      "         [0.5563, 0.5764, 0.5836,  ..., 0.5764, 0.5798, 0.5729],\n",
      "         [0.5563, 0.5764, 0.5836,  ..., 0.5764, 0.5798, 0.5729]],\n",
      "\n",
      "        [[0.8229, 0.7434, 0.5670,  ..., 0.4608, 0.2983, 0.2081],\n",
      "         [0.8229, 0.7434, 0.5670,  ..., 0.4608, 0.2983, 0.2081],\n",
      "         [0.8229, 0.7434, 0.5670,  ..., 0.4608, 0.2983, 0.2081],\n",
      "         [0.8229, 0.7434, 0.5670,  ..., 0.4608, 0.2983, 0.2081],\n",
      "         [0.8229, 0.7434, 0.5670,  ..., 0.4608, 0.2983, 0.2081]],\n",
      "\n",
      "        ...,\n",
      "\n",
      "        [[0.4777, 0.4902, 0.4909,  ..., 0.5343, 0.5282, 0.5114],\n",
      "         [0.4806, 0.4936, 0.4949,  ..., 0.5328, 0.5261, 0.5087],\n",
      "         [0.4794, 0.4915, 0.4919,  ..., 0.5322, 0.5264, 0.5099],\n",
      "         [0.4376, 0.4573, 0.4649,  ..., 0.5013, 0.4930, 0.4730],\n",
      "         [0.4467, 0.4667, 0.4745,  ..., 0.4943, 0.4858, 0.4653]],\n",
      "\n",
      "        [[0.5009, 0.5127, 0.5130,  ..., 0.5131, 0.5078, 0.4909],\n",
      "         [0.4819, 0.4897, 0.4864,  ..., 0.5191, 0.5085, 0.4867],\n",
      "         [0.3842, 0.3959, 0.4065,  ..., 0.6711, 0.6353, 0.5867],\n",
      "         [0.3921, 0.4056, 0.4179,  ..., 0.6658, 0.6326, 0.5864],\n",
      "         [0.4062, 0.4122, 0.4174,  ..., 0.7152, 0.6800, 0.6336]],\n",
      "\n",
      "        [[0.3300, 0.3000, 0.2906,  ..., 0.2239, 0.2682, 0.3250],\n",
      "         [0.4066, 0.3612, 0.3373,  ..., 0.2304, 0.2754, 0.3338],\n",
      "         [0.4159, 0.3842, 0.3720,  ..., 0.2077, 0.2536, 0.3113],\n",
      "         [0.2830, 0.2624, 0.2762,  ..., 0.1466, 0.1573, 0.1954],\n",
      "         [0.3078, 0.2916, 0.3124,  ..., 0.2205, 0.2442, 0.2950]]])\n",
      "  target example:\n",
      " tensor([[0.6387, 0.6581, 0.6689,  ..., 0.5293, 0.5445, 0.5316],\n",
      "        [0.5563, 0.5763, 0.5895,  ..., 0.5483, 0.5834, 0.5899],\n",
      "        [0.7959, 0.7619, 0.6230,  ..., 0.4436, 0.3479, 0.2857],\n",
      "        ...,\n",
      "        [0.4618, 0.4813, 0.4940,  ..., 0.4525, 0.4775, 0.4741],\n",
      "        [0.4081, 0.4210, 0.4374,  ..., 0.6192, 0.6209, 0.5918],\n",
      "        [0.3596, 0.3540, 0.3842,  ..., 0.1591, 0.2013, 0.2568]])\n"
     ]
    }
   ],
   "source": [
    "# 1) train_ds 자체 정보 출력\n",
    "print(train_ds)\n",
    "print(\"전체 샘플 수 (len):\", len(train_loader))\n",
    "\n",
    "# 2) 앞에서 5개 예시 뽑아서 확인\n",
    "for idx, (seq, mpos, tgt) in enumerate(train_loader):\n",
    "    print(f\"\\n샘플 #{idx}\")\n",
    "    print(\"  seq shape :\", seq.shape)    # (seq_len, feat_dim)\n",
    "    print(\"  masked_pos :\", mpos)        # tensor([ ... ])\n",
    "    print(\"  target shape:\", tgt.shape)   # (feat_dim,)\n",
    "    print(\"  seq example:\\n\", seq)        # 실제 값 보기\n",
    "    print(\"  target example:\\n\", tgt)\n",
    "    if idx >= 4:\n",
    "        break\n"
   ]
  },
  {
   "cell_type": "markdown",
   "id": "b3348886",
   "metadata": {},
   "source": [
    "## 이론적 input_size"
   ]
  },
  {
   "cell_type": "code",
   "execution_count": 50,
   "id": "ccebf6ff-5f90-47c7-9f2d-64498d5de98c",
   "metadata": {},
   "outputs": [
    {
     "name": "stdout",
     "output_type": "stream",
     "text": [
      "▶ 이론상 전체 가능 시퀀스: 465280\n",
      "▶ 이론상 Train 최대 샘플: 279168\n",
      "▶ 이론상 Val   최대 샘플: 186112\n"
     ]
    }
   ],
   "source": [
    "# (1) 장면(scene) 수, 시퀀스 길이\n",
    "T = len(dataset)\n",
    "L = 5          # 이제 int!\n",
    "\n",
    "# (2) 사용자 수(U), 서브캐리어 수(S)\n",
    "ch0 = dataset[0][0]['user']['channel']  # shape = (U,1,A,S)\n",
    "U   = ch0.shape[0]\n",
    "S   = ch0.shape[3]\n",
    "\n",
    "# (3) 이론상 최대 시퀀스 수\n",
    "total_possible = (T - L) * U * S\n",
    "\n",
    "# (4) train/val 분할 기준에서 이론상 최대 개수\n",
    "train_max = int(total_possible * split_ratio)\n",
    "val_max   = total_possible - train_max\n",
    "\n",
    "print(f\"▶ 이론상 전체 가능 시퀀스: {total_possible}\")\n",
    "print(f\"▶ 이론상 Train 최대 샘플: {train_max}\")\n",
    "print(f\"▶ 이론상 Val   최대 샘플: {val_max}\")\n"
   ]
  },
  {
   "cell_type": "code",
   "execution_count": 48,
   "id": "ff85e07d",
   "metadata": {},
   "outputs": [
    {
     "name": "stdout",
     "output_type": "stream",
     "text": [
      "▶ 실제 전체 샘플 수: 334272\n",
      "▶ 실제   Train 샘플 수: 200563   → 배치 수: 6268\n",
      "▶ 실제   Val   샘플 수: 133709   → 배치 수: 4179\n"
     ]
    }
   ],
   "source": [
    "import numpy as np\n",
    "\n",
    "# 전체 실제 샘플 수\n",
    "N_total   = X.shape[0]\n",
    "# 실제 train/val 샘플 수\n",
    "N_train   = X_tr.shape[0]\n",
    "N_val     = X_va.shape[0]\n",
    "\n",
    "# 실제 배치 수 (올림)\n",
    "bsize     = batch_size\n",
    "B_train   = int(np.ceil(N_train / bsize))\n",
    "B_val     = int(np.ceil(N_val   / bsize))\n",
    "\n",
    "print(f\"▶ 실제 전체 샘플 수: {N_total}\")\n",
    "print(f\"▶ 실제   Train 샘플 수: {N_train}   → 배치 수: {B_train}\")\n",
    "print(f\"▶ 실제   Val   샘플 수: {N_val}   → 배치 수: {B_val}\")\n"
   ]
  },
  {
   "cell_type": "markdown",
   "id": "4cf6bac8",
   "metadata": {},
   "source": [
    "# 아래 코드 구조\n",
    "┌──────────────────────────────────────────────────────────────┐\n",
    "│ input_ids  (B, seq_len, element_length)  ─┐                 │\n",
    "│ masked_pos (B, num_mask)                  ├─>  LWM backbone │\n",
    "│                                           │    (12-층 트랜스포머)  \n",
    "└────────────────────────────────────────────┘         │\n",
    "            logits_lm  (B, num_mask, element_length)  │   enc_output (B, seq_len, d_model)\n",
    "                                                      ▼\n",
    "                        ┌─[풀링]───────────────┐      ←── feat (B, d_model)\n",
    "                        │ 첫 토큰(0번) 선택    │\n",
    "                        │   or 평균/최대 풀링 │\n",
    "                        └──────────────────────┘\n",
    "                                      ▼\n",
    "                       FC 헤드  (d_model → hidden_dim → out_dim)\n",
    "                                      ▼\n",
    "                                out (B, out_dim)\n",
    "\n",
    "# 시각적비유\n",
    "\n",
    "[패치 프로젝터]──▶[Transformer ×12]──▶[LayerNorm]──┐\n",
    "                                                  ├─▶ 64-차 벡터 (CLS 또는 풀링) ─▶ MLP ─▶ out                                                \n",
    "[Positional Embedding]─────────────────────────────┘\n"
   ]
  },
  {
   "cell_type": "code",
   "execution_count": 57,
   "id": "7d882a4d",
   "metadata": {},
   "outputs": [],
   "source": [
    "\"\"\"\n",
    "LWMWithHead: 사전학습된 LWM(Transformer encoder)을 ‘백본(backbone)’으로 사용하고,\n",
    "그 뒤에 새로운 완전연결(FC) 헤드(head)를 붙여 다운스트림 작업(회귀·분류 등)에\n",
    "사용할 수 있도록 만든 래퍼(wrapper) 클래스입니다.\n",
    "\"\"\"\n",
    "\n",
    "import torch\n",
    "import torch.nn as nn\n",
    "from lwm_model import lwm   # 기존 LWM 모델 클래스 (import 경로는 프로젝트 구조에 맞게 조정)\n",
    "\n",
    "class LWMWithHead(nn.Module):\n",
    "    \"\"\"\n",
    "    Args\n",
    "    ----\n",
    "    element_length : int\n",
    "        LWM 입력 패치의 길이. 예) 64*64 = 4096 (H_real + H_imag)\n",
    "    d_model        : int\n",
    "        Transformer 모델 차원(=LWM hidden size).\n",
    "    max_len        : int\n",
    "        포지셔널 임베딩 최대 길이(시퀀스 길이).\n",
    "    n_layers       : int\n",
    "        Transformer 인코더 층 수.\n",
    "    hidden_dim     : int\n",
    "        새 FC 헤드의 중간 차원.\n",
    "    out_dim        : int\n",
    "        최종 출력 차원. 1 → 회귀/이진분류, k → k-클래스 분류.\n",
    "    freeze_backbone: bool\n",
    "        True면 백본을 동결(freeze)하여 헤드만 학습.\n",
    "    ckpt_path      : str | None\n",
    "        사전학습 가중치(.pth) 경로. None이면 랜덤 초기화.\n",
    "    device         : str\n",
    "        'cuda' / 'cpu' 등 모델을 올릴 장치.\n",
    "    \"\"\"\n",
    "\n",
    "    def __init__(\n",
    "        self,\n",
    "        element_length: int,\n",
    "        d_model: int = 64,\n",
    "        max_len: int = 129,\n",
    "        n_layers: int = 12,\n",
    "        hidden_dim: int = 256,\n",
    "        out_dim: int = 64, \n",
    "        freeze_backbone: bool = False,\n",
    "        ckpt_path: str | None = \"./model_weights.pth\",# path 지정해주기\n",
    "        device: str = \"cuda\",\n",
    "    ):\n",
    "        super().__init__()\n",
    "\n",
    "        # ────────────────────────────\n",
    "        # 1) 백본(backbone) 초기화\n",
    "        # ────────────────────────────\n",
    "        if ckpt_path is None:\n",
    "            # 가중치 없이 새로 생성\n",
    "            self.backbone = lwm(\n",
    "                element_length=element_length,\n",
    "                d_model=d_model,\n",
    "                max_len=max_len,\n",
    "                n_layers=n_layers\n",
    "            ).to(device)\n",
    "        else:\n",
    "            # 사전학습 가중치 로드\n",
    "            self.backbone = lwm.from_pretrained(\n",
    "                ckpt_name=ckpt_path,\n",
    "                device=device\n",
    "            )\n",
    "\n",
    "        # 백본 동결(선택)\n",
    "        if freeze_backbone:\n",
    "            for p in self.backbone.parameters():\n",
    "                p.requires_grad = False\n",
    "\n",
    "        # ────────────────────────────\n",
    "        # 2) 헤드(head) 정의\n",
    "        # ────────────────────────────\n",
    "        self.head = nn.Sequential(\n",
    "            nn.Linear(d_model, 64),  # 첫 FC\n",
    "            nn.ReLU(),                       # 활성화\n",
    "            nn.Linear(64, out_dim)   # 최종 FC\n",
    "        )\n",
    "\n",
    "    # ────────────────────────────\n",
    "    # forward\n",
    "    # ────────────────────────────\n",
    "    def forward(self, input_ids, masked_pos):\n",
    "        \"\"\"\n",
    "        Parameters\n",
    "        ----------\n",
    "        input_ids : Tensor  (B, seq_len, element_length)\n",
    "            LWM 입력 시퀀스 (패치/토큰 단위 실수·복소수 채널값 등).\n",
    "        masked_pos : Tensor  (B, num_mask)\n",
    "            LWM의 마스크드 채널 모델링용 인덱스 (백본 규격 유지용).\n",
    "\n",
    "        Returns\n",
    "        -------\n",
    "        out : Tensor  (B, out_dim)\n",
    "            헤드에서 계산된 다운스트림 작업용 로짓/예측값.\n",
    "        \"\"\"\n",
    "\n",
    "        # 기존 LWM forward:\n",
    "        #   logits_lm : (B, num_mask, element_length)  ← 사용 안 함\n",
    "        #   enc_output: (B, seq_len, d_model)\n",
    "        _, enc_output = self.backbone(input_ids, masked_pos)\n",
    "\n",
    "        # 특징 추출(feat)\n",
    "        # ① 첫 토큰 벡터 사용 (CLS 개념) ─────────────\n",
    "        feat = enc_output[:, 0, :]           # (B, d_model)\n",
    "\n",
    "        # ② 평균 풀링 예시 (필요 시 주석 해제) ─────\n",
    "        # feat = enc_output.mean(dim=1)       # (B, d_model)\n",
    "\n",
    "        # ③ Max 풀링 예시 (필요 시 주석 해제) ─────\n",
    "        # feat, _ = enc_output.max(dim=1)     # (B, d_model)\n",
    "\n",
    "        # 헤드 통과 → 최종 출력\n",
    "        out = self.head(feat)                # (B, out_dim)\n",
    "        return out\n"
   ]
  },
  {
   "cell_type": "code",
   "execution_count": 53,
   "id": "bd8b8d93",
   "metadata": {},
   "outputs": [
    {
     "ename": "AttributeError",
     "evalue": "'TensorDataset' object has no attribute 'U'",
     "output_type": "error",
     "traceback": [
      "\u001b[1;31m---------------------------------------------------------------------------\u001b[0m",
      "\u001b[1;31mAttributeError\u001b[0m                            Traceback (most recent call last)",
      "Cell \u001b[1;32mIn[53], line 1\u001b[0m\n\u001b[1;32m----> 1\u001b[0m \u001b[38;5;28mprint\u001b[39m(train_ds\u001b[38;5;241m.\u001b[39mU)\n",
      "\u001b[1;31mAttributeError\u001b[0m: 'TensorDataset' object has no attribute 'U'"
     ]
    }
   ],
   "source": [
    "# print(train_ds.U)"
   ]
  },
  {
   "cell_type": "markdown",
   "id": "0f3cec5b",
   "metadata": {},
   "source": [
    "## input_size\n",
    "-input_size = (scene - seq_len) * U * S -> (10-5)+69040*64 = 22092800  \n",
    "-batch_size = 32  \n",
    "-배치 수 = input_size / batch_size = 690400배치"
   ]
  },
  {
   "cell_type": "code",
   "execution_count": 55,
   "id": "71886e01",
   "metadata": {},
   "outputs": [
    {
     "ename": "AttributeError",
     "evalue": "'TensorDataset' object has no attribute 'U'",
     "output_type": "error",
     "traceback": [
      "\u001b[1;31m---------------------------------------------------------------------------\u001b[0m",
      "\u001b[1;31mAttributeError\u001b[0m                            Traceback (most recent call last)",
      "Cell \u001b[1;32mIn[55], line 10\u001b[0m\n\u001b[0;32m      8\u001b[0m \u001b[38;5;66;03m# 2) 씬 개수(T), 사용자 수(U), 서브캐리어 수(S)\u001b[39;00m\n\u001b[0;32m      9\u001b[0m T \u001b[38;5;241m=\u001b[39m \u001b[38;5;28mlen\u001b[39m(dataset)               \u001b[38;5;66;03m# 전체 씬 개수, 여기선 10\u001b[39;00m\n\u001b[1;32m---> 10\u001b[0m U \u001b[38;5;241m=\u001b[39m train_ds\u001b[38;5;241m.\u001b[39mU                 \u001b[38;5;66;03m# 한 씬당 사용자 수\u001b[39;00m\n\u001b[0;32m     11\u001b[0m S \u001b[38;5;241m=\u001b[39m train_ds\u001b[38;5;241m.\u001b[39mS                 \u001b[38;5;66;03m# 한 사용자당 서브캐리어 수\u001b[39;00m\n\u001b[0;32m     13\u001b[0m \u001b[38;5;66;03m# 3) 총 샘플 수 = (T - seq_len) × U × S\u001b[39;00m\n",
      "\u001b[1;31mAttributeError\u001b[0m: 'TensorDataset' object has no attribute 'U'"
     ]
    }
   ],
   "source": [
    "# # ──────────────────────────────────────────────────\n",
    "# # input_size 계산 및 출력\n",
    "# # ──────────────────────────────────────────────────\n",
    "\n",
    "# # 1) 시퀀스 길이\n",
    "# seq_len = 5      # 보통 5\n",
    "\n",
    "# # 2) 씬 개수(T), 사용자 수(U), 서브캐리어 수(S)\n",
    "# T = len(dataset)               # 전체 씬 개수, 여기선 10\n",
    "# U = train_ds.U                 # 한 씬당 사용자 수\n",
    "# S = train_ds.S                 # 한 사용자당 서브캐리어 수\n",
    "\n",
    "# # 3) 총 샘플 수 = (T - seq_len) × U × S\n",
    "# input_size = (T - seq_len) * U * S\n",
    "\n",
    "# # 4) 배치 수\n",
    "# batch_size = 32  # 이미 설정한 값\n",
    "# n_batches = input_size // batch_size + int(input_size % batch_size != 0)\n",
    "\n",
    "# print(f\"→ total samples (input_size): {input_size}\")\n",
    "# print(f\"→ batch size: {batch_size}\")\n",
    "# print(f\"→ total batches: {n_batches}\")\n"
   ]
  },
  {
   "cell_type": "code",
   "execution_count": 58,
   "id": "b37383cc",
   "metadata": {},
   "outputs": [
    {
     "name": "stdout",
     "output_type": "stream",
     "text": [
      "Using device: cuda\n"
     ]
    }
   ],
   "source": [
    "import torch\n",
    "import torch.nn as nn\n",
    "from torch.optim import Adam\n",
    "\n",
    "# 디바이스 설정(GPU/CPU)\n",
    "device = torch.device(\"cuda\" if torch.cuda.is_available() else \"cpu\")\n",
    "print(f\"Using device: {device}\")\n",
    "\n",
    "_, L, D = X_tr_s.shape\n",
    "\n",
    "# 모델 초기화\n",
    "seq_len        = L\n",
    "element_length = D\n",
    "hidden_dim = 256\n",
    "\n",
    "\n",
    "model = LWMWithHead(\n",
    "    element_length=element_length,  # 예: 64\n",
    "    d_model=64,\n",
    "    max_len=seq_len,                # 예: 5\n",
    "    n_layers=12,\n",
    "    hidden_dim=hidden_dim,\n",
    "    out_dim=element_length,         # 예: 64\n",
    "    freeze_backbone=False,  \n",
    "    ckpt_path=None,  \n",
    "    device=device\n",
    ").to(device)\n",
    "\n",
    "# 손실함수\n",
    "criterion = nn.MSELoss()\n",
    "\n",
    "# 옵티마이저 설정\n",
    "optimizer = Adam(model.parameters(), lr=1e-4)"
   ]
  },
  {
   "cell_type": "code",
   "execution_count": 59,
   "id": "47b92345-e8e1-4683-a722-ff290e5d0644",
   "metadata": {},
   "outputs": [
    {
     "name": "stdout",
     "output_type": "stream",
     "text": [
      "Backbone requires_grad flags:\n",
      "  decoder_bias                            : True\n",
      "  embedding.proj.weight                   : True\n",
      "  embedding.proj.bias                     : True\n",
      "  embedding.pos_embed.weight              : True\n",
      "  embedding.norm.alpha                    : True\n",
      "  embedding.norm.bias                     : True\n",
      "  layers.0.enc_self_attn.W_Q.weight       : True\n",
      "  layers.0.enc_self_attn.W_Q.bias         : True\n",
      "  layers.0.enc_self_attn.W_K.weight       : True\n",
      "  layers.0.enc_self_attn.W_K.bias         : True\n",
      "  layers.0.enc_self_attn.W_V.weight       : True\n",
      "  layers.0.enc_self_attn.W_V.bias         : True\n",
      "  layers.0.enc_self_attn.linear.weight    : True\n",
      "  layers.0.enc_self_attn.linear.bias      : True\n",
      "  layers.0.enc_self_attn.norm.alpha       : True\n",
      "  layers.0.enc_self_attn.norm.bias        : True\n",
      "  layers.0.pos_ffn.fc1.weight             : True\n",
      "  layers.0.pos_ffn.fc1.bias               : True\n",
      "  layers.0.pos_ffn.fc2.weight             : True\n",
      "  layers.0.pos_ffn.fc2.bias               : True\n",
      "  layers.0.pos_ffn.norm.alpha             : True\n",
      "  layers.0.pos_ffn.norm.bias              : True\n",
      "  layers.0.norm.alpha                     : True\n",
      "  layers.0.norm.bias                      : True\n",
      "  layers.1.enc_self_attn.W_Q.weight       : True\n",
      "  layers.1.enc_self_attn.W_Q.bias         : True\n",
      "  layers.1.enc_self_attn.W_K.weight       : True\n",
      "  layers.1.enc_self_attn.W_K.bias         : True\n",
      "  layers.1.enc_self_attn.W_V.weight       : True\n",
      "  layers.1.enc_self_attn.W_V.bias         : True\n",
      "  layers.1.enc_self_attn.linear.weight    : True\n",
      "  layers.1.enc_self_attn.linear.bias      : True\n",
      "  layers.1.enc_self_attn.norm.alpha       : True\n",
      "  layers.1.enc_self_attn.norm.bias        : True\n",
      "  layers.1.pos_ffn.fc1.weight             : True\n",
      "  layers.1.pos_ffn.fc1.bias               : True\n",
      "  layers.1.pos_ffn.fc2.weight             : True\n",
      "  layers.1.pos_ffn.fc2.bias               : True\n",
      "  layers.1.pos_ffn.norm.alpha             : True\n",
      "  layers.1.pos_ffn.norm.bias              : True\n",
      "  layers.1.norm.alpha                     : True\n",
      "  layers.1.norm.bias                      : True\n",
      "  layers.2.enc_self_attn.W_Q.weight       : True\n",
      "  layers.2.enc_self_attn.W_Q.bias         : True\n",
      "  layers.2.enc_self_attn.W_K.weight       : True\n",
      "  layers.2.enc_self_attn.W_K.bias         : True\n",
      "  layers.2.enc_self_attn.W_V.weight       : True\n",
      "  layers.2.enc_self_attn.W_V.bias         : True\n",
      "  layers.2.enc_self_attn.linear.weight    : True\n",
      "  layers.2.enc_self_attn.linear.bias      : True\n",
      "  layers.2.enc_self_attn.norm.alpha       : True\n",
      "  layers.2.enc_self_attn.norm.bias        : True\n",
      "  layers.2.pos_ffn.fc1.weight             : True\n",
      "  layers.2.pos_ffn.fc1.bias               : True\n",
      "  layers.2.pos_ffn.fc2.weight             : True\n",
      "  layers.2.pos_ffn.fc2.bias               : True\n",
      "  layers.2.pos_ffn.norm.alpha             : True\n",
      "  layers.2.pos_ffn.norm.bias              : True\n",
      "  layers.2.norm.alpha                     : True\n",
      "  layers.2.norm.bias                      : True\n",
      "  layers.3.enc_self_attn.W_Q.weight       : True\n",
      "  layers.3.enc_self_attn.W_Q.bias         : True\n",
      "  layers.3.enc_self_attn.W_K.weight       : True\n",
      "  layers.3.enc_self_attn.W_K.bias         : True\n",
      "  layers.3.enc_self_attn.W_V.weight       : True\n",
      "  layers.3.enc_self_attn.W_V.bias         : True\n",
      "  layers.3.enc_self_attn.linear.weight    : True\n",
      "  layers.3.enc_self_attn.linear.bias      : True\n",
      "  layers.3.enc_self_attn.norm.alpha       : True\n",
      "  layers.3.enc_self_attn.norm.bias        : True\n",
      "  layers.3.pos_ffn.fc1.weight             : True\n",
      "  layers.3.pos_ffn.fc1.bias               : True\n",
      "  layers.3.pos_ffn.fc2.weight             : True\n",
      "  layers.3.pos_ffn.fc2.bias               : True\n",
      "  layers.3.pos_ffn.norm.alpha             : True\n",
      "  layers.3.pos_ffn.norm.bias              : True\n",
      "  layers.3.norm.alpha                     : True\n",
      "  layers.3.norm.bias                      : True\n",
      "  layers.4.enc_self_attn.W_Q.weight       : True\n",
      "  layers.4.enc_self_attn.W_Q.bias         : True\n",
      "  layers.4.enc_self_attn.W_K.weight       : True\n",
      "  layers.4.enc_self_attn.W_K.bias         : True\n",
      "  layers.4.enc_self_attn.W_V.weight       : True\n",
      "  layers.4.enc_self_attn.W_V.bias         : True\n",
      "  layers.4.enc_self_attn.linear.weight    : True\n",
      "  layers.4.enc_self_attn.linear.bias      : True\n",
      "  layers.4.enc_self_attn.norm.alpha       : True\n",
      "  layers.4.enc_self_attn.norm.bias        : True\n",
      "  layers.4.pos_ffn.fc1.weight             : True\n",
      "  layers.4.pos_ffn.fc1.bias               : True\n",
      "  layers.4.pos_ffn.fc2.weight             : True\n",
      "  layers.4.pos_ffn.fc2.bias               : True\n",
      "  layers.4.pos_ffn.norm.alpha             : True\n",
      "  layers.4.pos_ffn.norm.bias              : True\n",
      "  layers.4.norm.alpha                     : True\n",
      "  layers.4.norm.bias                      : True\n",
      "  layers.5.enc_self_attn.W_Q.weight       : True\n",
      "  layers.5.enc_self_attn.W_Q.bias         : True\n",
      "  layers.5.enc_self_attn.W_K.weight       : True\n",
      "  layers.5.enc_self_attn.W_K.bias         : True\n",
      "  layers.5.enc_self_attn.W_V.weight       : True\n",
      "  layers.5.enc_self_attn.W_V.bias         : True\n",
      "  layers.5.enc_self_attn.linear.weight    : True\n",
      "  layers.5.enc_self_attn.linear.bias      : True\n",
      "  layers.5.enc_self_attn.norm.alpha       : True\n",
      "  layers.5.enc_self_attn.norm.bias        : True\n",
      "  layers.5.pos_ffn.fc1.weight             : True\n",
      "  layers.5.pos_ffn.fc1.bias               : True\n",
      "  layers.5.pos_ffn.fc2.weight             : True\n",
      "  layers.5.pos_ffn.fc2.bias               : True\n",
      "  layers.5.pos_ffn.norm.alpha             : True\n",
      "  layers.5.pos_ffn.norm.bias              : True\n",
      "  layers.5.norm.alpha                     : True\n",
      "  layers.5.norm.bias                      : True\n",
      "  layers.6.enc_self_attn.W_Q.weight       : True\n",
      "  layers.6.enc_self_attn.W_Q.bias         : True\n",
      "  layers.6.enc_self_attn.W_K.weight       : True\n",
      "  layers.6.enc_self_attn.W_K.bias         : True\n",
      "  layers.6.enc_self_attn.W_V.weight       : True\n",
      "  layers.6.enc_self_attn.W_V.bias         : True\n",
      "  layers.6.enc_self_attn.linear.weight    : True\n",
      "  layers.6.enc_self_attn.linear.bias      : True\n",
      "  layers.6.enc_self_attn.norm.alpha       : True\n",
      "  layers.6.enc_self_attn.norm.bias        : True\n",
      "  layers.6.pos_ffn.fc1.weight             : True\n",
      "  layers.6.pos_ffn.fc1.bias               : True\n",
      "  layers.6.pos_ffn.fc2.weight             : True\n",
      "  layers.6.pos_ffn.fc2.bias               : True\n",
      "  layers.6.pos_ffn.norm.alpha             : True\n",
      "  layers.6.pos_ffn.norm.bias              : True\n",
      "  layers.6.norm.alpha                     : True\n",
      "  layers.6.norm.bias                      : True\n",
      "  layers.7.enc_self_attn.W_Q.weight       : True\n",
      "  layers.7.enc_self_attn.W_Q.bias         : True\n",
      "  layers.7.enc_self_attn.W_K.weight       : True\n",
      "  layers.7.enc_self_attn.W_K.bias         : True\n",
      "  layers.7.enc_self_attn.W_V.weight       : True\n",
      "  layers.7.enc_self_attn.W_V.bias         : True\n",
      "  layers.7.enc_self_attn.linear.weight    : True\n",
      "  layers.7.enc_self_attn.linear.bias      : True\n",
      "  layers.7.enc_self_attn.norm.alpha       : True\n",
      "  layers.7.enc_self_attn.norm.bias        : True\n",
      "  layers.7.pos_ffn.fc1.weight             : True\n",
      "  layers.7.pos_ffn.fc1.bias               : True\n",
      "  layers.7.pos_ffn.fc2.weight             : True\n",
      "  layers.7.pos_ffn.fc2.bias               : True\n",
      "  layers.7.pos_ffn.norm.alpha             : True\n",
      "  layers.7.pos_ffn.norm.bias              : True\n",
      "  layers.7.norm.alpha                     : True\n",
      "  layers.7.norm.bias                      : True\n",
      "  layers.8.enc_self_attn.W_Q.weight       : True\n",
      "  layers.8.enc_self_attn.W_Q.bias         : True\n",
      "  layers.8.enc_self_attn.W_K.weight       : True\n",
      "  layers.8.enc_self_attn.W_K.bias         : True\n",
      "  layers.8.enc_self_attn.W_V.weight       : True\n",
      "  layers.8.enc_self_attn.W_V.bias         : True\n",
      "  layers.8.enc_self_attn.linear.weight    : True\n",
      "  layers.8.enc_self_attn.linear.bias      : True\n",
      "  layers.8.enc_self_attn.norm.alpha       : True\n",
      "  layers.8.enc_self_attn.norm.bias        : True\n",
      "  layers.8.pos_ffn.fc1.weight             : True\n",
      "  layers.8.pos_ffn.fc1.bias               : True\n",
      "  layers.8.pos_ffn.fc2.weight             : True\n",
      "  layers.8.pos_ffn.fc2.bias               : True\n",
      "  layers.8.pos_ffn.norm.alpha             : True\n",
      "  layers.8.pos_ffn.norm.bias              : True\n",
      "  layers.8.norm.alpha                     : True\n",
      "  layers.8.norm.bias                      : True\n",
      "  layers.9.enc_self_attn.W_Q.weight       : True\n",
      "  layers.9.enc_self_attn.W_Q.bias         : True\n",
      "  layers.9.enc_self_attn.W_K.weight       : True\n",
      "  layers.9.enc_self_attn.W_K.bias         : True\n",
      "  layers.9.enc_self_attn.W_V.weight       : True\n",
      "  layers.9.enc_self_attn.W_V.bias         : True\n",
      "  layers.9.enc_self_attn.linear.weight    : True\n",
      "  layers.9.enc_self_attn.linear.bias      : True\n",
      "  layers.9.enc_self_attn.norm.alpha       : True\n",
      "  layers.9.enc_self_attn.norm.bias        : True\n",
      "  layers.9.pos_ffn.fc1.weight             : True\n",
      "  layers.9.pos_ffn.fc1.bias               : True\n",
      "  layers.9.pos_ffn.fc2.weight             : True\n",
      "  layers.9.pos_ffn.fc2.bias               : True\n",
      "  layers.9.pos_ffn.norm.alpha             : True\n",
      "  layers.9.pos_ffn.norm.bias              : True\n",
      "  layers.9.norm.alpha                     : True\n",
      "  layers.9.norm.bias                      : True\n",
      "  layers.10.enc_self_attn.W_Q.weight      : True\n",
      "  layers.10.enc_self_attn.W_Q.bias        : True\n",
      "  layers.10.enc_self_attn.W_K.weight      : True\n",
      "  layers.10.enc_self_attn.W_K.bias        : True\n",
      "  layers.10.enc_self_attn.W_V.weight      : True\n",
      "  layers.10.enc_self_attn.W_V.bias        : True\n",
      "  layers.10.enc_self_attn.linear.weight   : True\n",
      "  layers.10.enc_self_attn.linear.bias     : True\n",
      "  layers.10.enc_self_attn.norm.alpha      : True\n",
      "  layers.10.enc_self_attn.norm.bias       : True\n",
      "  layers.10.pos_ffn.fc1.weight            : True\n",
      "  layers.10.pos_ffn.fc1.bias              : True\n",
      "  layers.10.pos_ffn.fc2.weight            : True\n",
      "  layers.10.pos_ffn.fc2.bias              : True\n",
      "  layers.10.pos_ffn.norm.alpha            : True\n",
      "  layers.10.pos_ffn.norm.bias             : True\n",
      "  layers.10.norm.alpha                    : True\n",
      "  layers.10.norm.bias                     : True\n",
      "  layers.11.enc_self_attn.W_Q.weight      : True\n",
      "  layers.11.enc_self_attn.W_Q.bias        : True\n",
      "  layers.11.enc_self_attn.W_K.weight      : True\n",
      "  layers.11.enc_self_attn.W_K.bias        : True\n",
      "  layers.11.enc_self_attn.W_V.weight      : True\n",
      "  layers.11.enc_self_attn.W_V.bias        : True\n",
      "  layers.11.enc_self_attn.linear.weight   : True\n",
      "  layers.11.enc_self_attn.linear.bias     : True\n",
      "  layers.11.enc_self_attn.norm.alpha      : True\n",
      "  layers.11.enc_self_attn.norm.bias       : True\n",
      "  layers.11.pos_ffn.fc1.weight            : True\n",
      "  layers.11.pos_ffn.fc1.bias              : True\n",
      "  layers.11.pos_ffn.fc2.weight            : True\n",
      "  layers.11.pos_ffn.fc2.bias              : True\n",
      "  layers.11.pos_ffn.norm.alpha            : True\n",
      "  layers.11.pos_ffn.norm.bias             : True\n",
      "  layers.11.norm.alpha                    : True\n",
      "  layers.11.norm.bias                     : True\n",
      "  linear.weight                           : True\n",
      "  linear.bias                             : True\n",
      "  norm.alpha                              : True\n",
      "  norm.bias                               : True\n",
      "  decoder.weight                          : True\n",
      "\n",
      "→ Is backbone fully frozen? False\n"
     ]
    }
   ],
   "source": [
    "# model: LWMWithHead 인스턴스\n",
    "print(\"Backbone requires_grad flags:\")\n",
    "for name, param in model.backbone.named_parameters():\n",
    "    print(f\"  {name:40s}: {param.requires_grad}\")\n",
    "\n",
    "# 또한 전체가 동결됐는지 한 줄로 요약하려면:\n",
    "all_frozen = all(not p.requires_grad for p in model.backbone.parameters())\n",
    "print(f\"\\n→ Is backbone fully frozen? {all_frozen}\")\n"
   ]
  },
  {
   "cell_type": "code",
   "execution_count": 60,
   "id": "a6a78d36",
   "metadata": {},
   "outputs": [],
   "source": [
    "# 모델 평가 함수\n",
    "import torch\n",
    "import torch.nn.functional as F\n",
    "\n",
    "# ─────────────────────────────────────────\n",
    "# 1. 배치 단위 RMSE, NMSE 함수\n",
    "# ─────────────────────────────────────────\n",
    "def rmse(pred: torch.Tensor, target: torch.Tensor) -> torch.Tensor:\n",
    "    \"\"\"\n",
    "    Root-Mean-Squared Error\n",
    "    returns: 스칼라 (배치 평균)\n",
    "    \"\"\"\n",
    "    return torch.sqrt(F.mse_loss(pred, target, reduction=\"mean\"))   # √MSE\n",
    "\n",
    "def nmse(pred: torch.Tensor, target: torch.Tensor, eps : float = 1e-12) -> torch.Tensor:\n",
    "    \"\"\"\n",
    "    Normalized MSE  =  E[‖ŷ − y‖²] / E[‖y‖²]\n",
    "      · 채널 예측 분야에서 흔히 쓰는 지표\n",
    "    returns: 스칼라 (배치 평균)\n",
    "    \"\"\"\n",
    "    # (B, …) → (B,)  : 각 샘플별 제곱합\n",
    "    mse_per_sample   = ((pred - target)**2).view(pred.size(0), -1).sum(dim=1)\n",
    "    power_per_sample = (target**2).view(target.size(0), -1).sum(dim=1) + eps\n",
    "    return (mse_per_sample / power_per_sample).mean()\n",
    "\n",
    "\n",
    "# ─────────────────────────────────────────\n",
    "# 2. 검증 루프 예시\n",
    "# ─────────────────────────────────────────\n",
    "def evaluate(model, loader, device=\"cuda\"):\n",
    "    \"\"\"\n",
    "    Validation loop for IterableDataset.\n",
    "    Returns average RMSE and NMSE over all samples.\n",
    "    \"\"\"\n",
    "    model.eval()\n",
    "    total_rmse, total_nmse, total_samples = 0.0, 0.0, 0\n",
    "\n",
    "    with torch.no_grad():\n",
    "        for input_ids, masked_pos, target in loader:\n",
    "            # Move to device\n",
    "            input_ids, masked_pos, target = (\n",
    "                input_ids.to(device),\n",
    "                masked_pos.to(device),\n",
    "                target.to(device),\n",
    "            )\n",
    "            # Batch size\n",
    "            bs = input_ids.size(0)\n",
    "\n",
    "            # Forward\n",
    "            pred = model(input_ids, masked_pos)\n",
    "\n",
    "            # Accumulate batch metrics\n",
    "            total_rmse    += rmse(pred, target).item() * bs\n",
    "            total_nmse    += nmse(pred, target).item() * bs\n",
    "            total_samples += bs\n",
    "\n",
    "    # Compute averages\n",
    "    return {\n",
    "        \"RMSE\": total_rmse / total_samples,\n",
    "        \"NMSE\": total_nmse / total_samples\n",
    "    }\n",
    "\n"
   ]
  },
  {
   "cell_type": "markdown",
   "id": "8a06b20a",
   "metadata": {},
   "source": [
    "# model training"
   ]
  },
  {
   "cell_type": "code",
   "execution_count": 61,
   "id": "1f7ce629",
   "metadata": {},
   "outputs": [
    {
     "name": "stderr",
     "output_type": "stream",
     "text": [
      "                                                                                                                       \r"
     ]
    },
    {
     "name": "stdout",
     "output_type": "stream",
     "text": [
      "[01/10] Train Loss: 0.0059  Val RMSE: 0.0400  Val NMSE: 8.1233e-03  Val NMSE_dB: -20.9 dB\n"
     ]
    },
    {
     "name": "stderr",
     "output_type": "stream",
     "text": [
      "                                                                                                                       \r"
     ]
    },
    {
     "name": "stdout",
     "output_type": "stream",
     "text": [
      "[02/10] Train Loss: 0.0022  Val RMSE: 0.0374  Val NMSE: 7.4469e-03  Val NMSE_dB: -21.3 dB\n"
     ]
    },
    {
     "name": "stderr",
     "output_type": "stream",
     "text": [
      "                                                                                                                       \r"
     ]
    },
    {
     "name": "stdout",
     "output_type": "stream",
     "text": [
      "[03/10] Train Loss: 0.0020  Val RMSE: 0.0370  Val NMSE: 7.2694e-03  Val NMSE_dB: -21.4 dB\n"
     ]
    },
    {
     "name": "stderr",
     "output_type": "stream",
     "text": [
      "                                                                                                                       \r"
     ]
    },
    {
     "name": "stdout",
     "output_type": "stream",
     "text": [
      "[04/10] Train Loss: 0.0019  Val RMSE: 0.0372  Val NMSE: 7.2768e-03  Val NMSE_dB: -21.4 dB\n"
     ]
    },
    {
     "name": "stderr",
     "output_type": "stream",
     "text": [
      "                                                                                                                       \r"
     ]
    },
    {
     "name": "stdout",
     "output_type": "stream",
     "text": [
      "[05/10] Train Loss: 0.0017  Val RMSE: 0.0354  Val NMSE: 6.8280e-03  Val NMSE_dB: -21.7 dB\n"
     ]
    },
    {
     "name": "stderr",
     "output_type": "stream",
     "text": [
      "                                                                                                                       \r"
     ]
    },
    {
     "name": "stdout",
     "output_type": "stream",
     "text": [
      "[06/10] Train Loss: 0.0016  Val RMSE: 0.0348  Val NMSE: 6.7449e-03  Val NMSE_dB: -21.7 dB\n"
     ]
    },
    {
     "name": "stderr",
     "output_type": "stream",
     "text": [
      "                                                                                                                       \r"
     ]
    },
    {
     "name": "stdout",
     "output_type": "stream",
     "text": [
      "[07/10] Train Loss: 0.0015  Val RMSE: 0.0344  Val NMSE: 6.7228e-03  Val NMSE_dB: -21.7 dB\n"
     ]
    },
    {
     "name": "stderr",
     "output_type": "stream",
     "text": [
      "                                                                                                                       \r"
     ]
    },
    {
     "name": "stdout",
     "output_type": "stream",
     "text": [
      "[08/10] Train Loss: 0.0014  Val RMSE: 0.0341  Val NMSE: 6.6257e-03  Val NMSE_dB: -21.8 dB\n"
     ]
    },
    {
     "name": "stderr",
     "output_type": "stream",
     "text": [
      "                                                                                                                       \r"
     ]
    },
    {
     "name": "stdout",
     "output_type": "stream",
     "text": [
      "[09/10] Train Loss: 0.0013  Val RMSE: 0.0343  Val NMSE: 6.7114e-03  Val NMSE_dB: -21.7 dB\n"
     ]
    },
    {
     "name": "stderr",
     "output_type": "stream",
     "text": [
      "                                                                                                                       \r"
     ]
    },
    {
     "name": "stdout",
     "output_type": "stream",
     "text": [
      "[10/10] Train Loss: 0.0012  Val RMSE: 0.0338  Val NMSE: 6.6533e-03  Val NMSE_dB: -21.8 dB\n",
      "Total training time: 4898.19s\n"
     ]
    }
   ],
   "source": [
    "from tqdm import tqdm\n",
    "import time, torch\n",
    "\n",
    "num_epochs   = 10                      # 원하는 epoch 수\n",
    "start_time   = time.time()\n",
    "\n",
    "for epoch in range(1, num_epochs+1):\n",
    "\n",
    "    # ① TRAIN ────────────────────────────────\n",
    "    model.train()\n",
    "    run_loss = 0.0\n",
    "\n",
    "    tq = tqdm(train_loader, desc=f\"[{epoch:02d}/{num_epochs}] train\", leave=False)\n",
    "    for b, (inp, mpos, tgt) in enumerate(tq, 1):\n",
    "        inp, mpos, tgt = inp.to(device), mpos.to(device), tgt.to(device)\n",
    "\n",
    "        optimizer.zero_grad()\n",
    "        pred  = model(inp, mpos).squeeze(-1)\n",
    "        loss  = criterion(pred, tgt)\n",
    "        loss.backward()\n",
    "        optimizer.step()\n",
    "\n",
    "        run_loss += loss.item()\n",
    "        if b % 100 == 0:                   # 100 배치마다 진행바에 표시\n",
    "            tq.set_postfix(loss=run_loss/b)\n",
    "\n",
    "    avg_train_loss = run_loss / b\n",
    "\n",
    "    # ② VALID ────────────────────────────────\n",
    "    metrics   = evaluate(model, val_loader, device)\n",
    "    val_rmse  = metrics[\"RMSE\"]\n",
    "    val_nmse  = metrics[\"NMSE\"]\n",
    "    val_nmse_db = 10 * torch.log10(torch.tensor(val_nmse)).item()\n",
    "\n",
    "    print(\n",
    "    f\"[{epoch:02d}/{num_epochs}] \"\n",
    "    f\"Train Loss: {avg_train_loss:.4f}  \"\n",
    "    f\"Val RMSE: {val_rmse:.4f}  \"\n",
    "    f\"Val NMSE: {val_nmse:.4e}  \"\n",
    "    f\"Val NMSE_dB: {val_nmse_db:.1f} dB\"\n",
    ")\n",
    "print(f\"Total training time: {time.time() - start_time:.2f}s\")"
   ]
  },
  {
   "cell_type": "code",
   "execution_count": null,
   "id": "5e7b169d",
   "metadata": {},
   "outputs": [],
   "source": []
  },
  {
   "cell_type": "code",
   "execution_count": null,
   "id": "f6932b03",
   "metadata": {},
   "outputs": [],
   "source": []
  },
  {
   "cell_type": "code",
   "execution_count": null,
   "id": "b5a9fbc8",
   "metadata": {},
   "outputs": [],
   "source": []
  }
 ],
 "metadata": {
  "kernelspec": {
   "display_name": "Python 3 (ipykernel)",
   "language": "python",
   "name": "python3"
  },
  "language_info": {
   "codemirror_mode": {
    "name": "ipython",
    "version": 3
   },
   "file_extension": ".py",
   "mimetype": "text/x-python",
   "name": "python",
   "nbconvert_exporter": "python",
   "pygments_lexer": "ipython3",
   "version": "3.12.7"
  }
 },
 "nbformat": 4,
 "nbformat_minor": 5
}
