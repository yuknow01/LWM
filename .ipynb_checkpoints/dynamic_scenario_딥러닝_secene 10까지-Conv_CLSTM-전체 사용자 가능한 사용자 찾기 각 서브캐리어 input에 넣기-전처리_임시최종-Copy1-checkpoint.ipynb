{
 "cells": [
  {
   "cell_type": "markdown",
   "id": "eeacb7fd",
   "metadata": {},
   "source": [
    "## import"
   ]
  },
  {
   "cell_type": "code",
   "execution_count": 1,
   "id": "0ec90d17",
   "metadata": {},
   "outputs": [],
   "source": [
    "import torch\n",
    "import torch.nn as nn\n",
    "import torch.optim as optim\n",
    "import torchvision\n",
    "import torchvision.transforms as transforms\n",
    "from torch.utils.data import TensorDataset, DataLoader, random_split\n",
    "#LWM을 하기위한 라이브러리 가져오기\n",
    "import DeepMIMOv3\n",
    "import numpy as np\n",
    "from pprint import pprint\n",
    "import matplotlib.pyplot as plt\n",
    "import time\n",
    "\n",
    "\n",
    "plt . rcParams [ 'figure.figsize' ]  =  [ 12 ,  8 ]  # 기본 플롯 크기 설정"
   ]
  },
  {
   "cell_type": "markdown",
   "id": "38e17e0b",
   "metadata": {},
   "source": [
    "## GPU설정"
   ]
  },
  {
   "cell_type": "code",
   "execution_count": 2,
   "id": "47baa533",
   "metadata": {},
   "outputs": [
    {
     "name": "stdout",
     "output_type": "stream",
     "text": [
      "cuda\n"
     ]
    }
   ],
   "source": [
    "# GPU 설정\n",
    "device = torch.device(\"cuda\" if torch.cuda.is_available() else \"cpu\")\n",
    "print(device)"
   ]
  },
  {
   "cell_type": "markdown",
   "id": "5c9e064d",
   "metadata": {},
   "source": [
    "# DeepMIMOv3 다운"
   ]
  },
  {
   "cell_type": "code",
   "execution_count": 3,
   "id": "23623e8a",
   "metadata": {},
   "outputs": [],
   "source": [
    "# pip install DeepMIMOv3 umap-learn"
   ]
  },
  {
   "cell_type": "markdown",
   "id": "19540670",
   "metadata": {},
   "source": [
    "## 파라미터 수정"
   ]
  },
  {
   "cell_type": "code",
   "execution_count": 4,
   "id": "ce5ac681",
   "metadata": {},
   "outputs": [
    {
     "name": "stdout",
     "output_type": "stream",
     "text": [
      "{'OFDM': {'RX_filter': 0,\n",
      "          'bandwidth': 0.05,\n",
      "          'selected_subcarriers': array([0]),\n",
      "          'subcarriers': 512},\n",
      " 'OFDM_channels': 1,\n",
      " 'active_BS': array([1]),\n",
      " 'bs_antenna': {'FoV': array([360, 180]),\n",
      "                'radiation_pattern': 'isotropic',\n",
      "                'rotation': array([0, 0, 0]),\n",
      "                'shape': array([8, 4]),\n",
      "                'spacing': 0.5},\n",
      " 'dataset_folder': './Raytracing_scenarios',\n",
      " 'dynamic_scenario_scenes': array([1]),\n",
      " 'enable_BS2BS': 1,\n",
      " 'enable_doppler': 0,\n",
      " 'enable_dual_polar': 0,\n",
      " 'num_paths': 5,\n",
      " 'scenario': 'O1_60',\n",
      " 'ue_antenna': {'FoV': array([360, 180]),\n",
      "                'radiation_pattern': 'isotropic',\n",
      "                'rotation': array([0, 0, 0]),\n",
      "                'shape': array([4, 2]),\n",
      "                'spacing': 0.5},\n",
      " 'user_rows': array([1]),\n",
      " 'user_subsampling': 1}\n"
     ]
    }
   ],
   "source": [
    "## Load and print the default parameters\n",
    "# bandwith: 0.05GHz(50MHz 대역폭 사용)\n",
    "parameters = DeepMIMOv3.default_params()\n",
    "pprint(parameters)"
   ]
  },
  {
   "cell_type": "code",
   "execution_count": 5,
   "id": "1f0642c1",
   "metadata": {},
   "outputs": [],
   "source": [
    "## Change parameters for the setup\n",
    "# Scenario O1_60 extracted at the dataset_folder\n",
    "#LWM 동적 시나리오 불러오기\n",
    "#자신의 LWM 파일 위치 경로 작성\n",
    "# parameters['dataset_folder'] = r'/content/drive/MyDrive/Colab Notebooks/LWM'\n",
    "scene = 10 # 장면 수\n",
    "parameters['dataset_folder'] = r'C:\\Users\\dlghd\\졸업프로젝트\\LWM'\n",
    "\n",
    "# scnario = 02_dyn_3p5 <- 다운받은 파일(동적시나리오)\n",
    "parameters['scenario'] = 'O2_dyn_3p5'\n",
    "parameters['dynamic_scenario_scenes'] = np.arange(scene) #scene 0~9\n",
    "\n",
    "# 각 사용자-기지국 채널에 대해 최대 10개 멀티패스 경로 사용\n",
    "parameters['num_paths'] = 10\n",
    "\n",
    "# User rows 1-100\n",
    "parameters['user_rows'] = np.arange(100)\n",
    "\n",
    "# Activate only the first basestation\n",
    "parameters['active_BS'] = np.array([1])\n",
    "\n",
    "parameters['activate_OFDM'] = 1\n",
    "\n",
    "parameters['OFDM']['bandwidth'] = 0.05 # 50 MHz\n",
    "parameters['OFDM']['subcarriers'] = 512 # OFDM with 512 subcarriers\n",
    "parameters['OFDM']['selected_subcarriers'] = np.arange(0, 64, 1)\n",
    "#parameters['OFDM']['subcarriers_limit'] = 64 # Keep only first 64 subcarriers\n",
    "\n",
    "parameters['ue_antenna']['shape'] = np.array([1, 1]) # Single antenna\n",
    "parameters['bs_antenna']['shape'] = np.array([1, 32]) # ULA of 32 elements\n",
    "#parameters['bs_antenna']['rotation'] = np.array([0, 30, 90]) # ULA of 32 elements\n",
    "#parameters['ue_antenna']['rotation'] = np.array([[0, 30], [30, 60], [60, 90]]) # ULA of 32 elements\n",
    "#parameters['ue_antenna']['radiation_pattern'] = 'isotropic'\n",
    "#parameters['bs_antenna']['radiation_pattern'] = 'halfwave-dipole'"
   ]
  },
  {
   "cell_type": "code",
   "execution_count": 6,
   "id": "30aa4ae2",
   "metadata": {
    "scrolled": true
   },
   "outputs": [
    {
     "name": "stdout",
     "output_type": "stream",
     "text": [
      "{'dataset_folder': 'C:\\\\Users\\\\dlghd\\\\졸업프로젝트\\\\LWM', 'scenario': 'O2_dyn_3p5', 'dynamic_scenario_scenes': array([0, 1, 2, 3, 4, 5, 6, 7, 8, 9]), 'num_paths': 10, 'active_BS': array([1]), 'user_rows': array([ 0,  1,  2,  3,  4,  5,  6,  7,  8,  9, 10, 11, 12, 13, 14, 15, 16,\n",
      "       17, 18, 19, 20, 21, 22, 23, 24, 25, 26, 27, 28, 29, 30, 31, 32, 33,\n",
      "       34, 35, 36, 37, 38, 39, 40, 41, 42, 43, 44, 45, 46, 47, 48, 49, 50,\n",
      "       51, 52, 53, 54, 55, 56, 57, 58, 59, 60, 61, 62, 63, 64, 65, 66, 67,\n",
      "       68, 69, 70, 71, 72, 73, 74, 75, 76, 77, 78, 79, 80, 81, 82, 83, 84,\n",
      "       85, 86, 87, 88, 89, 90, 91, 92, 93, 94, 95, 96, 97, 98, 99]), 'user_subsampling': 1, 'bs_antenna': {'shape': array([ 1, 32]), 'spacing': 0.5, 'rotation': array([0, 0, 0]), 'FoV': array([360, 180]), 'radiation_pattern': 'isotropic'}, 'ue_antenna': {'shape': array([1, 1]), 'spacing': 0.5, 'rotation': array([0, 0, 0]), 'FoV': array([360, 180]), 'radiation_pattern': 'isotropic'}, 'enable_doppler': 0, 'enable_dual_polar': 0, 'enable_BS2BS': 1, 'OFDM_channels': 1, 'OFDM': {'subcarriers': 512, 'selected_subcarriers': array([ 0,  1,  2,  3,  4,  5,  6,  7,  8,  9, 10, 11, 12, 13, 14, 15, 16,\n",
      "       17, 18, 19, 20, 21, 22, 23, 24, 25, 26, 27, 28, 29, 30, 31, 32, 33,\n",
      "       34, 35, 36, 37, 38, 39, 40, 41, 42, 43, 44, 45, 46, 47, 48, 49, 50,\n",
      "       51, 52, 53, 54, 55, 56, 57, 58, 59, 60, 61, 62, 63]), 'bandwidth': 0.05, 'RX_filter': 0}, 'activate_OFDM': 1}\n"
     ]
    }
   ],
   "source": [
    "print(parameters)"
   ]
  },
  {
   "cell_type": "markdown",
   "id": "3326b22d",
   "metadata": {},
   "source": [
    "## dataset 구축"
   ]
  },
  {
   "cell_type": "code",
   "execution_count": 7,
   "id": "b87a86e5",
   "metadata": {},
   "outputs": [
    {
     "name": "stderr",
     "output_type": "stream",
     "text": [
      "\r",
      "  0%|                                                                                            | 0/2 [00:00<?, ?it/s]"
     ]
    },
    {
     "name": "stdout",
     "output_type": "stream",
     "text": [
      "The following parameters seem unnecessary:\n",
      "{'activate_OFDM'}\n",
      "\n",
      "Scene 1/5\n",
      "\n",
      "Basestation 1\n",
      "\n",
      "UE-BS Channels\n"
     ]
    },
    {
     "name": "stderr",
     "output_type": "stream",
     "text": [
      "\n",
      "Reading ray-tracing:   0%|                                                                   | 0/69040 [00:00<?, ?it/s]\u001b[A\n",
      "Reading ray-tracing:   4%|█▉                                                   | 2580/69040 [00:00<00:02, 25763.11it/s]\u001b[A\n",
      "Reading ray-tracing:   8%|████                                                 | 5217/69040 [00:00<00:02, 26040.56it/s]\u001b[A\n",
      "Reading ray-tracing:  12%|██████▏                                              | 8064/69040 [00:00<00:02, 27083.65it/s]\u001b[A\n",
      "Reading ray-tracing:  16%|████████                                            | 10773/69040 [00:00<00:02, 23962.56it/s]\u001b[A\n",
      "Reading ray-tracing:  19%|██████████                                          | 13415/69040 [00:00<00:02, 24776.32it/s]\u001b[A\n",
      "Reading ray-tracing:  23%|███████████▉                                        | 15930/69040 [00:00<00:02, 24729.53it/s]\u001b[A\n",
      "Reading ray-tracing:  27%|█████████████▉                                      | 18427/69040 [00:00<00:02, 24610.63it/s]\u001b[A\n",
      "Reading ray-tracing:  30%|███████████████▋                                    | 20904/69040 [00:00<00:01, 24544.80it/s]\u001b[A\n",
      "Reading ray-tracing:  34%|█████████████████▋                                  | 23503/69040 [00:00<00:01, 24981.44it/s]\u001b[A\n",
      "Reading ray-tracing:  38%|███████████████████▌                                | 26010/69040 [00:01<00:01, 24553.90it/s]\u001b[A\n",
      "Reading ray-tracing:  41%|█████████████████████▍                              | 28473/69040 [00:01<00:01, 23967.78it/s]\u001b[A\n",
      "Reading ray-tracing:  45%|███████████████████████▎                            | 30996/69040 [00:01<00:01, 24301.15it/s]\u001b[A\n",
      "Reading ray-tracing:  48%|█████████████████████████▏                          | 33474/69040 [00:01<00:01, 24405.13it/s]\u001b[A\n",
      "Reading ray-tracing:  52%|███████████████████████████                         | 35919/69040 [00:01<00:01, 24415.57it/s]\u001b[A\n",
      "Reading ray-tracing:  56%|█████████████████████████████                       | 38552/69040 [00:01<00:01, 24946.35it/s]\u001b[A\n",
      "Reading ray-tracing:  59%|██████████████████████████████▉                     | 41050/69040 [00:01<00:01, 24697.37it/s]\u001b[A\n",
      "Reading ray-tracing:  63%|████████████████████████████████▉                   | 43658/69040 [00:01<00:01, 25068.76it/s]\u001b[A\n",
      "Reading ray-tracing:  67%|██████████████████████████████████▊                 | 46250/69040 [00:01<00:00, 25282.97it/s]\u001b[A\n",
      "Reading ray-tracing:  71%|████████████████████████████████████▊               | 48943/69040 [00:01<00:00, 25725.22it/s]\u001b[A\n",
      "Reading ray-tracing:  75%|██████████████████████████████████████▊             | 51517/69040 [00:02<00:00, 25239.40it/s]\u001b[A\n",
      "Reading ray-tracing:  78%|████████████████████████████████████████▋           | 54044/69040 [00:02<00:00, 23941.93it/s]\u001b[A\n",
      "Reading ray-tracing:  82%|██████████████████████████████████████████▌         | 56453/69040 [00:02<00:00, 23178.74it/s]\u001b[A\n",
      "Reading ray-tracing:  86%|████████████████████████████████████████████▌       | 59151/69040 [00:02<00:00, 24249.86it/s]\u001b[A\n",
      "Reading ray-tracing: 100%|████████████████████████████████████████████████████| 69040/69040 [00:02<00:00, 27200.21it/s]\u001b[A\n",
      "\n",
      "Generating channels:   0%|                                                                   | 0/69040 [00:00<?, ?it/s]\u001b[A\n",
      "Generating channels:   1%|▎                                                      | 397/69040 [00:00<00:17, 3953.77it/s]\u001b[A\n",
      "Generating channels:   1%|▋                                                      | 793/69040 [00:00<00:21, 3137.23it/s]\u001b[A\n",
      "Generating channels:   2%|▊                                                     | 1117/69040 [00:00<00:22, 2998.13it/s]\u001b[A\n",
      "Generating channels:   2%|█▎                                                    | 1666/69040 [00:00<00:17, 3864.31it/s]\u001b[A\n",
      "Generating channels:   3%|█▋                                                    | 2187/69040 [00:00<00:15, 4304.99it/s]\u001b[A\n",
      "Generating channels:   4%|██                                                    | 2630/69040 [00:00<00:18, 3527.30it/s]\u001b[A\n",
      "Generating channels:   4%|██▎                                                   | 3010/69040 [00:00<00:19, 3316.70it/s]\u001b[A\n",
      "Generating channels:   5%|██▊                                                   | 3562/69040 [00:00<00:16, 3891.79it/s]\u001b[A\n",
      "Generating channels:   6%|███▏                                                  | 4078/69040 [00:01<00:15, 4232.12it/s]\u001b[A\n",
      "Generating channels:   7%|███▌                                                  | 4523/69040 [00:01<00:17, 3765.01it/s]\u001b[A\n",
      "Generating channels:   7%|███▊                                                  | 4922/69040 [00:01<00:18, 3454.79it/s]\u001b[A\n",
      "Generating channels:   8%|████▏                                                 | 5425/69040 [00:01<00:16, 3845.58it/s]\u001b[A\n",
      "Generating channels:   9%|████▋                                                 | 5932/69040 [00:01<00:15, 4167.55it/s]\u001b[A\n",
      "Generating channels:   9%|████▉                                                 | 6368/69040 [00:01<00:16, 3884.40it/s]\u001b[A\n",
      "Generating channels:  10%|█████▎                                                | 6773/69040 [00:01<00:19, 3262.84it/s]\u001b[A\n",
      "Generating channels:  11%|█████▋                                                | 7310/69040 [00:01<00:16, 3761.76it/s]\u001b[A\n",
      "Generating channels:  11%|██████▏                                               | 7878/69040 [00:02<00:14, 4243.94it/s]\u001b[A\n",
      "Generating channels:  12%|██████▌                                               | 8333/69040 [00:02<00:16, 3712.30it/s]\u001b[A\n",
      "Generating channels:  13%|██████▊                                               | 8736/69040 [00:02<00:17, 3423.42it/s]\u001b[A\n",
      "Generating channels:  13%|███████▏                                              | 9235/69040 [00:02<00:15, 3796.22it/s]\u001b[A\n",
      "Generating channels:  14%|███████▌                                              | 9746/69040 [00:02<00:14, 4126.86it/s]\u001b[A\n",
      "Generating channels:  15%|███████▊                                             | 10182/69040 [00:02<00:15, 3761.48it/s]\u001b[A\n",
      "Generating channels:  15%|████████                                             | 10579/69040 [00:02<00:16, 3444.67it/s]\u001b[A\n",
      "Generating channels:  16%|████████▌                                            | 11106/69040 [00:02<00:14, 3892.06it/s]\u001b[A\n",
      "Generating channels:  17%|████████▉                                            | 11575/69040 [00:03<00:14, 4094.98it/s]\u001b[A\n",
      "Generating channels:  17%|█████████▏                                           | 12003/69040 [00:03<00:15, 3729.61it/s]\u001b[A\n",
      "Generating channels:  18%|█████████▌                                           | 12394/69040 [00:03<00:17, 3328.19it/s]\u001b[A\n",
      "Generating channels:  19%|█████████▊                                           | 12777/69040 [00:03<00:16, 3447.06it/s]\u001b[A\n",
      "Generating channels:  19%|██████████▎                                          | 13390/69040 [00:03<00:13, 4142.83it/s]\u001b[A\n",
      "Generating channels:  20%|██████████▌                                          | 13826/69040 [00:03<00:13, 3955.08it/s]\u001b[A\n",
      "Generating channels:  21%|██████████▉                                          | 14238/69040 [00:03<00:16, 3335.66it/s]\u001b[A\n",
      "Generating channels:  21%|███████████▏                                         | 14597/69040 [00:03<00:16, 3384.57it/s]\u001b[A\n",
      "Generating channels:  22%|███████████▋                                         | 15147/69040 [00:04<00:13, 3924.67it/s]\u001b[A\n",
      "Generating channels:  23%|███████████▉                                         | 15563/69040 [00:04<00:13, 3981.98it/s]\u001b[A\n",
      "Generating channels:  23%|████████████▎                                        | 15978/69040 [00:04<00:15, 3513.69it/s]\u001b[A\n",
      "Generating channels:  24%|████████████▌                                        | 16350/69040 [00:04<00:15, 3352.12it/s]\u001b[A\n",
      "Generating channels:  24%|████████████▉                                        | 16892/69040 [00:04<00:13, 3875.95it/s]\u001b[A\n",
      "Generating channels:  25%|█████████████▎                                       | 17365/69040 [00:04<00:12, 4099.08it/s]\u001b[A\n",
      "Generating channels:  26%|█████████████▋                                       | 17791/69040 [00:04<00:13, 3721.81it/s]\u001b[A\n",
      "Generating channels:  26%|█████████████▉                                       | 18180/69040 [00:04<00:14, 3587.20it/s]\u001b[A\n"
     ]
    },
    {
     "name": "stderr",
     "output_type": "stream",
     "text": [
      "Generating channels:  27%|██████████████▎                                      | 18652/69040 [00:04<00:12, 3879.34it/s]\u001b[A\n",
      "Generating channels:  28%|██████████████▊                                      | 19227/69040 [00:05<00:11, 4382.91it/s]\u001b[A\n",
      "Generating channels:  29%|███████████████                                      | 19679/69040 [00:05<00:12, 3980.89it/s]\u001b[A\n",
      "Generating channels:  29%|███████████████▍                                     | 20093/69040 [00:05<00:13, 3663.71it/s]\u001b[A\n",
      "Generating channels:  30%|███████████████▊                                     | 20648/69040 [00:05<00:11, 4146.49it/s]\u001b[A\n",
      "Generating channels:  31%|████████████████▏                                    | 21081/69040 [00:05<00:11, 4189.85it/s]\u001b[A\n",
      "Generating channels:  31%|████████████████▌                                    | 21513/69040 [00:05<00:12, 3952.26it/s]\u001b[A\n",
      "Generating channels:  32%|████████████████▊                                    | 21919/69040 [00:05<00:13, 3532.97it/s]\u001b[A\n",
      "Generating channels:  32%|█████████████████▏                                   | 22367/69040 [00:05<00:12, 3769.26it/s]\u001b[A\n",
      "Generating channels:  33%|█████████████████▋                                   | 22985/69040 [00:06<00:10, 4410.97it/s]\u001b[A\n",
      "Generating channels:  34%|█████████████████▉                                   | 23444/69040 [00:06<00:11, 3919.56it/s]\u001b[A\n",
      "Generating channels:  35%|██████████████████▎                                  | 23857/69040 [00:06<00:12, 3553.92it/s]\u001b[A\n",
      "Generating channels:  35%|██████████████████▋                                  | 24399/69040 [00:06<00:11, 4015.04it/s]\u001b[A\n",
      "Generating channels:  36%|███████████████████                                  | 24902/69040 [00:06<00:10, 4274.22it/s]\u001b[A\n",
      "Generating channels:  37%|███████████████████▍                                 | 25350/69040 [00:06<00:11, 3891.15it/s]\u001b[A\n",
      "Generating channels:  37%|███████████████████▊                                 | 25758/69040 [00:06<00:11, 3732.41it/s]\u001b[A\n",
      "Generating channels:  38%|████████████████████                                 | 26145/69040 [00:06<00:11, 3714.52it/s]\u001b[A\n",
      "Generating channels:  39%|████████████████████▍                                | 26637/69040 [00:07<00:10, 4031.20it/s]\u001b[A\n",
      "Generating channels:  39%|████████████████████▊                                | 27051/69040 [00:07<00:11, 3745.66it/s]\u001b[A\n",
      "Generating channels:  40%|█████████████████████                                | 27436/69040 [00:07<00:12, 3393.09it/s]\u001b[A\n",
      "Generating channels:  40%|█████████████████████▎                               | 27794/69040 [00:07<00:11, 3440.49it/s]\u001b[A\n",
      "Generating channels:  41%|█████████████████████▊                               | 28383/69040 [00:07<00:09, 4089.14it/s]\u001b[A\n",
      "Generating channels:  42%|██████████████████████▏                              | 28827/69040 [00:07<00:09, 4179.89it/s]\u001b[A\n",
      "Generating channels:  42%|██████████████████████▍                              | 29256/69040 [00:07<00:10, 3792.48it/s]\u001b[A\n",
      "Generating channels:  43%|██████████████████████▊                              | 29649/69040 [00:07<00:11, 3540.49it/s]\u001b[A\n",
      "Generating channels:  44%|███████████████████████                              | 30100/69040 [00:07<00:10, 3787.77it/s]\u001b[A\n",
      "Generating channels:  44%|███████████████████████▍                             | 30607/69040 [00:08<00:09, 4129.29it/s]\u001b[A\n",
      "Generating channels:  45%|███████████████████████▊                             | 31032/69040 [00:08<00:10, 3782.89it/s]\u001b[A\n",
      "Generating channels:  46%|████████████████████████                             | 31423/69040 [00:08<00:10, 3462.27it/s]\u001b[A\n",
      "Generating channels:  46%|████████████████████████▍                            | 31782/69040 [00:08<00:10, 3433.17it/s]\u001b[A\n",
      "Generating channels:  47%|████████████████████████▉                            | 32449/69040 [00:08<00:08, 4283.09it/s]\u001b[A\n",
      "Generating channels:  48%|█████████████████████████▎                           | 32895/69040 [00:08<00:09, 3903.53it/s]\u001b[A\n",
      "Generating channels:  48%|█████████████████████████▌                           | 33303/69040 [00:08<00:10, 3473.91it/s]\u001b[A\n",
      "Generating channels:  49%|█████████████████████████▊                           | 33683/69040 [00:08<00:09, 3554.06it/s]\u001b[A\n",
      "Generating channels:  50%|██████████████████████████▎                          | 34346/69040 [00:09<00:07, 4349.77it/s]\u001b[A\n",
      "Generating channels:  50%|██████████████████████████▋                          | 34803/69040 [00:09<00:08, 3934.65it/s]\u001b[A\n",
      "Generating channels:  51%|███████████████████████████                          | 35218/69040 [00:09<00:09, 3592.91it/s]\u001b[A\n",
      "Generating channels:  52%|███████████████████████████▍                         | 35732/69040 [00:09<00:08, 3976.69it/s]\u001b[A\n",
      "Generating channels:  53%|███████████████████████████▊                         | 36296/69040 [00:09<00:07, 4406.19it/s]\u001b[A\n",
      "Generating channels:  53%|████████████████████████████▏                        | 36758/69040 [00:09<00:08, 3924.69it/s]\u001b[A\n",
      "Generating channels:  54%|████████████████████████████▌                        | 37173/69040 [00:09<00:08, 3700.57it/s]\u001b[A\n",
      "Generating channels:  55%|████████████████████████████▉                        | 37730/69040 [00:09<00:07, 4172.23it/s]\u001b[A\n",
      "Generating channels:  55%|█████████████████████████████▎                       | 38246/69040 [00:09<00:06, 4433.66it/s]\u001b[A\n",
      "Generating channels:  56%|█████████████████████████████▋                       | 38707/69040 [00:10<00:07, 3838.41it/s]\u001b[A\n",
      "Generating channels:  57%|██████████████████████████████                       | 39116/69040 [00:10<00:07, 3773.33it/s]\u001b[A\n",
      "Generating channels:  57%|██████████████████████████████▍                      | 39626/69040 [00:10<00:07, 4115.12it/s]\u001b[A\n",
      "Generating channels:  58%|██████████████████████████████▊                      | 40098/69040 [00:10<00:06, 4272.00it/s]\u001b[A\n",
      "Generating channels:  59%|███████████████████████████████                      | 40540/69040 [00:10<00:07, 3671.00it/s]\u001b[A\n",
      "Generating channels:  59%|███████████████████████████████▍                     | 40931/69040 [00:10<00:07, 3621.70it/s]\u001b[A\n",
      "Generating channels:  60%|███████████████████████████████▊                     | 41386/69040 [00:10<00:07, 3859.17it/s]\u001b[A\n",
      "Generating channels:  61%|████████████████████████████████▏                    | 41942/69040 [00:10<00:06, 4312.45it/s]\u001b[A\n",
      "Generating channels:  61%|████████████████████████████████▌                    | 42389/69040 [00:11<00:06, 3919.85it/s]\u001b[A\n",
      "Generating channels:  62%|████████████████████████████████▊                    | 42798/69040 [00:11<00:06, 3750.20it/s]\u001b[A\n",
      "Generating channels:  63%|█████████████████████████████████▏                   | 43242/69040 [00:11<00:06, 3926.70it/s]\u001b[A\n",
      "Generating channels:  63%|█████████████████████████████████▋                   | 43819/69040 [00:11<00:05, 4428.49it/s]\u001b[A\n",
      "Generating channels:  64%|█████████████████████████████████▉                   | 44275/69040 [00:11<00:06, 3921.28it/s]\u001b[A\n",
      "Generating channels:  65%|██████████████████████████████████▎                  | 44686/69040 [00:11<00:06, 3709.63it/s]\u001b[A\n",
      "Generating channels:  65%|██████████████████████████████████▋                  | 45121/69040 [00:11<00:06, 3874.09it/s]\u001b[A\n",
      "Generating channels:  66%|███████████████████████████████████                  | 45699/69040 [00:11<00:05, 4386.47it/s]\u001b[A\n",
      "Generating channels:  67%|███████████████████████████████████▍                 | 46152/69040 [00:12<00:05, 4029.58it/s]\u001b[A\n",
      "Generating channels:  67%|███████████████████████████████████▊                 | 46570/69040 [00:12<00:06, 3587.63it/s]\u001b[A\n",
      "Generating channels:  68%|████████████████████████████████████                 | 47015/69040 [00:12<00:05, 3802.85it/s]\u001b[A\n",
      "Generating channels:  69%|████████████████████████████████████▌                | 47571/69040 [00:12<00:05, 4253.89it/s]\u001b[A\n",
      "Generating channels:  70%|████████████████████████████████████▊                | 48014/69040 [00:12<00:05, 3996.10it/s]\u001b[A\n",
      "Generating channels:  70%|█████████████████████████████████████▏               | 48428/69040 [00:12<00:05, 3634.01it/s]\u001b[A\n",
      "Generating channels:  71%|█████████████████████████████████████▌               | 48867/69040 [00:12<00:05, 3821.51it/s]\u001b[A\n"
     ]
    },
    {
     "name": "stderr",
     "output_type": "stream",
     "text": [
      "Generating channels:  72%|█████████████████████████████████████▉               | 49450/69040 [00:12<00:04, 4357.01it/s]\u001b[A\n",
      "Generating channels:  72%|██████████████████████████████████████▎              | 49902/69040 [00:12<00:04, 3988.32it/s]\u001b[A\n",
      "Generating channels:  73%|██████████████████████████████████████▋              | 50317/69040 [00:13<00:05, 3651.21it/s]\u001b[A\n",
      "Generating channels:  73%|██████████████████████████████████████▉              | 50734/69040 [00:13<00:04, 3779.25it/s]\u001b[A\n",
      "Generating channels:  74%|███████████████████████████████████████▎             | 51273/69040 [00:13<00:04, 4201.96it/s]\u001b[A\n",
      "Generating channels:  75%|███████████████████████████████████████▋             | 51708/69040 [00:13<00:04, 4031.61it/s]\u001b[A\n",
      "Generating channels:  75%|████████████████████████████████████████             | 52122/69040 [00:13<00:04, 3626.60it/s]\u001b[A\n",
      "Generating channels:  76%|████████████████████████████████████████▎            | 52521/69040 [00:13<00:04, 3715.32it/s]\u001b[A\n",
      "Generating channels:  77%|████████████████████████████████████████▋            | 53080/69040 [00:13<00:03, 4213.15it/s]\u001b[A\n",
      "Generating channels:  78%|█████████████████████████████████████████            | 53515/69040 [00:13<00:03, 4006.51it/s]\u001b[A\n",
      "Generating channels:  78%|█████████████████████████████████████████▍           | 53926/69040 [00:14<00:04, 3550.57it/s]\u001b[A\n",
      "Generating channels:  79%|█████████████████████████████████████████▋           | 54296/69040 [00:14<00:04, 3538.85it/s]\u001b[A\n",
      "Generating channels:  79%|██████████████████████████████████████████           | 54718/69040 [00:14<00:03, 3713.59it/s]\u001b[A\n",
      "Generating channels:  80%|██████████████████████████████████████████▎          | 55174/69040 [00:14<00:03, 3944.77it/s]\u001b[A\n",
      "Generating channels:  81%|██████████████████████████████████████████▋          | 55578/69040 [00:14<00:03, 3779.91it/s]\u001b[A\n",
      "Generating channels:  81%|██████████████████████████████████████████▉          | 55963/69040 [00:14<00:03, 3595.39it/s]\u001b[A\n",
      "Generating channels:  82%|███████████████████████████████████████████▎         | 56340/69040 [00:14<00:03, 3637.76it/s]\u001b[A\n",
      "Generating channels:  82%|███████████████████████████████████████████▋         | 56863/69040 [00:14<00:02, 4077.07it/s]\u001b[A\n",
      "Generating channels:  83%|███████████████████████████████████████████▉         | 57277/69040 [00:14<00:02, 3997.39it/s]\u001b[A\n",
      "Generating channels:  84%|████████████████████████████████████████████▎        | 57682/69040 [00:15<00:03, 3711.21it/s]\u001b[A\n",
      "Generating channels:  84%|████████████████████████████████████████████▌        | 58060/69040 [00:15<00:02, 3724.70it/s]\u001b[A\n",
      "Generating channels: 100%|█████████████████████████████████████████████████████| 69040/69040 [00:15<00:00, 4521.38it/s]\u001b[A\n"
     ]
    },
    {
     "name": "stdout",
     "output_type": "stream",
     "text": [
      "\n",
      "BS-BS Channels\n"
     ]
    },
    {
     "name": "stderr",
     "output_type": "stream",
     "text": [
      "\n",
      "Reading ray-tracing: 100%|██████████████████████████████████████████████████████████████| 1/1 [00:00<00:00, 997.22it/s]\u001b[A\n",
      "\n",
      "Generating channels: 100%|██████████████████████████████████████████████████████████████| 1/1 [00:00<00:00, 333.44it/s]\u001b[A\n"
     ]
    },
    {
     "name": "stdout",
     "output_type": "stream",
     "text": [
      "\n",
      "Scene 2/5\n",
      "\n",
      "Basestation 1\n",
      "\n",
      "UE-BS Channels\n"
     ]
    },
    {
     "name": "stderr",
     "output_type": "stream",
     "text": [
      "\n",
      "Reading ray-tracing:   0%|                                                                   | 0/69040 [00:00<?, ?it/s]\u001b[A\n",
      "Reading ray-tracing:   3%|█▋                                                   | 2235/69040 [00:00<00:02, 22323.89it/s]\u001b[A\n",
      "Reading ray-tracing:   6%|███▍                                                 | 4474/69040 [00:00<00:02, 22296.26it/s]\u001b[A\n",
      "Reading ray-tracing:  10%|█████▎                                               | 6965/69040 [00:00<00:02, 23432.75it/s]\u001b[A\n",
      "Reading ray-tracing:  14%|███████▏                                             | 9354/69040 [00:00<00:02, 23565.25it/s]\u001b[A\n",
      "Reading ray-tracing:  17%|████████▉                                           | 11894/69040 [00:00<00:02, 24222.73it/s]\u001b[A\n",
      "Reading ray-tracing:  21%|██████████▉                                         | 14458/69040 [00:00<00:02, 24661.29it/s]\u001b[A\n",
      "Reading ray-tracing:  25%|████████████▊                                       | 17094/69040 [00:00<00:02, 25172.97it/s]\u001b[A\n",
      "Reading ray-tracing:  28%|██████████████▊                                     | 19631/69040 [00:00<00:01, 25194.13it/s]\u001b[A\n",
      "Reading ray-tracing:  32%|████████████████▋                                   | 22151/69040 [00:00<00:02, 23238.03it/s]\u001b[A\n",
      "Reading ray-tracing:  36%|██████████████████▌                                 | 24564/69040 [00:01<00:01, 23462.48it/s]\u001b[A\n",
      "Reading ray-tracing:  39%|████████████████████▍                               | 27190/69040 [00:01<00:01, 24246.28it/s]\u001b[A\n",
      "Reading ray-tracing:  43%|██████████████████████▍                             | 29719/69040 [00:01<00:01, 24552.64it/s]\u001b[A\n",
      "Reading ray-tracing:  47%|████████████████████████▍                           | 32477/69040 [00:01<00:01, 25423.45it/s]\u001b[A\n",
      "Reading ray-tracing:  51%|██████████████████████████▍                         | 35031/69040 [00:01<00:01, 25156.36it/s]\u001b[A\n",
      "Reading ray-tracing:  54%|████████████████████████████▎                       | 37555/69040 [00:01<00:01, 25068.05it/s]\u001b[A\n",
      "Reading ray-tracing:  58%|██████████████████████████████▏                     | 40148/69040 [00:01<00:01, 25319.89it/s]\u001b[A\n",
      "Reading ray-tracing:  62%|████████████████████████████████▏                   | 42685/69040 [00:01<00:01, 23889.52it/s]\u001b[A\n",
      "Reading ray-tracing:  66%|██████████████████████████████████▏                 | 45390/69040 [00:01<00:00, 24756.55it/s]\u001b[A\n",
      "Reading ray-tracing:  69%|████████████████████████████████████                | 47883/69040 [00:01<00:00, 24732.79it/s]\u001b[A\n",
      "Reading ray-tracing:  73%|█████████████████████████████████████▉              | 50369/69040 [00:02<00:00, 24660.99it/s]\u001b[A\n",
      "Reading ray-tracing:  77%|███████████████████████████████████████▊            | 52906/69040 [00:02<00:00, 24831.52it/s]\u001b[A\n",
      "Reading ray-tracing:  80%|█████████████████████████████████████████▋          | 55396/69040 [00:02<00:00, 24382.94it/s]\u001b[A\n",
      "Reading ray-tracing:  84%|███████████████████████████████████████████▌        | 57840/69040 [00:02<00:00, 24081.05it/s]\u001b[A\n",
      "Reading ray-tracing: 100%|████████████████████████████████████████████████████| 69040/69040 [00:02<00:00, 27167.55it/s]\u001b[A\n",
      "\n",
      "Generating channels:   0%|                                                                   | 0/69040 [00:00<?, ?it/s]\u001b[A\n",
      "Generating channels:   1%|▍                                                      | 471/69040 [00:00<00:14, 4685.81it/s]\u001b[A\n",
      "Generating channels:   1%|▋                                                      | 940/69040 [00:00<00:20, 3265.92it/s]\u001b[A\n",
      "Generating channels:   2%|█                                                     | 1292/69040 [00:00<00:20, 3239.77it/s]\u001b[A\n",
      "Generating channels:   3%|█▌                                                    | 2030/69040 [00:00<00:14, 4626.45it/s]\u001b[A\n",
      "Generating channels:   4%|█▉                                                    | 2524/69040 [00:00<00:16, 4148.82it/s]\u001b[A\n",
      "Generating channels:   4%|██▎                                                   | 2965/69040 [00:00<00:18, 3542.89it/s]\u001b[A\n",
      "Generating channels:   5%|██▋                                                   | 3389/69040 [00:00<00:17, 3721.87it/s]\u001b[A\n",
      "Generating channels:   6%|███▏                                                  | 4060/69040 [00:00<00:14, 4522.08it/s]\u001b[A\n",
      "Generating channels:   7%|███▌                                                  | 4543/69040 [00:01<00:16, 4020.75it/s]\u001b[A\n",
      "Generating channels:   7%|███▉                                                  | 4974/69040 [00:01<00:17, 3624.59it/s]\u001b[A\n",
      "Generating channels:   8%|████▎                                                 | 5588/69040 [00:01<00:14, 4234.29it/s]\u001b[A\n",
      "Generating channels:   9%|████▊                                                 | 6098/69040 [00:01<00:14, 4452.56it/s]\u001b[A\n",
      "Generating channels:  10%|█████▏                                                | 6569/69040 [00:01<00:16, 3811.89it/s]\u001b[A\n",
      "Generating channels:  10%|█████▍                                                | 6982/69040 [00:01<00:17, 3635.60it/s]\u001b[A\n",
      "Generating channels:  11%|██████                                                | 7711/69040 [00:01<00:13, 4536.81it/s]\u001b[A\n",
      "Generating channels:  12%|██████▍                                               | 8200/69040 [00:02<00:14, 4236.34it/s]\u001b[A\n",
      "Generating channels:  13%|██████▊                                               | 8651/69040 [00:02<00:15, 3824.43it/s]\u001b[A\n",
      "Generating channels:  13%|███████                                               | 9057/69040 [00:02<00:16, 3740.31it/s]\u001b[A\n",
      "Generating channels:  14%|███████▌                                              | 9747/69040 [00:02<00:13, 4533.96it/s]\u001b[A\n",
      "Generating channels:  15%|███████▊                                             | 10227/69040 [00:02<00:14, 4016.51it/s]\u001b[A\n",
      "Generating channels:  15%|████████▏                                            | 10656/69040 [00:02<00:15, 3724.25it/s]\u001b[A\n",
      "Generating channels:  16%|████████▌                                            | 11230/69040 [00:02<00:13, 4210.62it/s]\u001b[A\n",
      "Generating channels:  17%|████████▉                                            | 11720/69040 [00:02<00:13, 4388.00it/s]\u001b[A\n",
      "Generating channels:  18%|█████████▎                                           | 12180/69040 [00:03<00:14, 3945.27it/s]\u001b[A\n",
      "Generating channels:  18%|█████████▋                                           | 12596/69040 [00:03<00:15, 3711.50it/s]\u001b[A\n",
      "Generating channels:  19%|██████████                                           | 13150/69040 [00:03<00:13, 4167.43it/s]\u001b[A\n",
      "Generating channels:  20%|██████████▍                                          | 13605/69040 [00:03<00:12, 4268.33it/s]\u001b[A\n",
      "Generating channels:  20%|██████████▊                                          | 14047/69040 [00:03<00:14, 3789.65it/s]\u001b[A\n",
      "Generating channels:  21%|███████████                                          | 14445/69040 [00:03<00:15, 3518.15it/s]\u001b[A\n",
      "Generating channels:  22%|███████████▌                                         | 14997/69040 [00:03<00:13, 4018.77it/s]\u001b[A\n",
      "Generating channels:  22%|███████████▉                                         | 15486/69040 [00:03<00:12, 4242.98it/s]\u001b[A\n",
      "Generating channels:  23%|████████████▏                                        | 15928/69040 [00:04<00:13, 3824.23it/s]\u001b[A\n",
      "Generating channels:  24%|████████████▌                                        | 16329/69040 [00:04<00:14, 3681.69it/s]\u001b[A\n",
      "Generating channels:  24%|████████████▉                                        | 16890/69040 [00:04<00:12, 4181.37it/s]\u001b[A\n",
      "Generating channels:  25%|█████████████▎                                       | 17407/69040 [00:04<00:11, 4448.29it/s]\u001b[A\n",
      "Generating channels:  26%|█████████████▋                                       | 17867/69040 [00:04<00:13, 3865.26it/s]\u001b[A\n",
      "Generating channels:  26%|██████████████                                       | 18276/69040 [00:04<00:14, 3587.25it/s]\u001b[A\n",
      "Generating channels:  27%|██████████████▍                                      | 18818/69040 [00:04<00:12, 4040.43it/s]\u001b[A\n",
      "Generating channels:  28%|██████████████▊                                      | 19334/69040 [00:04<00:11, 4329.00it/s]\u001b[A\n",
      "Generating channels:  29%|███████████████▏                                     | 19786/69040 [00:04<00:12, 3812.32it/s]\u001b[A\n"
     ]
    },
    {
     "name": "stderr",
     "output_type": "stream",
     "text": [
      "Generating channels:  29%|███████████████▍                                     | 20190/69040 [00:05<00:13, 3656.75it/s]\u001b[A\n",
      "Generating channels:  30%|███████████████▉                                     | 20803/69040 [00:05<00:11, 4284.97it/s]\u001b[A\n",
      "Generating channels:  31%|████████████████▎                                    | 21254/69040 [00:05<00:11, 4270.78it/s]\u001b[A\n",
      "Generating channels:  31%|████████████████▋                                    | 21697/69040 [00:05<00:12, 3643.60it/s]\u001b[A\n",
      "Generating channels:  32%|████████████████▉                                    | 22086/69040 [00:05<00:13, 3576.14it/s]\u001b[A\n",
      "Generating channels:  33%|█████████████████▍                                   | 22683/69040 [00:05<00:11, 4179.69it/s]\u001b[A\n",
      "Generating channels:  33%|█████████████████▊                                   | 23124/69040 [00:05<00:10, 4228.66it/s]\u001b[A\n",
      "Generating channels:  34%|██████████████████                                   | 23563/69040 [00:05<00:12, 3778.94it/s]\u001b[A\n",
      "Generating channels:  35%|██████████████████▍                                  | 23960/69040 [00:06<00:12, 3600.57it/s]\u001b[A\n",
      "Generating channels:  36%|██████████████████▊                                  | 24562/69040 [00:06<00:10, 4217.55it/s]\u001b[A\n",
      "Generating channels:  36%|███████████████████▏                                 | 25073/69040 [00:06<00:09, 4451.06it/s]\u001b[A\n",
      "Generating channels:  37%|███████████████████▌                                 | 25535/69040 [00:06<00:11, 3893.39it/s]\u001b[A\n",
      "Generating channels:  38%|███████████████████▉                                 | 25947/69040 [00:06<00:11, 3791.45it/s]\u001b[A\n",
      "Generating channels:  39%|████████████████████▍                                | 26638/69040 [00:06<00:09, 4593.42it/s]\u001b[A\n",
      "Generating channels:  39%|████████████████████▊                                | 27121/69040 [00:06<00:10, 4157.59it/s]\u001b[A\n",
      "Generating channels:  40%|█████████████████████▏                               | 27559/69040 [00:06<00:11, 3748.54it/s]\u001b[A\n",
      "Generating channels:  41%|█████████████████████▌                               | 28010/69040 [00:07<00:10, 3930.50it/s]\u001b[A\n",
      "Generating channels:  42%|██████████████████████                               | 28677/69040 [00:07<00:08, 4634.94it/s]\u001b[A\n",
      "Generating channels:  42%|██████████████████████▍                              | 29164/69040 [00:07<00:09, 4114.74it/s]\u001b[A\n",
      "Generating channels:  43%|██████████████████████▋                              | 29601/69040 [00:07<00:10, 3747.82it/s]\u001b[A\n",
      "Generating channels:  44%|███████████████████████▏                             | 30206/69040 [00:07<00:09, 4305.23it/s]\u001b[A\n",
      "Generating channels:  44%|███████████████████████▌                             | 30664/69040 [00:07<00:08, 4359.24it/s]\u001b[A\n",
      "Generating channels:  45%|███████████████████████▉                             | 31120/69040 [00:07<00:09, 3813.04it/s]\u001b[A\n",
      "Generating channels:  46%|████████████████████████▏                            | 31526/69040 [00:07<00:10, 3600.43it/s]\u001b[A\n",
      "Generating channels:  46%|████████████████████████▌                            | 32001/69040 [00:08<00:09, 3881.35it/s]\u001b[A\n",
      "Generating channels:  47%|█████████████████████████                            | 32578/69040 [00:08<00:08, 4369.77it/s]\u001b[A\n",
      "Generating channels:  48%|█████████████████████████▎                           | 33035/69040 [00:08<00:09, 3936.89it/s]\u001b[A\n",
      "Generating channels:  48%|█████████████████████████▋                           | 33449/69040 [00:08<00:09, 3757.00it/s]\u001b[A\n",
      "Generating channels:  49%|██████████████████████████▏                          | 34034/69040 [00:08<00:08, 4288.93it/s]\u001b[A\n",
      "Generating channels:  50%|██████████████████████████▍                          | 34506/69040 [00:08<00:07, 4404.00it/s]\u001b[A\n",
      "Generating channels:  51%|██████████████████████████▊                          | 34961/69040 [00:08<00:08, 3833.31it/s]\u001b[A\n",
      "Generating channels:  51%|███████████████████████████▏                         | 35366/69040 [00:08<00:08, 3796.77it/s]\u001b[A\n",
      "Generating channels:  52%|███████████████████████████▌                         | 35940/69040 [00:08<00:07, 4305.41it/s]\u001b[A\n",
      "Generating channels:  53%|███████████████████████████▉                         | 36452/69040 [00:09<00:07, 4520.86it/s]\u001b[A\n",
      "Generating channels:  53%|████████████████████████████▎                        | 36919/69040 [00:09<00:08, 3887.91it/s]\u001b[A\n",
      "Generating channels:  54%|████████████████████████████▋                        | 37333/69040 [00:09<00:08, 3783.59it/s]\u001b[A\n",
      "Generating channels:  55%|█████████████████████████████                        | 37832/69040 [00:09<00:07, 4094.35it/s]\u001b[A\n",
      "Generating channels:  55%|█████████████████████████████▎                       | 38259/69040 [00:09<00:07, 4070.27it/s]\u001b[A\n",
      "Generating channels:  56%|█████████████████████████████▋                       | 38678/69040 [00:09<00:08, 3638.86it/s]\u001b[A\n",
      "Generating channels:  57%|█████████████████████████████▉                       | 39057/69040 [00:09<00:08, 3540.67it/s]\u001b[A\n",
      "Generating channels:  57%|██████████████████████████████▎                      | 39478/69040 [00:09<00:07, 3707.15it/s]\u001b[A\n",
      "Generating channels:  58%|██████████████████████████████▋                      | 40036/69040 [00:10<00:06, 4210.14it/s]\u001b[A\n",
      "Generating channels:  59%|███████████████████████████████                      | 40469/69040 [00:10<00:07, 3865.39it/s]\u001b[A\n",
      "Generating channels:  59%|███████████████████████████████▎                     | 40868/69040 [00:10<00:07, 3561.43it/s]\u001b[A\n",
      "Generating channels:  60%|███████████████████████████████▋                     | 41236/69040 [00:10<00:07, 3591.79it/s]\u001b[A\n",
      "Generating channels:  61%|████████████████████████████████▏                    | 41868/69040 [00:10<00:06, 4320.68it/s]\u001b[A\n",
      "Generating channels:  61%|████████████████████████████████▍                    | 42315/69040 [00:10<00:06, 3844.21it/s]\u001b[A\n",
      "Generating channels:  62%|████████████████████████████████▊                    | 42718/69040 [00:10<00:07, 3592.78it/s]\u001b[A\n",
      "Generating channels:  63%|█████████████████████████████████▏                   | 43155/69040 [00:10<00:06, 3785.65it/s]\u001b[A\n",
      "Generating channels:  63%|█████████████████████████████████▌                   | 43729/69040 [00:10<00:05, 4295.41it/s]\u001b[A\n",
      "Generating channels:  64%|█████████████████████████████████▉                   | 44174/69040 [00:11<00:05, 4160.34it/s]\u001b[A\n",
      "Generating channels:  65%|██████████████████████████████████▏                  | 44601/69040 [00:11<00:06, 3689.73it/s]\u001b[A\n",
      "Generating channels:  65%|██████████████████████████████████▌                  | 44986/69040 [00:11<00:06, 3725.89it/s]\u001b[A\n",
      "Generating channels:  66%|███████████████████████████████████                  | 45647/69040 [00:11<00:05, 4491.01it/s]\u001b[A\n",
      "Generating channels:  67%|███████████████████████████████████▍                 | 46114/69040 [00:11<00:05, 4114.05it/s]\u001b[A\n",
      "Generating channels:  67%|███████████████████████████████████▋                 | 46543/69040 [00:11<00:06, 3723.72it/s]\u001b[A\n",
      "Generating channels:  68%|████████████████████████████████████                 | 46985/69040 [00:11<00:05, 3894.09it/s]\u001b[A\n",
      "Generating channels:  69%|████████████████████████████████████▌                | 47611/69040 [00:11<00:04, 4506.28it/s]\u001b[A\n",
      "Generating channels:  70%|████████████████████████████████████▉                | 48080/69040 [00:12<00:05, 4071.72it/s]\u001b[A\n",
      "Generating channels:  70%|█████████████████████████████████████▏               | 48507/69040 [00:12<00:05, 3637.91it/s]\u001b[A\n",
      "Generating channels:  71%|█████████████████████████████████████▋               | 49032/69040 [00:12<00:04, 4033.97it/s]\u001b[A\n",
      "Generating channels:  72%|██████████████████████████████████████               | 49524/69040 [00:12<00:04, 4257.63it/s]\u001b[A\n",
      "Generating channels:  72%|██████████████████████████████████████▎              | 49969/69040 [00:12<00:05, 3782.18it/s]\u001b[A\n",
      "Generating channels:  73%|██████████████████████████████████████▋              | 50369/69040 [00:12<00:05, 3554.84it/s]\u001b[A\n",
      "Generating channels:  74%|██████████████████████████████████████▉              | 50801/69040 [00:12<00:04, 3742.10it/s]\u001b[A\n",
      "Generating channels:  74%|███████████████████████████████████████▍             | 51329/69040 [00:12<00:04, 4147.18it/s]\u001b[A\n"
     ]
    },
    {
     "name": "stderr",
     "output_type": "stream",
     "text": [
      "Generating channels:  75%|███████████████████████████████████████▋             | 51760/69040 [00:13<00:04, 3943.61it/s]\u001b[A\n",
      "Generating channels:  76%|████████████████████████████████████████             | 52167/69040 [00:13<00:04, 3569.60it/s]\u001b[A\n",
      "Generating channels:  76%|████████████████████████████████████████▎            | 52589/69040 [00:13<00:04, 3731.42it/s]\u001b[A\n",
      "Generating channels:  77%|████████████████████████████████████████▊            | 53118/69040 [00:13<00:03, 4146.16it/s]\u001b[A\n",
      "Generating channels:  78%|█████████████████████████████████████████            | 53546/69040 [00:13<00:03, 3932.77it/s]\u001b[A\n",
      "Generating channels:  78%|█████████████████████████████████████████▍           | 53950/69040 [00:13<00:04, 3618.52it/s]\u001b[A\n",
      "Generating channels:  79%|█████████████████████████████████████████▋           | 54323/69040 [00:13<00:04, 3589.64it/s]\u001b[A\n",
      "Generating channels:  79%|██████████████████████████████████████████           | 54808/69040 [00:13<00:03, 3922.66it/s]\u001b[A\n",
      "Generating channels:  80%|██████████████████████████████████████████▍          | 55225/69040 [00:13<00:03, 3990.80it/s]\u001b[A\n",
      "Generating channels:  81%|██████████████████████████████████████████▋          | 55631/69040 [00:14<00:03, 3681.53it/s]\u001b[A\n",
      "Generating channels:  81%|██████████████████████████████████████████▉          | 56008/69040 [00:14<00:03, 3501.36it/s]\u001b[A\n",
      "Generating channels:  82%|███████████████████████████████████████████▎         | 56379/69040 [00:14<00:03, 3552.37it/s]\u001b[A\n",
      "Generating channels:  82%|███████████████████████████████████████████▋         | 56939/69040 [00:14<00:02, 4112.56it/s]\u001b[A\n",
      "Generating channels:  83%|████████████████████████████████████████████         | 57359/69040 [00:14<00:03, 3818.35it/s]\u001b[A\n",
      "Generating channels:  84%|████████████████████████████████████████████▎        | 57750/69040 [00:14<00:03, 3470.02it/s]\u001b[A\n",
      "Generating channels:  84%|████████████████████████████████████████████▌        | 58108/69040 [00:14<00:03, 3440.42it/s]\u001b[A\n",
      "Generating channels: 100%|█████████████████████████████████████████████████████| 69040/69040 [00:14<00:00, 4648.07it/s]\u001b[A\n"
     ]
    },
    {
     "name": "stdout",
     "output_type": "stream",
     "text": [
      "\n",
      "BS-BS Channels\n"
     ]
    },
    {
     "name": "stderr",
     "output_type": "stream",
     "text": [
      "\n",
      "Reading ray-tracing: 100%|███████████████████████████████████████████████████████████████████████| 1/1 [00:00<?, ?it/s]\u001b[A\n",
      "\n",
      "Generating channels: 100%|██████████████████████████████████████████████████████████████| 1/1 [00:00<00:00, 142.91it/s]\u001b[A\n"
     ]
    },
    {
     "name": "stdout",
     "output_type": "stream",
     "text": [
      "\n",
      "Scene 3/5\n",
      "\n",
      "Basestation 1\n",
      "\n",
      "UE-BS Channels\n"
     ]
    },
    {
     "name": "stderr",
     "output_type": "stream",
     "text": [
      "\n",
      "Reading ray-tracing:   0%|                                                                   | 0/69040 [00:00<?, ?it/s]\u001b[A\n",
      "Reading ray-tracing:   4%|█▊                                                   | 2425/69040 [00:00<00:02, 24124.92it/s]\u001b[A\n",
      "Reading ray-tracing:   7%|███▋                                                 | 4838/69040 [00:00<00:02, 23505.15it/s]\u001b[A\n",
      "Reading ray-tracing:  10%|█████▌                                               | 7190/69040 [00:00<00:02, 22645.09it/s]\u001b[A\n",
      "Reading ray-tracing:  15%|███████▌                                            | 10100/69040 [00:00<00:02, 25054.06it/s]\u001b[A\n",
      "Reading ray-tracing:  18%|█████████▌                                          | 12615/69040 [00:00<00:02, 24609.33it/s]\u001b[A\n",
      "Reading ray-tracing:  22%|███████████▎                                        | 15083/69040 [00:00<00:02, 23881.53it/s]\u001b[A\n",
      "Reading ray-tracing:  26%|█████████████▎                                      | 17621/69040 [00:00<00:02, 24328.93it/s]\u001b[A\n",
      "Reading ray-tracing:  29%|███████████████▏                                    | 20219/69040 [00:00<00:01, 24797.21it/s]\u001b[A\n",
      "Reading ray-tracing:  34%|█████████████████▍                                  | 23160/69040 [00:00<00:01, 26163.17it/s]\u001b[A\n",
      "Reading ray-tracing:  37%|███████████████████▍                                | 25783/69040 [00:01<00:01, 25913.91it/s]\u001b[A\n",
      "Reading ray-tracing:  41%|█████████████████████▍                              | 28446/69040 [00:01<00:01, 26089.05it/s]\u001b[A\n",
      "Reading ray-tracing:  45%|███████████████████████▍                            | 31059/69040 [00:01<00:01, 24798.08it/s]\u001b[A\n",
      "Reading ray-tracing:  49%|█████████████████████████▎                          | 33553/69040 [00:01<00:01, 24694.17it/s]\u001b[A\n",
      "Reading ray-tracing:  53%|███████████████████████████▎                        | 36273/69040 [00:01<00:01, 25386.16it/s]\u001b[A\n",
      "Reading ray-tracing:  56%|█████████████████████████████▎                      | 38884/69040 [00:01<00:01, 25578.15it/s]\u001b[A\n",
      "Reading ray-tracing:  60%|███████████████████████████████▏                    | 41449/69040 [00:01<00:01, 25560.65it/s]\u001b[A\n",
      "Reading ray-tracing:  64%|█████████████████████████████████▏                  | 44010/69040 [00:01<00:00, 25461.17it/s]\u001b[A\n",
      "Reading ray-tracing:  68%|███████████████████████████████████                 | 46627/69040 [00:01<00:00, 25664.24it/s]\u001b[A\n",
      "Reading ray-tracing:  72%|█████████████████████████████████████▎              | 49459/69040 [00:01<00:00, 26449.00it/s]\u001b[A\n",
      "Reading ray-tracing:  75%|███████████████████████████████████████▏            | 52107/69040 [00:02<00:00, 25955.58it/s]\u001b[A\n",
      "Reading ray-tracing:  79%|█████████████████████████████████████████▏          | 54707/69040 [00:02<00:00, 25777.63it/s]\u001b[A\n",
      "Reading ray-tracing:  83%|███████████████████████████████████████████▏        | 57288/69040 [00:02<00:00, 25081.84it/s]\u001b[A\n",
      "Reading ray-tracing:  90%|██████████████████████████████████████████████▋     | 61923/69040 [00:02<00:00, 31257.05it/s]\u001b[A\n",
      "Reading ray-tracing: 100%|████████████████████████████████████████████████████| 69040/69040 [00:02<00:00, 27853.34it/s]\u001b[A\n",
      "\n",
      "Generating channels:   0%|                                                                   | 0/69040 [00:00<?, ?it/s]\u001b[A\n",
      "Generating channels:   1%|▎                                                      | 461/69040 [00:00<00:14, 4586.65it/s]\u001b[A\n",
      "Generating channels:   1%|▋                                                      | 920/69040 [00:00<00:19, 3523.21it/s]\u001b[A\n",
      "Generating channels:   2%|█                                                     | 1288/69040 [00:00<00:20, 3305.06it/s]\u001b[A\n",
      "Generating channels:   3%|█▌                                                    | 2044/69040 [00:00<00:14, 4744.82it/s]\u001b[A\n",
      "Generating channels:   4%|█▉                                                    | 2546/69040 [00:00<00:16, 4019.96it/s]\u001b[A\n",
      "Generating channels:   4%|██▎                                                   | 2979/69040 [00:00<00:18, 3559.07it/s]\u001b[A\n",
      "Generating channels:   5%|██▋                                                   | 3360/69040 [00:00<00:18, 3541.35it/s]\u001b[A\n",
      "Generating channels:   6%|███▏                                                  | 4013/69040 [00:01<00:15, 4313.67it/s]\u001b[A\n",
      "Generating channels:   6%|███▍                                                  | 4471/69040 [00:01<00:16, 3978.65it/s]\u001b[A\n",
      "Generating channels:   7%|███▊                                                  | 4890/69040 [00:01<00:18, 3518.52it/s]\u001b[A\n",
      "Generating channels:   8%|████▎                                                 | 5480/69040 [00:01<00:15, 4103.22it/s]\u001b[A\n",
      "Generating channels:   9%|████▋                                                 | 6004/69040 [00:01<00:14, 4392.71it/s]\u001b[A\n",
      "Generating channels:   9%|█████                                                 | 6468/69040 [00:01<00:15, 4009.39it/s]\u001b[A\n",
      "Generating channels:  10%|█████▍                                                | 6891/69040 [00:01<00:16, 3690.39it/s]\u001b[A\n",
      "Generating channels:  11%|█████▉                                                | 7531/69040 [00:01<00:14, 4368.58it/s]\u001b[A\n",
      "Generating channels:  12%|██████▎                                               | 7998/69040 [00:01<00:13, 4447.24it/s]\u001b[A\n",
      "Generating channels:  12%|██████▌                                               | 8463/69040 [00:02<00:15, 3868.01it/s]\u001b[A\n",
      "Generating channels:  13%|██████▉                                               | 8875/69040 [00:02<00:16, 3634.40it/s]\u001b[A\n",
      "Generating channels:  14%|███████▎                                              | 9418/69040 [00:02<00:14, 4081.44it/s]\u001b[A\n",
      "Generating channels:  14%|███████▋                                              | 9900/69040 [00:02<00:13, 4269.25it/s]\u001b[A\n",
      "Generating channels:  15%|███████▉                                             | 10345/69040 [00:02<00:15, 3746.76it/s]\u001b[A\n",
      "Generating channels:  16%|████████▏                                            | 10742/69040 [00:02<00:16, 3567.42it/s]\u001b[A\n",
      "Generating channels:  16%|████████▋                                            | 11279/69040 [00:02<00:14, 4017.76it/s]\u001b[A\n",
      "Generating channels:  17%|█████████                                            | 11769/69040 [00:02<00:13, 4251.25it/s]\u001b[A\n",
      "Generating channels:  18%|█████████▎                                           | 12211/69040 [00:03<00:14, 3796.40it/s]\u001b[A\n",
      "Generating channels:  18%|█████████▋                                           | 12610/69040 [00:03<00:15, 3716.88it/s]\u001b[A\n",
      "Generating channels:  19%|██████████                                           | 13154/69040 [00:03<00:13, 4168.37it/s]\u001b[A\n",
      "Generating channels:  20%|██████████▍                                          | 13638/69040 [00:03<00:12, 4351.05it/s]\u001b[A\n",
      "Generating channels:  20%|██████████▊                                          | 14086/69040 [00:03<00:14, 3891.00it/s]\u001b[A\n",
      "Generating channels:  21%|███████████▏                                         | 14492/69040 [00:03<00:14, 3753.20it/s]\u001b[A\n",
      "Generating channels:  22%|███████████▌                                         | 15037/69040 [00:03<00:12, 4195.25it/s]\u001b[A\n",
      "Generating channels:  23%|███████████▉                                         | 15547/69040 [00:03<00:12, 4441.77it/s]\u001b[A\n",
      "Generating channels:  23%|████████████▎                                        | 16004/69040 [00:04<00:14, 3759.85it/s]\u001b[A\n",
      "Generating channels:  24%|████████████▌                                        | 16406/69040 [00:04<00:14, 3717.75it/s]\u001b[A\n",
      "Generating channels:  25%|█████████████                                        | 16972/69040 [00:04<00:12, 4216.19it/s]\u001b[A\n",
      "Generating channels:  25%|█████████████▍                                       | 17432/69040 [00:04<00:11, 4318.76it/s]\u001b[A\n",
      "Generating channels:  26%|█████████████▋                                       | 17879/69040 [00:04<00:14, 3616.00it/s]\u001b[A\n",
      "Generating channels:  26%|██████████████                                       | 18269/69040 [00:04<00:14, 3558.00it/s]\u001b[A\n",
      "Generating channels:  27%|██████████████▍                                      | 18802/69040 [00:04<00:12, 4003.87it/s]\u001b[A\n",
      "Generating channels:  28%|██████████████▊                                      | 19347/69040 [00:04<00:11, 4383.05it/s]\u001b[A\n"
     ]
    },
    {
     "name": "stderr",
     "output_type": "stream",
     "text": [
      "Generating channels:  29%|███████████████▏                                     | 19805/69040 [00:05<00:12, 3895.23it/s]\u001b[A\n",
      "Generating channels:  29%|███████████████▌                                     | 20217/69040 [00:05<00:13, 3580.50it/s]\u001b[A\n",
      "Generating channels:  30%|███████████████▉                                     | 20821/69040 [00:05<00:11, 4188.26it/s]\u001b[A\n",
      "Generating channels:  31%|████████████████▎                                    | 21265/69040 [00:05<00:11, 4161.32it/s]\u001b[A\n",
      "Generating channels:  31%|████████████████▋                                    | 21699/69040 [00:05<00:12, 3759.74it/s]\u001b[A\n",
      "Generating channels:  32%|████████████████▉                                    | 22093/69040 [00:05<00:13, 3480.96it/s]\u001b[A\n",
      "Generating channels:  33%|█████████████████▎                                   | 22630/69040 [00:05<00:11, 3948.07it/s]\u001b[A\n",
      "Generating channels:  34%|█████████████████▊                                   | 23148/69040 [00:05<00:10, 4265.90it/s]\u001b[A\n",
      "Generating channels:  34%|██████████████████                                   | 23593/69040 [00:05<00:11, 3825.29it/s]\u001b[A\n",
      "Generating channels:  35%|██████████████████▍                                  | 23995/69040 [00:06<00:12, 3724.65it/s]\u001b[A\n",
      "Generating channels:  36%|██████████████████▉                                  | 24742/69040 [00:06<00:09, 4694.61it/s]\u001b[A\n",
      "Generating channels:  37%|███████████████████▎                                 | 25235/69040 [00:06<00:10, 4251.20it/s]\u001b[A\n",
      "Generating channels:  37%|███████████████████▋                                 | 25683/69040 [00:06<00:11, 3763.18it/s]\u001b[A\n",
      "Generating channels:  38%|████████████████████                                 | 26147/69040 [00:06<00:10, 3971.07it/s]\u001b[A\n",
      "Generating channels:  39%|████████████████████▌                                | 26750/69040 [00:06<00:09, 4494.77it/s]\u001b[A\n",
      "Generating channels:  39%|████████████████████▉                                | 27223/69040 [00:06<00:10, 4032.67it/s]\u001b[A\n",
      "Generating channels:  40%|█████████████████████▏                               | 27650/69040 [00:06<00:10, 3776.76it/s]\u001b[A\n",
      "Generating channels:  41%|█████████████████████▌                               | 28070/69040 [00:07<00:10, 3877.65it/s]\u001b[A\n",
      "Generating channels:  42%|██████████████████████                               | 28699/69040 [00:07<00:08, 4506.47it/s]\u001b[A\n",
      "Generating channels:  42%|██████████████████████▍                              | 29168/69040 [00:07<00:10, 3937.50it/s]\u001b[A\n",
      "Generating channels:  43%|██████████████████████▋                              | 29586/69040 [00:07<00:10, 3666.68it/s]\u001b[A\n",
      "Generating channels:  44%|███████████████████████                              | 30122/69040 [00:07<00:09, 4081.81it/s]\u001b[A\n",
      "Generating channels:  44%|███████████████████████▌                             | 30664/69040 [00:07<00:08, 4425.86it/s]\u001b[A\n",
      "Generating channels:  45%|███████████████████████▉                             | 31127/69040 [00:07<00:09, 3945.03it/s]\u001b[A\n",
      "Generating channels:  46%|████████████████████████▏                            | 31544/69040 [00:07<00:10, 3598.78it/s]\u001b[A\n",
      "Generating channels:  47%|████████████████████████▋                            | 32123/69040 [00:08<00:08, 4133.72it/s]\u001b[A\n",
      "Generating channels:  47%|█████████████████████████                            | 32590/69040 [00:08<00:08, 4267.58it/s]\u001b[A\n",
      "Generating channels:  48%|█████████████████████████▎                           | 33036/69040 [00:08<00:09, 3878.40it/s]\u001b[A\n",
      "Generating channels:  48%|█████████████████████████▋                           | 33443/69040 [00:08<00:09, 3744.14it/s]\u001b[A\n",
      "Generating channels:  49%|██████████████████████████▏                          | 34060/69040 [00:08<00:08, 4368.27it/s]\u001b[A\n",
      "Generating channels:  50%|██████████████████████████▌                          | 34550/69040 [00:08<00:07, 4505.79it/s]\u001b[A\n",
      "Generating channels:  51%|██████████████████████████▉                          | 35015/69040 [00:08<00:09, 3610.83it/s]\u001b[A\n",
      "Generating channels:  51%|███████████████████████████▏                         | 35413/69040 [00:08<00:09, 3443.03it/s]\u001b[A\n",
      "Generating channels:  52%|███████████████████████████▋                         | 36100/69040 [00:09<00:07, 4266.80it/s]\u001b[A\n",
      "Generating channels:  53%|████████████████████████████                         | 36564/69040 [00:09<00:07, 4094.44it/s]\u001b[A\n",
      "Generating channels:  54%|████████████████████████████▍                        | 37000/69040 [00:09<00:08, 3732.24it/s]\u001b[A\n",
      "Generating channels:  54%|████████████████████████████▋                        | 37395/69040 [00:09<00:08, 3769.82it/s]\u001b[A\n",
      "Generating channels:  55%|█████████████████████████████▏                       | 37996/69040 [00:09<00:07, 4351.84it/s]\u001b[A\n",
      "Generating channels:  56%|█████████████████████████████▌                       | 38452/69040 [00:09<00:07, 4011.48it/s]\u001b[A\n",
      "Generating channels:  56%|█████████████████████████████▊                       | 38871/69040 [00:09<00:08, 3573.84it/s]\u001b[A\n",
      "Generating channels:  57%|██████████████████████████████▏                      | 39247/69040 [00:09<00:08, 3482.07it/s]\u001b[A\n",
      "Generating channels:  58%|██████████████████████████████▌                      | 39763/69040 [00:10<00:07, 3901.79it/s]\u001b[A\n",
      "Generating channels:  58%|██████████████████████████████▊                      | 40219/69040 [00:10<00:07, 4070.95it/s]\u001b[A\n",
      "Generating channels:  59%|███████████████████████████████▏                     | 40640/69040 [00:10<00:08, 3511.02it/s]\u001b[A\n",
      "Generating channels:  59%|███████████████████████████████▍                     | 41013/69040 [00:10<00:08, 3428.04it/s]\u001b[A\n",
      "Generating channels:  60%|███████████████████████████████▉                     | 41544/69040 [00:10<00:07, 3905.41it/s]\u001b[A\n",
      "Generating channels:  61%|████████████████████████████████▏                    | 42003/69040 [00:10<00:06, 4088.35it/s]\u001b[A\n",
      "Generating channels:  61%|████████████████████████████████▌                    | 42427/69040 [00:10<00:07, 3799.03it/s]\u001b[A\n",
      "Generating channels:  62%|████████████████████████████████▊                    | 42821/69040 [00:10<00:07, 3564.96it/s]\u001b[A\n",
      "Generating channels:  63%|█████████████████████████████████▏                   | 43300/69040 [00:10<00:06, 3884.71it/s]\u001b[A\n",
      "Generating channels:  64%|█████████████████████████████████▋                   | 43868/69040 [00:11<00:05, 4367.96it/s]\u001b[A\n",
      "Generating channels:  64%|██████████████████████████████████                   | 44319/69040 [00:11<00:06, 3908.35it/s]\u001b[A\n",
      "Generating channels:  65%|██████████████████████████████████▎                  | 44727/69040 [00:11<00:06, 3761.30it/s]\u001b[A\n",
      "Generating channels:  65%|██████████████████████████████████▋                  | 45156/69040 [00:11<00:06, 3899.66it/s]\u001b[A\n",
      "Generating channels:  66%|███████████████████████████████████                  | 45747/69040 [00:11<00:05, 4441.25it/s]\u001b[A\n",
      "Generating channels:  67%|███████████████████████████████████▍                 | 46204/69040 [00:11<00:05, 3971.28it/s]\u001b[A\n",
      "Generating channels:  68%|███████████████████████████████████▊                 | 46618/69040 [00:11<00:05, 3805.95it/s]\u001b[A\n",
      "Generating channels:  68%|████████████████████████████████████▏                | 47141/69040 [00:11<00:05, 4178.37it/s]\u001b[A\n",
      "Generating channels:  69%|████████████████████████████████████▌                | 47599/69040 [00:12<00:05, 4280.90it/s]\u001b[A\n",
      "Generating channels:  70%|████████████████████████████████████▉                | 48038/69040 [00:12<00:05, 3952.32it/s]\u001b[A\n",
      "Generating channels:  70%|█████████████████████████████████████▏               | 48445/69040 [00:12<00:05, 3525.33it/s]\u001b[A\n",
      "Generating channels:  71%|█████████████████████████████████████▌               | 48902/69040 [00:12<00:05, 3788.96it/s]\u001b[A\n",
      "Generating channels:  72%|█████████████████████████████████████▉               | 49415/69040 [00:12<00:04, 4143.30it/s]\u001b[A\n",
      "Generating channels:  72%|██████████████████████████████████████▎              | 49845/69040 [00:12<00:04, 3967.72it/s]\u001b[A\n",
      "Generating channels:  73%|██████████████████████████████████████▌              | 50253/69040 [00:12<00:05, 3558.62it/s]\u001b[A\n",
      "Generating channels:  73%|██████████████████████████████████████▊              | 50623/69040 [00:12<00:05, 3562.96it/s]\u001b[A\n"
     ]
    },
    {
     "name": "stderr",
     "output_type": "stream",
     "text": [
      "Generating channels:  74%|███████████████████████████████████████▎             | 51134/69040 [00:12<00:04, 3974.81it/s]\u001b[A\n",
      "Generating channels:  75%|███████████████████████████████████████▌             | 51592/69040 [00:13<00:04, 4135.53it/s]\u001b[A\n",
      "Generating channels:  75%|███████████████████████████████████████▉             | 52016/69040 [00:13<00:04, 3776.10it/s]\u001b[A\n",
      "Generating channels:  76%|████████████████████████████████████████▏            | 52406/69040 [00:13<00:04, 3798.14it/s]\u001b[A\n",
      "Generating channels:  77%|████████████████████████████████████████▌            | 52835/69040 [00:13<00:04, 3933.63it/s]\u001b[A\n",
      "Generating channels:  77%|████████████████████████████████████████▉            | 53328/69040 [00:13<00:03, 4213.17it/s]\u001b[A\n",
      "Generating channels:  78%|█████████████████████████████████████████▎           | 53756/69040 [00:13<00:04, 3776.83it/s]\u001b[A\n",
      "Generating channels:  78%|█████████████████████████████████████████▌           | 54147/69040 [00:13<00:04, 3636.08it/s]\u001b[A\n",
      "Generating channels:  79%|█████████████████████████████████████████▉           | 54553/69040 [00:13<00:03, 3747.78it/s]\u001b[A\n",
      "Generating channels:  80%|██████████████████████████████████████████▏          | 54971/69040 [00:13<00:03, 3862.97it/s]\u001b[A\n",
      "Generating channels:  80%|██████████████████████████████████████████▌          | 55364/69040 [00:14<00:03, 3769.78it/s]\u001b[A\n",
      "Generating channels:  81%|██████████████████████████████████████████▊          | 55746/69040 [00:14<00:03, 3474.02it/s]\u001b[A\n",
      "Generating channels:  81%|███████████████████████████████████████████          | 56101/69040 [00:14<00:03, 3443.36it/s]\u001b[A\n",
      "Generating channels:  82%|███████████████████████████████████████████▍         | 56516/69040 [00:14<00:03, 3637.67it/s]\u001b[A\n",
      "Generating channels:  83%|███████████████████████████████████████████▋         | 56985/69040 [00:14<00:03, 3928.31it/s]\u001b[A\n",
      "Generating channels:  83%|████████████████████████████████████████████         | 57383/69040 [00:14<00:03, 3849.09it/s]\u001b[A\n",
      "Generating channels:  84%|████████████████████████████████████████████▎        | 57772/69040 [00:14<00:03, 3523.45it/s]\u001b[A\n",
      "Generating channels: 100%|█████████████████████████████████████████████████████| 69040/69040 [00:14<00:00, 4619.97it/s]\u001b[A\n"
     ]
    },
    {
     "name": "stdout",
     "output_type": "stream",
     "text": [
      "\n",
      "BS-BS Channels\n"
     ]
    },
    {
     "name": "stderr",
     "output_type": "stream",
     "text": [
      "\n",
      "Reading ray-tracing: 100%|█████████████████████████████████████████████████████████████| 1/1 [00:00<00:00, 1000.31it/s]\u001b[A\n",
      "\n",
      "Generating channels: 100%|██████████████████████████████████████████████████████████████| 1/1 [00:00<00:00, 250.03it/s]\u001b[A\n"
     ]
    },
    {
     "name": "stdout",
     "output_type": "stream",
     "text": [
      "\n",
      "Scene 4/5\n",
      "\n",
      "Basestation 1\n",
      "\n",
      "UE-BS Channels\n"
     ]
    },
    {
     "name": "stderr",
     "output_type": "stream",
     "text": [
      "\n",
      "Reading ray-tracing:   0%|                                                                   | 0/69040 [00:00<?, ?it/s]\u001b[A\n",
      "Reading ray-tracing:   4%|█▊                                                   | 2423/69040 [00:00<00:02, 24224.83it/s]\u001b[A\n",
      "Reading ray-tracing:   7%|███▋                                                 | 4846/69040 [00:00<00:02, 24153.94it/s]\u001b[A\n",
      "Reading ray-tracing:  11%|█████▋                                               | 7467/69040 [00:00<00:02, 25025.72it/s]\u001b[A\n",
      "Reading ray-tracing:  15%|███████▋                                            | 10181/69040 [00:00<00:02, 25805.91it/s]\u001b[A\n",
      "Reading ray-tracing:  18%|█████████▌                                          | 12762/69040 [00:00<00:02, 24611.38it/s]\u001b[A\n",
      "Reading ray-tracing:  22%|███████████▍                                        | 15232/69040 [00:00<00:02, 24359.17it/s]\u001b[A\n",
      "Reading ray-tracing:  26%|█████████████▎                                      | 17674/69040 [00:00<00:02, 23480.93it/s]\u001b[A\n",
      "Reading ray-tracing:  30%|███████████████▍                                    | 20548/69040 [00:00<00:01, 25037.81it/s]\u001b[A\n",
      "Reading ray-tracing:  34%|█████████████████▌                                  | 23244/69040 [00:00<00:01, 25577.25it/s]\u001b[A\n",
      "Reading ray-tracing:  37%|███████████████████▍                                | 25812/69040 [00:01<00:01, 25493.26it/s]\u001b[A\n",
      "Reading ray-tracing:  41%|█████████████████████▎                              | 28369/69040 [00:01<00:01, 24201.55it/s]\u001b[A\n",
      "Reading ray-tracing:  45%|███████████████████████▎                            | 30977/69040 [00:01<00:01, 24742.33it/s]\u001b[A\n",
      "Reading ray-tracing:  48%|█████████████████████████▏                          | 33466/69040 [00:01<00:01, 24007.83it/s]\u001b[A\n",
      "Reading ray-tracing:  52%|███████████████████████████▏                        | 36059/69040 [00:01<00:01, 24526.45it/s]\u001b[A\n",
      "Reading ray-tracing:  56%|█████████████████████████████                       | 38523/69040 [00:01<00:01, 24027.83it/s]\u001b[A\n",
      "Reading ray-tracing:  59%|██████████████████████████████▉                     | 41001/69040 [00:01<00:01, 24239.88it/s]\u001b[A\n",
      "Reading ray-tracing:  63%|████████████████████████████████▊                   | 43485/69040 [00:01<00:01, 24413.70it/s]\u001b[A\n",
      "Reading ray-tracing:  67%|██████████████████████████████████▋                 | 46103/69040 [00:01<00:00, 24896.36it/s]\u001b[A\n",
      "Reading ray-tracing:  71%|████████████████████████████████████▋               | 48694/69040 [00:01<00:00, 25158.33it/s]\u001b[A\n",
      "Reading ray-tracing:  74%|██████████████████████████████████████▋             | 51401/69040 [00:02<00:00, 25684.77it/s]\u001b[A\n",
      "Reading ray-tracing:  78%|████████████████████████████████████████▋           | 53973/69040 [00:02<00:00, 25280.58it/s]\u001b[A\n",
      "Reading ray-tracing:  82%|██████████████████████████████████████████▋         | 56701/69040 [00:02<00:00, 25868.13it/s]\u001b[A\n",
      "Reading ray-tracing:  87%|█████████████████████████████████████████████       | 59899/69040 [00:02<00:00, 27635.21it/s]\u001b[A\n",
      "Reading ray-tracing: 100%|████████████████████████████████████████████████████| 69040/69040 [00:02<00:00, 27496.80it/s]\u001b[A\n",
      "\n",
      "Generating channels:   0%|                                                                   | 0/69040 [00:00<?, ?it/s]\u001b[A\n",
      "Generating channels:   1%|▎                                                      | 456/69040 [00:00<00:15, 4535.76it/s]\u001b[A\n",
      "Generating channels:   1%|▋                                                      | 910/69040 [00:00<00:19, 3458.68it/s]\u001b[A\n",
      "Generating channels:   2%|▉                                                     | 1272/69040 [00:00<00:19, 3473.42it/s]\u001b[A\n",
      "Generating channels:   3%|█▌                                                    | 1986/69040 [00:00<00:14, 4764.80it/s]\u001b[A\n",
      "Generating channels:   4%|█▉                                                    | 2482/69040 [00:00<00:15, 4214.37it/s]\u001b[A\n",
      "Generating channels:   4%|██▎                                                   | 2924/69040 [00:00<00:17, 3691.56it/s]\u001b[A\n",
      "Generating channels:   5%|██▌                                                   | 3344/69040 [00:00<00:17, 3821.77it/s]\u001b[A\n",
      "Generating channels:   6%|███▏                                                  | 4061/69040 [00:00<00:13, 4737.86it/s]\u001b[A\n",
      "Generating channels:   7%|███▌                                                  | 4560/69040 [00:01<00:15, 4157.47it/s]\u001b[A\n",
      "Generating channels:   7%|███▉                                                  | 5004/69040 [00:01<00:16, 3850.33it/s]\u001b[A\n",
      "Generating channels:   8%|████▍                                                 | 5650/69040 [00:01<00:14, 4500.49it/s]\u001b[A\n",
      "Generating channels:   9%|████▊                                                 | 6129/69040 [00:01<00:13, 4558.19it/s]\u001b[A\n",
      "Generating channels:  10%|█████▏                                                | 6606/69040 [00:01<00:16, 3879.47it/s]\u001b[A\n",
      "Generating channels:  10%|█████▍                                                | 7024/69040 [00:01<00:16, 3853.41it/s]\u001b[A\n",
      "Generating channels:  11%|██████                                                | 7762/69040 [00:01<00:12, 4749.69it/s]\u001b[A\n",
      "Generating channels:  12%|██████▍                                               | 8267/69040 [00:01<00:14, 4285.27it/s]\u001b[A\n",
      "Generating channels:  13%|██████▊                                               | 8723/69040 [00:02<00:15, 3830.67it/s]\u001b[A\n",
      "Generating channels:  14%|███████▎                                              | 9335/69040 [00:02<00:13, 4382.73it/s]\u001b[A\n",
      "Generating channels:  14%|███████▋                                              | 9804/69040 [00:02<00:13, 4322.78it/s]\u001b[A\n",
      "Generating channels:  15%|███████▊                                             | 10258/69040 [00:02<00:15, 3832.51it/s]\u001b[A\n",
      "Generating channels:  15%|████████▏                                            | 10664/69040 [00:02<00:16, 3539.16it/s]\u001b[A\n",
      "Generating channels:  16%|████████▋                                            | 11281/69040 [00:02<00:13, 4177.73it/s]\u001b[A\n",
      "Generating channels:  17%|█████████                                            | 11754/69040 [00:02<00:13, 4314.24it/s]\u001b[A\n",
      "Generating channels:  18%|█████████▎                                           | 12207/69040 [00:02<00:14, 3813.62it/s]\u001b[A\n",
      "Generating channels:  18%|█████████▋                                           | 12612/69040 [00:03<00:15, 3618.56it/s]\u001b[A\n",
      "Generating channels:  19%|██████████                                           | 13181/69040 [00:03<00:13, 4137.84it/s]\u001b[A\n",
      "Generating channels:  20%|██████████▍                                          | 13656/69040 [00:03<00:12, 4299.22it/s]\u001b[A\n",
      "Generating channels:  20%|██████████▊                                          | 14104/69040 [00:03<00:14, 3806.70it/s]\u001b[A\n",
      "Generating channels:  21%|███████████▏                                         | 14506/69040 [00:03<00:15, 3507.64it/s]\u001b[A\n",
      "Generating channels:  22%|███████████▌                                         | 15126/69040 [00:03<00:12, 4176.37it/s]\u001b[A\n",
      "Generating channels:  23%|███████████▉                                         | 15570/69040 [00:03<00:12, 4174.34it/s]\u001b[A\n",
      "Generating channels:  23%|████████████▎                                        | 16006/69040 [00:03<00:14, 3735.79it/s]\u001b[A\n",
      "Generating channels:  24%|████████████▌                                        | 16399/69040 [00:04<00:14, 3580.57it/s]\u001b[A\n",
      "Generating channels:  25%|█████████████                                        | 17010/69040 [00:04<00:12, 4226.04it/s]\u001b[A\n",
      "Generating channels:  25%|█████████████▍                                       | 17475/69040 [00:04<00:11, 4333.10it/s]\u001b[A\n",
      "Generating channels:  26%|█████████████▊                                       | 17924/69040 [00:04<00:13, 3799.57it/s]\u001b[A\n",
      "Generating channels:  27%|██████████████                                       | 18326/69040 [00:04<00:14, 3568.94it/s]\u001b[A\n",
      "Generating channels:  27%|██████████████▌                                      | 18898/69040 [00:04<00:12, 4105.59it/s]\u001b[A\n",
      "Generating channels:  28%|██████████████▉                                      | 19389/69040 [00:04<00:11, 4318.33it/s]\u001b[A\n",
      "Generating channels:  29%|███████████████▏                                     | 19839/69040 [00:04<00:13, 3780.67it/s]\u001b[A\n"
     ]
    },
    {
     "name": "stderr",
     "output_type": "stream",
     "text": [
      "Generating channels:  29%|███████████████▌                                     | 20240/69040 [00:05<00:12, 3804.84it/s]\u001b[A\n",
      "Generating channels:  30%|███████████████▉                                     | 20794/69040 [00:05<00:11, 4257.08it/s]\u001b[A\n",
      "Generating channels:  31%|████████████████▎                                    | 21238/69040 [00:05<00:11, 4181.01it/s]\u001b[A\n",
      "Generating channels:  31%|████████████████▋                                    | 21669/69040 [00:05<00:13, 3606.30it/s]\u001b[A\n",
      "Generating channels:  32%|████████████████▉                                    | 22051/69040 [00:05<00:13, 3526.81it/s]\u001b[A\n",
      "Generating channels:  33%|█████████████████▎                                   | 22615/69040 [00:05<00:11, 4064.91it/s]\u001b[A\n",
      "Generating channels:  34%|█████████████████▊                                   | 23156/69040 [00:05<00:10, 4418.98it/s]\u001b[A\n",
      "Generating channels:  34%|██████████████████▏                                  | 23615/69040 [00:05<00:11, 3871.31it/s]\u001b[A\n",
      "Generating channels:  35%|██████████████████▍                                  | 24025/69040 [00:06<00:12, 3733.90it/s]\u001b[A\n",
      "Generating channels:  36%|██████████████████▉                                  | 24606/69040 [00:06<00:10, 4262.73it/s]\u001b[A\n",
      "Generating channels:  36%|███████████████████▎                                 | 25087/69040 [00:06<00:09, 4409.08it/s]\u001b[A\n",
      "Generating channels:  37%|███████████████████▌                                 | 25544/69040 [00:06<00:11, 3791.15it/s]\u001b[A\n",
      "Generating channels:  38%|███████████████████▉                                 | 25948/69040 [00:06<00:11, 3736.02it/s]\u001b[A\n",
      "Generating channels:  39%|████████████████████▍                                | 26658/69040 [00:06<00:09, 4600.56it/s]\u001b[A\n",
      "Generating channels:  39%|████████████████████▊                                | 27143/69040 [00:06<00:09, 4307.34it/s]\u001b[A\n",
      "Generating channels:  40%|█████████████████████▏                               | 27594/69040 [00:06<00:11, 3750.24it/s]\u001b[A\n",
      "Generating channels:  41%|█████████████████████▌                               | 28010/69040 [00:06<00:10, 3845.47it/s]\u001b[A\n",
      "Generating channels:  41%|█████████████████████▉                               | 28645/69040 [00:07<00:09, 4485.72it/s]\u001b[A\n",
      "Generating channels:  42%|██████████████████████▎                              | 29117/69040 [00:07<00:10, 3932.52it/s]\u001b[A\n",
      "Generating channels:  43%|██████████████████████▋                              | 29537/69040 [00:07<00:10, 3602.23it/s]\u001b[A\n",
      "Generating channels:  44%|███████████████████████                              | 30102/69040 [00:07<00:09, 4094.52it/s]\u001b[A\n",
      "Generating channels:  44%|███████████████████████▍                             | 30538/69040 [00:07<00:09, 4104.61it/s]\u001b[A\n",
      "Generating channels:  45%|███████████████████████▊                             | 30967/69040 [00:07<00:09, 3884.84it/s]\u001b[A\n",
      "Generating channels:  45%|████████████████████████                             | 31370/69040 [00:07<00:10, 3567.18it/s]\u001b[A\n",
      "Generating channels:  46%|████████████████████████▍                            | 31808/69040 [00:07<00:09, 3768.81it/s]\u001b[A\n",
      "Generating channels:  47%|████████████████████████▉                            | 32405/69040 [00:08<00:08, 4348.45it/s]\u001b[A\n",
      "Generating channels:  48%|█████████████████████████▏                           | 32856/69040 [00:08<00:08, 4062.48it/s]\u001b[A\n",
      "Generating channels:  48%|█████████████████████████▌                           | 33276/69040 [00:08<00:09, 3703.68it/s]\u001b[A\n",
      "Generating channels:  49%|█████████████████████████▊                           | 33660/69040 [00:08<00:09, 3617.57it/s]\u001b[A\n",
      "Generating channels:  50%|██████████████████████████▎                          | 34295/69040 [00:08<00:08, 4325.23it/s]\u001b[A\n",
      "Generating channels:  50%|██████████████████████████▋                          | 34744/69040 [00:08<00:08, 4025.21it/s]\u001b[A\n",
      "Generating channels:  51%|██████████████████████████▉                          | 35161/69040 [00:08<00:09, 3747.32it/s]\u001b[A\n",
      "Generating channels:  51%|███████████████████████████▎                         | 35548/69040 [00:08<00:09, 3651.78it/s]\u001b[A\n",
      "Generating channels:  52%|███████████████████████████▋                         | 36124/69040 [00:09<00:07, 4200.35it/s]\u001b[A\n",
      "Generating channels:  53%|████████████████████████████                         | 36558/69040 [00:09<00:08, 4008.61it/s]\u001b[A\n",
      "Generating channels:  54%|████████████████████████████▍                        | 36969/69040 [00:09<00:08, 3697.53it/s]\u001b[A\n",
      "Generating channels:  54%|████████████████████████████▋                        | 37349/69040 [00:09<00:08, 3588.67it/s]\u001b[A\n",
      "Generating channels:  55%|█████████████████████████████▏                       | 37994/69040 [00:09<00:07, 4337.78it/s]\u001b[A\n",
      "Generating channels:  56%|█████████████████████████████▌                       | 38443/69040 [00:09<00:07, 4042.09it/s]\u001b[A\n",
      "Generating channels:  56%|█████████████████████████████▊                       | 38860/69040 [00:09<00:08, 3698.24it/s]\u001b[A\n",
      "Generating channels:  57%|██████████████████████████████▏                      | 39243/69040 [00:09<00:08, 3670.76it/s]\u001b[A\n",
      "Generating channels:  58%|██████████████████████████████▌                      | 39774/69040 [00:09<00:07, 4098.43it/s]\u001b[A\n",
      "Generating channels:  58%|██████████████████████████████▊                      | 40210/69040 [00:10<00:06, 4163.92it/s]\u001b[A\n",
      "Generating channels:  59%|███████████████████████████████▏                     | 40635/69040 [00:10<00:07, 3699.23it/s]\u001b[A\n",
      "Generating channels:  59%|███████████████████████████████▍                     | 41020/69040 [00:10<00:07, 3648.78it/s]\u001b[A\n",
      "Generating channels:  60%|███████████████████████████████▊                     | 41395/69040 [00:10<00:07, 3670.81it/s]\u001b[A\n",
      "Generating channels:  61%|████████████████████████████████▏                    | 41909/69040 [00:10<00:06, 4070.65it/s]\u001b[A\n",
      "Generating channels:  61%|████████████████████████████████▍                    | 42325/69040 [00:10<00:07, 3708.00it/s]\u001b[A\n",
      "Generating channels:  62%|████████████████████████████████▊                    | 42707/69040 [00:10<00:07, 3529.89it/s]\u001b[A\n",
      "Generating channels:  62%|█████████████████████████████████                    | 43077/69040 [00:10<00:07, 3570.16it/s]\u001b[A\n",
      "Generating channels:  63%|█████████████████████████████████▌                   | 43712/69040 [00:10<00:05, 4327.02it/s]\u001b[A\n",
      "Generating channels:  64%|█████████████████████████████████▉                   | 44156/69040 [00:11<00:06, 3697.32it/s]\u001b[A\n",
      "Generating channels:  65%|██████████████████████████████████▏                  | 44549/69040 [00:11<00:06, 3548.70it/s]\u001b[A\n",
      "Generating channels:  65%|██████████████████████████████████▍                  | 44920/69040 [00:11<00:06, 3557.97it/s]\u001b[A\n",
      "Generating channels:  66%|██████████████████████████████████▉                  | 45541/69040 [00:11<00:05, 4256.69it/s]\u001b[A\n",
      "Generating channels:  67%|███████████████████████████████████▎                 | 45984/69040 [00:11<00:05, 4032.63it/s]\u001b[A\n",
      "Generating channels:  67%|███████████████████████████████████▌                 | 46401/69040 [00:11<00:06, 3574.19it/s]\u001b[A\n",
      "Generating channels:  68%|███████████████████████████████████▉                 | 46775/69040 [00:11<00:06, 3611.33it/s]\u001b[A\n",
      "Generating channels:  69%|████████████████████████████████████▎                | 47347/69040 [00:11<00:05, 4163.71it/s]\u001b[A\n",
      "Generating channels:  69%|████████████████████████████████████▋                | 47800/69040 [00:12<00:04, 4258.13it/s]\u001b[A\n",
      "Generating channels:  70%|█████████████████████████████████████                | 48238/69040 [00:12<00:05, 3767.89it/s]\u001b[A\n",
      "Generating channels:  70%|█████████████████████████████████████▎               | 48633/69040 [00:12<00:05, 3646.44it/s]\u001b[A\n",
      "Generating channels:  71%|█████████████████████████████████████▋               | 49150/69040 [00:12<00:04, 4040.76it/s]\u001b[A\n",
      "Generating channels:  72%|██████████████████████████████████████               | 49612/69040 [00:12<00:04, 4192.65it/s]\u001b[A\n",
      "Generating channels:  72%|██████████████████████████████████████▍              | 50043/69040 [00:12<00:04, 3838.29it/s]\u001b[A\n",
      "Generating channels:  73%|██████████████████████████████████████▋              | 50440/69040 [00:12<00:05, 3670.50it/s]\u001b[A\n"
     ]
    },
    {
     "name": "stderr",
     "output_type": "stream",
     "text": [
      "Generating channels:  74%|███████████████████████████████████████              | 50928/69040 [00:12<00:04, 3989.54it/s]\u001b[A\n",
      "Generating channels:  74%|███████████████████████████████████████▍             | 51425/69040 [00:12<00:04, 4252.75it/s]\u001b[A\n",
      "Generating channels:  75%|███████████████████████████████████████▊             | 51860/69040 [00:13<00:04, 3931.38it/s]\u001b[A\n",
      "Generating channels:  76%|████████████████████████████████████████             | 52264/69040 [00:13<00:04, 3719.39it/s]\u001b[A\n",
      "Generating channels:  76%|████████████████████████████████████████▌            | 52757/69040 [00:13<00:04, 4031.74it/s]\u001b[A\n",
      "Generating channels:  77%|████████████████████████████████████████▉            | 53262/69040 [00:13<00:03, 4305.35it/s]\u001b[A\n",
      "Generating channels:  78%|█████████████████████████████████████████▏           | 53702/69040 [00:13<00:03, 3989.24it/s]\u001b[A\n",
      "Generating channels:  78%|█████████████████████████████████████████▌           | 54111/69040 [00:13<00:03, 3795.58it/s]\u001b[A\n",
      "Generating channels:  79%|█████████████████████████████████████████▊           | 54522/69040 [00:13<00:03, 3874.03it/s]\u001b[A\n",
      "Generating channels:  80%|██████████████████████████████████████████▎          | 55051/69040 [00:13<00:03, 4258.88it/s]\u001b[A\n",
      "Generating channels:  80%|██████████████████████████████████████████▌          | 55485/69040 [00:13<00:03, 4180.90it/s]\u001b[A\n",
      "Generating channels:  81%|██████████████████████████████████████████▉          | 55909/69040 [00:14<00:03, 3733.17it/s]\u001b[A\n",
      "Generating channels:  82%|███████████████████████████████████████████▏         | 56308/69040 [00:14<00:03, 3800.76it/s]\u001b[A\n",
      "Generating channels:  82%|███████████████████████████████████████████▌         | 56817/69040 [00:14<00:02, 4153.76it/s]\u001b[A\n",
      "Generating channels:  83%|███████████████████████████████████████████▉         | 57256/69040 [00:14<00:02, 4213.33it/s]\u001b[A\n",
      "Generating channels:  84%|████████████████████████████████████████████▎        | 57685/69040 [00:14<00:02, 3905.44it/s]\u001b[A\n",
      "Generating channels:  84%|████████████████████████████████████████████▌        | 58085/69040 [00:14<00:02, 3865.80it/s]\u001b[A\n",
      "Generating channels: 100%|█████████████████████████████████████████████████████| 69040/69040 [00:14<00:00, 4662.76it/s]\u001b[A\n"
     ]
    },
    {
     "name": "stdout",
     "output_type": "stream",
     "text": [
      "\n",
      "BS-BS Channels\n"
     ]
    },
    {
     "name": "stderr",
     "output_type": "stream",
     "text": [
      "\n",
      "Reading ray-tracing: 100%|███████████████████████████████████████████████████████████████████████| 1/1 [00:00<?, ?it/s]\u001b[A\n",
      "\n",
      "Generating channels: 100%|██████████████████████████████████████████████████████████████| 1/1 [00:00<00:00, 500.27it/s]\u001b[A\n"
     ]
    },
    {
     "name": "stdout",
     "output_type": "stream",
     "text": [
      "\n",
      "Scene 5/5\n",
      "\n",
      "Basestation 1\n",
      "\n",
      "UE-BS Channels\n"
     ]
    },
    {
     "name": "stderr",
     "output_type": "stream",
     "text": [
      "\n",
      "Reading ray-tracing:   0%|                                                                   | 0/69040 [00:00<?, ?it/s]\u001b[A\n",
      "Reading ray-tracing:   4%|█▉                                                   | 2530/69040 [00:00<00:02, 25283.51it/s]\u001b[A\n",
      "Reading ray-tracing:   8%|████                                                 | 5233/69040 [00:00<00:02, 26231.15it/s]\u001b[A\n",
      "Reading ray-tracing:  12%|██████                                               | 7943/69040 [00:00<00:02, 26565.12it/s]\u001b[A\n",
      "Reading ray-tracing:  15%|███████▉                                            | 10605/69040 [00:00<00:02, 26583.65it/s]\u001b[A\n",
      "Reading ray-tracing:  19%|██████████                                          | 13323/69040 [00:00<00:02, 26747.45it/s]\u001b[A\n",
      "Reading ray-tracing:  23%|████████████▏                                       | 16116/69040 [00:00<00:01, 27101.43it/s]\u001b[A\n",
      "Reading ray-tracing:  27%|██████████████▏                                     | 18827/69040 [00:00<00:02, 24798.71it/s]\u001b[A\n",
      "Reading ray-tracing:  31%|████████████████                                    | 21341/69040 [00:00<00:01, 24641.71it/s]\u001b[A\n",
      "Reading ray-tracing:  35%|██████████████████                                  | 23907/69040 [00:00<00:01, 24942.43it/s]\u001b[A\n",
      "Reading ray-tracing:  38%|███████████████████▉                                | 26419/69040 [00:01<00:01, 23555.87it/s]\u001b[A\n",
      "Reading ray-tracing:  42%|█████████████████████▊                              | 29042/69040 [00:01<00:01, 24285.61it/s]\u001b[A\n",
      "Reading ray-tracing:  46%|███████████████████████▊                            | 31535/69040 [00:01<00:01, 24435.84it/s]\u001b[A\n",
      "Reading ray-tracing:  50%|█████████████████████████▊                          | 34219/69040 [00:01<00:01, 25135.57it/s]\u001b[A\n",
      "Reading ray-tracing:  53%|███████████████████████████▋                        | 36746/69040 [00:01<00:01, 24843.17it/s]\u001b[A\n",
      "Reading ray-tracing:  57%|█████████████████████████████▌                      | 39240/69040 [00:01<00:01, 24195.51it/s]\u001b[A\n",
      "Reading ray-tracing:  60%|███████████████████████████████▍                    | 41669/69040 [00:01<00:01, 23978.76it/s]\u001b[A\n",
      "Reading ray-tracing:  64%|█████████████████████████████████▏                  | 44073/69040 [00:01<00:01, 23682.78it/s]\u001b[A\n",
      "Reading ray-tracing:  67%|██████████████████████████████████▉                 | 46446/69040 [00:01<00:00, 23354.67it/s]\u001b[A\n",
      "Reading ray-tracing:  71%|████████████████████████████████████▋               | 48785/69040 [00:01<00:00, 23195.74it/s]\u001b[A\n",
      "Reading ray-tracing:  74%|██████████████████████████████████████▍             | 51107/69040 [00:02<00:00, 22257.66it/s]\u001b[A\n",
      "Reading ray-tracing:  78%|████████████████████████████████████████▍           | 53667/69040 [00:02<00:00, 23178.26it/s]\u001b[A\n",
      "Reading ray-tracing:  81%|██████████████████████████████████████████▏         | 56063/69040 [00:02<00:00, 23369.65it/s]\u001b[A\n",
      "Reading ray-tracing:  85%|███████████████████████████████████████████▉        | 58408/69040 [00:02<00:00, 23324.51it/s]\u001b[A\n",
      "Reading ray-tracing: 100%|████████████████████████████████████████████████████| 69040/69040 [00:02<00:00, 26951.98it/s]\u001b[A\n",
      "\n",
      "Generating channels:   0%|                                                                   | 0/69040 [00:00<?, ?it/s]\u001b[A\n",
      "Generating channels:   1%|▎                                                      | 459/69040 [00:00<00:14, 4588.98it/s]\u001b[A\n",
      "Generating channels:   1%|▋                                                      | 918/69040 [00:00<00:19, 3538.19it/s]\u001b[A\n",
      "Generating channels:   2%|█                                                     | 1287/69040 [00:00<00:21, 3140.98it/s]\u001b[A\n",
      "Generating channels:   3%|█▌                                                    | 2043/69040 [00:00<00:14, 4587.06it/s]\u001b[A\n",
      "Generating channels:   4%|█▉                                                    | 2536/69040 [00:00<00:15, 4164.07it/s]\u001b[A\n",
      "Generating channels:   4%|██▎                                                   | 2978/69040 [00:00<00:17, 3685.31it/s]\u001b[A\n",
      "Generating channels:   5%|██▋                                                   | 3378/69040 [00:00<00:17, 3764.00it/s]\u001b[A\n",
      "Generating channels:   6%|███▏                                                  | 4079/69040 [00:00<00:13, 4644.40it/s]\u001b[A\n",
      "Generating channels:   7%|███▌                                                  | 4569/69040 [00:01<00:15, 4145.87it/s]\u001b[A\n",
      "Generating channels:   7%|███▉                                                  | 5009/69040 [00:01<00:16, 3836.88it/s]\u001b[A\n",
      "Generating channels:   8%|████▍                                                 | 5703/69040 [00:01<00:13, 4622.14it/s]\u001b[A\n",
      "Generating channels:   9%|████▊                                                 | 6204/69040 [00:01<00:13, 4718.64it/s]\u001b[A\n",
      "Generating channels:  10%|█████▏                                                | 6698/69040 [00:01<00:15, 4045.30it/s]\u001b[A\n",
      "Generating channels:  10%|█████▌                                                | 7133/69040 [00:01<00:15, 4065.15it/s]\u001b[A\n",
      "Generating channels:  11%|██████                                                | 7824/69040 [00:01<00:12, 4804.79it/s]\u001b[A\n",
      "Generating channels:  12%|██████▌                                               | 8331/69040 [00:01<00:14, 4228.37it/s]\u001b[A\n",
      "Generating channels:  13%|██████▊                                               | 8783/69040 [00:02<00:15, 3823.73it/s]\u001b[A\n",
      "Generating channels:  14%|███████▎                                              | 9378/69040 [00:02<00:13, 4332.61it/s]\u001b[A\n",
      "Generating channels:  14%|███████▋                                              | 9899/69040 [00:02<00:12, 4557.10it/s]\u001b[A\n",
      "Generating channels:  15%|███████▉                                             | 10379/69040 [00:02<00:14, 4028.02it/s]\u001b[A\n",
      "Generating channels:  16%|████████▎                                            | 10808/69040 [00:02<00:14, 3893.66it/s]\u001b[A\n",
      "Generating channels:  17%|████████▊                                            | 11504/69040 [00:02<00:12, 4665.79it/s]\u001b[A\n",
      "Generating channels:  17%|█████████▏                                           | 11997/69040 [00:02<00:13, 4270.10it/s]\u001b[A\n",
      "Generating channels:  18%|█████████▌                                           | 12447/69040 [00:03<00:15, 3668.84it/s]\u001b[A\n",
      "Generating channels:  19%|█████████▊                                           | 12841/69040 [00:03<00:15, 3676.36it/s]\u001b[A\n",
      "Generating channels:  20%|██████████▍                                          | 13533/69040 [00:03<00:12, 4479.13it/s]\u001b[A\n",
      "Generating channels:  20%|██████████▊                                          | 14011/69040 [00:03<00:14, 3841.42it/s]\u001b[A\n",
      "Generating channels:  21%|███████████                                          | 14429/69040 [00:03<00:15, 3498.47it/s]\u001b[A\n",
      "Generating channels:  22%|███████████▌                                         | 15020/69040 [00:03<00:13, 4058.32it/s]\u001b[A\n",
      "Generating channels:  22%|███████████▉                                         | 15524/69040 [00:03<00:12, 4298.16it/s]\u001b[A\n",
      "Generating channels:  23%|████████████▎                                        | 15982/69040 [00:03<00:13, 4022.37it/s]\u001b[A\n",
      "Generating channels:  24%|████████████▌                                        | 16406/69040 [00:04<00:13, 3804.25it/s]\u001b[A\n",
      "Generating channels:  25%|█████████████                                        | 16981/69040 [00:04<00:12, 4300.24it/s]\u001b[A\n",
      "Generating channels:  25%|█████████████▍                                       | 17487/69040 [00:04<00:11, 4496.94it/s]\u001b[A\n",
      "Generating channels:  26%|█████████████▊                                       | 17953/69040 [00:04<00:12, 3933.93it/s]\u001b[A\n",
      "Generating channels:  27%|██████████████                                       | 18369/69040 [00:04<00:13, 3761.38it/s]\u001b[A\n",
      "Generating channels:  28%|██████████████▋                                      | 19058/69040 [00:04<00:11, 4541.44it/s]\u001b[A\n",
      "Generating channels:  28%|██████████████▉                                      | 19536/69040 [00:04<00:11, 4217.02it/s]\u001b[A\n",
      "Generating channels:  29%|███████████████▎                                     | 19977/69040 [00:04<00:12, 3781.45it/s]\u001b[A\n",
      "Generating channels:  30%|███████████████▋                                     | 20375/69040 [00:05<00:13, 3702.38it/s]\u001b[A\n"
     ]
    },
    {
     "name": "stderr",
     "output_type": "stream",
     "text": [
      "Generating channels:  31%|████████████████▏                                    | 21074/69040 [00:05<00:10, 4531.38it/s]\u001b[A\n",
      "Generating channels:  31%|████████████████▌                                    | 21551/69040 [00:05<00:11, 4147.31it/s]\u001b[A\n",
      "Generating channels:  32%|████████████████▉                                    | 21987/69040 [00:05<00:12, 3856.42it/s]\u001b[A\n",
      "Generating channels:  33%|█████████████████▎                                   | 22556/69040 [00:05<00:10, 4310.86it/s]\u001b[A\n",
      "Generating channels:  33%|█████████████████▋                                   | 23072/69040 [00:05<00:10, 4528.26it/s]\u001b[A\n",
      "Generating channels:  34%|██████████████████                                   | 23542/69040 [00:05<00:11, 4068.77it/s]\u001b[A\n",
      "Generating channels:  35%|██████████████████▍                                  | 23968/69040 [00:05<00:12, 3718.65it/s]\u001b[A\n",
      "Generating channels:  35%|██████████████████▊                                  | 24459/69040 [00:05<00:11, 4010.52it/s]\u001b[A\n",
      "Generating channels:  36%|███████████████████▏                                 | 24960/69040 [00:06<00:10, 4267.38it/s]\u001b[A\n",
      "Generating channels:  37%|███████████████████▌                                 | 25403/69040 [00:06<00:11, 3887.65it/s]\u001b[A\n",
      "Generating channels:  37%|███████████████████▊                                 | 25808/69040 [00:06<00:11, 3680.73it/s]\u001b[A\n",
      "Generating channels:  38%|████████████████████▎                                | 26394/69040 [00:06<00:10, 4237.01it/s]\u001b[A\n",
      "Generating channels:  39%|████████████████████▋                                | 26902/69040 [00:06<00:09, 4457.34it/s]\u001b[A\n",
      "Generating channels:  40%|█████████████████████                                | 27362/69040 [00:06<00:10, 3953.56it/s]\u001b[A\n",
      "Generating channels:  40%|█████████████████████▎                               | 27777/69040 [00:06<00:10, 3802.71it/s]\u001b[A\n",
      "Generating channels:  41%|█████████████████████▋                               | 28328/69040 [00:06<00:09, 4240.01it/s]\u001b[A\n",
      "Generating channels:  42%|██████████████████████                               | 28777/69040 [00:07<00:09, 4301.38it/s]\u001b[A\n",
      "Generating channels:  42%|██████████████████████▍                              | 29219/69040 [00:07<00:10, 3847.43it/s]\u001b[A\n",
      "Generating channels:  43%|██████████████████████▋                              | 29620/69040 [00:07<00:11, 3538.80it/s]\u001b[A\n",
      "Generating channels:  44%|███████████████████████▏                             | 30142/69040 [00:07<00:09, 3959.16it/s]\u001b[A\n",
      "Generating channels:  44%|███████████████████████▌                             | 30662/69040 [00:07<00:08, 4282.55it/s]\u001b[A\n",
      "Generating channels:  45%|███████████████████████▉                             | 31107/69040 [00:07<00:09, 3880.78it/s]\u001b[A\n",
      "Generating channels:  46%|████████████████████████▏                            | 31513/69040 [00:07<00:10, 3673.71it/s]\u001b[A\n",
      "Generating channels:  47%|████████████████████████▋                            | 32122/69040 [00:07<00:08, 4296.85it/s]\u001b[A\n",
      "Generating channels:  47%|█████████████████████████                            | 32571/69040 [00:07<00:08, 4285.21it/s]\u001b[A\n",
      "Generating channels:  48%|█████████████████████████▎                           | 33013/69040 [00:08<00:09, 3884.21it/s]\u001b[A\n",
      "Generating channels:  48%|█████████████████████████▋                           | 33417/69040 [00:08<00:09, 3618.03it/s]\u001b[A\n",
      "Generating channels:  49%|██████████████████████████                           | 33885/69040 [00:08<00:09, 3889.26it/s]\u001b[A\n",
      "Generating channels:  50%|██████████████████████████▍                          | 34373/69040 [00:08<00:08, 4148.35it/s]\u001b[A\n",
      "Generating channels:  50%|██████████████████████████▋                          | 34800/69040 [00:08<00:08, 3876.43it/s]\u001b[A\n",
      "Generating channels:  51%|███████████████████████████                          | 35199/69040 [00:08<00:09, 3567.54it/s]\u001b[A\n",
      "Generating channels:  52%|███████████████████████████▎                         | 35623/69040 [00:08<00:08, 3741.40it/s]\u001b[A\n",
      "Generating channels:  52%|███████████████████████████▊                         | 36234/69040 [00:08<00:07, 4374.78it/s]\u001b[A\n",
      "Generating channels:  53%|████████████████████████████▏                        | 36686/69040 [00:09<00:08, 4020.71it/s]\u001b[A\n",
      "Generating channels:  54%|████████████████████████████▍                        | 37103/69040 [00:09<00:08, 3683.51it/s]\u001b[A\n",
      "Generating channels:  54%|████████████████████████████▊                        | 37504/69040 [00:09<00:08, 3766.87it/s]\u001b[A\n",
      "Generating channels:  55%|█████████████████████████████▏                       | 38090/69040 [00:09<00:07, 4321.60it/s]\u001b[A\n",
      "Generating channels:  56%|█████████████████████████████▌                       | 38537/69040 [00:09<00:07, 3990.17it/s]\u001b[A\n",
      "Generating channels:  56%|█████████████████████████████▉                       | 38950/69040 [00:09<00:08, 3698.36it/s]\u001b[A\n",
      "Generating channels:  57%|██████████████████████████████▏                      | 39357/69040 [00:09<00:07, 3789.11it/s]\u001b[A\n",
      "Generating channels:  58%|██████████████████████████████▋                      | 39947/69040 [00:09<00:06, 4349.60it/s]\u001b[A\n",
      "Generating channels:  59%|███████████████████████████████                      | 40395/69040 [00:09<00:07, 4043.49it/s]\u001b[A\n",
      "Generating channels:  59%|███████████████████████████████▎                     | 40812/69040 [00:10<00:07, 3607.52it/s]\u001b[A\n",
      "Generating channels:  60%|███████████████████████████████▌                     | 41188/69040 [00:10<00:07, 3613.96it/s]\u001b[A\n",
      "Generating channels:  61%|████████████████████████████████                     | 41792/69040 [00:10<00:06, 4253.00it/s]\u001b[A\n",
      "Generating channels:  61%|████████████████████████████████▍                    | 42234/69040 [00:10<00:06, 3987.47it/s]\u001b[A\n",
      "Generating channels:  62%|████████████████████████████████▋                    | 42647/69040 [00:10<00:07, 3713.96it/s]\u001b[A\n",
      "Generating channels:  62%|█████████████████████████████████                    | 43030/69040 [00:10<00:07, 3644.62it/s]\u001b[A\n",
      "Generating channels:  63%|█████████████████████████████████▍                   | 43537/69040 [00:10<00:06, 4022.40it/s]\u001b[A\n",
      "Generating channels:  64%|█████████████████████████████████▋                   | 43953/69040 [00:10<00:06, 4060.03it/s]\u001b[A\n",
      "Generating channels:  64%|██████████████████████████████████                   | 44367/69040 [00:11<00:07, 3466.17it/s]\u001b[A\n",
      "Generating channels:  65%|██████████████████████████████████▎                  | 44733/69040 [00:11<00:07, 3466.63it/s]\u001b[A\n",
      "Generating channels:  65%|██████████████████████████████████▌                  | 45093/69040 [00:11<00:06, 3492.67it/s]\u001b[A\n",
      "Generating channels:  66%|███████████████████████████████████                  | 45636/69040 [00:11<00:05, 4016.66it/s]\u001b[A\n",
      "Generating channels:  67%|███████████████████████████████████▎                 | 46050/69040 [00:11<00:05, 3855.10it/s]\u001b[A\n",
      "Generating channels:  67%|███████████████████████████████████▋                 | 46445/69040 [00:11<00:06, 3615.73it/s]\u001b[A\n",
      "Generating channels:  68%|███████████████████████████████████▉                 | 46819/69040 [00:11<00:06, 3644.31it/s]\u001b[A\n",
      "Generating channels:  69%|████████████████████████████████████▍                | 47395/69040 [00:11<00:05, 4230.07it/s]\u001b[A\n",
      "Generating channels:  69%|████████████████████████████████████▋                | 47828/69040 [00:11<00:05, 4045.96it/s]\u001b[A\n",
      "Generating channels:  70%|█████████████████████████████████████                | 48241/69040 [00:12<00:05, 3675.41it/s]\u001b[A\n",
      "Generating channels:  70%|█████████████████████████████████████▎               | 48619/69040 [00:12<00:05, 3682.76it/s]\u001b[A\n",
      "Generating channels:  71%|█████████████████████████████████████▋               | 49145/69040 [00:12<00:04, 4112.60it/s]\u001b[A\n",
      "Generating channels:  72%|██████████████████████████████████████               | 49566/69040 [00:12<00:04, 4122.35it/s]\u001b[A\n",
      "Generating channels:  72%|██████████████████████████████████████▎              | 49985/69040 [00:12<00:04, 3835.14it/s]\u001b[A\n",
      "Generating channels:  73%|██████████████████████████████████████▋              | 50377/69040 [00:12<00:05, 3464.49it/s]\u001b[A\n",
      "Generating channels:  74%|███████████████████████████████████████              | 50810/69040 [00:12<00:04, 3684.58it/s]\u001b[A\n"
     ]
    },
    {
     "name": "stderr",
     "output_type": "stream",
     "text": [
      "Generating channels:  74%|███████████████████████████████████████▍             | 51330/69040 [00:12<00:04, 4087.23it/s]\u001b[A\n",
      "Generating channels:  75%|███████████████████████████████████████▋             | 51751/69040 [00:12<00:04, 3769.68it/s]\u001b[A\n",
      "Generating channels:  76%|████████████████████████████████████████             | 52140/69040 [00:13<00:04, 3404.65it/s]\u001b[A\n",
      "Generating channels:  76%|████████████████████████████████████████▎            | 52494/69040 [00:13<00:04, 3417.21it/s]\u001b[A\n",
      "Generating channels:  77%|████████████████████████████████████████▋            | 52973/69040 [00:13<00:04, 3781.14it/s]\u001b[A\n",
      "Generating channels:  77%|████████████████████████████████████████▉            | 53384/69040 [00:13<00:04, 3866.06it/s]\u001b[A\n",
      "Generating channels:  78%|█████████████████████████████████████████▎           | 53780/69040 [00:13<00:04, 3640.96it/s]\u001b[A\n",
      "Generating channels:  78%|█████████████████████████████████████████▌           | 54153/69040 [00:13<00:04, 3544.01it/s]\u001b[A\n",
      "Generating channels:  79%|█████████████████████████████████████████▉           | 54552/69040 [00:13<00:03, 3660.93it/s]\u001b[A\n",
      "Generating channels:  80%|██████████████████████████████████████████▏          | 55015/69040 [00:13<00:03, 3926.82it/s]\u001b[A\n",
      "Generating channels:  80%|██████████████████████████████████████████▌          | 55413/69040 [00:13<00:03, 3683.56it/s]\u001b[A\n",
      "Generating channels:  81%|██████████████████████████████████████████▊          | 55788/69040 [00:14<00:03, 3396.36it/s]\u001b[A\n",
      "Generating channels:  81%|███████████████████████████████████████████          | 56135/69040 [00:14<00:03, 3349.02it/s]\u001b[A\n",
      "Generating channels:  82%|███████████████████████████████████████████▍         | 56567/69040 [00:14<00:03, 3607.26it/s]\u001b[A\n",
      "Generating channels:  83%|███████████████████████████████████████████▋         | 56989/69040 [00:14<00:03, 3772.85it/s]\u001b[A\n",
      "Generating channels:  83%|████████████████████████████████████████████         | 57372/69040 [00:14<00:03, 3740.38it/s]\u001b[A\n",
      "Generating channels:  84%|████████████████████████████████████████████▎        | 57750/69040 [00:14<00:03, 3441.00it/s]\u001b[A\n",
      "Generating channels:  84%|████████████████████████████████████████████▌        | 58103/69040 [00:14<00:03, 3460.39it/s]\u001b[A\n",
      "Generating channels: 100%|█████████████████████████████████████████████████████| 69040/69040 [00:14<00:00, 4632.18it/s]\u001b[A\n"
     ]
    },
    {
     "name": "stdout",
     "output_type": "stream",
     "text": [
      "\n",
      "BS-BS Channels\n"
     ]
    },
    {
     "name": "stderr",
     "output_type": "stream",
     "text": [
      "\n",
      "Reading ray-tracing: 100%|███████████████████████████████████████████████████████████████████████| 1/1 [00:00<?, ?it/s]\u001b[A\n",
      "\n",
      "Generating channels: 100%|██████████████████████████████████████████████████████████████| 1/1 [00:00<00:00, 500.69it/s]\u001b[A\n",
      " 50%|██████████████████████████████████████████                                          | 1/2 [01:33<01:33, 93.31s/it]"
     ]
    },
    {
     "name": "stdout",
     "output_type": "stream",
     "text": [
      "Scenes 0–4 generation time: 93.18s\n",
      "The following parameters seem unnecessary:\n",
      "{'activate_OFDM'}\n",
      "\n",
      "Scene 1/5\n",
      "\n",
      "Basestation 1\n",
      "\n",
      "UE-BS Channels\n"
     ]
    },
    {
     "name": "stderr",
     "output_type": "stream",
     "text": [
      "\n",
      "Reading ray-tracing:   0%|                                                                   | 0/69040 [00:00<?, ?it/s]\u001b[A\n",
      "Reading ray-tracing:   4%|██                                                   | 2610/69040 [00:00<00:02, 25962.48it/s]\u001b[A\n",
      "Reading ray-tracing:   8%|████                                                 | 5259/69040 [00:00<00:02, 26183.53it/s]\u001b[A\n",
      "Reading ray-tracing:  12%|██████▏                                              | 8112/69040 [00:00<00:02, 27188.07it/s]\u001b[A\n",
      "Reading ray-tracing:  16%|████████▏                                           | 10831/69040 [00:00<00:02, 27181.52it/s]\u001b[A\n",
      "Reading ray-tracing:  20%|██████████▏                                         | 13550/69040 [00:00<00:02, 26794.96it/s]\u001b[A\n",
      "Reading ray-tracing:  24%|████████████▏                                       | 16231/69040 [00:00<00:02, 25752.39it/s]\u001b[A\n",
      "Reading ray-tracing:  27%|██████████████▏                                     | 18882/69040 [00:00<00:01, 25945.87it/s]\u001b[A\n",
      "Reading ray-tracing:  31%|████████████████▏                                   | 21482/69040 [00:00<00:01, 25760.72it/s]\u001b[A\n",
      "Reading ray-tracing:  35%|██████████████████                                  | 24062/69040 [00:00<00:01, 24635.72it/s]\u001b[A\n",
      "Reading ray-tracing:  39%|████████████████████▎                               | 26890/69040 [00:01<00:01, 25706.76it/s]\u001b[A\n",
      "Reading ray-tracing:  43%|██████████████████████▏                             | 29473/69040 [00:01<00:01, 24612.36it/s]\u001b[A\n",
      "Reading ray-tracing:  47%|████████████████████████▏                           | 32189/69040 [00:01<00:01, 25294.01it/s]\u001b[A\n",
      "Reading ray-tracing:  50%|██████████████████████████▏                         | 34733/69040 [00:01<00:01, 24617.03it/s]\u001b[A\n",
      "Reading ray-tracing:  54%|████████████████████████████                        | 37207/69040 [00:01<00:01, 24336.63it/s]\u001b[A\n",
      "Reading ray-tracing:  58%|█████████████████████████████▉                      | 39819/69040 [00:01<00:01, 24814.44it/s]\u001b[A\n",
      "Reading ray-tracing:  61%|███████████████████████████████▊                    | 42308/69040 [00:01<00:01, 24097.19it/s]\u001b[A\n",
      "Reading ray-tracing:  65%|█████████████████████████████████▋                  | 44753/69040 [00:01<00:01, 24167.91it/s]\u001b[A\n",
      "Reading ray-tracing:  68%|███████████████████████████████████▌                | 47176/69040 [00:01<00:00, 23762.69it/s]\u001b[A\n",
      "Reading ray-tracing:  72%|█████████████████████████████████████▍              | 49687/69040 [00:01<00:00, 24118.08it/s]\u001b[A\n",
      "Reading ray-tracing:  76%|███████████████████████████████████████▎            | 52236/69040 [00:02<00:00, 24482.16it/s]\u001b[A\n",
      "Reading ray-tracing:  79%|█████████████████████████████████████████▏          | 54722/69040 [00:02<00:00, 24590.41it/s]\u001b[A\n",
      "Reading ray-tracing:  83%|███████████████████████████████████████████         | 57184/69040 [00:02<00:00, 24451.94it/s]\u001b[A\n",
      "Reading ray-tracing:  88%|█████████████████████████████████████████████▉      | 60970/69040 [00:02<00:00, 28416.50it/s]\u001b[A\n",
      "Reading ray-tracing: 100%|████████████████████████████████████████████████████| 69040/69040 [00:02<00:00, 27637.08it/s]\u001b[A\n",
      "\n",
      "Generating channels:   0%|                                                                   | 0/69040 [00:00<?, ?it/s]\u001b[A\n",
      "Generating channels:   1%|▍                                                      | 493/69040 [00:00<00:13, 4903.85it/s]\u001b[A\n",
      "Generating channels:   1%|▊                                                      | 984/69040 [00:00<00:19, 3455.89it/s]\u001b[A\n",
      "Generating channels:   2%|█                                                     | 1358/69040 [00:00<00:19, 3554.45it/s]\u001b[A\n",
      "Generating channels:   3%|█▋                                                    | 2136/69040 [00:00<00:13, 5016.19it/s]\u001b[A\n",
      "Generating channels:   4%|██                                                    | 2668/69040 [00:00<00:15, 4154.05it/s]\u001b[A\n",
      "Generating channels:   5%|██▍                                                   | 3121/69040 [00:00<00:17, 3776.18it/s]\u001b[A\n",
      "Generating channels:   5%|██▉                                                   | 3730/69040 [00:00<00:14, 4377.10it/s]\u001b[A\n",
      "Generating channels:   6%|███▎                                                  | 4286/69040 [00:00<00:13, 4690.75it/s]\u001b[A\n",
      "Generating channels:   7%|███▋                                                  | 4784/69040 [00:01<00:16, 3996.86it/s]\u001b[A\n",
      "Generating channels:   8%|████                                                  | 5218/69040 [00:01<00:17, 3710.99it/s]\u001b[A\n",
      "Generating channels:   9%|████▌                                                 | 5898/69040 [00:01<00:14, 4462.47it/s]\u001b[A\n",
      "Generating channels:   9%|████▉                                                 | 6380/69040 [00:01<00:15, 4117.28it/s]\u001b[A\n",
      "Generating channels:  10%|█████▎                                                | 6819/69040 [00:01<00:16, 3786.51it/s]\u001b[A\n",
      "Generating channels:  11%|█████▊                                                | 7376/69040 [00:01<00:14, 4217.66it/s]\u001b[A\n",
      "Generating channels:  12%|██████▏                                               | 7942/69040 [00:01<00:13, 4584.71it/s]\u001b[A\n",
      "Generating channels:  12%|██████▌                                               | 8424/69040 [00:02<00:15, 3982.00it/s]\u001b[A\n",
      "Generating channels:  13%|██████▉                                               | 8851/69040 [00:02<00:16, 3737.68it/s]\u001b[A\n",
      "Generating channels:  14%|███████▍                                              | 9483/69040 [00:02<00:13, 4368.09it/s]\u001b[A\n",
      "Generating channels:  14%|███████▊                                              | 9948/69040 [00:02<00:13, 4412.44it/s]\u001b[A\n",
      "Generating channels:  15%|███████▉                                             | 10410/69040 [00:02<00:15, 3787.76it/s]\u001b[A\n",
      "Generating channels:  16%|████████▎                                            | 10816/69040 [00:02<00:15, 3716.43it/s]\u001b[A\n",
      "Generating channels:  16%|████████▋                                            | 11373/69040 [00:02<00:13, 4185.46it/s]\u001b[A\n",
      "Generating channels:  17%|█████████                                            | 11851/69040 [00:02<00:13, 4337.24it/s]\u001b[A\n",
      "Generating channels:  18%|█████████▍                                           | 12302/69040 [00:03<00:14, 3808.76it/s]\u001b[A\n",
      "Generating channels:  18%|█████████▊                                           | 12705/69040 [00:03<00:15, 3603.70it/s]\u001b[A\n",
      "Generating channels:  19%|██████████▎                                          | 13425/69040 [00:03<00:12, 4513.12it/s]\u001b[A\n",
      "Generating channels:  20%|██████████▋                                          | 13905/69040 [00:03<00:13, 4075.09it/s]\u001b[A\n",
      "Generating channels:  21%|███████████                                          | 14338/69040 [00:03<00:14, 3786.09it/s]\u001b[A\n",
      "Generating channels:  21%|███████████▎                                         | 14736/69040 [00:03<00:14, 3791.69it/s]\u001b[A\n",
      "Generating channels:  22%|███████████▊                                         | 15440/69040 [00:03<00:11, 4633.20it/s]\u001b[A\n",
      "Generating channels:  23%|████████████▏                                        | 15927/69040 [00:03<00:12, 4108.37it/s]\u001b[A\n",
      "Generating channels:  24%|████████████▌                                        | 16363/69040 [00:04<00:13, 3900.48it/s]\u001b[A\n",
      "Generating channels:  25%|████████████▉                                        | 16929/69040 [00:04<00:12, 4338.37it/s]\u001b[A\n",
      "Generating channels:  25%|█████████████▎                                       | 17384/69040 [00:04<00:11, 4336.46it/s]\u001b[A\n",
      "Generating channels:  26%|█████████████▋                                       | 17832/69040 [00:04<00:13, 3912.89it/s]\u001b[A\n",
      "Generating channels:  26%|██████████████                                       | 18240/69040 [00:04<00:13, 3685.10it/s]\u001b[A\n",
      "Generating channels:  27%|██████████████▍                                      | 18783/69040 [00:04<00:12, 4129.71it/s]\u001b[A\n",
      "Generating channels:  28%|██████████████▊                                      | 19306/69040 [00:04<00:11, 4416.77it/s]\u001b[A\n",
      "Generating channels:  29%|███████████████▏                                     | 19763/69040 [00:04<00:13, 3775.72it/s]\u001b[A\n",
      "Generating channels:  29%|███████████████▍                                     | 20166/69040 [00:04<00:13, 3638.81it/s]\u001b[A\n"
     ]
    },
    {
     "name": "stderr",
     "output_type": "stream",
     "text": [
      "Generating channels:  30%|███████████████▉                                     | 20712/69040 [00:05<00:11, 4094.25it/s]\u001b[A\n",
      "Generating channels:  31%|████████████████▎                                    | 21217/69040 [00:05<00:11, 4335.80it/s]\u001b[A\n",
      "Generating channels:  31%|████████████████▋                                    | 21668/69040 [00:05<00:12, 3763.83it/s]\u001b[A\n",
      "Generating channels:  32%|████████████████▉                                    | 22068/69040 [00:05<00:12, 3661.77it/s]\u001b[A\n",
      "Generating channels:  33%|█████████████████▎                                   | 22597/69040 [00:05<00:11, 4073.44it/s]\u001b[A\n",
      "Generating channels:  33%|█████████████████▋                                   | 23109/69040 [00:05<00:10, 4347.40it/s]\u001b[A\n",
      "Generating channels:  34%|██████████████████                                   | 23560/69040 [00:05<00:11, 3793.45it/s]\u001b[A\n",
      "Generating channels:  35%|██████████████████▍                                  | 23962/69040 [00:05<00:12, 3527.78it/s]\u001b[A\n",
      "Generating channels:  35%|██████████████████▊                                  | 24462/69040 [00:06<00:11, 3890.31it/s]\u001b[A\n",
      "Generating channels:  36%|███████████████████▏                                 | 24917/69040 [00:06<00:10, 4057.99it/s]\u001b[A\n",
      "Generating channels:  37%|███████████████████▍                                 | 25339/69040 [00:06<00:11, 3680.43it/s]\u001b[A\n",
      "Generating channels:  37%|███████████████████▋                                 | 25724/69040 [00:06<00:12, 3463.94it/s]\u001b[A\n",
      "Generating channels:  38%|████████████████████                                 | 26083/69040 [00:06<00:12, 3491.56it/s]\u001b[A\n",
      "Generating channels:  39%|████████████████████▌                                | 26718/69040 [00:06<00:09, 4250.34it/s]\u001b[A\n",
      "Generating channels:  39%|████████████████████▊                                | 27159/69040 [00:06<00:11, 3782.24it/s]\u001b[A\n",
      "Generating channels:  40%|█████████████████████▏                               | 27556/69040 [00:06<00:11, 3521.42it/s]\u001b[A\n",
      "Generating channels:  40%|█████████████████████▍                               | 27923/69040 [00:07<00:11, 3453.46it/s]\u001b[A\n",
      "Generating channels:  41%|█████████████████████▉                               | 28569/69040 [00:07<00:09, 4233.45it/s]\u001b[A\n",
      "Generating channels:  42%|██████████████████████▎                              | 29012/69040 [00:07<00:10, 3974.33it/s]\u001b[A\n",
      "Generating channels:  43%|██████████████████████▌                              | 29425/69040 [00:07<00:10, 3729.42it/s]\u001b[A\n",
      "Generating channels:  43%|██████████████████████▉                              | 29810/69040 [00:07<00:11, 3531.33it/s]\u001b[A\n",
      "Generating channels:  44%|███████████████████████▍                             | 30472/69040 [00:07<00:08, 4327.65it/s]\u001b[A\n",
      "Generating channels:  45%|███████████████████████▋                             | 30924/69040 [00:07<00:09, 4031.00it/s]\u001b[A\n",
      "Generating channels:  45%|████████████████████████                             | 31343/69040 [00:07<00:10, 3584.55it/s]\u001b[A\n",
      "Generating channels:  46%|████████████████████████▎                            | 31719/69040 [00:08<00:10, 3502.04it/s]\u001b[A\n",
      "Generating channels:  47%|████████████████████████▊                            | 32349/69040 [00:08<00:08, 4208.41it/s]\u001b[A\n",
      "Generating channels:  47%|█████████████████████████▏                           | 32791/69040 [00:08<00:09, 3807.28it/s]\u001b[A\n",
      "Generating channels:  48%|█████████████████████████▍                           | 33192/69040 [00:08<00:10, 3535.62it/s]\u001b[A\n",
      "Generating channels:  49%|█████████████████████████▊                           | 33561/69040 [00:08<00:10, 3453.27it/s]\u001b[A\n",
      "Generating channels:  50%|██████████████████████████▎                          | 34204/69040 [00:08<00:08, 4209.34it/s]\u001b[A\n",
      "Generating channels:  50%|██████████████████████████▌                          | 34645/69040 [00:08<00:08, 4051.07it/s]\u001b[A\n",
      "Generating channels:  51%|██████████████████████████▉                          | 35064/69040 [00:08<00:09, 3620.22it/s]\u001b[A\n",
      "Generating channels:  51%|███████████████████████████▏                         | 35442/69040 [00:08<00:09, 3566.01it/s]\u001b[A\n",
      "Generating channels:  52%|███████████████████████████▌                         | 35984/69040 [00:09<00:08, 4046.15it/s]\u001b[A\n",
      "Generating channels:  53%|███████████████████████████▉                         | 36404/69040 [00:09<00:08, 4070.58it/s]\u001b[A\n",
      "Generating channels:  53%|████████████████████████████▎                        | 36822/69040 [00:09<00:08, 3699.58it/s]\u001b[A\n",
      "Generating channels:  54%|████████████████████████████▌                        | 37205/69040 [00:09<00:09, 3481.37it/s]\u001b[A\n",
      "Generating channels:  55%|████████████████████████████▉                        | 37756/69040 [00:09<00:07, 4003.30it/s]\u001b[A\n",
      "Generating channels:  55%|█████████████████████████████▎                       | 38179/69040 [00:09<00:07, 4058.95it/s]\u001b[A\n",
      "Generating channels:  56%|█████████████████████████████▋                       | 38596/69040 [00:09<00:07, 3823.29it/s]\u001b[A\n",
      "Generating channels:  56%|█████████████████████████████▉                       | 38988/69040 [00:09<00:08, 3533.02it/s]\u001b[A\n",
      "Generating channels:  57%|██████████████████████████████▏                      | 39351/69040 [00:10<00:08, 3448.77it/s]\u001b[A\n",
      "Generating channels:  58%|██████████████████████████████▋                      | 39904/69040 [00:10<00:07, 3997.62it/s]\u001b[A\n",
      "Generating channels:  58%|██████████████████████████████▉                      | 40315/69040 [00:10<00:07, 3883.46it/s]\u001b[A\n",
      "Generating channels:  59%|███████████████████████████████▎                     | 40712/69040 [00:10<00:08, 3433.54it/s]\u001b[A\n",
      "Generating channels:  59%|███████████████████████████████▌                     | 41069/69040 [00:10<00:08, 3448.43it/s]\u001b[A\n",
      "Generating channels:  60%|███████████████████████████████▉                     | 41592/69040 [00:10<00:06, 3923.77it/s]\u001b[A\n",
      "Generating channels:  61%|████████████████████████████████▎                    | 42069/69040 [00:10<00:06, 4157.08it/s]\u001b[A\n",
      "Generating channels:  62%|████████████████████████████████▌                    | 42496/69040 [00:10<00:07, 3696.92it/s]\u001b[A\n",
      "Generating channels:  62%|████████████████████████████████▉                    | 42882/69040 [00:10<00:07, 3508.85it/s]\u001b[A\n",
      "Generating channels:  63%|█████████████████████████████████▏                   | 43270/69040 [00:11<00:07, 3604.68it/s]\u001b[A\n",
      "Generating channels:  63%|█████████████████████████████████▋                   | 43810/69040 [00:11<00:06, 4085.93it/s]\u001b[A\n",
      "Generating channels:  64%|█████████████████████████████████▉                   | 44231/69040 [00:11<00:06, 3853.66it/s]\u001b[A\n",
      "Generating channels:  65%|██████████████████████████████████▎                  | 44627/69040 [00:11<00:06, 3616.17it/s]\u001b[A\n",
      "Generating channels:  65%|██████████████████████████████████▌                  | 45003/69040 [00:11<00:06, 3652.52it/s]\u001b[A\n",
      "Generating channels:  66%|███████████████████████████████████                  | 45604/69040 [00:11<00:05, 4299.55it/s]\u001b[A\n",
      "Generating channels:  67%|███████████████████████████████████▎                 | 46045/69040 [00:11<00:05, 4177.29it/s]\u001b[A\n",
      "Generating channels:  67%|███████████████████████████████████▋                 | 46471/69040 [00:11<00:05, 3835.18it/s]\u001b[A\n",
      "Generating channels:  68%|███████████████████████████████████▉                 | 46865/69040 [00:11<00:05, 3713.80it/s]\u001b[A\n",
      "Generating channels:  69%|████████████████████████████████████▍                | 47442/69040 [00:12<00:05, 4260.05it/s]\u001b[A\n",
      "Generating channels:  69%|████████████████████████████████████▊                | 47879/69040 [00:12<00:05, 4075.54it/s]\u001b[A\n",
      "Generating channels:  70%|█████████████████████████████████████                | 48295/69040 [00:12<00:06, 3348.27it/s]\u001b[A\n",
      "Generating channels:  70%|█████████████████████████████████████▎               | 48657/69040 [00:12<00:05, 3409.72it/s]\u001b[A\n",
      "Generating channels:  71%|█████████████████████████████████████▋               | 49106/69040 [00:12<00:05, 3686.13it/s]\u001b[A\n",
      "Generating channels:  72%|██████████████████████████████████████               | 49541/69040 [00:12<00:05, 3858.64it/s]\u001b[A\n",
      "Generating channels:  72%|██████████████████████████████████████▎              | 49942/69040 [00:12<00:05, 3421.39it/s]\u001b[A\n"
     ]
    },
    {
     "name": "stderr",
     "output_type": "stream",
     "text": [
      "Generating channels:  73%|██████████████████████████████████████▌              | 50303/69040 [00:12<00:05, 3181.08it/s]\u001b[A\n",
      "Generating channels:  73%|██████████████████████████████████████▉              | 50663/69040 [00:13<00:05, 3282.43it/s]\u001b[A\n",
      "Generating channels:  74%|███████████████████████████████████████▎             | 51172/69040 [00:13<00:04, 3755.31it/s]\u001b[A\n",
      "Generating channels:  75%|███████████████████████████████████████▌             | 51578/69040 [00:13<00:04, 3838.48it/s]\u001b[A\n",
      "Generating channels:  75%|███████████████████████████████████████▉             | 51973/69040 [00:13<00:04, 3477.73it/s]\u001b[A\n",
      "Generating channels:  76%|████████████████████████████████████████▏            | 52334/69040 [00:13<00:04, 3471.16it/s]\u001b[A\n",
      "Generating channels:  76%|████████████████████████████████████████▍            | 52707/69040 [00:13<00:04, 3536.71it/s]\u001b[A\n",
      "Generating channels:  77%|████████████████████████████████████████▊            | 53222/69040 [00:13<00:03, 3981.71it/s]\u001b[A\n",
      "Generating channels:  78%|█████████████████████████████████████████▏           | 53629/69040 [00:13<00:04, 3852.58it/s]\u001b[A\n",
      "Generating channels:  78%|█████████████████████████████████████████▍           | 54021/69040 [00:13<00:04, 3381.17it/s]\u001b[A\n",
      "Generating channels:  79%|█████████████████████████████████████████▊           | 54401/69040 [00:14<00:04, 3489.63it/s]\u001b[A\n",
      "Generating channels:  79%|██████████████████████████████████████████           | 54865/69040 [00:14<00:03, 3800.31it/s]\u001b[A\n",
      "Generating channels:  80%|██████████████████████████████████████████▍          | 55269/69040 [00:14<00:03, 3866.71it/s]\u001b[A\n",
      "Generating channels:  81%|██████████████████████████████████████████▋          | 55664/69040 [00:14<00:03, 3465.47it/s]\u001b[A\n",
      "Generating channels:  81%|███████████████████████████████████████████          | 56024/69040 [00:14<00:03, 3427.53it/s]\u001b[A\n",
      "Generating channels:  82%|███████████████████████████████████████████▎         | 56416/69040 [00:14<00:03, 3556.04it/s]\u001b[A\n",
      "Generating channels:  82%|███████████████████████████████████████████▋         | 56879/69040 [00:14<00:03, 3855.10it/s]\u001b[A\n",
      "Generating channels:  83%|███████████████████████████████████████████▉         | 57272/69040 [00:14<00:03, 3642.67it/s]\u001b[A\n",
      "Generating channels:  83%|████████████████████████████████████████████▎        | 57644/69040 [00:14<00:03, 3431.30it/s]\u001b[A\n",
      "Generating channels:  84%|████████████████████████████████████████████▌        | 57994/69040 [00:15<00:03, 3345.74it/s]\u001b[A\n",
      "Generating channels: 100%|█████████████████████████████████████████████████████| 69040/69040 [00:15<00:00, 4533.05it/s]\u001b[A\n"
     ]
    },
    {
     "name": "stdout",
     "output_type": "stream",
     "text": [
      "\n",
      "BS-BS Channels\n"
     ]
    },
    {
     "name": "stderr",
     "output_type": "stream",
     "text": [
      "\n",
      "Reading ray-tracing: 100%|██████████████████████████████████████████████████████████████| 1/1 [00:00<00:00, 999.83it/s]\u001b[A\n",
      "\n",
      "Generating channels: 100%|██████████████████████████████████████████████████████████████| 1/1 [00:00<00:00, 500.27it/s]\u001b[A\n"
     ]
    },
    {
     "name": "stdout",
     "output_type": "stream",
     "text": [
      "\n",
      "Scene 2/5\n",
      "\n",
      "Basestation 1\n",
      "\n",
      "UE-BS Channels\n"
     ]
    },
    {
     "name": "stderr",
     "output_type": "stream",
     "text": [
      "\n",
      "Reading ray-tracing:   0%|                                                                   | 0/69040 [00:00<?, ?it/s]\u001b[A\n",
      "Reading ray-tracing:   4%|██                                                   | 2747/69040 [00:00<00:02, 27329.87it/s]\u001b[A\n",
      "Reading ray-tracing:   8%|████▏                                                | 5480/69040 [00:00<00:02, 27241.82it/s]\u001b[A\n",
      "Reading ray-tracing:  12%|██████▎                                              | 8205/69040 [00:00<00:02, 25607.52it/s]\u001b[A\n",
      "Reading ray-tracing:  16%|████████                                            | 10777/69040 [00:00<00:02, 23671.26it/s]\u001b[A\n",
      "Reading ray-tracing:  20%|██████████▏                                         | 13601/69040 [00:00<00:02, 25151.19it/s]\u001b[A\n",
      "Reading ray-tracing:  23%|████████████▏                                       | 16142/69040 [00:00<00:02, 24793.61it/s]\u001b[A\n",
      "Reading ray-tracing:  27%|██████████████▏                                     | 18777/69040 [00:00<00:01, 25275.62it/s]\u001b[A\n",
      "Reading ray-tracing:  31%|████████████████                                    | 21387/69040 [00:00<00:01, 25525.46it/s]\u001b[A\n",
      "Reading ray-tracing:  35%|██████████████████                                  | 23950/69040 [00:00<00:01, 25285.28it/s]\u001b[A\n",
      "Reading ray-tracing:  39%|████████████████████▏                               | 26808/69040 [00:01<00:01, 26237.78it/s]\u001b[A\n",
      "Reading ray-tracing:  43%|██████████████████████▏                             | 29439/69040 [00:01<00:01, 25904.60it/s]\u001b[A\n",
      "Reading ray-tracing:  47%|████████████████████████▎                           | 32256/69040 [00:01<00:01, 26537.16it/s]\u001b[A\n",
      "Reading ray-tracing:  51%|██████████████████████████▎                         | 34915/69040 [00:01<00:01, 24504.75it/s]\u001b[A\n",
      "Reading ray-tracing:  54%|████████████████████████████▏                       | 37398/69040 [00:01<00:01, 24378.54it/s]\u001b[A\n",
      "Reading ray-tracing:  58%|██████████████████████████████                      | 39976/69040 [00:01<00:01, 24705.90it/s]\u001b[A\n",
      "Reading ray-tracing:  62%|███████████████████████████████▉                    | 42464/69040 [00:01<00:01, 24539.92it/s]\u001b[A\n",
      "Reading ray-tracing:  65%|█████████████████████████████████▊                  | 44930/69040 [00:01<00:00, 24360.19it/s]\u001b[A\n",
      "Reading ray-tracing:  69%|███████████████████████████████████▋                | 47374/69040 [00:01<00:00, 24380.97it/s]\u001b[A\n",
      "Reading ray-tracing:  72%|█████████████████████████████████████▌              | 49818/69040 [00:01<00:00, 24161.77it/s]\u001b[A\n",
      "Reading ray-tracing:  76%|███████████████████████████████████████▎            | 52254/69040 [00:02<00:00, 24182.78it/s]\u001b[A\n",
      "Reading ray-tracing:  79%|█████████████████████████████████████████▏          | 54691/69040 [00:02<00:00, 24179.44it/s]\u001b[A\n",
      "Reading ray-tracing:  83%|███████████████████████████████████████████         | 57111/69040 [00:02<00:00, 23936.41it/s]\u001b[A\n",
      "Reading ray-tracing: 100%|████████████████████████████████████████████████████| 69040/69040 [00:02<00:00, 27671.56it/s]\u001b[A\n",
      "\n",
      "Generating channels:   0%|                                                                   | 0/69040 [00:00<?, ?it/s]\u001b[A\n",
      "Generating channels:   1%|▎                                                      | 438/69040 [00:00<00:15, 4357.54it/s]\u001b[A\n",
      "Generating channels:   1%|▋                                                      | 874/69040 [00:00<00:19, 3518.95it/s]\u001b[A\n",
      "Generating channels:   2%|▉                                                     | 1236/69040 [00:00<00:20, 3250.97it/s]\u001b[A\n",
      "Generating channels:   3%|█▍                                                    | 1780/69040 [00:00<00:16, 3999.03it/s]\u001b[A\n",
      "Generating channels:   3%|█▊                                                    | 2340/69040 [00:00<00:14, 4526.33it/s]\u001b[A\n",
      "Generating channels:   4%|██▏                                                   | 2807/69040 [00:00<00:17, 3823.87it/s]\u001b[A\n",
      "Generating channels:   5%|██▌                                                   | 3214/69040 [00:00<00:17, 3716.77it/s]\u001b[A\n",
      "Generating channels:   6%|███                                                   | 3962/69040 [00:00<00:13, 4747.47it/s]\u001b[A\n",
      "Generating channels:   6%|███▍                                                  | 4464/69040 [00:01<00:15, 4249.89it/s]\u001b[A\n",
      "Generating channels:   7%|███▊                                                  | 4916/69040 [00:01<00:16, 3786.25it/s]\u001b[A\n",
      "Generating channels:   8%|████▎                                                 | 5456/69040 [00:01<00:15, 4183.86it/s]\u001b[A\n",
      "Generating channels:   9%|████▋                                                 | 5981/69040 [00:01<00:14, 4457.83it/s]\u001b[A\n",
      "Generating channels:   9%|█████                                                 | 6450/69040 [00:01<00:16, 3810.92it/s]\u001b[A\n",
      "Generating channels:  10%|█████▎                                                | 6861/69040 [00:01<00:18, 3352.05it/s]\u001b[A\n",
      "Generating channels:  11%|█████▊                                                | 7477/69040 [00:01<00:15, 4000.81it/s]\u001b[A\n",
      "Generating channels:  12%|██████▏                                               | 7983/69040 [00:01<00:14, 4264.53it/s]\u001b[A\n",
      "Generating channels:  12%|██████▌                                               | 8442/69040 [00:02<00:15, 3800.58it/s]\u001b[A\n",
      "Generating channels:  13%|██████▉                                               | 8852/69040 [00:02<00:17, 3537.47it/s]\u001b[A\n",
      "Generating channels:  14%|███████▍                                              | 9459/69040 [00:02<00:14, 4149.03it/s]\u001b[A\n",
      "Generating channels:  14%|███████▋                                              | 9903/69040 [00:02<00:14, 4050.91it/s]\u001b[A\n",
      "Generating channels:  15%|███████▉                                             | 10329/69040 [00:02<00:15, 3677.94it/s]\u001b[A\n",
      "Generating channels:  16%|████████▏                                            | 10715/69040 [00:02<00:16, 3605.75it/s]\u001b[A\n",
      "Generating channels:  16%|████████▋                                            | 11242/69040 [00:02<00:14, 4029.59it/s]\u001b[A\n",
      "Generating channels:  17%|████████▉                                            | 11661/69040 [00:02<00:14, 4056.03it/s]\u001b[A\n",
      "Generating channels:  17%|█████████▎                                           | 12078/69040 [00:03<00:15, 3564.81it/s]\u001b[A\n",
      "Generating channels:  18%|█████████▌                                           | 12452/69040 [00:03<00:16, 3400.31it/s]\u001b[A\n",
      "Generating channels:  19%|█████████▉                                           | 13006/69040 [00:03<00:14, 3943.60it/s]\u001b[A\n",
      "Generating channels:  19%|██████████▎                                          | 13459/69040 [00:03<00:13, 4094.91it/s]\u001b[A\n",
      "Generating channels:  20%|██████████▋                                          | 13883/69040 [00:03<00:15, 3488.38it/s]\u001b[A\n",
      "Generating channels:  21%|██████████▉                                          | 14256/69040 [00:03<00:17, 3132.89it/s]\u001b[A\n",
      "Generating channels:  21%|███████████▏                                         | 14590/69040 [00:03<00:17, 3137.20it/s]\u001b[A\n",
      "Generating channels:  22%|███████████▋                                         | 15274/69040 [00:03<00:13, 4066.13it/s]\u001b[A\n",
      "Generating channels:  23%|████████████                                         | 15708/69040 [00:04<00:13, 3965.10it/s]\u001b[A\n",
      "Generating channels:  23%|████████████▍                                        | 16124/69040 [00:04<00:14, 3553.06it/s]\u001b[A\n",
      "Generating channels:  24%|████████████▋                                        | 16499/69040 [00:04<00:15, 3353.55it/s]\u001b[A\n",
      "Generating channels:  25%|█████████████                                        | 17007/69040 [00:04<00:13, 3781.26it/s]\u001b[A\n",
      "Generating channels:  25%|█████████████▎                                       | 17403/69040 [00:04<00:14, 3618.13it/s]\u001b[A\n",
      "Generating channels:  26%|█████████████▋                                       | 17778/69040 [00:04<00:14, 3436.56it/s]\u001b[A\n",
      "Generating channels:  26%|█████████████▉                                       | 18131/69040 [00:04<00:15, 3289.09it/s]\u001b[A\n",
      "Generating channels:  27%|██████████████▏                                      | 18473/69040 [00:04<00:15, 3323.00it/s]\u001b[A\n",
      "Generating channels:  28%|██████████████▋                                      | 19082/69040 [00:05<00:12, 4063.79it/s]\u001b[A\n"
     ]
    },
    {
     "name": "stderr",
     "output_type": "stream",
     "text": [
      "Generating channels:  28%|██████████████▉                                      | 19499/69040 [00:05<00:13, 3598.41it/s]\u001b[A\n",
      "Generating channels:  29%|███████████████▎                                     | 19875/69040 [00:05<00:14, 3310.73it/s]\u001b[A\n",
      "Generating channels:  29%|███████████████▌                                     | 20220/69040 [00:05<00:15, 3193.67it/s]\u001b[A\n",
      "Generating channels:  30%|███████████████▉                                     | 20694/69040 [00:05<00:13, 3584.71it/s]\u001b[A\n",
      "Generating channels:  31%|████████████████▏                                    | 21077/69040 [00:05<00:13, 3648.02it/s]\u001b[A\n",
      "Generating channels:  31%|████████████████▍                                    | 21452/69040 [00:05<00:14, 3235.25it/s]\u001b[A\n",
      "Generating channels:  32%|████████████████▋                                    | 21790/69040 [00:05<00:16, 2780.64it/s]\u001b[A\n",
      "Generating channels:  32%|████████████████▉                                    | 22087/69040 [00:06<00:18, 2559.94it/s]\u001b[A\n",
      "Generating channels:  32%|█████████████████▏                                   | 22426/69040 [00:06<00:16, 2755.33it/s]\u001b[A\n",
      "Generating channels:  33%|█████████████████▌                                   | 22878/69040 [00:06<00:14, 3190.89it/s]\u001b[A\n",
      "Generating channels:  34%|█████████████████▊                                   | 23216/69040 [00:06<00:15, 2923.87it/s]\u001b[A\n",
      "Generating channels:  34%|██████████████████                                   | 23525/69040 [00:06<00:16, 2723.59it/s]\u001b[A\n",
      "Generating channels:  34%|██████████████████▎                                  | 23810/69040 [00:06<00:17, 2544.74it/s]\u001b[A\n",
      "Generating channels:  35%|██████████████████▍                                  | 24074/69040 [00:06<00:18, 2487.82it/s]\u001b[A\n",
      "Generating channels:  35%|██████████████████▊                                  | 24496/69040 [00:06<00:15, 2926.39it/s]\u001b[A\n",
      "Generating channels:  36%|███████████████████▏                                 | 24934/69040 [00:07<00:13, 3310.07it/s]\u001b[A\n",
      "Generating channels:  37%|███████████████████▍                                 | 25278/69040 [00:07<00:13, 3212.20it/s]\u001b[A\n",
      "Generating channels:  37%|███████████████████▋                                 | 25609/69040 [00:07<00:14, 3042.25it/s]\u001b[A\n",
      "Generating channels:  38%|███████████████████▉                                 | 25980/69040 [00:07<00:13, 3217.48it/s]\u001b[A\n",
      "Generating channels:  38%|████████████████████▎                                | 26453/69040 [00:07<00:11, 3630.75it/s]\u001b[A\n",
      "Generating channels:  39%|████████████████████▌                                | 26825/69040 [00:07<00:12, 3463.89it/s]\u001b[A\n",
      "Generating channels:  39%|████████████████████▊                                | 27179/69040 [00:07<00:13, 3200.05it/s]\u001b[A\n",
      "Generating channels:  40%|█████████████████████                                | 27507/69040 [00:07<00:16, 2454.90it/s]\u001b[A\n",
      "Generating channels:  40%|█████████████████████▎                               | 27782/69040 [00:08<00:16, 2432.91it/s]\u001b[A\n",
      "Generating channels:  41%|█████████████████████▋                               | 28258/69040 [00:08<00:13, 2980.13it/s]\u001b[A\n",
      "Generating channels:  42%|█████████████████████▉                               | 28655/69040 [00:08<00:12, 3225.28it/s]\u001b[A\n",
      "Generating channels:  42%|██████████████████████▎                              | 29002/69040 [00:08<00:12, 3263.48it/s]\u001b[A\n",
      "Generating channels:  43%|██████████████████████▌                              | 29346/69040 [00:08<00:13, 2985.38it/s]\u001b[A\n",
      "Generating channels:  43%|██████████████████████▊                              | 29673/69040 [00:08<00:12, 3059.22it/s]\u001b[A\n",
      "Generating channels:  44%|███████████████████████▏                             | 30153/69040 [00:08<00:11, 3529.75it/s]\u001b[A\n",
      "Generating channels:  44%|███████████████████████▍                             | 30540/69040 [00:08<00:10, 3624.48it/s]\u001b[A\n",
      "Generating channels:  45%|███████████████████████▋                             | 30913/69040 [00:08<00:12, 3060.12it/s]\u001b[A\n",
      "Generating channels:  45%|███████████████████████▉                             | 31241/69040 [00:09<00:14, 2685.60it/s]\u001b[A\n",
      "Generating channels:  46%|████████████████████████▏                            | 31531/69040 [00:09<00:14, 2531.22it/s]\u001b[A\n",
      "Generating channels:  46%|████████████████████████▍                            | 31799/69040 [00:09<00:14, 2515.45it/s]\u001b[A\n",
      "Generating channels:  47%|████████████████████████▋                            | 32214/69040 [00:09<00:12, 2921.99it/s]\u001b[A\n",
      "Generating channels:  47%|█████████████████████████                            | 32570/69040 [00:09<00:11, 3089.69it/s]\u001b[A\n",
      "Generating channels:  48%|█████████████████████████▎                           | 32892/69040 [00:09<00:12, 2887.41it/s]\u001b[A\n",
      "Generating channels:  48%|█████████████████████████▍                           | 33192/69040 [00:09<00:13, 2611.72it/s]\u001b[A\n",
      "Generating channels:  48%|█████████████████████████▋                           | 33464/69040 [00:09<00:15, 2267.91it/s]\u001b[A\n",
      "Generating channels:  49%|█████████████████████████▉                           | 33761/69040 [00:10<00:14, 2431.46it/s]\u001b[A\n",
      "Generating channels:  50%|██████████████████████████▎                          | 34226/69040 [00:10<00:11, 2992.13it/s]\u001b[A\n",
      "Generating channels:  50%|██████████████████████████▌                          | 34546/69040 [00:10<00:11, 2975.03it/s]\u001b[A\n",
      "Generating channels:  50%|██████████████████████████▊                          | 34858/69040 [00:10<00:12, 2746.64it/s]\u001b[A\n",
      "Generating channels:  51%|██████████████████████████▉                          | 35145/69040 [00:10<00:12, 2732.38it/s]\u001b[A\n",
      "Generating channels:  51%|███████████████████████████▏                         | 35455/69040 [00:10<00:11, 2826.77it/s]\u001b[A\n",
      "Generating channels:  52%|███████████████████████████▌                         | 35977/69040 [00:10<00:09, 3487.68it/s]\u001b[A\n",
      "Generating channels:  53%|███████████████████████████▉                         | 36337/69040 [00:10<00:09, 3412.72it/s]\u001b[A\n",
      "Generating channels:  53%|████████████████████████████▏                        | 36686/69040 [00:10<00:10, 3184.02it/s]\u001b[A\n",
      "Generating channels:  54%|████████████████████████████▍                        | 37012/69040 [00:11<00:11, 2872.76it/s]\u001b[A\n",
      "Generating channels:  54%|████████████████████████████▋                        | 37340/69040 [00:11<00:10, 2972.84it/s]\u001b[A\n",
      "Generating channels:  55%|█████████████████████████████                        | 37859/69040 [00:11<00:08, 3564.35it/s]\u001b[A\n",
      "Generating channels:  55%|█████████████████████████████▎                       | 38249/69040 [00:11<00:08, 3652.02it/s]\u001b[A\n",
      "Generating channels:  56%|█████████████████████████████▋                       | 38624/69040 [00:11<00:09, 3197.28it/s]\u001b[A\n",
      "Generating channels:  56%|█████████████████████████████▉                       | 38960/69040 [00:11<00:12, 2314.36it/s]\u001b[A\n",
      "Generating channels:  57%|██████████████████████████████                       | 39235/69040 [00:12<00:14, 2074.64it/s]\u001b[A\n",
      "Generating channels:  57%|██████████████████████████████▎                      | 39482/69040 [00:12<00:13, 2153.54it/s]\u001b[A\n",
      "Generating channels:  58%|██████████████████████████████▍                      | 39724/69040 [00:12<00:13, 2131.49it/s]\u001b[A\n",
      "Generating channels:  58%|██████████████████████████████▋                      | 39955/69040 [00:12<00:13, 2133.21it/s]\u001b[A\n",
      "Generating channels:  58%|██████████████████████████████▊                      | 40202/69040 [00:12<00:13, 2216.54it/s]\u001b[A\n",
      "Generating channels:  59%|███████████████████████████████                      | 40434/69040 [00:12<00:14, 1911.09it/s]\u001b[A\n",
      "Generating channels:  59%|███████████████████████████████▏                     | 40639/69040 [00:12<00:16, 1734.31it/s]\u001b[A\n",
      "Generating channels:  59%|███████████████████████████████▎                     | 40841/69040 [00:12<00:15, 1801.53it/s]\u001b[A\n",
      "Generating channels:  60%|███████████████████████████████▌                     | 41117/69040 [00:12<00:13, 2041.74it/s]\u001b[A\n",
      "Generating channels:  60%|███████████████████████████████▊                     | 41521/69040 [00:13<00:10, 2570.23it/s]\u001b[A\n",
      "Generating channels:  61%|████████████████████████████████▏                    | 41855/69040 [00:13<00:09, 2777.09it/s]\u001b[A\n"
     ]
    },
    {
     "name": "stderr",
     "output_type": "stream",
     "text": [
      "Generating channels:  61%|████████████████████████████████▎                    | 42145/69040 [00:13<00:09, 2760.96it/s]\u001b[A\n",
      "Generating channels:  61%|████████████████████████████████▌                    | 42430/69040 [00:13<00:10, 2608.61it/s]\u001b[A\n",
      "Generating channels:  62%|████████████████████████████████▊                    | 42699/69040 [00:13<00:10, 2623.39it/s]\u001b[A\n",
      "Generating channels:  62%|████████████████████████████████▉                    | 42967/69040 [00:13<00:10, 2488.68it/s]\u001b[A\n",
      "Generating channels:  63%|█████████████████████████████████▏                   | 43307/69040 [00:13<00:09, 2734.25it/s]\u001b[A\n",
      "Generating channels:  63%|█████████████████████████████████▌                   | 43715/69040 [00:13<00:08, 3112.70it/s]\u001b[A\n",
      "Generating channels:  64%|█████████████████████████████████▊                   | 44033/69040 [00:13<00:08, 2945.10it/s]\u001b[A\n",
      "Generating channels:  64%|██████████████████████████████████                   | 44334/69040 [00:14<00:09, 2665.85it/s]\u001b[A\n",
      "Generating channels:  65%|██████████████████████████████████▏                  | 44609/69040 [00:14<00:09, 2572.06it/s]\u001b[A\n",
      "Generating channels:  65%|██████████████████████████████████▍                  | 44888/69040 [00:14<00:09, 2628.24it/s]\u001b[A\n",
      "Generating channels:  66%|██████████████████████████████████▊                  | 45289/69040 [00:14<00:07, 3006.84it/s]\u001b[A\n",
      "Generating channels:  66%|███████████████████████████████████                  | 45639/69040 [00:14<00:07, 3144.91it/s]\u001b[A\n",
      "Generating channels:  67%|███████████████████████████████████▎                 | 45960/69040 [00:14<00:07, 3045.38it/s]\u001b[A\n",
      "Generating channels:  67%|███████████████████████████████████▌                 | 46269/69040 [00:14<00:08, 2784.77it/s]\u001b[A\n",
      "Generating channels:  67%|███████████████████████████████████▋                 | 46555/69040 [00:14<00:08, 2742.19it/s]\u001b[A\n",
      "Generating channels:  68%|███████████████████████████████████▉                 | 46877/69040 [00:14<00:07, 2868.48it/s]\u001b[A\n",
      "Generating channels:  69%|████████████████████████████████████▍                | 47437/69040 [00:15<00:05, 3628.91it/s]\u001b[A\n",
      "Generating channels:  69%|████████████████████████████████████▋                | 47820/69040 [00:15<00:05, 3680.78it/s]\u001b[A\n",
      "Generating channels:  70%|████████████████████████████████████▉                | 48194/69040 [00:15<00:06, 3243.27it/s]\u001b[A\n",
      "Generating channels:  70%|█████████████████████████████████████▎               | 48532/69040 [00:15<00:06, 3018.32it/s]\u001b[A\n",
      "Generating channels:  71%|█████████████████████████████████████▌               | 48937/69040 [00:15<00:06, 3281.32it/s]\u001b[A\n",
      "Generating channels:  71%|█████████████████████████████████████▊               | 49288/69040 [00:15<00:05, 3338.30it/s]\u001b[A\n",
      "Generating channels:  72%|██████████████████████████████████████               | 49631/69040 [00:15<00:05, 3293.43it/s]\u001b[A\n",
      "Generating channels:  72%|██████████████████████████████████████▎              | 49967/69040 [00:15<00:06, 3099.21it/s]\u001b[A\n",
      "Generating channels:  73%|██████████████████████████████████████▌              | 50283/69040 [00:15<00:06, 3005.86it/s]\u001b[A\n",
      "Generating channels:  73%|██████████████████████████████████████▊              | 50626/69040 [00:16<00:05, 3117.08it/s]\u001b[A\n",
      "Generating channels:  74%|███████████████████████████████████████▏             | 51067/69040 [00:16<00:05, 3478.77it/s]\u001b[A\n",
      "Generating channels:  74%|███████████████████████████████████████▍             | 51421/69040 [00:16<00:05, 3407.19it/s]\u001b[A\n",
      "Generating channels:  75%|███████████████████████████████████████▋             | 51766/69040 [00:16<00:05, 3269.13it/s]\u001b[A\n",
      "Generating channels:  75%|███████████████████████████████████████▉             | 52097/69040 [00:16<00:05, 3169.57it/s]\u001b[A\n",
      "Generating channels:  76%|████████████████████████████████████████▎            | 52465/69040 [00:16<00:05, 3307.03it/s]\u001b[A\n",
      "Generating channels:  77%|████████████████████████████████████████▋            | 52944/69040 [00:16<00:04, 3722.97it/s]\u001b[A\n",
      "Generating channels:  77%|████████████████████████████████████████▉            | 53356/69040 [00:16<00:04, 3831.81it/s]\u001b[A\n",
      "Generating channels:  78%|█████████████████████████████████████████▎           | 53743/69040 [00:16<00:04, 3676.63it/s]\u001b[A\n",
      "Generating channels:  78%|█████████████████████████████████████████▌           | 54114/69040 [00:17<00:04, 3529.93it/s]\u001b[A\n",
      "Generating channels:  79%|█████████████████████████████████████████▊           | 54471/69040 [00:17<00:04, 3463.10it/s]\u001b[A\n",
      "Generating channels:  79%|██████████████████████████████████████████           | 54865/69040 [00:17<00:03, 3592.12it/s]\u001b[A\n",
      "Generating channels:  80%|██████████████████████████████████████████▍          | 55279/69040 [00:17<00:03, 3743.49it/s]\u001b[A\n",
      "Generating channels:  81%|██████████████████████████████████████████▋          | 55656/69040 [00:17<00:03, 3549.98it/s]\u001b[A\n",
      "Generating channels:  81%|███████████████████████████████████████████          | 56015/69040 [00:17<00:03, 3430.25it/s]\u001b[A\n",
      "Generating channels:  82%|███████████████████████████████████████████▎         | 56380/69040 [00:17<00:03, 3488.49it/s]\u001b[A\n",
      "Generating channels:  82%|███████████████████████████████████████████▌         | 56802/69040 [00:17<00:03, 3691.58it/s]\u001b[A\n",
      "Generating channels:  83%|███████████████████████████████████████████▉         | 57223/69040 [00:17<00:03, 3835.62it/s]\u001b[A\n",
      "Generating channels:  83%|████████████████████████████████████████████▏        | 57609/69040 [00:18<00:03, 3528.37it/s]\u001b[A\n",
      "Generating channels:  84%|████████████████████████████████████████████▌        | 57968/69040 [00:18<00:03, 3302.82it/s]\u001b[A\n",
      "Generating channels: 100%|█████████████████████████████████████████████████████| 69040/69040 [00:18<00:00, 3768.84it/s]\u001b[A\n"
     ]
    },
    {
     "name": "stdout",
     "output_type": "stream",
     "text": [
      "\n",
      "BS-BS Channels\n"
     ]
    },
    {
     "name": "stderr",
     "output_type": "stream",
     "text": [
      "\n",
      "Reading ray-tracing: 100%|█████████████████████████████████████████████████████████████| 1/1 [00:00<00:00, 1001.51it/s]\u001b[A\n",
      "\n",
      "Generating channels: 100%|██████████████████████████████████████████████████████████████| 1/1 [00:00<00:00, 333.73it/s]\u001b[A\n"
     ]
    },
    {
     "name": "stdout",
     "output_type": "stream",
     "text": [
      "\n",
      "Scene 3/5\n",
      "\n",
      "Basestation 1\n",
      "\n",
      "UE-BS Channels\n"
     ]
    },
    {
     "name": "stderr",
     "output_type": "stream",
     "text": [
      "\n",
      "Reading ray-tracing:   0%|                                                                   | 0/69040 [00:00<?, ?it/s]\u001b[A\n",
      "Reading ray-tracing:   4%|█▉                                                   | 2554/69040 [00:00<00:02, 25409.65it/s]\u001b[A\n",
      "Reading ray-tracing:   7%|███▉                                                 | 5095/69040 [00:00<00:02, 24132.13it/s]\u001b[A\n",
      "Reading ray-tracing:  11%|██████                                               | 7903/69040 [00:00<00:02, 25823.48it/s]\u001b[A\n",
      "Reading ray-tracing:  15%|███████▉                                            | 10493/69040 [00:00<00:02, 25505.43it/s]\u001b[A\n",
      "Reading ray-tracing:  19%|██████████                                          | 13281/69040 [00:00<00:02, 26258.45it/s]\u001b[A\n",
      "Reading ray-tracing:  23%|███████████▉                                        | 15911/69040 [00:00<00:02, 25585.45it/s]\u001b[A\n",
      "Reading ray-tracing:  27%|█████████████▉                                      | 18475/69040 [00:00<00:02, 25005.98it/s]\u001b[A\n",
      "Reading ray-tracing:  31%|███████████████▉                                    | 21204/69040 [00:00<00:01, 25666.32it/s]\u001b[A\n",
      "Reading ray-tracing:  34%|█████████████████▉                                  | 23776/69040 [00:00<00:01, 24920.48it/s]\u001b[A\n",
      "Reading ray-tracing:  38%|███████████████████▉                                | 26415/69040 [00:01<00:01, 25318.20it/s]\u001b[A\n",
      "Reading ray-tracing:  42%|█████████████████████▊                              | 28953/69040 [00:01<00:01, 24854.49it/s]\u001b[A\n",
      "Reading ray-tracing:  46%|███████████████████████▋                            | 31444/69040 [00:01<00:01, 24120.34it/s]\u001b[A\n",
      "Reading ray-tracing:  50%|█████████████████████████▋                          | 34181/69040 [00:01<00:01, 25023.85it/s]\u001b[A\n",
      "Reading ray-tracing:  53%|███████████████████████████▋                        | 36827/69040 [00:01<00:01, 25440.72it/s]\u001b[A\n",
      "Reading ray-tracing:  57%|█████████████████████████████▊                      | 39578/69040 [00:01<00:01, 26040.26it/s]\u001b[A\n",
      "Reading ray-tracing:  61%|███████████████████████████████▊                    | 42250/69040 [00:01<00:01, 26201.67it/s]\u001b[A\n",
      "Reading ray-tracing:  65%|█████████████████████████████████▊                  | 44875/69040 [00:01<00:00, 25132.17it/s]\u001b[A\n",
      "Reading ray-tracing:  69%|███████████████████████████████████▋                | 47400/69040 [00:01<00:00, 24375.54it/s]\u001b[A\n",
      "Reading ray-tracing:  72%|█████████████████████████████████████▌              | 49849/69040 [00:01<00:00, 23596.79it/s]\u001b[A\n",
      "Reading ray-tracing:  76%|███████████████████████████████████████▍            | 52329/69040 [00:02<00:00, 23913.74it/s]\u001b[A\n",
      "Reading ray-tracing:  79%|█████████████████████████████████████████▎          | 54886/69040 [00:02<00:00, 24353.84it/s]\u001b[A\n",
      "Reading ray-tracing:  83%|███████████████████████████████████████████▏        | 57330/69040 [00:02<00:00, 23888.76it/s]\u001b[A\n",
      "Reading ray-tracing:  89%|██████████████████████████████████████████████      | 61209/69040 [00:02<00:00, 28159.39it/s]\u001b[A\n",
      "Reading ray-tracing: 100%|████████████████████████████████████████████████████| 69040/69040 [00:02<00:00, 27471.44it/s]\u001b[A\n",
      "\n",
      "Generating channels:   0%|                                                                   | 0/69040 [00:00<?, ?it/s]\u001b[A\n",
      "Generating channels:   1%|▎                                                      | 391/69040 [00:00<00:17, 3905.92it/s]\u001b[A\n",
      "Generating channels:   1%|▌                                                      | 782/69040 [00:00<00:21, 3216.57it/s]\u001b[A\n",
      "Generating channels:   2%|▊                                                     | 1112/69040 [00:00<00:21, 3179.05it/s]\u001b[A\n",
      "Generating channels:   2%|█▏                                                    | 1544/69040 [00:00<00:18, 3593.31it/s]\u001b[A\n",
      "Generating channels:   3%|█▋                                                    | 2111/69040 [00:00<00:15, 4301.75it/s]\u001b[A\n",
      "Generating channels:   4%|█▉                                                    | 2549/69040 [00:00<00:17, 3910.29it/s]\u001b[A\n",
      "Generating channels:   4%|██▎                                                   | 2951/69040 [00:00<00:18, 3528.20it/s]\u001b[A\n",
      "Generating channels:   5%|██▋                                                   | 3366/69040 [00:00<00:17, 3699.22it/s]\u001b[A\n",
      "Generating channels:   6%|███▏                                                  | 4014/69040 [00:01<00:14, 4484.15it/s]\u001b[A\n",
      "Generating channels:   6%|███▌                                                  | 4479/69040 [00:01<00:17, 3789.30it/s]\u001b[A\n",
      "Generating channels:   7%|███▊                                                  | 4886/69040 [00:01<00:18, 3494.56it/s]\u001b[A\n",
      "Generating channels:   8%|████▏                                                 | 5420/69040 [00:01<00:16, 3947.40it/s]\u001b[A\n",
      "Generating channels:   9%|████▋                                                 | 5986/69040 [00:01<00:14, 4389.51it/s]\u001b[A\n",
      "Generating channels:   9%|█████                                                 | 6449/69040 [00:01<00:15, 3949.35it/s]\u001b[A\n",
      "Generating channels:  10%|█████▎                                                | 6868/69040 [00:01<00:17, 3633.90it/s]\u001b[A\n",
      "Generating channels:  11%|█████▊                                                | 7472/69040 [00:01<00:14, 4224.87it/s]\u001b[A\n",
      "Generating channels:  12%|██████▏                                               | 7948/69040 [00:02<00:14, 4359.17it/s]\u001b[A\n",
      "Generating channels:  12%|██████▌                                               | 8404/69040 [00:02<00:15, 3843.36it/s]\u001b[A\n",
      "Generating channels:  13%|██████▉                                               | 8812/69040 [00:02<00:16, 3719.64it/s]\u001b[A\n",
      "Generating channels:  14%|███████▎                                              | 9412/69040 [00:02<00:13, 4303.27it/s]\u001b[A\n",
      "Generating channels:  14%|███████▋                                              | 9892/69040 [00:02<00:13, 4430.11it/s]\u001b[A\n",
      "Generating channels:  15%|███████▉                                             | 10352/69040 [00:02<00:15, 3866.43it/s]\u001b[A\n",
      "Generating channels:  16%|████████▎                                            | 10762/69040 [00:02<00:15, 3690.21it/s]\u001b[A\n",
      "Generating channels:  16%|████████▋                                            | 11376/69040 [00:02<00:13, 4313.56it/s]\u001b[A\n",
      "Generating channels:  17%|█████████                                            | 11830/69040 [00:02<00:14, 4071.04it/s]\u001b[A\n",
      "Generating channels:  18%|█████████▍                                           | 12254/69040 [00:03<00:15, 3668.09it/s]\u001b[A\n",
      "Generating channels:  18%|█████████▋                                           | 12638/69040 [00:03<00:15, 3563.95it/s]\u001b[A\n",
      "Generating channels:  19%|██████████▏                                          | 13274/69040 [00:03<00:13, 4272.38it/s]\u001b[A\n",
      "Generating channels:  20%|██████████▌                                          | 13721/69040 [00:03<00:13, 4162.48it/s]\u001b[A\n",
      "Generating channels:  20%|██████████▊                                          | 14151/69040 [00:03<00:15, 3624.77it/s]\u001b[A\n",
      "Generating channels:  21%|███████████▏                                         | 14534/69040 [00:03<00:14, 3644.01it/s]\u001b[A\n",
      "Generating channels:  22%|███████████▋                                         | 15174/69040 [00:03<00:12, 4356.21it/s]\u001b[A\n",
      "Generating channels:  23%|████████████                                         | 15634/69040 [00:03<00:12, 4421.90it/s]\u001b[A\n",
      "Generating channels:  23%|████████████▎                                        | 16092/69040 [00:04<00:14, 3599.32it/s]\u001b[A\n",
      "Generating channels:  24%|████████████▋                                        | 16486/69040 [00:04<00:15, 3502.77it/s]\u001b[A\n",
      "Generating channels:  25%|█████████████                                        | 16963/69040 [00:04<00:13, 3817.14it/s]\u001b[A\n",
      "Generating channels:  25%|█████████████▎                                       | 17368/69040 [00:04<00:13, 3817.87it/s]\u001b[A\n",
      "Generating channels:  26%|█████████████▋                                       | 17766/69040 [00:04<00:15, 3407.34it/s]\u001b[A\n",
      "Generating channels:  26%|█████████████▉                                       | 18125/69040 [00:04<00:15, 3224.52it/s]\u001b[A\n",
      "Generating channels:  27%|██████████████▏                                      | 18460/69040 [00:04<00:16, 2988.18it/s]\u001b[A\n"
     ]
    },
    {
     "name": "stderr",
     "output_type": "stream",
     "text": [
      "Generating channels:  28%|██████████████▋                                      | 19104/69040 [00:04<00:12, 3846.55it/s]\u001b[A\n",
      "Generating channels:  28%|██████████████▉                                      | 19514/69040 [00:05<00:13, 3726.62it/s]\u001b[A\n",
      "Generating channels:  29%|███████████████▎                                     | 19904/69040 [00:05<00:15, 3228.63it/s]\u001b[A\n",
      "Generating channels:  29%|███████████████▌                                     | 20283/69040 [00:05<00:14, 3361.00it/s]\u001b[A\n",
      "Generating channels:  30%|████████████████                                     | 20933/69040 [00:05<00:11, 4162.37it/s]\u001b[A\n",
      "Generating channels:  31%|████████████████▍                                    | 21375/69040 [00:05<00:12, 3960.10it/s]\u001b[A\n",
      "Generating channels:  32%|████████████████▋                                    | 21790/69040 [00:05<00:13, 3600.24it/s]\u001b[A\n",
      "Generating channels:  32%|█████████████████                                    | 22168/69040 [00:05<00:13, 3586.51it/s]\u001b[A\n",
      "Generating channels:  33%|█████████████████▌                                   | 22824/69040 [00:05<00:10, 4366.13it/s]\u001b[A\n",
      "Generating channels:  34%|█████████████████▊                                   | 23281/69040 [00:06<00:11, 4011.19it/s]\u001b[A\n",
      "Generating channels:  34%|██████████████████▏                                  | 23700/69040 [00:06<00:13, 3342.16it/s]\u001b[A\n",
      "Generating channels:  35%|██████████████████▍                                  | 24063/69040 [00:06<00:13, 3238.28it/s]\u001b[A\n",
      "Generating channels:  36%|███████████████████                                  | 24752/69040 [00:06<00:10, 4120.81it/s]\u001b[A\n",
      "Generating channels:  36%|███████████████████▎                                 | 25199/69040 [00:06<00:11, 3867.75it/s]\u001b[A\n",
      "Generating channels:  37%|███████████████████▋                                 | 25612/69040 [00:06<00:12, 3387.01it/s]\u001b[A\n",
      "Generating channels:  38%|███████████████████▉                                 | 25988/69040 [00:06<00:12, 3471.05it/s]\u001b[A\n",
      "Generating channels:  39%|████████████████████▍                                | 26627/69040 [00:06<00:10, 4207.43it/s]\u001b[A\n",
      "Generating channels:  39%|████████████████████▊                                | 27076/69040 [00:07<00:10, 4082.01it/s]\u001b[A\n",
      "Generating channels:  40%|█████████████████████                                | 27504/69040 [00:07<00:11, 3676.14it/s]\u001b[A\n",
      "Generating channels:  40%|█████████████████████▍                               | 27891/69040 [00:07<00:11, 3584.70it/s]\u001b[A\n",
      "Generating channels:  41%|█████████████████████▊                               | 28433/69040 [00:07<00:10, 4056.79it/s]\u001b[A\n",
      "Generating channels:  42%|██████████████████████▏                              | 28868/69040 [00:07<00:09, 4129.87it/s]\u001b[A\n",
      "Generating channels:  42%|██████████████████████▍                              | 29294/69040 [00:07<00:10, 3726.84it/s]\u001b[A\n",
      "Generating channels:  43%|██████████████████████▊                              | 29682/69040 [00:07<00:10, 3642.41it/s]\u001b[A\n",
      "Generating channels:  44%|███████████████████████▏                             | 30262/69040 [00:07<00:09, 4208.78it/s]\u001b[A\n",
      "Generating channels:  44%|███████████████████████▌                             | 30697/69040 [00:08<00:09, 4218.32it/s]\u001b[A\n",
      "Generating channels:  45%|███████████████████████▉                             | 31129/69040 [00:08<00:10, 3788.22it/s]\u001b[A\n",
      "Generating channels:  46%|████████████████████████▏                            | 31522/69040 [00:08<00:10, 3593.66it/s]\u001b[A\n",
      "Generating channels:  47%|████████████████████████▋                            | 32129/69040 [00:08<00:08, 4234.28it/s]\u001b[A\n",
      "Generating channels:  47%|█████████████████████████                            | 32569/69040 [00:08<00:08, 4176.84it/s]\u001b[A\n",
      "Generating channels:  48%|█████████████████████████▎                           | 32998/69040 [00:08<00:09, 3700.89it/s]\u001b[A\n",
      "Generating channels:  48%|█████████████████████████▋                           | 33385/69040 [00:08<00:10, 3492.70it/s]\u001b[A\n",
      "Generating channels:  49%|██████████████████████████                           | 33874/69040 [00:08<00:09, 3846.63it/s]\u001b[A\n",
      "Generating channels:  50%|██████████████████████████▎                          | 34320/69040 [00:08<00:08, 4009.74it/s]\u001b[A\n",
      "Generating channels:  50%|██████████████████████████▋                          | 34734/69040 [00:09<00:09, 3809.15it/s]\u001b[A\n",
      "Generating channels:  51%|██████████████████████████▉                          | 35125/69040 [00:09<00:09, 3439.92it/s]\u001b[A\n",
      "Generating channels:  51%|███████████████████████████▏                         | 35481/69040 [00:09<00:09, 3422.23it/s]\u001b[A\n",
      "Generating channels:  52%|███████████████████████████▋                         | 36061/69040 [00:09<00:08, 4049.02it/s]\u001b[A\n",
      "Generating channels:  53%|████████████████████████████                         | 36480/69040 [00:09<00:08, 3915.08it/s]\u001b[A\n",
      "Generating channels:  53%|████████████████████████████▎                        | 36882/69040 [00:09<00:09, 3325.10it/s]\u001b[A\n",
      "Generating channels:  54%|████████████████████████████▌                        | 37235/69040 [00:09<00:09, 3190.65it/s]\u001b[A\n",
      "Generating channels:  55%|████████████████████████████▉                        | 37650/69040 [00:09<00:09, 3425.64it/s]\u001b[A\n",
      "Generating channels:  55%|█████████████████████████████▏                       | 38067/69040 [00:10<00:08, 3621.36it/s]\u001b[A\n",
      "Generating channels:  56%|█████████████████████████████▌                       | 38442/69040 [00:10<00:08, 3602.21it/s]\u001b[A\n",
      "Generating channels:  56%|█████████████████████████████▊                       | 38811/69040 [00:10<00:08, 3386.53it/s]\u001b[A\n",
      "Generating channels:  57%|██████████████████████████████                       | 39158/69040 [00:10<00:08, 3398.56it/s]\u001b[A\n",
      "Generating channels:  57%|██████████████████████████████▍                      | 39679/69040 [00:10<00:07, 3901.90it/s]\u001b[A\n",
      "Generating channels:  58%|██████████████████████████████▊                      | 40078/69040 [00:10<00:07, 3915.43it/s]\u001b[A\n",
      "Generating channels:  59%|███████████████████████████████                      | 40476/69040 [00:10<00:07, 3695.31it/s]\u001b[A\n",
      "Generating channels:  59%|███████████████████████████████▎                     | 40852/69040 [00:10<00:08, 3357.25it/s]\u001b[A\n",
      "Generating channels:  60%|███████████████████████████████▋                     | 41197/69040 [00:10<00:08, 3289.20it/s]\u001b[A\n",
      "Generating channels:  60%|███████████████████████████████▉                     | 41667/69040 [00:11<00:07, 3666.03it/s]\u001b[A\n",
      "Generating channels:  61%|████████████████████████████████▎                    | 42070/69040 [00:11<00:07, 3760.55it/s]\u001b[A\n",
      "Generating channels:  61%|████████████████████████████████▌                    | 42453/69040 [00:11<00:07, 3350.99it/s]\u001b[A\n",
      "Generating channels:  62%|████████████████████████████████▊                    | 42800/69040 [00:11<00:08, 3104.43it/s]\u001b[A\n",
      "Generating channels:  63%|█████████████████████████████████▏                   | 43185/69040 [00:11<00:07, 3283.35it/s]\u001b[A\n",
      "Generating channels:  63%|█████████████████████████████████▌                   | 43669/69040 [00:11<00:06, 3695.23it/s]\u001b[A\n",
      "Generating channels:  64%|█████████████████████████████████▊                   | 44051/69040 [00:11<00:06, 3702.80it/s]\u001b[A\n",
      "Generating channels:  64%|██████████████████████████████████                   | 44430/69040 [00:11<00:07, 3453.39it/s]\u001b[A\n",
      "Generating channels:  65%|██████████████████████████████████▍                  | 44784/69040 [00:11<00:07, 3397.92it/s]\u001b[A\n",
      "Generating channels:  65%|██████████████████████████████████▋                  | 45220/69040 [00:12<00:06, 3652.40it/s]\u001b[A\n",
      "Generating channels:  66%|███████████████████████████████████                  | 45687/69040 [00:12<00:05, 3938.63it/s]\u001b[A\n",
      "Generating channels:  67%|███████████████████████████████████▍                 | 46087/69040 [00:12<00:06, 3730.84it/s]\u001b[A\n",
      "Generating channels:  67%|███████████████████████████████████▋                 | 46467/69040 [00:12<00:06, 3504.74it/s]\u001b[A\n",
      "Generating channels:  68%|███████████████████████████████████▉                 | 46828/69040 [00:12<00:06, 3524.91it/s]\u001b[A\n",
      "Generating channels:  68%|████████████████████████████████████▎                | 47234/69040 [00:12<00:05, 3671.91it/s]\u001b[A\n"
     ]
    },
    {
     "name": "stderr",
     "output_type": "stream",
     "text": [
      "Generating channels:  69%|████████████████████████████████████▌                | 47641/69040 [00:12<00:05, 3782.16it/s]\u001b[A\n",
      "Generating channels:  70%|████████████████████████████████████▊                | 48023/69040 [00:12<00:05, 3575.79it/s]\u001b[A\n",
      "Generating channels:  70%|█████████████████████████████████████▏               | 48385/69040 [00:12<00:05, 3447.87it/s]\u001b[A\n",
      "Generating channels:  71%|█████████████████████████████████████▍               | 48757/69040 [00:13<00:05, 3519.77it/s]\u001b[A\n",
      "Generating channels:  71%|█████████████████████████████████████▊               | 49223/69040 [00:13<00:05, 3836.72it/s]\u001b[A\n",
      "Generating channels:  72%|██████████████████████████████████████               | 49619/69040 [00:13<00:05, 3862.91it/s]\u001b[A\n",
      "Generating channels:  72%|██████████████████████████████████████▍              | 50008/69040 [00:13<00:05, 3281.40it/s]\u001b[A\n",
      "Generating channels:  73%|██████████████████████████████████████▋              | 50353/69040 [00:13<00:05, 3251.10it/s]\u001b[A\n",
      "Generating channels:  74%|███████████████████████████████████████              | 50809/69040 [00:13<00:05, 3594.19it/s]\u001b[A\n",
      "Generating channels:  74%|███████████████████████████████████████▎             | 51220/69040 [00:13<00:04, 3732.65it/s]\u001b[A\n",
      "Generating channels:  75%|███████████████████████████████████████▌             | 51603/69040 [00:13<00:04, 3732.94it/s]\u001b[A\n",
      "Generating channels:  75%|███████████████████████████████████████▉             | 51983/69040 [00:13<00:05, 3391.31it/s]\u001b[A\n",
      "Generating channels:  76%|████████████████████████████████████████▏            | 52333/69040 [00:14<00:05, 3234.86it/s]\u001b[A\n",
      "Generating channels:  76%|████████████████████████████████████████▍            | 52726/69040 [00:14<00:04, 3411.68it/s]\u001b[A\n",
      "Generating channels:  77%|████████████████████████████████████████▊            | 53205/69040 [00:14<00:04, 3785.02it/s]\u001b[A\n",
      "Generating channels:  78%|█████████████████████████████████████████▏           | 53592/69040 [00:14<00:04, 3600.81it/s]\u001b[A\n",
      "Generating channels:  78%|█████████████████████████████████████████▍           | 53960/69040 [00:14<00:04, 3385.51it/s]\u001b[A\n",
      "Generating channels:  79%|█████████████████████████████████████████▋           | 54305/69040 [00:14<00:04, 3334.19it/s]\u001b[A\n",
      "Generating channels:  79%|█████████████████████████████████████████▉           | 54708/69040 [00:14<00:04, 3520.83it/s]\u001b[A\n",
      "Generating channels:  80%|██████████████████████████████████████████▎          | 55146/69040 [00:14<00:03, 3755.74it/s]\u001b[A\n",
      "Generating channels:  80%|██████████████████████████████████████████▋          | 55527/69040 [00:14<00:03, 3624.64it/s]\u001b[A\n",
      "Generating channels:  81%|██████████████████████████████████████████▉          | 55894/69040 [00:15<00:03, 3291.34it/s]\u001b[A\n",
      "Generating channels:  81%|███████████████████████████████████████████▏         | 56261/69040 [00:15<00:03, 3389.48it/s]\u001b[A\n",
      "Generating channels:  82%|███████████████████████████████████████████▌         | 56719/69040 [00:15<00:03, 3710.34it/s]\u001b[A\n",
      "Generating channels:  83%|███████████████████████████████████████████▊         | 57133/69040 [00:15<00:03, 3824.22it/s]\u001b[A\n",
      "Generating channels:  83%|████████████████████████████████████████████▏        | 57522/69040 [00:15<00:03, 3556.15it/s]\u001b[A\n",
      "Generating channels:  84%|████████████████████████████████████████████▍        | 57885/69040 [00:15<00:03, 3200.09it/s]\u001b[A\n",
      "Generating channels:  84%|████████████████████████████████████████████▋        | 58216/69040 [00:15<00:03, 3149.95it/s]\u001b[A\n",
      "Generating channels: 100%|█████████████████████████████████████████████████████| 69040/69040 [00:15<00:00, 4344.26it/s]\u001b[A\n"
     ]
    },
    {
     "name": "stdout",
     "output_type": "stream",
     "text": [
      "\n",
      "BS-BS Channels\n"
     ]
    },
    {
     "name": "stderr",
     "output_type": "stream",
     "text": [
      "\n",
      "Reading ray-tracing: 100%|███████████████████████████████████████████████████████████████████████| 1/1 [00:00<?, ?it/s]\u001b[A\n",
      "\n",
      "Generating channels: 100%|██████████████████████████████████████████████████████████████| 1/1 [00:00<00:00, 250.08it/s]\u001b[A\n"
     ]
    },
    {
     "name": "stdout",
     "output_type": "stream",
     "text": [
      "\n",
      "Scene 4/5\n",
      "\n",
      "Basestation 1\n",
      "\n",
      "UE-BS Channels\n"
     ]
    },
    {
     "name": "stderr",
     "output_type": "stream",
     "text": [
      "\n",
      "Reading ray-tracing:   0%|                                                                   | 0/69040 [00:00<?, ?it/s]\u001b[A\n",
      "Reading ray-tracing:   2%|▉                                                    | 1259/69040 [00:00<00:05, 12584.79it/s]\u001b[A\n",
      "Reading ray-tracing:   4%|██▎                                                  | 3081/69040 [00:00<00:04, 15866.74it/s]\u001b[A\n",
      "Reading ray-tracing:   8%|████▎                                                | 5632/69040 [00:00<00:03, 20189.16it/s]\u001b[A\n",
      "Reading ray-tracing:  11%|██████                                               | 7849/69040 [00:00<00:02, 20944.08it/s]\u001b[A\n",
      "Reading ray-tracing:  15%|███████▊                                            | 10411/69040 [00:00<00:02, 22585.65it/s]\u001b[A\n",
      "Reading ray-tracing:  18%|█████████▌                                          | 12669/69040 [00:00<00:02, 22507.27it/s]\u001b[A\n",
      "Reading ray-tracing:  22%|███████████▏                                        | 14920/69040 [00:00<00:02, 20863.58it/s]\u001b[A\n",
      "Reading ray-tracing:  25%|████████████▊                                       | 17028/69040 [00:00<00:03, 16195.44it/s]\u001b[A\n",
      "Reading ray-tracing:  27%|██████████████▏                                     | 18805/69040 [00:01<00:03, 15063.35it/s]\u001b[A\n",
      "Reading ray-tracing:  30%|███████████████▍                                    | 20422/69040 [00:01<00:03, 13165.65it/s]\u001b[A\n",
      "Reading ray-tracing:  32%|████████████████▌                                   | 21937/69040 [00:01<00:03, 13619.70it/s]\u001b[A\n",
      "Reading ray-tracing:  34%|█████████████████▋                                  | 23402/69040 [00:01<00:03, 13856.20it/s]\u001b[A\n",
      "Reading ray-tracing:  36%|██████████████████▋                                 | 24893/69040 [00:01<00:03, 14112.94it/s]\u001b[A\n",
      "Reading ray-tracing:  38%|███████████████████▊                                | 26353/69040 [00:01<00:03, 14214.88it/s]\u001b[A\n",
      "Reading ray-tracing:  40%|████████████████████▉                               | 27810/69040 [00:01<00:02, 13944.77it/s]\u001b[A\n",
      "Reading ray-tracing:  43%|██████████████████████▍                             | 29863/69040 [00:01<00:02, 15763.56it/s]\u001b[A\n",
      "Reading ray-tracing:  47%|████████████████████████▌                           | 32582/69040 [00:01<00:01, 18977.25it/s]\u001b[A\n",
      "Reading ray-tracing:  51%|██████████████████████████▎                         | 34969/69040 [00:02<00:01, 20340.94it/s]\u001b[A\n",
      "Reading ray-tracing:  54%|███████████████████████████▉                        | 37034/69040 [00:02<00:01, 18517.65it/s]\u001b[A\n",
      "Reading ray-tracing:  56%|█████████████████████████████▎                      | 38952/69040 [00:02<00:01, 18677.75it/s]\u001b[A\n",
      "Reading ray-tracing:  59%|██████████████████████████████▊                     | 40887/69040 [00:02<00:01, 18830.31it/s]\u001b[A\n",
      "Reading ray-tracing:  62%|████████████████████████████████▍                   | 43003/69040 [00:02<00:01, 19443.08it/s]\u001b[A\n",
      "Reading ray-tracing:  65%|█████████████████████████████████▉                  | 45132/69040 [00:02<00:01, 19920.91it/s]\u001b[A\n",
      "Reading ray-tracing:  68%|███████████████████████████████████▌                | 47141/69040 [00:02<00:01, 19081.28it/s]\u001b[A\n",
      "Reading ray-tracing:  71%|█████████████████████████████████████               | 49148/69040 [00:02<00:01, 19335.85it/s]\u001b[A\n",
      "Reading ray-tracing:  74%|██████████████████████████████████████▍             | 51096/69040 [00:02<00:00, 18492.13it/s]\u001b[A\n",
      "Reading ray-tracing:  77%|███████████████████████████████████████▉            | 52961/69040 [00:03<00:00, 16158.85it/s]\u001b[A\n",
      "Reading ray-tracing:  79%|█████████████████████████████████████████▏          | 54634/69040 [00:03<00:00, 14737.12it/s]\u001b[A\n",
      "Reading ray-tracing:  81%|██████████████████████████████████████████▎         | 56162/69040 [00:03<00:00, 13311.99it/s]\u001b[A\n",
      "Reading ray-tracing:  83%|███████████████████████████████████████████▎        | 57549/69040 [00:03<00:00, 13442.56it/s]\u001b[A\n",
      "Reading ray-tracing:  86%|████████████████████████████████████████████▊       | 59459/69040 [00:03<00:00, 14900.10it/s]\u001b[A\n",
      "Reading ray-tracing: 100%|████████████████████████████████████████████████████| 69040/69040 [00:03<00:00, 18579.27it/s]\u001b[A\n",
      "\n",
      "Generating channels:   0%|                                                                   | 0/69040 [00:00<?, ?it/s]\u001b[A\n",
      "Generating channels:   1%|▎                                                      | 396/69040 [00:00<00:17, 3945.37it/s]\u001b[A\n",
      "Generating channels:   1%|▋                                                      | 791/69040 [00:00<00:22, 2977.82it/s]\u001b[A\n",
      "Generating channels:   2%|▊                                                     | 1103/69040 [00:00<00:23, 2877.73it/s]\u001b[A\n",
      "Generating channels:   2%|█▏                                                    | 1498/69040 [00:00<00:20, 3238.10it/s]\u001b[A\n",
      "Generating channels:   3%|█▌                                                    | 2043/69040 [00:00<00:16, 3960.28it/s]\u001b[A\n",
      "Generating channels:   4%|█▉                                                    | 2452/69040 [00:00<00:17, 3719.39it/s]\u001b[A\n",
      "Generating channels:   4%|██▏                                                   | 2835/69040 [00:00<00:21, 3144.12it/s]\u001b[A\n",
      "Generating channels:   5%|██▍                                                   | 3169/69040 [00:00<00:20, 3148.20it/s]\u001b[A\n",
      "Generating channels:   5%|██▉                                                   | 3678/69040 [00:01<00:17, 3671.19it/s]\u001b[A\n",
      "Generating channels:   6%|███▎                                                  | 4198/69040 [00:01<00:15, 4092.85it/s]\u001b[A\n",
      "Generating channels:   7%|███▌                                                  | 4624/69040 [00:01<00:17, 3588.59it/s]\u001b[A\n",
      "Generating channels:   7%|███▉                                                  | 5004/69040 [00:01<00:19, 3244.40it/s]\u001b[A\n",
      "Generating channels:   8%|████▏                                                 | 5347/69040 [00:01<00:20, 3139.38it/s]\u001b[A\n",
      "Generating channels:   8%|████▍                                                 | 5692/69040 [00:01<00:19, 3214.71it/s]\u001b[A\n",
      "Generating channels:   9%|████▊                                                 | 6085/69040 [00:01<00:18, 3400.38it/s]\u001b[A\n",
      "Generating channels:   9%|█████                                                 | 6435/69040 [00:01<00:21, 2881.24it/s]\u001b[A\n",
      "Generating channels:  10%|█████▎                                                | 6742/69040 [00:02<00:22, 2738.43it/s]\u001b[A\n",
      "Generating channels:  10%|█████▌                                                | 7157/69040 [00:02<00:20, 3083.21it/s]\u001b[A\n",
      "Generating channels:  11%|██████                                                | 7706/69040 [00:02<00:16, 3708.48it/s]\u001b[A\n",
      "Generating channels:  12%|██████▎                                               | 8097/69040 [00:02<00:18, 3235.95it/s]\u001b[A\n",
      "Generating channels:  12%|██████▌                                               | 8444/69040 [00:02<00:21, 2793.57it/s]\u001b[A\n",
      "Generating channels:  13%|██████▊                                               | 8748/69040 [00:02<00:22, 2670.06it/s]\u001b[A\n",
      "Generating channels:  13%|███████                                               | 9098/69040 [00:02<00:20, 2862.88it/s]\u001b[A\n",
      "Generating channels:  14%|███████▌                                              | 9600/69040 [00:02<00:17, 3405.94it/s]\u001b[A\n",
      "Generating channels:  14%|███████▊                                              | 9962/69040 [00:03<00:17, 3392.44it/s]\u001b[A\n",
      "Generating channels:  15%|███████▉                                             | 10317/69040 [00:03<00:17, 3266.82it/s]\u001b[A\n",
      "Generating channels:  15%|████████▏                                            | 10655/69040 [00:03<00:17, 3249.22it/s]\u001b[A\n",
      "Generating channels:  16%|████████▌                                            | 11145/69040 [00:03<00:15, 3694.48it/s]\u001b[A\n",
      "Generating channels:  17%|████████▉                                            | 11604/69040 [00:03<00:14, 3938.80it/s]\u001b[A\n",
      "Generating channels:  17%|█████████▏                                           | 12006/69040 [00:03<00:16, 3429.11it/s]\u001b[A\n",
      "Generating channels:  18%|█████████▍                                           | 12366/69040 [00:03<00:17, 3150.26it/s]\u001b[A\n",
      "Generating channels:  18%|█████████▋                                           | 12696/69040 [00:03<00:18, 3041.64it/s]\u001b[A\n"
     ]
    },
    {
     "name": "stderr",
     "output_type": "stream",
     "text": [
      "Generating channels:  19%|██████████                                           | 13180/69040 [00:03<00:15, 3501.05it/s]\u001b[A\n",
      "Generating channels:  20%|██████████▍                                          | 13582/69040 [00:04<00:15, 3637.01it/s]\u001b[A\n",
      "Generating channels:  20%|██████████▋                                          | 13958/69040 [00:04<00:16, 3432.80it/s]\u001b[A\n",
      "Generating channels:  21%|██████████▉                                          | 14311/69040 [00:04<00:17, 3200.23it/s]\u001b[A\n",
      "Generating channels:  21%|███████████▎                                         | 14685/69040 [00:04<00:16, 3333.42it/s]\u001b[A\n",
      "Generating channels:  22%|███████████▋                                         | 15292/69040 [00:04<00:13, 4069.22it/s]\u001b[A\n",
      "Generating channels:  23%|████████████                                         | 15712/69040 [00:04<00:13, 3845.68it/s]\u001b[A\n",
      "Generating channels:  23%|████████████▎                                        | 16107/69040 [00:04<00:16, 3195.44it/s]\u001b[A\n",
      "Generating channels:  24%|████████████▋                                        | 16451/69040 [00:04<00:16, 3139.40it/s]\u001b[A\n",
      "Generating channels:  25%|█████████████                                        | 17011/69040 [00:05<00:13, 3756.46it/s]\u001b[A\n",
      "Generating channels:  25%|█████████████▍                                       | 17440/69040 [00:05<00:13, 3895.39it/s]\u001b[A\n",
      "Generating channels:  26%|█████████████▋                                       | 17848/69040 [00:05<00:14, 3600.93it/s]\u001b[A\n",
      "Generating channels:  26%|█████████████▉                                       | 18225/69040 [00:05<00:14, 3465.56it/s]\u001b[A\n",
      "Generating channels:  27%|██████████████▎                                      | 18583/69040 [00:05<00:14, 3474.58it/s]\u001b[A\n",
      "Generating channels:  28%|██████████████▋                                      | 19095/69040 [00:05<00:12, 3916.65it/s]\u001b[A\n",
      "Generating channels:  28%|██████████████▉                                      | 19497/69040 [00:05<00:13, 3793.95it/s]\u001b[A\n",
      "Generating channels:  29%|███████████████▎                                     | 19884/69040 [00:05<00:14, 3406.61it/s]\u001b[A\n",
      "Generating channels:  29%|███████████████▌                                     | 20236/69040 [00:05<00:14, 3402.87it/s]\u001b[A\n",
      "Generating channels:  30%|███████████████▉                                     | 20765/69040 [00:06<00:12, 3905.10it/s]\u001b[A\n",
      "Generating channels:  31%|████████████████▎                                    | 21175/69040 [00:06<00:12, 3955.97it/s]\u001b[A\n",
      "Generating channels:  31%|████████████████▌                                    | 21579/69040 [00:06<00:13, 3589.17it/s]\u001b[A\n",
      "Generating channels:  32%|████████████████▊                                    | 21950/69040 [00:06<00:13, 3398.07it/s]\u001b[A\n",
      "Generating channels:  33%|█████████████████▏                                   | 22466/69040 [00:06<00:12, 3855.20it/s]\u001b[A\n",
      "Generating channels:  33%|█████████████████▋                                   | 22973/69040 [00:06<00:11, 4176.17it/s]\u001b[A\n",
      "Generating channels:  34%|█████████████████▉                                   | 23402/69040 [00:06<00:11, 3808.73it/s]\u001b[A\n",
      "Generating channels:  34%|██████████████████▎                                  | 23796/69040 [00:06<00:12, 3587.50it/s]\u001b[A\n",
      "Generating channels:  35%|██████████████████▋                                  | 24291/69040 [00:07<00:11, 3936.56it/s]\u001b[A\n",
      "Generating channels:  36%|███████████████████                                  | 24756/69040 [00:07<00:10, 4126.49it/s]\u001b[A\n",
      "Generating channels:  36%|███████████████████▎                                 | 25179/69040 [00:07<00:11, 3929.56it/s]\u001b[A\n",
      "Generating channels:  37%|███████████████████▋                                 | 25581/69040 [00:07<00:12, 3598.33it/s]\u001b[A\n",
      "Generating channels:  38%|███████████████████▉                                 | 25951/69040 [00:07<00:12, 3495.63it/s]\u001b[A\n",
      "Generating channels:  39%|████████████████████▍                                | 26595/69040 [00:07<00:09, 4275.10it/s]\u001b[A\n",
      "Generating channels:  39%|████████████████████▊                                | 27037/69040 [00:07<00:10, 4100.98it/s]\u001b[A\n",
      "Generating channels:  40%|█████████████████████                                | 27458/69040 [00:07<00:11, 3737.56it/s]\u001b[A\n",
      "Generating channels:  40%|█████████████████████▍                               | 27844/69040 [00:07<00:11, 3728.82it/s]\u001b[A\n",
      "Generating channels:  41%|█████████████████████▊                               | 28404/69040 [00:08<00:09, 4229.78it/s]\u001b[A\n",
      "Generating channels:  42%|██████████████████████▏                              | 28839/69040 [00:08<00:09, 4154.49it/s]\u001b[A\n",
      "Generating channels:  42%|██████████████████████▍                              | 29263/69040 [00:08<00:10, 3773.58it/s]\u001b[A\n",
      "Generating channels:  43%|██████████████████████▊                              | 29652/69040 [00:08<00:10, 3610.00it/s]\u001b[A\n",
      "Generating channels:  44%|███████████████████████▏                             | 30242/69040 [00:08<00:09, 4209.96it/s]\u001b[A\n",
      "Generating channels:  44%|███████████████████████▌                             | 30677/69040 [00:08<00:09, 4099.22it/s]\u001b[A\n",
      "Generating channels:  45%|███████████████████████▊                             | 31097/69040 [00:08<00:10, 3640.36it/s]\u001b[A\n",
      "Generating channels:  46%|████████████████████████▏                            | 31476/69040 [00:08<00:10, 3486.98it/s]\u001b[A\n",
      "Generating channels:  46%|████████████████████████▍                            | 31884/69040 [00:09<00:10, 3639.84it/s]\u001b[A\n",
      "Generating channels:  47%|████████████████████████▉                            | 32436/69040 [00:09<00:08, 4135.28it/s]\u001b[A\n",
      "Generating channels:  48%|█████████████████████████▏                           | 32862/69040 [00:09<00:09, 3859.45it/s]\u001b[A\n",
      "Generating channels:  48%|█████████████████████████▌                           | 33259/69040 [00:09<00:10, 3508.77it/s]\u001b[A\n",
      "Generating channels:  49%|█████████████████████████▊                           | 33622/69040 [00:09<00:10, 3515.91it/s]\u001b[A\n",
      "Generating channels:  50%|██████████████████████████▎                          | 34211/69040 [00:09<00:08, 4146.32it/s]\u001b[A\n",
      "Generating channels:  50%|██████████████████████████▌                          | 34640/69040 [00:09<00:08, 3962.81it/s]\u001b[A\n",
      "Generating channels:  51%|██████████████████████████▉                          | 35047/69040 [00:09<00:09, 3528.18it/s]\u001b[A\n",
      "Generating channels:  51%|███████████████████████████▏                         | 35414/69040 [00:09<00:09, 3384.83it/s]\u001b[A\n",
      "Generating channels:  52%|███████████████████████████▌                         | 35937/69040 [00:10<00:08, 3853.10it/s]\u001b[A\n",
      "Generating channels:  53%|███████████████████████████▉                         | 36337/69040 [00:10<00:08, 3867.90it/s]\u001b[A\n",
      "Generating channels:  53%|████████████████████████████▏                        | 36734/69040 [00:10<00:09, 3557.36it/s]\u001b[A\n",
      "Generating channels:  54%|████████████████████████████▍                        | 37101/69040 [00:10<00:09, 3361.31it/s]\u001b[A\n",
      "Generating channels:  54%|████████████████████████████▋                        | 37446/69040 [00:10<00:09, 3340.18it/s]\u001b[A\n",
      "Generating channels:  55%|█████████████████████████████▏                       | 37965/69040 [00:10<00:08, 3832.54it/s]\u001b[A\n",
      "Generating channels:  56%|█████████████████████████████▍                       | 38358/69040 [00:10<00:08, 3685.77it/s]\u001b[A\n",
      "Generating channels:  56%|█████████████████████████████▋                       | 38734/69040 [00:10<00:09, 3348.86it/s]\u001b[A\n",
      "Generating channels:  57%|█████████████████████████████▉                       | 39079/69040 [00:11<00:09, 3243.93it/s]\u001b[A\n",
      "Generating channels:  57%|██████████████████████████████▎                      | 39536/69040 [00:11<00:08, 3587.65it/s]\u001b[A\n",
      "Generating channels:  58%|██████████████████████████████▋                      | 39980/69040 [00:11<00:07, 3808.56it/s]\u001b[A\n",
      "Generating channels:  58%|██████████████████████████████▉                      | 40369/69040 [00:11<00:07, 3700.37it/s]\u001b[A\n",
      "Generating channels:  59%|███████████████████████████████▎                     | 40745/69040 [00:11<00:08, 3443.92it/s]\u001b[A\n",
      "Generating channels:  60%|███████████████████████████████▌                     | 41096/69040 [00:11<00:08, 3370.00it/s]\u001b[A\n"
     ]
    },
    {
     "name": "stderr",
     "output_type": "stream",
     "text": [
      "Generating channels:  60%|███████████████████████████████▉                     | 41558/69040 [00:11<00:07, 3709.48it/s]\u001b[A\n",
      "Generating channels:  61%|████████████████████████████████▏                    | 41962/69040 [00:11<00:07, 3794.85it/s]\u001b[A\n",
      "Generating channels:  61%|████████████████████████████████▌                    | 42347/69040 [00:11<00:07, 3482.62it/s]\u001b[A\n",
      "Generating channels:  62%|████████████████████████████████▊                    | 42703/69040 [00:12<00:07, 3307.85it/s]\u001b[A\n",
      "Generating channels:  62%|█████████████████████████████████                    | 43061/69040 [00:12<00:07, 3377.96it/s]\u001b[A\n",
      "Generating channels:  63%|█████████████████████████████████▎                   | 43404/69040 [00:12<00:07, 3337.14it/s]\u001b[A\n",
      "Generating channels:  63%|█████████████████████████████████▋                   | 43818/69040 [00:12<00:07, 3560.06it/s]\u001b[A\n",
      "Generating channels:  64%|█████████████████████████████████▉                   | 44178/69040 [00:12<00:07, 3450.92it/s]\u001b[A\n",
      "Generating channels:  64%|██████████████████████████████████▏                  | 44527/69040 [00:12<00:07, 3289.73it/s]\u001b[A\n",
      "Generating channels:  65%|██████████████████████████████████▍                  | 44871/69040 [00:12<00:07, 3330.05it/s]\u001b[A\n",
      "Generating channels:  66%|██████████████████████████████████▊                  | 45341/69040 [00:12<00:06, 3709.08it/s]\u001b[A\n",
      "Generating channels:  66%|███████████████████████████████████▏                 | 45760/69040 [00:12<00:06, 3838.09it/s]\u001b[A\n",
      "Generating channels:  67%|███████████████████████████████████▍                 | 46147/69040 [00:12<00:06, 3653.14it/s]\u001b[A\n",
      "Generating channels:  67%|███████████████████████████████████▋                 | 46516/69040 [00:13<00:06, 3361.15it/s]\u001b[A\n",
      "Generating channels:  68%|███████████████████████████████████▉                 | 46869/69040 [00:13<00:06, 3404.04it/s]\u001b[A\n",
      "Generating channels:  69%|████████████████████████████████████▎                | 47329/69040 [00:13<00:05, 3735.07it/s]\u001b[A\n",
      "Generating channels:  69%|████████████████████████████████████▋                | 47733/69040 [00:13<00:05, 3817.57it/s]\u001b[A\n",
      "Generating channels:  70%|████████████████████████████████████▉                | 48120/69040 [00:13<00:06, 3252.29it/s]\u001b[A\n",
      "Generating channels:  70%|█████████████████████████████████████▏               | 48463/69040 [00:13<00:06, 3127.20it/s]\u001b[A\n",
      "Generating channels:  71%|█████████████████████████████████████▌               | 48851/69040 [00:13<00:06, 3321.77it/s]\u001b[A\n",
      "Generating channels:  71%|█████████████████████████████████████▊               | 49254/69040 [00:13<00:05, 3512.22it/s]\u001b[A\n",
      "Generating channels:  72%|██████████████████████████████████████               | 49624/69040 [00:13<00:05, 3557.74it/s]\u001b[A\n",
      "Generating channels:  72%|██████████████████████████████████████▎              | 49988/69040 [00:14<00:05, 3441.97it/s]\u001b[A\n",
      "Generating channels:  73%|██████████████████████████████████████▋              | 50338/69040 [00:14<00:05, 3262.14it/s]\u001b[A\n",
      "Generating channels:  73%|██████████████████████████████████████▉              | 50670/69040 [00:14<00:05, 3270.80it/s]\u001b[A\n",
      "Generating channels:  74%|███████████████████████████████████████▎             | 51167/69040 [00:14<00:04, 3742.04it/s]\u001b[A\n",
      "Generating channels:  75%|███████████████████████████████████████▌             | 51547/69040 [00:14<00:04, 3693.99it/s]\u001b[A\n",
      "Generating channels:  75%|███████████████████████████████████████▊             | 51921/69040 [00:14<00:05, 3361.95it/s]\u001b[A\n",
      "Generating channels:  76%|████████████████████████████████████████             | 52265/69040 [00:14<00:05, 3289.04it/s]\u001b[A\n",
      "Generating channels:  76%|████████████████████████████████████████▍            | 52696/69040 [00:14<00:04, 3559.62it/s]\u001b[A\n",
      "Generating channels:  77%|████████████████████████████████████████▊            | 53213/69040 [00:14<00:03, 4004.04it/s]\u001b[A\n",
      "Generating channels:  78%|█████████████████████████████████████████▏           | 53621/69040 [00:15<00:04, 3689.49it/s]\u001b[A\n",
      "Generating channels:  78%|█████████████████████████████████████████▍           | 54000/69040 [00:15<00:04, 3463.86it/s]\u001b[A\n",
      "Generating channels:  79%|█████████████████████████████████████████▋           | 54355/69040 [00:15<00:04, 3409.92it/s]\u001b[A\n",
      "Generating channels:  79%|██████████████████████████████████████████           | 54859/69040 [00:15<00:03, 3839.77it/s]\u001b[A\n",
      "Generating channels:  80%|██████████████████████████████████████████▍          | 55251/69040 [00:15<00:03, 3832.68it/s]\u001b[A\n",
      "Generating channels:  81%|██████████████████████████████████████████▋          | 55640/69040 [00:15<00:03, 3542.22it/s]\u001b[A\n",
      "Generating channels:  81%|██████████████████████████████████████████▉          | 56002/69040 [00:15<00:03, 3389.57it/s]\u001b[A\n",
      "Generating channels:  82%|███████████████████████████████████████████▎         | 56368/69040 [00:15<00:03, 3453.95it/s]\u001b[A\n",
      "Generating channels:  82%|███████████████████████████████████████████▌         | 56751/69040 [00:16<00:03, 3556.03it/s]\u001b[A\n",
      "Generating channels:  83%|███████████████████████████████████████████▊         | 57131/69040 [00:16<00:03, 3625.17it/s]\u001b[A\n",
      "Generating channels:  83%|████████████████████████████████████████████▏        | 57497/69040 [00:16<00:03, 3367.06it/s]\u001b[A\n",
      "Generating channels:  84%|████████████████████████████████████████████▍        | 57840/69040 [00:16<00:03, 3096.97it/s]\u001b[A\n",
      "Generating channels:  84%|████████████████████████████████████████████▋        | 58203/69040 [00:16<00:03, 3234.51it/s]\u001b[A\n",
      "Generating channels: 100%|█████████████████████████████████████████████████████| 69040/69040 [00:16<00:00, 4167.48it/s]\u001b[A\n"
     ]
    },
    {
     "name": "stdout",
     "output_type": "stream",
     "text": [
      "\n",
      "BS-BS Channels\n"
     ]
    },
    {
     "name": "stderr",
     "output_type": "stream",
     "text": [
      "\n",
      "Reading ray-tracing: 100%|█████████████████████████████████████████████████████████████| 1/1 [00:00<00:00, 1002.22it/s]\u001b[A\n",
      "\n",
      "Generating channels: 100%|██████████████████████████████████████████████████████████████| 1/1 [00:00<00:00, 396.17it/s]\u001b[A\n"
     ]
    },
    {
     "name": "stdout",
     "output_type": "stream",
     "text": [
      "\n",
      "Scene 5/5\n",
      "\n",
      "Basestation 1\n",
      "\n",
      "UE-BS Channels\n"
     ]
    },
    {
     "name": "stderr",
     "output_type": "stream",
     "text": [
      "\n",
      "Reading ray-tracing:   0%|                                                                   | 0/69040 [00:00<?, ?it/s]\u001b[A\n",
      "Reading ray-tracing:   4%|█▉                                                   | 2567/69040 [00:00<00:02, 25447.78it/s]\u001b[A\n",
      "Reading ray-tracing:   7%|███▉                                                 | 5112/69040 [00:00<00:02, 24633.03it/s]\u001b[A\n",
      "Reading ray-tracing:  11%|█████▊                                               | 7651/69040 [00:00<00:02, 24919.48it/s]\u001b[A\n",
      "Reading ray-tracing:  15%|███████▋                                            | 10145/69040 [00:00<00:02, 22488.44it/s]\u001b[A\n",
      "Reading ray-tracing:  18%|█████████▍                                          | 12451/69040 [00:00<00:02, 22662.06it/s]\u001b[A\n",
      "Reading ray-tracing:  22%|███████████▎                                        | 15046/69040 [00:00<00:02, 23712.19it/s]\u001b[A\n",
      "Reading ray-tracing:  25%|█████████████▏                                      | 17437/69040 [00:00<00:02, 23763.30it/s]\u001b[A\n",
      "Reading ray-tracing:  29%|██████████████▉                                     | 19827/69040 [00:00<00:02, 23115.19it/s]\u001b[A\n",
      "Reading ray-tracing:  32%|████████████████▋                                   | 22183/69040 [00:00<00:02, 23247.86it/s]\u001b[A\n",
      "Reading ray-tracing:  36%|██████████████████▌                                 | 24717/69040 [00:01<00:01, 23810.99it/s]\u001b[A\n",
      "Reading ray-tracing:  39%|████████████████████▍                               | 27134/69040 [00:01<00:01, 23915.91it/s]\u001b[A\n",
      "Reading ray-tracing:  43%|██████████████████████▎                             | 29617/69040 [00:01<00:01, 24127.30it/s]\u001b[A\n",
      "Reading ray-tracing:  47%|████████████████████████▍                           | 32387/69040 [00:01<00:01, 25140.06it/s]\u001b[A\n",
      "Reading ray-tracing:  51%|██████████████████████████▎                         | 34905/69040 [00:01<00:01, 24409.21it/s]\u001b[A\n",
      "Reading ray-tracing:  54%|████████████████████████████▏                       | 37353/69040 [00:01<00:01, 24200.97it/s]\u001b[A\n",
      "Reading ray-tracing:  58%|█████████████████████████████▉                      | 39778/69040 [00:01<00:01, 22221.41it/s]\u001b[A\n",
      "Reading ray-tracing:  61%|███████████████████████████████▋                    | 42032/69040 [00:01<00:01, 22099.70it/s]\u001b[A\n",
      "Reading ray-tracing:  64%|█████████████████████████████████▍                  | 44380/69040 [00:01<00:01, 22474.35it/s]\u001b[A\n",
      "Reading ray-tracing:  68%|███████████████████████████████████▏                | 46645/69040 [00:02<00:01, 20319.74it/s]\u001b[A\n",
      "Reading ray-tracing:  71%|████████████████████████████████████▋               | 48724/69040 [00:02<00:01, 20209.43it/s]\u001b[A\n",
      "Reading ray-tracing:  74%|██████████████████████████████████████▏             | 50777/69040 [00:02<00:00, 19448.88it/s]\u001b[A\n",
      "Reading ray-tracing:  77%|████████████████████████████████████████            | 53267/69040 [00:02<00:00, 20932.30it/s]\u001b[A\n",
      "Reading ray-tracing:  80%|█████████████████████████████████████████▋          | 55413/69040 [00:02<00:00, 21055.35it/s]\u001b[A\n",
      "Reading ray-tracing:  83%|███████████████████████████████████████████▎        | 57541/69040 [00:02<00:00, 20607.89it/s]\u001b[A\n",
      "Reading ray-tracing:  88%|█████████████████████████████████████████████▊      | 60845/69040 [00:02<00:00, 24117.42it/s]\u001b[A\n",
      "Reading ray-tracing: 100%|████████████████████████████████████████████████████| 69040/69040 [00:02<00:00, 24794.04it/s]\u001b[A\n",
      "\n",
      "Generating channels:   0%|                                                                   | 0/69040 [00:00<?, ?it/s]\u001b[A\n",
      "Generating channels:   1%|▎                                                      | 407/69040 [00:00<00:16, 4055.33it/s]\u001b[A\n",
      "Generating channels:   1%|▋                                                      | 813/69040 [00:00<00:19, 3474.03it/s]\u001b[A\n",
      "Generating channels:   2%|▉                                                     | 1166/69040 [00:00<00:25, 2709.18it/s]\u001b[A\n",
      "Generating channels:   2%|█▏                                                    | 1543/69040 [00:00<00:22, 3039.88it/s]\u001b[A\n",
      "Generating channels:   3%|█▋                                                    | 2082/69040 [00:00<00:17, 3768.95it/s]\u001b[A\n",
      "Generating channels:   4%|█▉                                                    | 2482/69040 [00:00<00:18, 3626.79it/s]\u001b[A\n",
      "Generating channels:   4%|██▏                                                   | 2860/69040 [00:00<00:19, 3359.93it/s]\u001b[A\n",
      "Generating channels:   5%|██▌                                                   | 3209/69040 [00:00<00:19, 3321.12it/s]\u001b[A\n",
      "Generating channels:   5%|██▉                                                   | 3724/69040 [00:01<00:17, 3822.37it/s]\u001b[A\n",
      "Generating channels:   6%|███▏                                                  | 4141/69040 [00:01<00:16, 3910.34it/s]\u001b[A\n",
      "Generating channels:   7%|███▌                                                  | 4541/69040 [00:01<00:17, 3638.87it/s]\u001b[A\n",
      "Generating channels:   7%|███▊                                                  | 4914/69040 [00:01<00:18, 3443.87it/s]\u001b[A\n",
      "Generating channels:   8%|████▏                                                 | 5300/69040 [00:01<00:17, 3554.03it/s]\u001b[A\n",
      "Generating channels:   8%|████▌                                                 | 5861/69040 [00:01<00:15, 4119.12it/s]\u001b[A\n",
      "Generating channels:   9%|████▉                                                 | 6282/69040 [00:01<00:16, 3781.54it/s]\u001b[A\n",
      "Generating channels:  10%|█████▏                                                | 6671/69040 [00:01<00:18, 3408.77it/s]\u001b[A\n",
      "Generating channels:  10%|█████▍                                                | 7025/69040 [00:01<00:18, 3384.72it/s]\u001b[A\n",
      "Generating channels:  11%|█████▉                                                | 7643/69040 [00:02<00:14, 4119.08it/s]\u001b[A\n",
      "Generating channels:  12%|██████▎                                               | 8071/69040 [00:02<00:14, 4111.13it/s]\u001b[A\n",
      "Generating channels:  12%|██████▋                                               | 8493/69040 [00:02<00:16, 3628.19it/s]\u001b[A\n",
      "Generating channels:  13%|██████▉                                               | 8873/69040 [00:02<00:17, 3377.85it/s]\u001b[A\n",
      "Generating channels:  14%|███████▎                                              | 9410/69040 [00:02<00:15, 3877.25it/s]\u001b[A\n",
      "Generating channels:  14%|███████▋                                              | 9816/69040 [00:02<00:15, 3902.42it/s]\u001b[A\n",
      "Generating channels:  15%|███████▊                                             | 10220/69040 [00:02<00:16, 3638.45it/s]\u001b[A\n",
      "Generating channels:  15%|████████▏                                            | 10596/69040 [00:02<00:16, 3467.02it/s]\u001b[A\n",
      "Generating channels:  16%|████████▌                                            | 11135/69040 [00:03<00:14, 3965.48it/s]\u001b[A\n",
      "Generating channels:  17%|████████▉                                            | 11645/69040 [00:03<00:13, 4266.37it/s]\u001b[A\n",
      "Generating channels:  18%|█████████▎                                           | 12084/69040 [00:03<00:14, 3865.41it/s]\u001b[A\n",
      "Generating channels:  18%|█████████▌                                           | 12485/69040 [00:03<00:15, 3614.74it/s]\u001b[A\n",
      "Generating channels:  19%|█████████▉                                           | 12988/69040 [00:03<00:14, 3975.22it/s]\u001b[A\n",
      "Generating channels:  20%|██████████▎                                          | 13476/69040 [00:03<00:13, 4215.54it/s]\u001b[A\n",
      "Generating channels:  20%|██████████▋                                          | 13910/69040 [00:03<00:14, 3885.31it/s]\u001b[A\n",
      "Generating channels:  21%|██████████▉                                          | 14311/69040 [00:03<00:15, 3435.84it/s]\u001b[A\n",
      "Generating channels:  21%|███████████▎                                         | 14706/69040 [00:04<00:15, 3562.70it/s]\u001b[A\n",
      "Generating channels:  22%|███████████▋                                         | 15302/69040 [00:04<00:12, 4186.22it/s]\u001b[A\n",
      "Generating channels:  23%|████████████                                         | 15739/69040 [00:04<00:13, 4027.06it/s]\u001b[A\n",
      "Generating channels:  23%|████████████▍                                        | 16155/69040 [00:04<00:15, 3458.97it/s]\u001b[A\n",
      "Generating channels:  24%|████████████▋                                        | 16522/69040 [00:04<00:15, 3437.65it/s]\u001b[A\n"
     ]
    },
    {
     "name": "stderr",
     "output_type": "stream",
     "text": [
      "Generating channels:  25%|█████████████                                        | 17037/69040 [00:04<00:13, 3873.10it/s]\u001b[A\n",
      "Generating channels:  25%|█████████████▍                                       | 17448/69040 [00:04<00:13, 3936.01it/s]\u001b[A\n",
      "Generating channels:  26%|█████████████▋                                       | 17855/69040 [00:04<00:14, 3653.97it/s]\u001b[A\n",
      "Generating channels:  26%|█████████████▉                                       | 18233/69040 [00:04<00:14, 3525.19it/s]\u001b[A\n",
      "Generating channels:  27%|██████████████▎                                      | 18625/69040 [00:05<00:13, 3630.40it/s]\u001b[A\n",
      "Generating channels:  28%|██████████████▋                                      | 19071/69040 [00:05<00:12, 3856.68it/s]\u001b[A\n",
      "Generating channels:  28%|██████████████▉                                      | 19464/69040 [00:05<00:13, 3626.87it/s]\u001b[A\n",
      "Generating channels:  29%|███████████████▏                                     | 19834/69040 [00:05<00:14, 3289.64it/s]\u001b[A\n",
      "Generating channels:  29%|███████████████▍                                     | 20173/69040 [00:05<00:15, 3186.66it/s]\u001b[A\n",
      "Generating channels:  30%|███████████████▊                                     | 20602/69040 [00:05<00:13, 3468.43it/s]\u001b[A\n",
      "Generating channels:  30%|████████████████                                     | 20993/69040 [00:05<00:13, 3588.00it/s]\u001b[A\n",
      "Generating channels:  31%|████████████████▍                                    | 21359/69040 [00:05<00:13, 3529.38it/s]\u001b[A\n",
      "Generating channels:  31%|████████████████▋                                    | 21717/69040 [00:05<00:15, 3089.63it/s]\u001b[A\n",
      "Generating channels:  32%|████████████████▉                                    | 22059/69040 [00:06<00:14, 3173.12it/s]\u001b[A\n",
      "Generating channels:  33%|█████████████████▍                                   | 22647/69040 [00:06<00:11, 3900.60it/s]\u001b[A\n",
      "Generating channels:  33%|█████████████████▋                                   | 23052/69040 [00:06<00:12, 3812.89it/s]\u001b[A\n",
      "Generating channels:  34%|█████████████████▉                                   | 23444/69040 [00:06<00:12, 3655.02it/s]\u001b[A\n",
      "Generating channels:  34%|██████████████████▎                                  | 23818/69040 [00:06<00:13, 3329.91it/s]\u001b[A\n",
      "Generating channels:  35%|██████████████████▌                                  | 24161/69040 [00:06<00:13, 3345.78it/s]\u001b[A\n",
      "Generating channels:  36%|███████████████████                                  | 24784/69040 [00:06<00:10, 4123.55it/s]\u001b[A\n",
      "Generating channels:  37%|███████████████████▎                                 | 25210/69040 [00:06<00:11, 3864.30it/s]\u001b[A\n",
      "Generating channels:  37%|███████████████████▋                                 | 25608/69040 [00:07<00:12, 3439.80it/s]\u001b[A\n",
      "Generating channels:  38%|███████████████████▉                                 | 25967/69040 [00:07<00:12, 3412.03it/s]\u001b[A\n",
      "Generating channels:  38%|████████████████████▎                                | 26529/69040 [00:07<00:10, 3983.14it/s]\u001b[A\n",
      "Generating channels:  39%|████████████████████▋                                | 26942/69040 [00:07<00:10, 3834.87it/s]\u001b[A\n",
      "Generating channels:  40%|████████████████████▉                                | 27337/69040 [00:07<00:11, 3493.42it/s]\u001b[A\n",
      "Generating channels:  40%|█████████████████████▎                               | 27698/69040 [00:07<00:12, 3390.88it/s]\u001b[A\n",
      "Generating channels:  41%|█████████████████████▋                               | 28265/69040 [00:07<00:10, 3981.43it/s]\u001b[A\n",
      "Generating channels:  42%|██████████████████████                               | 28677/69040 [00:07<00:10, 3988.82it/s]\u001b[A\n",
      "Generating channels:  42%|██████████████████████▎                              | 29086/69040 [00:07<00:11, 3582.90it/s]\u001b[A\n",
      "Generating channels:  43%|██████████████████████▌                              | 29458/69040 [00:08<00:11, 3368.08it/s]\u001b[A\n",
      "Generating channels:  43%|██████████████████████▉                              | 29805/69040 [00:08<00:11, 3389.09it/s]\u001b[A\n",
      "Generating channels:  44%|███████████████████████▎                             | 30401/69040 [00:08<00:09, 4077.21it/s]\u001b[A\n",
      "Generating channels:  45%|███████████████████████▋                             | 30822/69040 [00:08<00:10, 3626.91it/s]\u001b[A\n",
      "Generating channels:  45%|███████████████████████▉                             | 31202/69040 [00:08<00:11, 3306.73it/s]\u001b[A\n",
      "Generating channels:  46%|████████████████████████▏                            | 31548/69040 [00:08<00:11, 3296.61it/s]\u001b[A\n",
      "Generating channels:  46%|████████████████████████▌                            | 32073/69040 [00:08<00:09, 3803.86it/s]\u001b[A\n",
      "Generating channels:  47%|████████████████████████▉                            | 32469/69040 [00:08<00:10, 3578.45it/s]\u001b[A\n",
      "Generating channels:  48%|█████████████████████████▏                           | 32839/69040 [00:09<00:11, 3162.81it/s]\u001b[A\n",
      "Generating channels:  48%|█████████████████████████▍                           | 33171/69040 [00:09<00:11, 3032.07it/s]\u001b[A\n",
      "Generating channels:  49%|█████████████████████████▋                           | 33514/69040 [00:09<00:11, 3130.36it/s]\u001b[A\n",
      "Generating channels:  49%|██████████████████████████▏                          | 34035/69040 [00:09<00:09, 3672.52it/s]\u001b[A\n",
      "Generating channels:  50%|██████████████████████████▍                          | 34416/69040 [00:09<00:09, 3657.50it/s]\u001b[A\n",
      "Generating channels:  50%|██████████████████████████▋                          | 34791/69040 [00:09<00:09, 3482.79it/s]\u001b[A\n",
      "Generating channels:  51%|██████████████████████████▉                          | 35147/69040 [00:09<00:10, 3134.85it/s]\u001b[A\n",
      "Generating channels:  51%|███████████████████████████▏                         | 35493/69040 [00:09<00:10, 3212.37it/s]\u001b[A\n",
      "Generating channels:  52%|███████████████████████████▌                         | 35966/69040 [00:09<00:09, 3611.71it/s]\u001b[A\n",
      "Generating channels:  53%|███████████████████████████▉                         | 36338/69040 [00:10<00:08, 3633.91it/s]\u001b[A\n",
      "Generating channels:  53%|████████████████████████████▏                        | 36709/69040 [00:10<00:09, 3416.06it/s]\u001b[A\n",
      "Generating channels:  54%|████████████████████████████▍                        | 37058/69040 [00:10<00:10, 3185.07it/s]\u001b[A\n",
      "Generating channels:  54%|████████████████████████████▋                        | 37433/69040 [00:10<00:09, 3333.76it/s]\u001b[A\n",
      "Generating channels:  55%|█████████████████████████████                        | 37934/69040 [00:10<00:08, 3788.67it/s]\u001b[A\n",
      "Generating channels:  56%|█████████████████████████████▍                       | 38322/69040 [00:10<00:08, 3753.02it/s]\u001b[A\n",
      "Generating channels:  56%|█████████████████████████████▋                       | 38704/69040 [00:10<00:08, 3438.06it/s]\u001b[A\n",
      "Generating channels:  57%|█████████████████████████████▉                       | 39057/69040 [00:10<00:08, 3369.84it/s]\u001b[A\n",
      "Generating channels:  57%|██████████████████████████████▏                      | 39400/69040 [00:10<00:08, 3347.04it/s]\u001b[A\n",
      "Generating channels:  58%|██████████████████████████████▌                      | 39854/69040 [00:11<00:07, 3675.60it/s]\u001b[A\n",
      "Generating channels:  58%|██████████████████████████████▉                      | 40227/69040 [00:11<00:08, 3479.93it/s]\u001b[A\n",
      "Generating channels:  59%|███████████████████████████████▏                     | 40581/69040 [00:11<00:08, 3261.01it/s]\u001b[A\n",
      "Generating channels:  59%|███████████████████████████████▍                     | 40913/69040 [00:11<00:08, 3153.07it/s]\u001b[A\n",
      "Generating channels:  60%|███████████████████████████████▋                     | 41283/69040 [00:11<00:08, 3300.64it/s]\u001b[A\n",
      "Generating channels:  60%|████████████████████████████████                     | 41734/69040 [00:11<00:07, 3633.59it/s]\u001b[A\n",
      "Generating channels:  61%|████████████████████████████████▎                    | 42103/69040 [00:11<00:07, 3619.54it/s]\u001b[A\n",
      "Generating channels:  62%|████████████████████████████████▌                    | 42469/69040 [00:11<00:07, 3365.99it/s]\u001b[A\n",
      "Generating channels:  62%|████████████████████████████████▊                    | 42812/69040 [00:11<00:08, 3277.17it/s]\u001b[A\n",
      "Generating channels:  62%|█████████████████████████████████                    | 43146/69040 [00:12<00:07, 3292.21it/s]\u001b[A\n"
     ]
    },
    {
     "name": "stderr",
     "output_type": "stream",
     "text": [
      "Generating channels:  63%|█████████████████████████████████▍                   | 43610/69040 [00:12<00:06, 3668.39it/s]\u001b[A\n",
      "Generating channels:  64%|█████████████████████████████████▊                   | 43981/69040 [00:12<00:06, 3620.91it/s]\u001b[A\n",
      "Generating channels:  64%|██████████████████████████████████                   | 44346/69040 [00:12<00:07, 3474.95it/s]\u001b[A\n",
      "Generating channels:  65%|██████████████████████████████████▎                  | 44697/69040 [00:12<00:07, 3270.24it/s]\u001b[A\n",
      "Generating channels:  65%|██████████████████████████████████▌                  | 45063/69040 [00:12<00:07, 3374.11it/s]\u001b[A\n",
      "Generating channels:  66%|██████████████████████████████████▉                  | 45550/69040 [00:12<00:06, 3785.52it/s]\u001b[A\n",
      "Generating channels:  67%|███████████████████████████████████▎                 | 45934/69040 [00:12<00:06, 3767.64it/s]\u001b[A\n",
      "Generating channels:  67%|███████████████████████████████████▌                 | 46315/69040 [00:12<00:06, 3363.36it/s]\u001b[A\n",
      "Generating channels:  68%|███████████████████████████████████▊                 | 46662/69040 [00:13<00:06, 3315.82it/s]\u001b[A\n",
      "Generating channels:  68%|████████████████████████████████████▏                | 47069/69040 [00:13<00:06, 3512.41it/s]\u001b[A\n",
      "Generating channels:  69%|████████████████████████████████████▍                | 47483/69040 [00:13<00:05, 3678.11it/s]\u001b[A\n",
      "Generating channels:  69%|████████████████████████████████████▋                | 47857/69040 [00:13<00:05, 3652.24it/s]\u001b[A\n",
      "Generating channels:  70%|█████████████████████████████████████                | 48227/69040 [00:13<00:06, 3397.83it/s]\u001b[A\n",
      "Generating channels:  70%|█████████████████████████████████████▎               | 48573/69040 [00:13<00:06, 3396.72it/s]\u001b[A\n",
      "Generating channels:  71%|█████████████████████████████████████▌               | 48994/69040 [00:13<00:05, 3617.58it/s]\u001b[A\n",
      "Generating channels:  72%|█████████████████████████████████████▉               | 49389/69040 [00:13<00:05, 3705.09it/s]\u001b[A\n",
      "Generating channels:  72%|██████████████████████████████████████▏              | 49763/69040 [00:13<00:05, 3641.02it/s]\u001b[A\n",
      "Generating channels:  73%|██████████████████████████████████████▍              | 50130/69040 [00:14<00:05, 3374.25it/s]\u001b[A\n",
      "Generating channels:  73%|██████████████████████████████████████▋              | 50473/69040 [00:14<00:05, 3373.22it/s]\u001b[A\n",
      "Generating channels:  74%|███████████████████████████████████████              | 50880/69040 [00:14<00:05, 3564.95it/s]\u001b[A\n",
      "Generating channels:  74%|███████████████████████████████████████▍             | 51306/69040 [00:14<00:04, 3743.08it/s]\u001b[A\n",
      "Generating channels:  75%|███████████████████████████████████████▋             | 51684/69040 [00:14<00:04, 3566.57it/s]\u001b[A\n",
      "Generating channels:  75%|███████████████████████████████████████▉             | 52045/69040 [00:14<00:05, 3299.57it/s]\u001b[A\n",
      "Generating channels:  76%|████████████████████████████████████████▏            | 52381/69040 [00:14<00:05, 3290.83it/s]\u001b[A\n",
      "Generating channels:  76%|████████████████████████████████████████▍            | 52750/69040 [00:14<00:04, 3400.70it/s]\u001b[A\n",
      "Generating channels:  77%|████████████████████████████████████████▊            | 53194/69040 [00:14<00:04, 3692.95it/s]\u001b[A\n",
      "Generating channels:  78%|█████████████████████████████████████████            | 53568/69040 [00:15<00:04, 3562.03it/s]\u001b[A\n",
      "Generating channels:  78%|█████████████████████████████████████████▍           | 53928/69040 [00:15<00:04, 3213.45it/s]\u001b[A\n",
      "Generating channels:  79%|█████████████████████████████████████████▋           | 54258/69040 [00:15<00:04, 3209.71it/s]\u001b[A\n",
      "Generating channels:  79%|█████████████████████████████████████████▉           | 54680/69040 [00:15<00:04, 3484.99it/s]\u001b[A\n",
      "Generating channels:  80%|██████████████████████████████████████████▎          | 55087/69040 [00:15<00:03, 3643.20it/s]\u001b[A\n",
      "Generating channels:  80%|██████████████████████████████████████████▌          | 55457/69040 [00:15<00:03, 3618.04it/s]\u001b[A\n",
      "Generating channels:  81%|██████████████████████████████████████████▊          | 55823/69040 [00:15<00:04, 3284.32it/s]\u001b[A\n",
      "Generating channels:  81%|███████████████████████████████████████████          | 56160/69040 [00:15<00:03, 3223.11it/s]\u001b[A\n",
      "Generating channels:  82%|███████████████████████████████████████████▍         | 56505/69040 [00:15<00:03, 3284.52it/s]\u001b[A\n",
      "Generating channels:  83%|███████████████████████████████████████████▋         | 56979/69040 [00:16<00:03, 3685.85it/s]\u001b[A\n",
      "Generating channels:  83%|████████████████████████████████████████████         | 57353/69040 [00:16<00:03, 3592.60it/s]\u001b[A\n",
      "Generating channels:  84%|████████████████████████████████████████████▎        | 57717/69040 [00:16<00:03, 3325.23it/s]\u001b[A\n",
      "Generating channels:  84%|████████████████████████████████████████████▌        | 58056/69040 [00:16<00:03, 3244.15it/s]\u001b[A\n",
      "Generating channels: 100%|█████████████████████████████████████████████████████| 69040/69040 [00:16<00:00, 4187.85it/s]\u001b[A\n"
     ]
    },
    {
     "name": "stdout",
     "output_type": "stream",
     "text": [
      "\n",
      "BS-BS Channels\n"
     ]
    },
    {
     "name": "stderr",
     "output_type": "stream",
     "text": [
      "\n",
      "Reading ray-tracing: 100%|███████████████████████████████████████████████████████████████████████| 1/1 [00:00<?, ?it/s]\u001b[A\n",
      "\n",
      "Generating channels: 100%|██████████████████████████████████████████████████████████████| 1/1 [00:00<00:00, 332.51it/s]\u001b[A\n",
      "100%|████████████████████████████████████████████████████████████████████████████████████| 2/2 [03:16<00:00, 98.07s/it]"
     ]
    },
    {
     "name": "stdout",
     "output_type": "stream",
     "text": [
      "Scenes 5–9 generation time: 102.68s\n"
     ]
    },
    {
     "name": "stderr",
     "output_type": "stream",
     "text": [
      "\n"
     ]
    }
   ],
   "source": [
    "## dataset 구축 (chunked on‑the‑fly generation)\n",
    "import time, gc\n",
    "from tqdm import tqdm\n",
    "\n",
    "# 0~999 씬 인덱스, 한 번에 50개씩 처리\n",
    "scene_indices = np.arange(scene)\n",
    "chunk_size   = 5\n",
    "all_data     = []\n",
    "\n",
    "# 씬 묶음(chunk)마다 generate_data 호출\n",
    "for i in tqdm(range(0, len(scene_indices), chunk_size)):\n",
    "    chunk = scene_indices[i : i+chunk_size].tolist()\n",
    "    parameters['dynamic_scenario_scenes'] = chunk\n",
    "\n",
    "    start = time.time()\n",
    "    data_chunk = DeepMIMOv3.generate_data(parameters)\n",
    "    print(f\"Scenes {chunk[0]}–{chunk[-1]} generation time: {time.time() - start:.2f}s\")\n",
    "\n",
    "    # 바로 all_data에 합치거나, 디스크에 저장해도 OK\n",
    "    all_data.extend(data_chunk)\n",
    "\n",
    "    # 메모리 해제\n",
    "    del data_chunk\n",
    "    gc.collect()\n",
    "\n",
    "# 마지막에 하나의 리스트로 합친 데이터셋\n",
    "dataset = all_data\n"
   ]
  },
  {
   "cell_type": "markdown",
   "id": "5b4e72d4",
   "metadata": {},
   "source": [
    "# 사용자 접근 데이터"
   ]
  },
  {
   "cell_type": "code",
   "execution_count": 8,
   "id": "57828d31",
   "metadata": {},
   "outputs": [
    {
     "name": "stdout",
     "output_type": "stream",
     "text": [
      "dict_keys(['paths', 'LoS', 'location', 'distance', 'pathloss', 'channel'])\n"
     ]
    }
   ],
   "source": [
    "user_data = dataset[0][0]['user']\n",
    "print(user_data.keys())"
   ]
  },
  {
   "cell_type": "markdown",
   "id": "bc5a3b0c",
   "metadata": {},
   "source": [
    "# 사용자 채널 정보 확인"
   ]
  },
  {
   "cell_type": "code",
   "execution_count": 9,
   "id": "23b2884b",
   "metadata": {},
   "outputs": [
    {
     "name": "stdout",
     "output_type": "stream",
     "text": [
      "(69040, 1, 32, 64)\n"
     ]
    }
   ],
   "source": [
    "# subcarries = 나눈 각각의 주파수 채널\n",
    "# Channel = H <- 채널 벡터\n",
    "# 채널 형태\n",
    "# (user, UE antenna, Bs antenna, subcarrier)\n",
    "channel = dataset[0][0]['user']['channel']\n",
    "print(channel.shape)  "
   ]
  },
  {
   "cell_type": "code",
   "execution_count": 10,
   "id": "bf443dc9",
   "metadata": {},
   "outputs": [
    {
     "name": "stdout",
     "output_type": "stream",
     "text": [
      "[[[-4.9276509e-06+6.0179661e-07j -4.7681883e-06+1.3829425e-06j\n",
      "   -4.4857170e-06+2.1285541e-06j ...  4.3711116e-06-2.4074948e-06j\n",
      "    3.9297033e-06-3.0764131e-06j  3.3868639e-06-3.6660977e-06j]\n",
      "  [-4.7825752e-06+1.6998159e-06j -4.4491662e-06+2.4436672e-06j\n",
      "   -4.0009481e-06+3.1246111e-06j ...  3.8229477e-06-3.3767817e-06j\n",
      "    3.2333687e-06-3.9455144e-06j  2.5602983e-06-4.4125736e-06j]\n",
      "  [-4.3861578e-06+2.7614337e-06j -3.8878534e-06+3.4282084e-06j\n",
      "   -3.2891933e-06+4.0066625e-06j ...  3.0543217e-06-4.2173128e-06j\n",
      "    2.3400164e-06-4.6522073e-06j  1.5652473e-06-4.9671735e-06j]\n",
      "  ...\n",
      "  [-5.9705985e-06+1.8381670e-06j -5.5992200e-06+2.7702260e-06j\n",
      "   -5.0834296e-06+3.6307945e-06j ...  4.8462462e-06-3.9304277e-06j\n",
      "    4.1544481e-06-4.6554678e-06j  3.3555179e-06-5.2603964e-06j]\n",
      "  [-5.3850690e-06+3.0986103e-06j -4.8194606e-06+3.9206407e-06j\n",
      "   -4.1295657e-06+4.6415066e-06j ...  3.8328362e-06-4.8787911e-06j\n",
      "    3.0023016e-06-5.4293314e-06j  2.0943648e-06-5.8398036e-06j]\n",
      "  [-4.5357333e-06+4.1878652e-06j -3.8067144e-06+4.8598408e-06j\n",
      "   -2.9795442e-06+5.4064294e-06j ...  2.6393784e-06-5.5698706e-06j\n",
      "    1.7136289e-06-5.9204085e-06j  7.4372792e-07-6.1182200e-06j]]]\n"
     ]
    }
   ],
   "source": [
    "print(dataset[0][0]['user']['channel'][100])"
   ]
  },
  {
   "cell_type": "code",
   "execution_count": 11,
   "id": "1a931204",
   "metadata": {},
   "outputs": [
    {
     "name": "stdout",
     "output_type": "stream",
     "text": [
      "1\n"
     ]
    }
   ],
   "source": [
    "print(len(dataset[0][0]['user']['channel'][100]))"
   ]
  },
  {
   "cell_type": "code",
   "execution_count": 12,
   "id": "ff08a89e",
   "metadata": {},
   "outputs": [
    {
     "name": "stdout",
     "output_type": "stream",
     "text": [
      "[ 1.14151417e-05-4.36109121e-06j  1.13104134e-05-4.99916769e-06j\n",
      "  1.11716581e-05-5.67118514e-06j  1.09873472e-05-6.37486755e-06j\n",
      "  1.07464039e-05-7.10507175e-06j  1.04388646e-05-7.85394786e-06j\n",
      "  1.00564839e-05-8.61123954e-06j  9.59326280e-06-9.36472679e-06j\n",
      "  9.04586159e-06-1.01007672e-05j  8.41387282e-06-1.08049298e-05j\n",
      "  7.69995040e-06-1.14626673e-05j  6.90977913e-06-1.20600052e-05j\n",
      "  6.05189052e-06-1.25842089e-05j  5.13732675e-06-1.30243880e-05j\n",
      "  4.17918318e-06-1.33720132e-05j  3.19203900e-06-1.36213148e-05j\n",
      "  2.19131471e-06-1.37695433e-05j  1.19258925e-06-1.38170753e-05j\n",
      "  2.10908027e-07-1.37673669e-05j -7.39877976e-07-1.36267463e-05j\n",
      " -1.64770893e-06-1.34040656e-05j -2.50281732e-06-1.31102279e-05j\n",
      " -3.29810814e-06-1.27576113e-05j -4.02939668e-06-1.23594264e-05j\n",
      " -4.69549514e-06-1.19290335e-05j -5.29813951e-06-1.14792647e-05j\n",
      " -5.84176632e-06-1.10217779e-05j -6.33314448e-06-1.05664840e-05j\n",
      " -6.78089191e-06-1.01210744e-05j -7.19489299e-06-9.69066787e-06j\n",
      " -7.58565420e-06-9.27761084e-06j -7.96363111e-06-8.88142313e-06j\n",
      " -8.33856484e-06-8.49890512e-06j -8.71885459e-06-8.12439157e-06j\n",
      " -9.11101597e-06-7.75014814e-06j -9.51923721e-06-7.36687571e-06j\n",
      " -9.94506809e-06-6.96431107e-06j -1.03872544e-05-6.53187772e-06j\n",
      " -1.08417298e-05-6.05936111e-06j -1.13017559e-05-5.53756945e-06j\n",
      " -1.17582258e-05-4.95894210e-06j -1.22000811e-05-4.31807575e-06j\n",
      " -1.26148598e-05-3.61214165e-06j -1.29893097e-05-2.84116686e-06j\n",
      " -1.33100630e-05-2.00816589e-06j -1.35643195e-05-1.11911800e-06j\n",
      " -1.37405095e-05-1.82786522e-07j -1.38288988e-05+7.89607157e-07j\n",
      " -1.38221067e-05+1.78484061e-06j -1.37155066e-05+2.78825269e-06j\n",
      " -1.35074870e-05+3.78438449e-06j -1.31995657e-05+4.75766183e-06j\n",
      " -1.27963385e-05+5.69308668e-06j -1.23052841e-05+6.57690180e-06j\n",
      " -1.17364107e-05+7.39718735e-06j -1.11017880e-05+8.14437226e-06j\n",
      " -1.04149713e-05+8.81161304e-06j -9.69035409e-06+9.39504571e-06j\n",
      " -8.94248751e-06+9.89386990e-06j -8.18538956e-06+1.03102893e-05j\n",
      " -7.43190139e-06+1.06492889e-05j -6.69309748e-06+1.09182747e-05j\n",
      " -5.97780945e-06+1.11265890e-05j -5.29226054e-06+1.12849320e-05j]\n"
     ]
    }
   ],
   "source": [
    "print(channel[10000][0][0])"
   ]
  },
  {
   "cell_type": "code",
   "execution_count": 13,
   "id": "f65feb3b",
   "metadata": {},
   "outputs": [
    {
     "name": "stdout",
     "output_type": "stream",
     "text": [
      "[0.+0.j 0.+0.j 0.+0.j 0.+0.j 0.+0.j 0.+0.j 0.+0.j 0.+0.j 0.+0.j 0.+0.j\n",
      " 0.+0.j 0.+0.j 0.+0.j 0.+0.j 0.+0.j 0.+0.j 0.+0.j 0.+0.j 0.+0.j 0.+0.j\n",
      " 0.+0.j 0.+0.j 0.+0.j 0.+0.j 0.+0.j 0.+0.j 0.+0.j 0.+0.j 0.+0.j 0.+0.j\n",
      " 0.+0.j 0.+0.j 0.+0.j 0.+0.j 0.+0.j 0.+0.j 0.+0.j 0.+0.j 0.+0.j 0.+0.j\n",
      " 0.+0.j 0.+0.j 0.+0.j 0.+0.j 0.+0.j 0.+0.j 0.+0.j 0.+0.j 0.+0.j 0.+0.j\n",
      " 0.+0.j 0.+0.j 0.+0.j 0.+0.j 0.+0.j 0.+0.j 0.+0.j 0.+0.j 0.+0.j 0.+0.j\n",
      " 0.+0.j 0.+0.j 0.+0.j 0.+0.j]\n"
     ]
    }
   ],
   "source": [
    "print(channel[1][0][0])"
   ]
  },
  {
   "cell_type": "markdown",
   "id": "2b079846",
   "metadata": {},
   "source": [
    "# 사용자 위치 정보"
   ]
  },
  {
   "cell_type": "code",
   "execution_count": 14,
   "id": "84337e94",
   "metadata": {},
   "outputs": [
    {
     "name": "stdout",
     "output_type": "stream",
     "text": [
      "(69040, 3)\n",
      "[[-91.03330231 -15.57629967   1.        ]\n",
      " [-90.83329773 -15.57629967   1.        ]\n",
      " [-90.63330078 -15.57629967   1.        ]\n",
      " [-90.4332962  -15.57629967   1.        ]]\n"
     ]
    }
   ],
   "source": [
    "location = dataset[0][0]['user']['location']\n",
    "print(location.shape)      # (사용자 수, 3)\n",
    "print(location[0:4])         # 첫 번째 사용자의 (x, y, z)"
   ]
  },
  {
   "cell_type": "markdown",
   "id": "60e9a9b6",
   "metadata": {},
   "source": [
    "# 경로정보"
   ]
  },
  {
   "cell_type": "code",
   "execution_count": 15,
   "id": "79cde8ee",
   "metadata": {},
   "outputs": [
    {
     "name": "stdout",
     "output_type": "stream",
     "text": [
      "69040\n",
      "{'num_paths': 0, 'DoD_phi': [], 'DoD_theta': [], 'DoA_phi': [], 'DoA_theta': [], 'phase': [], 'ToA': [], 'power': [], 'LoS': []}\n"
     ]
    }
   ],
   "source": [
    "paths = dataset[0][0]['user']['paths']\n",
    "#사용자 수\n",
    "print(len(paths))\n",
    "# 첫 번째 사용자 경로 정보\n",
    "print(paths[0])"
   ]
  },
  {
   "cell_type": "markdown",
   "id": "f2242869",
   "metadata": {},
   "source": [
    "# 기지국 정보"
   ]
  },
  {
   "cell_type": "code",
   "execution_count": 16,
   "id": "2900e481",
   "metadata": {},
   "outputs": [
    {
     "name": "stdout",
     "output_type": "stream",
     "text": [
      "dict_keys(['paths', 'LoS', 'location', 'distance', 'pathloss', 'channel'])\n"
     ]
    }
   ],
   "source": [
    "bs_data = dataset[0][0]['basestation']\n",
    "print(bs_data.keys())\n"
   ]
  },
  {
   "cell_type": "markdown",
   "id": "c063ea95",
   "metadata": {},
   "source": [
    "# Scene 및 사용자 수"
   ]
  },
  {
   "cell_type": "code",
   "execution_count": 17,
   "id": "a20df92d",
   "metadata": {},
   "outputs": [
    {
     "name": "stdout",
     "output_type": "stream",
     "text": [
      "Scene 0: 69040 users\n"
     ]
    }
   ],
   "source": [
    "for i, scene in enumerate(dataset[0]):\n",
    "    user_locs = scene['user']['location']\n",
    "    print(f\"Scene {i}: {len(user_locs)} users\")"
   ]
  },
  {
   "cell_type": "markdown",
   "id": "b38f71e1",
   "metadata": {},
   "source": [
    "# 채널 수"
   ]
  },
  {
   "cell_type": "code",
   "execution_count": 18,
   "id": "cbbee52e",
   "metadata": {},
   "outputs": [
    {
     "data": {
      "text/plain": [
       "69040"
      ]
     },
     "execution_count": 18,
     "metadata": {},
     "output_type": "execute_result"
    }
   ],
   "source": [
    "len(dataset[0][0]['user']['channel'])"
   ]
  },
  {
   "cell_type": "code",
   "execution_count": 19,
   "id": "2d474195",
   "metadata": {},
   "outputs": [
    {
     "name": "stdout",
     "output_type": "stream",
     "text": [
      "{'num_paths': 0, 'DoD_phi': [], 'DoD_theta': [], 'DoA_phi': [], 'DoA_theta': [], 'phase': [], 'ToA': [], 'power': [], 'LoS': []}\n"
     ]
    }
   ],
   "source": [
    "print(dataset[0][0]['user']['paths'][0])"
   ]
  },
  {
   "cell_type": "code",
   "execution_count": 20,
   "id": "73df9912",
   "metadata": {},
   "outputs": [
    {
     "name": "stdout",
     "output_type": "stream",
     "text": [
      "(1, 32, 64)\n"
     ]
    }
   ],
   "source": [
    "scene = dataset[0][0] # scene 0\n",
    "ue_idx = 0 # 첫 번째 사용자\n",
    "channel = scene['user']['channel'][ue_idx]\n",
    "print(channel.shape)"
   ]
  },
  {
   "cell_type": "markdown",
   "id": "373ffb59",
   "metadata": {},
   "source": [
    "# channel CIR mat 정보 가져오기"
   ]
  },
  {
   "cell_type": "code",
   "execution_count": 31,
   "id": "ec4461cb",
   "metadata": {},
   "outputs": [
    {
     "name": "stdout",
     "output_type": "stream",
     "text": [
      "dict_keys(['__header__', '__version__', '__globals__', 'CIR_array_full'])\n"
     ]
    }
   ],
   "source": [
    "import scipy.io as sio\n",
    "\n",
    "file_path = r'C:\\Users\\dlghd\\졸업프로젝트\\LWM\\O2_dyn_3p5\\scene_0\\O2_dyn_3p5.1.CIR.mat'\n",
    "mat_data = sio.loadmat(file_path)\n",
    "\n",
    "# 파일 안의 key 확인\n",
    "print(mat_data.keys())\n",
    "\n",
    "\n"
   ]
  },
  {
   "cell_type": "code",
   "execution_count": 32,
   "id": "662cb441",
   "metadata": {},
   "outputs": [
    {
     "name": "stdout",
     "output_type": "stream",
     "text": [
      "b'MATLAB 5.0 MAT-file, Platform: PCWIN64, Created on: Wed Jun 30 11:33:01 2021'\n"
     ]
    }
   ],
   "source": [
    "# 일반적으로 CIR key는 'CIR' 또는 'cir' 같은 이름일 가능성 높음\n",
    "H_cir = mat_data['__header__']  \n",
    "print(H_cir)"
   ]
  },
  {
   "cell_type": "markdown",
   "id": "88f3d7c7",
   "metadata": {},
   "source": [
    "# Time-Prediction 시작\n",
    "## Time Series 형태로 변환\n",
    "### 단일사용자 채널 예측"
   ]
  },
  {
   "cell_type": "code",
   "execution_count": 33,
   "id": "4f36971f",
   "metadata": {},
   "outputs": [
    {
     "name": "stdout",
     "output_type": "stream",
     "text": [
      "0이 존재하는 채널 개수 0\n"
     ]
    }
   ],
   "source": [
    "# print(dataset[0][0]['user']['channel'][150][0][3])\n",
    "\n",
    "count = 0\n",
    "for h in dataset[0][0]['user']['channel'][100][0]:\n",
    "#     h = h.squeeze(0)\n",
    "    h_real = h.real\n",
    "    h_imag = h.imag\n",
    "    if np.sum(np.abs(h_real)) ==0:\n",
    "        count+=1\n",
    "    elif np.sum(np.abs(h_imag)) == 0:\n",
    "        count+=1\n",
    "\n",
    "print(\"0이 존재하는 채널 개수\",count)"
   ]
  },
  {
   "cell_type": "code",
   "execution_count": 34,
   "id": "7575de2b",
   "metadata": {},
   "outputs": [
    {
     "name": "stdout",
     "output_type": "stream",
     "text": [
      "Antenna #3 subcarriers: [-3.7481711e-06+3.7276918e-06j -3.1033380e-06+4.2799297e-06j\n",
      " -2.3783671e-06+4.7218546e-06j -1.5919456e-06+5.0420513e-06j\n",
      " -7.6434952e-07+5.2322434e-06j  8.3081005e-08+5.2875071e-06j\n",
      "  9.2849081e-07+5.2063970e-06j  1.7500737e-06+4.9909859e-06j\n",
      "  2.5266352e-06+4.6468099e-06j  3.2381383e-06+4.1827284e-06j\n",
      "  3.8662224e-06+3.6106942e-06j  4.3946743e-06+2.9454461e-06j\n",
      "  4.8098500e-06+2.2041299e-06j  5.1010238e-06+1.4058554e-06j\n",
      "  5.2606679e-06+5.7120445e-07j  5.2846453e-06-2.7829972e-07j\n",
      "  5.1723187e-06-1.1207479e-06j  4.9265650e-06-1.9344095e-06j\n",
      "  4.5537045e-06-2.6982937e-06j  4.0633354e-06-3.3926899e-06j\n",
      "  3.4680893e-06-3.9996776e-06j  2.7833046e-06-4.5035881e-06j\n",
      "  2.0266314e-06-4.8914089e-06j  1.2175759e-06-5.1531201e-06j\n",
      "  3.7699922e-07-5.2819537e-06j -4.7342218e-07-5.2745672e-06j\n",
      " -1.3117545e-06-5.1311317e-06j -2.1163728e-06-4.8553270e-06j\n",
      " -2.8665186e-06-4.4542485e-06j -3.5428352e-06-3.9382230e-06j\n",
      " -4.1278677e-06-3.3205442e-06j -4.6065129e-06-2.6171292e-06j\n",
      " -4.9664100e-06-1.8461093e-06j -5.1982593e-06-1.0273618e-06j\n",
      " -5.2960613e-06-1.8199796e-07j -5.2572755e-06+6.6818120e-07j\n",
      " -5.0828817e-06+1.5012477e-06j -4.7773592e-06+2.2957113e-06j\n",
      " -4.3485697e-06+3.0310748e-06j -3.8075548e-06+3.6883623e-06j\n",
      " -3.1682537e-06+4.2506094e-06j -2.4471415e-06+4.7032995e-06j\n",
      " -1.6628065e-06+5.0347412e-06j -8.3547025e-07+5.2363685e-06j\n",
      "  1.3533687e-08+5.3029612e-06j  8.6230989e-07+5.2327832e-06j\n",
      "  1.6889655e-06+5.0276249e-06j  2.4721755e-06+4.6927585e-06j\n",
      "  3.1917318e-06+4.2368029e-06j  3.8290659e-06+3.6715010e-06j\n",
      "  4.3677264e-06+3.0114188e-06j  4.7938065e-06+2.2735683e-06j\n",
      "  5.0962994e-06+1.4769696e-06j  5.2673859e-06+6.4216152e-07j\n",
      "  5.3026333e-06-2.0932896e-07j  5.2011137e-06-1.0555416e-06j\n",
      "  4.9654259e-06-1.8746490e-06j  4.6016303e-06-2.6455198e-06j\n",
      "  4.1190920e-06-3.3482638e-06j  3.5302398e-06-3.9647457e-06j\n",
      "  2.8502477e-06-4.4790513e-06j  2.0966418e-06-4.8779011e-06j\n",
      "  1.2888491e-06-5.1509905e-06j  4.4769803e-07-5.2912578e-06j]\n",
      "0+0j인 서브캐리어 개수: 0\n",
      "완전 0+0j 안테나 포트 개수: 0\n",
      "0이 아닌 서브캐리어 개수: 2048\n"
     ]
    }
   ],
   "source": [
    "import numpy as np\n",
    "\n",
    "# 1) (user, ue_port, bs_ant, subc) → (bs_ant, subc) 로 squeeze\n",
    "H = dataset[0][0]['user']['channel'][100, 0]   # shape: (32, 64), complex\n",
    "\n",
    "# 2) BS 안테나 인덱스 3의 서브캐리어 벡터 (64,)\n",
    "print(\"Antenna #3 subcarriers:\", H[3])\n",
    "\n",
    "# 3) 전체 서브캐리어(32×64) 중 값이 정확히 0인 요소 개수\n",
    "zero_elements = np.sum(H == 0)\n",
    "print(\"0+0j인 서브캐리어 개수:\", zero_elements)\n",
    "\n",
    "# 4) 서브캐리어 전부가 0인 안테나 포트(행) 개수\n",
    "zero_ports = np.sum(np.all(H == 0, axis=1))\n",
    "print(\"완전 0+0j 안테나 포트 개수:\", zero_ports)\n",
    "\n",
    "# 5) 만약 “값이 하나도 0이 아닌” 서브캐리어 요소 개수를 보고 싶다면\n",
    "nonzero_elements = np.sum(np.abs(H) > 0)\n",
    "print(\"0이 아닌 서브캐리어 개수:\", nonzero_elements)\n"
   ]
  },
  {
   "cell_type": "markdown",
   "id": "a20a73af",
   "metadata": {},
   "source": [
    "## 결측치 제거 및 dataload"
   ]
  },
  {
   "cell_type": "code",
   "execution_count": 35,
   "id": "1f97d362",
   "metadata": {},
   "outputs": [],
   "source": [
    "from torch.utils.data import Dataset, DataLoader\n",
    "\n",
    "class ChannelDataset(Dataset):\n",
    "    def __init__(self, dataset):\n",
    "        self.dataset = dataset\n",
    "    \n",
    "    def __len__(self):\n",
    "        return len(self.dataset)\n",
    "    \n",
    "    def __getitem__(self,idx):\n",
    "        scene = self.dataset[idx]\n",
    "        H = scene[0]['user']['channel'].squeeze(1)\n",
    "        \n",
    "        mask_valid_sc = ~np.all(H == 0+0j, axis=(0,1))\n",
    "        \n",
    "        H = H[:,:,mask_valid_sc]\n",
    "        \n",
    "        H_real = H.real\n",
    "        H_imag = H.imag\n",
    "        H_concat  = np.concatenate([H_real, H_imag], 1)\n",
    "        H_sc_first = H_concat.transpose(0,2,1)\n",
    "        \n",
    "        return torch.from_numpy(H_sc_first.astype(np.float32))   \n",
    "            \n",
    "            "
   ]
  },
  {
   "cell_type": "code",
   "execution_count": 36,
   "id": "94309077",
   "metadata": {},
   "outputs": [],
   "source": [
    "# ─────────────────────────────────────────────\n",
    "# ❶ IterableDataset: 모든 유저·서브캐리어를 스트리밍\n",
    "import torch\n",
    "from torch.utils.data import IterableDataset, DataLoader\n",
    "import numpy as np\n",
    "\n",
    "class ChannelSeqDataset(IterableDataset):\n",
    "    \"\"\"\n",
    "    • seq_len 개의 과거 채널 벡터(real 64 + imag 64 → 128) → 다음 시점 벡터 예측\n",
    "    • 벡터는 평균전력 1 로 power‑normalize 후 반환\n",
    "    \"\"\"\n",
    "    def __init__(self, scenes, seq_len: int = 5, eps: float = 1e-9):\n",
    "        super().__init__()\n",
    "        self.scenes   = scenes\n",
    "        self.seq_len  = seq_len\n",
    "        self.eps      = eps                        # 0 division 방지용\n",
    "        ch0           = scenes[0][0]['user']['channel']\n",
    "        self.U        = ch0.shape[0]               # 사용자 수\n",
    "        self.A        = ch0.shape[2]               # 안테나 32\n",
    "        self.S        = ch0.shape[3]               # 서브캐리어 64\n",
    "        self.vec_len  = 2 * self.A                 # 64\n",
    "\n",
    "    def _vec(self, scene, u: int, sc: int) -> torch.Tensor:\n",
    "        \"\"\"(32,) complex → (64,) float32  +  power norm\"\"\"\n",
    "        h = scene[0]['user']['channel'][u, 0, :, sc]          # (32,)\n",
    "        v = np.concatenate([h.real, h.imag]).astype(np.float32)\n",
    "        p = np.mean(v * v) + self.eps                         # 평균 전력\n",
    "        v /= np.sqrt(p)                                       # 정규화\n",
    "        return torch.from_numpy(v)                            # (64,)\n",
    "\n",
    "    def __iter__(self):\n",
    "        T = len(self.scenes)\n",
    "        for t in range(self.seq_len, T):                      # 타깃 시점\n",
    "            past_scenes = self.scenes[t - self.seq_len : t]\n",
    "            tgt_scene   = self.scenes[t]\n",
    "            for u in range(self.U):\n",
    "                for s in range(self.S):\n",
    "                    seq = torch.stack([self._vec(ps, u, s) for ps in past_scenes])\n",
    "                    if not torch.any(seq):                    # 전부 0 이면 skip\n",
    "                        continue\n",
    "                    target     = self._vec(tgt_scene, u, s)\n",
    "                    masked_pos = torch.tensor([self.seq_len - 2], dtype=torch.long)\n",
    "                    yield seq, masked_pos, target             # shapes: (5,64) / (1,) / (64,)\n",
    "# ─────────────────────────────────────────────\n",
    "# ❷ 학습·검증 DataLoader\n",
    "seq_len      = 5\n",
    "split_ratio  = 0.8\n",
    "split_idx    = int(len(dataset) * split_ratio)\n",
    "\n",
    "train_ds = ChannelSeqDataset(dataset[:split_idx], seq_len=seq_len)\n",
    "val_ds   = ChannelSeqDataset(dataset[split_idx:], seq_len=seq_len)\n",
    "\n",
    "batch_size   = 32\n",
    "train_loader = DataLoader(train_ds, batch_size=batch_size, shuffle=False)\n",
    "val_loader   = DataLoader(val_ds,   batch_size=batch_size, shuffle=False)\n",
    "# ─────────────────────────────────────────────\n"
   ]
  },
  {
   "cell_type": "code",
   "execution_count": 37,
   "id": "cac53254",
   "metadata": {},
   "outputs": [],
   "source": [
    "from torch.utils.data import IterableDataset\n",
    "\n",
    "class ChannelSeqConvDataset(IterableDataset):\n",
    "    \"\"\"\n",
    "    • seq_len 개의 과거 채널 벡터(real 64 + imag 64 → 128) → 다음 시점 벡터 예측\n",
    "    • 출력 형태: x_seq (seq_len, 1, 1, 64), y (1, 1, 64)\n",
    "    \"\"\"\n",
    "    def __init__(self, scenes, seq_len: int = 5, eps: float = 1e-9):\n",
    "        super().__init__()\n",
    "        self.scenes  = scenes\n",
    "        self.seq_len = seq_len\n",
    "        self.eps     = eps\n",
    "        ch0 = scenes[0][0]['user']['channel']\n",
    "        self.U = ch0.shape[0]   # 사용자 수\n",
    "        self.S = ch0.shape[3]   # 서브캐리어 수\n",
    "\n",
    "    def _vec(self, scene, u: int, s: int):\n",
    "        h = scene[0]['user']['channel'][u, 0, :, s]  # (32,)\n",
    "        v = np.concatenate([h.real, h.imag]).astype(np.float32)  # (64,)\n",
    "        p = np.mean(v*v) + self.eps\n",
    "        v /= np.sqrt(p)\n",
    "        return torch.from_numpy(v).view(1, 1, -1)  # (1,1,64)\n",
    "\n",
    "    def __iter__(self):\n",
    "        T = len(self.scenes)\n",
    "        for t in range(self.seq_len, T):\n",
    "            past = self.scenes[t-self.seq_len : t]\n",
    "            tgt  = self.scenes[t]\n",
    "            for u in range(self.U):\n",
    "                for s in range(self.S):\n",
    "                    seq = torch.stack([self._vec(ps, u, s) for ps in past], dim=0)  # (seq_len,1,1,64)\n",
    "                    if not torch.any(seq):  # 모두 0이면 skip\n",
    "                        continue\n",
    "                    y = self._vec(tgt, u, s)  # (1,1,64)\n",
    "                    yield seq, y\n"
   ]
  },
  {
   "cell_type": "markdown",
   "id": "4cf6bac8",
   "metadata": {},
   "source": [
    "# 아래 코드 구조\n",
    "┌──────────────────────────────────────────────────────────────┐\n",
    "│ input_ids  (B, seq_len, element_length)  ─┐                 │\n",
    "│ masked_pos (B, num_mask)                  ├─>  LWM backbone │\n",
    "│                                           │    (12-층 트랜스포머)  \n",
    "└────────────────────────────────────────────┘         │\n",
    "            logits_lm  (B, num_mask, element_length)  │   enc_output (B, seq_len, d_model)\n",
    "                                                      ▼\n",
    "                        ┌─[풀링]───────────────┐      ←── feat (B, d_model)\n",
    "                        │ 첫 토큰(0번) 선택    │\n",
    "                        │   or 평균/최대 풀링 │\n",
    "                        └──────────────────────┘\n",
    "                                      ▼\n",
    "                       FC 헤드  (d_model → hidden_dim → out_dim)\n",
    "                                      ▼\n",
    "                                out (B, out_dim)\n",
    "\n",
    "# 시각적비유\n",
    "\n",
    "[패치 프로젝터]──▶[Transformer ×12]──▶[LayerNorm]──┐\n",
    "                                                  ├─▶ 64-차 벡터 (CLS 또는 풀링) ─▶ MLP ─▶ out                                                \n",
    "[Positional Embedding]─────────────────────────────┘\n"
   ]
  },
  {
   "cell_type": "code",
   "execution_count": 38,
   "id": "7d882a4d",
   "metadata": {},
   "outputs": [],
   "source": [
    "class ConvLSTMCell(nn.Module):\n",
    "    def __init__(self, input_dim, hidden_dim, kernel_size, bias=True):\n",
    "        super().__init__()\n",
    "        padding = kernel_size // 2\n",
    "        self.conv = nn.Conv2d(input_dim + hidden_dim, 4 * hidden_dim,\n",
    "                              kernel_size, padding=padding, bias=bias)\n",
    "        self.hidden_dim = hidden_dim\n",
    "\n",
    "    def forward(self, x, h_prev, c_prev):\n",
    "        combined = torch.cat([x, h_prev], dim=1)\n",
    "        i_f_o_g = self.conv(combined)\n",
    "        i, f, o, g = torch.chunk(i_f_o_g, 4, dim=1)\n",
    "        i = torch.sigmoid(i); f = torch.sigmoid(f)\n",
    "        o = torch.sigmoid(o); g = torch.tanh(g)\n",
    "        c = f * c_prev + i * g\n",
    "        h = o * torch.tanh(c)\n",
    "        return h, c"
   ]
  },
  {
   "cell_type": "code",
   "execution_count": 39,
   "id": "f73afc1b",
   "metadata": {},
   "outputs": [],
   "source": [
    "class ConvCLSTM(nn.Module):\n",
    "    def __init__(self, input_channels=1, hidden_dim=32,\n",
    "                 kernel_size=3, seq_len=5, height=1, width=64,\n",
    "                 out_channels=1):\n",
    "        super().__init__()\n",
    "        self.seq_len = seq_len\n",
    "        # CNN encoder (공간 정보)\n",
    "        self.encoder = nn.Sequential(\n",
    "            nn.Conv2d(input_channels, 8, 3, padding=1), nn.ReLU(),\n",
    "            nn.Conv2d(8, 16, 3, padding=1), nn.ReLU()\n",
    "        )\n",
    "        # ConvLSTM (공간+시간)\n",
    "        self.convlstm = ConvLSTMCell(16, hidden_dim, kernel_size)\n",
    "        # CNN decoder (출력)\n",
    "        self.decoder = nn.Sequential(\n",
    "            nn.Conv2d(hidden_dim, 16, 3, padding=1), nn.ReLU(),\n",
    "            nn.Conv2d(16, out_channels, 3, padding=1)\n",
    "        )\n",
    "        self.height, self.width = height, width\n",
    "\n",
    "    def forward(self, x):  # x: (B, T, C, H, W)\n",
    "        B, T, C, H, W = x.size()\n",
    "        h = torch.zeros(B, self.convlstm.hidden_dim, H, W, device=x.device)\n",
    "        c = torch.zeros_like(h)\n",
    "        for t in range(T):\n",
    "            feat = self.encoder(x[:, t])  # (B, 16, H, W)\n",
    "            h, c = self.convlstm(feat, h, c)\n",
    "        out = self.decoder(h)  # (B, out_channels, H, W)\n",
    "        return out\n"
   ]
  },
  {
   "cell_type": "code",
   "execution_count": 40,
   "id": "a1e86a77",
   "metadata": {},
   "outputs": [],
   "source": [
    "class ConvCLSTM(nn.Module):\n",
    "    def __init__(self, input_channels=1, hidden_dim=32,\n",
    "                 kernel_size=3, seq_len=5, height=1, width=64,\n",
    "                 out_channels=1):\n",
    "        super().__init__()\n",
    "        self.seq_len = seq_len\n",
    "        # CNN encoder (공간 정보)\n",
    "        self.encoder = nn.Sequential(\n",
    "            nn.Conv2d(input_channels, 8, 3, padding=1), nn.ReLU(),\n",
    "            nn.Conv2d(8, 16, 3, padding=1), nn.ReLU()\n",
    "        )\n",
    "        # ConvLSTM (공간+시간)\n",
    "        self.convlstm = ConvLSTMCell(16, hidden_dim, kernel_size)\n",
    "        # CNN decoder (출력)\n",
    "        self.decoder = nn.Sequential(\n",
    "            nn.Conv2d(hidden_dim, 16, 3, padding=1), nn.ReLU(),\n",
    "            nn.Conv2d(16, out_channels, 3, padding=1)\n",
    "        )\n",
    "        self.height, self.width = height, width\n",
    "\n",
    "    def forward(self, x):  # x: (B, T, C, H, W)\n",
    "        B, T, C, H, W = x.size()\n",
    "        h = torch.zeros(B, self.convlstm.hidden_dim, H, W, device=x.device)\n",
    "        c = torch.zeros_like(h)\n",
    "        for t in range(T):\n",
    "            feat = self.encoder(x[:, t])  # (B, 16, H, W)\n",
    "            h, c = self.convlstm(feat, h, c)\n",
    "        out = self.decoder(h)  # (B, out_channels, H, W)\n",
    "        return out\n"
   ]
  },
  {
   "cell_type": "code",
   "execution_count": 41,
   "id": "4b0eedc9",
   "metadata": {},
   "outputs": [],
   "source": [
    "# ─────────────────────────────────────────────\n",
    "# ❷ 학습·검증 DataLoader (ConvCLSTM용)\n",
    "seq_len     = 5\n",
    "split_idx   = int(len(dataset) * 0.8)\n",
    "\n",
    "train_ds = ChannelSeqConvDataset(dataset[:split_idx], seq_len=seq_len)\n",
    "val_ds   = ChannelSeqConvDataset(dataset[split_idx:],   seq_len=seq_len)\n",
    "\n",
    "train_loader = DataLoader(train_ds, batch_size=32, shuffle=False)\n",
    "val_loader   = DataLoader(val_ds,   batch_size=32, shuffle=False)\n",
    "# ─────────────────────────────────────────────\n"
   ]
  },
  {
   "cell_type": "code",
   "execution_count": 42,
   "id": "71c67cbc",
   "metadata": {},
   "outputs": [],
   "source": [
    "## 6) 모델, 손실, 옵티마이저  \n",
    "# === CHANGED: ConvCLSTM으로 교체 ===\n",
    "model = ConvCLSTM(input_channels=1, hidden_dim=32,\n",
    "                   kernel_size=3, seq_len=5,\n",
    "                   height=1, width=64,\n",
    "                   out_channels=1).to(device)\n",
    "criterion = nn.MSELoss()\n",
    "optimizer = optim.Adam(model.parameters(), lr=1e-4)"
   ]
  },
  {
   "cell_type": "code",
   "execution_count": null,
   "id": "70f8af6e",
   "metadata": {},
   "outputs": [
    {
     "name": "stderr",
     "output_type": "stream",
     "text": [
      "Epoch 1/10: 111it [00:03, 53.09it/s]"
     ]
    },
    {
     "name": "stdout",
     "output_type": "stream",
     "text": [
      "  [Epoch 1 Batch 100]  loss: 0.001115\n"
     ]
    },
    {
     "name": "stderr",
     "output_type": "stream",
     "text": [
      "Epoch 1/10: 205it [00:05, 45.63it/s]"
     ]
    },
    {
     "name": "stdout",
     "output_type": "stream",
     "text": [
      "  [Epoch 1 Batch 200]  loss: 0.002770\n"
     ]
    },
    {
     "name": "stderr",
     "output_type": "stream",
     "text": [
      "Epoch 1/10: 308it [00:07, 54.93it/s]"
     ]
    },
    {
     "name": "stdout",
     "output_type": "stream",
     "text": [
      "  [Epoch 1 Batch 300]  loss: 0.003393\n"
     ]
    },
    {
     "name": "stderr",
     "output_type": "stream",
     "text": [
      "Epoch 1/10: 404it [00:09, 59.24it/s]"
     ]
    },
    {
     "name": "stdout",
     "output_type": "stream",
     "text": [
      "  [Epoch 1 Batch 400]  loss: 0.002723\n"
     ]
    },
    {
     "name": "stderr",
     "output_type": "stream",
     "text": [
      "Epoch 1/10: 508it [00:11, 54.03it/s]"
     ]
    },
    {
     "name": "stdout",
     "output_type": "stream",
     "text": [
      "  [Epoch 1 Batch 500]  loss: 0.003324\n"
     ]
    },
    {
     "name": "stderr",
     "output_type": "stream",
     "text": [
      "Epoch 1/10: 607it [00:13, 53.65it/s]"
     ]
    },
    {
     "name": "stdout",
     "output_type": "stream",
     "text": [
      "  [Epoch 1 Batch 600]  loss: 0.003525\n"
     ]
    },
    {
     "name": "stderr",
     "output_type": "stream",
     "text": [
      "Epoch 1/10: 711it [00:14, 56.77it/s]"
     ]
    },
    {
     "name": "stdout",
     "output_type": "stream",
     "text": [
      "  [Epoch 1 Batch 700]  loss: 0.006457\n"
     ]
    },
    {
     "name": "stderr",
     "output_type": "stream",
     "text": [
      "Epoch 1/10: 808it [00:16, 50.10it/s]"
     ]
    },
    {
     "name": "stdout",
     "output_type": "stream",
     "text": [
      "  [Epoch 1 Batch 800]  loss: 0.007575\n"
     ]
    },
    {
     "name": "stderr",
     "output_type": "stream",
     "text": [
      "Epoch 1/10: 907it [00:18, 52.51it/s]"
     ]
    },
    {
     "name": "stdout",
     "output_type": "stream",
     "text": [
      "  [Epoch 1 Batch 900]  loss: 0.006926\n"
     ]
    },
    {
     "name": "stderr",
     "output_type": "stream",
     "text": [
      "Epoch 1/10: 1006it [00:20, 54.28it/s]"
     ]
    },
    {
     "name": "stdout",
     "output_type": "stream",
     "text": [
      "  [Epoch 1 Batch 1000]  loss: 0.006537\n"
     ]
    },
    {
     "name": "stderr",
     "output_type": "stream",
     "text": [
      "Epoch 1/10: 1109it [00:22, 54.37it/s]"
     ]
    },
    {
     "name": "stdout",
     "output_type": "stream",
     "text": [
      "  [Epoch 1 Batch 1100]  loss: 0.006332\n"
     ]
    },
    {
     "name": "stderr",
     "output_type": "stream",
     "text": [
      "Epoch 1/10: 1208it [00:24, 56.00it/s]"
     ]
    },
    {
     "name": "stdout",
     "output_type": "stream",
     "text": [
      "  [Epoch 1 Batch 1200]  loss: 0.006328\n"
     ]
    },
    {
     "name": "stderr",
     "output_type": "stream",
     "text": [
      "Epoch 1/10: 1305it [00:25, 56.96it/s]"
     ]
    },
    {
     "name": "stdout",
     "output_type": "stream",
     "text": [
      "  [Epoch 1 Batch 1300]  loss: 0.006680\n"
     ]
    },
    {
     "name": "stderr",
     "output_type": "stream",
     "text": [
      "Epoch 1/10: 1406it [00:27, 53.24it/s]"
     ]
    },
    {
     "name": "stdout",
     "output_type": "stream",
     "text": [
      "  [Epoch 1 Batch 1400]  loss: 0.006538\n"
     ]
    },
    {
     "name": "stderr",
     "output_type": "stream",
     "text": [
      "Epoch 1/10: 1505it [00:29, 55.32it/s]"
     ]
    },
    {
     "name": "stdout",
     "output_type": "stream",
     "text": [
      "  [Epoch 1 Batch 1500]  loss: 0.006281\n"
     ]
    },
    {
     "name": "stderr",
     "output_type": "stream",
     "text": [
      "Epoch 1/10: 1611it [00:31, 55.02it/s]"
     ]
    },
    {
     "name": "stdout",
     "output_type": "stream",
     "text": [
      "  [Epoch 1 Batch 1600]  loss: 0.005992\n"
     ]
    },
    {
     "name": "stderr",
     "output_type": "stream",
     "text": [
      "Epoch 1/10: 1706it [00:33, 54.42it/s]"
     ]
    },
    {
     "name": "stdout",
     "output_type": "stream",
     "text": [
      "  [Epoch 1 Batch 1700]  loss: 0.005800\n"
     ]
    },
    {
     "name": "stderr",
     "output_type": "stream",
     "text": [
      "Epoch 1/10: 1810it [00:35, 57.66it/s]"
     ]
    },
    {
     "name": "stdout",
     "output_type": "stream",
     "text": [
      "  [Epoch 1 Batch 1800]  loss: 0.005577\n"
     ]
    },
    {
     "name": "stderr",
     "output_type": "stream",
     "text": [
      "Epoch 1/10: 1907it [00:36, 53.33it/s]"
     ]
    },
    {
     "name": "stdout",
     "output_type": "stream",
     "text": [
      "  [Epoch 1 Batch 1900]  loss: 0.005329\n"
     ]
    },
    {
     "name": "stderr",
     "output_type": "stream",
     "text": [
      "Epoch 1/10: 2007it [00:38, 57.95it/s]"
     ]
    },
    {
     "name": "stdout",
     "output_type": "stream",
     "text": [
      "  [Epoch 1 Batch 2000]  loss: 0.005097\n"
     ]
    },
    {
     "name": "stderr",
     "output_type": "stream",
     "text": [
      "Epoch 1/10: 2105it [00:40, 55.36it/s]"
     ]
    },
    {
     "name": "stdout",
     "output_type": "stream",
     "text": [
      "  [Epoch 1 Batch 2100]  loss: 0.004920\n"
     ]
    },
    {
     "name": "stderr",
     "output_type": "stream",
     "text": [
      "Epoch 1/10: 2207it [00:42, 49.83it/s]"
     ]
    },
    {
     "name": "stdout",
     "output_type": "stream",
     "text": [
      "  [Epoch 1 Batch 2200]  loss: 0.004740\n"
     ]
    },
    {
     "name": "stderr",
     "output_type": "stream",
     "text": [
      "Epoch 1/10: 2308it [00:44, 49.70it/s]"
     ]
    },
    {
     "name": "stdout",
     "output_type": "stream",
     "text": [
      "  [Epoch 1 Batch 2300]  loss: 0.004576\n"
     ]
    },
    {
     "name": "stderr",
     "output_type": "stream",
     "text": [
      "Epoch 1/10: 2407it [00:46, 53.96it/s]"
     ]
    },
    {
     "name": "stdout",
     "output_type": "stream",
     "text": [
      "  [Epoch 1 Batch 2400]  loss: 0.004438\n"
     ]
    },
    {
     "name": "stderr",
     "output_type": "stream",
     "text": [
      "Epoch 1/10: 2511it [00:48, 54.86it/s]"
     ]
    },
    {
     "name": "stdout",
     "output_type": "stream",
     "text": [
      "  [Epoch 1 Batch 2500]  loss: 0.004290\n"
     ]
    },
    {
     "name": "stderr",
     "output_type": "stream",
     "text": [
      "Epoch 1/10: 2603it [00:50, 52.49it/s]"
     ]
    },
    {
     "name": "stdout",
     "output_type": "stream",
     "text": [
      "  [Epoch 1 Batch 2600]  loss: 0.004147\n"
     ]
    },
    {
     "name": "stderr",
     "output_type": "stream",
     "text": [
      "Epoch 1/10: 2705it [00:52, 53.13it/s]"
     ]
    },
    {
     "name": "stdout",
     "output_type": "stream",
     "text": [
      "  [Epoch 1 Batch 2700]  loss: 0.004006\n"
     ]
    },
    {
     "name": "stderr",
     "output_type": "stream",
     "text": [
      "Epoch 1/10: 2809it [00:54, 55.65it/s]"
     ]
    },
    {
     "name": "stdout",
     "output_type": "stream",
     "text": [
      "  [Epoch 1 Batch 2800]  loss: 0.003892\n"
     ]
    },
    {
     "name": "stderr",
     "output_type": "stream",
     "text": [
      "Epoch 1/10: 2905it [00:57, 47.99it/s]"
     ]
    },
    {
     "name": "stdout",
     "output_type": "stream",
     "text": [
      "  [Epoch 1 Batch 2900]  loss: 0.003771\n"
     ]
    },
    {
     "name": "stderr",
     "output_type": "stream",
     "text": [
      "Epoch 1/10: 3007it [00:59, 58.82it/s]"
     ]
    },
    {
     "name": "stdout",
     "output_type": "stream",
     "text": [
      "  [Epoch 1 Batch 3000]  loss: 0.003660\n"
     ]
    },
    {
     "name": "stderr",
     "output_type": "stream",
     "text": [
      "Epoch 1/10: 3109it [01:00, 55.86it/s]"
     ]
    },
    {
     "name": "stdout",
     "output_type": "stream",
     "text": [
      "  [Epoch 1 Batch 3100]  loss: 0.003557\n"
     ]
    },
    {
     "name": "stderr",
     "output_type": "stream",
     "text": [
      "Epoch 1/10: 3210it [01:02, 55.73it/s]"
     ]
    },
    {
     "name": "stdout",
     "output_type": "stream",
     "text": [
      "  [Epoch 1 Batch 3200]  loss: 0.003452\n"
     ]
    },
    {
     "name": "stderr",
     "output_type": "stream",
     "text": [
      "Epoch 1/10: 3306it [01:04, 52.76it/s]"
     ]
    },
    {
     "name": "stdout",
     "output_type": "stream",
     "text": [
      "  [Epoch 1 Batch 3300]  loss: 0.003348\n"
     ]
    },
    {
     "name": "stderr",
     "output_type": "stream",
     "text": [
      "Epoch 1/10: 3407it [01:07, 48.78it/s]"
     ]
    },
    {
     "name": "stdout",
     "output_type": "stream",
     "text": [
      "  [Epoch 1 Batch 3400]  loss: 0.003263\n"
     ]
    },
    {
     "name": "stderr",
     "output_type": "stream",
     "text": [
      "Epoch 1/10: 3512it [01:08, 56.39it/s]"
     ]
    },
    {
     "name": "stdout",
     "output_type": "stream",
     "text": [
      "  [Epoch 1 Batch 3500]  loss: 0.003285\n"
     ]
    },
    {
     "name": "stderr",
     "output_type": "stream",
     "text": [
      "Epoch 1/10: 3604it [01:10, 46.87it/s]"
     ]
    },
    {
     "name": "stdout",
     "output_type": "stream",
     "text": [
      "  [Epoch 1 Batch 3600]  loss: 0.003313\n"
     ]
    },
    {
     "name": "stderr",
     "output_type": "stream",
     "text": [
      "Epoch 1/10: 3711it [01:12, 57.23it/s]"
     ]
    },
    {
     "name": "stdout",
     "output_type": "stream",
     "text": [
      "  [Epoch 1 Batch 3700]  loss: 0.003245\n"
     ]
    },
    {
     "name": "stderr",
     "output_type": "stream",
     "text": [
      "Epoch 1/10: 3808it [01:14, 57.94it/s]"
     ]
    },
    {
     "name": "stdout",
     "output_type": "stream",
     "text": [
      "  [Epoch 1 Batch 3800]  loss: 0.003220\n"
     ]
    },
    {
     "name": "stderr",
     "output_type": "stream",
     "text": [
      "Epoch 1/10: 3908it [01:16, 57.04it/s]"
     ]
    },
    {
     "name": "stdout",
     "output_type": "stream",
     "text": [
      "  [Epoch 1 Batch 3900]  loss: 0.003250\n"
     ]
    },
    {
     "name": "stderr",
     "output_type": "stream",
     "text": [
      "Epoch 1/10: 4008it [01:17, 56.94it/s]"
     ]
    },
    {
     "name": "stdout",
     "output_type": "stream",
     "text": [
      "  [Epoch 1 Batch 4000]  loss: 0.003726\n"
     ]
    },
    {
     "name": "stderr",
     "output_type": "stream",
     "text": [
      "Epoch 1/10: 4107it [01:19, 57.22it/s]"
     ]
    },
    {
     "name": "stdout",
     "output_type": "stream",
     "text": [
      "  [Epoch 1 Batch 4100]  loss: 0.004052\n"
     ]
    },
    {
     "name": "stderr",
     "output_type": "stream",
     "text": [
      "Epoch 1/10: 4210it [01:21, 54.69it/s]"
     ]
    },
    {
     "name": "stdout",
     "output_type": "stream",
     "text": [
      "  [Epoch 1 Batch 4200]  loss: 0.003986\n"
     ]
    },
    {
     "name": "stderr",
     "output_type": "stream",
     "text": [
      "Epoch 1/10: 4309it [01:23, 55.75it/s]"
     ]
    },
    {
     "name": "stdout",
     "output_type": "stream",
     "text": [
      "  [Epoch 1 Batch 4300]  loss: 0.003951\n"
     ]
    },
    {
     "name": "stderr",
     "output_type": "stream",
     "text": [
      "Epoch 1/10: 4407it [01:25, 52.69it/s]"
     ]
    },
    {
     "name": "stdout",
     "output_type": "stream",
     "text": [
      "  [Epoch 1 Batch 4400]  loss: 0.003938\n"
     ]
    },
    {
     "name": "stderr",
     "output_type": "stream",
     "text": [
      "Epoch 1/10: 4510it [01:26, 50.76it/s]"
     ]
    },
    {
     "name": "stdout",
     "output_type": "stream",
     "text": [
      "  [Epoch 1 Batch 4500]  loss: 0.004005\n"
     ]
    },
    {
     "name": "stderr",
     "output_type": "stream",
     "text": [
      "Epoch 1/10: 4608it [01:28, 58.31it/s]"
     ]
    },
    {
     "name": "stdout",
     "output_type": "stream",
     "text": [
      "  [Epoch 1 Batch 4600]  loss: 0.004122\n"
     ]
    },
    {
     "name": "stderr",
     "output_type": "stream",
     "text": [
      "Epoch 1/10: 4710it [01:30, 56.14it/s]"
     ]
    },
    {
     "name": "stdout",
     "output_type": "stream",
     "text": [
      "  [Epoch 1 Batch 4700]  loss: 0.004186\n"
     ]
    },
    {
     "name": "stderr",
     "output_type": "stream",
     "text": [
      "Epoch 1/10: 4807it [01:32, 56.54it/s]"
     ]
    },
    {
     "name": "stdout",
     "output_type": "stream",
     "text": [
      "  [Epoch 1 Batch 4800]  loss: 0.004152\n"
     ]
    },
    {
     "name": "stderr",
     "output_type": "stream",
     "text": [
      "Epoch 1/10: 4910it [01:34, 57.04it/s]"
     ]
    },
    {
     "name": "stdout",
     "output_type": "stream",
     "text": [
      "  [Epoch 1 Batch 4900]  loss: 0.004114\n"
     ]
    },
    {
     "name": "stderr",
     "output_type": "stream",
     "text": [
      "Epoch 1/10: 5009it [01:35, 57.61it/s]"
     ]
    },
    {
     "name": "stdout",
     "output_type": "stream",
     "text": [
      "  [Epoch 1 Batch 5000]  loss: 0.004079\n"
     ]
    },
    {
     "name": "stderr",
     "output_type": "stream",
     "text": [
      "Epoch 1/10: 5106it [01:37, 51.41it/s]"
     ]
    },
    {
     "name": "stdout",
     "output_type": "stream",
     "text": [
      "  [Epoch 1 Batch 5100]  loss: 0.004041\n"
     ]
    },
    {
     "name": "stderr",
     "output_type": "stream",
     "text": [
      "Epoch 1/10: 5208it [01:39, 55.07it/s]"
     ]
    },
    {
     "name": "stdout",
     "output_type": "stream",
     "text": [
      "  [Epoch 1 Batch 5200]  loss: 0.003982\n"
     ]
    },
    {
     "name": "stderr",
     "output_type": "stream",
     "text": [
      "Epoch 1/10: 5309it [01:41, 51.46it/s]"
     ]
    },
    {
     "name": "stdout",
     "output_type": "stream",
     "text": [
      "  [Epoch 1 Batch 5300]  loss: 0.003919\n"
     ]
    },
    {
     "name": "stderr",
     "output_type": "stream",
     "text": [
      "Epoch 1/10: 5407it [01:43, 53.70it/s]"
     ]
    },
    {
     "name": "stdout",
     "output_type": "stream",
     "text": [
      "  [Epoch 1 Batch 5400]  loss: 0.003870\n"
     ]
    },
    {
     "name": "stderr",
     "output_type": "stream",
     "text": [
      "Epoch 1/10: 5506it [01:45, 43.07it/s]"
     ]
    },
    {
     "name": "stdout",
     "output_type": "stream",
     "text": [
      "  [Epoch 1 Batch 5500]  loss: 0.003817\n"
     ]
    },
    {
     "name": "stderr",
     "output_type": "stream",
     "text": [
      "Epoch 1/10: 5606it [01:47, 47.01it/s]"
     ]
    },
    {
     "name": "stdout",
     "output_type": "stream",
     "text": [
      "  [Epoch 1 Batch 5600]  loss: 0.003765\n"
     ]
    },
    {
     "name": "stderr",
     "output_type": "stream",
     "text": [
      "Epoch 1/10: 5704it [01:49, 41.57it/s]"
     ]
    },
    {
     "name": "stdout",
     "output_type": "stream",
     "text": [
      "  [Epoch 1 Batch 5700]  loss: 0.003725\n"
     ]
    },
    {
     "name": "stderr",
     "output_type": "stream",
     "text": [
      "Epoch 1/10: 5807it [01:51, 53.08it/s]"
     ]
    },
    {
     "name": "stdout",
     "output_type": "stream",
     "text": [
      "  [Epoch 1 Batch 5800]  loss: 0.003674\n"
     ]
    },
    {
     "name": "stderr",
     "output_type": "stream",
     "text": [
      "Epoch 1/10: 5905it [01:53, 56.26it/s]"
     ]
    },
    {
     "name": "stdout",
     "output_type": "stream",
     "text": [
      "  [Epoch 1 Batch 5900]  loss: 0.003621\n"
     ]
    },
    {
     "name": "stderr",
     "output_type": "stream",
     "text": [
      "Epoch 1/10: 6008it [01:56, 54.09it/s]"
     ]
    },
    {
     "name": "stdout",
     "output_type": "stream",
     "text": [
      "  [Epoch 1 Batch 6000]  loss: 0.003562\n"
     ]
    },
    {
     "name": "stderr",
     "output_type": "stream",
     "text": [
      "Epoch 1/10: 6110it [01:58, 54.10it/s]"
     ]
    },
    {
     "name": "stdout",
     "output_type": "stream",
     "text": [
      "  [Epoch 1 Batch 6100]  loss: 0.003517\n"
     ]
    },
    {
     "name": "stderr",
     "output_type": "stream",
     "text": [
      "Epoch 1/10: 6209it [02:00, 31.04it/s]"
     ]
    },
    {
     "name": "stdout",
     "output_type": "stream",
     "text": [
      "  [Epoch 1 Batch 6200]  loss: 0.003471\n"
     ]
    },
    {
     "name": "stderr",
     "output_type": "stream",
     "text": [
      "Epoch 1/10: 6303it [02:02, 34.99it/s]"
     ]
    },
    {
     "name": "stdout",
     "output_type": "stream",
     "text": [
      "  [Epoch 1 Batch 6300]  loss: 0.003420\n"
     ]
    },
    {
     "name": "stderr",
     "output_type": "stream",
     "text": [
      "Epoch 1/10: 6316it [02:03, 38.33it/s]"
     ]
    }
   ],
   "source": [
    "from tqdm import tqdm\n",
    "import time\n",
    "\n",
    "num_epochs = 10\n",
    "start = time.time()\n",
    "\n",
    "for epoch in range(1, num_epochs+1):\n",
    "    model.train()\n",
    "    running_loss = 0.0\n",
    "\n",
    "    # ─── 에포크별 진행바 시작 ───\n",
    "    for batch_idx, (x_seq, y) in enumerate(\n",
    "            tqdm(train_loader, desc=f\"Epoch {epoch}/{num_epochs}\"), 1):\n",
    "\n",
    "        x_seq, y = x_seq.to(device), y.to(device)\n",
    "        optimizer.zero_grad()\n",
    "\n",
    "        pred = model(x_seq)                  # (B,1,H,W)\n",
    "        loss = criterion(pred.squeeze(), y.squeeze())\n",
    "        loss.backward()\n",
    "        optimizer.step()\n",
    "\n",
    "        running_loss += loss.item()\n",
    "\n",
    "        # 100배치마다 로그 출력\n",
    "        if batch_idx % 100 == 0:\n",
    "            tqdm.write(\n",
    "                f\"  [Epoch {epoch} Batch {batch_idx}]  \"\n",
    "                f\"loss: {running_loss/batch_idx:.6f}\"\n",
    "            )\n",
    "\n",
    "    avg_loss = running_loss / batch_idx\n",
    "    print(f\"→ Epoch {epoch}/{num_epochs} done, avg_loss: {avg_loss:.6f}\")\n",
    "\n",
    "print(f\"Total training time: {time.time() - start:.2f}s\")\n"
   ]
  },
  {
   "cell_type": "code",
   "execution_count": null,
   "id": "6307e24b",
   "metadata": {},
   "outputs": [],
   "source": [
    "# 셀 1: 모델 평가용 지표 함수 정의\n",
    "import torch\n",
    "import torch.nn.functional as F\n",
    "\n",
    "def rmse(pred: torch.Tensor, target: torch.Tensor) -> torch.Tensor:\n",
    "    \"\"\"배치 단위 RMSE 계산\"\"\"\n",
    "    return torch.sqrt(F.mse_loss(pred, target, reduction=\"mean\"))\n",
    "\n",
    "def nmse(pred: torch.Tensor, target: torch.Tensor) -> torch.Tensor:\n",
    "    \"\"\"배치 단위 NMSE 계산\"\"\"\n",
    "    mse_per = ((pred - target)**2).view(pred.size(0), -1).sum(dim=1)\n",
    "    power_per = (target**2).view(pred.size(0), -1).sum(dim=1)\n",
    "    return (mse_per / power_per).mean()\n"
   ]
  },
  {
   "cell_type": "code",
   "execution_count": null,
   "id": "3df6e3bb",
   "metadata": {},
   "outputs": [],
   "source": [
    "# 셀 2: 검증 루프 함수 정의 (ConvCLSTM 버전)\n",
    "def evaluate(loader):\n",
    "    model.eval()\n",
    "    total_rmse, total_nmse = 0.0, 0.0\n",
    "    n_batches = 0\n",
    "    with torch.no_grad():\n",
    "        for x_seq, y in loader:\n",
    "            x_seq, y = x_seq.to(device), y.to(device)\n",
    "            pr = model(x_seq)  # (B,1,H,W)\n",
    "            total_rmse += rmse(pr.squeeze(), y.squeeze()).item()\n",
    "            total_nmse += nmse(pr.squeeze(), y.squeeze()).item()\n",
    "            n_batches += 1\n",
    "    return {\"RMSE\": total_rmse / n_batches,\n",
    "            \"NMSE\": total_nmse / n_batches}\n"
   ]
  },
  {
   "cell_type": "code",
   "execution_count": null,
   "id": "d1d926a5",
   "metadata": {},
   "outputs": [],
   "source": [
    "# 셀 3: 학습 및 검증 루프 (30 epochs + 조기 중단 간단 구현)\n",
    "num_epochs = 30\n",
    "patience = 5\n",
    "best_val_rmse = float('inf')\n",
    "patience_counter = 0\n",
    "\n",
    "for epoch in range(1, num_epochs+1):\n",
    "    # ──────────── ① 학습 ────────────\n",
    "    model.train()\n",
    "    running_loss = 0.0\n",
    "    for x_seq, y in train_loader:\n",
    "        x_seq, y = x_seq.to(device), y.to(device)\n",
    "        pred = model(x_seq)\n",
    "        loss = criterion(pred.squeeze(), y.squeeze())\n",
    "        optimizer.zero_grad()\n",
    "        loss.backward()\n",
    "        optimizer.step()\n",
    "        running_loss += loss.item()\n",
    "    train_loss = running_loss / len(train_loader)\n",
    "\n",
    "    # ──────────── ② 검증 ────────────\n",
    "    metrics = evaluate(val_loader)\n",
    "    val_rmse, val_nmse = metrics[\"RMSE\"], metrics[\"NMSE\"]\n",
    "\n",
    "    # ──────────── ③ 로그 출력 ────────────\n",
    "    print(f\"[Epoch {epoch:02d}] \"\n",
    "          f\"Train Loss={train_loss:.6f}  \"\n",
    "          f\"Val RMSE={val_rmse:.6f}  \"\n",
    "          f\"Val NMSE={val_nmse:.6f}  \"\n",
    "          f\"Val NMSE(dB)={10*torch.log10(torch.tensor(val_nmse)):.2f}dB\")\n",
    "\n",
    "    # ──────────── 조기 중단 체크 ────────────\n",
    "    if val_rmse < best_val_rmse:\n",
    "        best_val_rmse = val_rmse\n",
    "        patience_counter = 0\n",
    "        torch.save(model.state_dict(), \"best_convclstm.pth\")\n",
    "    else:\n",
    "        patience_counter += 1\n",
    "        if patience_counter >= patience:\n",
    "            print(f\"Early stopping at epoch {epoch}\")\n",
    "            break\n"
   ]
  },
  {
   "cell_type": "code",
   "execution_count": null,
   "id": "4bb0da2a",
   "metadata": {},
   "outputs": [],
   "source": []
  },
  {
   "cell_type": "code",
   "execution_count": null,
   "id": "a0023d63",
   "metadata": {},
   "outputs": [],
   "source": []
  },
  {
   "cell_type": "code",
   "execution_count": null,
   "id": "27c5d8be",
   "metadata": {},
   "outputs": [],
   "source": []
  },
  {
   "cell_type": "code",
   "execution_count": null,
   "id": "5e7b169d",
   "metadata": {},
   "outputs": [],
   "source": []
  },
  {
   "cell_type": "code",
   "execution_count": null,
   "id": "f6932b03",
   "metadata": {},
   "outputs": [],
   "source": []
  },
  {
   "cell_type": "code",
   "execution_count": null,
   "id": "b5a9fbc8",
   "metadata": {},
   "outputs": [],
   "source": []
  }
 ],
 "metadata": {
  "kernelspec": {
   "display_name": "Python 3 (ipykernel)",
   "language": "python",
   "name": "python3"
  },
  "language_info": {
   "codemirror_mode": {
    "name": "ipython",
    "version": 3
   },
   "file_extension": ".py",
   "mimetype": "text/x-python",
   "name": "python",
   "nbconvert_exporter": "python",
   "pygments_lexer": "ipython3",
   "version": "3.11.3"
  }
 },
 "nbformat": 4,
 "nbformat_minor": 5
}
