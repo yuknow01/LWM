{
 "cells": [
  {
   "cell_type": "code",
   "execution_count": 1,
   "id": "23623e8a",
   "metadata": {},
   "outputs": [
    {
     "name": "stdout",
     "output_type": "stream",
     "text": [
      "Requirement already satisfied: DeepMIMOv3 in c:\\users\\dlghd\\anaconda3\\lib\\site-packages (0.2.8)\n",
      "Requirement already satisfied: umap-learn in c:\\users\\dlghd\\anaconda3\\lib\\site-packages (0.5.7)\n",
      "Requirement already satisfied: numpy in c:\\users\\dlghd\\anaconda3\\lib\\site-packages (from DeepMIMOv3) (1.24.3)\n",
      "Requirement already satisfied: scipy in c:\\users\\dlghd\\anaconda3\\lib\\site-packages (from DeepMIMOv3) (1.10.1)\n",
      "Requirement already satisfied: tqdm in c:\\users\\dlghd\\anaconda3\\lib\\site-packages (from DeepMIMOv3) (4.65.0)\n",
      "Requirement already satisfied: matplotlib in c:\\users\\dlghd\\anaconda3\\lib\\site-packages (from DeepMIMOv3) (3.7.1)\n",
      "Requirement already satisfied: scikit-learn>=0.22 in c:\\users\\dlghd\\anaconda3\\lib\\site-packages (from umap-learn) (1.2.2)\n",
      "Requirement already satisfied: numba>=0.51.2 in c:\\users\\dlghd\\anaconda3\\lib\\site-packages (from umap-learn) (0.57.0)\n",
      "Requirement already satisfied: pynndescent>=0.5 in c:\\users\\dlghd\\anaconda3\\lib\\site-packages (from umap-learn) (0.5.13)\n",
      "Requirement already satisfied: llvmlite<0.41,>=0.40.0dev0 in c:\\users\\dlghd\\anaconda3\\lib\\site-packages (from numba>=0.51.2->umap-learn) (0.40.0)\n",
      "Requirement already satisfied: joblib>=0.11 in c:\\users\\dlghd\\anaconda3\\lib\\site-packages (from pynndescent>=0.5->umap-learn) (1.2.0)\n",
      "Requirement already satisfied: threadpoolctl>=2.0.0 in c:\\users\\dlghd\\anaconda3\\lib\\site-packages (from scikit-learn>=0.22->umap-learn) (2.2.0)\n",
      "Requirement already satisfied: contourpy>=1.0.1 in c:\\users\\dlghd\\anaconda3\\lib\\site-packages (from matplotlib->DeepMIMOv3) (1.0.5)\n",
      "Requirement already satisfied: cycler>=0.10 in c:\\users\\dlghd\\anaconda3\\lib\\site-packages (from matplotlib->DeepMIMOv3) (0.11.0)\n",
      "Requirement already satisfied: fonttools>=4.22.0 in c:\\users\\dlghd\\anaconda3\\lib\\site-packages (from matplotlib->DeepMIMOv3) (4.25.0)\n",
      "Requirement already satisfied: kiwisolver>=1.0.1 in c:\\users\\dlghd\\anaconda3\\lib\\site-packages (from matplotlib->DeepMIMOv3) (1.4.4)\n",
      "Requirement already satisfied: packaging>=20.0 in c:\\users\\dlghd\\anaconda3\\lib\\site-packages (from matplotlib->DeepMIMOv3) (23.0)\n",
      "Requirement already satisfied: pillow>=6.2.0 in c:\\users\\dlghd\\anaconda3\\lib\\site-packages (from matplotlib->DeepMIMOv3) (9.4.0)\n",
      "Requirement already satisfied: pyparsing>=2.3.1 in c:\\users\\dlghd\\anaconda3\\lib\\site-packages (from matplotlib->DeepMIMOv3) (3.0.9)\n",
      "Requirement already satisfied: python-dateutil>=2.7 in c:\\users\\dlghd\\anaconda3\\lib\\site-packages (from matplotlib->DeepMIMOv3) (2.8.2)\n",
      "Requirement already satisfied: colorama in c:\\users\\dlghd\\anaconda3\\lib\\site-packages (from tqdm->DeepMIMOv3) (0.4.6)\n",
      "Requirement already satisfied: six>=1.5 in c:\\users\\dlghd\\anaconda3\\lib\\site-packages (from python-dateutil>=2.7->matplotlib->DeepMIMOv3) (1.16.0)\n",
      "Note: you may need to restart the kernel to use updated packages.\n"
     ]
    }
   ],
   "source": [
    "pip install DeepMIMOv3 umap-learn"
   ]
  },
  {
   "cell_type": "code",
   "execution_count": 2,
   "id": "14b3564f",
   "metadata": {},
   "outputs": [],
   "source": [
    "#LWM을 하기위한 라이브러리 가져오기\n",
    "import DeepMIMOv3\n",
    "import numpy as np\n",
    "from pprint import pprint\n",
    "import matplotlib.pyplot as plt\n",
    "\n",
    "plt . rcParams [ 'figure.figsize' ]  =  [ 12 ,  8 ]  # 기본 플롯 크기 설정"
   ]
  },
  {
   "cell_type": "code",
   "execution_count": 3,
   "id": "ce5ac681",
   "metadata": {
    "scrolled": true
   },
   "outputs": [
    {
     "name": "stdout",
     "output_type": "stream",
     "text": [
      "{'OFDM': {'RX_filter': 0,\n",
      "          'bandwidth': 0.05,\n",
      "          'selected_subcarriers': array([0]),\n",
      "          'subcarriers': 512},\n",
      " 'OFDM_channels': 1,\n",
      " 'active_BS': array([1]),\n",
      " 'bs_antenna': {'FoV': array([360, 180]),\n",
      "                'radiation_pattern': 'isotropic',\n",
      "                'rotation': array([0, 0, 0]),\n",
      "                'shape': array([8, 4]),\n",
      "                'spacing': 0.5},\n",
      " 'dataset_folder': './Raytracing_scenarios',\n",
      " 'dynamic_scenario_scenes': array([1]),\n",
      " 'enable_BS2BS': 1,\n",
      " 'enable_doppler': 0,\n",
      " 'enable_dual_polar': 0,\n",
      " 'num_paths': 5,\n",
      " 'scenario': 'O1_60',\n",
      " 'ue_antenna': {'FoV': array([360, 180]),\n",
      "                'radiation_pattern': 'isotropic',\n",
      "                'rotation': array([0, 0, 0]),\n",
      "                'shape': array([4, 2]),\n",
      "                'spacing': 0.5},\n",
      " 'user_rows': array([1]),\n",
      " 'user_subsampling': 1}\n"
     ]
    }
   ],
   "source": [
    "## Load and print the default parameters\n",
    "# bandwith: 0.05GHz(50MHz 대역폭 사용)\n",
    "\n",
    "parameters = DeepMIMOv3.default_params()\n",
    "pprint(parameters)"
   ]
  },
  {
   "cell_type": "code",
   "execution_count": 4,
   "id": "1f0642c1",
   "metadata": {},
   "outputs": [],
   "source": [
    "## Change parameters for the setup\n",
    "# Scenario O1_60 extracted at the dataset_folder\n",
    "#LWM 동적 시나리오 불러오기\n",
    "#자신의 LWM 파일 위치 경로 작성\n",
    "# parameters['dataset_folder'] = r'/content/drive/MyDrive/Colab Notebooks/LWM'\n",
    "parameters['dataset_folder'] = r'C:\\Users\\dlghd\\졸업프로젝트\\LWM'\n",
    "\n",
    "# scnario = 02_dyn_3p5 <- 다운받은 파일(동적시나리오)\n",
    "parameters['scenario'] = 'O2_dyn_3p5'\n",
    "parameters['dynamic_scenario_scenes'] = np.arange(10) #scene 0~9\n",
    "\n",
    "# 각 사용자-기지국 채널에 대해 최대 10개 멀티패스 경로 사용\n",
    "parameters['num_paths'] = 10\n",
    "\n",
    "# User rows 1-100\n",
    "parameters['user_row_first'] = 1\n",
    "parameters['user_row_last'] = 100\n",
    "\n",
    "# Activate only the first basestation\n",
    "parameters['active_BS'] = np.array([1])\n",
    "\n",
    "parameters['OFDM']['bandwidth'] = 0.05 # 50 MHz\n",
    "parameters['OFDM']['subcarriers'] = 512 # OFDM with 512 subcarriers\n",
    "parameters['OFDM']['subcarriers_limit'] = 64 # Keep only first 64 subcarriers\n",
    "\n",
    "parameters['ue_antenna']['shape'] = np.array([1, 1, 1]) # Single antenna\n",
    "parameters['bs_antenna']['shape'] = np.array([1, 32, 1]) # ULA of 32 elements\n",
    "#parameters['bs_antenna']['rotation'] = np.array([0, 30, 90]) # ULA of 32 elements\n",
    "#parameters['ue_antenna']['rotation'] = np.array([[0, 30], [30, 60], [60, 90]]) # ULA of 32 elements\n",
    "#parameters['ue_antenna']['radiation_pattern'] = 'isotropic'\n",
    "#parameters['bs_antenna']['radiation_pattern'] = 'halfwave-dipole'"
   ]
  },
  {
   "cell_type": "code",
   "execution_count": 16,
   "id": "f9230aef",
   "metadata": {},
   "outputs": [
    {
     "name": "stdout",
     "output_type": "stream",
     "text": [
      "{'dataset_folder': 'C:\\\\Users\\\\dlghd\\\\졸업프로젝트\\\\LWM', 'scenario': 'O2_dyn_3p5', 'dynamic_scenario_scenes': array([0, 1, 2, 3, 4, 5, 6, 7, 8, 9]), 'num_paths': 10, 'active_BS': array([1]), 'user_rows': array([1]), 'user_subsampling': 1, 'bs_antenna': {'shape': array([ 1, 32,  1]), 'spacing': 0.5, 'rotation': array([0, 0, 0]), 'FoV': array([360, 180]), 'radiation_pattern': 'isotropic'}, 'ue_antenna': {'shape': array([1, 1, 1]), 'spacing': 0.5, 'rotation': array([0, 0, 0]), 'FoV': array([360, 180]), 'radiation_pattern': 'isotropic'}, 'enable_doppler': 0, 'enable_dual_polar': 0, 'enable_BS2BS': 1, 'OFDM_channels': 1, 'OFDM': {'subcarriers': 512, 'selected_subcarriers': array([0]), 'bandwidth': 0.05, 'RX_filter': 0, 'subcarriers_limit': 64}, 'user_row_first': 1, 'user_row_last': 100}\n"
     ]
    }
   ],
   "source": [
    "print(parameters)"
   ]
  },
  {
   "cell_type": "code",
   "execution_count": 5,
   "id": "b87a86e5",
   "metadata": {},
   "outputs": [
    {
     "name": "stdout",
     "output_type": "stream",
     "text": [
      "The following parameters seem unnecessary:\n",
      "{'subcarriers_limit', 'user_row_first', 'user_row_last'}\n",
      "\n",
      "Scene 1/10\n",
      "\n",
      "Basestation 1\n",
      "\n",
      "UE-BS Channels\n"
     ]
    },
    {
     "name": "stderr",
     "output_type": "stream",
     "text": [
      "Reading ray-tracing: 100%|██████████████████████████████████████████████████████| 3782/3782 [00:00<00:00, 65208.14it/s]\n",
      "Generating channels: 100%|███████████████████████████████████████████████████████| 1891/1891 [00:00<00:00, 5729.07it/s]\n"
     ]
    },
    {
     "name": "stdout",
     "output_type": "stream",
     "text": [
      "\n",
      "BS-BS Channels\n"
     ]
    },
    {
     "name": "stderr",
     "output_type": "stream",
     "text": [
      "Reading ray-tracing: 100%|███████████████████████████████████████████████████████████████████████| 1/1 [00:00<?, ?it/s]\n",
      "Generating channels: 100%|█████████████████████████████████████████████████████████████| 1/1 [00:00<00:00, 1001.03it/s]\n"
     ]
    },
    {
     "name": "stdout",
     "output_type": "stream",
     "text": [
      "\n",
      "Scene 2/10\n",
      "\n",
      "Basestation 1\n",
      "\n",
      "UE-BS Channels\n"
     ]
    },
    {
     "name": "stderr",
     "output_type": "stream",
     "text": [
      "Reading ray-tracing: 100%|██████████████████████████████████████████████████████| 3782/3782 [00:00<00:00, 67536.87it/s]\n",
      "Generating channels: 100%|███████████████████████████████████████████████████████| 1891/1891 [00:00<00:00, 5827.22it/s]\n"
     ]
    },
    {
     "name": "stdout",
     "output_type": "stream",
     "text": [
      "\n",
      "BS-BS Channels\n"
     ]
    },
    {
     "name": "stderr",
     "output_type": "stream",
     "text": [
      "Reading ray-tracing: 100%|█████████████████████████████████████████████████████████████| 1/1 [00:00<00:00, 1002.22it/s]\n",
      "Generating channels: 100%|█████████████████████████████████████████████████████████████| 1/1 [00:00<00:00, 1002.22it/s]\n"
     ]
    },
    {
     "name": "stdout",
     "output_type": "stream",
     "text": [
      "\n",
      "Scene 3/10\n",
      "\n",
      "Basestation 1\n",
      "\n",
      "UE-BS Channels\n"
     ]
    },
    {
     "name": "stderr",
     "output_type": "stream",
     "text": [
      "Reading ray-tracing: 100%|██████████████████████████████████████████████████████| 3782/3782 [00:00<00:00, 67535.15it/s]\n",
      "Generating channels: 100%|███████████████████████████████████████████████████████| 1891/1891 [00:00<00:00, 6109.05it/s]\n"
     ]
    },
    {
     "name": "stdout",
     "output_type": "stream",
     "text": [
      "\n",
      "BS-BS Channels\n"
     ]
    },
    {
     "name": "stderr",
     "output_type": "stream",
     "text": [
      "Reading ray-tracing: 100%|███████████████████████████████████████████████████████████████████████| 1/1 [00:00<?, ?it/s]\n",
      "Generating channels: 100%|██████████████████████████████████████████████████████████████| 1/1 [00:00<00:00, 998.41it/s]\n"
     ]
    },
    {
     "name": "stdout",
     "output_type": "stream",
     "text": [
      "\n",
      "Scene 4/10\n",
      "\n",
      "Basestation 1\n",
      "\n",
      "UE-BS Channels\n"
     ]
    },
    {
     "name": "stderr",
     "output_type": "stream",
     "text": [
      "Reading ray-tracing: 100%|██████████████████████████████████████████████████████| 3782/3782 [00:00<00:00, 69917.70it/s]\n",
      "Generating channels: 100%|███████████████████████████████████████████████████████| 1891/1891 [00:00<00:00, 6018.31it/s]\n"
     ]
    },
    {
     "name": "stdout",
     "output_type": "stream",
     "text": [
      "\n",
      "BS-BS Channels\n"
     ]
    },
    {
     "name": "stderr",
     "output_type": "stream",
     "text": [
      "Reading ray-tracing: 100%|███████████████████████████████████████████████████████████████████████| 1/1 [00:00<?, ?it/s]\n",
      "Generating channels: 100%|██████████████████████████████████████████████████████████████| 1/1 [00:00<00:00, 998.64it/s]\n"
     ]
    },
    {
     "name": "stdout",
     "output_type": "stream",
     "text": [
      "\n",
      "Scene 5/10\n",
      "\n",
      "Basestation 1\n",
      "\n",
      "UE-BS Channels\n"
     ]
    },
    {
     "name": "stderr",
     "output_type": "stream",
     "text": [
      "Reading ray-tracing: 100%|██████████████████████████████████████████████████████| 3782/3782 [00:00<00:00, 69698.36it/s]\n",
      "Generating channels: 100%|███████████████████████████████████████████████████████| 1891/1891 [00:00<00:00, 5826.33it/s]\n"
     ]
    },
    {
     "name": "stdout",
     "output_type": "stream",
     "text": [
      "\n",
      "BS-BS Channels\n"
     ]
    },
    {
     "name": "stderr",
     "output_type": "stream",
     "text": [
      "Reading ray-tracing: 100%|███████████████████████████████████████████████████████████████████████| 1/1 [00:00<?, ?it/s]\n",
      "Generating channels: 100%|██████████████████████████████████████████████████████████████| 1/1 [00:00<00:00, 998.17it/s]\n"
     ]
    },
    {
     "name": "stdout",
     "output_type": "stream",
     "text": [
      "\n",
      "Scene 6/10\n",
      "\n",
      "Basestation 1\n",
      "\n",
      "UE-BS Channels\n"
     ]
    },
    {
     "name": "stderr",
     "output_type": "stream",
     "text": [
      "Reading ray-tracing: 100%|██████████████████████████████████████████████████████| 3782/3782 [00:00<00:00, 61855.32it/s]\n",
      "Generating channels: 100%|███████████████████████████████████████████████████████| 1891/1891 [00:00<00:00, 6268.81it/s]\n"
     ]
    },
    {
     "name": "stdout",
     "output_type": "stream",
     "text": [
      "\n",
      "BS-BS Channels\n"
     ]
    },
    {
     "name": "stderr",
     "output_type": "stream",
     "text": [
      "Reading ray-tracing: 100%|██████████████████████████████████████████████████████████████| 1/1 [00:00<00:00, 998.41it/s]\n",
      "Generating channels: 100%|██████████████████████████████████████████████████████████████| 1/1 [00:00<00:00, 997.93it/s]\n"
     ]
    },
    {
     "name": "stdout",
     "output_type": "stream",
     "text": [
      "\n",
      "Scene 7/10\n",
      "\n",
      "Basestation 1\n",
      "\n",
      "UE-BS Channels\n"
     ]
    },
    {
     "name": "stderr",
     "output_type": "stream",
     "text": [
      "Reading ray-tracing: 100%|██████████████████████████████████████████████████████| 3782/3782 [00:00<00:00, 66346.25it/s]\n",
      "Generating channels: 100%|███████████████████████████████████████████████████████| 1891/1891 [00:00<00:00, 6000.60it/s]\n"
     ]
    },
    {
     "name": "stdout",
     "output_type": "stream",
     "text": [
      "\n",
      "BS-BS Channels\n"
     ]
    },
    {
     "name": "stderr",
     "output_type": "stream",
     "text": [
      "Reading ray-tracing: 100%|███████████████████████████████████████████████████████████████████████| 1/1 [00:00<?, ?it/s]\n",
      "Generating channels: 100%|█████████████████████████████████████████████████████████████| 1/1 [00:00<00:00, 1001.51it/s]\n"
     ]
    },
    {
     "name": "stdout",
     "output_type": "stream",
     "text": [
      "\n",
      "Scene 8/10\n",
      "\n",
      "Basestation 1\n",
      "\n",
      "UE-BS Channels\n"
     ]
    },
    {
     "name": "stderr",
     "output_type": "stream",
     "text": [
      "Reading ray-tracing: 100%|██████████████████████████████████████████████████████| 3782/3782 [00:00<00:00, 62503.87it/s]\n",
      "Generating channels: 100%|███████████████████████████████████████████████████████| 1891/1891 [00:00<00:00, 5688.99it/s]\n"
     ]
    },
    {
     "name": "stdout",
     "output_type": "stream",
     "text": [
      "\n",
      "BS-BS Channels\n"
     ]
    },
    {
     "name": "stderr",
     "output_type": "stream",
     "text": [
      "Reading ray-tracing: 100%|██████████████████████████████████████████████████████████████| 1/1 [00:00<00:00, 999.60it/s]\n",
      "Generating channels: 100%|██████████████████████████████████████████████████████████████| 1/1 [00:00<00:00, 997.22it/s]\n"
     ]
    },
    {
     "name": "stdout",
     "output_type": "stream",
     "text": [
      "\n",
      "Scene 9/10\n",
      "\n",
      "Basestation 1\n",
      "\n",
      "UE-BS Channels\n"
     ]
    },
    {
     "name": "stderr",
     "output_type": "stream",
     "text": [
      "Reading ray-tracing: 100%|██████████████████████████████████████████████████████| 3782/3782 [00:00<00:00, 66241.80it/s]\n",
      "Generating channels: 100%|███████████████████████████████████████████████████████| 1891/1891 [00:00<00:00, 5866.09it/s]\n"
     ]
    },
    {
     "name": "stdout",
     "output_type": "stream",
     "text": [
      "\n",
      "BS-BS Channels\n"
     ]
    },
    {
     "name": "stderr",
     "output_type": "stream",
     "text": [
      "Reading ray-tracing: 100%|███████████████████████████████████████████████████████████████████████| 1/1 [00:00<?, ?it/s]\n",
      "Generating channels: 100%|██████████████████████████████████████████████████████████████| 1/1 [00:00<00:00, 999.60it/s]\n"
     ]
    },
    {
     "name": "stdout",
     "output_type": "stream",
     "text": [
      "\n",
      "Scene 10/10\n",
      "\n",
      "Basestation 1\n",
      "\n",
      "UE-BS Channels\n"
     ]
    },
    {
     "name": "stderr",
     "output_type": "stream",
     "text": [
      "Reading ray-tracing: 100%|██████████████████████████████████████████████████████| 3782/3782 [00:00<00:00, 63545.22it/s]\n",
      "Generating channels: 100%|███████████████████████████████████████████████████████| 1891/1891 [00:00<00:00, 5481.80it/s]\n"
     ]
    },
    {
     "name": "stdout",
     "output_type": "stream",
     "text": [
      "\n",
      "BS-BS Channels\n"
     ]
    },
    {
     "name": "stderr",
     "output_type": "stream",
     "text": [
      "Reading ray-tracing: 100%|█████████████████████████████████████████████████████████████| 1/1 [00:00<00:00, 1000.79it/s]\n",
      "Generating channels: 100%|█████████████████████████████████████████████████████████████| 1/1 [00:00<00:00, 1002.22it/s]\n"
     ]
    }
   ],
   "source": [
    "## Generate and inspect the dataset\n",
    "dataset = DeepMIMOv3.generate_data(parameters)"
   ]
  },
  {
   "cell_type": "code",
   "execution_count": 6,
   "id": "4e127d34",
   "metadata": {},
   "outputs": [
    {
     "data": {
      "text/plain": [
       "10"
      ]
     },
     "execution_count": 6,
     "metadata": {},
     "output_type": "execute_result"
    }
   ],
   "source": [
    "len(dataset)"
   ]
  },
  {
   "cell_type": "code",
   "execution_count": 7,
   "id": "cccdc93e",
   "metadata": {},
   "outputs": [
    {
     "data": {
      "text/plain": [
       "[{'user': {'paths': array([{'num_paths': 0, 'DoD_phi': [], 'DoD_theta': [], 'DoA_phi': [], 'DoA_theta': [], 'phase': [], 'ToA': [], 'power': [], 'LoS': []},\n",
       "          {'num_paths': 0, 'DoD_phi': [], 'DoD_theta': [], 'DoA_phi': [], 'DoA_theta': [], 'phase': [], 'ToA': [], 'power': [], 'LoS': []},\n",
       "          {'num_paths': 0, 'DoD_phi': [], 'DoD_theta': [], 'DoA_phi': [], 'DoA_theta': [], 'phase': [], 'ToA': [], 'power': [], 'LoS': []},\n",
       "          ...,\n",
       "          {'num_paths': 1, 'DoD_phi': array([-4.67836], dtype=float32), 'DoD_theta': array([90.9207], dtype=float32), 'DoA_phi': array([175.322], dtype=float32), 'DoA_theta': array([89.0793], dtype=float32), 'phase': array([3.80264], dtype=float32), 'ToA': array([1.03828e-06], dtype=float32), 'LoS': array([0.], dtype=float32), 'power': array([4.792699e-10], dtype=float32)},\n",
       "          {'num_paths': 1, 'DoD_phi': array([-4.67536], dtype=float32), 'DoD_theta': array([90.9201], dtype=float32), 'DoA_phi': array([175.325], dtype=float32), 'DoA_theta': array([89.0799], dtype=float32), 'phase': array([-114.143], dtype=float32), 'ToA': array([1.03895e-06], dtype=float32), 'LoS': array([0.], dtype=float32), 'power': array([4.786525e-10], dtype=float32)},\n",
       "          {'num_paths': 1, 'DoD_phi': array([-4.67236], dtype=float32), 'DoD_theta': array([90.9195], dtype=float32), 'DoA_phi': array([175.328], dtype=float32), 'DoA_theta': array([89.0805], dtype=float32), 'phase': array([127.908], dtype=float32), 'ToA': array([1.03961e-06], dtype=float32), 'LoS': array([0.], dtype=float32), 'power': array([4.7804644e-10], dtype=float32)}],\n",
       "         dtype=object),\n",
       "   'LoS': array([-1, -1, -1, ...,  0,  0,  0], dtype=int8),\n",
       "   'location': array([[-91.03330231, -15.37629986,   1.        ],\n",
       "          [-90.83329773, -15.37629986,   1.        ],\n",
       "          [-90.63330078, -15.37629986,   1.        ],\n",
       "          ...,\n",
       "          [286.56698608, -15.37629986,   1.        ],\n",
       "          [286.76699829, -15.37629986,   1.        ],\n",
       "          [286.9670105 , -15.37629986,   1.        ]]),\n",
       "   'distance': array([ 97.52539825,  97.33260345,  97.13980103, ..., 284.74398804,\n",
       "          284.94299316, 285.14199829]),\n",
       "   'pathloss': array([ 0.        ,  0.        ,  0.        , ..., 93.19419861,\n",
       "          93.19979858, 93.20529938]),\n",
       "   'channel': array([[[[ 0.0000000e+00+0.0000000e+00j],\n",
       "            [ 0.0000000e+00+0.0000000e+00j],\n",
       "            [ 0.0000000e+00+0.0000000e+00j],\n",
       "            ...,\n",
       "            [ 0.0000000e+00+0.0000000e+00j],\n",
       "            [ 0.0000000e+00+0.0000000e+00j],\n",
       "            [ 0.0000000e+00+0.0000000e+00j]]],\n",
       "   \n",
       "   \n",
       "          [[[ 0.0000000e+00+0.0000000e+00j],\n",
       "            [ 0.0000000e+00+0.0000000e+00j],\n",
       "            [ 0.0000000e+00+0.0000000e+00j],\n",
       "            ...,\n",
       "            [ 0.0000000e+00+0.0000000e+00j],\n",
       "            [ 0.0000000e+00+0.0000000e+00j],\n",
       "            [ 0.0000000e+00+0.0000000e+00j]]],\n",
       "   \n",
       "   \n",
       "          [[[ 0.0000000e+00+0.0000000e+00j],\n",
       "            [ 0.0000000e+00+0.0000000e+00j],\n",
       "            [ 0.0000000e+00+0.0000000e+00j],\n",
       "            ...,\n",
       "            [ 0.0000000e+00+0.0000000e+00j],\n",
       "            [ 0.0000000e+00+0.0000000e+00j],\n",
       "            [ 0.0000000e+00+0.0000000e+00j]]],\n",
       "   \n",
       "   \n",
       "          ...,\n",
       "   \n",
       "   \n",
       "          [[[ 9.6537917e-07+6.4165093e-08j],\n",
       "            [ 9.6738711e-07+1.5370968e-08j],\n",
       "            [ 9.6693032e-07-3.3462314e-08j],\n",
       "            ...,\n",
       "            [ 1.6675772e-07-9.5302988e-07j],\n",
       "            [ 1.1845604e-07-9.6023030e-07j],\n",
       "            [ 6.9852568e-08-9.6498434e-07j]]],\n",
       "   \n",
       "   \n",
       "          [[[-3.9547123e-07-8.8230991e-07j],\n",
       "            [-4.3945982e-07-8.6124521e-07j],\n",
       "            [-4.8233022e-07-8.3798915e-07j],\n",
       "            ...,\n",
       "            [-9.1974050e-07+2.9823755e-07j],\n",
       "            [-9.0353137e-07+3.4423735e-07j],\n",
       "            [-8.8502321e-07+3.8936125e-07j]]],\n",
       "   \n",
       "   \n",
       "          [[[-5.9367386e-07+7.6238814e-07j],\n",
       "            [-5.5449988e-07+7.9133702e-07j],\n",
       "            [-5.1391680e-07+8.1827494e-07j],\n",
       "            ...,\n",
       "            [ 6.9344634e-07+6.7291643e-07j],\n",
       "            [ 7.2647617e-07+6.3711599e-07j],\n",
       "            [ 7.5765985e-07+5.9969653e-07j]]]], dtype=complex64)},\n",
       "  'basestation': {'paths': array([{'num_paths': 2, 'DoD_phi': array([   0.   , -141.952], dtype=float32), 'DoD_theta': array([180.    ,  89.9997], dtype=float32), 'DoA_phi': array([-180.  , -141.95], dtype=float32), 'DoA_theta': array([180.    ,  89.9997], dtype=float32), 'phase': array([  68.6712, -129.443 ], dtype=float32), 'ToA': array([3.83724e-08, 3.63243e-07], dtype=float32), 'LoS': array([0., 0.], dtype=float32), 'power': array([5.4408858e-08, 2.8096997e-10], dtype=float32)}],\n",
       "         dtype=object),\n",
       "   'LoS': [0.0],\n",
       "   'location': array([[ 3., 10.,  6.]]),\n",
       "   'distance': array([0.]),\n",
       "   'pathloss': array([73.25530243]),\n",
       "   'channel': [array([[[ 3.27880882e-06+9.03047146e-06j],\n",
       "            [-4.22006268e-06-1.01746392e-05j],\n",
       "            [ 3.27882920e-06+9.03045542e-06j],\n",
       "            ...,\n",
       "            [-4.21982438e-06-1.01748453e-05j],\n",
       "            [ 3.27911451e-06+9.03023098e-06j],\n",
       "            [-4.21980736e-06-1.01748600e-05j]],\n",
       "    \n",
       "           [[-4.22006268e-06-1.01746392e-05j],\n",
       "            [ 3.27882920e-06+9.03045542e-06j],\n",
       "            [-4.22004567e-06-1.01746539e-05j],\n",
       "            ...,\n",
       "            [ 3.27911451e-06+9.03023098e-06j],\n",
       "            [-4.21980736e-06-1.01748600e-05j],\n",
       "            [ 3.27913490e-06+9.03021495e-06j]],\n",
       "    \n",
       "           [[ 3.27882920e-06+9.03045542e-06j],\n",
       "            [-4.22004567e-06-1.01746539e-05j],\n",
       "            [ 3.27884957e-06+9.03043939e-06j],\n",
       "            ...,\n",
       "            [-4.21980736e-06-1.01748600e-05j],\n",
       "            [ 3.27913490e-06+9.03021495e-06j],\n",
       "            [-4.21979033e-06-1.01748747e-05j]],\n",
       "    \n",
       "           ...,\n",
       "    \n",
       "           [[-4.21982438e-06-1.01748453e-05j],\n",
       "            [ 3.27911451e-06+9.03023098e-06j],\n",
       "            [-4.21980736e-06-1.01748600e-05j],\n",
       "            ...,\n",
       "            [ 3.27939993e-06+9.03000665e-06j],\n",
       "            [-4.21956895e-06-1.01750660e-05j],\n",
       "            [ 3.27942032e-06+9.02999063e-06j]],\n",
       "    \n",
       "           [[ 3.27911451e-06+9.03023098e-06j],\n",
       "            [-4.21980736e-06-1.01748600e-05j],\n",
       "            [ 3.27913490e-06+9.03021495e-06j],\n",
       "            ...,\n",
       "            [-4.21956895e-06-1.01750660e-05j],\n",
       "            [ 3.27942032e-06+9.02999063e-06j],\n",
       "            [-4.21955192e-06-1.01750807e-05j]],\n",
       "    \n",
       "           [[-4.21980736e-06-1.01748600e-05j],\n",
       "            [ 3.27913490e-06+9.03021495e-06j],\n",
       "            [-4.21979033e-06-1.01748747e-05j],\n",
       "            ...,\n",
       "            [ 3.27942032e-06+9.02999063e-06j],\n",
       "            [-4.21955192e-06-1.01750807e-05j],\n",
       "            [ 3.27944071e-06+9.02997461e-06j]]])]},\n",
       "  'location': array([ 3., 10.,  6.])}]"
      ]
     },
     "execution_count": 7,
     "metadata": {},
     "output_type": "execute_result"
    }
   ],
   "source": [
    "dataset[0]"
   ]
  },
  {
   "cell_type": "markdown",
   "id": "5b4e72d4",
   "metadata": {},
   "source": [
    "# 사용자 접근 데이터"
   ]
  },
  {
   "cell_type": "code",
   "execution_count": 8,
   "id": "57828d31",
   "metadata": {},
   "outputs": [
    {
     "name": "stdout",
     "output_type": "stream",
     "text": [
      "dict_keys(['paths', 'LoS', 'location', 'distance', 'pathloss', 'channel'])\n"
     ]
    }
   ],
   "source": [
    "user_data = dataset[0][0]['user']\n",
    "print(user_data.keys())"
   ]
  },
  {
   "cell_type": "markdown",
   "id": "bc5a3b0c",
   "metadata": {},
   "source": [
    "# 사용자 채널 정보 확인"
   ]
  },
  {
   "cell_type": "code",
   "execution_count": 9,
   "id": "23b2884b",
   "metadata": {},
   "outputs": [
    {
     "name": "stdout",
     "output_type": "stream",
     "text": [
      "(1891, 1, 32, 1)\n"
     ]
    }
   ],
   "source": [
    "channel = dataset[0][0]['user']['channel']\n",
    "print(channel.shape)  # (user, BS antennas, subcarriers, ... 등)\n"
   ]
  },
  {
   "cell_type": "markdown",
   "id": "2b079846",
   "metadata": {},
   "source": [
    "# 사용자 위치 정보"
   ]
  },
  {
   "cell_type": "code",
   "execution_count": 10,
   "id": "84337e94",
   "metadata": {},
   "outputs": [
    {
     "name": "stdout",
     "output_type": "stream",
     "text": [
      "(1891, 3)\n",
      "[[-91.03330231 -15.37629986   1.        ]\n",
      " [-90.83329773 -15.37629986   1.        ]\n",
      " [-90.63330078 -15.37629986   1.        ]\n",
      " [-90.4332962  -15.37629986   1.        ]]\n"
     ]
    }
   ],
   "source": [
    "location = dataset[0][0]['user']['location']\n",
    "print(location.shape)      # (사용자 수, 3)\n",
    "print(location[0:4])         # 첫 번째 사용자의 (x, y, z)"
   ]
  },
  {
   "cell_type": "markdown",
   "id": "60e9a9b6",
   "metadata": {},
   "source": [
    "# 경로정보"
   ]
  },
  {
   "cell_type": "code",
   "execution_count": 11,
   "id": "79cde8ee",
   "metadata": {},
   "outputs": [
    {
     "name": "stdout",
     "output_type": "stream",
     "text": [
      "1891\n",
      "{'num_paths': 0, 'DoD_phi': [], 'DoD_theta': [], 'DoA_phi': [], 'DoA_theta': [], 'phase': [], 'ToA': [], 'power': [], 'LoS': []}\n"
     ]
    }
   ],
   "source": [
    "paths = dataset[0][0]['user']['paths']\n",
    "#사용자 수\n",
    "print(len(paths))\n",
    "# 첫 번째 사용자 경로 정보\n",
    "print(paths[0])"
   ]
  },
  {
   "cell_type": "markdown",
   "id": "f2242869",
   "metadata": {},
   "source": [
    "# 기지국 정보"
   ]
  },
  {
   "cell_type": "code",
   "execution_count": 12,
   "id": "2900e481",
   "metadata": {},
   "outputs": [
    {
     "name": "stdout",
     "output_type": "stream",
     "text": [
      "dict_keys(['paths', 'LoS', 'location', 'distance', 'pathloss', 'channel'])\n"
     ]
    }
   ],
   "source": [
    "bs_data = dataset[0][0]['basestation']\n",
    "print(bs_data.keys())\n"
   ]
  },
  {
   "cell_type": "markdown",
   "id": "c063ea95",
   "metadata": {},
   "source": [
    "# Scene 및 사용자 수"
   ]
  },
  {
   "cell_type": "code",
   "execution_count": 13,
   "id": "a20df92d",
   "metadata": {},
   "outputs": [
    {
     "name": "stdout",
     "output_type": "stream",
     "text": [
      "Scene 0: 1891 users\n"
     ]
    }
   ],
   "source": [
    "for i, scene in enumerate(dataset[0]):\n",
    "    user_locs = scene['user']['location']\n",
    "    print(f\"Scene {i}: {len(user_locs)} users\")"
   ]
  },
  {
   "cell_type": "markdown",
   "id": "b38f71e1",
   "metadata": {},
   "source": [
    "# 채널 수"
   ]
  },
  {
   "cell_type": "code",
   "execution_count": 14,
   "id": "cbbee52e",
   "metadata": {},
   "outputs": [
    {
     "data": {
      "text/plain": [
       "1891"
      ]
     },
     "execution_count": 14,
     "metadata": {},
     "output_type": "execute_result"
    }
   ],
   "source": [
    "len(dataset[0][0]['user']['channel'])"
   ]
  },
  {
   "cell_type": "code",
   "execution_count": 15,
   "id": "2d474195",
   "metadata": {},
   "outputs": [
    {
     "name": "stdout",
     "output_type": "stream",
     "text": [
      "{'num_paths': 0, 'DoD_phi': [], 'DoD_theta': [], 'DoA_phi': [], 'DoA_theta': [], 'phase': [], 'ToA': [], 'power': [], 'LoS': []}\n"
     ]
    }
   ],
   "source": [
    "print(dataset[0][0]['user']['paths'][0])"
   ]
  },
  {
   "cell_type": "code",
   "execution_count": 20,
   "id": "73df9912",
   "metadata": {},
   "outputs": [
    {
     "name": "stdout",
     "output_type": "stream",
     "text": [
      "(1, 32, 1)\n"
     ]
    }
   ],
   "source": [
    "scene = dataset[0][0] # scene 0\n",
    "ue_idx = 0 # 첫 번째 사용자\n",
    "channel = scene['user']['channel'][ue_idx]\n",
    "print(channel.shape)"
   ]
  },
  {
   "cell_type": "markdown",
   "id": "88f3d7c7",
   "metadata": {},
   "source": [
    "# Time-Prediction 시작\n",
    "## Time Series 형태로 변환"
   ]
  },
  {
   "cell_type": "code",
   "execution_count": 21,
   "id": "43cc1865",
   "metadata": {},
   "outputs": [],
   "source": [
    "ue_idx = 0\n",
    "channel_sequence = []\n",
    "\n",
    "for scene in dataset[0]:  # dataset[0] = 전체 씬 리스트\n",
    "    ch = scene['user']['channel'][ue_idx]  # (1, 32, 1)\n",
    "    # flatten -> 3차원을 1차원으로\n",
    "    ch = ch.flatten()  # 예: (32,)\n",
    "    channel_sequence.append(ch)\n",
    "\n",
    "channel_sequence = np.stack(channel_sequence)  # (T, features)\n"
   ]
  },
  {
   "cell_type": "code",
   "execution_count": 22,
   "id": "e454ee31",
   "metadata": {},
   "outputs": [
    {
     "name": "stdout",
     "output_type": "stream",
     "text": [
      "[[0.+0.j 0.+0.j 0.+0.j 0.+0.j 0.+0.j 0.+0.j 0.+0.j 0.+0.j 0.+0.j 0.+0.j\n",
      "  0.+0.j 0.+0.j 0.+0.j 0.+0.j 0.+0.j 0.+0.j 0.+0.j 0.+0.j 0.+0.j 0.+0.j\n",
      "  0.+0.j 0.+0.j 0.+0.j 0.+0.j 0.+0.j 0.+0.j 0.+0.j 0.+0.j 0.+0.j 0.+0.j\n",
      "  0.+0.j 0.+0.j]]\n"
     ]
    }
   ],
   "source": [
    "print(channel_sequence)"
   ]
  },
  {
   "cell_type": "code",
   "execution_count": 23,
   "id": "f73fab40",
   "metadata": {},
   "outputs": [
    {
     "name": "stdout",
     "output_type": "stream",
     "text": [
      "0\n"
     ]
    }
   ],
   "source": [
    "print(dataset[0][0]['user']['paths'][0]['num_paths'])\n"
   ]
  },
  {
   "cell_type": "code",
   "execution_count": 24,
   "id": "6d90b762",
   "metadata": {},
   "outputs": [
    {
     "name": "stdout",
     "output_type": "stream",
     "text": [
      "dict_keys(['user', 'basestation', 'location'])\n"
     ]
    }
   ],
   "source": [
    "print(dataset[0][0].keys())\n"
   ]
  },
  {
   "cell_type": "markdown",
   "id": "8449a694",
   "metadata": {},
   "source": [
    "# LWM을 가져와서 예측하기"
   ]
  },
  {
   "cell_type": "code",
   "execution_count": 34,
   "id": "07c79a7e",
   "metadata": {},
   "outputs": [
    {
     "ename": "ValueError",
     "evalue": "axes don't match array",
     "output_type": "error",
     "traceback": [
      "\u001b[1;31m---------------------------------------------------------------------------\u001b[0m",
      "\u001b[1;31mValueError\u001b[0m                                Traceback (most recent call last)",
      "Cell \u001b[1;32mIn[34], line 37\u001b[0m\n\u001b[0;32m     34\u001b[0m     channels\u001b[38;5;241m.\u001b[39mappend(np\u001b[38;5;241m.\u001b[39mstack(user_channels))  \u001b[38;5;66;03m# (user, antenna) shape로 stack\u001b[39;00m\n\u001b[0;32m     36\u001b[0m \u001b[38;5;66;03m# (scene, user, antenna) → (user, scene, antenna)\u001b[39;00m\n\u001b[1;32m---> 37\u001b[0m channel_data \u001b[38;5;241m=\u001b[39m np\u001b[38;5;241m.\u001b[39mstack(channels, axis\u001b[38;5;241m=\u001b[39m\u001b[38;5;241m0\u001b[39m)\u001b[38;5;241m.\u001b[39mtranspose(\u001b[38;5;241m1\u001b[39m, \u001b[38;5;241m0\u001b[39m, \u001b[38;5;241m2\u001b[39m)  \u001b[38;5;66;03m# → (사용자 수, 10, 32)\u001b[39;00m\n\u001b[0;32m     38\u001b[0m batch_size \u001b[38;5;241m=\u001b[39m channel_data\u001b[38;5;241m.\u001b[39mshape[\u001b[38;5;241m0\u001b[39m]  \u001b[38;5;66;03m# 사용자 수 기반으로 설정\u001b[39;00m\n\u001b[0;32m     40\u001b[0m \u001b[38;5;66;03m# 아래코드는 dumy 채널 데이터였음\u001b[39;00m\n\u001b[0;32m     41\u001b[0m \u001b[38;5;66;03m# channel_data = np.random.randn(batch_size, seq_len, element_length).astype(np.float32)\u001b[39;00m\n",
      "\u001b[1;31mValueError\u001b[0m: axes don't match array"
     ]
    }
   ],
   "source": [
    "## 데이터 준비 예시\n",
    "\n",
    "import torch\n",
    "import numpy as np\n",
    "\n",
    "# 예시: shape (batch, seq_len, element_length)\n",
    "# element_length = 채널 real + imag = 예: 64\n",
    "# seq_len = 예: 10개 시점\n",
    "# batch_size = 사용자 수\n",
    "\n",
    "# batch_size가 커질수록 정확도 하락\n",
    "seq_len = 10 # 총 10개 time step ex(scene 0 ~ 9)\n",
    "element_length = 64 # 채널 real + imag\n",
    "\n",
    "# dummy channel data (여기에 실제 채널 데이터 사용)\n",
    "channels = []  # 전체 scene 채널을 모을 리스트\n",
    "\n",
    "for scene_idx in range(10):  # scene 0 ~ 9\n",
    "    user_channels = [] # 해당 scene의 모든 사용자 채널 저장\n",
    "\n",
    "    # dataset[scene_idx]에서 한 사용자의 딕셔너리는\n",
    "    # {'user': {...}, 'basestation': {...}} 구조\n",
    "    for user_dict in dataset[scene_idx]:  # 각 scene의 사용자 순회\n",
    "        # channel = user_dict['channel']  # ← 이것 때문에 KeyError 발생\n",
    "        channel = user_dict['user']['channel']  # 실제 데이터 구조에 맞춰 수정\n",
    "\n",
    "        # (1) shape 확인 후 squeeze\n",
    "        # 보통 ( something, 1, something, 1 ) 형태라면 이렇게:\n",
    "        channel = channel.squeeze(1).squeeze(-1)  # → (32,) 형태로 변형\n",
    "        # (2) 사용자 채널 리스트에 누적\n",
    "        user_channels.append(channel)\n",
    "\n",
    "    # scene 하나(10개 중 1개)에 대한 \"모든 사용자\" 채널을 stack\n",
    "    channels.append(np.stack(user_channels))  # (user, antenna) shape로 stack\n",
    "\n",
    "# (scene, user, antenna) → (user, scene, antenna)\n",
    "channel_data = np.stack(channels, axis=0).transpose(1, 0, 2)  # → (사용자 수, 10, 32)\n",
    "batch_size = channel_data.shape[0]  # 사용자 수 기반으로 설정\n",
    "\n",
    "# 아래코드는 dumy 채널 데이터였음\n",
    "# channel_data = np.random.randn(batch_size, seq_len, element_length).astype(np.float32)\n",
    "\n",
    "input_ids = torch.tensor(channel_data[:, :seq_len-1, :])       # t=0~(n-2)\n",
    "target_ids = torch.tensor(channel_data[:, seq_len-1:seq_len, :])  # t=(n-1)\n",
    "masked_pos = torch.full((batch_size, 1), seq_len-2)  # 마지막 step 위치\n"
   ]
  },
  {
   "cell_type": "code",
   "execution_count": 29,
   "id": "5c26ff32",
   "metadata": {},
   "outputs": [
    {
     "name": "stdout",
     "output_type": "stream",
     "text": [
      "<class 'dict'>\n"
     ]
    }
   ],
   "source": [
    "print(type(user))"
   ]
  },
  {
   "cell_type": "code",
   "execution_count": 30,
   "id": "5538e8bb",
   "metadata": {},
   "outputs": [
    {
     "name": "stdout",
     "output_type": "stream",
     "text": [
      "{'user': {'paths': array([{'num_paths': 0, 'DoD_phi': [], 'DoD_theta': [], 'DoA_phi': [], 'DoA_theta': [], 'phase': [], 'ToA': [], 'power': [], 'LoS': []},\n",
      "       {'num_paths': 0, 'DoD_phi': [], 'DoD_theta': [], 'DoA_phi': [], 'DoA_theta': [], 'phase': [], 'ToA': [], 'power': [], 'LoS': []},\n",
      "       {'num_paths': 0, 'DoD_phi': [], 'DoD_theta': [], 'DoA_phi': [], 'DoA_theta': [], 'phase': [], 'ToA': [], 'power': [], 'LoS': []},\n",
      "       ...,\n",
      "       {'num_paths': 1, 'DoD_phi': array([-4.67836], dtype=float32), 'DoD_theta': array([90.9207], dtype=float32), 'DoA_phi': array([175.322], dtype=float32), 'DoA_theta': array([89.0793], dtype=float32), 'phase': array([3.80264], dtype=float32), 'ToA': array([1.03828e-06], dtype=float32), 'LoS': array([0.], dtype=float32), 'power': array([4.792699e-10], dtype=float32)},\n",
      "       {'num_paths': 1, 'DoD_phi': array([-4.67536], dtype=float32), 'DoD_theta': array([90.9201], dtype=float32), 'DoA_phi': array([175.325], dtype=float32), 'DoA_theta': array([89.0799], dtype=float32), 'phase': array([-114.143], dtype=float32), 'ToA': array([1.03895e-06], dtype=float32), 'LoS': array([0.], dtype=float32), 'power': array([4.786525e-10], dtype=float32)},\n",
      "       {'num_paths': 1, 'DoD_phi': array([-4.67236], dtype=float32), 'DoD_theta': array([90.9195], dtype=float32), 'DoA_phi': array([175.328], dtype=float32), 'DoA_theta': array([89.0805], dtype=float32), 'phase': array([127.908], dtype=float32), 'ToA': array([1.03961e-06], dtype=float32), 'LoS': array([0.], dtype=float32), 'power': array([4.7804644e-10], dtype=float32)}],\n",
      "      dtype=object), 'LoS': array([-1, -1, -1, ...,  0,  0,  0], dtype=int8), 'location': array([[-91.03330231, -15.37629986,   1.        ],\n",
      "       [-90.83329773, -15.37629986,   1.        ],\n",
      "       [-90.63330078, -15.37629986,   1.        ],\n",
      "       ...,\n",
      "       [286.56698608, -15.37629986,   1.        ],\n",
      "       [286.76699829, -15.37629986,   1.        ],\n",
      "       [286.9670105 , -15.37629986,   1.        ]]), 'distance': array([ 97.52539825,  97.33260345,  97.13980103, ..., 284.74398804,\n",
      "       284.94299316, 285.14199829]), 'pathloss': array([ 0.        ,  0.        ,  0.        , ..., 93.19419861,\n",
      "       93.19979858, 93.20529938]), 'channel': array([[[[ 0.0000000e+00+0.0000000e+00j],\n",
      "         [ 0.0000000e+00+0.0000000e+00j],\n",
      "         [ 0.0000000e+00+0.0000000e+00j],\n",
      "         ...,\n",
      "         [ 0.0000000e+00+0.0000000e+00j],\n",
      "         [ 0.0000000e+00+0.0000000e+00j],\n",
      "         [ 0.0000000e+00+0.0000000e+00j]]],\n",
      "\n",
      "\n",
      "       [[[ 0.0000000e+00+0.0000000e+00j],\n",
      "         [ 0.0000000e+00+0.0000000e+00j],\n",
      "         [ 0.0000000e+00+0.0000000e+00j],\n",
      "         ...,\n",
      "         [ 0.0000000e+00+0.0000000e+00j],\n",
      "         [ 0.0000000e+00+0.0000000e+00j],\n",
      "         [ 0.0000000e+00+0.0000000e+00j]]],\n",
      "\n",
      "\n",
      "       [[[ 0.0000000e+00+0.0000000e+00j],\n",
      "         [ 0.0000000e+00+0.0000000e+00j],\n",
      "         [ 0.0000000e+00+0.0000000e+00j],\n",
      "         ...,\n",
      "         [ 0.0000000e+00+0.0000000e+00j],\n",
      "         [ 0.0000000e+00+0.0000000e+00j],\n",
      "         [ 0.0000000e+00+0.0000000e+00j]]],\n",
      "\n",
      "\n",
      "       ...,\n",
      "\n",
      "\n",
      "       [[[ 9.6537917e-07+6.4165093e-08j],\n",
      "         [ 9.6738711e-07+1.5370968e-08j],\n",
      "         [ 9.6693032e-07-3.3462314e-08j],\n",
      "         ...,\n",
      "         [ 1.6675772e-07-9.5302988e-07j],\n",
      "         [ 1.1845604e-07-9.6023030e-07j],\n",
      "         [ 6.9852568e-08-9.6498434e-07j]]],\n",
      "\n",
      "\n",
      "       [[[-3.9547123e-07-8.8230991e-07j],\n",
      "         [-4.3945982e-07-8.6124521e-07j],\n",
      "         [-4.8233022e-07-8.3798915e-07j],\n",
      "         ...,\n",
      "         [-9.1974050e-07+2.9823755e-07j],\n",
      "         [-9.0353137e-07+3.4423735e-07j],\n",
      "         [-8.8502321e-07+3.8936125e-07j]]],\n",
      "\n",
      "\n",
      "       [[[-5.9367386e-07+7.6238814e-07j],\n",
      "         [-5.5449988e-07+7.9133702e-07j],\n",
      "         [-5.1391680e-07+8.1827494e-07j],\n",
      "         ...,\n",
      "         [ 6.9344634e-07+6.7291643e-07j],\n",
      "         [ 7.2647617e-07+6.3711599e-07j],\n",
      "         [ 7.5765985e-07+5.9969653e-07j]]]], dtype=complex64)}, 'basestation': {'paths': array([{'num_paths': 2, 'DoD_phi': array([   0.   , -141.952], dtype=float32), 'DoD_theta': array([180.    ,  89.9997], dtype=float32), 'DoA_phi': array([-180.  , -141.95], dtype=float32), 'DoA_theta': array([180.    ,  89.9997], dtype=float32), 'phase': array([  68.6712, -129.443 ], dtype=float32), 'ToA': array([3.83724e-08, 3.63243e-07], dtype=float32), 'LoS': array([0., 0.], dtype=float32), 'power': array([5.4408858e-08, 2.8096997e-10], dtype=float32)}],\n",
      "      dtype=object), 'LoS': [0.0], 'location': array([[ 3., 10.,  6.]]), 'distance': array([0.]), 'pathloss': array([73.25530243]), 'channel': [array([[[ 3.27880882e-06+9.03047146e-06j],\n",
      "        [-4.22006268e-06-1.01746392e-05j],\n",
      "        [ 3.27882920e-06+9.03045542e-06j],\n",
      "        ...,\n",
      "        [-4.21982438e-06-1.01748453e-05j],\n",
      "        [ 3.27911451e-06+9.03023098e-06j],\n",
      "        [-4.21980736e-06-1.01748600e-05j]],\n",
      "\n",
      "       [[-4.22006268e-06-1.01746392e-05j],\n",
      "        [ 3.27882920e-06+9.03045542e-06j],\n",
      "        [-4.22004567e-06-1.01746539e-05j],\n",
      "        ...,\n",
      "        [ 3.27911451e-06+9.03023098e-06j],\n",
      "        [-4.21980736e-06-1.01748600e-05j],\n",
      "        [ 3.27913490e-06+9.03021495e-06j]],\n",
      "\n",
      "       [[ 3.27882920e-06+9.03045542e-06j],\n",
      "        [-4.22004567e-06-1.01746539e-05j],\n",
      "        [ 3.27884957e-06+9.03043939e-06j],\n",
      "        ...,\n",
      "        [-4.21980736e-06-1.01748600e-05j],\n",
      "        [ 3.27913490e-06+9.03021495e-06j],\n",
      "        [-4.21979033e-06-1.01748747e-05j]],\n",
      "\n",
      "       ...,\n",
      "\n",
      "       [[-4.21982438e-06-1.01748453e-05j],\n",
      "        [ 3.27911451e-06+9.03023098e-06j],\n",
      "        [-4.21980736e-06-1.01748600e-05j],\n",
      "        ...,\n",
      "        [ 3.27939993e-06+9.03000665e-06j],\n",
      "        [-4.21956895e-06-1.01750660e-05j],\n",
      "        [ 3.27942032e-06+9.02999063e-06j]],\n",
      "\n",
      "       [[ 3.27911451e-06+9.03023098e-06j],\n",
      "        [-4.21980736e-06-1.01748600e-05j],\n",
      "        [ 3.27913490e-06+9.03021495e-06j],\n",
      "        ...,\n",
      "        [-4.21956895e-06-1.01750660e-05j],\n",
      "        [ 3.27942032e-06+9.02999063e-06j],\n",
      "        [-4.21955192e-06-1.01750807e-05j]],\n",
      "\n",
      "       [[-4.21980736e-06-1.01748600e-05j],\n",
      "        [ 3.27913490e-06+9.03021495e-06j],\n",
      "        [-4.21979033e-06-1.01748747e-05j],\n",
      "        ...,\n",
      "        [ 3.27942032e-06+9.02999063e-06j],\n",
      "        [-4.21955192e-06-1.01750807e-05j],\n",
      "        [ 3.27944071e-06+9.02997461e-06j]]])]}, 'location': array([ 3., 10.,  6.])}\n"
     ]
    }
   ],
   "source": [
    "print(user)"
   ]
  },
  {
   "cell_type": "code",
   "execution_count": 32,
   "id": "bbacd6aa",
   "metadata": {},
   "outputs": [
    {
     "name": "stdout",
     "output_type": "stream",
     "text": [
      "{'user': {'paths': array([{'num_paths': 0, 'DoD_phi': [], 'DoD_theta': [], 'DoA_phi': [], 'DoA_theta': [], 'phase': [], 'ToA': [], 'power': [], 'LoS': []},\n",
      "       {'num_paths': 0, 'DoD_phi': [], 'DoD_theta': [], 'DoA_phi': [], 'DoA_theta': [], 'phase': [], 'ToA': [], 'power': [], 'LoS': []},\n",
      "       {'num_paths': 0, 'DoD_phi': [], 'DoD_theta': [], 'DoA_phi': [], 'DoA_theta': [], 'phase': [], 'ToA': [], 'power': [], 'LoS': []},\n",
      "       ...,\n",
      "       {'num_paths': 1, 'DoD_phi': array([-4.67836], dtype=float32), 'DoD_theta': array([90.9207], dtype=float32), 'DoA_phi': array([175.322], dtype=float32), 'DoA_theta': array([89.0793], dtype=float32), 'phase': array([3.80264], dtype=float32), 'ToA': array([1.03828e-06], dtype=float32), 'LoS': array([0.], dtype=float32), 'power': array([4.792699e-10], dtype=float32)},\n",
      "       {'num_paths': 1, 'DoD_phi': array([-4.67536], dtype=float32), 'DoD_theta': array([90.9201], dtype=float32), 'DoA_phi': array([175.325], dtype=float32), 'DoA_theta': array([89.0799], dtype=float32), 'phase': array([-114.143], dtype=float32), 'ToA': array([1.03895e-06], dtype=float32), 'LoS': array([0.], dtype=float32), 'power': array([4.786525e-10], dtype=float32)},\n",
      "       {'num_paths': 1, 'DoD_phi': array([-4.67236], dtype=float32), 'DoD_theta': array([90.9195], dtype=float32), 'DoA_phi': array([175.328], dtype=float32), 'DoA_theta': array([89.0805], dtype=float32), 'phase': array([127.908], dtype=float32), 'ToA': array([1.03961e-06], dtype=float32), 'LoS': array([0.], dtype=float32), 'power': array([4.7804644e-10], dtype=float32)}],\n",
      "      dtype=object), 'LoS': array([-1, -1, -1, ...,  0,  0,  0], dtype=int8), 'location': array([[-91.03330231, -15.37629986,   1.        ],\n",
      "       [-90.83329773, -15.37629986,   1.        ],\n",
      "       [-90.63330078, -15.37629986,   1.        ],\n",
      "       ...,\n",
      "       [286.56698608, -15.37629986,   1.        ],\n",
      "       [286.76699829, -15.37629986,   1.        ],\n",
      "       [286.9670105 , -15.37629986,   1.        ]]), 'distance': array([ 97.52539825,  97.33260345,  97.13980103, ..., 284.74398804,\n",
      "       284.94299316, 285.14199829]), 'pathloss': array([ 0.        ,  0.        ,  0.        , ..., 93.19419861,\n",
      "       93.19979858, 93.20529938]), 'channel': array([[[[ 0.0000000e+00+0.0000000e+00j],\n",
      "         [ 0.0000000e+00+0.0000000e+00j],\n",
      "         [ 0.0000000e+00+0.0000000e+00j],\n",
      "         ...,\n",
      "         [ 0.0000000e+00+0.0000000e+00j],\n",
      "         [ 0.0000000e+00+0.0000000e+00j],\n",
      "         [ 0.0000000e+00+0.0000000e+00j]]],\n",
      "\n",
      "\n",
      "       [[[ 0.0000000e+00+0.0000000e+00j],\n",
      "         [ 0.0000000e+00+0.0000000e+00j],\n",
      "         [ 0.0000000e+00+0.0000000e+00j],\n",
      "         ...,\n",
      "         [ 0.0000000e+00+0.0000000e+00j],\n",
      "         [ 0.0000000e+00+0.0000000e+00j],\n",
      "         [ 0.0000000e+00+0.0000000e+00j]]],\n",
      "\n",
      "\n",
      "       [[[ 0.0000000e+00+0.0000000e+00j],\n",
      "         [ 0.0000000e+00+0.0000000e+00j],\n",
      "         [ 0.0000000e+00+0.0000000e+00j],\n",
      "         ...,\n",
      "         [ 0.0000000e+00+0.0000000e+00j],\n",
      "         [ 0.0000000e+00+0.0000000e+00j],\n",
      "         [ 0.0000000e+00+0.0000000e+00j]]],\n",
      "\n",
      "\n",
      "       ...,\n",
      "\n",
      "\n",
      "       [[[ 9.6537917e-07+6.4165093e-08j],\n",
      "         [ 9.6738711e-07+1.5370968e-08j],\n",
      "         [ 9.6693032e-07-3.3462314e-08j],\n",
      "         ...,\n",
      "         [ 1.6675772e-07-9.5302988e-07j],\n",
      "         [ 1.1845604e-07-9.6023030e-07j],\n",
      "         [ 6.9852568e-08-9.6498434e-07j]]],\n",
      "\n",
      "\n",
      "       [[[-3.9547123e-07-8.8230991e-07j],\n",
      "         [-4.3945982e-07-8.6124521e-07j],\n",
      "         [-4.8233022e-07-8.3798915e-07j],\n",
      "         ...,\n",
      "         [-9.1974050e-07+2.9823755e-07j],\n",
      "         [-9.0353137e-07+3.4423735e-07j],\n",
      "         [-8.8502321e-07+3.8936125e-07j]]],\n",
      "\n",
      "\n",
      "       [[[-5.9367386e-07+7.6238814e-07j],\n",
      "         [-5.5449988e-07+7.9133702e-07j],\n",
      "         [-5.1391680e-07+8.1827494e-07j],\n",
      "         ...,\n",
      "         [ 6.9344634e-07+6.7291643e-07j],\n",
      "         [ 7.2647617e-07+6.3711599e-07j],\n",
      "         [ 7.5765985e-07+5.9969653e-07j]]]], dtype=complex64)}, 'basestation': {'paths': array([{'num_paths': 2, 'DoD_phi': array([   0.   , -141.952], dtype=float32), 'DoD_theta': array([180.    ,  89.9997], dtype=float32), 'DoA_phi': array([-180.  , -141.95], dtype=float32), 'DoA_theta': array([180.    ,  89.9997], dtype=float32), 'phase': array([  68.6712, -129.443 ], dtype=float32), 'ToA': array([3.83724e-08, 3.63243e-07], dtype=float32), 'LoS': array([0., 0.], dtype=float32), 'power': array([5.4408858e-08, 2.8096997e-10], dtype=float32)}],\n",
      "      dtype=object), 'LoS': [0.0], 'location': array([[ 3., 10.,  6.]]), 'distance': array([0.]), 'pathloss': array([73.25530243]), 'channel': [array([[[ 3.27880882e-06+9.03047146e-06j],\n",
      "        [-4.22006268e-06-1.01746392e-05j],\n",
      "        [ 3.27882920e-06+9.03045542e-06j],\n",
      "        ...,\n",
      "        [-4.21982438e-06-1.01748453e-05j],\n",
      "        [ 3.27911451e-06+9.03023098e-06j],\n",
      "        [-4.21980736e-06-1.01748600e-05j]],\n",
      "\n",
      "       [[-4.22006268e-06-1.01746392e-05j],\n",
      "        [ 3.27882920e-06+9.03045542e-06j],\n",
      "        [-4.22004567e-06-1.01746539e-05j],\n",
      "        ...,\n",
      "        [ 3.27911451e-06+9.03023098e-06j],\n",
      "        [-4.21980736e-06-1.01748600e-05j],\n",
      "        [ 3.27913490e-06+9.03021495e-06j]],\n",
      "\n",
      "       [[ 3.27882920e-06+9.03045542e-06j],\n",
      "        [-4.22004567e-06-1.01746539e-05j],\n",
      "        [ 3.27884957e-06+9.03043939e-06j],\n",
      "        ...,\n",
      "        [-4.21980736e-06-1.01748600e-05j],\n",
      "        [ 3.27913490e-06+9.03021495e-06j],\n",
      "        [-4.21979033e-06-1.01748747e-05j]],\n",
      "\n",
      "       ...,\n",
      "\n",
      "       [[-4.21982438e-06-1.01748453e-05j],\n",
      "        [ 3.27911451e-06+9.03023098e-06j],\n",
      "        [-4.21980736e-06-1.01748600e-05j],\n",
      "        ...,\n",
      "        [ 3.27939993e-06+9.03000665e-06j],\n",
      "        [-4.21956895e-06-1.01750660e-05j],\n",
      "        [ 3.27942032e-06+9.02999063e-06j]],\n",
      "\n",
      "       [[ 3.27911451e-06+9.03023098e-06j],\n",
      "        [-4.21980736e-06-1.01748600e-05j],\n",
      "        [ 3.27913490e-06+9.03021495e-06j],\n",
      "        ...,\n",
      "        [-4.21956895e-06-1.01750660e-05j],\n",
      "        [ 3.27942032e-06+9.02999063e-06j],\n",
      "        [-4.21955192e-06-1.01750807e-05j]],\n",
      "\n",
      "       [[-4.21980736e-06-1.01748600e-05j],\n",
      "        [ 3.27913490e-06+9.03021495e-06j],\n",
      "        [-4.21979033e-06-1.01748747e-05j],\n",
      "        ...,\n",
      "        [ 3.27942032e-06+9.02999063e-06j],\n",
      "        [-4.21955192e-06-1.01750807e-05j],\n",
      "        [ 3.27944071e-06+9.02997461e-06j]]])]}, 'location': array([ 3., 10.,  6.])}\n"
     ]
    }
   ],
   "source": [
    "print(dataset[0][0])"
   ]
  },
  {
   "cell_type": "code",
   "execution_count": null,
   "id": "66e37a39",
   "metadata": {},
   "outputs": [],
   "source": []
  }
 ],
 "metadata": {
  "kernelspec": {
   "display_name": "Python 3 (ipykernel)",
   "language": "python",
   "name": "python3"
  },
  "language_info": {
   "codemirror_mode": {
    "name": "ipython",
    "version": 3
   },
   "file_extension": ".py",
   "mimetype": "text/x-python",
   "name": "python",
   "nbconvert_exporter": "python",
   "pygments_lexer": "ipython3",
   "version": "3.11.3"
  }
 },
 "nbformat": 4,
 "nbformat_minor": 5
}
