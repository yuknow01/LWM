{
 "cells": [
  {
   "cell_type": "markdown",
   "id": "eeacb7fd",
   "metadata": {},
   "source": [
    "## import"
   ]
  },
  {
   "cell_type": "code",
   "execution_count": 1,
   "id": "0ec90d17",
   "metadata": {},
   "outputs": [],
   "source": [
    "import torch\n",
    "import torch.nn as nn\n",
    "import torch.optim as optim\n",
    "import torchvision\n",
    "import torchvision.transforms as transforms\n",
    "from torch.utils.data import TensorDataset, DataLoader, random_split\n",
    "#LWM을 하기위한 라이브러리 가져오기\n",
    "import DeepMIMOv3\n",
    "import numpy as np\n",
    "from pprint import pprint\n",
    "import matplotlib.pyplot as plt\n",
    "import time\n",
    "\n",
    "\n",
    "plt . rcParams [ 'figure.figsize' ]  =  [ 12 ,  8 ]  # 기본 플롯 크기 설정"
   ]
  },
  {
   "cell_type": "markdown",
   "id": "38e17e0b",
   "metadata": {},
   "source": [
    "## GPU설정"
   ]
  },
  {
   "cell_type": "code",
   "execution_count": 2,
   "id": "47baa533",
   "metadata": {
    "scrolled": true
   },
   "outputs": [
    {
     "name": "stdout",
     "output_type": "stream",
     "text": [
      "cuda\n"
     ]
    }
   ],
   "source": [
    "# GPU 설정\n",
    "device = torch.device(\"cuda\" if torch.cuda.is_available() else \"cpu\")\n",
    "print(device)"
   ]
  },
  {
   "cell_type": "markdown",
   "id": "5c9e064d",
   "metadata": {},
   "source": [
    "# DeepMIMOv3 다운"
   ]
  },
  {
   "cell_type": "code",
   "execution_count": 3,
   "id": "23623e8a",
   "metadata": {},
   "outputs": [],
   "source": [
    "# pip install DeepMIMOv3 umap-learn"
   ]
  },
  {
   "cell_type": "markdown",
   "id": "19540670",
   "metadata": {},
   "source": [
    "## 파라미터 수정"
   ]
  },
  {
   "cell_type": "code",
   "execution_count": 4,
   "id": "ce5ac681",
   "metadata": {},
   "outputs": [
    {
     "name": "stdout",
     "output_type": "stream",
     "text": [
      "{'OFDM': {'RX_filter': 0,\n",
      "          'bandwidth': 0.05,\n",
      "          'selected_subcarriers': array([0]),\n",
      "          'subcarriers': 512},\n",
      " 'OFDM_channels': 1,\n",
      " 'active_BS': array([1]),\n",
      " 'bs_antenna': {'FoV': array([360, 180]),\n",
      "                'radiation_pattern': 'isotropic',\n",
      "                'rotation': array([0, 0, 0]),\n",
      "                'shape': array([8, 4]),\n",
      "                'spacing': 0.5},\n",
      " 'dataset_folder': './Raytracing_scenarios',\n",
      " 'dynamic_scenario_scenes': array([1]),\n",
      " 'enable_BS2BS': 1,\n",
      " 'enable_doppler': 0,\n",
      " 'enable_dual_polar': 0,\n",
      " 'num_paths': 5,\n",
      " 'scenario': 'O1_60',\n",
      " 'ue_antenna': {'FoV': array([360, 180]),\n",
      "                'radiation_pattern': 'isotropic',\n",
      "                'rotation': array([0, 0, 0]),\n",
      "                'shape': array([4, 2]),\n",
      "                'spacing': 0.5},\n",
      " 'user_rows': array([1]),\n",
      " 'user_subsampling': 1}\n"
     ]
    }
   ],
   "source": [
    "## Load and print the default parameters\n",
    "# bandwith: 0.05GHz(50MHz 대역폭 사용)\n",
    "parameters = DeepMIMOv3.default_params()\n",
    "pprint(parameters)"
   ]
  },
  {
   "cell_type": "code",
   "execution_count": 11,
   "id": "1f0642c1",
   "metadata": {},
   "outputs": [],
   "source": [
    "## Change parameters for the setup\n",
    "# Scenario O1_60 extracted at the dataset_folder\n",
    "#LWM 동적 시나리오 불러오기\n",
    "#자신의 LWM 파일 위치 경로 작성\n",
    "# parameters['dataset_folder'] = r'/content/drive/MyDrive/Colab Notebooks/LWM'\n",
    "scene = 10 # 장면 수\n",
    "parameters['dataset_folder'] = r'C:\\Users\\dlghd\\졸업프로젝트\\LWM'\n",
    "\n",
    "# scnario = 02_dyn_3p5 <- 다운받은 파일(동적시나리오)\n",
    "parameters['scenario'] = 'O2_dyn_3p5'\n",
    "parameters['dynamic_scenario_scenes'] = np.arange(scene) #scene 0~9\n",
    "\n",
    "# 각 사용자-기지국 채널에 대해 최대 10개 멀티패스 경로 사용\n",
    "parameters['num_paths'] = 10\n",
    "\n",
    "# User rows 1-100\n",
    "parameters['user_rows'] = np.arange(100)\n",
    "\n",
    "# Activate only the first basestation\n",
    "parameters['active_BS'] = np.array([1])\n",
    "\n",
    "parameters['activate_OFDM'] = 1\n",
    "\n",
    "parameters['OFDM']['bandwidth'] = 0.05 # 50 MHz\n",
    "parameters['OFDM']['subcarriers'] = 512 # OFDM with 512 subcarriers\n",
    "parameters['OFDM']['selected_subcarriers'] = np.arange(0, 64, 1)\n",
    "#parameters['OFDM']['subcarriers_limit'] = 64 # Keep only first 64 subcarriers\n",
    "\n",
    "parameters['ue_antenna']['shape'] = np.array([1, 1]) # Single antenna\n",
    "parameters['bs_antenna']['shape'] = np.array([1, 32]) # ULA of 32 elements\n",
    "#parameters['bs_antenna']['rotation'] = np.array([0, 30, 90]) # ULA of 32 elements\n",
    "#parameters['ue_antenna']['rotation'] = np.array([[0, 30], [30, 60], [60, 90]]) # ULA of 32 elements\n",
    "#parameters['ue_antenna']['radiation_pattern'] = 'isotropic'\n",
    "#parameters['bs_antenna']['radiation_pattern'] = 'halfwave-dipole'"
   ]
  },
  {
   "cell_type": "code",
   "execution_count": 12,
   "id": "30aa4ae2",
   "metadata": {
    "scrolled": true
   },
   "outputs": [
    {
     "name": "stdout",
     "output_type": "stream",
     "text": [
      "{'dataset_folder': 'C:\\\\Users\\\\dlghd\\\\졸업프로젝트\\\\LWM', 'scenario': 'O2_dyn_3p5', 'dynamic_scenario_scenes': array([0, 1, 2, 3, 4, 5, 6, 7, 8, 9]), 'num_paths': 10, 'active_BS': array([1]), 'user_rows': array([ 0,  1,  2,  3,  4,  5,  6,  7,  8,  9, 10, 11, 12, 13, 14, 15, 16,\n",
      "       17, 18, 19, 20, 21, 22, 23, 24, 25, 26, 27, 28, 29, 30, 31, 32, 33,\n",
      "       34, 35, 36, 37, 38, 39, 40, 41, 42, 43, 44, 45, 46, 47, 48, 49, 50,\n",
      "       51, 52, 53, 54, 55, 56, 57, 58, 59, 60, 61, 62, 63, 64, 65, 66, 67,\n",
      "       68, 69, 70, 71, 72, 73, 74, 75, 76, 77, 78, 79, 80, 81, 82, 83, 84,\n",
      "       85, 86, 87, 88, 89, 90, 91, 92, 93, 94, 95, 96, 97, 98, 99]), 'user_subsampling': 1, 'bs_antenna': {'shape': array([ 1, 32]), 'spacing': 0.5, 'rotation': array([0, 0, 0]), 'FoV': array([360, 180]), 'radiation_pattern': 'isotropic'}, 'ue_antenna': {'shape': array([1, 1]), 'spacing': 0.5, 'rotation': array([0, 0, 0]), 'FoV': array([360, 180]), 'radiation_pattern': 'isotropic'}, 'enable_doppler': 0, 'enable_dual_polar': 0, 'enable_BS2BS': 1, 'OFDM_channels': 1, 'OFDM': {'subcarriers': 512, 'selected_subcarriers': array([ 0,  1,  2,  3,  4,  5,  6,  7,  8,  9, 10, 11, 12, 13, 14, 15, 16,\n",
      "       17, 18, 19, 20, 21, 22, 23, 24, 25, 26, 27, 28, 29, 30, 31, 32, 33,\n",
      "       34, 35, 36, 37, 38, 39, 40, 41, 42, 43, 44, 45, 46, 47, 48, 49, 50,\n",
      "       51, 52, 53, 54, 55, 56, 57, 58, 59, 60, 61, 62, 63]), 'bandwidth': 0.05, 'RX_filter': 0}, 'activate_OFDM': 1}\n"
     ]
    }
   ],
   "source": [
    "print(parameters)"
   ]
  },
  {
   "cell_type": "markdown",
   "id": "3326b22d",
   "metadata": {},
   "source": [
    "## dataset 구축"
   ]
  },
  {
   "cell_type": "code",
   "execution_count": 13,
   "id": "b87a86e5",
   "metadata": {},
   "outputs": [
    {
     "name": "stderr",
     "output_type": "stream",
     "text": [
      "\r",
      "  0%|                                                                                            | 0/2 [00:00<?, ?it/s]"
     ]
    },
    {
     "name": "stdout",
     "output_type": "stream",
     "text": [
      "The following parameters seem unnecessary:\n",
      "{'activate_OFDM'}\n",
      "\n",
      "Scene 1/5\n",
      "\n",
      "Basestation 1\n",
      "\n",
      "UE-BS Channels\n"
     ]
    },
    {
     "name": "stderr",
     "output_type": "stream",
     "text": [
      "\n",
      "Reading ray-tracing:   0%|                                                                   | 0/69040 [00:00<?, ?it/s]\u001b[A\n",
      "Reading ray-tracing:   4%|██                                                   | 2688/69040 [00:00<00:02, 26597.08it/s]\u001b[A\n",
      "Reading ray-tracing:   8%|████▍                                                | 5798/69040 [00:00<00:02, 28622.78it/s]\u001b[A\n",
      "Reading ray-tracing:  13%|██████▋                                              | 8659/69040 [00:00<00:02, 27791.54it/s]\u001b[A\n",
      "Reading ray-tracing:  17%|████████▋                                           | 11565/69040 [00:00<00:02, 27920.26it/s]\u001b[A\n",
      "Reading ray-tracing:  21%|██████████▊                                         | 14358/69040 [00:00<00:02, 26840.46it/s]\u001b[A\n",
      "Reading ray-tracing:  25%|████████████▉                                       | 17114/69040 [00:00<00:01, 26819.21it/s]\u001b[A\n",
      "Reading ray-tracing:  29%|██████████████▉                                     | 19800/69040 [00:00<00:01, 26378.16it/s]\u001b[A\n",
      "Reading ray-tracing:  33%|████████████████▉                                   | 22440/69040 [00:00<00:01, 25747.34it/s]\u001b[A\n",
      "Reading ray-tracing:  36%|██████████████████▊                                 | 25018/69040 [00:00<00:01, 25633.54it/s]\u001b[A\n",
      "Reading ray-tracing:  40%|████████████████████▊                               | 27583/69040 [00:01<00:01, 24751.13it/s]\u001b[A\n",
      "Reading ray-tracing:  44%|██████████████████████▉                             | 30417/69040 [00:01<00:01, 25628.11it/s]\u001b[A\n",
      "Reading ray-tracing:  48%|████████████████████████▉                           | 33062/69040 [00:01<00:01, 25597.54it/s]\u001b[A\n",
      "Reading ray-tracing:  52%|███████████████████████████                         | 35994/69040 [00:01<00:01, 26404.23it/s]\u001b[A\n",
      "Reading ray-tracing:  56%|█████████████████████████████▏                      | 38745/69040 [00:01<00:01, 26531.91it/s]\u001b[A\n",
      "Reading ray-tracing:  60%|███████████████████████████████▎                    | 41528/69040 [00:01<00:01, 26626.54it/s]\u001b[A\n",
      "Reading ray-tracing:  64%|█████████████████████████████████▍                  | 44457/69040 [00:01<00:00, 27155.46it/s]\u001b[A\n",
      "Reading ray-tracing:  69%|███████████████████████████████████▊                | 47531/69040 [00:01<00:00, 28071.98it/s]\u001b[A\n",
      "Reading ray-tracing:  73%|█████████████████████████████████████▉              | 50385/69040 [00:01<00:00, 28107.36it/s]\u001b[A\n",
      "Reading ray-tracing:  77%|████████████████████████████████████████▎           | 53474/69040 [00:01<00:00, 28631.04it/s]\u001b[A\n",
      "Reading ray-tracing:  82%|██████████████████████████████████████████▍         | 56338/69040 [00:02<00:00, 28537.42it/s]\u001b[A\n",
      "Reading ray-tracing:  86%|████████████████████████████████████████████▉       | 59701/69040 [00:02<00:00, 29983.60it/s]\u001b[A\n",
      "Reading ray-tracing: 100%|████████████████████████████████████████████████████| 69040/69040 [00:02<00:00, 30001.44it/s]\u001b[A\n",
      "\n",
      "Generating channels:   0%|                                                                   | 0/69040 [00:00<?, ?it/s]\u001b[A\n",
      "Generating channels:   1%|▍                                                      | 523/69040 [00:00<00:13, 5128.27it/s]\u001b[A\n",
      "Generating channels:   2%|▊                                                     | 1036/69040 [00:00<00:19, 3494.42it/s]\u001b[A\n",
      "Generating channels:   2%|█                                                     | 1415/69040 [00:00<00:18, 3591.67it/s]\u001b[A\n",
      "Generating channels:   3%|█▋                                                    | 2119/69040 [00:00<00:14, 4704.12it/s]\u001b[A\n",
      "Generating channels:   4%|██                                                    | 2616/69040 [00:00<00:16, 4040.04it/s]\u001b[A\n",
      "Generating channels:   4%|██▍                                                   | 3048/69040 [00:00<00:17, 3722.56it/s]\u001b[A\n",
      "Generating channels:   5%|██▉                                                   | 3678/69040 [00:00<00:14, 4364.59it/s]\u001b[A\n",
      "Generating channels:   6%|███▎                                                  | 4204/69040 [00:00<00:14, 4579.24it/s]\u001b[A\n",
      "Generating channels:   7%|███▋                                                  | 4683/69040 [00:01<00:15, 4043.38it/s]\u001b[A\n",
      "Generating channels:   7%|███▉                                                  | 5110/69040 [00:01<00:16, 3810.28it/s]\u001b[A\n",
      "Generating channels:   9%|████▌                                                 | 5888/69040 [00:01<00:13, 4779.83it/s]\u001b[A\n",
      "Generating channels:   9%|█████                                                 | 6394/69040 [00:01<00:14, 4325.29it/s]\u001b[A\n",
      "Generating channels:  10%|█████▎                                                | 6851/69040 [00:01<00:16, 3873.70it/s]\u001b[A\n",
      "Generating channels:  11%|█████▉                                                | 7528/69040 [00:01<00:13, 4533.00it/s]\u001b[A\n",
      "Generating channels:  12%|██████▎                                               | 8032/69040 [00:01<00:13, 4655.35it/s]\u001b[A\n",
      "Generating channels:  12%|██████▋                                               | 8521/69040 [00:02<00:14, 4115.61it/s]\u001b[A\n",
      "Generating channels:  13%|███████                                               | 8958/69040 [00:02<00:14, 4086.42it/s]\u001b[A\n",
      "Generating channels:  14%|███████▌                                              | 9687/69040 [00:02<00:12, 4869.94it/s]\u001b[A\n",
      "Generating channels:  15%|███████▊                                             | 10197/69040 [00:02<00:13, 4478.99it/s]\u001b[A\n",
      "Generating channels:  15%|████████▏                                            | 10665/69040 [00:02<00:14, 4118.32it/s]\u001b[A\n",
      "Generating channels:  16%|████████▋                                            | 11341/69040 [00:02<00:12, 4743.29it/s]\u001b[A\n",
      "Generating channels:  17%|█████████▏                                           | 11888/69040 [00:02<00:11, 4894.71it/s]\u001b[A\n",
      "Generating channels:  18%|█████████▌                                           | 12395/69040 [00:02<00:12, 4385.59it/s]\u001b[A\n",
      "Generating channels:  19%|█████████▉                                           | 12942/69040 [00:02<00:12, 4624.18it/s]\u001b[A\n",
      "Generating channels:  20%|██████████▍                                          | 13565/69040 [00:03<00:11, 5039.70it/s]\u001b[A\n",
      "Generating channels:  20%|██████████▊                                          | 14087/69040 [00:03<00:12, 4567.80it/s]\u001b[A\n",
      "Generating channels:  21%|███████████▏                                         | 14563/69040 [00:03<00:12, 4300.02it/s]\u001b[A\n",
      "Generating channels:  22%|███████████▊                                         | 15320/69040 [00:03<00:10, 5126.67it/s]\u001b[A\n",
      "Generating channels:  23%|████████████▏                                        | 15856/69040 [00:03<00:11, 4728.84it/s]\u001b[A\n",
      "Generating channels:  24%|████████████▌                                        | 16349/69040 [00:03<00:12, 4305.60it/s]\u001b[A\n",
      "Generating channels:  25%|█████████████                                        | 16995/69040 [00:03<00:10, 4828.05it/s]\u001b[A\n",
      "Generating channels:  25%|█████████████▍                                       | 17542/69040 [00:03<00:10, 4969.00it/s]\u001b[A\n",
      "Generating channels:  26%|█████████████▊                                       | 18057/69040 [00:04<00:11, 4524.45it/s]\u001b[A\n",
      "Generating channels:  27%|██████████████▏                                      | 18528/69040 [00:04<00:11, 4513.42it/s]\u001b[A\n",
      "Generating channels:  28%|██████████████▊                                      | 19214/69040 [00:04<00:09, 5141.23it/s]\u001b[A\n",
      "Generating channels:  29%|███████████████▏                                     | 19745/69040 [00:04<00:10, 4632.64it/s]\u001b[A\n",
      "Generating channels:  29%|███████████████▌                                     | 20228/69040 [00:04<00:10, 4440.34it/s]\u001b[A\n",
      "Generating channels:  30%|████████████████                                     | 20992/69040 [00:04<00:09, 5231.75it/s]\u001b[A\n",
      "Generating channels:  31%|████████████████▌                                    | 21535/69040 [00:04<00:09, 4863.80it/s]\u001b[A\n",
      "Generating channels:  32%|████████████████▉                                    | 22038/69040 [00:04<00:10, 4442.77it/s]\u001b[A\n",
      "Generating channels:  33%|█████████████████▍                                   | 22683/69040 [00:05<00:09, 4932.55it/s]\u001b[A\n",
      "Generating channels:  34%|█████████████████▊                                   | 23223/69040 [00:05<00:09, 5037.03it/s]\u001b[A\n",
      "Generating channels:  34%|██████████████████▏                                  | 23742/69040 [00:05<00:10, 4443.33it/s]\u001b[A\n",
      "Generating channels:  35%|██████████████████▌                                  | 24236/69040 [00:05<00:09, 4545.98it/s]\u001b[A\n",
      "Generating channels:  36%|███████████████████▏                                 | 24938/69040 [00:05<00:08, 5179.50it/s]\u001b[A\n",
      "Generating channels:  37%|███████████████████▌                                 | 25475/69040 [00:05<00:09, 4576.90it/s]\u001b[A\n",
      "Generating channels:  38%|███████████████████▉                                 | 25957/69040 [00:05<00:09, 4442.65it/s]\u001b[A\n",
      "Generating channels:  39%|████████████████████▌                                | 26726/69040 [00:05<00:08, 5256.96it/s]\u001b[A\n",
      "Generating channels:  40%|████████████████████▉                                | 27275/69040 [00:05<00:08, 4771.11it/s]\u001b[A\n",
      "Generating channels:  40%|█████████████████████▎                               | 27775/69040 [00:06<00:09, 4555.98it/s]\u001b[A\n",
      "Generating channels:  41%|█████████████████████▉                               | 28511/69040 [00:06<00:07, 5275.45it/s]\u001b[A\n",
      "Generating channels:  42%|██████████████████████▎                              | 29062/69040 [00:06<00:08, 4934.34it/s]\u001b[A\n",
      "Generating channels:  43%|██████████████████████▋                              | 29574/69040 [00:06<00:08, 4605.04it/s]\u001b[A\n",
      "Generating channels:  44%|███████████████████████▏                             | 30218/69040 [00:06<00:07, 5051.29it/s]\u001b[A\n",
      "Generating channels:  45%|███████████████████████▋                             | 30781/69040 [00:06<00:07, 5186.82it/s]\u001b[A\n",
      "Generating channels:  45%|████████████████████████                             | 31314/69040 [00:06<00:08, 4611.91it/s]\u001b[A\n",
      "Generating channels:  46%|████████████████████████▍                            | 31795/69040 [00:06<00:08, 4568.26it/s]\u001b[A\n",
      "Generating channels:  47%|████████████████████████▉                            | 32539/69040 [00:07<00:06, 5288.36it/s]\u001b[A\n",
      "Generating channels:  48%|█████████████████████████▍                           | 33085/69040 [00:07<00:07, 4657.18it/s]\u001b[A\n",
      "Generating channels:  49%|█████████████████████████▊                           | 33574/69040 [00:07<00:07, 4540.55it/s]\u001b[A\n",
      "Generating channels:  50%|██████████████████████████▎                          | 34319/69040 [00:07<00:06, 5247.54it/s]\u001b[A\n",
      "Generating channels:  50%|██████████████████████████▊                          | 34864/69040 [00:07<00:07, 4724.85it/s]\u001b[A\n",
      "Generating channels:  51%|███████████████████████████▏                         | 35358/69040 [00:07<00:07, 4436.35it/s]\u001b[A\n",
      "Generating channels:  52%|███████████████████████████▋                         | 36097/69040 [00:07<00:06, 5138.20it/s]\u001b[A\n",
      "Generating channels:  53%|████████████████████████████                         | 36633/69040 [00:07<00:06, 4815.20it/s]\u001b[A\n",
      "Generating channels:  54%|████████████████████████████▌                        | 37132/69040 [00:08<00:07, 4493.72it/s]\u001b[A\n",
      "Generating channels:  55%|████████████████████████████▉                        | 37765/69040 [00:08<00:06, 4957.29it/s]\u001b[A\n",
      "Generating channels:  56%|█████████████████████████████▍                       | 38341/69040 [00:08<00:05, 5163.12it/s]\u001b[A\n",
      "Generating channels:  56%|█████████████████████████████▊                       | 38873/69040 [00:08<00:06, 4657.25it/s]\u001b[A\n",
      "Generating channels:  57%|██████████████████████████████▏                      | 39357/69040 [00:08<00:06, 4640.50it/s]\u001b[A\n",
      "Generating channels:  58%|██████████████████████████████▊                      | 40066/69040 [00:08<00:05, 5294.26it/s]\u001b[A\n",
      "Generating channels:  59%|███████████████████████████████▏                     | 40612/69040 [00:08<00:05, 4743.82it/s]\u001b[A\n",
      "Generating channels:  60%|███████████████████████████████▌                     | 41107/69040 [00:08<00:06, 4517.78it/s]\u001b[A\n",
      "Generating channels:  61%|████████████████████████████████                     | 41830/69040 [00:08<00:05, 5212.97it/s]\u001b[A\n",
      "Generating channels:  61%|████████████████████████████████▌                    | 42372/69040 [00:09<00:05, 4878.13it/s]\u001b[A\n",
      "Generating channels:  62%|████████████████████████████████▉                    | 42877/69040 [00:09<00:05, 4583.18it/s]\u001b[A\n",
      "Generating channels:  63%|█████████████████████████████████▍                   | 43627/69040 [00:09<00:04, 5307.13it/s]\u001b[A\n",
      "Generating channels:  64%|█████████████████████████████████▉                   | 44177/69040 [00:09<00:04, 5017.73it/s]\u001b[A\n",
      "Generating channels:  65%|██████████████████████████████████▎                  | 44694/69040 [00:09<00:05, 4609.48it/s]\u001b[A\n",
      "Generating channels:  66%|██████████████████████████████████▊                  | 45270/69040 [00:09<00:04, 4901.76it/s]\u001b[A\n",
      "Generating channels:  66%|███████████████████████████████████▏                 | 45877/69040 [00:09<00:04, 5181.12it/s]\u001b[A\n",
      "Generating channels:  67%|███████████████████████████████████▋                 | 46409/69040 [00:09<00:04, 4663.45it/s]\u001b[A\n",
      "Generating channels:  68%|███████████████████████████████████▉                 | 46893/69040 [00:10<00:04, 4695.81it/s]\u001b[A\n",
      "Generating channels:  69%|████████████████████████████████████▌                | 47580/69040 [00:10<00:04, 5281.97it/s]\u001b[A\n",
      "Generating channels:  70%|████████████████████████████████████▉                | 48124/69040 [00:10<00:04, 4713.92it/s]\u001b[A\n",
      "Generating channels:  70%|█████████████████████████████████████▎               | 48616/69040 [00:10<00:04, 4545.00it/s]\u001b[A\n",
      "Generating channels:  71%|█████████████████████████████████████▊               | 49273/69040 [00:10<00:03, 5032.71it/s]\u001b[A\n",
      "Generating channels:  72%|██████████████████████████████████████▏              | 49792/69040 [00:10<00:03, 4855.27it/s]\u001b[A\n",
      "Generating channels:  73%|██████████████████████████████████████▌              | 50289/69040 [00:10<00:04, 4417.41it/s]\u001b[A\n",
      "Generating channels:  74%|██████████████████████████████████████▉              | 50796/69040 [00:10<00:04, 4539.66it/s]\u001b[A\n",
      "Generating channels:  74%|███████████████████████████████████████▍             | 51399/69040 [00:10<00:03, 4938.03it/s]\u001b[A\n",
      "Generating channels:  75%|███████████████████████████████████████▊             | 51905/69040 [00:11<00:03, 4529.88it/s]\u001b[A\n",
      "Generating channels:  76%|████████████████████████████████████████▏            | 52372/69040 [00:11<00:03, 4438.09it/s]\u001b[A\n",
      "Generating channels:  77%|████████████████████████████████████████▋            | 52931/69040 [00:11<00:03, 4714.28it/s]\u001b[A\n",
      "Generating channels:  77%|█████████████████████████████████████████            | 53448/69040 [00:11<00:03, 4828.17it/s]\u001b[A\n",
      "Generating channels:  78%|█████████████████████████████████████████▍           | 53938/69040 [00:11<00:03, 4443.30it/s]\u001b[A\n",
      "Generating channels:  79%|█████████████████████████████████████████▊           | 54393/69040 [00:11<00:03, 4430.35it/s]\u001b[A\n",
      "Generating channels:  80%|██████████████████████████████████████████▏          | 55024/69040 [00:11<00:02, 4915.95it/s]\u001b[A\n",
      "Generating channels:  80%|██████████████████████████████████████████▌          | 55524/69040 [00:11<00:02, 4698.24it/s]\u001b[A\n",
      "Generating channels:  81%|██████████████████████████████████████████▉          | 56001/69040 [00:11<00:02, 4404.68it/s]\u001b[A\n",
      "Generating channels:  82%|███████████████████████████████████████████▎         | 56502/69040 [00:12<00:02, 4519.41it/s]\u001b[A\n",
      "Generating channels:  83%|███████████████████████████████████████████▊         | 57054/69040 [00:12<00:02, 4790.31it/s]\u001b[A\n",
      "Generating channels:  83%|████████████████████████████████████████████▏        | 57540/69040 [00:12<00:02, 4396.15it/s]\u001b[A\n",
      "Generating channels:  84%|████████████████████████████████████████████▌        | 57990/69040 [00:12<00:02, 4225.11it/s]\u001b[A\n",
      "Generating channels: 100%|█████████████████████████████████████████████████████| 69040/69040 [00:12<00:00, 5491.76it/s]\u001b[A\n"
     ]
    },
    {
     "name": "stdout",
     "output_type": "stream",
     "text": [
      "\n",
      "BS-BS Channels\n"
     ]
    },
    {
     "name": "stderr",
     "output_type": "stream",
     "text": [
      "\n",
      "Reading ray-tracing: 100%|███████████████████████████████████████████████████████████████████████| 1/1 [00:00<?, ?it/s]\u001b[A\n",
      "\n",
      "Generating channels: 100%|██████████████████████████████████████████████████████████████| 1/1 [00:00<00:00, 247.74it/s]\u001b[A\n"
     ]
    },
    {
     "name": "stdout",
     "output_type": "stream",
     "text": [
      "\n",
      "Scene 2/5\n",
      "\n",
      "Basestation 1\n",
      "\n",
      "UE-BS Channels\n"
     ]
    },
    {
     "name": "stderr",
     "output_type": "stream",
     "text": [
      "\n",
      "Reading ray-tracing:   0%|                                                                   | 0/69040 [00:00<?, ?it/s]\u001b[A\n",
      "Reading ray-tracing:   4%|██▎                                                  | 3069/69040 [00:00<00:02, 29550.10it/s]\u001b[A\n",
      "Reading ray-tracing:   9%|████▊                                                | 6270/69040 [00:00<00:02, 30745.29it/s]\u001b[A\n",
      "Reading ray-tracing:  14%|███████▏                                             | 9374/69040 [00:00<00:01, 30638.15it/s]\u001b[A\n",
      "Reading ray-tracing:  18%|█████████▎                                          | 12439/69040 [00:00<00:01, 30140.15it/s]\u001b[A\n",
      "Reading ray-tracing:  22%|███████████▋                                        | 15534/69040 [00:00<00:01, 30110.03it/s]\u001b[A\n",
      "Reading ray-tracing:  27%|█████████████▉                                      | 18546/69040 [00:00<00:01, 29633.91it/s]\u001b[A\n",
      "Reading ray-tracing:  31%|████████████████▎                                   | 21617/69040 [00:00<00:01, 29828.42it/s]\u001b[A\n",
      "Reading ray-tracing:  36%|██████████████████▋                                 | 24742/69040 [00:00<00:01, 29957.84it/s]\u001b[A\n",
      "Reading ray-tracing:  40%|████████████████████▉                               | 27739/69040 [00:00<00:01, 29653.80it/s]\u001b[A\n",
      "Reading ray-tracing:  45%|███████████████████████▏                            | 30794/69040 [00:01<00:01, 29875.02it/s]\u001b[A\n",
      "Reading ray-tracing:  49%|█████████████████████████▍                          | 33843/69040 [00:01<00:01, 30039.57it/s]\u001b[A\n",
      "Reading ray-tracing:  53%|███████████████████████████▊                        | 36931/69040 [00:01<00:01, 30098.85it/s]\u001b[A\n",
      "Reading ray-tracing:  58%|██████████████████████████████▏                     | 40091/69040 [00:01<00:00, 30514.52it/s]\u001b[A\n",
      "Reading ray-tracing:  63%|████████████████████████████████▌                   | 43257/69040 [00:01<00:00, 30842.89it/s]\u001b[A\n",
      "Reading ray-tracing:  67%|██████████████████████████████████▉                 | 46442/69040 [00:01<00:00, 30779.64it/s]\u001b[A\n",
      "Reading ray-tracing:  72%|█████████████████████████████████████▎              | 49612/69040 [00:01<00:00, 30861.01it/s]\u001b[A\n",
      "Reading ray-tracing:  76%|███████████████████████████████████████▋            | 52699/69040 [00:01<00:00, 30377.40it/s]\u001b[A\n",
      "Reading ray-tracing:  81%|█████████████████████████████████████████▉          | 55739/69040 [00:01<00:00, 30092.65it/s]\u001b[A\n",
      "Reading ray-tracing:  85%|████████████████████████████████████████████▏       | 58750/69040 [00:01<00:00, 29889.11it/s]\u001b[A\n",
      "Reading ray-tracing: 100%|████████████████████████████████████████████████████| 69040/69040 [00:02<00:00, 33153.39it/s]\u001b[A\n",
      "\n",
      "Generating channels:   0%|                                                                   | 0/69040 [00:00<?, ?it/s]\u001b[A\n",
      "Generating channels:   1%|▍                                                      | 526/69040 [00:00<00:13, 5216.92it/s]\u001b[A\n",
      "Generating channels:   2%|▊                                                     | 1048/69040 [00:00<00:16, 4000.10it/s]\u001b[A\n",
      "Generating channels:   2%|█▎                                                    | 1661/69040 [00:00<00:13, 4832.33it/s]\u001b[A\n",
      "Generating channels:   3%|█▊                                                    | 2283/69040 [00:00<00:12, 5257.32it/s]\u001b[A\n",
      "Generating channels:   4%|██▏                                                   | 2826/69040 [00:00<00:14, 4436.56it/s]\u001b[A\n",
      "Generating channels:   5%|██▌                                                   | 3297/69040 [00:00<00:14, 4480.51it/s]\u001b[A\n",
      "Generating channels:   6%|███▏                                                  | 4061/69040 [00:00<00:12, 5387.43it/s]\u001b[A\n",
      "Generating channels:   7%|███▌                                                  | 4625/69040 [00:00<00:13, 4784.37it/s]\u001b[A\n",
      "Generating channels:   7%|████                                                  | 5130/69040 [00:01<00:13, 4571.08it/s]\u001b[A\n",
      "Generating channels:   9%|████▋                                                 | 5935/69040 [00:01<00:11, 5438.74it/s]\u001b[A\n",
      "Generating channels:   9%|█████                                                 | 6504/69040 [00:01<00:12, 4864.53it/s]\u001b[A\n",
      "Generating channels:  10%|█████▍                                                | 7016/69040 [00:01<00:13, 4637.52it/s]\u001b[A\n",
      "Generating channels:  11%|██████                                                | 7812/69040 [00:01<00:11, 5466.84it/s]\u001b[A\n",
      "Generating channels:  12%|██████▌                                               | 8385/69040 [00:01<00:12, 4899.46it/s]\u001b[A\n",
      "Generating channels:  13%|██████▉                                               | 8902/69040 [00:01<00:12, 4648.44it/s]\u001b[A\n",
      "Generating channels:  14%|███████▌                                              | 9674/69040 [00:01<00:11, 5381.68it/s]\u001b[A\n",
      "Generating channels:  15%|███████▊                                             | 10238/69040 [00:02<00:12, 4898.02it/s]\u001b[A\n",
      "Generating channels:  16%|████████▎                                            | 10751/69040 [00:02<00:12, 4495.85it/s]\u001b[A\n",
      "Generating channels:  17%|████████▊                                            | 11507/69040 [00:02<00:10, 5247.36it/s]\u001b[A\n",
      "Generating channels:  17%|█████████▎                                           | 12061/69040 [00:02<00:11, 4906.22it/s]\u001b[A\n",
      "Generating channels:  18%|█████████▋                                           | 12574/69040 [00:02<00:12, 4474.06it/s]\u001b[A\n",
      "Generating channels:  19%|██████████▏                                          | 13222/69040 [00:02<00:11, 4951.54it/s]\u001b[A\n",
      "Generating channels:  20%|██████████▌                                          | 13758/69040 [00:02<00:10, 5054.12it/s]\u001b[A\n",
      "Generating channels:  21%|██████████▉                                          | 14282/69040 [00:02<00:12, 4471.72it/s]\u001b[A\n",
      "Generating channels:  21%|███████████▎                                         | 14752/69040 [00:03<00:12, 4516.92it/s]\u001b[A\n",
      "Generating channels:  22%|███████████▉                                         | 15492/69040 [00:03<00:10, 5227.80it/s]\u001b[A\n",
      "Generating channels:  23%|████████████▎                                        | 16034/69040 [00:03<00:11, 4676.12it/s]\u001b[A\n",
      "Generating channels:  24%|████████████▋                                        | 16524/69040 [00:03<00:11, 4533.26it/s]\u001b[A\n",
      "Generating channels:  25%|█████████████▎                                       | 17268/69040 [00:03<00:09, 5278.29it/s]\u001b[A\n",
      "Generating channels:  26%|█████████████▋                                       | 17818/69040 [00:03<00:10, 4779.17it/s]\u001b[A\n",
      "Generating channels:  27%|██████████████                                       | 18318/69040 [00:03<00:11, 4503.72it/s]\u001b[A\n",
      "Generating channels:  28%|██████████████▋                                      | 19077/69040 [00:03<00:09, 5249.53it/s]\u001b[A\n",
      "Generating channels:  28%|███████████████                                      | 19625/69040 [00:04<00:10, 4925.80it/s]\u001b[A\n",
      "Generating channels:  29%|███████████████▍                                     | 20136/69040 [00:04<00:10, 4451.64it/s]\u001b[A\n",
      "Generating channels:  30%|███████████████▉                                     | 20779/69040 [00:04<00:09, 4913.86it/s]\u001b[A\n",
      "Generating channels:  31%|████████████████▍                                    | 21345/69040 [00:04<00:09, 5099.63it/s]\u001b[A\n",
      "Generating channels:  32%|████████████████▊                                    | 21873/69040 [00:04<00:10, 4585.01it/s]\u001b[A\n",
      "Generating channels:  32%|█████████████████▏                                   | 22408/69040 [00:04<00:09, 4771.94it/s]\u001b[A\n",
      "Generating channels:  33%|█████████████████▋                                   | 23100/69040 [00:04<00:08, 5322.91it/s]\u001b[A\n",
      "Generating channels:  34%|██████████████████▏                                  | 23650/69040 [00:04<00:09, 4712.98it/s]\u001b[A\n",
      "Generating channels:  35%|██████████████████▌                                  | 24145/69040 [00:04<00:09, 4647.93it/s]\u001b[A\n",
      "Generating channels:  36%|███████████████████▏                                 | 24920/69040 [00:05<00:08, 5403.59it/s]\u001b[A\n",
      "Generating channels:  37%|███████████████████▌                                 | 25480/69040 [00:05<00:09, 4765.08it/s]\u001b[A\n",
      "Generating channels:  38%|███████████████████▉                                 | 25981/69040 [00:05<00:09, 4558.19it/s]\u001b[A\n",
      "Generating channels:  39%|████████████████████▌                                | 26781/69040 [00:05<00:07, 5383.06it/s]\u001b[A\n",
      "Generating channels:  40%|████████████████████▉                                | 27344/69040 [00:05<00:08, 4754.55it/s]\u001b[A\n",
      "Generating channels:  40%|█████████████████████▍                               | 27847/69040 [00:05<00:09, 4560.18it/s]\u001b[A\n",
      "Generating channels:  41%|█████████████████████▉                               | 28627/69040 [00:05<00:07, 5326.28it/s]\u001b[A\n",
      "Generating channels:  42%|██████████████████████▍                              | 29185/69040 [00:06<00:08, 4781.30it/s]\u001b[A\n",
      "Generating channels:  43%|██████████████████████▊                              | 29689/69040 [00:06<00:08, 4579.34it/s]\u001b[A\n",
      "Generating channels:  44%|███████████████████████▍                             | 30460/69040 [00:06<00:07, 5342.57it/s]\u001b[A\n",
      "Generating channels:  45%|███████████████████████▊                             | 31020/69040 [00:06<00:07, 4848.80it/s]\u001b[A\n",
      "Generating channels:  46%|████████████████████████▏                            | 31529/69040 [00:06<00:08, 4454.18it/s]\u001b[A\n",
      "Generating channels:  47%|████████████████████████▊                            | 32291/69040 [00:06<00:07, 5213.81it/s]\u001b[A\n",
      "Generating channels:  48%|█████████████████████████▏                           | 32842/69040 [00:06<00:07, 5028.48it/s]\u001b[A\n",
      "Generating channels:  48%|█████████████████████████▌                           | 33365/69040 [00:06<00:07, 4569.43it/s]\u001b[A\n",
      "Generating channels:  49%|██████████████████████████                           | 34016/69040 [00:06<00:06, 5021.60it/s]\u001b[A\n",
      "Generating channels:  50%|██████████████████████████▌                          | 34574/69040 [00:07<00:06, 5133.55it/s]\u001b[A\n",
      "Generating channels:  51%|██████████████████████████▉                          | 35104/69040 [00:07<00:07, 4552.17it/s]\u001b[A\n",
      "Generating channels:  52%|███████████████████████████▎                         | 35581/69040 [00:07<00:07, 4578.74it/s]\u001b[A\n",
      "Generating channels:  53%|███████████████████████████▊                         | 36306/69040 [00:07<00:06, 5247.32it/s]\u001b[A\n",
      "Generating channels:  53%|████████████████████████████▎                        | 36849/69040 [00:07<00:06, 4643.22it/s]\u001b[A\n",
      "Generating channels:  54%|████████████████████████████▋                        | 37337/69040 [00:07<00:07, 4454.72it/s]\u001b[A\n",
      "Generating channels:  55%|█████████████████████████████▏                       | 38075/69040 [00:07<00:05, 5187.25it/s]\u001b[A\n",
      "Generating channels:  56%|█████████████████████████████▋                       | 38617/69040 [00:07<00:06, 4757.06it/s]\u001b[A\n",
      "Generating channels:  57%|██████████████████████████████                       | 39114/69040 [00:08<00:06, 4484.49it/s]\u001b[A\n",
      "Generating channels:  58%|██████████████████████████████▌                      | 39755/69040 [00:08<00:05, 4939.09it/s]\u001b[A\n",
      "Generating channels:  58%|██████████████████████████████▉                      | 40308/69040 [00:08<00:05, 5073.63it/s]\u001b[A\n",
      "Generating channels:  59%|███████████████████████████████▎                     | 40830/69040 [00:08<00:06, 4524.17it/s]\u001b[A\n",
      "Generating channels:  60%|███████████████████████████████▊                     | 41385/69040 [00:08<00:05, 4755.51it/s]\u001b[A\n",
      "Generating channels:  61%|████████████████████████████████▎                    | 42018/69040 [00:08<00:05, 5139.14it/s]\u001b[A\n",
      "Generating channels:  62%|████████████████████████████████▋                    | 42548/69040 [00:08<00:05, 4646.39it/s]\u001b[A\n",
      "Generating channels:  62%|█████████████████████████████████                    | 43031/69040 [00:08<00:05, 4575.22it/s]\u001b[A\n",
      "Generating channels:  63%|█████████████████████████████████▌                   | 43758/69040 [00:08<00:04, 5237.93it/s]\u001b[A\n",
      "Generating channels:  64%|██████████████████████████████████                   | 44297/69040 [00:09<00:05, 4865.85it/s]\u001b[A\n",
      "Generating channels:  65%|██████████████████████████████████▍                  | 44798/69040 [00:09<00:05, 4629.11it/s]\u001b[A\n",
      "Generating channels:  66%|██████████████████████████████████▉                  | 45518/69040 [00:09<00:04, 5263.15it/s]\u001b[A\n",
      "Generating channels:  67%|███████████████████████████████████▎                 | 46059/69040 [00:09<00:04, 5032.52it/s]\u001b[A\n",
      "Generating channels:  67%|███████████████████████████████████▊                 | 46573/69040 [00:09<00:04, 4574.12it/s]\u001b[A\n",
      "Generating channels:  68%|████████████████████████████████████▏                | 47155/69040 [00:09<00:04, 4884.95it/s]\u001b[A\n",
      "Generating channels:  69%|████████████████████████████████████▋                | 47772/69040 [00:09<00:04, 5175.96it/s]\u001b[A\n",
      "Generating channels:  70%|█████████████████████████████████████                | 48302/69040 [00:09<00:04, 4695.89it/s]\u001b[A\n",
      "Generating channels:  71%|█████████████████████████████████████▍               | 48787/69040 [00:10<00:04, 4662.63it/s]\u001b[A\n",
      "Generating channels:  72%|█████████████████████████████████████▉               | 49411/69040 [00:10<00:03, 5041.84it/s]\u001b[A\n",
      "Generating channels:  72%|██████████████████████████████████████▎              | 49926/69040 [00:10<00:04, 4671.38it/s]\u001b[A\n",
      "Generating channels:  73%|██████████████████████████████████████▋              | 50405/69040 [00:10<00:04, 4420.68it/s]\u001b[A\n",
      "Generating channels:  74%|███████████████████████████████████████              | 50946/69040 [00:10<00:03, 4645.16it/s]\u001b[A\n",
      "Generating channels:  75%|███████████████████████████████████████▌             | 51518/69040 [00:10<00:03, 4920.88it/s]\u001b[A\n",
      "Generating channels:  75%|███████████████████████████████████████▉             | 52019/69040 [00:10<00:03, 4518.40it/s]\u001b[A\n",
      "Generating channels:  76%|████████████████████████████████████████▎            | 52482/69040 [00:10<00:03, 4457.28it/s]\u001b[A\n",
      "Generating channels:  77%|████████████████████████████████████████▊            | 53112/69040 [00:10<00:03, 4919.00it/s]\u001b[A\n",
      "Generating channels:  78%|█████████████████████████████████████████▏           | 53613/69040 [00:11<00:03, 4735.71it/s]\u001b[A\n",
      "Generating channels:  78%|█████████████████████████████████████████▌           | 54094/69040 [00:11<00:03, 4309.43it/s]\u001b[A\n",
      "Generating channels:  79%|█████████████████████████████████████████▉           | 54592/69040 [00:11<00:03, 4443.04it/s]\u001b[A\n",
      "Generating channels:  80%|██████████████████████████████████████████▎          | 55163/69040 [00:11<00:02, 4779.33it/s]\u001b[A\n",
      "Generating channels:  81%|██████████████████████████████████████████▋          | 55651/69040 [00:11<00:03, 4402.36it/s]\u001b[A\n",
      "Generating channels:  81%|███████████████████████████████████████████          | 56103/69040 [00:11<00:03, 4230.96it/s]\u001b[A\n",
      "Generating channels:  82%|███████████████████████████████████████████▍         | 56604/69040 [00:11<00:02, 4422.45it/s]\u001b[A\n",
      "Generating channels:  83%|███████████████████████████████████████████▉         | 57158/69040 [00:11<00:02, 4689.16it/s]\u001b[A\n",
      "Generating channels:  83%|████████████████████████████████████████████▏        | 57634/69040 [00:12<00:02, 4346.57it/s]\u001b[A\n",
      "Generating channels:  84%|████████████████████████████████████████████▌        | 58078/69040 [00:12<00:02, 4286.94it/s]\u001b[A\n",
      "Generating channels: 100%|█████████████████████████████████████████████████████| 69040/69040 [00:12<00:00, 5644.90it/s]\u001b[A\n"
     ]
    },
    {
     "name": "stdout",
     "output_type": "stream",
     "text": [
      "\n",
      "BS-BS Channels\n"
     ]
    },
    {
     "name": "stderr",
     "output_type": "stream",
     "text": [
      "\n",
      "Reading ray-tracing: 100%|███████████████████████████████████████████████████████████████████████| 1/1 [00:00<?, ?it/s]\u001b[A\n",
      "\n",
      "Generating channels: 100%|██████████████████████████████████████████████████████████████| 1/1 [00:00<00:00, 246.06it/s]\u001b[A\n"
     ]
    },
    {
     "name": "stdout",
     "output_type": "stream",
     "text": [
      "\n",
      "Scene 3/5\n",
      "\n",
      "Basestation 1\n",
      "\n",
      "UE-BS Channels\n"
     ]
    },
    {
     "name": "stderr",
     "output_type": "stream",
     "text": [
      "\n",
      "Reading ray-tracing:   0%|                                                                   | 0/69040 [00:00<?, ?it/s]\u001b[A\n",
      "Reading ray-tracing:   4%|██▍                                                  | 3094/69040 [00:00<00:02, 30903.34it/s]\u001b[A\n",
      "Reading ray-tracing:   9%|████▋                                                | 6185/69040 [00:00<00:02, 30874.42it/s]\u001b[A\n",
      "Reading ray-tracing:  13%|███████                                              | 9273/69040 [00:00<00:01, 30246.12it/s]\u001b[A\n",
      "Reading ray-tracing:  18%|█████████▎                                          | 12300/69040 [00:00<00:01, 29121.27it/s]\u001b[A\n",
      "Reading ray-tracing:  22%|███████████▍                                        | 15218/69040 [00:00<00:01, 28607.85it/s]\u001b[A\n",
      "Reading ray-tracing:  26%|█████████████▌                                      | 18083/69040 [00:00<00:01, 27990.41it/s]\u001b[A\n",
      "Reading ray-tracing:  31%|███████████████▉                                    | 21189/69040 [00:00<00:01, 28926.12it/s]\u001b[A\n",
      "Reading ray-tracing:  35%|██████████████████▏                                 | 24130/69040 [00:00<00:01, 28872.03it/s]\u001b[A\n",
      "Reading ray-tracing:  40%|████████████████████▌                               | 27321/69040 [00:00<00:01, 29437.82it/s]\u001b[A\n",
      "Reading ray-tracing:  44%|██████████████████████▉                             | 30447/69040 [00:01<00:01, 29707.18it/s]\u001b[A\n",
      "Reading ray-tracing:  48%|█████████████████████████▏                          | 33420/69040 [00:01<00:01, 29327.67it/s]\u001b[A\n",
      "Reading ray-tracing:  53%|███████████████████████████▋                        | 36761/69040 [00:01<00:01, 30451.26it/s]\u001b[A\n",
      "Reading ray-tracing:  58%|██████████████████████████████                      | 39947/69040 [00:01<00:00, 30478.12it/s]\u001b[A\n",
      "Reading ray-tracing:  62%|████████████████████████████████▍                   | 42997/69040 [00:01<00:00, 29905.15it/s]\u001b[A\n",
      "Reading ray-tracing:  67%|██████████████████████████████████▋                 | 46106/69040 [00:01<00:00, 29969.13it/s]\u001b[A\n",
      "Reading ray-tracing:  71%|█████████████████████████████████████               | 49194/69040 [00:01<00:00, 29937.25it/s]\u001b[A\n",
      "Reading ray-tracing:  76%|███████████████████████████████████████▎            | 52190/69040 [00:01<00:00, 29303.33it/s]\u001b[A\n",
      "Reading ray-tracing:  80%|█████████████████████████████████████████▌          | 55123/69040 [00:01<00:00, 28603.08it/s]\u001b[A\n",
      "Reading ray-tracing:  84%|███████████████████████████████████████████▋        | 57987/69040 [00:01<00:00, 27770.03it/s]\u001b[A\n",
      "Reading ray-tracing: 100%|████████████████████████████████████████████████████| 69040/69040 [00:02<00:00, 32287.43it/s]\u001b[A\n",
      "\n",
      "Generating channels:   0%|                                                                   | 0/69040 [00:00<?, ?it/s]\u001b[A\n",
      "Generating channels:   1%|▍                                                      | 511/69040 [00:00<00:13, 5060.91it/s]\u001b[A\n",
      "Generating channels:   1%|▊                                                     | 1018/69040 [00:00<00:18, 3678.59it/s]\u001b[A\n",
      "Generating channels:   2%|█▏                                                    | 1483/69040 [00:00<00:16, 4044.95it/s]\u001b[A\n",
      "Generating channels:   3%|█▊                                                    | 2238/69040 [00:00<00:12, 5203.55it/s]\u001b[A\n",
      "Generating channels:   4%|██▏                                                   | 2782/69040 [00:00<00:14, 4442.47it/s]\u001b[A\n",
      "Generating channels:   5%|██▌                                                   | 3255/69040 [00:00<00:15, 4250.72it/s]\u001b[A\n",
      "Generating channels:   6%|███▏                                                  | 4058/69040 [00:00<00:12, 5246.76it/s]\u001b[A\n",
      "Generating channels:   7%|███▌                                                  | 4611/69040 [00:00<00:13, 4718.76it/s]\u001b[A\n",
      "Generating channels:   7%|███▉                                                  | 5109/69040 [00:01<00:14, 4473.70it/s]\u001b[A\n",
      "Generating channels:   9%|████▋                                                 | 5938/69040 [00:01<00:11, 5409.02it/s]\u001b[A\n",
      "Generating channels:   9%|█████                                                 | 6506/69040 [00:01<00:12, 4868.57it/s]\u001b[A\n",
      "Generating channels:  10%|█████▍                                                | 7019/69040 [00:01<00:13, 4611.70it/s]\u001b[A\n",
      "Generating channels:  11%|██████                                                | 7777/69040 [00:01<00:11, 5327.92it/s]\u001b[A\n",
      "Generating channels:  12%|██████▌                                               | 8335/69040 [00:01<00:12, 4831.79it/s]\u001b[A\n",
      "Generating channels:  13%|██████▉                                               | 8842/69040 [00:01<00:13, 4450.76it/s]\u001b[A\n",
      "Generating channels:  14%|███████▌                                              | 9628/69040 [00:01<00:11, 5249.66it/s]\u001b[A\n",
      "Generating channels:  15%|███████▊                                             | 10181/69040 [00:02<00:11, 4959.87it/s]\u001b[A\n",
      "Generating channels:  15%|████████▏                                            | 10698/69040 [00:02<00:12, 4492.64it/s]\u001b[A\n",
      "Generating channels:  16%|████████▋                                            | 11380/69040 [00:02<00:11, 5009.46it/s]\u001b[A\n",
      "Generating channels:  17%|█████████▏                                           | 11905/69040 [00:02<00:11, 5063.12it/s]\u001b[A\n",
      "Generating channels:  18%|█████████▌                                           | 12428/69040 [00:02<00:12, 4465.39it/s]\u001b[A\n",
      "Generating channels:  19%|█████████▉                                           | 12993/69040 [00:02<00:11, 4749.76it/s]\u001b[A\n",
      "Generating channels:  20%|██████████▍                                          | 13620/69040 [00:02<00:10, 5142.42it/s]\u001b[A\n",
      "Generating channels:  21%|██████████▊                                          | 14154/69040 [00:02<00:11, 4587.60it/s]\u001b[A\n",
      "Generating channels:  21%|███████████▏                                         | 14636/69040 [00:03<00:12, 4468.92it/s]\u001b[A\n",
      "Generating channels:  22%|███████████▊                                         | 15412/69040 [00:03<00:10, 5275.20it/s]\u001b[A\n",
      "Generating channels:  23%|████████████▎                                        | 15960/69040 [00:03<00:11, 4775.08it/s]\u001b[A\n",
      "Generating channels:  24%|████████████▋                                        | 16459/69040 [00:03<00:11, 4583.04it/s]\u001b[A\n",
      "Generating channels:  25%|█████████████▏                                       | 17222/69040 [00:03<00:09, 5333.37it/s]\u001b[A\n",
      "Generating channels:  26%|█████████████▋                                       | 17776/69040 [00:03<00:10, 4951.33it/s]\u001b[A\n",
      "Generating channels:  26%|██████████████                                       | 18289/69040 [00:03<00:10, 4617.57it/s]\u001b[A\n",
      "Generating channels:  28%|██████████████▋                                      | 19082/69040 [00:03<00:09, 5414.04it/s]\u001b[A\n",
      "Generating channels:  28%|███████████████                                      | 19645/69040 [00:04<00:09, 4968.98it/s]\u001b[A\n",
      "Generating channels:  29%|███████████████▍                                     | 20162/69040 [00:04<00:10, 4603.36it/s]\u001b[A\n",
      "Generating channels:  30%|███████████████▉                                     | 20821/69040 [00:04<00:09, 5063.35it/s]\u001b[A\n",
      "Generating channels:  31%|████████████████▍                                    | 21378/69040 [00:04<00:09, 5172.44it/s]\u001b[A\n",
      "Generating channels:  32%|████████████████▊                                    | 21910/69040 [00:04<00:10, 4612.95it/s]\u001b[A\n",
      "Generating channels:  33%|█████████████████▎                                   | 22534/69040 [00:04<00:09, 5017.86it/s]\u001b[A\n",
      "Generating channels:  34%|█████████████████▊                                   | 23142/69040 [00:04<00:08, 5261.13it/s]\u001b[A\n",
      "Generating channels:  34%|██████████████████▏                                  | 23685/69040 [00:04<00:09, 4624.14it/s]\u001b[A\n",
      "Generating channels:  35%|██████████████████▌                                  | 24171/69040 [00:05<00:09, 4592.09it/s]\u001b[A\n",
      "Generating channels:  36%|███████████████████▏                                 | 24927/69040 [00:05<00:08, 5345.24it/s]\u001b[A\n",
      "Generating channels:  37%|███████████████████▌                                 | 25483/69040 [00:05<00:09, 4767.39it/s]\u001b[A\n",
      "Generating channels:  38%|███████████████████▉                                 | 25984/69040 [00:05<00:09, 4647.15it/s]\u001b[A\n",
      "Generating channels:  39%|████████████████████▌                                | 26742/69040 [00:05<00:07, 5377.75it/s]\u001b[A\n",
      "Generating channels:  40%|████████████████████▉                                | 27301/69040 [00:05<00:08, 4865.25it/s]\u001b[A\n",
      "Generating channels:  40%|█████████████████████▎                               | 27810/69040 [00:05<00:08, 4595.00it/s]\u001b[A\n",
      "Generating channels:  41%|█████████████████████▉                               | 28554/69040 [00:05<00:07, 5308.27it/s]\u001b[A\n",
      "Generating channels:  42%|██████████████████████▎                              | 29108/69040 [00:05<00:08, 4890.04it/s]\u001b[A\n",
      "Generating channels:  43%|██████████████████████▋                              | 29618/69040 [00:06<00:08, 4533.36it/s]\u001b[A\n",
      "Generating channels:  44%|███████████████████████▏                             | 30248/69040 [00:06<00:07, 4976.08it/s]\u001b[A\n",
      "Generating channels:  45%|███████████████████████▋                             | 30795/69040 [00:06<00:07, 5056.89it/s]\u001b[A\n",
      "Generating channels:  45%|████████████████████████                             | 31316/69040 [00:06<00:08, 4472.52it/s]\u001b[A\n",
      "Generating channels:  46%|████████████████████████▍                            | 31784/69040 [00:06<00:08, 4497.88it/s]\u001b[A\n",
      "Generating channels:  47%|████████████████████████▉                            | 32481/69040 [00:06<00:07, 5123.50it/s]\u001b[A\n",
      "Generating channels:  48%|█████████████████████████▎                           | 33011/69040 [00:06<00:07, 4588.24it/s]\u001b[A\n",
      "Generating channels:  49%|█████████████████████████▋                           | 33491/69040 [00:06<00:08, 4349.10it/s]\u001b[A\n",
      "Generating channels:  50%|██████████████████████████▎                          | 34234/69040 [00:07<00:06, 5089.50it/s]\u001b[A\n",
      "Generating channels:  50%|██████████████████████████▋                          | 34764/69040 [00:07<00:07, 4762.57it/s]\u001b[A\n",
      "Generating channels:  51%|███████████████████████████                          | 35257/69040 [00:07<00:07, 4379.51it/s]\u001b[A\n",
      "Generating channels:  52%|███████████████████████████▌                         | 35876/69040 [00:07<00:06, 4801.98it/s]\u001b[A\n",
      "Generating channels:  53%|███████████████████████████▉                         | 36431/69040 [00:07<00:06, 4970.25it/s]\u001b[A\n",
      "Generating channels:  54%|████████████████████████████▎                        | 36942/69040 [00:07<00:07, 4401.93it/s]\u001b[A\n",
      "Generating channels:  54%|████████████████████████████▋                        | 37402/69040 [00:07<00:07, 4359.15it/s]\u001b[A\n",
      "Generating channels:  55%|█████████████████████████████▏                       | 38094/69040 [00:07<00:06, 5010.93it/s]\u001b[A\n",
      "Generating channels:  56%|█████████████████████████████▋                       | 38613/69040 [00:08<00:06, 4687.81it/s]\u001b[A\n",
      "Generating channels:  57%|██████████████████████████████                       | 39097/69040 [00:08<00:06, 4425.44it/s]\u001b[A\n",
      "Generating channels:  58%|██████████████████████████████▍                      | 39717/69040 [00:08<00:06, 4884.98it/s]\u001b[A\n",
      "Generating channels:  58%|██████████████████████████████▉                      | 40237/69040 [00:08<00:05, 4965.28it/s]\u001b[A\n",
      "Generating channels:  59%|███████████████████████████████▎                     | 40745/69040 [00:08<00:06, 4503.73it/s]\u001b[A\n",
      "Generating channels:  60%|███████████████████████████████▋                     | 41210/69040 [00:08<00:06, 4455.16it/s]\u001b[A\n",
      "Generating channels:  61%|████████████████████████████████▏                    | 41933/69040 [00:08<00:05, 5156.20it/s]\u001b[A\n",
      "Generating channels:  62%|████████████████████████████████▌                    | 42462/69040 [00:08<00:05, 4742.89it/s]\u001b[A\n",
      "Generating channels:  62%|████████████████████████████████▉                    | 42950/69040 [00:08<00:05, 4590.48it/s]\u001b[A\n",
      "Generating channels:  63%|█████████████████████████████████▌                   | 43661/69040 [00:09<00:04, 5235.43it/s]\u001b[A\n",
      "Generating channels:  64%|█████████████████████████████████▉                   | 44198/69040 [00:09<00:05, 4877.74it/s]\u001b[A\n",
      "Generating channels:  65%|██████████████████████████████████▎                  | 44699/69040 [00:09<00:05, 4485.16it/s]\u001b[A\n",
      "Generating channels:  66%|██████████████████████████████████▋                  | 45263/69040 [00:09<00:04, 4768.73it/s]\u001b[A\n",
      "Generating channels:  66%|███████████████████████████████████▏                 | 45836/69040 [00:09<00:04, 5023.50it/s]\u001b[A\n",
      "Generating channels:  67%|███████████████████████████████████▌                 | 46351/69040 [00:09<00:04, 4560.16it/s]\u001b[A\n",
      "Generating channels:  68%|███████████████████████████████████▉                 | 46822/69040 [00:09<00:04, 4467.05it/s]\u001b[A\n",
      "Generating channels:  69%|████████████████████████████████████▍                | 47512/69040 [00:09<00:04, 5105.40it/s]\u001b[A\n",
      "Generating channels:  70%|████████████████████████████████████▉                | 48037/69040 [00:10<00:04, 4735.30it/s]\u001b[A\n",
      "Generating channels:  70%|█████████████████████████████████████▎               | 48525/69040 [00:10<00:04, 4406.92it/s]\u001b[A\n",
      "Generating channels:  71%|█████████████████████████████████████▋               | 49160/69040 [00:10<00:04, 4889.01it/s]\u001b[A\n",
      "Generating channels:  72%|██████████████████████████████████████▏              | 49673/69040 [00:10<00:03, 4953.98it/s]\u001b[A\n",
      "Generating channels:  73%|██████████████████████████████████████▌              | 50180/69040 [00:10<00:04, 4495.85it/s]\u001b[A\n",
      "Generating channels:  73%|██████████████████████████████████████▉              | 50644/69040 [00:10<00:04, 4443.97it/s]\u001b[A\n",
      "Generating channels:  74%|███████████████████████████████████████▍             | 51323/69040 [00:10<00:03, 5049.68it/s]\u001b[A\n",
      "Generating channels:  75%|███████████████████████████████████████▊             | 51841/69040 [00:10<00:03, 4749.32it/s]\u001b[A\n",
      "Generating channels:  76%|████████████████████████████████████████▏            | 52328/69040 [00:10<00:03, 4379.01it/s]\u001b[A\n",
      "Generating channels:  77%|████████████████████████████████████████▋            | 52928/69040 [00:11<00:03, 4764.46it/s]\u001b[A\n",
      "Generating channels:  77%|█████████████████████████████████████████            | 53424/69040 [00:11<00:03, 4779.18it/s]\u001b[A\n",
      "Generating channels:  78%|█████████████████████████████████████████▍           | 53911/69040 [00:11<00:03, 4323.83it/s]\u001b[A\n",
      "Generating channels:  79%|█████████████████████████████████████████▋           | 54366/69040 [00:11<00:03, 4373.62it/s]\u001b[A\n",
      "Generating channels:  80%|██████████████████████████████████████████▏          | 54962/69040 [00:11<00:02, 4793.10it/s]\u001b[A\n",
      "Generating channels:  80%|██████████████████████████████████████████▌          | 55452/69040 [00:11<00:02, 4767.58it/s]\u001b[A\n",
      "Generating channels:  81%|██████████████████████████████████████████▉          | 55937/69040 [00:11<00:03, 4344.79it/s]\u001b[A\n",
      "Generating channels:  82%|███████████████████████████████████████████▎         | 56387/69040 [00:11<00:02, 4340.32it/s]\u001b[A\n",
      "Generating channels:  83%|███████████████████████████████████████████▋         | 56962/69040 [00:11<00:02, 4688.64it/s]\u001b[A\n",
      "Generating channels:  83%|████████████████████████████████████████████         | 57439/69040 [00:12<00:02, 4462.04it/s]\u001b[A\n",
      "Generating channels:  84%|████████████████████████████████████████████▍        | 57892/69040 [00:12<00:02, 4180.74it/s]\u001b[A\n",
      "Generating channels: 100%|█████████████████████████████████████████████████████| 69040/69040 [00:12<00:00, 5595.14it/s]\u001b[A\n"
     ]
    },
    {
     "name": "stdout",
     "output_type": "stream",
     "text": [
      "\n",
      "BS-BS Channels\n"
     ]
    },
    {
     "name": "stderr",
     "output_type": "stream",
     "text": [
      "\n",
      "Reading ray-tracing: 100%|███████████████████████████████████████████████████████████████████████| 1/1 [00:00<?, ?it/s]\u001b[A\n",
      "\n",
      "Generating channels: 100%|██████████████████████████████████████████████████████████████| 1/1 [00:00<00:00, 236.15it/s]\u001b[A\n"
     ]
    },
    {
     "name": "stdout",
     "output_type": "stream",
     "text": [
      "\n",
      "Scene 4/5\n",
      "\n",
      "Basestation 1\n",
      "\n",
      "UE-BS Channels\n"
     ]
    },
    {
     "name": "stderr",
     "output_type": "stream",
     "text": [
      "\n",
      "Reading ray-tracing:   0%|                                                                   | 0/69040 [00:00<?, ?it/s]\u001b[A\n",
      "Reading ray-tracing:   4%|██▎                                                  | 2981/69040 [00:00<00:02, 29371.86it/s]\u001b[A\n",
      "Reading ray-tracing:   9%|████▊                                                | 6197/69040 [00:00<00:02, 30831.12it/s]\u001b[A\n",
      "Reading ray-tracing:  13%|███████▏                                             | 9307/69040 [00:00<00:01, 30443.10it/s]\u001b[A\n",
      "Reading ray-tracing:  18%|█████████▍                                          | 12483/69040 [00:00<00:01, 30533.69it/s]\u001b[A\n",
      "Reading ray-tracing:  23%|███████████▊                                        | 15645/69040 [00:00<00:01, 30500.43it/s]\u001b[A\n",
      "Reading ray-tracing:  27%|██████████████                                      | 18696/69040 [00:00<00:01, 30077.13it/s]\u001b[A\n",
      "Reading ray-tracing:  31%|████████████████▎                                   | 21705/69040 [00:00<00:01, 29877.80it/s]\u001b[A\n",
      "Reading ray-tracing:  36%|██████████████████▋                                 | 24778/69040 [00:00<00:01, 30139.71it/s]\u001b[A\n",
      "Reading ray-tracing:  40%|████████████████████▉                               | 27793/69040 [00:00<00:01, 29807.57it/s]\u001b[A\n",
      "Reading ray-tracing:  45%|███████████████████████▎                            | 30891/69040 [00:01<00:01, 30001.86it/s]\u001b[A\n",
      "Reading ray-tracing:  49%|█████████████████████████▌                          | 33979/69040 [00:01<00:01, 29985.00it/s]\u001b[A\n",
      "Reading ray-tracing:  54%|███████████████████████████▊                        | 36978/69040 [00:01<00:01, 29700.79it/s]\u001b[A\n",
      "Reading ray-tracing:  58%|██████████████████████████████▏                     | 40042/69040 [00:01<00:00, 29727.77it/s]\u001b[A\n",
      "Reading ray-tracing:  62%|████████████████████████████████▍                   | 43016/69040 [00:01<00:00, 29537.12it/s]\u001b[A\n",
      "Reading ray-tracing:  67%|██████████████████████████████████▌                 | 45970/69040 [00:01<00:00, 29291.84it/s]\u001b[A\n",
      "Reading ray-tracing:  71%|████████████████████████████████████▊               | 48900/69040 [00:01<00:00, 28796.88it/s]\u001b[A\n",
      "Reading ray-tracing:  75%|███████████████████████████████████████             | 51781/69040 [00:01<00:00, 28655.67it/s]\u001b[A\n",
      "Reading ray-tracing:  79%|█████████████████████████████████████████▏          | 54648/69040 [00:01<00:00, 28275.17it/s]\u001b[A\n",
      "Reading ray-tracing:  83%|███████████████████████████████████████████▎        | 57477/69040 [00:01<00:00, 27642.94it/s]\u001b[A\n",
      "Reading ray-tracing: 100%|████████████████████████████████████████████████████| 69040/69040 [00:02<00:00, 32171.93it/s]\u001b[A\n",
      "\n",
      "Generating channels:   0%|                                                                   | 0/69040 [00:00<?, ?it/s]\u001b[A\n",
      "Generating channels:   1%|▍                                                      | 523/69040 [00:00<00:13, 5051.10it/s]\u001b[A\n",
      "Generating channels:   1%|▊                                                     | 1029/69040 [00:00<00:17, 3884.92it/s]\u001b[A\n",
      "Generating channels:   2%|█▏                                                    | 1518/69040 [00:00<00:15, 4222.81it/s]\u001b[A\n",
      "Generating channels:   3%|█▊                                                    | 2266/69040 [00:00<00:12, 5352.80it/s]\u001b[A\n",
      "Generating channels:   4%|██▏                                                   | 2822/69040 [00:00<00:14, 4476.52it/s]\u001b[A\n",
      "Generating channels:   5%|██▌                                                   | 3301/69040 [00:00<00:14, 4455.93it/s]\u001b[A\n",
      "Generating channels:   6%|███▏                                                  | 4077/69040 [00:00<00:12, 5362.71it/s]\u001b[A\n",
      "Generating channels:   7%|███▋                                                  | 4640/69040 [00:00<00:13, 4637.48it/s]\u001b[A\n",
      "Generating channels:   7%|████                                                  | 5136/69040 [00:01<00:14, 4351.50it/s]\u001b[A\n",
      "Generating channels:   9%|████▋                                                 | 5917/69040 [00:01<00:12, 5212.11it/s]\u001b[A\n",
      "Generating channels:   9%|█████                                                 | 6471/69040 [00:01<00:13, 4723.89it/s]\u001b[A\n",
      "Generating channels:  10%|█████▍                                                | 6972/69040 [00:01<00:13, 4444.35it/s]\u001b[A\n",
      "Generating channels:  11%|██████                                                | 7791/69040 [00:01<00:11, 5327.52it/s]\u001b[A\n",
      "Generating channels:  12%|██████▌                                               | 8353/69040 [00:01<00:12, 4846.93it/s]\u001b[A\n",
      "Generating channels:  13%|██████▉                                               | 8864/69040 [00:01<00:13, 4442.58it/s]\u001b[A\n",
      "Generating channels:  14%|███████▌                                              | 9647/69040 [00:01<00:11, 5252.16it/s]\u001b[A\n",
      "Generating channels:  15%|███████▊                                             | 10204/69040 [00:02<00:12, 4832.00it/s]\u001b[A\n",
      "Generating channels:  16%|████████▏                                            | 10713/69040 [00:02<00:13, 4401.72it/s]\u001b[A\n",
      "Generating channels:  17%|████████▊                                            | 11485/69040 [00:02<00:11, 5207.21it/s]\u001b[A\n",
      "Generating channels:  17%|█████████▏                                           | 12040/69040 [00:02<00:11, 4883.88it/s]\u001b[A\n",
      "Generating channels:  18%|█████████▋                                           | 12554/69040 [00:02<00:12, 4480.17it/s]\u001b[A\n",
      "Generating channels:  19%|██████████▏                                          | 13207/69040 [00:02<00:11, 4938.00it/s]\u001b[A\n",
      "Generating channels:  20%|██████████▌                                          | 13747/69040 [00:02<00:10, 5054.33it/s]\u001b[A\n",
      "Generating channels:  21%|██████████▉                                          | 14271/69040 [00:03<00:12, 4354.09it/s]\u001b[A\n",
      "Generating channels:  21%|███████████▎                                         | 14734/69040 [00:03<00:12, 4264.37it/s]\u001b[A\n",
      "Generating channels:  22%|███████████▊                                         | 15455/69040 [00:03<00:10, 4997.18it/s]\u001b[A\n",
      "Generating channels:  23%|████████████▎                                        | 15980/69040 [00:03<00:11, 4554.64it/s]\u001b[A\n",
      "Generating channels:  24%|████████████▋                                        | 16459/69040 [00:03<00:11, 4411.58it/s]\u001b[A\n",
      "Generating channels:  25%|█████████████▏                                       | 17217/69040 [00:03<00:09, 5186.98it/s]\u001b[A\n",
      "Generating channels:  26%|█████████████▋                                       | 17757/69040 [00:03<00:10, 4854.20it/s]\u001b[A\n",
      "Generating channels:  26%|██████████████                                       | 18260/69040 [00:03<00:11, 4525.22it/s]\u001b[A\n",
      "Generating channels:  27%|██████████████▌                                      | 18914/69040 [00:03<00:10, 4990.68it/s]\u001b[A\n",
      "Generating channels:  28%|██████████████▉                                      | 19474/69040 [00:04<00:09, 5094.37it/s]\u001b[A\n",
      "Generating channels:  29%|███████████████▎                                     | 19996/69040 [00:04<00:10, 4569.74it/s]\u001b[A\n",
      "Generating channels:  30%|███████████████▊                                     | 20642/69040 [00:04<00:09, 5022.93it/s]\u001b[A\n",
      "Generating channels:  31%|████████████████▎                                    | 21217/69040 [00:04<00:09, 5207.35it/s]\u001b[A\n",
      "Generating channels:  32%|████████████████▋                                    | 21753/69040 [00:04<00:10, 4605.20it/s]\u001b[A\n",
      "Generating channels:  32%|█████████████████                                    | 22235/69040 [00:04<00:10, 4493.61it/s]\u001b[A\n",
      "Generating channels:  33%|█████████████████▋                                   | 23003/69040 [00:04<00:08, 5322.94it/s]\u001b[A\n",
      "Generating channels:  34%|██████████████████                                   | 23558/69040 [00:04<00:09, 4774.30it/s]\u001b[A\n",
      "Generating channels:  35%|██████████████████▍                                  | 24060/69040 [00:05<00:09, 4624.70it/s]\u001b[A\n",
      "Generating channels:  36%|███████████████████                                  | 24837/69040 [00:05<00:08, 5396.01it/s]\u001b[A\n",
      "Generating channels:  37%|███████████████████▍                                 | 25398/69040 [00:05<00:08, 4878.47it/s]\u001b[A\n",
      "Generating channels:  38%|███████████████████▉                                 | 25908/69040 [00:05<00:09, 4587.00it/s]\u001b[A\n",
      "Generating channels:  39%|████████████████████▍                                | 26656/69040 [00:05<00:08, 5287.11it/s]\u001b[A\n",
      "Generating channels:  39%|████████████████████▉                                | 27208/69040 [00:05<00:08, 4906.13it/s]\u001b[A\n",
      "Generating channels:  40%|█████████████████████▎                               | 27718/69040 [00:05<00:09, 4481.45it/s]\u001b[A\n",
      "Generating channels:  41%|█████████████████████▊                               | 28370/69040 [00:05<00:08, 4964.04it/s]\u001b[A\n",
      "Generating channels:  42%|██████████████████████▏                              | 28888/69040 [00:06<00:08, 5005.64it/s]\u001b[A\n",
      "Generating channels:  43%|██████████████████████▌                              | 29404/69040 [00:06<00:08, 4516.59it/s]\u001b[A\n",
      "Generating channels:  43%|██████████████████████▉                              | 29887/69040 [00:06<00:08, 4571.16it/s]\u001b[A\n",
      "Generating channels:  44%|███████████████████████▍                             | 30580/69040 [00:06<00:07, 5165.33it/s]\u001b[A\n",
      "Generating channels:  45%|███████████████████████▉                             | 31112/69040 [00:06<00:08, 4635.20it/s]\u001b[A\n",
      "Generating channels:  46%|████████████████████████▎                            | 31595/69040 [00:06<00:08, 4342.36it/s]\u001b[A\n",
      "Generating channels:  47%|████████████████████████▊                            | 32341/69040 [00:06<00:07, 5134.44it/s]\u001b[A\n",
      "Generating channels:  48%|█████████████████████████▏                           | 32878/69040 [00:06<00:07, 4857.74it/s]\u001b[A\n",
      "Generating channels:  48%|█████████████████████████▋                           | 33382/69040 [00:06<00:08, 4450.53it/s]\u001b[A\n",
      "Generating channels:  49%|██████████████████████████                           | 34026/69040 [00:07<00:07, 4948.41it/s]\u001b[A\n",
      "Generating channels:  50%|██████████████████████████▌                          | 34548/69040 [00:07<00:06, 5009.12it/s]\u001b[A\n",
      "Generating channels:  51%|██████████████████████████▉                          | 35064/69040 [00:07<00:07, 4470.60it/s]\u001b[A\n",
      "Generating channels:  51%|███████████████████████████▎                         | 35531/69040 [00:07<00:07, 4450.33it/s]\u001b[A\n",
      "Generating channels:  52%|███████████████████████████▊                         | 36195/69040 [00:07<00:06, 5017.84it/s]\u001b[A\n",
      "Generating channels:  53%|████████████████████████████▏                        | 36713/69040 [00:07<00:07, 4519.19it/s]\u001b[A\n",
      "Generating channels:  54%|████████████████████████████▌                        | 37184/69040 [00:07<00:07, 4260.33it/s]\u001b[A\n",
      "Generating channels:  55%|█████████████████████████████                        | 37795/69040 [00:07<00:06, 4709.14it/s]\u001b[A\n",
      "Generating channels:  56%|█████████████████████████████▍                       | 38345/69040 [00:08<00:06, 4886.42it/s]\u001b[A\n",
      "Generating channels:  56%|█████████████████████████████▊                       | 38847/69040 [00:08<00:06, 4435.28it/s]\u001b[A\n",
      "Generating channels:  57%|██████████████████████████████▏                      | 39306/69040 [00:08<00:06, 4366.83it/s]\u001b[A\n",
      "Generating channels:  58%|██████████████████████████████▋                      | 39981/69040 [00:08<00:05, 4967.02it/s]\u001b[A\n",
      "Generating channels:  59%|███████████████████████████████                      | 40491/69040 [00:08<00:06, 4613.05it/s]\u001b[A\n",
      "Generating channels:  59%|███████████████████████████████▍                     | 40965/69040 [00:08<00:06, 4347.87it/s]\u001b[A\n",
      "Generating channels:  60%|███████████████████████████████▉                     | 41551/69040 [00:08<00:05, 4723.48it/s]\u001b[A\n",
      "Generating channels:  61%|████████████████████████████████▎                    | 42093/69040 [00:08<00:05, 4873.48it/s]\u001b[A\n",
      "Generating channels:  62%|████████████████████████████████▋                    | 42590/69040 [00:08<00:05, 4458.78it/s]\u001b[A\n",
      "Generating channels:  62%|█████████████████████████████████                    | 43048/69040 [00:09<00:05, 4373.93it/s]\u001b[A\n",
      "Generating channels:  63%|█████████████████████████████████▌                   | 43727/69040 [00:09<00:05, 4987.57it/s]\u001b[A\n",
      "Generating channels:  64%|█████████████████████████████████▉                   | 44237/69040 [00:09<00:05, 4662.57it/s]\u001b[A\n",
      "Generating channels:  65%|██████████████████████████████████▎                  | 44714/69040 [00:09<00:05, 4425.55it/s]\u001b[A\n",
      "Generating channels:  66%|██████████████████████████████████▊                  | 45295/69040 [00:09<00:04, 4761.79it/s]\u001b[A\n",
      "Generating channels:  66%|███████████████████████████████████▏                 | 45860/69040 [00:09<00:04, 4956.89it/s]\u001b[A\n",
      "Generating channels:  67%|███████████████████████████████████▌                 | 46364/69040 [00:09<00:05, 4395.42it/s]\u001b[A\n",
      "Generating channels:  68%|███████████████████████████████████▉                 | 46819/69040 [00:09<00:05, 4199.85it/s]\u001b[A\n",
      "Generating channels:  69%|████████████████████████████████████▍                | 47471/69040 [00:10<00:04, 4800.21it/s]\u001b[A\n",
      "Generating channels:  69%|████████████████████████████████████▊                | 47968/69040 [00:10<00:04, 4653.45it/s]\u001b[A\n",
      "Generating channels:  70%|█████████████████████████████████████▏               | 48445/69040 [00:10<00:04, 4264.55it/s]\u001b[A\n",
      "Generating channels:  71%|█████████████████████████████████████▌               | 48933/69040 [00:10<00:04, 4418.99it/s]\u001b[A\n",
      "Generating channels:  72%|██████████████████████████████████████               | 49530/69040 [00:10<00:04, 4789.13it/s]\u001b[A\n",
      "Generating channels:  72%|██████████████████████████████████████▍              | 50020/69040 [00:10<00:04, 4400.88it/s]\u001b[A\n",
      "Generating channels:  73%|██████████████████████████████████████▋              | 50472/69040 [00:10<00:04, 4239.08it/s]\u001b[A\n",
      "Generating channels:  74%|███████████████████████████████████████▏             | 51079/69040 [00:10<00:03, 4697.72it/s]\u001b[A\n",
      "Generating channels:  75%|███████████████████████████████████████▌             | 51590/69040 [00:10<00:03, 4782.28it/s]\u001b[A\n",
      "Generating channels:  75%|███████████████████████████████████████▉             | 52077/69040 [00:11<00:03, 4485.96it/s]\u001b[A\n",
      "Generating channels:  76%|████████████████████████████████████████▎            | 52534/69040 [00:11<00:03, 4435.13it/s]\u001b[A\n",
      "Generating channels:  77%|████████████████████████████████████████▊            | 53163/69040 [00:11<00:03, 4919.63it/s]\u001b[A\n",
      "Generating channels:  78%|█████████████████████████████████████████▏           | 53663/69040 [00:11<00:03, 4624.19it/s]\u001b[A\n",
      "Generating channels:  78%|█████████████████████████████████████████▌           | 54133/69040 [00:11<00:03, 4245.47it/s]\u001b[A\n",
      "Generating channels:  79%|█████████████████████████████████████████▉           | 54615/69040 [00:11<00:03, 4357.77it/s]\u001b[A\n",
      "Generating channels:  80%|██████████████████████████████████████████▎          | 55196/69040 [00:11<00:02, 4745.24it/s]\u001b[A\n",
      "Generating channels:  81%|██████████████████████████████████████████▋          | 55680/69040 [00:11<00:03, 4400.19it/s]\u001b[A\n",
      "Generating channels:  81%|███████████████████████████████████████████          | 56131/69040 [00:11<00:03, 4218.10it/s]\u001b[A\n",
      "Generating channels:  82%|███████████████████████████████████████████▌         | 56680/69040 [00:12<00:02, 4514.03it/s]\u001b[A\n",
      "Generating channels:  83%|███████████████████████████████████████████▉         | 57181/69040 [00:12<00:02, 4630.20it/s]\u001b[A\n",
      "Generating channels:  84%|████████████████████████████████████████████▎        | 57651/69040 [00:12<00:02, 4285.55it/s]\u001b[A\n",
      "Generating channels:  84%|████████████████████████████████████████████▌        | 58088/69040 [00:12<00:02, 4281.79it/s]\u001b[A\n",
      "Generating channels: 100%|█████████████████████████████████████████████████████| 69040/69040 [00:12<00:00, 5514.42it/s]\u001b[A\n"
     ]
    },
    {
     "name": "stdout",
     "output_type": "stream",
     "text": [
      "\n",
      "BS-BS Channels\n"
     ]
    },
    {
     "name": "stderr",
     "output_type": "stream",
     "text": [
      "\n",
      "Reading ray-tracing: 100%|███████████████████████████████████████████████████████████████████████| 1/1 [00:00<?, ?it/s]\u001b[A\n",
      "\n",
      "Generating channels: 100%|██████████████████████████████████████████████████████████████| 1/1 [00:00<00:00, 235.71it/s]\u001b[A\n"
     ]
    },
    {
     "name": "stdout",
     "output_type": "stream",
     "text": [
      "\n",
      "Scene 5/5\n",
      "\n",
      "Basestation 1\n",
      "\n",
      "UE-BS Channels\n"
     ]
    },
    {
     "name": "stderr",
     "output_type": "stream",
     "text": [
      "\n",
      "Reading ray-tracing:   0%|                                                                   | 0/69040 [00:00<?, ?it/s]\u001b[A\n",
      "Reading ray-tracing:   5%|██▍                                                  | 3148/69040 [00:00<00:02, 30257.69it/s]\u001b[A\n",
      "Reading ray-tracing:   9%|████▉                                                | 6378/69040 [00:00<00:02, 30732.62it/s]\u001b[A\n",
      "Reading ray-tracing:  14%|███████▍                                             | 9636/69040 [00:00<00:01, 31455.91it/s]\u001b[A\n",
      "Reading ray-tracing:  19%|█████████▋                                          | 12783/69040 [00:00<00:01, 30739.13it/s]\u001b[A\n",
      "Reading ray-tracing:  23%|███████████▉                                        | 15879/69040 [00:00<00:01, 30519.25it/s]\u001b[A\n",
      "Reading ray-tracing:  27%|██████████████▎                                     | 18933/69040 [00:00<00:01, 30080.64it/s]\u001b[A\n",
      "Reading ray-tracing:  32%|████████████████▌                                   | 21943/69040 [00:00<00:01, 29243.92it/s]\u001b[A\n",
      "Reading ray-tracing:  36%|██████████████████▊                                 | 24955/69040 [00:00<00:01, 29325.53it/s]\u001b[A\n",
      "Reading ray-tracing:  40%|█████████████████████                               | 27891/69040 [00:00<00:01, 29124.47it/s]\u001b[A\n",
      "Reading ray-tracing:  45%|███████████████████████▎                            | 30929/69040 [00:01<00:01, 29449.88it/s]\u001b[A\n",
      "Reading ray-tracing:  49%|█████████████████████████▌                          | 33884/69040 [00:01<00:01, 29417.71it/s]\u001b[A\n",
      "Reading ray-tracing:  53%|███████████████████████████▋                        | 36827/69040 [00:01<00:01, 29398.90it/s]\u001b[A\n",
      "Reading ray-tracing:  58%|██████████████████████████████                      | 39876/69040 [00:01<00:00, 29717.24it/s]\u001b[A\n",
      "Reading ray-tracing:  62%|████████████████████████████████▎                   | 42849/69040 [00:01<00:00, 29553.75it/s]\u001b[A\n",
      "Reading ray-tracing:  67%|██████████████████████████████████▋                 | 46061/69040 [00:01<00:00, 30058.64it/s]\u001b[A\n",
      "Reading ray-tracing:  71%|████████████████████████████████████▉               | 49067/69040 [00:01<00:00, 29995.35it/s]\u001b[A\n",
      "Reading ray-tracing:  75%|███████████████████████████████████████▏            | 52067/69040 [00:01<00:00, 29857.39it/s]\u001b[A\n",
      "Reading ray-tracing:  80%|█████████████████████████████████████████▍          | 55053/69040 [00:01<00:00, 29718.94it/s]\u001b[A\n",
      "Reading ray-tracing:  84%|███████████████████████████████████████████▋        | 58025/69040 [00:01<00:00, 28953.24it/s]\u001b[A\n",
      "Reading ray-tracing: 100%|████████████████████████████████████████████████████| 69040/69040 [00:02<00:00, 32736.53it/s]\u001b[A\n",
      "\n",
      "Generating channels:   0%|                                                                   | 0/69040 [00:00<?, ?it/s]\u001b[A\n",
      "Generating channels:   1%|▍                                                      | 546/69040 [00:00<00:12, 5294.19it/s]\u001b[A\n",
      "Generating channels:   2%|▊                                                     | 1076/69040 [00:00<00:16, 4004.45it/s]\u001b[A\n",
      "Generating channels:   2%|█▎                                                    | 1679/69040 [00:00<00:14, 4777.49it/s]\u001b[A\n",
      "Generating channels:   3%|█▊                                                    | 2312/69040 [00:00<00:12, 5269.88it/s]\u001b[A\n",
      "Generating channels:   4%|██▏                                                   | 2858/69040 [00:00<00:14, 4459.87it/s]\u001b[A\n",
      "Generating channels:   5%|██▌                                                   | 3347/69040 [00:00<00:14, 4528.50it/s]\u001b[A\n",
      "Generating channels:   6%|███▏                                                  | 4083/69040 [00:00<00:12, 5302.93it/s]\u001b[A\n",
      "Generating channels:   7%|███▋                                                  | 4636/69040 [00:00<00:13, 4649.22it/s]\u001b[A\n",
      "Generating channels:   7%|████                                                  | 5128/69040 [00:01<00:14, 4425.92it/s]\u001b[A\n",
      "Generating channels:   9%|████▋                                                 | 5975/69040 [00:01<00:11, 5425.59it/s]\u001b[A\n",
      "Generating channels:   9%|█████                                                 | 6545/69040 [00:01<00:13, 4793.36it/s]\u001b[A\n",
      "Generating channels:  10%|█████▌                                                | 7054/69040 [00:01<00:13, 4563.66it/s]\u001b[A\n",
      "Generating channels:  11%|██████▏                                               | 7876/69040 [00:01<00:11, 5455.11it/s]\u001b[A\n",
      "Generating channels:  12%|██████▌                                               | 8452/69040 [00:01<00:12, 4896.92it/s]\u001b[A\n",
      "Generating channels:  13%|███████                                               | 8971/69040 [00:01<00:12, 4629.73it/s]\u001b[A\n",
      "Generating channels:  14%|███████▌                                              | 9699/69040 [00:01<00:11, 5247.49it/s]\u001b[A\n",
      "Generating channels:  15%|███████▊                                             | 10249/69040 [00:02<00:12, 4634.17it/s]\u001b[A\n",
      "Generating channels:  16%|████████▏                                            | 10740/69040 [00:02<00:13, 4263.99it/s]\u001b[A\n",
      "Generating channels:  17%|████████▊                                            | 11499/69040 [00:02<00:11, 5056.69it/s]\u001b[A\n",
      "Generating channels:  17%|█████████▏                                           | 12038/69040 [00:02<00:11, 4752.37it/s]\u001b[A\n",
      "Generating channels:  18%|█████████▋                                           | 12538/69040 [00:02<00:12, 4373.21it/s]\u001b[A\n",
      "Generating channels:  19%|██████████                                           | 13179/69040 [00:02<00:11, 4862.32it/s]\u001b[A\n",
      "Generating channels:  20%|██████████▌                                          | 13733/69040 [00:02<00:11, 5022.68it/s]\u001b[A\n",
      "Generating channels:  21%|██████████▉                                          | 14255/69040 [00:02<00:12, 4524.10it/s]\u001b[A\n",
      "Generating channels:  21%|███████████▎                                         | 14728/69040 [00:03<00:12, 4513.73it/s]\u001b[A\n",
      "Generating channels:  22%|███████████▉                                         | 15517/69040 [00:03<00:09, 5371.31it/s]\u001b[A\n",
      "Generating channels:  23%|████████████▎                                        | 16074/69040 [00:03<00:11, 4722.92it/s]\u001b[A\n",
      "Generating channels:  24%|████████████▋                                        | 16572/69040 [00:03<00:11, 4559.01it/s]\u001b[A\n",
      "Generating channels:  25%|█████████████▎                                       | 17315/69040 [00:03<00:09, 5291.12it/s]\u001b[A\n",
      "Generating channels:  26%|█████████████▋                                       | 17869/69040 [00:03<00:10, 4776.05it/s]\u001b[A\n",
      "Generating channels:  27%|██████████████                                       | 18371/69040 [00:03<00:10, 4628.05it/s]\u001b[A\n",
      "Generating channels:  28%|██████████████▋                                      | 19112/69040 [00:03<00:09, 5318.44it/s]\u001b[A\n",
      "Generating channels:  28%|███████████████                                      | 19666/69040 [00:04<00:10, 4897.95it/s]\u001b[A\n",
      "Generating channels:  29%|███████████████▍                                     | 20175/69040 [00:04<00:11, 4428.37it/s]\u001b[A\n",
      "Generating channels:  30%|███████████████▉                                     | 20810/69040 [00:04<00:09, 4905.13it/s]\u001b[A\n",
      "Generating channels:  31%|████████████████▍                                    | 21341/69040 [00:04<00:09, 5010.04it/s]\u001b[A\n",
      "Generating channels:  32%|████████████████▊                                    | 21860/69040 [00:04<00:10, 4469.34it/s]\u001b[A\n",
      "Generating channels:  32%|█████████████████▏                                   | 22328/69040 [00:04<00:10, 4518.07it/s]\u001b[A\n",
      "Generating channels:  33%|█████████████████▋                                   | 23017/69040 [00:04<00:08, 5144.92it/s]\u001b[A\n",
      "Generating channels:  34%|██████████████████                                   | 23550/69040 [00:04<00:09, 4627.49it/s]\u001b[A\n",
      "Generating channels:  35%|██████████████████▍                                  | 24034/69040 [00:05<00:10, 4411.85it/s]\u001b[A\n",
      "Generating channels:  36%|███████████████████                                  | 24771/69040 [00:05<00:08, 5130.25it/s]\u001b[A\n",
      "Generating channels:  37%|███████████████████▍                                 | 25304/69040 [00:05<00:09, 4776.21it/s]\u001b[A\n",
      "Generating channels:  37%|███████████████████▊                                 | 25799/69040 [00:05<00:09, 4418.12it/s]\u001b[A\n",
      "Generating channels:  38%|████████████████████▎                                | 26444/69040 [00:05<00:08, 4905.74it/s]\u001b[A\n",
      "Generating channels:  39%|████████████████████▋                                | 27002/69040 [00:05<00:08, 5061.52it/s]\u001b[A\n",
      "Generating channels:  40%|█████████████████████▏                               | 27523/69040 [00:05<00:09, 4532.30it/s]\u001b[A\n",
      "Generating channels:  41%|█████████████████████▌                               | 28011/69040 [00:05<00:08, 4597.98it/s]\u001b[A\n",
      "Generating channels:  42%|██████████████████████                               | 28683/69040 [00:05<00:07, 5129.74it/s]\u001b[A\n",
      "Generating channels:  42%|██████████████████████▍                              | 29211/69040 [00:06<00:08, 4632.17it/s]\u001b[A\n",
      "Generating channels:  43%|██████████████████████▊                              | 29692/69040 [00:06<00:08, 4400.10it/s]\u001b[A\n",
      "Generating channels:  44%|███████████████████████▍                             | 30454/69040 [00:06<00:07, 5183.14it/s]\u001b[A\n",
      "Generating channels:  45%|███████████████████████▊                             | 30991/69040 [00:06<00:07, 4842.39it/s]\u001b[A\n",
      "Generating channels:  46%|████████████████████████▏                            | 31491/69040 [00:06<00:08, 4416.40it/s]\u001b[A\n",
      "Generating channels:  47%|████████████████████████▋                            | 32124/69040 [00:06<00:07, 4880.79it/s]\u001b[A\n",
      "Generating channels:  47%|█████████████████████████                            | 32663/69040 [00:06<00:07, 4968.08it/s]\u001b[A\n",
      "Generating channels:  48%|█████████████████████████▍                           | 33174/69040 [00:06<00:07, 4498.01it/s]\u001b[A\n",
      "Generating channels:  49%|█████████████████████████▊                           | 33640/69040 [00:07<00:08, 4414.54it/s]\u001b[A\n",
      "Generating channels:  50%|██████████████████████████▎                          | 34310/69040 [00:07<00:06, 5013.72it/s]\u001b[A\n",
      "Generating channels:  50%|██████████████████████████▋                          | 34827/69040 [00:07<00:07, 4740.49it/s]\u001b[A\n",
      "Generating channels:  51%|███████████████████████████                          | 35314/69040 [00:07<00:07, 4490.74it/s]\u001b[A\n",
      "Generating channels:  52%|███████████████████████████▌                         | 35943/69040 [00:07<00:06, 4930.40it/s]\u001b[A\n",
      "Generating channels:  53%|████████████████████████████                         | 36496/69040 [00:07<00:06, 5039.86it/s]\u001b[A\n",
      "Generating channels:  54%|████████████████████████████▍                        | 37009/69040 [00:07<00:07, 4482.46it/s]\u001b[A\n",
      "Generating channels:  54%|████████████████████████████▊                        | 37473/69040 [00:07<00:07, 4431.10it/s]\u001b[A\n",
      "Generating channels:  55%|█████████████████████████████▎                       | 38123/69040 [00:07<00:06, 4977.99it/s]\u001b[A\n",
      "Generating channels:  56%|█████████████████████████████▋                       | 38635/69040 [00:08<00:06, 4572.00it/s]\u001b[A\n",
      "Generating channels:  57%|██████████████████████████████                       | 39107/69040 [00:08<00:06, 4350.68it/s]\u001b[A\n",
      "Generating channels:  57%|██████████████████████████████▍                      | 39690/69040 [00:08<00:06, 4715.50it/s]\u001b[A\n",
      "Generating channels:  58%|██████████████████████████████▊                      | 40203/69040 [00:08<00:06, 4786.65it/s]\u001b[A\n",
      "Generating channels:  59%|███████████████████████████████▏                     | 40691/69040 [00:08<00:06, 4340.00it/s]\u001b[A\n",
      "Generating channels:  60%|███████████████████████████████▌                     | 41138/69040 [00:08<00:06, 4262.35it/s]\u001b[A\n",
      "Generating channels:  61%|████████████████████████████████                     | 41790/69040 [00:08<00:05, 4854.66it/s]\u001b[A\n",
      "Generating channels:  61%|████████████████████████████████▍                    | 42288/69040 [00:08<00:05, 4706.78it/s]\u001b[A\n",
      "Generating channels:  62%|████████████████████████████████▊                    | 42768/69040 [00:09<00:06, 4358.77it/s]\u001b[A\n",
      "Generating channels:  63%|█████████████████████████████████▏                   | 43275/69040 [00:09<00:05, 4500.07it/s]\u001b[A\n",
      "Generating channels:  64%|█████████████████████████████████▋                   | 43899/69040 [00:09<00:05, 4926.24it/s]\u001b[A\n",
      "Generating channels:  64%|██████████████████████████████████                   | 44401/69040 [00:09<00:05, 4549.41it/s]\u001b[A\n",
      "Generating channels:  65%|██████████████████████████████████▍                  | 44867/69040 [00:09<00:05, 4406.82it/s]\u001b[A\n",
      "Generating channels:  66%|██████████████████████████████████▉                  | 45544/69040 [00:09<00:04, 5016.82it/s]\u001b[A\n",
      "Generating channels:  67%|███████████████████████████████████▎                 | 46057/69040 [00:09<00:04, 4804.26it/s]\u001b[A\n",
      "Generating channels:  67%|███████████████████████████████████▋                 | 46546/69040 [00:09<00:05, 4304.28it/s]\u001b[A\n",
      "Generating channels:  68%|████████████████████████████████████                 | 46990/69040 [00:09<00:05, 4334.16it/s]\u001b[A\n",
      "Generating channels:  69%|████████████████████████████████████▌                | 47577/69040 [00:10<00:04, 4694.70it/s]\u001b[A\n",
      "Generating channels:  70%|████████████████████████████████████▉                | 48057/69040 [00:10<00:04, 4218.21it/s]\u001b[A\n",
      "Generating channels:  70%|█████████████████████████████████████▏               | 48493/69040 [00:10<00:05, 3997.20it/s]\u001b[A\n",
      "Generating channels:  71%|█████████████████████████████████████▋               | 49038/69040 [00:10<00:04, 4339.89it/s]\u001b[A\n",
      "Generating channels:  72%|██████████████████████████████████████               | 49573/69040 [00:10<00:04, 4563.05it/s]\u001b[A\n",
      "Generating channels:  72%|██████████████████████████████████████▍              | 50040/69040 [00:10<00:04, 4278.08it/s]\u001b[A\n",
      "Generating channels:  73%|██████████████████████████████████████▊              | 50478/69040 [00:10<00:04, 4172.99it/s]\u001b[A\n",
      "Generating channels:  74%|███████████████████████████████████████▏             | 51064/69040 [00:10<00:03, 4605.05it/s]\u001b[A\n",
      "Generating channels:  75%|███████████████████████████████████████▌             | 51549/69040 [00:10<00:03, 4666.69it/s]\u001b[A\n",
      "Generating channels:  75%|███████████████████████████████████████▉             | 52022/69040 [00:11<00:03, 4313.72it/s]\u001b[A\n",
      "Generating channels:  76%|████████████████████████████████████████▎            | 52462/69040 [00:11<00:03, 4306.47it/s]\u001b[A\n",
      "Generating channels:  77%|████████████████████████████████████████▋            | 53027/69040 [00:11<00:03, 4642.17it/s]\u001b[A\n",
      "Generating channels:  78%|█████████████████████████████████████████            | 53511/69040 [00:11<00:03, 4653.36it/s]\u001b[A\n",
      "Generating channels:  78%|█████████████████████████████████████████▍           | 53981/69040 [00:11<00:03, 4253.13it/s]\u001b[A\n",
      "Generating channels:  79%|█████████████████████████████████████████▊           | 54415/69040 [00:11<00:03, 4247.98it/s]\u001b[A\n",
      "Generating channels:  80%|██████████████████████████████████████████▏          | 54988/69040 [00:11<00:03, 4645.56it/s]\u001b[A\n",
      "Generating channels:  80%|██████████████████████████████████████████▌          | 55460/69040 [00:11<00:02, 4569.39it/s]\u001b[A\n",
      "Generating channels:  81%|██████████████████████████████████████████▉          | 55922/69040 [00:11<00:03, 4164.33it/s]\u001b[A\n",
      "Generating channels:  82%|███████████████████████████████████████████▎         | 56360/69040 [00:12<00:03, 4193.39it/s]\u001b[A\n",
      "Generating channels:  82%|███████████████████████████████████████████▋         | 56916/69040 [00:12<00:02, 4539.77it/s]\u001b[A\n",
      "Generating channels:  83%|████████████████████████████████████████████         | 57377/69040 [00:12<00:02, 4522.25it/s]\u001b[A\n",
      "Generating channels:  84%|████████████████████████████████████████████▍        | 57835/69040 [00:12<00:02, 4166.68it/s]\u001b[A\n",
      "Generating channels: 100%|█████████████████████████████████████████████████████| 69040/69040 [00:12<00:00, 5478.65it/s]\u001b[A\n"
     ]
    },
    {
     "name": "stdout",
     "output_type": "stream",
     "text": [
      "\n",
      "BS-BS Channels\n"
     ]
    },
    {
     "name": "stderr",
     "output_type": "stream",
     "text": [
      "\n",
      "Reading ray-tracing: 100%|███████████████████████████████████████████████████████████████████████| 1/1 [00:00<?, ?it/s]\u001b[A\n",
      "\n",
      "Generating channels: 100%|███████████████████████████████████████████████████████████████████████| 1/1 [00:00<?, ?it/s]\u001b[A\n",
      " 50%|██████████████████████████████████████████                                          | 1/2 [01:19<01:19, 79.10s/it]"
     ]
    },
    {
     "name": "stdout",
     "output_type": "stream",
     "text": [
      "Scenes 0–4 generation time: 78.86s\n",
      "The following parameters seem unnecessary:\n",
      "{'activate_OFDM'}\n",
      "\n",
      "Scene 1/5\n",
      "\n",
      "Basestation 1\n",
      "\n",
      "UE-BS Channels\n"
     ]
    },
    {
     "name": "stderr",
     "output_type": "stream",
     "text": [
      "\n",
      "Reading ray-tracing:   0%|                                                                   | 0/69040 [00:00<?, ?it/s]\u001b[A\n",
      "Reading ray-tracing:   4%|██                                                   | 2721/69040 [00:00<00:02, 26305.58it/s]\u001b[A\n",
      "Reading ray-tracing:   8%|████▎                                                | 5640/69040 [00:00<00:02, 27736.41it/s]\u001b[A\n",
      "Reading ray-tracing:  12%|██████▌                                              | 8533/69040 [00:00<00:02, 28254.93it/s]\u001b[A\n",
      "Reading ray-tracing:  17%|████████▋                                           | 11470/69040 [00:00<00:02, 28533.69it/s]\u001b[A\n",
      "Reading ray-tracing:  21%|██████████▊                                         | 14325/69040 [00:00<00:02, 27242.87it/s]\u001b[A\n",
      "Reading ray-tracing:  25%|████████████▊                                       | 17059/69040 [00:00<00:02, 25292.99it/s]\u001b[A\n",
      "Reading ray-tracing:  28%|██████████████▊                                     | 19614/69040 [00:00<00:02, 22878.10it/s]\u001b[A\n",
      "Reading ray-tracing:  32%|████████████████▋                                   | 22182/69040 [00:00<00:02, 23420.76it/s]\u001b[A\n",
      "Reading ray-tracing:  36%|██████████████████▋                                 | 24883/69040 [00:00<00:01, 24270.68it/s]\u001b[A\n",
      "Reading ray-tracing:  40%|████████████████████▊                               | 27611/69040 [00:01<00:01, 25134.53it/s]\u001b[A\n",
      "Reading ray-tracing:  44%|███████████████████████                             | 30645/69040 [00:01<00:01, 26374.99it/s]\u001b[A\n",
      "Reading ray-tracing:  48%|█████████████████████████                           | 33306/69040 [00:01<00:01, 26373.45it/s]\u001b[A\n",
      "Reading ray-tracing:  53%|███████████████████████████▍                        | 36372/69040 [00:01<00:01, 27372.89it/s]\u001b[A\n",
      "Reading ray-tracing:  57%|█████████████████████████████▍                      | 39122/69040 [00:01<00:01, 27309.57it/s]\u001b[A\n",
      "Reading ray-tracing:  61%|███████████████████████████████▋                    | 41996/69040 [00:01<00:00, 27516.14it/s]\u001b[A\n",
      "Reading ray-tracing:  65%|█████████████████████████████████▊                  | 44872/69040 [00:01<00:00, 27567.09it/s]\u001b[A\n",
      "Reading ray-tracing:  69%|███████████████████████████████████▉                | 47793/69040 [00:01<00:00, 28041.09it/s]\u001b[A\n",
      "Reading ray-tracing:  73%|██████████████████████████████████████▏             | 50703/69040 [00:01<00:00, 28244.08it/s]\u001b[A\n",
      "Reading ray-tracing:  78%|████████████████████████████████████████▍           | 53680/69040 [00:02<00:00, 28598.50it/s]\u001b[A\n",
      "Reading ray-tracing:  82%|██████████████████████████████████████████▋         | 56645/69040 [00:02<00:00, 28720.76it/s]\u001b[A\n",
      "Reading ray-tracing: 100%|████████████████████████████████████████████████████| 69040/69040 [00:02<00:00, 29965.18it/s]\u001b[A\n",
      "\n",
      "Generating channels:   0%|                                                                   | 0/69040 [00:00<?, ?it/s]\u001b[A\n",
      "Generating channels:   1%|▎                                                      | 466/69040 [00:00<00:15, 4555.14it/s]\u001b[A\n",
      "Generating channels:   1%|▋                                                      | 922/69040 [00:00<00:19, 3554.08it/s]\u001b[A\n",
      "Generating channels:   2%|█                                                     | 1291/69040 [00:00<00:19, 3387.66it/s]\u001b[A\n",
      "Generating channels:   3%|█▌                                                    | 2043/69040 [00:00<00:14, 4752.63it/s]\u001b[A\n",
      "Generating channels:   4%|█▉                                                    | 2538/69040 [00:00<00:16, 4151.90it/s]\u001b[A\n",
      "Generating channels:   4%|██▎                                                   | 2975/69040 [00:00<00:18, 3603.52it/s]\u001b[A\n",
      "Generating channels:   5%|██▋                                                   | 3409/69040 [00:00<00:17, 3775.36it/s]\u001b[A\n",
      "Generating channels:   6%|███▏                                                  | 4130/69040 [00:00<00:13, 4700.57it/s]\u001b[A\n",
      "Generating channels:   7%|███▌                                                  | 4630/69040 [00:01<00:15, 4138.30it/s]\u001b[A\n",
      "Generating channels:   7%|███▉                                                  | 5074/69040 [00:01<00:16, 3916.77it/s]\u001b[A\n",
      "Generating channels:   8%|████▌                                                 | 5860/69040 [00:01<00:12, 4872.51it/s]\u001b[A\n",
      "Generating channels:   9%|████▉                                                 | 6379/69040 [00:01<00:14, 4331.87it/s]\u001b[A\n",
      "Generating channels:  10%|█████▎                                                | 6842/69040 [00:01<00:15, 3975.61it/s]\u001b[A\n",
      "Generating channels:  11%|█████▊                                                | 7399/69040 [00:01<00:14, 4343.67it/s]\u001b[A\n",
      "Generating channels:  12%|██████▏                                               | 7979/69040 [00:01<00:13, 4690.32it/s]\u001b[A\n",
      "Generating channels:  12%|██████▋                                               | 8471/69040 [00:02<00:14, 4103.10it/s]\u001b[A\n",
      "Generating channels:  13%|██████▉                                               | 8908/69040 [00:02<00:15, 3929.77it/s]\u001b[A\n",
      "Generating channels:  14%|███████▌                                              | 9664/69040 [00:02<00:12, 4836.45it/s]\u001b[A\n",
      "Generating channels:  15%|███████▊                                             | 10179/69040 [00:02<00:13, 4468.24it/s]\u001b[A\n",
      "Generating channels:  15%|████████▏                                            | 10651/69040 [00:02<00:14, 4035.07it/s]\u001b[A\n",
      "Generating channels:  16%|████████▋                                            | 11304/69040 [00:02<00:12, 4643.47it/s]\u001b[A\n",
      "Generating channels:  17%|█████████                                            | 11819/69040 [00:02<00:11, 4773.39it/s]\u001b[A\n",
      "Generating channels:  18%|█████████▍                                           | 12319/69040 [00:02<00:13, 4255.98it/s]\u001b[A\n",
      "Generating channels:  18%|█████████▊                                           | 12772/69040 [00:02<00:13, 4310.37it/s]\u001b[A\n",
      "Generating channels:  20%|██████████▍                                          | 13546/69040 [00:03<00:10, 5211.45it/s]\u001b[A\n",
      "Generating channels:  20%|██████████▊                                          | 14091/69040 [00:03<00:11, 4690.15it/s]\u001b[A\n",
      "Generating channels:  21%|███████████▏                                         | 14585/69040 [00:03<00:12, 4423.27it/s]\u001b[A\n",
      "Generating channels:  22%|███████████▌                                         | 15141/69040 [00:03<00:11, 4684.49it/s]\u001b[A\n",
      "Generating channels:  23%|███████████▉                                         | 15627/69040 [00:03<00:11, 4621.44it/s]\u001b[A\n",
      "Generating channels:  23%|████████████▎                                        | 16101/69040 [00:03<00:13, 4009.88it/s]\u001b[A\n",
      "Generating channels:  24%|████████████▋                                        | 16522/69040 [00:03<00:13, 3837.89it/s]\u001b[A\n",
      "Generating channels:  25%|█████████████▏                                       | 17214/69040 [00:03<00:11, 4573.63it/s]\u001b[A\n",
      "Generating channels:  26%|█████████████▌                                       | 17693/69040 [00:04<00:11, 4367.86it/s]\u001b[A\n",
      "Generating channels:  26%|█████████████▉                                       | 18145/69040 [00:04<00:13, 3888.20it/s]\u001b[A\n",
      "Generating channels:  27%|██████████████▎                                      | 18649/69040 [00:04<00:12, 4165.03it/s]\u001b[A\n",
      "Generating channels:  28%|██████████████▋                                      | 19197/69040 [00:04<00:11, 4496.32it/s]\u001b[A\n",
      "Generating channels:  28%|███████████████                                      | 19664/69040 [00:04<00:12, 3983.07it/s]\u001b[A\n",
      "Generating channels:  29%|███████████████▍                                     | 20083/69040 [00:04<00:13, 3717.02it/s]\u001b[A\n",
      "Generating channels:  30%|███████████████▊                                     | 20551/69040 [00:04<00:12, 3948.02it/s]\u001b[A\n",
      "Generating channels:  31%|████████████████▏                                    | 21148/69040 [00:04<00:10, 4450.21it/s]\u001b[A\n",
      "Generating channels:  31%|████████████████▌                                    | 21610/69040 [00:05<00:11, 4045.80it/s]\u001b[A\n",
      "Generating channels:  32%|████████████████▉                                    | 22032/69040 [00:05<00:12, 3870.28it/s]\u001b[A\n",
      "Generating channels:  33%|█████████████████▎                                   | 22619/69040 [00:05<00:10, 4356.47it/s]\u001b[A\n",
      "Generating channels:  34%|█████████████████▊                                   | 23132/69040 [00:05<00:10, 4545.15it/s]\u001b[A\n",
      "Generating channels:  34%|██████████████████                                   | 23599/69040 [00:05<00:11, 4102.31it/s]\u001b[A\n",
      "Generating channels:  35%|██████████████████▍                                  | 24025/69040 [00:05<00:11, 4036.03it/s]\u001b[A\n",
      "Generating channels:  36%|██████████████████▉                                  | 24725/69040 [00:05<00:09, 4824.38it/s]\u001b[A\n",
      "Generating channels:  37%|███████████████████▎                                 | 25225/69040 [00:05<00:09, 4746.61it/s]\u001b[A\n",
      "Generating channels:  37%|███████████████████▋                                 | 25712/69040 [00:06<00:09, 4334.33it/s]\u001b[A\n",
      "Generating channels:  38%|████████████████████▏                                | 26289/69040 [00:06<00:09, 4666.54it/s]\u001b[A\n",
      "Generating channels:  39%|████████████████████▌                                | 26850/69040 [00:06<00:08, 4921.35it/s]\u001b[A\n",
      "Generating channels:  40%|████████████████████▉                                | 27354/69040 [00:06<00:09, 4448.23it/s]\u001b[A\n",
      "Generating channels:  40%|█████████████████████▎                               | 27815/69040 [00:06<00:09, 4311.71it/s]\u001b[A\n",
      "Generating channels:  41%|█████████████████████▊                               | 28417/69040 [00:06<00:08, 4762.29it/s]\u001b[A\n",
      "Generating channels:  42%|██████████████████████▏                              | 28924/69040 [00:06<00:08, 4797.11it/s]\u001b[A\n",
      "Generating channels:  43%|██████████████████████▌                              | 29413/69040 [00:06<00:09, 4377.31it/s]\u001b[A\n",
      "Generating channels:  43%|██████████████████████▉                              | 29904/69040 [00:06<00:08, 4469.81it/s]\u001b[A\n",
      "Generating channels:  44%|███████████████████████▍                             | 30580/69040 [00:07<00:07, 5040.30it/s]\u001b[A\n",
      "Generating channels:  45%|███████████████████████▊                             | 31095/69040 [00:07<00:08, 4532.05it/s]\u001b[A\n",
      "Generating channels:  46%|████████████████████████▏                            | 31564/69040 [00:07<00:08, 4237.13it/s]\u001b[A\n",
      "Generating channels:  47%|████████████████████████▊                            | 32276/69040 [00:07<00:07, 4971.22it/s]\u001b[A\n",
      "Generating channels:  48%|█████████████████████████▏                           | 32794/69040 [00:07<00:07, 4811.59it/s]\u001b[A\n",
      "Generating channels:  48%|█████████████████████████▌                           | 33290/69040 [00:07<00:08, 4415.23it/s]\u001b[A\n",
      "Generating channels:  49%|█████████████████████████▉                           | 33859/69040 [00:07<00:07, 4700.54it/s]\u001b[A\n",
      "Generating channels:  50%|██████████████████████████▍                          | 34447/69040 [00:07<00:06, 5003.81it/s]\u001b[A\n",
      "Generating channels:  51%|██████████████████████████▊                          | 34961/69040 [00:07<00:07, 4523.79it/s]\u001b[A\n",
      "Generating channels:  51%|███████████████████████████▏                         | 35430/69040 [00:08<00:07, 4388.50it/s]\u001b[A\n",
      "Generating channels:  52%|███████████████████████████▋                         | 36114/69040 [00:08<00:06, 4980.94it/s]\u001b[A\n",
      "Generating channels:  53%|████████████████████████████                         | 36626/69040 [00:08<00:06, 4657.58it/s]\u001b[A\n",
      "Generating channels:  54%|████████████████████████████▍                        | 37104/69040 [00:08<00:07, 4213.30it/s]\u001b[A\n",
      "Generating channels:  54%|████████████████████████████▉                        | 37620/69040 [00:08<00:07, 4426.31it/s]\u001b[A\n",
      "Generating channels:  55%|█████████████████████████████▎                       | 38195/69040 [00:08<00:06, 4754.48it/s]\u001b[A\n",
      "Generating channels:  56%|█████████████████████████████▋                       | 38684/69040 [00:08<00:06, 4383.58it/s]\u001b[A\n",
      "Generating channels:  57%|██████████████████████████████                       | 39136/69040 [00:08<00:07, 4208.18it/s]\u001b[A\n",
      "Generating channels:  58%|██████████████████████████████▍                      | 39713/69040 [00:09<00:06, 4598.76it/s]\u001b[A\n",
      "Generating channels:  58%|██████████████████████████████▊                      | 40217/69040 [00:09<00:06, 4670.96it/s]\u001b[A\n",
      "Generating channels:  59%|███████████████████████████████▏                     | 40693/69040 [00:09<00:06, 4254.43it/s]\u001b[A\n",
      "Generating channels:  60%|███████████████████████████████▌                     | 41130/69040 [00:09<00:06, 4101.40it/s]\u001b[A\n",
      "Generating channels:  60%|███████████████████████████████▉                     | 41682/69040 [00:09<00:06, 4478.39it/s]\u001b[A\n",
      "Generating channels:  61%|████████████████████████████████▎                    | 42141/69040 [00:09<00:06, 4420.36it/s]\u001b[A\n",
      "Generating channels:  62%|████████████████████████████████▋                    | 42591/69040 [00:09<00:06, 3995.96it/s]\u001b[A\n",
      "Generating channels:  62%|█████████████████████████████████                    | 43002/69040 [00:09<00:06, 3951.64it/s]\u001b[A\n",
      "Generating channels:  63%|█████████████████████████████████▍                   | 43614/69040 [00:09<00:05, 4508.44it/s]\u001b[A\n",
      "Generating channels:  64%|█████████████████████████████████▊                   | 44076/69040 [00:10<00:05, 4509.84it/s]\u001b[A\n",
      "Generating channels:  65%|██████████████████████████████████▏                  | 44535/69040 [00:10<00:05, 4192.30it/s]\u001b[A\n",
      "Generating channels:  65%|██████████████████████████████████▌                  | 44963/69040 [00:10<00:05, 4094.25it/s]\u001b[A\n",
      "Generating channels:  66%|███████████████████████████████████                  | 45600/69040 [00:10<00:05, 4672.74it/s]\u001b[A\n",
      "Generating channels:  67%|███████████████████████████████████▎                 | 46076/69040 [00:10<00:05, 4547.42it/s]\u001b[A\n",
      "Generating channels:  67%|███████████████████████████████████▋                 | 46537/69040 [00:10<00:05, 4213.75it/s]\u001b[A\n",
      "Generating channels:  68%|████████████████████████████████████                 | 47040/69040 [00:10<00:04, 4416.22it/s]\u001b[A\n",
      "Generating channels:  69%|████████████████████████████████████▌                | 47638/69040 [00:10<00:04, 4817.48it/s]\u001b[A\n",
      "Generating channels:  70%|████████████████████████████████████▉                | 48128/69040 [00:10<00:04, 4408.21it/s]\u001b[A\n",
      "Generating channels:  70%|█████████████████████████████████████▎               | 48580/69040 [00:11<00:04, 4182.35it/s]\u001b[A\n",
      "Generating channels:  71%|█████████████████████████████████████▋               | 49157/69040 [00:11<00:04, 4594.83it/s]\u001b[A\n",
      "Generating channels:  72%|██████████████████████████████████████               | 49643/69040 [00:11<00:04, 4638.12it/s]\u001b[A\n",
      "Generating channels:  73%|██████████████████████████████████████▍              | 50115/69040 [00:11<00:04, 4255.04it/s]\u001b[A\n",
      "Generating channels:  73%|██████████████████████████████████████▊              | 50551/69040 [00:11<00:04, 4266.19it/s]\u001b[A\n",
      "Generating channels:  74%|███████████████████████████████████████▎             | 51130/69040 [00:11<00:03, 4665.06it/s]\u001b[A\n",
      "Generating channels:  75%|███████████████████████████████████████▌             | 51611/69040 [00:11<00:03, 4690.26it/s]\u001b[A\n",
      "Generating channels:  75%|███████████████████████████████████████▉             | 52086/69040 [00:11<00:03, 4293.00it/s]\u001b[A\n",
      "Generating channels:  76%|████████████████████████████████████████▎            | 52530/69040 [00:11<00:03, 4308.30it/s]\u001b[A\n",
      "Generating channels:  77%|████████████████████████████████████████▊            | 53113/69040 [00:12<00:03, 4686.48it/s]\u001b[A\n",
      "Generating channels:  78%|█████████████████████████████████████████▏           | 53589/69040 [00:12<00:03, 4650.59it/s]\u001b[A\n",
      "Generating channels:  78%|█████████████████████████████████████████▍           | 54059/69040 [00:12<00:03, 4257.81it/s]\u001b[A\n",
      "Generating channels:  79%|█████████████████████████████████████████▊           | 54510/69040 [00:12<00:03, 4307.38it/s]\u001b[A\n",
      "Generating channels:  80%|██████████████████████████████████████████▎          | 55090/69040 [00:12<00:02, 4715.95it/s]\u001b[A\n",
      "Generating channels:  80%|██████████████████████████████████████████▋          | 55570/69040 [00:12<00:02, 4559.04it/s]\u001b[A\n",
      "Generating channels:  81%|███████████████████████████████████████████          | 56032/69040 [00:12<00:03, 4192.39it/s]\u001b[A\n",
      "Generating channels:  82%|███████████████████████████████████████████▎         | 56500/69040 [00:12<00:02, 4301.83it/s]\u001b[A\n"
     ]
    },
    {
     "name": "stderr",
     "output_type": "stream",
     "text": [
      "Generating channels:  83%|███████████████████████████████████████████▊         | 57060/69040 [00:12<00:02, 4628.47it/s]\u001b[A\n",
      "Generating channels:  83%|████████████████████████████████████████████▏        | 57530/69040 [00:13<00:02, 4425.97it/s]\u001b[A\n",
      "Generating channels:  84%|████████████████████████████████████████████▌        | 57979/69040 [00:13<00:02, 4195.48it/s]\u001b[A\n",
      "Generating channels: 100%|█████████████████████████████████████████████████████| 69040/69040 [00:13<00:00, 5175.79it/s]\u001b[A\n"
     ]
    },
    {
     "name": "stdout",
     "output_type": "stream",
     "text": [
      "\n",
      "BS-BS Channels\n"
     ]
    },
    {
     "name": "stderr",
     "output_type": "stream",
     "text": [
      "\n",
      "Reading ray-tracing: 100%|███████████████████████████████████████████████████████████████████████| 1/1 [00:00<?, ?it/s]\u001b[A\n",
      "\n",
      "Generating channels: 100%|██████████████████████████████████████████████████████████████| 1/1 [00:00<00:00, 229.31it/s]\u001b[A\n"
     ]
    },
    {
     "name": "stdout",
     "output_type": "stream",
     "text": [
      "\n",
      "Scene 2/5\n",
      "\n",
      "Basestation 1\n",
      "\n",
      "UE-BS Channels\n"
     ]
    },
    {
     "name": "stderr",
     "output_type": "stream",
     "text": [
      "\n",
      "Reading ray-tracing:   0%|                                                                   | 0/69040 [00:00<?, ?it/s]\u001b[A\n",
      "Reading ray-tracing:   5%|██▍                                                  | 3159/69040 [00:00<00:02, 31021.49it/s]\u001b[A\n",
      "Reading ray-tracing:   9%|████▉                                                | 6355/69040 [00:00<00:01, 31566.49it/s]\u001b[A\n",
      "Reading ray-tracing:  14%|███████▎                                             | 9513/69040 [00:00<00:01, 31294.47it/s]\u001b[A\n",
      "Reading ray-tracing:  18%|█████████▌                                          | 12643/69040 [00:00<00:01, 30355.45it/s]\u001b[A\n",
      "Reading ray-tracing:  23%|███████████▊                                        | 15683/69040 [00:00<00:01, 29932.23it/s]\u001b[A\n",
      "Reading ray-tracing:  27%|██████████████                                      | 18679/69040 [00:00<00:01, 29838.37it/s]\u001b[A\n",
      "Reading ray-tracing:  31%|████████████████▎                                   | 21675/69040 [00:00<00:01, 29524.22it/s]\u001b[A\n",
      "Reading ray-tracing:  36%|██████████████████▋                                 | 24887/69040 [00:00<00:01, 29931.68it/s]\u001b[A\n",
      "Reading ray-tracing:  40%|████████████████████▉                               | 27881/69040 [00:00<00:01, 29397.80it/s]\u001b[A\n",
      "Reading ray-tracing:  45%|███████████████████████▏                            | 30822/69040 [00:01<00:01, 29273.01it/s]\u001b[A\n",
      "Reading ray-tracing:  49%|█████████████████████████▍                          | 33750/69040 [00:01<00:01, 28552.13it/s]\u001b[A\n",
      "Reading ray-tracing:  53%|███████████████████████████▋                        | 36771/69040 [00:01<00:01, 28770.42it/s]\u001b[A\n",
      "Reading ray-tracing:  57%|█████████████████████████████▊                      | 39651/69040 [00:01<00:01, 28585.48it/s]\u001b[A\n",
      "Reading ray-tracing:  62%|████████████████████████████████                    | 42511/69040 [00:01<00:00, 28394.77it/s]\u001b[A\n",
      "Reading ray-tracing:  66%|██████████████████████████████████▏                 | 45352/69040 [00:01<00:00, 28094.63it/s]\u001b[A\n",
      "Reading ray-tracing:  70%|████████████████████████████████████▎               | 48185/69040 [00:01<00:00, 27905.50it/s]\u001b[A\n",
      "Reading ray-tracing:  74%|██████████████████████████████████████▍             | 51098/69040 [00:01<00:00, 27982.89it/s]\u001b[A\n",
      "Reading ray-tracing:  78%|████████████████████████████████████████▌           | 53904/69040 [00:01<00:00, 27892.14it/s]\u001b[A\n",
      "Reading ray-tracing:  82%|██████████████████████████████████████████▊         | 56879/69040 [00:01<00:00, 28251.07it/s]\u001b[A\n",
      "Reading ray-tracing: 100%|████████████████████████████████████████████████████| 69040/69040 [00:02<00:00, 32002.72it/s]\u001b[A\n",
      "\n",
      "Generating channels:   0%|                                                                   | 0/69040 [00:00<?, ?it/s]\u001b[A\n",
      "Generating channels:   1%|▍                                                      | 530/69040 [00:00<00:13, 5100.04it/s]\u001b[A\n",
      "Generating channels:   2%|▊                                                     | 1041/69040 [00:00<00:16, 4121.93it/s]\u001b[A\n",
      "Generating channels:   2%|█▎                                                    | 1642/69040 [00:00<00:14, 4806.35it/s]\u001b[A\n",
      "Generating channels:   3%|█▊                                                    | 2258/69040 [00:00<00:12, 5292.27it/s]\u001b[A\n",
      "Generating channels:   4%|██▏                                                   | 2801/69040 [00:00<00:14, 4586.67it/s]\u001b[A\n",
      "Generating channels:   5%|██▌                                                   | 3280/69040 [00:00<00:14, 4506.41it/s]\u001b[A\n",
      "Generating channels:   6%|███▏                                                  | 4081/69040 [00:00<00:11, 5477.92it/s]\u001b[A\n",
      "Generating channels:   7%|███▋                                                  | 4648/69040 [00:00<00:13, 4820.42it/s]\u001b[A\n",
      "Generating channels:   7%|████                                                  | 5154/69040 [00:01<00:13, 4619.60it/s]\u001b[A\n",
      "Generating channels:   9%|████▋                                                 | 5951/69040 [00:01<00:11, 5478.11it/s]\u001b[A\n",
      "Generating channels:   9%|█████                                                 | 6523/69040 [00:01<00:12, 4920.92it/s]\u001b[A\n",
      "Generating channels:  10%|█████▌                                                | 7040/69040 [00:01<00:13, 4703.94it/s]\u001b[A\n",
      "Generating channels:  11%|██████▏                                               | 7831/69040 [00:01<00:11, 5514.89it/s]\u001b[A\n",
      "Generating channels:  12%|██████▌                                               | 8408/69040 [00:01<00:12, 4903.70it/s]\u001b[A\n",
      "Generating channels:  13%|██████▉                                               | 8926/69040 [00:01<00:13, 4585.25it/s]\u001b[A\n",
      "Generating channels:  14%|███████▌                                              | 9680/69040 [00:01<00:11, 5310.80it/s]\u001b[A\n",
      "Generating channels:  15%|███████▊                                             | 10240/69040 [00:02<00:12, 4822.76it/s]\u001b[A\n",
      "Generating channels:  16%|████████▎                                            | 10748/69040 [00:02<00:12, 4497.88it/s]\u001b[A\n",
      "Generating channels:  17%|████████▊                                            | 11536/69040 [00:02<00:10, 5288.49it/s]\u001b[A\n",
      "Generating channels:  18%|█████████▎                                           | 12093/69040 [00:02<00:11, 4852.32it/s]\u001b[A\n",
      "Generating channels:  18%|█████████▋                                           | 12602/69040 [00:02<00:12, 4453.65it/s]\u001b[A\n",
      "Generating channels:  19%|██████████▏                                          | 13273/69040 [00:02<00:11, 4974.76it/s]\u001b[A\n",
      "Generating channels:  20%|██████████▌                                          | 13801/69040 [00:02<00:11, 5018.06it/s]\u001b[A\n",
      "Generating channels:  21%|██████████▉                                          | 14320/69040 [00:02<00:11, 4567.84it/s]\u001b[A\n",
      "Generating channels:  22%|███████████▍                                         | 14891/69040 [00:03<00:11, 4817.42it/s]\u001b[A\n",
      "Generating channels:  22%|███████████▉                                         | 15491/69040 [00:03<00:10, 5126.26it/s]\u001b[A\n",
      "Generating channels:  23%|████████████▎                                        | 16019/69040 [00:03<00:11, 4625.08it/s]\u001b[A\n",
      "Generating channels:  24%|████████████▋                                        | 16500/69040 [00:03<00:11, 4414.29it/s]\u001b[A\n",
      "Generating channels:  25%|█████████████▏                                       | 17238/69040 [00:03<00:09, 5183.73it/s]\u001b[A\n",
      "Generating channels:  26%|█████████████▋                                       | 17777/69040 [00:03<00:10, 4793.19it/s]\u001b[A\n",
      "Generating channels:  26%|██████████████                                       | 18275/69040 [00:03<00:11, 4415.35it/s]\u001b[A\n",
      "Generating channels:  27%|██████████████▌                                      | 18904/69040 [00:03<00:10, 4878.40it/s]\u001b[A\n",
      "Generating channels:  28%|██████████████▉                                      | 19435/69040 [00:03<00:10, 4953.64it/s]\u001b[A\n",
      "Generating channels:  29%|███████████████▎                                     | 19945/69040 [00:04<00:10, 4508.20it/s]\u001b[A\n",
      "Generating channels:  30%|███████████████▋                                     | 20412/69040 [00:04<00:10, 4522.79it/s]\u001b[A\n",
      "Generating channels:  31%|████████████████▏                                    | 21115/69040 [00:04<00:09, 5161.75it/s]\u001b[A\n",
      "Generating channels:  31%|████████████████▌                                    | 21645/69040 [00:04<00:10, 4624.29it/s]\u001b[A\n",
      "Generating channels:  32%|████████████████▉                                    | 22126/69040 [00:04<00:10, 4405.70it/s]\u001b[A\n",
      "Generating channels:  33%|█████████████████▍                                   | 22749/69040 [00:04<00:09, 4870.97it/s]\u001b[A\n",
      "Generating channels:  34%|█████████████████▊                                   | 23253/69040 [00:04<00:09, 4876.73it/s]\u001b[A\n",
      "Generating channels:  34%|██████████████████▏                                  | 23752/69040 [00:04<00:10, 4355.03it/s]\u001b[A\n",
      "Generating channels:  35%|██████████████████▌                                  | 24204/69040 [00:05<00:10, 4388.25it/s]\u001b[A\n",
      "Generating channels:  36%|███████████████████▏                                 | 24915/69040 [00:05<00:08, 5085.29it/s]\u001b[A\n",
      "Generating channels:  37%|███████████████████▌                                 | 25439/69040 [00:05<00:09, 4625.42it/s]\u001b[A\n",
      "Generating channels:  38%|███████████████████▉                                 | 25919/69040 [00:05<00:09, 4498.36it/s]\u001b[A\n",
      "Generating channels:  39%|████████████████████▍                                | 26649/69040 [00:05<00:08, 5227.60it/s]\u001b[A\n",
      "Generating channels:  39%|████████████████████▊                                | 27189/69040 [00:05<00:08, 4900.40it/s]\u001b[A\n",
      "Generating channels:  40%|█████████████████████▎                               | 27694/69040 [00:05<00:09, 4445.76it/s]\u001b[A\n",
      "Generating channels:  41%|█████████████████████▋                               | 28277/69040 [00:05<00:08, 4761.93it/s]\u001b[A\n",
      "Generating channels:  42%|██████████████████████                               | 28817/69040 [00:05<00:08, 4889.25it/s]\u001b[A\n",
      "Generating channels:  42%|██████████████████████▌                              | 29319/69040 [00:06<00:09, 4363.91it/s]\u001b[A\n",
      "Generating channels:  43%|██████████████████████▊                              | 29773/69040 [00:06<00:09, 4250.68it/s]\u001b[A\n",
      "Generating channels:  44%|███████████████████████▍                             | 30471/69040 [00:06<00:07, 4924.44it/s]\u001b[A\n",
      "Generating channels:  45%|███████████████████████▊                             | 30980/69040 [00:06<00:08, 4571.36it/s]\u001b[A\n",
      "Generating channels:  46%|████████████████████████▏                            | 31452/69040 [00:06<00:08, 4189.82it/s]\u001b[A\n",
      "Generating channels:  46%|████████████████████████▌                            | 31999/69040 [00:06<00:08, 4485.77it/s]\u001b[A\n",
      "Generating channels:  47%|████████████████████████▉                            | 32526/69040 [00:06<00:07, 4668.45it/s]\u001b[A\n",
      "Generating channels:  48%|█████████████████████████▎                           | 33005/69040 [00:06<00:08, 4332.82it/s]\u001b[A\n",
      "Generating channels:  48%|█████████████████████████▋                           | 33450/69040 [00:07<00:08, 4002.79it/s]\u001b[A\n",
      "Generating channels:  49%|██████████████████████████▏                          | 34072/69040 [00:07<00:07, 4527.13it/s]\u001b[A\n",
      "Generating channels:  50%|██████████████████████████▌                          | 34540/69040 [00:07<00:07, 4530.95it/s]\u001b[A\n",
      "Generating channels:  51%|██████████████████████████▊                          | 35004/69040 [00:07<00:08, 4154.93it/s]\u001b[A\n",
      "Generating channels:  51%|███████████████████████████▏                         | 35431/69040 [00:07<00:08, 4100.50it/s]\u001b[A\n",
      "Generating channels:  52%|███████████████████████████▋                         | 36064/69040 [00:07<00:07, 4698.58it/s]\u001b[A\n",
      "Generating channels:  53%|████████████████████████████                         | 36546/69040 [00:07<00:07, 4545.08it/s]\u001b[A\n",
      "Generating channels:  54%|████████████████████████████▍                        | 37010/69040 [00:07<00:07, 4118.88it/s]\u001b[A\n",
      "Generating channels:  54%|████████████████████████████▋                        | 37440/69040 [00:08<00:07, 4150.77it/s]\u001b[A\n",
      "Generating channels:  55%|█████████████████████████████▏                       | 38059/69040 [00:08<00:06, 4678.34it/s]\u001b[A\n",
      "Generating channels:  56%|█████████████████████████████▌                       | 38538/69040 [00:08<00:06, 4510.89it/s]\u001b[A\n",
      "Generating channels:  56%|█████████████████████████████▉                       | 38998/69040 [00:08<00:07, 4192.01it/s]\u001b[A\n",
      "Generating channels:  57%|██████████████████████████████▎                      | 39511/69040 [00:08<00:06, 4410.65it/s]\u001b[A\n",
      "Generating channels:  58%|██████████████████████████████▋                      | 40056/69040 [00:08<00:06, 4693.44it/s]\u001b[A\n",
      "Generating channels:  59%|███████████████████████████████                      | 40534/69040 [00:08<00:06, 4401.78it/s]\u001b[A\n",
      "Generating channels:  59%|███████████████████████████████▍                     | 40983/69040 [00:08<00:06, 4147.71it/s]\u001b[A\n",
      "Generating channels:  60%|███████████████████████████████▉                     | 41564/69040 [00:08<00:06, 4548.60it/s]\u001b[A\n",
      "Generating channels:  61%|████████████████████████████████▎                    | 42076/69040 [00:09<00:05, 4649.52it/s]\u001b[A\n",
      "Generating channels:  62%|████████████████████████████████▋                    | 42548/69040 [00:09<00:06, 4302.06it/s]\u001b[A\n",
      "Generating channels:  62%|████████████████████████████████▉                    | 42987/69040 [00:09<00:06, 4268.64it/s]\u001b[A\n",
      "Generating channels:  63%|█████████████████████████████████▍                   | 43568/69040 [00:09<00:05, 4686.96it/s]\u001b[A\n",
      "Generating channels:  64%|█████████████████████████████████▊                   | 44048/69040 [00:09<00:05, 4699.29it/s]\u001b[A\n",
      "Generating channels:  64%|██████████████████████████████████▏                  | 44524/69040 [00:09<00:05, 4351.62it/s]\u001b[A\n",
      "Generating channels:  65%|██████████████████████████████████▌                  | 44968/69040 [00:09<00:05, 4283.62it/s]\u001b[A\n",
      "Generating channels:  66%|███████████████████████████████████                  | 45596/69040 [00:09<00:04, 4812.07it/s]\u001b[A\n",
      "Generating channels:  67%|███████████████████████████████████▍                 | 46085/69040 [00:09<00:04, 4661.17it/s]\u001b[A\n",
      "Generating channels:  67%|███████████████████████████████████▋                 | 46557/69040 [00:10<00:05, 4264.94it/s]\u001b[A\n",
      "Generating channels:  68%|████████████████████████████████████▏                | 47059/69040 [00:10<00:04, 4424.60it/s]\u001b[A\n",
      "Generating channels:  69%|████████████████████████████████████▌                | 47619/69040 [00:10<00:04, 4744.55it/s]\u001b[A\n",
      "Generating channels:  70%|████████████████████████████████████▉                | 48102/69040 [00:10<00:04, 4461.25it/s]\u001b[A\n",
      "Generating channels:  70%|█████████████████████████████████████▎               | 48557/69040 [00:10<00:04, 4240.50it/s]\u001b[A\n",
      "Generating channels:  71%|█████████████████████████████████████▋               | 49140/69040 [00:10<00:04, 4656.31it/s]\u001b[A\n",
      "Generating channels:  72%|██████████████████████████████████████               | 49641/69040 [00:10<00:04, 4748.08it/s]\u001b[A\n",
      "Generating channels:  73%|██████████████████████████████████████▍              | 50123/69040 [00:10<00:04, 4269.34it/s]\u001b[A\n",
      "Generating channels:  73%|██████████████████████████████████████▊              | 50563/69040 [00:10<00:04, 4268.41it/s]\u001b[A\n",
      "Generating channels:  74%|███████████████████████████████████████▏             | 51114/69040 [00:11<00:03, 4565.28it/s]\u001b[A\n",
      "Generating channels:  75%|███████████████████████████████████████▌             | 51579/69040 [00:11<00:03, 4567.54it/s]\u001b[A\n",
      "Generating channels:  75%|███████████████████████████████████████▉             | 52042/69040 [00:11<00:04, 4212.74it/s]\u001b[A\n",
      "Generating channels:  76%|████████████████████████████████████████▎            | 52472/69040 [00:11<00:03, 4226.23it/s]\u001b[A\n",
      "Generating channels:  77%|████████████████████████████████████████▋            | 53020/69040 [00:11<00:03, 4528.32it/s]\u001b[A\n",
      "Generating channels:  78%|█████████████████████████████████████████            | 53519/69040 [00:11<00:03, 4645.26it/s]\u001b[A\n",
      "Generating channels:  78%|█████████████████████████████████████████▍           | 53989/69040 [00:11<00:03, 4302.66it/s]\u001b[A\n",
      "Generating channels:  79%|█████████████████████████████████████████▊           | 54427/69040 [00:11<00:03, 4323.32it/s]\u001b[A\n",
      "Generating channels:  80%|██████████████████████████████████████████▏          | 54990/69040 [00:11<00:03, 4635.44it/s]\u001b[A\n",
      "Generating channels:  80%|██████████████████████████████████████████▌          | 55459/69040 [00:12<00:02, 4614.47it/s]\u001b[A\n",
      "Generating channels:  81%|██████████████████████████████████████████▉          | 55924/69040 [00:12<00:03, 4275.80it/s]\u001b[A\n",
      "Generating channels:  82%|███████████████████████████████████████████▎         | 56384/69040 [00:12<00:02, 4343.15it/s]\u001b[A\n",
      "Generating channels:  82%|███████████████████████████████████████████▋         | 56941/69040 [00:12<00:02, 4642.52it/s]\u001b[A\n",
      "Generating channels:  83%|████████████████████████████████████████████         | 57410/69040 [00:12<00:02, 4543.22it/s]\u001b[A\n",
      "Generating channels:  84%|████████████████████████████████████████████▍        | 57868/69040 [00:12<00:02, 4175.79it/s]\u001b[A\n",
      "Generating channels: 100%|█████████████████████████████████████████████████████| 69040/69040 [00:12<00:00, 5416.77it/s]\u001b[A\n"
     ]
    },
    {
     "name": "stdout",
     "output_type": "stream",
     "text": [
      "\n",
      "BS-BS Channels\n"
     ]
    },
    {
     "name": "stderr",
     "output_type": "stream",
     "text": [
      "\n",
      "Reading ray-tracing: 100%|███████████████████████████████████████████████████████████████████████| 1/1 [00:00<?, ?it/s]\u001b[A\n",
      "\n",
      "Generating channels: 100%|██████████████████████████████████████████████████████████████| 1/1 [00:00<00:00, 248.98it/s]\u001b[A\n"
     ]
    },
    {
     "name": "stdout",
     "output_type": "stream",
     "text": [
      "\n",
      "Scene 3/5\n",
      "\n",
      "Basestation 1\n",
      "\n",
      "UE-BS Channels\n"
     ]
    },
    {
     "name": "stderr",
     "output_type": "stream",
     "text": [
      "\n",
      "Reading ray-tracing:   0%|                                                                   | 0/69040 [00:00<?, ?it/s]\u001b[A\n",
      "Reading ray-tracing:   4%|██▎                                                  | 3093/69040 [00:00<00:02, 30147.36it/s]\u001b[A\n",
      "Reading ray-tracing:   9%|████▋                                                | 6177/69040 [00:00<00:02, 30504.11it/s]\u001b[A\n",
      "Reading ray-tracing:  14%|███████▎                                             | 9450/69040 [00:00<00:01, 31424.19it/s]\u001b[A\n",
      "Reading ray-tracing:  18%|█████████▍                                          | 12593/69040 [00:00<00:01, 30914.31it/s]\u001b[A\n",
      "Reading ray-tracing:  23%|███████████▊                                        | 15686/69040 [00:00<00:01, 30867.46it/s]\u001b[A\n",
      "Reading ray-tracing:  27%|██████████████▏                                     | 18774/69040 [00:00<00:01, 30551.06it/s]\u001b[A\n",
      "Reading ray-tracing:  32%|████████████████▍                                   | 21830/69040 [00:00<00:01, 29461.19it/s]\u001b[A\n",
      "Reading ray-tracing:  36%|██████████████████▋                                 | 24838/69040 [00:00<00:01, 29600.91it/s]\u001b[A\n",
      "Reading ray-tracing:  40%|████████████████████▉                               | 27804/69040 [00:00<00:01, 29154.60it/s]\u001b[A\n",
      "Reading ray-tracing:  45%|███████████████████████▏                            | 30808/69040 [00:01<00:01, 29235.16it/s]\u001b[A\n",
      "Reading ray-tracing:  49%|█████████████████████████▍                          | 33735/69040 [00:01<00:01, 29013.76it/s]\u001b[A\n",
      "Reading ray-tracing:  53%|███████████████████████████▋                        | 36733/69040 [00:01<00:01, 29128.66it/s]\u001b[A\n",
      "Reading ray-tracing:  58%|█████████████████████████████▉                      | 39709/69040 [00:01<00:01, 29134.01it/s]\u001b[A\n",
      "Reading ray-tracing:  62%|████████████████████████████████                    | 42624/69040 [00:01<00:00, 28829.37it/s]\u001b[A\n",
      "Reading ray-tracing:  66%|██████████████████████████████████▎                 | 45508/69040 [00:01<00:00, 28507.79it/s]\u001b[A\n",
      "Reading ray-tracing:  70%|████████████████████████████████████▍               | 48372/69040 [00:01<00:00, 28277.85it/s]\u001b[A\n",
      "Reading ray-tracing:  74%|██████████████████████████████████████▋             | 51354/69040 [00:01<00:00, 28400.58it/s]\u001b[A\n",
      "Reading ray-tracing:  79%|████████████████████████████████████████▉           | 54380/69040 [00:01<00:00, 28741.27it/s]\u001b[A\n",
      "Reading ray-tracing:  83%|███████████████████████████████████████████▏        | 57321/69040 [00:01<00:00, 28818.64it/s]\u001b[A\n",
      "Reading ray-tracing: 100%|████████████████████████████████████████████████████| 69040/69040 [00:02<00:00, 32464.24it/s]\u001b[A\n",
      "\n",
      "Generating channels:   0%|                                                                   | 0/69040 [00:00<?, ?it/s]\u001b[A\n",
      "Generating channels:   1%|▍                                                      | 529/69040 [00:00<00:13, 5105.61it/s]\u001b[A\n",
      "Generating channels:   2%|▊                                                     | 1040/69040 [00:00<00:17, 3946.95it/s]\u001b[A\n",
      "Generating channels:   2%|█▎                                                    | 1652/69040 [00:00<00:14, 4776.74it/s]\u001b[A\n",
      "Generating channels:   3%|█▊                                                    | 2252/69040 [00:00<00:12, 5187.67it/s]\u001b[A\n",
      "Generating channels:   4%|██▏                                                   | 2788/69040 [00:00<00:14, 4454.29it/s]\u001b[A\n",
      "Generating channels:   5%|██▌                                                   | 3258/69040 [00:00<00:14, 4408.31it/s]\u001b[A\n",
      "Generating channels:   6%|███▏                                                  | 4008/69040 [00:00<00:12, 5270.54it/s]\u001b[A\n",
      "Generating channels:   7%|███▌                                                  | 4556/69040 [00:00<00:13, 4713.87it/s]\u001b[A\n",
      "Generating channels:   7%|███▉                                                  | 5050/69040 [00:01<00:14, 4408.07it/s]\u001b[A\n",
      "Generating channels:   8%|████▌                                                 | 5842/69040 [00:01<00:11, 5289.50it/s]\u001b[A\n",
      "Generating channels:   9%|█████                                                 | 6397/69040 [00:01<00:12, 4943.27it/s]\u001b[A\n",
      "Generating channels:  10%|█████▍                                                | 6912/69040 [00:01<00:13, 4536.94it/s]\u001b[A\n",
      "Generating channels:  11%|█████▉                                                | 7603/69040 [00:01<00:12, 5105.87it/s]\u001b[A\n",
      "Generating channels:  12%|██████▎                                               | 8136/69040 [00:01<00:11, 5110.88it/s]\u001b[A\n",
      "Generating channels:  13%|██████▊                                               | 8663/69040 [00:01<00:13, 4481.01it/s]\u001b[A\n",
      "Generating channels:  13%|███████▏                                              | 9251/69040 [00:01<00:12, 4834.57it/s]\u001b[A\n",
      "Generating channels:  14%|███████▋                                              | 9857/69040 [00:02<00:11, 5110.88it/s]\u001b[A\n",
      "Generating channels:  15%|███████▉                                             | 10387/69040 [00:02<00:12, 4557.18it/s]\u001b[A\n",
      "Generating channels:  16%|████████▎                                            | 10865/69040 [00:02<00:12, 4598.71it/s]\u001b[A\n",
      "Generating channels:  17%|████████▉                                            | 11605/69040 [00:02<00:10, 5285.13it/s]\u001b[A\n",
      "Generating channels:  18%|█████████▎                                           | 12151/69040 [00:02<00:11, 4782.82it/s]\u001b[A\n",
      "Generating channels:  18%|█████████▋                                           | 12649/69040 [00:02<00:12, 4450.31it/s]\u001b[A\n",
      "Generating channels:  19%|██████████▎                                          | 13428/69040 [00:02<00:10, 5265.97it/s]\u001b[A\n",
      "Generating channels:  20%|██████████▋                                          | 13979/69040 [00:02<00:11, 4934.95it/s]\u001b[A\n",
      "Generating channels:  21%|███████████                                          | 14491/69040 [00:03<00:12, 4527.79it/s]\u001b[A\n",
      "Generating channels:  22%|███████████▋                                         | 15174/69040 [00:03<00:10, 5092.55it/s]\u001b[A\n",
      "Generating channels:  23%|████████████                                         | 15705/69040 [00:03<00:10, 5001.43it/s]\u001b[A\n",
      "Generating channels:  23%|████████████▍                                        | 16220/69040 [00:03<00:11, 4494.48it/s]\u001b[A\n",
      "Generating channels:  24%|████████████▉                                        | 16798/69040 [00:03<00:10, 4819.60it/s]\u001b[A\n",
      "Generating channels:  25%|█████████████▎                                       | 17350/69040 [00:03<00:10, 4965.39it/s]\u001b[A\n",
      "Generating channels:  26%|█████████████▋                                       | 17861/69040 [00:03<00:11, 4581.97it/s]\u001b[A\n",
      "Generating channels:  27%|██████████████                                       | 18333/69040 [00:03<00:11, 4379.28it/s]\u001b[A\n",
      "Generating channels:  28%|██████████████▌                                      | 19040/69040 [00:03<00:09, 5064.52it/s]\u001b[A\n",
      "Generating channels:  28%|███████████████                                      | 19562/69040 [00:04<00:10, 4834.72it/s]\u001b[A\n",
      "Generating channels:  29%|███████████████▍                                     | 20058/69040 [00:04<00:11, 4423.24it/s]\u001b[A\n",
      "Generating channels:  30%|███████████████▉                                     | 20682/69040 [00:04<00:09, 4878.81it/s]\u001b[A\n",
      "Generating channels:  31%|████████████████▎                                    | 21210/69040 [00:04<00:09, 4939.76it/s]\u001b[A\n",
      "Generating channels:  31%|████████████████▋                                    | 21716/69040 [00:04<00:10, 4432.34it/s]\u001b[A\n",
      "Generating channels:  32%|█████████████████                                    | 22176/69040 [00:04<00:10, 4327.71it/s]\u001b[A\n",
      "Generating channels:  33%|█████████████████▌                                   | 22891/69040 [00:04<00:09, 5022.90it/s]\u001b[A\n",
      "Generating channels:  34%|█████████████████▉                                   | 23408/69040 [00:04<00:09, 4687.08it/s]\u001b[A\n",
      "Generating channels:  35%|██████████████████▎                                  | 23890/69040 [00:05<00:10, 4296.96it/s]\u001b[A\n",
      "Generating channels:  36%|██████████████████▊                                  | 24575/69040 [00:05<00:09, 4939.52it/s]\u001b[A\n",
      "Generating channels:  36%|███████████████████▎                                 | 25089/69040 [00:05<00:08, 4967.41it/s]\u001b[A\n",
      "Generating channels:  37%|███████████████████▋                                 | 25600/69040 [00:05<00:09, 4508.43it/s]\u001b[A\n",
      "Generating channels:  38%|████████████████████                                 | 26067/69040 [00:05<00:09, 4490.22it/s]\u001b[A\n",
      "Generating channels:  39%|████████████████████▌                                | 26800/69040 [00:05<00:08, 5206.87it/s]\u001b[A\n",
      "Generating channels:  40%|████████████████████▉                                | 27335/69040 [00:05<00:08, 4696.38it/s]\u001b[A\n",
      "Generating channels:  40%|█████████████████████▎                               | 27822/69040 [00:05<00:09, 4522.70it/s]\u001b[A\n",
      "Generating channels:  41%|█████████████████████▉                               | 28512/69040 [00:05<00:07, 5105.51it/s]\u001b[A\n",
      "Generating channels:  42%|██████████████████████▎                              | 29038/69040 [00:06<00:08, 4794.85it/s]\u001b[A\n",
      "Generating channels:  43%|██████████████████████▋                              | 29531/69040 [00:06<00:09, 4376.10it/s]\u001b[A\n",
      "Generating channels:  44%|███████████████████████▏                             | 30131/69040 [00:06<00:08, 4747.11it/s]\u001b[A\n",
      "Generating channels:  44%|███████████████████████▌                             | 30656/69040 [00:06<00:07, 4848.30it/s]\u001b[A\n",
      "Generating channels:  45%|███████████████████████▉                             | 31153/69040 [00:06<00:08, 4464.26it/s]\u001b[A\n",
      "Generating channels:  46%|████████████████████████▎                            | 31612/69040 [00:06<00:08, 4196.37it/s]\u001b[A\n",
      "Generating channels:  47%|████████████████████████▊                            | 32279/69040 [00:06<00:07, 4810.40it/s]\u001b[A\n",
      "Generating channels:  47%|█████████████████████████▏                           | 32775/69040 [00:06<00:07, 4664.98it/s]\u001b[A\n",
      "Generating channels:  48%|█████████████████████████▌                           | 33252/69040 [00:07<00:08, 4211.95it/s]\u001b[A\n",
      "Generating channels:  49%|█████████████████████████▉                           | 33708/69040 [00:07<00:08, 4287.25it/s]\u001b[A\n",
      "Generating channels:  50%|██████████████████████████▎                          | 34316/69040 [00:07<00:07, 4718.67it/s]\u001b[A\n",
      "Generating channels:  50%|██████████████████████████▋                          | 34799/69040 [00:07<00:07, 4530.18it/s]\u001b[A\n",
      "Generating channels:  51%|███████████████████████████                          | 35261/69040 [00:07<00:08, 4159.83it/s]\u001b[A\n",
      "Generating channels:  52%|███████████████████████████▍                         | 35789/69040 [00:07<00:07, 4412.46it/s]\u001b[A\n",
      "Generating channels:  53%|███████████████████████████▊                         | 36257/69040 [00:07<00:07, 4467.22it/s]\u001b[A\n",
      "Generating channels:  53%|████████████████████████████▏                        | 36712/69040 [00:07<00:07, 4266.29it/s]\u001b[A\n",
      "Generating channels:  54%|████████████████████████████▌                        | 37145/69040 [00:07<00:07, 4076.78it/s]\u001b[A\n",
      "Generating channels:  55%|████████████████████████████▉                        | 37754/69040 [00:08<00:06, 4576.41it/s]\u001b[A\n",
      "Generating channels:  55%|█████████████████████████████▎                       | 38238/69040 [00:08<00:06, 4625.81it/s]\u001b[A\n",
      "Generating channels:  56%|█████████████████████████████▋                       | 38706/69040 [00:08<00:07, 4312.29it/s]\u001b[A\n",
      "Generating channels:  57%|██████████████████████████████                       | 39145/69040 [00:08<00:07, 4209.95it/s]\u001b[A\n",
      "Generating channels:  58%|██████████████████████████████▌                      | 39734/69040 [00:08<00:06, 4650.46it/s]\u001b[A\n",
      "Generating channels:  58%|██████████████████████████████▊                      | 40206/69040 [00:08<00:06, 4650.78it/s]\u001b[A\n",
      "Generating channels:  59%|███████████████████████████████▏                     | 40676/69040 [00:08<00:06, 4181.21it/s]\u001b[A\n",
      "Generating channels:  60%|███████████████████████████████▌                     | 41106/69040 [00:08<00:06, 4119.64it/s]\u001b[A\n",
      "Generating channels:  60%|███████████████████████████████▉                     | 41660/69040 [00:08<00:06, 4462.56it/s]\u001b[A\n",
      "Generating channels:  61%|████████████████████████████████▎                    | 42114/69040 [00:09<00:06, 4478.69it/s]\u001b[A\n",
      "Generating channels:  62%|████████████████████████████████▋                    | 42568/69040 [00:09<00:06, 4134.22it/s]\u001b[A\n",
      "Generating channels:  62%|█████████████████████████████████                    | 42990/69040 [00:09<00:06, 4131.43it/s]\u001b[A\n",
      "Generating channels:  63%|█████████████████████████████████▍                   | 43535/69040 [00:09<00:05, 4461.76it/s]\u001b[A\n",
      "Generating channels:  64%|█████████████████████████████████▊                   | 43987/69040 [00:09<00:05, 4420.51it/s]\u001b[A\n",
      "Generating channels:  64%|██████████████████████████████████                   | 44433/69040 [00:09<00:06, 4058.76it/s]\u001b[A\n",
      "Generating channels:  65%|██████████████████████████████████▍                  | 44847/69040 [00:09<00:06, 3933.70it/s]\u001b[A\n",
      "Generating channels:  66%|██████████████████████████████████▊                  | 45392/69040 [00:09<00:05, 4304.59it/s]\u001b[A\n",
      "Generating channels:  66%|███████████████████████████████████▏                 | 45850/69040 [00:09<00:05, 4349.33it/s]\u001b[A\n",
      "Generating channels:  67%|███████████████████████████████████▌                 | 46290/69040 [00:10<00:05, 4126.83it/s]\u001b[A\n",
      "Generating channels:  68%|███████████████████████████████████▊                 | 46708/69040 [00:10<00:05, 4071.03it/s]\u001b[A\n",
      "Generating channels:  68%|████████████████████████████████████▎                | 47284/69040 [00:10<00:04, 4498.61it/s]\u001b[A\n",
      "Generating channels:  69%|████████████████████████████████████▋                | 47739/69040 [00:10<00:04, 4490.07it/s]\u001b[A\n",
      "Generating channels:  70%|████████████████████████████████████▉                | 48191/69040 [00:10<00:04, 4211.46it/s]\u001b[A\n",
      "Generating channels:  70%|█████████████████████████████████████▎               | 48617/69040 [00:10<00:04, 4189.87it/s]\u001b[A\n",
      "Generating channels:  71%|█████████████████████████████████████▊               | 49187/69040 [00:10<00:04, 4571.83it/s]\u001b[A\n",
      "Generating channels:  72%|██████████████████████████████████████               | 49652/69040 [00:10<00:04, 4567.42it/s]\u001b[A\n",
      "Generating channels:  73%|██████████████████████████████████████▍              | 50112/69040 [00:10<00:04, 4271.84it/s]\u001b[A\n",
      "Generating channels:  73%|██████████████████████████████████████▊              | 50545/69040 [00:11<00:04, 4244.30it/s]\u001b[A\n",
      "Generating channels:  74%|███████████████████████████████████████▏             | 51087/69040 [00:11<00:03, 4547.75it/s]\u001b[A\n",
      "Generating channels:  75%|███████████████████████████████████████▌             | 51563/69040 [00:11<00:03, 4555.48it/s]\u001b[A\n",
      "Generating channels:  75%|███████████████████████████████████████▉             | 52022/69040 [00:11<00:03, 4305.60it/s]\u001b[A\n",
      "Generating channels:  76%|████████████████████████████████████████▎            | 52457/69040 [00:11<00:03, 4297.14it/s]\u001b[A\n",
      "Generating channels:  77%|████████████████████████████████████████▋            | 53003/69040 [00:11<00:03, 4585.35it/s]\u001b[A\n",
      "Generating channels:  77%|█████████████████████████████████████████            | 53485/69040 [00:11<00:03, 4599.22it/s]\u001b[A\n",
      "Generating channels:  78%|█████████████████████████████████████████▍           | 53947/69040 [00:11<00:03, 4275.55it/s]\u001b[A\n",
      "Generating channels:  79%|█████████████████████████████████████████▋           | 54380/69040 [00:11<00:03, 4228.79it/s]\u001b[A\n",
      "Generating channels:  80%|██████████████████████████████████████████▏          | 54913/69040 [00:12<00:03, 4520.32it/s]\u001b[A\n",
      "Generating channels:  80%|██████████████████████████████████████████▌          | 55379/69040 [00:12<00:02, 4558.23it/s]\u001b[A\n",
      "Generating channels:  81%|██████████████████████████████████████████▊          | 55838/69040 [00:12<00:03, 4211.11it/s]\u001b[A\n",
      "Generating channels:  81%|███████████████████████████████████████████▏         | 56266/69040 [00:12<00:03, 4218.59it/s]\u001b[A\n",
      "Generating channels:  82%|███████████████████████████████████████████▌         | 56788/69040 [00:12<00:02, 4452.17it/s]\u001b[A\n",
      "Generating channels:  83%|███████████████████████████████████████████▉         | 57257/69040 [00:12<00:02, 4519.87it/s]\u001b[A\n",
      "Generating channels:  84%|████████████████████████████████████████████▎        | 57713/69040 [00:12<00:02, 4228.85it/s]\u001b[A\n"
     ]
    },
    {
     "name": "stderr",
     "output_type": "stream",
     "text": [
      "Generating channels: 100%|█████████████████████████████████████████████████████| 69040/69040 [00:12<00:00, 5366.16it/s]\u001b[A\n"
     ]
    },
    {
     "name": "stdout",
     "output_type": "stream",
     "text": [
      "\n",
      "BS-BS Channels\n"
     ]
    },
    {
     "name": "stderr",
     "output_type": "stream",
     "text": [
      "\n",
      "Reading ray-tracing: 100%|███████████████████████████████████████████████████████████████████████| 1/1 [00:00<?, ?it/s]\u001b[A\n",
      "\n",
      "Generating channels: 100%|██████████████████████████████████████████████████████████████| 1/1 [00:00<00:00, 247.52it/s]\u001b[A\n"
     ]
    },
    {
     "name": "stdout",
     "output_type": "stream",
     "text": [
      "\n",
      "Scene 4/5\n",
      "\n",
      "Basestation 1\n",
      "\n",
      "UE-BS Channels\n"
     ]
    },
    {
     "name": "stderr",
     "output_type": "stream",
     "text": [
      "\n",
      "Reading ray-tracing:   0%|                                                                   | 0/69040 [00:00<?, ?it/s]\u001b[A\n",
      "Reading ray-tracing:   4%|██▎                                                  | 2984/69040 [00:00<00:02, 29485.37it/s]\u001b[A\n",
      "Reading ray-tracing:   9%|████▊                                                | 6283/69040 [00:00<00:02, 31366.71it/s]\u001b[A\n",
      "Reading ray-tracing:  14%|███████▎                                             | 9588/69040 [00:00<00:01, 31651.87it/s]\u001b[A\n",
      "Reading ray-tracing:  18%|█████████▌                                          | 12753/69040 [00:00<00:01, 30872.20it/s]\u001b[A\n",
      "Reading ray-tracing:  23%|███████████▉                                        | 15843/69040 [00:00<00:01, 30485.02it/s]\u001b[A\n",
      "Reading ray-tracing:  27%|██████████████▏                                     | 18893/69040 [00:00<00:01, 30136.94it/s]\u001b[A\n",
      "Reading ray-tracing:  32%|████████████████▌                                   | 21908/69040 [00:00<00:01, 29573.93it/s]\u001b[A\n",
      "Reading ray-tracing:  36%|██████████████████▉                                 | 25123/69040 [00:00<00:01, 30029.74it/s]\u001b[A\n",
      "Reading ray-tracing:  41%|█████████████████████▎                              | 28251/69040 [00:00<00:01, 30180.44it/s]\u001b[A\n",
      "Reading ray-tracing:  45%|███████████████████████▌                            | 31270/69040 [00:01<00:01, 29899.39it/s]\u001b[A\n",
      "Reading ray-tracing:  50%|█████████████████████████▊                          | 34261/69040 [00:01<00:01, 29671.78it/s]\u001b[A\n",
      "Reading ray-tracing:  54%|████████████████████████████                        | 37229/69040 [00:01<00:01, 29405.64it/s]\u001b[A\n",
      "Reading ray-tracing:  58%|██████████████████████████████▎                     | 40266/69040 [00:01<00:00, 29398.76it/s]\u001b[A\n",
      "Reading ray-tracing:  63%|████████████████████████████████▌                   | 43206/69040 [00:01<00:00, 29368.24it/s]\u001b[A\n",
      "Reading ray-tracing:  67%|██████████████████████████████████▊                 | 46143/69040 [00:01<00:00, 28983.36it/s]\u001b[A\n",
      "Reading ray-tracing:  71%|████████████████████████████████████▉               | 49101/69040 [00:01<00:00, 28853.03it/s]\u001b[A\n",
      "Reading ray-tracing:  75%|███████████████████████████████████████▏            | 51987/69040 [00:01<00:00, 28527.98it/s]\u001b[A\n",
      "Reading ray-tracing:  79%|█████████████████████████████████████████▎          | 54841/69040 [00:01<00:00, 28525.15it/s]\u001b[A\n",
      "Reading ray-tracing:  84%|███████████████████████████████████████████▍        | 57694/69040 [00:01<00:00, 28260.59it/s]\u001b[A\n",
      "Reading ray-tracing: 100%|████████████████████████████████████████████████████| 69040/69040 [00:02<00:00, 32432.44it/s]\u001b[A\n",
      "\n",
      "Generating channels:   0%|                                                                   | 0/69040 [00:00<?, ?it/s]\u001b[A\n",
      "Generating channels:   1%|▍                                                      | 517/69040 [00:00<00:13, 5056.08it/s]\u001b[A\n",
      "Generating channels:   1%|▊                                                     | 1023/69040 [00:00<00:17, 3880.77it/s]\u001b[A\n",
      "Generating channels:   2%|█▏                                                    | 1521/69040 [00:00<00:15, 4251.70it/s]\u001b[A\n",
      "Generating channels:   3%|█▋                                                    | 2212/69040 [00:00<00:12, 5150.16it/s]\u001b[A\n",
      "Generating channels:   4%|██▏                                                   | 2745/69040 [00:00<00:14, 4563.70it/s]\u001b[A\n",
      "Generating channels:   5%|██▌                                                   | 3221/69040 [00:00<00:15, 4320.17it/s]\u001b[A\n",
      "Generating channels:   6%|███                                                   | 3983/69040 [00:00<00:12, 5196.72it/s]\u001b[A\n",
      "Generating channels:   7%|███▌                                                  | 4523/69040 [00:00<00:13, 4709.33it/s]\u001b[A\n",
      "Generating channels:   7%|███▉                                                  | 5013/69040 [00:01<00:14, 4300.26it/s]\u001b[A\n",
      "Generating channels:   8%|████▍                                                 | 5687/69040 [00:01<00:12, 4924.35it/s]\u001b[A\n",
      "Generating channels:   9%|████▊                                                 | 6204/69040 [00:01<00:12, 4983.73it/s]\u001b[A\n",
      "Generating channels:  10%|█████▎                                                | 6720/69040 [00:01<00:13, 4464.13it/s]\u001b[A\n",
      "Generating channels:  11%|█████▋                                                | 7304/69040 [00:01<00:12, 4775.38it/s]\u001b[A\n",
      "Generating channels:  11%|██████▏                                               | 7931/69040 [00:01<00:11, 5129.30it/s]\u001b[A\n",
      "Generating channels:  12%|██████▌                                               | 8460/69040 [00:01<00:13, 4563.67it/s]\u001b[A\n",
      "Generating channels:  13%|██████▉                                               | 8937/69040 [00:01<00:13, 4402.24it/s]\u001b[A\n",
      "Generating channels:  14%|███████▌                                              | 9671/69040 [00:02<00:11, 5145.53it/s]\u001b[A\n",
      "Generating channels:  15%|███████▊                                             | 10206/69040 [00:02<00:12, 4723.02it/s]\u001b[A\n",
      "Generating channels:  15%|████████▏                                            | 10698/69040 [00:02<00:13, 4345.59it/s]\u001b[A\n",
      "Generating channels:  16%|████████▋                                            | 11365/69040 [00:02<00:11, 4914.64it/s]\u001b[A\n",
      "Generating channels:  17%|█████████                                            | 11881/69040 [00:02<00:11, 4953.45it/s]\u001b[A\n",
      "Generating channels:  18%|█████████▌                                           | 12392/69040 [00:02<00:12, 4442.11it/s]\u001b[A\n",
      "Generating channels:  19%|█████████▊                                           | 12855/69040 [00:02<00:12, 4481.32it/s]\u001b[A\n",
      "Generating channels:  20%|██████████▍                                          | 13537/69040 [00:02<00:10, 5104.19it/s]\u001b[A\n",
      "Generating channels:  20%|██████████▊                                          | 14065/69040 [00:03<00:11, 4663.15it/s]\u001b[A\n",
      "Generating channels:  21%|███████████▏                                         | 14549/69040 [00:03<00:12, 4335.71it/s]\u001b[A\n",
      "Generating channels:  22%|███████████▋                                         | 15266/69040 [00:03<00:10, 5059.49it/s]\u001b[A\n",
      "Generating channels:  23%|████████████                                         | 15794/69040 [00:03<00:11, 4751.07it/s]\u001b[A\n",
      "Generating channels:  24%|████████████▌                                        | 16287/69040 [00:03<00:12, 4262.84it/s]\u001b[A\n",
      "Generating channels:  24%|████████████▉                                        | 16913/69040 [00:03<00:11, 4726.33it/s]\u001b[A\n",
      "Generating channels:  25%|█████████████▍                                       | 17461/69040 [00:03<00:10, 4873.20it/s]\u001b[A\n",
      "Generating channels:  26%|█████████████▊                                       | 17965/69040 [00:03<00:11, 4412.67it/s]\u001b[A\n",
      "Generating channels:  27%|██████████████▏                                      | 18424/69040 [00:03<00:11, 4337.37it/s]\u001b[A\n",
      "Generating channels:  28%|██████████████▋                                      | 19097/69040 [00:04<00:10, 4957.39it/s]\u001b[A\n",
      "Generating channels:  28%|███████████████                                      | 19610/69040 [00:04<00:10, 4658.40it/s]\u001b[A\n",
      "Generating channels:  29%|███████████████▍                                     | 20090/69040 [00:04<00:11, 4220.30it/s]\u001b[A\n",
      "Generating channels:  30%|███████████████▉                                     | 20735/69040 [00:04<00:10, 4781.72it/s]\u001b[A\n",
      "Generating channels:  31%|████████████████▎                                    | 21243/69040 [00:04<00:09, 4821.87it/s]\u001b[A\n",
      "Generating channels:  31%|████████████████▋                                    | 21740/69040 [00:04<00:10, 4374.56it/s]\u001b[A\n",
      "Generating channels:  32%|█████████████████                                    | 22194/69040 [00:04<00:10, 4286.32it/s]\u001b[A\n",
      "Generating channels:  33%|█████████████████▌                                   | 22880/69040 [00:04<00:09, 4937.31it/s]\u001b[A\n",
      "Generating channels:  34%|█████████████████▉                                   | 23389/69040 [00:05<00:09, 4612.04it/s]\u001b[A\n",
      "Generating channels:  35%|██████████████████▎                                  | 23864/69040 [00:05<00:10, 4281.24it/s]\u001b[A\n",
      "Generating channels:  35%|██████████████████▊                                  | 24508/69040 [00:05<00:09, 4805.51it/s]\u001b[A\n",
      "Generating channels:  36%|███████████████████▏                                 | 25004/69040 [00:05<00:09, 4768.39it/s]\u001b[A\n",
      "Generating channels:  37%|███████████████████▌                                 | 25492/69040 [00:05<00:10, 4276.47it/s]\u001b[A\n",
      "Generating channels:  38%|███████████████████▉                                 | 25935/69040 [00:05<00:10, 4258.53it/s]\u001b[A\n",
      "Generating channels:  39%|████████████████████▍                                | 26592/69040 [00:05<00:08, 4874.99it/s]\u001b[A\n",
      "Generating channels:  39%|████████████████████▊                                | 27095/69040 [00:05<00:08, 4673.82it/s]\u001b[A\n",
      "Generating channels:  40%|█████████████████████▏                               | 27574/69040 [00:05<00:09, 4232.34it/s]\u001b[A\n",
      "Generating channels:  41%|█████████████████████▌                               | 28108/69040 [00:06<00:09, 4485.35it/s]\u001b[A\n",
      "Generating channels:  42%|██████████████████████                               | 28702/69040 [00:06<00:08, 4842.72it/s]\u001b[A\n",
      "Generating channels:  42%|██████████████████████▍                              | 29199/69040 [00:06<00:09, 4408.27it/s]\u001b[A\n",
      "Generating channels:  43%|██████████████████████▊                              | 29655/69040 [00:06<00:09, 4123.45it/s]\u001b[A\n",
      "Generating channels:  44%|███████████████████████▏                             | 30240/69040 [00:06<00:08, 4551.15it/s]\u001b[A\n",
      "Generating channels:  44%|███████████████████████▌                             | 30710/69040 [00:06<00:08, 4521.66it/s]\u001b[A\n",
      "Generating channels:  45%|███████████████████████▉                             | 31173/69040 [00:06<00:09, 4069.97it/s]\u001b[A\n",
      "Generating channels:  46%|████████████████████████▎                            | 31594/69040 [00:06<00:09, 3971.31it/s]\u001b[A\n",
      "Generating channels:  47%|████████████████████████▋                            | 32197/69040 [00:07<00:08, 4498.19it/s]\u001b[A\n",
      "Generating channels:  47%|█████████████████████████                            | 32660/69040 [00:07<00:08, 4358.07it/s]\u001b[A\n",
      "Generating channels:  48%|█████████████████████████▍                           | 33105/69040 [00:07<00:09, 3981.81it/s]\u001b[A\n",
      "Generating channels:  49%|█████████████████████████▋                           | 33514/69040 [00:07<00:09, 3880.35it/s]\u001b[A\n",
      "Generating channels:  49%|██████████████████████████▏                          | 34111/69040 [00:07<00:07, 4398.22it/s]\u001b[A\n",
      "Generating channels:  50%|██████████████████████████▌                          | 34562/69040 [00:07<00:07, 4388.14it/s]\u001b[A\n",
      "Generating channels:  51%|██████████████████████████▊                          | 35008/69040 [00:07<00:08, 3997.42it/s]\u001b[A\n",
      "Generating channels:  51%|███████████████████████████▏                         | 35429/69040 [00:07<00:08, 4009.86it/s]\u001b[A\n",
      "Generating channels:  52%|███████████████████████████▋                         | 36024/69040 [00:07<00:07, 4527.21it/s]\u001b[A\n",
      "Generating channels:  53%|████████████████████████████                         | 36487/69040 [00:08<00:07, 4493.05it/s]\u001b[A\n",
      "Generating channels:  54%|████████████████████████████▎                        | 36944/69040 [00:08<00:07, 4077.47it/s]\u001b[A\n",
      "Generating channels:  54%|████████████████████████████▋                        | 37363/69040 [00:08<00:07, 3998.57it/s]\u001b[A\n",
      "Generating channels:  55%|█████████████████████████████▏                       | 37954/69040 [00:08<00:06, 4465.48it/s]\u001b[A\n",
      "Generating channels:  56%|█████████████████████████████▍                       | 38410/69040 [00:08<00:06, 4411.55it/s]\u001b[A\n",
      "Generating channels:  56%|█████████████████████████████▊                       | 38857/69040 [00:08<00:07, 3938.38it/s]\u001b[A\n",
      "Generating channels:  57%|██████████████████████████████▏                      | 39263/69040 [00:08<00:07, 3900.89it/s]\u001b[A\n",
      "Generating channels:  58%|██████████████████████████████▌                      | 39831/69040 [00:08<00:06, 4333.40it/s]\u001b[A\n",
      "Generating channels:  58%|██████████████████████████████▉                      | 40282/69040 [00:08<00:06, 4374.41it/s]\u001b[A\n",
      "Generating channels:  59%|███████████████████████████████▎                     | 40727/69040 [00:09<00:06, 4066.65it/s]\u001b[A\n",
      "Generating channels:  60%|███████████████████████████████▌                     | 41142/69040 [00:09<00:06, 4005.87it/s]\u001b[A\n",
      "Generating channels:  60%|███████████████████████████████▉                     | 41670/69040 [00:09<00:06, 4346.75it/s]\u001b[A\n",
      "Generating channels:  61%|████████████████████████████████▎                    | 42122/69040 [00:09<00:06, 4395.19it/s]\u001b[A\n",
      "Generating channels:  62%|████████████████████████████████▋                    | 42567/69040 [00:09<00:06, 4094.08it/s]\u001b[A\n",
      "Generating channels:  62%|████████████████████████████████▉                    | 42984/69040 [00:09<00:06, 4069.49it/s]\u001b[A\n",
      "Generating channels:  63%|█████████████████████████████████▍                   | 43526/69040 [00:09<00:05, 4418.02it/s]\u001b[A\n",
      "Generating channels:  64%|█████████████████████████████████▊                   | 43991/69040 [00:09<00:05, 4440.99it/s]\u001b[A\n",
      "Generating channels:  64%|██████████████████████████████████                   | 44439/69040 [00:09<00:06, 4078.85it/s]\u001b[A\n",
      "Generating channels:  65%|██████████████████████████████████▍                  | 44855/69040 [00:10<00:05, 4082.92it/s]\u001b[A\n",
      "Generating channels:  66%|██████████████████████████████████▊                  | 45404/69040 [00:10<00:05, 4475.81it/s]\u001b[A\n",
      "Generating channels:  66%|███████████████████████████████████▏                 | 45883/69040 [00:10<00:05, 4517.70it/s]\u001b[A\n",
      "Generating channels:  67%|███████████████████████████████████▌                 | 46340/69040 [00:10<00:05, 4239.06it/s]\u001b[A\n",
      "Generating channels:  68%|███████████████████████████████████▉                 | 46770/69040 [00:10<00:05, 4247.98it/s]\u001b[A\n",
      "Generating channels:  69%|████████████████████████████████████▎                | 47328/69040 [00:10<00:04, 4580.55it/s]\u001b[A\n",
      "Generating channels:  69%|████████████████████████████████████▋                | 47819/69040 [00:10<00:04, 4627.65it/s]\u001b[A\n",
      "Generating channels:  70%|█████████████████████████████████████                | 48285/69040 [00:10<00:04, 4171.37it/s]\u001b[A\n",
      "Generating channels:  71%|█████████████████████████████████████▍               | 48715/69040 [00:10<00:04, 4159.51it/s]\u001b[A\n",
      "Generating channels:  71%|█████████████████████████████████████▊               | 49285/69040 [00:11<00:04, 4536.78it/s]\u001b[A\n",
      "Generating channels:  72%|██████████████████████████████████████▏              | 49746/69040 [00:11<00:04, 4520.11it/s]\u001b[A\n",
      "Generating channels:  73%|██████████████████████████████████████▌              | 50203/69040 [00:11<00:04, 4247.44it/s]\u001b[A\n",
      "Generating channels:  73%|██████████████████████████████████████▊              | 50634/69040 [00:11<00:04, 4233.00it/s]\u001b[A\n",
      "Generating channels:  74%|███████████████████████████████████████▎             | 51214/69040 [00:11<00:03, 4630.60it/s]\u001b[A\n",
      "Generating channels:  75%|███████████████████████████████████████▋             | 51682/69040 [00:11<00:03, 4632.38it/s]\u001b[A\n",
      "Generating channels:  76%|████████████████████████████████████████             | 52149/69040 [00:11<00:04, 4211.96it/s]\u001b[A\n",
      "Generating channels:  76%|████████████████████████████████████████▎            | 52594/69040 [00:11<00:03, 4243.84it/s]\u001b[A\n",
      "Generating channels:  77%|████████████████████████████████████████▊            | 53187/69040 [00:11<00:03, 4711.15it/s]\u001b[A\n",
      "Generating channels:  78%|█████████████████████████████████████████▏           | 53667/69040 [00:12<00:03, 4574.12it/s]\u001b[A\n",
      "Generating channels:  78%|█████████████████████████████████████████▌           | 54131/69040 [00:12<00:03, 4237.79it/s]\u001b[A\n",
      "Generating channels:  79%|█████████████████████████████████████████▉           | 54603/69040 [00:12<00:03, 4329.62it/s]\u001b[A\n",
      "Generating channels:  80%|██████████████████████████████████████████▎          | 55177/69040 [00:12<00:02, 4702.04it/s]\u001b[A\n",
      "Generating channels:  81%|██████████████████████████████████████████▋          | 55655/69040 [00:12<00:03, 4431.93it/s]\u001b[A\n",
      "Generating channels:  81%|███████████████████████████████████████████          | 56106/69040 [00:12<00:03, 4271.63it/s]\u001b[A\n",
      "Generating channels:  82%|███████████████████████████████████████████▍         | 56621/69040 [00:12<00:02, 4501.70it/s]\u001b[A\n"
     ]
    },
    {
     "name": "stderr",
     "output_type": "stream",
     "text": [
      "Generating channels:  83%|███████████████████████████████████████████▊         | 57152/69040 [00:12<00:02, 4727.00it/s]\u001b[A\n",
      "Generating channels:  83%|████████████████████████████████████████████▏        | 57631/69040 [00:12<00:02, 4294.61it/s]\u001b[A\n",
      "Generating channels: 100%|█████████████████████████████████████████████████████| 69040/69040 [00:13<00:00, 5252.47it/s]\u001b[A\n"
     ]
    },
    {
     "name": "stdout",
     "output_type": "stream",
     "text": [
      "\n",
      "BS-BS Channels\n"
     ]
    },
    {
     "name": "stderr",
     "output_type": "stream",
     "text": [
      "\n",
      "Reading ray-tracing: 100%|███████████████████████████████████████████████████████████████████████| 1/1 [00:00<?, ?it/s]\u001b[A\n",
      "\n",
      "Generating channels: 100%|██████████████████████████████████████████████████████████████| 1/1 [00:00<00:00, 238.31it/s]\u001b[A\n"
     ]
    },
    {
     "name": "stdout",
     "output_type": "stream",
     "text": [
      "\n",
      "Scene 5/5\n",
      "\n",
      "Basestation 1\n",
      "\n",
      "UE-BS Channels\n"
     ]
    },
    {
     "name": "stderr",
     "output_type": "stream",
     "text": [
      "\n",
      "Reading ray-tracing:   0%|                                                                   | 0/69040 [00:00<?, ?it/s]\u001b[A\n",
      "Reading ray-tracing:   4%|██▎                                                  | 2979/69040 [00:00<00:02, 29149.20it/s]\u001b[A\n",
      "Reading ray-tracing:   9%|████▋                                                | 6092/69040 [00:00<00:02, 29845.89it/s]\u001b[A\n",
      "Reading ray-tracing:  13%|██████▉                                              | 9077/69040 [00:00<00:02, 29766.05it/s]\u001b[A\n",
      "Reading ray-tracing:  18%|█████████                                           | 12111/69040 [00:00<00:01, 29708.55it/s]\u001b[A\n",
      "Reading ray-tracing:  22%|███████████▎                                        | 15082/69040 [00:00<00:01, 29285.94it/s]\u001b[A\n",
      "Reading ray-tracing:  26%|█████████████▌                                      | 18012/69040 [00:00<00:01, 29196.15it/s]\u001b[A\n",
      "Reading ray-tracing:  30%|███████████████▊                                    | 21024/69040 [00:00<00:01, 29263.10it/s]\u001b[A\n",
      "Reading ray-tracing:  35%|██████████████████                                  | 23951/69040 [00:00<00:01, 28991.73it/s]\u001b[A\n",
      "Reading ray-tracing:  39%|████████████████████▎                               | 26891/69040 [00:00<00:01, 28802.67it/s]\u001b[A\n",
      "Reading ray-tracing:  43%|██████████████████████▍                             | 29772/69040 [00:01<00:01, 28532.94it/s]\u001b[A\n",
      "Reading ray-tracing:  47%|████████████████████████▌                           | 32626/69040 [00:01<00:01, 28522.09it/s]\u001b[A\n",
      "Reading ray-tracing:  51%|██████████████████████████▋                         | 35479/69040 [00:01<00:01, 27928.85it/s]\u001b[A\n",
      "Reading ray-tracing:  56%|████████████████████████████▊                       | 38327/69040 [00:01<00:01, 27837.46it/s]\u001b[A\n",
      "Reading ray-tracing:  60%|███████████████████████████████                     | 41196/69040 [00:01<00:01, 27810.54it/s]\u001b[A\n",
      "Reading ray-tracing:  64%|█████████████████████████████████▏                  | 44043/69040 [00:01<00:00, 27761.49it/s]\u001b[A\n",
      "Reading ray-tracing:  68%|███████████████████████████████████▎                | 46831/69040 [00:01<00:00, 27547.34it/s]\u001b[A\n",
      "Reading ray-tracing:  72%|█████████████████████████████████████▍              | 49689/69040 [00:01<00:00, 27631.23it/s]\u001b[A\n",
      "Reading ray-tracing:  76%|███████████████████████████████████████▋            | 52695/69040 [00:01<00:00, 28236.91it/s]\u001b[A\n",
      "Reading ray-tracing:  80%|█████████████████████████████████████████▊          | 55547/69040 [00:01<00:00, 28168.35it/s]\u001b[A\n",
      "Reading ray-tracing:  85%|████████████████████████████████████████████        | 58449/69040 [00:02<00:00, 28214.22it/s]\u001b[A\n",
      "Reading ray-tracing: 100%|████████████████████████████████████████████████████| 69040/69040 [00:02<00:00, 31473.23it/s]\u001b[A\n",
      "\n",
      "Generating channels:   0%|                                                                   | 0/69040 [00:00<?, ?it/s]\u001b[A\n",
      "Generating channels:   1%|▍                                                      | 489/69040 [00:00<00:14, 4869.89it/s]\u001b[A\n",
      "Generating channels:   1%|▊                                                      | 976/69040 [00:00<00:17, 3910.84it/s]\u001b[A\n",
      "Generating channels:   2%|█                                                     | 1406/69040 [00:00<00:16, 3998.36it/s]\u001b[A\n",
      "Generating channels:   3%|█▋                                                    | 2113/69040 [00:00<00:13, 5095.84it/s]\u001b[A\n",
      "Generating channels:   4%|██                                                    | 2637/69040 [00:00<00:14, 4605.46it/s]\u001b[A\n",
      "Generating channels:   5%|██▍                                                   | 3113/69040 [00:00<00:15, 4233.30it/s]\u001b[A\n",
      "Generating channels:   5%|██▉                                                   | 3720/69040 [00:00<00:13, 4705.93it/s]\u001b[A\n",
      "Generating channels:   6%|███▎                                                  | 4217/69040 [00:00<00:13, 4751.76it/s]\u001b[A\n",
      "Generating channels:   7%|███▋                                                  | 4703/69040 [00:01<00:15, 4267.54it/s]\u001b[A\n",
      "Generating channels:   7%|████                                                  | 5144/69040 [00:01<00:15, 4165.37it/s]\u001b[A\n",
      "Generating channels:   8%|████▌                                                 | 5853/69040 [00:01<00:12, 4922.26it/s]\u001b[A\n",
      "Generating channels:   9%|████▉                                                 | 6360/69040 [00:01<00:13, 4544.66it/s]\u001b[A\n",
      "Generating channels:  10%|█████▎                                                | 6829/69040 [00:01<00:14, 4252.00it/s]\u001b[A\n",
      "Generating channels:  11%|█████▊                                                | 7420/69040 [00:01<00:13, 4643.74it/s]\u001b[A\n",
      "Generating channels:  12%|██████▏                                               | 7955/69040 [00:01<00:12, 4824.30it/s]\u001b[A\n",
      "Generating channels:  12%|██████▌                                               | 8449/69040 [00:01<00:13, 4439.44it/s]\u001b[A\n",
      "Generating channels:  13%|██████▉                                               | 8906/69040 [00:01<00:13, 4338.21it/s]\u001b[A\n",
      "Generating channels:  14%|███████▌                                              | 9628/69040 [00:02<00:11, 5079.67it/s]\u001b[A\n",
      "Generating channels:  15%|███████▊                                             | 10149/69040 [00:02<00:12, 4663.78it/s]\u001b[A\n",
      "Generating channels:  15%|████████▏                                            | 10630/69040 [00:02<00:13, 4256.03it/s]\u001b[A\n",
      "Generating channels:  16%|████████▋                                            | 11274/69040 [00:02<00:12, 4765.00it/s]\u001b[A\n",
      "Generating channels:  17%|█████████                                            | 11786/69040 [00:02<00:11, 4827.70it/s]\u001b[A\n",
      "Generating channels:  18%|█████████▍                                           | 12282/69040 [00:02<00:12, 4382.84it/s]\u001b[A\n",
      "Generating channels:  18%|█████████▊                                           | 12735/69040 [00:02<00:12, 4385.78it/s]\u001b[A\n",
      "Generating channels:  19%|██████████▎                                          | 13394/69040 [00:02<00:11, 4969.50it/s]\u001b[A\n",
      "Generating channels:  20%|██████████▋                                          | 13905/69040 [00:03<00:11, 4628.74it/s]\u001b[A\n",
      "Generating channels:  21%|███████████                                          | 14381/69040 [00:03<00:13, 4199.29it/s]\u001b[A\n",
      "Generating channels:  22%|███████████▍                                         | 14939/69040 [00:03<00:11, 4552.71it/s]\u001b[A\n",
      "Generating channels:  22%|███████████▊                                         | 15452/69040 [00:03<00:11, 4698.55it/s]\u001b[A\n",
      "Generating channels:  23%|████████████▏                                        | 15935/69040 [00:03<00:12, 4389.21it/s]\u001b[A\n",
      "Generating channels:  24%|████████████▌                                        | 16386/69040 [00:03<00:12, 4138.00it/s]\u001b[A\n",
      "Generating channels:  25%|█████████████                                        | 16993/69040 [00:03<00:11, 4599.01it/s]\u001b[A\n",
      "Generating channels:  25%|█████████████▍                                       | 17465/69040 [00:03<00:11, 4575.11it/s]\u001b[A\n",
      "Generating channels:  26%|█████████████▊                                       | 17931/69040 [00:03<00:12, 4176.44it/s]\u001b[A\n",
      "Generating channels:  27%|██████████████                                       | 18360/69040 [00:04<00:12, 4111.06it/s]\u001b[A\n",
      "Generating channels:  27%|██████████████▌                                      | 18973/69040 [00:04<00:10, 4627.69it/s]\u001b[A\n",
      "Generating channels:  28%|██████████████▉                                      | 19446/69040 [00:04<00:10, 4647.42it/s]\u001b[A\n",
      "Generating channels:  29%|███████████████▎                                     | 19918/69040 [00:04<00:11, 4189.88it/s]\u001b[A\n",
      "Generating channels:  29%|███████████████▌                                     | 20353/69040 [00:04<00:11, 4195.63it/s]\u001b[A\n",
      "Generating channels:  30%|████████████████▏                                    | 21035/69040 [00:04<00:09, 4862.16it/s]\u001b[A\n",
      "Generating channels:  31%|████████████████▌                                    | 21532/69040 [00:04<00:10, 4539.56it/s]\u001b[A\n",
      "Generating channels:  32%|████████████████▉                                    | 21997/69040 [00:04<00:11, 4153.11it/s]\u001b[A\n",
      "Generating channels:  33%|█████████████████▎                                   | 22622/69040 [00:05<00:09, 4680.90it/s]\u001b[A\n",
      "Generating channels:  33%|█████████████████▋                                   | 23116/69040 [00:05<00:09, 4704.60it/s]\u001b[A\n",
      "Generating channels:  34%|██████████████████                                   | 23598/69040 [00:05<00:10, 4281.12it/s]\u001b[A\n",
      "Generating channels:  35%|██████████████████▍                                  | 24040/69040 [00:05<00:10, 4164.42it/s]\u001b[A\n",
      "Generating channels:  36%|██████████████████▉                                  | 24663/69040 [00:05<00:09, 4712.05it/s]\u001b[A\n",
      "Generating channels:  36%|███████████████████▎                                 | 25148/69040 [00:05<00:09, 4636.31it/s]\u001b[A\n",
      "Generating channels:  37%|███████████████████▋                                 | 25621/69040 [00:05<00:10, 4241.59it/s]\u001b[A\n",
      "Generating channels:  38%|████████████████████                                 | 26075/69040 [00:05<00:09, 4310.97it/s]\u001b[A\n",
      "Generating channels:  39%|████████████████████▌                                | 26727/69040 [00:05<00:08, 4904.07it/s]\u001b[A\n",
      "Generating channels:  39%|████████████████████▉                                | 27229/69040 [00:06<00:09, 4576.47it/s]\u001b[A\n",
      "Generating channels:  40%|█████████████████████▎                               | 27698/69040 [00:06<00:09, 4197.03it/s]\u001b[A\n",
      "Generating channels:  41%|█████████████████████▋                               | 28299/69040 [00:06<00:08, 4622.98it/s]\u001b[A\n",
      "Generating channels:  42%|██████████████████████                               | 28775/69040 [00:06<00:08, 4611.96it/s]\u001b[A\n",
      "Generating channels:  42%|██████████████████████▍                              | 29246/69040 [00:06<00:09, 4145.82it/s]\u001b[A\n",
      "Generating channels:  43%|██████████████████████▊                              | 29675/69040 [00:06<00:09, 3979.08it/s]\u001b[A\n",
      "Generating channels:  44%|███████████████████████▏                             | 30275/69040 [00:06<00:08, 4457.24it/s]\u001b[A\n",
      "Generating channels:  45%|███████████████████████▌                             | 30733/69040 [00:06<00:08, 4413.96it/s]\u001b[A\n",
      "Generating channels:  45%|███████████████████████▉                             | 31183/69040 [00:07<00:09, 4002.30it/s]\u001b[A\n",
      "Generating channels:  46%|████████████████████████▎                            | 31595/69040 [00:07<00:09, 3978.65it/s]\u001b[A\n",
      "Generating channels:  47%|████████████████████████▋                            | 32198/69040 [00:07<00:08, 4519.53it/s]\u001b[A\n",
      "Generating channels:  47%|█████████████████████████                            | 32661/69040 [00:07<00:08, 4449.86it/s]\u001b[A\n",
      "Generating channels:  48%|█████████████████████████▍                           | 33114/69040 [00:07<00:09, 3983.64it/s]\u001b[A\n",
      "Generating channels:  49%|█████████████████████████▋                           | 33526/69040 [00:07<00:09, 3908.44it/s]\u001b[A\n",
      "Generating channels:  49%|██████████████████████████▏                          | 34137/69040 [00:07<00:07, 4459.64it/s]\u001b[A\n",
      "Generating channels:  50%|██████████████████████████▌                          | 34595/69040 [00:07<00:08, 4303.67it/s]\u001b[A\n",
      "Generating channels:  51%|██████████████████████████▉                          | 35034/69040 [00:07<00:08, 3888.94it/s]\u001b[A\n",
      "Generating channels:  51%|███████████████████████████▏                         | 35435/69040 [00:08<00:08, 3888.76it/s]\u001b[A\n",
      "Generating channels:  52%|███████████████████████████▌                         | 35981/69040 [00:08<00:07, 4297.37it/s]\u001b[A\n",
      "Generating channels:  53%|███████████████████████████▉                         | 36429/69040 [00:08<00:07, 4332.25it/s]\u001b[A\n",
      "Generating channels:  53%|████████████████████████████▎                        | 36870/69040 [00:08<00:07, 4031.41it/s]\u001b[A\n",
      "Generating channels:  54%|████████████████████████████▌                        | 37282/69040 [00:08<00:07, 4006.97it/s]\u001b[A\n",
      "Generating channels:  55%|█████████████████████████████                        | 37852/69040 [00:08<00:07, 4435.39it/s]\u001b[A\n",
      "Generating channels:  55%|█████████████████████████████▍                       | 38302/69040 [00:08<00:06, 4403.76it/s]\u001b[A\n",
      "Generating channels:  56%|█████████████████████████████▋                       | 38747/69040 [00:08<00:07, 3994.61it/s]\u001b[A\n",
      "Generating channels:  57%|██████████████████████████████                       | 39156/69040 [00:08<00:07, 3987.05it/s]\u001b[A\n",
      "Generating channels:  58%|██████████████████████████████▍                      | 39703/69040 [00:09<00:06, 4352.02it/s]\u001b[A\n",
      "Generating channels:  58%|██████████████████████████████▊                      | 40173/69040 [00:09<00:06, 4426.60it/s]\u001b[A\n",
      "Generating channels:  59%|███████████████████████████████▏                     | 40621/69040 [00:09<00:06, 4124.47it/s]\u001b[A\n",
      "Generating channels:  59%|███████████████████████████████▌                     | 41041/69040 [00:09<00:06, 4031.73it/s]\u001b[A\n",
      "Generating channels:  60%|███████████████████████████████▉                     | 41587/69040 [00:09<00:06, 4414.48it/s]\u001b[A\n",
      "Generating channels:  61%|████████████████████████████████▎                    | 42035/69040 [00:09<00:06, 4397.35it/s]\u001b[A\n",
      "Generating channels:  62%|████████████████████████████████▌                    | 42480/69040 [00:09<00:06, 4098.08it/s]\u001b[A\n",
      "Generating channels:  62%|████████████████████████████████▉                    | 42897/69040 [00:09<00:06, 4010.98it/s]\u001b[A\n",
      "Generating channels:  63%|█████████████████████████████████▎                   | 43437/69040 [00:09<00:05, 4393.64it/s]\u001b[A\n",
      "Generating channels:  64%|█████████████████████████████████▋                   | 43883/69040 [00:09<00:05, 4412.30it/s]\u001b[A\n",
      "Generating channels:  64%|██████████████████████████████████                   | 44329/69040 [00:10<00:05, 4218.81it/s]\u001b[A\n",
      "Generating channels:  65%|██████████████████████████████████▎                  | 44756/69040 [00:10<00:05, 4079.72it/s]\u001b[A\n",
      "Generating channels:  66%|██████████████████████████████████▊                  | 45289/69040 [00:10<00:05, 4391.57it/s]\u001b[A\n",
      "Generating channels:  66%|███████████████████████████████████                  | 45733/69040 [00:10<00:05, 4400.00it/s]\u001b[A\n",
      "Generating channels:  67%|███████████████████████████████████▍                 | 46176/69040 [00:10<00:05, 4204.40it/s]\u001b[A\n",
      "Generating channels:  67%|███████████████████████████████████▊                 | 46600/69040 [00:10<00:05, 4011.16it/s]\u001b[A\n",
      "Generating channels:  68%|████████████████████████████████████▏                | 47082/69040 [00:10<00:05, 4200.04it/s]\u001b[A\n",
      "Generating channels:  69%|████████████████████████████████████▌                | 47549/69040 [00:10<00:04, 4327.06it/s]\u001b[A\n",
      "Generating channels:  70%|████████████████████████████████████▊                | 47985/69040 [00:10<00:04, 4306.81it/s]\u001b[A\n",
      "Generating channels:  70%|█████████████████████████████████████▏               | 48418/69040 [00:11<00:05, 4042.14it/s]\u001b[A\n",
      "Generating channels:  71%|█████████████████████████████████████▌               | 48919/69040 [00:11<00:04, 4312.20it/s]\u001b[A\n",
      "Generating channels:  72%|█████████████████████████████████████▉               | 49404/69040 [00:11<00:04, 4426.27it/s]\u001b[A\n",
      "Generating channels:  72%|██████████████████████████████████████▎              | 49851/69040 [00:11<00:04, 4281.80it/s]\u001b[A\n",
      "Generating channels:  73%|██████████████████████████████████████▌              | 50283/69040 [00:11<00:04, 4034.65it/s]\u001b[A\n",
      "Generating channels:  74%|██████████████████████████████████████▉              | 50759/69040 [00:11<00:04, 4201.87it/s]\u001b[A\n",
      "Generating channels:  74%|███████████████████████████████████████▎             | 51276/69040 [00:11<00:03, 4471.66it/s]\u001b[A\n",
      "Generating channels:  75%|███████████████████████████████████████▋             | 51728/69040 [00:11<00:03, 4333.53it/s]\u001b[A\n",
      "Generating channels:  76%|████████████████████████████████████████             | 52166/69040 [00:11<00:04, 4023.79it/s]\u001b[A\n",
      "Generating channels:  76%|████████████████████████████████████████▍            | 52623/69040 [00:12<00:03, 4123.20it/s]\u001b[A\n",
      "Generating channels:  77%|████████████████████████████████████████▊            | 53123/69040 [00:12<00:03, 4363.05it/s]\u001b[A\n",
      "Generating channels:  78%|█████████████████████████████████████████            | 53565/69040 [00:12<00:03, 4375.86it/s]\u001b[A\n",
      "Generating channels:  78%|█████████████████████████████████████████▍           | 54007/69040 [00:12<00:03, 4055.84it/s]\u001b[A\n"
     ]
    },
    {
     "name": "stderr",
     "output_type": "stream",
     "text": [
      "Generating channels:  79%|█████████████████████████████████████████▊           | 54472/69040 [00:12<00:03, 4173.05it/s]\u001b[A\n",
      "Generating channels:  80%|██████████████████████████████████████████▏          | 55002/69040 [00:12<00:03, 4461.16it/s]\u001b[A\n",
      "Generating channels:  80%|██████████████████████████████████████████▌          | 55454/69040 [00:12<00:03, 4381.51it/s]\u001b[A\n",
      "Generating channels:  81%|██████████████████████████████████████████▉          | 55896/69040 [00:12<00:03, 4059.23it/s]\u001b[A\n",
      "Generating channels:  82%|███████████████████████████████████████████▏         | 56337/69040 [00:12<00:03, 4132.49it/s]\u001b[A\n",
      "Generating channels:  82%|███████████████████████████████████████████▋         | 56873/69040 [00:13<00:02, 4453.39it/s]\u001b[A\n",
      "Generating channels:  83%|████████████████████████████████████████████         | 57343/69040 [00:13<00:02, 4487.46it/s]\u001b[A\n",
      "Generating channels:  84%|████████████████████████████████████████████▎        | 57796/69040 [00:13<00:02, 4108.84it/s]\u001b[A\n",
      "Generating channels: 100%|█████████████████████████████████████████████████████| 69040/69040 [00:13<00:00, 5125.62it/s]\u001b[A\n"
     ]
    },
    {
     "name": "stdout",
     "output_type": "stream",
     "text": [
      "\n",
      "BS-BS Channels\n"
     ]
    },
    {
     "name": "stderr",
     "output_type": "stream",
     "text": [
      "\n",
      "Reading ray-tracing: 100%|███████████████████████████████████████████████████████████████████████| 1/1 [00:00<?, ?it/s]\u001b[A\n",
      "\n",
      "Generating channels: 100%|██████████████████████████████████████████████████████████████| 1/1 [00:00<00:00, 239.24it/s]\u001b[A\n",
      "100%|████████████████████████████████████████████████████████████████████████████████████| 2/2 [02:42<00:00, 81.07s/it]\n"
     ]
    },
    {
     "name": "stdout",
     "output_type": "stream",
     "text": [
      "Scenes 5–9 generation time: 82.88s\n"
     ]
    }
   ],
   "source": [
    "## dataset 구축 (chunked on‑the‑fly generation)\n",
    "import time, gc\n",
    "from tqdm import tqdm\n",
    "\n",
    "# 0~999 씬 인덱스, 한 번에 50개씩 처리\n",
    "scene_indices = np.arange(scene)\n",
    "chunk_size   = 5\n",
    "all_data     = []\n",
    "\n",
    "# 씬 묶음(chunk)마다 generate_data 호출\n",
    "for i in tqdm(range(0, len(scene_indices), chunk_size)):\n",
    "    chunk = scene_indices[i : i+chunk_size].tolist()\n",
    "    parameters['dynamic_scenario_scenes'] = chunk\n",
    "\n",
    "    start = time.time()\n",
    "    data_chunk = DeepMIMOv3.generate_data(parameters)\n",
    "    print(f\"Scenes {chunk[0]}–{chunk[-1]} generation time: {time.time() - start:.2f}s\")\n",
    "\n",
    "    # 바로 all_data에 합치거나, 디스크에 저장해도 OK\n",
    "    all_data.extend(data_chunk)\n",
    "\n",
    "    # 메모리 해제\n",
    "    del data_chunk\n",
    "    gc.collect()\n",
    "\n",
    "# 마지막에 하나의 리스트로 합친 데이터셋\n",
    "dataset = all_data\n"
   ]
  },
  {
   "cell_type": "markdown",
   "id": "5b4e72d4",
   "metadata": {},
   "source": [
    "# 사용자 접근 데이터"
   ]
  },
  {
   "cell_type": "code",
   "execution_count": 17,
   "id": "57828d31",
   "metadata": {},
   "outputs": [
    {
     "name": "stdout",
     "output_type": "stream",
     "text": [
      "dict_keys(['paths', 'LoS', 'location', 'distance', 'pathloss', 'channel'])\n"
     ]
    }
   ],
   "source": [
    "user_data = dataset[0][0]['user']\n",
    "print(user_data.keys())"
   ]
  },
  {
   "cell_type": "markdown",
   "id": "bc5a3b0c",
   "metadata": {},
   "source": [
    "# 사용자 채널 정보 확인"
   ]
  },
  {
   "cell_type": "code",
   "execution_count": 18,
   "id": "23b2884b",
   "metadata": {},
   "outputs": [
    {
     "name": "stdout",
     "output_type": "stream",
     "text": [
      "(69040, 1, 32, 64)\n"
     ]
    }
   ],
   "source": [
    "# subcarries = 나눈 각각의 주파수 채널\n",
    "# Channel = H <- 채널 벡터\n",
    "# 채널 형태\n",
    "# (user, UE antenna, Bs antenna, subcarrier)\n",
    "channel = dataset[0][0]['user']['channel']\n",
    "print(channel.shape)  "
   ]
  },
  {
   "cell_type": "code",
   "execution_count": 19,
   "id": "bf443dc9",
   "metadata": {},
   "outputs": [
    {
     "name": "stdout",
     "output_type": "stream",
     "text": [
      "[[[-4.9276509e-06+6.0179661e-07j -4.7681883e-06+1.3829425e-06j\n",
      "   -4.4857170e-06+2.1285541e-06j ...  4.3711116e-06-2.4074948e-06j\n",
      "    3.9297033e-06-3.0764131e-06j  3.3868639e-06-3.6660977e-06j]\n",
      "  [-4.7825752e-06+1.6998159e-06j -4.4491662e-06+2.4436672e-06j\n",
      "   -4.0009481e-06+3.1246111e-06j ...  3.8229477e-06-3.3767817e-06j\n",
      "    3.2333687e-06-3.9455144e-06j  2.5602983e-06-4.4125736e-06j]\n",
      "  [-4.3861578e-06+2.7614337e-06j -3.8878534e-06+3.4282084e-06j\n",
      "   -3.2891933e-06+4.0066625e-06j ...  3.0543217e-06-4.2173128e-06j\n",
      "    2.3400164e-06-4.6522073e-06j  1.5652473e-06-4.9671735e-06j]\n",
      "  ...\n",
      "  [-5.9705985e-06+1.8381670e-06j -5.5992200e-06+2.7702260e-06j\n",
      "   -5.0834296e-06+3.6307945e-06j ...  4.8462462e-06-3.9304277e-06j\n",
      "    4.1544481e-06-4.6554678e-06j  3.3555179e-06-5.2603964e-06j]\n",
      "  [-5.3850690e-06+3.0986103e-06j -4.8194606e-06+3.9206407e-06j\n",
      "   -4.1295657e-06+4.6415066e-06j ...  3.8328362e-06-4.8787911e-06j\n",
      "    3.0023016e-06-5.4293314e-06j  2.0943648e-06-5.8398036e-06j]\n",
      "  [-4.5357333e-06+4.1878652e-06j -3.8067144e-06+4.8598408e-06j\n",
      "   -2.9795442e-06+5.4064294e-06j ...  2.6393784e-06-5.5698706e-06j\n",
      "    1.7136289e-06-5.9204085e-06j  7.4372792e-07-6.1182200e-06j]]]\n"
     ]
    }
   ],
   "source": [
    "print(dataset[0][0]['user']['channel'][100])"
   ]
  },
  {
   "cell_type": "code",
   "execution_count": 20,
   "id": "1a931204",
   "metadata": {},
   "outputs": [
    {
     "name": "stdout",
     "output_type": "stream",
     "text": [
      "1\n"
     ]
    }
   ],
   "source": [
    "print(len(dataset[0][0]['user']['channel'][100]))"
   ]
  },
  {
   "cell_type": "code",
   "execution_count": 21,
   "id": "ff08a89e",
   "metadata": {},
   "outputs": [
    {
     "name": "stdout",
     "output_type": "stream",
     "text": [
      "[ 1.14151417e-05-4.36109121e-06j  1.13104134e-05-4.99916769e-06j\n",
      "  1.11716581e-05-5.67118514e-06j  1.09873472e-05-6.37486755e-06j\n",
      "  1.07464039e-05-7.10507175e-06j  1.04388646e-05-7.85394786e-06j\n",
      "  1.00564839e-05-8.61123954e-06j  9.59326280e-06-9.36472679e-06j\n",
      "  9.04586159e-06-1.01007672e-05j  8.41387282e-06-1.08049298e-05j\n",
      "  7.69995040e-06-1.14626673e-05j  6.90977913e-06-1.20600052e-05j\n",
      "  6.05189052e-06-1.25842089e-05j  5.13732675e-06-1.30243880e-05j\n",
      "  4.17918318e-06-1.33720132e-05j  3.19203900e-06-1.36213148e-05j\n",
      "  2.19131471e-06-1.37695433e-05j  1.19258925e-06-1.38170753e-05j\n",
      "  2.10908027e-07-1.37673669e-05j -7.39877976e-07-1.36267463e-05j\n",
      " -1.64770893e-06-1.34040656e-05j -2.50281732e-06-1.31102279e-05j\n",
      " -3.29810814e-06-1.27576113e-05j -4.02939668e-06-1.23594264e-05j\n",
      " -4.69549514e-06-1.19290335e-05j -5.29813951e-06-1.14792647e-05j\n",
      " -5.84176632e-06-1.10217779e-05j -6.33314448e-06-1.05664840e-05j\n",
      " -6.78089191e-06-1.01210744e-05j -7.19489299e-06-9.69066787e-06j\n",
      " -7.58565420e-06-9.27761084e-06j -7.96363111e-06-8.88142313e-06j\n",
      " -8.33856484e-06-8.49890512e-06j -8.71885459e-06-8.12439157e-06j\n",
      " -9.11101597e-06-7.75014814e-06j -9.51923721e-06-7.36687571e-06j\n",
      " -9.94506809e-06-6.96431107e-06j -1.03872544e-05-6.53187772e-06j\n",
      " -1.08417298e-05-6.05936111e-06j -1.13017559e-05-5.53756945e-06j\n",
      " -1.17582258e-05-4.95894210e-06j -1.22000811e-05-4.31807575e-06j\n",
      " -1.26148598e-05-3.61214165e-06j -1.29893097e-05-2.84116686e-06j\n",
      " -1.33100630e-05-2.00816589e-06j -1.35643195e-05-1.11911800e-06j\n",
      " -1.37405095e-05-1.82786522e-07j -1.38288988e-05+7.89607157e-07j\n",
      " -1.38221067e-05+1.78484061e-06j -1.37155066e-05+2.78825269e-06j\n",
      " -1.35074870e-05+3.78438449e-06j -1.31995657e-05+4.75766183e-06j\n",
      " -1.27963385e-05+5.69308668e-06j -1.23052841e-05+6.57690180e-06j\n",
      " -1.17364107e-05+7.39718735e-06j -1.11017880e-05+8.14437226e-06j\n",
      " -1.04149713e-05+8.81161304e-06j -9.69035409e-06+9.39504571e-06j\n",
      " -8.94248751e-06+9.89386990e-06j -8.18538956e-06+1.03102893e-05j\n",
      " -7.43190139e-06+1.06492889e-05j -6.69309748e-06+1.09182747e-05j\n",
      " -5.97780945e-06+1.11265890e-05j -5.29226054e-06+1.12849320e-05j]\n"
     ]
    }
   ],
   "source": [
    "print(channel[10000][0][0])"
   ]
  },
  {
   "cell_type": "code",
   "execution_count": 22,
   "id": "f65feb3b",
   "metadata": {},
   "outputs": [
    {
     "name": "stdout",
     "output_type": "stream",
     "text": [
      "[0.+0.j 0.+0.j 0.+0.j 0.+0.j 0.+0.j 0.+0.j 0.+0.j 0.+0.j 0.+0.j 0.+0.j\n",
      " 0.+0.j 0.+0.j 0.+0.j 0.+0.j 0.+0.j 0.+0.j 0.+0.j 0.+0.j 0.+0.j 0.+0.j\n",
      " 0.+0.j 0.+0.j 0.+0.j 0.+0.j 0.+0.j 0.+0.j 0.+0.j 0.+0.j 0.+0.j 0.+0.j\n",
      " 0.+0.j 0.+0.j 0.+0.j 0.+0.j 0.+0.j 0.+0.j 0.+0.j 0.+0.j 0.+0.j 0.+0.j\n",
      " 0.+0.j 0.+0.j 0.+0.j 0.+0.j 0.+0.j 0.+0.j 0.+0.j 0.+0.j 0.+0.j 0.+0.j\n",
      " 0.+0.j 0.+0.j 0.+0.j 0.+0.j 0.+0.j 0.+0.j 0.+0.j 0.+0.j 0.+0.j 0.+0.j\n",
      " 0.+0.j 0.+0.j 0.+0.j 0.+0.j]\n"
     ]
    }
   ],
   "source": [
    "print(channel[1][0][0])"
   ]
  },
  {
   "cell_type": "markdown",
   "id": "2b079846",
   "metadata": {},
   "source": [
    "# 사용자 위치 정보"
   ]
  },
  {
   "cell_type": "code",
   "execution_count": 23,
   "id": "84337e94",
   "metadata": {},
   "outputs": [
    {
     "name": "stdout",
     "output_type": "stream",
     "text": [
      "(69040, 3)\n",
      "[[-91.03330231 -15.57629967   1.        ]\n",
      " [-90.83329773 -15.57629967   1.        ]\n",
      " [-90.63330078 -15.57629967   1.        ]\n",
      " [-90.4332962  -15.57629967   1.        ]]\n"
     ]
    }
   ],
   "source": [
    "location = dataset[0][0]['user']['location']\n",
    "print(location.shape)      # (사용자 수, 3)\n",
    "print(location[0:4])         # 첫 번째 사용자의 (x, y, z)"
   ]
  },
  {
   "cell_type": "markdown",
   "id": "60e9a9b6",
   "metadata": {},
   "source": [
    "# 경로정보"
   ]
  },
  {
   "cell_type": "code",
   "execution_count": 24,
   "id": "79cde8ee",
   "metadata": {},
   "outputs": [
    {
     "name": "stdout",
     "output_type": "stream",
     "text": [
      "69040\n",
      "{'num_paths': 0, 'DoD_phi': [], 'DoD_theta': [], 'DoA_phi': [], 'DoA_theta': [], 'phase': [], 'ToA': [], 'power': [], 'LoS': []}\n"
     ]
    }
   ],
   "source": [
    "paths = dataset[0][0]['user']['paths']\n",
    "#사용자 수\n",
    "print(len(paths))\n",
    "# 첫 번째 사용자 경로 정보\n",
    "print(paths[0])"
   ]
  },
  {
   "cell_type": "markdown",
   "id": "f2242869",
   "metadata": {},
   "source": [
    "# 기지국 정보"
   ]
  },
  {
   "cell_type": "code",
   "execution_count": 25,
   "id": "2900e481",
   "metadata": {},
   "outputs": [
    {
     "name": "stdout",
     "output_type": "stream",
     "text": [
      "dict_keys(['paths', 'LoS', 'location', 'distance', 'pathloss', 'channel'])\n"
     ]
    }
   ],
   "source": [
    "bs_data = dataset[0][0]['basestation']\n",
    "print(bs_data.keys())\n"
   ]
  },
  {
   "cell_type": "markdown",
   "id": "c063ea95",
   "metadata": {},
   "source": [
    "# Scene 및 사용자 수"
   ]
  },
  {
   "cell_type": "code",
   "execution_count": 26,
   "id": "a20df92d",
   "metadata": {},
   "outputs": [
    {
     "name": "stdout",
     "output_type": "stream",
     "text": [
      "Scene 0: 69040 users\n"
     ]
    }
   ],
   "source": [
    "for i, scene in enumerate(dataset[0]):\n",
    "    user_locs = scene['user']['location']\n",
    "    print(f\"Scene {i}: {len(user_locs)} users\")"
   ]
  },
  {
   "cell_type": "markdown",
   "id": "b38f71e1",
   "metadata": {},
   "source": [
    "# 채널 수"
   ]
  },
  {
   "cell_type": "code",
   "execution_count": 27,
   "id": "cbbee52e",
   "metadata": {},
   "outputs": [
    {
     "data": {
      "text/plain": [
       "69040"
      ]
     },
     "execution_count": 27,
     "metadata": {},
     "output_type": "execute_result"
    }
   ],
   "source": [
    "len(dataset[0][0]['user']['channel'])"
   ]
  },
  {
   "cell_type": "code",
   "execution_count": 28,
   "id": "2d474195",
   "metadata": {},
   "outputs": [
    {
     "name": "stdout",
     "output_type": "stream",
     "text": [
      "{'num_paths': 0, 'DoD_phi': [], 'DoD_theta': [], 'DoA_phi': [], 'DoA_theta': [], 'phase': [], 'ToA': [], 'power': [], 'LoS': []}\n"
     ]
    }
   ],
   "source": [
    "print(dataset[0][0]['user']['paths'][0])"
   ]
  },
  {
   "cell_type": "code",
   "execution_count": 29,
   "id": "73df9912",
   "metadata": {},
   "outputs": [
    {
     "name": "stdout",
     "output_type": "stream",
     "text": [
      "(1, 32, 64)\n"
     ]
    }
   ],
   "source": [
    "scene = dataset[0][0] # scene 0\n",
    "ue_idx = 0 # 첫 번째 사용자\n",
    "channel = scene['user']['channel'][ue_idx]\n",
    "print(channel.shape)"
   ]
  },
  {
   "cell_type": "markdown",
   "id": "373ffb59",
   "metadata": {},
   "source": [
    "# channel CIR mat 정보 가져오기"
   ]
  },
  {
   "cell_type": "code",
   "execution_count": 30,
   "id": "ec4461cb",
   "metadata": {},
   "outputs": [
    {
     "name": "stdout",
     "output_type": "stream",
     "text": [
      "dict_keys(['__header__', '__version__', '__globals__', 'CIR_array_full'])\n"
     ]
    }
   ],
   "source": [
    "import scipy.io as sio\n",
    "\n",
    "file_path = r'C:\\Users\\dlghd\\졸업프로젝트\\LWM\\O2_dyn_3p5\\scene_0\\O2_dyn_3p5.1.CIR.mat'\n",
    "mat_data = sio.loadmat(file_path)\n",
    "\n",
    "# 파일 안의 key 확인\n",
    "print(mat_data.keys())\n",
    "\n",
    "\n"
   ]
  },
  {
   "cell_type": "code",
   "execution_count": 31,
   "id": "662cb441",
   "metadata": {},
   "outputs": [
    {
     "name": "stdout",
     "output_type": "stream",
     "text": [
      "b'MATLAB 5.0 MAT-file, Platform: PCWIN64, Created on: Wed Jun 30 11:33:01 2021'\n"
     ]
    }
   ],
   "source": [
    "# 일반적으로 CIR key는 'CIR' 또는 'cir' 같은 이름일 가능성 높음\n",
    "H_cir = mat_data['__header__']  \n",
    "print(H_cir)"
   ]
  },
  {
   "cell_type": "markdown",
   "id": "88f3d7c7",
   "metadata": {},
   "source": [
    "# Time-Prediction 시작\n",
    "## Time Series 형태로 변환\n",
    "### 단일사용자 채널 예측"
   ]
  },
  {
   "cell_type": "code",
   "execution_count": 32,
   "id": "4f36971f",
   "metadata": {},
   "outputs": [
    {
     "name": "stdout",
     "output_type": "stream",
     "text": [
      "0이 존재하는 채널 개수 0\n"
     ]
    }
   ],
   "source": [
    "# print(dataset[0][0]['user']['channel'][150][0][3])\n",
    "\n",
    "count = 0\n",
    "for h in dataset[0][0]['user']['channel'][100][0]:\n",
    "#     h = h.squeeze(0)\n",
    "    h_real = h.real\n",
    "    h_imag = h.imag\n",
    "    if np.sum(np.abs(h_real)) ==0:\n",
    "        count+=1\n",
    "    elif np.sum(np.abs(h_imag)) == 0:\n",
    "        count+=1\n",
    "\n",
    "print(\"0이 존재하는 채널 개수\",count)"
   ]
  },
  {
   "cell_type": "code",
   "execution_count": 33,
   "id": "7575de2b",
   "metadata": {},
   "outputs": [
    {
     "name": "stdout",
     "output_type": "stream",
     "text": [
      "Antenna #3 subcarriers: [-3.7481711e-06+3.7276918e-06j -3.1033380e-06+4.2799297e-06j\n",
      " -2.3783671e-06+4.7218546e-06j -1.5919456e-06+5.0420513e-06j\n",
      " -7.6434952e-07+5.2322434e-06j  8.3081005e-08+5.2875071e-06j\n",
      "  9.2849081e-07+5.2063970e-06j  1.7500737e-06+4.9909859e-06j\n",
      "  2.5266352e-06+4.6468099e-06j  3.2381383e-06+4.1827284e-06j\n",
      "  3.8662224e-06+3.6106942e-06j  4.3946743e-06+2.9454461e-06j\n",
      "  4.8098500e-06+2.2041299e-06j  5.1010238e-06+1.4058554e-06j\n",
      "  5.2606679e-06+5.7120445e-07j  5.2846453e-06-2.7829972e-07j\n",
      "  5.1723187e-06-1.1207479e-06j  4.9265650e-06-1.9344095e-06j\n",
      "  4.5537045e-06-2.6982937e-06j  4.0633354e-06-3.3926899e-06j\n",
      "  3.4680893e-06-3.9996776e-06j  2.7833046e-06-4.5035881e-06j\n",
      "  2.0266314e-06-4.8914089e-06j  1.2175759e-06-5.1531201e-06j\n",
      "  3.7699922e-07-5.2819537e-06j -4.7342218e-07-5.2745672e-06j\n",
      " -1.3117545e-06-5.1311317e-06j -2.1163728e-06-4.8553270e-06j\n",
      " -2.8665186e-06-4.4542485e-06j -3.5428352e-06-3.9382230e-06j\n",
      " -4.1278677e-06-3.3205442e-06j -4.6065129e-06-2.6171292e-06j\n",
      " -4.9664100e-06-1.8461093e-06j -5.1982593e-06-1.0273618e-06j\n",
      " -5.2960613e-06-1.8199796e-07j -5.2572755e-06+6.6818120e-07j\n",
      " -5.0828817e-06+1.5012477e-06j -4.7773592e-06+2.2957113e-06j\n",
      " -4.3485697e-06+3.0310748e-06j -3.8075548e-06+3.6883623e-06j\n",
      " -3.1682537e-06+4.2506094e-06j -2.4471415e-06+4.7032995e-06j\n",
      " -1.6628065e-06+5.0347412e-06j -8.3547025e-07+5.2363685e-06j\n",
      "  1.3533687e-08+5.3029612e-06j  8.6230989e-07+5.2327832e-06j\n",
      "  1.6889655e-06+5.0276249e-06j  2.4721755e-06+4.6927585e-06j\n",
      "  3.1917318e-06+4.2368029e-06j  3.8290659e-06+3.6715010e-06j\n",
      "  4.3677264e-06+3.0114188e-06j  4.7938065e-06+2.2735683e-06j\n",
      "  5.0962994e-06+1.4769696e-06j  5.2673859e-06+6.4216152e-07j\n",
      "  5.3026333e-06-2.0932896e-07j  5.2011137e-06-1.0555416e-06j\n",
      "  4.9654259e-06-1.8746490e-06j  4.6016303e-06-2.6455198e-06j\n",
      "  4.1190920e-06-3.3482638e-06j  3.5302398e-06-3.9647457e-06j\n",
      "  2.8502477e-06-4.4790513e-06j  2.0966418e-06-4.8779011e-06j\n",
      "  1.2888491e-06-5.1509905e-06j  4.4769803e-07-5.2912578e-06j]\n",
      "0+0j인 서브캐리어 개수: 0\n",
      "완전 0+0j 안테나 포트 개수: 0\n",
      "0이 아닌 서브캐리어 개수: 2048\n"
     ]
    }
   ],
   "source": [
    "import numpy as np\n",
    "\n",
    "# 1) (user, ue_port, bs_ant, subc) → (bs_ant, subc) 로 squeeze\n",
    "H = dataset[0][0]['user']['channel'][100, 0]   # shape: (32, 64), complex\n",
    "\n",
    "# 2) BS 안테나 인덱스 3의 서브캐리어 벡터 (64,)\n",
    "print(\"Antenna #3 subcarriers:\", H[3])\n",
    "\n",
    "# 3) 전체 서브캐리어(32×64) 중 값이 정확히 0인 요소 개수\n",
    "zero_elements = np.sum(H == 0)\n",
    "print(\"0+0j인 서브캐리어 개수:\", zero_elements)\n",
    "\n",
    "# 4) 서브캐리어 전부가 0인 안테나 포트(행) 개수\n",
    "zero_ports = np.sum(np.all(H == 0, axis=1))\n",
    "print(\"완전 0+0j 안테나 포트 개수:\", zero_ports)\n",
    "\n",
    "# 5) 만약 “값이 하나도 0이 아닌” 서브캐리어 요소 개수를 보고 싶다면\n",
    "nonzero_elements = np.sum(np.abs(H) > 0)\n",
    "print(\"0이 아닌 서브캐리어 개수:\", nonzero_elements)\n"
   ]
  },
  {
   "cell_type": "markdown",
   "id": "a20a73af",
   "metadata": {},
   "source": [
    "## 결측치 제거 및 dataload"
   ]
  },
  {
   "cell_type": "code",
   "execution_count": 34,
   "id": "1f97d362",
   "metadata": {},
   "outputs": [],
   "source": [
    "from torch.utils.data import Dataset, DataLoader\n",
    "\n",
    "class ChannelDataset(Dataset):\n",
    "    def __init__(self, dataset):\n",
    "        self.dataset = dataset\n",
    "    \n",
    "    def __len__(self):\n",
    "        return len(self.dataset)\n",
    "    \n",
    "    def __getitem__(self,idx):\n",
    "        scene = self.dataset[idx]\n",
    "        H = scene[0]['user']['channel'].squeeze(1)\n",
    "        \n",
    "        mask_valid_sc = ~np.all(H == 0+0j, axis=(0,1))\n",
    "        \n",
    "        H = H[:,:,mask_valid_sc]\n",
    "        \n",
    "        H_real = H.real\n",
    "        H_imag = H.imag\n",
    "        H_concat  = np.concatenate([H_real, H_imag], 1)\n",
    "        H_sc_first = H_concat.transpose(0,2,1)\n",
    "        \n",
    "        return torch.from_numpy(H_sc_first.astype(np.float32))   \n",
    "            \n",
    "            "
   ]
  },
  {
   "cell_type": "code",
   "execution_count": 35,
   "id": "94309077",
   "metadata": {},
   "outputs": [],
   "source": [
    "# ─────────────────────────────────────────────\n",
    "# ❶ IterableDataset: 모든 유저·서브캐리어를 스트리밍\n",
    "import torch\n",
    "from torch.utils.data import IterableDataset, DataLoader\n",
    "import numpy as np\n",
    "\n",
    "class ChannelSeqDataset(IterableDataset):\n",
    "    \"\"\"\n",
    "    • seq_len 개의 과거 채널 벡터(real 64 + imag 64 → 128) → 다음 시점 벡터 예측\n",
    "    • 벡터는 평균전력 1 로 power‑normalize 후 반환\n",
    "    \"\"\"\n",
    "    def __init__(self, scenes, seq_len: int = 5, eps: float = 1e-9):\n",
    "        super().__init__()\n",
    "        self.scenes   = scenes\n",
    "        self.seq_len  = seq_len\n",
    "        self.eps      = eps                        # 0 division 방지용\n",
    "        ch0           = scenes[0][0]['user']['channel']\n",
    "        self.U        = ch0.shape[0]               # 사용자 수\n",
    "        self.A        = ch0.shape[2]               # 안테나 32\n",
    "        self.S        = ch0.shape[3]               # 서브캐리어 64\n",
    "        self.vec_len  = 2 * self.A                 # 64\n",
    "\n",
    "    def _vec(self, scene, u: int, sc: int) -> torch.Tensor:\n",
    "        \"\"\"(32,) complex → (64,) float32  +  power norm\"\"\"\n",
    "        h = scene[0]['user']['channel'][u, 0, :, sc]          # (32,)\n",
    "        v = np.concatenate([h.real, h.imag]).astype(np.float32)\n",
    "        p = np.mean(v * v) + self.eps                         # 평균 전력\n",
    "        v /= np.sqrt(p)                                       # 정규화\n",
    "        return torch.from_numpy(v)                            # (64,)\n",
    "\n",
    "    def __iter__(self):\n",
    "        T = len(self.scenes)\n",
    "        for t in range(self.seq_len, T):                      # 타깃 시점\n",
    "            past_scenes = self.scenes[t - self.seq_len : t]\n",
    "            tgt_scene   = self.scenes[t]\n",
    "            for u in range(self.U):\n",
    "                for s in range(self.S):\n",
    "                    seq = torch.stack([self._vec(ps, u, s) for ps in past_scenes])\n",
    "                    if not torch.any(seq):                    # 전부 0 이면 skip\n",
    "                        continue\n",
    "                    target     = self._vec(tgt_scene, u, s)\n",
    "                    masked_pos = torch.tensor([self.seq_len - 2], dtype=torch.long)\n",
    "                    yield seq, masked_pos, target             # shapes: (5,64) / (1,) / (64,)\n",
    "# ─────────────────────────────────────────────\n",
    "# ❷ 학습·검증 DataLoader\n",
    "seq_len      = 5\n",
    "split_ratio  = 0.8\n",
    "split_idx    = int(len(dataset) * split_ratio)\n",
    "\n",
    "train_ds = ChannelSeqDataset(dataset[:split_idx], seq_len=seq_len)\n",
    "val_ds   = ChannelSeqDataset(dataset[split_idx:], seq_len=seq_len)\n",
    "\n",
    "batch_size   = 32\n",
    "train_loader = DataLoader(train_ds, batch_size=batch_size, shuffle=False)\n",
    "val_loader   = DataLoader(val_ds,   batch_size=batch_size, shuffle=False)\n",
    "# ─────────────────────────────────────────────\n"
   ]
  },
  {
   "cell_type": "markdown",
   "id": "4cf6bac8",
   "metadata": {},
   "source": [
    "# 아래 코드 구조\n",
    "┌──────────────────────────────────────────────────────────────┐\n",
    "│ input_ids  (B, seq_len, element_length)  ─┐                 │\n",
    "│ masked_pos (B, num_mask)                  ├─>  LWM backbone │\n",
    "│                                           │    (12-층 트랜스포머)  \n",
    "└────────────────────────────────────────────┘         │\n",
    "            logits_lm  (B, num_mask, element_length)  │   enc_output (B, seq_len, d_model)\n",
    "                                                      ▼\n",
    "                        ┌─[풀링]───────────────┐      ←── feat (B, d_model)\n",
    "                        │ 첫 토큰(0번) 선택    │\n",
    "                        │   or 평균/최대 풀링 │\n",
    "                        └──────────────────────┘\n",
    "                                      ▼\n",
    "                       FC 헤드  (d_model → hidden_dim → out_dim)\n",
    "                                      ▼\n",
    "                                out (B, out_dim)\n",
    "\n",
    "# 시각적비유\n",
    "\n",
    "[패치 프로젝터]──▶[Transformer ×12]──▶[LayerNorm]──┐\n",
    "                                                  ├─▶ 64-차 벡터 (CLS 또는 풀링) ─▶ MLP ─▶ out                                                \n",
    "[Positional Embedding]─────────────────────────────┘\n"
   ]
  },
  {
   "cell_type": "code",
   "execution_count": 36,
   "id": "7d882a4d",
   "metadata": {},
   "outputs": [],
   "source": [
    "class LSTMRegressor(nn.Module):\n",
    "    def __init__(self, input_dim, hidden_dim=128, num_layers=2):\n",
    "        super().__init__()\n",
    "        # batch_first=True: (B, T, C)\n",
    "        self.lstm = nn.LSTM(input_size=input_dim,\n",
    "                            hidden_size=hidden_dim,\n",
    "                            num_layers=num_layers,\n",
    "                            batch_first=True)\n",
    "        self.head = nn.Linear(hidden_dim, input_dim)\n",
    "\n",
    "    def forward(self, x):\n",
    "        # x: (B, seq_len, feature_dim)\n",
    "        out, _ = self.lstm(x)       # out: (B, seq_len, hidden_dim)\n",
    "        last = out[:, -1, :]        # 마지막 타임스텝만 가져오기 → (B, hidden_dim)\n",
    "        return self.head(last)      # (B, feature_dim)\n"
   ]
  },
  {
   "cell_type": "code",
   "execution_count": 37,
   "id": "fe79a025",
   "metadata": {},
   "outputs": [
    {
     "name": "stdout",
     "output_type": "stream",
     "text": [
      "69040\n"
     ]
    }
   ],
   "source": [
    "print(train_ds.U)"
   ]
  },
  {
   "cell_type": "markdown",
   "id": "d716e822",
   "metadata": {},
   "source": [
    "## input_size\n",
    "-input_size = (scene - seq_len) * U * S -> (10-5)+69040*64 = 22092800  \n",
    "-batch_size = 32  \n",
    "-배치 수 = input_size / batch_size = 690400배치"
   ]
  },
  {
   "cell_type": "code",
   "execution_count": 38,
   "id": "b37383cc",
   "metadata": {},
   "outputs": [
    {
     "name": "stdout",
     "output_type": "stream",
     "text": [
      "Using device: cuda\n"
     ]
    }
   ],
   "source": [
    "# ─────────────────────────────────────────────────────────────\n",
    "# 바뀐 셀 (LSTMRegressor 사용)\n",
    "# ─────────────────────────────────────────────────────────────\n",
    "import torch\n",
    "import torch.nn as nn\n",
    "from torch.optim import Adam\n",
    "\n",
    "# 디바이스 설정(GPU/CPU)\n",
    "device = torch.device(\"cuda\" if torch.cuda.is_available() else \"cpu\")\n",
    "print(f\"Using device: {device}\")\n",
    "\n",
    "# 하이퍼파라미터\n",
    "seq_len = 5\n",
    "feature_dim = train_ds.A * 2   # 입력 차원 (real+imag 합친 길이)\n",
    "\n",
    "# LSTM 회귀 모델 생성\n",
    "model = LSTMRegressor(\n",
    "    input_dim=feature_dim,   # 64\n",
    "    hidden_dim=128,          # 원하는 히든 차원\n",
    "    num_layers=2             # 원하는 레이어 수\n",
    ").to(device)\n",
    "\n",
    "# 손실함수, 옵티마이저\n",
    "criterion = nn.MSELoss()\n",
    "optimizer = Adam(model.parameters(), lr=1e-4)\n"
   ]
  },
  {
   "cell_type": "code",
   "execution_count": 39,
   "id": "625b128d",
   "metadata": {
    "scrolled": true
   },
   "outputs": [],
   "source": [
    "# import time\n",
    "# import sys\n",
    "\n",
    "# #  ❶ quick sanity checks\n",
    "# #    If train_loader is empty, this will print 0 or raise\n",
    "# try:\n",
    "#     n_batches = len(train_loader)\n",
    "# except TypeError:\n",
    "#     # IterableDataset → no __len__\n",
    "#     n_batches = sum(1 for _ in train_loader)\n",
    "# print(f\"→ training batches: {n_batches}\")\n",
    "\n",
    "# # ❷ actual training loop with per-epoch print\n",
    "# start = time.time()\n",
    "# num_epochs = 10\n",
    "\n",
    "# for epoch in range(num_epochs):\n",
    "#     model.train()\n",
    "#     running_loss = 0.0\n",
    "\n",
    "#     # loop over batches\n",
    "#     for i, (input_ids, masked_pos, target) in enumerate(train_loader, 1):\n",
    "#         input_ids   = input_ids.to(device)\n",
    "#         masked_pos  = masked_pos.to(device)\n",
    "#         target      = target.to(device)\n",
    "\n",
    "#         optimizer.zero_grad()\n",
    "#         pred = model(input_ids, masked_pos).squeeze(-1)\n",
    "#         loss = criterion(pred, target)\n",
    "#         loss.backward()\n",
    "#         optimizer.step()\n",
    "\n",
    "#         running_loss += loss.item()\n",
    "\n",
    "#     # ❸ now we know at least one epoch happened\n",
    "#     avg_loss = running_loss / i if i>0 else float('nan')\n",
    "#     print(f\"Epoch {epoch+1}/{num_epochs},  avg loss: {avg_loss:.6f}\", flush=True)\n",
    "\n",
    "# end = time.time()\n",
    "# print(f\"Total training time: {end - start:.2f}s\")\n"
   ]
  },
  {
   "cell_type": "code",
   "execution_count": null,
   "id": "604a868a",
   "metadata": {},
   "outputs": [
    {
     "name": "stderr",
     "output_type": "stream",
     "text": [
      "Epoch 1/10: 102it [00:06, 20.57it/s]"
     ]
    },
    {
     "name": "stdout",
     "output_type": "stream",
     "text": [
      "  [Batch 100]  loss: 0.006478\n"
     ]
    },
    {
     "name": "stderr",
     "output_type": "stream",
     "text": [
      "Epoch 1/10: 203it [00:11, 19.76it/s]"
     ]
    },
    {
     "name": "stdout",
     "output_type": "stream",
     "text": [
      "  [Batch 200]  loss: 0.011726\n"
     ]
    },
    {
     "name": "stderr",
     "output_type": "stream",
     "text": [
      "Epoch 1/10: 301it [00:16, 16.83it/s]"
     ]
    },
    {
     "name": "stdout",
     "output_type": "stream",
     "text": [
      "  [Batch 300]  loss: 0.010926\n"
     ]
    },
    {
     "name": "stderr",
     "output_type": "stream",
     "text": [
      "Epoch 1/10: 402it [00:22, 18.25it/s]"
     ]
    },
    {
     "name": "stdout",
     "output_type": "stream",
     "text": [
      "  [Batch 400]  loss: 0.008752\n"
     ]
    },
    {
     "name": "stderr",
     "output_type": "stream",
     "text": [
      "Epoch 1/10: 501it [00:27, 19.07it/s]"
     ]
    },
    {
     "name": "stdout",
     "output_type": "stream",
     "text": [
      "  [Batch 500]  loss: 0.008703\n"
     ]
    },
    {
     "name": "stderr",
     "output_type": "stream",
     "text": [
      "Epoch 1/10: 604it [00:33, 19.52it/s]"
     ]
    },
    {
     "name": "stdout",
     "output_type": "stream",
     "text": [
      "  [Batch 600]  loss: 0.012076\n"
     ]
    },
    {
     "name": "stderr",
     "output_type": "stream",
     "text": [
      "Epoch 1/10: 703it [00:38, 19.35it/s]"
     ]
    },
    {
     "name": "stdout",
     "output_type": "stream",
     "text": [
      "  [Batch 700]  loss: 0.016212\n"
     ]
    },
    {
     "name": "stderr",
     "output_type": "stream",
     "text": [
      "Epoch 1/10: 803it [00:43, 17.69it/s]"
     ]
    },
    {
     "name": "stdout",
     "output_type": "stream",
     "text": [
      "  [Batch 800]  loss: 0.018032\n"
     ]
    },
    {
     "name": "stderr",
     "output_type": "stream",
     "text": [
      "Epoch 1/10: 902it [00:48, 18.23it/s]"
     ]
    },
    {
     "name": "stdout",
     "output_type": "stream",
     "text": [
      "  [Batch 900]  loss: 0.016693\n"
     ]
    },
    {
     "name": "stderr",
     "output_type": "stream",
     "text": [
      "Epoch 1/10: 1003it [00:54, 19.51it/s]"
     ]
    },
    {
     "name": "stdout",
     "output_type": "stream",
     "text": [
      "  [Batch 1000]  loss: 0.016149\n"
     ]
    },
    {
     "name": "stderr",
     "output_type": "stream",
     "text": [
      "Epoch 1/10: 1101it [00:59, 17.91it/s]"
     ]
    },
    {
     "name": "stdout",
     "output_type": "stream",
     "text": [
      "  [Batch 1100]  loss: 0.016391\n"
     ]
    },
    {
     "name": "stderr",
     "output_type": "stream",
     "text": [
      "Epoch 1/10: 1203it [01:05, 16.02it/s]"
     ]
    },
    {
     "name": "stdout",
     "output_type": "stream",
     "text": [
      "  [Batch 1200]  loss: 0.016201\n"
     ]
    },
    {
     "name": "stderr",
     "output_type": "stream",
     "text": [
      "Epoch 1/10: 1303it [01:10, 19.35it/s]"
     ]
    },
    {
     "name": "stdout",
     "output_type": "stream",
     "text": [
      "  [Batch 1300]  loss: 0.016353\n"
     ]
    },
    {
     "name": "stderr",
     "output_type": "stream",
     "text": [
      "Epoch 1/10: 1402it [01:16, 18.93it/s]"
     ]
    },
    {
     "name": "stdout",
     "output_type": "stream",
     "text": [
      "  [Batch 1400]  loss: 0.016110\n"
     ]
    },
    {
     "name": "stderr",
     "output_type": "stream",
     "text": [
      "Epoch 1/10: 1503it [01:21, 18.89it/s]"
     ]
    },
    {
     "name": "stdout",
     "output_type": "stream",
     "text": [
      "  [Batch 1500]  loss: 0.015465\n"
     ]
    },
    {
     "name": "stderr",
     "output_type": "stream",
     "text": [
      "Epoch 1/10: 1603it [01:26, 19.06it/s]"
     ]
    },
    {
     "name": "stdout",
     "output_type": "stream",
     "text": [
      "  [Batch 1600]  loss: 0.014752\n"
     ]
    },
    {
     "name": "stderr",
     "output_type": "stream",
     "text": [
      "Epoch 1/10: 1703it [01:32, 18.99it/s]"
     ]
    },
    {
     "name": "stdout",
     "output_type": "stream",
     "text": [
      "  [Batch 1700]  loss: 0.014096\n"
     ]
    },
    {
     "name": "stderr",
     "output_type": "stream",
     "text": [
      "Epoch 1/10: 1803it [01:37, 19.20it/s]"
     ]
    },
    {
     "name": "stdout",
     "output_type": "stream",
     "text": [
      "  [Batch 1800]  loss: 0.013470\n"
     ]
    },
    {
     "name": "stderr",
     "output_type": "stream",
     "text": [
      "Epoch 1/10: 1902it [01:42, 18.61it/s]"
     ]
    },
    {
     "name": "stdout",
     "output_type": "stream",
     "text": [
      "  [Batch 1900]  loss: 0.012892\n"
     ]
    },
    {
     "name": "stderr",
     "output_type": "stream",
     "text": [
      "Epoch 1/10: 2002it [01:47, 17.52it/s]"
     ]
    },
    {
     "name": "stdout",
     "output_type": "stream",
     "text": [
      "  [Batch 2000]  loss: 0.012333\n"
     ]
    },
    {
     "name": "stderr",
     "output_type": "stream",
     "text": [
      "Epoch 1/10: 2104it [01:53, 19.49it/s]"
     ]
    },
    {
     "name": "stdout",
     "output_type": "stream",
     "text": [
      "  [Batch 2100]  loss: 0.011867\n"
     ]
    },
    {
     "name": "stderr",
     "output_type": "stream",
     "text": [
      "Epoch 1/10: 2202it [01:59, 18.57it/s]"
     ]
    },
    {
     "name": "stdout",
     "output_type": "stream",
     "text": [
      "  [Batch 2200]  loss: 0.011423\n"
     ]
    },
    {
     "name": "stderr",
     "output_type": "stream",
     "text": [
      "Epoch 1/10: 2303it [02:04, 19.74it/s]"
     ]
    },
    {
     "name": "stdout",
     "output_type": "stream",
     "text": [
      "  [Batch 2300]  loss: 0.010992\n"
     ]
    },
    {
     "name": "stderr",
     "output_type": "stream",
     "text": [
      "Epoch 1/10: 2402it [02:09, 18.94it/s]"
     ]
    },
    {
     "name": "stdout",
     "output_type": "stream",
     "text": [
      "  [Batch 2400]  loss: 0.010600\n"
     ]
    },
    {
     "name": "stderr",
     "output_type": "stream",
     "text": [
      "Epoch 1/10: 2503it [02:14, 18.92it/s]"
     ]
    },
    {
     "name": "stdout",
     "output_type": "stream",
     "text": [
      "  [Batch 2500]  loss: 0.010242\n"
     ]
    },
    {
     "name": "stderr",
     "output_type": "stream",
     "text": [
      "Epoch 1/10: 2604it [02:19, 19.76it/s]"
     ]
    },
    {
     "name": "stdout",
     "output_type": "stream",
     "text": [
      "  [Batch 2600]  loss: 0.009894\n"
     ]
    },
    {
     "name": "stderr",
     "output_type": "stream",
     "text": [
      "Epoch 1/10: 2704it [02:25, 19.37it/s]"
     ]
    },
    {
     "name": "stdout",
     "output_type": "stream",
     "text": [
      "  [Batch 2700]  loss: 0.009554\n"
     ]
    },
    {
     "name": "stderr",
     "output_type": "stream",
     "text": [
      "Epoch 1/10: 2803it [02:30, 17.77it/s]"
     ]
    },
    {
     "name": "stdout",
     "output_type": "stream",
     "text": [
      "  [Batch 2800]  loss: 0.009265\n"
     ]
    },
    {
     "name": "stderr",
     "output_type": "stream",
     "text": [
      "Epoch 1/10: 2902it [02:36, 18.37it/s]"
     ]
    },
    {
     "name": "stdout",
     "output_type": "stream",
     "text": [
      "  [Batch 2900]  loss: 0.008970\n"
     ]
    },
    {
     "name": "stderr",
     "output_type": "stream",
     "text": [
      "Epoch 1/10: 3003it [02:41, 18.05it/s]"
     ]
    },
    {
     "name": "stdout",
     "output_type": "stream",
     "text": [
      "  [Batch 3000]  loss: 0.008697\n"
     ]
    },
    {
     "name": "stderr",
     "output_type": "stream",
     "text": [
      "Epoch 1/10: 3103it [02:46, 20.36it/s]"
     ]
    },
    {
     "name": "stdout",
     "output_type": "stream",
     "text": [
      "  [Batch 3100]  loss: 0.008442\n"
     ]
    },
    {
     "name": "stderr",
     "output_type": "stream",
     "text": [
      "Epoch 1/10: 3202it [02:52, 19.61it/s]"
     ]
    },
    {
     "name": "stdout",
     "output_type": "stream",
     "text": [
      "  [Batch 3200]  loss: 0.008193\n"
     ]
    },
    {
     "name": "stderr",
     "output_type": "stream",
     "text": [
      "Epoch 1/10: 3303it [02:57, 19.50it/s]"
     ]
    },
    {
     "name": "stdout",
     "output_type": "stream",
     "text": [
      "  [Batch 3300]  loss: 0.007958\n"
     ]
    },
    {
     "name": "stderr",
     "output_type": "stream",
     "text": [
      "Epoch 1/10: 3403it [03:03, 18.00it/s]"
     ]
    },
    {
     "name": "stdout",
     "output_type": "stream",
     "text": [
      "  [Batch 3400]  loss: 0.007744\n"
     ]
    },
    {
     "name": "stderr",
     "output_type": "stream",
     "text": [
      "Epoch 1/10: 3503it [03:08, 18.03it/s]"
     ]
    },
    {
     "name": "stdout",
     "output_type": "stream",
     "text": [
      "  [Batch 3500]  loss: 0.007672\n"
     ]
    },
    {
     "name": "stderr",
     "output_type": "stream",
     "text": [
      "Epoch 1/10: 3603it [03:14, 15.77it/s]"
     ]
    },
    {
     "name": "stdout",
     "output_type": "stream",
     "text": [
      "  [Batch 3600]  loss: 0.007587\n"
     ]
    },
    {
     "name": "stderr",
     "output_type": "stream",
     "text": [
      "Epoch 1/10: 3703it [03:20, 18.50it/s]"
     ]
    },
    {
     "name": "stdout",
     "output_type": "stream",
     "text": [
      "  [Batch 3700]  loss: 0.007407\n"
     ]
    },
    {
     "name": "stderr",
     "output_type": "stream",
     "text": [
      "Epoch 1/10: 3804it [03:25, 19.93it/s]"
     ]
    },
    {
     "name": "stdout",
     "output_type": "stream",
     "text": [
      "  [Batch 3800]  loss: 0.007259\n"
     ]
    },
    {
     "name": "stderr",
     "output_type": "stream",
     "text": [
      "Epoch 1/10: 3903it [03:30, 18.28it/s]"
     ]
    },
    {
     "name": "stdout",
     "output_type": "stream",
     "text": [
      "  [Batch 3900]  loss: 0.007286\n"
     ]
    },
    {
     "name": "stderr",
     "output_type": "stream",
     "text": [
      "Epoch 1/10: 4002it [03:35, 18.25it/s]"
     ]
    },
    {
     "name": "stdout",
     "output_type": "stream",
     "text": [
      "  [Batch 4000]  loss: 0.007642\n"
     ]
    },
    {
     "name": "stderr",
     "output_type": "stream",
     "text": [
      "Epoch 1/10: 4103it [03:41, 19.58it/s]"
     ]
    },
    {
     "name": "stdout",
     "output_type": "stream",
     "text": [
      "  [Batch 4100]  loss: 0.008034\n"
     ]
    },
    {
     "name": "stderr",
     "output_type": "stream",
     "text": [
      "Epoch 1/10: 4202it [03:46, 18.82it/s]"
     ]
    },
    {
     "name": "stdout",
     "output_type": "stream",
     "text": [
      "  [Batch 4200]  loss: 0.007915\n"
     ]
    },
    {
     "name": "stderr",
     "output_type": "stream",
     "text": [
      "Epoch 1/10: 4303it [03:51, 19.96it/s]"
     ]
    },
    {
     "name": "stdout",
     "output_type": "stream",
     "text": [
      "  [Batch 4300]  loss: 0.007902\n"
     ]
    },
    {
     "name": "stderr",
     "output_type": "stream",
     "text": [
      "Epoch 1/10: 4401it [03:56, 20.55it/s]"
     ]
    },
    {
     "name": "stdout",
     "output_type": "stream",
     "text": [
      "  [Batch 4400]  loss: 0.008003\n"
     ]
    },
    {
     "name": "stderr",
     "output_type": "stream",
     "text": [
      "Epoch 1/10: 4503it [04:02, 18.55it/s]"
     ]
    },
    {
     "name": "stdout",
     "output_type": "stream",
     "text": [
      "  [Batch 4500]  loss: 0.008036\n"
     ]
    },
    {
     "name": "stderr",
     "output_type": "stream",
     "text": [
      "Epoch 1/10: 4602it [04:07, 19.46it/s]"
     ]
    },
    {
     "name": "stdout",
     "output_type": "stream",
     "text": [
      "  [Batch 4600]  loss: 0.008137\n"
     ]
    },
    {
     "name": "stderr",
     "output_type": "stream",
     "text": [
      "Epoch 1/10: 4701it [04:12, 18.80it/s]"
     ]
    },
    {
     "name": "stdout",
     "output_type": "stream",
     "text": [
      "  [Batch 4700]  loss: 0.008148\n"
     ]
    },
    {
     "name": "stderr",
     "output_type": "stream",
     "text": [
      "Epoch 1/10: 4804it [04:18, 19.18it/s]"
     ]
    },
    {
     "name": "stdout",
     "output_type": "stream",
     "text": [
      "  [Batch 4800]  loss: 0.008055\n"
     ]
    },
    {
     "name": "stderr",
     "output_type": "stream",
     "text": [
      "Epoch 1/10: 4903it [04:23, 19.43it/s]"
     ]
    },
    {
     "name": "stdout",
     "output_type": "stream",
     "text": [
      "  [Batch 4900]  loss: 0.007958\n"
     ]
    },
    {
     "name": "stderr",
     "output_type": "stream",
     "text": [
      "Epoch 1/10: 5003it [04:28, 19.78it/s]"
     ]
    },
    {
     "name": "stdout",
     "output_type": "stream",
     "text": [
      "  [Batch 5000]  loss: 0.007848\n"
     ]
    },
    {
     "name": "stderr",
     "output_type": "stream",
     "text": [
      "Epoch 1/10: 5102it [04:33, 19.70it/s]"
     ]
    },
    {
     "name": "stdout",
     "output_type": "stream",
     "text": [
      "  [Batch 5100]  loss: 0.007737\n"
     ]
    },
    {
     "name": "stderr",
     "output_type": "stream",
     "text": [
      "Epoch 1/10: 5203it [04:38, 17.91it/s]"
     ]
    },
    {
     "name": "stdout",
     "output_type": "stream",
     "text": [
      "  [Batch 5200]  loss: 0.007621\n"
     ]
    },
    {
     "name": "stderr",
     "output_type": "stream",
     "text": [
      "Epoch 1/10: 5302it [04:44, 19.09it/s]"
     ]
    },
    {
     "name": "stdout",
     "output_type": "stream",
     "text": [
      "  [Batch 5300]  loss: 0.007503\n"
     ]
    },
    {
     "name": "stderr",
     "output_type": "stream",
     "text": [
      "Epoch 1/10: 5402it [04:49, 18.32it/s]"
     ]
    },
    {
     "name": "stdout",
     "output_type": "stream",
     "text": [
      "  [Batch 5400]  loss: 0.007393\n"
     ]
    },
    {
     "name": "stderr",
     "output_type": "stream",
     "text": [
      "Epoch 1/10: 5502it [04:54, 17.79it/s]"
     ]
    },
    {
     "name": "stdout",
     "output_type": "stream",
     "text": [
      "  [Batch 5500]  loss: 0.007285\n"
     ]
    },
    {
     "name": "stderr",
     "output_type": "stream",
     "text": [
      "Epoch 1/10: 5603it [05:00, 19.28it/s]"
     ]
    },
    {
     "name": "stdout",
     "output_type": "stream",
     "text": [
      "  [Batch 5600]  loss: 0.007178\n"
     ]
    },
    {
     "name": "stderr",
     "output_type": "stream",
     "text": [
      "Epoch 1/10: 5704it [05:05, 19.89it/s]"
     ]
    },
    {
     "name": "stdout",
     "output_type": "stream",
     "text": [
      "  [Batch 5700]  loss: 0.007078\n"
     ]
    },
    {
     "name": "stderr",
     "output_type": "stream",
     "text": [
      "Epoch 1/10: 5802it [05:10, 18.82it/s]"
     ]
    },
    {
     "name": "stdout",
     "output_type": "stream",
     "text": [
      "  [Batch 5800]  loss: 0.006979\n"
     ]
    },
    {
     "name": "stderr",
     "output_type": "stream",
     "text": [
      "Epoch 1/10: 5903it [05:15, 19.84it/s]"
     ]
    },
    {
     "name": "stdout",
     "output_type": "stream",
     "text": [
      "  [Batch 5900]  loss: 0.006876\n"
     ]
    },
    {
     "name": "stderr",
     "output_type": "stream",
     "text": [
      "Epoch 1/10: 6002it [05:20, 19.10it/s]"
     ]
    },
    {
     "name": "stdout",
     "output_type": "stream",
     "text": [
      "  [Batch 6000]  loss: 0.006766\n"
     ]
    },
    {
     "name": "stderr",
     "output_type": "stream",
     "text": [
      "Epoch 1/10: 6101it [05:25, 19.26it/s]"
     ]
    },
    {
     "name": "stdout",
     "output_type": "stream",
     "text": [
      "  [Batch 6100]  loss: 0.006674\n"
     ]
    },
    {
     "name": "stderr",
     "output_type": "stream",
     "text": [
      "Epoch 1/10: 6202it [05:31, 16.63it/s]"
     ]
    },
    {
     "name": "stdout",
     "output_type": "stream",
     "text": [
      "  [Batch 6200]  loss: 0.006581\n"
     ]
    },
    {
     "name": "stderr",
     "output_type": "stream",
     "text": [
      "Epoch 1/10: 6303it [05:37, 18.32it/s]"
     ]
    },
    {
     "name": "stdout",
     "output_type": "stream",
     "text": [
      "  [Batch 6300]  loss: 0.006483\n"
     ]
    },
    {
     "name": "stderr",
     "output_type": "stream",
     "text": [
      "Epoch 1/10: 6404it [05:42, 19.90it/s]"
     ]
    },
    {
     "name": "stdout",
     "output_type": "stream",
     "text": [
      "  [Batch 6400]  loss: 0.006393\n"
     ]
    },
    {
     "name": "stderr",
     "output_type": "stream",
     "text": [
      "Epoch 1/10: 6501it [05:47, 15.44it/s]"
     ]
    },
    {
     "name": "stdout",
     "output_type": "stream",
     "text": [
      "  [Batch 6500]  loss: 0.006300\n"
     ]
    },
    {
     "name": "stderr",
     "output_type": "stream",
     "text": [
      "Epoch 1/10: 6602it [05:54, 16.15it/s]"
     ]
    },
    {
     "name": "stdout",
     "output_type": "stream",
     "text": [
      "  [Batch 6600]  loss: 0.006210\n"
     ]
    },
    {
     "name": "stderr",
     "output_type": "stream",
     "text": [
      "Epoch 1/10: 6703it [05:59, 19.60it/s]"
     ]
    },
    {
     "name": "stdout",
     "output_type": "stream",
     "text": [
      "  [Batch 6700]  loss: 0.006124\n"
     ]
    },
    {
     "name": "stderr",
     "output_type": "stream",
     "text": [
      "Epoch 1/10: 6803it [06:05, 19.17it/s]"
     ]
    },
    {
     "name": "stdout",
     "output_type": "stream",
     "text": [
      "  [Batch 6800]  loss: 0.006040\n"
     ]
    },
    {
     "name": "stderr",
     "output_type": "stream",
     "text": [
      "Epoch 1/10: 6902it [06:10, 18.43it/s]"
     ]
    },
    {
     "name": "stdout",
     "output_type": "stream",
     "text": [
      "  [Batch 6900]  loss: 0.006027\n"
     ]
    },
    {
     "name": "stderr",
     "output_type": "stream",
     "text": [
      "Epoch 1/10: 7004it [06:16, 19.13it/s]"
     ]
    },
    {
     "name": "stdout",
     "output_type": "stream",
     "text": [
      "  [Batch 7000]  loss: 0.005989\n"
     ]
    },
    {
     "name": "stderr",
     "output_type": "stream",
     "text": [
      "Epoch 1/10: 7104it [06:21, 19.03it/s]"
     ]
    },
    {
     "name": "stdout",
     "output_type": "stream",
     "text": [
      "  [Batch 7100]  loss: 0.005915\n"
     ]
    },
    {
     "name": "stderr",
     "output_type": "stream",
     "text": [
      "Epoch 1/10: 7202it [06:27, 18.53it/s]"
     ]
    },
    {
     "name": "stdout",
     "output_type": "stream",
     "text": [
      "  [Batch 7200]  loss: 0.005915\n"
     ]
    },
    {
     "name": "stderr",
     "output_type": "stream",
     "text": [
      "Epoch 1/10: 7303it [06:32, 19.13it/s]"
     ]
    },
    {
     "name": "stdout",
     "output_type": "stream",
     "text": [
      "  [Batch 7300]  loss: 0.006019\n"
     ]
    },
    {
     "name": "stderr",
     "output_type": "stream",
     "text": [
      "Epoch 1/10: 7401it [06:37, 18.21it/s]"
     ]
    },
    {
     "name": "stdout",
     "output_type": "stream",
     "text": [
      "  [Batch 7400]  loss: 0.006297\n"
     ]
    },
    {
     "name": "stderr",
     "output_type": "stream",
     "text": [
      "Epoch 1/10: 7502it [06:42, 18.89it/s]"
     ]
    },
    {
     "name": "stdout",
     "output_type": "stream",
     "text": [
      "  [Batch 7500]  loss: 0.006306\n"
     ]
    },
    {
     "name": "stderr",
     "output_type": "stream",
     "text": [
      "Epoch 1/10: 7602it [06:47, 18.41it/s]"
     ]
    },
    {
     "name": "stdout",
     "output_type": "stream",
     "text": [
      "  [Batch 7600]  loss: 0.006286\n"
     ]
    },
    {
     "name": "stderr",
     "output_type": "stream",
     "text": [
      "Epoch 1/10: 7702it [06:53, 19.37it/s]"
     ]
    },
    {
     "name": "stdout",
     "output_type": "stream",
     "text": [
      "  [Batch 7700]  loss: 0.006336\n"
     ]
    },
    {
     "name": "stderr",
     "output_type": "stream",
     "text": [
      "Epoch 1/10: 7803it [06:58, 18.95it/s]"
     ]
    },
    {
     "name": "stdout",
     "output_type": "stream",
     "text": [
      "  [Batch 7800]  loss: 0.006390\n"
     ]
    },
    {
     "name": "stderr",
     "output_type": "stream",
     "text": [
      "Epoch 1/10: 7904it [07:03, 19.79it/s]"
     ]
    },
    {
     "name": "stdout",
     "output_type": "stream",
     "text": [
      "  [Batch 7900]  loss: 0.006413\n"
     ]
    },
    {
     "name": "stderr",
     "output_type": "stream",
     "text": [
      "Epoch 1/10: 8004it [07:08, 19.24it/s]"
     ]
    },
    {
     "name": "stdout",
     "output_type": "stream",
     "text": [
      "  [Batch 8000]  loss: 0.006502\n"
     ]
    },
    {
     "name": "stderr",
     "output_type": "stream",
     "text": [
      "Epoch 1/10: 8102it [07:14, 18.36it/s]"
     ]
    },
    {
     "name": "stdout",
     "output_type": "stream",
     "text": [
      "  [Batch 8100]  loss: 0.006484\n"
     ]
    },
    {
     "name": "stderr",
     "output_type": "stream",
     "text": [
      "Epoch 1/10: 8203it [07:19, 16.11it/s]"
     ]
    },
    {
     "name": "stdout",
     "output_type": "stream",
     "text": [
      "  [Batch 8200]  loss: 0.006448\n"
     ]
    },
    {
     "name": "stderr",
     "output_type": "stream",
     "text": [
      "Epoch 1/10: 8302it [07:24, 18.82it/s]"
     ]
    },
    {
     "name": "stdout",
     "output_type": "stream",
     "text": [
      "  [Batch 8300]  loss: 0.006403\n"
     ]
    },
    {
     "name": "stderr",
     "output_type": "stream",
     "text": [
      "Epoch 1/10: 8403it [07:30, 20.07it/s]"
     ]
    },
    {
     "name": "stdout",
     "output_type": "stream",
     "text": [
      "  [Batch 8400]  loss: 0.006358\n"
     ]
    },
    {
     "name": "stderr",
     "output_type": "stream",
     "text": [
      "Epoch 1/10: 8503it [07:35, 18.82it/s]"
     ]
    },
    {
     "name": "stdout",
     "output_type": "stream",
     "text": [
      "  [Batch 8500]  loss: 0.006304\n"
     ]
    },
    {
     "name": "stderr",
     "output_type": "stream",
     "text": [
      "Epoch 1/10: 8604it [07:41, 19.56it/s]"
     ]
    },
    {
     "name": "stdout",
     "output_type": "stream",
     "text": [
      "  [Batch 8600]  loss: 0.006246\n"
     ]
    },
    {
     "name": "stderr",
     "output_type": "stream",
     "text": [
      "Epoch 1/10: 8703it [07:46, 18.72it/s]"
     ]
    },
    {
     "name": "stdout",
     "output_type": "stream",
     "text": [
      "  [Batch 8700]  loss: 0.006187\n"
     ]
    },
    {
     "name": "stderr",
     "output_type": "stream",
     "text": [
      "Epoch 1/10: 8801it [07:51, 19.90it/s]"
     ]
    },
    {
     "name": "stdout",
     "output_type": "stream",
     "text": [
      "  [Batch 8800]  loss: 0.006133\n"
     ]
    },
    {
     "name": "stderr",
     "output_type": "stream",
     "text": [
      "Epoch 1/10: 8901it [07:56, 18.11it/s]"
     ]
    },
    {
     "name": "stdout",
     "output_type": "stream",
     "text": [
      "  [Batch 8900]  loss: 0.006077\n"
     ]
    },
    {
     "name": "stderr",
     "output_type": "stream",
     "text": [
      "Epoch 1/10: 9003it [08:01, 19.65it/s]"
     ]
    },
    {
     "name": "stdout",
     "output_type": "stream",
     "text": [
      "  [Batch 9000]  loss: 0.006031\n"
     ]
    },
    {
     "name": "stderr",
     "output_type": "stream",
     "text": [
      "Epoch 1/10: 9102it [08:06, 19.15it/s]"
     ]
    },
    {
     "name": "stdout",
     "output_type": "stream",
     "text": [
      "  [Batch 9100]  loss: 0.005972\n"
     ]
    },
    {
     "name": "stderr",
     "output_type": "stream",
     "text": [
      "Epoch 1/10: 9203it [08:12, 18.24it/s]"
     ]
    },
    {
     "name": "stdout",
     "output_type": "stream",
     "text": [
      "  [Batch 9200]  loss: 0.005923\n"
     ]
    },
    {
     "name": "stderr",
     "output_type": "stream",
     "text": [
      "Epoch 1/10: 9303it [08:17, 18.32it/s]"
     ]
    },
    {
     "name": "stdout",
     "output_type": "stream",
     "text": [
      "  [Batch 9300]  loss: 0.005863\n"
     ]
    },
    {
     "name": "stderr",
     "output_type": "stream",
     "text": [
      "Epoch 1/10: 9403it [08:22, 18.95it/s]"
     ]
    },
    {
     "name": "stdout",
     "output_type": "stream",
     "text": [
      "  [Batch 9400]  loss: 0.005806\n"
     ]
    },
    {
     "name": "stderr",
     "output_type": "stream",
     "text": [
      "Epoch 1/10: 9503it [08:27, 18.27it/s]"
     ]
    },
    {
     "name": "stdout",
     "output_type": "stream",
     "text": [
      "  [Batch 9500]  loss: 0.005756\n"
     ]
    },
    {
     "name": "stderr",
     "output_type": "stream",
     "text": [
      "Epoch 1/10: 9603it [08:33, 17.67it/s]"
     ]
    },
    {
     "name": "stdout",
     "output_type": "stream",
     "text": [
      "  [Batch 9600]  loss: 0.005700\n"
     ]
    },
    {
     "name": "stderr",
     "output_type": "stream",
     "text": [
      "Epoch 1/10: 9702it [08:39, 18.66it/s]"
     ]
    },
    {
     "name": "stdout",
     "output_type": "stream",
     "text": [
      "  [Batch 9700]  loss: 0.005648\n"
     ]
    },
    {
     "name": "stderr",
     "output_type": "stream",
     "text": [
      "Epoch 1/10: 9802it [08:44, 17.26it/s]"
     ]
    },
    {
     "name": "stdout",
     "output_type": "stream",
     "text": [
      "  [Batch 9800]  loss: 0.005596\n"
     ]
    },
    {
     "name": "stderr",
     "output_type": "stream",
     "text": [
      "Epoch 1/10: 9903it [08:49, 19.82it/s]"
     ]
    },
    {
     "name": "stdout",
     "output_type": "stream",
     "text": [
      "  [Batch 9900]  loss: 0.005542\n"
     ]
    },
    {
     "name": "stderr",
     "output_type": "stream",
     "text": [
      "Epoch 1/10: 10003it [08:55, 18.25it/s]"
     ]
    },
    {
     "name": "stdout",
     "output_type": "stream",
     "text": [
      "  [Batch 10000]  loss: 0.005489\n"
     ]
    },
    {
     "name": "stderr",
     "output_type": "stream",
     "text": [
      "Epoch 1/10: 10103it [09:01, 15.86it/s]"
     ]
    },
    {
     "name": "stdout",
     "output_type": "stream",
     "text": [
      "  [Batch 10100]  loss: 0.005442\n"
     ]
    },
    {
     "name": "stderr",
     "output_type": "stream",
     "text": [
      "Epoch 1/10: 10202it [09:07, 18.72it/s]"
     ]
    },
    {
     "name": "stdout",
     "output_type": "stream",
     "text": [
      "  [Batch 10200]  loss: 0.005399\n"
     ]
    },
    {
     "name": "stderr",
     "output_type": "stream",
     "text": [
      "Epoch 1/10: 10303it [09:13, 18.08it/s]"
     ]
    },
    {
     "name": "stdout",
     "output_type": "stream",
     "text": [
      "  [Batch 10300]  loss: 0.005388\n"
     ]
    },
    {
     "name": "stderr",
     "output_type": "stream",
     "text": [
      "Epoch 1/10: 10401it [09:18, 18.48it/s]"
     ]
    },
    {
     "name": "stdout",
     "output_type": "stream",
     "text": [
      "  [Batch 10400]  loss: 0.005381\n"
     ]
    },
    {
     "name": "stderr",
     "output_type": "stream",
     "text": [
      "Epoch 1/10: 10502it [09:23, 18.68it/s]"
     ]
    },
    {
     "name": "stdout",
     "output_type": "stream",
     "text": [
      "  [Batch 10500]  loss: 0.005338\n"
     ]
    },
    {
     "name": "stderr",
     "output_type": "stream",
     "text": [
      "Epoch 1/10: 10603it [09:29, 18.22it/s]"
     ]
    },
    {
     "name": "stdout",
     "output_type": "stream",
     "text": [
      "  [Batch 10600]  loss: 0.005338\n"
     ]
    },
    {
     "name": "stderr",
     "output_type": "stream",
     "text": [
      "Epoch 1/10: 10702it [09:34, 18.60it/s]"
     ]
    },
    {
     "name": "stdout",
     "output_type": "stream",
     "text": [
      "  [Batch 10700]  loss: 0.005444\n"
     ]
    },
    {
     "name": "stderr",
     "output_type": "stream",
     "text": [
      "Epoch 1/10: 10801it [09:40, 17.77it/s]"
     ]
    },
    {
     "name": "stdout",
     "output_type": "stream",
     "text": [
      "  [Batch 10800]  loss: 0.005583\n"
     ]
    },
    {
     "name": "stderr",
     "output_type": "stream",
     "text": [
      "Epoch 1/10: 10902it [09:46, 18.34it/s]"
     ]
    },
    {
     "name": "stdout",
     "output_type": "stream",
     "text": [
      "  [Batch 10900]  loss: 0.005563\n"
     ]
    },
    {
     "name": "stderr",
     "output_type": "stream",
     "text": [
      "Epoch 1/10: 11003it [09:51, 17.26it/s]"
     ]
    },
    {
     "name": "stdout",
     "output_type": "stream",
     "text": [
      "  [Batch 11000]  loss: 0.005560\n"
     ]
    },
    {
     "name": "stderr",
     "output_type": "stream",
     "text": [
      "Epoch 1/10: 11102it [09:57, 17.37it/s]"
     ]
    },
    {
     "name": "stdout",
     "output_type": "stream",
     "text": [
      "  [Batch 11100]  loss: 0.005601\n"
     ]
    },
    {
     "name": "stderr",
     "output_type": "stream",
     "text": [
      "Epoch 1/10: 11203it [10:02, 19.03it/s]"
     ]
    },
    {
     "name": "stdout",
     "output_type": "stream",
     "text": [
      "  [Batch 11200]  loss: 0.005626\n"
     ]
    },
    {
     "name": "stderr",
     "output_type": "stream",
     "text": [
      "Epoch 1/10: 11301it [10:08, 16.31it/s]"
     ]
    },
    {
     "name": "stdout",
     "output_type": "stream",
     "text": [
      "  [Batch 11300]  loss: 0.005647\n"
     ]
    },
    {
     "name": "stderr",
     "output_type": "stream",
     "text": [
      "Epoch 1/10: 11401it [10:14, 13.40it/s]"
     ]
    },
    {
     "name": "stdout",
     "output_type": "stream",
     "text": [
      "  [Batch 11400]  loss: 0.005694\n"
     ]
    },
    {
     "name": "stderr",
     "output_type": "stream",
     "text": [
      "Epoch 1/10: 11503it [10:21, 17.79it/s]"
     ]
    },
    {
     "name": "stdout",
     "output_type": "stream",
     "text": [
      "  [Batch 11500]  loss: 0.005690\n"
     ]
    },
    {
     "name": "stderr",
     "output_type": "stream",
     "text": [
      "Epoch 1/10: 11603it [10:26, 19.10it/s]"
     ]
    },
    {
     "name": "stdout",
     "output_type": "stream",
     "text": [
      "  [Batch 11600]  loss: 0.005669\n"
     ]
    },
    {
     "name": "stderr",
     "output_type": "stream",
     "text": [
      "Epoch 1/10: 11702it [10:31, 18.60it/s]"
     ]
    },
    {
     "name": "stdout",
     "output_type": "stream",
     "text": [
      "  [Batch 11700]  loss: 0.005641\n"
     ]
    },
    {
     "name": "stderr",
     "output_type": "stream",
     "text": [
      "Epoch 1/10: 11802it [10:37, 18.90it/s]"
     ]
    },
    {
     "name": "stdout",
     "output_type": "stream",
     "text": [
      "  [Batch 11800]  loss: 0.005616\n"
     ]
    },
    {
     "name": "stderr",
     "output_type": "stream",
     "text": [
      "Epoch 1/10: 11903it [10:42, 15.80it/s]"
     ]
    },
    {
     "name": "stdout",
     "output_type": "stream",
     "text": [
      "  [Batch 11900]  loss: 0.005582\n"
     ]
    },
    {
     "name": "stderr",
     "output_type": "stream",
     "text": [
      "Epoch 1/10: 12003it [10:49, 14.53it/s]"
     ]
    },
    {
     "name": "stdout",
     "output_type": "stream",
     "text": [
      "  [Batch 12000]  loss: 0.005543\n"
     ]
    },
    {
     "name": "stderr",
     "output_type": "stream",
     "text": [
      "Epoch 1/10: 12103it [10:55, 18.92it/s]"
     ]
    },
    {
     "name": "stdout",
     "output_type": "stream",
     "text": [
      "  [Batch 12100]  loss: 0.005507\n"
     ]
    },
    {
     "name": "stderr",
     "output_type": "stream",
     "text": [
      "Epoch 1/10: 12203it [11:00, 18.21it/s]"
     ]
    },
    {
     "name": "stdout",
     "output_type": "stream",
     "text": [
      "  [Batch 12200]  loss: 0.005473\n"
     ]
    },
    {
     "name": "stderr",
     "output_type": "stream",
     "text": [
      "Epoch 1/10: 12302it [11:06, 18.19it/s]"
     ]
    },
    {
     "name": "stdout",
     "output_type": "stream",
     "text": [
      "  [Batch 12300]  loss: 0.005438\n"
     ]
    },
    {
     "name": "stderr",
     "output_type": "stream",
     "text": [
      "Epoch 1/10: 12402it [11:11, 18.94it/s]"
     ]
    },
    {
     "name": "stdout",
     "output_type": "stream",
     "text": [
      "  [Batch 12400]  loss: 0.005408\n"
     ]
    },
    {
     "name": "stderr",
     "output_type": "stream",
     "text": [
      "Epoch 1/10: 12500it [11:17, 12.35it/s]"
     ]
    },
    {
     "name": "stdout",
     "output_type": "stream",
     "text": [
      "  [Batch 12500]  loss: 0.005372\n"
     ]
    },
    {
     "name": "stderr",
     "output_type": "stream",
     "text": [
      "Epoch 1/10: 12603it [11:24, 18.20it/s]"
     ]
    },
    {
     "name": "stdout",
     "output_type": "stream",
     "text": [
      "  [Batch 12600]  loss: 0.005339\n"
     ]
    },
    {
     "name": "stderr",
     "output_type": "stream",
     "text": [
      "Epoch 1/10: 12702it [11:29, 19.00it/s]"
     ]
    },
    {
     "name": "stdout",
     "output_type": "stream",
     "text": [
      "  [Batch 12700]  loss: 0.005300\n"
     ]
    },
    {
     "name": "stderr",
     "output_type": "stream",
     "text": [
      "Epoch 1/10: 12803it [11:35, 18.63it/s]"
     ]
    },
    {
     "name": "stdout",
     "output_type": "stream",
     "text": [
      "  [Batch 12800]  loss: 0.005262\n"
     ]
    },
    {
     "name": "stderr",
     "output_type": "stream",
     "text": [
      "Epoch 1/10: 12901it [11:40, 20.21it/s]"
     ]
    },
    {
     "name": "stdout",
     "output_type": "stream",
     "text": [
      "  [Batch 12900]  loss: 0.005229\n"
     ]
    },
    {
     "name": "stderr",
     "output_type": "stream",
     "text": [
      "Epoch 1/10: 13001it [11:46, 17.07it/s]"
     ]
    },
    {
     "name": "stdout",
     "output_type": "stream",
     "text": [
      "  [Batch 13000]  loss: 0.005191\n"
     ]
    },
    {
     "name": "stderr",
     "output_type": "stream",
     "text": [
      "Epoch 1/10: 13102it [11:52, 19.93it/s]"
     ]
    },
    {
     "name": "stdout",
     "output_type": "stream",
     "text": [
      "  [Batch 13100]  loss: 0.005157\n"
     ]
    },
    {
     "name": "stderr",
     "output_type": "stream",
     "text": [
      "Epoch 1/10: 13202it [11:57, 18.24it/s]"
     ]
    },
    {
     "name": "stdout",
     "output_type": "stream",
     "text": [
      "  [Batch 13200]  loss: 0.005120\n"
     ]
    },
    {
     "name": "stderr",
     "output_type": "stream",
     "text": [
      "Epoch 1/10: 13303it [12:02, 20.61it/s]"
     ]
    },
    {
     "name": "stdout",
     "output_type": "stream",
     "text": [
      "  [Batch 13300]  loss: 0.005084\n"
     ]
    },
    {
     "name": "stderr",
     "output_type": "stream",
     "text": [
      "Epoch 1/10: 13403it [12:07, 19.29it/s]"
     ]
    },
    {
     "name": "stdout",
     "output_type": "stream",
     "text": [
      "  [Batch 13400]  loss: 0.005047\n"
     ]
    },
    {
     "name": "stderr",
     "output_type": "stream",
     "text": [
      "Epoch 1/10: 13502it [12:12, 17.95it/s]"
     ]
    },
    {
     "name": "stdout",
     "output_type": "stream",
     "text": [
      "  [Batch 13500]  loss: 0.005018\n"
     ]
    },
    {
     "name": "stderr",
     "output_type": "stream",
     "text": [
      "Epoch 1/10: 13603it [12:18, 17.67it/s]"
     ]
    },
    {
     "name": "stdout",
     "output_type": "stream",
     "text": [
      "  [Batch 13600]  loss: 0.004984\n"
     ]
    },
    {
     "name": "stderr",
     "output_type": "stream",
     "text": [
      "Epoch 1/10: 13703it [12:24, 14.80it/s]"
     ]
    },
    {
     "name": "stdout",
     "output_type": "stream",
     "text": [
      "  [Batch 13700]  loss: 0.004980\n"
     ]
    },
    {
     "name": "stderr",
     "output_type": "stream",
     "text": [
      "Epoch 1/10: 13803it [12:30, 19.41it/s]"
     ]
    },
    {
     "name": "stdout",
     "output_type": "stream",
     "text": [
      "  [Batch 13800]  loss: 0.004977\n"
     ]
    },
    {
     "name": "stderr",
     "output_type": "stream",
     "text": [
      "Epoch 1/10: 13903it [12:35, 18.73it/s]"
     ]
    },
    {
     "name": "stdout",
     "output_type": "stream",
     "text": [
      "  [Batch 13900]  loss: 0.004947\n"
     ]
    },
    {
     "name": "stderr",
     "output_type": "stream",
     "text": [
      "Epoch 1/10: 14003it [12:40, 19.23it/s]"
     ]
    },
    {
     "name": "stdout",
     "output_type": "stream",
     "text": [
      "  [Batch 14000]  loss: 0.004950\n"
     ]
    },
    {
     "name": "stderr",
     "output_type": "stream",
     "text": [
      "Epoch 1/10: 14102it [12:46, 19.23it/s]"
     ]
    },
    {
     "name": "stdout",
     "output_type": "stream",
     "text": [
      "  [Batch 14100]  loss: 0.005026\n"
     ]
    },
    {
     "name": "stderr",
     "output_type": "stream",
     "text": [
      "Epoch 1/10: 14203it [12:51, 19.95it/s]"
     ]
    },
    {
     "name": "stdout",
     "output_type": "stream",
     "text": [
      "  [Batch 14200]  loss: 0.005136\n"
     ]
    },
    {
     "name": "stderr",
     "output_type": "stream",
     "text": [
      "Epoch 1/10: 14301it [12:56, 19.39it/s]"
     ]
    },
    {
     "name": "stdout",
     "output_type": "stream",
     "text": [
      "  [Batch 14300]  loss: 0.005128\n"
     ]
    },
    {
     "name": "stderr",
     "output_type": "stream",
     "text": [
      "Epoch 1/10: 14403it [13:01, 19.99it/s]"
     ]
    },
    {
     "name": "stdout",
     "output_type": "stream",
     "text": [
      "  [Batch 14400]  loss: 0.005126\n"
     ]
    },
    {
     "name": "stderr",
     "output_type": "stream",
     "text": [
      "Epoch 1/10: 14502it [13:06, 19.87it/s]"
     ]
    },
    {
     "name": "stdout",
     "output_type": "stream",
     "text": [
      "  [Batch 14500]  loss: 0.005156\n"
     ]
    },
    {
     "name": "stderr",
     "output_type": "stream",
     "text": [
      "Epoch 1/10: 14603it [13:11, 18.54it/s]"
     ]
    },
    {
     "name": "stdout",
     "output_type": "stream",
     "text": [
      "  [Batch 14600]  loss: 0.005172\n"
     ]
    },
    {
     "name": "stderr",
     "output_type": "stream",
     "text": [
      "Epoch 1/10: 14702it [13:17, 18.66it/s]"
     ]
    },
    {
     "name": "stdout",
     "output_type": "stream",
     "text": [
      "  [Batch 14700]  loss: 0.005182\n"
     ]
    },
    {
     "name": "stderr",
     "output_type": "stream",
     "text": [
      "Epoch 1/10: 14803it [13:22, 19.60it/s]"
     ]
    },
    {
     "name": "stdout",
     "output_type": "stream",
     "text": [
      "  [Batch 14800]  loss: 0.005204\n"
     ]
    },
    {
     "name": "stderr",
     "output_type": "stream",
     "text": [
      "Epoch 1/10: 14902it [13:27, 17.13it/s]"
     ]
    },
    {
     "name": "stdout",
     "output_type": "stream",
     "text": [
      "  [Batch 14900]  loss: 0.005205\n"
     ]
    },
    {
     "name": "stderr",
     "output_type": "stream",
     "text": [
      "Epoch 1/10: 15002it [13:33, 20.32it/s]"
     ]
    },
    {
     "name": "stdout",
     "output_type": "stream",
     "text": [
      "  [Batch 15000]  loss: 0.005198\n"
     ]
    },
    {
     "name": "stderr",
     "output_type": "stream",
     "text": [
      "Epoch 1/10: 15102it [13:38, 19.75it/s]"
     ]
    },
    {
     "name": "stdout",
     "output_type": "stream",
     "text": [
      "  [Batch 15100]  loss: 0.005182\n"
     ]
    },
    {
     "name": "stderr",
     "output_type": "stream",
     "text": [
      "Epoch 1/10: 15203it [13:43, 19.29it/s]"
     ]
    },
    {
     "name": "stdout",
     "output_type": "stream",
     "text": [
      "  [Batch 15200]  loss: 0.005164\n"
     ]
    },
    {
     "name": "stderr",
     "output_type": "stream",
     "text": [
      "Epoch 1/10: 15303it [13:49, 19.67it/s]"
     ]
    },
    {
     "name": "stdout",
     "output_type": "stream",
     "text": [
      "  [Batch 15300]  loss: 0.005141\n"
     ]
    },
    {
     "name": "stderr",
     "output_type": "stream",
     "text": [
      "Epoch 1/10: 15404it [13:54, 19.89it/s]"
     ]
    },
    {
     "name": "stdout",
     "output_type": "stream",
     "text": [
      "  [Batch 15400]  loss: 0.005113\n"
     ]
    },
    {
     "name": "stderr",
     "output_type": "stream",
     "text": [
      "Epoch 1/10: 15503it [13:59, 20.32it/s]"
     ]
    },
    {
     "name": "stdout",
     "output_type": "stream",
     "text": [
      "  [Batch 15500]  loss: 0.005086\n"
     ]
    },
    {
     "name": "stderr",
     "output_type": "stream",
     "text": [
      "Epoch 1/10: 15603it [14:04, 20.33it/s]"
     ]
    },
    {
     "name": "stdout",
     "output_type": "stream",
     "text": [
      "  [Batch 15600]  loss: 0.005062\n"
     ]
    },
    {
     "name": "stderr",
     "output_type": "stream",
     "text": [
      "Epoch 1/10: 15703it [14:09, 14.87it/s]"
     ]
    },
    {
     "name": "stdout",
     "output_type": "stream",
     "text": [
      "  [Batch 15700]  loss: 0.005038\n"
     ]
    },
    {
     "name": "stderr",
     "output_type": "stream",
     "text": [
      "Epoch 1/10: 15803it [14:15, 18.91it/s]"
     ]
    },
    {
     "name": "stdout",
     "output_type": "stream",
     "text": [
      "  [Batch 15800]  loss: 0.005017\n"
     ]
    },
    {
     "name": "stderr",
     "output_type": "stream",
     "text": [
      "Epoch 1/10: 15902it [14:20, 19.41it/s]"
     ]
    },
    {
     "name": "stdout",
     "output_type": "stream",
     "text": [
      "  [Batch 15900]  loss: 0.004991\n"
     ]
    },
    {
     "name": "stderr",
     "output_type": "stream",
     "text": [
      "Epoch 1/10: 16003it [14:26, 18.29it/s]"
     ]
    },
    {
     "name": "stdout",
     "output_type": "stream",
     "text": [
      "  [Batch 16000]  loss: 0.004966\n"
     ]
    },
    {
     "name": "stderr",
     "output_type": "stream",
     "text": [
      "Epoch 1/10: 16104it [14:31, 20.13it/s]"
     ]
    },
    {
     "name": "stdout",
     "output_type": "stream",
     "text": [
      "  [Batch 16100]  loss: 0.004937\n"
     ]
    },
    {
     "name": "stderr",
     "output_type": "stream",
     "text": [
      "Epoch 1/10: 16204it [14:36, 18.16it/s]"
     ]
    },
    {
     "name": "stdout",
     "output_type": "stream",
     "text": [
      "  [Batch 16200]  loss: 0.004910\n"
     ]
    },
    {
     "name": "stderr",
     "output_type": "stream",
     "text": [
      "Epoch 1/10: 16303it [14:42, 18.43it/s]"
     ]
    },
    {
     "name": "stdout",
     "output_type": "stream",
     "text": [
      "  [Batch 16300]  loss: 0.004886\n"
     ]
    },
    {
     "name": "stderr",
     "output_type": "stream",
     "text": [
      "Epoch 1/10: 16403it [14:47, 19.78it/s]"
     ]
    },
    {
     "name": "stdout",
     "output_type": "stream",
     "text": [
      "  [Batch 16400]  loss: 0.004857\n"
     ]
    },
    {
     "name": "stderr",
     "output_type": "stream",
     "text": [
      "Epoch 1/10: 16502it [14:53, 18.01it/s]"
     ]
    },
    {
     "name": "stdout",
     "output_type": "stream",
     "text": [
      "  [Batch 16500]  loss: 0.004832\n"
     ]
    },
    {
     "name": "stderr",
     "output_type": "stream",
     "text": [
      "Epoch 1/10: 16601it [14:59, 19.32it/s]"
     ]
    },
    {
     "name": "stdout",
     "output_type": "stream",
     "text": [
      "  [Batch 16600]  loss: 0.004804\n"
     ]
    },
    {
     "name": "stderr",
     "output_type": "stream",
     "text": [
      "Epoch 1/10: 16703it [15:04, 17.83it/s]"
     ]
    },
    {
     "name": "stdout",
     "output_type": "stream",
     "text": [
      "  [Batch 16700]  loss: 0.004777\n"
     ]
    },
    {
     "name": "stderr",
     "output_type": "stream",
     "text": [
      "Epoch 1/10: 16802it [15:09, 19.24it/s]"
     ]
    },
    {
     "name": "stdout",
     "output_type": "stream",
     "text": [
      "  [Batch 16800]  loss: 0.004750\n"
     ]
    },
    {
     "name": "stderr",
     "output_type": "stream",
     "text": [
      "Epoch 1/10: 16904it [15:15, 19.69it/s]"
     ]
    },
    {
     "name": "stdout",
     "output_type": "stream",
     "text": [
      "  [Batch 16900]  loss: 0.004732\n"
     ]
    },
    {
     "name": "stderr",
     "output_type": "stream",
     "text": [
      "Epoch 1/10: 17002it [15:21, 18.87it/s]"
     ]
    },
    {
     "name": "stdout",
     "output_type": "stream",
     "text": [
      "  [Batch 17000]  loss: 0.004706\n"
     ]
    },
    {
     "name": "stderr",
     "output_type": "stream",
     "text": [
      "Epoch 1/10: 17101it [15:26, 19.95it/s]"
     ]
    },
    {
     "name": "stdout",
     "output_type": "stream",
     "text": [
      "  [Batch 17100]  loss: 0.004704\n"
     ]
    },
    {
     "name": "stderr",
     "output_type": "stream",
     "text": [
      "Epoch 1/10: 17204it [15:31, 20.40it/s]"
     ]
    },
    {
     "name": "stdout",
     "output_type": "stream",
     "text": [
      "  [Batch 17200]  loss: 0.004704\n"
     ]
    },
    {
     "name": "stderr",
     "output_type": "stream",
     "text": [
      "Epoch 1/10: 17303it [15:36, 19.61it/s]"
     ]
    },
    {
     "name": "stdout",
     "output_type": "stream",
     "text": [
      "  [Batch 17300]  loss: 0.004681\n"
     ]
    },
    {
     "name": "stderr",
     "output_type": "stream",
     "text": [
      "Epoch 1/10: 17401it [15:41, 20.31it/s]"
     ]
    },
    {
     "name": "stdout",
     "output_type": "stream",
     "text": [
      "  [Batch 17400]  loss: 0.004683\n"
     ]
    },
    {
     "name": "stderr",
     "output_type": "stream",
     "text": [
      "Epoch 1/10: 17503it [15:46, 20.12it/s]"
     ]
    },
    {
     "name": "stdout",
     "output_type": "stream",
     "text": [
      "  [Batch 17500]  loss: 0.004744\n"
     ]
    },
    {
     "name": "stderr",
     "output_type": "stream",
     "text": [
      "Epoch 1/10: 17601it [15:51, 18.89it/s]"
     ]
    },
    {
     "name": "stdout",
     "output_type": "stream",
     "text": [
      "  [Batch 17600]  loss: 0.004833\n"
     ]
    },
    {
     "name": "stderr",
     "output_type": "stream",
     "text": [
      "Epoch 1/10: 17703it [15:56, 19.75it/s]"
     ]
    },
    {
     "name": "stdout",
     "output_type": "stream",
     "text": [
      "  [Batch 17700]  loss: 0.004828\n"
     ]
    },
    {
     "name": "stderr",
     "output_type": "stream",
     "text": [
      "Epoch 1/10: 17802it [16:01, 20.63it/s]"
     ]
    },
    {
     "name": "stdout",
     "output_type": "stream",
     "text": [
      "  [Batch 17800]  loss: 0.004824\n"
     ]
    },
    {
     "name": "stderr",
     "output_type": "stream",
     "text": [
      "Epoch 1/10: 17902it [16:06, 19.36it/s]"
     ]
    },
    {
     "name": "stdout",
     "output_type": "stream",
     "text": [
      "  [Batch 17900]  loss: 0.004847\n"
     ]
    },
    {
     "name": "stderr",
     "output_type": "stream",
     "text": [
      "Epoch 1/10: 18003it [16:11, 18.92it/s]"
     ]
    },
    {
     "name": "stdout",
     "output_type": "stream",
     "text": [
      "  [Batch 18000]  loss: 0.004854\n"
     ]
    },
    {
     "name": "stderr",
     "output_type": "stream",
     "text": [
      "Epoch 1/10: 18102it [16:17, 17.67it/s]"
     ]
    },
    {
     "name": "stdout",
     "output_type": "stream",
     "text": [
      "  [Batch 18100]  loss: 0.004860\n"
     ]
    },
    {
     "name": "stderr",
     "output_type": "stream",
     "text": [
      "Epoch 1/10: 18202it [16:23, 15.91it/s]"
     ]
    },
    {
     "name": "stdout",
     "output_type": "stream",
     "text": [
      "  [Batch 18200]  loss: 0.004878\n"
     ]
    },
    {
     "name": "stderr",
     "output_type": "stream",
     "text": [
      "Epoch 1/10: 18304it [16:29, 20.43it/s]"
     ]
    },
    {
     "name": "stdout",
     "output_type": "stream",
     "text": [
      "  [Batch 18300]  loss: 0.004884\n"
     ]
    },
    {
     "name": "stderr",
     "output_type": "stream",
     "text": [
      "Epoch 1/10: 18402it [16:34, 15.41it/s]"
     ]
    },
    {
     "name": "stdout",
     "output_type": "stream",
     "text": [
      "  [Batch 18400]  loss: 0.004882\n"
     ]
    },
    {
     "name": "stderr",
     "output_type": "stream",
     "text": [
      "Epoch 1/10: 18502it [16:39, 19.79it/s]"
     ]
    },
    {
     "name": "stdout",
     "output_type": "stream",
     "text": [
      "  [Batch 18500]  loss: 0.004871\n"
     ]
    },
    {
     "name": "stderr",
     "output_type": "stream",
     "text": [
      "Epoch 1/10: 18602it [16:45, 18.11it/s]"
     ]
    },
    {
     "name": "stdout",
     "output_type": "stream",
     "text": [
      "  [Batch 18600]  loss: 0.004857\n"
     ]
    },
    {
     "name": "stderr",
     "output_type": "stream",
     "text": [
      "Epoch 1/10: 18703it [16:50, 18.66it/s]"
     ]
    },
    {
     "name": "stdout",
     "output_type": "stream",
     "text": [
      "  [Batch 18700]  loss: 0.004839\n"
     ]
    },
    {
     "name": "stderr",
     "output_type": "stream",
     "text": [
      "Epoch 1/10: 18804it [16:56, 18.74it/s]"
     ]
    },
    {
     "name": "stdout",
     "output_type": "stream",
     "text": [
      "  [Batch 18800]  loss: 0.004818\n"
     ]
    },
    {
     "name": "stderr",
     "output_type": "stream",
     "text": [
      "Epoch 1/10: 18902it [17:02, 17.66it/s]"
     ]
    },
    {
     "name": "stdout",
     "output_type": "stream",
     "text": [
      "  [Batch 18900]  loss: 0.004798\n"
     ]
    },
    {
     "name": "stderr",
     "output_type": "stream",
     "text": [
      "Epoch 1/10: 19003it [17:07, 17.58it/s]"
     ]
    },
    {
     "name": "stdout",
     "output_type": "stream",
     "text": [
      "  [Batch 19000]  loss: 0.004779\n"
     ]
    },
    {
     "name": "stderr",
     "output_type": "stream",
     "text": [
      "Epoch 1/10: 19103it [17:13, 18.66it/s]"
     ]
    },
    {
     "name": "stdout",
     "output_type": "stream",
     "text": [
      "  [Batch 19100]  loss: 0.004761\n"
     ]
    },
    {
     "name": "stderr",
     "output_type": "stream",
     "text": [
      "Epoch 1/10: 19203it [17:18, 18.18it/s]"
     ]
    },
    {
     "name": "stdout",
     "output_type": "stream",
     "text": [
      "  [Batch 19200]  loss: 0.004744\n"
     ]
    },
    {
     "name": "stderr",
     "output_type": "stream",
     "text": [
      "Epoch 1/10: 19302it [17:24, 19.28it/s]"
     ]
    },
    {
     "name": "stdout",
     "output_type": "stream",
     "text": [
      "  [Batch 19300]  loss: 0.004724\n"
     ]
    },
    {
     "name": "stderr",
     "output_type": "stream",
     "text": [
      "Epoch 1/10: 19403it [17:30, 19.33it/s]"
     ]
    },
    {
     "name": "stdout",
     "output_type": "stream",
     "text": [
      "  [Batch 19400]  loss: 0.004704\n"
     ]
    },
    {
     "name": "stderr",
     "output_type": "stream",
     "text": [
      "Epoch 1/10: 19504it [17:35, 20.48it/s]"
     ]
    },
    {
     "name": "stdout",
     "output_type": "stream",
     "text": [
      "  [Batch 19500]  loss: 0.004682\n"
     ]
    },
    {
     "name": "stderr",
     "output_type": "stream",
     "text": [
      "Epoch 1/10: 19602it [17:40, 19.12it/s]"
     ]
    },
    {
     "name": "stdout",
     "output_type": "stream",
     "text": [
      "  [Batch 19600]  loss: 0.004662\n"
     ]
    },
    {
     "name": "stderr",
     "output_type": "stream",
     "text": [
      "Epoch 1/10: 19702it [17:45, 18.75it/s]"
     ]
    },
    {
     "name": "stdout",
     "output_type": "stream",
     "text": [
      "  [Batch 19700]  loss: 0.004642\n"
     ]
    },
    {
     "name": "stderr",
     "output_type": "stream",
     "text": [
      "Epoch 1/10: 19802it [17:52, 17.28it/s]"
     ]
    },
    {
     "name": "stdout",
     "output_type": "stream",
     "text": [
      "  [Batch 19800]  loss: 0.004620\n"
     ]
    },
    {
     "name": "stderr",
     "output_type": "stream",
     "text": [
      "Epoch 1/10: 19903it [17:57, 18.96it/s]"
     ]
    },
    {
     "name": "stdout",
     "output_type": "stream",
     "text": [
      "  [Batch 19900]  loss: 0.004600\n"
     ]
    },
    {
     "name": "stderr",
     "output_type": "stream",
     "text": [
      "Epoch 1/10: 20004it [18:03, 20.09it/s]"
     ]
    },
    {
     "name": "stdout",
     "output_type": "stream",
     "text": [
      "  [Batch 20000]  loss: 0.004578\n"
     ]
    },
    {
     "name": "stderr",
     "output_type": "stream",
     "text": [
      "Epoch 1/10: 20103it [18:08, 17.82it/s]"
     ]
    },
    {
     "name": "stdout",
     "output_type": "stream",
     "text": [
      "  [Batch 20100]  loss: 0.004557\n"
     ]
    },
    {
     "name": "stderr",
     "output_type": "stream",
     "text": [
      "Epoch 1/10: 20202it [18:13, 17.54it/s]"
     ]
    },
    {
     "name": "stdout",
     "output_type": "stream",
     "text": [
      "  [Batch 20200]  loss: 0.004536\n"
     ]
    },
    {
     "name": "stderr",
     "output_type": "stream",
     "text": [
      "Epoch 1/10: 20301it [18:19, 13.73it/s]"
     ]
    },
    {
     "name": "stdout",
     "output_type": "stream",
     "text": [
      "  [Batch 20300]  loss: 0.004519\n"
     ]
    },
    {
     "name": "stderr",
     "output_type": "stream",
     "text": [
      "Epoch 1/10: 20402it [18:26, 17.74it/s]"
     ]
    },
    {
     "name": "stdout",
     "output_type": "stream",
     "text": [
      "  [Batch 20400]  loss: 0.004504\n"
     ]
    },
    {
     "name": "stderr",
     "output_type": "stream",
     "text": [
      "Epoch 1/10: 20503it [18:31, 18.21it/s]"
     ]
    },
    {
     "name": "stdout",
     "output_type": "stream",
     "text": [
      "  [Batch 20500]  loss: 0.004503\n"
     ]
    },
    {
     "name": "stderr",
     "output_type": "stream",
     "text": [
      "Epoch 1/10: 20602it [18:37, 17.63it/s]"
     ]
    },
    {
     "name": "stdout",
     "output_type": "stream",
     "text": [
      "  [Batch 20600]  loss: 0.004504\n"
     ]
    },
    {
     "name": "stderr",
     "output_type": "stream",
     "text": [
      "Epoch 1/10: 20703it [18:42, 18.31it/s]"
     ]
    },
    {
     "name": "stdout",
     "output_type": "stream",
     "text": [
      "  [Batch 20700]  loss: 0.004486\n"
     ]
    },
    {
     "name": "stderr",
     "output_type": "stream",
     "text": [
      "Epoch 1/10: 20803it [18:47, 19.47it/s]"
     ]
    },
    {
     "name": "stdout",
     "output_type": "stream",
     "text": [
      "  [Batch 20800]  loss: 0.004486\n"
     ]
    },
    {
     "name": "stderr",
     "output_type": "stream",
     "text": [
      "Epoch 1/10: 20902it [18:53, 15.75it/s]"
     ]
    },
    {
     "name": "stdout",
     "output_type": "stream",
     "text": [
      "  [Batch 20900]  loss: 0.004536\n"
     ]
    },
    {
     "name": "stderr",
     "output_type": "stream",
     "text": [
      "Epoch 1/10: 21003it [18:59, 18.00it/s]"
     ]
    },
    {
     "name": "stdout",
     "output_type": "stream",
     "text": [
      "  [Batch 21000]  loss: 0.004604\n"
     ]
    },
    {
     "name": "stderr",
     "output_type": "stream",
     "text": [
      "Epoch 1/10: 21103it [19:04, 19.05it/s]"
     ]
    },
    {
     "name": "stdout",
     "output_type": "stream",
     "text": [
      "  [Batch 21100]  loss: 0.004597\n"
     ]
    },
    {
     "name": "stderr",
     "output_type": "stream",
     "text": [
      "Epoch 1/10: 21203it [19:09, 18.93it/s]"
     ]
    },
    {
     "name": "stdout",
     "output_type": "stream",
     "text": [
      "  [Batch 21200]  loss: 0.004594\n"
     ]
    },
    {
     "name": "stderr",
     "output_type": "stream",
     "text": [
      "Epoch 1/10: 21302it [19:15, 17.70it/s]"
     ]
    },
    {
     "name": "stdout",
     "output_type": "stream",
     "text": [
      "  [Batch 21300]  loss: 0.004614\n"
     ]
    },
    {
     "name": "stderr",
     "output_type": "stream",
     "text": [
      "Epoch 1/10: 21402it [19:21, 16.33it/s]"
     ]
    },
    {
     "name": "stdout",
     "output_type": "stream",
     "text": [
      "  [Batch 21400]  loss: 0.004623\n"
     ]
    },
    {
     "name": "stderr",
     "output_type": "stream",
     "text": [
      "Epoch 1/10: 21504it [19:26, 19.04it/s]"
     ]
    },
    {
     "name": "stdout",
     "output_type": "stream",
     "text": [
      "  [Batch 21500]  loss: 0.004626\n"
     ]
    },
    {
     "name": "stderr",
     "output_type": "stream",
     "text": [
      "Epoch 1/10: 21603it [19:32, 17.74it/s]"
     ]
    },
    {
     "name": "stdout",
     "output_type": "stream",
     "text": [
      "  [Batch 21600]  loss: 0.004641\n"
     ]
    },
    {
     "name": "stderr",
     "output_type": "stream",
     "text": [
      "Epoch 1/10: 21702it [19:38, 17.48it/s]"
     ]
    },
    {
     "name": "stdout",
     "output_type": "stream",
     "text": [
      "  [Batch 21700]  loss: 0.004646\n"
     ]
    },
    {
     "name": "stderr",
     "output_type": "stream",
     "text": [
      "Epoch 1/10: 21802it [19:43, 17.14it/s]"
     ]
    },
    {
     "name": "stdout",
     "output_type": "stream",
     "text": [
      "  [Batch 21800]  loss: 0.004645\n"
     ]
    },
    {
     "name": "stderr",
     "output_type": "stream",
     "text": [
      "Epoch 1/10: 21903it [19:49, 18.62it/s]"
     ]
    },
    {
     "name": "stdout",
     "output_type": "stream",
     "text": [
      "  [Batch 21900]  loss: 0.004638\n"
     ]
    },
    {
     "name": "stderr",
     "output_type": "stream",
     "text": [
      "Epoch 1/10: 22003it [19:54, 18.79it/s]"
     ]
    },
    {
     "name": "stdout",
     "output_type": "stream",
     "text": [
      "  [Batch 22000]  loss: 0.004626\n"
     ]
    },
    {
     "name": "stderr",
     "output_type": "stream",
     "text": [
      "Epoch 1/10: 22102it [20:00, 17.09it/s]"
     ]
    },
    {
     "name": "stdout",
     "output_type": "stream",
     "text": [
      "  [Batch 22100]  loss: 0.004612\n"
     ]
    },
    {
     "name": "stderr",
     "output_type": "stream",
     "text": [
      "Epoch 1/10: 22202it [20:06, 17.63it/s]"
     ]
    },
    {
     "name": "stdout",
     "output_type": "stream",
     "text": [
      "  [Batch 22200]  loss: 0.004595\n"
     ]
    },
    {
     "name": "stderr",
     "output_type": "stream",
     "text": [
      "Epoch 1/10: 22302it [20:11, 17.45it/s]"
     ]
    },
    {
     "name": "stdout",
     "output_type": "stream",
     "text": [
      "  [Batch 22300]  loss: 0.004578\n"
     ]
    },
    {
     "name": "stderr",
     "output_type": "stream",
     "text": [
      "Epoch 1/10: 22401it [20:17, 15.89it/s]"
     ]
    },
    {
     "name": "stdout",
     "output_type": "stream",
     "text": [
      "  [Batch 22400]  loss: 0.004563\n"
     ]
    },
    {
     "name": "stderr",
     "output_type": "stream",
     "text": [
      "Epoch 1/10: 22503it [20:22, 18.04it/s]"
     ]
    },
    {
     "name": "stdout",
     "output_type": "stream",
     "text": [
      "  [Batch 22500]  loss: 0.004550\n"
     ]
    },
    {
     "name": "stderr",
     "output_type": "stream",
     "text": [
      "Epoch 1/10: 22603it [20:28, 17.69it/s]"
     ]
    },
    {
     "name": "stdout",
     "output_type": "stream",
     "text": [
      "  [Batch 22600]  loss: 0.004535\n"
     ]
    },
    {
     "name": "stderr",
     "output_type": "stream",
     "text": [
      "Epoch 1/10: 22704it [20:33, 18.41it/s]"
     ]
    },
    {
     "name": "stdout",
     "output_type": "stream",
     "text": [
      "  [Batch 22700]  loss: 0.004519\n"
     ]
    },
    {
     "name": "stderr",
     "output_type": "stream",
     "text": [
      "Epoch 1/10: 22803it [20:39, 17.95it/s]"
     ]
    },
    {
     "name": "stdout",
     "output_type": "stream",
     "text": [
      "  [Batch 22800]  loss: 0.004502\n"
     ]
    },
    {
     "name": "stderr",
     "output_type": "stream",
     "text": [
      "Epoch 1/10: 22903it [20:44, 17.74it/s]"
     ]
    },
    {
     "name": "stdout",
     "output_type": "stream",
     "text": [
      "  [Batch 22900]  loss: 0.004484\n"
     ]
    },
    {
     "name": "stderr",
     "output_type": "stream",
     "text": [
      "Epoch 1/10: 23003it [20:50, 17.27it/s]"
     ]
    },
    {
     "name": "stdout",
     "output_type": "stream",
     "text": [
      "  [Batch 23000]  loss: 0.004469\n"
     ]
    },
    {
     "name": "stderr",
     "output_type": "stream",
     "text": [
      "Epoch 1/10: 23103it [20:55, 17.94it/s]"
     ]
    },
    {
     "name": "stdout",
     "output_type": "stream",
     "text": [
      "  [Batch 23100]  loss: 0.004453\n"
     ]
    },
    {
     "name": "stderr",
     "output_type": "stream",
     "text": [
      "Epoch 1/10: 23202it [21:02, 18.73it/s]"
     ]
    },
    {
     "name": "stdout",
     "output_type": "stream",
     "text": [
      "  [Batch 23200]  loss: 0.004434\n"
     ]
    },
    {
     "name": "stderr",
     "output_type": "stream",
     "text": [
      "Epoch 1/10: 23304it [21:07, 19.15it/s]"
     ]
    },
    {
     "name": "stdout",
     "output_type": "stream",
     "text": [
      "  [Batch 23300]  loss: 0.004418\n"
     ]
    },
    {
     "name": "stderr",
     "output_type": "stream",
     "text": [
      "Epoch 1/10: 23403it [21:13, 18.65it/s]"
     ]
    },
    {
     "name": "stdout",
     "output_type": "stream",
     "text": [
      "  [Batch 23400]  loss: 0.004400\n"
     ]
    },
    {
     "name": "stderr",
     "output_type": "stream",
     "text": [
      "Epoch 1/10: 23503it [21:18, 17.18it/s]"
     ]
    },
    {
     "name": "stdout",
     "output_type": "stream",
     "text": [
      "  [Batch 23500]  loss: 0.004382\n"
     ]
    },
    {
     "name": "stderr",
     "output_type": "stream",
     "text": [
      "Epoch 1/10: 23602it [21:24, 18.25it/s]"
     ]
    },
    {
     "name": "stdout",
     "output_type": "stream",
     "text": [
      "  [Batch 23600]  loss: 0.004366\n"
     ]
    },
    {
     "name": "stderr",
     "output_type": "stream",
     "text": [
      "Epoch 1/10: 23702it [21:29, 19.17it/s]"
     ]
    },
    {
     "name": "stdout",
     "output_type": "stream",
     "text": [
      "  [Batch 23700]  loss: 0.004351\n"
     ]
    },
    {
     "name": "stderr",
     "output_type": "stream",
     "text": [
      "Epoch 1/10: 23803it [21:36, 17.38it/s]"
     ]
    },
    {
     "name": "stdout",
     "output_type": "stream",
     "text": [
      "  [Batch 23800]  loss: 0.004341\n"
     ]
    },
    {
     "name": "stderr",
     "output_type": "stream",
     "text": [
      "Epoch 1/10: 23903it [21:41, 17.40it/s]"
     ]
    },
    {
     "name": "stdout",
     "output_type": "stream",
     "text": [
      "  [Batch 23900]  loss: 0.004344\n"
     ]
    },
    {
     "name": "stderr",
     "output_type": "stream",
     "text": [
      "Epoch 1/10: 24003it [21:47, 17.61it/s]"
     ]
    },
    {
     "name": "stdout",
     "output_type": "stream",
     "text": [
      "  [Batch 24000]  loss: 0.004345\n"
     ]
    },
    {
     "name": "stderr",
     "output_type": "stream",
     "text": [
      "Epoch 1/10: 24102it [21:52, 18.68it/s]"
     ]
    },
    {
     "name": "stdout",
     "output_type": "stream",
     "text": [
      "  [Batch 24100]  loss: 0.004328\n"
     ]
    },
    {
     "name": "stderr",
     "output_type": "stream",
     "text": [
      "Epoch 1/10: 24203it [21:58, 17.75it/s]"
     ]
    },
    {
     "name": "stdout",
     "output_type": "stream",
     "text": [
      "  [Batch 24200]  loss: 0.004329\n"
     ]
    },
    {
     "name": "stderr",
     "output_type": "stream",
     "text": [
      "Epoch 1/10: 24303it [22:03, 16.52it/s]"
     ]
    },
    {
     "name": "stdout",
     "output_type": "stream",
     "text": [
      "  [Batch 24300]  loss: 0.004371\n"
     ]
    },
    {
     "name": "stderr",
     "output_type": "stream",
     "text": [
      "Epoch 1/10: 24403it [22:09, 20.14it/s]"
     ]
    },
    {
     "name": "stdout",
     "output_type": "stream",
     "text": [
      "  [Batch 24400]  loss: 0.004423\n"
     ]
    },
    {
     "name": "stderr",
     "output_type": "stream",
     "text": [
      "Epoch 1/10: 24504it [22:14, 18.40it/s]"
     ]
    },
    {
     "name": "stdout",
     "output_type": "stream",
     "text": [
      "  [Batch 24500]  loss: 0.004417\n"
     ]
    },
    {
     "name": "stderr",
     "output_type": "stream",
     "text": [
      "Epoch 1/10: 24602it [22:21, 16.98it/s]"
     ]
    },
    {
     "name": "stdout",
     "output_type": "stream",
     "text": [
      "  [Batch 24600]  loss: 0.004418\n"
     ]
    },
    {
     "name": "stderr",
     "output_type": "stream",
     "text": [
      "Epoch 1/10: 24702it [22:26, 16.08it/s]"
     ]
    },
    {
     "name": "stdout",
     "output_type": "stream",
     "text": [
      "  [Batch 24700]  loss: 0.004436\n"
     ]
    },
    {
     "name": "stderr",
     "output_type": "stream",
     "text": [
      "Epoch 1/10: 24802it [22:31, 18.68it/s]"
     ]
    },
    {
     "name": "stdout",
     "output_type": "stream",
     "text": [
      "  [Batch 24800]  loss: 0.004440\n"
     ]
    },
    {
     "name": "stderr",
     "output_type": "stream",
     "text": [
      "Epoch 1/10: 24904it [22:37, 20.05it/s]"
     ]
    },
    {
     "name": "stdout",
     "output_type": "stream",
     "text": [
      "  [Batch 24900]  loss: 0.004443\n"
     ]
    },
    {
     "name": "stderr",
     "output_type": "stream",
     "text": [
      "Epoch 1/10: 25002it [22:42, 18.38it/s]"
     ]
    },
    {
     "name": "stdout",
     "output_type": "stream",
     "text": [
      "  [Batch 25000]  loss: 0.004455\n"
     ]
    },
    {
     "name": "stderr",
     "output_type": "stream",
     "text": [
      "Epoch 1/10: 25102it [22:47, 18.46it/s]"
     ]
    },
    {
     "name": "stdout",
     "output_type": "stream",
     "text": [
      "  [Batch 25100]  loss: 0.004460\n"
     ]
    },
    {
     "name": "stderr",
     "output_type": "stream",
     "text": [
      "Epoch 1/10: 25203it [22:52, 19.98it/s]"
     ]
    },
    {
     "name": "stdout",
     "output_type": "stream",
     "text": [
      "  [Batch 25200]  loss: 0.004461\n"
     ]
    },
    {
     "name": "stderr",
     "output_type": "stream",
     "text": [
      "Epoch 1/10: 25303it [22:57, 20.16it/s]"
     ]
    },
    {
     "name": "stdout",
     "output_type": "stream",
     "text": [
      "  [Batch 25300]  loss: 0.004455\n"
     ]
    },
    {
     "name": "stderr",
     "output_type": "stream",
     "text": [
      "Epoch 1/10: 25403it [23:02, 20.35it/s]"
     ]
    },
    {
     "name": "stdout",
     "output_type": "stream",
     "text": [
      "  [Batch 25400]  loss: 0.004445\n"
     ]
    },
    {
     "name": "stderr",
     "output_type": "stream",
     "text": [
      "Epoch 1/10: 25502it [23:07, 19.83it/s]"
     ]
    },
    {
     "name": "stdout",
     "output_type": "stream",
     "text": [
      "  [Batch 25500]  loss: 0.004434\n"
     ]
    },
    {
     "name": "stderr",
     "output_type": "stream",
     "text": [
      "Epoch 1/10: 25602it [23:12, 18.99it/s]"
     ]
    },
    {
     "name": "stdout",
     "output_type": "stream",
     "text": [
      "  [Batch 25600]  loss: 0.004419\n"
     ]
    },
    {
     "name": "stderr",
     "output_type": "stream",
     "text": [
      "Epoch 1/10: 25703it [23:17, 20.14it/s]"
     ]
    },
    {
     "name": "stdout",
     "output_type": "stream",
     "text": [
      "  [Batch 25700]  loss: 0.004405\n"
     ]
    },
    {
     "name": "stderr",
     "output_type": "stream",
     "text": [
      "Epoch 1/10: 25804it [23:23, 20.05it/s]"
     ]
    },
    {
     "name": "stdout",
     "output_type": "stream",
     "text": [
      "  [Batch 25800]  loss: 0.004393\n"
     ]
    },
    {
     "name": "stderr",
     "output_type": "stream",
     "text": [
      "Epoch 1/10: 25903it [23:28, 20.69it/s]"
     ]
    },
    {
     "name": "stdout",
     "output_type": "stream",
     "text": [
      "  [Batch 25900]  loss: 0.004383\n"
     ]
    },
    {
     "name": "stderr",
     "output_type": "stream",
     "text": [
      "Epoch 1/10: 26002it [23:32, 19.52it/s]"
     ]
    },
    {
     "name": "stdout",
     "output_type": "stream",
     "text": [
      "  [Batch 26000]  loss: 0.004369\n"
     ]
    },
    {
     "name": "stderr",
     "output_type": "stream",
     "text": [
      "Epoch 1/10: 26103it [23:38, 19.73it/s]"
     ]
    },
    {
     "name": "stdout",
     "output_type": "stream",
     "text": [
      "  [Batch 26100]  loss: 0.004356\n"
     ]
    },
    {
     "name": "stderr",
     "output_type": "stream",
     "text": [
      "Epoch 1/10: 26203it [23:42, 19.35it/s]"
     ]
    },
    {
     "name": "stdout",
     "output_type": "stream",
     "text": [
      "  [Batch 26200]  loss: 0.004342\n"
     ]
    },
    {
     "name": "stderr",
     "output_type": "stream",
     "text": [
      "Epoch 1/10: 26301it [23:47, 20.41it/s]"
     ]
    },
    {
     "name": "stdout",
     "output_type": "stream",
     "text": [
      "  [Batch 26300]  loss: 0.004328\n"
     ]
    },
    {
     "name": "stderr",
     "output_type": "stream",
     "text": [
      "Epoch 1/10: 26402it [23:52, 19.93it/s]"
     ]
    },
    {
     "name": "stdout",
     "output_type": "stream",
     "text": [
      "  [Batch 26400]  loss: 0.004315\n"
     ]
    },
    {
     "name": "stderr",
     "output_type": "stream",
     "text": [
      "Epoch 1/10: 26504it [23:57, 20.72it/s]"
     ]
    },
    {
     "name": "stdout",
     "output_type": "stream",
     "text": [
      "  [Batch 26500]  loss: 0.004301\n"
     ]
    },
    {
     "name": "stderr",
     "output_type": "stream",
     "text": [
      "Epoch 1/10: 26603it [24:03, 20.11it/s]"
     ]
    },
    {
     "name": "stdout",
     "output_type": "stream",
     "text": [
      "  [Batch 26600]  loss: 0.004285\n"
     ]
    },
    {
     "name": "stderr",
     "output_type": "stream",
     "text": [
      "Epoch 1/10: 26702it [24:08, 19.79it/s]"
     ]
    },
    {
     "name": "stdout",
     "output_type": "stream",
     "text": [
      "  [Batch 26700]  loss: 0.004271\n"
     ]
    },
    {
     "name": "stderr",
     "output_type": "stream",
     "text": [
      "Epoch 1/10: 26803it [24:13, 17.71it/s]"
     ]
    },
    {
     "name": "stdout",
     "output_type": "stream",
     "text": [
      "  [Batch 26800]  loss: 0.004256\n"
     ]
    },
    {
     "name": "stderr",
     "output_type": "stream",
     "text": [
      "Epoch 1/10: 26903it [24:19, 18.25it/s]"
     ]
    },
    {
     "name": "stdout",
     "output_type": "stream",
     "text": [
      "  [Batch 26900]  loss: 0.004241\n"
     ]
    },
    {
     "name": "stderr",
     "output_type": "stream",
     "text": [
      "Epoch 1/10: 27004it [24:25, 18.76it/s]"
     ]
    },
    {
     "name": "stdout",
     "output_type": "stream",
     "text": [
      "  [Batch 27000]  loss: 0.004228\n"
     ]
    },
    {
     "name": "stderr",
     "output_type": "stream",
     "text": [
      "Epoch 1/10: 27102it [24:30, 14.20it/s]"
     ]
    },
    {
     "name": "stdout",
     "output_type": "stream",
     "text": [
      "  [Batch 27100]  loss: 0.004216\n"
     ]
    },
    {
     "name": "stderr",
     "output_type": "stream",
     "text": [
      "Epoch 1/10: 27203it [24:37, 16.66it/s]"
     ]
    },
    {
     "name": "stdout",
     "output_type": "stream",
     "text": [
      "  [Batch 27200]  loss: 0.004208\n"
     ]
    },
    {
     "name": "stderr",
     "output_type": "stream",
     "text": [
      "Epoch 1/10: 27302it [24:43, 19.01it/s]"
     ]
    },
    {
     "name": "stdout",
     "output_type": "stream",
     "text": [
      "  [Batch 27300]  loss: 0.004210\n"
     ]
    },
    {
     "name": "stderr",
     "output_type": "stream",
     "text": [
      "Epoch 1/10: 27403it [24:48, 17.80it/s]"
     ]
    },
    {
     "name": "stdout",
     "output_type": "stream",
     "text": [
      "  [Batch 27400]  loss: 0.004209\n"
     ]
    },
    {
     "name": "stderr",
     "output_type": "stream",
     "text": [
      "Epoch 1/10: 27503it [24:54, 17.39it/s]"
     ]
    },
    {
     "name": "stdout",
     "output_type": "stream",
     "text": [
      "  [Batch 27500]  loss: 0.004194\n"
     ]
    },
    {
     "name": "stderr",
     "output_type": "stream",
     "text": [
      "Epoch 1/10: 27602it [25:00, 16.08it/s]"
     ]
    },
    {
     "name": "stdout",
     "output_type": "stream",
     "text": [
      "  [Batch 27600]  loss: 0.004209\n"
     ]
    },
    {
     "name": "stderr",
     "output_type": "stream",
     "text": [
      "Epoch 1/10: 27702it [25:06, 18.79it/s]"
     ]
    },
    {
     "name": "stdout",
     "output_type": "stream",
     "text": [
      "  [Batch 27700]  loss: 0.004230\n"
     ]
    },
    {
     "name": "stderr",
     "output_type": "stream",
     "text": [
      "Epoch 1/10: 27803it [25:11, 20.60it/s]"
     ]
    },
    {
     "name": "stdout",
     "output_type": "stream",
     "text": [
      "  [Batch 27800]  loss: 0.004281\n"
     ]
    },
    {
     "name": "stderr",
     "output_type": "stream",
     "text": [
      "Epoch 1/10: 27902it [25:16, 20.39it/s]"
     ]
    },
    {
     "name": "stdout",
     "output_type": "stream",
     "text": [
      "  [Batch 27900]  loss: 0.004277\n"
     ]
    },
    {
     "name": "stderr",
     "output_type": "stream",
     "text": [
      "Epoch 1/10: 28003it [25:21, 16.90it/s]"
     ]
    },
    {
     "name": "stdout",
     "output_type": "stream",
     "text": [
      "  [Batch 28000]  loss: 0.004281\n"
     ]
    },
    {
     "name": "stderr",
     "output_type": "stream",
     "text": [
      "Epoch 1/10: 28103it [25:27, 18.23it/s]"
     ]
    },
    {
     "name": "stdout",
     "output_type": "stream",
     "text": [
      "  [Batch 28100]  loss: 0.004301\n"
     ]
    },
    {
     "name": "stderr",
     "output_type": "stream",
     "text": [
      "Epoch 1/10: 28201it [25:32, 16.73it/s]"
     ]
    },
    {
     "name": "stdout",
     "output_type": "stream",
     "text": [
      "  [Batch 28200]  loss: 0.004301\n"
     ]
    },
    {
     "name": "stderr",
     "output_type": "stream",
     "text": [
      "Epoch 1/10: 28302it [25:38, 17.33it/s]"
     ]
    },
    {
     "name": "stdout",
     "output_type": "stream",
     "text": [
      "  [Batch 28300]  loss: 0.004306\n"
     ]
    },
    {
     "name": "stderr",
     "output_type": "stream",
     "text": [
      "Epoch 1/10: 28403it [25:43, 20.20it/s]"
     ]
    },
    {
     "name": "stdout",
     "output_type": "stream",
     "text": [
      "  [Batch 28400]  loss: 0.004316\n"
     ]
    },
    {
     "name": "stderr",
     "output_type": "stream",
     "text": [
      "Epoch 1/10: 28502it [25:49, 17.66it/s]"
     ]
    },
    {
     "name": "stdout",
     "output_type": "stream",
     "text": [
      "  [Batch 28500]  loss: 0.004319\n"
     ]
    },
    {
     "name": "stderr",
     "output_type": "stream",
     "text": [
      "Epoch 1/10: 28603it [25:54, 18.45it/s]"
     ]
    },
    {
     "name": "stdout",
     "output_type": "stream",
     "text": [
      "  [Batch 28600]  loss: 0.004321\n"
     ]
    },
    {
     "name": "stderr",
     "output_type": "stream",
     "text": [
      "Epoch 1/10: 28702it [26:00, 16.90it/s]"
     ]
    },
    {
     "name": "stdout",
     "output_type": "stream",
     "text": [
      "  [Batch 28700]  loss: 0.004315\n"
     ]
    },
    {
     "name": "stderr",
     "output_type": "stream",
     "text": [
      "Epoch 1/10: 28802it [26:06, 18.77it/s]"
     ]
    },
    {
     "name": "stdout",
     "output_type": "stream",
     "text": [
      "  [Batch 28800]  loss: 0.004307\n"
     ]
    },
    {
     "name": "stderr",
     "output_type": "stream",
     "text": [
      "Epoch 1/10: 28902it [26:11, 18.44it/s]"
     ]
    },
    {
     "name": "stdout",
     "output_type": "stream",
     "text": [
      "  [Batch 28900]  loss: 0.004297\n"
     ]
    },
    {
     "name": "stderr",
     "output_type": "stream",
     "text": [
      "Epoch 1/10: 29001it [26:16, 17.91it/s]"
     ]
    },
    {
     "name": "stdout",
     "output_type": "stream",
     "text": [
      "  [Batch 29000]  loss: 0.004283\n"
     ]
    },
    {
     "name": "stderr",
     "output_type": "stream",
     "text": [
      "Epoch 1/10: 29104it [26:22, 18.96it/s]"
     ]
    },
    {
     "name": "stdout",
     "output_type": "stream",
     "text": [
      "  [Batch 29100]  loss: 0.004272\n"
     ]
    },
    {
     "name": "stderr",
     "output_type": "stream",
     "text": [
      "Epoch 1/10: 29203it [26:27, 15.11it/s]"
     ]
    },
    {
     "name": "stdout",
     "output_type": "stream",
     "text": [
      "  [Batch 29200]  loss: 0.004261\n"
     ]
    },
    {
     "name": "stderr",
     "output_type": "stream",
     "text": [
      "Epoch 1/10: 29303it [26:33, 20.04it/s]"
     ]
    },
    {
     "name": "stdout",
     "output_type": "stream",
     "text": [
      "  [Batch 29300]  loss: 0.004254\n"
     ]
    },
    {
     "name": "stderr",
     "output_type": "stream",
     "text": [
      "Epoch 1/10: 29404it [26:38, 20.22it/s]"
     ]
    },
    {
     "name": "stdout",
     "output_type": "stream",
     "text": [
      "  [Batch 29400]  loss: 0.004241\n"
     ]
    },
    {
     "name": "stderr",
     "output_type": "stream",
     "text": [
      "Epoch 1/10: 29503it [26:43, 16.67it/s]"
     ]
    },
    {
     "name": "stdout",
     "output_type": "stream",
     "text": [
      "  [Batch 29500]  loss: 0.004231\n"
     ]
    },
    {
     "name": "stderr",
     "output_type": "stream",
     "text": [
      "Epoch 1/10: 29602it [26:49, 19.39it/s]"
     ]
    },
    {
     "name": "stdout",
     "output_type": "stream",
     "text": [
      "  [Batch 29600]  loss: 0.004218\n"
     ]
    },
    {
     "name": "stderr",
     "output_type": "stream",
     "text": [
      "Epoch 1/10: 29703it [26:54, 20.17it/s]"
     ]
    },
    {
     "name": "stdout",
     "output_type": "stream",
     "text": [
      "  [Batch 29700]  loss: 0.004207\n"
     ]
    },
    {
     "name": "stderr",
     "output_type": "stream",
     "text": [
      "Epoch 1/10: 29802it [26:59, 20.12it/s]"
     ]
    },
    {
     "name": "stdout",
     "output_type": "stream",
     "text": [
      "  [Batch 29800]  loss: 0.004196\n"
     ]
    },
    {
     "name": "stderr",
     "output_type": "stream",
     "text": [
      "Epoch 1/10: 29904it [27:06, 19.16it/s]"
     ]
    },
    {
     "name": "stdout",
     "output_type": "stream",
     "text": [
      "  [Batch 29900]  loss: 0.004183\n"
     ]
    },
    {
     "name": "stderr",
     "output_type": "stream",
     "text": [
      "Epoch 1/10: 30002it [27:11, 18.33it/s]"
     ]
    },
    {
     "name": "stdout",
     "output_type": "stream",
     "text": [
      "  [Batch 30000]  loss: 0.004170\n"
     ]
    },
    {
     "name": "stderr",
     "output_type": "stream",
     "text": [
      "Epoch 1/10: 30103it [27:17, 14.60it/s]"
     ]
    },
    {
     "name": "stdout",
     "output_type": "stream",
     "text": [
      "  [Batch 30100]  loss: 0.004158\n"
     ]
    },
    {
     "name": "stderr",
     "output_type": "stream",
     "text": [
      "Epoch 1/10: 30202it [27:23, 18.93it/s]"
     ]
    },
    {
     "name": "stdout",
     "output_type": "stream",
     "text": [
      "  [Batch 30200]  loss: 0.004145\n"
     ]
    },
    {
     "name": "stderr",
     "output_type": "stream",
     "text": [
      "Epoch 1/10: 30303it [27:29, 14.93it/s]"
     ]
    },
    {
     "name": "stdout",
     "output_type": "stream",
     "text": [
      "  [Batch 30300]  loss: 0.004133\n"
     ]
    },
    {
     "name": "stderr",
     "output_type": "stream",
     "text": [
      "Epoch 1/10: 30402it [27:35, 19.70it/s]"
     ]
    },
    {
     "name": "stdout",
     "output_type": "stream",
     "text": [
      "  [Batch 30400]  loss: 0.004121\n"
     ]
    },
    {
     "name": "stderr",
     "output_type": "stream",
     "text": [
      "Epoch 1/10: 30503it [27:40, 16.75it/s]"
     ]
    },
    {
     "name": "stdout",
     "output_type": "stream",
     "text": [
      "  [Batch 30500]  loss: 0.004111\n"
     ]
    },
    {
     "name": "stderr",
     "output_type": "stream",
     "text": [
      "Epoch 1/10: 30604it [27:46, 19.82it/s]"
     ]
    },
    {
     "name": "stdout",
     "output_type": "stream",
     "text": [
      "  [Batch 30600]  loss: 0.004112\n"
     ]
    },
    {
     "name": "stderr",
     "output_type": "stream",
     "text": [
      "Epoch 1/10: 30702it [27:51, 17.90it/s]"
     ]
    },
    {
     "name": "stdout",
     "output_type": "stream",
     "text": [
      "  [Batch 30700]  loss: 0.004112\n"
     ]
    },
    {
     "name": "stderr",
     "output_type": "stream",
     "text": [
      "Epoch 1/10: 30803it [27:56, 17.79it/s]"
     ]
    },
    {
     "name": "stdout",
     "output_type": "stream",
     "text": [
      "  [Batch 30800]  loss: 0.004107\n"
     ]
    },
    {
     "name": "stderr",
     "output_type": "stream",
     "text": [
      "Epoch 1/10: 30903it [28:02, 18.35it/s]"
     ]
    },
    {
     "name": "stdout",
     "output_type": "stream",
     "text": [
      "  [Batch 30900]  loss: 0.004095\n"
     ]
    },
    {
     "name": "stderr",
     "output_type": "stream",
     "text": [
      "Epoch 1/10: 31002it [28:07, 18.99it/s]"
     ]
    },
    {
     "name": "stdout",
     "output_type": "stream",
     "text": [
      "  [Batch 31000]  loss: 0.004125\n"
     ]
    },
    {
     "name": "stderr",
     "output_type": "stream",
     "text": [
      "Epoch 1/10: 31104it [28:13, 19.71it/s]"
     ]
    },
    {
     "name": "stdout",
     "output_type": "stream",
     "text": [
      "  [Batch 31100]  loss: 0.004148\n"
     ]
    },
    {
     "name": "stderr",
     "output_type": "stream",
     "text": [
      "Epoch 1/10: 31203it [28:18, 18.83it/s]"
     ]
    },
    {
     "name": "stdout",
     "output_type": "stream",
     "text": [
      "  [Batch 31200]  loss: 0.004169\n"
     ]
    },
    {
     "name": "stderr",
     "output_type": "stream",
     "text": [
      "Epoch 1/10: 31303it [28:23, 19.63it/s]"
     ]
    },
    {
     "name": "stdout",
     "output_type": "stream",
     "text": [
      "  [Batch 31300]  loss: 0.004167\n"
     ]
    },
    {
     "name": "stderr",
     "output_type": "stream",
     "text": [
      "Epoch 1/10: 31403it [28:29, 16.64it/s]"
     ]
    },
    {
     "name": "stdout",
     "output_type": "stream",
     "text": [
      "  [Batch 31400]  loss: 0.004173\n"
     ]
    },
    {
     "name": "stderr",
     "output_type": "stream",
     "text": [
      "Epoch 1/10: 31503it [28:34, 18.66it/s]"
     ]
    },
    {
     "name": "stdout",
     "output_type": "stream",
     "text": [
      "  [Batch 31500]  loss: 0.004187\n"
     ]
    },
    {
     "name": "stderr",
     "output_type": "stream",
     "text": [
      "Epoch 1/10: 31602it [28:39, 20.33it/s]"
     ]
    },
    {
     "name": "stdout",
     "output_type": "stream",
     "text": [
      "  [Batch 31600]  loss: 0.004186\n"
     ]
    },
    {
     "name": "stderr",
     "output_type": "stream",
     "text": [
      "Epoch 1/10: 31704it [28:45, 19.95it/s]"
     ]
    },
    {
     "name": "stdout",
     "output_type": "stream",
     "text": [
      "  [Batch 31700]  loss: 0.004192\n"
     ]
    },
    {
     "name": "stderr",
     "output_type": "stream",
     "text": [
      "Epoch 1/10: 31803it [28:50, 19.75it/s]"
     ]
    },
    {
     "name": "stdout",
     "output_type": "stream",
     "text": [
      "  [Batch 31800]  loss: 0.004199\n"
     ]
    },
    {
     "name": "stderr",
     "output_type": "stream",
     "text": [
      "Epoch 1/10: 31903it [28:55, 20.00it/s]"
     ]
    },
    {
     "name": "stdout",
     "output_type": "stream",
     "text": [
      "  [Batch 31900]  loss: 0.004201\n"
     ]
    },
    {
     "name": "stderr",
     "output_type": "stream",
     "text": [
      "Epoch 1/10: 32002it [29:00, 19.00it/s]"
     ]
    },
    {
     "name": "stdout",
     "output_type": "stream",
     "text": [
      "  [Batch 32000]  loss: 0.004204\n"
     ]
    },
    {
     "name": "stderr",
     "output_type": "stream",
     "text": [
      "Epoch 1/10: 32102it [29:06, 15.44it/s]"
     ]
    },
    {
     "name": "stdout",
     "output_type": "stream",
     "text": [
      "  [Batch 32100]  loss: 0.004197\n"
     ]
    },
    {
     "name": "stderr",
     "output_type": "stream",
     "text": [
      "Epoch 1/10: 32202it [29:11, 18.36it/s]"
     ]
    },
    {
     "name": "stdout",
     "output_type": "stream",
     "text": [
      "  [Batch 32200]  loss: 0.004190\n"
     ]
    },
    {
     "name": "stderr",
     "output_type": "stream",
     "text": [
      "Epoch 1/10: 32302it [29:17, 17.15it/s]"
     ]
    },
    {
     "name": "stdout",
     "output_type": "stream",
     "text": [
      "  [Batch 32300]  loss: 0.004181\n"
     ]
    },
    {
     "name": "stderr",
     "output_type": "stream",
     "text": [
      "Epoch 1/10: 32401it [29:23, 11.84it/s]"
     ]
    },
    {
     "name": "stdout",
     "output_type": "stream",
     "text": [
      "  [Batch 32400]  loss: 0.004169\n"
     ]
    },
    {
     "name": "stderr",
     "output_type": "stream",
     "text": [
      "Epoch 1/10: 32501it [29:29, 14.59it/s]"
     ]
    },
    {
     "name": "stdout",
     "output_type": "stream",
     "text": [
      "  [Batch 32500]  loss: 0.004159\n"
     ]
    },
    {
     "name": "stderr",
     "output_type": "stream",
     "text": [
      "Epoch 1/10: 32603it [29:35, 18.94it/s]"
     ]
    },
    {
     "name": "stdout",
     "output_type": "stream",
     "text": [
      "  [Batch 32600]  loss: 0.004152\n"
     ]
    },
    {
     "name": "stderr",
     "output_type": "stream",
     "text": [
      "Epoch 1/10: 32701it [29:41, 15.50it/s]"
     ]
    },
    {
     "name": "stdout",
     "output_type": "stream",
     "text": [
      "  [Batch 32700]  loss: 0.004143\n"
     ]
    },
    {
     "name": "stderr",
     "output_type": "stream",
     "text": [
      "Epoch 1/10: 32804it [29:47, 19.79it/s]"
     ]
    },
    {
     "name": "stdout",
     "output_type": "stream",
     "text": [
      "  [Batch 32800]  loss: 0.004133\n"
     ]
    },
    {
     "name": "stderr",
     "output_type": "stream",
     "text": [
      "Epoch 1/10: 32903it [29:52, 19.58it/s]"
     ]
    },
    {
     "name": "stdout",
     "output_type": "stream",
     "text": [
      "  [Batch 32900]  loss: 0.004123\n"
     ]
    },
    {
     "name": "stderr",
     "output_type": "stream",
     "text": [
      "Epoch 1/10: 33003it [29:58, 15.89it/s]"
     ]
    },
    {
     "name": "stdout",
     "output_type": "stream",
     "text": [
      "  [Batch 33000]  loss: 0.004113\n"
     ]
    },
    {
     "name": "stderr",
     "output_type": "stream",
     "text": [
      "Epoch 1/10: 33103it [30:04, 17.97it/s]"
     ]
    },
    {
     "name": "stdout",
     "output_type": "stream",
     "text": [
      "  [Batch 33100]  loss: 0.004103\n"
     ]
    },
    {
     "name": "stderr",
     "output_type": "stream",
     "text": [
      "Epoch 1/10: 33203it [30:09, 19.55it/s]"
     ]
    },
    {
     "name": "stdout",
     "output_type": "stream",
     "text": [
      "  [Batch 33200]  loss: 0.004093\n"
     ]
    },
    {
     "name": "stderr",
     "output_type": "stream",
     "text": [
      "Epoch 1/10: 33301it [30:16, 14.34it/s]"
     ]
    },
    {
     "name": "stdout",
     "output_type": "stream",
     "text": [
      "  [Batch 33300]  loss: 0.004081\n"
     ]
    },
    {
     "name": "stderr",
     "output_type": "stream",
     "text": [
      "Epoch 1/10: 33402it [30:22, 19.99it/s]"
     ]
    },
    {
     "name": "stdout",
     "output_type": "stream",
     "text": [
      "  [Batch 33400]  loss: 0.004070\n"
     ]
    },
    {
     "name": "stderr",
     "output_type": "stream",
     "text": [
      "Epoch 1/10: 33502it [30:27, 17.51it/s]"
     ]
    },
    {
     "name": "stdout",
     "output_type": "stream",
     "text": [
      "  [Batch 33500]  loss: 0.004059\n"
     ]
    },
    {
     "name": "stderr",
     "output_type": "stream",
     "text": [
      "Epoch 1/10: 33603it [30:33, 16.86it/s]"
     ]
    },
    {
     "name": "stdout",
     "output_type": "stream",
     "text": [
      "  [Batch 33600]  loss: 0.004047\n"
     ]
    },
    {
     "name": "stderr",
     "output_type": "stream",
     "text": [
      "Epoch 1/10: 33704it [30:38, 19.92it/s]"
     ]
    },
    {
     "name": "stdout",
     "output_type": "stream",
     "text": [
      "  [Batch 33700]  loss: 0.004038\n"
     ]
    },
    {
     "name": "stderr",
     "output_type": "stream",
     "text": [
      "Epoch 1/10: 33802it [30:44, 15.63it/s]"
     ]
    },
    {
     "name": "stdout",
     "output_type": "stream",
     "text": [
      "  [Batch 33800]  loss: 0.004027\n"
     ]
    },
    {
     "name": "stderr",
     "output_type": "stream",
     "text": [
      "Epoch 1/10: 33901it [30:51, 11.85it/s]"
     ]
    },
    {
     "name": "stdout",
     "output_type": "stream",
     "text": [
      "  [Batch 33900]  loss: 0.004018\n"
     ]
    },
    {
     "name": "stderr",
     "output_type": "stream",
     "text": [
      "Epoch 1/10: 34003it [30:56, 19.59it/s]"
     ]
    },
    {
     "name": "stdout",
     "output_type": "stream",
     "text": [
      "  [Batch 34000]  loss: 0.004022\n"
     ]
    },
    {
     "name": "stderr",
     "output_type": "stream",
     "text": [
      "Epoch 1/10: 34104it [31:02, 19.07it/s]"
     ]
    },
    {
     "name": "stdout",
     "output_type": "stream",
     "text": [
      "  [Batch 34100]  loss: 0.004025\n"
     ]
    },
    {
     "name": "stderr",
     "output_type": "stream",
     "text": [
      "Epoch 1/10: 34201it [31:08, 19.28it/s]"
     ]
    },
    {
     "name": "stdout",
     "output_type": "stream",
     "text": [
      "  [Batch 34200]  loss: 0.004015\n"
     ]
    },
    {
     "name": "stderr",
     "output_type": "stream",
     "text": [
      "Epoch 1/10: 34301it [31:13, 15.82it/s]"
     ]
    },
    {
     "name": "stdout",
     "output_type": "stream",
     "text": [
      "  [Batch 34300]  loss: 0.004014\n"
     ]
    },
    {
     "name": "stderr",
     "output_type": "stream",
     "text": [
      "Epoch 1/10: 34403it [31:19, 15.38it/s]"
     ]
    },
    {
     "name": "stdout",
     "output_type": "stream",
     "text": [
      "  [Batch 34400]  loss: 0.004037\n"
     ]
    },
    {
     "name": "stderr",
     "output_type": "stream",
     "text": [
      "Epoch 1/10: 34501it [31:25, 20.25it/s]"
     ]
    },
    {
     "name": "stdout",
     "output_type": "stream",
     "text": [
      "  [Batch 34500]  loss: 0.004077\n"
     ]
    },
    {
     "name": "stderr",
     "output_type": "stream",
     "text": [
      "Epoch 1/10: 34604it [31:30, 19.42it/s]"
     ]
    },
    {
     "name": "stdout",
     "output_type": "stream",
     "text": [
      "  [Batch 34600]  loss: 0.004074\n"
     ]
    },
    {
     "name": "stderr",
     "output_type": "stream",
     "text": [
      "Epoch 1/10: 34703it [31:36, 16.93it/s]"
     ]
    },
    {
     "name": "stdout",
     "output_type": "stream",
     "text": [
      "  [Batch 34700]  loss: 0.004074\n"
     ]
    },
    {
     "name": "stderr",
     "output_type": "stream",
     "text": [
      "Epoch 1/10: 34803it [31:41, 20.32it/s]"
     ]
    },
    {
     "name": "stdout",
     "output_type": "stream",
     "text": [
      "  [Batch 34800]  loss: 0.004084\n"
     ]
    },
    {
     "name": "stderr",
     "output_type": "stream",
     "text": [
      "Epoch 1/10: 34903it [31:47, 14.39it/s]"
     ]
    },
    {
     "name": "stdout",
     "output_type": "stream",
     "text": [
      "  [Batch 34900]  loss: 0.004094\n"
     ]
    },
    {
     "name": "stderr",
     "output_type": "stream",
     "text": [
      "Epoch 1/10: 35003it [31:53, 18.06it/s]"
     ]
    },
    {
     "name": "stdout",
     "output_type": "stream",
     "text": [
      "  [Batch 35000]  loss: 0.004093\n"
     ]
    },
    {
     "name": "stderr",
     "output_type": "stream",
     "text": [
      "Epoch 1/10: 35103it [31:59, 18.98it/s]"
     ]
    },
    {
     "name": "stdout",
     "output_type": "stream",
     "text": [
      "  [Batch 35100]  loss: 0.004101\n"
     ]
    },
    {
     "name": "stderr",
     "output_type": "stream",
     "text": [
      "Epoch 1/10: 35201it [32:04, 17.09it/s]"
     ]
    },
    {
     "name": "stdout",
     "output_type": "stream",
     "text": [
      "  [Batch 35200]  loss: 0.004106\n"
     ]
    },
    {
     "name": "stderr",
     "output_type": "stream",
     "text": [
      "Epoch 1/10: 35303it [32:10, 17.97it/s]"
     ]
    },
    {
     "name": "stdout",
     "output_type": "stream",
     "text": [
      "  [Batch 35300]  loss: 0.004108\n"
     ]
    },
    {
     "name": "stderr",
     "output_type": "stream",
     "text": [
      "Epoch 1/10: 35402it [32:15, 18.34it/s]"
     ]
    },
    {
     "name": "stdout",
     "output_type": "stream",
     "text": [
      "  [Batch 35400]  loss: 0.004110\n"
     ]
    },
    {
     "name": "stderr",
     "output_type": "stream",
     "text": [
      "Epoch 1/10: 35502it [32:21, 18.28it/s]"
     ]
    },
    {
     "name": "stdout",
     "output_type": "stream",
     "text": [
      "  [Batch 35500]  loss: 0.004102\n"
     ]
    },
    {
     "name": "stderr",
     "output_type": "stream",
     "text": [
      "Epoch 1/10: 35602it [32:27, 19.25it/s]"
     ]
    },
    {
     "name": "stdout",
     "output_type": "stream",
     "text": [
      "  [Batch 35600]  loss: 0.004097\n"
     ]
    },
    {
     "name": "stderr",
     "output_type": "stream",
     "text": [
      "Epoch 1/10: 35703it [32:32, 17.94it/s]"
     ]
    },
    {
     "name": "stdout",
     "output_type": "stream",
     "text": [
      "  [Batch 35700]  loss: 0.004088\n"
     ]
    },
    {
     "name": "stderr",
     "output_type": "stream",
     "text": [
      "Epoch 1/10: 35801it [32:38, 16.93it/s]"
     ]
    },
    {
     "name": "stdout",
     "output_type": "stream",
     "text": [
      "  [Batch 35800]  loss: 0.004079\n"
     ]
    },
    {
     "name": "stderr",
     "output_type": "stream",
     "text": [
      "Epoch 1/10: 35903it [32:44, 18.52it/s]"
     ]
    },
    {
     "name": "stdout",
     "output_type": "stream",
     "text": [
      "  [Batch 35900]  loss: 0.004070\n"
     ]
    },
    {
     "name": "stderr",
     "output_type": "stream",
     "text": [
      "Epoch 1/10: 36002it [32:49, 15.93it/s]"
     ]
    },
    {
     "name": "stdout",
     "output_type": "stream",
     "text": [
      "  [Batch 36000]  loss: 0.004065\n"
     ]
    },
    {
     "name": "stderr",
     "output_type": "stream",
     "text": [
      "Epoch 1/10: 36102it [32:55, 17.42it/s]"
     ]
    },
    {
     "name": "stdout",
     "output_type": "stream",
     "text": [
      "  [Batch 36100]  loss: 0.004055\n"
     ]
    },
    {
     "name": "stderr",
     "output_type": "stream",
     "text": [
      "Epoch 1/10: 36203it [33:00, 19.70it/s]"
     ]
    },
    {
     "name": "stdout",
     "output_type": "stream",
     "text": [
      "  [Batch 36200]  loss: 0.004047\n"
     ]
    },
    {
     "name": "stderr",
     "output_type": "stream",
     "text": [
      "Epoch 1/10: 36303it [33:05, 18.41it/s]"
     ]
    },
    {
     "name": "stdout",
     "output_type": "stream",
     "text": [
      "  [Batch 36300]  loss: 0.004038\n"
     ]
    },
    {
     "name": "stderr",
     "output_type": "stream",
     "text": [
      "Epoch 1/10: 36403it [33:12, 16.28it/s]"
     ]
    },
    {
     "name": "stdout",
     "output_type": "stream",
     "text": [
      "  [Batch 36400]  loss: 0.004030\n"
     ]
    },
    {
     "name": "stderr",
     "output_type": "stream",
     "text": [
      "Epoch 1/10: 36503it [33:17, 18.53it/s]"
     ]
    },
    {
     "name": "stdout",
     "output_type": "stream",
     "text": [
      "  [Batch 36500]  loss: 0.004021\n"
     ]
    },
    {
     "name": "stderr",
     "output_type": "stream",
     "text": [
      "Epoch 1/10: 36599it [33:23, 12.61it/s]"
     ]
    },
    {
     "name": "stdout",
     "output_type": "stream",
     "text": [
      "  [Batch 36600]  loss: 0.004011\n"
     ]
    },
    {
     "name": "stderr",
     "output_type": "stream",
     "text": [
      "Epoch 1/10: 36703it [33:30, 18.49it/s]"
     ]
    },
    {
     "name": "stdout",
     "output_type": "stream",
     "text": [
      "  [Batch 36700]  loss: 0.004001\n"
     ]
    },
    {
     "name": "stderr",
     "output_type": "stream",
     "text": [
      "Epoch 1/10: 36802it [33:35, 16.51it/s]"
     ]
    },
    {
     "name": "stdout",
     "output_type": "stream",
     "text": [
      "  [Batch 36800]  loss: 0.003991\n"
     ]
    },
    {
     "name": "stderr",
     "output_type": "stream",
     "text": [
      "Epoch 1/10: 36902it [33:41, 20.61it/s]"
     ]
    },
    {
     "name": "stdout",
     "output_type": "stream",
     "text": [
      "  [Batch 36900]  loss: 0.003981\n"
     ]
    },
    {
     "name": "stderr",
     "output_type": "stream",
     "text": [
      "Epoch 1/10: 37001it [33:46, 18.00it/s]"
     ]
    },
    {
     "name": "stdout",
     "output_type": "stream",
     "text": [
      "  [Batch 37000]  loss: 0.003972\n"
     ]
    },
    {
     "name": "stderr",
     "output_type": "stream",
     "text": [
      "Epoch 1/10: 37102it [33:52, 16.29it/s]"
     ]
    },
    {
     "name": "stdout",
     "output_type": "stream",
     "text": [
      "  [Batch 37100]  loss: 0.003963\n"
     ]
    },
    {
     "name": "stderr",
     "output_type": "stream",
     "text": [
      "Epoch 1/10: 37203it [33:58, 19.01it/s]"
     ]
    },
    {
     "name": "stdout",
     "output_type": "stream",
     "text": [
      "  [Batch 37200]  loss: 0.003954\n"
     ]
    },
    {
     "name": "stderr",
     "output_type": "stream",
     "text": [
      "Epoch 1/10: 37302it [34:03, 17.68it/s]"
     ]
    },
    {
     "name": "stdout",
     "output_type": "stream",
     "text": [
      "  [Batch 37300]  loss: 0.003946\n"
     ]
    },
    {
     "name": "stderr",
     "output_type": "stream",
     "text": [
      "Epoch 1/10: 37403it [34:09, 18.89it/s]"
     ]
    },
    {
     "name": "stdout",
     "output_type": "stream",
     "text": [
      "  [Batch 37400]  loss: 0.003950\n"
     ]
    },
    {
     "name": "stderr",
     "output_type": "stream",
     "text": [
      "Epoch 1/10: 37503it [34:14, 17.29it/s]"
     ]
    },
    {
     "name": "stdout",
     "output_type": "stream",
     "text": [
      "  [Batch 37500]  loss: 0.003953\n"
     ]
    },
    {
     "name": "stderr",
     "output_type": "stream",
     "text": [
      "Epoch 1/10: 37602it [34:19, 18.13it/s]"
     ]
    },
    {
     "name": "stdout",
     "output_type": "stream",
     "text": [
      "  [Batch 37600]  loss: 0.003943\n"
     ]
    },
    {
     "name": "stderr",
     "output_type": "stream",
     "text": [
      "Epoch 1/10: 37702it [34:26, 17.90it/s]"
     ]
    },
    {
     "name": "stdout",
     "output_type": "stream",
     "text": [
      "  [Batch 37700]  loss: 0.003945\n"
     ]
    },
    {
     "name": "stderr",
     "output_type": "stream",
     "text": [
      "Epoch 1/10: 37803it [34:31, 18.39it/s]"
     ]
    },
    {
     "name": "stdout",
     "output_type": "stream",
     "text": [
      "  [Batch 37800]  loss: 0.003969\n"
     ]
    },
    {
     "name": "stderr",
     "output_type": "stream",
     "text": [
      "Epoch 1/10: 37902it [34:37, 18.29it/s]"
     ]
    },
    {
     "name": "stdout",
     "output_type": "stream",
     "text": [
      "  [Batch 37900]  loss: 0.004002\n"
     ]
    },
    {
     "name": "stderr",
     "output_type": "stream",
     "text": [
      "Epoch 1/10: 38003it [34:42, 18.64it/s]"
     ]
    },
    {
     "name": "stdout",
     "output_type": "stream",
     "text": [
      "  [Batch 38000]  loss: 0.003999\n"
     ]
    },
    {
     "name": "stderr",
     "output_type": "stream",
     "text": [
      "Epoch 1/10: 38103it [34:47, 17.98it/s]"
     ]
    },
    {
     "name": "stdout",
     "output_type": "stream",
     "text": [
      "  [Batch 38100]  loss: 0.003999\n"
     ]
    },
    {
     "name": "stderr",
     "output_type": "stream",
     "text": [
      "Epoch 1/10: 38203it [34:53, 19.52it/s]"
     ]
    },
    {
     "name": "stdout",
     "output_type": "stream",
     "text": [
      "  [Batch 38200]  loss: 0.004008\n"
     ]
    },
    {
     "name": "stderr",
     "output_type": "stream",
     "text": [
      "Epoch 1/10: 38304it [34:58, 20.19it/s]"
     ]
    },
    {
     "name": "stdout",
     "output_type": "stream",
     "text": [
      "  [Batch 38300]  loss: 0.004016\n"
     ]
    },
    {
     "name": "stderr",
     "output_type": "stream",
     "text": [
      "Epoch 1/10: 38403it [35:03, 18.26it/s]"
     ]
    },
    {
     "name": "stdout",
     "output_type": "stream",
     "text": [
      "  [Batch 38400]  loss: 0.004015\n"
     ]
    },
    {
     "name": "stderr",
     "output_type": "stream",
     "text": [
      "Epoch 1/10: 38501it [35:09, 15.54it/s]"
     ]
    },
    {
     "name": "stdout",
     "output_type": "stream",
     "text": [
      "  [Batch 38500]  loss: 0.004023\n"
     ]
    },
    {
     "name": "stderr",
     "output_type": "stream",
     "text": [
      "Epoch 1/10: 38603it [35:15, 19.20it/s]"
     ]
    },
    {
     "name": "stdout",
     "output_type": "stream",
     "text": [
      "  [Batch 38600]  loss: 0.004026\n"
     ]
    },
    {
     "name": "stderr",
     "output_type": "stream",
     "text": [
      "Epoch 1/10: 38702it [35:20, 17.63it/s]"
     ]
    },
    {
     "name": "stdout",
     "output_type": "stream",
     "text": [
      "  [Batch 38700]  loss: 0.004028\n"
     ]
    },
    {
     "name": "stderr",
     "output_type": "stream",
     "text": [
      "Epoch 1/10: 38803it [35:25, 16.70it/s]"
     ]
    },
    {
     "name": "stdout",
     "output_type": "stream",
     "text": [
      "  [Batch 38800]  loss: 0.004030\n"
     ]
    },
    {
     "name": "stderr",
     "output_type": "stream",
     "text": [
      "Epoch 1/10: 38903it [35:30, 19.00it/s]"
     ]
    },
    {
     "name": "stdout",
     "output_type": "stream",
     "text": [
      "  [Batch 38900]  loss: 0.004023\n"
     ]
    },
    {
     "name": "stderr",
     "output_type": "stream",
     "text": [
      "Epoch 1/10: 39002it [35:35, 18.41it/s]"
     ]
    },
    {
     "name": "stdout",
     "output_type": "stream",
     "text": [
      "  [Batch 39000]  loss: 0.004017\n"
     ]
    },
    {
     "name": "stderr",
     "output_type": "stream",
     "text": [
      "Epoch 1/10: 39102it [35:41, 19.25it/s]"
     ]
    },
    {
     "name": "stdout",
     "output_type": "stream",
     "text": [
      "  [Batch 39100]  loss: 0.004009\n"
     ]
    },
    {
     "name": "stderr",
     "output_type": "stream",
     "text": [
      "Epoch 1/10: 39203it [35:46, 18.23it/s]"
     ]
    },
    {
     "name": "stdout",
     "output_type": "stream",
     "text": [
      "  [Batch 39200]  loss: 0.004001\n"
     ]
    },
    {
     "name": "stderr",
     "output_type": "stream",
     "text": [
      "Epoch 1/10: 39303it [35:52, 16.76it/s]"
     ]
    },
    {
     "name": "stdout",
     "output_type": "stream",
     "text": [
      "  [Batch 39300]  loss: 0.003993\n"
     ]
    },
    {
     "name": "stderr",
     "output_type": "stream",
     "text": [
      "Epoch 1/10: 39402it [35:57, 19.71it/s]"
     ]
    },
    {
     "name": "stdout",
     "output_type": "stream",
     "text": [
      "  [Batch 39400]  loss: 0.003988\n"
     ]
    },
    {
     "name": "stderr",
     "output_type": "stream",
     "text": [
      "Epoch 1/10: 39502it [36:03, 17.22it/s]"
     ]
    },
    {
     "name": "stdout",
     "output_type": "stream",
     "text": [
      "  [Batch 39500]  loss: 0.003980\n"
     ]
    },
    {
     "name": "stderr",
     "output_type": "stream",
     "text": [
      "Epoch 1/10: 39602it [36:09, 16.13it/s]"
     ]
    },
    {
     "name": "stdout",
     "output_type": "stream",
     "text": [
      "  [Batch 39600]  loss: 0.003973\n"
     ]
    },
    {
     "name": "stderr",
     "output_type": "stream",
     "text": [
      "Epoch 1/10: 39704it [36:14, 20.26it/s]"
     ]
    },
    {
     "name": "stdout",
     "output_type": "stream",
     "text": [
      "  [Batch 39700]  loss: 0.003964\n"
     ]
    },
    {
     "name": "stderr",
     "output_type": "stream",
     "text": [
      "Epoch 1/10: 39804it [36:19, 20.60it/s]"
     ]
    },
    {
     "name": "stdout",
     "output_type": "stream",
     "text": [
      "  [Batch 39800]  loss: 0.003957\n"
     ]
    },
    {
     "name": "stderr",
     "output_type": "stream",
     "text": [
      "Epoch 1/10: 39903it [36:24, 18.93it/s]"
     ]
    },
    {
     "name": "stdout",
     "output_type": "stream",
     "text": [
      "  [Batch 39900]  loss: 0.003950\n"
     ]
    },
    {
     "name": "stderr",
     "output_type": "stream",
     "text": [
      "Epoch 1/10: 40004it [36:30, 20.84it/s]"
     ]
    },
    {
     "name": "stdout",
     "output_type": "stream",
     "text": [
      "  [Batch 40000]  loss: 0.003940\n"
     ]
    },
    {
     "name": "stderr",
     "output_type": "stream",
     "text": [
      "Epoch 1/10: 40102it [36:35, 20.14it/s]"
     ]
    },
    {
     "name": "stdout",
     "output_type": "stream",
     "text": [
      "  [Batch 40100]  loss: 0.003931\n"
     ]
    },
    {
     "name": "stderr",
     "output_type": "stream",
     "text": [
      "Epoch 1/10: 40201it [36:40, 13.98it/s]"
     ]
    },
    {
     "name": "stdout",
     "output_type": "stream",
     "text": [
      "  [Batch 40200]  loss: 0.003923\n"
     ]
    },
    {
     "name": "stderr",
     "output_type": "stream",
     "text": [
      "Epoch 1/10: 40302it [36:45, 19.96it/s]"
     ]
    },
    {
     "name": "stdout",
     "output_type": "stream",
     "text": [
      "  [Batch 40300]  loss: 0.003913\n"
     ]
    },
    {
     "name": "stderr",
     "output_type": "stream",
     "text": [
      "Epoch 1/10: 40402it [36:50, 19.59it/s]"
     ]
    },
    {
     "name": "stdout",
     "output_type": "stream",
     "text": [
      "  [Batch 40400]  loss: 0.003906\n"
     ]
    },
    {
     "name": "stderr",
     "output_type": "stream",
     "text": [
      "Epoch 1/10: 40502it [36:56, 18.64it/s]"
     ]
    },
    {
     "name": "stdout",
     "output_type": "stream",
     "text": [
      "  [Batch 40500]  loss: 0.003897\n"
     ]
    },
    {
     "name": "stderr",
     "output_type": "stream",
     "text": [
      "Epoch 1/10: 40602it [37:01, 18.22it/s]"
     ]
    },
    {
     "name": "stdout",
     "output_type": "stream",
     "text": [
      "  [Batch 40600]  loss: 0.003889\n"
     ]
    },
    {
     "name": "stderr",
     "output_type": "stream",
     "text": [
      "Epoch 1/10: 40703it [37:07, 17.95it/s]"
     ]
    },
    {
     "name": "stdout",
     "output_type": "stream",
     "text": [
      "  [Batch 40700]  loss: 0.003881\n"
     ]
    },
    {
     "name": "stderr",
     "output_type": "stream",
     "text": [
      "Epoch 1/10: 40803it [37:13, 16.71it/s]"
     ]
    },
    {
     "name": "stdout",
     "output_type": "stream",
     "text": [
      "  [Batch 40800]  loss: 0.003885\n"
     ]
    },
    {
     "name": "stderr",
     "output_type": "stream",
     "text": [
      "Epoch 1/10: 40903it [37:18, 20.28it/s]"
     ]
    },
    {
     "name": "stdout",
     "output_type": "stream",
     "text": [
      "  [Batch 40900]  loss: 0.003884\n"
     ]
    },
    {
     "name": "stderr",
     "output_type": "stream",
     "text": [
      "Epoch 1/10: 41002it [37:23, 19.00it/s]"
     ]
    },
    {
     "name": "stdout",
     "output_type": "stream",
     "text": [
      "  [Batch 41000]  loss: 0.003875\n"
     ]
    },
    {
     "name": "stderr",
     "output_type": "stream",
     "text": [
      "Epoch 1/10: 41103it [37:29, 18.24it/s]"
     ]
    },
    {
     "name": "stdout",
     "output_type": "stream",
     "text": [
      "  [Batch 41100]  loss: 0.003891\n"
     ]
    },
    {
     "name": "stderr",
     "output_type": "stream",
     "text": [
      "Epoch 1/10: 41202it [37:35, 17.08it/s]"
     ]
    },
    {
     "name": "stdout",
     "output_type": "stream",
     "text": [
      "  [Batch 41200]  loss: 0.003901\n"
     ]
    },
    {
     "name": "stderr",
     "output_type": "stream",
     "text": [
      "Epoch 1/10: 41303it [37:40, 18.45it/s]"
     ]
    },
    {
     "name": "stdout",
     "output_type": "stream",
     "text": [
      "  [Batch 41300]  loss: 0.003935\n"
     ]
    },
    {
     "name": "stderr",
     "output_type": "stream",
     "text": [
      "Epoch 1/10: 41403it [37:46, 18.59it/s]"
     ]
    },
    {
     "name": "stdout",
     "output_type": "stream",
     "text": [
      "  [Batch 41400]  loss: 0.003932\n"
     ]
    },
    {
     "name": "stderr",
     "output_type": "stream",
     "text": [
      "Epoch 1/10: 41502it [37:51, 18.39it/s]"
     ]
    },
    {
     "name": "stdout",
     "output_type": "stream",
     "text": [
      "  [Batch 41500]  loss: 0.003934\n"
     ]
    },
    {
     "name": "stderr",
     "output_type": "stream",
     "text": [
      "Epoch 1/10: 41603it [37:57, 17.54it/s]"
     ]
    },
    {
     "name": "stdout",
     "output_type": "stream",
     "text": [
      "  [Batch 41600]  loss: 0.003945\n"
     ]
    },
    {
     "name": "stderr",
     "output_type": "stream",
     "text": [
      "Epoch 1/10: 41703it [38:02, 20.26it/s]"
     ]
    },
    {
     "name": "stdout",
     "output_type": "stream",
     "text": [
      "  [Batch 41700]  loss: 0.003948\n"
     ]
    },
    {
     "name": "stderr",
     "output_type": "stream",
     "text": [
      "Epoch 1/10: 41802it [38:07, 17.99it/s]"
     ]
    },
    {
     "name": "stdout",
     "output_type": "stream",
     "text": [
      "  [Batch 41800]  loss: 0.003948\n"
     ]
    },
    {
     "name": "stderr",
     "output_type": "stream",
     "text": [
      "Epoch 1/10: 41904it [38:12, 20.04it/s]"
     ]
    },
    {
     "name": "stdout",
     "output_type": "stream",
     "text": [
      "  [Batch 41900]  loss: 0.003954\n"
     ]
    },
    {
     "name": "stderr",
     "output_type": "stream",
     "text": [
      "Epoch 1/10: 42002it [38:17, 20.13it/s]"
     ]
    },
    {
     "name": "stdout",
     "output_type": "stream",
     "text": [
      "  [Batch 42000]  loss: 0.003956\n"
     ]
    },
    {
     "name": "stderr",
     "output_type": "stream",
     "text": [
      "Epoch 1/10: 42101it [38:22, 20.33it/s]"
     ]
    },
    {
     "name": "stdout",
     "output_type": "stream",
     "text": [
      "  [Batch 42100]  loss: 0.003958\n"
     ]
    },
    {
     "name": "stderr",
     "output_type": "stream",
     "text": [
      "Epoch 1/10: 42204it [38:28, 20.10it/s]"
     ]
    },
    {
     "name": "stdout",
     "output_type": "stream",
     "text": [
      "  [Batch 42200]  loss: 0.003959\n"
     ]
    },
    {
     "name": "stderr",
     "output_type": "stream",
     "text": [
      "Epoch 1/10: 42304it [38:33, 19.72it/s]"
     ]
    },
    {
     "name": "stdout",
     "output_type": "stream",
     "text": [
      "  [Batch 42300]  loss: 0.003953\n"
     ]
    },
    {
     "name": "stderr",
     "output_type": "stream",
     "text": [
      "Epoch 1/10: 42401it [38:38, 18.94it/s]"
     ]
    },
    {
     "name": "stdout",
     "output_type": "stream",
     "text": [
      "  [Batch 42400]  loss: 0.003947\n"
     ]
    },
    {
     "name": "stderr",
     "output_type": "stream",
     "text": [
      "Epoch 1/10: 42504it [38:43, 19.72it/s]"
     ]
    },
    {
     "name": "stdout",
     "output_type": "stream",
     "text": [
      "  [Batch 42500]  loss: 0.003940\n"
     ]
    },
    {
     "name": "stderr",
     "output_type": "stream",
     "text": [
      "Epoch 1/10: 42603it [38:48, 17.84it/s]"
     ]
    },
    {
     "name": "stdout",
     "output_type": "stream",
     "text": [
      "  [Batch 42600]  loss: 0.003932\n"
     ]
    },
    {
     "name": "stderr",
     "output_type": "stream",
     "text": [
      "Epoch 1/10: 42703it [38:53, 19.04it/s]"
     ]
    },
    {
     "name": "stdout",
     "output_type": "stream",
     "text": [
      "  [Batch 42700]  loss: 0.003927\n"
     ]
    },
    {
     "name": "stderr",
     "output_type": "stream",
     "text": [
      "Epoch 1/10: 42803it [38:58, 18.77it/s]"
     ]
    },
    {
     "name": "stdout",
     "output_type": "stream",
     "text": [
      "  [Batch 42800]  loss: 0.003921\n"
     ]
    },
    {
     "name": "stderr",
     "output_type": "stream",
     "text": [
      "Epoch 1/10: 42902it [39:04, 16.14it/s]"
     ]
    },
    {
     "name": "stdout",
     "output_type": "stream",
     "text": [
      "  [Batch 42900]  loss: 0.003914\n"
     ]
    },
    {
     "name": "stderr",
     "output_type": "stream",
     "text": [
      "Epoch 1/10: 43002it [39:10, 19.30it/s]"
     ]
    },
    {
     "name": "stdout",
     "output_type": "stream",
     "text": [
      "  [Batch 43000]  loss: 0.003907\n"
     ]
    },
    {
     "name": "stderr",
     "output_type": "stream",
     "text": [
      "Epoch 1/10: 43103it [39:15, 18.39it/s]"
     ]
    },
    {
     "name": "stdout",
     "output_type": "stream",
     "text": [
      "  [Batch 43100]  loss: 0.003900\n"
     ]
    },
    {
     "name": "stderr",
     "output_type": "stream",
     "text": [
      "Epoch 1/10: 43203it [39:20, 20.13it/s]"
     ]
    },
    {
     "name": "stdout",
     "output_type": "stream",
     "text": [
      "  [Batch 43200]  loss: 0.003894\n"
     ]
    },
    {
     "name": "stderr",
     "output_type": "stream",
     "text": [
      "Epoch 1/10: 43303it [39:25, 19.92it/s]"
     ]
    },
    {
     "name": "stdout",
     "output_type": "stream",
     "text": [
      "  [Batch 43300]  loss: 0.003887\n"
     ]
    },
    {
     "name": "stderr",
     "output_type": "stream",
     "text": [
      "Epoch 1/10: 43402it [39:31, 20.42it/s]"
     ]
    },
    {
     "name": "stdout",
     "output_type": "stream",
     "text": [
      "  [Batch 43400]  loss: 0.003878\n"
     ]
    },
    {
     "name": "stderr",
     "output_type": "stream",
     "text": [
      "Epoch 1/10: 43503it [39:36, 19.55it/s]"
     ]
    },
    {
     "name": "stdout",
     "output_type": "stream",
     "text": [
      "  [Batch 43500]  loss: 0.003870\n"
     ]
    },
    {
     "name": "stderr",
     "output_type": "stream",
     "text": [
      "Epoch 1/10: 43602it [39:42, 18.53it/s]"
     ]
    },
    {
     "name": "stdout",
     "output_type": "stream",
     "text": [
      "  [Batch 43600]  loss: 0.003862\n"
     ]
    },
    {
     "name": "stderr",
     "output_type": "stream",
     "text": [
      "Epoch 1/10: 43702it [39:48, 16.05it/s]"
     ]
    },
    {
     "name": "stdout",
     "output_type": "stream",
     "text": [
      "  [Batch 43700]  loss: 0.003854\n"
     ]
    },
    {
     "name": "stderr",
     "output_type": "stream",
     "text": [
      "Epoch 1/10: 43803it [39:53, 17.64it/s]"
     ]
    },
    {
     "name": "stdout",
     "output_type": "stream",
     "text": [
      "  [Batch 43800]  loss: 0.003847\n"
     ]
    },
    {
     "name": "stderr",
     "output_type": "stream",
     "text": [
      "Epoch 1/10: 43902it [39:58, 19.59it/s]"
     ]
    },
    {
     "name": "stdout",
     "output_type": "stream",
     "text": [
      "  [Batch 43900]  loss: 0.003839\n"
     ]
    },
    {
     "name": "stderr",
     "output_type": "stream",
     "text": [
      "Epoch 1/10: 44002it [40:03, 19.53it/s]"
     ]
    },
    {
     "name": "stdout",
     "output_type": "stream",
     "text": [
      "  [Batch 44000]  loss: 0.003832\n"
     ]
    },
    {
     "name": "stderr",
     "output_type": "stream",
     "text": [
      "Epoch 1/10: 44101it [40:10, 14.69it/s]"
     ]
    },
    {
     "name": "stdout",
     "output_type": "stream",
     "text": [
      "  [Batch 44100]  loss: 0.003825\n"
     ]
    },
    {
     "name": "stderr",
     "output_type": "stream",
     "text": [
      "Epoch 1/10: 44203it [40:16, 16.94it/s]"
     ]
    },
    {
     "name": "stdout",
     "output_type": "stream",
     "text": [
      "  [Batch 44200]  loss: 0.003829\n"
     ]
    },
    {
     "name": "stderr",
     "output_type": "stream",
     "text": [
      "Epoch 1/10: 44302it [40:21, 17.18it/s]"
     ]
    },
    {
     "name": "stdout",
     "output_type": "stream",
     "text": [
      "  [Batch 44300]  loss: 0.003824\n"
     ]
    },
    {
     "name": "stderr",
     "output_type": "stream",
     "text": [
      "Epoch 1/10: 44402it [40:27, 17.05it/s]"
     ]
    },
    {
     "name": "stdout",
     "output_type": "stream",
     "text": [
      "  [Batch 44400]  loss: 0.003816\n"
     ]
    },
    {
     "name": "stderr",
     "output_type": "stream",
     "text": [
      "Epoch 1/10: 44502it [40:33, 17.53it/s]"
     ]
    },
    {
     "name": "stdout",
     "output_type": "stream",
     "text": [
      "  [Batch 44500]  loss: 0.003840\n"
     ]
    },
    {
     "name": "stderr",
     "output_type": "stream",
     "text": [
      "Epoch 1/10: 44602it [40:38, 17.70it/s]"
     ]
    },
    {
     "name": "stdout",
     "output_type": "stream",
     "text": [
      "  [Batch 44600]  loss: 0.003857\n"
     ]
    },
    {
     "name": "stderr",
     "output_type": "stream",
     "text": [
      "Epoch 1/10: 44703it [40:44, 16.90it/s]"
     ]
    },
    {
     "name": "stdout",
     "output_type": "stream",
     "text": [
      "  [Batch 44700]  loss: 0.003874\n"
     ]
    },
    {
     "name": "stderr",
     "output_type": "stream",
     "text": [
      "Epoch 1/10: 44802it [40:50, 17.91it/s]"
     ]
    },
    {
     "name": "stdout",
     "output_type": "stream",
     "text": [
      "  [Batch 44800]  loss: 0.003873\n"
     ]
    },
    {
     "name": "stderr",
     "output_type": "stream",
     "text": [
      "Epoch 1/10: 44902it [40:55, 17.57it/s]"
     ]
    },
    {
     "name": "stdout",
     "output_type": "stream",
     "text": [
      "  [Batch 44900]  loss: 0.003881\n"
     ]
    },
    {
     "name": "stderr",
     "output_type": "stream",
     "text": [
      "Epoch 1/10: 45003it [41:01, 19.67it/s]"
     ]
    },
    {
     "name": "stdout",
     "output_type": "stream",
     "text": [
      "  [Batch 45000]  loss: 0.003889\n"
     ]
    },
    {
     "name": "stderr",
     "output_type": "stream",
     "text": [
      "Epoch 1/10: 45103it [41:06, 18.98it/s]"
     ]
    },
    {
     "name": "stdout",
     "output_type": "stream",
     "text": [
      "  [Batch 45100]  loss: 0.003890\n"
     ]
    },
    {
     "name": "stderr",
     "output_type": "stream",
     "text": [
      "Epoch 1/10: 45203it [41:12, 18.92it/s]"
     ]
    },
    {
     "name": "stdout",
     "output_type": "stream",
     "text": [
      "  [Batch 45200]  loss: 0.003892\n"
     ]
    },
    {
     "name": "stderr",
     "output_type": "stream",
     "text": [
      "Epoch 1/10: 45302it [41:17, 18.05it/s]"
     ]
    },
    {
     "name": "stdout",
     "output_type": "stream",
     "text": [
      "  [Batch 45300]  loss: 0.003896\n"
     ]
    },
    {
     "name": "stderr",
     "output_type": "stream",
     "text": [
      "Epoch 1/10: 45403it [41:23, 18.06it/s]"
     ]
    },
    {
     "name": "stdout",
     "output_type": "stream",
     "text": [
      "  [Batch 45400]  loss: 0.003897\n"
     ]
    },
    {
     "name": "stderr",
     "output_type": "stream",
     "text": [
      "Epoch 1/10: 45503it [41:28, 18.41it/s]"
     ]
    },
    {
     "name": "stdout",
     "output_type": "stream",
     "text": [
      "  [Batch 45500]  loss: 0.003900\n"
     ]
    },
    {
     "name": "stderr",
     "output_type": "stream",
     "text": [
      "Epoch 1/10: 45603it [41:34, 17.42it/s]"
     ]
    },
    {
     "name": "stdout",
     "output_type": "stream",
     "text": [
      "  [Batch 45600]  loss: 0.003899\n"
     ]
    },
    {
     "name": "stderr",
     "output_type": "stream",
     "text": [
      "Epoch 1/10: 45703it [41:39, 17.79it/s]"
     ]
    },
    {
     "name": "stdout",
     "output_type": "stream",
     "text": [
      "  [Batch 45700]  loss: 0.003894\n"
     ]
    },
    {
     "name": "stderr",
     "output_type": "stream",
     "text": [
      "Epoch 1/10: 45803it [41:44, 18.96it/s]"
     ]
    },
    {
     "name": "stdout",
     "output_type": "stream",
     "text": [
      "  [Batch 45800]  loss: 0.003887\n"
     ]
    },
    {
     "name": "stderr",
     "output_type": "stream",
     "text": [
      "Epoch 1/10: 45902it [41:50, 17.49it/s]"
     ]
    },
    {
     "name": "stdout",
     "output_type": "stream",
     "text": [
      "  [Batch 45900]  loss: 0.003880\n"
     ]
    },
    {
     "name": "stderr",
     "output_type": "stream",
     "text": [
      "Epoch 1/10: 46002it [41:55, 19.04it/s]"
     ]
    },
    {
     "name": "stdout",
     "output_type": "stream",
     "text": [
      "  [Batch 46000]  loss: 0.003874\n"
     ]
    },
    {
     "name": "stderr",
     "output_type": "stream",
     "text": [
      "Epoch 1/10: 46103it [42:01, 17.39it/s]"
     ]
    },
    {
     "name": "stdout",
     "output_type": "stream",
     "text": [
      "  [Batch 46100]  loss: 0.003870\n"
     ]
    },
    {
     "name": "stderr",
     "output_type": "stream",
     "text": [
      "Epoch 1/10: 46202it [42:06, 18.68it/s]"
     ]
    },
    {
     "name": "stdout",
     "output_type": "stream",
     "text": [
      "  [Batch 46200]  loss: 0.003863\n"
     ]
    },
    {
     "name": "stderr",
     "output_type": "stream",
     "text": [
      "Epoch 1/10: 46303it [42:12, 18.98it/s]"
     ]
    },
    {
     "name": "stdout",
     "output_type": "stream",
     "text": [
      "  [Batch 46300]  loss: 0.003857\n"
     ]
    },
    {
     "name": "stderr",
     "output_type": "stream",
     "text": [
      "Epoch 1/10: 46403it [42:17, 17.12it/s]"
     ]
    },
    {
     "name": "stdout",
     "output_type": "stream",
     "text": [
      "  [Batch 46400]  loss: 0.003850\n"
     ]
    },
    {
     "name": "stderr",
     "output_type": "stream",
     "text": [
      "Epoch 1/10: 46502it [42:23, 15.69it/s]"
     ]
    },
    {
     "name": "stdout",
     "output_type": "stream",
     "text": [
      "  [Batch 46500]  loss: 0.003844\n"
     ]
    },
    {
     "name": "stderr",
     "output_type": "stream",
     "text": [
      "Epoch 1/10: 46600it [42:30, 15.62it/s]"
     ]
    },
    {
     "name": "stdout",
     "output_type": "stream",
     "text": [
      "  [Batch 46600]  loss: 0.003839\n"
     ]
    },
    {
     "name": "stderr",
     "output_type": "stream",
     "text": [
      "Epoch 1/10: 46704it [42:37, 14.10it/s]"
     ]
    },
    {
     "name": "stdout",
     "output_type": "stream",
     "text": [
      "  [Batch 46700]  loss: 0.003831\n"
     ]
    },
    {
     "name": "stderr",
     "output_type": "stream",
     "text": [
      "Epoch 1/10: 46803it [42:43, 17.88it/s]"
     ]
    },
    {
     "name": "stdout",
     "output_type": "stream",
     "text": [
      "  [Batch 46800]  loss: 0.003823\n"
     ]
    },
    {
     "name": "stderr",
     "output_type": "stream",
     "text": [
      "Epoch 1/10: 46903it [42:49, 17.35it/s]"
     ]
    },
    {
     "name": "stdout",
     "output_type": "stream",
     "text": [
      "  [Batch 46900]  loss: 0.003816\n"
     ]
    },
    {
     "name": "stderr",
     "output_type": "stream",
     "text": [
      "Epoch 1/10: 47002it [42:55, 17.38it/s]"
     ]
    },
    {
     "name": "stdout",
     "output_type": "stream",
     "text": [
      "  [Batch 47000]  loss: 0.003809\n"
     ]
    },
    {
     "name": "stderr",
     "output_type": "stream",
     "text": [
      "Epoch 1/10: 47102it [43:03, 16.49it/s]"
     ]
    },
    {
     "name": "stdout",
     "output_type": "stream",
     "text": [
      "  [Batch 47100]  loss: 0.003803\n"
     ]
    },
    {
     "name": "stderr",
     "output_type": "stream",
     "text": [
      "Epoch 1/10: 47202it [43:09, 17.47it/s]"
     ]
    },
    {
     "name": "stdout",
     "output_type": "stream",
     "text": [
      "  [Batch 47200]  loss: 0.003795\n"
     ]
    },
    {
     "name": "stderr",
     "output_type": "stream",
     "text": [
      "Epoch 1/10: 47303it [43:15, 17.20it/s]"
     ]
    },
    {
     "name": "stdout",
     "output_type": "stream",
     "text": [
      "  [Batch 47300]  loss: 0.003788\n"
     ]
    },
    {
     "name": "stderr",
     "output_type": "stream",
     "text": [
      "Epoch 1/10: 47402it [43:21, 13.80it/s]"
     ]
    },
    {
     "name": "stdout",
     "output_type": "stream",
     "text": [
      "  [Batch 47400]  loss: 0.003782\n"
     ]
    },
    {
     "name": "stderr",
     "output_type": "stream",
     "text": [
      "Epoch 1/10: 47502it [43:27, 15.91it/s]"
     ]
    },
    {
     "name": "stdout",
     "output_type": "stream",
     "text": [
      "  [Batch 47500]  loss: 0.003780\n"
     ]
    },
    {
     "name": "stderr",
     "output_type": "stream",
     "text": [
      "Epoch 1/10: 47602it [43:33, 16.15it/s]"
     ]
    },
    {
     "name": "stdout",
     "output_type": "stream",
     "text": [
      "  [Batch 47600]  loss: 0.003780\n"
     ]
    },
    {
     "name": "stderr",
     "output_type": "stream",
     "text": [
      "Epoch 1/10: 47703it [43:39, 16.56it/s]"
     ]
    },
    {
     "name": "stdout",
     "output_type": "stream",
     "text": [
      "  [Batch 47700]  loss: 0.003776\n"
     ]
    },
    {
     "name": "stderr",
     "output_type": "stream",
     "text": [
      "Epoch 1/10: 47801it [43:44, 18.99it/s]"
     ]
    },
    {
     "name": "stdout",
     "output_type": "stream",
     "text": [
      "  [Batch 47800]  loss: 0.003770\n"
     ]
    },
    {
     "name": "stderr",
     "output_type": "stream",
     "text": [
      "Epoch 1/10: 47904it [43:49, 19.33it/s]"
     ]
    },
    {
     "name": "stdout",
     "output_type": "stream",
     "text": [
      "  [Batch 47900]  loss: 0.003791\n"
     ]
    },
    {
     "name": "stderr",
     "output_type": "stream",
     "text": [
      "Epoch 1/10: 48004it [43:55, 19.27it/s]"
     ]
    },
    {
     "name": "stdout",
     "output_type": "stream",
     "text": [
      "  [Batch 48000]  loss: 0.003817\n"
     ]
    },
    {
     "name": "stderr",
     "output_type": "stream",
     "text": [
      "Epoch 1/10: 48104it [44:00, 19.36it/s]"
     ]
    },
    {
     "name": "stdout",
     "output_type": "stream",
     "text": [
      "  [Batch 48100]  loss: 0.003816\n"
     ]
    },
    {
     "name": "stderr",
     "output_type": "stream",
     "text": [
      "Epoch 1/10: 48203it [44:05, 19.65it/s]"
     ]
    },
    {
     "name": "stdout",
     "output_type": "stream",
     "text": [
      "  [Batch 48200]  loss: 0.003817\n"
     ]
    },
    {
     "name": "stderr",
     "output_type": "stream",
     "text": [
      "Epoch 1/10: 48302it [44:11, 17.12it/s]"
     ]
    },
    {
     "name": "stdout",
     "output_type": "stream",
     "text": [
      "  [Batch 48300]  loss: 0.003823\n"
     ]
    },
    {
     "name": "stderr",
     "output_type": "stream",
     "text": [
      "Epoch 1/10: 48403it [44:17, 18.80it/s]"
     ]
    },
    {
     "name": "stdout",
     "output_type": "stream",
     "text": [
      "  [Batch 48400]  loss: 0.003828\n"
     ]
    },
    {
     "name": "stderr",
     "output_type": "stream",
     "text": [
      "Epoch 1/10: 48502it [44:22, 20.08it/s]"
     ]
    },
    {
     "name": "stdout",
     "output_type": "stream",
     "text": [
      "  [Batch 48500]  loss: 0.003829\n"
     ]
    },
    {
     "name": "stderr",
     "output_type": "stream",
     "text": [
      "Epoch 1/10: 48603it [44:27, 17.74it/s]"
     ]
    },
    {
     "name": "stdout",
     "output_type": "stream",
     "text": [
      "  [Batch 48600]  loss: 0.003831\n"
     ]
    },
    {
     "name": "stderr",
     "output_type": "stream",
     "text": [
      "Epoch 1/10: 48703it [44:32, 19.09it/s]"
     ]
    },
    {
     "name": "stdout",
     "output_type": "stream",
     "text": [
      "  [Batch 48700]  loss: 0.003835\n"
     ]
    },
    {
     "name": "stderr",
     "output_type": "stream",
     "text": [
      "Epoch 1/10: 48803it [44:38, 20.46it/s]"
     ]
    },
    {
     "name": "stdout",
     "output_type": "stream",
     "text": [
      "  [Batch 48800]  loss: 0.003836\n"
     ]
    },
    {
     "name": "stderr",
     "output_type": "stream",
     "text": [
      "Epoch 1/10: 48903it [44:43, 19.69it/s]"
     ]
    },
    {
     "name": "stdout",
     "output_type": "stream",
     "text": [
      "  [Batch 48900]  loss: 0.003839\n"
     ]
    },
    {
     "name": "stderr",
     "output_type": "stream",
     "text": [
      "Epoch 1/10: 49001it [44:48, 20.10it/s]"
     ]
    },
    {
     "name": "stdout",
     "output_type": "stream",
     "text": [
      "  [Batch 49000]  loss: 0.003838\n"
     ]
    },
    {
     "name": "stderr",
     "output_type": "stream",
     "text": [
      "Epoch 1/10: 49103it [44:53, 18.79it/s]"
     ]
    },
    {
     "name": "stdout",
     "output_type": "stream",
     "text": [
      "  [Batch 49100]  loss: 0.003833\n"
     ]
    },
    {
     "name": "stderr",
     "output_type": "stream",
     "text": [
      "Epoch 1/10: 49201it [44:59, 19.49it/s]"
     ]
    },
    {
     "name": "stdout",
     "output_type": "stream",
     "text": [
      "  [Batch 49200]  loss: 0.003826\n"
     ]
    },
    {
     "name": "stderr",
     "output_type": "stream",
     "text": [
      "Epoch 1/10: 49302it [45:04, 17.73it/s]"
     ]
    },
    {
     "name": "stdout",
     "output_type": "stream",
     "text": [
      "  [Batch 49300]  loss: 0.003820\n"
     ]
    },
    {
     "name": "stderr",
     "output_type": "stream",
     "text": [
      "Epoch 1/10: 49402it [45:10, 17.94it/s]"
     ]
    },
    {
     "name": "stdout",
     "output_type": "stream",
     "text": [
      "  [Batch 49400]  loss: 0.003816\n"
     ]
    },
    {
     "name": "stderr",
     "output_type": "stream",
     "text": [
      "Epoch 1/10: 49503it [45:16, 19.42it/s]"
     ]
    },
    {
     "name": "stdout",
     "output_type": "stream",
     "text": [
      "  [Batch 49500]  loss: 0.003811\n"
     ]
    },
    {
     "name": "stderr",
     "output_type": "stream",
     "text": [
      "Epoch 1/10: 49602it [45:21, 18.35it/s]"
     ]
    },
    {
     "name": "stdout",
     "output_type": "stream",
     "text": [
      "  [Batch 49600]  loss: 0.003804\n"
     ]
    },
    {
     "name": "stderr",
     "output_type": "stream",
     "text": [
      "Epoch 1/10: 49702it [45:26, 18.68it/s]"
     ]
    },
    {
     "name": "stdout",
     "output_type": "stream",
     "text": [
      "  [Batch 49700]  loss: 0.003800\n"
     ]
    },
    {
     "name": "stderr",
     "output_type": "stream",
     "text": [
      "Epoch 1/10: 49801it [45:31, 19.72it/s]"
     ]
    },
    {
     "name": "stdout",
     "output_type": "stream",
     "text": [
      "  [Batch 49800]  loss: 0.003793\n"
     ]
    },
    {
     "name": "stderr",
     "output_type": "stream",
     "text": [
      "Epoch 1/10: 49903it [45:37, 16.43it/s]"
     ]
    },
    {
     "name": "stdout",
     "output_type": "stream",
     "text": [
      "  [Batch 49900]  loss: 0.003788\n"
     ]
    },
    {
     "name": "stderr",
     "output_type": "stream",
     "text": [
      "Epoch 1/10: 50003it [45:44, 15.85it/s]"
     ]
    },
    {
     "name": "stdout",
     "output_type": "stream",
     "text": [
      "  [Batch 50000]  loss: 0.003782\n"
     ]
    },
    {
     "name": "stderr",
     "output_type": "stream",
     "text": [
      "Epoch 1/10: 50102it [45:49, 18.63it/s]"
     ]
    },
    {
     "name": "stdout",
     "output_type": "stream",
     "text": [
      "  [Batch 50100]  loss: 0.003775\n"
     ]
    },
    {
     "name": "stderr",
     "output_type": "stream",
     "text": [
      "Epoch 1/10: 50203it [45:55, 18.14it/s]"
     ]
    },
    {
     "name": "stdout",
     "output_type": "stream",
     "text": [
      "  [Batch 50200]  loss: 0.003768\n"
     ]
    },
    {
     "name": "stderr",
     "output_type": "stream",
     "text": [
      "Epoch 1/10: 50302it [46:00, 19.05it/s]"
     ]
    },
    {
     "name": "stdout",
     "output_type": "stream",
     "text": [
      "  [Batch 50300]  loss: 0.003762\n"
     ]
    },
    {
     "name": "stderr",
     "output_type": "stream",
     "text": [
      "Epoch 1/10: 50402it [46:06, 19.14it/s]"
     ]
    },
    {
     "name": "stdout",
     "output_type": "stream",
     "text": [
      "  [Batch 50400]  loss: 0.003755\n"
     ]
    },
    {
     "name": "stderr",
     "output_type": "stream",
     "text": [
      "Epoch 1/10: 50503it [46:11, 18.82it/s]"
     ]
    },
    {
     "name": "stdout",
     "output_type": "stream",
     "text": [
      "  [Batch 50500]  loss: 0.003749\n"
     ]
    },
    {
     "name": "stderr",
     "output_type": "stream",
     "text": [
      "Epoch 1/10: 50603it [46:17, 18.28it/s]"
     ]
    },
    {
     "name": "stdout",
     "output_type": "stream",
     "text": [
      "  [Batch 50600]  loss: 0.003742\n"
     ]
    },
    {
     "name": "stderr",
     "output_type": "stream",
     "text": [
      "Epoch 1/10: 50702it [46:22, 16.57it/s]"
     ]
    },
    {
     "name": "stdout",
     "output_type": "stream",
     "text": [
      "  [Batch 50700]  loss: 0.003736\n"
     ]
    },
    {
     "name": "stderr",
     "output_type": "stream",
     "text": [
      "Epoch 1/10: 50802it [46:29, 15.46it/s]"
     ]
    },
    {
     "name": "stdout",
     "output_type": "stream",
     "text": [
      "  [Batch 50800]  loss: 0.003730\n"
     ]
    },
    {
     "name": "stderr",
     "output_type": "stream",
     "text": [
      "Epoch 1/10: 50902it [46:35, 13.95it/s]"
     ]
    },
    {
     "name": "stdout",
     "output_type": "stream",
     "text": [
      "  [Batch 50900]  loss: 0.003730\n"
     ]
    },
    {
     "name": "stderr",
     "output_type": "stream",
     "text": [
      "Epoch 1/10: 51002it [46:41, 15.16it/s]"
     ]
    },
    {
     "name": "stdout",
     "output_type": "stream",
     "text": [
      "  [Batch 51000]  loss: 0.003732\n"
     ]
    },
    {
     "name": "stderr",
     "output_type": "stream",
     "text": [
      "Epoch 1/10: 51102it [46:47, 18.39it/s]"
     ]
    },
    {
     "name": "stdout",
     "output_type": "stream",
     "text": [
      "  [Batch 51100]  loss: 0.003726\n"
     ]
    },
    {
     "name": "stderr",
     "output_type": "stream",
     "text": [
      "Epoch 1/10: 51203it [46:53, 18.84it/s]"
     ]
    },
    {
     "name": "stdout",
     "output_type": "stream",
     "text": [
      "  [Batch 51200]  loss: 0.003728\n"
     ]
    },
    {
     "name": "stderr",
     "output_type": "stream",
     "text": [
      "Epoch 1/10: 51302it [46:58, 18.40it/s]"
     ]
    },
    {
     "name": "stdout",
     "output_type": "stream",
     "text": [
      "  [Batch 51300]  loss: 0.003740\n"
     ]
    },
    {
     "name": "stderr",
     "output_type": "stream",
     "text": [
      "Epoch 1/10: 51404it [47:04, 18.57it/s]"
     ]
    },
    {
     "name": "stdout",
     "output_type": "stream",
     "text": [
      "  [Batch 51400]  loss: 0.003769\n"
     ]
    },
    {
     "name": "stderr",
     "output_type": "stream",
     "text": [
      "Epoch 1/10: 51503it [47:10, 17.30it/s]"
     ]
    },
    {
     "name": "stdout",
     "output_type": "stream",
     "text": [
      "  [Batch 51500]  loss: 0.003767\n"
     ]
    },
    {
     "name": "stderr",
     "output_type": "stream",
     "text": [
      "Epoch 1/10: 51603it [47:16, 18.17it/s]"
     ]
    },
    {
     "name": "stdout",
     "output_type": "stream",
     "text": [
      "  [Batch 51600]  loss: 0.003769\n"
     ]
    },
    {
     "name": "stderr",
     "output_type": "stream",
     "text": [
      "Epoch 1/10: 51702it [47:22, 16.57it/s]"
     ]
    },
    {
     "name": "stdout",
     "output_type": "stream",
     "text": [
      "  [Batch 51700]  loss: 0.003775\n"
     ]
    },
    {
     "name": "stderr",
     "output_type": "stream",
     "text": [
      "Epoch 1/10: 51803it [47:28, 17.79it/s]"
     ]
    },
    {
     "name": "stdout",
     "output_type": "stream",
     "text": [
      "  [Batch 51800]  loss: 0.003779\n"
     ]
    },
    {
     "name": "stderr",
     "output_type": "stream",
     "text": [
      "Epoch 1/10: 51903it [47:35, 16.31it/s]"
     ]
    },
    {
     "name": "stdout",
     "output_type": "stream",
     "text": [
      "  [Batch 51900]  loss: 0.003780\n"
     ]
    },
    {
     "name": "stderr",
     "output_type": "stream",
     "text": [
      "Epoch 1/10: 52003it [47:41, 17.51it/s]"
     ]
    },
    {
     "name": "stdout",
     "output_type": "stream",
     "text": [
      "  [Batch 52000]  loss: 0.003783\n"
     ]
    },
    {
     "name": "stderr",
     "output_type": "stream",
     "text": [
      "Epoch 1/10: 52103it [47:47, 16.95it/s]"
     ]
    },
    {
     "name": "stdout",
     "output_type": "stream",
     "text": [
      "  [Batch 52100]  loss: 0.003787\n"
     ]
    },
    {
     "name": "stderr",
     "output_type": "stream",
     "text": [
      "Epoch 1/10: 52202it [47:52, 18.07it/s]"
     ]
    },
    {
     "name": "stdout",
     "output_type": "stream",
     "text": [
      "  [Batch 52200]  loss: 0.003787\n"
     ]
    },
    {
     "name": "stderr",
     "output_type": "stream",
     "text": [
      "Epoch 1/10: 52302it [47:58, 17.92it/s]"
     ]
    },
    {
     "name": "stdout",
     "output_type": "stream",
     "text": [
      "  [Batch 52300]  loss: 0.003790\n"
     ]
    },
    {
     "name": "stderr",
     "output_type": "stream",
     "text": [
      "Epoch 1/10: 52402it [48:04, 17.72it/s]"
     ]
    },
    {
     "name": "stdout",
     "output_type": "stream",
     "text": [
      "  [Batch 52400]  loss: 0.003788\n"
     ]
    },
    {
     "name": "stderr",
     "output_type": "stream",
     "text": [
      "Epoch 1/10: 52503it [48:10, 18.13it/s]"
     ]
    },
    {
     "name": "stdout",
     "output_type": "stream",
     "text": [
      "  [Batch 52500]  loss: 0.003784\n"
     ]
    },
    {
     "name": "stderr",
     "output_type": "stream",
     "text": [
      "Epoch 1/10: 52602it [48:15, 17.39it/s]"
     ]
    },
    {
     "name": "stdout",
     "output_type": "stream",
     "text": [
      "  [Batch 52600]  loss: 0.003778\n"
     ]
    },
    {
     "name": "stderr",
     "output_type": "stream",
     "text": [
      "Epoch 1/10: 52702it [48:22, 15.57it/s]"
     ]
    },
    {
     "name": "stdout",
     "output_type": "stream",
     "text": [
      "  [Batch 52700]  loss: 0.003773\n"
     ]
    },
    {
     "name": "stderr",
     "output_type": "stream",
     "text": [
      "Epoch 1/10: 52802it [48:27, 17.66it/s]"
     ]
    },
    {
     "name": "stdout",
     "output_type": "stream",
     "text": [
      "  [Batch 52800]  loss: 0.003770\n"
     ]
    },
    {
     "name": "stderr",
     "output_type": "stream",
     "text": [
      "Epoch 1/10: 52902it [48:33, 17.44it/s]"
     ]
    },
    {
     "name": "stdout",
     "output_type": "stream",
     "text": [
      "  [Batch 52900]  loss: 0.003764\n"
     ]
    },
    {
     "name": "stderr",
     "output_type": "stream",
     "text": [
      "Epoch 1/10: 53003it [48:39, 17.97it/s]"
     ]
    },
    {
     "name": "stdout",
     "output_type": "stream",
     "text": [
      "  [Batch 53000]  loss: 0.003759\n"
     ]
    },
    {
     "name": "stderr",
     "output_type": "stream",
     "text": [
      "Epoch 1/10: 53103it [48:45, 18.22it/s]"
     ]
    },
    {
     "name": "stdout",
     "output_type": "stream",
     "text": [
      "  [Batch 53100]  loss: 0.003754\n"
     ]
    },
    {
     "name": "stderr",
     "output_type": "stream",
     "text": [
      "Epoch 1/10: 53202it [48:50, 17.28it/s]"
     ]
    },
    {
     "name": "stdout",
     "output_type": "stream",
     "text": [
      "  [Batch 53200]  loss: 0.003748\n"
     ]
    },
    {
     "name": "stderr",
     "output_type": "stream",
     "text": [
      "Epoch 1/10: 53302it [48:56, 17.96it/s]"
     ]
    },
    {
     "name": "stdout",
     "output_type": "stream",
     "text": [
      "  [Batch 53300]  loss: 0.003743\n"
     ]
    },
    {
     "name": "stderr",
     "output_type": "stream",
     "text": [
      "Epoch 1/10: 53402it [49:02, 18.24it/s]"
     ]
    },
    {
     "name": "stdout",
     "output_type": "stream",
     "text": [
      "  [Batch 53400]  loss: 0.003737\n"
     ]
    },
    {
     "name": "stderr",
     "output_type": "stream",
     "text": [
      "Epoch 1/10: 53502it [49:08, 16.69it/s]"
     ]
    },
    {
     "name": "stdout",
     "output_type": "stream",
     "text": [
      "  [Batch 53500]  loss: 0.003731\n"
     ]
    },
    {
     "name": "stderr",
     "output_type": "stream",
     "text": [
      "Epoch 1/10: 53602it [49:14, 16.27it/s]"
     ]
    },
    {
     "name": "stdout",
     "output_type": "stream",
     "text": [
      "  [Batch 53600]  loss: 0.003724\n"
     ]
    },
    {
     "name": "stderr",
     "output_type": "stream",
     "text": [
      "Epoch 1/10: 53702it [49:22, 12.24it/s]"
     ]
    },
    {
     "name": "stdout",
     "output_type": "stream",
     "text": [
      "  [Batch 53700]  loss: 0.003718\n"
     ]
    },
    {
     "name": "stderr",
     "output_type": "stream",
     "text": [
      "Epoch 1/10: 53802it [49:28, 17.69it/s]"
     ]
    },
    {
     "name": "stdout",
     "output_type": "stream",
     "text": [
      "  [Batch 53800]  loss: 0.003712\n"
     ]
    },
    {
     "name": "stderr",
     "output_type": "stream",
     "text": [
      "Epoch 1/10: 53900it [49:34, 12.73it/s]"
     ]
    },
    {
     "name": "stdout",
     "output_type": "stream",
     "text": [
      "  [Batch 53900]  loss: 0.003707\n"
     ]
    },
    {
     "name": "stderr",
     "output_type": "stream",
     "text": [
      "Epoch 1/10: 54002it [49:42, 11.13it/s]"
     ]
    },
    {
     "name": "stdout",
     "output_type": "stream",
     "text": [
      "  [Batch 54000]  loss: 0.003700\n"
     ]
    },
    {
     "name": "stderr",
     "output_type": "stream",
     "text": [
      "Epoch 1/10: 54102it [49:48, 14.83it/s]"
     ]
    },
    {
     "name": "stdout",
     "output_type": "stream",
     "text": [
      "  [Batch 54100]  loss: 0.003694\n"
     ]
    },
    {
     "name": "stderr",
     "output_type": "stream",
     "text": [
      "Epoch 1/10: 54202it [49:55, 16.03it/s]"
     ]
    },
    {
     "name": "stdout",
     "output_type": "stream",
     "text": [
      "  [Batch 54200]  loss: 0.003689\n"
     ]
    },
    {
     "name": "stderr",
     "output_type": "stream",
     "text": [
      "Epoch 1/10: 54302it [50:01, 17.00it/s]"
     ]
    },
    {
     "name": "stdout",
     "output_type": "stream",
     "text": [
      "  [Batch 54300]  loss: 0.003688\n"
     ]
    },
    {
     "name": "stderr",
     "output_type": "stream",
     "text": [
      "Epoch 1/10: 54402it [50:07, 16.46it/s]"
     ]
    },
    {
     "name": "stdout",
     "output_type": "stream",
     "text": [
      "  [Batch 54400]  loss: 0.003691\n"
     ]
    },
    {
     "name": "stderr",
     "output_type": "stream",
     "text": [
      "Epoch 1/10: 54503it [50:13, 18.10it/s]"
     ]
    },
    {
     "name": "stdout",
     "output_type": "stream",
     "text": [
      "  [Batch 54500]  loss: 0.003686\n"
     ]
    },
    {
     "name": "stderr",
     "output_type": "stream",
     "text": [
      "Epoch 1/10: 54602it [50:19, 17.75it/s]"
     ]
    },
    {
     "name": "stdout",
     "output_type": "stream",
     "text": [
      "  [Batch 54600]  loss: 0.003690\n"
     ]
    },
    {
     "name": "stderr",
     "output_type": "stream",
     "text": [
      "Epoch 1/10: 54703it [50:25, 16.90it/s]"
     ]
    },
    {
     "name": "stdout",
     "output_type": "stream",
     "text": [
      "  [Batch 54700]  loss: 0.003701\n"
     ]
    },
    {
     "name": "stderr",
     "output_type": "stream",
     "text": [
      "Epoch 1/10: 54803it [50:31, 16.39it/s]"
     ]
    },
    {
     "name": "stdout",
     "output_type": "stream",
     "text": [
      "  [Batch 54800]  loss: 0.003730\n"
     ]
    },
    {
     "name": "stderr",
     "output_type": "stream",
     "text": [
      "Epoch 1/10: 54903it [50:37, 16.58it/s]"
     ]
    },
    {
     "name": "stdout",
     "output_type": "stream",
     "text": [
      "  [Batch 54900]  loss: 0.003729\n"
     ]
    },
    {
     "name": "stderr",
     "output_type": "stream",
     "text": [
      "Epoch 1/10: 55003it [50:43, 17.28it/s]"
     ]
    },
    {
     "name": "stdout",
     "output_type": "stream",
     "text": [
      "  [Batch 55000]  loss: 0.003732\n"
     ]
    },
    {
     "name": "stderr",
     "output_type": "stream",
     "text": [
      "Epoch 1/10: 55103it [50:48, 18.14it/s]"
     ]
    },
    {
     "name": "stdout",
     "output_type": "stream",
     "text": [
      "  [Batch 55100]  loss: 0.003740\n"
     ]
    },
    {
     "name": "stderr",
     "output_type": "stream",
     "text": [
      "Epoch 1/10: 55203it [50:54, 17.04it/s]"
     ]
    },
    {
     "name": "stdout",
     "output_type": "stream",
     "text": [
      "  [Batch 55200]  loss: 0.003743\n"
     ]
    },
    {
     "name": "stderr",
     "output_type": "stream",
     "text": [
      "Epoch 1/10: 55302it [51:00, 17.79it/s]"
     ]
    },
    {
     "name": "stdout",
     "output_type": "stream",
     "text": [
      "  [Batch 55300]  loss: 0.003745\n"
     ]
    },
    {
     "name": "stderr",
     "output_type": "stream",
     "text": [
      "Epoch 1/10: 55404it [51:06, 18.16it/s]"
     ]
    },
    {
     "name": "stdout",
     "output_type": "stream",
     "text": [
      "  [Batch 55400]  loss: 0.003748\n"
     ]
    },
    {
     "name": "stderr",
     "output_type": "stream",
     "text": [
      "Epoch 1/10: 55502it [51:11, 17.59it/s]"
     ]
    },
    {
     "name": "stdout",
     "output_type": "stream",
     "text": [
      "  [Batch 55500]  loss: 0.003753\n"
     ]
    },
    {
     "name": "stderr",
     "output_type": "stream",
     "text": [
      "Epoch 1/10: 55601it [51:17, 15.84it/s]"
     ]
    },
    {
     "name": "stdout",
     "output_type": "stream",
     "text": [
      "  [Batch 55600]  loss: 0.003753\n"
     ]
    },
    {
     "name": "stderr",
     "output_type": "stream",
     "text": [
      "Epoch 1/10: 55702it [51:23, 16.58it/s]"
     ]
    },
    {
     "name": "stdout",
     "output_type": "stream",
     "text": [
      "  [Batch 55700]  loss: 0.003756\n"
     ]
    },
    {
     "name": "stderr",
     "output_type": "stream",
     "text": [
      "Epoch 1/10: 55802it [51:28, 18.91it/s]"
     ]
    },
    {
     "name": "stdout",
     "output_type": "stream",
     "text": [
      "  [Batch 55800]  loss: 0.003755\n"
     ]
    },
    {
     "name": "stderr",
     "output_type": "stream",
     "text": [
      "Epoch 1/10: 55903it [51:34, 18.34it/s]"
     ]
    },
    {
     "name": "stdout",
     "output_type": "stream",
     "text": [
      "  [Batch 55900]  loss: 0.003751\n"
     ]
    },
    {
     "name": "stderr",
     "output_type": "stream",
     "text": [
      "Epoch 1/10: 56002it [51:40, 16.19it/s]"
     ]
    },
    {
     "name": "stdout",
     "output_type": "stream",
     "text": [
      "  [Batch 56000]  loss: 0.003745\n"
     ]
    },
    {
     "name": "stderr",
     "output_type": "stream",
     "text": [
      "Epoch 1/10: 56102it [51:46, 15.98it/s]"
     ]
    },
    {
     "name": "stdout",
     "output_type": "stream",
     "text": [
      "  [Batch 56100]  loss: 0.003741\n"
     ]
    },
    {
     "name": "stderr",
     "output_type": "stream",
     "text": [
      "Epoch 1/10: 56202it [51:52, 16.25it/s]"
     ]
    },
    {
     "name": "stdout",
     "output_type": "stream",
     "text": [
      "  [Batch 56200]  loss: 0.003739\n"
     ]
    },
    {
     "name": "stderr",
     "output_type": "stream",
     "text": [
      "Epoch 1/10: 56303it [51:58, 18.32it/s]"
     ]
    },
    {
     "name": "stdout",
     "output_type": "stream",
     "text": [
      "  [Batch 56300]  loss: 0.003733\n"
     ]
    },
    {
     "name": "stderr",
     "output_type": "stream",
     "text": [
      "Epoch 1/10: 56403it [52:03, 17.81it/s]"
     ]
    },
    {
     "name": "stdout",
     "output_type": "stream",
     "text": [
      "  [Batch 56400]  loss: 0.003729\n"
     ]
    },
    {
     "name": "stderr",
     "output_type": "stream",
     "text": [
      "Epoch 1/10: 56503it [52:09, 17.18it/s]"
     ]
    },
    {
     "name": "stdout",
     "output_type": "stream",
     "text": [
      "  [Batch 56500]  loss: 0.003724\n"
     ]
    },
    {
     "name": "stderr",
     "output_type": "stream",
     "text": [
      "Epoch 1/10: 56603it [52:15, 17.51it/s]"
     ]
    },
    {
     "name": "stdout",
     "output_type": "stream",
     "text": [
      "  [Batch 56600]  loss: 0.003719\n"
     ]
    },
    {
     "name": "stderr",
     "output_type": "stream",
     "text": [
      "Epoch 1/10: 56703it [52:21, 15.94it/s]"
     ]
    },
    {
     "name": "stdout",
     "output_type": "stream",
     "text": [
      "  [Batch 56700]  loss: 0.003715\n"
     ]
    },
    {
     "name": "stderr",
     "output_type": "stream",
     "text": [
      "Epoch 1/10: 56803it [52:27, 15.77it/s]"
     ]
    },
    {
     "name": "stdout",
     "output_type": "stream",
     "text": [
      "  [Batch 56800]  loss: 0.003709\n"
     ]
    },
    {
     "name": "stderr",
     "output_type": "stream",
     "text": [
      "Epoch 1/10: 56903it [52:33, 16.33it/s]"
     ]
    },
    {
     "name": "stdout",
     "output_type": "stream",
     "text": [
      "  [Batch 56900]  loss: 0.003703\n"
     ]
    },
    {
     "name": "stderr",
     "output_type": "stream",
     "text": [
      "Epoch 1/10: 57003it [52:39, 16.50it/s]"
     ]
    },
    {
     "name": "stdout",
     "output_type": "stream",
     "text": [
      "  [Batch 57000]  loss: 0.003697\n"
     ]
    },
    {
     "name": "stderr",
     "output_type": "stream",
     "text": [
      "Epoch 1/10: 57103it [52:46, 15.74it/s]"
     ]
    },
    {
     "name": "stdout",
     "output_type": "stream",
     "text": [
      "  [Batch 57100]  loss: 0.003691\n"
     ]
    },
    {
     "name": "stderr",
     "output_type": "stream",
     "text": [
      "Epoch 1/10: 57203it [52:52, 15.82it/s]"
     ]
    },
    {
     "name": "stdout",
     "output_type": "stream",
     "text": [
      "  [Batch 57200]  loss: 0.003685\n"
     ]
    },
    {
     "name": "stderr",
     "output_type": "stream",
     "text": [
      "Epoch 1/10: 57303it [52:58, 17.15it/s]"
     ]
    },
    {
     "name": "stdout",
     "output_type": "stream",
     "text": [
      "  [Batch 57300]  loss: 0.003680\n"
     ]
    },
    {
     "name": "stderr",
     "output_type": "stream",
     "text": [
      "Epoch 1/10: 57402it [53:04, 16.68it/s]"
     ]
    },
    {
     "name": "stdout",
     "output_type": "stream",
     "text": [
      "  [Batch 57400]  loss: 0.003674\n"
     ]
    },
    {
     "name": "stderr",
     "output_type": "stream",
     "text": [
      "Epoch 1/10: 57502it [53:10, 13.78it/s]"
     ]
    },
    {
     "name": "stdout",
     "output_type": "stream",
     "text": [
      "  [Batch 57500]  loss: 0.003669\n"
     ]
    },
    {
     "name": "stderr",
     "output_type": "stream",
     "text": [
      "Epoch 1/10: 57602it [53:18, 13.38it/s]"
     ]
    },
    {
     "name": "stdout",
     "output_type": "stream",
     "text": [
      "  [Batch 57600]  loss: 0.003664\n"
     ]
    },
    {
     "name": "stderr",
     "output_type": "stream",
     "text": [
      "Epoch 1/10: 57702it [53:24, 16.54it/s]"
     ]
    },
    {
     "name": "stdout",
     "output_type": "stream",
     "text": [
      "  [Batch 57700]  loss: 0.003659\n"
     ]
    },
    {
     "name": "stderr",
     "output_type": "stream",
     "text": [
      "Epoch 1/10: 57802it [53:30, 16.59it/s]"
     ]
    },
    {
     "name": "stdout",
     "output_type": "stream",
     "text": [
      "  [Batch 57800]  loss: 0.003660\n"
     ]
    },
    {
     "name": "stderr",
     "output_type": "stream",
     "text": [
      "Epoch 1/10: 57902it [53:36, 17.65it/s]"
     ]
    },
    {
     "name": "stdout",
     "output_type": "stream",
     "text": [
      "  [Batch 57900]  loss: 0.003661\n"
     ]
    },
    {
     "name": "stderr",
     "output_type": "stream",
     "text": [
      "Epoch 1/10: 58002it [53:41, 17.45it/s]"
     ]
    },
    {
     "name": "stdout",
     "output_type": "stream",
     "text": [
      "  [Batch 58000]  loss: 0.003656\n"
     ]
    },
    {
     "name": "stderr",
     "output_type": "stream",
     "text": [
      "Epoch 1/10: 58102it [53:47, 16.51it/s]"
     ]
    },
    {
     "name": "stdout",
     "output_type": "stream",
     "text": [
      "  [Batch 58100]  loss: 0.003671\n"
     ]
    },
    {
     "name": "stderr",
     "output_type": "stream",
     "text": [
      "Epoch 1/10: 58202it [53:53, 17.09it/s]"
     ]
    },
    {
     "name": "stdout",
     "output_type": "stream",
     "text": [
      "  [Batch 58200]  loss: 0.003695\n"
     ]
    },
    {
     "name": "stderr",
     "output_type": "stream",
     "text": [
      "Epoch 1/10: 58302it [53:59, 17.23it/s]"
     ]
    },
    {
     "name": "stdout",
     "output_type": "stream",
     "text": [
      "  [Batch 58300]  loss: 0.003696\n"
     ]
    },
    {
     "name": "stderr",
     "output_type": "stream",
     "text": [
      "Epoch 1/10: 58403it [54:05, 18.01it/s]"
     ]
    },
    {
     "name": "stdout",
     "output_type": "stream",
     "text": [
      "  [Batch 58400]  loss: 0.003700\n"
     ]
    },
    {
     "name": "stderr",
     "output_type": "stream",
     "text": [
      "Epoch 1/10: 58503it [54:11, 17.37it/s]"
     ]
    },
    {
     "name": "stdout",
     "output_type": "stream",
     "text": [
      "  [Batch 58500]  loss: 0.003706\n"
     ]
    },
    {
     "name": "stderr",
     "output_type": "stream",
     "text": [
      "Epoch 1/10: 58602it [54:16, 17.36it/s]"
     ]
    },
    {
     "name": "stdout",
     "output_type": "stream",
     "text": [
      "  [Batch 58600]  loss: 0.003710\n"
     ]
    },
    {
     "name": "stderr",
     "output_type": "stream",
     "text": [
      "Epoch 1/10: 58703it [54:22, 18.00it/s]"
     ]
    },
    {
     "name": "stdout",
     "output_type": "stream",
     "text": [
      "  [Batch 58700]  loss: 0.003713\n"
     ]
    },
    {
     "name": "stderr",
     "output_type": "stream",
     "text": [
      "Epoch 1/10: 58803it [54:28, 17.86it/s]"
     ]
    },
    {
     "name": "stdout",
     "output_type": "stream",
     "text": [
      "  [Batch 58800]  loss: 0.003715\n"
     ]
    },
    {
     "name": "stderr",
     "output_type": "stream",
     "text": [
      "Epoch 1/10: 58901it [54:34, 16.71it/s]"
     ]
    },
    {
     "name": "stdout",
     "output_type": "stream",
     "text": [
      "  [Batch 58900]  loss: 0.003719\n"
     ]
    },
    {
     "name": "stderr",
     "output_type": "stream",
     "text": [
      "Epoch 1/10: 59003it [54:40, 17.14it/s]"
     ]
    },
    {
     "name": "stdout",
     "output_type": "stream",
     "text": [
      "  [Batch 59000]  loss: 0.003721\n"
     ]
    },
    {
     "name": "stderr",
     "output_type": "stream",
     "text": [
      "Epoch 1/10: 59031it [54:41, 17.38it/s]"
     ]
    }
   ],
   "source": [
    "# ─────────────────────────────────────────────\n",
    "# Training Loop for ConvCLSTM (new cell)\n",
    "# ─────────────────────────────────────────────\n",
    "from tqdm import tqdm\n",
    "import time\n",
    "\n",
    "num_epochs = 10\n",
    "start = time.time()\n",
    "\n",
    "for epoch in range(1, num_epochs+1):\n",
    "    model.train()\n",
    "    running_loss = 0.0\n",
    "\n",
    "    # 배치 단위 진행바\n",
    "    for batch_idx, (seq, target) in enumerate(\n",
    "            tqdm(train_loader, desc=f\"Epoch {epoch}/{num_epochs}\"), 1):\n",
    "\n",
    "        seq, target = seq.to(device), target.to(device)\n",
    "\n",
    "        optimizer.zero_grad()\n",
    "        pred = model(seq)               # (B, feature_dim)\n",
    "        loss = criterion(pred, target)  # MSE\n",
    "        loss.backward()\n",
    "        optimizer.step()\n",
    "\n",
    "        running_loss += loss.item()\n",
    "        if batch_idx % 100 == 0:\n",
    "            tqdm.write(f\"  [Batch {batch_idx}]  loss: {running_loss/batch_idx:.6f}\")\n",
    "\n",
    "    avg_loss = running_loss / batch_idx\n",
    "    print(f\"→ Epoch {epoch}/{num_epochs} done, avg_loss: {avg_loss:.6f}\")\n",
    "\n",
    "print(f\"Total training time: {time.time() - start:.2f}s\")\n"
   ]
  },
  {
   "cell_type": "code",
   "execution_count": null,
   "id": "e0d51874",
   "metadata": {},
   "outputs": [],
   "source": [
    "print(input_ids.shape)\n",
    "print(masked_pos.shape)\n",
    "print(target.shape)\n",
    "print(pred.shape)"
   ]
  },
  {
   "cell_type": "code",
   "execution_count": null,
   "id": "3598cd58",
   "metadata": {},
   "outputs": [],
   "source": [
    "# 모델 평가 방법\n",
    "import torch.nn.functional as F\n",
    "\n",
    "def rmse(pred: torch.Tensor, target: torch.Tensor) -> torch.Tensor:\n",
    "    \"\"\"\n",
    "    RMSE = Root MSE\n",
    "    RMSE = {1/n*sum((y^-y)**2)}**1/2\n",
    "    \"\"\"\n",
    "    return torch.sqrt(F.mse_loss(pred, target, reduction=\"mean\"))   # √MSE\n",
    "\n",
    "def nmse(pred: torch.Tensor, target: torch.Tensor) -> torch.Tensor:\n",
    "    \"\"\"\n",
    "    Normalized MSE  =  E[‖ŷ − y‖²] / E[‖y‖²]\n",
    "    returns: 스칼라 (배치 평균)\n",
    "    \"\"\"\n",
    "    # (B, …) → (B,)  : 각 샘플별 제곱합\n",
    "    mse_per_sample   = ((pred - target)**2).view(pred.size(0), -1).sum(dim=1)\n",
    "    power_per_sample = (target**2).view(target.size(0), -1).sum(dim=1)\n",
    "    return (mse_per_sample / power_per_sample).mean()\n"
   ]
  },
  {
   "cell_type": "code",
   "execution_count": null,
   "id": "97deedce",
   "metadata": {},
   "outputs": [],
   "source": [
    "# 모델 평가 함수\n",
    "import torch\n",
    "import torch.nn.functional as F\n",
    "\n",
    "# ─────────────────────────────────────────\n",
    "# 1. 배치 단위 RMSE, NMSE 함수\n",
    "# ─────────────────────────────────────────\n",
    "def rmse(pred: torch.Tensor, target: torch.Tensor) -> torch.Tensor:\n",
    "    \"\"\"\n",
    "    Root-Mean-Squared Error\n",
    "    returns: 스칼라 (배치 평균)\n",
    "    \"\"\"\n",
    "    return torch.sqrt(F.mse_loss(pred, target, reduction=\"mean\"))   # √MSE\n",
    "\n",
    "def nmse(pred: torch.Tensor, target: torch.Tensor) -> torch.Tensor:\n",
    "    \"\"\"\n",
    "    Normalized MSE  =  E[‖ŷ − y‖²] / E[‖y‖²]\n",
    "      · 채널 예측 분야에서 흔히 쓰는 지표\n",
    "    returns: 스칼라 (배치 평균)\n",
    "    \"\"\"\n",
    "    # (B, …) → (B,)  : 각 샘플별 제곱합\n",
    "    mse_per_sample   = ((pred - target)**2).view(pred.size(0), -1).sum(dim=1)\n",
    "    power_per_sample = (target**2).view(target.size(0), -1).sum(dim=1)\n",
    "    return (mse_per_sample / power_per_sample).mean()\n",
    "\n",
    "\n",
    "# ─────────────────────────────────────────\n",
    "# 2. 검증 루프 예시\n",
    "# ─────────────────────────────────────────\n",
    "def evaluate(model, loader, device=\"cuda\"):\n",
    "    model.eval()\n",
    "    total_rmse, total_nmse = 0.0, 0.0\n",
    "\n",
    "    with torch.no_grad():\n",
    "        for input_ids, masked_pos, target in loader:\n",
    "            input_ids  = input_ids.to(device)\n",
    "            masked_pos = masked_pos.to(device)\n",
    "            target     = target.to(device)\n",
    "\n",
    "            pred = model(input_ids, masked_pos)\n",
    "\n",
    "            total_rmse += rmse(pred, target).item() * input_ids.size(0)\n",
    "            total_nmse += nmse(pred, target).item() * input_ids.size(0)\n",
    "\n",
    "    N = len(loader.dataset)\n",
    "    return {\n",
    "        \"RMSE\": total_rmse / N,\n",
    "        \"NMSE\": total_nmse / N\n",
    "    }\n"
   ]
  },
  {
   "cell_type": "code",
   "execution_count": null,
   "id": "1670cdec",
   "metadata": {},
   "outputs": [],
   "source": [
    "num_epochs = 30\n",
    "patience_counter = 0\n",
    "\n",
    "for epoch in range(1, num_epochs + 1):\n",
    "    # ──────────── ① 학습 ────────────\n",
    "    model.train()\n",
    "    for input_ids, masked_pos, target in train_loader:\n",
    "        input_ids  = input_ids.to(device)\n",
    "        masked_pos = masked_pos.to(device)\n",
    "        target     = target.to(device)\n",
    "\n",
    "        pred = model(input_ids, masked_pos)\n",
    "        loss = criterion(pred, target)\n",
    "\n",
    "        optimizer.zero_grad()\n",
    "        loss.backward()\n",
    "        optimizer.step()\n",
    "\n",
    "    # ──────────── ② 검증 ────────────\n",
    "    metrics = evaluate(model, val_loader, device)\n",
    "    rmse_val, nmse_val = metrics[\"RMSE\"], metrics[\"NMSE\"]\n",
    "\n",
    "    # ──────────── ③ 로그 출력 ────────────\n",
    "    print(f\"[Epoch {epoch:02d}]  \"\n",
    "          f\"val_RMSE = {rmse_val:.4f}   \"\n",
    "          f\"val_NMSE = {nmse_val:.4e}   \"\n",
    "          f\"val_NMSE(dB) = {10*torch.log10(torch.tensor(nmse_val)):.2f} dB\")\n"
   ]
  },
  {
   "cell_type": "code",
   "execution_count": null,
   "id": "5e7b169d",
   "metadata": {},
   "outputs": [],
   "source": []
  },
  {
   "cell_type": "code",
   "execution_count": null,
   "id": "f6932b03",
   "metadata": {},
   "outputs": [],
   "source": []
  },
  {
   "cell_type": "code",
   "execution_count": null,
   "id": "b5a9fbc8",
   "metadata": {},
   "outputs": [],
   "source": []
  }
 ],
 "metadata": {
  "kernelspec": {
   "display_name": "Python 3 (ipykernel)",
   "language": "python",
   "name": "python3"
  },
  "language_info": {
   "codemirror_mode": {
    "name": "ipython",
    "version": 3
   },
   "file_extension": ".py",
   "mimetype": "text/x-python",
   "name": "python",
   "nbconvert_exporter": "python",
   "pygments_lexer": "ipython3",
   "version": "3.11.3"
  }
 },
 "nbformat": 4,
 "nbformat_minor": 5
}
