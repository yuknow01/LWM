{
 "cells": [
  {
   "cell_type": "code",
   "execution_count": 1,
   "id": "846fad6b",
   "metadata": {},
   "outputs": [
    {
     "name": "stdout",
     "output_type": "stream",
     "text": [
      "Requirement already satisfied: DeepMIMOv3 in c:\\users\\dlghd\\anaconda3\\lib\\site-packages (0.2.8)\n",
      "Requirement already satisfied: umap-learn in c:\\users\\dlghd\\anaconda3\\lib\\site-packages (0.5.7)\n",
      "Requirement already satisfied: numpy in c:\\users\\dlghd\\anaconda3\\lib\\site-packages (from DeepMIMOv3) (1.24.3)\n",
      "Requirement already satisfied: scipy in c:\\users\\dlghd\\anaconda3\\lib\\site-packages (from DeepMIMOv3) (1.10.1)\n",
      "Requirement already satisfied: tqdm in c:\\users\\dlghd\\anaconda3\\lib\\site-packages (from DeepMIMOv3) (4.65.0)\n",
      "Requirement already satisfied: matplotlib in c:\\users\\dlghd\\anaconda3\\lib\\site-packages (from DeepMIMOv3) (3.7.1)\n",
      "Requirement already satisfied: scikit-learn>=0.22 in c:\\users\\dlghd\\anaconda3\\lib\\site-packages (from umap-learn) (1.2.2)\n",
      "Requirement already satisfied: numba>=0.51.2 in c:\\users\\dlghd\\anaconda3\\lib\\site-packages (from umap-learn) (0.57.0)\n",
      "Requirement already satisfied: pynndescent>=0.5 in c:\\users\\dlghd\\anaconda3\\lib\\site-packages (from umap-learn) (0.5.13)\n",
      "Requirement already satisfied: llvmlite<0.41,>=0.40.0dev0 in c:\\users\\dlghd\\anaconda3\\lib\\site-packages (from numba>=0.51.2->umap-learn) (0.40.0)\n",
      "Requirement already satisfied: joblib>=0.11 in c:\\users\\dlghd\\anaconda3\\lib\\site-packages (from pynndescent>=0.5->umap-learn) (1.2.0)\n",
      "Requirement already satisfied: threadpoolctl>=2.0.0 in c:\\users\\dlghd\\anaconda3\\lib\\site-packages (from scikit-learn>=0.22->umap-learn) (2.2.0)\n",
      "Requirement already satisfied: contourpy>=1.0.1 in c:\\users\\dlghd\\anaconda3\\lib\\site-packages (from matplotlib->DeepMIMOv3) (1.0.5)\n",
      "Requirement already satisfied: cycler>=0.10 in c:\\users\\dlghd\\anaconda3\\lib\\site-packages (from matplotlib->DeepMIMOv3) (0.11.0)\n",
      "Requirement already satisfied: fonttools>=4.22.0 in c:\\users\\dlghd\\anaconda3\\lib\\site-packages (from matplotlib->DeepMIMOv3) (4.25.0)\n",
      "Requirement already satisfied: kiwisolver>=1.0.1 in c:\\users\\dlghd\\anaconda3\\lib\\site-packages (from matplotlib->DeepMIMOv3) (1.4.4)\n",
      "Requirement already satisfied: packaging>=20.0 in c:\\users\\dlghd\\anaconda3\\lib\\site-packages (from matplotlib->DeepMIMOv3) (23.0)\n",
      "Requirement already satisfied: pillow>=6.2.0 in c:\\users\\dlghd\\anaconda3\\lib\\site-packages (from matplotlib->DeepMIMOv3) (9.4.0)\n",
      "Requirement already satisfied: pyparsing>=2.3.1 in c:\\users\\dlghd\\anaconda3\\lib\\site-packages (from matplotlib->DeepMIMOv3) (3.0.9)\n",
      "Requirement already satisfied: python-dateutil>=2.7 in c:\\users\\dlghd\\anaconda3\\lib\\site-packages (from matplotlib->DeepMIMOv3) (2.8.2)\n",
      "Requirement already satisfied: colorama in c:\\users\\dlghd\\anaconda3\\lib\\site-packages (from tqdm->DeepMIMOv3) (0.4.6)\n",
      "Requirement already satisfied: six>=1.5 in c:\\users\\dlghd\\anaconda3\\lib\\site-packages (from python-dateutil>=2.7->matplotlib->DeepMIMOv3) (1.16.0)\n",
      "Note: you may need to restart the kernel to use updated packages.\n"
     ]
    }
   ],
   "source": [
    "pip install DeepMIMOv3 umap-learn"
   ]
  },
  {
   "cell_type": "code",
   "execution_count": 2,
   "id": "c4aa974e",
   "metadata": {},
   "outputs": [
    {
     "name": "stdout",
     "output_type": "stream",
     "text": [
      " C 드라이브의 볼륨: OS\n",
      " 볼륨 일련 번호: BE16-7D03\n",
      "\n",
      " C:\\Users\\dlghd\\졸업프로젝트\\LWM 디렉터리\n",
      "\n",
      "2025-03-24  오후 12:38    <DIR>          .\n",
      "2025-03-17  오후 06:20    <DIR>          ..\n",
      "2025-03-13  오후 07:34             1,605 .gitattributes\n",
      "2025-03-13  오후 07:34                 7 .gitignore\n",
      "2025-03-24  오후 12:36    <DIR>          .ipynb_checkpoints\n",
      "2025-03-17  오후 06:33    <DIR>          __pycache__\n",
      "2025-03-13  오후 07:34               114 config.json\n",
      "2025-03-17  오후 06:29             4,406 inference.ipynb\n",
      "2025-03-13  오후 07:34             2,548 inference.py\n",
      "2025-03-17  오후 06:30            21,620 input_preprocess.ipynb\n",
      "2025-03-13  오후 07:34            13,485 input_preprocess.py\n",
      "2025-03-24  오후 12:40    <DIR>          LWM\n",
      "2025-03-24  오후 12:38             9,894 lwm.city 12 fortworth.ipynb\n",
      "2025-03-24  오후 12:34           153,782 lwm.city_12_fortworth의 사본\n",
      "2025-03-17  오후 06:34             5,713 lwm_model.ipynb\n",
      "2025-03-13  오후 07:34             5,029 lwm_model.py\n",
      "2025-03-13  오후 07:34         1,607,460 lwm_paper.pdf\n",
      "2025-03-13  오후 07:34         2,509,918 model_weights.pth\n",
      "2025-03-13  오후 07:34            18,455 README.md\n",
      "2025-03-17  오후 06:33    <DIR>          scenarios\n",
      "2025-03-21  오전 11:43    <DIR>          scene_0\n",
      "2025-03-18  오후 01:19            24,186 tutorial.ipynb\n",
      "2025-03-13  오후 07:34            11,559 tutorial.py\n",
      "2025-03-21  오전 11:46               589 Untitled.ipynb\n",
      "2025-03-18  오후 02:21    <DIR>          utils\n",
      "2025-03-21  오전 09:49            14,537 utils.ipynb\n",
      "2025-03-13  오후 07:34            12,237 utils.py\n",
      "              19개 파일           4,417,144 바이트\n",
      "               8개 디렉터리  151,315,304,448 바이트 남음\n"
     ]
    }
   ],
   "source": [
    "ls"
   ]
  },
  {
   "cell_type": "code",
   "execution_count": 7,
   "id": "1fd8b625",
   "metadata": {},
   "outputs": [],
   "source": [
    "import os\n",
    "\n",
    "# Step 1: Clone the model repository (if not already cloned)\n",
    "model_repo_url = \"https://huggingface.co/wi-lab/lwm\"\n",
    "model_repo_dir = \"./LWM\"\n",
    "\n",
    "if not os.path.exists(model_repo_dir):\n",
    "    print(f\"Cloning model repository from {model_repo_url}...\")\n",
    "    subprocess.run([\"git\", \"clone\", model_repo_url, model_repo_dir], check=True)"
   ]
  },
  {
   "cell_type": "code",
   "execution_count": 9,
   "id": "e8df30e2",
   "metadata": {},
   "outputs": [
    {
     "name": "stderr",
     "output_type": "stream",
     "text": [
      "매개 변수 포맷이 틀립니다 - \"LWM\".\n"
     ]
    }
   ],
   "source": [
    "ls ./LWM/LWM/scenarios"
   ]
  },
  {
   "cell_type": "code",
   "execution_count": null,
   "id": "20b38cdc",
   "metadata": {},
   "outputs": [],
   "source": []
  }
 ],
 "metadata": {
  "kernelspec": {
   "display_name": "Python 3 (ipykernel)",
   "language": "python",
   "name": "python3"
  },
  "language_info": {
   "codemirror_mode": {
    "name": "ipython",
    "version": 3
   },
   "file_extension": ".py",
   "mimetype": "text/x-python",
   "name": "python",
   "nbconvert_exporter": "python",
   "pygments_lexer": "ipython3",
   "version": "3.11.3"
  }
 },
 "nbformat": 4,
 "nbformat_minor": 5
}
