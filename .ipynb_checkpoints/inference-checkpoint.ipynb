{
 "cells": [
  {
   "cell_type": "markdown",
   "metadata": {},
   "source": [
    "# -*- coding: utf-8 -*-\n",
    "\"\"\"\n",
    "Created on Sun Sep 15 18:27:17 2024"
   ]
  },
  {
   "cell_type": "markdown",
   "metadata": {},
   "source": [
    "@author: salikha4\n",
    "\"\"\""
   ]
  },
  {
   "cell_type": "code",
   "execution_count": 3,
   "metadata": {},
   "outputs": [],
   "source": [
    "import os\n",
    "import csv\n",
    "import json\n",
    "import shutil\n",
    "import random\n",
    "import argparse\n",
    "from datetime import datetime\n",
    "import pandas as pd\n",
    "import time\n",
    "import torch\n",
    "import torch.nn as nn\n",
    "import torch.nn.functional as F\n",
    "from torch.utils.data import Dataset, DataLoader, TensorDataset\n",
    "from torch.optim import Adam\n",
    "import numpy as np\n",
    "import warnings\n",
    "warnings.filterwarnings('ignore')"
   ]
  },
  {
   "cell_type": "code",
   "execution_count": 4,
   "metadata": {},
   "outputs": [],
   "source": [
    "def lwm_inference(preprocessed_chs, input_type, lwm_model, device):\n",
    "    \n",
    "    dataset = prepare_for_lwm(preprocessed_chs, device)\n",
    "    # Process data through LWM\n",
    "    lwm_loss, embedding_data = evaluate(lwm_model, dataset)\n",
    "    # print(f'LWM loss: {lwm_loss:.4f}')\n",
    "    \n",
    "    if input_type == 'cls_emb':\n",
    "        embedding_data = embedding_data[:, 0]\n",
    "    elif input_type == 'channel_emb':  \n",
    "        embedding_data = embedding_data[:, 1:]\n",
    "    \n",
    "    dataset = embedding_data.float()\n",
    "    return dataset"
   ]
  },
  {
   "cell_type": "code",
   "execution_count": 5,
   "metadata": {},
   "outputs": [],
   "source": [
    "def prepare_for_lwm(data, device, batch_size=64, shuffle=False):\n",
    "    input_ids, masked_tokens, masked_pos = zip(*data)\n",
    "    \n",
    "    input_ids_tensor = torch.tensor(input_ids, device=device).float() \n",
    "    masked_tokens_tensor = torch.tensor(masked_tokens, device=device).float() \n",
    "    masked_pos_tensor = torch.tensor(masked_pos, device=device).long()\n",
    "    dataset = TensorDataset(input_ids_tensor, masked_tokens_tensor, masked_pos_tensor)\n",
    "    \n",
    "    return DataLoader(dataset, batch_size=batch_size, shuffle=shuffle)"
   ]
  },
  {
   "cell_type": "code",
   "execution_count": 6,
   "metadata": {},
   "outputs": [],
   "source": [
    "def evaluate(model, dataloader):\n",
    "    model.eval()\n",
    "    running_loss = 0.0\n",
    "    outputs = []\n",
    "    criterionMCM = nn.MSELoss()\n",
    "    \n",
    "    with torch.no_grad():\n",
    "        for idx, batch in enumerate(dataloader):\n",
    "            input_ids = batch[0]\n",
    "            masked_tokens = batch[1]\n",
    "            masked_pos = batch[2]\n",
    "            logits_lm, output = model(input_ids, masked_pos)\n",
    "            \n",
    "            output_batch_preproc = output \n",
    "            outputs.append(output_batch_preproc)\n",
    "            loss_lm = criterionMCM(logits_lm, masked_tokens)\n",
    "            loss = loss_lm / torch.var(masked_tokens)  \n",
    "            running_loss += loss.item()\n",
    "            \n",
    "    average_loss = running_loss / len(dataloader)\n",
    "    output_total = torch.cat(outputs, dim=0)\n",
    "    \n",
    "    return average_loss, output_total"
   ]
  },
  {
   "cell_type": "code",
   "execution_count": 7,
   "metadata": {},
   "outputs": [],
   "source": [
    "def create_raw_dataset(data, device):\n",
    "    \"\"\"Create a dataset for raw channel data.\"\"\"\n",
    "    input_ids, _, _ = zip(*data)\n",
    "    input_data = torch.tensor(input_ids, device=device)[:, 1:]  \n",
    "    return input_data.float()\n",
    "    "
   ]
  },
  {
   "cell_type": "code",
   "execution_count": null,
   "metadata": {},
   "outputs": [],
   "source": []
  }
 ],
 "metadata": {
  "kernelspec": {
   "display_name": "Python 3 (ipykernel)",
   "language": "python",
   "name": "python3"
  },
  "language_info": {
   "codemirror_mode": {
    "name": "ipython",
    "version": 3
   },
   "file_extension": ".py",
   "mimetype": "text/x-python",
   "name": "python",
   "nbconvert_exporter": "python",
   "pygments_lexer": "ipython3",
   "version": "3.11.3"
  }
 },
 "nbformat": 4,
 "nbformat_minor": 2
}
