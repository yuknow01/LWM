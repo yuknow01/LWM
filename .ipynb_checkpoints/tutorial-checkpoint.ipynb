{
 "cells": [
  {
   "cell_type": "code",
   "execution_count": 1,
   "metadata": {},
   "outputs": [],
   "source": [
    "import subprocess\n",
    "import os\n",
    "import shutil"
   ]
  },
  {
   "cell_type": "code",
   "execution_count": 2,
   "metadata": {},
   "outputs": [],
   "source": [
    "def clone_dataset_scenario(repo_url, model_repo_dir=\"./LWM\", scenarios_dir=\"scenarios\"):\n",
    "    \"\"\"\n",
    "    Clones all scenarios from a repository, ensuring all files (small and large) are downloaded.\n",
    "    Args:\n",
    "        repo_url (str): URL of the Git repository\n",
    "        model_repo_dir (str): Path to the model repository\n",
    "        scenarios_dir (str): Directory name for storing scenarios\n",
    "    \"\"\"\n",
    "    current_dir = os.path.basename(os.getcwd())\n",
    "    if current_dir == \"LWM\":\n",
    "        model_repo_dir = \".\"\n",
    "    scenarios_path = os.path.join(model_repo_dir, scenarios_dir)\n",
    "    os.makedirs(scenarios_path, exist_ok=True)\n",
    "    original_dir = os.getcwd()\n",
    "    try:\n",
    "        if os.path.exists(scenarios_path):\n",
    "            shutil.rmtree(scenarios_path)\n",
    "        print(\"Cloning entire repository into temporary directory ...\")\n",
    "        subprocess.run([\n",
    "            \"git\", \"clone\",\n",
    "            repo_url,\n",
    "            scenarios_path\n",
    "        ], check=True)\n",
    "        os.chdir(scenarios_path)\n",
    "        print(\"Pulling all files using Git LFS ...\")\n",
    "        subprocess.run([\"git\", \"lfs\", \"install\"], check=True) \n",
    "        subprocess.run([\"git\", \"lfs\", \"pull\"], check=True) \n",
    "        print(f\"Successfully cloned all scenarios into {scenarios_path}\")\n",
    "    except subprocess.CalledProcessError as e:\n",
    "        print(f\"Error cloning scenarios: {str(e)}\")\n",
    "    finally:\n",
    "        if os.path.exists(scenarios_path):\n",
    "            shutil.rmtree(scenarios_path)\n",
    "        os.chdir(original_dir)\n",
    "#%%\n",
    "model_repo_url = \"https://huggingface.co/wi-lab/lwm\"\n",
    "model_repo_dir = \"./LWM\""
   ]
  },
  {
   "cell_type": "code",
   "execution_count": 3,
   "metadata": {},
   "outputs": [
    {
     "name": "stdout",
     "output_type": "stream",
     "text": [
      "Cloning model repository from https://huggingface.co/wi-lab/lwm...\n",
      "Cloning entire repository into temporary directory ...\n",
      "Pulling all files using Git LFS ...\n",
      "Successfully cloned all scenarios into .\\scenarios\n",
      "Changed working directory to C:\\Users\\dlghd\\졸업프로젝트\\LWM\\LWM\n"
     ]
    },
    {
     "ename": "ModuleNotFoundError",
     "evalue": "No module named 'umap'",
     "output_type": "error",
     "traceback": [
      "\u001b[1;31m---------------------------------------------------------------------------\u001b[0m",
      "\u001b[1;31mModuleNotFoundError\u001b[0m                       Traceback (most recent call last)",
      "Cell \u001b[1;32mIn[3], line 15\u001b[0m\n\u001b[0;32m     13\u001b[0m     \u001b[38;5;28mprint\u001b[39m(\u001b[38;5;124mf\u001b[39m\u001b[38;5;124m\"\u001b[39m\u001b[38;5;124mDirectory \u001b[39m\u001b[38;5;132;01m{\u001b[39;00mmodel_repo_dir\u001b[38;5;132;01m}\u001b[39;00m\u001b[38;5;124m does not exist. Please check if the repository is cloned properly.\u001b[39m\u001b[38;5;124m\"\u001b[39m)\n\u001b[0;32m     14\u001b[0m \u001b[38;5;66;03m#%%\u001b[39;00m\n\u001b[1;32m---> 15\u001b[0m \u001b[38;5;28;01mfrom\u001b[39;00m \u001b[38;5;21;01minput_preprocess\u001b[39;00m \u001b[38;5;28;01mimport\u001b[39;00m tokenizer\n\u001b[0;32m     16\u001b[0m \u001b[38;5;28;01mfrom\u001b[39;00m \u001b[38;5;21;01mlwm_model\u001b[39;00m \u001b[38;5;28;01mimport\u001b[39;00m lwm\n\u001b[0;32m     17\u001b[0m \u001b[38;5;28;01mimport\u001b[39;00m \u001b[38;5;21;01mtorch\u001b[39;00m\n",
      "File \u001b[1;32m~\\졸업프로젝트\\LWM\\input_preprocess.py:18\u001b[0m\n\u001b[0;32m     16\u001b[0m \u001b[38;5;28;01mimport\u001b[39;00m \u001b[38;5;21;01mDeepMIMOv3\u001b[39;00m\n\u001b[0;32m     17\u001b[0m \u001b[38;5;28;01mimport\u001b[39;00m \u001b[38;5;21;01mtorch\u001b[39;00m\n\u001b[1;32m---> 18\u001b[0m \u001b[38;5;28;01mfrom\u001b[39;00m \u001b[38;5;21;01mutils\u001b[39;00m \u001b[38;5;28;01mimport\u001b[39;00m plot_coverage, generate_gaussian_noise\n\u001b[0;32m     19\u001b[0m \u001b[38;5;66;03m#%% Scenarios List\u001b[39;00m\n\u001b[0;32m     20\u001b[0m \u001b[38;5;28;01mdef\u001b[39;00m \u001b[38;5;21mscenarios_list\u001b[39m():\n",
      "File \u001b[1;32m~\\졸업프로젝트\\LWM\\utils.py:6\u001b[0m\n\u001b[0;32m      4\u001b[0m \u001b[38;5;28;01mfrom\u001b[39;00m \u001b[38;5;21;01msklearn\u001b[39;00m\u001b[38;5;21;01m.\u001b[39;00m\u001b[38;5;21;01mdecomposition\u001b[39;00m \u001b[38;5;28;01mimport\u001b[39;00m PCA\n\u001b[0;32m      5\u001b[0m \u001b[38;5;28;01mfrom\u001b[39;00m \u001b[38;5;21;01msklearn\u001b[39;00m\u001b[38;5;21;01m.\u001b[39;00m\u001b[38;5;21;01mmanifold\u001b[39;00m \u001b[38;5;28;01mimport\u001b[39;00m TSNE\n\u001b[1;32m----> 6\u001b[0m \u001b[38;5;28;01mimport\u001b[39;00m \u001b[38;5;21;01mumap\u001b[39;00m\n\u001b[0;32m      7\u001b[0m \u001b[38;5;66;03m#%%\u001b[39;00m\n\u001b[0;32m      8\u001b[0m \u001b[38;5;28;01mdef\u001b[39;00m \u001b[38;5;21mplot_dimensionality_reduction\u001b[39m(tensor, method\u001b[38;5;241m=\u001b[39m\u001b[38;5;124m'\u001b[39m\u001b[38;5;124mall\u001b[39m\u001b[38;5;124m'\u001b[39m, labels\u001b[38;5;241m=\u001b[39m\u001b[38;5;28;01mNone\u001b[39;00m, input_type\u001b[38;5;241m=\u001b[39m\u001b[38;5;124m'\u001b[39m\u001b[38;5;124mUnknown\u001b[39m\u001b[38;5;124m'\u001b[39m, task\u001b[38;5;241m=\u001b[39m\u001b[38;5;124m'\u001b[39m\u001b[38;5;124mUnknown\u001b[39m\u001b[38;5;124m'\u001b[39m):\n",
      "\u001b[1;31mModuleNotFoundError\u001b[0m: No module named 'umap'"
     ]
    }
   ],
   "source": [
    "if not os.path.exists(model_repo_dir):\n",
    "    print(f\"Cloning model repository from {model_repo_url}...\")\n",
    "    subprocess.run([\"git\", \"clone\", model_repo_url, model_repo_dir], check=True)\n",
    "#%%\n",
    "import numpy as np\n",
    "dataset_repo_url = \"https://huggingface.co/datasets/wi-lab/lwm\" \n",
    "clone_dataset_scenario(dataset_repo_url, model_repo_dir)\n",
    "#%%\n",
    "if os.path.exists(model_repo_dir):\n",
    "    os.chdir(model_repo_dir)\n",
    "    print(f\"Changed working directory to {os.getcwd()}\")\n",
    "else:\n",
    "    print(f\"Directory {model_repo_dir} does not exist. Please check if the repository is cloned properly.\")\n",
    "#%%\n",
    "from input_preprocess import tokenizer\n",
    "from lwm_model import lwm\n",
    "import torch"
   ]
  },
  {
   "cell_type": "code",
   "execution_count": null,
   "metadata": {},
   "outputs": [],
   "source": [
    "scenario_names = np.array([\n",
    "    \"city_18_denver\", \"city_15_indianapolis\", \"city_19_oklahoma\", \n",
    "    \"city_12_fortworth\", \"city_11_santaclara\", \"city_7_sandiego\"\n",
    "])\n",
    "scenario_idxs = np.array([0, 1, 2, 3, 4, 5])[3] \n",
    "selected_scenario_names = scenario_names[scenario_idxs]"
   ]
  },
  {
   "cell_type": "code",
   "execution_count": null,
   "metadata": {},
   "outputs": [],
   "source": [
    "snr_db = None"
   ]
  },
  {
   "cell_type": "code",
   "execution_count": null,
   "metadata": {},
   "outputs": [],
   "source": [
    "preprocessed_chs = tokenizer(\n",
    "    selected_scenario_names=selected_scenario_names,\n",
    "    manual_data=None,\n",
    "    gen_raw=True,\n",
    "    snr_db=snr_db\n",
    ")"
   ]
  },
  {
   "cell_type": "code",
   "execution_count": null,
   "metadata": {},
   "outputs": [],
   "source": [
    "device = 'cuda' if torch.cuda.is_available() else 'cpu'\n",
    "print(f\"Loading the LWM model on {device} ...\")\n",
    "model = lwm.from_pretrained(device=device)\n",
    "#%%\n",
    "from inference import lwm_inference, create_raw_dataset\n",
    "input_types = ['cls_emb', 'channel_emb', 'raw']\n",
    "selected_input_type = input_types[1] "
   ]
  },
  {
   "cell_type": "code",
   "execution_count": null,
   "metadata": {},
   "outputs": [],
   "source": [
    "if selected_input_type in ['cls_emb', 'channel_emb']:\n",
    "    dataset = lwm_inference(preprocessed_chs, selected_input_type, model, device)\n",
    "else:\n",
    "    dataset = create_raw_dataset(preprocessed_chs, device)\n",
    "#%%\n",
    "from input_preprocess import create_labels\n",
    "n_beams = 16\n",
    "tasks = ['LoS/NLoS Classification', 'Beam Prediction']\n",
    "task = tasks[0]\n",
    "labels = create_labels(task, selected_scenario_names, n_beams=n_beams) \n",
    "# %% Dimensionality Reduction Visualization"
   ]
  },
  {
   "cell_type": "markdown",
   "metadata": {},
   "source": [
    "Import the dimensionality reduction plotting function"
   ]
  },
  {
   "cell_type": "code",
   "execution_count": null,
   "metadata": {},
   "outputs": [],
   "source": [
    "from utils import plot_dimensionality_reduction"
   ]
  },
  {
   "cell_type": "markdown",
   "metadata": {},
   "source": [
    "Iterate over tasks (e.g., LoS/NLoS Classification, Beam Prediction)"
   ]
  },
  {
   "cell_type": "code",
   "execution_count": null,
   "metadata": {},
   "outputs": [],
   "source": [
    "for task in tasks:\n",
    "    \n",
    "    # Create labels for the current task\n",
    "    labels = create_labels(task, selected_scenario_names, n_beams=n_beams)\n",
    "    \n",
    "    # Iterate over input types (e.g., raw data or embeddings)\n",
    "    for input_type_idx, input_type in enumerate(input_types):\n",
    "        \n",
    "        # Select the current input type\n",
    "        selected_input_type = input_types[input_type_idx]\n",
    "        \n",
    "        # Prepare dataset based on input type\n",
    "        if selected_input_type in ['cls_emb', 'channel_emb']:\n",
    "            dataset = lwm_inference(\n",
    "                preprocessed_chs, \n",
    "                selected_input_type, \n",
    "                model, \n",
    "                device\n",
    "            )\n",
    "        else:\n",
    "            dataset = create_raw_dataset(preprocessed_chs, device)\n",
    "        \n",
    "        # Plot dimensionality reduction for the dataset\n",
    "        plot_dimensionality_reduction(\n",
    "            dataset, \n",
    "            method='all',  # Use all available dimensionality reduction methods\n",
    "            labels=labels,  # Labels for visualization\n",
    "            task=task,  # Current task (for title or labeling)\n",
    "            input_type=input_type  # Current input type (for title or labeling)\n",
    "        )\n",
    "        \n",
    "#%% TRAINING\n",
    "#%% TRAINING PARAMETERS\n",
    "task = ['LoS/NLoS Classification', 'Beam Prediction'][0] # Select the task\n",
    "n_trials = 1  # Number of trials for each configuration\n",
    "num_classes = 2 if task == 'LoS/NLoS Classification' else n_beams  # Set number of classes based on the task\n",
    "input_types = ['raw', 'cls_emb']  # Types of input data\n",
    "split_ratios = np.array([.005, .0075, .01, .015, .02, .03, \n",
    "                         .05, .1, .25, .5, .8])  # Dataset split ratios\n",
    "f1_scores = np.zeros((n_trials, len(input_types), len(split_ratios)))  # Store F1 scores for each trial, input type, and split ratio\n",
    "labels = create_labels(task, selected_scenario_names, n_beams=n_beams)  # Create labels for the selected task"
   ]
  },
  {
   "cell_type": "markdown",
   "metadata": {},
   "source": [
    "% TRAINING"
   ]
  },
  {
   "cell_type": "code",
   "execution_count": null,
   "metadata": {},
   "outputs": [],
   "source": [
    "from utils import get_data_loaders, FCN, train_model, plot_metrics"
   ]
  },
  {
   "cell_type": "markdown",
   "metadata": {},
   "source": [
    "Iterate over input types (e.g., raw data or embeddings)"
   ]
  },
  {
   "cell_type": "code",
   "execution_count": null,
   "metadata": {},
   "outputs": [],
   "source": [
    "for input_type_idx, input_type in enumerate(input_types):\n",
    "    \n",
    "    # Prepare dataset based on input type\n",
    "    if input_type in ['cls_emb', 'channel_emb']:\n",
    "        dataset = lwm_inference(preprocessed_chs, input_type, model, device)\n",
    "    else:\n",
    "        dataset = create_raw_dataset(preprocessed_chs, device)\n",
    "    \n",
    "    # Reshape dataset for training\n",
    "    dataset = dataset.view(dataset.size(0), -1)\n",
    "    input_dim = dataset.shape[-1]  # Get input dimension for the model\n",
    "    \n",
    "    # Iterate over different dataset split ratios\n",
    "    for split_ratio_idx, split_ratio in enumerate(split_ratios):\n",
    "        \n",
    "        n_train = int(split_ratio * dataset.shape[0])  # Calculate number of training samples\n",
    "        \n",
    "        # Run multiple trials for each split ratio\n",
    "        for trial in range(n_trials):\n",
    "            \n",
    "            print(f\"\\ninput type: {input_type}, \\nnumber of training samples: {int(split_ratio*len(dataset))}, \\ntrial: {trial}\\n\")\n",
    "            \n",
    "            torch.manual_seed(trial)  # Set seed for reproducibility\n",
    "            \n",
    "            if snr_db is not None:\n",
    "                preprocessed_chs = tokenizer(\n",
    "                    selected_scenario_names=selected_scenario_names,\n",
    "                    manual_data=None,\n",
    "                    gen_raw=True,\n",
    "                    snr_db=snr_db\n",
    "                )\n",
    "                if input_type in ['cls_emb', 'channel_emb']:\n",
    "                    dataset = lwm_inference(preprocessed_chs, input_type, model, device)\n",
    "                else:\n",
    "                    dataset = create_raw_dataset(preprocessed_chs, device)\n",
    "                dataset = dataset.view(dataset.size(0), -1)\n",
    "                \n",
    "            train_loader, test_loader = get_data_loaders(\n",
    "                dataset, \n",
    "                labels, \n",
    "                batch_size=128, \n",
    "                split_ratio=split_ratio\n",
    "            )\n",
    "            \n",
    "            # Initialize the Fully Connected Network (FCN) model\n",
    "            FCN_model = FCN(input_dim=input_dim, num_classes=num_classes)\n",
    "            \n",
    "            # Train the model and retrieve losses and F1 scores\n",
    "            train_losses, test_f1_scores = train_model(\n",
    "                FCN_model, \n",
    "                train_loader, \n",
    "                test_loader, \n",
    "                epochs=120, \n",
    "                lr=0.0001 if input_type == \"raw\" else 0.001,  # Learning rate depends on input type\n",
    "                device=device, \n",
    "                decay_step=30, \n",
    "                decay_rate=0.5\n",
    "            )\n",
    "            \n",
    "            # Store the final F1 score for this trial\n",
    "            f1_scores[trial, input_type_idx, split_ratio_idx] = test_f1_scores[0, -1]\n",
    "            \n",
    "            # Plot metrics for the current trial\n",
    "            # plot_metrics(test_f1_scores, [input_type])"
   ]
  },
  {
   "cell_type": "markdown",
   "metadata": {},
   "source": [
    "Plot average F1 scores across all trials for each input type and split ratio"
   ]
  },
  {
   "cell_type": "code",
   "execution_count": null,
   "metadata": {},
   "outputs": [],
   "source": [
    "plot_metrics(\n",
    "    np.mean(f1_scores, axis=0),  # Average F1 scores across trials\n",
    "    input_types, \n",
    "    np.asarray(split_ratios * dataset.shape[0], dtype=int),  # Convert split ratios to actual sample counts\n",
    "    flag=1\n",
    ")"
   ]
  },
  {
   "cell_type": "markdown",
   "metadata": {},
   "source": [
    "%% Few-Shot Learning with Pretrained Embeddings"
   ]
  },
  {
   "cell_type": "markdown",
   "metadata": {},
   "source": [
    "Initialize array to store F1 scores for KNN classification"
   ]
  },
  {
   "cell_type": "code",
   "execution_count": null,
   "metadata": {},
   "outputs": [],
   "source": [
    "f1_scores_knn = np.zeros((n_trials, len(input_types), len(split_ratios)))"
   ]
  },
  {
   "cell_type": "markdown",
   "metadata": {},
   "source": [
    "Import the classification function"
   ]
  },
  {
   "cell_type": "code",
   "execution_count": null,
   "metadata": {},
   "outputs": [],
   "source": [
    "from utils import classify_by_euclidean_distance"
   ]
  },
  {
   "cell_type": "markdown",
   "metadata": {},
   "source": [
    "Iterate over input types (e.g., raw data or embeddings)"
   ]
  },
  {
   "cell_type": "code",
   "execution_count": null,
   "metadata": {},
   "outputs": [],
   "source": [
    "for input_type_idx, input_type in enumerate(input_types):\n",
    "    \n",
    "    # Prepare dataset based on input type\n",
    "    if input_type in ['cls_emb', 'channel_emb']:\n",
    "        dataset = lwm_inference(preprocessed_chs, input_type, model, device)\n",
    "    else:\n",
    "        dataset = create_raw_dataset(preprocessed_chs, device)\n",
    "    \n",
    "    # Reshape dataset for compatibility\n",
    "    dataset = dataset.view(dataset.size(0), -1)\n",
    "    input_dim = dataset.shape[-1]  # Get input dimension\n",
    "    \n",
    "    # Iterate over different dataset split ratios\n",
    "    for split_ratio_idx, split_ratio in enumerate(split_ratios):\n",
    "        \n",
    "        n_train = int(split_ratio * dataset.shape[0])  # Calculate number of training samples\n",
    "        \n",
    "        # Run multiple trials for each split ratio\n",
    "        for trial in range(n_trials):\n",
    "            \n",
    "            torch.manual_seed(trial)  # Set seed for reproducibility\n",
    "            \n",
    "            if snr_db is not None:\n",
    "                preprocessed_chs = tokenizer(\n",
    "                    selected_scenario_names=selected_scenario_names,\n",
    "                    manual_data=None,\n",
    "                    gen_raw=True,\n",
    "                    snr_db=snr_db\n",
    "                )\n",
    "                if input_type in ['cls_emb', 'channel_emb']:\n",
    "                    dataset = lwm_inference(preprocessed_chs, input_type, model, device)\n",
    "                else:\n",
    "                    dataset = create_raw_dataset(preprocessed_chs, device)\n",
    "                dataset = dataset.view(dataset.size(0), -1)\n",
    "            \n",
    "            train_loader, test_loader = get_data_loaders(\n",
    "                dataset, \n",
    "                labels, \n",
    "                batch_size=128, \n",
    "                split_ratio=split_ratio\n",
    "            )\n",
    "            \n",
    "            # Perform classification using Euclidean distance\n",
    "            f1 = classify_by_euclidean_distance(\n",
    "                train_loader, \n",
    "                test_loader, \n",
    "                device=\"cpu\"\n",
    "            )\n",
    "            \n",
    "            # Store the F1 score for this trial\n",
    "            f1_scores_knn[trial, input_type_idx, split_ratio_idx] = f1"
   ]
  },
  {
   "cell_type": "markdown",
   "metadata": {},
   "source": [
    "Plot average F1 scores across all trials for each input type and split ratio"
   ]
  },
  {
   "cell_type": "code",
   "execution_count": null,
   "metadata": {},
   "outputs": [],
   "source": [
    "plot_metrics(\n",
    "    np.mean(f1_scores_knn, axis=0),  # Average F1 scores across trials\n",
    "    input_types, \n",
    "    np.asarray(split_ratios * dataset.shape[0], dtype=int),  # Convert split ratios to actual sample counts\n",
    "    flag=1\n",
    ")"
   ]
  },
  {
   "cell_type": "code",
   "execution_count": null,
   "metadata": {},
   "outputs": [],
   "source": []
  }
 ],
 "metadata": {
  "kernelspec": {
   "display_name": "Python 3 (ipykernel)",
   "language": "python",
   "name": "python3"
  },
  "language_info": {
   "codemirror_mode": {
    "name": "ipython",
    "version": 3
   },
   "file_extension": ".py",
   "mimetype": "text/x-python",
   "name": "python",
   "nbconvert_exporter": "python",
   "pygments_lexer": "ipython3",
   "version": "3.11.3"
  }
 },
 "nbformat": 4,
 "nbformat_minor": 2
}
