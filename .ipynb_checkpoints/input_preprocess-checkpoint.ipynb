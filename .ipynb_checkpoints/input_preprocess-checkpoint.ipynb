{
 "cells": [
  {
   "cell_type": "markdown",
   "metadata": {},
   "source": [
    "# -*- coding: utf-8 -*-\n",
    "\"\"\"\n",
    "Created on Fri Sep 13 16:13:29 2024"
   ]
  },
  {
   "cell_type": "markdown",
   "metadata": {},
   "source": [
    "This script generates preprocessed data from wireless communication scenarios, \n",
    "including token generation, patch creation, and data sampling for machine learning models."
   ]
  },
  {
   "cell_type": "markdown",
   "metadata": {},
   "source": [
    "@author: salikha4\n",
    "\"\"\""
   ]
  },
  {
   "cell_type": "code",
   "execution_count": 1,
   "metadata": {},
   "outputs": [
    {
     "ename": "ModuleNotFoundError",
     "evalue": "No module named 'umap'",
     "output_type": "error",
     "traceback": [
      "\u001b[1;31m---------------------------------------------------------------------------\u001b[0m",
      "\u001b[1;31mModuleNotFoundError\u001b[0m                       Traceback (most recent call last)",
      "Cell \u001b[1;32mIn[1], line 8\u001b[0m\n\u001b[0;32m      6\u001b[0m \u001b[38;5;28;01mimport\u001b[39;00m \u001b[38;5;21;01mDeepMIMOv3\u001b[39;00m\n\u001b[0;32m      7\u001b[0m \u001b[38;5;28;01mimport\u001b[39;00m \u001b[38;5;21;01mtorch\u001b[39;00m\n\u001b[1;32m----> 8\u001b[0m \u001b[38;5;28;01mfrom\u001b[39;00m \u001b[38;5;21;01mutils\u001b[39;00m \u001b[38;5;28;01mimport\u001b[39;00m plot_coverage, generate_gaussian_noise\n\u001b[0;32m      9\u001b[0m \u001b[38;5;66;03m#%% Scenarios List\u001b[39;00m\n\u001b[0;32m     10\u001b[0m \u001b[38;5;28;01mdef\u001b[39;00m \u001b[38;5;21mscenarios_list\u001b[39m():\n",
      "File \u001b[1;32m~\\졸업프로젝트\\LWM\\utils.py:6\u001b[0m\n\u001b[0;32m      4\u001b[0m \u001b[38;5;28;01mfrom\u001b[39;00m \u001b[38;5;21;01msklearn\u001b[39;00m\u001b[38;5;21;01m.\u001b[39;00m\u001b[38;5;21;01mdecomposition\u001b[39;00m \u001b[38;5;28;01mimport\u001b[39;00m PCA\n\u001b[0;32m      5\u001b[0m \u001b[38;5;28;01mfrom\u001b[39;00m \u001b[38;5;21;01msklearn\u001b[39;00m\u001b[38;5;21;01m.\u001b[39;00m\u001b[38;5;21;01mmanifold\u001b[39;00m \u001b[38;5;28;01mimport\u001b[39;00m TSNE\n\u001b[1;32m----> 6\u001b[0m \u001b[38;5;28;01mimport\u001b[39;00m \u001b[38;5;21;01mumap\u001b[39;00m\n\u001b[0;32m      7\u001b[0m \u001b[38;5;66;03m#%%\u001b[39;00m\n\u001b[0;32m      8\u001b[0m \u001b[38;5;28;01mdef\u001b[39;00m \u001b[38;5;21mplot_dimensionality_reduction\u001b[39m(tensor, method\u001b[38;5;241m=\u001b[39m\u001b[38;5;124m'\u001b[39m\u001b[38;5;124mall\u001b[39m\u001b[38;5;124m'\u001b[39m, labels\u001b[38;5;241m=\u001b[39m\u001b[38;5;28;01mNone\u001b[39;00m, input_type\u001b[38;5;241m=\u001b[39m\u001b[38;5;124m'\u001b[39m\u001b[38;5;124mUnknown\u001b[39m\u001b[38;5;124m'\u001b[39m, task\u001b[38;5;241m=\u001b[39m\u001b[38;5;124m'\u001b[39m\u001b[38;5;124mUnknown\u001b[39m\u001b[38;5;124m'\u001b[39m):\n",
      "\u001b[1;31mModuleNotFoundError\u001b[0m: No module named 'umap'"
     ]
    }
   ],
   "source": [
    "import numpy as np\n",
    "import os\n",
    "from tqdm import tqdm\n",
    "import time\n",
    "import pickle\n",
    "import DeepMIMOv3\n",
    "import torch\n",
    "from utils import plot_coverage, generate_gaussian_noise\n",
    "#%% Scenarios List\n",
    "def scenarios_list():\n",
    "    \"\"\"Returns an array of available scenarios.\"\"\"\n",
    "    return np.array([\n",
    "        'city_18_denver', 'city_15_indianapolis', 'city_19_oklahoma', \n",
    "        'city_12_fortworth', 'city_11_santaclara', 'city_7_sandiego'\n",
    "    ])"
   ]
  },
  {
   "cell_type": "markdown",
   "metadata": {},
   "source": [
    "% Token Generation"
   ]
  },
  {
   "cell_type": "code",
   "execution_count": null,
   "metadata": {},
   "outputs": [],
   "source": [
    "def tokenizer(selected_scenario_names=None, manual_data=None, gen_raw=True, snr_db=None):\n",
    "    \"\"\"\n",
    "    Generates tokens by preparing and preprocessing the dataset.\n",
    "    Args:\n",
    "        scenario_idxs (list): Indices of the scenarios.\n",
    "        patch_gen (bool): Whether to generate patches. Defaults to True.\n",
    "        patch_size (int): Size of each patch. Defaults to 16.\n",
    "        gen_deepMIMO_data (bool): Whether to generate DeepMIMO data. Defaults to False.\n",
    "        gen_raw (bool): Whether to generate raw data. Defaults to False.\n",
    "        save_data (bool): Whether to save the preprocessed data. Defaults to False.\n",
    "    \n",
    "    Returns:\n",
    "        preprocessed_data, sequence_length, element_length: Preprocessed data and related dimensions.\n",
    "    \"\"\"\n",
    "    if manual_data is not None:\n",
    "        patches = patch_maker(np.expand_dims(np.array(manual_data), axis=1), snr_db=snr_db)\n",
    "    else:\n",
    "        # Patch generation or loading\n",
    "        if isinstance(selected_scenario_names, str):\n",
    "            selected_scenario_names = [selected_scenario_names]\n",
    "        deepmimo_data = [DeepMIMO_data_gen(scenario_name) for scenario_name in selected_scenario_names]\n",
    "        n_scenarios = len(selected_scenario_names)\n",
    "        \n",
    "        cleaned_deepmimo_data = [deepmimo_data_cleaning(deepmimo_data[scenario_idx]) for scenario_idx in range(n_scenarios)]\n",
    "        \n",
    "        patches = [patch_maker(cleaned_deepmimo_data[scenario_idx], snr_db=snr_db) for scenario_idx in range(n_scenarios)]\n",
    "        patches = np.vstack(patches)\n",
    "\n",
    "    # Define dimensions\n",
    "    patch_size = patches.shape[2]\n",
    "    n_patches = patches.shape[1]\n",
    "    n_masks_half = int(0.15 * n_patches / 2)\n",
    "    \n",
    "    word2id = {'[CLS]': 0.2 * np.ones((patch_size)), '[MASK]': 0.1 * np.ones((patch_size))}\n",
    "\n",
    "    # Generate preprocessed channels\n",
    "    preprocessed_data = []\n",
    "    for user_idx in tqdm(range(len(patches)), desc=\"Processing items\"):\n",
    "        sample = make_sample(user_idx, patches, word2id, n_patches, n_masks_half, patch_size, gen_raw=gen_raw)\n",
    "        preprocessed_data.append(sample)\n",
    "            \n",
    "    return preprocessed_data"
   ]
  },
  {
   "cell_type": "markdown",
   "metadata": {},
   "source": [
    "%"
   ]
  },
  {
   "cell_type": "code",
   "execution_count": null,
   "metadata": {},
   "outputs": [],
   "source": [
    "def deepmimo_data_cleaning(deepmimo_data):\n",
    "    idxs = np.where(deepmimo_data['user']['LoS'] != -1)[0]\n",
    "    cleaned_deepmimo_data = deepmimo_data['user']['channel'][idxs]\n",
    "    return np.array(cleaned_deepmimo_data) * 1e6"
   ]
  },
  {
   "cell_type": "markdown",
   "metadata": {},
   "source": [
    "% Patch Creation"
   ]
  },
  {
   "cell_type": "code",
   "execution_count": null,
   "metadata": {},
   "outputs": [],
   "source": [
    "def patch_maker(original_ch, patch_size=16, norm_factor=1e6, snr_db=None):\n",
    "    \"\"\"\n",
    "    Creates patches from the dataset based on the scenario.\n",
    "    Args:-\n",
    "        patch_size (int): Size of each patch.\n",
    "        scenario (str): Selected scenario for data generation.\n",
    "        gen_deepMIMO_data (bool): Whether to generate DeepMIMO data.\n",
    "        norm_factor (int): Normalization factor for channels.\n",
    "    Returns:\n",
    "        patch (numpy array): Generated patches.\n",
    "    \"\"\"\n",
    "    flat_channels = original_ch.reshape((original_ch.shape[0], -1)).astype(np.csingle)\n",
    "    if snr_db is not None:\n",
    "        flat_channels += generate_gaussian_noise(flat_channels, snr_db)\n",
    "        \n",
    "    flat_channels_complex = np.hstack((flat_channels.real, flat_channels.imag))\n",
    "        \n",
    "    # Create patches\n",
    "    n_patches = flat_channels_complex.shape[1] // patch_size\n",
    "    patch = np.zeros((len(flat_channels_complex), n_patches, patch_size))\n",
    "    for idx in range(n_patches):\n",
    "        patch[:, idx, :] = flat_channels_complex[:, idx * patch_size:(idx + 1) * patch_size]\n",
    "    \n",
    "    return patch"
   ]
  },
  {
   "cell_type": "markdown",
   "metadata": {},
   "source": [
    "% Data Generation for Scenario Areas"
   ]
  },
  {
   "cell_type": "code",
   "execution_count": null,
   "metadata": {},
   "outputs": [],
   "source": [
    "def DeepMIMO_data_gen(scenario):\n",
    "    \"\"\"\n",
    "    Generates or loads data for a given scenario.\n",
    "    Args:\n",
    "        scenario (str): Scenario name.\n",
    "        gen_deepMIMO_data (bool): Whether to generate DeepMIMO data.\n",
    "        save_data (bool): Whether to save generated data.\n",
    "    \n",
    "    Returns:\n",
    "        data (dict): Loaded or generated data.\n",
    "    \"\"\"\n",
    "    import DeepMIMOv3\n",
    "    \n",
    "    parameters, row_column_users, n_ant_bs, n_ant_ue, n_subcarriers = get_parameters(scenario)\n",
    "    \n",
    "    deepMIMO_dataset = DeepMIMOv3.generate_data(parameters)\n",
    "    uniform_idxs = uniform_sampling(deepMIMO_dataset, [1, 1], len(parameters['user_rows']), \n",
    "                                    users_per_row=row_column_users[scenario]['n_per_row'])\n",
    "    data = select_by_idx(deepMIMO_dataset, uniform_idxs)[0]\n",
    "        \n",
    "    return data"
   ]
  },
  {
   "cell_type": "markdown",
   "metadata": {},
   "source": [
    "%%"
   ]
  },
  {
   "cell_type": "code",
   "execution_count": null,
   "metadata": {},
   "outputs": [],
   "source": [
    "def get_parameters(scenario):\n",
    "    \n",
    "    n_ant_bs = 32 \n",
    "    n_ant_ue = 1\n",
    "    n_subcarriers = 32 \n",
    "    scs = 30e3\n",
    "        \n",
    "    row_column_users = {\n",
    "    'city_18_denver': {\n",
    "        'n_rows': 85,\n",
    "        'n_per_row': 82\n",
    "    },\n",
    "    'city_15_indianapolis': {\n",
    "        'n_rows': 80,\n",
    "        'n_per_row': 79\n",
    "    },\n",
    "    'city_19_oklahoma': {\n",
    "        'n_rows': 82,\n",
    "        'n_per_row': 75\n",
    "    },\n",
    "    'city_12_fortworth': {\n",
    "        'n_rows': 86,\n",
    "        'n_per_row': 72\n",
    "    },\n",
    "    'city_11_santaclara': {\n",
    "        'n_rows': 47,\n",
    "        'n_per_row': 114\n",
    "    },\n",
    "    'city_7_sandiego': {\n",
    "        'n_rows': 71,\n",
    "        'n_per_row': 83\n",
    "    }}\n",
    "    \n",
    "    parameters = DeepMIMOv3.default_params()\n",
    "    parameters['dataset_folder'] = './scenarios'\n",
    "    parameters['scenario'] = scenario\n",
    "    \n",
    "    if scenario == 'O1_3p5':\n",
    "        parameters['active_BS'] = np.array([4])\n",
    "    elif scenario in ['city_18_denver', 'city_15_indianapolis']:\n",
    "        parameters['active_BS'] = np.array([3])\n",
    "    else:\n",
    "        parameters['active_BS'] = np.array([1])\n",
    "        \n",
    "    if scenario == 'Boston5G_3p5':\n",
    "        parameters['user_rows'] = np.arange(row_column_users[scenario]['n_rows'][0],\n",
    "                                            row_column_users[scenario]['n_rows'][1])\n",
    "    else:\n",
    "        parameters['user_rows'] = np.arange(row_column_users[scenario]['n_rows'])\n",
    "    parameters['bs_antenna']['shape'] = np.array([n_ant_bs, 1]) # Horizontal, Vertical \n",
    "    parameters['bs_antenna']['rotation'] = np.array([0,0,-135]) # (x,y,z)\n",
    "    parameters['ue_antenna']['shape'] = np.array([n_ant_ue, 1])\n",
    "    parameters['enable_BS2BS'] = False\n",
    "    parameters['OFDM']['subcarriers'] = n_subcarriers\n",
    "    parameters['OFDM']['selected_subcarriers'] = np.arange(n_subcarriers)\n",
    "    \n",
    "    parameters['OFDM']['bandwidth'] = scs * n_subcarriers / 1e9\n",
    "    parameters['num_paths'] = 20\n",
    "    \n",
    "    return parameters, row_column_users, n_ant_bs, n_ant_ue, n_subcarriers"
   ]
  },
  {
   "cell_type": "markdown",
   "metadata": {},
   "source": [
    "% Sample Generation"
   ]
  },
  {
   "cell_type": "code",
   "execution_count": null,
   "metadata": {},
   "outputs": [],
   "source": [
    "def make_sample(user_idx, patch, word2id, n_patches, n_masks, patch_size, gen_raw=False):\n",
    "    \"\"\"\n",
    "    Generates a sample for each user, including masking and tokenizing.\n",
    "    Args:\n",
    "        user_idx (int): Index of the user.\n",
    "        patch (numpy array): Patches data.\n",
    "        word2id (dict): Dictionary for special tokens.\n",
    "        n_patches (int): Number of patches.\n",
    "        n_masks (int): Number of masks.\n",
    "        patch_size (int): Size of each patch.\n",
    "        gen_raw (bool): Whether to generate raw tokens.\n",
    "    Returns:\n",
    "        sample (list): Generated sample for the user.\n",
    "    \"\"\"\n",
    "    \n",
    "    tokens = patch[user_idx]\n",
    "    input_ids = np.vstack((word2id['[CLS]'], tokens))\n",
    "    \n",
    "    real_tokens_size = int(n_patches / 2)\n",
    "    masks_pos_real = np.random.choice(range(0, real_tokens_size), size=n_masks, replace=False)\n",
    "    masks_pos_imag = masks_pos_real + real_tokens_size\n",
    "    masked_pos = np.hstack((masks_pos_real, masks_pos_imag)) + 1\n",
    "    \n",
    "    masked_tokens = []\n",
    "    for pos in masked_pos:\n",
    "        original_masked_tokens = input_ids[pos].copy()\n",
    "        masked_tokens.append(original_masked_tokens)\n",
    "        if not gen_raw:\n",
    "            rnd_num = np.random.rand()\n",
    "            if rnd_num < 0.1:\n",
    "                input_ids[pos] = np.random.rand(patch_size)\n",
    "            elif rnd_num < 0.9:\n",
    "                input_ids[pos] = word2id['[MASK]']\n",
    "                \n",
    "    return [input_ids, masked_tokens, masked_pos]"
   ]
  },
  {
   "cell_type": "markdown",
   "metadata": {},
   "source": [
    "% Sampling and Data Selection"
   ]
  },
  {
   "cell_type": "code",
   "execution_count": null,
   "metadata": {},
   "outputs": [],
   "source": [
    "def uniform_sampling(dataset, sampling_div, n_rows, users_per_row):\n",
    "    \"\"\"\n",
    "    Performs uniform sampling on the dataset.\n",
    "    Args:\n",
    "        dataset (dict): DeepMIMO dataset.\n",
    "        sampling_div (list): Step sizes along [x, y] dimensions.\n",
    "        n_rows (int): Number of rows for user selection.\n",
    "        users_per_row (int): Number of users per row.\n",
    "    Returns:\n",
    "        uniform_idxs (numpy array): Indices of the selected samples.\n",
    "    \"\"\"\n",
    "    cols = np.arange(users_per_row, step=sampling_div[0])\n",
    "    rows = np.arange(n_rows, step=sampling_div[1])\n",
    "    uniform_idxs = np.array([j + i * users_per_row for i in rows for j in cols])\n",
    "    \n",
    "    return uniform_idxs"
   ]
  },
  {
   "cell_type": "code",
   "execution_count": null,
   "metadata": {},
   "outputs": [],
   "source": [
    "def select_by_idx(dataset, idxs):\n",
    "    \"\"\"\n",
    "    Selects a subset of the dataset based on the provided indices.\n",
    "    Args:\n",
    "        dataset (dict): Dataset to trim.\n",
    "        idxs (numpy array): Indices of users to select.\n",
    "    Returns:\n",
    "        dataset_t (list): Trimmed dataset based on selected indices.\n",
    "    \"\"\"\n",
    "    dataset_t = []  # Trimmed dataset\n",
    "    for bs_idx in range(len(dataset)):\n",
    "        dataset_t.append({})\n",
    "        for key in dataset[bs_idx].keys():\n",
    "            dataset_t[bs_idx]['location'] = dataset[bs_idx]['location']\n",
    "            dataset_t[bs_idx]['user'] = {k: dataset[bs_idx]['user'][k][idxs] for k in dataset[bs_idx]['user']}\n",
    "    \n",
    "    return dataset_t"
   ]
  },
  {
   "cell_type": "markdown",
   "metadata": {},
   "source": [
    "% Save and Load Utilities"
   ]
  },
  {
   "cell_type": "code",
   "execution_count": 2,
   "metadata": {},
   "outputs": [],
   "source": [
    "def save_var(var, path):\n",
    "    \"\"\"\n",
    "    Saves a variable to a pickle file.\n",
    "    Args:\n",
    "        var (object): Variable to be saved.\n",
    "        path (str): Path to save the file.\n",
    "    Returns:\n",
    "        None\n",
    "    \"\"\"\n",
    "    path_full = path if path.endswith('.p') else (path + '.pickle')    \n",
    "    with open(path_full, 'wb') as handle:\n",
    "        pickle.dump(var, handle)"
   ]
  },
  {
   "cell_type": "code",
   "execution_count": 3,
   "metadata": {},
   "outputs": [],
   "source": [
    "def load_var(path):\n",
    "    \"\"\"\n",
    "    Loads a variable from a pickle file.\n",
    "    Args:\n",
    "        path (str): Path of the file to load.\n",
    "    Returns:\n",
    "        var (object): Loaded variable.\n",
    "    \"\"\"\n",
    "    path_full = path if path.endswith('.p') else (path + '.pickle')\n",
    "    with open(path_full, 'rb') as handle:\n",
    "        var = pickle.load(handle)\n",
    "    \n",
    "    return var"
   ]
  },
  {
   "cell_type": "markdown",
   "metadata": {},
   "source": [
    "% Label Generation"
   ]
  },
  {
   "cell_type": "code",
   "execution_count": 4,
   "metadata": {},
   "outputs": [],
   "source": [
    "def label_gen(task, data, scenario, n_beams=64):\n",
    "    \n",
    "    idxs = np.where(data['user']['LoS'] != -1)[0]\n",
    "            \n",
    "    if task == 'LoS/NLoS Classification':\n",
    "        label = data['user']['LoS'][idxs]\n",
    "        \n",
    "        losChs = np.where(data['user']['LoS'] == -1, np.nan, data['user']['LoS'])\n",
    "        plot_coverage(data['user']['location'], losChs)\n",
    "        \n",
    "    elif task == 'Beam Prediction':\n",
    "        parameters, row_column_users = get_parameters(scenario)[:2]\n",
    "        n_users = len(data['user']['channel'])\n",
    "        n_subbands = 1\n",
    "        fov = 180\n",
    "\n",
    "        # Setup Beamformers\n",
    "        beam_angles = np.around(np.arange(-fov/2, fov/2+.1, fov/(n_beams-1)), 2)\n",
    "        F1 = np.array([steering_vec(parameters['bs_antenna']['shape'], \n",
    "                                    phi=azi*np.pi/180, \n",
    "                                    kd=2*np.pi*parameters['bs_antenna']['spacing']).squeeze()\n",
    "                       for azi in beam_angles])\n",
    "        full_dbm = np.zeros((n_beams, n_subbands, n_users), dtype=float)\n",
    "        for ue_idx in tqdm(range(n_users), desc='Computing the channel for each user'):\n",
    "            if data['user']['LoS'][ue_idx] == -1:\n",
    "                full_dbm[:,:,ue_idx] = np.nan\n",
    "            else:\n",
    "                chs = F1 @ data['user']['channel'][ue_idx]\n",
    "                full_linear = np.abs(np.mean(chs.squeeze().reshape((n_beams, n_subbands, -1)), axis=-1))\n",
    "                full_dbm[:,:,ue_idx] = np.around(20*np.log10(full_linear) + 30, 1)\n",
    "        best_beams = np.argmax(np.mean(full_dbm,axis=1), axis=0)\n",
    "        best_beams = best_beams.astype(float)\n",
    "        best_beams[np.isnan(full_dbm[0,0,:])] = np.nan\n",
    "        \n",
    "        plot_coverage(data['user']['location'], best_beams)\n",
    "        \n",
    "        label = best_beams[idxs]\n",
    "        \n",
    "    return label.astype(int)"
   ]
  },
  {
   "cell_type": "code",
   "execution_count": 5,
   "metadata": {},
   "outputs": [],
   "source": [
    "def steering_vec(array, phi=0, theta=0, kd=np.pi):\n",
    "    idxs = DeepMIMOv3.ant_indices(array)\n",
    "    resp = DeepMIMOv3.array_response(idxs, phi, theta+np.pi/2, kd)\n",
    "    return resp / np.linalg.norm(resp)"
   ]
  },
  {
   "cell_type": "code",
   "execution_count": 6,
   "metadata": {},
   "outputs": [],
   "source": [
    "def label_prepend(deepmimo_data, preprocessed_chs, task, scenario_idxs, n_beams=64):\n",
    "    labels = []\n",
    "    for scenario_idx in scenario_idxs:\n",
    "        scenario_name = scenarios_list()[scenario_idx]\n",
    "        data = deepmimo_data[scenario_idx]\n",
    "        labels.extend(label_gen(task, data, scenario_name, n_beams=n_beams))\n",
    "    \n",
    "    preprocessed_chs = [preprocessed_chs[i] + [labels[i]] for i in range(len(preprocessed_chs))]\n",
    "    \n",
    "    return preprocessed_chs"
   ]
  },
  {
   "cell_type": "code",
   "execution_count": 7,
   "metadata": {},
   "outputs": [],
   "source": [
    "def create_labels(task, scenario_names, n_beams=64):\n",
    "    labels = []\n",
    "    if isinstance(scenario_names, str):\n",
    "        scenario_names = [scenario_names]\n",
    "    for scenario_name in scenario_names:\n",
    "        data = DeepMIMO_data_gen(scenario_name)\n",
    "        labels.extend(label_gen(task, data, scenario_name, n_beams=n_beams))\n",
    "    return torch.tensor(labels).long()\n",
    "#%%"
   ]
  },
  {
   "cell_type": "code",
   "execution_count": null,
   "metadata": {},
   "outputs": [],
   "source": []
  }
 ],
 "metadata": {
  "kernelspec": {
   "display_name": "Python 3 (ipykernel)",
   "language": "python",
   "name": "python3"
  },
  "language_info": {
   "codemirror_mode": {
    "name": "ipython",
    "version": 3
   },
   "file_extension": ".py",
   "mimetype": "text/x-python",
   "name": "python",
   "nbconvert_exporter": "python",
   "pygments_lexer": "ipython3",
   "version": "3.11.3"
  }
 },
 "nbformat": 4,
 "nbformat_minor": 2
}
