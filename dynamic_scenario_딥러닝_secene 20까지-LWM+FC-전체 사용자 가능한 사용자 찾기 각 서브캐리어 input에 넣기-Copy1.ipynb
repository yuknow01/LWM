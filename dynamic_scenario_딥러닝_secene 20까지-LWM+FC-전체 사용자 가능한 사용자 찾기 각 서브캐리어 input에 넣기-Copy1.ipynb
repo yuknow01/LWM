{
 "cells": [
  {
   "cell_type": "code",
   "execution_count": 2,
   "id": "0ec90d17",
   "metadata": {},
   "outputs": [],
   "source": [
    "import torch\n",
    "import torch.nn as nn\n",
    "import torch.optim as optim\n",
    "import torchvision\n",
    "import torchvision.transforms as transforms\n",
    "from torch.utils.data import DataLoader"
   ]
  },
  {
   "cell_type": "code",
   "execution_count": 3,
   "id": "47baa533",
   "metadata": {},
   "outputs": [
    {
     "name": "stdout",
     "output_type": "stream",
     "text": [
      "cuda\n"
     ]
    }
   ],
   "source": [
    "# GPU 설정\n",
    "device = torch.device(\"cuda\" if torch.cuda.is_available() else \"cpu\")\n",
    "print(device)"
   ]
  },
  {
   "cell_type": "code",
   "execution_count": 4,
   "id": "23623e8a",
   "metadata": {},
   "outputs": [
    {
     "name": "stdout",
     "output_type": "stream",
     "text": [
      "Requirement already satisfied: DeepMIMOv3 in c:\\users\\dlghd\\anaconda3\\lib\\site-packages (0.2.8)\n",
      "Requirement already satisfied: umap-learn in c:\\users\\dlghd\\anaconda3\\lib\\site-packages (0.5.7)\n",
      "Requirement already satisfied: numpy in c:\\users\\dlghd\\anaconda3\\lib\\site-packages (from DeepMIMOv3) (1.24.3)\n",
      "Requirement already satisfied: scipy in c:\\users\\dlghd\\anaconda3\\lib\\site-packages (from DeepMIMOv3) (1.10.1)\n",
      "Requirement already satisfied: tqdm in c:\\users\\dlghd\\anaconda3\\lib\\site-packages (from DeepMIMOv3) (4.65.0)\n",
      "Requirement already satisfied: matplotlib in c:\\users\\dlghd\\anaconda3\\lib\\site-packages (from DeepMIMOv3) (3.7.1)\n",
      "Requirement already satisfied: scikit-learn>=0.22 in c:\\users\\dlghd\\anaconda3\\lib\\site-packages (from umap-learn) (1.2.2)\n",
      "Requirement already satisfied: numba>=0.51.2 in c:\\users\\dlghd\\anaconda3\\lib\\site-packages (from umap-learn) (0.57.0)\n",
      "Requirement already satisfied: pynndescent>=0.5 in c:\\users\\dlghd\\anaconda3\\lib\\site-packages (from umap-learn) (0.5.13)\n",
      "Requirement already satisfied: llvmlite<0.41,>=0.40.0dev0 in c:\\users\\dlghd\\anaconda3\\lib\\site-packages (from numba>=0.51.2->umap-learn) (0.40.0)\n",
      "Requirement already satisfied: joblib>=0.11 in c:\\users\\dlghd\\anaconda3\\lib\\site-packages (from pynndescent>=0.5->umap-learn) (1.2.0)\n",
      "Requirement already satisfied: threadpoolctl>=2.0.0 in c:\\users\\dlghd\\anaconda3\\lib\\site-packages (from scikit-learn>=0.22->umap-learn) (2.2.0)\n",
      "Requirement already satisfied: contourpy>=1.0.1 in c:\\users\\dlghd\\anaconda3\\lib\\site-packages (from matplotlib->DeepMIMOv3) (1.0.5)\n",
      "Requirement already satisfied: cycler>=0.10 in c:\\users\\dlghd\\anaconda3\\lib\\site-packages (from matplotlib->DeepMIMOv3) (0.11.0)\n",
      "Requirement already satisfied: fonttools>=4.22.0 in c:\\users\\dlghd\\anaconda3\\lib\\site-packages (from matplotlib->DeepMIMOv3) (4.25.0)\n",
      "Requirement already satisfied: kiwisolver>=1.0.1 in c:\\users\\dlghd\\anaconda3\\lib\\site-packages (from matplotlib->DeepMIMOv3) (1.4.4)\n",
      "Requirement already satisfied: packaging>=20.0 in c:\\users\\dlghd\\anaconda3\\lib\\site-packages (from matplotlib->DeepMIMOv3) (23.0)\n",
      "Requirement already satisfied: pillow>=6.2.0 in c:\\users\\dlghd\\anaconda3\\lib\\site-packages (from matplotlib->DeepMIMOv3) (9.4.0)\n",
      "Requirement already satisfied: pyparsing>=2.3.1 in c:\\users\\dlghd\\anaconda3\\lib\\site-packages (from matplotlib->DeepMIMOv3) (3.0.9)\n",
      "Requirement already satisfied: python-dateutil>=2.7 in c:\\users\\dlghd\\anaconda3\\lib\\site-packages (from matplotlib->DeepMIMOv3) (2.8.2)\n",
      "Requirement already satisfied: colorama in c:\\users\\dlghd\\anaconda3\\lib\\site-packages (from tqdm->DeepMIMOv3) (0.4.6)\n",
      "Requirement already satisfied: six>=1.5 in c:\\users\\dlghd\\anaconda3\\lib\\site-packages (from python-dateutil>=2.7->matplotlib->DeepMIMOv3) (1.16.0)\n",
      "Note: you may need to restart the kernel to use updated packages.\n"
     ]
    }
   ],
   "source": [
    "pip install DeepMIMOv3 umap-learn"
   ]
  },
  {
   "cell_type": "code",
   "execution_count": 5,
   "id": "14b3564f",
   "metadata": {},
   "outputs": [],
   "source": [
    "#LWM을 하기위한 라이브러리 가져오기\n",
    "import DeepMIMOv3\n",
    "import numpy as np\n",
    "from pprint import pprint\n",
    "import matplotlib.pyplot as plt\n",
    "\n",
    "plt . rcParams [ 'figure.figsize' ]  =  [ 12 ,  8 ]  # 기본 플롯 크기 설정"
   ]
  },
  {
   "cell_type": "code",
   "execution_count": 6,
   "id": "ce5ac681",
   "metadata": {},
   "outputs": [
    {
     "name": "stdout",
     "output_type": "stream",
     "text": [
      "{'OFDM': {'RX_filter': 0,\n",
      "          'bandwidth': 0.05,\n",
      "          'selected_subcarriers': array([0]),\n",
      "          'subcarriers': 512},\n",
      " 'OFDM_channels': 1,\n",
      " 'active_BS': array([1]),\n",
      " 'bs_antenna': {'FoV': array([360, 180]),\n",
      "                'radiation_pattern': 'isotropic',\n",
      "                'rotation': array([0, 0, 0]),\n",
      "                'shape': array([8, 4]),\n",
      "                'spacing': 0.5},\n",
      " 'dataset_folder': './Raytracing_scenarios',\n",
      " 'dynamic_scenario_scenes': array([1]),\n",
      " 'enable_BS2BS': 1,\n",
      " 'enable_doppler': 0,\n",
      " 'enable_dual_polar': 0,\n",
      " 'num_paths': 5,\n",
      " 'scenario': 'O1_60',\n",
      " 'ue_antenna': {'FoV': array([360, 180]),\n",
      "                'radiation_pattern': 'isotropic',\n",
      "                'rotation': array([0, 0, 0]),\n",
      "                'shape': array([4, 2]),\n",
      "                'spacing': 0.5},\n",
      " 'user_rows': array([1]),\n",
      " 'user_subsampling': 1}\n"
     ]
    }
   ],
   "source": [
    "## Load and print the default parameters\n",
    "# bandwith: 0.05GHz(50MHz 대역폭 사용)\n",
    "\n",
    "parameters = DeepMIMOv3.default_params()\n",
    "pprint(parameters)"
   ]
  },
  {
   "cell_type": "code",
   "execution_count": 7,
   "id": "1f0642c1",
   "metadata": {},
   "outputs": [],
   "source": [
    "## Change parameters for the setup\n",
    "# Scenario O1_60 extracted at the dataset_folder\n",
    "#LWM 동적 시나리오 불러오기\n",
    "#자신의 LWM 파일 위치 경로 작성\n",
    "# parameters['dataset_folder'] = r'/content/drive/MyDrive/Colab Notebooks/LWM'\n",
    "parameters['dataset_folder'] = r'C:\\Users\\dlghd\\졸업프로젝트\\LWM'\n",
    "\n",
    "# scnario = 02_dyn_3p5 <- 다운받은 파일(동적시나리오)\n",
    "parameters['scenario'] = 'O2_dyn_3p5'\n",
    "parameters['dynamic_scenario_scenes'] = np.arange(10) #scene 0~9\n",
    "\n",
    "# 각 사용자-기지국 채널에 대해 최대 10개 멀티패스 경로 사용\n",
    "parameters['num_paths'] = 10\n",
    "\n",
    "# User rows 1-100\n",
    "parameters['user_rows'] = np.arange(100)\n",
    "\n",
    "# Activate only the first basestation\n",
    "parameters['active_BS'] = np.array([1])\n",
    "\n",
    "parameters['activate_OFDM'] = 1\n",
    "\n",
    "parameters['OFDM']['bandwidth'] = 0.05 # 50 MHz\n",
    "parameters['OFDM']['subcarriers'] = 512 # OFDM with 512 subcarriers\n",
    "parameters['OFDM']['selected_subcarriers'] = np.arange(0, 64, 1)\n",
    "#parameters['OFDM']['subcarriers_limit'] = 64 # Keep only first 64 subcarriers\n",
    "\n",
    "parameters['ue_antenna']['shape'] = np.array([1, 1]) # Single antenna\n",
    "parameters['bs_antenna']['shape'] = np.array([1, 32]) # ULA of 32 elements\n",
    "#parameters['bs_antenna']['rotation'] = np.array([0, 30, 90]) # ULA of 32 elements\n",
    "#parameters['ue_antenna']['rotation'] = np.array([[0, 30], [30, 60], [60, 90]]) # ULA of 32 elements\n",
    "#parameters['ue_antenna']['radiation_pattern'] = 'isotropic'\n",
    "#parameters['bs_antenna']['radiation_pattern'] = 'halfwave-dipole'"
   ]
  },
  {
   "cell_type": "code",
   "execution_count": 8,
   "id": "30aa4ae2",
   "metadata": {},
   "outputs": [
    {
     "name": "stdout",
     "output_type": "stream",
     "text": [
      "{'dataset_folder': 'C:\\\\Users\\\\dlghd\\\\졸업프로젝트\\\\LWM', 'scenario': 'O2_dyn_3p5', 'dynamic_scenario_scenes': array([0, 1, 2, 3, 4, 5, 6, 7, 8, 9]), 'num_paths': 10, 'active_BS': array([1]), 'user_rows': array([ 0,  1,  2,  3,  4,  5,  6,  7,  8,  9, 10, 11, 12, 13, 14, 15, 16,\n",
      "       17, 18, 19, 20, 21, 22, 23, 24, 25, 26, 27, 28, 29, 30, 31, 32, 33,\n",
      "       34, 35, 36, 37, 38, 39, 40, 41, 42, 43, 44, 45, 46, 47, 48, 49, 50,\n",
      "       51, 52, 53, 54, 55, 56, 57, 58, 59, 60, 61, 62, 63, 64, 65, 66, 67,\n",
      "       68, 69, 70, 71, 72, 73, 74, 75, 76, 77, 78, 79, 80, 81, 82, 83, 84,\n",
      "       85, 86, 87, 88, 89, 90, 91, 92, 93, 94, 95, 96, 97, 98, 99]), 'user_subsampling': 1, 'bs_antenna': {'shape': array([ 1, 32]), 'spacing': 0.5, 'rotation': array([0, 0, 0]), 'FoV': array([360, 180]), 'radiation_pattern': 'isotropic'}, 'ue_antenna': {'shape': array([1, 1]), 'spacing': 0.5, 'rotation': array([0, 0, 0]), 'FoV': array([360, 180]), 'radiation_pattern': 'isotropic'}, 'enable_doppler': 0, 'enable_dual_polar': 0, 'enable_BS2BS': 1, 'OFDM_channels': 1, 'OFDM': {'subcarriers': 512, 'selected_subcarriers': array([ 0,  1,  2,  3,  4,  5,  6,  7,  8,  9, 10, 11, 12, 13, 14, 15, 16,\n",
      "       17, 18, 19, 20, 21, 22, 23, 24, 25, 26, 27, 28, 29, 30, 31, 32, 33,\n",
      "       34, 35, 36, 37, 38, 39, 40, 41, 42, 43, 44, 45, 46, 47, 48, 49, 50,\n",
      "       51, 52, 53, 54, 55, 56, 57, 58, 59, 60, 61, 62, 63]), 'bandwidth': 0.05, 'RX_filter': 0}, 'activate_OFDM': 1}\n"
     ]
    }
   ],
   "source": [
    "print(parameters)"
   ]
  },
  {
   "cell_type": "code",
   "execution_count": 9,
   "id": "b87a86e5",
   "metadata": {},
   "outputs": [
    {
     "name": "stdout",
     "output_type": "stream",
     "text": [
      "The following parameters seem unnecessary:\n",
      "{'activate_OFDM'}\n",
      "\n",
      "Scene 1/10\n",
      "\n",
      "Basestation 1\n",
      "\n",
      "UE-BS Channels\n"
     ]
    },
    {
     "name": "stderr",
     "output_type": "stream",
     "text": [
      "Reading ray-tracing: 100%|████████████████████████████████████████████████████| 69040/69040 [00:03<00:00, 19702.08it/s]\n",
      "Generating channels: 100%|█████████████████████████████████████████████████████| 69040/69040 [00:21<00:00, 3198.71it/s]\n"
     ]
    },
    {
     "name": "stdout",
     "output_type": "stream",
     "text": [
      "\n",
      "BS-BS Channels\n"
     ]
    },
    {
     "name": "stderr",
     "output_type": "stream",
     "text": [
      "Reading ray-tracing: 100%|███████████████████████████████████████████████████████████████████████| 1/1 [00:00<?, ?it/s]\n",
      "Generating channels: 100%|██████████████████████████████████████████████████████████████| 1/1 [00:00<00:00, 324.86it/s]\n"
     ]
    },
    {
     "name": "stdout",
     "output_type": "stream",
     "text": [
      "\n",
      "Scene 2/10\n",
      "\n",
      "Basestation 1\n",
      "\n",
      "UE-BS Channels\n"
     ]
    },
    {
     "name": "stderr",
     "output_type": "stream",
     "text": [
      "Reading ray-tracing: 100%|████████████████████████████████████████████████████| 69040/69040 [00:03<00:00, 19753.90it/s]\n",
      "Generating channels: 100%|█████████████████████████████████████████████████████| 69040/69040 [00:21<00:00, 3198.25it/s]\n"
     ]
    },
    {
     "name": "stdout",
     "output_type": "stream",
     "text": [
      "\n",
      "BS-BS Channels\n"
     ]
    },
    {
     "name": "stderr",
     "output_type": "stream",
     "text": [
      "Reading ray-tracing: 100%|███████████████████████████████████████████████████████████████████████| 1/1 [00:00<?, ?it/s]\n",
      "Generating channels: 100%|██████████████████████████████████████████████████████████████| 1/1 [00:00<00:00, 259.53it/s]\n"
     ]
    },
    {
     "name": "stdout",
     "output_type": "stream",
     "text": [
      "\n",
      "Scene 3/10\n",
      "\n",
      "Basestation 1\n",
      "\n",
      "UE-BS Channels\n"
     ]
    },
    {
     "name": "stderr",
     "output_type": "stream",
     "text": [
      "Reading ray-tracing: 100%|████████████████████████████████████████████████████| 69040/69040 [00:03<00:00, 19202.75it/s]\n",
      "Generating channels: 100%|█████████████████████████████████████████████████████| 69040/69040 [00:22<00:00, 3054.60it/s]\n"
     ]
    },
    {
     "name": "stdout",
     "output_type": "stream",
     "text": [
      "\n",
      "BS-BS Channels\n"
     ]
    },
    {
     "name": "stderr",
     "output_type": "stream",
     "text": [
      "Reading ray-tracing: 100%|███████████████████████████████████████████████████████████████████████| 1/1 [00:00<?, ?it/s]\n",
      "Generating channels: 100%|██████████████████████████████████████████████████████████████| 1/1 [00:00<00:00, 252.58it/s]\n"
     ]
    },
    {
     "name": "stdout",
     "output_type": "stream",
     "text": [
      "\n",
      "Scene 4/10\n",
      "\n",
      "Basestation 1\n",
      "\n",
      "UE-BS Channels\n"
     ]
    },
    {
     "name": "stderr",
     "output_type": "stream",
     "text": [
      "Reading ray-tracing: 100%|████████████████████████████████████████████████████| 69040/69040 [00:03<00:00, 19688.70it/s]\n",
      "Generating channels: 100%|█████████████████████████████████████████████████████| 69040/69040 [00:22<00:00, 3136.61it/s]\n"
     ]
    },
    {
     "name": "stdout",
     "output_type": "stream",
     "text": [
      "\n",
      "BS-BS Channels\n"
     ]
    },
    {
     "name": "stderr",
     "output_type": "stream",
     "text": [
      "Reading ray-tracing: 100%|███████████████████████████████████████████████████████████████████████| 1/1 [00:00<?, ?it/s]\n",
      "Generating channels: 100%|██████████████████████████████████████████████████████████████| 1/1 [00:00<00:00, 197.73it/s]\n"
     ]
    },
    {
     "name": "stdout",
     "output_type": "stream",
     "text": [
      "\n",
      "Scene 5/10\n",
      "\n",
      "Basestation 1\n",
      "\n",
      "UE-BS Channels\n"
     ]
    },
    {
     "name": "stderr",
     "output_type": "stream",
     "text": [
      "Reading ray-tracing: 100%|████████████████████████████████████████████████████| 69040/69040 [00:03<00:00, 19107.27it/s]\n",
      "Generating channels: 100%|█████████████████████████████████████████████████████| 69040/69040 [00:22<00:00, 3114.13it/s]\n"
     ]
    },
    {
     "name": "stdout",
     "output_type": "stream",
     "text": [
      "\n",
      "BS-BS Channels\n"
     ]
    },
    {
     "name": "stderr",
     "output_type": "stream",
     "text": [
      "Reading ray-tracing: 100%|███████████████████████████████████████████████████████████████████████| 1/1 [00:00<?, ?it/s]\n",
      "Generating channels: 100%|██████████████████████████████████████████████████████████████| 1/1 [00:00<00:00, 312.94it/s]\n"
     ]
    },
    {
     "name": "stdout",
     "output_type": "stream",
     "text": [
      "\n",
      "Scene 6/10\n",
      "\n",
      "Basestation 1\n",
      "\n",
      "UE-BS Channels\n"
     ]
    },
    {
     "name": "stderr",
     "output_type": "stream",
     "text": [
      "Reading ray-tracing: 100%|████████████████████████████████████████████████████| 69040/69040 [00:03<00:00, 19412.84it/s]\n",
      "Generating channels: 100%|█████████████████████████████████████████████████████| 69040/69040 [00:22<00:00, 3096.07it/s]\n"
     ]
    },
    {
     "name": "stdout",
     "output_type": "stream",
     "text": [
      "\n",
      "BS-BS Channels\n"
     ]
    },
    {
     "name": "stderr",
     "output_type": "stream",
     "text": [
      "Reading ray-tracing: 100%|███████████████████████████████████████████████████████████████████████| 1/1 [00:00<?, ?it/s]\n",
      "Generating channels: 100%|██████████████████████████████████████████████████████████████| 1/1 [00:00<00:00, 225.28it/s]\n"
     ]
    },
    {
     "name": "stdout",
     "output_type": "stream",
     "text": [
      "\n",
      "Scene 7/10\n",
      "\n",
      "Basestation 1\n",
      "\n",
      "UE-BS Channels\n"
     ]
    },
    {
     "name": "stderr",
     "output_type": "stream",
     "text": [
      "Reading ray-tracing: 100%|████████████████████████████████████████████████████| 69040/69040 [00:03<00:00, 18251.48it/s]\n",
      "Generating channels: 100%|█████████████████████████████████████████████████████| 69040/69040 [00:22<00:00, 3041.85it/s]\n"
     ]
    },
    {
     "name": "stdout",
     "output_type": "stream",
     "text": [
      "\n",
      "BS-BS Channels\n"
     ]
    },
    {
     "name": "stderr",
     "output_type": "stream",
     "text": [
      "Reading ray-tracing: 100%|███████████████████████████████████████████████████████████████████████| 1/1 [00:00<?, ?it/s]\n",
      "Generating channels: 100%|██████████████████████████████████████████████████████████████| 1/1 [00:00<00:00, 270.25it/s]\n"
     ]
    },
    {
     "name": "stdout",
     "output_type": "stream",
     "text": [
      "\n",
      "Scene 8/10\n",
      "\n",
      "Basestation 1\n",
      "\n",
      "UE-BS Channels\n"
     ]
    },
    {
     "name": "stderr",
     "output_type": "stream",
     "text": [
      "Reading ray-tracing: 100%|████████████████████████████████████████████████████| 69040/69040 [00:03<00:00, 19069.37it/s]\n",
      "Generating channels: 100%|█████████████████████████████████████████████████████| 69040/69040 [00:22<00:00, 3070.10it/s]\n"
     ]
    },
    {
     "name": "stdout",
     "output_type": "stream",
     "text": [
      "\n",
      "BS-BS Channels\n"
     ]
    },
    {
     "name": "stderr",
     "output_type": "stream",
     "text": [
      "Reading ray-tracing: 100%|███████████████████████████████████████████████████████████████████████| 1/1 [00:00<?, ?it/s]\n",
      "Generating channels: 100%|██████████████████████████████████████████████████████████████| 1/1 [00:00<00:00, 251.61it/s]\n"
     ]
    },
    {
     "name": "stdout",
     "output_type": "stream",
     "text": [
      "\n",
      "Scene 9/10\n",
      "\n",
      "Basestation 1\n",
      "\n",
      "UE-BS Channels\n"
     ]
    },
    {
     "name": "stderr",
     "output_type": "stream",
     "text": [
      "Reading ray-tracing: 100%|████████████████████████████████████████████████████| 69040/69040 [00:03<00:00, 18447.58it/s]\n",
      "Generating channels: 100%|█████████████████████████████████████████████████████| 69040/69040 [00:22<00:00, 3047.10it/s]\n"
     ]
    },
    {
     "name": "stdout",
     "output_type": "stream",
     "text": [
      "\n",
      "BS-BS Channels\n"
     ]
    },
    {
     "name": "stderr",
     "output_type": "stream",
     "text": [
      "Reading ray-tracing: 100%|███████████████████████████████████████████████████████████████████████| 1/1 [00:00<?, ?it/s]\n",
      "Generating channels: 100%|██████████████████████████████████████████████████████████████| 1/1 [00:00<00:00, 370.91it/s]\n"
     ]
    },
    {
     "name": "stdout",
     "output_type": "stream",
     "text": [
      "\n",
      "Scene 10/10\n",
      "\n",
      "Basestation 1\n",
      "\n",
      "UE-BS Channels\n"
     ]
    },
    {
     "name": "stderr",
     "output_type": "stream",
     "text": [
      "Reading ray-tracing: 100%|████████████████████████████████████████████████████| 69040/69040 [00:03<00:00, 17480.44it/s]\n",
      "Generating channels: 100%|█████████████████████████████████████████████████████| 69040/69040 [00:23<00:00, 2891.64it/s]\n"
     ]
    },
    {
     "name": "stdout",
     "output_type": "stream",
     "text": [
      "\n",
      "BS-BS Channels\n"
     ]
    },
    {
     "name": "stderr",
     "output_type": "stream",
     "text": [
      "Reading ray-tracing: 100%|███████████████████████████████████████████████████████████████████████| 1/1 [00:00<?, ?it/s]\n",
      "Generating channels: 100%|██████████████████████████████████████████████████████████████| 1/1 [00:00<00:00, 210.82it/s]"
     ]
    },
    {
     "name": "stdout",
     "output_type": "stream",
     "text": [
      "걸리는시간: 274.25\n"
     ]
    },
    {
     "name": "stderr",
     "output_type": "stream",
     "text": [
      "\n"
     ]
    }
   ],
   "source": [
    "## Generate and inspect the dataset\n",
    "import time\n",
    "start = time.time()\n",
    "dataset = DeepMIMOv3.generate_data(parameters)\n",
    "end = time.time()\n",
    "\n",
    "print(f\"걸리는시간: {round(end-start,2)}\")"
   ]
  },
  {
   "cell_type": "code",
   "execution_count": 10,
   "id": "4e127d34",
   "metadata": {},
   "outputs": [
    {
     "data": {
      "text/plain": [
       "10"
      ]
     },
     "execution_count": 10,
     "metadata": {},
     "output_type": "execute_result"
    }
   ],
   "source": [
    "len(dataset)"
   ]
  },
  {
   "cell_type": "code",
   "execution_count": 11,
   "id": "cccdc93e",
   "metadata": {},
   "outputs": [
    {
     "data": {
      "text/plain": [
       "[{'user': {'paths': array([{'num_paths': 0, 'DoD_phi': [], 'DoD_theta': [], 'DoA_phi': [], 'DoA_theta': [], 'phase': [], 'ToA': [], 'power': [], 'LoS': []},\n",
       "          {'num_paths': 0, 'DoD_phi': [], 'DoD_theta': [], 'DoA_phi': [], 'DoA_theta': [], 'phase': [], 'ToA': [], 'power': [], 'LoS': []},\n",
       "          {'num_paths': 0, 'DoD_phi': [], 'DoD_theta': [], 'DoA_phi': [], 'DoA_theta': [], 'phase': [], 'ToA': [], 'power': [], 'LoS': []},\n",
       "          ...,\n",
       "          {'num_paths': 0, 'DoD_phi': [], 'DoD_theta': [], 'DoA_phi': [], 'DoA_theta': [], 'phase': [], 'ToA': [], 'power': [], 'LoS': []},\n",
       "          {'num_paths': 0, 'DoD_phi': [], 'DoD_theta': [], 'DoA_phi': [], 'DoA_theta': [], 'phase': [], 'ToA': [], 'power': [], 'LoS': []},\n",
       "          {'num_paths': 0, 'DoD_phi': [], 'DoD_theta': [], 'DoA_phi': [], 'DoA_theta': [], 'phase': [], 'ToA': [], 'power': [], 'LoS': []}],\n",
       "         dtype=object),\n",
       "   'LoS': array([-1, -1, -1, ..., -1, -1, -1], dtype=int8),\n",
       "   'location': array([[-91.03330231, -15.57629967,   1.        ],\n",
       "          [-90.83329773, -15.57629967,   1.        ],\n",
       "          [-90.63330078, -15.57629967,   1.        ],\n",
       "          ...,\n",
       "          [222.25999451, -54.89479828,   1.        ],\n",
       "          [222.46000671, -54.89479828,   1.        ],\n",
       "          [222.66000366, -54.89479828,   1.        ]]),\n",
       "   'distance': array([ 97.57769775,  97.38500214,  97.19229889, ..., 228.71699524,\n",
       "          228.90899658, 229.1000061 ]),\n",
       "   'pathloss': array([0., 0., 0., ..., 0., 0., 0.]),\n",
       "   'channel': array([[[[0.+0.j, 0.+0.j, 0.+0.j, ..., 0.+0.j, 0.+0.j, 0.+0.j],\n",
       "            [0.+0.j, 0.+0.j, 0.+0.j, ..., 0.+0.j, 0.+0.j, 0.+0.j],\n",
       "            [0.+0.j, 0.+0.j, 0.+0.j, ..., 0.+0.j, 0.+0.j, 0.+0.j],\n",
       "            ...,\n",
       "            [0.+0.j, 0.+0.j, 0.+0.j, ..., 0.+0.j, 0.+0.j, 0.+0.j],\n",
       "            [0.+0.j, 0.+0.j, 0.+0.j, ..., 0.+0.j, 0.+0.j, 0.+0.j],\n",
       "            [0.+0.j, 0.+0.j, 0.+0.j, ..., 0.+0.j, 0.+0.j, 0.+0.j]]],\n",
       "   \n",
       "   \n",
       "          [[[0.+0.j, 0.+0.j, 0.+0.j, ..., 0.+0.j, 0.+0.j, 0.+0.j],\n",
       "            [0.+0.j, 0.+0.j, 0.+0.j, ..., 0.+0.j, 0.+0.j, 0.+0.j],\n",
       "            [0.+0.j, 0.+0.j, 0.+0.j, ..., 0.+0.j, 0.+0.j, 0.+0.j],\n",
       "            ...,\n",
       "            [0.+0.j, 0.+0.j, 0.+0.j, ..., 0.+0.j, 0.+0.j, 0.+0.j],\n",
       "            [0.+0.j, 0.+0.j, 0.+0.j, ..., 0.+0.j, 0.+0.j, 0.+0.j],\n",
       "            [0.+0.j, 0.+0.j, 0.+0.j, ..., 0.+0.j, 0.+0.j, 0.+0.j]]],\n",
       "   \n",
       "   \n",
       "          [[[0.+0.j, 0.+0.j, 0.+0.j, ..., 0.+0.j, 0.+0.j, 0.+0.j],\n",
       "            [0.+0.j, 0.+0.j, 0.+0.j, ..., 0.+0.j, 0.+0.j, 0.+0.j],\n",
       "            [0.+0.j, 0.+0.j, 0.+0.j, ..., 0.+0.j, 0.+0.j, 0.+0.j],\n",
       "            ...,\n",
       "            [0.+0.j, 0.+0.j, 0.+0.j, ..., 0.+0.j, 0.+0.j, 0.+0.j],\n",
       "            [0.+0.j, 0.+0.j, 0.+0.j, ..., 0.+0.j, 0.+0.j, 0.+0.j],\n",
       "            [0.+0.j, 0.+0.j, 0.+0.j, ..., 0.+0.j, 0.+0.j, 0.+0.j]]],\n",
       "   \n",
       "   \n",
       "          ...,\n",
       "   \n",
       "   \n",
       "          [[[0.+0.j, 0.+0.j, 0.+0.j, ..., 0.+0.j, 0.+0.j, 0.+0.j],\n",
       "            [0.+0.j, 0.+0.j, 0.+0.j, ..., 0.+0.j, 0.+0.j, 0.+0.j],\n",
       "            [0.+0.j, 0.+0.j, 0.+0.j, ..., 0.+0.j, 0.+0.j, 0.+0.j],\n",
       "            ...,\n",
       "            [0.+0.j, 0.+0.j, 0.+0.j, ..., 0.+0.j, 0.+0.j, 0.+0.j],\n",
       "            [0.+0.j, 0.+0.j, 0.+0.j, ..., 0.+0.j, 0.+0.j, 0.+0.j],\n",
       "            [0.+0.j, 0.+0.j, 0.+0.j, ..., 0.+0.j, 0.+0.j, 0.+0.j]]],\n",
       "   \n",
       "   \n",
       "          [[[0.+0.j, 0.+0.j, 0.+0.j, ..., 0.+0.j, 0.+0.j, 0.+0.j],\n",
       "            [0.+0.j, 0.+0.j, 0.+0.j, ..., 0.+0.j, 0.+0.j, 0.+0.j],\n",
       "            [0.+0.j, 0.+0.j, 0.+0.j, ..., 0.+0.j, 0.+0.j, 0.+0.j],\n",
       "            ...,\n",
       "            [0.+0.j, 0.+0.j, 0.+0.j, ..., 0.+0.j, 0.+0.j, 0.+0.j],\n",
       "            [0.+0.j, 0.+0.j, 0.+0.j, ..., 0.+0.j, 0.+0.j, 0.+0.j],\n",
       "            [0.+0.j, 0.+0.j, 0.+0.j, ..., 0.+0.j, 0.+0.j, 0.+0.j]]],\n",
       "   \n",
       "   \n",
       "          [[[0.+0.j, 0.+0.j, 0.+0.j, ..., 0.+0.j, 0.+0.j, 0.+0.j],\n",
       "            [0.+0.j, 0.+0.j, 0.+0.j, ..., 0.+0.j, 0.+0.j, 0.+0.j],\n",
       "            [0.+0.j, 0.+0.j, 0.+0.j, ..., 0.+0.j, 0.+0.j, 0.+0.j],\n",
       "            ...,\n",
       "            [0.+0.j, 0.+0.j, 0.+0.j, ..., 0.+0.j, 0.+0.j, 0.+0.j],\n",
       "            [0.+0.j, 0.+0.j, 0.+0.j, ..., 0.+0.j, 0.+0.j, 0.+0.j],\n",
       "            [0.+0.j, 0.+0.j, 0.+0.j, ..., 0.+0.j, 0.+0.j, 0.+0.j]]]],\n",
       "         dtype=complex64)},\n",
       "  'basestation': {'paths': array([{'num_paths': 2, 'DoD_phi': array([   0.   , -141.952], dtype=float32), 'DoD_theta': array([180.    ,  89.9997], dtype=float32), 'DoA_phi': array([-180.  , -141.95], dtype=float32), 'DoA_theta': array([180.    ,  89.9997], dtype=float32), 'phase': array([  68.6712, -129.443 ], dtype=float32), 'ToA': array([3.83724e-08, 3.63243e-07], dtype=float32), 'LoS': array([0., 0.], dtype=float32), 'power': array([5.4408858e-08, 2.8096997e-10], dtype=float32)}],\n",
       "         dtype=object),\n",
       "   'LoS': [0.0],\n",
       "   'location': array([[ 3., 10.,  6.]]),\n",
       "   'distance': array([0.]),\n",
       "   'pathloss': array([73.25530243]),\n",
       "   'channel': [array([[[ 3.27880882e-06+9.03047146e-06j,\n",
       "              3.38902836e-06+9.05771773e-06j,\n",
       "              3.52600751e-06+9.10214646e-06j, ...,\n",
       "              9.28594190e-06-2.31882918e-06j,\n",
       "              9.26814511e-06-2.39473446e-06j,\n",
       "              9.27899575e-06-2.48241610e-06j],\n",
       "            [-4.22006268e-06-1.01746392e-05j,\n",
       "             -4.55990916e-06-9.96552678e-06j,\n",
       "             -4.86858996e-06-9.72868608e-06j, ...,\n",
       "             -1.07515196e-05+2.53599163e-06j,\n",
       "             -1.06494687e-05+2.93048000e-06j,\n",
       "             -1.05077289e-05+3.31024060e-06j],\n",
       "            [ 3.27882920e-06+9.03045542e-06j,\n",
       "              3.38904486e-06+9.05769790e-06j,\n",
       "              3.52601939e-06+9.10212379e-06j, ...,\n",
       "              9.28593792e-06-2.31885488e-06j,\n",
       "              9.26813589e-06-2.39475878e-06j,\n",
       "              9.27898172e-06-2.48243791e-06j],\n",
       "            ...,\n",
       "            [-4.21982438e-06-1.01748453e-05j,\n",
       "             -4.55972469e-06-9.96578487e-06j,\n",
       "             -4.86846960e-06-9.72898291e-06j, ...,\n",
       "             -1.07515633e-05+2.53568085e-06j,\n",
       "             -1.06495846e-05+2.93018834e-06j,\n",
       "             -1.05079111e-05+3.30998367e-06j],\n",
       "            [ 3.27911451e-06+9.03023098e-06j,\n",
       "              3.38927589e-06+9.05742036e-06j,\n",
       "              3.52618585e-06+9.10180640e-06j, ...,\n",
       "              9.28588238e-06-2.31921470e-06j,\n",
       "              9.26800688e-06-2.39509920e-06j,\n",
       "              9.27878532e-06-2.48274327e-06j],\n",
       "            [-4.21980736e-06-1.01748600e-05j,\n",
       "             -4.55971151e-06-9.96580330e-06j,\n",
       "             -4.86846100e-06-9.72900412e-06j, ...,\n",
       "             -1.07515664e-05+2.53565866e-06j,\n",
       "             -1.06495929e-05+2.93016751e-06j,\n",
       "             -1.05079242e-05+3.30996531e-06j]],\n",
       "    \n",
       "           [[-4.22006268e-06-1.01746392e-05j,\n",
       "             -4.55990916e-06-9.96552678e-06j,\n",
       "             -4.86858996e-06-9.72868608e-06j, ...,\n",
       "             -1.07515196e-05+2.53599163e-06j,\n",
       "             -1.06494687e-05+2.93048000e-06j,\n",
       "             -1.05077289e-05+3.31024060e-06j],\n",
       "            [ 3.27882920e-06+9.03045542e-06j,\n",
       "              3.38904486e-06+9.05769790e-06j,\n",
       "              3.52601939e-06+9.10212379e-06j, ...,\n",
       "              9.28593792e-06-2.31885488e-06j,\n",
       "              9.26813589e-06-2.39475878e-06j,\n",
       "              9.27898172e-06-2.48243791e-06j],\n",
       "            [-4.22004567e-06-1.01746539e-05j,\n",
       "             -4.55989598e-06-9.96554522e-06j,\n",
       "             -4.86858137e-06-9.72870728e-06j, ...,\n",
       "             -1.07515227e-05+2.53596943e-06j,\n",
       "             -1.06494770e-05+2.93045917e-06j,\n",
       "             -1.05077419e-05+3.31022225e-06j],\n",
       "            ...,\n",
       "            [ 3.27911451e-06+9.03023098e-06j,\n",
       "              3.38927589e-06+9.05742036e-06j,\n",
       "              3.52618585e-06+9.10180640e-06j, ...,\n",
       "              9.28588238e-06-2.31921470e-06j,\n",
       "              9.26800688e-06-2.39509920e-06j,\n",
       "              9.27878532e-06-2.48274327e-06j],\n",
       "            [-4.21980736e-06-1.01748600e-05j,\n",
       "             -4.55971151e-06-9.96580330e-06j,\n",
       "             -4.86846100e-06-9.72900412e-06j, ...,\n",
       "             -1.07515664e-05+2.53565866e-06j,\n",
       "             -1.06495929e-05+2.93016751e-06j,\n",
       "             -1.05079242e-05+3.30996531e-06j],\n",
       "            [ 3.27913490e-06+9.03021495e-06j,\n",
       "              3.38929240e-06+9.05740054e-06j,\n",
       "              3.52619775e-06+9.10178373e-06j, ...,\n",
       "              9.28587842e-06-2.31924040e-06j,\n",
       "              9.26799767e-06-2.39512351e-06j,\n",
       "              9.27877129e-06-2.48276509e-06j]],\n",
       "    \n",
       "           [[ 3.27882920e-06+9.03045542e-06j,\n",
       "              3.38904486e-06+9.05769790e-06j,\n",
       "              3.52601939e-06+9.10212379e-06j, ...,\n",
       "              9.28593792e-06-2.31885488e-06j,\n",
       "              9.26813589e-06-2.39475878e-06j,\n",
       "              9.27898172e-06-2.48243791e-06j],\n",
       "            [-4.22004567e-06-1.01746539e-05j,\n",
       "             -4.55989598e-06-9.96554522e-06j,\n",
       "             -4.86858137e-06-9.72870728e-06j, ...,\n",
       "             -1.07515227e-05+2.53596943e-06j,\n",
       "             -1.06494770e-05+2.93045917e-06j,\n",
       "             -1.05077419e-05+3.31022225e-06j],\n",
       "            [ 3.27884957e-06+9.03043939e-06j,\n",
       "              3.38906136e-06+9.05767808e-06j,\n",
       "              3.52603128e-06+9.10210111e-06j, ...,\n",
       "              9.28593395e-06-2.31888058e-06j,\n",
       "              9.26812667e-06-2.39478309e-06j,\n",
       "              9.27896769e-06-2.48245972e-06j],\n",
       "            ...,\n",
       "            [-4.21980736e-06-1.01748600e-05j,\n",
       "             -4.55971151e-06-9.96580330e-06j,\n",
       "             -4.86846100e-06-9.72900412e-06j, ...,\n",
       "             -1.07515664e-05+2.53565866e-06j,\n",
       "             -1.06495929e-05+2.93016751e-06j,\n",
       "             -1.05079242e-05+3.30996531e-06j],\n",
       "            [ 3.27913490e-06+9.03021495e-06j,\n",
       "              3.38929240e-06+9.05740054e-06j,\n",
       "              3.52619775e-06+9.10178373e-06j, ...,\n",
       "              9.28587842e-06-2.31924040e-06j,\n",
       "              9.26799767e-06-2.39512351e-06j,\n",
       "              9.27877129e-06-2.48276509e-06j],\n",
       "            [-4.21979033e-06-1.01748747e-05j,\n",
       "             -4.55969833e-06-9.96582173e-06j,\n",
       "             -4.86845239e-06-9.72902532e-06j, ...,\n",
       "             -1.07515695e-05+2.53563646e-06j,\n",
       "             -1.06496012e-05+2.93014667e-06j,\n",
       "             -1.05079372e-05+3.30994695e-06j]],\n",
       "    \n",
       "           ...,\n",
       "    \n",
       "           [[-4.21982438e-06-1.01748453e-05j,\n",
       "             -4.55972469e-06-9.96578487e-06j,\n",
       "             -4.86846960e-06-9.72898291e-06j, ...,\n",
       "             -1.07515633e-05+2.53568085e-06j,\n",
       "             -1.06495846e-05+2.93018834e-06j,\n",
       "             -1.05079111e-05+3.30998367e-06j],\n",
       "            [ 3.27911451e-06+9.03023098e-06j,\n",
       "              3.38927589e-06+9.05742036e-06j,\n",
       "              3.52618585e-06+9.10180640e-06j, ...,\n",
       "              9.28588238e-06-2.31921470e-06j,\n",
       "              9.26800688e-06-2.39509920e-06j,\n",
       "              9.27878532e-06-2.48274327e-06j],\n",
       "            [-4.21980736e-06-1.01748600e-05j,\n",
       "             -4.55971151e-06-9.96580330e-06j,\n",
       "             -4.86846100e-06-9.72900412e-06j, ...,\n",
       "             -1.07515664e-05+2.53565866e-06j,\n",
       "             -1.06495929e-05+2.93016751e-06j,\n",
       "             -1.05079242e-05+3.30996531e-06j],\n",
       "            ...,\n",
       "            [ 3.27939993e-06+9.03000665e-06j,\n",
       "              3.38950705e-06+9.05714291e-06j,\n",
       "              3.52635246e-06+9.10148908e-06j, ...,\n",
       "              9.28582700e-06-2.31957454e-06j,\n",
       "              9.26787803e-06-2.39543967e-06j,\n",
       "              9.27858904e-06-2.48304873e-06j],\n",
       "            [-4.21956895e-06-1.01750660e-05j,\n",
       "             -4.55952692e-06-9.96606129e-06j,\n",
       "             -4.86834048e-06-9.72930088e-06j, ...,\n",
       "             -1.07516099e-05+2.53534786e-06j,\n",
       "             -1.06497087e-05+2.92987578e-06j,\n",
       "             -1.05081062e-05+3.30970829e-06j],\n",
       "            [ 3.27942032e-06+9.02999063e-06j,\n",
       "              3.38952357e-06+9.05712310e-06j,\n",
       "              3.52636436e-06+9.10146642e-06j, ...,\n",
       "              9.28582305e-06-2.31960025e-06j,\n",
       "              9.26786883e-06-2.39546399e-06j,\n",
       "              9.27857503e-06-2.48307055e-06j]],\n",
       "    \n",
       "           [[ 3.27911451e-06+9.03023098e-06j,\n",
       "              3.38927589e-06+9.05742036e-06j,\n",
       "              3.52618585e-06+9.10180640e-06j, ...,\n",
       "              9.28588238e-06-2.31921470e-06j,\n",
       "              9.26800688e-06-2.39509920e-06j,\n",
       "              9.27878532e-06-2.48274327e-06j],\n",
       "            [-4.21980736e-06-1.01748600e-05j,\n",
       "             -4.55971151e-06-9.96580330e-06j,\n",
       "             -4.86846100e-06-9.72900412e-06j, ...,\n",
       "             -1.07515664e-05+2.53565866e-06j,\n",
       "             -1.06495929e-05+2.93016751e-06j,\n",
       "             -1.05079242e-05+3.30996531e-06j],\n",
       "            [ 3.27913490e-06+9.03021495e-06j,\n",
       "              3.38929240e-06+9.05740054e-06j,\n",
       "              3.52619775e-06+9.10178373e-06j, ...,\n",
       "              9.28587842e-06-2.31924040e-06j,\n",
       "              9.26799767e-06-2.39512351e-06j,\n",
       "              9.27877129e-06-2.48276509e-06j],\n",
       "            ...,\n",
       "            [-4.21956895e-06-1.01750660e-05j,\n",
       "             -4.55952692e-06-9.96606129e-06j,\n",
       "             -4.86834048e-06-9.72930088e-06j, ...,\n",
       "             -1.07516099e-05+2.53534786e-06j,\n",
       "             -1.06497087e-05+2.92987578e-06j,\n",
       "             -1.05081062e-05+3.30970829e-06j],\n",
       "            [ 3.27942032e-06+9.02999063e-06j,\n",
       "              3.38952357e-06+9.05712310e-06j,\n",
       "              3.52636436e-06+9.10146642e-06j, ...,\n",
       "              9.28582305e-06-2.31960025e-06j,\n",
       "              9.26786883e-06-2.39546399e-06j,\n",
       "              9.27857503e-06-2.48307055e-06j],\n",
       "            [-4.21955192e-06-1.01750807e-05j,\n",
       "             -4.55951373e-06-9.96607971e-06j,\n",
       "             -4.86833187e-06-9.72932208e-06j, ...,\n",
       "             -1.07516130e-05+2.53532566e-06j,\n",
       "             -1.06497170e-05+2.92985494e-06j,\n",
       "             -1.05081192e-05+3.30968993e-06j]],\n",
       "    \n",
       "           [[-4.21980736e-06-1.01748600e-05j,\n",
       "             -4.55971151e-06-9.96580330e-06j,\n",
       "             -4.86846100e-06-9.72900412e-06j, ...,\n",
       "             -1.07515664e-05+2.53565866e-06j,\n",
       "             -1.06495929e-05+2.93016751e-06j,\n",
       "             -1.05079242e-05+3.30996531e-06j],\n",
       "            [ 3.27913490e-06+9.03021495e-06j,\n",
       "              3.38929240e-06+9.05740054e-06j,\n",
       "              3.52619775e-06+9.10178373e-06j, ...,\n",
       "              9.28587842e-06-2.31924040e-06j,\n",
       "              9.26799767e-06-2.39512351e-06j,\n",
       "              9.27877129e-06-2.48276509e-06j],\n",
       "            [-4.21979033e-06-1.01748747e-05j,\n",
       "             -4.55969833e-06-9.96582173e-06j,\n",
       "             -4.86845239e-06-9.72902532e-06j, ...,\n",
       "             -1.07515695e-05+2.53563646e-06j,\n",
       "             -1.06496012e-05+2.93014667e-06j,\n",
       "             -1.05079372e-05+3.30994695e-06j],\n",
       "            ...,\n",
       "            [ 3.27942032e-06+9.02999063e-06j,\n",
       "              3.38952357e-06+9.05712310e-06j,\n",
       "              3.52636436e-06+9.10146642e-06j, ...,\n",
       "              9.28582305e-06-2.31960025e-06j,\n",
       "              9.26786883e-06-2.39546399e-06j,\n",
       "              9.27857503e-06-2.48307055e-06j],\n",
       "            [-4.21955192e-06-1.01750807e-05j,\n",
       "             -4.55951373e-06-9.96607971e-06j,\n",
       "             -4.86833187e-06-9.72932208e-06j, ...,\n",
       "             -1.07516130e-05+2.53532566e-06j,\n",
       "             -1.06497170e-05+2.92985494e-06j,\n",
       "             -1.05081192e-05+3.30968993e-06j],\n",
       "            [ 3.27944071e-06+9.02997461e-06j,\n",
       "              3.38954008e-06+9.05710329e-06j,\n",
       "              3.52637627e-06+9.10144375e-06j, ...,\n",
       "              9.28581910e-06-2.31962595e-06j,\n",
       "              9.26785963e-06-2.39548832e-06j,\n",
       "              9.27856101e-06-2.48309237e-06j]]])]},\n",
       "  'location': array([ 3., 10.,  6.])}]"
      ]
     },
     "execution_count": 11,
     "metadata": {},
     "output_type": "execute_result"
    }
   ],
   "source": [
    "dataset[0]"
   ]
  },
  {
   "cell_type": "markdown",
   "id": "5b4e72d4",
   "metadata": {},
   "source": [
    "# 사용자 접근 데이터"
   ]
  },
  {
   "cell_type": "code",
   "execution_count": 12,
   "id": "57828d31",
   "metadata": {},
   "outputs": [
    {
     "name": "stdout",
     "output_type": "stream",
     "text": [
      "dict_keys(['paths', 'LoS', 'location', 'distance', 'pathloss', 'channel'])\n"
     ]
    }
   ],
   "source": [
    "user_data = dataset[0][0]['user']\n",
    "print(user_data.keys())"
   ]
  },
  {
   "cell_type": "markdown",
   "id": "bc5a3b0c",
   "metadata": {},
   "source": [
    "# 사용자 채널 정보 확인"
   ]
  },
  {
   "cell_type": "code",
   "execution_count": 13,
   "id": "23b2884b",
   "metadata": {},
   "outputs": [
    {
     "name": "stdout",
     "output_type": "stream",
     "text": [
      "(69040, 1, 32, 64)\n"
     ]
    }
   ],
   "source": [
    "# subcarries = 나눈 각각의 주파수 채널\n",
    "# Channel = H <- 채널 벡터\n",
    "# 채널 형태\n",
    "# (user, UE antenna, Bs antenna, subcarrier)\n",
    "channel = dataset[0][0]['user']['channel']\n",
    "print(channel.shape)  "
   ]
  },
  {
   "cell_type": "code",
   "execution_count": 14,
   "id": "bf443dc9",
   "metadata": {},
   "outputs": [
    {
     "name": "stdout",
     "output_type": "stream",
     "text": [
      "[[[-4.9276509e-06+6.0179661e-07j -4.7681883e-06+1.3829425e-06j\n",
      "   -4.4857170e-06+2.1285541e-06j ...  4.3711116e-06-2.4074948e-06j\n",
      "    3.9297033e-06-3.0764131e-06j  3.3868639e-06-3.6660977e-06j]\n",
      "  [-4.7825752e-06+1.6998159e-06j -4.4491662e-06+2.4436672e-06j\n",
      "   -4.0009481e-06+3.1246111e-06j ...  3.8229477e-06-3.3767817e-06j\n",
      "    3.2333687e-06-3.9455144e-06j  2.5602983e-06-4.4125736e-06j]\n",
      "  [-4.3861578e-06+2.7614337e-06j -3.8878534e-06+3.4282084e-06j\n",
      "   -3.2891933e-06+4.0066625e-06j ...  3.0543217e-06-4.2173128e-06j\n",
      "    2.3400164e-06-4.6522073e-06j  1.5652473e-06-4.9671735e-06j]\n",
      "  ...\n",
      "  [-5.9705985e-06+1.8381670e-06j -5.5992200e-06+2.7702260e-06j\n",
      "   -5.0834296e-06+3.6307945e-06j ...  4.8462462e-06-3.9304277e-06j\n",
      "    4.1544481e-06-4.6554678e-06j  3.3555179e-06-5.2603964e-06j]\n",
      "  [-5.3850690e-06+3.0986103e-06j -4.8194606e-06+3.9206407e-06j\n",
      "   -4.1295657e-06+4.6415066e-06j ...  3.8328362e-06-4.8787911e-06j\n",
      "    3.0023016e-06-5.4293314e-06j  2.0943648e-06-5.8398036e-06j]\n",
      "  [-4.5357333e-06+4.1878652e-06j -3.8067144e-06+4.8598408e-06j\n",
      "   -2.9795442e-06+5.4064294e-06j ...  2.6393784e-06-5.5698706e-06j\n",
      "    1.7136289e-06-5.9204085e-06j  7.4372792e-07-6.1182200e-06j]]]\n"
     ]
    }
   ],
   "source": [
    "print(dataset[0][0]['user']['channel'][100])"
   ]
  },
  {
   "cell_type": "code",
   "execution_count": 15,
   "id": "1a931204",
   "metadata": {},
   "outputs": [
    {
     "name": "stdout",
     "output_type": "stream",
     "text": [
      "1\n"
     ]
    }
   ],
   "source": [
    "print(len(dataset[0][0]['user']['channel'][100]))"
   ]
  },
  {
   "cell_type": "code",
   "execution_count": 16,
   "id": "ff08a89e",
   "metadata": {},
   "outputs": [
    {
     "name": "stdout",
     "output_type": "stream",
     "text": [
      "[ 1.14151417e-05-4.36109121e-06j  1.13104134e-05-4.99916769e-06j\n",
      "  1.11716581e-05-5.67118514e-06j  1.09873472e-05-6.37486755e-06j\n",
      "  1.07464039e-05-7.10507175e-06j  1.04388646e-05-7.85394786e-06j\n",
      "  1.00564839e-05-8.61123954e-06j  9.59326280e-06-9.36472679e-06j\n",
      "  9.04586159e-06-1.01007672e-05j  8.41387282e-06-1.08049298e-05j\n",
      "  7.69995040e-06-1.14626673e-05j  6.90977913e-06-1.20600052e-05j\n",
      "  6.05189052e-06-1.25842089e-05j  5.13732675e-06-1.30243880e-05j\n",
      "  4.17918318e-06-1.33720132e-05j  3.19203900e-06-1.36213148e-05j\n",
      "  2.19131471e-06-1.37695433e-05j  1.19258925e-06-1.38170753e-05j\n",
      "  2.10908027e-07-1.37673669e-05j -7.39877976e-07-1.36267463e-05j\n",
      " -1.64770893e-06-1.34040656e-05j -2.50281732e-06-1.31102279e-05j\n",
      " -3.29810814e-06-1.27576113e-05j -4.02939668e-06-1.23594264e-05j\n",
      " -4.69549514e-06-1.19290335e-05j -5.29813951e-06-1.14792647e-05j\n",
      " -5.84176632e-06-1.10217779e-05j -6.33314448e-06-1.05664840e-05j\n",
      " -6.78089191e-06-1.01210744e-05j -7.19489299e-06-9.69066787e-06j\n",
      " -7.58565420e-06-9.27761084e-06j -7.96363111e-06-8.88142313e-06j\n",
      " -8.33856484e-06-8.49890512e-06j -8.71885459e-06-8.12439157e-06j\n",
      " -9.11101597e-06-7.75014814e-06j -9.51923721e-06-7.36687571e-06j\n",
      " -9.94506809e-06-6.96431107e-06j -1.03872544e-05-6.53187772e-06j\n",
      " -1.08417298e-05-6.05936111e-06j -1.13017559e-05-5.53756945e-06j\n",
      " -1.17582258e-05-4.95894210e-06j -1.22000811e-05-4.31807575e-06j\n",
      " -1.26148598e-05-3.61214165e-06j -1.29893097e-05-2.84116686e-06j\n",
      " -1.33100630e-05-2.00816589e-06j -1.35643195e-05-1.11911800e-06j\n",
      " -1.37405095e-05-1.82786522e-07j -1.38288988e-05+7.89607157e-07j\n",
      " -1.38221067e-05+1.78484061e-06j -1.37155066e-05+2.78825269e-06j\n",
      " -1.35074870e-05+3.78438449e-06j -1.31995657e-05+4.75766183e-06j\n",
      " -1.27963385e-05+5.69308668e-06j -1.23052841e-05+6.57690180e-06j\n",
      " -1.17364107e-05+7.39718735e-06j -1.11017880e-05+8.14437226e-06j\n",
      " -1.04149713e-05+8.81161304e-06j -9.69035409e-06+9.39504571e-06j\n",
      " -8.94248751e-06+9.89386990e-06j -8.18538956e-06+1.03102893e-05j\n",
      " -7.43190139e-06+1.06492889e-05j -6.69309748e-06+1.09182747e-05j\n",
      " -5.97780945e-06+1.11265890e-05j -5.29226054e-06+1.12849320e-05j]\n"
     ]
    }
   ],
   "source": [
    "print(channel[10000][0][0])"
   ]
  },
  {
   "cell_type": "code",
   "execution_count": 17,
   "id": "f65feb3b",
   "metadata": {},
   "outputs": [
    {
     "name": "stdout",
     "output_type": "stream",
     "text": [
      "[0.+0.j 0.+0.j 0.+0.j 0.+0.j 0.+0.j 0.+0.j 0.+0.j 0.+0.j 0.+0.j 0.+0.j\n",
      " 0.+0.j 0.+0.j 0.+0.j 0.+0.j 0.+0.j 0.+0.j 0.+0.j 0.+0.j 0.+0.j 0.+0.j\n",
      " 0.+0.j 0.+0.j 0.+0.j 0.+0.j 0.+0.j 0.+0.j 0.+0.j 0.+0.j 0.+0.j 0.+0.j\n",
      " 0.+0.j 0.+0.j 0.+0.j 0.+0.j 0.+0.j 0.+0.j 0.+0.j 0.+0.j 0.+0.j 0.+0.j\n",
      " 0.+0.j 0.+0.j 0.+0.j 0.+0.j 0.+0.j 0.+0.j 0.+0.j 0.+0.j 0.+0.j 0.+0.j\n",
      " 0.+0.j 0.+0.j 0.+0.j 0.+0.j 0.+0.j 0.+0.j 0.+0.j 0.+0.j 0.+0.j 0.+0.j\n",
      " 0.+0.j 0.+0.j 0.+0.j 0.+0.j]\n"
     ]
    }
   ],
   "source": [
    "print(channel[1][0][0])"
   ]
  },
  {
   "cell_type": "markdown",
   "id": "2b079846",
   "metadata": {},
   "source": [
    "# 사용자 위치 정보"
   ]
  },
  {
   "cell_type": "code",
   "execution_count": 18,
   "id": "84337e94",
   "metadata": {},
   "outputs": [
    {
     "name": "stdout",
     "output_type": "stream",
     "text": [
      "(69040, 3)\n",
      "[[-91.03330231 -15.57629967   1.        ]\n",
      " [-90.83329773 -15.57629967   1.        ]\n",
      " [-90.63330078 -15.57629967   1.        ]\n",
      " [-90.4332962  -15.57629967   1.        ]]\n"
     ]
    }
   ],
   "source": [
    "location = dataset[0][0]['user']['location']\n",
    "print(location.shape)      # (사용자 수, 3)\n",
    "print(location[0:4])         # 첫 번째 사용자의 (x, y, z)"
   ]
  },
  {
   "cell_type": "markdown",
   "id": "60e9a9b6",
   "metadata": {},
   "source": [
    "# 경로정보"
   ]
  },
  {
   "cell_type": "code",
   "execution_count": 19,
   "id": "79cde8ee",
   "metadata": {},
   "outputs": [
    {
     "name": "stdout",
     "output_type": "stream",
     "text": [
      "69040\n",
      "{'num_paths': 0, 'DoD_phi': [], 'DoD_theta': [], 'DoA_phi': [], 'DoA_theta': [], 'phase': [], 'ToA': [], 'power': [], 'LoS': []}\n"
     ]
    }
   ],
   "source": [
    "paths = dataset[0][0]['user']['paths']\n",
    "#사용자 수\n",
    "print(len(paths))\n",
    "# 첫 번째 사용자 경로 정보\n",
    "print(paths[0])"
   ]
  },
  {
   "cell_type": "markdown",
   "id": "f2242869",
   "metadata": {},
   "source": [
    "# 기지국 정보"
   ]
  },
  {
   "cell_type": "code",
   "execution_count": 20,
   "id": "2900e481",
   "metadata": {},
   "outputs": [
    {
     "name": "stdout",
     "output_type": "stream",
     "text": [
      "dict_keys(['paths', 'LoS', 'location', 'distance', 'pathloss', 'channel'])\n"
     ]
    }
   ],
   "source": [
    "bs_data = dataset[0][0]['basestation']\n",
    "print(bs_data.keys())\n"
   ]
  },
  {
   "cell_type": "markdown",
   "id": "c063ea95",
   "metadata": {},
   "source": [
    "# Scene 및 사용자 수"
   ]
  },
  {
   "cell_type": "code",
   "execution_count": 21,
   "id": "a20df92d",
   "metadata": {},
   "outputs": [
    {
     "name": "stdout",
     "output_type": "stream",
     "text": [
      "Scene 0: 69040 users\n"
     ]
    }
   ],
   "source": [
    "for i, scene in enumerate(dataset[0]):\n",
    "    user_locs = scene['user']['location']\n",
    "    print(f\"Scene {i}: {len(user_locs)} users\")"
   ]
  },
  {
   "cell_type": "markdown",
   "id": "b38f71e1",
   "metadata": {},
   "source": [
    "# 채널 수"
   ]
  },
  {
   "cell_type": "code",
   "execution_count": 22,
   "id": "cbbee52e",
   "metadata": {},
   "outputs": [
    {
     "data": {
      "text/plain": [
       "69040"
      ]
     },
     "execution_count": 22,
     "metadata": {},
     "output_type": "execute_result"
    }
   ],
   "source": [
    "len(dataset[0][0]['user']['channel'])"
   ]
  },
  {
   "cell_type": "code",
   "execution_count": 23,
   "id": "2d474195",
   "metadata": {},
   "outputs": [
    {
     "name": "stdout",
     "output_type": "stream",
     "text": [
      "{'num_paths': 0, 'DoD_phi': [], 'DoD_theta': [], 'DoA_phi': [], 'DoA_theta': [], 'phase': [], 'ToA': [], 'power': [], 'LoS': []}\n"
     ]
    }
   ],
   "source": [
    "print(dataset[0][0]['user']['paths'][0])"
   ]
  },
  {
   "cell_type": "code",
   "execution_count": 24,
   "id": "73df9912",
   "metadata": {},
   "outputs": [
    {
     "name": "stdout",
     "output_type": "stream",
     "text": [
      "(1, 32, 64)\n"
     ]
    }
   ],
   "source": [
    "scene = dataset[0][0] # scene 0\n",
    "ue_idx = 0 # 첫 번째 사용자\n",
    "channel = scene['user']['channel'][ue_idx]\n",
    "print(channel.shape)"
   ]
  },
  {
   "cell_type": "code",
   "execution_count": 25,
   "id": "c312bc2a",
   "metadata": {},
   "outputs": [],
   "source": [
    "import torch\n",
    "import torch.nn as nn\n",
    "import torch.optim as optim\n",
    "import torchvision\n",
    "import torchvision.transforms as transforms\n",
    "from torch.utils.data import DataLoader\n",
    "import matplotlib.pyplot as plt"
   ]
  },
  {
   "cell_type": "code",
   "execution_count": 26,
   "id": "7f11a45a",
   "metadata": {},
   "outputs": [
    {
     "name": "stdout",
     "output_type": "stream",
     "text": [
      "cuda\n"
     ]
    }
   ],
   "source": [
    "# GPU 설정\n",
    "device = torch.device(\"cuda\" if torch.cuda.is_available() else \"cpu\")\n",
    "\n",
    "print(device)"
   ]
  },
  {
   "cell_type": "markdown",
   "id": "373ffb59",
   "metadata": {},
   "source": [
    "# channel CIR mat 정보 가져오기"
   ]
  },
  {
   "cell_type": "code",
   "execution_count": 27,
   "id": "ec4461cb",
   "metadata": {},
   "outputs": [
    {
     "name": "stdout",
     "output_type": "stream",
     "text": [
      "dict_keys(['__header__', '__version__', '__globals__', 'CIR_array_full'])\n"
     ]
    }
   ],
   "source": [
    "import scipy.io as sio\n",
    "\n",
    "file_path = r'C:\\Users\\dlghd\\졸업프로젝트\\LWM\\O2_dyn_3p5\\scene_0\\O2_dyn_3p5.1.CIR.mat'\n",
    "mat_data = sio.loadmat(file_path)\n",
    "\n",
    "# 파일 안의 key 확인\n",
    "print(mat_data.keys())\n",
    "\n",
    "\n"
   ]
  },
  {
   "cell_type": "code",
   "execution_count": 28,
   "id": "662cb441",
   "metadata": {},
   "outputs": [
    {
     "name": "stdout",
     "output_type": "stream",
     "text": [
      "b'MATLAB 5.0 MAT-file, Platform: PCWIN64, Created on: Wed Jun 30 11:33:01 2021'\n"
     ]
    }
   ],
   "source": [
    "# 일반적으로 CIR key는 'CIR' 또는 'cir' 같은 이름일 가능성 높음\n",
    "H_cir = mat_data['__header__']  \n",
    "print(H_cir)"
   ]
  },
  {
   "cell_type": "markdown",
   "id": "88f3d7c7",
   "metadata": {},
   "source": [
    "# Time-Prediction 시작\n",
    "## Time Series 형태로 변환\n",
    "### 단일사용자 채널 예측"
   ]
  },
  {
   "cell_type": "code",
   "execution_count": 29,
   "id": "db7345b0",
   "metadata": {},
   "outputs": [],
   "source": [
    "# H = dataset[0][0]['user']['channel'][100]  # (1, 32, 64), complex\n",
    "# H = H.squeeze(0)  # → (32, 64)\n",
    "\n",
    "# # 채널은 복소수 형태\n",
    "# H_real = H.real   # shape: (32, 64)\n",
    "# H_imag = H.imag   # shape: (32, 64)\n",
    "\n",
    "# H_combined = np.concatenate([H_real, H_imag], axis=0)  # shape: (64, 64)\n"
   ]
  },
  {
   "cell_type": "code",
   "execution_count": 40,
   "id": "59cde91f",
   "metadata": {},
   "outputs": [
    {
     "name": "stdout",
     "output_type": "stream",
     "text": [
      "0.0\n"
     ]
    }
   ],
   "source": [
    "import numpy as np\n",
    "print(np.real_if_close(sum(dataset[0][0]['user']['channel'][1][0][0])))\n"
   ]
  },
  {
   "cell_type": "code",
   "execution_count": 31,
   "id": "71ac75d6",
   "metadata": {},
   "outputs": [
    {
     "name": "stdout",
     "output_type": "stream",
     "text": [
      "[[[-4.9276509e-06+6.0179661e-07j -4.7681883e-06+1.3829425e-06j\n",
      "   -4.4857170e-06+2.1285541e-06j ...  4.3711116e-06-2.4074948e-06j\n",
      "    3.9297033e-06-3.0764131e-06j  3.3868639e-06-3.6660977e-06j]\n",
      "  [-4.7825752e-06+1.6998159e-06j -4.4491662e-06+2.4436672e-06j\n",
      "   -4.0009481e-06+3.1246111e-06j ...  3.8229477e-06-3.3767817e-06j\n",
      "    3.2333687e-06-3.9455144e-06j  2.5602983e-06-4.4125736e-06j]\n",
      "  [-4.3861578e-06+2.7614337e-06j -3.8878534e-06+3.4282084e-06j\n",
      "   -3.2891933e-06+4.0066625e-06j ...  3.0543217e-06-4.2173128e-06j\n",
      "    2.3400164e-06-4.6522073e-06j  1.5652473e-06-4.9671735e-06j]\n",
      "  ...\n",
      "  [-5.9705985e-06+1.8381670e-06j -5.5992200e-06+2.7702260e-06j\n",
      "   -5.0834296e-06+3.6307945e-06j ...  4.8462462e-06-3.9304277e-06j\n",
      "    4.1544481e-06-4.6554678e-06j  3.3555179e-06-5.2603964e-06j]\n",
      "  [-5.3850690e-06+3.0986103e-06j -4.8194606e-06+3.9206407e-06j\n",
      "   -4.1295657e-06+4.6415066e-06j ...  3.8328362e-06-4.8787911e-06j\n",
      "    3.0023016e-06-5.4293314e-06j  2.0943648e-06-5.8398036e-06j]\n",
      "  [-4.5357333e-06+4.1878652e-06j -3.8067144e-06+4.8598408e-06j\n",
      "   -2.9795442e-06+5.4064294e-06j ...  2.6393784e-06-5.5698706e-06j\n",
      "    1.7136289e-06-5.9204085e-06j  7.4372792e-07-6.1182200e-06j]]]\n"
     ]
    }
   ],
   "source": [
    "print(dataset[0][0]['user']['channel'][100])"
   ]
  },
  {
   "cell_type": "code",
   "execution_count": 32,
   "id": "a0e61fdc",
   "metadata": {},
   "outputs": [
    {
     "name": "stdout",
     "output_type": "stream",
     "text": [
      "[[-4.9276509e-06+6.0179661e-07j -4.7681883e-06+1.3829425e-06j\n",
      "  -4.4857170e-06+2.1285541e-06j ...  4.3711116e-06-2.4074948e-06j\n",
      "   3.9297033e-06-3.0764131e-06j  3.3868639e-06-3.6660977e-06j]\n",
      " [-4.7825752e-06+1.6998159e-06j -4.4491662e-06+2.4436672e-06j\n",
      "  -4.0009481e-06+3.1246111e-06j ...  3.8229477e-06-3.3767817e-06j\n",
      "   3.2333687e-06-3.9455144e-06j  2.5602983e-06-4.4125736e-06j]\n",
      " [-4.3861578e-06+2.7614337e-06j -3.8878534e-06+3.4282084e-06j\n",
      "  -3.2891933e-06+4.0066625e-06j ...  3.0543217e-06-4.2173128e-06j\n",
      "   2.3400164e-06-4.6522073e-06j  1.5652473e-06-4.9671735e-06j]\n",
      " ...\n",
      " [-5.9705985e-06+1.8381670e-06j -5.5992200e-06+2.7702260e-06j\n",
      "  -5.0834296e-06+3.6307945e-06j ...  4.8462462e-06-3.9304277e-06j\n",
      "   4.1544481e-06-4.6554678e-06j  3.3555179e-06-5.2603964e-06j]\n",
      " [-5.3850690e-06+3.0986103e-06j -4.8194606e-06+3.9206407e-06j\n",
      "  -4.1295657e-06+4.6415066e-06j ...  3.8328362e-06-4.8787911e-06j\n",
      "   3.0023016e-06-5.4293314e-06j  2.0943648e-06-5.8398036e-06j]\n",
      " [-4.5357333e-06+4.1878652e-06j -3.8067144e-06+4.8598408e-06j\n",
      "  -2.9795442e-06+5.4064294e-06j ...  2.6393784e-06-5.5698706e-06j\n",
      "   1.7136289e-06-5.9204085e-06j  7.4372792e-07-6.1182200e-06j]]\n"
     ]
    }
   ],
   "source": [
    "print(dataset[0][0]['user']['channel'][100][0])"
   ]
  },
  {
   "cell_type": "code",
   "execution_count": 33,
   "id": "f6dd5ef3",
   "metadata": {},
   "outputs": [
    {
     "name": "stdout",
     "output_type": "stream",
     "text": [
      "[-4.9276509e-06+6.01796614e-07j -4.7681883e-06+1.38294251e-06j\n",
      " -4.4857170e-06+2.12855412e-06j -4.0875007e-06+2.81939424e-06j\n",
      " -3.5837904e-06+3.43763554e-06j -2.9875603e-06+3.96731957e-06j\n",
      " -2.3141718e-06+4.39476889e-06j -1.5809800e-06+4.70894201e-06j\n",
      " -8.0688528e-07+4.90171533e-06j -1.1846073e-08+4.96809662e-06j\n",
      "  7.8363547e-07+4.90635148e-06j  1.5590423e-06+4.71805060e-06j\n",
      "  2.2943716e-06+4.40802887e-06j  2.9706505e-06+3.98426164e-06j\n",
      "  3.5704263e-06+3.45765898e-06j  4.0782165e-06+2.84178554e-06j\n",
      "  4.4809080e-06+2.15251043e-06j  4.7680969e-06+1.40759926e-06j\n",
      "  4.9323558e-06+6.26255030e-07j  4.9694268e-06-1.71375717e-07j\n",
      "  4.8783322e-06-9.64723313e-07j  4.6613995e-06-1.73332489e-06j\n",
      "  4.3242021e-06-2.45735214e-06j  3.8754165e-06-3.11812346e-06j\n",
      "  3.3265987e-06-3.69858503e-06j  2.6918867e-06-4.18375157e-06j\n",
      "  1.9876366e-06-4.56109365e-06j  1.2320000e-06-4.82086034e-06j\n",
      "  4.4445818e-07-4.95633094e-06j -3.5468213e-07-4.96399070e-06j\n",
      " -1.1448113e-06-4.84361954e-06j -1.9055489e-06-4.59830062e-06j\n",
      " -2.6172684e-06-4.23433994e-06j -3.2616049e-06-3.76110393e-06j\n",
      " -3.8219277e-06-3.19078003e-06j -4.2837710e-06-2.53806161e-06j\n",
      " -4.6352056e-06-1.81976930e-06j -4.8671486e-06-1.05441848e-06j\n",
      " -4.9735968e-06-2.61740951e-07j -4.9517835e-06+5.37822928e-07j\n",
      " -4.8022494e-06+1.32365199e-06j -4.5288293e-06+2.07547532e-06j\n",
      " -4.1385542e-06+2.77389631e-06j -3.6414704e-06+3.40089196e-06j\n",
      " -3.0503802e-06+3.94027802e-06j -2.3805130e-06+4.37812832e-06j\n",
      " -1.6491331e-06+4.70313171e-06j -8.7509352e-07+4.90688672e-06j\n",
      " -7.8351313e-08+4.98411737e-06j  7.2054769e-07+4.93281004e-06j\n",
      "  1.5009985e-06+4.75426623e-06j  2.2428685e-06+4.45306887e-06j\n",
      "  2.9270163e-06+4.03696595e-06j  3.5357868e-06+3.51666972e-06j\n",
      "  4.0534655e-06+2.90558251e-06j  4.4666845e-06+2.21944993e-06j\n",
      "  4.7647686e-06+1.47595586e-06j  4.9400096e-06+6.94267158e-07j\n",
      "  4.9878672e-06-1.05461396e-07j  4.9070845e-06-9.02606018e-07j\n",
      "  4.6997238e-06-1.67660619e-06j  4.3711116e-06-2.40749478e-06j\n",
      "  3.9297033e-06-3.07641312e-06j  3.3868639e-06-3.66609765e-06j]\n"
     ]
    }
   ],
   "source": [
    "print(dataset[0][0]['user']['channel'][100][0][0])"
   ]
  },
  {
   "cell_type": "code",
   "execution_count": 34,
   "id": "6230e53a",
   "metadata": {},
   "outputs": [
    {
     "name": "stdout",
     "output_type": "stream",
     "text": [
      "(-4.927651e-06+6.017966e-07j)\n"
     ]
    }
   ],
   "source": [
    "print(dataset[0][0]['user']['channel'][100][0][0][0])"
   ]
  },
  {
   "cell_type": "code",
   "execution_count": 70,
   "id": "4f36971f",
   "metadata": {},
   "outputs": [
    {
     "name": "stdout",
     "output_type": "stream",
     "text": [
      "0이 존재하는 채널 개수 0\n"
     ]
    }
   ],
   "source": [
    "# print(dataset[0][0]['user']['channel'][150][0][3])\n",
    "\n",
    "count = 0\n",
    "for h in dataset[0][0]['user']['channel'][100][0]:\n",
    "#     h = h.squeeze(0)\n",
    "    h_real = h.real\n",
    "    h_imag = h.imag\n",
    "    if np.sum(np.abs(h_real)) ==0:\n",
    "        count+=1\n",
    "    elif np.sum(np.abs(h_imag)) == 0:\n",
    "        count+=1\n",
    "\n",
    "print(\"0이 존재하는 채널 개수\",count)"
   ]
  },
  {
   "cell_type": "code",
   "execution_count": 71,
   "id": "7575de2b",
   "metadata": {},
   "outputs": [
    {
     "name": "stdout",
     "output_type": "stream",
     "text": [
      "Antenna #3 subcarriers: [-3.7481711e-06+3.7276918e-06j -3.1033380e-06+4.2799297e-06j\n",
      " -2.3783671e-06+4.7218546e-06j -1.5919456e-06+5.0420513e-06j\n",
      " -7.6434952e-07+5.2322434e-06j  8.3081005e-08+5.2875071e-06j\n",
      "  9.2849081e-07+5.2063970e-06j  1.7500737e-06+4.9909859e-06j\n",
      "  2.5266352e-06+4.6468099e-06j  3.2381383e-06+4.1827284e-06j\n",
      "  3.8662224e-06+3.6106942e-06j  4.3946743e-06+2.9454461e-06j\n",
      "  4.8098500e-06+2.2041299e-06j  5.1010238e-06+1.4058554e-06j\n",
      "  5.2606679e-06+5.7120445e-07j  5.2846453e-06-2.7829972e-07j\n",
      "  5.1723187e-06-1.1207479e-06j  4.9265650e-06-1.9344095e-06j\n",
      "  4.5537045e-06-2.6982937e-06j  4.0633354e-06-3.3926899e-06j\n",
      "  3.4680893e-06-3.9996776e-06j  2.7833046e-06-4.5035881e-06j\n",
      "  2.0266314e-06-4.8914089e-06j  1.2175759e-06-5.1531201e-06j\n",
      "  3.7699922e-07-5.2819537e-06j -4.7342218e-07-5.2745672e-06j\n",
      " -1.3117545e-06-5.1311317e-06j -2.1163728e-06-4.8553270e-06j\n",
      " -2.8665186e-06-4.4542485e-06j -3.5428352e-06-3.9382230e-06j\n",
      " -4.1278677e-06-3.3205442e-06j -4.6065129e-06-2.6171292e-06j\n",
      " -4.9664100e-06-1.8461093e-06j -5.1982593e-06-1.0273618e-06j\n",
      " -5.2960613e-06-1.8199796e-07j -5.2572755e-06+6.6818120e-07j\n",
      " -5.0828817e-06+1.5012477e-06j -4.7773592e-06+2.2957113e-06j\n",
      " -4.3485697e-06+3.0310748e-06j -3.8075548e-06+3.6883623e-06j\n",
      " -3.1682537e-06+4.2506094e-06j -2.4471415e-06+4.7032995e-06j\n",
      " -1.6628065e-06+5.0347412e-06j -8.3547025e-07+5.2363685e-06j\n",
      "  1.3533687e-08+5.3029612e-06j  8.6230989e-07+5.2327832e-06j\n",
      "  1.6889655e-06+5.0276249e-06j  2.4721755e-06+4.6927585e-06j\n",
      "  3.1917318e-06+4.2368029e-06j  3.8290659e-06+3.6715010e-06j\n",
      "  4.3677264e-06+3.0114188e-06j  4.7938065e-06+2.2735683e-06j\n",
      "  5.0962994e-06+1.4769696e-06j  5.2673859e-06+6.4216152e-07j\n",
      "  5.3026333e-06-2.0932896e-07j  5.2011137e-06-1.0555416e-06j\n",
      "  4.9654259e-06-1.8746490e-06j  4.6016303e-06-2.6455198e-06j\n",
      "  4.1190920e-06-3.3482638e-06j  3.5302398e-06-3.9647457e-06j\n",
      "  2.8502477e-06-4.4790513e-06j  2.0966418e-06-4.8779011e-06j\n",
      "  1.2888491e-06-5.1509905e-06j  4.4769803e-07-5.2912578e-06j]\n",
      "0+0j인 서브캐리어 개수: 0\n",
      "완전 0+0j 안테나 포트 개수: 0\n",
      "0이 아닌 서브캐리어 개수: 2048\n"
     ]
    }
   ],
   "source": [
    "import numpy as np\n",
    "\n",
    "# 1) (user, ue_port, bs_ant, subc) → (bs_ant, subc) 로 squeeze\n",
    "H = dataset[0][0]['user']['channel'][100, 0]   # shape: (32, 64), complex\n",
    "\n",
    "# 2) BS 안테나 인덱스 3의 서브캐리어 벡터 (64,)\n",
    "print(\"Antenna #3 subcarriers:\", H[3])\n",
    "\n",
    "# 3) 전체 서브캐리어(32×64) 중 값이 정확히 0인 요소 개수\n",
    "zero_elements = np.sum(H == 0)\n",
    "print(\"0+0j인 서브캐리어 개수:\", zero_elements)\n",
    "\n",
    "# 4) 서브캐리어 전부가 0인 안테나 포트(행) 개수\n",
    "zero_ports = np.sum(np.all(H == 0, axis=1))\n",
    "print(\"완전 0+0j 안테나 포트 개수:\", zero_ports)\n",
    "\n",
    "# 5) 만약 “값이 하나도 0이 아닌” 서브캐리어 요소 개수를 보고 싶다면\n",
    "nonzero_elements = np.sum(np.abs(H) > 0)\n",
    "print(\"0이 아닌 서브캐리어 개수:\", nonzero_elements)\n"
   ]
  },
  {
   "cell_type": "code",
   "execution_count": 72,
   "id": "1f97d362",
   "metadata": {},
   "outputs": [],
   "source": [
    "# 단일 사용자에 대한 예측 코드\n",
    "channel_sequence = []\n",
    "\n",
    "for scene in dataset:\n",
    "    # 100번재 사용자에 대한 예측\n",
    "    H = scene[0]['user']['channel'][150]\n",
    "    H = H.squeeze(0)\n",
    "    # 채널은 복소수 형태 \n",
    "    H_real = H.real # (32, 64) = (BS antenna, subcarrier)\n",
    "    H_imag = H.imag\n",
    "    H_concat = np.concatenate([H_real, H_imag], axis=0) \n",
    "    channel_sequence.append(H_concat)\n",
    "\n",
    "# T는 sence\n",
    "channel_sequence = np.stack(channel_sequence)  # shape: (T, 64, 64) = (real/imag쌍, subcarrier)\n"
   ]
  },
  {
   "cell_type": "code",
   "execution_count": 1,
   "id": "63f48bf7",
   "metadata": {},
   "outputs": [
    {
     "ename": "NameError",
     "evalue": "name 'dataset' is not defined",
     "output_type": "error",
     "traceback": [
      "\u001b[1;31m---------------------------------------------------------------------------\u001b[0m",
      "\u001b[1;31mNameError\u001b[0m                                 Traceback (most recent call last)",
      "Cell \u001b[1;32mIn[1], line 1\u001b[0m\n\u001b[1;32m----> 1\u001b[0m \u001b[38;5;28mprint\u001b[39m(dataset[\u001b[38;5;241m0\u001b[39m][\u001b[38;5;241m0\u001b[39m][\u001b[38;5;124m'\u001b[39m\u001b[38;5;124muser\u001b[39m\u001b[38;5;124m'\u001b[39m][\u001b[38;5;124m'\u001b[39m\u001b[38;5;124mchannel\u001b[39m\u001b[38;5;124m'\u001b[39m][\u001b[38;5;241m0\u001b[39m])\n",
      "\u001b[1;31mNameError\u001b[0m: name 'dataset' is not defined"
     ]
    }
   ],
   "source": [
    "print(dataset[0][0]['user']['channel'][0])"
   ]
  },
  {
   "cell_type": "code",
   "execution_count": 74,
   "id": "966444f2",
   "metadata": {},
   "outputs": [],
   "source": [
    "# print(\"-\" * 40)\n",
    "# print(\"scene 개수 :\", len(dataset[0]))\n",
    "\n",
    "# valid_users = 0\n",
    "# for s_idx, scene in enumerate(dataset):\n",
    "#     ch_all = scene[0]['user']['channel']\n",
    "#     nonzero_mask = np.abs(ch_all).sum(axis=(1,2,3)) > 0   # (num_users,)\n",
    "#     n_ok = nonzero_mask.sum()\n",
    "#     print(f\"scene {s_idx}  ▶  사용자 {n_ok}/{len(ch_all)} 명 유효\")\n",
    "#     valid_users += n_ok\n",
    "# print(\"총 유효 사용자(중복 포함):\", valid_users)\n",
    "# print(\"-\" * 40)\n"
   ]
  },
  {
   "cell_type": "code",
   "execution_count": 75,
   "id": "c5a6666e",
   "metadata": {},
   "outputs": [],
   "source": [
    "# seq_len = 5                       # 슬라이딩 윈도우 길이\n",
    "# user_sequences = {}               # {user_id: [H_concat_t0, …]}\n",
    "\n",
    "# # ── ①  BS #1 의 scene 0~N 순회 ───────────────────────────\n",
    "# for scene in dataset[0]:                              \n",
    "#     user_all = scene['user']['channel']               # (U, 1, 32, 64)\n",
    "#     num_users = user_all.shape[0]\n",
    "\n",
    "#     # ── ②  scene 안의 모든 user 순회 ────────────────────\n",
    "#     for u in range(num_users):\n",
    "#         H = user_all[u]                               # (1, 32, 64)\n",
    "#         if np.abs(H).sum() == 0:                      # 결측(전부 0) → skip\n",
    "#             continue\n",
    "\n",
    "#         H = H.squeeze(0)                              # (32, 64)\n",
    "#         H_concat = np.concatenate([H.real, H.imag],   # (64, 64)\n",
    "#                                    axis=0)\n",
    "\n",
    "#         user_sequences.setdefault(u, []).append(H_concat)\n",
    "\n",
    "# # ── ③  seq_len 이상 길이를 가진 user 로부터 (X, y) 생성 ──\n",
    "# X_list, y_list = [], []\n",
    "\n",
    "# for u, seq in user_sequences.items():                 # seq 길이 = T_u\n",
    "#     if len(seq) < seq_len:\n",
    "#         continue\n",
    "#     seq = np.stack(seq)                               # (T_u, 64, 64)\n",
    "\n",
    "#     for i in range(len(seq) - seq_len + 1):\n",
    "#         X_list.append(seq[i : i+seq_len-1])           # (seq_len-1,64,64)\n",
    "#         y_list.append(seq[i + seq_len-1])             # (64,64)\n",
    "\n",
    "# X = np.stack(X_list)                                  # (N, 4, 64, 64)\n",
    "# y = np.stack(y_list)                                  # (N, 64, 64)\n",
    "# print(\"총 유효 샘플:\", len(X))\n"
   ]
  },
  {
   "cell_type": "code",
   "execution_count": 76,
   "id": "8a7ef1a3",
   "metadata": {},
   "outputs": [
    {
     "name": "stdout",
     "output_type": "stream",
     "text": [
      "[[[[0.+0.j 0.+0.j 0.+0.j ... 0.+0.j 0.+0.j 0.+0.j]\n",
      "   [0.+0.j 0.+0.j 0.+0.j ... 0.+0.j 0.+0.j 0.+0.j]\n",
      "   [0.+0.j 0.+0.j 0.+0.j ... 0.+0.j 0.+0.j 0.+0.j]\n",
      "   ...\n",
      "   [0.+0.j 0.+0.j 0.+0.j ... 0.+0.j 0.+0.j 0.+0.j]\n",
      "   [0.+0.j 0.+0.j 0.+0.j ... 0.+0.j 0.+0.j 0.+0.j]\n",
      "   [0.+0.j 0.+0.j 0.+0.j ... 0.+0.j 0.+0.j 0.+0.j]]]\n",
      "\n",
      "\n",
      " [[[0.+0.j 0.+0.j 0.+0.j ... 0.+0.j 0.+0.j 0.+0.j]\n",
      "   [0.+0.j 0.+0.j 0.+0.j ... 0.+0.j 0.+0.j 0.+0.j]\n",
      "   [0.+0.j 0.+0.j 0.+0.j ... 0.+0.j 0.+0.j 0.+0.j]\n",
      "   ...\n",
      "   [0.+0.j 0.+0.j 0.+0.j ... 0.+0.j 0.+0.j 0.+0.j]\n",
      "   [0.+0.j 0.+0.j 0.+0.j ... 0.+0.j 0.+0.j 0.+0.j]\n",
      "   [0.+0.j 0.+0.j 0.+0.j ... 0.+0.j 0.+0.j 0.+0.j]]]\n",
      "\n",
      "\n",
      " [[[0.+0.j 0.+0.j 0.+0.j ... 0.+0.j 0.+0.j 0.+0.j]\n",
      "   [0.+0.j 0.+0.j 0.+0.j ... 0.+0.j 0.+0.j 0.+0.j]\n",
      "   [0.+0.j 0.+0.j 0.+0.j ... 0.+0.j 0.+0.j 0.+0.j]\n",
      "   ...\n",
      "   [0.+0.j 0.+0.j 0.+0.j ... 0.+0.j 0.+0.j 0.+0.j]\n",
      "   [0.+0.j 0.+0.j 0.+0.j ... 0.+0.j 0.+0.j 0.+0.j]\n",
      "   [0.+0.j 0.+0.j 0.+0.j ... 0.+0.j 0.+0.j 0.+0.j]]]\n",
      "\n",
      "\n",
      " ...\n",
      "\n",
      "\n",
      " [[[0.+0.j 0.+0.j 0.+0.j ... 0.+0.j 0.+0.j 0.+0.j]\n",
      "   [0.+0.j 0.+0.j 0.+0.j ... 0.+0.j 0.+0.j 0.+0.j]\n",
      "   [0.+0.j 0.+0.j 0.+0.j ... 0.+0.j 0.+0.j 0.+0.j]\n",
      "   ...\n",
      "   [0.+0.j 0.+0.j 0.+0.j ... 0.+0.j 0.+0.j 0.+0.j]\n",
      "   [0.+0.j 0.+0.j 0.+0.j ... 0.+0.j 0.+0.j 0.+0.j]\n",
      "   [0.+0.j 0.+0.j 0.+0.j ... 0.+0.j 0.+0.j 0.+0.j]]]\n",
      "\n",
      "\n",
      " [[[0.+0.j 0.+0.j 0.+0.j ... 0.+0.j 0.+0.j 0.+0.j]\n",
      "   [0.+0.j 0.+0.j 0.+0.j ... 0.+0.j 0.+0.j 0.+0.j]\n",
      "   [0.+0.j 0.+0.j 0.+0.j ... 0.+0.j 0.+0.j 0.+0.j]\n",
      "   ...\n",
      "   [0.+0.j 0.+0.j 0.+0.j ... 0.+0.j 0.+0.j 0.+0.j]\n",
      "   [0.+0.j 0.+0.j 0.+0.j ... 0.+0.j 0.+0.j 0.+0.j]\n",
      "   [0.+0.j 0.+0.j 0.+0.j ... 0.+0.j 0.+0.j 0.+0.j]]]\n",
      "\n",
      "\n",
      " [[[0.+0.j 0.+0.j 0.+0.j ... 0.+0.j 0.+0.j 0.+0.j]\n",
      "   [0.+0.j 0.+0.j 0.+0.j ... 0.+0.j 0.+0.j 0.+0.j]\n",
      "   [0.+0.j 0.+0.j 0.+0.j ... 0.+0.j 0.+0.j 0.+0.j]\n",
      "   ...\n",
      "   [0.+0.j 0.+0.j 0.+0.j ... 0.+0.j 0.+0.j 0.+0.j]\n",
      "   [0.+0.j 0.+0.j 0.+0.j ... 0.+0.j 0.+0.j 0.+0.j]\n",
      "   [0.+0.j 0.+0.j 0.+0.j ... 0.+0.j 0.+0.j 0.+0.j]]]]\n",
      "--------\n",
      "[[[-3.0462797e-06-4.1640587e-06j -3.5631390e-06-3.7471143e-06j\n",
      "   -4.0263712e-06-3.2677183e-06j ... -2.1934463e-06+8.0978161e-06j\n",
      "   -9.7651218e-07+8.3706336e-06j  2.7380261e-07+8.4589865e-06j]\n",
      "  [-4.0872669e-06-3.1760510e-06j -4.4646422e-06-2.6283692e-06j\n",
      "   -4.7722920e-06-2.0372786e-06j ... -2.0024264e-07+8.3355189e-06j\n",
      "    1.0373609e-06+8.3145878e-06j  2.2647778e-06+8.1081162e-06j]\n",
      "  [-4.8238639e-06-1.9381635e-06j -5.0304839e-06-1.3032632e-06j\n",
      "   -5.1573734e-06-6.4783558e-07j ...  1.7805065e-06+8.0783639e-06j\n",
      "    2.9671387e-06+7.7692966e-06j  4.1013609e-06+7.2840257e-06j]\n",
      "  ...\n",
      "  [-5.4093848e-06+2.1784631e-06j -4.9797554e-06+2.9297628e-06j\n",
      "   -4.4477520e-06+3.6006513e-06j ...  2.0317984e-06+2.4452056e-06j\n",
      "    2.3417051e-06+2.2002798e-06j  2.6260036e-06+1.9156323e-06j]\n",
      "  [-4.6861974e-06+3.3551210e-06j -4.0971222e-06+3.9802139e-06j\n",
      "   -3.4272878e-06+4.5037405e-06j ...  2.4326860e-06+1.6973258e-06j\n",
      "    2.6450730e-06+1.4049468e-06j  2.8262241e-06+1.0849101e-06j]\n",
      "  [-3.7178224e-06+4.3009827e-06j -3.0065632e-06+4.7676681e-06j\n",
      "   -2.2402799e-06+5.1176089e-06j ...  2.6029081e-06+9.1588612e-07j\n",
      "    2.7154636e-06+6.0677581e-07j  2.7951255e-06+2.8210627e-07j]]]\n",
      "--------\n",
      "[[-3.0462797e-06-4.1640587e-06j -3.5631390e-06-3.7471143e-06j\n",
      "  -4.0263712e-06-3.2677183e-06j ... -2.1934463e-06+8.0978161e-06j\n",
      "  -9.7651218e-07+8.3706336e-06j  2.7380261e-07+8.4589865e-06j]\n",
      " [-4.0872669e-06-3.1760510e-06j -4.4646422e-06-2.6283692e-06j\n",
      "  -4.7722920e-06-2.0372786e-06j ... -2.0024264e-07+8.3355189e-06j\n",
      "   1.0373609e-06+8.3145878e-06j  2.2647778e-06+8.1081162e-06j]\n",
      " [-4.8238639e-06-1.9381635e-06j -5.0304839e-06-1.3032632e-06j\n",
      "  -5.1573734e-06-6.4783558e-07j ...  1.7805065e-06+8.0783639e-06j\n",
      "   2.9671387e-06+7.7692966e-06j  4.1013609e-06+7.2840257e-06j]\n",
      " ...\n",
      " [-5.4093848e-06+2.1784631e-06j -4.9797554e-06+2.9297628e-06j\n",
      "  -4.4477520e-06+3.6006513e-06j ...  2.0317984e-06+2.4452056e-06j\n",
      "   2.3417051e-06+2.2002798e-06j  2.6260036e-06+1.9156323e-06j]\n",
      " [-4.6861974e-06+3.3551210e-06j -4.0971222e-06+3.9802139e-06j\n",
      "  -3.4272878e-06+4.5037405e-06j ...  2.4326860e-06+1.6973258e-06j\n",
      "   2.6450730e-06+1.4049468e-06j  2.8262241e-06+1.0849101e-06j]\n",
      " [-3.7178224e-06+4.3009827e-06j -3.0065632e-06+4.7676681e-06j\n",
      "  -2.2402799e-06+5.1176089e-06j ...  2.6029081e-06+9.1588612e-07j\n",
      "   2.7154636e-06+6.0677581e-07j  2.7951255e-06+2.8210627e-07j]]\n",
      "--------\n",
      "[-3.0462797e-06-4.1640587e-06j -3.5631390e-06-3.7471143e-06j\n",
      " -4.0263712e-06-3.2677183e-06j -4.4286598e-06-2.7321112e-06j\n",
      " -4.7632798e-06-2.1473631e-06j -5.0241879e-06-1.5213494e-06j\n",
      " -5.2061228e-06-8.6271609e-07j -5.3047129e-06-1.8083050e-07j\n",
      " -5.3165850e-06+5.1428327e-07j -5.2394789e-06+1.2120292e-06j\n",
      " -5.0723556e-06+1.9013453e-06j -4.8155011e-06+2.5708309e-06j\n",
      " -4.4706189e-06+3.2088999e-06j -4.0409063e-06+3.8039520e-06j\n",
      " -3.5311080e-06+4.3445693e-06j -2.9475455e-06+4.8197285e-06j\n",
      " -2.2981149e-06+5.2190267e-06j -1.5922494e-06+5.5329192e-06j\n",
      " -8.4084593e-07+5.7529605e-06j -5.6149357e-08+5.8720416e-06j\n",
      "  7.4840239e-07+5.8846181e-06j  1.5583745e-06+5.7869242e-06j\n",
      "  2.3585708e-06+5.5771602e-06j  3.1333050e-06+5.2556475e-06j\n",
      "  3.8667044e-06+4.8249458e-06j  4.5430388e-06+4.2899292e-06j\n",
      "  5.1470688e-06+3.6578049e-06j  5.6644053e-06+2.9380838e-06j\n",
      "  6.0818716e-06+2.1424892e-06j  6.3878551e-06+1.2848086e-06j\n",
      "  6.5726476e-06+3.8068688e-07j  6.6287512e-06-5.5263905e-07j\n",
      "  6.5511504e-06-1.4966570e-06j  6.3375383e-06-2.4319443e-06j\n",
      "  5.9884860e-06-3.3385734e-06j  5.5075488e-06-4.1965500e-06j\n",
      "  4.9013051e-06-4.9862711e-06j  4.1793237e-06-5.6889953e-06j\n",
      "  3.3540537e-06-6.2873123e-06j  2.4406379e-06-6.7655974e-06j\n",
      "  1.4566568e-06-7.1104423e-06j  4.2179718e-07-7.3110446e-06j\n",
      " -6.4254073e-07-7.3595497e-06j -1.7136937e-06-7.2513308e-06j\n",
      " -2.7682322e-06-6.9851981e-06j -3.7824932e-06-6.5635304e-06j\n",
      " -4.7331350e-06-5.9923218e-06j -5.5977025e-06-5.2811401e-06j\n",
      " -6.3551847e-06-4.4429953e-06j -6.9865555e-06-3.4941179e-06j\n",
      " -7.4752770e-06-2.4536512e-06j -7.8077555e-06-1.3432650e-06j\n",
      " -7.9737347e-06-1.8669411e-07j -7.9666188e-06+9.9078534e-07j\n",
      " -7.7837067e-06+2.1629291e-06j -7.4263367e-06+3.3031361e-06j\n",
      " -6.8999366e-06+4.3850800e-06j -6.2139684e-06+5.3833505e-06j\n",
      " -5.3817739e-06+6.2740796e-06j -4.4203207e-06+7.0355441e-06j\n",
      " -3.3498509e-06+7.6487268e-06j -2.1934463e-06+8.0978161e-06j\n",
      " -9.7651218e-07+8.3706336e-06j  2.7380261e-07+8.4589865e-06j]\n",
      "--------\n",
      "(-3.0462797e-06-4.1640587e-06j)\n"
     ]
    }
   ],
   "source": [
    "print(dataset[0][0]['user']['channel'])\n",
    "print(\"--------\")\n",
    "print(dataset[0][0]['user']['channel'][150])\n",
    "print(\"--------\")\n",
    "print(dataset[0][0]['user']['channel'][150][0])\n",
    "print(\"--------\")\n",
    "print(dataset[0][0]['user']['channel'][150][0][0])\n",
    "print(\"--------\")\n",
    "print(dataset[0][0]['user']['channel'][150][0][0][0])\n"
   ]
  },
  {
   "cell_type": "code",
   "execution_count": 77,
   "id": "2a022e1b",
   "metadata": {},
   "outputs": [
    {
     "name": "stdout",
     "output_type": "stream",
     "text": [
      "(1, 32, 64)\n",
      "(32, 64)\n",
      "(32, 64)\n",
      "(64,)\n",
      "32\n",
      "64\n",
      "32\n"
     ]
    }
   ],
   "source": [
    "print(dataset[0][0]['user']['channel'][150].shape)\n",
    "print(dataset[0][0]['user']['channel'][150].squeeze(0).shape)\n",
    "print(dataset[0][0]['user']['channel'][150][0].shape)\n",
    "print(dataset[0][0]['user']['channel'][150][0][1].shape)\n",
    "print(len(dataset[0][0]['user']['channel'][150][0]))\n",
    "print(dataset[0][0]['user']['channel'][150].squeeze(0).shape[1])\n",
    "print(dataset[0][0]['user']['channel'][150].squeeze(0).shape[0])"
   ]
  },
  {
   "cell_type": "code",
   "execution_count": 78,
   "id": "2d9c022a",
   "metadata": {},
   "outputs": [
    {
     "name": "stdout",
     "output_type": "stream",
     "text": [
      "32\n",
      "64\n"
     ]
    }
   ],
   "source": [
    "print(dataset[0][0]['user']['channel'][0,0].shape[0])\n",
    "print(dataset[0][0]['user']['channel'][0,0].shape[1])"
   ]
  },
  {
   "cell_type": "code",
   "execution_count": 85,
   "id": "b6d16eda",
   "metadata": {},
   "outputs": [],
   "source": [
    "from torch.utils.data import Dataset\n",
    "import numpy as np\n",
    "\n",
    "class ChannelDataset(Dataset):\n",
    "    def __init__(self, dataset, seq_len=5):\n",
    "        self.dataset = dataset\n",
    "        self.seq_len = seq_len\n",
    "        self.T = len(dataset)\n",
    "        # (U, 1, M, S) 형태에서 U, ue, M, S 추출\n",
    "        U, ue, M, S = dataset[0]['user']['channel'].shape\n",
    "        self.U, self.M, self.S = U, M, S\n",
    "\n",
    "    def __len__(self):\n",
    "        # 총 샘플 수 = U * S * (T - seq_len)\n",
    "        return self.U * self.S * (self.T - self.seq_len)\n",
    "\n",
    "    def __getitem__(self, idx):\n",
    "        per_scene = self.T - self.seq_len\n",
    "        u   = idx // (self.S * per_scene)       # 사용자 인덱스\n",
    "        rem = idx %  (self.S * per_scene)\n",
    "        s   = rem // per_scene                  # 서브캐리어 인덱스\n",
    "        t   = rem %  per_scene                  # 시작 장면 인덱스\n",
    "\n",
    "        seq_feats = []\n",
    "        # t…t+seq_len 까지 장면을 읽어서 real+imag 특성 벡터 생성\n",
    "        for tt in range(t, t + self.seq_len + 1):\n",
    "            # 원본 채널: (U,1,M,S) → [u,0] 으로 UE-포트 축 제거 → (M,S)\n",
    "            H = self.dataset[tt]['user']['channel'][u, 0]\n",
    "            # 서브캐리어 s만 뽑아서 (M,) complex 벡터\n",
    "            h = H[:, s]\n",
    "            # real/imag 분리 후 하나의 실수 벡터로\n",
    "            feat = np.concatenate([h.real, h.imag], axis=0).astype(np.float32)\n",
    "            seq_feats.append(feat)\n",
    "\n",
    "        seq_feats = np.stack(seq_feats, axis=0)  # (seq_len+1, 2*M)\n",
    "        inp    = seq_feats[:self.seq_len]        # (seq_len, 2*M)\n",
    "        target = seq_feats[self.seq_len]         # (2*M,)\n",
    "\n",
    "        # 결측치나 무한대가 있으면 다음 인덱스로 대체\n",
    "        if np.isnan(inp).any() or np.isnan(target).any() or \\\n",
    "           np.isinf(inp).any() or np.isinf(target).any():\n",
    "            return self.__getitem__((idx+1) % len(self))\n",
    "\n",
    "        return inp, target\n"
   ]
  },
  {
   "cell_type": "code",
   "execution_count": 86,
   "id": "4d2c007c",
   "metadata": {},
   "outputs": [
    {
     "ename": "ValueError",
     "evalue": "__len__() should return >= 0",
     "output_type": "error",
     "traceback": [
      "\u001b[1;31m---------------------------------------------------------------------------\u001b[0m",
      "\u001b[1;31mValueError\u001b[0m                                Traceback (most recent call last)",
      "Cell \u001b[1;32mIn[86], line 7\u001b[0m\n\u001b[0;32m      4\u001b[0m seq_len \u001b[38;5;241m=\u001b[39m \u001b[38;5;241m5\u001b[39m\n\u001b[0;32m      5\u001b[0m full_ds \u001b[38;5;241m=\u001b[39m ChannelDataset(dataset[\u001b[38;5;241m0\u001b[39m], seq_len\u001b[38;5;241m=\u001b[39mseq_len)\n\u001b[1;32m----> 7\u001b[0m train_size \u001b[38;5;241m=\u001b[39m \u001b[38;5;28mint\u001b[39m(\u001b[38;5;28mlen\u001b[39m(full_ds) \u001b[38;5;241m*\u001b[39m \u001b[38;5;241m0.8\u001b[39m)\n\u001b[0;32m      8\u001b[0m val_size   \u001b[38;5;241m=\u001b[39m \u001b[38;5;28mlen\u001b[39m(full_ds) \u001b[38;5;241m-\u001b[39m train_size\n\u001b[0;32m      9\u001b[0m train_ds, val_ds \u001b[38;5;241m=\u001b[39m random_split(full_ds, [train_size, val_size])\n",
      "\u001b[1;31mValueError\u001b[0m: __len__() should return >= 0"
     ]
    }
   ],
   "source": [
    "#  Dataset 생성\n",
    "from torch.utils.data import DataLoader, random_split\n",
    "    \n",
    "seq_len = 5\n",
    "full_ds = ChannelDataset(dataset[0], seq_len=seq_len)\n",
    "\n",
    "train_size = int(len(full_ds) * 0.8)\n",
    "val_size   = len(full_ds) - train_size\n",
    "train_ds, val_ds = random_split(full_ds, [train_size, val_size])\n",
    "\n",
    "batch_size = 32\n",
    "train_loader = DataLoader(train_ds, batch_size=batch_size, shuffle=True,  num_workers=4)\n",
    "val_loader   = DataLoader(val_ds,   batch_size=batch_size, shuffle=False, num_workers=2)\n"
   ]
  },
  {
   "cell_type": "code",
   "execution_count": 87,
   "id": "0207a952",
   "metadata": {},
   "outputs": [
    {
     "name": "stdout",
     "output_type": "stream",
     "text": [
      "T (scene 개수): 1 seq_len: 5\n"
     ]
    }
   ],
   "source": [
    "# 디버깅용\n",
    "print(\"T (scene 개수):\", len(dataset[0]), \"seq_len:\", seq_len)\n"
   ]
  },
  {
   "cell_type": "code",
   "execution_count": null,
   "id": "00c61dec",
   "metadata": {},
   "outputs": [],
   "source": [
    "# 5 x 64 \n",
    "print(\"Total samples in full_ds:\", len(full_ds))\n",
    "\n",
    "inp, target = full_ds[0]\n",
    "print(\"Single sample — inp shape:\", inp.shape, \", target shape:\", target.shape)\n",
    "\n",
    "# batch = next(iter(train_loader))\n",
    "# xb, yb = batch\n",
    "# print(\"One batch from train_loader — xb shape:\", xb.shape, \", yb shape:\", yb.shape)\n",
    "\n",
    "# print(\"Number of training batches:\", len(train_loader))\n",
    "# print(\"Number of validation batches:\", len(val_loader))"
   ]
  },
  {
   "cell_type": "markdown",
   "id": "4cf6bac8",
   "metadata": {},
   "source": [
    "# 아래 코드 구조\n",
    "┌──────────────────────────────────────────────────────────────┐\n",
    "│ input_ids  (B, seq_len, element_length)  ─┐                 │\n",
    "│ masked_pos (B, num_mask)                  ├─>  LWM backbone │\n",
    "│                                           │    (12-층 트랜스포머)  \n",
    "└────────────────────────────────────────────┘         │\n",
    "            logits_lm  (B, num_mask, element_length)  │   enc_output (B, seq_len, d_model)\n",
    "                                                      ▼\n",
    "                        ┌─[풀링]───────────────┐      ←── feat (B, d_model)\n",
    "                        │ 첫 토큰(0번) 선택    │\n",
    "                        │   or 평균/최대 풀링 │\n",
    "                        └──────────────────────┘\n",
    "                                      ▼\n",
    "                       FC 헤드  (d_model → hidden_dim → out_dim)\n",
    "                                      ▼\n",
    "                                out (B, out_dim)\n",
    "\n",
    "# 시각적비유\n",
    "\n",
    "[패치 프로젝터]──▶[Transformer ×12]──▶[LayerNorm]──┐\n",
    "                                                  ├─▶ 64-차 벡터 (CLS 또는 풀링) ─▶ MLP ─▶ out                                                \n",
    "[Positional Embedding]─────────────────────────────┘\n"
   ]
  },
  {
   "cell_type": "code",
   "execution_count": 76,
   "id": "7d882a4d",
   "metadata": {},
   "outputs": [],
   "source": [
    "\"\"\"\n",
    "LWMWithHead: 사전학습된 LWM(Transformer encoder)을 ‘백본(backbone)’으로 사용하고,\n",
    "그 뒤에 새로운 완전연결(FC) 헤드(head)를 붙여 다운스트림 작업(회귀·분류 등)에\n",
    "사용할 수 있도록 만든 래퍼(wrapper) 클래스입니다.\n",
    "\"\"\"\n",
    "\n",
    "import torch\n",
    "import torch.nn as nn\n",
    "from lwm_model import lwm   # 기존 LWM 모델 클래스 (import 경로는 프로젝트 구조에 맞게 조정)\n",
    "\n",
    "class LWMWithHead(nn.Module):\n",
    "    \"\"\"\n",
    "    Args\n",
    "    ----\n",
    "    element_length : int\n",
    "        LWM 입력 패치의 길이. 예) 64*64 = 4096 (H_real + H_imag)\n",
    "    d_model        : int\n",
    "        Transformer 모델 차원(=LWM hidden size).\n",
    "    max_len        : int\n",
    "        포지셔널 임베딩 최대 길이(시퀀스 길이).\n",
    "    n_layers       : int\n",
    "        Transformer 인코더 층 수.\n",
    "    hidden_dim     : int\n",
    "        새 FC 헤드의 중간 차원.\n",
    "    out_dim        : int\n",
    "        최종 출력 차원. 1 → 회귀/이진분류, k → k-클래스 분류.\n",
    "    freeze_backbone: bool\n",
    "        True면 백본을 동결(freeze)하여 헤드만 학습.\n",
    "    ckpt_path      : str | None\n",
    "        사전학습 가중치(.pth) 경로. None이면 랜덤 초기화.\n",
    "    device         : str\n",
    "        'cuda' / 'cpu' 등 모델을 올릴 장치.\n",
    "    \"\"\"\n",
    "\n",
    "    def __init__(\n",
    "        self,\n",
    "        element_length: int,\n",
    "        d_model: int = 64,\n",
    "        max_len: int = 129,\n",
    "        n_layers: int = 12,\n",
    "        hidden_dim: int = 256,\n",
    "        out_dim: int = 1,\n",
    "        freeze_backbone: bool = False,\n",
    "        ckpt_path: str | None = None,\n",
    "        device: str = \"cuda\",\n",
    "    ):\n",
    "        super().__init__()\n",
    "\n",
    "        # ────────────────────────────\n",
    "        # 1) 백본(backbone) 초기화\n",
    "        # ────────────────────────────\n",
    "        if ckpt_path is None:\n",
    "            # 가중치 없이 새로 생성\n",
    "            self.backbone = lwm(\n",
    "                element_length=element_length,\n",
    "                d_model=d_model,\n",
    "                max_len=max_len,\n",
    "                n_layers=n_layers\n",
    "            ).to(device)\n",
    "        else:\n",
    "            # 사전학습 가중치 로드\n",
    "            self.backbone = lwm.from_pretrained(\n",
    "                ckpt_name=ckpt_path,\n",
    "                device=device\n",
    "            )\n",
    "\n",
    "        # 백본 동결(선택)\n",
    "        if freeze_backbone:\n",
    "            for p in self.backbone.parameters():\n",
    "                p.requires_grad = False\n",
    "\n",
    "        # ────────────────────────────\n",
    "        # 2) 헤드(head) 정의\n",
    "        # ────────────────────────────\n",
    "        self.head = nn.Sequential(\n",
    "            nn.Linear(d_model, hidden_dim),  # 첫 FC\n",
    "            nn.ReLU(),                       # 활성화\n",
    "            nn.Dropout(0.3),                 # 드롭아웃\n",
    "            nn.Linear(hidden_dim, out_dim)   # 최종 FC\n",
    "        )\n",
    "\n",
    "    # ────────────────────────────\n",
    "    # forward\n",
    "    # ────────────────────────────\n",
    "    def forward(self, input_ids, masked_pos):\n",
    "        \"\"\"\n",
    "        Parameters\n",
    "        ----------\n",
    "        input_ids : Tensor  (B, seq_len, element_length)\n",
    "            LWM 입력 시퀀스 (패치/토큰 단위 실수·복소수 채널값 등).\n",
    "        masked_pos : Tensor  (B, num_mask)\n",
    "            LWM의 마스크드 채널 모델링용 인덱스 (백본 규격 유지용).\n",
    "\n",
    "        Returns\n",
    "        -------\n",
    "        out : Tensor  (B, out_dim)\n",
    "            헤드에서 계산된 다운스트림 작업용 로짓/예측값.\n",
    "        \"\"\"\n",
    "\n",
    "        # 기존 LWM forward:\n",
    "        #   logits_lm : (B, num_mask, element_length)  ← 사용 안 함\n",
    "        #   enc_output: (B, seq_len, d_model)\n",
    "        _, enc_output = self.backbone(input_ids, masked_pos)\n",
    "\n",
    "        # 특징 추출(feat)\n",
    "        # ① 첫 토큰 벡터 사용 (CLS 개념) ─────────────\n",
    "        feat = enc_output[:, 0, :]           # (B, d_model)\n",
    "\n",
    "        # ② 평균 풀링 예시 (필요 시 주석 해제) ─────\n",
    "        # feat = enc_output.mean(dim=1)       # (B, d_model)\n",
    "\n",
    "        # ③ Max 풀링 예시 (필요 시 주석 해제) ─────\n",
    "        # feat, _ = enc_output.max(dim=1)     # (B, d_model)\n",
    "\n",
    "        # 헤드 통과 → 최종 출력\n",
    "        out = self.head(feat)                # (B, out_dim)\n",
    "        return out\n"
   ]
  },
  {
   "cell_type": "code",
   "execution_count": 77,
   "id": "b37383cc",
   "metadata": {},
   "outputs": [
    {
     "name": "stdout",
     "output_type": "stream",
     "text": [
      "Using device: cuda\n"
     ]
    }
   ],
   "source": [
    "import torch\n",
    "import torch.nn as nn\n",
    "from torch.optim import Adam\n",
    "\n",
    "# 디바이스 설정(GPU/CPU)\n",
    "device = torch.device(\"cuda\" if torch.cuda.is_available() else \"cpu\")\n",
    "print(f\"Using device: {device}\")\n",
    "\n",
    "\n",
    "# 모델 초기화\n",
    "_, seq_len, element_length = X_flat.shape\n",
    "\n",
    "\n",
    "model = LWMWithHead(\n",
    "    element_length=element_length,  # antenna: 64\n",
    "    d_model=64,\n",
    "    max_len=seq_len,                # seqlen: 5\n",
    "    n_layers=12,\n",
    "    hidden_dim=256,\n",
    "    out_dim=element_length,         # subcarrier: 64\n",
    "    freeze_backbone=False,  \n",
    "    ckpt_path=None,  \n",
    "    device=device\n",
    ").to(device)\n",
    "\n",
    "# 손실함수\n",
    "criterion = nn.MSELoss()\n",
    "\n",
    "# 옵티마이저 설정\n",
    "optimizer = Adam(model.parameters(), lr=1e-4)"
   ]
  },
  {
   "cell_type": "code",
   "execution_count": 78,
   "id": "625b128d",
   "metadata": {
    "scrolled": true
   },
   "outputs": [
    {
     "name": "stdout",
     "output_type": "stream",
     "text": [
      "Epoch 1/10, Loss: 0.025125\n",
      "Epoch 2/10, Loss: 0.015054\n",
      "Epoch 3/10, Loss: 0.009950\n",
      "Epoch 4/10, Loss: 0.007519\n",
      "Epoch 5/10, Loss: 0.005827\n",
      "Epoch 6/10, Loss: 0.004611\n",
      "Epoch 7/10, Loss: 0.003511\n",
      "Epoch 8/10, Loss: 0.002939\n",
      "Epoch 9/10, Loss: 0.002433\n",
      "Epoch 10/10, Loss: 0.002286\n",
      "걸린시간: 4.03\n"
     ]
    }
   ],
   "source": [
    "# 모델 학습\n",
    "import time\n",
    "start = time.time()\n",
    "\n",
    "num_epochs = 10\n",
    "for epoch in range(num_epochs):\n",
    "    model.train()\n",
    "    for input_ids, masked_pos, target in train_loader:\n",
    "        input_ids, masked_pos, target = [x.to(device) for x in (input_ids, masked_pos, target)]\n",
    "        \n",
    "        pred = model(input_ids, masked_pos).squeeze(-1)  # (B,)로 맞춤\n",
    "        loss = criterion(pred, target)\n",
    "\n",
    "        optimizer.zero_grad()\n",
    "        loss.backward()\n",
    "        optimizer.step()\n",
    "    \n",
    "    print(f\"Epoch {epoch+1}/{num_epochs}, Loss: {loss.item():.6f}\")\n",
    "end = time.time()\n",
    "\n",
    "print(f\"걸린시간: {round(end-start,2)}\")"
   ]
  },
  {
   "cell_type": "code",
   "execution_count": 79,
   "id": "3598cd58",
   "metadata": {},
   "outputs": [],
   "source": [
    "# 모델 평가 방법\n",
    "import torch.nn.functional as F\n",
    "\n",
    "def rmse(pred: torch.Tensor, target: torch.Tensor) -> torch.Tensor:\n",
    "    \"\"\"\n",
    "    RMSE = Root MSE\n",
    "    RMSE = {1/n*sum((y^-y)**2)}**1/2\n",
    "    \"\"\"\n",
    "    return torch.sqrt(F.mse_loss(pred, target, reduction=\"mean\"))   # √MSE\n",
    "\n",
    "def nmse(pred: torch.Tensor, target: torch.Tensor) -> torch.Tensor:\n",
    "    \"\"\"\n",
    "    Normalized MSE  =  E[‖ŷ − y‖²] / E[‖y‖²]\n",
    "    returns: 스칼라 (배치 평균)\n",
    "    \"\"\"\n",
    "    # (B, …) → (B,)  : 각 샘플별 제곱합\n",
    "    mse_per_sample   = ((pred - target)**2).view(pred.size(0), -1).sum(dim=1)\n",
    "    power_per_sample = (target**2).view(target.size(0), -1).sum(dim=1)\n",
    "    return (mse_per_sample / power_per_sample).mean()\n"
   ]
  },
  {
   "cell_type": "code",
   "execution_count": 80,
   "id": "97deedce",
   "metadata": {},
   "outputs": [],
   "source": [
    "# 모델 평가 함수\n",
    "import torch\n",
    "import torch.nn.functional as F\n",
    "\n",
    "# ─────────────────────────────────────────\n",
    "# 1. 배치 단위 RMSE, NMSE 함수\n",
    "# ─────────────────────────────────────────\n",
    "def rmse(pred: torch.Tensor, target: torch.Tensor) -> torch.Tensor:\n",
    "    \"\"\"\n",
    "    Root-Mean-Squared Error\n",
    "    returns: 스칼라 (배치 평균)\n",
    "    \"\"\"\n",
    "    return torch.sqrt(F.mse_loss(pred, target, reduction=\"mean\"))   # √MSE\n",
    "\n",
    "def nmse(pred: torch.Tensor, target: torch.Tensor) -> torch.Tensor:\n",
    "    \"\"\"\n",
    "    Normalized MSE  =  E[‖ŷ − y‖²] / E[‖y‖²]\n",
    "      · 채널 예측 분야에서 흔히 쓰는 지표\n",
    "    returns: 스칼라 (배치 평균)\n",
    "    \"\"\"\n",
    "    # (B, …) → (B,)  : 각 샘플별 제곱합\n",
    "    mse_per_sample   = ((pred - target)**2).view(pred.size(0), -1).sum(dim=1)\n",
    "    power_per_sample = (target**2).view(target.size(0), -1).sum(dim=1)\n",
    "    return (mse_per_sample / power_per_sample).mean()\n",
    "\n",
    "\n",
    "# ─────────────────────────────────────────\n",
    "# 2. 검증 루프 예시\n",
    "# ─────────────────────────────────────────\n",
    "def evaluate(model, loader, device=\"cuda\"):\n",
    "    model.eval()\n",
    "    total_rmse, total_nmse = 0.0, 0.0\n",
    "\n",
    "    with torch.no_grad():\n",
    "        for input_ids, masked_pos, target in loader:\n",
    "            input_ids  = input_ids.to(device)\n",
    "            masked_pos = masked_pos.to(device)\n",
    "            target     = target.to(device)\n",
    "\n",
    "            pred = model(input_ids, masked_pos)\n",
    "\n",
    "            total_rmse += rmse(pred, target).item() * input_ids.size(0)\n",
    "            total_nmse += nmse(pred, target).item() * input_ids.size(0)\n",
    "\n",
    "    N = len(loader.dataset)\n",
    "    return {\n",
    "        \"RMSE\": total_rmse / N,\n",
    "        \"NMSE\": total_nmse / N\n",
    "    }\n"
   ]
  },
  {
   "cell_type": "code",
   "execution_count": 81,
   "id": "1670cdec",
   "metadata": {},
   "outputs": [
    {
     "name": "stdout",
     "output_type": "stream",
     "text": [
      "[Epoch 01]  val_RMSE = 0.0187   val_NMSE = 1.5729e+08   val_NMSE(dB) = 81.97 dB\n",
      "[Epoch 02]  val_RMSE = 0.0184   val_NMSE = 1.5154e+08   val_NMSE(dB) = 81.81 dB\n",
      "[Epoch 03]  val_RMSE = 0.0181   val_NMSE = 1.4704e+08   val_NMSE(dB) = 81.67 dB\n",
      "[Epoch 04]  val_RMSE = 0.0182   val_NMSE = 1.4864e+08   val_NMSE(dB) = 81.72 dB\n",
      "[Epoch 05]  val_RMSE = 0.0181   val_NMSE = 1.4738e+08   val_NMSE(dB) = 81.68 dB\n",
      "[Epoch 06]  val_RMSE = 0.0181   val_NMSE = 1.4697e+08   val_NMSE(dB) = 81.67 dB\n",
      "[Epoch 07]  val_RMSE = 0.0186   val_NMSE = 1.5552e+08   val_NMSE(dB) = 81.92 dB\n",
      "[Epoch 08]  val_RMSE = 0.0186   val_NMSE = 1.5424e+08   val_NMSE(dB) = 81.88 dB\n",
      "[Epoch 09]  val_RMSE = 0.0190   val_NMSE = 1.6177e+08   val_NMSE(dB) = 82.09 dB\n",
      "[Epoch 10]  val_RMSE = 0.0188   val_NMSE = 1.5739e+08   val_NMSE(dB) = 81.97 dB\n",
      "[Epoch 11]  val_RMSE = 0.0184   val_NMSE = 1.5215e+08   val_NMSE(dB) = 81.82 dB\n",
      "[Epoch 12]  val_RMSE = 0.0185   val_NMSE = 1.5346e+08   val_NMSE(dB) = 81.86 dB\n",
      "[Epoch 13]  val_RMSE = 0.0181   val_NMSE = 1.4597e+08   val_NMSE(dB) = 81.64 dB\n",
      "[Epoch 14]  val_RMSE = 0.0176   val_NMSE = 1.3914e+08   val_NMSE(dB) = 81.43 dB\n",
      "[Epoch 15]  val_RMSE = 0.0170   val_NMSE = 1.2930e+08   val_NMSE(dB) = 81.12 dB\n",
      "[Epoch 16]  val_RMSE = 0.0169   val_NMSE = 1.2727e+08   val_NMSE(dB) = 81.05 dB\n",
      "[Epoch 17]  val_RMSE = 0.0167   val_NMSE = 1.2478e+08   val_NMSE(dB) = 80.96 dB\n",
      "[Epoch 18]  val_RMSE = 0.0155   val_NMSE = 1.0749e+08   val_NMSE(dB) = 80.31 dB\n",
      "[Epoch 19]  val_RMSE = 0.0154   val_NMSE = 1.0662e+08   val_NMSE(dB) = 80.28 dB\n",
      "[Epoch 20]  val_RMSE = 0.0145   val_NMSE = 9.4061e+07   val_NMSE(dB) = 79.73 dB\n",
      "[Epoch 21]  val_RMSE = 0.0148   val_NMSE = 9.8560e+07   val_NMSE(dB) = 79.94 dB\n",
      "[Epoch 22]  val_RMSE = 0.0144   val_NMSE = 9.3368e+07   val_NMSE(dB) = 79.70 dB\n",
      "[Epoch 23]  val_RMSE = 0.0128   val_NMSE = 7.2843e+07   val_NMSE(dB) = 78.62 dB\n",
      "[Epoch 24]  val_RMSE = 0.0128   val_NMSE = 7.3545e+07   val_NMSE(dB) = 78.67 dB\n",
      "[Epoch 25]  val_RMSE = 0.0133   val_NMSE = 7.8618e+07   val_NMSE(dB) = 78.96 dB\n",
      "[Epoch 26]  val_RMSE = 0.0110   val_NMSE = 5.4619e+07   val_NMSE(dB) = 77.37 dB\n",
      "[Epoch 27]  val_RMSE = 0.0106   val_NMSE = 5.0579e+07   val_NMSE(dB) = 77.04 dB\n",
      "[Epoch 28]  val_RMSE = 0.0109   val_NMSE = 5.2721e+07   val_NMSE(dB) = 77.22 dB\n",
      "[Epoch 29]  val_RMSE = 0.0093   val_NMSE = 3.8781e+07   val_NMSE(dB) = 75.89 dB\n",
      "[Epoch 30]  val_RMSE = 0.0090   val_NMSE = 3.6485e+07   val_NMSE(dB) = 75.62 dB\n"
     ]
    }
   ],
   "source": [
    "num_epochs = 30\n",
    "patience_counter = 0\n",
    "\n",
    "for epoch in range(1, num_epochs + 1):\n",
    "    # ──────────── ① 학습 ────────────\n",
    "    model.train()\n",
    "    for input_ids, masked_pos, target in train_loader:\n",
    "        input_ids  = input_ids.to(device)\n",
    "        masked_pos = masked_pos.to(device)\n",
    "        target     = target.to(device)\n",
    "\n",
    "        pred = model(input_ids, masked_pos)\n",
    "        loss = criterion(pred, target)\n",
    "\n",
    "        optimizer.zero_grad()\n",
    "        loss.backward()\n",
    "        optimizer.step()\n",
    "\n",
    "    # ──────────── ② 검증 ────────────\n",
    "    metrics = evaluate(model, val_loader, device)\n",
    "    rmse_val, nmse_val = metrics[\"RMSE\"], metrics[\"NMSE\"]\n",
    "\n",
    "    # ──────────── ③ 로그 출력 ────────────\n",
    "    print(f\"[Epoch {epoch:02d}]  \"\n",
    "          f\"val_RMSE = {rmse_val:.4f}   \"\n",
    "          f\"val_NMSE = {nmse_val:.4e}   \"\n",
    "          f\"val_NMSE(dB) = {10*torch.log10(torch.tensor(nmse_val)):.2f} dB\")\n"
   ]
  },
  {
   "cell_type": "code",
   "execution_count": null,
   "id": "5e7b169d",
   "metadata": {},
   "outputs": [],
   "source": []
  },
  {
   "cell_type": "code",
   "execution_count": null,
   "id": "f6932b03",
   "metadata": {},
   "outputs": [],
   "source": []
  }
 ],
 "metadata": {
  "kernelspec": {
   "display_name": "Python 3 (ipykernel)",
   "language": "python",
   "name": "python3"
  },
  "language_info": {
   "codemirror_mode": {
    "name": "ipython",
    "version": 3
   },
   "file_extension": ".py",
   "mimetype": "text/x-python",
   "name": "python",
   "nbconvert_exporter": "python",
   "pygments_lexer": "ipython3",
   "version": "3.11.3"
  }
 },
 "nbformat": 4,
 "nbformat_minor": 5
}
