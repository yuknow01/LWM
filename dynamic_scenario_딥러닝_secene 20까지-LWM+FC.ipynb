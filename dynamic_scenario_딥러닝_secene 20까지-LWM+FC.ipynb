{
 "cells": [
  {
   "cell_type": "code",
   "execution_count": 56,
   "id": "0ec90d17",
   "metadata": {},
   "outputs": [],
   "source": [
    "import torch\n",
    "import torch.nn as nn\n",
    "import torch.optim as optim\n",
    "import torchvision\n",
    "import torchvision.transforms as transforms\n",
    "from torch.utils.data import DataLoader"
   ]
  },
  {
   "cell_type": "code",
   "execution_count": 57,
   "id": "47baa533",
   "metadata": {},
   "outputs": [
    {
     "name": "stdout",
     "output_type": "stream",
     "text": [
      "cuda\n"
     ]
    }
   ],
   "source": [
    "# GPU 설정\n",
    "device = torch.device(\"cuda\" if torch.cuda.is_available() else \"cpu\")\n",
    "print(device)"
   ]
  },
  {
   "cell_type": "code",
   "execution_count": 58,
   "id": "23623e8a",
   "metadata": {},
   "outputs": [
    {
     "name": "stdout",
     "output_type": "stream",
     "text": [
      "Requirement already satisfied: DeepMIMOv3 in c:\\users\\dlghd\\anaconda3\\lib\\site-packages (0.2.8)\n",
      "Requirement already satisfied: umap-learn in c:\\users\\dlghd\\anaconda3\\lib\\site-packages (0.5.7)\n",
      "Requirement already satisfied: numpy in c:\\users\\dlghd\\anaconda3\\lib\\site-packages (from DeepMIMOv3) (1.24.3)\n",
      "Requirement already satisfied: scipy in c:\\users\\dlghd\\anaconda3\\lib\\site-packages (from DeepMIMOv3) (1.10.1)\n",
      "Requirement already satisfied: tqdm in c:\\users\\dlghd\\anaconda3\\lib\\site-packages (from DeepMIMOv3) (4.65.0)\n",
      "Requirement already satisfied: matplotlib in c:\\users\\dlghd\\anaconda3\\lib\\site-packages (from DeepMIMOv3) (3.7.1)\n",
      "Requirement already satisfied: scikit-learn>=0.22 in c:\\users\\dlghd\\anaconda3\\lib\\site-packages (from umap-learn) (1.2.2)\n",
      "Requirement already satisfied: numba>=0.51.2 in c:\\users\\dlghd\\anaconda3\\lib\\site-packages (from umap-learn) (0.57.0)\n",
      "Requirement already satisfied: pynndescent>=0.5 in c:\\users\\dlghd\\anaconda3\\lib\\site-packages (from umap-learn) (0.5.13)\n",
      "Requirement already satisfied: llvmlite<0.41,>=0.40.0dev0 in c:\\users\\dlghd\\anaconda3\\lib\\site-packages (from numba>=0.51.2->umap-learn) (0.40.0)\n",
      "Requirement already satisfied: joblib>=0.11 in c:\\users\\dlghd\\anaconda3\\lib\\site-packages (from pynndescent>=0.5->umap-learn) (1.2.0)\n",
      "Requirement already satisfied: threadpoolctl>=2.0.0 in c:\\users\\dlghd\\anaconda3\\lib\\site-packages (from scikit-learn>=0.22->umap-learn) (2.2.0)\n",
      "Requirement already satisfied: contourpy>=1.0.1 in c:\\users\\dlghd\\anaconda3\\lib\\site-packages (from matplotlib->DeepMIMOv3) (1.0.5)\n",
      "Requirement already satisfied: cycler>=0.10 in c:\\users\\dlghd\\anaconda3\\lib\\site-packages (from matplotlib->DeepMIMOv3) (0.11.0)\n",
      "Requirement already satisfied: fonttools>=4.22.0 in c:\\users\\dlghd\\anaconda3\\lib\\site-packages (from matplotlib->DeepMIMOv3) (4.25.0)\n",
      "Requirement already satisfied: kiwisolver>=1.0.1 in c:\\users\\dlghd\\anaconda3\\lib\\site-packages (from matplotlib->DeepMIMOv3) (1.4.4)\n",
      "Requirement already satisfied: packaging>=20.0 in c:\\users\\dlghd\\anaconda3\\lib\\site-packages (from matplotlib->DeepMIMOv3) (23.0)\n",
      "Requirement already satisfied: pillow>=6.2.0 in c:\\users\\dlghd\\anaconda3\\lib\\site-packages (from matplotlib->DeepMIMOv3) (9.4.0)\n",
      "Requirement already satisfied: pyparsing>=2.3.1 in c:\\users\\dlghd\\anaconda3\\lib\\site-packages (from matplotlib->DeepMIMOv3) (3.0.9)\n",
      "Requirement already satisfied: python-dateutil>=2.7 in c:\\users\\dlghd\\anaconda3\\lib\\site-packages (from matplotlib->DeepMIMOv3) (2.8.2)\n",
      "Requirement already satisfied: colorama in c:\\users\\dlghd\\anaconda3\\lib\\site-packages (from tqdm->DeepMIMOv3) (0.4.6)\n",
      "Requirement already satisfied: six>=1.5 in c:\\users\\dlghd\\anaconda3\\lib\\site-packages (from python-dateutil>=2.7->matplotlib->DeepMIMOv3) (1.16.0)\n",
      "Note: you may need to restart the kernel to use updated packages.\n"
     ]
    }
   ],
   "source": [
    "pip install DeepMIMOv3 umap-learn"
   ]
  },
  {
   "cell_type": "code",
   "execution_count": 59,
   "id": "14b3564f",
   "metadata": {},
   "outputs": [],
   "source": [
    "#LWM을 하기위한 라이브러리 가져오기\n",
    "import DeepMIMOv3\n",
    "import numpy as np\n",
    "from pprint import pprint\n",
    "import matplotlib.pyplot as plt\n",
    "\n",
    "plt . rcParams [ 'figure.figsize' ]  =  [ 12 ,  8 ]  # 기본 플롯 크기 설정"
   ]
  },
  {
   "cell_type": "code",
   "execution_count": 60,
   "id": "ce5ac681",
   "metadata": {},
   "outputs": [
    {
     "name": "stdout",
     "output_type": "stream",
     "text": [
      "{'OFDM': {'RX_filter': 0,\n",
      "          'bandwidth': 0.05,\n",
      "          'selected_subcarriers': array([0]),\n",
      "          'subcarriers': 512},\n",
      " 'OFDM_channels': 1,\n",
      " 'active_BS': array([1]),\n",
      " 'bs_antenna': {'FoV': array([360, 180]),\n",
      "                'radiation_pattern': 'isotropic',\n",
      "                'rotation': array([0, 0, 0]),\n",
      "                'shape': array([8, 4]),\n",
      "                'spacing': 0.5},\n",
      " 'dataset_folder': './Raytracing_scenarios',\n",
      " 'dynamic_scenario_scenes': array([1]),\n",
      " 'enable_BS2BS': 1,\n",
      " 'enable_doppler': 0,\n",
      " 'enable_dual_polar': 0,\n",
      " 'num_paths': 5,\n",
      " 'scenario': 'O1_60',\n",
      " 'ue_antenna': {'FoV': array([360, 180]),\n",
      "                'radiation_pattern': 'isotropic',\n",
      "                'rotation': array([0, 0, 0]),\n",
      "                'shape': array([4, 2]),\n",
      "                'spacing': 0.5},\n",
      " 'user_rows': array([1]),\n",
      " 'user_subsampling': 1}\n"
     ]
    }
   ],
   "source": [
    "## Load and print the default parameters\n",
    "# bandwith: 0.05GHz(50MHz 대역폭 사용)\n",
    "\n",
    "parameters = DeepMIMOv3.default_params()\n",
    "pprint(parameters)"
   ]
  },
  {
   "cell_type": "code",
   "execution_count": 61,
   "id": "1f0642c1",
   "metadata": {},
   "outputs": [],
   "source": [
    "## Change parameters for the setup\n",
    "# Scenario O1_60 extracted at the dataset_folder\n",
    "#LWM 동적 시나리오 불러오기\n",
    "#자신의 LWM 파일 위치 경로 작성\n",
    "# parameters['dataset_folder'] = r'/content/drive/MyDrive/Colab Notebooks/LWM'\n",
    "parameters['dataset_folder'] = r'C:\\Users\\dlghd\\졸업프로젝트\\LWM'\n",
    "\n",
    "# scnario = 02_dyn_3p5 <- 다운받은 파일(동적시나리오)\n",
    "parameters['scenario'] = 'O2_dyn_3p5'\n",
    "parameters['dynamic_scenario_scenes'] = np.arange(10) #scene 0~9\n",
    "\n",
    "# 각 사용자-기지국 채널에 대해 최대 10개 멀티패스 경로 사용\n",
    "parameters['num_paths'] = 10\n",
    "\n",
    "# User rows 1-100\n",
    "parameters['user_rows'] = np.arange(100)\n",
    "\n",
    "# Activate only the first basestation\n",
    "parameters['active_BS'] = np.array([1])\n",
    "\n",
    "parameters['activate_OFDM'] = 1\n",
    "\n",
    "parameters['OFDM']['bandwidth'] = 0.05 # 50 MHz\n",
    "parameters['OFDM']['subcarriers'] = 512 # OFDM with 512 subcarriers\n",
    "parameters['OFDM']['selected_subcarriers'] = np.arange(0, 64, 1)\n",
    "#parameters['OFDM']['subcarriers_limit'] = 64 # Keep only first 64 subcarriers\n",
    "\n",
    "parameters['ue_antenna']['shape'] = np.array([1, 1]) # Single antenna\n",
    "parameters['bs_antenna']['shape'] = np.array([1, 32]) # ULA of 32 elements\n",
    "#parameters['bs_antenna']['rotation'] = np.array([0, 30, 90]) # ULA of 32 elements\n",
    "#parameters['ue_antenna']['rotation'] = np.array([[0, 30], [30, 60], [60, 90]]) # ULA of 32 elements\n",
    "#parameters['ue_antenna']['radiation_pattern'] = 'isotropic'\n",
    "#parameters['bs_antenna']['radiation_pattern'] = 'halfwave-dipole'"
   ]
  },
  {
   "cell_type": "code",
   "execution_count": 62,
   "id": "30aa4ae2",
   "metadata": {},
   "outputs": [
    {
     "name": "stdout",
     "output_type": "stream",
     "text": [
      "{'dataset_folder': 'C:\\\\Users\\\\dlghd\\\\졸업프로젝트\\\\LWM', 'scenario': 'O2_dyn_3p5', 'dynamic_scenario_scenes': array([0, 1, 2, 3, 4, 5, 6, 7, 8, 9]), 'num_paths': 10, 'active_BS': array([1]), 'user_rows': array([ 0,  1,  2,  3,  4,  5,  6,  7,  8,  9, 10, 11, 12, 13, 14, 15, 16,\n",
      "       17, 18, 19, 20, 21, 22, 23, 24, 25, 26, 27, 28, 29, 30, 31, 32, 33,\n",
      "       34, 35, 36, 37, 38, 39, 40, 41, 42, 43, 44, 45, 46, 47, 48, 49, 50,\n",
      "       51, 52, 53, 54, 55, 56, 57, 58, 59, 60, 61, 62, 63, 64, 65, 66, 67,\n",
      "       68, 69, 70, 71, 72, 73, 74, 75, 76, 77, 78, 79, 80, 81, 82, 83, 84,\n",
      "       85, 86, 87, 88, 89, 90, 91, 92, 93, 94, 95, 96, 97, 98, 99]), 'user_subsampling': 1, 'bs_antenna': {'shape': array([ 1, 32]), 'spacing': 0.5, 'rotation': array([0, 0, 0]), 'FoV': array([360, 180]), 'radiation_pattern': 'isotropic'}, 'ue_antenna': {'shape': array([1, 1]), 'spacing': 0.5, 'rotation': array([0, 0, 0]), 'FoV': array([360, 180]), 'radiation_pattern': 'isotropic'}, 'enable_doppler': 0, 'enable_dual_polar': 0, 'enable_BS2BS': 1, 'OFDM_channels': 1, 'OFDM': {'subcarriers': 512, 'selected_subcarriers': array([ 0,  1,  2,  3,  4,  5,  6,  7,  8,  9, 10, 11, 12, 13, 14, 15, 16,\n",
      "       17, 18, 19, 20, 21, 22, 23, 24, 25, 26, 27, 28, 29, 30, 31, 32, 33,\n",
      "       34, 35, 36, 37, 38, 39, 40, 41, 42, 43, 44, 45, 46, 47, 48, 49, 50,\n",
      "       51, 52, 53, 54, 55, 56, 57, 58, 59, 60, 61, 62, 63]), 'bandwidth': 0.05, 'RX_filter': 0}, 'activate_OFDM': 1}\n"
     ]
    }
   ],
   "source": [
    "print(parameters)"
   ]
  },
  {
   "cell_type": "code",
   "execution_count": 63,
   "id": "b87a86e5",
   "metadata": {},
   "outputs": [
    {
     "name": "stdout",
     "output_type": "stream",
     "text": [
      "The following parameters seem unnecessary:\n",
      "{'activate_OFDM'}\n",
      "\n",
      "Scene 1/10\n",
      "\n",
      "Basestation 1\n",
      "\n",
      "UE-BS Channels\n"
     ]
    },
    {
     "name": "stderr",
     "output_type": "stream",
     "text": [
      "Reading ray-tracing: 100%|████████████████████████████████████████████████████| 69040/69040 [00:01<00:00, 35178.07it/s]\n",
      "Generating channels: 100%|█████████████████████████████████████████████████████| 69040/69040 [00:11<00:00, 5899.29it/s]\n"
     ]
    },
    {
     "name": "stdout",
     "output_type": "stream",
     "text": [
      "\n",
      "BS-BS Channels\n"
     ]
    },
    {
     "name": "stderr",
     "output_type": "stream",
     "text": [
      "Reading ray-tracing: 100%|█████████████████████████████████████████████████████████████| 1/1 [00:00<00:00, 1000.07it/s]\n",
      "Generating channels: 100%|██████████████████████████████████████████████████████████████| 1/1 [00:00<00:00, 500.57it/s]\n"
     ]
    },
    {
     "name": "stdout",
     "output_type": "stream",
     "text": [
      "\n",
      "Scene 2/10\n",
      "\n",
      "Basestation 1\n",
      "\n",
      "UE-BS Channels\n"
     ]
    },
    {
     "name": "stderr",
     "output_type": "stream",
     "text": [
      "Reading ray-tracing: 100%|████████████████████████████████████████████████████| 69040/69040 [00:01<00:00, 34555.73it/s]\n",
      "Generating channels: 100%|█████████████████████████████████████████████████████| 69040/69040 [00:11<00:00, 5824.38it/s]\n"
     ]
    },
    {
     "name": "stdout",
     "output_type": "stream",
     "text": [
      "\n",
      "BS-BS Channels\n"
     ]
    },
    {
     "name": "stderr",
     "output_type": "stream",
     "text": [
      "Reading ray-tracing: 100%|███████████████████████████████████████████████████████████████████████| 1/1 [00:00<?, ?it/s]\n",
      "Generating channels: 100%|██████████████████████████████████████████████████████████████| 1/1 [00:00<00:00, 328.86it/s]\n"
     ]
    },
    {
     "name": "stdout",
     "output_type": "stream",
     "text": [
      "\n",
      "Scene 3/10\n",
      "\n",
      "Basestation 1\n",
      "\n",
      "UE-BS Channels\n"
     ]
    },
    {
     "name": "stderr",
     "output_type": "stream",
     "text": [
      "Reading ray-tracing: 100%|████████████████████████████████████████████████████| 69040/69040 [00:01<00:00, 34850.10it/s]\n",
      "Generating channels: 100%|█████████████████████████████████████████████████████| 69040/69040 [00:11<00:00, 5812.45it/s]\n"
     ]
    },
    {
     "name": "stdout",
     "output_type": "stream",
     "text": [
      "\n",
      "BS-BS Channels\n"
     ]
    },
    {
     "name": "stderr",
     "output_type": "stream",
     "text": [
      "Reading ray-tracing: 100%|██████████████████████████████████████████████████████████████| 1/1 [00:00<00:00, 999.60it/s]\n",
      "Generating channels: 100%|██████████████████████████████████████████████████████████████| 1/1 [00:00<00:00, 333.91it/s]\n"
     ]
    },
    {
     "name": "stdout",
     "output_type": "stream",
     "text": [
      "\n",
      "Scene 4/10\n",
      "\n",
      "Basestation 1\n",
      "\n",
      "UE-BS Channels\n"
     ]
    },
    {
     "name": "stderr",
     "output_type": "stream",
     "text": [
      "Reading ray-tracing: 100%|████████████████████████████████████████████████████| 69040/69040 [00:01<00:00, 35622.49it/s]\n",
      "Generating channels: 100%|█████████████████████████████████████████████████████| 69040/69040 [00:12<00:00, 5704.13it/s]\n"
     ]
    },
    {
     "name": "stdout",
     "output_type": "stream",
     "text": [
      "\n",
      "BS-BS Channels\n"
     ]
    },
    {
     "name": "stderr",
     "output_type": "stream",
     "text": [
      "Reading ray-tracing: 100%|██████████████████████████████████████████████████████████████| 1/1 [00:00<00:00, 999.83it/s]\n",
      "Generating channels: 100%|██████████████████████████████████████████████████████████████| 1/1 [00:00<00:00, 333.20it/s]\n"
     ]
    },
    {
     "name": "stdout",
     "output_type": "stream",
     "text": [
      "\n",
      "Scene 5/10\n",
      "\n",
      "Basestation 1\n",
      "\n",
      "UE-BS Channels\n"
     ]
    },
    {
     "name": "stderr",
     "output_type": "stream",
     "text": [
      "Reading ray-tracing: 100%|████████████████████████████████████████████████████| 69040/69040 [00:01<00:00, 35315.46it/s]\n",
      "Generating channels: 100%|█████████████████████████████████████████████████████| 69040/69040 [00:11<00:00, 5792.91it/s]\n"
     ]
    },
    {
     "name": "stdout",
     "output_type": "stream",
     "text": [
      "\n",
      "BS-BS Channels\n"
     ]
    },
    {
     "name": "stderr",
     "output_type": "stream",
     "text": [
      "Reading ray-tracing: 100%|███████████████████████████████████████████████████████████████████████| 1/1 [00:00<?, ?it/s]\n",
      "Generating channels: 100%|██████████████████████████████████████████████████████████████| 1/1 [00:00<00:00, 333.25it/s]\n"
     ]
    },
    {
     "name": "stdout",
     "output_type": "stream",
     "text": [
      "\n",
      "Scene 6/10\n",
      "\n",
      "Basestation 1\n",
      "\n",
      "UE-BS Channels\n"
     ]
    },
    {
     "name": "stderr",
     "output_type": "stream",
     "text": [
      "Reading ray-tracing: 100%|████████████████████████████████████████████████████| 69040/69040 [00:01<00:00, 34568.04it/s]\n",
      "Generating channels: 100%|█████████████████████████████████████████████████████| 69040/69040 [00:12<00:00, 5734.40it/s]\n"
     ]
    },
    {
     "name": "stdout",
     "output_type": "stream",
     "text": [
      "\n",
      "BS-BS Channels\n"
     ]
    },
    {
     "name": "stderr",
     "output_type": "stream",
     "text": [
      "Reading ray-tracing: 100%|███████████████████████████████████████████████████████████████████████| 1/1 [00:00<?, ?it/s]\n",
      "Generating channels: 100%|██████████████████████████████████████████████████████████████| 1/1 [00:00<00:00, 333.17it/s]\n"
     ]
    },
    {
     "name": "stdout",
     "output_type": "stream",
     "text": [
      "\n",
      "Scene 7/10\n",
      "\n",
      "Basestation 1\n",
      "\n",
      "UE-BS Channels\n"
     ]
    },
    {
     "name": "stderr",
     "output_type": "stream",
     "text": [
      "Reading ray-tracing: 100%|████████████████████████████████████████████████████| 69040/69040 [00:01<00:00, 34832.58it/s]\n",
      "Generating channels: 100%|█████████████████████████████████████████████████████| 69040/69040 [00:12<00:00, 5612.91it/s]\n"
     ]
    },
    {
     "name": "stdout",
     "output_type": "stream",
     "text": [
      "\n",
      "BS-BS Channels\n"
     ]
    },
    {
     "name": "stderr",
     "output_type": "stream",
     "text": [
      "Reading ray-tracing: 100%|█████████████████████████████████████████████████████████████| 1/1 [00:00<00:00, 1000.07it/s]\n",
      "Generating channels: 100%|██████████████████████████████████████████████████████████████| 1/1 [00:00<00:00, 498.20it/s]\n"
     ]
    },
    {
     "name": "stdout",
     "output_type": "stream",
     "text": [
      "\n",
      "Scene 8/10\n",
      "\n",
      "Basestation 1\n",
      "\n",
      "UE-BS Channels\n"
     ]
    },
    {
     "name": "stderr",
     "output_type": "stream",
     "text": [
      "Reading ray-tracing: 100%|████████████████████████████████████████████████████| 69040/69040 [00:02<00:00, 33858.31it/s]\n",
      "Generating channels: 100%|█████████████████████████████████████████████████████| 69040/69040 [00:12<00:00, 5648.42it/s]\n"
     ]
    },
    {
     "name": "stdout",
     "output_type": "stream",
     "text": [
      "\n",
      "BS-BS Channels\n"
     ]
    },
    {
     "name": "stderr",
     "output_type": "stream",
     "text": [
      "Reading ray-tracing: 100%|██████████████████████████████████████████████████████████████| 1/1 [00:00<00:00, 999.36it/s]\n",
      "Generating channels: 100%|██████████████████████████████████████████████████████████████| 1/1 [00:00<00:00, 333.52it/s]\n"
     ]
    },
    {
     "name": "stdout",
     "output_type": "stream",
     "text": [
      "\n",
      "Scene 9/10\n",
      "\n",
      "Basestation 1\n",
      "\n",
      "UE-BS Channels\n"
     ]
    },
    {
     "name": "stderr",
     "output_type": "stream",
     "text": [
      "Reading ray-tracing: 100%|████████████████████████████████████████████████████| 69040/69040 [00:02<00:00, 34242.99it/s]\n",
      "Generating channels: 100%|█████████████████████████████████████████████████████| 69040/69040 [00:12<00:00, 5587.88it/s]\n"
     ]
    },
    {
     "name": "stdout",
     "output_type": "stream",
     "text": [
      "\n",
      "BS-BS Channels\n"
     ]
    },
    {
     "name": "stderr",
     "output_type": "stream",
     "text": [
      "Reading ray-tracing: 100%|███████████████████████████████████████████████████████████████████████| 1/1 [00:00<?, ?it/s]\n",
      "Generating channels: 100%|██████████████████████████████████████████████████████████████| 1/1 [00:00<00:00, 499.56it/s]\n"
     ]
    },
    {
     "name": "stdout",
     "output_type": "stream",
     "text": [
      "\n",
      "Scene 10/10\n",
      "\n",
      "Basestation 1\n",
      "\n",
      "UE-BS Channels\n"
     ]
    },
    {
     "name": "stderr",
     "output_type": "stream",
     "text": [
      "Reading ray-tracing: 100%|████████████████████████████████████████████████████| 69040/69040 [00:02<00:00, 33393.34it/s]\n",
      "Generating channels: 100%|█████████████████████████████████████████████████████| 69040/69040 [00:12<00:00, 5397.08it/s]\n"
     ]
    },
    {
     "name": "stdout",
     "output_type": "stream",
     "text": [
      "\n",
      "BS-BS Channels\n"
     ]
    },
    {
     "name": "stderr",
     "output_type": "stream",
     "text": [
      "Reading ray-tracing: 100%|███████████████████████████████████████████████████████████████████████| 1/1 [00:00<?, ?it/s]\n",
      "Generating channels: 100%|██████████████████████████████████████████████████████████████| 1/1 [00:00<00:00, 500.57it/s]\n"
     ]
    },
    {
     "name": "stdout",
     "output_type": "stream",
     "text": [
      "걸리는시간: 154.52\n"
     ]
    }
   ],
   "source": [
    "## Generate and inspect the dataset\n",
    "import time\n",
    "start = time.time()\n",
    "dataset = DeepMIMOv3.generate_data(parameters)\n",
    "end = time.time()\n",
    "\n",
    "print(f\"걸리는시간: {round(end-start,2)}\")"
   ]
  },
  {
   "cell_type": "code",
   "execution_count": 64,
   "id": "4e127d34",
   "metadata": {},
   "outputs": [
    {
     "data": {
      "text/plain": [
       "10"
      ]
     },
     "execution_count": 64,
     "metadata": {},
     "output_type": "execute_result"
    }
   ],
   "source": [
    "len(dataset)"
   ]
  },
  {
   "cell_type": "code",
   "execution_count": 65,
   "id": "cccdc93e",
   "metadata": {},
   "outputs": [
    {
     "data": {
      "text/plain": [
       "[{'user': {'paths': array([{'num_paths': 0, 'DoD_phi': [], 'DoD_theta': [], 'DoA_phi': [], 'DoA_theta': [], 'phase': [], 'ToA': [], 'power': [], 'LoS': []},\n",
       "          {'num_paths': 0, 'DoD_phi': [], 'DoD_theta': [], 'DoA_phi': [], 'DoA_theta': [], 'phase': [], 'ToA': [], 'power': [], 'LoS': []},\n",
       "          {'num_paths': 0, 'DoD_phi': [], 'DoD_theta': [], 'DoA_phi': [], 'DoA_theta': [], 'phase': [], 'ToA': [], 'power': [], 'LoS': []},\n",
       "          ...,\n",
       "          {'num_paths': 0, 'DoD_phi': [], 'DoD_theta': [], 'DoA_phi': [], 'DoA_theta': [], 'phase': [], 'ToA': [], 'power': [], 'LoS': []},\n",
       "          {'num_paths': 0, 'DoD_phi': [], 'DoD_theta': [], 'DoA_phi': [], 'DoA_theta': [], 'phase': [], 'ToA': [], 'power': [], 'LoS': []},\n",
       "          {'num_paths': 0, 'DoD_phi': [], 'DoD_theta': [], 'DoA_phi': [], 'DoA_theta': [], 'phase': [], 'ToA': [], 'power': [], 'LoS': []}],\n",
       "         dtype=object),\n",
       "   'LoS': array([-1, -1, -1, ..., -1, -1, -1], dtype=int8),\n",
       "   'location': array([[-91.03330231, -15.57629967,   1.        ],\n",
       "          [-90.83329773, -15.57629967,   1.        ],\n",
       "          [-90.63330078, -15.57629967,   1.        ],\n",
       "          ...,\n",
       "          [222.25999451, -54.89479828,   1.        ],\n",
       "          [222.46000671, -54.89479828,   1.        ],\n",
       "          [222.66000366, -54.89479828,   1.        ]]),\n",
       "   'distance': array([ 97.57769775,  97.38500214,  97.19229889, ..., 228.71699524,\n",
       "          228.90899658, 229.1000061 ]),\n",
       "   'pathloss': array([0., 0., 0., ..., 0., 0., 0.]),\n",
       "   'channel': array([[[[0.+0.j, 0.+0.j, 0.+0.j, ..., 0.+0.j, 0.+0.j, 0.+0.j],\n",
       "            [0.+0.j, 0.+0.j, 0.+0.j, ..., 0.+0.j, 0.+0.j, 0.+0.j],\n",
       "            [0.+0.j, 0.+0.j, 0.+0.j, ..., 0.+0.j, 0.+0.j, 0.+0.j],\n",
       "            ...,\n",
       "            [0.+0.j, 0.+0.j, 0.+0.j, ..., 0.+0.j, 0.+0.j, 0.+0.j],\n",
       "            [0.+0.j, 0.+0.j, 0.+0.j, ..., 0.+0.j, 0.+0.j, 0.+0.j],\n",
       "            [0.+0.j, 0.+0.j, 0.+0.j, ..., 0.+0.j, 0.+0.j, 0.+0.j]]],\n",
       "   \n",
       "   \n",
       "          [[[0.+0.j, 0.+0.j, 0.+0.j, ..., 0.+0.j, 0.+0.j, 0.+0.j],\n",
       "            [0.+0.j, 0.+0.j, 0.+0.j, ..., 0.+0.j, 0.+0.j, 0.+0.j],\n",
       "            [0.+0.j, 0.+0.j, 0.+0.j, ..., 0.+0.j, 0.+0.j, 0.+0.j],\n",
       "            ...,\n",
       "            [0.+0.j, 0.+0.j, 0.+0.j, ..., 0.+0.j, 0.+0.j, 0.+0.j],\n",
       "            [0.+0.j, 0.+0.j, 0.+0.j, ..., 0.+0.j, 0.+0.j, 0.+0.j],\n",
       "            [0.+0.j, 0.+0.j, 0.+0.j, ..., 0.+0.j, 0.+0.j, 0.+0.j]]],\n",
       "   \n",
       "   \n",
       "          [[[0.+0.j, 0.+0.j, 0.+0.j, ..., 0.+0.j, 0.+0.j, 0.+0.j],\n",
       "            [0.+0.j, 0.+0.j, 0.+0.j, ..., 0.+0.j, 0.+0.j, 0.+0.j],\n",
       "            [0.+0.j, 0.+0.j, 0.+0.j, ..., 0.+0.j, 0.+0.j, 0.+0.j],\n",
       "            ...,\n",
       "            [0.+0.j, 0.+0.j, 0.+0.j, ..., 0.+0.j, 0.+0.j, 0.+0.j],\n",
       "            [0.+0.j, 0.+0.j, 0.+0.j, ..., 0.+0.j, 0.+0.j, 0.+0.j],\n",
       "            [0.+0.j, 0.+0.j, 0.+0.j, ..., 0.+0.j, 0.+0.j, 0.+0.j]]],\n",
       "   \n",
       "   \n",
       "          ...,\n",
       "   \n",
       "   \n",
       "          [[[0.+0.j, 0.+0.j, 0.+0.j, ..., 0.+0.j, 0.+0.j, 0.+0.j],\n",
       "            [0.+0.j, 0.+0.j, 0.+0.j, ..., 0.+0.j, 0.+0.j, 0.+0.j],\n",
       "            [0.+0.j, 0.+0.j, 0.+0.j, ..., 0.+0.j, 0.+0.j, 0.+0.j],\n",
       "            ...,\n",
       "            [0.+0.j, 0.+0.j, 0.+0.j, ..., 0.+0.j, 0.+0.j, 0.+0.j],\n",
       "            [0.+0.j, 0.+0.j, 0.+0.j, ..., 0.+0.j, 0.+0.j, 0.+0.j],\n",
       "            [0.+0.j, 0.+0.j, 0.+0.j, ..., 0.+0.j, 0.+0.j, 0.+0.j]]],\n",
       "   \n",
       "   \n",
       "          [[[0.+0.j, 0.+0.j, 0.+0.j, ..., 0.+0.j, 0.+0.j, 0.+0.j],\n",
       "            [0.+0.j, 0.+0.j, 0.+0.j, ..., 0.+0.j, 0.+0.j, 0.+0.j],\n",
       "            [0.+0.j, 0.+0.j, 0.+0.j, ..., 0.+0.j, 0.+0.j, 0.+0.j],\n",
       "            ...,\n",
       "            [0.+0.j, 0.+0.j, 0.+0.j, ..., 0.+0.j, 0.+0.j, 0.+0.j],\n",
       "            [0.+0.j, 0.+0.j, 0.+0.j, ..., 0.+0.j, 0.+0.j, 0.+0.j],\n",
       "            [0.+0.j, 0.+0.j, 0.+0.j, ..., 0.+0.j, 0.+0.j, 0.+0.j]]],\n",
       "   \n",
       "   \n",
       "          [[[0.+0.j, 0.+0.j, 0.+0.j, ..., 0.+0.j, 0.+0.j, 0.+0.j],\n",
       "            [0.+0.j, 0.+0.j, 0.+0.j, ..., 0.+0.j, 0.+0.j, 0.+0.j],\n",
       "            [0.+0.j, 0.+0.j, 0.+0.j, ..., 0.+0.j, 0.+0.j, 0.+0.j],\n",
       "            ...,\n",
       "            [0.+0.j, 0.+0.j, 0.+0.j, ..., 0.+0.j, 0.+0.j, 0.+0.j],\n",
       "            [0.+0.j, 0.+0.j, 0.+0.j, ..., 0.+0.j, 0.+0.j, 0.+0.j],\n",
       "            [0.+0.j, 0.+0.j, 0.+0.j, ..., 0.+0.j, 0.+0.j, 0.+0.j]]]],\n",
       "         dtype=complex64)},\n",
       "  'basestation': {'paths': array([{'num_paths': 2, 'DoD_phi': array([   0.   , -141.952], dtype=float32), 'DoD_theta': array([180.    ,  89.9997], dtype=float32), 'DoA_phi': array([-180.  , -141.95], dtype=float32), 'DoA_theta': array([180.    ,  89.9997], dtype=float32), 'phase': array([  68.6712, -129.443 ], dtype=float32), 'ToA': array([3.83724e-08, 3.63243e-07], dtype=float32), 'LoS': array([0., 0.], dtype=float32), 'power': array([5.4408858e-08, 2.8096997e-10], dtype=float32)}],\n",
       "         dtype=object),\n",
       "   'LoS': [0.0],\n",
       "   'location': array([[ 3., 10.,  6.]]),\n",
       "   'distance': array([0.]),\n",
       "   'pathloss': array([73.25530243]),\n",
       "   'channel': [array([[[ 3.27880882e-06+9.03047146e-06j,\n",
       "              3.38902836e-06+9.05771773e-06j,\n",
       "              3.52600751e-06+9.10214646e-06j, ...,\n",
       "              9.28594190e-06-2.31882918e-06j,\n",
       "              9.26814511e-06-2.39473446e-06j,\n",
       "              9.27899575e-06-2.48241610e-06j],\n",
       "            [-4.22006268e-06-1.01746392e-05j,\n",
       "             -4.55990916e-06-9.96552678e-06j,\n",
       "             -4.86858996e-06-9.72868608e-06j, ...,\n",
       "             -1.07515196e-05+2.53599163e-06j,\n",
       "             -1.06494687e-05+2.93048000e-06j,\n",
       "             -1.05077289e-05+3.31024060e-06j],\n",
       "            [ 3.27882920e-06+9.03045542e-06j,\n",
       "              3.38904486e-06+9.05769790e-06j,\n",
       "              3.52601939e-06+9.10212379e-06j, ...,\n",
       "              9.28593792e-06-2.31885488e-06j,\n",
       "              9.26813589e-06-2.39475878e-06j,\n",
       "              9.27898172e-06-2.48243791e-06j],\n",
       "            ...,\n",
       "            [-4.21982438e-06-1.01748453e-05j,\n",
       "             -4.55972469e-06-9.96578487e-06j,\n",
       "             -4.86846960e-06-9.72898291e-06j, ...,\n",
       "             -1.07515633e-05+2.53568085e-06j,\n",
       "             -1.06495846e-05+2.93018834e-06j,\n",
       "             -1.05079111e-05+3.30998367e-06j],\n",
       "            [ 3.27911451e-06+9.03023098e-06j,\n",
       "              3.38927589e-06+9.05742036e-06j,\n",
       "              3.52618585e-06+9.10180640e-06j, ...,\n",
       "              9.28588238e-06-2.31921470e-06j,\n",
       "              9.26800688e-06-2.39509920e-06j,\n",
       "              9.27878532e-06-2.48274327e-06j],\n",
       "            [-4.21980736e-06-1.01748600e-05j,\n",
       "             -4.55971151e-06-9.96580330e-06j,\n",
       "             -4.86846100e-06-9.72900412e-06j, ...,\n",
       "             -1.07515664e-05+2.53565866e-06j,\n",
       "             -1.06495929e-05+2.93016751e-06j,\n",
       "             -1.05079242e-05+3.30996531e-06j]],\n",
       "    \n",
       "           [[-4.22006268e-06-1.01746392e-05j,\n",
       "             -4.55990916e-06-9.96552678e-06j,\n",
       "             -4.86858996e-06-9.72868608e-06j, ...,\n",
       "             -1.07515196e-05+2.53599163e-06j,\n",
       "             -1.06494687e-05+2.93048000e-06j,\n",
       "             -1.05077289e-05+3.31024060e-06j],\n",
       "            [ 3.27882920e-06+9.03045542e-06j,\n",
       "              3.38904486e-06+9.05769790e-06j,\n",
       "              3.52601939e-06+9.10212379e-06j, ...,\n",
       "              9.28593792e-06-2.31885488e-06j,\n",
       "              9.26813589e-06-2.39475878e-06j,\n",
       "              9.27898172e-06-2.48243791e-06j],\n",
       "            [-4.22004567e-06-1.01746539e-05j,\n",
       "             -4.55989598e-06-9.96554522e-06j,\n",
       "             -4.86858137e-06-9.72870728e-06j, ...,\n",
       "             -1.07515227e-05+2.53596943e-06j,\n",
       "             -1.06494770e-05+2.93045917e-06j,\n",
       "             -1.05077419e-05+3.31022225e-06j],\n",
       "            ...,\n",
       "            [ 3.27911451e-06+9.03023098e-06j,\n",
       "              3.38927589e-06+9.05742036e-06j,\n",
       "              3.52618585e-06+9.10180640e-06j, ...,\n",
       "              9.28588238e-06-2.31921470e-06j,\n",
       "              9.26800688e-06-2.39509920e-06j,\n",
       "              9.27878532e-06-2.48274327e-06j],\n",
       "            [-4.21980736e-06-1.01748600e-05j,\n",
       "             -4.55971151e-06-9.96580330e-06j,\n",
       "             -4.86846100e-06-9.72900412e-06j, ...,\n",
       "             -1.07515664e-05+2.53565866e-06j,\n",
       "             -1.06495929e-05+2.93016751e-06j,\n",
       "             -1.05079242e-05+3.30996531e-06j],\n",
       "            [ 3.27913490e-06+9.03021495e-06j,\n",
       "              3.38929240e-06+9.05740054e-06j,\n",
       "              3.52619775e-06+9.10178373e-06j, ...,\n",
       "              9.28587842e-06-2.31924040e-06j,\n",
       "              9.26799767e-06-2.39512351e-06j,\n",
       "              9.27877129e-06-2.48276509e-06j]],\n",
       "    \n",
       "           [[ 3.27882920e-06+9.03045542e-06j,\n",
       "              3.38904486e-06+9.05769790e-06j,\n",
       "              3.52601939e-06+9.10212379e-06j, ...,\n",
       "              9.28593792e-06-2.31885488e-06j,\n",
       "              9.26813589e-06-2.39475878e-06j,\n",
       "              9.27898172e-06-2.48243791e-06j],\n",
       "            [-4.22004567e-06-1.01746539e-05j,\n",
       "             -4.55989598e-06-9.96554522e-06j,\n",
       "             -4.86858137e-06-9.72870728e-06j, ...,\n",
       "             -1.07515227e-05+2.53596943e-06j,\n",
       "             -1.06494770e-05+2.93045917e-06j,\n",
       "             -1.05077419e-05+3.31022225e-06j],\n",
       "            [ 3.27884957e-06+9.03043939e-06j,\n",
       "              3.38906136e-06+9.05767808e-06j,\n",
       "              3.52603128e-06+9.10210111e-06j, ...,\n",
       "              9.28593395e-06-2.31888058e-06j,\n",
       "              9.26812667e-06-2.39478309e-06j,\n",
       "              9.27896769e-06-2.48245972e-06j],\n",
       "            ...,\n",
       "            [-4.21980736e-06-1.01748600e-05j,\n",
       "             -4.55971151e-06-9.96580330e-06j,\n",
       "             -4.86846100e-06-9.72900412e-06j, ...,\n",
       "             -1.07515664e-05+2.53565866e-06j,\n",
       "             -1.06495929e-05+2.93016751e-06j,\n",
       "             -1.05079242e-05+3.30996531e-06j],\n",
       "            [ 3.27913490e-06+9.03021495e-06j,\n",
       "              3.38929240e-06+9.05740054e-06j,\n",
       "              3.52619775e-06+9.10178373e-06j, ...,\n",
       "              9.28587842e-06-2.31924040e-06j,\n",
       "              9.26799767e-06-2.39512351e-06j,\n",
       "              9.27877129e-06-2.48276509e-06j],\n",
       "            [-4.21979033e-06-1.01748747e-05j,\n",
       "             -4.55969833e-06-9.96582173e-06j,\n",
       "             -4.86845239e-06-9.72902532e-06j, ...,\n",
       "             -1.07515695e-05+2.53563646e-06j,\n",
       "             -1.06496012e-05+2.93014667e-06j,\n",
       "             -1.05079372e-05+3.30994695e-06j]],\n",
       "    \n",
       "           ...,\n",
       "    \n",
       "           [[-4.21982438e-06-1.01748453e-05j,\n",
       "             -4.55972469e-06-9.96578487e-06j,\n",
       "             -4.86846960e-06-9.72898291e-06j, ...,\n",
       "             -1.07515633e-05+2.53568085e-06j,\n",
       "             -1.06495846e-05+2.93018834e-06j,\n",
       "             -1.05079111e-05+3.30998367e-06j],\n",
       "            [ 3.27911451e-06+9.03023098e-06j,\n",
       "              3.38927589e-06+9.05742036e-06j,\n",
       "              3.52618585e-06+9.10180640e-06j, ...,\n",
       "              9.28588238e-06-2.31921470e-06j,\n",
       "              9.26800688e-06-2.39509920e-06j,\n",
       "              9.27878532e-06-2.48274327e-06j],\n",
       "            [-4.21980736e-06-1.01748600e-05j,\n",
       "             -4.55971151e-06-9.96580330e-06j,\n",
       "             -4.86846100e-06-9.72900412e-06j, ...,\n",
       "             -1.07515664e-05+2.53565866e-06j,\n",
       "             -1.06495929e-05+2.93016751e-06j,\n",
       "             -1.05079242e-05+3.30996531e-06j],\n",
       "            ...,\n",
       "            [ 3.27939993e-06+9.03000665e-06j,\n",
       "              3.38950705e-06+9.05714291e-06j,\n",
       "              3.52635246e-06+9.10148908e-06j, ...,\n",
       "              9.28582700e-06-2.31957454e-06j,\n",
       "              9.26787803e-06-2.39543967e-06j,\n",
       "              9.27858904e-06-2.48304873e-06j],\n",
       "            [-4.21956895e-06-1.01750660e-05j,\n",
       "             -4.55952692e-06-9.96606129e-06j,\n",
       "             -4.86834048e-06-9.72930088e-06j, ...,\n",
       "             -1.07516099e-05+2.53534786e-06j,\n",
       "             -1.06497087e-05+2.92987578e-06j,\n",
       "             -1.05081062e-05+3.30970829e-06j],\n",
       "            [ 3.27942032e-06+9.02999063e-06j,\n",
       "              3.38952357e-06+9.05712310e-06j,\n",
       "              3.52636436e-06+9.10146642e-06j, ...,\n",
       "              9.28582305e-06-2.31960025e-06j,\n",
       "              9.26786883e-06-2.39546399e-06j,\n",
       "              9.27857503e-06-2.48307055e-06j]],\n",
       "    \n",
       "           [[ 3.27911451e-06+9.03023098e-06j,\n",
       "              3.38927589e-06+9.05742036e-06j,\n",
       "              3.52618585e-06+9.10180640e-06j, ...,\n",
       "              9.28588238e-06-2.31921470e-06j,\n",
       "              9.26800688e-06-2.39509920e-06j,\n",
       "              9.27878532e-06-2.48274327e-06j],\n",
       "            [-4.21980736e-06-1.01748600e-05j,\n",
       "             -4.55971151e-06-9.96580330e-06j,\n",
       "             -4.86846100e-06-9.72900412e-06j, ...,\n",
       "             -1.07515664e-05+2.53565866e-06j,\n",
       "             -1.06495929e-05+2.93016751e-06j,\n",
       "             -1.05079242e-05+3.30996531e-06j],\n",
       "            [ 3.27913490e-06+9.03021495e-06j,\n",
       "              3.38929240e-06+9.05740054e-06j,\n",
       "              3.52619775e-06+9.10178373e-06j, ...,\n",
       "              9.28587842e-06-2.31924040e-06j,\n",
       "              9.26799767e-06-2.39512351e-06j,\n",
       "              9.27877129e-06-2.48276509e-06j],\n",
       "            ...,\n",
       "            [-4.21956895e-06-1.01750660e-05j,\n",
       "             -4.55952692e-06-9.96606129e-06j,\n",
       "             -4.86834048e-06-9.72930088e-06j, ...,\n",
       "             -1.07516099e-05+2.53534786e-06j,\n",
       "             -1.06497087e-05+2.92987578e-06j,\n",
       "             -1.05081062e-05+3.30970829e-06j],\n",
       "            [ 3.27942032e-06+9.02999063e-06j,\n",
       "              3.38952357e-06+9.05712310e-06j,\n",
       "              3.52636436e-06+9.10146642e-06j, ...,\n",
       "              9.28582305e-06-2.31960025e-06j,\n",
       "              9.26786883e-06-2.39546399e-06j,\n",
       "              9.27857503e-06-2.48307055e-06j],\n",
       "            [-4.21955192e-06-1.01750807e-05j,\n",
       "             -4.55951373e-06-9.96607971e-06j,\n",
       "             -4.86833187e-06-9.72932208e-06j, ...,\n",
       "             -1.07516130e-05+2.53532566e-06j,\n",
       "             -1.06497170e-05+2.92985494e-06j,\n",
       "             -1.05081192e-05+3.30968993e-06j]],\n",
       "    \n",
       "           [[-4.21980736e-06-1.01748600e-05j,\n",
       "             -4.55971151e-06-9.96580330e-06j,\n",
       "             -4.86846100e-06-9.72900412e-06j, ...,\n",
       "             -1.07515664e-05+2.53565866e-06j,\n",
       "             -1.06495929e-05+2.93016751e-06j,\n",
       "             -1.05079242e-05+3.30996531e-06j],\n",
       "            [ 3.27913490e-06+9.03021495e-06j,\n",
       "              3.38929240e-06+9.05740054e-06j,\n",
       "              3.52619775e-06+9.10178373e-06j, ...,\n",
       "              9.28587842e-06-2.31924040e-06j,\n",
       "              9.26799767e-06-2.39512351e-06j,\n",
       "              9.27877129e-06-2.48276509e-06j],\n",
       "            [-4.21979033e-06-1.01748747e-05j,\n",
       "             -4.55969833e-06-9.96582173e-06j,\n",
       "             -4.86845239e-06-9.72902532e-06j, ...,\n",
       "             -1.07515695e-05+2.53563646e-06j,\n",
       "             -1.06496012e-05+2.93014667e-06j,\n",
       "             -1.05079372e-05+3.30994695e-06j],\n",
       "            ...,\n",
       "            [ 3.27942032e-06+9.02999063e-06j,\n",
       "              3.38952357e-06+9.05712310e-06j,\n",
       "              3.52636436e-06+9.10146642e-06j, ...,\n",
       "              9.28582305e-06-2.31960025e-06j,\n",
       "              9.26786883e-06-2.39546399e-06j,\n",
       "              9.27857503e-06-2.48307055e-06j],\n",
       "            [-4.21955192e-06-1.01750807e-05j,\n",
       "             -4.55951373e-06-9.96607971e-06j,\n",
       "             -4.86833187e-06-9.72932208e-06j, ...,\n",
       "             -1.07516130e-05+2.53532566e-06j,\n",
       "             -1.06497170e-05+2.92985494e-06j,\n",
       "             -1.05081192e-05+3.30968993e-06j],\n",
       "            [ 3.27944071e-06+9.02997461e-06j,\n",
       "              3.38954008e-06+9.05710329e-06j,\n",
       "              3.52637627e-06+9.10144375e-06j, ...,\n",
       "              9.28581910e-06-2.31962595e-06j,\n",
       "              9.26785963e-06-2.39548832e-06j,\n",
       "              9.27856101e-06-2.48309237e-06j]]])]},\n",
       "  'location': array([ 3., 10.,  6.])}]"
      ]
     },
     "execution_count": 65,
     "metadata": {},
     "output_type": "execute_result"
    }
   ],
   "source": [
    "dataset[0]"
   ]
  },
  {
   "cell_type": "markdown",
   "id": "5b4e72d4",
   "metadata": {},
   "source": [
    "# 사용자 접근 데이터"
   ]
  },
  {
   "cell_type": "code",
   "execution_count": 66,
   "id": "57828d31",
   "metadata": {},
   "outputs": [
    {
     "name": "stdout",
     "output_type": "stream",
     "text": [
      "dict_keys(['paths', 'LoS', 'location', 'distance', 'pathloss', 'channel'])\n"
     ]
    }
   ],
   "source": [
    "user_data = dataset[0][0]['user']\n",
    "print(user_data.keys())"
   ]
  },
  {
   "cell_type": "markdown",
   "id": "bc5a3b0c",
   "metadata": {},
   "source": [
    "# 사용자 채널 정보 확인"
   ]
  },
  {
   "cell_type": "code",
   "execution_count": 67,
   "id": "23b2884b",
   "metadata": {},
   "outputs": [
    {
     "name": "stdout",
     "output_type": "stream",
     "text": [
      "(69040, 1, 32, 64)\n"
     ]
    }
   ],
   "source": [
    "# subcarries = 나눈 각각의 주파수 채널\n",
    "# Channel = H <- 채널 벡터\n",
    "# 채널 형태\n",
    "# (user, UE antenna, Bs antenna, subcarrier)\n",
    "channel = dataset[0][0]['user']['channel']\n",
    "print(channel.shape)  "
   ]
  },
  {
   "cell_type": "code",
   "execution_count": 68,
   "id": "bf443dc9",
   "metadata": {},
   "outputs": [
    {
     "name": "stdout",
     "output_type": "stream",
     "text": [
      "[[[-4.9276509e-06+6.0179661e-07j -4.7681883e-06+1.3829425e-06j\n",
      "   -4.4857170e-06+2.1285541e-06j ...  4.3711116e-06-2.4074948e-06j\n",
      "    3.9297033e-06-3.0764131e-06j  3.3868639e-06-3.6660977e-06j]\n",
      "  [-4.7825752e-06+1.6998159e-06j -4.4491662e-06+2.4436672e-06j\n",
      "   -4.0009481e-06+3.1246111e-06j ...  3.8229477e-06-3.3767817e-06j\n",
      "    3.2333687e-06-3.9455144e-06j  2.5602983e-06-4.4125736e-06j]\n",
      "  [-4.3861578e-06+2.7614337e-06j -3.8878534e-06+3.4282084e-06j\n",
      "   -3.2891933e-06+4.0066625e-06j ...  3.0543217e-06-4.2173128e-06j\n",
      "    2.3400164e-06-4.6522073e-06j  1.5652473e-06-4.9671735e-06j]\n",
      "  ...\n",
      "  [-5.9705985e-06+1.8381670e-06j -5.5992200e-06+2.7702260e-06j\n",
      "   -5.0834296e-06+3.6307945e-06j ...  4.8462462e-06-3.9304277e-06j\n",
      "    4.1544481e-06-4.6554678e-06j  3.3555179e-06-5.2603964e-06j]\n",
      "  [-5.3850690e-06+3.0986103e-06j -4.8194606e-06+3.9206407e-06j\n",
      "   -4.1295657e-06+4.6415066e-06j ...  3.8328362e-06-4.8787911e-06j\n",
      "    3.0023016e-06-5.4293314e-06j  2.0943648e-06-5.8398036e-06j]\n",
      "  [-4.5357333e-06+4.1878652e-06j -3.8067144e-06+4.8598408e-06j\n",
      "   -2.9795442e-06+5.4064294e-06j ...  2.6393784e-06-5.5698706e-06j\n",
      "    1.7136289e-06-5.9204085e-06j  7.4372792e-07-6.1182200e-06j]]]\n"
     ]
    }
   ],
   "source": [
    "print(dataset[0][0]['user']['channel'][100])"
   ]
  },
  {
   "cell_type": "code",
   "execution_count": 69,
   "id": "1a931204",
   "metadata": {},
   "outputs": [
    {
     "name": "stdout",
     "output_type": "stream",
     "text": [
      "1\n"
     ]
    }
   ],
   "source": [
    "print(len(dataset[0][0]['user']['channel'][100]))"
   ]
  },
  {
   "cell_type": "code",
   "execution_count": 70,
   "id": "ff08a89e",
   "metadata": {},
   "outputs": [
    {
     "name": "stdout",
     "output_type": "stream",
     "text": [
      "[ 1.14151417e-05-4.36109121e-06j  1.13104134e-05-4.99916769e-06j\n",
      "  1.11716581e-05-5.67118514e-06j  1.09873472e-05-6.37486755e-06j\n",
      "  1.07464039e-05-7.10507175e-06j  1.04388646e-05-7.85394786e-06j\n",
      "  1.00564839e-05-8.61123954e-06j  9.59326280e-06-9.36472679e-06j\n",
      "  9.04586159e-06-1.01007672e-05j  8.41387282e-06-1.08049298e-05j\n",
      "  7.69995040e-06-1.14626673e-05j  6.90977913e-06-1.20600052e-05j\n",
      "  6.05189052e-06-1.25842089e-05j  5.13732675e-06-1.30243880e-05j\n",
      "  4.17918318e-06-1.33720132e-05j  3.19203900e-06-1.36213148e-05j\n",
      "  2.19131471e-06-1.37695433e-05j  1.19258925e-06-1.38170753e-05j\n",
      "  2.10908027e-07-1.37673669e-05j -7.39877976e-07-1.36267463e-05j\n",
      " -1.64770893e-06-1.34040656e-05j -2.50281732e-06-1.31102279e-05j\n",
      " -3.29810814e-06-1.27576113e-05j -4.02939668e-06-1.23594264e-05j\n",
      " -4.69549514e-06-1.19290335e-05j -5.29813951e-06-1.14792647e-05j\n",
      " -5.84176632e-06-1.10217779e-05j -6.33314448e-06-1.05664840e-05j\n",
      " -6.78089191e-06-1.01210744e-05j -7.19489299e-06-9.69066787e-06j\n",
      " -7.58565420e-06-9.27761084e-06j -7.96363111e-06-8.88142313e-06j\n",
      " -8.33856484e-06-8.49890512e-06j -8.71885459e-06-8.12439157e-06j\n",
      " -9.11101597e-06-7.75014814e-06j -9.51923721e-06-7.36687571e-06j\n",
      " -9.94506809e-06-6.96431107e-06j -1.03872544e-05-6.53187772e-06j\n",
      " -1.08417298e-05-6.05936111e-06j -1.13017559e-05-5.53756945e-06j\n",
      " -1.17582258e-05-4.95894210e-06j -1.22000811e-05-4.31807575e-06j\n",
      " -1.26148598e-05-3.61214165e-06j -1.29893097e-05-2.84116686e-06j\n",
      " -1.33100630e-05-2.00816589e-06j -1.35643195e-05-1.11911800e-06j\n",
      " -1.37405095e-05-1.82786522e-07j -1.38288988e-05+7.89607157e-07j\n",
      " -1.38221067e-05+1.78484061e-06j -1.37155066e-05+2.78825269e-06j\n",
      " -1.35074870e-05+3.78438449e-06j -1.31995657e-05+4.75766183e-06j\n",
      " -1.27963385e-05+5.69308668e-06j -1.23052841e-05+6.57690180e-06j\n",
      " -1.17364107e-05+7.39718735e-06j -1.11017880e-05+8.14437226e-06j\n",
      " -1.04149713e-05+8.81161304e-06j -9.69035409e-06+9.39504571e-06j\n",
      " -8.94248751e-06+9.89386990e-06j -8.18538956e-06+1.03102893e-05j\n",
      " -7.43190139e-06+1.06492889e-05j -6.69309748e-06+1.09182747e-05j\n",
      " -5.97780945e-06+1.11265890e-05j -5.29226054e-06+1.12849320e-05j]\n"
     ]
    }
   ],
   "source": [
    "print(channel[10000][0][0])"
   ]
  },
  {
   "cell_type": "code",
   "execution_count": 71,
   "id": "f65feb3b",
   "metadata": {},
   "outputs": [
    {
     "name": "stdout",
     "output_type": "stream",
     "text": [
      "[0.+0.j 0.+0.j 0.+0.j 0.+0.j 0.+0.j 0.+0.j 0.+0.j 0.+0.j 0.+0.j 0.+0.j\n",
      " 0.+0.j 0.+0.j 0.+0.j 0.+0.j 0.+0.j 0.+0.j 0.+0.j 0.+0.j 0.+0.j 0.+0.j\n",
      " 0.+0.j 0.+0.j 0.+0.j 0.+0.j 0.+0.j 0.+0.j 0.+0.j 0.+0.j 0.+0.j 0.+0.j\n",
      " 0.+0.j 0.+0.j 0.+0.j 0.+0.j 0.+0.j 0.+0.j 0.+0.j 0.+0.j 0.+0.j 0.+0.j\n",
      " 0.+0.j 0.+0.j 0.+0.j 0.+0.j 0.+0.j 0.+0.j 0.+0.j 0.+0.j 0.+0.j 0.+0.j\n",
      " 0.+0.j 0.+0.j 0.+0.j 0.+0.j 0.+0.j 0.+0.j 0.+0.j 0.+0.j 0.+0.j 0.+0.j\n",
      " 0.+0.j 0.+0.j 0.+0.j 0.+0.j]\n"
     ]
    }
   ],
   "source": [
    "print(channel[1][0][0])"
   ]
  },
  {
   "cell_type": "markdown",
   "id": "2b079846",
   "metadata": {},
   "source": [
    "# 사용자 위치 정보"
   ]
  },
  {
   "cell_type": "code",
   "execution_count": 72,
   "id": "84337e94",
   "metadata": {},
   "outputs": [
    {
     "name": "stdout",
     "output_type": "stream",
     "text": [
      "(69040, 3)\n",
      "[[-91.03330231 -15.57629967   1.        ]\n",
      " [-90.83329773 -15.57629967   1.        ]\n",
      " [-90.63330078 -15.57629967   1.        ]\n",
      " [-90.4332962  -15.57629967   1.        ]]\n"
     ]
    }
   ],
   "source": [
    "location = dataset[0][0]['user']['location']\n",
    "print(location.shape)      # (사용자 수, 3)\n",
    "print(location[0:4])         # 첫 번째 사용자의 (x, y, z)"
   ]
  },
  {
   "cell_type": "markdown",
   "id": "60e9a9b6",
   "metadata": {},
   "source": [
    "# 경로정보"
   ]
  },
  {
   "cell_type": "code",
   "execution_count": 73,
   "id": "79cde8ee",
   "metadata": {},
   "outputs": [
    {
     "name": "stdout",
     "output_type": "stream",
     "text": [
      "69040\n",
      "{'num_paths': 0, 'DoD_phi': [], 'DoD_theta': [], 'DoA_phi': [], 'DoA_theta': [], 'phase': [], 'ToA': [], 'power': [], 'LoS': []}\n"
     ]
    }
   ],
   "source": [
    "paths = dataset[0][0]['user']['paths']\n",
    "#사용자 수\n",
    "print(len(paths))\n",
    "# 첫 번째 사용자 경로 정보\n",
    "print(paths[0])"
   ]
  },
  {
   "cell_type": "markdown",
   "id": "f2242869",
   "metadata": {},
   "source": [
    "# 기지국 정보"
   ]
  },
  {
   "cell_type": "code",
   "execution_count": 74,
   "id": "2900e481",
   "metadata": {},
   "outputs": [
    {
     "name": "stdout",
     "output_type": "stream",
     "text": [
      "dict_keys(['paths', 'LoS', 'location', 'distance', 'pathloss', 'channel'])\n"
     ]
    }
   ],
   "source": [
    "bs_data = dataset[0][0]['basestation']\n",
    "print(bs_data.keys())\n"
   ]
  },
  {
   "cell_type": "markdown",
   "id": "c063ea95",
   "metadata": {},
   "source": [
    "# Scene 및 사용자 수"
   ]
  },
  {
   "cell_type": "code",
   "execution_count": 75,
   "id": "a20df92d",
   "metadata": {},
   "outputs": [
    {
     "name": "stdout",
     "output_type": "stream",
     "text": [
      "Scene 0: 69040 users\n"
     ]
    }
   ],
   "source": [
    "for i, scene in enumerate(dataset[0]):\n",
    "    user_locs = scene['user']['location']\n",
    "    print(f\"Scene {i}: {len(user_locs)} users\")"
   ]
  },
  {
   "cell_type": "markdown",
   "id": "b38f71e1",
   "metadata": {},
   "source": [
    "# 채널 수"
   ]
  },
  {
   "cell_type": "code",
   "execution_count": 76,
   "id": "cbbee52e",
   "metadata": {},
   "outputs": [
    {
     "data": {
      "text/plain": [
       "69040"
      ]
     },
     "execution_count": 76,
     "metadata": {},
     "output_type": "execute_result"
    }
   ],
   "source": [
    "len(dataset[0][0]['user']['channel'])"
   ]
  },
  {
   "cell_type": "code",
   "execution_count": 77,
   "id": "2d474195",
   "metadata": {},
   "outputs": [
    {
     "name": "stdout",
     "output_type": "stream",
     "text": [
      "{'num_paths': 0, 'DoD_phi': [], 'DoD_theta': [], 'DoA_phi': [], 'DoA_theta': [], 'phase': [], 'ToA': [], 'power': [], 'LoS': []}\n"
     ]
    }
   ],
   "source": [
    "print(dataset[0][0]['user']['paths'][0])"
   ]
  },
  {
   "cell_type": "code",
   "execution_count": 78,
   "id": "73df9912",
   "metadata": {},
   "outputs": [
    {
     "name": "stdout",
     "output_type": "stream",
     "text": [
      "(1, 32, 64)\n"
     ]
    }
   ],
   "source": [
    "scene = dataset[0][0] # scene 0\n",
    "ue_idx = 0 # 첫 번째 사용자\n",
    "channel = scene['user']['channel'][ue_idx]\n",
    "print(channel.shape)"
   ]
  },
  {
   "cell_type": "code",
   "execution_count": 79,
   "id": "c312bc2a",
   "metadata": {},
   "outputs": [],
   "source": [
    "import torch\n",
    "import torch.nn as nn\n",
    "import torch.optim as optim\n",
    "import torchvision\n",
    "import torchvision.transforms as transforms\n",
    "from torch.utils.data import DataLoader\n",
    "import matplotlib.pyplot as plt"
   ]
  },
  {
   "cell_type": "code",
   "execution_count": 80,
   "id": "7f11a45a",
   "metadata": {},
   "outputs": [
    {
     "name": "stdout",
     "output_type": "stream",
     "text": [
      "cuda\n"
     ]
    }
   ],
   "source": [
    "# GPU 설정\n",
    "device = torch.device(\"cuda\" if torch.cuda.is_available() else \"cpu\")\n",
    "\n",
    "print(device)"
   ]
  },
  {
   "cell_type": "markdown",
   "id": "373ffb59",
   "metadata": {},
   "source": [
    "# channel CIR mat 정보 가져오기"
   ]
  },
  {
   "cell_type": "code",
   "execution_count": 81,
   "id": "ec4461cb",
   "metadata": {},
   "outputs": [
    {
     "name": "stdout",
     "output_type": "stream",
     "text": [
      "dict_keys(['__header__', '__version__', '__globals__', 'CIR_array_full'])\n"
     ]
    }
   ],
   "source": [
    "import scipy.io as sio\n",
    "\n",
    "file_path = r'C:\\Users\\dlghd\\졸업프로젝트\\LWM\\O2_dyn_3p5\\scene_0\\O2_dyn_3p5.1.CIR.mat'\n",
    "mat_data = sio.loadmat(file_path)\n",
    "\n",
    "# 파일 안의 key 확인\n",
    "print(mat_data.keys())\n",
    "\n",
    "\n"
   ]
  },
  {
   "cell_type": "code",
   "execution_count": 82,
   "id": "662cb441",
   "metadata": {},
   "outputs": [
    {
     "name": "stdout",
     "output_type": "stream",
     "text": [
      "b'MATLAB 5.0 MAT-file, Platform: PCWIN64, Created on: Wed Jun 30 11:33:01 2021'\n"
     ]
    }
   ],
   "source": [
    "# 일반적으로 CIR key는 'CIR' 또는 'cir' 같은 이름일 가능성 높음\n",
    "H_cir = mat_data['__header__']  \n",
    "print(H_cir)"
   ]
  },
  {
   "cell_type": "markdown",
   "id": "88f3d7c7",
   "metadata": {},
   "source": [
    "# Time-Prediction 시작\n",
    "## Time Series 형태로 변환\n",
    "### 단일사용자 채널 예측"
   ]
  },
  {
   "cell_type": "code",
   "execution_count": 83,
   "id": "db7345b0",
   "metadata": {},
   "outputs": [],
   "source": [
    "# H = dataset[0][0]['user']['channel'][100]  # (1, 32, 64), complex\n",
    "# H = H.squeeze(0)  # → (32, 64)\n",
    "\n",
    "# # 채널은 복소수 형태\n",
    "# H_real = H.real   # shape: (32, 64)\n",
    "# H_imag = H.imag   # shape: (32, 64)\n",
    "\n",
    "# H_combined = np.concatenate([H_real, H_imag], axis=0)  # shape: (64, 64)\n"
   ]
  },
  {
   "cell_type": "code",
   "execution_count": 84,
   "id": "1f97d362",
   "metadata": {},
   "outputs": [],
   "source": [
    "# 단일 사용자에 대한 예측 코드\n",
    "channel_sequence = []\n",
    "\n",
    "for scene in dataset:\n",
    "    # 100번재 사용자에 대한 예측\n",
    "    H = scene[0]['user']['channel'][100]\n",
    "    H = H.squeeze(0)\n",
    "    # 채널은 복소수 형태 \n",
    "    H_real = H.real # (32, 64) = (BS antenna, subcarrier)\n",
    "    H_imag = H.imag\n",
    "    H_concat = np.concatenate([H_real, H_imag], axis=0) \n",
    "    channel_sequence.append(H_concat)\n",
    "\n",
    "# T는 sence\n",
    "channel_sequence = np.stack(channel_sequence)  # shape: (T, 64, 64) = (real/imag쌍, subcarrier)\n"
   ]
  },
  {
   "cell_type": "code",
   "execution_count": 85,
   "id": "63f48bf7",
   "metadata": {},
   "outputs": [
    {
     "name": "stdout",
     "output_type": "stream",
     "text": [
      "[[[[0.+0.j 0.+0.j 0.+0.j ... 0.+0.j 0.+0.j 0.+0.j]\n",
      "   [0.+0.j 0.+0.j 0.+0.j ... 0.+0.j 0.+0.j 0.+0.j]\n",
      "   [0.+0.j 0.+0.j 0.+0.j ... 0.+0.j 0.+0.j 0.+0.j]\n",
      "   ...\n",
      "   [0.+0.j 0.+0.j 0.+0.j ... 0.+0.j 0.+0.j 0.+0.j]\n",
      "   [0.+0.j 0.+0.j 0.+0.j ... 0.+0.j 0.+0.j 0.+0.j]\n",
      "   [0.+0.j 0.+0.j 0.+0.j ... 0.+0.j 0.+0.j 0.+0.j]]]\n",
      "\n",
      "\n",
      " [[[0.+0.j 0.+0.j 0.+0.j ... 0.+0.j 0.+0.j 0.+0.j]\n",
      "   [0.+0.j 0.+0.j 0.+0.j ... 0.+0.j 0.+0.j 0.+0.j]\n",
      "   [0.+0.j 0.+0.j 0.+0.j ... 0.+0.j 0.+0.j 0.+0.j]\n",
      "   ...\n",
      "   [0.+0.j 0.+0.j 0.+0.j ... 0.+0.j 0.+0.j 0.+0.j]\n",
      "   [0.+0.j 0.+0.j 0.+0.j ... 0.+0.j 0.+0.j 0.+0.j]\n",
      "   [0.+0.j 0.+0.j 0.+0.j ... 0.+0.j 0.+0.j 0.+0.j]]]\n",
      "\n",
      "\n",
      " [[[0.+0.j 0.+0.j 0.+0.j ... 0.+0.j 0.+0.j 0.+0.j]\n",
      "   [0.+0.j 0.+0.j 0.+0.j ... 0.+0.j 0.+0.j 0.+0.j]\n",
      "   [0.+0.j 0.+0.j 0.+0.j ... 0.+0.j 0.+0.j 0.+0.j]\n",
      "   ...\n",
      "   [0.+0.j 0.+0.j 0.+0.j ... 0.+0.j 0.+0.j 0.+0.j]\n",
      "   [0.+0.j 0.+0.j 0.+0.j ... 0.+0.j 0.+0.j 0.+0.j]\n",
      "   [0.+0.j 0.+0.j 0.+0.j ... 0.+0.j 0.+0.j 0.+0.j]]]\n",
      "\n",
      "\n",
      " ...\n",
      "\n",
      "\n",
      " [[[0.+0.j 0.+0.j 0.+0.j ... 0.+0.j 0.+0.j 0.+0.j]\n",
      "   [0.+0.j 0.+0.j 0.+0.j ... 0.+0.j 0.+0.j 0.+0.j]\n",
      "   [0.+0.j 0.+0.j 0.+0.j ... 0.+0.j 0.+0.j 0.+0.j]\n",
      "   ...\n",
      "   [0.+0.j 0.+0.j 0.+0.j ... 0.+0.j 0.+0.j 0.+0.j]\n",
      "   [0.+0.j 0.+0.j 0.+0.j ... 0.+0.j 0.+0.j 0.+0.j]\n",
      "   [0.+0.j 0.+0.j 0.+0.j ... 0.+0.j 0.+0.j 0.+0.j]]]\n",
      "\n",
      "\n",
      " [[[0.+0.j 0.+0.j 0.+0.j ... 0.+0.j 0.+0.j 0.+0.j]\n",
      "   [0.+0.j 0.+0.j 0.+0.j ... 0.+0.j 0.+0.j 0.+0.j]\n",
      "   [0.+0.j 0.+0.j 0.+0.j ... 0.+0.j 0.+0.j 0.+0.j]\n",
      "   ...\n",
      "   [0.+0.j 0.+0.j 0.+0.j ... 0.+0.j 0.+0.j 0.+0.j]\n",
      "   [0.+0.j 0.+0.j 0.+0.j ... 0.+0.j 0.+0.j 0.+0.j]\n",
      "   [0.+0.j 0.+0.j 0.+0.j ... 0.+0.j 0.+0.j 0.+0.j]]]\n",
      "\n",
      "\n",
      " [[[0.+0.j 0.+0.j 0.+0.j ... 0.+0.j 0.+0.j 0.+0.j]\n",
      "   [0.+0.j 0.+0.j 0.+0.j ... 0.+0.j 0.+0.j 0.+0.j]\n",
      "   [0.+0.j 0.+0.j 0.+0.j ... 0.+0.j 0.+0.j 0.+0.j]\n",
      "   ...\n",
      "   [0.+0.j 0.+0.j 0.+0.j ... 0.+0.j 0.+0.j 0.+0.j]\n",
      "   [0.+0.j 0.+0.j 0.+0.j ... 0.+0.j 0.+0.j 0.+0.j]\n",
      "   [0.+0.j 0.+0.j 0.+0.j ... 0.+0.j 0.+0.j 0.+0.j]]]]\n"
     ]
    }
   ],
   "source": [
    "print(dataset[0][0]['user']['channel'])"
   ]
  },
  {
   "cell_type": "code",
   "execution_count": 102,
   "id": "966444f2",
   "metadata": {},
   "outputs": [
    {
     "name": "stdout",
     "output_type": "stream",
     "text": [
      "----------------------------------------\n",
      "scene 개수 : 1\n",
      "scene 0  ▶  사용자 49214/69040 명 유효\n",
      "scene 1  ▶  사용자 49331/69040 명 유효\n",
      "scene 2  ▶  사용자 49409/69040 명 유효\n",
      "scene 3  ▶  사용자 49565/69040 명 유효\n",
      "scene 4  ▶  사용자 49999/69040 명 유효\n",
      "scene 5  ▶  사용자 50343/69040 명 유효\n",
      "scene 6  ▶  사용자 50717/69040 명 유효\n",
      "scene 7  ▶  사용자 51095/69040 명 유효\n",
      "scene 8  ▶  사용자 51472/69040 명 유효\n",
      "scene 9  ▶  사용자 52814/69040 명 유효\n",
      "총 유효 사용자(중복 포함): 503959\n",
      "----------------------------------------\n"
     ]
    }
   ],
   "source": [
    "print(\"-\" * 40)\n",
    "print(\"scene 개수 :\", len(dataset[0]))\n",
    "\n",
    "valid_users = 0\n",
    "for s_idx, scene in enumerate(dataset):\n",
    "    ch_all = scene[0]['user']['channel']\n",
    "    nonzero_mask = np.abs(ch_all).sum(axis=(1,2,3)) > 0   # (num_users,)\n",
    "    n_ok = nonzero_mask.sum()\n",
    "    print(f\"scene {s_idx}  ▶  사용자 {n_ok}/{len(ch_all)} 명 유효\")\n",
    "    valid_users += n_ok\n",
    "print(\"총 유효 사용자(중복 포함):\", valid_users)\n",
    "print(\"-\" * 40)\n"
   ]
  },
  {
   "cell_type": "code",
   "execution_count": 87,
   "id": "c5a6666e",
   "metadata": {},
   "outputs": [],
   "source": [
    "# seq_len = 5                       # 슬라이딩 윈도우 길이\n",
    "# user_sequences = {}               # {user_id: [H_concat_t0, …]}\n",
    "\n",
    "# # ── ①  BS #1 의 scene 0~N 순회 ───────────────────────────\n",
    "# for scene in dataset[0]:                              \n",
    "#     user_all = scene['user']['channel']               # (U, 1, 32, 64)\n",
    "#     num_users = user_all.shape[0]\n",
    "\n",
    "#     # ── ②  scene 안의 모든 user 순회 ────────────────────\n",
    "#     for u in range(num_users):\n",
    "#         H = user_all[u]                               # (1, 32, 64)\n",
    "#         if np.abs(H).sum() == 0:                      # 결측(전부 0) → skip\n",
    "#             continue\n",
    "\n",
    "#         H = H.squeeze(0)                              # (32, 64)\n",
    "#         H_concat = np.concatenate([H.real, H.imag],   # (64, 64)\n",
    "#                                    axis=0)\n",
    "\n",
    "#         user_sequences.setdefault(u, []).append(H_concat)\n",
    "\n",
    "# # ── ③  seq_len 이상 길이를 가진 user 로부터 (X, y) 생성 ──\n",
    "# X_list, y_list = [], []\n",
    "\n",
    "# for u, seq in user_sequences.items():                 # seq 길이 = T_u\n",
    "#     if len(seq) < seq_len:\n",
    "#         continue\n",
    "#     seq = np.stack(seq)                               # (T_u, 64, 64)\n",
    "\n",
    "#     for i in range(len(seq) - seq_len + 1):\n",
    "#         X_list.append(seq[i : i+seq_len-1])           # (seq_len-1,64,64)\n",
    "#         y_list.append(seq[i + seq_len-1])             # (64,64)\n",
    "\n",
    "# X = np.stack(X_list)                                  # (N, 4, 64, 64)\n",
    "# y = np.stack(y_list)                                  # (N, 64, 64)\n",
    "# print(\"총 유효 샘플:\", len(X))\n"
   ]
  },
  {
   "cell_type": "code",
   "execution_count": 103,
   "id": "8b04bbe0",
   "metadata": {},
   "outputs": [],
   "source": [
    "# 데이터 만들기\n",
    "# seq_len = 시퀀스를 잘라서 사용\n",
    "# [0,1,2,3,4], [1,2,3,4,5], [2,3,4,5]\n",
    "seq_len = 5\n",
    "X = []\n",
    "y = []\n",
    "\n",
    "for i in range(len(channel_sequence) - seq_len+1):\n",
    "    input_seq = channel_sequence[i:i+seq_len-1] # t=0~3\n",
    "    target = channel_sequence[i+seq_len-1] # t = 4\n",
    "    \n",
    "    X.append(input_seq)\n",
    "    y.append(target)\n",
    "\n",
    "# T = scene case\n",
    "# samples = T - seq_len + 1\n",
    "X = np.array(X) # shape: (samples, seq_len-1, 64, 64)\n",
    "y = np.array(y) # shape: (samples, 64, 64)\n"
   ]
  },
  {
   "cell_type": "code",
   "execution_count": 104,
   "id": "0357b60e",
   "metadata": {},
   "outputs": [],
   "source": [
    "# Flatten\n",
    "# 4096 = 64 * 64\n",
    "X_flat = X.reshape(X.shape[0], X.shape[1], -1) # (5,4,4096) = (샘플, 시퀀스 길이)\n",
    "y_flat = y.reshape(y.shape[0],-1) #(5,4096) # 샘플 대상 예측"
   ]
  },
  {
   "cell_type": "code",
   "execution_count": 105,
   "id": "2ba295df",
   "metadata": {},
   "outputs": [
    {
     "name": "stdout",
     "output_type": "stream",
     "text": [
      "(6, 4, 4096)\n",
      "(6, 4096)\n"
     ]
    }
   ],
   "source": [
    "print(X_flat.shape)\n",
    "print(y_flat.shape)"
   ]
  },
  {
   "cell_type": "code",
   "execution_count": 106,
   "id": "4d2c007c",
   "metadata": {},
   "outputs": [],
   "source": [
    "import torch\n",
    "from torch.utils.data import TensorDataset, DataLoader, random_split\n",
    "\n",
    "device = torch.device(\"cuda\" if torch.cuda.is_available() else \"cpu\")\n",
    "\n",
    "# 아래 텐서 cpu로\n",
    "X_t = torch.tensor(X_flat, dtype=torch.float32)        # (N, seq_len, element_length)\n",
    "y_t = torch.tensor(y_flat, dtype=torch.float32)        # (N,)\n",
    "masked_pos = torch.full((X_t.shape[0], 1),             # (N, 1)\n",
    "                        seq_len - 2,\n",
    "                        dtype=torch.long)\n",
    "\n",
    "#  Dataset 생성\n",
    "full_ds = TensorDataset(X_t, masked_pos, y_t)\n",
    "\n",
    "# train / val 8:2 분할\n",
    "train_size = int(len(full_ds) * 0.8)\n",
    "val_size   = len(full_ds) - train_size\n",
    "train_ds, val_ds = random_split(full_ds, [train_size, val_size])\n",
    "\n",
    "# DataLoader 정의\n",
    "batch_size = 32\n",
    "\n",
    "train_loader = DataLoader(\n",
    "    train_ds,\n",
    "    batch_size=batch_size,\n",
    "    shuffle=True,        # epoch마다 섞기\n",
    "    drop_last=False\n",
    ")\n",
    "\n",
    "val_loader = DataLoader(\n",
    "    val_ds,\n",
    "    batch_size=batch_size,\n",
    "    shuffle=False\n",
    ")\n"
   ]
  },
  {
   "cell_type": "code",
   "execution_count": 107,
   "id": "580386d8",
   "metadata": {
    "collapsed": true
   },
   "outputs": [
    {
     "name": "stdout",
     "output_type": "stream",
     "text": [
      "tensor([[[-4.9277e-06, -4.7682e-06, -4.4857e-06,  ..., -5.5699e-06,\n",
      "          -5.9204e-06, -6.1182e-06],\n",
      "         [ 0.0000e+00,  0.0000e+00,  0.0000e+00,  ...,  0.0000e+00,\n",
      "           0.0000e+00,  0.0000e+00],\n",
      "         [ 0.0000e+00,  0.0000e+00,  0.0000e+00,  ...,  0.0000e+00,\n",
      "           0.0000e+00,  0.0000e+00],\n",
      "         [ 0.0000e+00,  0.0000e+00,  0.0000e+00,  ...,  0.0000e+00,\n",
      "           0.0000e+00,  0.0000e+00]],\n",
      "\n",
      "        [[ 0.0000e+00,  0.0000e+00,  0.0000e+00,  ...,  0.0000e+00,\n",
      "           0.0000e+00,  0.0000e+00],\n",
      "         [ 0.0000e+00,  0.0000e+00,  0.0000e+00,  ...,  0.0000e+00,\n",
      "           0.0000e+00,  0.0000e+00],\n",
      "         [ 0.0000e+00,  0.0000e+00,  0.0000e+00,  ...,  0.0000e+00,\n",
      "           0.0000e+00,  0.0000e+00],\n",
      "         [ 0.0000e+00,  0.0000e+00,  0.0000e+00,  ...,  0.0000e+00,\n",
      "           0.0000e+00,  0.0000e+00]],\n",
      "\n",
      "        [[ 0.0000e+00,  0.0000e+00,  0.0000e+00,  ...,  0.0000e+00,\n",
      "           0.0000e+00,  0.0000e+00],\n",
      "         [ 0.0000e+00,  0.0000e+00,  0.0000e+00,  ...,  0.0000e+00,\n",
      "           0.0000e+00,  0.0000e+00],\n",
      "         [ 0.0000e+00,  0.0000e+00,  0.0000e+00,  ...,  0.0000e+00,\n",
      "           0.0000e+00,  0.0000e+00],\n",
      "         [ 0.0000e+00,  0.0000e+00,  0.0000e+00,  ...,  0.0000e+00,\n",
      "           0.0000e+00,  0.0000e+00]],\n",
      "\n",
      "        [[ 0.0000e+00,  0.0000e+00,  0.0000e+00,  ...,  0.0000e+00,\n",
      "           0.0000e+00,  0.0000e+00],\n",
      "         [ 0.0000e+00,  0.0000e+00,  0.0000e+00,  ...,  0.0000e+00,\n",
      "           0.0000e+00,  0.0000e+00],\n",
      "         [ 0.0000e+00,  0.0000e+00,  0.0000e+00,  ...,  0.0000e+00,\n",
      "           0.0000e+00,  0.0000e+00],\n",
      "         [ 0.0000e+00,  0.0000e+00,  0.0000e+00,  ...,  0.0000e+00,\n",
      "           0.0000e+00,  0.0000e+00]],\n",
      "\n",
      "        [[ 0.0000e+00,  0.0000e+00,  0.0000e+00,  ...,  0.0000e+00,\n",
      "           0.0000e+00,  0.0000e+00],\n",
      "         [ 0.0000e+00,  0.0000e+00,  0.0000e+00,  ...,  0.0000e+00,\n",
      "           0.0000e+00,  0.0000e+00],\n",
      "         [ 0.0000e+00,  0.0000e+00,  0.0000e+00,  ...,  0.0000e+00,\n",
      "           0.0000e+00,  0.0000e+00],\n",
      "         [ 0.0000e+00,  0.0000e+00,  0.0000e+00,  ...,  0.0000e+00,\n",
      "           0.0000e+00,  0.0000e+00]],\n",
      "\n",
      "        [[ 0.0000e+00,  0.0000e+00,  0.0000e+00,  ...,  0.0000e+00,\n",
      "           0.0000e+00,  0.0000e+00],\n",
      "         [ 0.0000e+00,  0.0000e+00,  0.0000e+00,  ...,  0.0000e+00,\n",
      "           0.0000e+00,  0.0000e+00],\n",
      "         [ 0.0000e+00,  0.0000e+00,  0.0000e+00,  ...,  0.0000e+00,\n",
      "           0.0000e+00,  0.0000e+00],\n",
      "         [ 0.0000e+00,  0.0000e+00,  0.0000e+00,  ...,  0.0000e+00,\n",
      "           0.0000e+00,  0.0000e+00]]])\n"
     ]
    }
   ],
   "source": [
    "print(X_t)"
   ]
  },
  {
   "cell_type": "code",
   "execution_count": 108,
   "id": "9f988d55",
   "metadata": {},
   "outputs": [
    {
     "name": "stdout",
     "output_type": "stream",
     "text": [
      "tensor(0.)\n"
     ]
    }
   ],
   "source": [
    "print(X_t[3][0][1])"
   ]
  },
  {
   "cell_type": "code",
   "execution_count": 109,
   "id": "00c61dec",
   "metadata": {},
   "outputs": [
    {
     "name": "stdout",
     "output_type": "stream",
     "text": [
      "torch.Size([6, 4, 4096])\n",
      "torch.Size([6, 4096])\n"
     ]
    }
   ],
   "source": [
    "print(X_t.shape)\n",
    "print(y_t.shape)\n",
    "# mini_batch, sequence_len, H_real+H_imag"
   ]
  },
  {
   "cell_type": "markdown",
   "id": "4cf6bac8",
   "metadata": {},
   "source": [
    "# 아래 코드 구조\n",
    "┌──────────────────────────────────────────────────────────────┐\n",
    "│ input_ids  (B, seq_len, element_length)  ─┐                 │\n",
    "│ masked_pos (B, num_mask)                  ├─>  LWM backbone │\n",
    "│                                           │    (12-층 트랜스포머)  \n",
    "└────────────────────────────────────────────┘         │\n",
    "            logits_lm  (B, num_mask, element_length)  │   enc_output (B, seq_len, d_model)\n",
    "                                                      ▼\n",
    "                        ┌─[풀링]───────────────┐      ←── feat (B, d_model)\n",
    "                        │ 첫 토큰(0번) 선택    │\n",
    "                        │   or 평균/최대 풀링 │\n",
    "                        └──────────────────────┘\n",
    "                                      ▼\n",
    "                       FC 헤드  (d_model → hidden_dim → out_dim)\n",
    "                                      ▼\n",
    "                                out (B, out_dim)\n",
    "\n",
    "# 시각적비유\n",
    "\n",
    "[패치 프로젝터]──▶[Transformer ×12]──▶[LayerNorm]──┐\n",
    "                                                  ├─▶ 64-차 벡터 (CLS 또는 풀링) ─▶ MLP ─▶ out                                                \n",
    "[Positional Embedding]─────────────────────────────┘\n"
   ]
  },
  {
   "cell_type": "code",
   "execution_count": 110,
   "id": "7d882a4d",
   "metadata": {},
   "outputs": [],
   "source": [
    "\"\"\"\n",
    "LWMWithHead: 사전학습된 LWM(Transformer encoder)을 ‘백본(backbone)’으로 사용하고,\n",
    "그 뒤에 새로운 완전연결(FC) 헤드(head)를 붙여 다운스트림 작업(회귀·분류 등)에\n",
    "사용할 수 있도록 만든 래퍼(wrapper) 클래스입니다.\n",
    "\"\"\"\n",
    "\n",
    "import torch\n",
    "import torch.nn as nn\n",
    "from lwm_model import lwm   # 기존 LWM 모델 클래스 (import 경로는 프로젝트 구조에 맞게 조정)\n",
    "\n",
    "class LWMWithHead(nn.Module):\n",
    "    \"\"\"\n",
    "    Args\n",
    "    ----\n",
    "    element_length : int\n",
    "        LWM 입력 패치의 길이. 예) 64*64 = 4096 (H_real + H_imag)\n",
    "    d_model        : int\n",
    "        Transformer 모델 차원(=LWM hidden size).\n",
    "    max_len        : int\n",
    "        포지셔널 임베딩 최대 길이(시퀀스 길이).\n",
    "    n_layers       : int\n",
    "        Transformer 인코더 층 수.\n",
    "    hidden_dim     : int\n",
    "        새 FC 헤드의 중간 차원.\n",
    "    out_dim        : int\n",
    "        최종 출력 차원. 1 → 회귀/이진분류, k → k-클래스 분류.\n",
    "    freeze_backbone: bool\n",
    "        True면 백본을 동결(freeze)하여 헤드만 학습.\n",
    "    ckpt_path      : str | None\n",
    "        사전학습 가중치(.pth) 경로. None이면 랜덤 초기화.\n",
    "    device         : str\n",
    "        'cuda' / 'cpu' 등 모델을 올릴 장치.\n",
    "    \"\"\"\n",
    "\n",
    "    def __init__(\n",
    "        self,\n",
    "        element_length: int = 4096,\n",
    "        d_model: int = 64,\n",
    "        max_len: int = 129,\n",
    "        n_layers: int = 12,\n",
    "        hidden_dim: int = 256,\n",
    "        out_dim: int = 1,\n",
    "        freeze_backbone: bool = False,\n",
    "        ckpt_path: str | None = None,\n",
    "        device: str = \"cuda\",\n",
    "    ):\n",
    "        super().__init__()\n",
    "\n",
    "        # ────────────────────────────\n",
    "        # 1) 백본(backbone) 초기화\n",
    "        # ────────────────────────────\n",
    "        if ckpt_path is None:\n",
    "            # 가중치 없이 새로 생성\n",
    "            self.backbone = lwm(\n",
    "                element_length=element_length,\n",
    "                d_model=d_model,\n",
    "                max_len=max_len,\n",
    "                n_layers=n_layers\n",
    "            ).to(device)\n",
    "        else:\n",
    "            # 사전학습 가중치 로드\n",
    "            self.backbone = lwm.from_pretrained(\n",
    "                ckpt_name=ckpt_path,\n",
    "                device=device\n",
    "            )\n",
    "\n",
    "        # 백본 동결(선택)\n",
    "        if freeze_backbone:\n",
    "            for p in self.backbone.parameters():\n",
    "                p.requires_grad = False\n",
    "\n",
    "        # ────────────────────────────\n",
    "        # 2) 헤드(head) 정의\n",
    "        # ────────────────────────────\n",
    "        self.head = nn.Sequential(\n",
    "            nn.Linear(d_model, hidden_dim),  # 첫 FC\n",
    "            nn.ReLU(),                       # 활성화\n",
    "            nn.Dropout(0.3),                 # 드롭아웃\n",
    "            nn.Linear(hidden_dim, out_dim)   # 최종 FC\n",
    "        )\n",
    "\n",
    "    # ────────────────────────────\n",
    "    # forward\n",
    "    # ────────────────────────────\n",
    "    def forward(self, input_ids, masked_pos):\n",
    "        \"\"\"\n",
    "        Parameters\n",
    "        ----------\n",
    "        input_ids : Tensor  (B, seq_len, element_length)\n",
    "            LWM 입력 시퀀스 (패치/토큰 단위 실수·복소수 채널값 등).\n",
    "        masked_pos : Tensor  (B, num_mask)\n",
    "            LWM의 마스크드 채널 모델링용 인덱스 (백본 규격 유지용).\n",
    "\n",
    "        Returns\n",
    "        -------\n",
    "        out : Tensor  (B, out_dim)\n",
    "            헤드에서 계산된 다운스트림 작업용 로짓/예측값.\n",
    "        \"\"\"\n",
    "\n",
    "        # 기존 LWM forward:\n",
    "        #   logits_lm : (B, num_mask, element_length)  ← 사용 안 함\n",
    "        #   enc_output: (B, seq_len, d_model)\n",
    "        _, enc_output = self.backbone(input_ids, masked_pos)\n",
    "\n",
    "        # 특징 추출(feat)\n",
    "        # ① 첫 토큰 벡터 사용 (CLS 개념) ─────────────\n",
    "        feat = enc_output[:, 0, :]           # (B, d_model)\n",
    "\n",
    "        # ② 평균 풀링 예시 (필요 시 주석 해제) ─────\n",
    "        # feat = enc_output.mean(dim=1)       # (B, d_model)\n",
    "\n",
    "        # ③ Max 풀링 예시 (필요 시 주석 해제) ─────\n",
    "        # feat, _ = enc_output.max(dim=1)     # (B, d_model)\n",
    "\n",
    "        # 헤드 통과 → 최종 출력\n",
    "        out = self.head(feat)                # (B, out_dim)\n",
    "        return out\n"
   ]
  },
  {
   "cell_type": "code",
   "execution_count": 111,
   "id": "b37383cc",
   "metadata": {},
   "outputs": [
    {
     "name": "stdout",
     "output_type": "stream",
     "text": [
      "Using device: cuda\n"
     ]
    }
   ],
   "source": [
    "import torch\n",
    "import torch.nn as nn\n",
    "from torch.optim import Adam\n",
    "\n",
    "# 디바이스 설정(GPU/CPU)\n",
    "device = torch.device(\"cuda\" if torch.cuda.is_available() else \"cpu\")\n",
    "print(f\"Using device: {device}\")\n",
    "\n",
    "# 모델 초기화\n",
    "element_length = 64 * 64\n",
    "model = LWMWithHead(\n",
    "    element_length=element_length,\n",
    "    out_dim=element_length, # 회귀(스칼라 예측) = out_dim을 4096으로해야 진행됨\n",
    "    freeze_backbone=False,  # backbone과 같이 학습\n",
    "    ckpt_path = None, # 사전학습 weight 없으며 None\n",
    "    device = device\n",
    ").to(device)\n",
    "\n",
    "# 손실함수\n",
    "criterion = nn.MSELoss()\n",
    "\n",
    "# 옵티마이저 설정\n",
    "optimizer = Adam(model.parameters(), lr=1e-4)"
   ]
  },
  {
   "cell_type": "code",
   "execution_count": 112,
   "id": "625b128d",
   "metadata": {},
   "outputs": [
    {
     "name": "stdout",
     "output_type": "stream",
     "text": [
      "Epoch 1/10, Loss: 0.099700\n",
      "Epoch 2/10, Loss: 0.078491\n",
      "Epoch 3/10, Loss: 0.066191\n",
      "Epoch 4/10, Loss: 0.057754\n",
      "Epoch 5/10, Loss: 0.053000\n",
      "Epoch 6/10, Loss: 0.045534\n",
      "Epoch 7/10, Loss: 0.043229\n",
      "Epoch 8/10, Loss: 0.041565\n",
      "Epoch 9/10, Loss: 0.033496\n",
      "Epoch 10/10, Loss: 0.034902\n",
      "걸린시간: 0.66\n"
     ]
    }
   ],
   "source": [
    "# 모델 학습\n",
    "import time\n",
    "start = time.time()\n",
    "\n",
    "num_epochs = 10\n",
    "for epoch in range(num_epochs):\n",
    "    model.train()\n",
    "    for input_ids, masked_pos, target in train_loader:\n",
    "        input_ids, masked_pos, target = [x.to(device) for x in (input_ids, masked_pos, target)]\n",
    "        \n",
    "        pred = model(input_ids, masked_pos).squeeze(-1)  # (B,)로 맞춤\n",
    "        loss = criterion(pred, target)\n",
    "\n",
    "        optimizer.zero_grad()\n",
    "        loss.backward()\n",
    "        optimizer.step()\n",
    "    \n",
    "    print(f\"Epoch {epoch+1}/{num_epochs}, Loss: {loss.item():.6f}\")\n",
    "end = time.time()\n",
    "\n",
    "print(f\"걸린시간: {round(end-start,2)}\")"
   ]
  },
  {
   "cell_type": "code",
   "execution_count": 113,
   "id": "3598cd58",
   "metadata": {},
   "outputs": [],
   "source": [
    "# 모델 평가 방법\n",
    "import torch.nn.functional as F\n",
    "\n",
    "def rmse(pred: torch.Tensor, target: torch.Tensor) -> torch.Tensor:\n",
    "    \"\"\"\n",
    "    RMSE = Root MSE\n",
    "    RMSE = {1/n*sum((y^-y)**2)}**1/2\n",
    "    \"\"\"\n",
    "    return torch.sqrt(F.mse_loss(pred, target, reduction=\"mean\"))   # √MSE\n",
    "\n",
    "def nmse(pred: torch.Tensor, target: torch.Tensor) -> torch.Tensor:\n",
    "    \"\"\"\n",
    "    Normalized MSE  =  E[‖ŷ − y‖²] / E[‖y‖²]\n",
    "    returns: 스칼라 (배치 평균)\n",
    "    \"\"\"\n",
    "    # (B, …) → (B,)  : 각 샘플별 제곱합\n",
    "    mse_per_sample   = ((pred - target)**2).view(pred.size(0), -1).sum(dim=1)\n",
    "    power_per_sample = (target**2).view(target.size(0), -1).sum(dim=1)\n",
    "    return (mse_per_sample / power_per_sample).mean()\n"
   ]
  },
  {
   "cell_type": "code",
   "execution_count": 114,
   "id": "97deedce",
   "metadata": {},
   "outputs": [],
   "source": [
    "# 모델 평가 함수\n",
    "import torch\n",
    "import torch.nn.functional as F\n",
    "\n",
    "# ─────────────────────────────────────────\n",
    "# 1. 배치 단위 RMSE, NMSE 함수\n",
    "# ─────────────────────────────────────────\n",
    "def rmse(pred: torch.Tensor, target: torch.Tensor) -> torch.Tensor:\n",
    "    \"\"\"\n",
    "    Root-Mean-Squared Error\n",
    "    returns: 스칼라 (배치 평균)\n",
    "    \"\"\"\n",
    "    return torch.sqrt(F.mse_loss(pred, target, reduction=\"mean\"))   # √MSE\n",
    "\n",
    "def nmse(pred: torch.Tensor, target: torch.Tensor) -> torch.Tensor:\n",
    "    \"\"\"\n",
    "    Normalized MSE  =  E[‖ŷ − y‖²] / E[‖y‖²]\n",
    "      · 채널 예측 분야에서 흔히 쓰는 지표\n",
    "    returns: 스칼라 (배치 평균)\n",
    "    \"\"\"\n",
    "    # (B, …) → (B,)  : 각 샘플별 제곱합\n",
    "    mse_per_sample   = ((pred - target)**2).view(pred.size(0), -1).sum(dim=1)\n",
    "    power_per_sample = (target**2).view(target.size(0), -1).sum(dim=1)\n",
    "    return (mse_per_sample / power_per_sample).mean()\n",
    "\n",
    "\n",
    "# ─────────────────────────────────────────\n",
    "# 2. 검증 루프 예시\n",
    "# ─────────────────────────────────────────\n",
    "def evaluate(model, loader, device=\"cuda\"):\n",
    "    model.eval()\n",
    "    total_rmse, total_nmse = 0.0, 0.0\n",
    "\n",
    "    with torch.no_grad():\n",
    "        for input_ids, masked_pos, target in loader:\n",
    "            input_ids  = input_ids.to(device)\n",
    "            masked_pos = masked_pos.to(device)\n",
    "            target     = target.to(device)\n",
    "\n",
    "            pred = model(input_ids, masked_pos)\n",
    "\n",
    "            total_rmse += rmse(pred, target).item() * input_ids.size(0)\n",
    "            total_nmse += nmse(pred, target).item() * input_ids.size(0)\n",
    "\n",
    "    N = len(loader.dataset)\n",
    "    return {\n",
    "        \"RMSE\": total_rmse / N,\n",
    "        \"NMSE\": total_nmse / N\n",
    "    }\n"
   ]
  },
  {
   "cell_type": "code",
   "execution_count": 115,
   "id": "1670cdec",
   "metadata": {},
   "outputs": [
    {
     "name": "stdout",
     "output_type": "stream",
     "text": [
      "[Epoch 01]  val_RMSE = 0.1212   val_NMSE = inf   val_NMSE(dB) = inf dB\n",
      "[Epoch 02]  val_RMSE = 0.1178   val_NMSE = inf   val_NMSE(dB) = inf dB\n",
      "[Epoch 03]  val_RMSE = 0.1149   val_NMSE = inf   val_NMSE(dB) = inf dB\n",
      "[Epoch 04]  val_RMSE = 0.1121   val_NMSE = inf   val_NMSE(dB) = inf dB\n",
      "[Epoch 05]  val_RMSE = 0.1095   val_NMSE = inf   val_NMSE(dB) = inf dB\n",
      "[Epoch 06]  val_RMSE = 0.1065   val_NMSE = inf   val_NMSE(dB) = inf dB\n",
      "[Epoch 07]  val_RMSE = 0.1030   val_NMSE = inf   val_NMSE(dB) = inf dB\n",
      "[Epoch 08]  val_RMSE = 0.0997   val_NMSE = inf   val_NMSE(dB) = inf dB\n",
      "[Epoch 09]  val_RMSE = 0.0964   val_NMSE = inf   val_NMSE(dB) = inf dB\n",
      "[Epoch 10]  val_RMSE = 0.0933   val_NMSE = inf   val_NMSE(dB) = inf dB\n",
      "[Epoch 11]  val_RMSE = 0.0901   val_NMSE = inf   val_NMSE(dB) = inf dB\n",
      "[Epoch 12]  val_RMSE = 0.0873   val_NMSE = inf   val_NMSE(dB) = inf dB\n",
      "[Epoch 13]  val_RMSE = 0.0844   val_NMSE = inf   val_NMSE(dB) = inf dB\n",
      "[Epoch 14]  val_RMSE = 0.0815   val_NMSE = inf   val_NMSE(dB) = inf dB\n",
      "[Epoch 15]  val_RMSE = 0.0790   val_NMSE = inf   val_NMSE(dB) = inf dB\n",
      "[Epoch 16]  val_RMSE = 0.0768   val_NMSE = inf   val_NMSE(dB) = inf dB\n",
      "[Epoch 17]  val_RMSE = 0.0750   val_NMSE = inf   val_NMSE(dB) = inf dB\n",
      "[Epoch 18]  val_RMSE = 0.0734   val_NMSE = inf   val_NMSE(dB) = inf dB\n",
      "[Epoch 19]  val_RMSE = 0.0717   val_NMSE = inf   val_NMSE(dB) = inf dB\n",
      "[Epoch 20]  val_RMSE = 0.0700   val_NMSE = inf   val_NMSE(dB) = inf dB\n",
      "[Epoch 21]  val_RMSE = 0.0683   val_NMSE = inf   val_NMSE(dB) = inf dB\n",
      "[Epoch 22]  val_RMSE = 0.0666   val_NMSE = inf   val_NMSE(dB) = inf dB\n",
      "[Epoch 23]  val_RMSE = 0.0650   val_NMSE = inf   val_NMSE(dB) = inf dB\n",
      "[Epoch 24]  val_RMSE = 0.0636   val_NMSE = inf   val_NMSE(dB) = inf dB\n",
      "[Epoch 25]  val_RMSE = 0.0622   val_NMSE = inf   val_NMSE(dB) = inf dB\n",
      "[Epoch 26]  val_RMSE = 0.0607   val_NMSE = inf   val_NMSE(dB) = inf dB\n",
      "[Epoch 27]  val_RMSE = 0.0594   val_NMSE = inf   val_NMSE(dB) = inf dB\n",
      "[Epoch 28]  val_RMSE = 0.0581   val_NMSE = inf   val_NMSE(dB) = inf dB\n",
      "[Epoch 29]  val_RMSE = 0.0568   val_NMSE = inf   val_NMSE(dB) = inf dB\n",
      "[Epoch 30]  val_RMSE = 0.0555   val_NMSE = inf   val_NMSE(dB) = inf dB\n"
     ]
    }
   ],
   "source": [
    "num_epochs = 30\n",
    "patience_counter = 0\n",
    "\n",
    "for epoch in range(1, num_epochs + 1):\n",
    "    # ──────────── ① 학습 ────────────\n",
    "    model.train()\n",
    "    for input_ids, masked_pos, target in train_loader:\n",
    "        input_ids  = input_ids.to(device)\n",
    "        masked_pos = masked_pos.to(device)\n",
    "        target     = target.to(device)\n",
    "\n",
    "        pred = model(input_ids, masked_pos)\n",
    "        loss = criterion(pred, target)\n",
    "\n",
    "        optimizer.zero_grad()\n",
    "        loss.backward()\n",
    "        optimizer.step()\n",
    "\n",
    "    # ──────────── ② 검증 ────────────\n",
    "    metrics = evaluate(model, val_loader, device)\n",
    "    rmse_val, nmse_val = metrics[\"RMSE\"], metrics[\"NMSE\"]\n",
    "\n",
    "    # ──────────── ③ 로그 출력 ────────────\n",
    "    print(f\"[Epoch {epoch:02d}]  \"\n",
    "          f\"val_RMSE = {rmse_val:.4f}   \"\n",
    "          f\"val_NMSE = {nmse_val:.4e}   \"\n",
    "          f\"val_NMSE(dB) = {10*torch.log10(torch.tensor(nmse_val)):.2f} dB\")\n"
   ]
  },
  {
   "cell_type": "code",
   "execution_count": null,
   "id": "5e7b169d",
   "metadata": {},
   "outputs": [],
   "source": []
  }
 ],
 "metadata": {
  "kernelspec": {
   "display_name": "Python 3 (ipykernel)",
   "language": "python",
   "name": "python3"
  },
  "language_info": {
   "codemirror_mode": {
    "name": "ipython",
    "version": 3
   },
   "file_extension": ".py",
   "mimetype": "text/x-python",
   "name": "python",
   "nbconvert_exporter": "python",
   "pygments_lexer": "ipython3",
   "version": "3.11.3"
  }
 },
 "nbformat": 4,
 "nbformat_minor": 5
}
