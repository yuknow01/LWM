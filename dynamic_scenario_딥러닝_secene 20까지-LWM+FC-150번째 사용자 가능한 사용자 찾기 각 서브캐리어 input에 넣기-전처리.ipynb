{
 "cells": [
  {
   "cell_type": "markdown",
   "id": "eeacb7fd",
   "metadata": {},
   "source": [
    "## import"
   ]
  },
  {
   "cell_type": "code",
   "execution_count": 1,
   "id": "0ec90d17",
   "metadata": {},
   "outputs": [],
   "source": [
    "import torch\n",
    "import torch.nn as nn\n",
    "import torch.optim as optim\n",
    "import torchvision\n",
    "import torchvision.transforms as transforms\n",
    "from torch.utils.data import TensorDataset, DataLoader, random_split\n",
    "#LWM을 하기위한 라이브러리 가져오기\n",
    "import DeepMIMOv3\n",
    "import numpy as np\n",
    "from pprint import pprint\n",
    "import matplotlib.pyplot as plt\n",
    "import time\n",
    "\n",
    "\n",
    "plt . rcParams [ 'figure.figsize' ]  =  [ 12 ,  8 ]  # 기본 플롯 크기 설정"
   ]
  },
  {
   "cell_type": "markdown",
   "id": "38e17e0b",
   "metadata": {},
   "source": [
    "## GPU설정"
   ]
  },
  {
   "cell_type": "code",
   "execution_count": 2,
   "id": "47baa533",
   "metadata": {},
   "outputs": [
    {
     "name": "stdout",
     "output_type": "stream",
     "text": [
      "cuda\n"
     ]
    }
   ],
   "source": [
    "# GPU 설정\n",
    "device = torch.device(\"cuda\" if torch.cuda.is_available() else \"cpu\")\n",
    "print(device)"
   ]
  },
  {
   "cell_type": "markdown",
   "id": "5c9e064d",
   "metadata": {},
   "source": [
    "# DeepMIMOv3 다운"
   ]
  },
  {
   "cell_type": "code",
   "execution_count": 3,
   "id": "23623e8a",
   "metadata": {},
   "outputs": [
    {
     "name": "stdout",
     "output_type": "stream",
     "text": [
      "Requirement already satisfied: DeepMIMOv3 in c:\\users\\dlghd\\anaconda3\\lib\\site-packages (0.2.8)\n",
      "Requirement already satisfied: umap-learn in c:\\users\\dlghd\\anaconda3\\lib\\site-packages (0.5.7)\n",
      "Requirement already satisfied: numpy in c:\\users\\dlghd\\anaconda3\\lib\\site-packages (from DeepMIMOv3) (1.24.3)\n",
      "Requirement already satisfied: scipy in c:\\users\\dlghd\\anaconda3\\lib\\site-packages (from DeepMIMOv3) (1.10.1)\n",
      "Requirement already satisfied: tqdm in c:\\users\\dlghd\\anaconda3\\lib\\site-packages (from DeepMIMOv3) (4.65.0)\n",
      "Requirement already satisfied: matplotlib in c:\\users\\dlghd\\anaconda3\\lib\\site-packages (from DeepMIMOv3) (3.7.1)\n",
      "Requirement already satisfied: scikit-learn>=0.22 in c:\\users\\dlghd\\anaconda3\\lib\\site-packages (from umap-learn) (1.2.2)\n",
      "Requirement already satisfied: numba>=0.51.2 in c:\\users\\dlghd\\anaconda3\\lib\\site-packages (from umap-learn) (0.57.0)\n",
      "Requirement already satisfied: pynndescent>=0.5 in c:\\users\\dlghd\\anaconda3\\lib\\site-packages (from umap-learn) (0.5.13)\n",
      "Requirement already satisfied: llvmlite<0.41,>=0.40.0dev0 in c:\\users\\dlghd\\anaconda3\\lib\\site-packages (from numba>=0.51.2->umap-learn) (0.40.0)\n",
      "Requirement already satisfied: joblib>=0.11 in c:\\users\\dlghd\\anaconda3\\lib\\site-packages (from pynndescent>=0.5->umap-learn) (1.2.0)\n",
      "Requirement already satisfied: threadpoolctl>=2.0.0 in c:\\users\\dlghd\\anaconda3\\lib\\site-packages (from scikit-learn>=0.22->umap-learn) (2.2.0)\n",
      "Requirement already satisfied: contourpy>=1.0.1 in c:\\users\\dlghd\\anaconda3\\lib\\site-packages (from matplotlib->DeepMIMOv3) (1.0.5)\n",
      "Requirement already satisfied: cycler>=0.10 in c:\\users\\dlghd\\anaconda3\\lib\\site-packages (from matplotlib->DeepMIMOv3) (0.11.0)\n",
      "Requirement already satisfied: fonttools>=4.22.0 in c:\\users\\dlghd\\anaconda3\\lib\\site-packages (from matplotlib->DeepMIMOv3) (4.25.0)\n",
      "Requirement already satisfied: kiwisolver>=1.0.1 in c:\\users\\dlghd\\anaconda3\\lib\\site-packages (from matplotlib->DeepMIMOv3) (1.4.4)\n",
      "Requirement already satisfied: packaging>=20.0 in c:\\users\\dlghd\\anaconda3\\lib\\site-packages (from matplotlib->DeepMIMOv3) (23.0)\n",
      "Requirement already satisfied: pillow>=6.2.0 in c:\\users\\dlghd\\anaconda3\\lib\\site-packages (from matplotlib->DeepMIMOv3) (9.4.0)\n",
      "Requirement already satisfied: pyparsing>=2.3.1 in c:\\users\\dlghd\\anaconda3\\lib\\site-packages (from matplotlib->DeepMIMOv3) (3.0.9)\n",
      "Requirement already satisfied: python-dateutil>=2.7 in c:\\users\\dlghd\\anaconda3\\lib\\site-packages (from matplotlib->DeepMIMOv3) (2.8.2)\n",
      "Requirement already satisfied: colorama in c:\\users\\dlghd\\anaconda3\\lib\\site-packages (from tqdm->DeepMIMOv3) (0.4.6)\n",
      "Requirement already satisfied: six>=1.5 in c:\\users\\dlghd\\anaconda3\\lib\\site-packages (from python-dateutil>=2.7->matplotlib->DeepMIMOv3) (1.16.0)\n",
      "Note: you may need to restart the kernel to use updated packages.\n"
     ]
    }
   ],
   "source": [
    "pip install DeepMIMOv3 umap-learn"
   ]
  },
  {
   "cell_type": "markdown",
   "id": "19540670",
   "metadata": {},
   "source": [
    "## 파라미터 수정"
   ]
  },
  {
   "cell_type": "code",
   "execution_count": 4,
   "id": "ce5ac681",
   "metadata": {},
   "outputs": [
    {
     "name": "stdout",
     "output_type": "stream",
     "text": [
      "{'OFDM': {'RX_filter': 0,\n",
      "          'bandwidth': 0.05,\n",
      "          'selected_subcarriers': array([0]),\n",
      "          'subcarriers': 512},\n",
      " 'OFDM_channels': 1,\n",
      " 'active_BS': array([1]),\n",
      " 'bs_antenna': {'FoV': array([360, 180]),\n",
      "                'radiation_pattern': 'isotropic',\n",
      "                'rotation': array([0, 0, 0]),\n",
      "                'shape': array([8, 4]),\n",
      "                'spacing': 0.5},\n",
      " 'dataset_folder': './Raytracing_scenarios',\n",
      " 'dynamic_scenario_scenes': array([1]),\n",
      " 'enable_BS2BS': 1,\n",
      " 'enable_doppler': 0,\n",
      " 'enable_dual_polar': 0,\n",
      " 'num_paths': 5,\n",
      " 'scenario': 'O1_60',\n",
      " 'ue_antenna': {'FoV': array([360, 180]),\n",
      "                'radiation_pattern': 'isotropic',\n",
      "                'rotation': array([0, 0, 0]),\n",
      "                'shape': array([4, 2]),\n",
      "                'spacing': 0.5},\n",
      " 'user_rows': array([1]),\n",
      " 'user_subsampling': 1}\n"
     ]
    }
   ],
   "source": [
    "## Load and print the default parameters\n",
    "# bandwith: 0.05GHz(50MHz 대역폭 사용)\n",
    "parameters = DeepMIMOv3.default_params()\n",
    "pprint(parameters)"
   ]
  },
  {
   "cell_type": "code",
   "execution_count": 5,
   "id": "1f0642c1",
   "metadata": {},
   "outputs": [],
   "source": [
    "## Change parameters for the setup\n",
    "# Scenario O1_60 extracted at the dataset_folder\n",
    "#LWM 동적 시나리오 불러오기\n",
    "#자신의 LWM 파일 위치 경로 작성\n",
    "# parameters['dataset_folder'] = r'/content/drive/MyDrive/Colab Notebooks/LWM'\n",
    "parameters['dataset_folder'] = r'C:\\Users\\dlghd\\졸업프로젝트\\LWM'\n",
    "\n",
    "# scnario = 02_dyn_3p5 <- 다운받은 파일(동적시나리오)\n",
    "parameters['scenario'] = 'O2_dyn_3p5'\n",
    "parameters['dynamic_scenario_scenes'] = np.arange(10) #scene 0~9\n",
    "\n",
    "# 각 사용자-기지국 채널에 대해 최대 10개 멀티패스 경로 사용\n",
    "parameters['num_paths'] = 10\n",
    "\n",
    "# User rows 1-100\n",
    "parameters['user_rows'] = np.arange(100)\n",
    "\n",
    "# Activate only the first basestation\n",
    "parameters['active_BS'] = np.array([1])\n",
    "\n",
    "parameters['activate_OFDM'] = 1\n",
    "\n",
    "parameters['OFDM']['bandwidth'] = 0.05 # 50 MHz\n",
    "parameters['OFDM']['subcarriers'] = 512 # OFDM with 512 subcarriers\n",
    "parameters['OFDM']['selected_subcarriers'] = np.arange(0, 64, 1)\n",
    "#parameters['OFDM']['subcarriers_limit'] = 64 # Keep only first 64 subcarriers\n",
    "\n",
    "parameters['ue_antenna']['shape'] = np.array([1, 1]) # Single antenna\n",
    "parameters['bs_antenna']['shape'] = np.array([1, 32]) # ULA of 32 elements\n",
    "#parameters['bs_antenna']['rotation'] = np.array([0, 30, 90]) # ULA of 32 elements\n",
    "#parameters['ue_antenna']['rotation'] = np.array([[0, 30], [30, 60], [60, 90]]) # ULA of 32 elements\n",
    "#parameters['ue_antenna']['radiation_pattern'] = 'isotropic'\n",
    "#parameters['bs_antenna']['radiation_pattern'] = 'halfwave-dipole'"
   ]
  },
  {
   "cell_type": "code",
   "execution_count": 6,
   "id": "30aa4ae2",
   "metadata": {},
   "outputs": [
    {
     "name": "stdout",
     "output_type": "stream",
     "text": [
      "{'dataset_folder': 'C:\\\\Users\\\\dlghd\\\\졸업프로젝트\\\\LWM', 'scenario': 'O2_dyn_3p5', 'dynamic_scenario_scenes': array([0, 1, 2, 3, 4, 5, 6, 7, 8, 9]), 'num_paths': 10, 'active_BS': array([1]), 'user_rows': array([ 0,  1,  2,  3,  4,  5,  6,  7,  8,  9, 10, 11, 12, 13, 14, 15, 16,\n",
      "       17, 18, 19, 20, 21, 22, 23, 24, 25, 26, 27, 28, 29, 30, 31, 32, 33,\n",
      "       34, 35, 36, 37, 38, 39, 40, 41, 42, 43, 44, 45, 46, 47, 48, 49, 50,\n",
      "       51, 52, 53, 54, 55, 56, 57, 58, 59, 60, 61, 62, 63, 64, 65, 66, 67,\n",
      "       68, 69, 70, 71, 72, 73, 74, 75, 76, 77, 78, 79, 80, 81, 82, 83, 84,\n",
      "       85, 86, 87, 88, 89, 90, 91, 92, 93, 94, 95, 96, 97, 98, 99]), 'user_subsampling': 1, 'bs_antenna': {'shape': array([ 1, 32]), 'spacing': 0.5, 'rotation': array([0, 0, 0]), 'FoV': array([360, 180]), 'radiation_pattern': 'isotropic'}, 'ue_antenna': {'shape': array([1, 1]), 'spacing': 0.5, 'rotation': array([0, 0, 0]), 'FoV': array([360, 180]), 'radiation_pattern': 'isotropic'}, 'enable_doppler': 0, 'enable_dual_polar': 0, 'enable_BS2BS': 1, 'OFDM_channels': 1, 'OFDM': {'subcarriers': 512, 'selected_subcarriers': array([ 0,  1,  2,  3,  4,  5,  6,  7,  8,  9, 10, 11, 12, 13, 14, 15, 16,\n",
      "       17, 18, 19, 20, 21, 22, 23, 24, 25, 26, 27, 28, 29, 30, 31, 32, 33,\n",
      "       34, 35, 36, 37, 38, 39, 40, 41, 42, 43, 44, 45, 46, 47, 48, 49, 50,\n",
      "       51, 52, 53, 54, 55, 56, 57, 58, 59, 60, 61, 62, 63]), 'bandwidth': 0.05, 'RX_filter': 0}, 'activate_OFDM': 1}\n"
     ]
    }
   ],
   "source": [
    "print(parameters)"
   ]
  },
  {
   "cell_type": "markdown",
   "id": "3326b22d",
   "metadata": {},
   "source": [
    "## dataset 구축"
   ]
  },
  {
   "cell_type": "code",
   "execution_count": 7,
   "id": "b87a86e5",
   "metadata": {},
   "outputs": [
    {
     "name": "stdout",
     "output_type": "stream",
     "text": [
      "The following parameters seem unnecessary:\n",
      "{'activate_OFDM'}\n",
      "\n",
      "Scene 1/10\n",
      "\n",
      "Basestation 1\n",
      "\n",
      "UE-BS Channels\n"
     ]
    },
    {
     "name": "stderr",
     "output_type": "stream",
     "text": [
      "Reading ray-tracing: 100%|████████████████████████████████████████████████████| 69040/69040 [00:02<00:00, 34419.16it/s]\n",
      "Generating channels: 100%|█████████████████████████████████████████████████████| 69040/69040 [00:11<00:00, 5802.98it/s]\n"
     ]
    },
    {
     "name": "stdout",
     "output_type": "stream",
     "text": [
      "\n",
      "BS-BS Channels\n"
     ]
    },
    {
     "name": "stderr",
     "output_type": "stream",
     "text": [
      "Reading ray-tracing: 100%|███████████████████████████████████████████████████████████████████████| 1/1 [00:00<?, ?it/s]\n",
      "Generating channels: 100%|███████████████████████████████████████████████████████████████████████| 1/1 [00:00<?, ?it/s]\n"
     ]
    },
    {
     "name": "stdout",
     "output_type": "stream",
     "text": [
      "\n",
      "Scene 2/10\n",
      "\n",
      "Basestation 1\n",
      "\n",
      "UE-BS Channels\n"
     ]
    },
    {
     "name": "stderr",
     "output_type": "stream",
     "text": [
      "Reading ray-tracing: 100%|████████████████████████████████████████████████████| 69040/69040 [00:01<00:00, 36272.31it/s]\n",
      "Generating channels: 100%|█████████████████████████████████████████████████████| 69040/69040 [00:11<00:00, 5950.23it/s]\n"
     ]
    },
    {
     "name": "stdout",
     "output_type": "stream",
     "text": [
      "\n",
      "BS-BS Channels\n"
     ]
    },
    {
     "name": "stderr",
     "output_type": "stream",
     "text": [
      "Reading ray-tracing: 100%|███████████████████████████████████████████████████████████████████████| 1/1 [00:00<?, ?it/s]\n",
      "Generating channels: 100%|██████████████████████████████████████████████████████████████| 1/1 [00:00<00:00, 664.50it/s]\n"
     ]
    },
    {
     "name": "stdout",
     "output_type": "stream",
     "text": [
      "\n",
      "Scene 3/10\n",
      "\n",
      "Basestation 1\n",
      "\n",
      "UE-BS Channels\n"
     ]
    },
    {
     "name": "stderr",
     "output_type": "stream",
     "text": [
      "Reading ray-tracing: 100%|████████████████████████████████████████████████████| 69040/69040 [00:01<00:00, 35027.81it/s]\n",
      "Generating channels: 100%|█████████████████████████████████████████████████████| 69040/69040 [00:12<00:00, 5635.85it/s]\n"
     ]
    },
    {
     "name": "stdout",
     "output_type": "stream",
     "text": [
      "\n",
      "BS-BS Channels\n"
     ]
    },
    {
     "name": "stderr",
     "output_type": "stream",
     "text": [
      "Reading ray-tracing: 100%|███████████████████████████████████████████████████████████████████████| 1/1 [00:00<?, ?it/s]\n",
      "Generating channels: 100%|███████████████████████████████████████████████████████████████████████| 1/1 [00:00<?, ?it/s]\n"
     ]
    },
    {
     "name": "stdout",
     "output_type": "stream",
     "text": [
      "\n",
      "Scene 4/10\n",
      "\n",
      "Basestation 1\n",
      "\n",
      "UE-BS Channels\n"
     ]
    },
    {
     "name": "stderr",
     "output_type": "stream",
     "text": [
      "Reading ray-tracing: 100%|████████████████████████████████████████████████████| 69040/69040 [00:02<00:00, 33683.62it/s]\n",
      "Generating channels: 100%|█████████████████████████████████████████████████████| 69040/69040 [00:12<00:00, 5581.61it/s]\n"
     ]
    },
    {
     "name": "stdout",
     "output_type": "stream",
     "text": [
      "\n",
      "BS-BS Channels\n"
     ]
    },
    {
     "name": "stderr",
     "output_type": "stream",
     "text": [
      "Reading ray-tracing: 100%|███████████████████████████████████████████████████████████████████████| 1/1 [00:00<?, ?it/s]\n",
      "Generating channels: 100%|██████████████████████████████████████████████████████████████| 1/1 [00:00<00:00, 346.38it/s]\n"
     ]
    },
    {
     "name": "stdout",
     "output_type": "stream",
     "text": [
      "\n",
      "Scene 5/10\n",
      "\n",
      "Basestation 1\n",
      "\n",
      "UE-BS Channels\n"
     ]
    },
    {
     "name": "stderr",
     "output_type": "stream",
     "text": [
      "Reading ray-tracing: 100%|████████████████████████████████████████████████████| 69040/69040 [00:02<00:00, 32347.38it/s]\n",
      "Generating channels: 100%|█████████████████████████████████████████████████████| 69040/69040 [00:12<00:00, 5576.40it/s]\n"
     ]
    },
    {
     "name": "stdout",
     "output_type": "stream",
     "text": [
      "\n",
      "BS-BS Channels\n"
     ]
    },
    {
     "name": "stderr",
     "output_type": "stream",
     "text": [
      "Reading ray-tracing: 100%|███████████████████████████████████████████████████████████████████████| 1/1 [00:00<?, ?it/s]\n",
      "Generating channels: 100%|██████████████████████████████████████████████████████████████| 1/1 [00:00<00:00, 585.55it/s]\n"
     ]
    },
    {
     "name": "stdout",
     "output_type": "stream",
     "text": [
      "\n",
      "Scene 6/10\n",
      "\n",
      "Basestation 1\n",
      "\n",
      "UE-BS Channels\n"
     ]
    },
    {
     "name": "stderr",
     "output_type": "stream",
     "text": [
      "Reading ray-tracing: 100%|████████████████████████████████████████████████████| 69040/69040 [00:02<00:00, 34263.84it/s]\n",
      "Generating channels: 100%|█████████████████████████████████████████████████████| 69040/69040 [00:13<00:00, 5158.01it/s]\n"
     ]
    },
    {
     "name": "stdout",
     "output_type": "stream",
     "text": [
      "\n",
      "BS-BS Channels\n"
     ]
    },
    {
     "name": "stderr",
     "output_type": "stream",
     "text": [
      "Reading ray-tracing: 100%|███████████████████████████████████████████████████████████████████████| 1/1 [00:00<?, ?it/s]\n",
      "Generating channels: 100%|██████████████████████████████████████████████████████████████| 1/1 [00:00<00:00, 999.12it/s]\n"
     ]
    },
    {
     "name": "stdout",
     "output_type": "stream",
     "text": [
      "\n",
      "Scene 7/10\n",
      "\n",
      "Basestation 1\n",
      "\n",
      "UE-BS Channels\n"
     ]
    },
    {
     "name": "stderr",
     "output_type": "stream",
     "text": [
      "Reading ray-tracing: 100%|████████████████████████████████████████████████████| 69040/69040 [00:02<00:00, 30815.03it/s]\n",
      "Generating channels: 100%|█████████████████████████████████████████████████████| 69040/69040 [00:13<00:00, 5295.47it/s]\n"
     ]
    },
    {
     "name": "stdout",
     "output_type": "stream",
     "text": [
      "\n",
      "BS-BS Channels\n"
     ]
    },
    {
     "name": "stderr",
     "output_type": "stream",
     "text": [
      "Reading ray-tracing: 100%|███████████████████████████████████████████████████████████████████████| 1/1 [00:00<?, ?it/s]\n",
      "Generating channels: 100%|██████████████████████████████████████████████████████████████| 1/1 [00:00<00:00, 367.79it/s]\n"
     ]
    },
    {
     "name": "stdout",
     "output_type": "stream",
     "text": [
      "\n",
      "Scene 8/10\n",
      "\n",
      "Basestation 1\n",
      "\n",
      "UE-BS Channels\n"
     ]
    },
    {
     "name": "stderr",
     "output_type": "stream",
     "text": [
      "Reading ray-tracing: 100%|████████████████████████████████████████████████████| 69040/69040 [00:02<00:00, 31132.46it/s]\n",
      "Generating channels: 100%|█████████████████████████████████████████████████████| 69040/69040 [00:12<00:00, 5356.52it/s]\n"
     ]
    },
    {
     "name": "stdout",
     "output_type": "stream",
     "text": [
      "\n",
      "BS-BS Channels\n"
     ]
    },
    {
     "name": "stderr",
     "output_type": "stream",
     "text": [
      "Reading ray-tracing: 100%|███████████████████████████████████████████████████████████████████████| 1/1 [00:00<?, ?it/s]\n",
      "Generating channels: 100%|██████████████████████████████████████████████████████████████| 1/1 [00:00<00:00, 751.80it/s]\n"
     ]
    },
    {
     "name": "stdout",
     "output_type": "stream",
     "text": [
      "\n",
      "Scene 9/10\n",
      "\n",
      "Basestation 1\n",
      "\n",
      "UE-BS Channels\n"
     ]
    },
    {
     "name": "stderr",
     "output_type": "stream",
     "text": [
      "Reading ray-tracing: 100%|████████████████████████████████████████████████████| 69040/69040 [00:02<00:00, 32768.65it/s]\n",
      "Generating channels: 100%|█████████████████████████████████████████████████████| 69040/69040 [00:12<00:00, 5572.23it/s]\n"
     ]
    },
    {
     "name": "stdout",
     "output_type": "stream",
     "text": [
      "\n",
      "BS-BS Channels\n"
     ]
    },
    {
     "name": "stderr",
     "output_type": "stream",
     "text": [
      "Reading ray-tracing: 100%|███████████████████████████████████████████████████████████████████████| 1/1 [00:00<?, ?it/s]\n",
      "Generating channels: 100%|███████████████████████████████████████████████████████████████████████| 1/1 [00:00<?, ?it/s]\n"
     ]
    },
    {
     "name": "stdout",
     "output_type": "stream",
     "text": [
      "\n",
      "Scene 10/10\n",
      "\n",
      "Basestation 1\n",
      "\n",
      "UE-BS Channels\n"
     ]
    },
    {
     "name": "stderr",
     "output_type": "stream",
     "text": [
      "Reading ray-tracing: 100%|████████████████████████████████████████████████████| 69040/69040 [00:02<00:00, 34326.74it/s]\n",
      "Generating channels: 100%|█████████████████████████████████████████████████████| 69040/69040 [00:12<00:00, 5457.71it/s]\n"
     ]
    },
    {
     "name": "stdout",
     "output_type": "stream",
     "text": [
      "\n",
      "BS-BS Channels\n"
     ]
    },
    {
     "name": "stderr",
     "output_type": "stream",
     "text": [
      "Reading ray-tracing: 100%|███████████████████████████████████████████████████████████████████████| 1/1 [00:00<?, ?it/s]\n",
      "Generating channels: 100%|███████████████████████████████████████████████████████████████████████| 1/1 [00:00<?, ?it/s]"
     ]
    },
    {
     "name": "stdout",
     "output_type": "stream",
     "text": [
      "걸리는시간: 157.51\n"
     ]
    },
    {
     "name": "stderr",
     "output_type": "stream",
     "text": [
      "\n"
     ]
    }
   ],
   "source": [
    "## Generate and inspect the dataset\n",
    "import time\n",
    "start = time.time()\n",
    "dataset = DeepMIMOv3.generate_data(parameters)\n",
    "end = time.time()\n",
    "\n",
    "print(f\"걸리는시간: {round(end-start,2)}\")"
   ]
  },
  {
   "cell_type": "markdown",
   "id": "5b4e72d4",
   "metadata": {},
   "source": [
    "# 사용자 접근 데이터"
   ]
  },
  {
   "cell_type": "code",
   "execution_count": 8,
   "id": "57828d31",
   "metadata": {},
   "outputs": [
    {
     "name": "stdout",
     "output_type": "stream",
     "text": [
      "dict_keys(['paths', 'LoS', 'location', 'distance', 'pathloss', 'channel'])\n"
     ]
    }
   ],
   "source": [
    "user_data = dataset[0][0]['user']\n",
    "print(user_data.keys())"
   ]
  },
  {
   "cell_type": "markdown",
   "id": "bc5a3b0c",
   "metadata": {},
   "source": [
    "# 사용자 채널 정보 확인"
   ]
  },
  {
   "cell_type": "code",
   "execution_count": 9,
   "id": "23b2884b",
   "metadata": {},
   "outputs": [
    {
     "name": "stdout",
     "output_type": "stream",
     "text": [
      "(69040, 1, 32, 64)\n"
     ]
    }
   ],
   "source": [
    "# subcarries = 나눈 각각의 주파수 채널\n",
    "# Channel = H <- 채널 벡터\n",
    "# 채널 형태\n",
    "# (user, UE antenna, Bs antenna, subcarrier)\n",
    "channel = dataset[0][0]['user']['channel']\n",
    "print(channel.shape)  "
   ]
  },
  {
   "cell_type": "code",
   "execution_count": 10,
   "id": "bf443dc9",
   "metadata": {},
   "outputs": [
    {
     "name": "stdout",
     "output_type": "stream",
     "text": [
      "[[[-4.9276509e-06+6.0179661e-07j -4.7681883e-06+1.3829425e-06j\n",
      "   -4.4857170e-06+2.1285541e-06j ...  4.3711116e-06-2.4074948e-06j\n",
      "    3.9297033e-06-3.0764131e-06j  3.3868639e-06-3.6660977e-06j]\n",
      "  [-4.7825752e-06+1.6998159e-06j -4.4491662e-06+2.4436672e-06j\n",
      "   -4.0009481e-06+3.1246111e-06j ...  3.8229477e-06-3.3767817e-06j\n",
      "    3.2333687e-06-3.9455144e-06j  2.5602983e-06-4.4125736e-06j]\n",
      "  [-4.3861578e-06+2.7614337e-06j -3.8878534e-06+3.4282084e-06j\n",
      "   -3.2891933e-06+4.0066625e-06j ...  3.0543217e-06-4.2173128e-06j\n",
      "    2.3400164e-06-4.6522073e-06j  1.5652473e-06-4.9671735e-06j]\n",
      "  ...\n",
      "  [-5.9705985e-06+1.8381670e-06j -5.5992200e-06+2.7702260e-06j\n",
      "   -5.0834296e-06+3.6307945e-06j ...  4.8462462e-06-3.9304277e-06j\n",
      "    4.1544481e-06-4.6554678e-06j  3.3555179e-06-5.2603964e-06j]\n",
      "  [-5.3850690e-06+3.0986103e-06j -4.8194606e-06+3.9206407e-06j\n",
      "   -4.1295657e-06+4.6415066e-06j ...  3.8328362e-06-4.8787911e-06j\n",
      "    3.0023016e-06-5.4293314e-06j  2.0943648e-06-5.8398036e-06j]\n",
      "  [-4.5357333e-06+4.1878652e-06j -3.8067144e-06+4.8598408e-06j\n",
      "   -2.9795442e-06+5.4064294e-06j ...  2.6393784e-06-5.5698706e-06j\n",
      "    1.7136289e-06-5.9204085e-06j  7.4372792e-07-6.1182200e-06j]]]\n"
     ]
    }
   ],
   "source": [
    "print(dataset[0][0]['user']['channel'][100])"
   ]
  },
  {
   "cell_type": "code",
   "execution_count": 11,
   "id": "1a931204",
   "metadata": {},
   "outputs": [
    {
     "name": "stdout",
     "output_type": "stream",
     "text": [
      "1\n"
     ]
    }
   ],
   "source": [
    "print(len(dataset[0][0]['user']['channel'][100]))"
   ]
  },
  {
   "cell_type": "code",
   "execution_count": 12,
   "id": "ff08a89e",
   "metadata": {},
   "outputs": [
    {
     "name": "stdout",
     "output_type": "stream",
     "text": [
      "[ 1.14151417e-05-4.36109121e-06j  1.13104134e-05-4.99916769e-06j\n",
      "  1.11716581e-05-5.67118514e-06j  1.09873472e-05-6.37486755e-06j\n",
      "  1.07464039e-05-7.10507175e-06j  1.04388646e-05-7.85394786e-06j\n",
      "  1.00564839e-05-8.61123954e-06j  9.59326280e-06-9.36472679e-06j\n",
      "  9.04586159e-06-1.01007672e-05j  8.41387282e-06-1.08049298e-05j\n",
      "  7.69995040e-06-1.14626673e-05j  6.90977913e-06-1.20600052e-05j\n",
      "  6.05189052e-06-1.25842089e-05j  5.13732675e-06-1.30243880e-05j\n",
      "  4.17918318e-06-1.33720132e-05j  3.19203900e-06-1.36213148e-05j\n",
      "  2.19131471e-06-1.37695433e-05j  1.19258925e-06-1.38170753e-05j\n",
      "  2.10908027e-07-1.37673669e-05j -7.39877976e-07-1.36267463e-05j\n",
      " -1.64770893e-06-1.34040656e-05j -2.50281732e-06-1.31102279e-05j\n",
      " -3.29810814e-06-1.27576113e-05j -4.02939668e-06-1.23594264e-05j\n",
      " -4.69549514e-06-1.19290335e-05j -5.29813951e-06-1.14792647e-05j\n",
      " -5.84176632e-06-1.10217779e-05j -6.33314448e-06-1.05664840e-05j\n",
      " -6.78089191e-06-1.01210744e-05j -7.19489299e-06-9.69066787e-06j\n",
      " -7.58565420e-06-9.27761084e-06j -7.96363111e-06-8.88142313e-06j\n",
      " -8.33856484e-06-8.49890512e-06j -8.71885459e-06-8.12439157e-06j\n",
      " -9.11101597e-06-7.75014814e-06j -9.51923721e-06-7.36687571e-06j\n",
      " -9.94506809e-06-6.96431107e-06j -1.03872544e-05-6.53187772e-06j\n",
      " -1.08417298e-05-6.05936111e-06j -1.13017559e-05-5.53756945e-06j\n",
      " -1.17582258e-05-4.95894210e-06j -1.22000811e-05-4.31807575e-06j\n",
      " -1.26148598e-05-3.61214165e-06j -1.29893097e-05-2.84116686e-06j\n",
      " -1.33100630e-05-2.00816589e-06j -1.35643195e-05-1.11911800e-06j\n",
      " -1.37405095e-05-1.82786522e-07j -1.38288988e-05+7.89607157e-07j\n",
      " -1.38221067e-05+1.78484061e-06j -1.37155066e-05+2.78825269e-06j\n",
      " -1.35074870e-05+3.78438449e-06j -1.31995657e-05+4.75766183e-06j\n",
      " -1.27963385e-05+5.69308668e-06j -1.23052841e-05+6.57690180e-06j\n",
      " -1.17364107e-05+7.39718735e-06j -1.11017880e-05+8.14437226e-06j\n",
      " -1.04149713e-05+8.81161304e-06j -9.69035409e-06+9.39504571e-06j\n",
      " -8.94248751e-06+9.89386990e-06j -8.18538956e-06+1.03102893e-05j\n",
      " -7.43190139e-06+1.06492889e-05j -6.69309748e-06+1.09182747e-05j\n",
      " -5.97780945e-06+1.11265890e-05j -5.29226054e-06+1.12849320e-05j]\n"
     ]
    }
   ],
   "source": [
    "print(channel[10000][0][0])"
   ]
  },
  {
   "cell_type": "code",
   "execution_count": 13,
   "id": "f65feb3b",
   "metadata": {},
   "outputs": [
    {
     "name": "stdout",
     "output_type": "stream",
     "text": [
      "[0.+0.j 0.+0.j 0.+0.j 0.+0.j 0.+0.j 0.+0.j 0.+0.j 0.+0.j 0.+0.j 0.+0.j\n",
      " 0.+0.j 0.+0.j 0.+0.j 0.+0.j 0.+0.j 0.+0.j 0.+0.j 0.+0.j 0.+0.j 0.+0.j\n",
      " 0.+0.j 0.+0.j 0.+0.j 0.+0.j 0.+0.j 0.+0.j 0.+0.j 0.+0.j 0.+0.j 0.+0.j\n",
      " 0.+0.j 0.+0.j 0.+0.j 0.+0.j 0.+0.j 0.+0.j 0.+0.j 0.+0.j 0.+0.j 0.+0.j\n",
      " 0.+0.j 0.+0.j 0.+0.j 0.+0.j 0.+0.j 0.+0.j 0.+0.j 0.+0.j 0.+0.j 0.+0.j\n",
      " 0.+0.j 0.+0.j 0.+0.j 0.+0.j 0.+0.j 0.+0.j 0.+0.j 0.+0.j 0.+0.j 0.+0.j\n",
      " 0.+0.j 0.+0.j 0.+0.j 0.+0.j]\n"
     ]
    }
   ],
   "source": [
    "print(channel[1][0][0])"
   ]
  },
  {
   "cell_type": "markdown",
   "id": "2b079846",
   "metadata": {},
   "source": [
    "# 사용자 위치 정보"
   ]
  },
  {
   "cell_type": "code",
   "execution_count": 14,
   "id": "84337e94",
   "metadata": {},
   "outputs": [
    {
     "name": "stdout",
     "output_type": "stream",
     "text": [
      "(69040, 3)\n",
      "[[-91.03330231 -15.57629967   1.        ]\n",
      " [-90.83329773 -15.57629967   1.        ]\n",
      " [-90.63330078 -15.57629967   1.        ]\n",
      " [-90.4332962  -15.57629967   1.        ]]\n"
     ]
    }
   ],
   "source": [
    "location = dataset[0][0]['user']['location']\n",
    "print(location.shape)      # (사용자 수, 3)\n",
    "print(location[0:4])         # 첫 번째 사용자의 (x, y, z)"
   ]
  },
  {
   "cell_type": "markdown",
   "id": "60e9a9b6",
   "metadata": {},
   "source": [
    "# 경로정보"
   ]
  },
  {
   "cell_type": "code",
   "execution_count": 15,
   "id": "79cde8ee",
   "metadata": {},
   "outputs": [
    {
     "name": "stdout",
     "output_type": "stream",
     "text": [
      "69040\n",
      "{'num_paths': 0, 'DoD_phi': [], 'DoD_theta': [], 'DoA_phi': [], 'DoA_theta': [], 'phase': [], 'ToA': [], 'power': [], 'LoS': []}\n"
     ]
    }
   ],
   "source": [
    "paths = dataset[0][0]['user']['paths']\n",
    "#사용자 수\n",
    "print(len(paths))\n",
    "# 첫 번째 사용자 경로 정보\n",
    "print(paths[0])"
   ]
  },
  {
   "cell_type": "markdown",
   "id": "f2242869",
   "metadata": {},
   "source": [
    "# 기지국 정보"
   ]
  },
  {
   "cell_type": "code",
   "execution_count": 16,
   "id": "2900e481",
   "metadata": {},
   "outputs": [
    {
     "name": "stdout",
     "output_type": "stream",
     "text": [
      "dict_keys(['paths', 'LoS', 'location', 'distance', 'pathloss', 'channel'])\n"
     ]
    }
   ],
   "source": [
    "bs_data = dataset[0][0]['basestation']\n",
    "print(bs_data.keys())\n"
   ]
  },
  {
   "cell_type": "markdown",
   "id": "c063ea95",
   "metadata": {},
   "source": [
    "# Scene 및 사용자 수"
   ]
  },
  {
   "cell_type": "code",
   "execution_count": 17,
   "id": "a20df92d",
   "metadata": {},
   "outputs": [
    {
     "name": "stdout",
     "output_type": "stream",
     "text": [
      "Scene 0: 69040 users\n"
     ]
    }
   ],
   "source": [
    "for i, scene in enumerate(dataset[0]):\n",
    "    user_locs = scene['user']['location']\n",
    "    print(f\"Scene {i}: {len(user_locs)} users\")"
   ]
  },
  {
   "cell_type": "markdown",
   "id": "b38f71e1",
   "metadata": {},
   "source": [
    "# 채널 수"
   ]
  },
  {
   "cell_type": "code",
   "execution_count": 18,
   "id": "cbbee52e",
   "metadata": {},
   "outputs": [
    {
     "data": {
      "text/plain": [
       "69040"
      ]
     },
     "execution_count": 18,
     "metadata": {},
     "output_type": "execute_result"
    }
   ],
   "source": [
    "len(dataset[0][0]['user']['channel'])"
   ]
  },
  {
   "cell_type": "code",
   "execution_count": 19,
   "id": "2d474195",
   "metadata": {},
   "outputs": [
    {
     "name": "stdout",
     "output_type": "stream",
     "text": [
      "{'num_paths': 0, 'DoD_phi': [], 'DoD_theta': [], 'DoA_phi': [], 'DoA_theta': [], 'phase': [], 'ToA': [], 'power': [], 'LoS': []}\n"
     ]
    }
   ],
   "source": [
    "print(dataset[0][0]['user']['paths'][0])"
   ]
  },
  {
   "cell_type": "code",
   "execution_count": 20,
   "id": "73df9912",
   "metadata": {},
   "outputs": [
    {
     "name": "stdout",
     "output_type": "stream",
     "text": [
      "(1, 32, 64)\n"
     ]
    }
   ],
   "source": [
    "scene = dataset[0][0] # scene 0\n",
    "ue_idx = 0 # 첫 번째 사용자\n",
    "channel = scene['user']['channel'][ue_idx]\n",
    "print(channel.shape)"
   ]
  },
  {
   "cell_type": "markdown",
   "id": "373ffb59",
   "metadata": {},
   "source": [
    "# channel CIR mat 정보 가져오기"
   ]
  },
  {
   "cell_type": "code",
   "execution_count": 21,
   "id": "ec4461cb",
   "metadata": {},
   "outputs": [
    {
     "name": "stdout",
     "output_type": "stream",
     "text": [
      "dict_keys(['__header__', '__version__', '__globals__', 'CIR_array_full'])\n"
     ]
    }
   ],
   "source": [
    "import scipy.io as sio\n",
    "\n",
    "file_path = r'C:\\Users\\dlghd\\졸업프로젝트\\LWM\\O2_dyn_3p5\\scene_0\\O2_dyn_3p5.1.CIR.mat'\n",
    "mat_data = sio.loadmat(file_path)\n",
    "\n",
    "# 파일 안의 key 확인\n",
    "print(mat_data.keys())\n",
    "\n",
    "\n"
   ]
  },
  {
   "cell_type": "code",
   "execution_count": 22,
   "id": "662cb441",
   "metadata": {},
   "outputs": [
    {
     "name": "stdout",
     "output_type": "stream",
     "text": [
      "b'MATLAB 5.0 MAT-file, Platform: PCWIN64, Created on: Wed Jun 30 11:33:01 2021'\n"
     ]
    }
   ],
   "source": [
    "# 일반적으로 CIR key는 'CIR' 또는 'cir' 같은 이름일 가능성 높음\n",
    "H_cir = mat_data['__header__']  \n",
    "print(H_cir)"
   ]
  },
  {
   "cell_type": "markdown",
   "id": "88f3d7c7",
   "metadata": {},
   "source": [
    "# Time-Prediction 시작\n",
    "## Time Series 형태로 변환\n",
    "### 단일사용자 채널 예측"
   ]
  },
  {
   "cell_type": "code",
   "execution_count": 23,
   "id": "4f36971f",
   "metadata": {},
   "outputs": [
    {
     "name": "stdout",
     "output_type": "stream",
     "text": [
      "0이 존재하는 채널 개수 0\n"
     ]
    }
   ],
   "source": [
    "# print(dataset[0][0]['user']['channel'][150][0][3])\n",
    "\n",
    "count = 0\n",
    "for h in dataset[0][0]['user']['channel'][100][0]:\n",
    "#     h = h.squeeze(0)\n",
    "    h_real = h.real\n",
    "    h_imag = h.imag\n",
    "    if np.sum(np.abs(h_real)) ==0:\n",
    "        count+=1\n",
    "    elif np.sum(np.abs(h_imag)) == 0:\n",
    "        count+=1\n",
    "\n",
    "print(\"0이 존재하는 채널 개수\",count)"
   ]
  },
  {
   "cell_type": "code",
   "execution_count": 24,
   "id": "7575de2b",
   "metadata": {},
   "outputs": [
    {
     "name": "stdout",
     "output_type": "stream",
     "text": [
      "Antenna #3 subcarriers: [-3.7481711e-06+3.7276918e-06j -3.1033380e-06+4.2799297e-06j\n",
      " -2.3783671e-06+4.7218546e-06j -1.5919456e-06+5.0420513e-06j\n",
      " -7.6434952e-07+5.2322434e-06j  8.3081005e-08+5.2875071e-06j\n",
      "  9.2849081e-07+5.2063970e-06j  1.7500737e-06+4.9909859e-06j\n",
      "  2.5266352e-06+4.6468099e-06j  3.2381383e-06+4.1827284e-06j\n",
      "  3.8662224e-06+3.6106942e-06j  4.3946743e-06+2.9454461e-06j\n",
      "  4.8098500e-06+2.2041299e-06j  5.1010238e-06+1.4058554e-06j\n",
      "  5.2606679e-06+5.7120445e-07j  5.2846453e-06-2.7829972e-07j\n",
      "  5.1723187e-06-1.1207479e-06j  4.9265650e-06-1.9344095e-06j\n",
      "  4.5537045e-06-2.6982937e-06j  4.0633354e-06-3.3926899e-06j\n",
      "  3.4680893e-06-3.9996776e-06j  2.7833046e-06-4.5035881e-06j\n",
      "  2.0266314e-06-4.8914089e-06j  1.2175759e-06-5.1531201e-06j\n",
      "  3.7699922e-07-5.2819537e-06j -4.7342218e-07-5.2745672e-06j\n",
      " -1.3117545e-06-5.1311317e-06j -2.1163728e-06-4.8553270e-06j\n",
      " -2.8665186e-06-4.4542485e-06j -3.5428352e-06-3.9382230e-06j\n",
      " -4.1278677e-06-3.3205442e-06j -4.6065129e-06-2.6171292e-06j\n",
      " -4.9664100e-06-1.8461093e-06j -5.1982593e-06-1.0273618e-06j\n",
      " -5.2960613e-06-1.8199796e-07j -5.2572755e-06+6.6818120e-07j\n",
      " -5.0828817e-06+1.5012477e-06j -4.7773592e-06+2.2957113e-06j\n",
      " -4.3485697e-06+3.0310748e-06j -3.8075548e-06+3.6883623e-06j\n",
      " -3.1682537e-06+4.2506094e-06j -2.4471415e-06+4.7032995e-06j\n",
      " -1.6628065e-06+5.0347412e-06j -8.3547025e-07+5.2363685e-06j\n",
      "  1.3533687e-08+5.3029612e-06j  8.6230989e-07+5.2327832e-06j\n",
      "  1.6889655e-06+5.0276249e-06j  2.4721755e-06+4.6927585e-06j\n",
      "  3.1917318e-06+4.2368029e-06j  3.8290659e-06+3.6715010e-06j\n",
      "  4.3677264e-06+3.0114188e-06j  4.7938065e-06+2.2735683e-06j\n",
      "  5.0962994e-06+1.4769696e-06j  5.2673859e-06+6.4216152e-07j\n",
      "  5.3026333e-06-2.0932896e-07j  5.2011137e-06-1.0555416e-06j\n",
      "  4.9654259e-06-1.8746490e-06j  4.6016303e-06-2.6455198e-06j\n",
      "  4.1190920e-06-3.3482638e-06j  3.5302398e-06-3.9647457e-06j\n",
      "  2.8502477e-06-4.4790513e-06j  2.0966418e-06-4.8779011e-06j\n",
      "  1.2888491e-06-5.1509905e-06j  4.4769803e-07-5.2912578e-06j]\n",
      "0+0j인 서브캐리어 개수: 0\n",
      "완전 0+0j 안테나 포트 개수: 0\n",
      "0이 아닌 서브캐리어 개수: 2048\n"
     ]
    }
   ],
   "source": [
    "import numpy as np\n",
    "\n",
    "# 1) (user, ue_port, bs_ant, subc) → (bs_ant, subc) 로 squeeze\n",
    "H = dataset[0][0]['user']['channel'][100, 0]   # shape: (32, 64), complex\n",
    "\n",
    "# 2) BS 안테나 인덱스 3의 서브캐리어 벡터 (64,)\n",
    "print(\"Antenna #3 subcarriers:\", H[3])\n",
    "\n",
    "# 3) 전체 서브캐리어(32×64) 중 값이 정확히 0인 요소 개수\n",
    "zero_elements = np.sum(H == 0)\n",
    "print(\"0+0j인 서브캐리어 개수:\", zero_elements)\n",
    "\n",
    "# 4) 서브캐리어 전부가 0인 안테나 포트(행) 개수\n",
    "zero_ports = np.sum(np.all(H == 0, axis=1))\n",
    "print(\"완전 0+0j 안테나 포트 개수:\", zero_ports)\n",
    "\n",
    "# 5) 만약 “값이 하나도 0이 아닌” 서브캐리어 요소 개수를 보고 싶다면\n",
    "nonzero_elements = np.sum(np.abs(H) > 0)\n",
    "print(\"0이 아닌 서브캐리어 개수:\", nonzero_elements)\n"
   ]
  },
  {
   "cell_type": "code",
   "execution_count": 25,
   "id": "218e061b",
   "metadata": {},
   "outputs": [
    {
     "name": "stdout",
     "output_type": "stream",
     "text": [
      "0.0\n"
     ]
    }
   ],
   "source": [
    "# 결측치 제거 예시 코드\n",
    "import numpy as np\n",
    "print(np.real_if_close(sum(dataset[0][0]['user']['channel'][1][0][0])))\n"
   ]
  },
  {
   "cell_type": "code",
   "execution_count": 27,
   "id": "10886b3c",
   "metadata": {},
   "outputs": [],
   "source": [
    "ex = dataset[0][0]['user']['channel'].squeeze(1)"
   ]
  },
  {
   "cell_type": "code",
   "execution_count": 28,
   "id": "260a7698",
   "metadata": {},
   "outputs": [
    {
     "data": {
      "text/plain": [
       "(69040, 32, 64)"
      ]
     },
     "execution_count": 28,
     "metadata": {},
     "output_type": "execute_result"
    }
   ],
   "source": [
    "ex.shape"
   ]
  },
  {
   "cell_type": "code",
   "execution_count": 29,
   "id": "fe7bf3ba",
   "metadata": {},
   "outputs": [
    {
     "data": {
      "text/plain": [
       "0j"
      ]
     },
     "execution_count": 29,
     "metadata": {},
     "output_type": "execute_result"
    }
   ],
   "source": [
    "ex[10][31][63]"
   ]
  },
  {
   "cell_type": "code",
   "execution_count": 30,
   "id": "29f22fb9",
   "metadata": {},
   "outputs": [
    {
     "name": "stdout",
     "output_type": "stream",
     "text": [
      "[[0.+0.j 0.+0.j 0.+0.j ... 0.+0.j 0.+0.j 0.+0.j]\n",
      " [0.+0.j 0.+0.j 0.+0.j ... 0.+0.j 0.+0.j 0.+0.j]\n",
      " [0.+0.j 0.+0.j 0.+0.j ... 0.+0.j 0.+0.j 0.+0.j]\n",
      " ...\n",
      " [0.+0.j 0.+0.j 0.+0.j ... 0.+0.j 0.+0.j 0.+0.j]\n",
      " [0.+0.j 0.+0.j 0.+0.j ... 0.+0.j 0.+0.j 0.+0.j]\n",
      " [0.+0.j 0.+0.j 0.+0.j ... 0.+0.j 0.+0.j 0.+0.j]]\n"
     ]
    }
   ],
   "source": [
    "ex1 = np.nan_to_num(ex, nan=0.0)\n",
    "print(ex1[0])"
   ]
  },
  {
   "cell_type": "markdown",
   "id": "a20a73af",
   "metadata": {},
   "source": [
    "## 결측치 제거 및 dataload"
   ]
  },
  {
   "cell_type": "code",
   "execution_count": 31,
   "id": "1f97d362",
   "metadata": {},
   "outputs": [],
   "source": [
    "from torch.utils.data import Dataset, DataLoader\n",
    "\n",
    "class ChannelDataset(Dataset):\n",
    "    def __init__(self, dataset):\n",
    "        self.dataset = dataset\n",
    "    \n",
    "    def __len__(self):\n",
    "        return len(self.dataset)\n",
    "    \n",
    "    def __getitem__(self,idx):\n",
    "        scene = self.dataset[idx]\n",
    "        H = scene[0]['user']['channel'].squeeze(1)\n",
    "        \n",
    "        mask_valid_sc = ~np.all(H == 0+0j, axis=(0,1))\n",
    "        \n",
    "        H = H[:,:,mask_valid_sc]\n",
    "        \n",
    "        H_real = H.real\n",
    "        H_imag = H.imag\n",
    "        H_concat  = np.concatenate([H_real, H_imag], 1)\n",
    "        H_sc_first = H_concat.transpose(0,2,1)\n",
    "        \n",
    "        return torch.from_numpy(H_sc_first.astype(np.float32))   \n",
    "            \n",
    "            "
   ]
  },
  {
   "cell_type": "code",
   "execution_count": 32,
   "id": "a4d678fd",
   "metadata": {},
   "outputs": [
    {
     "data": {
      "text/plain": [
       "[{'user': {'paths': array([{'num_paths': 0, 'DoD_phi': [], 'DoD_theta': [], 'DoA_phi': [], 'DoA_theta': [], 'phase': [], 'ToA': [], 'power': [], 'LoS': []},\n",
       "          {'num_paths': 0, 'DoD_phi': [], 'DoD_theta': [], 'DoA_phi': [], 'DoA_theta': [], 'phase': [], 'ToA': [], 'power': [], 'LoS': []},\n",
       "          {'num_paths': 0, 'DoD_phi': [], 'DoD_theta': [], 'DoA_phi': [], 'DoA_theta': [], 'phase': [], 'ToA': [], 'power': [], 'LoS': []},\n",
       "          ...,\n",
       "          {'num_paths': 0, 'DoD_phi': [], 'DoD_theta': [], 'DoA_phi': [], 'DoA_theta': [], 'phase': [], 'ToA': [], 'power': [], 'LoS': []},\n",
       "          {'num_paths': 0, 'DoD_phi': [], 'DoD_theta': [], 'DoA_phi': [], 'DoA_theta': [], 'phase': [], 'ToA': [], 'power': [], 'LoS': []},\n",
       "          {'num_paths': 0, 'DoD_phi': [], 'DoD_theta': [], 'DoA_phi': [], 'DoA_theta': [], 'phase': [], 'ToA': [], 'power': [], 'LoS': []}],\n",
       "         dtype=object),\n",
       "   'LoS': array([-1, -1, -1, ..., -1, -1, -1], dtype=int8),\n",
       "   'location': array([[-91.03330231, -15.57629967,   1.        ],\n",
       "          [-90.83329773, -15.57629967,   1.        ],\n",
       "          [-90.63330078, -15.57629967,   1.        ],\n",
       "          ...,\n",
       "          [222.25999451, -54.89479828,   1.        ],\n",
       "          [222.46000671, -54.89479828,   1.        ],\n",
       "          [222.66000366, -54.89479828,   1.        ]]),\n",
       "   'distance': array([ 97.57769775,  97.38500214,  97.19229889, ..., 228.71699524,\n",
       "          228.90899658, 229.1000061 ]),\n",
       "   'pathloss': array([0., 0., 0., ..., 0., 0., 0.]),\n",
       "   'channel': array([[[[0.+0.j, 0.+0.j, 0.+0.j, ..., 0.+0.j, 0.+0.j, 0.+0.j],\n",
       "            [0.+0.j, 0.+0.j, 0.+0.j, ..., 0.+0.j, 0.+0.j, 0.+0.j],\n",
       "            [0.+0.j, 0.+0.j, 0.+0.j, ..., 0.+0.j, 0.+0.j, 0.+0.j],\n",
       "            ...,\n",
       "            [0.+0.j, 0.+0.j, 0.+0.j, ..., 0.+0.j, 0.+0.j, 0.+0.j],\n",
       "            [0.+0.j, 0.+0.j, 0.+0.j, ..., 0.+0.j, 0.+0.j, 0.+0.j],\n",
       "            [0.+0.j, 0.+0.j, 0.+0.j, ..., 0.+0.j, 0.+0.j, 0.+0.j]]],\n",
       "   \n",
       "   \n",
       "          [[[0.+0.j, 0.+0.j, 0.+0.j, ..., 0.+0.j, 0.+0.j, 0.+0.j],\n",
       "            [0.+0.j, 0.+0.j, 0.+0.j, ..., 0.+0.j, 0.+0.j, 0.+0.j],\n",
       "            [0.+0.j, 0.+0.j, 0.+0.j, ..., 0.+0.j, 0.+0.j, 0.+0.j],\n",
       "            ...,\n",
       "            [0.+0.j, 0.+0.j, 0.+0.j, ..., 0.+0.j, 0.+0.j, 0.+0.j],\n",
       "            [0.+0.j, 0.+0.j, 0.+0.j, ..., 0.+0.j, 0.+0.j, 0.+0.j],\n",
       "            [0.+0.j, 0.+0.j, 0.+0.j, ..., 0.+0.j, 0.+0.j, 0.+0.j]]],\n",
       "   \n",
       "   \n",
       "          [[[0.+0.j, 0.+0.j, 0.+0.j, ..., 0.+0.j, 0.+0.j, 0.+0.j],\n",
       "            [0.+0.j, 0.+0.j, 0.+0.j, ..., 0.+0.j, 0.+0.j, 0.+0.j],\n",
       "            [0.+0.j, 0.+0.j, 0.+0.j, ..., 0.+0.j, 0.+0.j, 0.+0.j],\n",
       "            ...,\n",
       "            [0.+0.j, 0.+0.j, 0.+0.j, ..., 0.+0.j, 0.+0.j, 0.+0.j],\n",
       "            [0.+0.j, 0.+0.j, 0.+0.j, ..., 0.+0.j, 0.+0.j, 0.+0.j],\n",
       "            [0.+0.j, 0.+0.j, 0.+0.j, ..., 0.+0.j, 0.+0.j, 0.+0.j]]],\n",
       "   \n",
       "   \n",
       "          ...,\n",
       "   \n",
       "   \n",
       "          [[[0.+0.j, 0.+0.j, 0.+0.j, ..., 0.+0.j, 0.+0.j, 0.+0.j],\n",
       "            [0.+0.j, 0.+0.j, 0.+0.j, ..., 0.+0.j, 0.+0.j, 0.+0.j],\n",
       "            [0.+0.j, 0.+0.j, 0.+0.j, ..., 0.+0.j, 0.+0.j, 0.+0.j],\n",
       "            ...,\n",
       "            [0.+0.j, 0.+0.j, 0.+0.j, ..., 0.+0.j, 0.+0.j, 0.+0.j],\n",
       "            [0.+0.j, 0.+0.j, 0.+0.j, ..., 0.+0.j, 0.+0.j, 0.+0.j],\n",
       "            [0.+0.j, 0.+0.j, 0.+0.j, ..., 0.+0.j, 0.+0.j, 0.+0.j]]],\n",
       "   \n",
       "   \n",
       "          [[[0.+0.j, 0.+0.j, 0.+0.j, ..., 0.+0.j, 0.+0.j, 0.+0.j],\n",
       "            [0.+0.j, 0.+0.j, 0.+0.j, ..., 0.+0.j, 0.+0.j, 0.+0.j],\n",
       "            [0.+0.j, 0.+0.j, 0.+0.j, ..., 0.+0.j, 0.+0.j, 0.+0.j],\n",
       "            ...,\n",
       "            [0.+0.j, 0.+0.j, 0.+0.j, ..., 0.+0.j, 0.+0.j, 0.+0.j],\n",
       "            [0.+0.j, 0.+0.j, 0.+0.j, ..., 0.+0.j, 0.+0.j, 0.+0.j],\n",
       "            [0.+0.j, 0.+0.j, 0.+0.j, ..., 0.+0.j, 0.+0.j, 0.+0.j]]],\n",
       "   \n",
       "   \n",
       "          [[[0.+0.j, 0.+0.j, 0.+0.j, ..., 0.+0.j, 0.+0.j, 0.+0.j],\n",
       "            [0.+0.j, 0.+0.j, 0.+0.j, ..., 0.+0.j, 0.+0.j, 0.+0.j],\n",
       "            [0.+0.j, 0.+0.j, 0.+0.j, ..., 0.+0.j, 0.+0.j, 0.+0.j],\n",
       "            ...,\n",
       "            [0.+0.j, 0.+0.j, 0.+0.j, ..., 0.+0.j, 0.+0.j, 0.+0.j],\n",
       "            [0.+0.j, 0.+0.j, 0.+0.j, ..., 0.+0.j, 0.+0.j, 0.+0.j],\n",
       "            [0.+0.j, 0.+0.j, 0.+0.j, ..., 0.+0.j, 0.+0.j, 0.+0.j]]]],\n",
       "         dtype=complex64)},\n",
       "  'basestation': {'paths': array([{'num_paths': 2, 'DoD_phi': array([   0.   , -141.952], dtype=float32), 'DoD_theta': array([180.    ,  89.9997], dtype=float32), 'DoA_phi': array([-180.  , -141.95], dtype=float32), 'DoA_theta': array([180.    ,  89.9997], dtype=float32), 'phase': array([  68.6712, -129.443 ], dtype=float32), 'ToA': array([3.83724e-08, 3.63243e-07], dtype=float32), 'LoS': array([0., 0.], dtype=float32), 'power': array([5.4408858e-08, 2.8096997e-10], dtype=float32)}],\n",
       "         dtype=object),\n",
       "   'LoS': [0.0],\n",
       "   'location': array([[ 3., 10.,  6.]]),\n",
       "   'distance': array([0.]),\n",
       "   'pathloss': array([73.25530243]),\n",
       "   'channel': [array([[[ 3.27880882e-06+9.03047146e-06j,\n",
       "              3.38902836e-06+9.05771773e-06j,\n",
       "              3.52600751e-06+9.10214646e-06j, ...,\n",
       "              9.28594190e-06-2.31882918e-06j,\n",
       "              9.26814511e-06-2.39473446e-06j,\n",
       "              9.27899575e-06-2.48241610e-06j],\n",
       "            [-4.22006268e-06-1.01746392e-05j,\n",
       "             -4.55990916e-06-9.96552678e-06j,\n",
       "             -4.86858996e-06-9.72868608e-06j, ...,\n",
       "             -1.07515196e-05+2.53599163e-06j,\n",
       "             -1.06494687e-05+2.93048000e-06j,\n",
       "             -1.05077289e-05+3.31024060e-06j],\n",
       "            [ 3.27882920e-06+9.03045542e-06j,\n",
       "              3.38904486e-06+9.05769790e-06j,\n",
       "              3.52601939e-06+9.10212379e-06j, ...,\n",
       "              9.28593792e-06-2.31885488e-06j,\n",
       "              9.26813589e-06-2.39475878e-06j,\n",
       "              9.27898172e-06-2.48243791e-06j],\n",
       "            ...,\n",
       "            [-4.21982438e-06-1.01748453e-05j,\n",
       "             -4.55972469e-06-9.96578487e-06j,\n",
       "             -4.86846960e-06-9.72898291e-06j, ...,\n",
       "             -1.07515633e-05+2.53568085e-06j,\n",
       "             -1.06495846e-05+2.93018834e-06j,\n",
       "             -1.05079111e-05+3.30998367e-06j],\n",
       "            [ 3.27911451e-06+9.03023098e-06j,\n",
       "              3.38927589e-06+9.05742036e-06j,\n",
       "              3.52618585e-06+9.10180640e-06j, ...,\n",
       "              9.28588238e-06-2.31921470e-06j,\n",
       "              9.26800688e-06-2.39509920e-06j,\n",
       "              9.27878532e-06-2.48274327e-06j],\n",
       "            [-4.21980736e-06-1.01748600e-05j,\n",
       "             -4.55971151e-06-9.96580330e-06j,\n",
       "             -4.86846100e-06-9.72900412e-06j, ...,\n",
       "             -1.07515664e-05+2.53565866e-06j,\n",
       "             -1.06495929e-05+2.93016751e-06j,\n",
       "             -1.05079242e-05+3.30996531e-06j]],\n",
       "    \n",
       "           [[-4.22006268e-06-1.01746392e-05j,\n",
       "             -4.55990916e-06-9.96552678e-06j,\n",
       "             -4.86858996e-06-9.72868608e-06j, ...,\n",
       "             -1.07515196e-05+2.53599163e-06j,\n",
       "             -1.06494687e-05+2.93048000e-06j,\n",
       "             -1.05077289e-05+3.31024060e-06j],\n",
       "            [ 3.27882920e-06+9.03045542e-06j,\n",
       "              3.38904486e-06+9.05769790e-06j,\n",
       "              3.52601939e-06+9.10212379e-06j, ...,\n",
       "              9.28593792e-06-2.31885488e-06j,\n",
       "              9.26813589e-06-2.39475878e-06j,\n",
       "              9.27898172e-06-2.48243791e-06j],\n",
       "            [-4.22004567e-06-1.01746539e-05j,\n",
       "             -4.55989598e-06-9.96554522e-06j,\n",
       "             -4.86858137e-06-9.72870728e-06j, ...,\n",
       "             -1.07515227e-05+2.53596943e-06j,\n",
       "             -1.06494770e-05+2.93045917e-06j,\n",
       "             -1.05077419e-05+3.31022225e-06j],\n",
       "            ...,\n",
       "            [ 3.27911451e-06+9.03023098e-06j,\n",
       "              3.38927589e-06+9.05742036e-06j,\n",
       "              3.52618585e-06+9.10180640e-06j, ...,\n",
       "              9.28588238e-06-2.31921470e-06j,\n",
       "              9.26800688e-06-2.39509920e-06j,\n",
       "              9.27878532e-06-2.48274327e-06j],\n",
       "            [-4.21980736e-06-1.01748600e-05j,\n",
       "             -4.55971151e-06-9.96580330e-06j,\n",
       "             -4.86846100e-06-9.72900412e-06j, ...,\n",
       "             -1.07515664e-05+2.53565866e-06j,\n",
       "             -1.06495929e-05+2.93016751e-06j,\n",
       "             -1.05079242e-05+3.30996531e-06j],\n",
       "            [ 3.27913490e-06+9.03021495e-06j,\n",
       "              3.38929240e-06+9.05740054e-06j,\n",
       "              3.52619775e-06+9.10178373e-06j, ...,\n",
       "              9.28587842e-06-2.31924040e-06j,\n",
       "              9.26799767e-06-2.39512351e-06j,\n",
       "              9.27877129e-06-2.48276509e-06j]],\n",
       "    \n",
       "           [[ 3.27882920e-06+9.03045542e-06j,\n",
       "              3.38904486e-06+9.05769790e-06j,\n",
       "              3.52601939e-06+9.10212379e-06j, ...,\n",
       "              9.28593792e-06-2.31885488e-06j,\n",
       "              9.26813589e-06-2.39475878e-06j,\n",
       "              9.27898172e-06-2.48243791e-06j],\n",
       "            [-4.22004567e-06-1.01746539e-05j,\n",
       "             -4.55989598e-06-9.96554522e-06j,\n",
       "             -4.86858137e-06-9.72870728e-06j, ...,\n",
       "             -1.07515227e-05+2.53596943e-06j,\n",
       "             -1.06494770e-05+2.93045917e-06j,\n",
       "             -1.05077419e-05+3.31022225e-06j],\n",
       "            [ 3.27884957e-06+9.03043939e-06j,\n",
       "              3.38906136e-06+9.05767808e-06j,\n",
       "              3.52603128e-06+9.10210111e-06j, ...,\n",
       "              9.28593395e-06-2.31888058e-06j,\n",
       "              9.26812667e-06-2.39478309e-06j,\n",
       "              9.27896769e-06-2.48245972e-06j],\n",
       "            ...,\n",
       "            [-4.21980736e-06-1.01748600e-05j,\n",
       "             -4.55971151e-06-9.96580330e-06j,\n",
       "             -4.86846100e-06-9.72900412e-06j, ...,\n",
       "             -1.07515664e-05+2.53565866e-06j,\n",
       "             -1.06495929e-05+2.93016751e-06j,\n",
       "             -1.05079242e-05+3.30996531e-06j],\n",
       "            [ 3.27913490e-06+9.03021495e-06j,\n",
       "              3.38929240e-06+9.05740054e-06j,\n",
       "              3.52619775e-06+9.10178373e-06j, ...,\n",
       "              9.28587842e-06-2.31924040e-06j,\n",
       "              9.26799767e-06-2.39512351e-06j,\n",
       "              9.27877129e-06-2.48276509e-06j],\n",
       "            [-4.21979033e-06-1.01748747e-05j,\n",
       "             -4.55969833e-06-9.96582173e-06j,\n",
       "             -4.86845239e-06-9.72902532e-06j, ...,\n",
       "             -1.07515695e-05+2.53563646e-06j,\n",
       "             -1.06496012e-05+2.93014667e-06j,\n",
       "             -1.05079372e-05+3.30994695e-06j]],\n",
       "    \n",
       "           ...,\n",
       "    \n",
       "           [[-4.21982438e-06-1.01748453e-05j,\n",
       "             -4.55972469e-06-9.96578487e-06j,\n",
       "             -4.86846960e-06-9.72898291e-06j, ...,\n",
       "             -1.07515633e-05+2.53568085e-06j,\n",
       "             -1.06495846e-05+2.93018834e-06j,\n",
       "             -1.05079111e-05+3.30998367e-06j],\n",
       "            [ 3.27911451e-06+9.03023098e-06j,\n",
       "              3.38927589e-06+9.05742036e-06j,\n",
       "              3.52618585e-06+9.10180640e-06j, ...,\n",
       "              9.28588238e-06-2.31921470e-06j,\n",
       "              9.26800688e-06-2.39509920e-06j,\n",
       "              9.27878532e-06-2.48274327e-06j],\n",
       "            [-4.21980736e-06-1.01748600e-05j,\n",
       "             -4.55971151e-06-9.96580330e-06j,\n",
       "             -4.86846100e-06-9.72900412e-06j, ...,\n",
       "             -1.07515664e-05+2.53565866e-06j,\n",
       "             -1.06495929e-05+2.93016751e-06j,\n",
       "             -1.05079242e-05+3.30996531e-06j],\n",
       "            ...,\n",
       "            [ 3.27939993e-06+9.03000665e-06j,\n",
       "              3.38950705e-06+9.05714291e-06j,\n",
       "              3.52635246e-06+9.10148908e-06j, ...,\n",
       "              9.28582700e-06-2.31957454e-06j,\n",
       "              9.26787803e-06-2.39543967e-06j,\n",
       "              9.27858904e-06-2.48304873e-06j],\n",
       "            [-4.21956895e-06-1.01750660e-05j,\n",
       "             -4.55952692e-06-9.96606129e-06j,\n",
       "             -4.86834048e-06-9.72930088e-06j, ...,\n",
       "             -1.07516099e-05+2.53534786e-06j,\n",
       "             -1.06497087e-05+2.92987578e-06j,\n",
       "             -1.05081062e-05+3.30970829e-06j],\n",
       "            [ 3.27942032e-06+9.02999063e-06j,\n",
       "              3.38952357e-06+9.05712310e-06j,\n",
       "              3.52636436e-06+9.10146642e-06j, ...,\n",
       "              9.28582305e-06-2.31960025e-06j,\n",
       "              9.26786883e-06-2.39546399e-06j,\n",
       "              9.27857503e-06-2.48307055e-06j]],\n",
       "    \n",
       "           [[ 3.27911451e-06+9.03023098e-06j,\n",
       "              3.38927589e-06+9.05742036e-06j,\n",
       "              3.52618585e-06+9.10180640e-06j, ...,\n",
       "              9.28588238e-06-2.31921470e-06j,\n",
       "              9.26800688e-06-2.39509920e-06j,\n",
       "              9.27878532e-06-2.48274327e-06j],\n",
       "            [-4.21980736e-06-1.01748600e-05j,\n",
       "             -4.55971151e-06-9.96580330e-06j,\n",
       "             -4.86846100e-06-9.72900412e-06j, ...,\n",
       "             -1.07515664e-05+2.53565866e-06j,\n",
       "             -1.06495929e-05+2.93016751e-06j,\n",
       "             -1.05079242e-05+3.30996531e-06j],\n",
       "            [ 3.27913490e-06+9.03021495e-06j,\n",
       "              3.38929240e-06+9.05740054e-06j,\n",
       "              3.52619775e-06+9.10178373e-06j, ...,\n",
       "              9.28587842e-06-2.31924040e-06j,\n",
       "              9.26799767e-06-2.39512351e-06j,\n",
       "              9.27877129e-06-2.48276509e-06j],\n",
       "            ...,\n",
       "            [-4.21956895e-06-1.01750660e-05j,\n",
       "             -4.55952692e-06-9.96606129e-06j,\n",
       "             -4.86834048e-06-9.72930088e-06j, ...,\n",
       "             -1.07516099e-05+2.53534786e-06j,\n",
       "             -1.06497087e-05+2.92987578e-06j,\n",
       "             -1.05081062e-05+3.30970829e-06j],\n",
       "            [ 3.27942032e-06+9.02999063e-06j,\n",
       "              3.38952357e-06+9.05712310e-06j,\n",
       "              3.52636436e-06+9.10146642e-06j, ...,\n",
       "              9.28582305e-06-2.31960025e-06j,\n",
       "              9.26786883e-06-2.39546399e-06j,\n",
       "              9.27857503e-06-2.48307055e-06j],\n",
       "            [-4.21955192e-06-1.01750807e-05j,\n",
       "             -4.55951373e-06-9.96607971e-06j,\n",
       "             -4.86833187e-06-9.72932208e-06j, ...,\n",
       "             -1.07516130e-05+2.53532566e-06j,\n",
       "             -1.06497170e-05+2.92985494e-06j,\n",
       "             -1.05081192e-05+3.30968993e-06j]],\n",
       "    \n",
       "           [[-4.21980736e-06-1.01748600e-05j,\n",
       "             -4.55971151e-06-9.96580330e-06j,\n",
       "             -4.86846100e-06-9.72900412e-06j, ...,\n",
       "             -1.07515664e-05+2.53565866e-06j,\n",
       "             -1.06495929e-05+2.93016751e-06j,\n",
       "             -1.05079242e-05+3.30996531e-06j],\n",
       "            [ 3.27913490e-06+9.03021495e-06j,\n",
       "              3.38929240e-06+9.05740054e-06j,\n",
       "              3.52619775e-06+9.10178373e-06j, ...,\n",
       "              9.28587842e-06-2.31924040e-06j,\n",
       "              9.26799767e-06-2.39512351e-06j,\n",
       "              9.27877129e-06-2.48276509e-06j],\n",
       "            [-4.21979033e-06-1.01748747e-05j,\n",
       "             -4.55969833e-06-9.96582173e-06j,\n",
       "             -4.86845239e-06-9.72902532e-06j, ...,\n",
       "             -1.07515695e-05+2.53563646e-06j,\n",
       "             -1.06496012e-05+2.93014667e-06j,\n",
       "             -1.05079372e-05+3.30994695e-06j],\n",
       "            ...,\n",
       "            [ 3.27942032e-06+9.02999063e-06j,\n",
       "              3.38952357e-06+9.05712310e-06j,\n",
       "              3.52636436e-06+9.10146642e-06j, ...,\n",
       "              9.28582305e-06-2.31960025e-06j,\n",
       "              9.26786883e-06-2.39546399e-06j,\n",
       "              9.27857503e-06-2.48307055e-06j],\n",
       "            [-4.21955192e-06-1.01750807e-05j,\n",
       "             -4.55951373e-06-9.96607971e-06j,\n",
       "             -4.86833187e-06-9.72932208e-06j, ...,\n",
       "             -1.07516130e-05+2.53532566e-06j,\n",
       "             -1.06497170e-05+2.92985494e-06j,\n",
       "             -1.05081192e-05+3.30968993e-06j],\n",
       "            [ 3.27944071e-06+9.02997461e-06j,\n",
       "              3.38954008e-06+9.05710329e-06j,\n",
       "              3.52637627e-06+9.10144375e-06j, ...,\n",
       "              9.28581910e-06-2.31962595e-06j,\n",
       "              9.26785963e-06-2.39548832e-06j,\n",
       "              9.27856101e-06-2.48309237e-06j]]])]},\n",
       "  'location': array([ 3., 10.,  6.])}]"
      ]
     },
     "execution_count": 32,
     "metadata": {},
     "output_type": "execute_result"
    }
   ],
   "source": [
    "dataset[0]"
   ]
  },
  {
   "cell_type": "code",
   "execution_count": 33,
   "id": "38b6b90f",
   "metadata": {},
   "outputs": [
    {
     "ename": "NameError",
     "evalue": "name 'raw_dataset' is not defined",
     "output_type": "error",
     "traceback": [
      "\u001b[1;31m---------------------------------------------------------------------------\u001b[0m",
      "\u001b[1;31mNameError\u001b[0m                                 Traceback (most recent call last)",
      "Cell \u001b[1;32mIn[33], line 4\u001b[0m\n\u001b[0;32m      1\u001b[0m \u001b[38;5;28;01mimport\u001b[39;00m \u001b[38;5;21;01mnumpy\u001b[39;00m \u001b[38;5;28;01mas\u001b[39;00m \u001b[38;5;21;01mnp\u001b[39;00m\n\u001b[0;32m      3\u001b[0m \u001b[38;5;66;03m# 1) 원본 H 꺼내 보기\u001b[39;00m\n\u001b[1;32m----> 4\u001b[0m H_raw \u001b[38;5;241m=\u001b[39m raw_dataset[\u001b[38;5;241m0\u001b[39m][\u001b[38;5;241m0\u001b[39m][\u001b[38;5;124m'\u001b[39m\u001b[38;5;124muser\u001b[39m\u001b[38;5;124m'\u001b[39m][\u001b[38;5;124m'\u001b[39m\u001b[38;5;124mchannel\u001b[39m\u001b[38;5;124m'\u001b[39m]\u001b[38;5;241m.\u001b[39msqueeze(\u001b[38;5;241m1\u001b[39m)   \u001b[38;5;66;03m# (num_users, BS, SC)\u001b[39;00m\n\u001b[0;32m      5\u001b[0m \u001b[38;5;28mprint\u001b[39m(\u001b[38;5;124m\"\u001b[39m\u001b[38;5;124m▶ raw H shape:\u001b[39m\u001b[38;5;124m\"\u001b[39m, H_raw\u001b[38;5;241m.\u001b[39mshape)\n\u001b[0;32m      6\u001b[0m \u001b[38;5;28mprint\u001b[39m(\u001b[38;5;124m\"\u001b[39m\u001b[38;5;124m▶ raw H real min/max:\u001b[39m\u001b[38;5;124m\"\u001b[39m, H_raw\u001b[38;5;241m.\u001b[39mreal\u001b[38;5;241m.\u001b[39mmin(), H_raw\u001b[38;5;241m.\u001b[39mreal\u001b[38;5;241m.\u001b[39mmax())\n",
      "\u001b[1;31mNameError\u001b[0m: name 'raw_dataset' is not defined"
     ]
    }
   ],
   "source": [
    "# import numpy as np\n",
    "\n",
    "# # 1) 원본 H 꺼내 보기\n",
    "# H_raw = raw_dataset[0][0]['user']['channel'].squeeze(1)   # (num_users, BS, SC)\n",
    "# print(\"▶ raw H shape:\", H_raw.shape)\n",
    "# print(\"▶ raw H real min/max:\", H_raw.real.min(), H_raw.real.max())\n",
    "# print(\"▶ raw H imag min/max:\", H_raw.imag.min(), H_raw.imag.max())\n",
    "\n",
    "# # 2) mask_valid_sc 계산 결과 확인\n",
    "# mask_valid_sc = ~np.all(H_raw == 0+0j, axis=(0,1))\n",
    "# print(\"▶ mask_valid_sc (valid SC count):\", mask_valid_sc.sum(), \"/\", H_raw.shape[2])\n",
    "# print(\"▶ mask_valid_sc sample:\", mask_valid_sc[:10])\n",
    "\n",
    "# # 3) 마스크 적용 후 H 확인\n",
    "# H_masked = H_raw[:, :, mask_valid_sc]\n",
    "# print(\"▶ masked H shape:\", H_masked.shape)\n",
    "# print(\"▶ masked H real min/max:\", H_masked.real.min(), H_masked.real.max())\n",
    "# print(\"▶ masked H imag min/max:\", H_masked.imag.min(), H_masked.imag.max())\n"
   ]
  },
  {
   "cell_type": "code",
   "execution_count": 35,
   "id": "63f48bf7",
   "metadata": {},
   "outputs": [
    {
     "name": "stdout",
     "output_type": "stream",
     "text": [
      "[[[[0.+0.j 0.+0.j 0.+0.j ... 0.+0.j 0.+0.j 0.+0.j]\n",
      "   [0.+0.j 0.+0.j 0.+0.j ... 0.+0.j 0.+0.j 0.+0.j]\n",
      "   [0.+0.j 0.+0.j 0.+0.j ... 0.+0.j 0.+0.j 0.+0.j]\n",
      "   ...\n",
      "   [0.+0.j 0.+0.j 0.+0.j ... 0.+0.j 0.+0.j 0.+0.j]\n",
      "   [0.+0.j 0.+0.j 0.+0.j ... 0.+0.j 0.+0.j 0.+0.j]\n",
      "   [0.+0.j 0.+0.j 0.+0.j ... 0.+0.j 0.+0.j 0.+0.j]]]\n",
      "\n",
      "\n",
      " [[[0.+0.j 0.+0.j 0.+0.j ... 0.+0.j 0.+0.j 0.+0.j]\n",
      "   [0.+0.j 0.+0.j 0.+0.j ... 0.+0.j 0.+0.j 0.+0.j]\n",
      "   [0.+0.j 0.+0.j 0.+0.j ... 0.+0.j 0.+0.j 0.+0.j]\n",
      "   ...\n",
      "   [0.+0.j 0.+0.j 0.+0.j ... 0.+0.j 0.+0.j 0.+0.j]\n",
      "   [0.+0.j 0.+0.j 0.+0.j ... 0.+0.j 0.+0.j 0.+0.j]\n",
      "   [0.+0.j 0.+0.j 0.+0.j ... 0.+0.j 0.+0.j 0.+0.j]]]\n",
      "\n",
      "\n",
      " [[[0.+0.j 0.+0.j 0.+0.j ... 0.+0.j 0.+0.j 0.+0.j]\n",
      "   [0.+0.j 0.+0.j 0.+0.j ... 0.+0.j 0.+0.j 0.+0.j]\n",
      "   [0.+0.j 0.+0.j 0.+0.j ... 0.+0.j 0.+0.j 0.+0.j]\n",
      "   ...\n",
      "   [0.+0.j 0.+0.j 0.+0.j ... 0.+0.j 0.+0.j 0.+0.j]\n",
      "   [0.+0.j 0.+0.j 0.+0.j ... 0.+0.j 0.+0.j 0.+0.j]\n",
      "   [0.+0.j 0.+0.j 0.+0.j ... 0.+0.j 0.+0.j 0.+0.j]]]\n",
      "\n",
      "\n",
      " ...\n",
      "\n",
      "\n",
      " [[[0.+0.j 0.+0.j 0.+0.j ... 0.+0.j 0.+0.j 0.+0.j]\n",
      "   [0.+0.j 0.+0.j 0.+0.j ... 0.+0.j 0.+0.j 0.+0.j]\n",
      "   [0.+0.j 0.+0.j 0.+0.j ... 0.+0.j 0.+0.j 0.+0.j]\n",
      "   ...\n",
      "   [0.+0.j 0.+0.j 0.+0.j ... 0.+0.j 0.+0.j 0.+0.j]\n",
      "   [0.+0.j 0.+0.j 0.+0.j ... 0.+0.j 0.+0.j 0.+0.j]\n",
      "   [0.+0.j 0.+0.j 0.+0.j ... 0.+0.j 0.+0.j 0.+0.j]]]\n",
      "\n",
      "\n",
      " [[[0.+0.j 0.+0.j 0.+0.j ... 0.+0.j 0.+0.j 0.+0.j]\n",
      "   [0.+0.j 0.+0.j 0.+0.j ... 0.+0.j 0.+0.j 0.+0.j]\n",
      "   [0.+0.j 0.+0.j 0.+0.j ... 0.+0.j 0.+0.j 0.+0.j]\n",
      "   ...\n",
      "   [0.+0.j 0.+0.j 0.+0.j ... 0.+0.j 0.+0.j 0.+0.j]\n",
      "   [0.+0.j 0.+0.j 0.+0.j ... 0.+0.j 0.+0.j 0.+0.j]\n",
      "   [0.+0.j 0.+0.j 0.+0.j ... 0.+0.j 0.+0.j 0.+0.j]]]\n",
      "\n",
      "\n",
      " [[[0.+0.j 0.+0.j 0.+0.j ... 0.+0.j 0.+0.j 0.+0.j]\n",
      "   [0.+0.j 0.+0.j 0.+0.j ... 0.+0.j 0.+0.j 0.+0.j]\n",
      "   [0.+0.j 0.+0.j 0.+0.j ... 0.+0.j 0.+0.j 0.+0.j]\n",
      "   ...\n",
      "   [0.+0.j 0.+0.j 0.+0.j ... 0.+0.j 0.+0.j 0.+0.j]\n",
      "   [0.+0.j 0.+0.j 0.+0.j ... 0.+0.j 0.+0.j 0.+0.j]\n",
      "   [0.+0.j 0.+0.j 0.+0.j ... 0.+0.j 0.+0.j 0.+0.j]]]]\n"
     ]
    }
   ],
   "source": [
    "print(dataset[0][0]['user']['channel'])"
   ]
  },
  {
   "cell_type": "code",
   "execution_count": 36,
   "id": "94309077",
   "metadata": {},
   "outputs": [],
   "source": [
    "# input 서브캐리어 별 input 만들기\n",
    "import numpy as np\n",
    "\n",
    "T = len(dataset) # scene 수\n",
    "subcarrier = len(dataset[0][0]['user']['channel'][150][0][0]) # 서브캐리어 수\n",
    "antenna = len(dataset[0][0]['user']['channel'][150][0]) # 안테나 개수\n",
    "\n",
    "seq_len =  5\n",
    "# antenna -> H_imag, H_real\n",
    "per_sc_data = np.zeros((T,subcarrier, 2*antenna), dtype=np.float32)\n",
    "for t in range(T):\n",
    "    H = dataset[t][0]['user']['channel'][150].squeeze(0)\n",
    "    for i in range(subcarrier):\n",
    "        h = H[:,i]\n",
    "        per_sc_data[t, i, :antenna] = h.real\n",
    "        per_sc_data[t, i, antenna:] = h.imag\n",
    "\n",
    "X, y = [], []\n",
    "for s in range(subcarrier):\n",
    "    for i in range(T - seq_len):\n",
    "        seq    = per_sc_data[i : i + seq_len, s, :]   # shape (seq_len, H_imag + H_real)\n",
    "        target = per_sc_data[i + seq_len,   s, :]     # shape (H_imag + H_real,)\n",
    "        \n",
    "        #결측치\n",
    "        if np.isnan(seq).any() or np.isnan(target).any():\n",
    "            continue\n",
    "        if np.isinf(seq).any() or np.isinf(target).any():\n",
    "            continue\n",
    "        \n",
    "        X.append(seq)\n",
    "        y.append(target)\n",
    "        \n",
    "X = np.stack(X, axis=0)  # (num_samples, seq_len, H_imag + H_real)\n",
    "y = np.stack(y, axis=0)  # (num_samples, H_imag + H_real)"
   ]
  },
  {
   "cell_type": "code",
   "execution_count": 37,
   "id": "6bb54e69",
   "metadata": {},
   "outputs": [
    {
     "name": "stdout",
     "output_type": "stream",
     "text": [
      "(320, 5, 64)\n",
      "(320, 64)\n"
     ]
    }
   ],
   "source": [
    "print(X.shape)\n",
    "print(y.shape)"
   ]
  },
  {
   "cell_type": "code",
   "execution_count": 38,
   "id": "8b04bbe0",
   "metadata": {},
   "outputs": [],
   "source": [
    "# # 데이터 만들기\n",
    "# # seq_len = 시퀀스를 잘라서 사용\n",
    "# # [0,1,2,3,4], [1,2,3,4,5], [2,3,4,5]\n",
    "# seq_len = 5\n",
    "# X = []\n",
    "# y = []\n",
    "\n",
    "# for i in range(len(channel_sequence) - seq_len+1):\n",
    "#     input_seq = channel_sequence[i:i+seq_len-1] # t=0~3\n",
    "#     target = channel_sequence[i+seq_len-1] # t = 4\n",
    "    \n",
    "#     X.append(input_seq)\n",
    "#     y.append(target)\n",
    "\n",
    "# # T = scene case\n",
    "# # samples = T - seq_len + 1\n",
    "# X = np.array(X) # shape: (samples, seq_len-1, 64, 64)\n",
    "# y = np.array(y) # shape: (samples, 64, 64)\n"
   ]
  },
  {
   "cell_type": "code",
   "execution_count": 39,
   "id": "0357b60e",
   "metadata": {},
   "outputs": [],
   "source": [
    "# Flatten\n",
    "# 4096 = 64 * 64\n",
    "X_flat = X.reshape(X.shape[0], X.shape[1], -1) # (320,5,64)\n",
    "y_flat = y.reshape(y.shape[0],-1) #(\\\n",
    "\n",
    "# power = np.sum(y_flat**2,axis=1)\n",
    "# mask = power > 0\n",
    "# y_flat = y_flat[mask]\n",
    "# X_flat = X_flat[mask]"
   ]
  },
  {
   "cell_type": "code",
   "execution_count": 40,
   "id": "2ba295df",
   "metadata": {},
   "outputs": [
    {
     "name": "stdout",
     "output_type": "stream",
     "text": [
      "(320, 5, 64)\n",
      "(320, 64)\n"
     ]
    }
   ],
   "source": [
    "print(X_flat.shape)\n",
    "print(y_flat.shape)"
   ]
  },
  {
   "cell_type": "code",
   "execution_count": 41,
   "id": "4d2c007c",
   "metadata": {},
   "outputs": [],
   "source": [
    "import torch\n",
    "from torch.utils.data import TensorDataset, DataLoader, random_split\n",
    "\n",
    "device = torch.device(\"cuda\" if torch.cuda.is_available() else \"cpu\")\n",
    "\n",
    "# 아래 텐서 cpu로\n",
    "X_t = torch.tensor(X_flat, dtype=torch.float32)        # (N, seq_len, element_length)\n",
    "y_t = torch.tensor(y_flat, dtype=torch.float32)        # (N,)\n",
    "masked_pos = torch.full((X_t.shape[0], 1),             # (N, 1)\n",
    "                        seq_len - 2,\n",
    "                        dtype=torch.long)\n",
    "\n",
    "#  Dataset 생성\n",
    "full_ds = TensorDataset(X_t, masked_pos, y_t)\n",
    "\n",
    "# train / val 8:2 분할\n",
    "train_size = int(len(full_ds) * 0.8)\n",
    "val_size   = len(full_ds) - train_size\n",
    "train_ds, val_ds = random_split(full_ds, [train_size, val_size])\n",
    "\n",
    "# DataLoader 정의\n",
    "batch_size = 32\n",
    "\n",
    "train_loader = DataLoader(\n",
    "    train_ds,\n",
    "    batch_size=batch_size,\n",
    "    shuffle=True,        # epoch마다 섞기\n",
    "    drop_last=False\n",
    ")\n",
    "\n",
    "val_loader = DataLoader(\n",
    "    val_ds,\n",
    "    batch_size=batch_size,\n",
    "    shuffle=False\n",
    ")\n"
   ]
  },
  {
   "cell_type": "code",
   "execution_count": 42,
   "id": "0d6f0025",
   "metadata": {},
   "outputs": [
    {
     "name": "stdout",
     "output_type": "stream",
     "text": [
      "torch.Size([320, 1])\n"
     ]
    }
   ],
   "source": [
    "print(masked_pos.shape)"
   ]
  },
  {
   "cell_type": "code",
   "execution_count": 43,
   "id": "580386d8",
   "metadata": {},
   "outputs": [
    {
     "name": "stdout",
     "output_type": "stream",
     "text": [
      "tensor([[[-3.0463e-06, -4.0873e-06, -4.8239e-06,  ...,  2.1785e-06,\n",
      "           3.3551e-06,  4.3010e-06],\n",
      "         [-3.0463e-06, -4.0873e-06, -4.8239e-06,  ...,  2.1785e-06,\n",
      "           3.3551e-06,  4.3010e-06],\n",
      "         [-3.0463e-06, -4.0873e-06, -4.8239e-06,  ...,  2.1785e-06,\n",
      "           3.3551e-06,  4.3010e-06],\n",
      "         [-3.0463e-06, -4.0873e-06, -4.8239e-06,  ...,  2.1785e-06,\n",
      "           3.3551e-06,  4.3010e-06],\n",
      "         [-3.0463e-06, -4.0873e-06, -4.8239e-06,  ...,  2.1785e-06,\n",
      "           3.3551e-06,  4.3010e-06]],\n",
      "\n",
      "        [[-3.0463e-06, -4.0873e-06, -4.8239e-06,  ...,  2.1785e-06,\n",
      "           3.3551e-06,  4.3010e-06],\n",
      "         [-3.0463e-06, -4.0873e-06, -4.8239e-06,  ...,  2.1785e-06,\n",
      "           3.3551e-06,  4.3010e-06],\n",
      "         [-3.0463e-06, -4.0873e-06, -4.8239e-06,  ...,  2.1785e-06,\n",
      "           3.3551e-06,  4.3010e-06],\n",
      "         [-3.0463e-06, -4.0873e-06, -4.8239e-06,  ...,  2.1785e-06,\n",
      "           3.3551e-06,  4.3010e-06],\n",
      "         [-4.3134e-06, -5.5661e-06, -6.4670e-06,  ...,  4.4658e-07,\n",
      "           1.5538e-06,  2.4882e-06]],\n",
      "\n",
      "        [[-3.0463e-06, -4.0873e-06, -4.8239e-06,  ...,  2.1785e-06,\n",
      "           3.3551e-06,  4.3010e-06],\n",
      "         [-3.0463e-06, -4.0873e-06, -4.8239e-06,  ...,  2.1785e-06,\n",
      "           3.3551e-06,  4.3010e-06],\n",
      "         [-3.0463e-06, -4.0873e-06, -4.8239e-06,  ...,  2.1785e-06,\n",
      "           3.3551e-06,  4.3010e-06],\n",
      "         [-4.3134e-06, -5.5661e-06, -6.4670e-06,  ...,  4.4658e-07,\n",
      "           1.5538e-06,  2.4882e-06],\n",
      "         [-4.5094e-06, -5.9076e-06, -6.9497e-06,  ...,  1.7492e-06,\n",
      "           2.8151e-06,  3.6925e-06]],\n",
      "\n",
      "        ...,\n",
      "\n",
      "        [[ 2.7380e-07,  2.2648e-06,  4.1014e-06,  ...,  1.9156e-06,\n",
      "           1.0849e-06,  2.8211e-07],\n",
      "         [ 2.7380e-07,  2.2648e-06,  4.1014e-06,  ...,  1.9156e-06,\n",
      "           1.0849e-06,  2.8211e-07],\n",
      "         [ 2.7380e-07,  2.2648e-06,  4.1014e-06,  ...,  1.9156e-06,\n",
      "           1.0849e-06,  2.8211e-07],\n",
      "         [ 1.1564e-06,  2.8499e-06,  4.3702e-06,  ...,  1.9411e-06,\n",
      "           7.8586e-07, -3.3187e-07],\n",
      "         [ 1.7556e-06,  3.3129e-06,  4.6913e-06,  ...,  3.1805e-06,\n",
      "           2.0732e-06,  9.8755e-07]],\n",
      "\n",
      "        [[ 2.7380e-07,  2.2648e-06,  4.1014e-06,  ...,  1.9156e-06,\n",
      "           1.0849e-06,  2.8211e-07],\n",
      "         [ 2.7380e-07,  2.2648e-06,  4.1014e-06,  ...,  1.9156e-06,\n",
      "           1.0849e-06,  2.8211e-07],\n",
      "         [ 1.1564e-06,  2.8499e-06,  4.3702e-06,  ...,  1.9411e-06,\n",
      "           7.8586e-07, -3.3187e-07],\n",
      "         [ 1.7556e-06,  3.3129e-06,  4.6913e-06,  ...,  3.1805e-06,\n",
      "           2.0732e-06,  9.8755e-07],\n",
      "         [ 2.5077e-07,  1.8434e-06,  3.2749e-06,  ...,  2.8759e-06,\n",
      "           1.6118e-06,  3.7527e-07]],\n",
      "\n",
      "        [[ 2.7380e-07,  2.2648e-06,  4.1014e-06,  ...,  1.9156e-06,\n",
      "           1.0849e-06,  2.8211e-07],\n",
      "         [ 1.1564e-06,  2.8499e-06,  4.3702e-06,  ...,  1.9411e-06,\n",
      "           7.8586e-07, -3.3187e-07],\n",
      "         [ 1.7556e-06,  3.3129e-06,  4.6913e-06,  ...,  3.1805e-06,\n",
      "           2.0732e-06,  9.8755e-07],\n",
      "         [ 2.5077e-07,  1.8434e-06,  3.2749e-06,  ...,  2.8759e-06,\n",
      "           1.6118e-06,  3.7527e-07],\n",
      "         [-8.2168e-07, -7.0534e-07, -5.8073e-07,  ..., -1.0313e-06,\n",
      "          -1.1141e-06, -1.1839e-06]]])\n"
     ]
    }
   ],
   "source": [
    "print(X_t)"
   ]
  },
  {
   "cell_type": "code",
   "execution_count": 44,
   "id": "9f988d55",
   "metadata": {},
   "outputs": [
    {
     "name": "stdout",
     "output_type": "stream",
     "text": [
      "tensor(-4.0873e-06)\n"
     ]
    }
   ],
   "source": [
    "print(X_t[3][0][1])"
   ]
  },
  {
   "cell_type": "code",
   "execution_count": 45,
   "id": "00c61dec",
   "metadata": {},
   "outputs": [
    {
     "name": "stdout",
     "output_type": "stream",
     "text": [
      "torch.Size([320, 5, 64])\n",
      "torch.Size([320, 64])\n"
     ]
    }
   ],
   "source": [
    "print(X_t.shape)\n",
    "print(y_t.shape)\n",
    "# mini_batch, sequence_len, H_real+H_imag"
   ]
  },
  {
   "cell_type": "markdown",
   "id": "4cf6bac8",
   "metadata": {},
   "source": [
    "# 아래 코드 구조\n",
    "┌──────────────────────────────────────────────────────────────┐\n",
    "│ input_ids  (B, seq_len, element_length)  ─┐                 │\n",
    "│ masked_pos (B, num_mask)                  ├─>  LWM backbone │\n",
    "│                                           │    (12-층 트랜스포머)  \n",
    "└────────────────────────────────────────────┘         │\n",
    "            logits_lm  (B, num_mask, element_length)  │   enc_output (B, seq_len, d_model)\n",
    "                                                      ▼\n",
    "                        ┌─[풀링]───────────────┐      ←── feat (B, d_model)\n",
    "                        │ 첫 토큰(0번) 선택    │\n",
    "                        │   or 평균/최대 풀링 │\n",
    "                        └──────────────────────┘\n",
    "                                      ▼\n",
    "                       FC 헤드  (d_model → hidden_dim → out_dim)\n",
    "                                      ▼\n",
    "                                out (B, out_dim)\n",
    "\n",
    "# 시각적비유\n",
    "\n",
    "[패치 프로젝터]──▶[Transformer ×12]──▶[LayerNorm]──┐\n",
    "                                                  ├─▶ 64-차 벡터 (CLS 또는 풀링) ─▶ MLP ─▶ out                                                \n",
    "[Positional Embedding]─────────────────────────────┘\n"
   ]
  },
  {
   "cell_type": "code",
   "execution_count": 46,
   "id": "7d882a4d",
   "metadata": {},
   "outputs": [],
   "source": [
    "\"\"\"\n",
    "LWMWithHead: 사전학습된 LWM(Transformer encoder)을 ‘백본(backbone)’으로 사용하고,\n",
    "그 뒤에 새로운 완전연결(FC) 헤드(head)를 붙여 다운스트림 작업(회귀·분류 등)에\n",
    "사용할 수 있도록 만든 래퍼(wrapper) 클래스입니다.\n",
    "\"\"\"\n",
    "\n",
    "import torch\n",
    "import torch.nn as nn\n",
    "from lwm_model import lwm   # 기존 LWM 모델 클래스 (import 경로는 프로젝트 구조에 맞게 조정)\n",
    "\n",
    "class LWMWithHead(nn.Module):\n",
    "    \"\"\"\n",
    "    Args\n",
    "    ----\n",
    "    element_length : int\n",
    "        LWM 입력 패치의 길이. 예) 64*64 = 4096 (H_real + H_imag)\n",
    "    d_model        : int\n",
    "        Transformer 모델 차원(=LWM hidden size).\n",
    "    max_len        : int\n",
    "        포지셔널 임베딩 최대 길이(시퀀스 길이).\n",
    "    n_layers       : int\n",
    "        Transformer 인코더 층 수.\n",
    "    hidden_dim     : int\n",
    "        새 FC 헤드의 중간 차원.\n",
    "    out_dim        : int\n",
    "        최종 출력 차원. 1 → 회귀/이진분류, k → k-클래스 분류.\n",
    "    freeze_backbone: bool\n",
    "        True면 백본을 동결(freeze)하여 헤드만 학습.\n",
    "    ckpt_path      : str | None\n",
    "        사전학습 가중치(.pth) 경로. None이면 랜덤 초기화.\n",
    "    device         : str\n",
    "        'cuda' / 'cpu' 등 모델을 올릴 장치.\n",
    "    \"\"\"\n",
    "\n",
    "    def __init__(\n",
    "        self,\n",
    "        element_length: int,\n",
    "        d_model: int = 64,\n",
    "        max_len: int = 129,\n",
    "        n_layers: int = 12,\n",
    "        hidden_dim: int = 256,\n",
    "        out_dim: int = 64, \n",
    "        freeze_backbone: bool = False,\n",
    "        ckpt_path: str | None = None,\n",
    "        device: str = \"cuda\",\n",
    "    ):\n",
    "        super().__init__()\n",
    "\n",
    "        # ────────────────────────────\n",
    "        # 1) 백본(backbone) 초기화\n",
    "        # ────────────────────────────\n",
    "        if ckpt_path is None:\n",
    "            # 가중치 없이 새로 생성\n",
    "            self.backbone = lwm(\n",
    "                element_length=element_length,\n",
    "                d_model=d_model,\n",
    "                max_len=max_len,\n",
    "                n_layers=n_layers\n",
    "            ).to(device)\n",
    "        else:\n",
    "            # 사전학습 가중치 로드\n",
    "            self.backbone = lwm.from_pretrained(\n",
    "                ckpt_name=ckpt_path,\n",
    "                device=device\n",
    "            )\n",
    "\n",
    "        # 백본 동결(선택)\n",
    "        if freeze_backbone:\n",
    "            for p in self.backbone.parameters():\n",
    "                p.requires_grad = False\n",
    "\n",
    "        # ────────────────────────────\n",
    "        # 2) 헤드(head) 정의\n",
    "        # ────────────────────────────\n",
    "        self.head = nn.Sequential(\n",
    "            nn.Linear(d_model, 64),  # 첫 FC\n",
    "            nn.ReLU(),                       # 활성화\n",
    "            nn.Linear(64, out_dim)   # 최종 FC\n",
    "        )\n",
    "\n",
    "    # ────────────────────────────\n",
    "    # forward\n",
    "    # ────────────────────────────\n",
    "    def forward(self, input_ids, masked_pos):\n",
    "        \"\"\"\n",
    "        Parameters\n",
    "        ----------\n",
    "        input_ids : Tensor  (B, seq_len, element_length)\n",
    "            LWM 입력 시퀀스 (패치/토큰 단위 실수·복소수 채널값 등).\n",
    "        masked_pos : Tensor  (B, num_mask)\n",
    "            LWM의 마스크드 채널 모델링용 인덱스 (백본 규격 유지용).\n",
    "\n",
    "        Returns\n",
    "        -------\n",
    "        out : Tensor  (B, out_dim)\n",
    "            헤드에서 계산된 다운스트림 작업용 로짓/예측값.\n",
    "        \"\"\"\n",
    "\n",
    "        # 기존 LWM forward:\n",
    "        #   logits_lm : (B, num_mask, element_length)  ← 사용 안 함\n",
    "        #   enc_output: (B, seq_len, d_model)\n",
    "        _, enc_output = self.backbone(input_ids, masked_pos)\n",
    "\n",
    "        # 특징 추출(feat)\n",
    "        # ① 첫 토큰 벡터 사용 (CLS 개념) ─────────────\n",
    "        feat = enc_output[:, 0, :]           # (B, d_model)\n",
    "\n",
    "        # ② 평균 풀링 예시 (필요 시 주석 해제) ─────\n",
    "        # feat = enc_output.mean(dim=1)       # (B, d_model)\n",
    "\n",
    "        # ③ Max 풀링 예시 (필요 시 주석 해제) ─────\n",
    "        # feat, _ = enc_output.max(dim=1)     # (B, d_model)\n",
    "\n",
    "        # 헤드 통과 → 최종 출력\n",
    "        out = self.head(feat)                # (B, out_dim)\n",
    "        return out\n"
   ]
  },
  {
   "cell_type": "code",
   "execution_count": 47,
   "id": "b37383cc",
   "metadata": {},
   "outputs": [
    {
     "name": "stdout",
     "output_type": "stream",
     "text": [
      "Using device: cuda\n"
     ]
    }
   ],
   "source": [
    "import torch\n",
    "import torch.nn as nn\n",
    "from torch.optim import Adam\n",
    "\n",
    "# 디바이스 설정(GPU/CPU)\n",
    "device = torch.device(\"cuda\" if torch.cuda.is_available() else \"cpu\")\n",
    "print(f\"Using device: {device}\")\n",
    "\n",
    "\n",
    "# 모델 초기화\n",
    "_, seq_len, element_length = X_flat.shape\n",
    "\n",
    "\n",
    "model = LWMWithHead(\n",
    "    element_length=element_length,  # 예: 64\n",
    "    d_model=64,\n",
    "    max_len=seq_len,                # 예: 5\n",
    "    n_layers=12,\n",
    "    hidden_dim=256,\n",
    "    out_dim=element_length,         # 예: 64\n",
    "    freeze_backbone=False,  \n",
    "    ckpt_path=None,  \n",
    "    device=device\n",
    ").to(device)\n",
    "\n",
    "# 손실함수\n",
    "criterion = nn.MSELoss()\n",
    "\n",
    "# 옵티마이저 설정\n",
    "optimizer = Adam(model.parameters(), lr=1e-4)"
   ]
  },
  {
   "cell_type": "code",
   "execution_count": 48,
   "id": "625b128d",
   "metadata": {
    "scrolled": true
   },
   "outputs": [
    {
     "name": "stdout",
     "output_type": "stream",
     "text": [
      "Epoch 1/10, Loss: 0.012444\n",
      "Epoch 2/10, Loss: 0.005772\n",
      "Epoch 3/10, Loss: 0.004670\n",
      "Epoch 4/10, Loss: 0.004258\n",
      "Epoch 5/10, Loss: 0.003746\n",
      "Epoch 6/10, Loss: 0.003725\n",
      "Epoch 7/10, Loss: 0.003595\n",
      "Epoch 8/10, Loss: 0.003211\n",
      "Epoch 9/10, Loss: 0.002898\n",
      "Epoch 10/10, Loss: 0.002820\n",
      "걸린시간: 4.36\n"
     ]
    }
   ],
   "source": [
    "# 모델 학습\n",
    "import time\n",
    "start = time.time()\n",
    "\n",
    "num_epochs = 10\n",
    "for epoch in range(num_epochs):\n",
    "    model.train()\n",
    "    for input_ids, masked_pos, target in train_loader:\n",
    "        input_ids, masked_pos, target = [x.to(device) for x in (input_ids, masked_pos, target)]\n",
    "        \n",
    "        pred = model(input_ids, masked_pos).squeeze(-1)  # (B,)로 맞춤\n",
    "        loss = criterion(pred, target)\n",
    "\n",
    "        optimizer.zero_grad()\n",
    "        loss.backward()\n",
    "        optimizer.step()\n",
    "    \n",
    "    print(f\"Epoch {epoch+1}/{num_epochs}, Loss: {loss.item():.6f}\")\n",
    "end = time.time()\n",
    "\n",
    "print(f\"걸린시간: {round(end-start,2)}\")"
   ]
  },
  {
   "cell_type": "code",
   "execution_count": 49,
   "id": "e0d51874",
   "metadata": {},
   "outputs": [
    {
     "name": "stdout",
     "output_type": "stream",
     "text": [
      "torch.Size([32, 5, 64])\n",
      "torch.Size([32, 1])\n",
      "torch.Size([32, 64])\n",
      "torch.Size([32, 64])\n"
     ]
    }
   ],
   "source": [
    "print(input_ids.shape)\n",
    "print(masked_pos.shape)\n",
    "print(target.shape)\n",
    "print(pred.shape)"
   ]
  },
  {
   "cell_type": "code",
   "execution_count": 50,
   "id": "3598cd58",
   "metadata": {},
   "outputs": [],
   "source": [
    "# 모델 평가 방법\n",
    "import torch.nn.functional as F\n",
    "\n",
    "def rmse(pred: torch.Tensor, target: torch.Tensor) -> torch.Tensor:\n",
    "    \"\"\"\n",
    "    RMSE = Root MSE\n",
    "    RMSE = {1/n*sum((y^-y)**2)}**1/2\n",
    "    \"\"\"\n",
    "    return torch.sqrt(F.mse_loss(pred, target, reduction=\"mean\"))   # √MSE\n",
    "\n",
    "def nmse(pred: torch.Tensor, target: torch.Tensor) -> torch.Tensor:\n",
    "    \"\"\"\n",
    "    Normalized MSE  =  E[‖ŷ − y‖²] / E[‖y‖²]\n",
    "    returns: 스칼라 (배치 평균)\n",
    "    \"\"\"\n",
    "    # (B, …) → (B,)  : 각 샘플별 제곱합\n",
    "    mse_per_sample   = ((pred - target)**2).view(pred.size(0), -1).sum(dim=1)\n",
    "    power_per_sample = (target**2).view(target.size(0), -1).sum(dim=1)\n",
    "    return (mse_per_sample / power_per_sample).mean()\n"
   ]
  },
  {
   "cell_type": "code",
   "execution_count": 51,
   "id": "97deedce",
   "metadata": {},
   "outputs": [],
   "source": [
    "# 모델 평가 함수\n",
    "import torch\n",
    "import torch.nn.functional as F\n",
    "\n",
    "# ─────────────────────────────────────────\n",
    "# 1. 배치 단위 RMSE, NMSE 함수\n",
    "# ─────────────────────────────────────────\n",
    "def rmse(pred: torch.Tensor, target: torch.Tensor) -> torch.Tensor:\n",
    "    \"\"\"\n",
    "    Root-Mean-Squared Error\n",
    "    returns: 스칼라 (배치 평균)\n",
    "    \"\"\"\n",
    "    return torch.sqrt(F.mse_loss(pred, target, reduction=\"mean\"))   # √MSE\n",
    "\n",
    "def nmse(pred: torch.Tensor, target: torch.Tensor) -> torch.Tensor:\n",
    "    \"\"\"\n",
    "    Normalized MSE  =  E[‖ŷ − y‖²] / E[‖y‖²]\n",
    "      · 채널 예측 분야에서 흔히 쓰는 지표\n",
    "    returns: 스칼라 (배치 평균)\n",
    "    \"\"\"\n",
    "    # (B, …) → (B,)  : 각 샘플별 제곱합\n",
    "    mse_per_sample   = ((pred - target)**2).view(pred.size(0), -1).sum(dim=1)\n",
    "    power_per_sample = (target**2).view(target.size(0), -1).sum(dim=1)\n",
    "    return (mse_per_sample / power_per_sample).mean()\n",
    "\n",
    "\n",
    "# ─────────────────────────────────────────\n",
    "# 2. 검증 루프 예시\n",
    "# ─────────────────────────────────────────\n",
    "def evaluate(model, loader, device=\"cuda\"):\n",
    "    model.eval()\n",
    "    total_rmse, total_nmse = 0.0, 0.0\n",
    "\n",
    "    with torch.no_grad():\n",
    "        for input_ids, masked_pos, target in loader:\n",
    "            input_ids  = input_ids.to(device)\n",
    "            masked_pos = masked_pos.to(device)\n",
    "            target     = target.to(device)\n",
    "\n",
    "            pred = model(input_ids, masked_pos)\n",
    "\n",
    "            total_rmse += rmse(pred, target).item() * input_ids.size(0)\n",
    "            total_nmse += nmse(pred, target).item() * input_ids.size(0)\n",
    "\n",
    "    N = len(loader.dataset)\n",
    "    return {\n",
    "        \"RMSE\": total_rmse / N,\n",
    "        \"NMSE\": total_nmse / N\n",
    "    }\n"
   ]
  },
  {
   "cell_type": "code",
   "execution_count": 52,
   "id": "1670cdec",
   "metadata": {},
   "outputs": [
    {
     "name": "stdout",
     "output_type": "stream",
     "text": [
      "[Epoch 01]  val_RMSE = 0.0436   val_NMSE = 1.1149e+09   val_NMSE(dB) = 90.47 dB\n",
      "[Epoch 02]  val_RMSE = 0.0424   val_NMSE = 1.0567e+09   val_NMSE(dB) = 90.24 dB\n",
      "[Epoch 03]  val_RMSE = 0.0401   val_NMSE = 9.4228e+08   val_NMSE(dB) = 89.74 dB\n",
      "[Epoch 04]  val_RMSE = 0.0378   val_NMSE = 8.3702e+08   val_NMSE(dB) = 89.23 dB\n",
      "[Epoch 05]  val_RMSE = 0.0360   val_NMSE = 7.5929e+08   val_NMSE(dB) = 88.80 dB\n",
      "[Epoch 06]  val_RMSE = 0.0342   val_NMSE = 6.8633e+08   val_NMSE(dB) = 88.37 dB\n",
      "[Epoch 07]  val_RMSE = 0.0323   val_NMSE = 6.1342e+08   val_NMSE(dB) = 87.88 dB\n",
      "[Epoch 08]  val_RMSE = 0.0313   val_NMSE = 5.7397e+08   val_NMSE(dB) = 87.59 dB\n",
      "[Epoch 09]  val_RMSE = 0.0297   val_NMSE = 5.1710e+08   val_NMSE(dB) = 87.14 dB\n",
      "[Epoch 10]  val_RMSE = 0.0276   val_NMSE = 4.4642e+08   val_NMSE(dB) = 86.50 dB\n",
      "[Epoch 11]  val_RMSE = 0.0265   val_NMSE = 4.1266e+08   val_NMSE(dB) = 86.16 dB\n",
      "[Epoch 12]  val_RMSE = 0.0250   val_NMSE = 3.6636e+08   val_NMSE(dB) = 85.64 dB\n",
      "[Epoch 13]  val_RMSE = 0.0238   val_NMSE = 3.3336e+08   val_NMSE(dB) = 85.23 dB\n",
      "[Epoch 14]  val_RMSE = 0.0221   val_NMSE = 2.8554e+08   val_NMSE(dB) = 84.56 dB\n",
      "[Epoch 15]  val_RMSE = 0.0218   val_NMSE = 2.7976e+08   val_NMSE(dB) = 84.47 dB\n",
      "[Epoch 16]  val_RMSE = 0.0197   val_NMSE = 2.2822e+08   val_NMSE(dB) = 83.58 dB\n",
      "[Epoch 17]  val_RMSE = 0.0189   val_NMSE = 2.1041e+08   val_NMSE(dB) = 83.23 dB\n",
      "[Epoch 18]  val_RMSE = 0.0182   val_NMSE = 1.9514e+08   val_NMSE(dB) = 82.90 dB\n",
      "[Epoch 19]  val_RMSE = 0.0173   val_NMSE = 1.7605e+08   val_NMSE(dB) = 82.46 dB\n",
      "[Epoch 20]  val_RMSE = 0.0159   val_NMSE = 1.4854e+08   val_NMSE(dB) = 81.72 dB\n",
      "[Epoch 21]  val_RMSE = 0.0150   val_NMSE = 1.3238e+08   val_NMSE(dB) = 81.22 dB\n",
      "[Epoch 22]  val_RMSE = 0.0139   val_NMSE = 1.1387e+08   val_NMSE(dB) = 80.56 dB\n",
      "[Epoch 23]  val_RMSE = 0.0133   val_NMSE = 1.0310e+08   val_NMSE(dB) = 80.13 dB\n",
      "[Epoch 24]  val_RMSE = 0.0125   val_NMSE = 9.2142e+07   val_NMSE(dB) = 79.64 dB\n",
      "[Epoch 25]  val_RMSE = 0.0122   val_NMSE = 8.6911e+07   val_NMSE(dB) = 79.39 dB\n",
      "[Epoch 26]  val_RMSE = 0.0110   val_NMSE = 7.0648e+07   val_NMSE(dB) = 78.49 dB\n",
      "[Epoch 27]  val_RMSE = 0.0103   val_NMSE = 6.2769e+07   val_NMSE(dB) = 77.98 dB\n",
      "[Epoch 28]  val_RMSE = 0.0089   val_NMSE = 4.6865e+07   val_NMSE(dB) = 76.71 dB\n",
      "[Epoch 29]  val_RMSE = 0.0088   val_NMSE = 4.5210e+07   val_NMSE(dB) = 76.55 dB\n",
      "[Epoch 30]  val_RMSE = 0.0083   val_NMSE = 4.0306e+07   val_NMSE(dB) = 76.05 dB\n"
     ]
    }
   ],
   "source": [
    "num_epochs = 30\n",
    "patience_counter = 0\n",
    "\n",
    "for epoch in range(1, num_epochs + 1):\n",
    "    # ──────────── ① 학습 ────────────\n",
    "    model.train()\n",
    "    for input_ids, masked_pos, target in train_loader:\n",
    "        input_ids  = input_ids.to(device)\n",
    "        masked_pos = masked_pos.to(device)\n",
    "        target     = target.to(device)\n",
    "\n",
    "        pred = model(input_ids, masked_pos)\n",
    "        loss = criterion(pred, target)\n",
    "\n",
    "        optimizer.zero_grad()\n",
    "        loss.backward()\n",
    "        optimizer.step()\n",
    "\n",
    "    # ──────────── ② 검증 ────────────\n",
    "    metrics = evaluate(model, val_loader, device)\n",
    "    rmse_val, nmse_val = metrics[\"RMSE\"], metrics[\"NMSE\"]\n",
    "\n",
    "    # ──────────── ③ 로그 출력 ────────────\n",
    "    print(f\"[Epoch {epoch:02d}]  \"\n",
    "          f\"val_RMSE = {rmse_val:.4f}   \"\n",
    "          f\"val_NMSE = {nmse_val:.4e}   \"\n",
    "          f\"val_NMSE(dB) = {10*torch.log10(torch.tensor(nmse_val)):.2f} dB\")\n"
   ]
  },
  {
   "cell_type": "code",
   "execution_count": null,
   "id": "5e7b169d",
   "metadata": {},
   "outputs": [],
   "source": []
  },
  {
   "cell_type": "code",
   "execution_count": null,
   "id": "f6932b03",
   "metadata": {},
   "outputs": [],
   "source": []
  },
  {
   "cell_type": "code",
   "execution_count": null,
   "id": "b5a9fbc8",
   "metadata": {},
   "outputs": [],
   "source": []
  }
 ],
 "metadata": {
  "kernelspec": {
   "display_name": "Python 3 (ipykernel)",
   "language": "python",
   "name": "python3"
  },
  "language_info": {
   "codemirror_mode": {
    "name": "ipython",
    "version": 3
   },
   "file_extension": ".py",
   "mimetype": "text/x-python",
   "name": "python",
   "nbconvert_exporter": "python",
   "pygments_lexer": "ipython3",
   "version": "3.11.3"
  }
 },
 "nbformat": 4,
 "nbformat_minor": 5
}
