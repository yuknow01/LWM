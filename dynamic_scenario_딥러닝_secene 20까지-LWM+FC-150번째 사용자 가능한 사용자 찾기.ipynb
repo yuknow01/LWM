{
 "cells": [
  {
   "cell_type": "code",
   "execution_count": 1,
   "id": "0ec90d17",
   "metadata": {},
   "outputs": [],
   "source": [
    "import torch\n",
    "import torch.nn as nn\n",
    "import torch.optim as optim\n",
    "import torchvision\n",
    "import torchvision.transforms as transforms\n",
    "from torch.utils.data import DataLoader"
   ]
  },
  {
   "cell_type": "code",
   "execution_count": 2,
   "id": "47baa533",
   "metadata": {},
   "outputs": [
    {
     "name": "stdout",
     "output_type": "stream",
     "text": [
      "cuda\n"
     ]
    }
   ],
   "source": [
    "# GPU 설정\n",
    "device = torch.device(\"cuda\" if torch.cuda.is_available() else \"cpu\")\n",
    "print(device)"
   ]
  },
  {
   "cell_type": "code",
   "execution_count": 3,
   "id": "23623e8a",
   "metadata": {},
   "outputs": [
    {
     "name": "stdout",
     "output_type": "stream",
     "text": [
      "Requirement already satisfied: DeepMIMOv3 in c:\\users\\dlghd\\anaconda3\\lib\\site-packages (0.2.8)\n",
      "Requirement already satisfied: umap-learn in c:\\users\\dlghd\\anaconda3\\lib\\site-packages (0.5.7)\n",
      "Requirement already satisfied: numpy in c:\\users\\dlghd\\anaconda3\\lib\\site-packages (from DeepMIMOv3) (1.24.3)\n",
      "Requirement already satisfied: scipy in c:\\users\\dlghd\\anaconda3\\lib\\site-packages (from DeepMIMOv3) (1.10.1)\n",
      "Requirement already satisfied: tqdm in c:\\users\\dlghd\\anaconda3\\lib\\site-packages (from DeepMIMOv3) (4.65.0)\n",
      "Requirement already satisfied: matplotlib in c:\\users\\dlghd\\anaconda3\\lib\\site-packages (from DeepMIMOv3) (3.7.1)\n",
      "Requirement already satisfied: scikit-learn>=0.22 in c:\\users\\dlghd\\anaconda3\\lib\\site-packages (from umap-learn) (1.2.2)\n",
      "Requirement already satisfied: numba>=0.51.2 in c:\\users\\dlghd\\anaconda3\\lib\\site-packages (from umap-learn) (0.57.0)\n",
      "Requirement already satisfied: pynndescent>=0.5 in c:\\users\\dlghd\\anaconda3\\lib\\site-packages (from umap-learn) (0.5.13)\n",
      "Requirement already satisfied: llvmlite<0.41,>=0.40.0dev0 in c:\\users\\dlghd\\anaconda3\\lib\\site-packages (from numba>=0.51.2->umap-learn) (0.40.0)\n",
      "Requirement already satisfied: joblib>=0.11 in c:\\users\\dlghd\\anaconda3\\lib\\site-packages (from pynndescent>=0.5->umap-learn) (1.2.0)\n",
      "Requirement already satisfied: threadpoolctl>=2.0.0 in c:\\users\\dlghd\\anaconda3\\lib\\site-packages (from scikit-learn>=0.22->umap-learn) (2.2.0)\n",
      "Requirement already satisfied: contourpy>=1.0.1 in c:\\users\\dlghd\\anaconda3\\lib\\site-packages (from matplotlib->DeepMIMOv3) (1.0.5)\n",
      "Requirement already satisfied: cycler>=0.10 in c:\\users\\dlghd\\anaconda3\\lib\\site-packages (from matplotlib->DeepMIMOv3) (0.11.0)\n",
      "Requirement already satisfied: fonttools>=4.22.0 in c:\\users\\dlghd\\anaconda3\\lib\\site-packages (from matplotlib->DeepMIMOv3) (4.25.0)\n",
      "Requirement already satisfied: kiwisolver>=1.0.1 in c:\\users\\dlghd\\anaconda3\\lib\\site-packages (from matplotlib->DeepMIMOv3) (1.4.4)\n",
      "Requirement already satisfied: packaging>=20.0 in c:\\users\\dlghd\\anaconda3\\lib\\site-packages (from matplotlib->DeepMIMOv3) (23.0)\n",
      "Requirement already satisfied: pillow>=6.2.0 in c:\\users\\dlghd\\anaconda3\\lib\\site-packages (from matplotlib->DeepMIMOv3) (9.4.0)\n",
      "Requirement already satisfied: pyparsing>=2.3.1 in c:\\users\\dlghd\\anaconda3\\lib\\site-packages (from matplotlib->DeepMIMOv3) (3.0.9)\n",
      "Requirement already satisfied: python-dateutil>=2.7 in c:\\users\\dlghd\\anaconda3\\lib\\site-packages (from matplotlib->DeepMIMOv3) (2.8.2)\n",
      "Requirement already satisfied: colorama in c:\\users\\dlghd\\anaconda3\\lib\\site-packages (from tqdm->DeepMIMOv3) (0.4.6)\n",
      "Requirement already satisfied: six>=1.5 in c:\\users\\dlghd\\anaconda3\\lib\\site-packages (from python-dateutil>=2.7->matplotlib->DeepMIMOv3) (1.16.0)\n",
      "Note: you may need to restart the kernel to use updated packages.\n"
     ]
    }
   ],
   "source": [
    "pip install DeepMIMOv3 umap-learn"
   ]
  },
  {
   "cell_type": "code",
   "execution_count": 4,
   "id": "14b3564f",
   "metadata": {},
   "outputs": [],
   "source": [
    "#LWM을 하기위한 라이브러리 가져오기\n",
    "import DeepMIMOv3\n",
    "import numpy as np\n",
    "from pprint import pprint\n",
    "import matplotlib.pyplot as plt\n",
    "\n",
    "plt . rcParams [ 'figure.figsize' ]  =  [ 12 ,  8 ]  # 기본 플롯 크기 설정"
   ]
  },
  {
   "cell_type": "code",
   "execution_count": 5,
   "id": "ce5ac681",
   "metadata": {},
   "outputs": [
    {
     "name": "stdout",
     "output_type": "stream",
     "text": [
      "{'OFDM': {'RX_filter': 0,\n",
      "          'bandwidth': 0.05,\n",
      "          'selected_subcarriers': array([0]),\n",
      "          'subcarriers': 512},\n",
      " 'OFDM_channels': 1,\n",
      " 'active_BS': array([1]),\n",
      " 'bs_antenna': {'FoV': array([360, 180]),\n",
      "                'radiation_pattern': 'isotropic',\n",
      "                'rotation': array([0, 0, 0]),\n",
      "                'shape': array([8, 4]),\n",
      "                'spacing': 0.5},\n",
      " 'dataset_folder': './Raytracing_scenarios',\n",
      " 'dynamic_scenario_scenes': array([1]),\n",
      " 'enable_BS2BS': 1,\n",
      " 'enable_doppler': 0,\n",
      " 'enable_dual_polar': 0,\n",
      " 'num_paths': 5,\n",
      " 'scenario': 'O1_60',\n",
      " 'ue_antenna': {'FoV': array([360, 180]),\n",
      "                'radiation_pattern': 'isotropic',\n",
      "                'rotation': array([0, 0, 0]),\n",
      "                'shape': array([4, 2]),\n",
      "                'spacing': 0.5},\n",
      " 'user_rows': array([1]),\n",
      " 'user_subsampling': 1}\n"
     ]
    }
   ],
   "source": [
    "## Load and print the default parameters\n",
    "# bandwith: 0.05GHz(50MHz 대역폭 사용)\n",
    "\n",
    "parameters = DeepMIMOv3.default_params()\n",
    "pprint(parameters)"
   ]
  },
  {
   "cell_type": "code",
   "execution_count": 6,
   "id": "1f0642c1",
   "metadata": {},
   "outputs": [],
   "source": [
    "## Change parameters for the setup\n",
    "# Scenario O1_60 extracted at the dataset_folder\n",
    "#LWM 동적 시나리오 불러오기\n",
    "#자신의 LWM 파일 위치 경로 작성\n",
    "# parameters['dataset_folder'] = r'/content/drive/MyDrive/Colab Notebooks/LWM'\n",
    "parameters['dataset_folder'] = r'C:\\Users\\dlghd\\졸업프로젝트\\LWM'\n",
    "\n",
    "# scnario = 02_dyn_3p5 <- 다운받은 파일(동적시나리오)\n",
    "parameters['scenario'] = 'O2_dyn_3p5'\n",
    "parameters['dynamic_scenario_scenes'] = np.arange(10) #scene 0~9\n",
    "\n",
    "# 각 사용자-기지국 채널에 대해 최대 10개 멀티패스 경로 사용\n",
    "parameters['num_paths'] = 10\n",
    "\n",
    "# User rows 1-100\n",
    "parameters['user_rows'] = np.arange(100)\n",
    "\n",
    "# Activate only the first basestation\n",
    "parameters['active_BS'] = np.array([1])\n",
    "\n",
    "parameters['activate_OFDM'] = 1\n",
    "\n",
    "parameters['OFDM']['bandwidth'] = 0.05 # 50 MHz\n",
    "parameters['OFDM']['subcarriers'] = 512 # OFDM with 512 subcarriers\n",
    "parameters['OFDM']['selected_subcarriers'] = np.arange(0, 64, 1)\n",
    "#parameters['OFDM']['subcarriers_limit'] = 64 # Keep only first 64 subcarriers\n",
    "\n",
    "parameters['ue_antenna']['shape'] = np.array([1, 1]) # Single antenna\n",
    "parameters['bs_antenna']['shape'] = np.array([1, 32]) # ULA of 32 elements\n",
    "#parameters['bs_antenna']['rotation'] = np.array([0, 30, 90]) # ULA of 32 elements\n",
    "#parameters['ue_antenna']['rotation'] = np.array([[0, 30], [30, 60], [60, 90]]) # ULA of 32 elements\n",
    "#parameters['ue_antenna']['radiation_pattern'] = 'isotropic'\n",
    "#parameters['bs_antenna']['radiation_pattern'] = 'halfwave-dipole'"
   ]
  },
  {
   "cell_type": "code",
   "execution_count": 7,
   "id": "30aa4ae2",
   "metadata": {},
   "outputs": [
    {
     "name": "stdout",
     "output_type": "stream",
     "text": [
      "{'dataset_folder': 'C:\\\\Users\\\\dlghd\\\\졸업프로젝트\\\\LWM', 'scenario': 'O2_dyn_3p5', 'dynamic_scenario_scenes': array([0, 1, 2, 3, 4, 5, 6, 7, 8, 9]), 'num_paths': 10, 'active_BS': array([1]), 'user_rows': array([ 0,  1,  2,  3,  4,  5,  6,  7,  8,  9, 10, 11, 12, 13, 14, 15, 16,\n",
      "       17, 18, 19, 20, 21, 22, 23, 24, 25, 26, 27, 28, 29, 30, 31, 32, 33,\n",
      "       34, 35, 36, 37, 38, 39, 40, 41, 42, 43, 44, 45, 46, 47, 48, 49, 50,\n",
      "       51, 52, 53, 54, 55, 56, 57, 58, 59, 60, 61, 62, 63, 64, 65, 66, 67,\n",
      "       68, 69, 70, 71, 72, 73, 74, 75, 76, 77, 78, 79, 80, 81, 82, 83, 84,\n",
      "       85, 86, 87, 88, 89, 90, 91, 92, 93, 94, 95, 96, 97, 98, 99]), 'user_subsampling': 1, 'bs_antenna': {'shape': array([ 1, 32]), 'spacing': 0.5, 'rotation': array([0, 0, 0]), 'FoV': array([360, 180]), 'radiation_pattern': 'isotropic'}, 'ue_antenna': {'shape': array([1, 1]), 'spacing': 0.5, 'rotation': array([0, 0, 0]), 'FoV': array([360, 180]), 'radiation_pattern': 'isotropic'}, 'enable_doppler': 0, 'enable_dual_polar': 0, 'enable_BS2BS': 1, 'OFDM_channels': 1, 'OFDM': {'subcarriers': 512, 'selected_subcarriers': array([ 0,  1,  2,  3,  4,  5,  6,  7,  8,  9, 10, 11, 12, 13, 14, 15, 16,\n",
      "       17, 18, 19, 20, 21, 22, 23, 24, 25, 26, 27, 28, 29, 30, 31, 32, 33,\n",
      "       34, 35, 36, 37, 38, 39, 40, 41, 42, 43, 44, 45, 46, 47, 48, 49, 50,\n",
      "       51, 52, 53, 54, 55, 56, 57, 58, 59, 60, 61, 62, 63]), 'bandwidth': 0.05, 'RX_filter': 0}, 'activate_OFDM': 1}\n"
     ]
    }
   ],
   "source": [
    "print(parameters)"
   ]
  },
  {
   "cell_type": "code",
   "execution_count": null,
   "id": "b87a86e5",
   "metadata": {},
   "outputs": [
    {
     "name": "stdout",
     "output_type": "stream",
     "text": [
      "The following parameters seem unnecessary:\n",
      "{'activate_OFDM'}\n",
      "\n",
      "Scene 1/10\n",
      "\n",
      "Basestation 1\n",
      "\n",
      "UE-BS Channels\n"
     ]
    },
    {
     "name": "stderr",
     "output_type": "stream",
     "text": [
      "Reading ray-tracing: 100%|████████████████████████████████████████████████████| 69040/69040 [00:04<00:00, 15105.65it/s]\n",
      "Generating channels: 100%|█████████████████████████████████████████████████████| 69040/69040 [00:25<00:00, 2709.15it/s]\n"
     ]
    },
    {
     "name": "stdout",
     "output_type": "stream",
     "text": [
      "\n",
      "BS-BS Channels\n"
     ]
    },
    {
     "name": "stderr",
     "output_type": "stream",
     "text": [
      "Reading ray-tracing: 100%|███████████████████████████████████████████████████████████████████████| 1/1 [00:00<?, ?it/s]\n",
      "Generating channels: 100%|██████████████████████████████████████████████████████████████| 1/1 [00:00<00:00, 147.99it/s]\n"
     ]
    },
    {
     "name": "stdout",
     "output_type": "stream",
     "text": [
      "\n",
      "Scene 2/10\n",
      "\n",
      "Basestation 1\n",
      "\n",
      "UE-BS Channels\n"
     ]
    },
    {
     "name": "stderr",
     "output_type": "stream",
     "text": [
      "Reading ray-tracing: 100%|████████████████████████████████████████████████████| 69040/69040 [00:04<00:00, 14049.21it/s]\n",
      "Generating channels: 100%|█████████████████████████████████████████████████████| 69040/69040 [00:28<00:00, 2419.11it/s]\n"
     ]
    },
    {
     "name": "stdout",
     "output_type": "stream",
     "text": [
      "\n",
      "BS-BS Channels\n"
     ]
    },
    {
     "name": "stderr",
     "output_type": "stream",
     "text": [
      "Reading ray-tracing: 100%|██████████████████████████████████████████████████████████████| 1/1 [00:00<00:00, 350.93it/s]\n",
      "Generating channels: 100%|███████████████████████████████████████████████████████████████| 1/1 [00:00<00:00, 73.67it/s]\n"
     ]
    },
    {
     "name": "stdout",
     "output_type": "stream",
     "text": [
      "\n",
      "Scene 3/10\n",
      "\n",
      "Basestation 1\n",
      "\n",
      "UE-BS Channels\n"
     ]
    },
    {
     "name": "stderr",
     "output_type": "stream",
     "text": [
      "Reading ray-tracing: 100%|████████████████████████████████████████████████████| 69040/69040 [00:04<00:00, 15941.26it/s]\n",
      "Generating channels: 100%|█████████████████████████████████████████████████████| 69040/69040 [00:27<00:00, 2483.20it/s]\n"
     ]
    },
    {
     "name": "stdout",
     "output_type": "stream",
     "text": [
      "\n",
      "BS-BS Channels\n"
     ]
    },
    {
     "name": "stderr",
     "output_type": "stream",
     "text": [
      "Reading ray-tracing: 100%|███████████████████████████████████████████████████████████████████████| 1/1 [00:00<?, ?it/s]\n",
      "Generating channels: 100%|███████████████████████████████████████████████████████████████| 1/1 [00:00<00:00, 62.09it/s]\n"
     ]
    },
    {
     "name": "stdout",
     "output_type": "stream",
     "text": [
      "\n",
      "Scene 4/10\n",
      "\n",
      "Basestation 1\n",
      "\n",
      "UE-BS Channels\n"
     ]
    },
    {
     "name": "stderr",
     "output_type": "stream",
     "text": [
      "Reading ray-tracing: 100%|████████████████████████████████████████████████████| 69040/69040 [00:04<00:00, 15768.47it/s]\n",
      "Generating channels: 100%|█████████████████████████████████████████████████████| 69040/69040 [00:28<00:00, 2461.23it/s]\n"
     ]
    },
    {
     "name": "stdout",
     "output_type": "stream",
     "text": [
      "\n",
      "BS-BS Channels\n"
     ]
    },
    {
     "name": "stderr",
     "output_type": "stream",
     "text": [
      "Reading ray-tracing: 100%|███████████████████████████████████████████████████████████████████████| 1/1 [00:00<?, ?it/s]\n",
      "Generating channels: 100%|███████████████████████████████████████████████████████████████████████| 1/1 [00:00<?, ?it/s]\n"
     ]
    },
    {
     "name": "stdout",
     "output_type": "stream",
     "text": [
      "\n",
      "Scene 5/10\n",
      "\n",
      "Basestation 1\n",
      "\n",
      "UE-BS Channels\n"
     ]
    },
    {
     "name": "stderr",
     "output_type": "stream",
     "text": [
      "Reading ray-tracing: 100%|████████████████████████████████████████████████████| 69040/69040 [00:04<00:00, 14514.57it/s]\n",
      "Generating channels: 100%|█████████████████████████████████████████████████████| 69040/69040 [00:27<00:00, 2488.84it/s]\n"
     ]
    },
    {
     "name": "stdout",
     "output_type": "stream",
     "text": [
      "\n",
      "BS-BS Channels\n"
     ]
    },
    {
     "name": "stderr",
     "output_type": "stream",
     "text": [
      "Reading ray-tracing: 100%|███████████████████████████████████████████████████████████████████████| 1/1 [00:00<?, ?it/s]\n",
      "Generating channels: 100%|██████████████████████████████████████████████████████████████| 1/1 [00:00<00:00, 143.79it/s]\n"
     ]
    },
    {
     "name": "stdout",
     "output_type": "stream",
     "text": [
      "\n",
      "Scene 6/10\n",
      "\n",
      "Basestation 1\n",
      "\n",
      "UE-BS Channels\n"
     ]
    },
    {
     "name": "stderr",
     "output_type": "stream",
     "text": [
      "Reading ray-tracing: 100%|████████████████████████████████████████████████████| 69040/69040 [00:04<00:00, 15140.34it/s]\n",
      "Generating channels: 100%|█████████████████████████████████████████████████████| 69040/69040 [00:28<00:00, 2461.37it/s]\n"
     ]
    },
    {
     "name": "stdout",
     "output_type": "stream",
     "text": [
      "\n",
      "BS-BS Channels\n"
     ]
    },
    {
     "name": "stderr",
     "output_type": "stream",
     "text": [
      "Reading ray-tracing: 100%|██████████████████████████████████████████████████████████████| 1/1 [00:00<00:00, 124.15it/s]\n",
      "Generating channels: 100%|██████████████████████████████████████████████████████████████| 1/1 [00:00<00:00, 165.88it/s]\n"
     ]
    },
    {
     "name": "stdout",
     "output_type": "stream",
     "text": [
      "\n",
      "Scene 7/10\n",
      "\n",
      "Basestation 1\n",
      "\n",
      "UE-BS Channels\n"
     ]
    },
    {
     "name": "stderr",
     "output_type": "stream",
     "text": [
      "Reading ray-tracing: 100%|████████████████████████████████████████████████████| 69040/69040 [00:05<00:00, 13687.60it/s]\n",
      "Generating channels:  25%|█████████████▏                                       | 17251/69040 [00:08<00:20, 2560.71it/s]"
     ]
    }
   ],
   "source": [
    "## Generate and inspect the dataset\n",
    "import time\n",
    "start = time.time()\n",
    "dataset = DeepMIMOv3.generate_data(parameters)\n",
    "end = time.time()\n",
    "\n",
    "print(f\"걸리는시간: {round(end-start,2)}\")"
   ]
  },
  {
   "cell_type": "code",
   "execution_count": null,
   "id": "4e127d34",
   "metadata": {},
   "outputs": [],
   "source": [
    "len(dataset)"
   ]
  },
  {
   "cell_type": "code",
   "execution_count": null,
   "id": "cccdc93e",
   "metadata": {},
   "outputs": [],
   "source": [
    "dataset[0]"
   ]
  },
  {
   "cell_type": "markdown",
   "id": "5b4e72d4",
   "metadata": {},
   "source": [
    "# 사용자 접근 데이터"
   ]
  },
  {
   "cell_type": "code",
   "execution_count": null,
   "id": "57828d31",
   "metadata": {},
   "outputs": [],
   "source": [
    "user_data = dataset[0][0]['user']\n",
    "print(user_data.keys())"
   ]
  },
  {
   "cell_type": "markdown",
   "id": "bc5a3b0c",
   "metadata": {},
   "source": [
    "# 사용자 채널 정보 확인"
   ]
  },
  {
   "cell_type": "code",
   "execution_count": null,
   "id": "23b2884b",
   "metadata": {},
   "outputs": [],
   "source": [
    "# subcarries = 나눈 각각의 주파수 채널\n",
    "# Channel = H <- 채널 벡터\n",
    "# 채널 형태\n",
    "# (user, UE antenna, Bs antenna, subcarrier)\n",
    "channel = dataset[0][0]['user']['channel']\n",
    "print(channel.shape)  "
   ]
  },
  {
   "cell_type": "code",
   "execution_count": null,
   "id": "bf443dc9",
   "metadata": {},
   "outputs": [],
   "source": [
    "print(dataset[0][0]['user']['channel'][100])"
   ]
  },
  {
   "cell_type": "code",
   "execution_count": null,
   "id": "1a931204",
   "metadata": {},
   "outputs": [],
   "source": [
    "print(len(dataset[0][0]['user']['channel'][100]))"
   ]
  },
  {
   "cell_type": "code",
   "execution_count": null,
   "id": "ff08a89e",
   "metadata": {},
   "outputs": [],
   "source": [
    "print(channel[10000][0][0])"
   ]
  },
  {
   "cell_type": "code",
   "execution_count": null,
   "id": "f65feb3b",
   "metadata": {},
   "outputs": [],
   "source": [
    "print(channel[1][0][0])"
   ]
  },
  {
   "cell_type": "markdown",
   "id": "2b079846",
   "metadata": {},
   "source": [
    "# 사용자 위치 정보"
   ]
  },
  {
   "cell_type": "code",
   "execution_count": null,
   "id": "84337e94",
   "metadata": {},
   "outputs": [],
   "source": [
    "location = dataset[0][0]['user']['location']\n",
    "print(location.shape)      # (사용자 수, 3)\n",
    "print(location[0:4])         # 첫 번째 사용자의 (x, y, z)"
   ]
  },
  {
   "cell_type": "markdown",
   "id": "60e9a9b6",
   "metadata": {},
   "source": [
    "# 경로정보"
   ]
  },
  {
   "cell_type": "code",
   "execution_count": null,
   "id": "79cde8ee",
   "metadata": {},
   "outputs": [],
   "source": [
    "paths = dataset[0][0]['user']['paths']\n",
    "#사용자 수\n",
    "print(len(paths))\n",
    "# 첫 번째 사용자 경로 정보\n",
    "print(paths[0])"
   ]
  },
  {
   "cell_type": "markdown",
   "id": "f2242869",
   "metadata": {},
   "source": [
    "# 기지국 정보"
   ]
  },
  {
   "cell_type": "code",
   "execution_count": null,
   "id": "2900e481",
   "metadata": {},
   "outputs": [],
   "source": [
    "bs_data = dataset[0][0]['basestation']\n",
    "print(bs_data.keys())\n"
   ]
  },
  {
   "cell_type": "markdown",
   "id": "c063ea95",
   "metadata": {},
   "source": [
    "# Scene 및 사용자 수"
   ]
  },
  {
   "cell_type": "code",
   "execution_count": null,
   "id": "a20df92d",
   "metadata": {},
   "outputs": [],
   "source": [
    "for i, scene in enumerate(dataset[0]):\n",
    "    user_locs = scene['user']['location']\n",
    "    print(f\"Scene {i}: {len(user_locs)} users\")"
   ]
  },
  {
   "cell_type": "markdown",
   "id": "b38f71e1",
   "metadata": {},
   "source": [
    "# 채널 수"
   ]
  },
  {
   "cell_type": "code",
   "execution_count": null,
   "id": "cbbee52e",
   "metadata": {},
   "outputs": [],
   "source": [
    "len(dataset[0][0]['user']['channel'])"
   ]
  },
  {
   "cell_type": "code",
   "execution_count": 22,
   "id": "2d474195",
   "metadata": {},
   "outputs": [
    {
     "name": "stdout",
     "output_type": "stream",
     "text": [
      "{'num_paths': 0, 'DoD_phi': [], 'DoD_theta': [], 'DoA_phi': [], 'DoA_theta': [], 'phase': [], 'ToA': [], 'power': [], 'LoS': []}\n"
     ]
    }
   ],
   "source": [
    "print(dataset[0][0]['user']['paths'][0])"
   ]
  },
  {
   "cell_type": "code",
   "execution_count": 23,
   "id": "73df9912",
   "metadata": {},
   "outputs": [
    {
     "name": "stdout",
     "output_type": "stream",
     "text": [
      "(1, 32, 64)\n"
     ]
    }
   ],
   "source": [
    "scene = dataset[0][0] # scene 0\n",
    "ue_idx = 0 # 첫 번째 사용자\n",
    "channel = scene['user']['channel'][ue_idx]\n",
    "print(channel.shape)"
   ]
  },
  {
   "cell_type": "code",
   "execution_count": 24,
   "id": "c312bc2a",
   "metadata": {},
   "outputs": [],
   "source": [
    "import torch\n",
    "import torch.nn as nn\n",
    "import torch.optim as optim\n",
    "import torchvision\n",
    "import torchvision.transforms as transforms\n",
    "from torch.utils.data import DataLoader\n",
    "import matplotlib.pyplot as plt"
   ]
  },
  {
   "cell_type": "code",
   "execution_count": 25,
   "id": "7f11a45a",
   "metadata": {},
   "outputs": [
    {
     "name": "stdout",
     "output_type": "stream",
     "text": [
      "cuda\n"
     ]
    }
   ],
   "source": [
    "# GPU 설정\n",
    "device = torch.device(\"cuda\" if torch.cuda.is_available() else \"cpu\")\n",
    "\n",
    "print(device)"
   ]
  },
  {
   "cell_type": "markdown",
   "id": "373ffb59",
   "metadata": {},
   "source": [
    "# channel CIR mat 정보 가져오기"
   ]
  },
  {
   "cell_type": "code",
   "execution_count": 26,
   "id": "ec4461cb",
   "metadata": {},
   "outputs": [
    {
     "name": "stdout",
     "output_type": "stream",
     "text": [
      "dict_keys(['__header__', '__version__', '__globals__', 'CIR_array_full'])\n"
     ]
    }
   ],
   "source": [
    "import scipy.io as sio\n",
    "\n",
    "file_path = r'C:\\Users\\dlghd\\졸업프로젝트\\LWM\\O2_dyn_3p5\\scene_0\\O2_dyn_3p5.1.CIR.mat'\n",
    "mat_data = sio.loadmat(file_path)\n",
    "\n",
    "# 파일 안의 key 확인\n",
    "print(mat_data.keys())\n",
    "\n",
    "\n"
   ]
  },
  {
   "cell_type": "code",
   "execution_count": 27,
   "id": "662cb441",
   "metadata": {},
   "outputs": [
    {
     "name": "stdout",
     "output_type": "stream",
     "text": [
      "b'MATLAB 5.0 MAT-file, Platform: PCWIN64, Created on: Wed Jun 30 11:33:01 2021'\n"
     ]
    }
   ],
   "source": [
    "# 일반적으로 CIR key는 'CIR' 또는 'cir' 같은 이름일 가능성 높음\n",
    "H_cir = mat_data['__header__']  \n",
    "print(H_cir)"
   ]
  },
  {
   "cell_type": "markdown",
   "id": "88f3d7c7",
   "metadata": {},
   "source": [
    "# Time-Prediction 시작\n",
    "## Time Series 형태로 변환\n",
    "### 단일사용자 채널 예측"
   ]
  },
  {
   "cell_type": "code",
   "execution_count": 28,
   "id": "db7345b0",
   "metadata": {},
   "outputs": [],
   "source": [
    "# H = dataset[0][0]['user']['channel'][100]  # (1, 32, 64), complex\n",
    "# H = H.squeeze(0)  # → (32, 64)\n",
    "\n",
    "# # 채널은 복소수 형태\n",
    "# H_real = H.real   # shape: (32, 64)\n",
    "# H_imag = H.imag   # shape: (32, 64)\n",
    "\n",
    "# H_combined = np.concatenate([H_real, H_imag], axis=0)  # shape: (64, 64)\n"
   ]
  },
  {
   "cell_type": "code",
   "execution_count": 32,
   "id": "59cde91f",
   "metadata": {},
   "outputs": [
    {
     "name": "stdout",
     "output_type": "stream",
     "text": [
      "[[[[0.+0.j 0.+0.j 0.+0.j ... 0.+0.j 0.+0.j 0.+0.j]\n",
      "   [0.+0.j 0.+0.j 0.+0.j ... 0.+0.j 0.+0.j 0.+0.j]\n",
      "   [0.+0.j 0.+0.j 0.+0.j ... 0.+0.j 0.+0.j 0.+0.j]\n",
      "   ...\n",
      "   [0.+0.j 0.+0.j 0.+0.j ... 0.+0.j 0.+0.j 0.+0.j]\n",
      "   [0.+0.j 0.+0.j 0.+0.j ... 0.+0.j 0.+0.j 0.+0.j]\n",
      "   [0.+0.j 0.+0.j 0.+0.j ... 0.+0.j 0.+0.j 0.+0.j]]]\n",
      "\n",
      "\n",
      " [[[0.+0.j 0.+0.j 0.+0.j ... 0.+0.j 0.+0.j 0.+0.j]\n",
      "   [0.+0.j 0.+0.j 0.+0.j ... 0.+0.j 0.+0.j 0.+0.j]\n",
      "   [0.+0.j 0.+0.j 0.+0.j ... 0.+0.j 0.+0.j 0.+0.j]\n",
      "   ...\n",
      "   [0.+0.j 0.+0.j 0.+0.j ... 0.+0.j 0.+0.j 0.+0.j]\n",
      "   [0.+0.j 0.+0.j 0.+0.j ... 0.+0.j 0.+0.j 0.+0.j]\n",
      "   [0.+0.j 0.+0.j 0.+0.j ... 0.+0.j 0.+0.j 0.+0.j]]]\n",
      "\n",
      "\n",
      " [[[0.+0.j 0.+0.j 0.+0.j ... 0.+0.j 0.+0.j 0.+0.j]\n",
      "   [0.+0.j 0.+0.j 0.+0.j ... 0.+0.j 0.+0.j 0.+0.j]\n",
      "   [0.+0.j 0.+0.j 0.+0.j ... 0.+0.j 0.+0.j 0.+0.j]\n",
      "   ...\n",
      "   [0.+0.j 0.+0.j 0.+0.j ... 0.+0.j 0.+0.j 0.+0.j]\n",
      "   [0.+0.j 0.+0.j 0.+0.j ... 0.+0.j 0.+0.j 0.+0.j]\n",
      "   [0.+0.j 0.+0.j 0.+0.j ... 0.+0.j 0.+0.j 0.+0.j]]]\n",
      "\n",
      "\n",
      " ...\n",
      "\n",
      "\n",
      " [[[0.+0.j 0.+0.j 0.+0.j ... 0.+0.j 0.+0.j 0.+0.j]\n",
      "   [0.+0.j 0.+0.j 0.+0.j ... 0.+0.j 0.+0.j 0.+0.j]\n",
      "   [0.+0.j 0.+0.j 0.+0.j ... 0.+0.j 0.+0.j 0.+0.j]\n",
      "   ...\n",
      "   [0.+0.j 0.+0.j 0.+0.j ... 0.+0.j 0.+0.j 0.+0.j]\n",
      "   [0.+0.j 0.+0.j 0.+0.j ... 0.+0.j 0.+0.j 0.+0.j]\n",
      "   [0.+0.j 0.+0.j 0.+0.j ... 0.+0.j 0.+0.j 0.+0.j]]]\n",
      "\n",
      "\n",
      " [[[0.+0.j 0.+0.j 0.+0.j ... 0.+0.j 0.+0.j 0.+0.j]\n",
      "   [0.+0.j 0.+0.j 0.+0.j ... 0.+0.j 0.+0.j 0.+0.j]\n",
      "   [0.+0.j 0.+0.j 0.+0.j ... 0.+0.j 0.+0.j 0.+0.j]\n",
      "   ...\n",
      "   [0.+0.j 0.+0.j 0.+0.j ... 0.+0.j 0.+0.j 0.+0.j]\n",
      "   [0.+0.j 0.+0.j 0.+0.j ... 0.+0.j 0.+0.j 0.+0.j]\n",
      "   [0.+0.j 0.+0.j 0.+0.j ... 0.+0.j 0.+0.j 0.+0.j]]]\n",
      "\n",
      "\n",
      " [[[0.+0.j 0.+0.j 0.+0.j ... 0.+0.j 0.+0.j 0.+0.j]\n",
      "   [0.+0.j 0.+0.j 0.+0.j ... 0.+0.j 0.+0.j 0.+0.j]\n",
      "   [0.+0.j 0.+0.j 0.+0.j ... 0.+0.j 0.+0.j 0.+0.j]\n",
      "   ...\n",
      "   [0.+0.j 0.+0.j 0.+0.j ... 0.+0.j 0.+0.j 0.+0.j]\n",
      "   [0.+0.j 0.+0.j 0.+0.j ... 0.+0.j 0.+0.j 0.+0.j]\n",
      "   [0.+0.j 0.+0.j 0.+0.j ... 0.+0.j 0.+0.j 0.+0.j]]]]\n"
     ]
    }
   ],
   "source": [
    "print(dataset[0][0]['user']['channel'])"
   ]
  },
  {
   "cell_type": "code",
   "execution_count": 34,
   "id": "71ac75d6",
   "metadata": {},
   "outputs": [
    {
     "name": "stdout",
     "output_type": "stream",
     "text": [
      "[[[-4.9276509e-06+6.0179661e-07j -4.7681883e-06+1.3829425e-06j\n",
      "   -4.4857170e-06+2.1285541e-06j ...  4.3711116e-06-2.4074948e-06j\n",
      "    3.9297033e-06-3.0764131e-06j  3.3868639e-06-3.6660977e-06j]\n",
      "  [-4.7825752e-06+1.6998159e-06j -4.4491662e-06+2.4436672e-06j\n",
      "   -4.0009481e-06+3.1246111e-06j ...  3.8229477e-06-3.3767817e-06j\n",
      "    3.2333687e-06-3.9455144e-06j  2.5602983e-06-4.4125736e-06j]\n",
      "  [-4.3861578e-06+2.7614337e-06j -3.8878534e-06+3.4282084e-06j\n",
      "   -3.2891933e-06+4.0066625e-06j ...  3.0543217e-06-4.2173128e-06j\n",
      "    2.3400164e-06-4.6522073e-06j  1.5652473e-06-4.9671735e-06j]\n",
      "  ...\n",
      "  [-5.9705985e-06+1.8381670e-06j -5.5992200e-06+2.7702260e-06j\n",
      "   -5.0834296e-06+3.6307945e-06j ...  4.8462462e-06-3.9304277e-06j\n",
      "    4.1544481e-06-4.6554678e-06j  3.3555179e-06-5.2603964e-06j]\n",
      "  [-5.3850690e-06+3.0986103e-06j -4.8194606e-06+3.9206407e-06j\n",
      "   -4.1295657e-06+4.6415066e-06j ...  3.8328362e-06-4.8787911e-06j\n",
      "    3.0023016e-06-5.4293314e-06j  2.0943648e-06-5.8398036e-06j]\n",
      "  [-4.5357333e-06+4.1878652e-06j -3.8067144e-06+4.8598408e-06j\n",
      "   -2.9795442e-06+5.4064294e-06j ...  2.6393784e-06-5.5698706e-06j\n",
      "    1.7136289e-06-5.9204085e-06j  7.4372792e-07-6.1182200e-06j]]]\n"
     ]
    }
   ],
   "source": [
    "print(dataset[0][0]['user']['channel'][100])"
   ]
  },
  {
   "cell_type": "code",
   "execution_count": 35,
   "id": "a0e61fdc",
   "metadata": {},
   "outputs": [
    {
     "name": "stdout",
     "output_type": "stream",
     "text": [
      "[[-4.9276509e-06+6.0179661e-07j -4.7681883e-06+1.3829425e-06j\n",
      "  -4.4857170e-06+2.1285541e-06j ...  4.3711116e-06-2.4074948e-06j\n",
      "   3.9297033e-06-3.0764131e-06j  3.3868639e-06-3.6660977e-06j]\n",
      " [-4.7825752e-06+1.6998159e-06j -4.4491662e-06+2.4436672e-06j\n",
      "  -4.0009481e-06+3.1246111e-06j ...  3.8229477e-06-3.3767817e-06j\n",
      "   3.2333687e-06-3.9455144e-06j  2.5602983e-06-4.4125736e-06j]\n",
      " [-4.3861578e-06+2.7614337e-06j -3.8878534e-06+3.4282084e-06j\n",
      "  -3.2891933e-06+4.0066625e-06j ...  3.0543217e-06-4.2173128e-06j\n",
      "   2.3400164e-06-4.6522073e-06j  1.5652473e-06-4.9671735e-06j]\n",
      " ...\n",
      " [-5.9705985e-06+1.8381670e-06j -5.5992200e-06+2.7702260e-06j\n",
      "  -5.0834296e-06+3.6307945e-06j ...  4.8462462e-06-3.9304277e-06j\n",
      "   4.1544481e-06-4.6554678e-06j  3.3555179e-06-5.2603964e-06j]\n",
      " [-5.3850690e-06+3.0986103e-06j -4.8194606e-06+3.9206407e-06j\n",
      "  -4.1295657e-06+4.6415066e-06j ...  3.8328362e-06-4.8787911e-06j\n",
      "   3.0023016e-06-5.4293314e-06j  2.0943648e-06-5.8398036e-06j]\n",
      " [-4.5357333e-06+4.1878652e-06j -3.8067144e-06+4.8598408e-06j\n",
      "  -2.9795442e-06+5.4064294e-06j ...  2.6393784e-06-5.5698706e-06j\n",
      "   1.7136289e-06-5.9204085e-06j  7.4372792e-07-6.1182200e-06j]]\n"
     ]
    }
   ],
   "source": [
    "print(dataset[0][0]['user']['channel'][100][0])"
   ]
  },
  {
   "cell_type": "code",
   "execution_count": 36,
   "id": "f6dd5ef3",
   "metadata": {},
   "outputs": [
    {
     "name": "stdout",
     "output_type": "stream",
     "text": [
      "[-4.9276509e-06+6.01796614e-07j -4.7681883e-06+1.38294251e-06j\n",
      " -4.4857170e-06+2.12855412e-06j -4.0875007e-06+2.81939424e-06j\n",
      " -3.5837904e-06+3.43763554e-06j -2.9875603e-06+3.96731957e-06j\n",
      " -2.3141718e-06+4.39476889e-06j -1.5809800e-06+4.70894201e-06j\n",
      " -8.0688528e-07+4.90171533e-06j -1.1846073e-08+4.96809662e-06j\n",
      "  7.8363547e-07+4.90635148e-06j  1.5590423e-06+4.71805060e-06j\n",
      "  2.2943716e-06+4.40802887e-06j  2.9706505e-06+3.98426164e-06j\n",
      "  3.5704263e-06+3.45765898e-06j  4.0782165e-06+2.84178554e-06j\n",
      "  4.4809080e-06+2.15251043e-06j  4.7680969e-06+1.40759926e-06j\n",
      "  4.9323558e-06+6.26255030e-07j  4.9694268e-06-1.71375717e-07j\n",
      "  4.8783322e-06-9.64723313e-07j  4.6613995e-06-1.73332489e-06j\n",
      "  4.3242021e-06-2.45735214e-06j  3.8754165e-06-3.11812346e-06j\n",
      "  3.3265987e-06-3.69858503e-06j  2.6918867e-06-4.18375157e-06j\n",
      "  1.9876366e-06-4.56109365e-06j  1.2320000e-06-4.82086034e-06j\n",
      "  4.4445818e-07-4.95633094e-06j -3.5468213e-07-4.96399070e-06j\n",
      " -1.1448113e-06-4.84361954e-06j -1.9055489e-06-4.59830062e-06j\n",
      " -2.6172684e-06-4.23433994e-06j -3.2616049e-06-3.76110393e-06j\n",
      " -3.8219277e-06-3.19078003e-06j -4.2837710e-06-2.53806161e-06j\n",
      " -4.6352056e-06-1.81976930e-06j -4.8671486e-06-1.05441848e-06j\n",
      " -4.9735968e-06-2.61740951e-07j -4.9517835e-06+5.37822928e-07j\n",
      " -4.8022494e-06+1.32365199e-06j -4.5288293e-06+2.07547532e-06j\n",
      " -4.1385542e-06+2.77389631e-06j -3.6414704e-06+3.40089196e-06j\n",
      " -3.0503802e-06+3.94027802e-06j -2.3805130e-06+4.37812832e-06j\n",
      " -1.6491331e-06+4.70313171e-06j -8.7509352e-07+4.90688672e-06j\n",
      " -7.8351313e-08+4.98411737e-06j  7.2054769e-07+4.93281004e-06j\n",
      "  1.5009985e-06+4.75426623e-06j  2.2428685e-06+4.45306887e-06j\n",
      "  2.9270163e-06+4.03696595e-06j  3.5357868e-06+3.51666972e-06j\n",
      "  4.0534655e-06+2.90558251e-06j  4.4666845e-06+2.21944993e-06j\n",
      "  4.7647686e-06+1.47595586e-06j  4.9400096e-06+6.94267158e-07j\n",
      "  4.9878672e-06-1.05461396e-07j  4.9070845e-06-9.02606018e-07j\n",
      "  4.6997238e-06-1.67660619e-06j  4.3711116e-06-2.40749478e-06j\n",
      "  3.9297033e-06-3.07641312e-06j  3.3868639e-06-3.66609765e-06j]\n"
     ]
    }
   ],
   "source": [
    "print(dataset[0][0]['user']['channel'][100][0][0])"
   ]
  },
  {
   "cell_type": "code",
   "execution_count": 37,
   "id": "6230e53a",
   "metadata": {},
   "outputs": [
    {
     "name": "stdout",
     "output_type": "stream",
     "text": [
      "(-4.927651e-06+6.017966e-07j)\n"
     ]
    }
   ],
   "source": [
    "print(dataset[0][0]['user']['channel'][100][0][0][0])"
   ]
  },
  {
   "cell_type": "code",
   "execution_count": 31,
   "id": "4f36971f",
   "metadata": {},
   "outputs": [
    {
     "name": "stdout",
     "output_type": "stream",
     "text": [
      "0이 존재하는 채널 개수 0\n"
     ]
    }
   ],
   "source": [
    "# print(dataset[0][0]['user']['channel'][150][0][3])\n",
    "\n",
    "count = 0\n",
    "for h in dataset[0][0]['user']['channel'][100][0]:\n",
    "#     h = h.squeeze(0)\n",
    "    h_real = h.real\n",
    "    h_imag = h.imag\n",
    "    if np.sum(np.abs(h_real)) ==0:\n",
    "        count+=1\n",
    "    elif np.sum(np.abs(h_imag)) == 0:\n",
    "        count+=1\n",
    "\n",
    "print(\"0이 존재하는 채널 개수\",count)"
   ]
  },
  {
   "cell_type": "code",
   "execution_count": 30,
   "id": "7575de2b",
   "metadata": {},
   "outputs": [
    {
     "name": "stdout",
     "output_type": "stream",
     "text": [
      "Antenna #3 subcarriers: [-3.7481711e-06+3.7276918e-06j -3.1033380e-06+4.2799297e-06j\n",
      " -2.3783671e-06+4.7218546e-06j -1.5919456e-06+5.0420513e-06j\n",
      " -7.6434952e-07+5.2322434e-06j  8.3081005e-08+5.2875071e-06j\n",
      "  9.2849081e-07+5.2063970e-06j  1.7500737e-06+4.9909859e-06j\n",
      "  2.5266352e-06+4.6468099e-06j  3.2381383e-06+4.1827284e-06j\n",
      "  3.8662224e-06+3.6106942e-06j  4.3946743e-06+2.9454461e-06j\n",
      "  4.8098500e-06+2.2041299e-06j  5.1010238e-06+1.4058554e-06j\n",
      "  5.2606679e-06+5.7120445e-07j  5.2846453e-06-2.7829972e-07j\n",
      "  5.1723187e-06-1.1207479e-06j  4.9265650e-06-1.9344095e-06j\n",
      "  4.5537045e-06-2.6982937e-06j  4.0633354e-06-3.3926899e-06j\n",
      "  3.4680893e-06-3.9996776e-06j  2.7833046e-06-4.5035881e-06j\n",
      "  2.0266314e-06-4.8914089e-06j  1.2175759e-06-5.1531201e-06j\n",
      "  3.7699922e-07-5.2819537e-06j -4.7342218e-07-5.2745672e-06j\n",
      " -1.3117545e-06-5.1311317e-06j -2.1163728e-06-4.8553270e-06j\n",
      " -2.8665186e-06-4.4542485e-06j -3.5428352e-06-3.9382230e-06j\n",
      " -4.1278677e-06-3.3205442e-06j -4.6065129e-06-2.6171292e-06j\n",
      " -4.9664100e-06-1.8461093e-06j -5.1982593e-06-1.0273618e-06j\n",
      " -5.2960613e-06-1.8199796e-07j -5.2572755e-06+6.6818120e-07j\n",
      " -5.0828817e-06+1.5012477e-06j -4.7773592e-06+2.2957113e-06j\n",
      " -4.3485697e-06+3.0310748e-06j -3.8075548e-06+3.6883623e-06j\n",
      " -3.1682537e-06+4.2506094e-06j -2.4471415e-06+4.7032995e-06j\n",
      " -1.6628065e-06+5.0347412e-06j -8.3547025e-07+5.2363685e-06j\n",
      "  1.3533687e-08+5.3029612e-06j  8.6230989e-07+5.2327832e-06j\n",
      "  1.6889655e-06+5.0276249e-06j  2.4721755e-06+4.6927585e-06j\n",
      "  3.1917318e-06+4.2368029e-06j  3.8290659e-06+3.6715010e-06j\n",
      "  4.3677264e-06+3.0114188e-06j  4.7938065e-06+2.2735683e-06j\n",
      "  5.0962994e-06+1.4769696e-06j  5.2673859e-06+6.4216152e-07j\n",
      "  5.3026333e-06-2.0932896e-07j  5.2011137e-06-1.0555416e-06j\n",
      "  4.9654259e-06-1.8746490e-06j  4.6016303e-06-2.6455198e-06j\n",
      "  4.1190920e-06-3.3482638e-06j  3.5302398e-06-3.9647457e-06j\n",
      "  2.8502477e-06-4.4790513e-06j  2.0966418e-06-4.8779011e-06j\n",
      "  1.2888491e-06-5.1509905e-06j  4.4769803e-07-5.2912578e-06j]\n",
      "0+0j인 서브캐리어 개수: 0\n",
      "완전 0+0j 안테나 포트 개수: 0\n",
      "0이 아닌 서브캐리어 개수: 2048\n"
     ]
    }
   ],
   "source": [
    "import numpy as np\n",
    "\n",
    "# 1) (user, ue_port, bs_ant, subc) → (bs_ant, subc) 로 squeeze\n",
    "H = dataset[0][0]['user']['channel'][100, 0]   # shape: (32, 64), complex\n",
    "\n",
    "# 2) BS 안테나 인덱스 3의 서브캐리어 벡터 (64,)\n",
    "print(\"Antenna #3 subcarriers:\", H[3])\n",
    "\n",
    "# 3) 전체 서브캐리어(32×64) 중 값이 정확히 0인 요소 개수\n",
    "zero_elements = np.sum(H == 0)\n",
    "print(\"0+0j인 서브캐리어 개수:\", zero_elements)\n",
    "\n",
    "# 4) 서브캐리어 전부가 0인 안테나 포트(행) 개수\n",
    "zero_ports = np.sum(np.all(H == 0, axis=1))\n",
    "print(\"완전 0+0j 안테나 포트 개수:\", zero_ports)\n",
    "\n",
    "# 5) 만약 “값이 하나도 0이 아닌” 서브캐리어 요소 개수를 보고 싶다면\n",
    "nonzero_elements = np.sum(np.abs(H) > 0)\n",
    "print(\"0이 아닌 서브캐리어 개수:\", nonzero_elements)\n"
   ]
  },
  {
   "cell_type": "code",
   "execution_count": 106,
   "id": "1f97d362",
   "metadata": {},
   "outputs": [],
   "source": [
    "# 단일 사용자에 대한 예측 코드\n",
    "channel_sequence = []\n",
    "\n",
    "for scene in dataset:\n",
    "    # 100번재 사용자에 대한 예측\n",
    "    H = scene[0]['user']['channel'][150]\n",
    "    H = H.squeeze(0)\n",
    "    # 채널은 복소수 형태 \n",
    "    H_real = H.real # (32, 64) = (BS antenna, subcarrier)\n",
    "    H_imag = H.imag\n",
    "    H_concat = np.concatenate([H_real, H_imag], axis=0) \n",
    "    channel_sequence.append(H_concat)\n",
    "\n",
    "# T는 sence\n",
    "channel_sequence = np.stack(channel_sequence)  # shape: (T, 64, 64) = (real/imag쌍, subcarrier)\n"
   ]
  },
  {
   "cell_type": "code",
   "execution_count": 107,
   "id": "63f48bf7",
   "metadata": {},
   "outputs": [
    {
     "name": "stdout",
     "output_type": "stream",
     "text": [
      "[[[[0.+0.j 0.+0.j 0.+0.j ... 0.+0.j 0.+0.j 0.+0.j]\n",
      "   [0.+0.j 0.+0.j 0.+0.j ... 0.+0.j 0.+0.j 0.+0.j]\n",
      "   [0.+0.j 0.+0.j 0.+0.j ... 0.+0.j 0.+0.j 0.+0.j]\n",
      "   ...\n",
      "   [0.+0.j 0.+0.j 0.+0.j ... 0.+0.j 0.+0.j 0.+0.j]\n",
      "   [0.+0.j 0.+0.j 0.+0.j ... 0.+0.j 0.+0.j 0.+0.j]\n",
      "   [0.+0.j 0.+0.j 0.+0.j ... 0.+0.j 0.+0.j 0.+0.j]]]\n",
      "\n",
      "\n",
      " [[[0.+0.j 0.+0.j 0.+0.j ... 0.+0.j 0.+0.j 0.+0.j]\n",
      "   [0.+0.j 0.+0.j 0.+0.j ... 0.+0.j 0.+0.j 0.+0.j]\n",
      "   [0.+0.j 0.+0.j 0.+0.j ... 0.+0.j 0.+0.j 0.+0.j]\n",
      "   ...\n",
      "   [0.+0.j 0.+0.j 0.+0.j ... 0.+0.j 0.+0.j 0.+0.j]\n",
      "   [0.+0.j 0.+0.j 0.+0.j ... 0.+0.j 0.+0.j 0.+0.j]\n",
      "   [0.+0.j 0.+0.j 0.+0.j ... 0.+0.j 0.+0.j 0.+0.j]]]\n",
      "\n",
      "\n",
      " [[[0.+0.j 0.+0.j 0.+0.j ... 0.+0.j 0.+0.j 0.+0.j]\n",
      "   [0.+0.j 0.+0.j 0.+0.j ... 0.+0.j 0.+0.j 0.+0.j]\n",
      "   [0.+0.j 0.+0.j 0.+0.j ... 0.+0.j 0.+0.j 0.+0.j]\n",
      "   ...\n",
      "   [0.+0.j 0.+0.j 0.+0.j ... 0.+0.j 0.+0.j 0.+0.j]\n",
      "   [0.+0.j 0.+0.j 0.+0.j ... 0.+0.j 0.+0.j 0.+0.j]\n",
      "   [0.+0.j 0.+0.j 0.+0.j ... 0.+0.j 0.+0.j 0.+0.j]]]\n",
      "\n",
      "\n",
      " ...\n",
      "\n",
      "\n",
      " [[[0.+0.j 0.+0.j 0.+0.j ... 0.+0.j 0.+0.j 0.+0.j]\n",
      "   [0.+0.j 0.+0.j 0.+0.j ... 0.+0.j 0.+0.j 0.+0.j]\n",
      "   [0.+0.j 0.+0.j 0.+0.j ... 0.+0.j 0.+0.j 0.+0.j]\n",
      "   ...\n",
      "   [0.+0.j 0.+0.j 0.+0.j ... 0.+0.j 0.+0.j 0.+0.j]\n",
      "   [0.+0.j 0.+0.j 0.+0.j ... 0.+0.j 0.+0.j 0.+0.j]\n",
      "   [0.+0.j 0.+0.j 0.+0.j ... 0.+0.j 0.+0.j 0.+0.j]]]\n",
      "\n",
      "\n",
      " [[[0.+0.j 0.+0.j 0.+0.j ... 0.+0.j 0.+0.j 0.+0.j]\n",
      "   [0.+0.j 0.+0.j 0.+0.j ... 0.+0.j 0.+0.j 0.+0.j]\n",
      "   [0.+0.j 0.+0.j 0.+0.j ... 0.+0.j 0.+0.j 0.+0.j]\n",
      "   ...\n",
      "   [0.+0.j 0.+0.j 0.+0.j ... 0.+0.j 0.+0.j 0.+0.j]\n",
      "   [0.+0.j 0.+0.j 0.+0.j ... 0.+0.j 0.+0.j 0.+0.j]\n",
      "   [0.+0.j 0.+0.j 0.+0.j ... 0.+0.j 0.+0.j 0.+0.j]]]\n",
      "\n",
      "\n",
      " [[[0.+0.j 0.+0.j 0.+0.j ... 0.+0.j 0.+0.j 0.+0.j]\n",
      "   [0.+0.j 0.+0.j 0.+0.j ... 0.+0.j 0.+0.j 0.+0.j]\n",
      "   [0.+0.j 0.+0.j 0.+0.j ... 0.+0.j 0.+0.j 0.+0.j]\n",
      "   ...\n",
      "   [0.+0.j 0.+0.j 0.+0.j ... 0.+0.j 0.+0.j 0.+0.j]\n",
      "   [0.+0.j 0.+0.j 0.+0.j ... 0.+0.j 0.+0.j 0.+0.j]\n",
      "   [0.+0.j 0.+0.j 0.+0.j ... 0.+0.j 0.+0.j 0.+0.j]]]]\n"
     ]
    }
   ],
   "source": [
    "print(dataset[0][0]['user']['channel'])"
   ]
  },
  {
   "cell_type": "code",
   "execution_count": 108,
   "id": "966444f2",
   "metadata": {},
   "outputs": [],
   "source": [
    "# print(\"-\" * 40)\n",
    "# print(\"scene 개수 :\", len(dataset[0]))\n",
    "\n",
    "# valid_users = 0\n",
    "# for s_idx, scene in enumerate(dataset):\n",
    "#     ch_all = scene[0]['user']['channel']\n",
    "#     nonzero_mask = np.abs(ch_all).sum(axis=(1,2,3)) > 0   # (num_users,)\n",
    "#     n_ok = nonzero_mask.sum()\n",
    "#     print(f\"scene {s_idx}  ▶  사용자 {n_ok}/{len(ch_all)} 명 유효\")\n",
    "#     valid_users += n_ok\n",
    "# print(\"총 유효 사용자(중복 포함):\", valid_users)\n",
    "# print(\"-\" * 40)\n"
   ]
  },
  {
   "cell_type": "code",
   "execution_count": 109,
   "id": "c5a6666e",
   "metadata": {},
   "outputs": [],
   "source": [
    "# seq_len = 5                       # 슬라이딩 윈도우 길이\n",
    "# user_sequences = {}               # {user_id: [H_concat_t0, …]}\n",
    "\n",
    "# # ── ①  BS #1 의 scene 0~N 순회 ───────────────────────────\n",
    "# for scene in dataset[0]:                              \n",
    "#     user_all = scene['user']['channel']               # (U, 1, 32, 64)\n",
    "#     num_users = user_all.shape[0]\n",
    "\n",
    "#     # ── ②  scene 안의 모든 user 순회 ────────────────────\n",
    "#     for u in range(num_users):\n",
    "#         H = user_all[u]                               # (1, 32, 64)\n",
    "#         if np.abs(H).sum() == 0:                      # 결측(전부 0) → skip\n",
    "#             continue\n",
    "\n",
    "#         H = H.squeeze(0)                              # (32, 64)\n",
    "#         H_concat = np.concatenate([H.real, H.imag],   # (64, 64)\n",
    "#                                    axis=0)\n",
    "\n",
    "#         user_sequences.setdefault(u, []).append(H_concat)\n",
    "\n",
    "# # ── ③  seq_len 이상 길이를 가진 user 로부터 (X, y) 생성 ──\n",
    "# X_list, y_list = [], []\n",
    "\n",
    "# for u, seq in user_sequences.items():                 # seq 길이 = T_u\n",
    "#     if len(seq) < seq_len:\n",
    "#         continue\n",
    "#     seq = np.stack(seq)                               # (T_u, 64, 64)\n",
    "\n",
    "#     for i in range(len(seq) - seq_len + 1):\n",
    "#         X_list.append(seq[i : i+seq_len-1])           # (seq_len-1,64,64)\n",
    "#         y_list.append(seq[i + seq_len-1])             # (64,64)\n",
    "\n",
    "# X = np.stack(X_list)                                  # (N, 4, 64, 64)\n",
    "# y = np.stack(y_list)                                  # (N, 64, 64)\n",
    "# print(\"총 유효 샘플:\", len(X))\n"
   ]
  },
  {
   "cell_type": "code",
   "execution_count": 110,
   "id": "8b04bbe0",
   "metadata": {},
   "outputs": [],
   "source": [
    "# 데이터 만들기\n",
    "# seq_len = 시퀀스를 잘라서 사용\n",
    "# [0,1,2,3,4], [1,2,3,4,5], [2,3,4,5]\n",
    "seq_len = 5\n",
    "X = []\n",
    "y = []\n",
    "\n",
    "for i in range(len(channel_sequence) - seq_len+1):\n",
    "    input_seq = channel_sequence[i:i+seq_len-1] # t=0~3\n",
    "    target = channel_sequence[i+seq_len-1] # t = 4\n",
    "    \n",
    "    X.append(input_seq)\n",
    "    y.append(target)\n",
    "\n",
    "# T = scene case\n",
    "# samples = T - seq_len + 1\n",
    "X = np.array(X) # shape: (samples, seq_len-1, 64, 64)\n",
    "y = np.array(y) # shape: (samples, 64, 64)\n"
   ]
  },
  {
   "cell_type": "code",
   "execution_count": 111,
   "id": "0357b60e",
   "metadata": {},
   "outputs": [],
   "source": [
    "# Flatten\n",
    "# 4096 = 64 * 64\n",
    "X_flat = X.reshape(X.shape[0], X.shape[1], -1) # (5,4,4096) = (샘플, 시퀀스 길이)\n",
    "y_flat = y.reshape(y.shape[0],-1) #(5,4096) # 샘플 대상 예측\n",
    "\n",
    "# power = np.sum(y_flat**2,axis=1)\n",
    "# mask = power > 0\n",
    "# y_flat = y_flat[mask]\n",
    "# X_flat = X_flat[mask]"
   ]
  },
  {
   "cell_type": "code",
   "execution_count": 112,
   "id": "2ba295df",
   "metadata": {},
   "outputs": [
    {
     "name": "stdout",
     "output_type": "stream",
     "text": [
      "(6, 4, 4096)\n",
      "(6, 4096)\n"
     ]
    }
   ],
   "source": [
    "print(X_flat.shape)\n",
    "print(y_flat.shape)"
   ]
  },
  {
   "cell_type": "code",
   "execution_count": 113,
   "id": "4d2c007c",
   "metadata": {},
   "outputs": [],
   "source": [
    "import torch\n",
    "from torch.utils.data import TensorDataset, DataLoader, random_split\n",
    "\n",
    "device = torch.device(\"cuda\" if torch.cuda.is_available() else \"cpu\")\n",
    "\n",
    "# 아래 텐서 cpu로\n",
    "X_t = torch.tensor(X_flat, dtype=torch.float32)        # (N, seq_len, element_length)\n",
    "y_t = torch.tensor(y_flat, dtype=torch.float32)        # (N,)\n",
    "masked_pos = torch.full((X_t.shape[0], 1),             # (N, 1)\n",
    "                        seq_len - 2,\n",
    "                        dtype=torch.long)\n",
    "\n",
    "#  Dataset 생성\n",
    "full_ds = TensorDataset(X_t, masked_pos, y_t)\n",
    "\n",
    "# train / val 8:2 분할\n",
    "train_size = int(len(full_ds) * 0.8)\n",
    "val_size   = len(full_ds) - train_size\n",
    "train_ds, val_ds = random_split(full_ds, [train_size, val_size])\n",
    "\n",
    "# DataLoader 정의\n",
    "batch_size = 32\n",
    "\n",
    "train_loader = DataLoader(\n",
    "    train_ds,\n",
    "    batch_size=batch_size,\n",
    "    shuffle=True,        # epoch마다 섞기\n",
    "    drop_last=False\n",
    ")\n",
    "\n",
    "val_loader = DataLoader(\n",
    "    val_ds,\n",
    "    batch_size=batch_size,\n",
    "    shuffle=False\n",
    ")\n"
   ]
  },
  {
   "cell_type": "code",
   "execution_count": 114,
   "id": "580386d8",
   "metadata": {},
   "outputs": [
    {
     "name": "stdout",
     "output_type": "stream",
     "text": [
      "tensor([[[-3.0463e-06, -3.5631e-06, -4.0264e-06,  ...,  9.1589e-07,\n",
      "           6.0678e-07,  2.8211e-07],\n",
      "         [-3.0463e-06, -3.5631e-06, -4.0264e-06,  ...,  9.1589e-07,\n",
      "           6.0678e-07,  2.8211e-07],\n",
      "         [-3.0463e-06, -3.5631e-06, -4.0264e-06,  ...,  9.1589e-07,\n",
      "           6.0678e-07,  2.8211e-07],\n",
      "         [-3.0463e-06, -3.5631e-06, -4.0264e-06,  ...,  9.1589e-07,\n",
      "           6.0678e-07,  2.8211e-07]],\n",
      "\n",
      "        [[-3.0463e-06, -3.5631e-06, -4.0264e-06,  ...,  9.1589e-07,\n",
      "           6.0678e-07,  2.8211e-07],\n",
      "         [-3.0463e-06, -3.5631e-06, -4.0264e-06,  ...,  9.1589e-07,\n",
      "           6.0678e-07,  2.8211e-07],\n",
      "         [-3.0463e-06, -3.5631e-06, -4.0264e-06,  ...,  9.1589e-07,\n",
      "           6.0678e-07,  2.8211e-07],\n",
      "         [-3.0463e-06, -3.5631e-06, -4.0264e-06,  ...,  9.1589e-07,\n",
      "           6.0678e-07,  2.8211e-07]],\n",
      "\n",
      "        [[-3.0463e-06, -3.5631e-06, -4.0264e-06,  ...,  9.1589e-07,\n",
      "           6.0678e-07,  2.8211e-07],\n",
      "         [-3.0463e-06, -3.5631e-06, -4.0264e-06,  ...,  9.1589e-07,\n",
      "           6.0678e-07,  2.8211e-07],\n",
      "         [-3.0463e-06, -3.5631e-06, -4.0264e-06,  ...,  9.1589e-07,\n",
      "           6.0678e-07,  2.8211e-07],\n",
      "         [-4.3134e-06, -5.0416e-06, -5.6689e-06,  ...,  9.4002e-07,\n",
      "           3.0706e-07, -3.3187e-07]],\n",
      "\n",
      "        [[-3.0463e-06, -3.5631e-06, -4.0264e-06,  ...,  9.1589e-07,\n",
      "           6.0678e-07,  2.8211e-07],\n",
      "         [-3.0463e-06, -3.5631e-06, -4.0264e-06,  ...,  9.1589e-07,\n",
      "           6.0678e-07,  2.8211e-07],\n",
      "         [-4.3134e-06, -5.0416e-06, -5.6689e-06,  ...,  9.4002e-07,\n",
      "           3.0706e-07, -3.3187e-07],\n",
      "         [-4.5094e-06, -5.6071e-06, -6.5567e-06,  ...,  1.9261e-06,\n",
      "           1.5099e-06,  9.8755e-07]],\n",
      "\n",
      "        [[-3.0463e-06, -3.5631e-06, -4.0264e-06,  ...,  9.1589e-07,\n",
      "           6.0678e-07,  2.8211e-07],\n",
      "         [-4.3134e-06, -5.0416e-06, -5.6689e-06,  ...,  9.4002e-07,\n",
      "           3.0706e-07, -3.3187e-07],\n",
      "         [-4.5094e-06, -5.6071e-06, -6.5567e-06,  ...,  1.9261e-06,\n",
      "           1.5099e-06,  9.8755e-07],\n",
      "         [-5.5136e-06, -6.3549e-06, -6.9831e-06,  ...,  2.1510e-06,\n",
      "           1.3089e-06,  3.7527e-07]],\n",
      "\n",
      "        [[-4.3134e-06, -5.0416e-06, -5.6689e-06,  ...,  9.4002e-07,\n",
      "           3.0706e-07, -3.3187e-07],\n",
      "         [-4.5094e-06, -5.6071e-06, -6.5567e-06,  ...,  1.9261e-06,\n",
      "           1.5099e-06,  9.8755e-07],\n",
      "         [-5.5136e-06, -6.3549e-06, -6.9831e-06,  ...,  2.1510e-06,\n",
      "           1.3089e-06,  3.7527e-07],\n",
      "         [-6.6553e-07, -3.0325e-07,  8.5559e-08,  ..., -6.5594e-07,\n",
      "          -9.6201e-07, -1.1839e-06]]])\n"
     ]
    }
   ],
   "source": [
    "print(X_t)"
   ]
  },
  {
   "cell_type": "code",
   "execution_count": 115,
   "id": "9f988d55",
   "metadata": {},
   "outputs": [
    {
     "name": "stdout",
     "output_type": "stream",
     "text": [
      "tensor(-3.5631e-06)\n"
     ]
    }
   ],
   "source": [
    "print(X_t[3][0][1])"
   ]
  },
  {
   "cell_type": "code",
   "execution_count": 116,
   "id": "00c61dec",
   "metadata": {},
   "outputs": [
    {
     "name": "stdout",
     "output_type": "stream",
     "text": [
      "torch.Size([6, 4, 4096])\n",
      "torch.Size([6, 4096])\n"
     ]
    }
   ],
   "source": [
    "print(X_t.shape)\n",
    "print(y_t.shape)\n",
    "# mini_batch, sequence_len, H_real+H_imag"
   ]
  },
  {
   "cell_type": "markdown",
   "id": "4cf6bac8",
   "metadata": {},
   "source": [
    "# 아래 코드 구조\n",
    "┌──────────────────────────────────────────────────────────────┐\n",
    "│ input_ids  (B, seq_len, element_length)  ─┐                 │\n",
    "│ masked_pos (B, num_mask)                  ├─>  LWM backbone │\n",
    "│                                           │    (12-층 트랜스포머)  \n",
    "└────────────────────────────────────────────┘         │\n",
    "            logits_lm  (B, num_mask, element_length)  │   enc_output (B, seq_len, d_model)\n",
    "                                                      ▼\n",
    "                        ┌─[풀링]───────────────┐      ←── feat (B, d_model)\n",
    "                        │ 첫 토큰(0번) 선택    │\n",
    "                        │   or 평균/최대 풀링 │\n",
    "                        └──────────────────────┘\n",
    "                                      ▼\n",
    "                       FC 헤드  (d_model → hidden_dim → out_dim)\n",
    "                                      ▼\n",
    "                                out (B, out_dim)\n",
    "\n",
    "# 시각적비유\n",
    "\n",
    "[패치 프로젝터]──▶[Transformer ×12]──▶[LayerNorm]──┐\n",
    "                                                  ├─▶ 64-차 벡터 (CLS 또는 풀링) ─▶ MLP ─▶ out                                                \n",
    "[Positional Embedding]─────────────────────────────┘\n"
   ]
  },
  {
   "cell_type": "code",
   "execution_count": 117,
   "id": "7d882a4d",
   "metadata": {},
   "outputs": [],
   "source": [
    "\"\"\"\n",
    "LWMWithHead: 사전학습된 LWM(Transformer encoder)을 ‘백본(backbone)’으로 사용하고,\n",
    "그 뒤에 새로운 완전연결(FC) 헤드(head)를 붙여 다운스트림 작업(회귀·분류 등)에\n",
    "사용할 수 있도록 만든 래퍼(wrapper) 클래스입니다.\n",
    "\"\"\"\n",
    "\n",
    "import torch\n",
    "import torch.nn as nn\n",
    "from lwm_model import lwm   # 기존 LWM 모델 클래스 (import 경로는 프로젝트 구조에 맞게 조정)\n",
    "\n",
    "class LWMWithHead(nn.Module):\n",
    "    \"\"\"\n",
    "    Args\n",
    "    ----\n",
    "    element_length : int\n",
    "        LWM 입력 패치의 길이. 예) 64*64 = 4096 (H_real + H_imag)\n",
    "    d_model        : int\n",
    "        Transformer 모델 차원(=LWM hidden size).\n",
    "    max_len        : int\n",
    "        포지셔널 임베딩 최대 길이(시퀀스 길이).\n",
    "    n_layers       : int\n",
    "        Transformer 인코더 층 수.\n",
    "    hidden_dim     : int\n",
    "        새 FC 헤드의 중간 차원.\n",
    "    out_dim        : int\n",
    "        최종 출력 차원. 1 → 회귀/이진분류, k → k-클래스 분류.\n",
    "    freeze_backbone: bool\n",
    "        True면 백본을 동결(freeze)하여 헤드만 학습.\n",
    "    ckpt_path      : str | None\n",
    "        사전학습 가중치(.pth) 경로. None이면 랜덤 초기화.\n",
    "    device         : str\n",
    "        'cuda' / 'cpu' 등 모델을 올릴 장치.\n",
    "    \"\"\"\n",
    "\n",
    "    def __init__(\n",
    "        self,\n",
    "        element_length: int = 4096,\n",
    "        d_model: int = 64,\n",
    "        max_len: int = 129,\n",
    "        n_layers: int = 12,\n",
    "        hidden_dim: int = 256,\n",
    "        out_dim: int = 1,\n",
    "        freeze_backbone: bool = False,\n",
    "        ckpt_path: str | None = None,\n",
    "        device: str = \"cuda\",\n",
    "    ):\n",
    "        super().__init__()\n",
    "\n",
    "        # ────────────────────────────\n",
    "        # 1) 백본(backbone) 초기화\n",
    "        # ────────────────────────────\n",
    "        if ckpt_path is None:\n",
    "            # 가중치 없이 새로 생성\n",
    "            self.backbone = lwm(\n",
    "                element_length=element_length,\n",
    "                d_model=d_model,\n",
    "                max_len=max_len,\n",
    "                n_layers=n_layers\n",
    "            ).to(device)\n",
    "        else:\n",
    "            # 사전학습 가중치 로드\n",
    "            self.backbone = lwm.from_pretrained(\n",
    "                ckpt_name=ckpt_path,\n",
    "                device=device\n",
    "            )\n",
    "\n",
    "        # 백본 동결(선택)\n",
    "        if freeze_backbone:\n",
    "            for p in self.backbone.parameters():\n",
    "                p.requires_grad = False\n",
    "\n",
    "        # ────────────────────────────\n",
    "        # 2) 헤드(head) 정의\n",
    "        # ────────────────────────────\n",
    "        self.head = nn.Sequential(\n",
    "            nn.Linear(d_model, hidden_dim),  # 첫 FC\n",
    "            nn.ReLU(),                       # 활성화\n",
    "            nn.Dropout(0.3),                 # 드롭아웃\n",
    "            nn.Linear(hidden_dim, out_dim)   # 최종 FC\n",
    "        )\n",
    "\n",
    "    # ────────────────────────────\n",
    "    # forward\n",
    "    # ────────────────────────────\n",
    "    def forward(self, input_ids, masked_pos):\n",
    "        \"\"\"\n",
    "        Parameters\n",
    "        ----------\n",
    "        input_ids : Tensor  (B, seq_len, element_length)\n",
    "            LWM 입력 시퀀스 (패치/토큰 단위 실수·복소수 채널값 등).\n",
    "        masked_pos : Tensor  (B, num_mask)\n",
    "            LWM의 마스크드 채널 모델링용 인덱스 (백본 규격 유지용).\n",
    "\n",
    "        Returns\n",
    "        -------\n",
    "        out : Tensor  (B, out_dim)\n",
    "            헤드에서 계산된 다운스트림 작업용 로짓/예측값.\n",
    "        \"\"\"\n",
    "\n",
    "        # 기존 LWM forward:\n",
    "        #   logits_lm : (B, num_mask, element_length)  ← 사용 안 함\n",
    "        #   enc_output: (B, seq_len, d_model)\n",
    "        _, enc_output = self.backbone(input_ids, masked_pos)\n",
    "\n",
    "        # 특징 추출(feat)\n",
    "        # ① 첫 토큰 벡터 사용 (CLS 개념) ─────────────\n",
    "        feat = enc_output[:, 0, :]           # (B, d_model)\n",
    "\n",
    "        # ② 평균 풀링 예시 (필요 시 주석 해제) ─────\n",
    "        # feat = enc_output.mean(dim=1)       # (B, d_model)\n",
    "\n",
    "        # ③ Max 풀링 예시 (필요 시 주석 해제) ─────\n",
    "        # feat, _ = enc_output.max(dim=1)     # (B, d_model)\n",
    "\n",
    "        # 헤드 통과 → 최종 출력\n",
    "        out = self.head(feat)                # (B, out_dim)\n",
    "        return out\n"
   ]
  },
  {
   "cell_type": "code",
   "execution_count": 118,
   "id": "b37383cc",
   "metadata": {},
   "outputs": [
    {
     "name": "stdout",
     "output_type": "stream",
     "text": [
      "Using device: cuda\n"
     ]
    }
   ],
   "source": [
    "import torch\n",
    "import torch.nn as nn\n",
    "from torch.optim import Adam\n",
    "\n",
    "# 디바이스 설정(GPU/CPU)\n",
    "device = torch.device(\"cuda\" if torch.cuda.is_available() else \"cpu\")\n",
    "print(f\"Using device: {device}\")\n",
    "\n",
    "# 모델 초기화\n",
    "element_length = 64 * 64\n",
    "model = LWMWithHead(\n",
    "    element_length=element_length,\n",
    "    out_dim=element_length, # 회귀(스칼라 예측) = out_dim을 4096으로해야 진행됨\n",
    "    freeze_backbone=False,  # backbone과 같이 학습\n",
    "    ckpt_path = None, # 사전학습 weight 없으며 None\n",
    "    device = device\n",
    ").to(device)\n",
    "\n",
    "# 손실함수\n",
    "criterion = nn.MSELoss()\n",
    "\n",
    "# 옵티마이저 설정\n",
    "optimizer = Adam(model.parameters(), lr=1e-4)"
   ]
  },
  {
   "cell_type": "code",
   "execution_count": 119,
   "id": "625b128d",
   "metadata": {},
   "outputs": [
    {
     "name": "stdout",
     "output_type": "stream",
     "text": [
      "Epoch 1/10, Loss: 0.065220\n",
      "Epoch 2/10, Loss: 0.059446\n",
      "Epoch 3/10, Loss: 0.054683\n",
      "Epoch 4/10, Loss: 0.043001\n",
      "Epoch 5/10, Loss: 0.037898\n",
      "Epoch 6/10, Loss: 0.031152\n",
      "Epoch 7/10, Loss: 0.029494\n",
      "Epoch 8/10, Loss: 0.030385\n",
      "Epoch 9/10, Loss: 0.026900\n",
      "Epoch 10/10, Loss: 0.025829\n",
      "걸린시간: 0.52\n"
     ]
    }
   ],
   "source": [
    "# 모델 학습\n",
    "import time\n",
    "start = time.time()\n",
    "\n",
    "num_epochs = 10\n",
    "for epoch in range(num_epochs):\n",
    "    model.train()\n",
    "    for input_ids, masked_pos, target in train_loader:\n",
    "        input_ids, masked_pos, target = [x.to(device) for x in (input_ids, masked_pos, target)]\n",
    "        \n",
    "        pred = model(input_ids, masked_pos).squeeze(-1)  # (B,)로 맞춤\n",
    "        loss = criterion(pred, target)\n",
    "\n",
    "        optimizer.zero_grad()\n",
    "        loss.backward()\n",
    "        optimizer.step()\n",
    "    \n",
    "    print(f\"Epoch {epoch+1}/{num_epochs}, Loss: {loss.item():.6f}\")\n",
    "end = time.time()\n",
    "\n",
    "print(f\"걸린시간: {round(end-start,2)}\")"
   ]
  },
  {
   "cell_type": "code",
   "execution_count": 120,
   "id": "3598cd58",
   "metadata": {},
   "outputs": [],
   "source": [
    "# 모델 평가 방법\n",
    "import torch.nn.functional as F\n",
    "\n",
    "def rmse(pred: torch.Tensor, target: torch.Tensor) -> torch.Tensor:\n",
    "    \"\"\"\n",
    "    RMSE = Root MSE\n",
    "    RMSE = {1/n*sum((y^-y)**2)}**1/2\n",
    "    \"\"\"\n",
    "    return torch.sqrt(F.mse_loss(pred, target, reduction=\"mean\"))   # √MSE\n",
    "\n",
    "def nmse(pred: torch.Tensor, target: torch.Tensor) -> torch.Tensor:\n",
    "    \"\"\"\n",
    "    Normalized MSE  =  E[‖ŷ − y‖²] / E[‖y‖²]\n",
    "    returns: 스칼라 (배치 평균)\n",
    "    \"\"\"\n",
    "    # (B, …) → (B,)  : 각 샘플별 제곱합\n",
    "    mse_per_sample   = ((pred - target)**2).view(pred.size(0), -1).sum(dim=1)\n",
    "    power_per_sample = (target**2).view(target.size(0), -1).sum(dim=1)\n",
    "    return (mse_per_sample / power_per_sample).mean()\n"
   ]
  },
  {
   "cell_type": "code",
   "execution_count": 121,
   "id": "97deedce",
   "metadata": {},
   "outputs": [],
   "source": [
    "# 모델 평가 함수\n",
    "import torch\n",
    "import torch.nn.functional as F\n",
    "\n",
    "# ─────────────────────────────────────────\n",
    "# 1. 배치 단위 RMSE, NMSE 함수\n",
    "# ─────────────────────────────────────────\n",
    "def rmse(pred: torch.Tensor, target: torch.Tensor) -> torch.Tensor:\n",
    "    \"\"\"\n",
    "    Root-Mean-Squared Error\n",
    "    returns: 스칼라 (배치 평균)\n",
    "    \"\"\"\n",
    "    return torch.sqrt(F.mse_loss(pred, target, reduction=\"mean\"))   # √MSE\n",
    "\n",
    "def nmse(pred: torch.Tensor, target: torch.Tensor) -> torch.Tensor:\n",
    "    \"\"\"\n",
    "    Normalized MSE  =  E[‖ŷ − y‖²] / E[‖y‖²]\n",
    "      · 채널 예측 분야에서 흔히 쓰는 지표\n",
    "    returns: 스칼라 (배치 평균)\n",
    "    \"\"\"\n",
    "    # (B, …) → (B,)  : 각 샘플별 제곱합\n",
    "    mse_per_sample   = ((pred - target)**2).view(pred.size(0), -1).sum(dim=1)\n",
    "    power_per_sample = (target**2).view(target.size(0), -1).sum(dim=1)\n",
    "    return (mse_per_sample / power_per_sample).mean()\n",
    "\n",
    "\n",
    "# ─────────────────────────────────────────\n",
    "# 2. 검증 루프 예시\n",
    "# ─────────────────────────────────────────\n",
    "def evaluate(model, loader, device=\"cuda\"):\n",
    "    model.eval()\n",
    "    total_rmse, total_nmse = 0.0, 0.0\n",
    "\n",
    "    with torch.no_grad():\n",
    "        for input_ids, masked_pos, target in loader:\n",
    "            input_ids  = input_ids.to(device)\n",
    "            masked_pos = masked_pos.to(device)\n",
    "            target     = target.to(device)\n",
    "\n",
    "            pred = model(input_ids, masked_pos)\n",
    "\n",
    "            total_rmse += rmse(pred, target).item() * input_ids.size(0)\n",
    "            total_nmse += nmse(pred, target).item() * input_ids.size(0)\n",
    "\n",
    "    N = len(loader.dataset)\n",
    "    return {\n",
    "        \"RMSE\": total_rmse / N,\n",
    "        \"NMSE\": total_nmse / N\n",
    "    }\n"
   ]
  },
  {
   "cell_type": "code",
   "execution_count": 122,
   "id": "1670cdec",
   "metadata": {},
   "outputs": [
    {
     "name": "stdout",
     "output_type": "stream",
     "text": [
      "[Epoch 01]  val_RMSE = 0.1049   val_NMSE = 5.3262e+08   val_NMSE(dB) = 87.26 dB\n",
      "[Epoch 02]  val_RMSE = 0.1017   val_NMSE = 5.0042e+08   val_NMSE(dB) = 86.99 dB\n",
      "[Epoch 03]  val_RMSE = 0.0987   val_NMSE = 4.7146e+08   val_NMSE(dB) = 86.73 dB\n",
      "[Epoch 04]  val_RMSE = 0.0958   val_NMSE = 4.4384e+08   val_NMSE(dB) = 86.47 dB\n",
      "[Epoch 05]  val_RMSE = 0.0926   val_NMSE = 4.1524e+08   val_NMSE(dB) = 86.18 dB\n",
      "[Epoch 06]  val_RMSE = 0.0892   val_NMSE = 3.8468e+08   val_NMSE(dB) = 85.85 dB\n",
      "[Epoch 07]  val_RMSE = 0.0857   val_NMSE = 3.5564e+08   val_NMSE(dB) = 85.51 dB\n",
      "[Epoch 08]  val_RMSE = 0.0826   val_NMSE = 3.2973e+08   val_NMSE(dB) = 85.18 dB\n",
      "[Epoch 09]  val_RMSE = 0.0796   val_NMSE = 3.0647e+08   val_NMSE(dB) = 84.86 dB\n",
      "[Epoch 10]  val_RMSE = 0.0770   val_NMSE = 2.8654e+08   val_NMSE(dB) = 84.57 dB\n",
      "[Epoch 11]  val_RMSE = 0.0747   val_NMSE = 2.6974e+08   val_NMSE(dB) = 84.31 dB\n",
      "[Epoch 12]  val_RMSE = 0.0725   val_NMSE = 2.5450e+08   val_NMSE(dB) = 84.06 dB\n",
      "[Epoch 13]  val_RMSE = 0.0705   val_NMSE = 2.4068e+08   val_NMSE(dB) = 83.81 dB\n",
      "[Epoch 14]  val_RMSE = 0.0687   val_NMSE = 2.2831e+08   val_NMSE(dB) = 83.59 dB\n",
      "[Epoch 15]  val_RMSE = 0.0668   val_NMSE = 2.1588e+08   val_NMSE(dB) = 83.34 dB\n",
      "[Epoch 16]  val_RMSE = 0.0650   val_NMSE = 2.0441e+08   val_NMSE(dB) = 83.10 dB\n",
      "[Epoch 17]  val_RMSE = 0.0633   val_NMSE = 1.9394e+08   val_NMSE(dB) = 82.88 dB\n",
      "[Epoch 18]  val_RMSE = 0.0617   val_NMSE = 1.8429e+08   val_NMSE(dB) = 82.65 dB\n",
      "[Epoch 19]  val_RMSE = 0.0602   val_NMSE = 1.7535e+08   val_NMSE(dB) = 82.44 dB\n",
      "[Epoch 20]  val_RMSE = 0.0588   val_NMSE = 1.6705e+08   val_NMSE(dB) = 82.23 dB\n",
      "[Epoch 21]  val_RMSE = 0.0574   val_NMSE = 1.5963e+08   val_NMSE(dB) = 82.03 dB\n",
      "[Epoch 22]  val_RMSE = 0.0563   val_NMSE = 1.5314e+08   val_NMSE(dB) = 81.85 dB\n",
      "[Epoch 23]  val_RMSE = 0.0552   val_NMSE = 1.4731e+08   val_NMSE(dB) = 81.68 dB\n",
      "[Epoch 24]  val_RMSE = 0.0542   val_NMSE = 1.4203e+08   val_NMSE(dB) = 81.52 dB\n",
      "[Epoch 25]  val_RMSE = 0.0532   val_NMSE = 1.3703e+08   val_NMSE(dB) = 81.37 dB\n",
      "[Epoch 26]  val_RMSE = 0.0524   val_NMSE = 1.3258e+08   val_NMSE(dB) = 81.22 dB\n",
      "[Epoch 27]  val_RMSE = 0.0516   val_NMSE = 1.2859e+08   val_NMSE(dB) = 81.09 dB\n",
      "[Epoch 28]  val_RMSE = 0.0509   val_NMSE = 1.2540e+08   val_NMSE(dB) = 80.98 dB\n",
      "[Epoch 29]  val_RMSE = 0.0505   val_NMSE = 1.2357e+08   val_NMSE(dB) = 80.92 dB\n",
      "[Epoch 30]  val_RMSE = 0.0502   val_NMSE = 1.2180e+08   val_NMSE(dB) = 80.86 dB\n"
     ]
    }
   ],
   "source": [
    "num_epochs = 30\n",
    "patience_counter = 0\n",
    "\n",
    "for epoch in range(1, num_epochs + 1):\n",
    "    # ──────────── ① 학습 ────────────\n",
    "    model.train()\n",
    "    for input_ids, masked_pos, target in train_loader:\n",
    "        input_ids  = input_ids.to(device)\n",
    "        masked_pos = masked_pos.to(device)\n",
    "        target     = target.to(device)\n",
    "\n",
    "        pred = model(input_ids, masked_pos)\n",
    "        loss = criterion(pred, target)\n",
    "\n",
    "        optimizer.zero_grad()\n",
    "        loss.backward()\n",
    "        optimizer.step()\n",
    "\n",
    "    # ──────────── ② 검증 ────────────\n",
    "    metrics = evaluate(model, val_loader, device)\n",
    "    rmse_val, nmse_val = metrics[\"RMSE\"], metrics[\"NMSE\"]\n",
    "\n",
    "    # ──────────── ③ 로그 출력 ────────────\n",
    "    print(f\"[Epoch {epoch:02d}]  \"\n",
    "          f\"val_RMSE = {rmse_val:.4f}   \"\n",
    "          f\"val_NMSE = {nmse_val:.4e}   \"\n",
    "          f\"val_NMSE(dB) = {10*torch.log10(torch.tensor(nmse_val)):.2f} dB\")\n"
   ]
  },
  {
   "cell_type": "code",
   "execution_count": null,
   "id": "5e7b169d",
   "metadata": {},
   "outputs": [],
   "source": []
  },
  {
   "cell_type": "code",
   "execution_count": null,
   "id": "f6932b03",
   "metadata": {},
   "outputs": [],
   "source": []
  }
 ],
 "metadata": {
  "kernelspec": {
   "display_name": "Python 3 (ipykernel)",
   "language": "python",
   "name": "python3"
  },
  "language_info": {
   "codemirror_mode": {
    "name": "ipython",
    "version": 3
   },
   "file_extension": ".py",
   "mimetype": "text/x-python",
   "name": "python",
   "nbconvert_exporter": "python",
   "pygments_lexer": "ipython3",
   "version": "3.11.3"
  }
 },
 "nbformat": 4,
 "nbformat_minor": 5
}
