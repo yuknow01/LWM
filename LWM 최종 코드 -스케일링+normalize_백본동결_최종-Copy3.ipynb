{
 "cells": [
  {
   "cell_type": "markdown",
   "id": "eeacb7fd",
   "metadata": {},
   "source": [
    "## import"
   ]
  },
  {
   "cell_type": "code",
   "execution_count": 1,
   "id": "0ec90d17",
   "metadata": {},
   "outputs": [],
   "source": [
    "import torch\n",
    "import torch.nn as nn\n",
    "import torch.optim as optim\n",
    "import torchvision\n",
    "import torchvision.transforms as transforms\n",
    "from torch.utils.data import TensorDataset, DataLoader, random_split\n",
    "#LWM을 하기위한 라이브러리 가져오기\n",
    "import DeepMIMOv3\n",
    "import numpy as np\n",
    "from pprint import pprint\n",
    "import matplotlib.pyplot as plt\n",
    "import time\n",
    "\n",
    "\n",
    "plt . rcParams [ 'figure.figsize' ]  =  [ 12 ,  8 ]  # 기본 플롯 크기 설정"
   ]
  },
  {
   "cell_type": "markdown",
   "id": "38e17e0b",
   "metadata": {},
   "source": [
    "## GPU설정"
   ]
  },
  {
   "cell_type": "code",
   "execution_count": 2,
   "id": "47baa533",
   "metadata": {},
   "outputs": [
    {
     "name": "stdout",
     "output_type": "stream",
     "text": [
      "cuda\n"
     ]
    }
   ],
   "source": [
    "# GPU 설정\n",
    "device = torch.device(\"cuda\" if torch.cuda.is_available() else \"cpu\")\n",
    "print(device)"
   ]
  },
  {
   "cell_type": "code",
   "execution_count": 3,
   "id": "6a6fcece",
   "metadata": {},
   "outputs": [
    {
     "name": "stdout",
     "output_type": "stream",
     "text": [
      "11.8\n",
      "90100\n",
      "CUDA available: True\n"
     ]
    }
   ],
   "source": [
    "import torch\n",
    "print(torch.version.cuda)                   # 설치된 CUDA 버전 (예: '11.7')\n",
    "print(torch.backends.cudnn.version())       # cuDNN 버전 (예: 8200)\n",
    "print(\"CUDA available:\", torch.cuda.is_available())  # True\n"
   ]
  },
  {
   "cell_type": "markdown",
   "id": "5c9e064d",
   "metadata": {},
   "source": [
    "# DeepMIMOv3 다운"
   ]
  },
  {
   "cell_type": "code",
   "execution_count": 4,
   "id": "23623e8a",
   "metadata": {},
   "outputs": [],
   "source": [
    "# pip install DeepMIMOv3 umap-learn"
   ]
  },
  {
   "cell_type": "markdown",
   "id": "19540670",
   "metadata": {},
   "source": [
    "## 파라미터 수정"
   ]
  },
  {
   "cell_type": "code",
   "execution_count": 5,
   "id": "ce5ac681",
   "metadata": {},
   "outputs": [
    {
     "name": "stdout",
     "output_type": "stream",
     "text": [
      "{'OFDM': {'RX_filter': 0,\n",
      "          'bandwidth': 0.05,\n",
      "          'selected_subcarriers': array([0]),\n",
      "          'subcarriers': 512},\n",
      " 'OFDM_channels': 1,\n",
      " 'active_BS': array([1]),\n",
      " 'bs_antenna': {'FoV': array([360, 180]),\n",
      "                'radiation_pattern': 'isotropic',\n",
      "                'rotation': array([0, 0, 0]),\n",
      "                'shape': array([8, 4]),\n",
      "                'spacing': 0.5},\n",
      " 'dataset_folder': './Raytracing_scenarios',\n",
      " 'dynamic_scenario_scenes': array([1]),\n",
      " 'enable_BS2BS': 1,\n",
      " 'enable_doppler': 0,\n",
      " 'enable_dual_polar': 0,\n",
      " 'num_paths': 5,\n",
      " 'scenario': 'O1_60',\n",
      " 'ue_antenna': {'FoV': array([360, 180]),\n",
      "                'radiation_pattern': 'isotropic',\n",
      "                'rotation': array([0, 0, 0]),\n",
      "                'shape': array([4, 2]),\n",
      "                'spacing': 0.5},\n",
      " 'user_rows': array([1]),\n",
      " 'user_subsampling': 1}\n"
     ]
    }
   ],
   "source": [
    "## Load and print the default parameters\n",
    "# bandwith: 0.05GHz(50MHz 대역폭 사용)\n",
    "parameters = DeepMIMOv3.default_params()\n",
    "pprint(parameters)"
   ]
  },
  {
   "cell_type": "code",
   "execution_count": 6,
   "id": "1f0642c1",
   "metadata": {},
   "outputs": [],
   "source": [
    "## Change parameters for the setup\n",
    "# Scenario O1_60 extracted at the dataset_folder\n",
    "#LWM 동적 시나리오 불러오기\n",
    "#자신의 LWM 파일 위치 경로 작성\n",
    "# parameters['dataset_folder'] = r'/content/drive/MyDrive/Colab Notebooks/LWM'\n",
    "scene = 15 # 장면 수\n",
    "parameters['dataset_folder'] = r'C:\\Users\\dlghd\\졸업프로젝트\\LWM'\n",
    "\n",
    "# scnario = 02_dyn_3p5 <- 다운받은 파일(동적시나리오)\n",
    "parameters['scenario'] = 'O2_dyn_3p5'\n",
    "parameters['dynamic_scenario_scenes'] = np.arange(scene) #scene 0~9\n",
    "\n",
    "# 각 사용자-기지국 채널에 대해 최대 10개 멀티패스 경로 사용\n",
    "parameters['num_paths'] = 10\n",
    "\n",
    "# User rows 1-100\n",
    "parameters['user_rows'] = np.arange(100)\n",
    "# User 축소하기\n",
    "parameters['user_subsampling'] = 0.01\n",
    "\n",
    "# Activate only the first basestation\n",
    "parameters['active_BS'] = np.array([1])\n",
    "\n",
    "parameters['activate_OFDM'] = 1\n",
    "\n",
    "parameters['OFDM']['bandwidth'] = 0.05 # 50 MHz\n",
    "parameters['OFDM']['subcarriers'] = 512 # OFDM with 512 subcarriers\n",
    "parameters['OFDM']['selected_subcarriers'] = np.arange(0, 64, 1)\n",
    "#parameters['OFDM']['subcarriers_limit'] = 64 # Keep only first 64 subcarriers\n",
    "\n",
    "parameters['ue_antenna']['shape'] = np.array([1, 1]) # Single antenna\n",
    "parameters['bs_antenna']['shape'] = np.array([1, 32]) # ULA of 32 elements\n",
    "#parameters['bs_antenna']['rotation'] = np.array([0, 30, 90]) # ULA of 32 elements\n",
    "#parameters['ue_antenna']['rotation'] = np.array([[0, 30], [30, 60], [60, 90]]) # ULA of 32 elements\n",
    "#parameters['ue_antenna']['radiation_pattern'] = 'isotropic'\n",
    "#parameters['bs_antenna']['radiation_pattern'] = 'halfwave-dipole'"
   ]
  },
  {
   "cell_type": "code",
   "execution_count": 7,
   "id": "30aa4ae2",
   "metadata": {
    "scrolled": true
   },
   "outputs": [
    {
     "name": "stdout",
     "output_type": "stream",
     "text": [
      "{'dataset_folder': 'C:\\\\Users\\\\dlghd\\\\졸업프로젝트\\\\LWM', 'scenario': 'O2_dyn_3p5', 'dynamic_scenario_scenes': array([ 0,  1,  2,  3,  4,  5,  6,  7,  8,  9, 10, 11, 12, 13, 14]), 'num_paths': 10, 'active_BS': array([1]), 'user_rows': array([ 0,  1,  2,  3,  4,  5,  6,  7,  8,  9, 10, 11, 12, 13, 14, 15, 16,\n",
      "       17, 18, 19, 20, 21, 22, 23, 24, 25, 26, 27, 28, 29, 30, 31, 32, 33,\n",
      "       34, 35, 36, 37, 38, 39, 40, 41, 42, 43, 44, 45, 46, 47, 48, 49, 50,\n",
      "       51, 52, 53, 54, 55, 56, 57, 58, 59, 60, 61, 62, 63, 64, 65, 66, 67,\n",
      "       68, 69, 70, 71, 72, 73, 74, 75, 76, 77, 78, 79, 80, 81, 82, 83, 84,\n",
      "       85, 86, 87, 88, 89, 90, 91, 92, 93, 94, 95, 96, 97, 98, 99]), 'user_subsampling': 0.01, 'bs_antenna': {'shape': array([ 1, 32]), 'spacing': 0.5, 'rotation': array([0, 0, 0]), 'FoV': array([360, 180]), 'radiation_pattern': 'isotropic'}, 'ue_antenna': {'shape': array([1, 1]), 'spacing': 0.5, 'rotation': array([0, 0, 0]), 'FoV': array([360, 180]), 'radiation_pattern': 'isotropic'}, 'enable_doppler': 0, 'enable_dual_polar': 0, 'enable_BS2BS': 1, 'OFDM_channels': 1, 'OFDM': {'subcarriers': 512, 'selected_subcarriers': array([ 0,  1,  2,  3,  4,  5,  6,  7,  8,  9, 10, 11, 12, 13, 14, 15, 16,\n",
      "       17, 18, 19, 20, 21, 22, 23, 24, 25, 26, 27, 28, 29, 30, 31, 32, 33,\n",
      "       34, 35, 36, 37, 38, 39, 40, 41, 42, 43, 44, 45, 46, 47, 48, 49, 50,\n",
      "       51, 52, 53, 54, 55, 56, 57, 58, 59, 60, 61, 62, 63]), 'bandwidth': 0.05, 'RX_filter': 0}, 'activate_OFDM': 1}\n"
     ]
    }
   ],
   "source": [
    "print(parameters)"
   ]
  },
  {
   "cell_type": "markdown",
   "id": "3326b22d",
   "metadata": {},
   "source": [
    "## dataset 구축"
   ]
  },
  {
   "cell_type": "code",
   "execution_count": 8,
   "id": "b87a86e5",
   "metadata": {},
   "outputs": [
    {
     "name": "stderr",
     "output_type": "stream",
     "text": [
      "  0%|                                                                                            | 0/3 [00:00<?, ?it/s]"
     ]
    },
    {
     "name": "stdout",
     "output_type": "stream",
     "text": [
      "The following parameters seem unnecessary:\n",
      "{'activate_OFDM'}\n",
      "\n",
      "Scene 1/5\n",
      "\n",
      "Basestation 1\n",
      "\n",
      "UE-BS Channels\n"
     ]
    },
    {
     "name": "stderr",
     "output_type": "stream",
     "text": [
      "\n",
      "Reading ray-tracing:   0%|                                                                   | 0/69006 [00:00<?, ?it/s]\u001b[A\n",
      "Reading ray-tracing:  31%|████████████████                                   | 21703/69006 [00:00<00:00, 216975.37it/s]\u001b[A\n",
      "Reading ray-tracing: 100%|███████████████████████████████████████████████████| 69006/69006 [00:00<00:00, 240914.19it/s]\u001b[A\n",
      "\n",
      "Generating channels:   0%|                                                                     | 0/727 [00:00<?, ?it/s]\u001b[A\n",
      "Generating channels: 100%|█████████████████████████████████████████████████████████| 727/727 [00:00<00:00, 5812.08it/s]\u001b[A\n"
     ]
    },
    {
     "name": "stdout",
     "output_type": "stream",
     "text": [
      "\n",
      "BS-BS Channels\n"
     ]
    },
    {
     "name": "stderr",
     "output_type": "stream",
     "text": [
      "\n",
      "Reading ray-tracing: 100%|███████████████████████████████████████████████████████████████████████| 1/1 [00:00<?, ?it/s]\u001b[A\n",
      "\n",
      "Generating channels: 100%|██████████████████████████████████████████████████████████████| 1/1 [00:00<00:00, 333.81it/s]\u001b[A\n"
     ]
    },
    {
     "name": "stdout",
     "output_type": "stream",
     "text": [
      "\n",
      "Scene 2/5\n",
      "\n",
      "Basestation 1\n",
      "\n",
      "UE-BS Channels\n"
     ]
    },
    {
     "name": "stderr",
     "output_type": "stream",
     "text": [
      "\n",
      "Reading ray-tracing:   0%|                                                                   | 0/69006 [00:00<?, ?it/s]\u001b[A\n",
      "Reading ray-tracing:  34%|█████████████████▌                                 | 23745/69006 [00:00<00:00, 237221.73it/s]\u001b[A\n",
      "Reading ray-tracing: 100%|███████████████████████████████████████████████████| 69006/69006 [00:00<00:00, 250936.04it/s]\u001b[A\n",
      "\n",
      "Generating channels:   0%|                                                                     | 0/727 [00:00<?, ?it/s]\u001b[A\n",
      "Generating channels: 100%|█████████████████████████████████████████████████████████| 727/727 [00:00<00:00, 5790.10it/s]\u001b[A\n"
     ]
    },
    {
     "name": "stdout",
     "output_type": "stream",
     "text": [
      "\n",
      "BS-BS Channels\n"
     ]
    },
    {
     "name": "stderr",
     "output_type": "stream",
     "text": [
      "\n",
      "Reading ray-tracing: 100%|███████████████████████████████████████████████████████████████████████| 1/1 [00:00<?, ?it/s]\u001b[A\n",
      "\n",
      "Generating channels: 100%|██████████████████████████████████████████████████████████████| 1/1 [00:00<00:00, 505.40it/s]\u001b[A\n"
     ]
    },
    {
     "name": "stdout",
     "output_type": "stream",
     "text": [
      "\n",
      "Scene 3/5\n",
      "\n",
      "Basestation 1\n",
      "\n",
      "UE-BS Channels\n"
     ]
    },
    {
     "name": "stderr",
     "output_type": "stream",
     "text": [
      "\n",
      "Reading ray-tracing:   0%|                                                                   | 0/69006 [00:00<?, ?it/s]\u001b[A\n",
      "Reading ray-tracing:  36%|██████████████████▎                                | 24825/69006 [00:00<00:00, 248070.44it/s]\u001b[A\n",
      "Reading ray-tracing: 100%|███████████████████████████████████████████████████| 69006/69006 [00:00<00:00, 242674.78it/s]\u001b[A\n",
      "\n",
      "Generating channels:   0%|                                                                     | 0/727 [00:00<?, ?it/s]\u001b[A\n",
      "Generating channels: 100%|█████████████████████████████████████████████████████████| 727/727 [00:00<00:00, 6097.02it/s]\u001b[A\n"
     ]
    },
    {
     "name": "stdout",
     "output_type": "stream",
     "text": [
      "\n",
      "BS-BS Channels\n"
     ]
    },
    {
     "name": "stderr",
     "output_type": "stream",
     "text": [
      "\n",
      "Reading ray-tracing: 100%|███████████████████████████████████████████████████████████████████████| 1/1 [00:00<?, ?it/s]\u001b[A\n",
      "\n",
      "Generating channels: 100%|██████████████████████████████████████████████████████████████| 1/1 [00:00<00:00, 399.38it/s]\u001b[A\n"
     ]
    },
    {
     "name": "stdout",
     "output_type": "stream",
     "text": [
      "\n",
      "Scene 4/5\n",
      "\n",
      "Basestation 1\n",
      "\n",
      "UE-BS Channels\n"
     ]
    },
    {
     "name": "stderr",
     "output_type": "stream",
     "text": [
      "\n",
      "Reading ray-tracing:   0%|                                                                   | 0/69006 [00:00<?, ?it/s]\u001b[A\n",
      "Reading ray-tracing:  32%|████████████████▌                                  | 22357/69006 [00:00<00:00, 221490.65it/s]\u001b[A\n",
      "Reading ray-tracing:  64%|████████████████████████████████▉                  | 44507/69006 [00:00<00:00, 215312.60it/s]\u001b[A\n",
      "Reading ray-tracing: 100%|███████████████████████████████████████████████████| 69006/69006 [00:00<00:00, 215277.13it/s]\u001b[A\n",
      "\n",
      "Generating channels:   0%|                                                                     | 0/727 [00:00<?, ?it/s]\u001b[A\n",
      "Generating channels: 100%|█████████████████████████████████████████████████████████| 727/727 [00:00<00:00, 5487.59it/s]\u001b[A\n"
     ]
    },
    {
     "name": "stdout",
     "output_type": "stream",
     "text": [
      "\n",
      "BS-BS Channels\n"
     ]
    },
    {
     "name": "stderr",
     "output_type": "stream",
     "text": [
      "\n",
      "Reading ray-tracing: 100%|███████████████████████████████████████████████████████████████████████| 1/1 [00:00<?, ?it/s]\u001b[A\n",
      "\n",
      "Generating channels: 100%|██████████████████████████████████████████████████████████████| 1/1 [00:00<00:00, 499.92it/s]\u001b[A\n"
     ]
    },
    {
     "name": "stdout",
     "output_type": "stream",
     "text": [
      "\n",
      "Scene 5/5\n",
      "\n",
      "Basestation 1\n",
      "\n",
      "UE-BS Channels\n"
     ]
    },
    {
     "name": "stderr",
     "output_type": "stream",
     "text": [
      "\n",
      "Reading ray-tracing:   0%|                                                                   | 0/69006 [00:00<?, ?it/s]\u001b[A\n",
      "Reading ray-tracing:  38%|███████████████████▏                               | 25896/69006 [00:00<00:00, 257940.00it/s]\u001b[A\n",
      "Reading ray-tracing: 100%|███████████████████████████████████████████████████| 69006/69006 [00:00<00:00, 248477.36it/s]\u001b[A\n",
      "\n",
      "Generating channels:   0%|                                                                     | 0/727 [00:00<?, ?it/s]\u001b[A\n",
      "Generating channels: 100%|█████████████████████████████████████████████████████████| 727/727 [00:00<00:00, 4907.17it/s]\u001b[A\n"
     ]
    },
    {
     "name": "stdout",
     "output_type": "stream",
     "text": [
      "\n",
      "BS-BS Channels\n"
     ]
    },
    {
     "name": "stderr",
     "output_type": "stream",
     "text": [
      "\n",
      "Reading ray-tracing: 100%|███████████████████████████████████████████████████████████████████████| 1/1 [00:00<?, ?it/s]\u001b[A\n",
      "\n",
      "Generating channels: 100%|██████████████████████████████████████████████████████████████| 1/1 [00:00<00:00, 500.10it/s]\u001b[A\n",
      " 33%|████████████████████████████                                                        | 1/3 [00:08<00:16,  8.05s/it]"
     ]
    },
    {
     "name": "stdout",
     "output_type": "stream",
     "text": [
      "Scenes 0–4 generation time: 7.92s\n",
      "The following parameters seem unnecessary:\n",
      "{'activate_OFDM'}\n",
      "\n",
      "Scene 1/5\n",
      "\n",
      "Basestation 1\n",
      "\n",
      "UE-BS Channels\n"
     ]
    },
    {
     "name": "stderr",
     "output_type": "stream",
     "text": [
      "\n",
      "Reading ray-tracing:   0%|                                                                   | 0/69006 [00:00<?, ?it/s]\u001b[A\n",
      "Reading ray-tracing:  30%|███████████████▍                                   | 20874/69006 [00:00<00:00, 208095.71it/s]\u001b[A\n",
      "Reading ray-tracing:  62%|███████████████████████████████▌                   | 42652/69006 [00:00<00:00, 213000.87it/s]\u001b[A\n",
      "Reading ray-tracing: 100%|███████████████████████████████████████████████████| 69006/69006 [00:00<00:00, 218240.22it/s]\u001b[A\n",
      "\n",
      "Generating channels:   0%|                                                                     | 0/727 [00:00<?, ?it/s]\u001b[A\n",
      "Generating channels: 100%|█████████████████████████████████████████████████████████| 727/727 [00:00<00:00, 4864.90it/s]\u001b[A\n"
     ]
    },
    {
     "name": "stdout",
     "output_type": "stream",
     "text": [
      "\n",
      "BS-BS Channels\n"
     ]
    },
    {
     "name": "stderr",
     "output_type": "stream",
     "text": [
      "\n",
      "Reading ray-tracing: 100%|█████████████████████████████████████████████████████████████| 1/1 [00:00<00:00, 1020.26it/s]\u001b[A\n",
      "\n",
      "Generating channels: 100%|██████████████████████████████████████████████████████████████| 1/1 [00:00<00:00, 463.92it/s]\u001b[A\n"
     ]
    },
    {
     "name": "stdout",
     "output_type": "stream",
     "text": [
      "\n",
      "Scene 2/5\n",
      "\n",
      "Basestation 1\n",
      "\n",
      "UE-BS Channels\n"
     ]
    },
    {
     "name": "stderr",
     "output_type": "stream",
     "text": [
      "\n",
      "Reading ray-tracing:   0%|                                                                   | 0/69006 [00:00<?, ?it/s]\u001b[A\n",
      "Reading ray-tracing:  26%|█████████████                                      | 17699/69006 [00:00<00:00, 175650.48it/s]\u001b[A\n",
      "Reading ray-tracing:  59%|█████████████████████████████▊                     | 40405/69006 [00:00<00:00, 205495.16it/s]\u001b[A\n",
      "Reading ray-tracing: 100%|███████████████████████████████████████████████████| 69006/69006 [00:00<00:00, 210663.41it/s]\u001b[A\n",
      "\n",
      "Generating channels:   0%|                                                                     | 0/727 [00:00<?, ?it/s]\u001b[A\n",
      "Generating channels: 100%|█████████████████████████████████████████████████████████| 727/727 [00:00<00:00, 5445.12it/s]\u001b[A\n"
     ]
    },
    {
     "name": "stdout",
     "output_type": "stream",
     "text": [
      "\n",
      "BS-BS Channels\n"
     ]
    },
    {
     "name": "stderr",
     "output_type": "stream",
     "text": [
      "\n",
      "Reading ray-tracing: 100%|███████████████████████████████████████████████████████████████████████| 1/1 [00:00<?, ?it/s]\u001b[A\n",
      "\n",
      "Generating channels: 100%|██████████████████████████████████████████████████████████████| 1/1 [00:00<00:00, 499.68it/s]\u001b[A\n"
     ]
    },
    {
     "name": "stdout",
     "output_type": "stream",
     "text": [
      "\n",
      "Scene 3/5\n",
      "\n",
      "Basestation 1\n",
      "\n",
      "UE-BS Channels\n"
     ]
    },
    {
     "name": "stderr",
     "output_type": "stream",
     "text": [
      "\n",
      "Reading ray-tracing:   0%|                                                                   | 0/69006 [00:00<?, ?it/s]\u001b[A\n",
      "Reading ray-tracing:  33%|████████████████▊                                  | 22826/69006 [00:00<00:00, 226773.91it/s]\u001b[A\n",
      "Reading ray-tracing:  66%|█████████████████████████████████▋                 | 45504/69006 [00:00<00:00, 223146.49it/s]\u001b[A\n",
      "Reading ray-tracing: 100%|███████████████████████████████████████████████████| 69006/69006 [00:00<00:00, 221175.08it/s]\u001b[A\n",
      "\n",
      "Generating channels:   0%|                                                                     | 0/727 [00:00<?, ?it/s]\u001b[A\n",
      "Generating channels: 100%|█████████████████████████████████████████████████████████| 727/727 [00:00<00:00, 5088.42it/s]\u001b[A\n"
     ]
    },
    {
     "name": "stdout",
     "output_type": "stream",
     "text": [
      "\n",
      "BS-BS Channels\n"
     ]
    },
    {
     "name": "stderr",
     "output_type": "stream",
     "text": [
      "\n",
      "Reading ray-tracing: 100%|███████████████████████████████████████████████████████████████████████| 1/1 [00:00<?, ?it/s]\u001b[A\n",
      "\n",
      "Generating channels: 100%|█████████████████████████████████████████████████████████████| 1/1 [00:00<00:00, 1000.07it/s]\u001b[A\n"
     ]
    },
    {
     "name": "stdout",
     "output_type": "stream",
     "text": [
      "\n",
      "Scene 4/5\n",
      "\n",
      "Basestation 1\n",
      "\n",
      "UE-BS Channels\n"
     ]
    },
    {
     "name": "stderr",
     "output_type": "stream",
     "text": [
      "\n",
      "Reading ray-tracing:   0%|                                                                   | 0/69006 [00:00<?, ?it/s]\u001b[A\n",
      "Reading ray-tracing:  35%|█████████████████▉                                 | 24237/69006 [00:00<00:00, 242191.23it/s]\u001b[A\n",
      "Reading ray-tracing: 100%|███████████████████████████████████████████████████| 69006/69006 [00:00<00:00, 240287.57it/s]\u001b[A\n",
      "\n",
      "Generating channels:   0%|                                                                     | 0/727 [00:00<?, ?it/s]\u001b[A\n",
      "Generating channels: 100%|█████████████████████████████████████████████████████████| 727/727 [00:00<00:00, 5218.34it/s]\u001b[A\n"
     ]
    },
    {
     "name": "stdout",
     "output_type": "stream",
     "text": [
      "\n",
      "BS-BS Channels\n"
     ]
    },
    {
     "name": "stderr",
     "output_type": "stream",
     "text": [
      "\n",
      "Reading ray-tracing: 100%|███████████████████████████████████████████████████████████████████████| 1/1 [00:00<?, ?it/s]\u001b[A\n",
      "\n",
      "Generating channels: 100%|██████████████████████████████████████████████████████████████| 1/1 [00:00<00:00, 998.17it/s]\u001b[A\n"
     ]
    },
    {
     "name": "stdout",
     "output_type": "stream",
     "text": [
      "\n",
      "Scene 5/5\n",
      "\n",
      "Basestation 1\n",
      "\n",
      "UE-BS Channels\n"
     ]
    },
    {
     "name": "stderr",
     "output_type": "stream",
     "text": [
      "\n",
      "Reading ray-tracing:   0%|                                                                   | 0/69006 [00:00<?, ?it/s]\u001b[A\n",
      "Reading ray-tracing:  32%|████████████████▏                                  | 21915/69006 [00:00<00:00, 218080.68it/s]\u001b[A\n",
      "Reading ray-tracing:  63%|████████████████████████████████▎                  | 43724/69006 [00:00<00:00, 208679.12it/s]\u001b[A\n",
      "Reading ray-tracing: 100%|███████████████████████████████████████████████████| 69006/69006 [00:00<00:00, 213900.15it/s]\u001b[A\n",
      "\n",
      "Generating channels:   0%|                                                                     | 0/727 [00:00<?, ?it/s]\u001b[A\n",
      "Generating channels: 100%|█████████████████████████████████████████████████████████| 727/727 [00:00<00:00, 4645.44it/s]\u001b[A\n"
     ]
    },
    {
     "name": "stdout",
     "output_type": "stream",
     "text": [
      "\n",
      "BS-BS Channels\n"
     ]
    },
    {
     "name": "stderr",
     "output_type": "stream",
     "text": [
      "\n",
      "Reading ray-tracing: 100%|███████████████████████████████████████████████████████████████████████| 1/1 [00:00<?, ?it/s]\u001b[A\n",
      "\n",
      "Generating channels: 100%|██████████████████████████████████████████████████████████████| 1/1 [00:00<00:00, 500.57it/s]\u001b[A\n",
      " 67%|████████████████████████████████████████████████████████                            | 2/3 [00:15<00:07,  7.97s/it]"
     ]
    },
    {
     "name": "stdout",
     "output_type": "stream",
     "text": [
      "Scenes 5–9 generation time: 7.78s\n",
      "The following parameters seem unnecessary:\n",
      "{'activate_OFDM'}\n",
      "\n",
      "Scene 1/5\n",
      "\n",
      "Basestation 1\n",
      "\n",
      "UE-BS Channels\n"
     ]
    },
    {
     "name": "stderr",
     "output_type": "stream",
     "text": [
      "\n",
      "Reading ray-tracing:   0%|                                                                   | 0/69006 [00:00<?, ?it/s]\u001b[A\n",
      "Reading ray-tracing:  32%|████████████████                                   | 21774/69006 [00:00<00:00, 217501.15it/s]\u001b[A\n",
      "Reading ray-tracing:  63%|████████████████████████████████▏                  | 43525/69006 [00:00<00:00, 194826.82it/s]\u001b[A\n",
      "Reading ray-tracing: 100%|███████████████████████████████████████████████████| 69006/69006 [00:00<00:00, 203048.58it/s]\u001b[A\n",
      "\n",
      "Generating channels:   0%|                                                                     | 0/727 [00:00<?, ?it/s]\u001b[A\n",
      "Generating channels: 100%|█████████████████████████████████████████████████████████| 727/727 [00:00<00:00, 4708.88it/s]\u001b[A\n"
     ]
    },
    {
     "name": "stdout",
     "output_type": "stream",
     "text": [
      "\n",
      "BS-BS Channels\n"
     ]
    },
    {
     "name": "stderr",
     "output_type": "stream",
     "text": [
      "\n",
      "Reading ray-tracing: 100%|███████████████████████████████████████████████████████████████████████| 1/1 [00:00<?, ?it/s]\u001b[A\n",
      "\n",
      "Generating channels: 100%|██████████████████████████████████████████████████████████████| 1/1 [00:00<00:00, 500.04it/s]\u001b[A\n"
     ]
    },
    {
     "name": "stdout",
     "output_type": "stream",
     "text": [
      "\n",
      "Scene 2/5\n",
      "\n",
      "Basestation 1\n",
      "\n",
      "UE-BS Channels\n"
     ]
    },
    {
     "name": "stderr",
     "output_type": "stream",
     "text": [
      "\n",
      "Reading ray-tracing:   0%|                                                                   | 0/69006 [00:00<?, ?it/s]\u001b[A\n",
      "Reading ray-tracing:  31%|███████████████▌                                   | 21103/69006 [00:00<00:00, 209223.94it/s]\u001b[A\n",
      "Reading ray-tracing: 100%|███████████████████████████████████████████████████| 69006/69006 [00:00<00:00, 232417.74it/s]\u001b[A\n",
      "\n",
      "Generating channels:   0%|                                                                     | 0/727 [00:00<?, ?it/s]\u001b[A\n",
      "Generating channels: 100%|█████████████████████████████████████████████████████████| 727/727 [00:00<00:00, 5271.25it/s]\u001b[A\n"
     ]
    },
    {
     "name": "stdout",
     "output_type": "stream",
     "text": [
      "\n",
      "BS-BS Channels\n"
     ]
    },
    {
     "name": "stderr",
     "output_type": "stream",
     "text": [
      "\n",
      "Reading ray-tracing: 100%|███████████████████████████████████████████████████████████████████████| 1/1 [00:00<?, ?it/s]\u001b[A\n",
      "\n",
      "Generating channels: 100%|██████████████████████████████████████████████████████████████| 1/1 [00:00<00:00, 499.50it/s]\u001b[A\n"
     ]
    },
    {
     "name": "stdout",
     "output_type": "stream",
     "text": [
      "\n",
      "Scene 3/5\n",
      "\n",
      "Basestation 1\n",
      "\n",
      "UE-BS Channels\n"
     ]
    },
    {
     "name": "stderr",
     "output_type": "stream",
     "text": [
      "\n",
      "Reading ray-tracing:   0%|                                                                   | 0/69006 [00:00<?, ?it/s]\u001b[A\n",
      "Reading ray-tracing:  33%|████████████████▊                                  | 22720/69006 [00:00<00:00, 227135.23it/s]\u001b[A\n",
      "Reading ray-tracing: 100%|███████████████████████████████████████████████████| 69006/69006 [00:00<00:00, 236835.68it/s]\u001b[A\n",
      "\n",
      "Generating channels:   0%|                                                                     | 0/727 [00:00<?, ?it/s]\u001b[A\n",
      "Generating channels: 100%|█████████████████████████████████████████████████████████| 727/727 [00:00<00:00, 5461.39it/s]\u001b[A\n"
     ]
    },
    {
     "name": "stdout",
     "output_type": "stream",
     "text": [
      "\n",
      "BS-BS Channels\n"
     ]
    },
    {
     "name": "stderr",
     "output_type": "stream",
     "text": [
      "\n",
      "Reading ray-tracing: 100%|███████████████████████████████████████████████████████████████████████| 1/1 [00:00<?, ?it/s]\u001b[A\n",
      "\n",
      "Generating channels: 100%|██████████████████████████████████████████████████████████████| 1/1 [00:00<00:00, 500.22it/s]\u001b[A\n"
     ]
    },
    {
     "name": "stdout",
     "output_type": "stream",
     "text": [
      "\n",
      "Scene 4/5\n",
      "\n",
      "Basestation 1\n",
      "\n",
      "UE-BS Channels\n"
     ]
    },
    {
     "name": "stderr",
     "output_type": "stream",
     "text": [
      "\n",
      "Reading ray-tracing:   0%|                                                                   | 0/69006 [00:00<?, ?it/s]\u001b[A\n",
      "Reading ray-tracing:  38%|███████████████████▎                               | 26126/69006 [00:00<00:00, 258770.82it/s]\u001b[A\n",
      "Reading ray-tracing: 100%|███████████████████████████████████████████████████| 69006/69006 [00:00<00:00, 252045.70it/s]\u001b[A\n",
      "\n",
      "Generating channels:   0%|                                                                     | 0/727 [00:00<?, ?it/s]\u001b[A\n",
      "Generating channels: 100%|█████████████████████████████████████████████████████████| 727/727 [00:00<00:00, 5214.55it/s]\u001b[A\n"
     ]
    },
    {
     "name": "stdout",
     "output_type": "stream",
     "text": [
      "\n",
      "BS-BS Channels\n"
     ]
    },
    {
     "name": "stderr",
     "output_type": "stream",
     "text": [
      "\n",
      "Reading ray-tracing: 100%|███████████████████████████████████████████████████████████████████████| 1/1 [00:00<?, ?it/s]\u001b[A\n",
      "\n",
      "Generating channels: 100%|██████████████████████████████████████████████████████████████| 1/1 [00:00<00:00, 499.62it/s]\u001b[A\n"
     ]
    },
    {
     "name": "stdout",
     "output_type": "stream",
     "text": [
      "\n",
      "Scene 5/5\n",
      "\n",
      "Basestation 1\n",
      "\n",
      "UE-BS Channels\n"
     ]
    },
    {
     "name": "stderr",
     "output_type": "stream",
     "text": [
      "\n",
      "Reading ray-tracing:   0%|                                                                   | 0/69006 [00:00<?, ?it/s]\u001b[A\n",
      "Reading ray-tracing:  36%|██████████████████▍                                | 24928/69006 [00:00<00:00, 248325.84it/s]\u001b[A\n",
      "Reading ray-tracing: 100%|███████████████████████████████████████████████████| 69006/69006 [00:00<00:00, 255497.25it/s]\u001b[A\n",
      "\n",
      "Generating channels:   0%|                                                                     | 0/727 [00:00<?, ?it/s]\u001b[A\n",
      "Generating channels: 100%|█████████████████████████████████████████████████████████| 727/727 [00:00<00:00, 5236.78it/s]\u001b[A\n"
     ]
    },
    {
     "name": "stdout",
     "output_type": "stream",
     "text": [
      "\n",
      "BS-BS Channels\n"
     ]
    },
    {
     "name": "stderr",
     "output_type": "stream",
     "text": [
      "\n",
      "Reading ray-tracing: 100%|███████████████████████████████████████████████████████████████████████| 1/1 [00:00<?, ?it/s]\u001b[A\n",
      "\n",
      "Generating channels: 100%|██████████████████████████████████████████████████████████████| 1/1 [00:00<00:00, 500.93it/s]\u001b[A\n",
      "100%|████████████████████████████████████████████████████████████████████████████████████| 3/3 [00:23<00:00,  7.93s/it]"
     ]
    },
    {
     "name": "stdout",
     "output_type": "stream",
     "text": [
      "Scenes 10–14 generation time: 7.69s\n"
     ]
    },
    {
     "name": "stderr",
     "output_type": "stream",
     "text": [
      "\n"
     ]
    }
   ],
   "source": [
    "## dataset 구축 (chunked on‑the‑fly generation)\n",
    "import time, gc\n",
    "from tqdm import tqdm\n",
    "\n",
    "# 0~999 씬 인덱스, 한 번에 50개씩 처리\n",
    "scene_indices = np.arange(scene)\n",
    "chunk_size   = 5\n",
    "all_data     = []\n",
    "\n",
    "# 씬 묶음(chunk)마다 generate_data 호출\n",
    "for i in tqdm(range(0, len(scene_indices), chunk_size)):\n",
    "    chunk = scene_indices[i : i+chunk_size].tolist()\n",
    "    parameters['dynamic_scenario_scenes'] = chunk\n",
    "\n",
    "    start = time.time()\n",
    "    data_chunk = DeepMIMOv3.generate_data(parameters)\n",
    "    print(f\"Scenes {chunk[0]}–{chunk[-1]} generation time: {time.time() - start:.2f}s\")\n",
    "\n",
    "    # 바로 all_data에 합치거나, 디스크에 저장해도 OK\n",
    "    all_data.extend(data_chunk)\n",
    "\n",
    "    # 메모리 해제\n",
    "    del data_chunk\n",
    "    gc.collect()\n",
    "\n",
    "# 마지막에 하나의 리스트로 합친 데이터셋\n",
    "dataset = all_data\n"
   ]
  },
  {
   "cell_type": "code",
   "execution_count": 9,
   "id": "0b6f3c58",
   "metadata": {},
   "outputs": [
    {
     "name": "stdout",
     "output_type": "stream",
     "text": [
      "[ 0  1  2  3  4  5  6  7  8  9 10 11 12 13 14 15 16 17 18 19 20 21 22 23\n",
      " 24 25 26 27 28 29 30 31 32 33 34 35 36 37 38 39 40 41 42 43 44 45 46 47\n",
      " 48 49 50 51 52 53 54 55 56 57 58 59 60 61 62 63 64 65 66 67 68 69 70 71\n",
      " 72 73 74 75 76 77 78 79 80 81 82 83 84 85 86 87 88 89 90 91 92 93 94 95\n",
      " 96 97 98 99]\n"
     ]
    }
   ],
   "source": [
    "print(parameters['user_rows'])"
   ]
  },
  {
   "cell_type": "code",
   "execution_count": 10,
   "id": "9ee486e9",
   "metadata": {},
   "outputs": [
    {
     "name": "stdout",
     "output_type": "stream",
     "text": [
      "{'dataset_folder': 'C:\\\\Users\\\\dlghd\\\\졸업프로젝트\\\\LWM', 'scenario': 'O2_dyn_3p5', 'dynamic_scenario_scenes': [10, 11, 12, 13, 14], 'num_paths': 10, 'active_BS': array([1]), 'user_rows': array([ 0,  1,  2,  3,  4,  5,  6,  7,  8,  9, 10, 11, 12, 13, 14, 15, 16,\n",
      "       17, 18, 19, 20, 21, 22, 23, 24, 25, 26, 27, 28, 29, 30, 31, 32, 33,\n",
      "       34, 35, 36, 37, 38, 39, 40, 41, 42, 43, 44, 45, 46, 47, 48, 49, 50,\n",
      "       51, 52, 53, 54, 55, 56, 57, 58, 59, 60, 61, 62, 63, 64, 65, 66, 67,\n",
      "       68, 69, 70, 71, 72, 73, 74, 75, 76, 77, 78, 79, 80, 81, 82, 83, 84,\n",
      "       85, 86, 87, 88, 89, 90, 91, 92, 93, 94, 95, 96, 97, 98, 99]), 'user_subsampling': 0.01, 'bs_antenna': {'shape': array([ 1, 32]), 'spacing': 0.5, 'rotation': array([0, 0, 0]), 'FoV': array([360, 180]), 'radiation_pattern': 'isotropic'}, 'ue_antenna': {'shape': array([1, 1]), 'spacing': 0.5, 'rotation': array([0, 0, 0]), 'FoV': array([360, 180]), 'radiation_pattern': 'isotropic'}, 'enable_doppler': 0, 'enable_dual_polar': 0, 'enable_BS2BS': 1, 'OFDM_channels': 1, 'OFDM': {'subcarriers': 512, 'selected_subcarriers': array([ 0,  1,  2,  3,  4,  5,  6,  7,  8,  9, 10, 11, 12, 13, 14, 15, 16,\n",
      "       17, 18, 19, 20, 21, 22, 23, 24, 25, 26, 27, 28, 29, 30, 31, 32, 33,\n",
      "       34, 35, 36, 37, 38, 39, 40, 41, 42, 43, 44, 45, 46, 47, 48, 49, 50,\n",
      "       51, 52, 53, 54, 55, 56, 57, 58, 59, 60, 61, 62, 63]), 'bandwidth': 0.05, 'RX_filter': 0}, 'activate_OFDM': 1}\n"
     ]
    }
   ],
   "source": [
    "print(parameters)"
   ]
  },
  {
   "cell_type": "markdown",
   "id": "5b4e72d4",
   "metadata": {},
   "source": [
    "# 사용자 접근 데이터"
   ]
  },
  {
   "cell_type": "code",
   "execution_count": 11,
   "id": "57828d31",
   "metadata": {},
   "outputs": [
    {
     "name": "stdout",
     "output_type": "stream",
     "text": [
      "dict_keys(['paths', 'LoS', 'location', 'distance', 'pathloss', 'channel'])\n"
     ]
    }
   ],
   "source": [
    "user_data = dataset[0][0]['user']\n",
    "print(user_data.keys())"
   ]
  },
  {
   "cell_type": "markdown",
   "id": "bc5a3b0c",
   "metadata": {},
   "source": [
    "# 사용자 채널 정보 확인"
   ]
  },
  {
   "cell_type": "code",
   "execution_count": 12,
   "id": "23b2884b",
   "metadata": {},
   "outputs": [
    {
     "name": "stdout",
     "output_type": "stream",
     "text": [
      "(727, 1, 32, 64)\n"
     ]
    }
   ],
   "source": [
    "# subcarries = 나눈 각각의 주파수 채널\n",
    "# Channel = H <- 채널 벡터\n",
    "# 채널 형태\n",
    "# (user, UE antenna, Bs antenna, subcarrier)\n",
    "channel = dataset[0][0]['user']['channel']\n",
    "print(channel.shape)  "
   ]
  },
  {
   "cell_type": "code",
   "execution_count": 13,
   "id": "bf443dc9",
   "metadata": {},
   "outputs": [
    {
     "name": "stdout",
     "output_type": "stream",
     "text": [
      "[[[ 8.57045598e-06+5.5781261e-06j  8.89099283e-06+5.0515800e-06j\n",
      "    9.17921989e-06+4.5066768e-06j ... -1.02173499e-05-4.1711201e-07j\n",
      "   -1.02239183e-05+1.9928974e-07j -1.01933329e-05+8.1496728e-07j]\n",
      "  [ 1.02161603e-05+4.4529790e-07j  1.02244285e-05-1.7108337e-07j\n",
      "    1.01955429e-05-7.8684292e-07j ... -9.00999748e-06+4.8361312e-06j\n",
      "   -8.70222630e-06+5.3702393e-06j -8.36283198e-06+5.8848323e-06j]\n",
      "  [ 9.02330430e-06-4.8112561e-06j  8.71700831e-06-5.3462113e-06j\n",
      "    8.37903553e-06-5.8617388e-06j ... -5.29921817e-06+8.7456565e-06j\n",
      "   -4.76262221e-06+9.0490685e-06j -4.20871947e-06+9.3195977e-06j]\n",
      "  ...\n",
      "  [-7.00710962e-06-7.4477266e-06j -7.44313866e-06-7.0119827e-06j\n",
      "   -7.85211978e-06-6.5507575e-06j ...  9.82847632e-06+2.8229874e-06j\n",
      "    9.98071755e-06+2.2256456e-06j  1.00966881e-05+1.6202162e-06j]\n",
      "  [-9.82065103e-06-2.8500913e-06j -9.97453935e-06-2.2531719e-06j\n",
      "   -1.00921798e-05-1.6480645e-06j ...  9.89848286e-06-2.5667589e-06j\n",
      "    9.72583803e-06-3.1585257e-06j  9.51785023e-06-3.7388147e-06j]\n",
      "  [-9.90552599e-06+2.5394413e-06j -9.73451461e-06+3.1316822e-06j\n",
      "   -9.52812843e-06+3.7125428e-06j ...  7.21819652e-06-7.2433313e-06j\n",
      "    6.76863647e-06-7.6651013e-06j  6.29447914e-06-8.0590162e-06j]]]\n"
     ]
    }
   ],
   "source": [
    "print(dataset[0][0]['user']['channel'][100])"
   ]
  },
  {
   "cell_type": "markdown",
   "id": "2b079846",
   "metadata": {},
   "source": [
    "# 사용자 위치 정보"
   ]
  },
  {
   "cell_type": "code",
   "execution_count": 14,
   "id": "84337e94",
   "metadata": {},
   "outputs": [
    {
     "name": "stdout",
     "output_type": "stream",
     "text": [
      "(727, 3)\n",
      "[[-71.03330231 -15.57629967   1.        ]\n",
      " [-68.63330078 -15.57629967   1.        ]\n",
      " [-52.83330154 -15.57629967   1.        ]\n",
      " [-31.23329926 -15.57629967   1.        ]]\n"
     ]
    }
   ],
   "source": [
    "location = dataset[0][0]['user']['location']\n",
    "print(location.shape)      # (사용자 수, 3)\n",
    "print(location[0:4])         # 첫 번째 사용자의 (x, y, z)"
   ]
  },
  {
   "cell_type": "markdown",
   "id": "60e9a9b6",
   "metadata": {},
   "source": [
    "# 경로정보"
   ]
  },
  {
   "cell_type": "code",
   "execution_count": 15,
   "id": "79cde8ee",
   "metadata": {},
   "outputs": [
    {
     "name": "stdout",
     "output_type": "stream",
     "text": [
      "727\n",
      "{'num_paths': 2, 'DoD_phi': array([-160.941, -160.941], dtype=float32), 'DoD_theta': array([93.6525, 94.7439], dtype=float32), 'DoA_phi': array([19.0585, 19.0585], dtype=float32), 'DoA_theta': array([86.3475, 94.7439], dtype=float32), 'phase': array([ 143.357, -137.611], dtype=float32), 'ToA': array([2.61886e-07, 2.62253e-07], dtype=float32), 'LoS': array([1., 0.], dtype=float32), 'power': array([7.5363324e-09, 3.2098095e-09], dtype=float32)}\n"
     ]
    }
   ],
   "source": [
    "paths = dataset[0][0]['user']['paths']\n",
    "#사용자 수\n",
    "print(len(paths))\n",
    "# 첫 번째 사용자 경로 정보\n",
    "print(paths[0])"
   ]
  },
  {
   "cell_type": "markdown",
   "id": "f2242869",
   "metadata": {},
   "source": [
    "# 기지국 정보"
   ]
  },
  {
   "cell_type": "code",
   "execution_count": 16,
   "id": "2900e481",
   "metadata": {},
   "outputs": [
    {
     "name": "stdout",
     "output_type": "stream",
     "text": [
      "dict_keys(['paths', 'LoS', 'location', 'distance', 'pathloss', 'channel'])\n"
     ]
    }
   ],
   "source": [
    "bs_data = dataset[0][0]['basestation']\n",
    "print(bs_data.keys())\n"
   ]
  },
  {
   "cell_type": "markdown",
   "id": "c063ea95",
   "metadata": {},
   "source": [
    "# Scene 및 사용자 수"
   ]
  },
  {
   "cell_type": "code",
   "execution_count": 17,
   "id": "a20df92d",
   "metadata": {},
   "outputs": [
    {
     "name": "stdout",
     "output_type": "stream",
     "text": [
      "Scene 0: 727 users\n"
     ]
    }
   ],
   "source": [
    "for i, scene in enumerate(dataset[0]):\n",
    "    user_locs = scene['user']['location']\n",
    "    print(f\"Scene {i}: {len(user_locs)} users\")"
   ]
  },
  {
   "cell_type": "markdown",
   "id": "b38f71e1",
   "metadata": {},
   "source": [
    "# 채널 수"
   ]
  },
  {
   "cell_type": "code",
   "execution_count": 18,
   "id": "cbbee52e",
   "metadata": {},
   "outputs": [
    {
     "data": {
      "text/plain": [
       "727"
      ]
     },
     "execution_count": 18,
     "metadata": {},
     "output_type": "execute_result"
    }
   ],
   "source": [
    "len(dataset[0][0]['user']['channel'])"
   ]
  },
  {
   "cell_type": "code",
   "execution_count": 19,
   "id": "2d474195",
   "metadata": {},
   "outputs": [
    {
     "name": "stdout",
     "output_type": "stream",
     "text": [
      "{'num_paths': 2, 'DoD_phi': array([-160.941, -160.941], dtype=float32), 'DoD_theta': array([93.6525, 94.7439], dtype=float32), 'DoA_phi': array([19.0585, 19.0585], dtype=float32), 'DoA_theta': array([86.3475, 94.7439], dtype=float32), 'phase': array([ 143.357, -137.611], dtype=float32), 'ToA': array([2.61886e-07, 2.62253e-07], dtype=float32), 'LoS': array([1., 0.], dtype=float32), 'power': array([7.5363324e-09, 3.2098095e-09], dtype=float32)}\n"
     ]
    }
   ],
   "source": [
    "print(dataset[0][0]['user']['paths'][0])"
   ]
  },
  {
   "cell_type": "code",
   "execution_count": 20,
   "id": "73df9912",
   "metadata": {},
   "outputs": [
    {
     "name": "stdout",
     "output_type": "stream",
     "text": [
      "(1, 32, 64)\n"
     ]
    }
   ],
   "source": [
    "scene = dataset[0][0] # scene 0\n",
    "ue_idx = 0 # 첫 번째 사용자\n",
    "channel = scene['user']['channel'][ue_idx]\n",
    "print(channel.shape)"
   ]
  },
  {
   "cell_type": "markdown",
   "id": "373ffb59",
   "metadata": {},
   "source": [
    "# channel CIR mat 정보 가져오기"
   ]
  },
  {
   "cell_type": "code",
   "execution_count": 21,
   "id": "ec4461cb",
   "metadata": {},
   "outputs": [
    {
     "name": "stdout",
     "output_type": "stream",
     "text": [
      "dict_keys(['__header__', '__version__', '__globals__', 'CIR_array_full'])\n"
     ]
    }
   ],
   "source": [
    "import scipy.io as sio\n",
    "\n",
    "file_path = r'C:\\Users\\dlghd\\졸업프로젝트\\LWM\\O2_dyn_3p5\\scene_0\\O2_dyn_3p5.1.CIR.mat'\n",
    "mat_data = sio.loadmat(file_path)\n",
    "\n",
    "# 파일 안의 key 확인\n",
    "print(mat_data.keys())\n",
    "\n",
    "\n"
   ]
  },
  {
   "cell_type": "code",
   "execution_count": 22,
   "id": "662cb441",
   "metadata": {},
   "outputs": [
    {
     "name": "stdout",
     "output_type": "stream",
     "text": [
      "b'MATLAB 5.0 MAT-file, Platform: PCWIN64, Created on: Wed Jun 30 11:33:01 2021'\n"
     ]
    }
   ],
   "source": [
    "# 일반적으로 CIR key는 'CIR' 또는 'cir' 같은 이름일 가능성 높음\n",
    "H_cir = mat_data['__header__']  \n",
    "print(H_cir)"
   ]
  },
  {
   "cell_type": "markdown",
   "id": "88f3d7c7",
   "metadata": {},
   "source": [
    "# Time-Prediction 시작\n",
    "## Time Series 형태로 변환\n",
    "### 단일사용자 채널 예측"
   ]
  },
  {
   "cell_type": "code",
   "execution_count": 23,
   "id": "4f36971f",
   "metadata": {},
   "outputs": [
    {
     "name": "stdout",
     "output_type": "stream",
     "text": [
      "0이 존재하는 채널 개수 0\n"
     ]
    }
   ],
   "source": [
    "# print(dataset[0][0]['user']['channel'][150][0][3])\n",
    "\n",
    "count = 0\n",
    "for h in dataset[0][0]['user']['channel'][100][0]:\n",
    "#     h = h.squeeze(0)\n",
    "    h_real = h.real\n",
    "    h_imag = h.imag\n",
    "    if np.sum(np.abs(h_real)) ==0:\n",
    "        count+=1\n",
    "    elif np.sum(np.abs(h_imag)) == 0:\n",
    "        count+=1\n",
    "\n",
    "print(\"0이 존재하는 채널 개수\",count)"
   ]
  },
  {
   "cell_type": "code",
   "execution_count": 24,
   "id": "7575de2b",
   "metadata": {},
   "outputs": [
    {
     "name": "stdout",
     "output_type": "stream",
     "text": [
      "Antenna #3 subcarriers: [ 5.3233252e-06-8.73100362e-06j  4.7875683e-06-9.03589535e-06j\n",
      "  4.2344141e-06-9.30795068e-06j  3.6658719e-06-9.54618190e-06j\n",
      "  3.0840083e-06-9.74972318e-06j  2.4909377e-06-9.91783418e-06j\n",
      "  1.8888149e-06-1.00499046e-05j  1.2798286e-06-1.01454543e-05j\n",
      "  6.6619128e-07-1.02041367e-05j  5.0133124e-08-1.02257372e-05j\n",
      " -5.6610725e-07-1.02101776e-05j -1.1802904e-06-1.01575160e-05j\n",
      " -1.7901845e-06-1.00679417e-05j -2.3935731e-06-9.94178117e-06j\n",
      " -2.9882635e-06-9.77949367e-06j -3.5720950e-06-9.58166765e-06j\n",
      " -4.1429457e-06-9.34902255e-06j -4.6987411e-06-9.08240327e-06j\n",
      " -5.2374617e-06-8.78277933e-06j -5.7571492e-06-8.45123941e-06j\n",
      " -6.2559161e-06-8.08898767e-06j -6.7319493e-06-7.69734197e-06j\n",
      " -7.1835188e-06-7.27772431e-06j -7.6089841e-06-6.83165945e-06j\n",
      " -8.0067985e-06-6.36076902e-06j -8.3755176e-06-5.86676424e-06j\n",
      " -8.7137996e-06-5.35144000e-06j -9.0204167e-06-4.81666848e-06j\n",
      " -9.2942537e-06-4.26439374e-06j -9.5343166e-06-3.69662257e-06j\n",
      " -9.7397324e-06-3.11541817e-06j -9.9097542e-06-2.52289237e-06j\n",
      " -1.0043765e-05-1.92119842e-06j -1.0141277e-05-1.31252318e-06j\n",
      " -1.0201937e-05-6.99078271e-07j -1.0225523e-05-8.30929494e-08j\n",
      " -1.0211949e-05+5.33194338e-07j -1.0161268e-05+1.14754403e-06j\n",
      " -1.0073660e-05+1.75772368e-06j -9.9494455e-06+2.36151573e-06j\n",
      " -9.7890743e-06+2.95672635e-06j -9.5931318e-06+3.54119220e-06j\n",
      " -9.3623275e-06+4.11278961e-06j -9.0975009e-06+4.66944175e-06j\n",
      " -8.7996150e-06+5.20912499e-06j -8.4697522e-06+5.72987892e-06j\n",
      " -8.1091102e-06+6.22981088e-06j -7.7190007e-06+6.70710369e-06j\n",
      " -7.3008405e-06+7.16002387e-06j -6.8561499e-06+7.58692431e-06j\n",
      " -6.3865441e-06+7.98625479e-06j -5.8937303e-06+8.35656374e-06j\n",
      " -5.3794988e-06+8.69650557e-06j -4.8457186e-06+9.00484429e-06j\n",
      " -4.2943293e-06+9.28046029e-06j -3.7273348e-06+9.52235223e-06j\n",
      " -3.1467955e-06+9.72963971e-06j -2.5548209e-06+9.90157059e-06j\n",
      " -1.9535621e-06+1.00375200e-05j -1.3452043e-06+1.01369933e-05j\n",
      " -7.3195804e-07+1.01996302e-05j -1.1605191e-07+1.02252015e-05j\n",
      "  5.0027592e-07+1.02136155e-05j  1.1147858e-06+1.01649139e-05j]\n",
      "0+0j인 서브캐리어 개수: 0\n",
      "완전 0+0j 안테나 포트 개수: 0\n",
      "0이 아닌 서브캐리어 개수: 2048\n"
     ]
    }
   ],
   "source": [
    "import numpy as np\n",
    "\n",
    "# 1) (user, ue_port, bs_ant, subc) → (bs_ant, subc) 로 squeeze\n",
    "H = dataset[0][0]['user']['channel'][100, 0]   # shape: (32, 64), complex\n",
    "\n",
    "# 2) BS 안테나 인덱스 3의 서브캐리어 벡터 (64,)\n",
    "print(\"Antenna #3 subcarriers:\", H[3])\n",
    "\n",
    "# 3) 전체 서브캐리어(32×64) 중 값이 정확히 0인 요소 개수\n",
    "zero_elements = np.sum(H == 0)\n",
    "print(\"0+0j인 서브캐리어 개수:\", zero_elements)\n",
    "\n",
    "# 4) 서브캐리어 전부가 0인 안테나 포트(행) 개수\n",
    "zero_ports = np.sum(np.all(H == 0, axis=1))\n",
    "print(\"완전 0+0j 안테나 포트 개수:\", zero_ports)\n",
    "\n",
    "# 5) 만약 “값이 하나도 0이 아닌” 서브캐리어 요소 개수를 보고 싶다면\n",
    "nonzero_elements = np.sum(np.abs(H) > 0)\n",
    "print(\"0이 아닌 서브캐리어 개수:\", nonzero_elements)\n"
   ]
  },
  {
   "cell_type": "markdown",
   "id": "a20a73af",
   "metadata": {},
   "source": [
    "## 결측치 제거 및 dataload"
   ]
  },
  {
   "cell_type": "code",
   "execution_count": 25,
   "id": "94309077",
   "metadata": {},
   "outputs": [],
   "source": [
    "# ─────────────────────────────────────────────\n",
    "# ❶ IterableDataset: 모든 유저·서브캐리어를 스트리밍\n",
    "import torch\n",
    "from torch.utils.data import IterableDataset, DataLoader\n",
    "import numpy as np\n",
    "\n",
    "class ChannelSeqDataset(IterableDataset):\n",
    "    \"\"\"\n",
    "    • seq_len 개의 과거 채널 벡터(real 64 + imag 64 → 128) → 다음 시점 벡터 예측\n",
    "    • 벡터는 평균전력 1 로 power‑normalize 후 반환\n",
    "    \"\"\"\n",
    "    def __init__(self, scenes, seq_len: int = 5, eps: float = 1e-9):\n",
    "        super().__init__()\n",
    "        self.scenes   = scenes\n",
    "        self.seq_len  = seq_len\n",
    "        self.eps      = eps                        # 0 division 방지용 신호세기의 크기 \n",
    "        ch0           = scenes[0][0]['user']['channel']\n",
    "        self.U        = ch0.shape[0]               # 사용자 수\n",
    "        self.A        = ch0.shape[2]               # 안테나 32\n",
    "        self.S        = ch0.shape[3]               # 서브캐리어 64\n",
    "        self.vec_len  = 2 * self.A                 # 64 real + imag\n",
    "        0\n",
    "    def _vec(self, scene, u: int, sc: int) -> torch.Tensor:\n",
    "        \"\"\"(32,) complex → (64,) float32  +  power norm\"\"\"\n",
    "        h = scene[0]['user']['channel'][u, 0, :, sc]          # (32,)\n",
    "        v = np.concatenate([h.real, h.imag]).astype(np.float32)\n",
    "        p = np.mean(v * v) + self.eps                         # 평균 전력: 채널 벡터 h의 각 성분의 진폭 제곱을 합산\n",
    "        v /= np.sqrt(p)                                       # 정규화\n",
    "        return torch.from_numpy(v)                            # (64,)\n",
    "\n",
    "    def __iter__(self):\n",
    "        T = len(self.scenes)\n",
    "        for t in range(self.seq_len, T):                      # 타깃 시점\n",
    "            past_scenes = self.scenes[t - self.seq_len : t]\n",
    "            tgt_scene   = self.scenes[t]\n",
    "            for u in range(self.U):\n",
    "                for s in range(self.S):\n",
    "                    seq = torch.stack([self._vec(ps, u, s) for ps in past_scenes])\n",
    "                    if not torch.any(seq):                    # 전부 0 이면 skip\n",
    "                        continue\n",
    "                    target     = self._vec(tgt_scene, u, s)\n",
    "                    if not torch.any(target): # target이 0이면 스킵\n",
    "                        continue\n",
    "                    masked_pos = torch.tensor([self.seq_len - 2], dtype=torch.long)\n",
    "                    yield seq, masked_pos, target             # shapes: (5,64) / (1,) / (64,)\n",
    "    \n",
    "    def __len__(self):\n",
    "         return (len(self.scenes) - self.seq_len) * self.U * self.S\n",
    "# ─────────────────────────────────────────────\n",
    "# ❷ 학습·검증 DataLoader train : val = 6 : 4\n",
    "seq_len      = 5\n",
    "split_ratio  = 0.6\n",
    "split_idx    = int(len(dataset) * split_ratio)\n",
    "\n",
    "train_ds = ChannelSeqDataset(dataset[:split_idx], seq_len=seq_len)\n",
    "val_ds   = ChannelSeqDataset(dataset[split_idx:], seq_len=seq_len)\n",
    "\n",
    "# train_ds 순회하면서 feature/target min, max 계산\n",
    "\n",
    "\n",
    "batch_size   = 32\n",
    "train_loader = DataLoader(train_ds, batch_size=batch_size, shuffle=False)\n",
    "val_loader   = DataLoader(val_ds,   batch_size=batch_size, shuffle=False)\n",
    "# ─────────────────────────────────────────────\n"
   ]
  },
  {
   "cell_type": "markdown",
   "id": "a7ec0a2b-01fc-4870-9401-a90d91359a99",
   "metadata": {},
   "source": [
    "## 다른모델 코드 비교와 아래 코드가 다름"
   ]
  },
  {
   "cell_type": "code",
   "execution_count": 26,
   "id": "21a23b60-4cf1-45de-9a26-ae1f1c1dfba1",
   "metadata": {},
   "outputs": [],
   "source": [
    "from sklearn.preprocessing   import MinMaxScaler\n",
    "from torch.utils.data        import TensorDataset, DataLoader\n",
    "\n",
    "# ❶ 모든 seq/mask/target을 한 번에 뽑아서 NumPy로\n",
    "X_list, mposes_list, y_list = [], [], []\n",
    "for seq, mpos, tgt in ChannelSeqDataset(dataset, seq_len=seq_len):\n",
    "    X_list.append( seq.numpy() )           # (seq_len, vec_len)\n",
    "    mposes_list.append( mpos.item() )      # 스칼라 마스크 인덱스\n",
    "    y_list.append( tgt.numpy() )           # (vec_len,)\n",
    "\n",
    "X       = np.stack(X_list,      axis=0)    # (N, seq_len, vec_len)\n",
    "mposes  = np.array(mposes_list).reshape(-1,1)  # (N, 1)\n",
    "y       = np.stack(y_list,      axis=0)    # (N, vec_len)\n",
    "\n",
    "# ❷ Train/Val split  (6:4)\n",
    "split_idx = int(len(X) * split_ratio)\n",
    "X_tr,  X_va  = X[:split_idx],  X[split_idx:]\n",
    "mp_tr, mp_va = mposes[:split_idx], mposes[split_idx:]\n",
    "y_tr,  y_va  = y[:split_idx],  y[split_idx:]\n",
    "\n",
    "# ❸ 스케일링 (X, y 만)\n",
    "scaler_x = MinMaxScaler(); scaler_y = MinMaxScaler()\n",
    "Ntr, L, D = X_tr.shape\n",
    "\n",
    "# train 에서만 fit\n",
    "scaler_x .fit( X_tr.reshape(-1, D) )\n",
    "scaler_y .fit( y_tr )\n",
    "\n",
    "# transform 후 원래 shape 복원\n",
    "X_tr_s = scaler_x.transform(X_tr.reshape(-1, D)).reshape(Ntr, L, D)\n",
    "X_va_s = scaler_x.transform(X_va.reshape(-1, D)).reshape(X_va.shape)\n",
    "y_tr_s = scaler_y.transform(y_tr)\n",
    "y_va_s = scaler_y.transform(y_va)\n",
    "\n",
    "# ❹ TensorDataset 에 세 개 모두 담기\n",
    "train_ds = TensorDataset(\n",
    "    torch.from_numpy(X_tr_s).float(),     # seqs\n",
    "    torch.from_numpy(mp_tr).long(),       # mposes\n",
    "    torch.from_numpy(y_tr_s).float()      # tgts\n",
    ")\n",
    "val_ds   = TensorDataset(\n",
    "    torch.from_numpy(X_va_s).float(),\n",
    "    torch.from_numpy(mp_va).long(),\n",
    "    torch.from_numpy(y_va_s).float()\n",
    ")\n",
    "\n",
    "train_loader = DataLoader(train_ds, batch_size=batch_size, shuffle=True)\n",
    "val_loader   = DataLoader(val_ds,   batch_size=batch_size, shuffle=False)\n",
    "\n",
    "# 이제 배치 언패킹이 딱 맞습니다!\n",
    "first_batch = next(iter(train_loader))\n",
    "seqs, mposes, tgts = first_batch   # (B, L, D), (B,1), (B, D)\n"
   ]
  },
  {
   "cell_type": "code",
   "execution_count": 27,
   "id": "0aaadd66",
   "metadata": {},
   "outputs": [
    {
     "data": {
      "text/plain": [
       "200563"
      ]
     },
     "execution_count": 27,
     "metadata": {},
     "output_type": "execute_result"
    }
   ],
   "source": [
    "len(train_ds) #4x727x64"
   ]
  },
  {
   "cell_type": "code",
   "execution_count": 28,
   "id": "90f5b39c",
   "metadata": {},
   "outputs": [
    {
     "data": {
      "text/plain": [
       "133709"
      ]
     },
     "execution_count": 28,
     "metadata": {},
     "output_type": "execute_result"
    }
   ],
   "source": [
    "len(val_ds) #1x727x64"
   ]
  },
  {
   "cell_type": "code",
   "execution_count": 29,
   "id": "fe8a8a2f",
   "metadata": {},
   "outputs": [
    {
     "name": "stdout",
     "output_type": "stream",
     "text": [
      "<torch.utils.data.dataloader.DataLoader object at 0x00000268CABB4B60>\n",
      "batch_size: 32\n",
      "dataset: <torch.utils.data.dataset.TensorDataset object at 0x00000268D7360290>\n",
      "total samples: 200563\n",
      "total batches: 6268\n",
      "seqs.shape: torch.Size([32, 5, 64])\n",
      "mposes.shape: torch.Size([32, 1])\n",
      "tgts.shape: torch.Size([32, 64])\n"
     ]
    }
   ],
   "source": [
    "# 1) DataLoader 설정 확인\n",
    "print(train_loader)                # DataLoader 정보 전체\n",
    "print(\"batch_size:\", train_loader.batch_size)\n",
    "print(\"dataset:\",   train_loader.dataset)\n",
    "\n",
    "# 총 샘플 수\n",
    "print(\"total samples:\", len(train_loader.dataset))\n",
    "# → (len(scenes) - seq_len) * U * S 와 동일한 값\n",
    "\n",
    "# 총 배치 수\n",
    "print(\"total batches:\", len(train_loader))\n",
    "# → ceil(total_samples / batch_size)\n",
    "\n",
    "\n",
    "# 3) 첫 번째 배치 내용 확인\n",
    "first_batch = next(iter(train_loader))\n",
    "seqs, mposes, tgts = first_batch\n",
    "print(\"seqs.shape:\",   seqs.shape)    # (B, seq_len, vec_len)\n",
    "print(\"mposes.shape:\", mposes.shape)  # (B, 1)\n",
    "print(\"tgts.shape:\",   tgts.shape)    # (B, vec_len)\n"
   ]
  },
  {
   "cell_type": "code",
   "execution_count": 30,
   "id": "87a41f65-8d0b-4a20-a8e2-e5e692bf2959",
   "metadata": {
    "scrolled": true
   },
   "outputs": [
    {
     "name": "stdout",
     "output_type": "stream",
     "text": [
      "<torch.utils.data.dataset.TensorDataset object at 0x00000268D7360290>\n",
      "전체 샘플 수 (len): 6268\n",
      "\n",
      "샘플 #0\n",
      "  seq shape : torch.Size([32, 5, 64])\n",
      "  masked_pos : tensor([[3],\n",
      "        [3],\n",
      "        [3],\n",
      "        [3],\n",
      "        [3],\n",
      "        [3],\n",
      "        [3],\n",
      "        [3],\n",
      "        [3],\n",
      "        [3],\n",
      "        [3],\n",
      "        [3],\n",
      "        [3],\n",
      "        [3],\n",
      "        [3],\n",
      "        [3],\n",
      "        [3],\n",
      "        [3],\n",
      "        [3],\n",
      "        [3],\n",
      "        [3],\n",
      "        [3],\n",
      "        [3],\n",
      "        [3],\n",
      "        [3],\n",
      "        [3],\n",
      "        [3],\n",
      "        [3],\n",
      "        [3],\n",
      "        [3],\n",
      "        [3],\n",
      "        [3]])\n",
      "  target shape: torch.Size([32, 64])\n",
      "  seq example:\n",
      " tensor([[[0.4092, 0.4482, 0.4773,  ..., 0.5761, 0.5733, 0.5585],\n",
      "         [0.4092, 0.4482, 0.4773,  ..., 0.5761, 0.5733, 0.5585],\n",
      "         [0.4092, 0.4482, 0.4773,  ..., 0.5761, 0.5733, 0.5585],\n",
      "         [0.4092, 0.4482, 0.4773,  ..., 0.5761, 0.5733, 0.5585],\n",
      "         [0.4092, 0.4482, 0.4773,  ..., 0.5761, 0.5733, 0.5585]],\n",
      "\n",
      "        [[0.6605, 0.6223, 0.5579,  ..., 0.2622, 0.3177, 0.3780],\n",
      "         [0.6671, 0.6096, 0.5225,  ..., 0.3766, 0.4352, 0.4938],\n",
      "         [0.6295, 0.6063, 0.5483,  ..., 0.3551, 0.4204, 0.4877],\n",
      "         [0.6519, 0.5909, 0.4961,  ..., 0.3196, 0.3445, 0.3832],\n",
      "         [0.7332, 0.6935, 0.6130,  ..., 0.2071, 0.2550, 0.3169]],\n",
      "\n",
      "        [[0.7218, 0.7331, 0.7226,  ..., 0.4382, 0.4496, 0.4580],\n",
      "         [0.6909, 0.6811, 0.6537,  ..., 0.2565, 0.3063, 0.3517],\n",
      "         [0.7367, 0.7684, 0.7680,  ..., 0.3673, 0.3745, 0.3731],\n",
      "         [0.6298, 0.6481, 0.6400,  ..., 0.3710, 0.4024, 0.4260],\n",
      "         [0.7243, 0.7447, 0.7361,  ..., 0.3275, 0.3562, 0.3763]],\n",
      "\n",
      "        ...,\n",
      "\n",
      "        [[0.5009, 0.5127, 0.5130,  ..., 0.5131, 0.5078, 0.4909],\n",
      "         [0.5334, 0.5479, 0.5508,  ..., 0.6141, 0.6090, 0.5936],\n",
      "         [0.5334, 0.5479, 0.5508,  ..., 0.6141, 0.6090, 0.5936],\n",
      "         [0.5334, 0.5479, 0.5508,  ..., 0.6141, 0.6090, 0.5936],\n",
      "         [0.5334, 0.5479, 0.5508,  ..., 0.6141, 0.6090, 0.5936]],\n",
      "\n",
      "        [[0.5110, 0.5320, 0.5407,  ..., 0.4574, 0.4595, 0.4479],\n",
      "         [0.4722, 0.4969, 0.5090,  ..., 0.4841, 0.4825, 0.4682],\n",
      "         [0.5219, 0.5436, 0.5530,  ..., 0.4436, 0.4455, 0.4331],\n",
      "         [0.4685, 0.4923, 0.5034,  ..., 0.4913, 0.4902, 0.4770],\n",
      "         [0.4953, 0.5183, 0.5288,  ..., 0.4665, 0.4667, 0.4536]],\n",
      "\n",
      "        [[0.5855, 0.4432, 0.3136,  ..., 0.2908, 0.2770, 0.3211],\n",
      "         [0.5855, 0.4432, 0.3136,  ..., 0.2908, 0.2770, 0.3211],\n",
      "         [0.5855, 0.4432, 0.3136,  ..., 0.2908, 0.2770, 0.3211],\n",
      "         [0.5855, 0.4432, 0.3136,  ..., 0.2908, 0.2770, 0.3211],\n",
      "         [0.5776, 0.3962, 0.2582,  ..., 0.2761, 0.2304, 0.2712]]])\n",
      "  target example:\n",
      " tensor([[0.4092, 0.4481, 0.4821,  ..., 0.5480, 0.5769, 0.5760],\n",
      "        [0.6183, 0.5603, 0.4803,  ..., 0.3101, 0.3512, 0.3910],\n",
      "        [0.6780, 0.7055, 0.7107,  ..., 0.3162, 0.3692, 0.3977],\n",
      "        ...,\n",
      "        [0.5225, 0.5408, 0.5529,  ..., 0.5796, 0.6038, 0.5991],\n",
      "        [0.5046, 0.5139, 0.5173,  ..., 0.4965, 0.5249, 0.5253],\n",
      "        [0.5776, 0.3961, 0.2609,  ..., 0.2462, 0.2370, 0.3001]])\n",
      "\n",
      "샘플 #1\n",
      "  seq shape : torch.Size([32, 5, 64])\n",
      "  masked_pos : tensor([[3],\n",
      "        [3],\n",
      "        [3],\n",
      "        [3],\n",
      "        [3],\n",
      "        [3],\n",
      "        [3],\n",
      "        [3],\n",
      "        [3],\n",
      "        [3],\n",
      "        [3],\n",
      "        [3],\n",
      "        [3],\n",
      "        [3],\n",
      "        [3],\n",
      "        [3],\n",
      "        [3],\n",
      "        [3],\n",
      "        [3],\n",
      "        [3],\n",
      "        [3],\n",
      "        [3],\n",
      "        [3],\n",
      "        [3],\n",
      "        [3],\n",
      "        [3],\n",
      "        [3],\n",
      "        [3],\n",
      "        [3],\n",
      "        [3],\n",
      "        [3],\n",
      "        [3]])\n",
      "  target shape: torch.Size([32, 64])\n",
      "  seq example:\n",
      " tensor([[[0.4383, 0.4744, 0.4996,  ..., 0.5504, 0.5357, 0.5107],\n",
      "         [0.4383, 0.4744, 0.4996,  ..., 0.5504, 0.5357, 0.5107],\n",
      "         [0.4383, 0.4744, 0.4996,  ..., 0.5504, 0.5357, 0.5107],\n",
      "         [0.2835, 0.3243, 0.3670,  ..., 0.6213, 0.5631, 0.4951],\n",
      "         [0.2835, 0.3243, 0.3670,  ..., 0.6213, 0.5631, 0.4951]],\n",
      "\n",
      "        [[0.5009, 0.5127, 0.5130,  ..., 0.5131, 0.5078, 0.4909],\n",
      "         [0.4723, 0.4851, 0.4861,  ..., 0.5395, 0.5329, 0.5158],\n",
      "         [0.5289, 0.5400, 0.5397,  ..., 0.4872, 0.4828, 0.4658],\n",
      "         [0.4909, 0.5044, 0.5063,  ..., 0.5214, 0.5143, 0.4961],\n",
      "         [0.5162, 0.5261, 0.5247,  ..., 0.5001, 0.4966, 0.4810]],\n",
      "\n",
      "        [[0.5361, 0.5449, 0.5424,  ..., 0.4852, 0.4832, 0.4684],\n",
      "         [0.5305, 0.5415, 0.5411,  ..., 0.4856, 0.4815, 0.4647],\n",
      "         [0.5023, 0.5157, 0.5175,  ..., 0.5087, 0.5021, 0.4837],\n",
      "         [0.4719, 0.4852, 0.4866,  ..., 0.5389, 0.5318, 0.5143],\n",
      "         [0.5009, 0.5127, 0.5130,  ..., 0.5131, 0.5078, 0.4909]],\n",
      "\n",
      "        ...,\n",
      "\n",
      "        [[0.5231, 0.5335, 0.5326,  ..., 0.4929, 0.4891, 0.4728],\n",
      "         [0.5096, 0.5223, 0.5234,  ..., 0.5076, 0.5014, 0.4834],\n",
      "         [0.4973, 0.5079, 0.5071,  ..., 0.5140, 0.5098, 0.4941],\n",
      "         [0.4995, 0.5126, 0.5140,  ..., 0.5170, 0.5103, 0.4923],\n",
      "         [0.5075, 0.5179, 0.5167,  ..., 0.5047, 0.5009, 0.4851]],\n",
      "\n",
      "        [[0.6166, 0.8370, 0.8759,  ..., 0.4678, 0.2553, 0.1450],\n",
      "         [0.6149, 0.7985, 0.8305,  ..., 0.4359, 0.2609, 0.1823],\n",
      "         [0.6149, 0.7985, 0.8305,  ..., 0.4359, 0.2609, 0.1823],\n",
      "         [0.6149, 0.7985, 0.8305,  ..., 0.4359, 0.2609, 0.1823],\n",
      "         [0.6149, 0.7985, 0.8305,  ..., 0.4359, 0.2609, 0.1823]],\n",
      "\n",
      "        [[0.5005, 0.5131, 0.5140,  ..., 0.4862, 0.4788, 0.4590],\n",
      "         [0.4683, 0.4766, 0.4736,  ..., 0.5511, 0.5406, 0.5200],\n",
      "         [0.4817, 0.4873, 0.4816,  ..., 0.5593, 0.5507, 0.5323],\n",
      "         [0.5342, 0.5396, 0.5340,  ..., 0.5066, 0.5013, 0.4841],\n",
      "         [0.5206, 0.5286, 0.5253,  ..., 0.5017, 0.4945, 0.4752]]])\n",
      "  target example:\n",
      " tensor([[0.2835, 0.3243, 0.3708,  ..., 0.5935, 0.5668, 0.5151],\n",
      "        [0.4873, 0.4991, 0.5045,  ..., 0.5012, 0.5279, 0.5268],\n",
      "        [0.4932, 0.5034, 0.5075,  ..., 0.4990, 0.5268, 0.5267],\n",
      "        ...,\n",
      "        [0.5249, 0.5362, 0.5418,  ..., 0.4636, 0.4917, 0.4910],\n",
      "        [0.6166, 0.8368, 0.8848,  ..., 0.4391, 0.2617, 0.1790],\n",
      "        [0.4743, 0.4814, 0.4823,  ..., 0.5267, 0.5475, 0.5413]])\n",
      "\n",
      "샘플 #2\n",
      "  seq shape : torch.Size([32, 5, 64])\n",
      "  masked_pos : tensor([[3],\n",
      "        [3],\n",
      "        [3],\n",
      "        [3],\n",
      "        [3],\n",
      "        [3],\n",
      "        [3],\n",
      "        [3],\n",
      "        [3],\n",
      "        [3],\n",
      "        [3],\n",
      "        [3],\n",
      "        [3],\n",
      "        [3],\n",
      "        [3],\n",
      "        [3],\n",
      "        [3],\n",
      "        [3],\n",
      "        [3],\n",
      "        [3],\n",
      "        [3],\n",
      "        [3],\n",
      "        [3],\n",
      "        [3],\n",
      "        [3],\n",
      "        [3],\n",
      "        [3],\n",
      "        [3],\n",
      "        [3],\n",
      "        [3],\n",
      "        [3],\n",
      "        [3]])\n",
      "  target shape: torch.Size([32, 64])\n",
      "  seq example:\n",
      " tensor([[[0.5975, 0.5661, 0.5234,  ..., 0.6740, 0.6471, 0.6039],\n",
      "         [0.5727, 0.5474, 0.5092,  ..., 0.5771, 0.5409, 0.4859],\n",
      "         [0.5712, 0.5407, 0.4988,  ..., 0.6696, 0.6385, 0.5908],\n",
      "         [0.6730, 0.6616, 0.6247,  ..., 0.6451, 0.5911, 0.5163],\n",
      "         [0.5976, 0.5871, 0.5516,  ..., 0.6238, 0.5641, 0.4830]],\n",
      "\n",
      "        [[0.5048, 0.5155, 0.5147,  ..., 0.5086, 0.5045, 0.4887],\n",
      "         [0.5122, 0.5224, 0.5212,  ..., 0.5011, 0.4973, 0.4815],\n",
      "         [0.5515, 0.5616, 0.5606,  ..., 0.4673, 0.4640, 0.4472],\n",
      "         [0.5249, 0.5370, 0.5376,  ..., 0.4932, 0.4878, 0.4701],\n",
      "         [0.4999, 0.5117, 0.5120,  ..., 0.5146, 0.5093, 0.4926]],\n",
      "\n",
      "        [[0.7419, 0.7098, 0.6389,  ..., 0.5035, 0.4149, 0.3295],\n",
      "         [0.7419, 0.7098, 0.6389,  ..., 0.5035, 0.4149, 0.3295],\n",
      "         [0.7419, 0.7098, 0.6389,  ..., 0.5035, 0.4149, 0.3295],\n",
      "         [0.5293, 0.5377, 0.5337,  ..., 0.5059, 0.4956, 0.4741],\n",
      "         [0.4837, 0.4870, 0.4785,  ..., 0.5587, 0.5423, 0.5165]],\n",
      "\n",
      "        ...,\n",
      "\n",
      "        [[0.5282, 0.5417, 0.5435,  ..., 0.5179, 0.5146, 0.4994],\n",
      "         [0.5034, 0.5201, 0.5249,  ..., 0.5080, 0.5024, 0.4845],\n",
      "         [0.4715, 0.4890, 0.4945,  ..., 0.5267, 0.5181, 0.4979],\n",
      "         [0.4628, 0.4759, 0.4773,  ..., 0.5748, 0.5655, 0.5466],\n",
      "         [0.4859, 0.4971, 0.4966,  ..., 0.5727, 0.5657, 0.5488]],\n",
      "\n",
      "        [[0.2235, 0.2298, 0.2828,  ..., 0.7331, 0.6797, 0.5802],\n",
      "         [0.2235, 0.2298, 0.2828,  ..., 0.7331, 0.6797, 0.5802],\n",
      "         [0.2235, 0.2298, 0.2828,  ..., 0.7331, 0.6797, 0.5802],\n",
      "         [0.3707, 0.3494, 0.3698,  ..., 0.6031, 0.5532, 0.4588],\n",
      "         [0.3133, 0.2773, 0.2873,  ..., 0.6193, 0.5885, 0.5110]],\n",
      "\n",
      "        [[0.6164, 0.6279, 0.6278,  ..., 0.4495, 0.4531, 0.4425],\n",
      "         [0.5967, 0.6072, 0.6059,  ..., 0.4714, 0.4754, 0.4662],\n",
      "         [0.5652, 0.5780, 0.5787,  ..., 0.4977, 0.4993, 0.4887],\n",
      "         [0.5868, 0.6005, 0.6023,  ..., 0.4748, 0.4760, 0.4641],\n",
      "         [0.5309, 0.5453, 0.5479,  ..., 0.4771, 0.4735, 0.4571]]])\n",
      "  target example:\n",
      " tensor([[0.6491, 0.6337, 0.6003,  ..., 0.6618, 0.6373, 0.5772],\n",
      "        [0.4907, 0.5016, 0.5062,  ..., 0.4922, 0.5202, 0.5201],\n",
      "        [0.5969, 0.5969, 0.5912,  ..., 0.5120, 0.5367, 0.5341],\n",
      "        ...,\n",
      "        [0.5089, 0.5194, 0.5239,  ..., 0.5284, 0.5555, 0.5547],\n",
      "        [0.1310, 0.1048, 0.1351,  ..., 0.7105, 0.7099, 0.6427],\n",
      "        [0.5515, 0.5632, 0.5694,  ..., 0.4322, 0.4646, 0.4673]])\n",
      "\n",
      "샘플 #3\n",
      "  seq shape : torch.Size([32, 5, 64])\n",
      "  masked_pos : tensor([[3],\n",
      "        [3],\n",
      "        [3],\n",
      "        [3],\n",
      "        [3],\n",
      "        [3],\n",
      "        [3],\n",
      "        [3],\n",
      "        [3],\n",
      "        [3],\n",
      "        [3],\n",
      "        [3],\n",
      "        [3],\n",
      "        [3],\n",
      "        [3],\n",
      "        [3],\n",
      "        [3],\n",
      "        [3],\n",
      "        [3],\n",
      "        [3],\n",
      "        [3],\n",
      "        [3],\n",
      "        [3],\n",
      "        [3],\n",
      "        [3],\n",
      "        [3],\n",
      "        [3],\n",
      "        [3],\n",
      "        [3],\n",
      "        [3],\n",
      "        [3],\n",
      "        [3]])\n",
      "  target shape: torch.Size([32, 64])\n",
      "  seq example:\n",
      " tensor([[[0.6625, 0.4965, 0.3293,  ..., 0.6395, 0.6879, 0.6899],\n",
      "         [0.6625, 0.4965, 0.3293,  ..., 0.6395, 0.6879, 0.6899],\n",
      "         [0.6625, 0.4965, 0.3293,  ..., 0.6395, 0.6879, 0.6899],\n",
      "         [0.6625, 0.4965, 0.3293,  ..., 0.6395, 0.6879, 0.6899],\n",
      "         [0.6625, 0.4965, 0.3293,  ..., 0.6395, 0.6879, 0.6899]],\n",
      "\n",
      "        [[0.5009, 0.5127, 0.5130,  ..., 0.5131, 0.5078, 0.4909],\n",
      "         [0.5009, 0.5127, 0.5130,  ..., 0.5131, 0.5078, 0.4909],\n",
      "         [0.5009, 0.5127, 0.5130,  ..., 0.5131, 0.5078, 0.4909],\n",
      "         [0.5242, 0.5358, 0.5359,  ..., 0.4928, 0.4878, 0.4704],\n",
      "         [0.4937, 0.5070, 0.5086,  ..., 0.5219, 0.5151, 0.4971]],\n",
      "\n",
      "        [[0.7357, 0.7038, 0.6527,  ..., 0.3430, 0.3403, 0.3294],\n",
      "         [0.7228, 0.6980, 0.6556,  ..., 0.3416, 0.3392, 0.3266],\n",
      "         [0.6821, 0.6590, 0.6184,  ..., 0.3461, 0.3398, 0.3235],\n",
      "         [0.6821, 0.6590, 0.6184,  ..., 0.3461, 0.3398, 0.3235],\n",
      "         [0.6821, 0.6590, 0.6184,  ..., 0.3461, 0.3398, 0.3235]],\n",
      "\n",
      "        ...,\n",
      "\n",
      "        [[0.5026, 0.5215, 0.5280,  ..., 0.5382, 0.5276, 0.5056],\n",
      "         [0.5026, 0.5215, 0.5280,  ..., 0.5382, 0.5276, 0.5056],\n",
      "         [0.5026, 0.5215, 0.5280,  ..., 0.5382, 0.5276, 0.5056],\n",
      "         [0.5026, 0.5215, 0.5280,  ..., 0.5382, 0.5276, 0.5056],\n",
      "         [0.5026, 0.5215, 0.5280,  ..., 0.5382, 0.5276, 0.5056]],\n",
      "\n",
      "        [[0.1584, 0.2274, 0.4117,  ..., 0.8295, 0.7644, 0.5801],\n",
      "         [0.1112, 0.1898, 0.4107,  ..., 0.8595, 0.8072, 0.6046],\n",
      "         [0.1112, 0.1898, 0.4107,  ..., 0.8595, 0.8072, 0.6046],\n",
      "         [0.1112, 0.1898, 0.4107,  ..., 0.8595, 0.8072, 0.6046],\n",
      "         [0.1112, 0.1898, 0.4107,  ..., 0.8595, 0.8072, 0.6046]],\n",
      "\n",
      "        [[0.5246, 0.5348, 0.5331,  ..., 0.5201, 0.5115, 0.4914],\n",
      "         [0.5246, 0.5348, 0.5331,  ..., 0.5201, 0.5115, 0.4914],\n",
      "         [0.5246, 0.5348, 0.5331,  ..., 0.5201, 0.5115, 0.4914],\n",
      "         [0.5246, 0.5348, 0.5331,  ..., 0.5201, 0.5115, 0.4914],\n",
      "         [0.5246, 0.5348, 0.5331,  ..., 0.5201, 0.5115, 0.4914]]])\n",
      "  target example:\n",
      " tensor([[0.6625, 0.4964, 0.3326,  ..., 0.6118, 0.6905, 0.7022],\n",
      "        [0.4749, 0.4873, 0.4933,  ..., 0.5086, 0.5346, 0.5332],\n",
      "        [0.6696, 0.6474, 0.6142,  ..., 0.3078, 0.3363, 0.3408],\n",
      "        ...,\n",
      "        [0.5200, 0.5466, 0.5661,  ..., 0.4539, 0.4817, 0.4798],\n",
      "        [0.1584, 0.2274, 0.4159,  ..., 0.8029, 0.7664, 0.5968],\n",
      "        [0.5571, 0.5676, 0.5721,  ..., 0.4614, 0.4888, 0.4873]])\n",
      "\n",
      "샘플 #4\n",
      "  seq shape : torch.Size([32, 5, 64])\n",
      "  masked_pos : tensor([[3],\n",
      "        [3],\n",
      "        [3],\n",
      "        [3],\n",
      "        [3],\n",
      "        [3],\n",
      "        [3],\n",
      "        [3],\n",
      "        [3],\n",
      "        [3],\n",
      "        [3],\n",
      "        [3],\n",
      "        [3],\n",
      "        [3],\n",
      "        [3],\n",
      "        [3],\n",
      "        [3],\n",
      "        [3],\n",
      "        [3],\n",
      "        [3],\n",
      "        [3],\n",
      "        [3],\n",
      "        [3],\n",
      "        [3],\n",
      "        [3],\n",
      "        [3],\n",
      "        [3],\n",
      "        [3],\n",
      "        [3],\n",
      "        [3],\n",
      "        [3],\n",
      "        [3]])\n",
      "  target shape: torch.Size([32, 64])\n",
      "  seq example:\n",
      " tensor([[[0.5152, 0.4255, 0.3228,  ..., 0.3415, 0.3604, 0.3952],\n",
      "         [0.5413, 0.5056, 0.4488,  ..., 0.3520, 0.3454, 0.3597],\n",
      "         [0.6701, 0.6873, 0.6805,  ..., 0.4516, 0.4430, 0.4232],\n",
      "         [0.5898, 0.5665, 0.5307,  ..., 0.3771, 0.3916, 0.3954],\n",
      "         [0.3996, 0.4347, 0.4614,  ..., 0.5961, 0.5672, 0.5258]],\n",
      "\n",
      "        [[0.4801, 0.4931, 0.4945,  ..., 0.5331, 0.5264, 0.5090],\n",
      "         [0.4919, 0.5050, 0.5065,  ..., 0.5232, 0.5165, 0.4986],\n",
      "         [0.5081, 0.5207, 0.5218,  ..., 0.5086, 0.5024, 0.4846],\n",
      "         [0.5676, 0.5761, 0.5731,  ..., 0.5093, 0.5091, 0.4970],\n",
      "         [0.5676, 0.5761, 0.5731,  ..., 0.5093, 0.5091, 0.4970]],\n",
      "\n",
      "        [[0.5086, 0.5377, 0.5556,  ..., 0.5741, 0.5831, 0.5799],\n",
      "         [0.4875, 0.5233, 0.5463,  ..., 0.6334, 0.6348, 0.6256],\n",
      "         [0.5468, 0.5759, 0.5927,  ..., 0.6243, 0.6260, 0.6164],\n",
      "         [0.5038, 0.5448, 0.5728,  ..., 0.5848, 0.5878, 0.5784],\n",
      "         [0.4496, 0.4844, 0.5067,  ..., 0.6188, 0.6166, 0.6032]],\n",
      "\n",
      "        ...,\n",
      "\n",
      "        [[0.3458, 0.3775, 0.4062,  ..., 0.5577, 0.5427, 0.5168],\n",
      "         [0.3373, 0.3664, 0.3925,  ..., 0.5815, 0.5642, 0.5368],\n",
      "         [0.3101, 0.3427, 0.3723,  ..., 0.5582, 0.5397, 0.5102],\n",
      "         [0.3101, 0.3427, 0.3723,  ..., 0.5582, 0.5397, 0.5102],\n",
      "         [0.3706, 0.3567, 0.3404,  ..., 0.5466, 0.5625, 0.5628]],\n",
      "\n",
      "        [[0.5319, 0.5430, 0.5426,  ..., 0.4854, 0.4820, 0.4659],\n",
      "         [0.5009, 0.5127, 0.5130,  ..., 0.5131, 0.5078, 0.4909],\n",
      "         [0.5009, 0.5127, 0.5130,  ..., 0.5131, 0.5078, 0.4909],\n",
      "         [0.5009, 0.5127, 0.5130,  ..., 0.5131, 0.5078, 0.4909],\n",
      "         [0.4915, 0.5055, 0.5078,  ..., 0.5136, 0.5064, 0.4877]],\n",
      "\n",
      "        [[0.4184, 0.4266, 0.4258,  ..., 0.4328, 0.4463, 0.4470],\n",
      "         [0.3903, 0.4009, 0.4024,  ..., 0.4309, 0.4419, 0.4400],\n",
      "         [0.3804, 0.3934, 0.3984,  ..., 0.4494, 0.4687, 0.4748],\n",
      "         [0.3804, 0.3934, 0.3984,  ..., 0.4494, 0.4687, 0.4748],\n",
      "         [0.3834, 0.3946, 0.3981,  ..., 0.4621, 0.4807, 0.4864]]])\n",
      "  target example:\n",
      " tensor([[0.5264, 0.4948, 0.4601,  ..., 0.4466, 0.5084, 0.5383],\n",
      "        [0.5930, 0.6001, 0.6023,  ..., 0.4580, 0.4923, 0.4972],\n",
      "        [0.5518, 0.5863, 0.6147,  ..., 0.5701, 0.6027, 0.6045],\n",
      "        ...,\n",
      "        [0.3762, 0.3707, 0.3658,  ..., 0.5520, 0.6027, 0.6190],\n",
      "        [0.4683, 0.4812, 0.4876,  ..., 0.5133, 0.5383, 0.5359],\n",
      "        [0.3535, 0.3665, 0.3755,  ..., 0.4408, 0.4898, 0.5090]])\n"
     ]
    }
   ],
   "source": [
    "# 1) train_ds 자체 정보 출력\n",
    "print(train_ds)\n",
    "print(\"전체 샘플 수 (len):\", len(train_loader))\n",
    "\n",
    "# 2) 앞에서 5개 예시 뽑아서 확인\n",
    "for idx, (seq, mpos, tgt) in enumerate(train_loader):\n",
    "    print(f\"\\n샘플 #{idx}\")\n",
    "    print(\"  seq shape :\", seq.shape)    # (seq_len, feat_dim)\n",
    "    print(\"  masked_pos :\", mpos)        # tensor([ ... ])\n",
    "    print(\"  target shape:\", tgt.shape)   # (feat_dim,)\n",
    "    print(\"  seq example:\\n\", seq)        # 실제 값 보기\n",
    "    print(\"  target example:\\n\", tgt)\n",
    "    if idx >= 4:\n",
    "        break\n"
   ]
  },
  {
   "cell_type": "markdown",
   "id": "b3348886",
   "metadata": {},
   "source": [
    "## 이론적 input_size"
   ]
  },
  {
   "cell_type": "code",
   "execution_count": 31,
   "id": "ccebf6ff-5f90-47c7-9f2d-64498d5de98c",
   "metadata": {},
   "outputs": [
    {
     "name": "stdout",
     "output_type": "stream",
     "text": [
      "▶ 이론상 전체 가능 시퀀스: 465280\n",
      "▶ 이론상 Train 최대 샘플: 279168\n",
      "▶ 이론상 Val   최대 샘플: 186112\n"
     ]
    }
   ],
   "source": [
    "# (1) 장면(scene) 수, 시퀀스 길이\n",
    "T = len(dataset)\n",
    "L = 5          # 이제 int!\n",
    "\n",
    "# (2) 사용자 수(U), 서브캐리어 수(S)\n",
    "ch0 = dataset[0][0]['user']['channel']  # shape = (U,1,A,S)\n",
    "U   = ch0.shape[0]\n",
    "S   = ch0.shape[3]\n",
    "\n",
    "# (3) 이론상 최대 시퀀스 수\n",
    "total_possible = (T - L) * U * S\n",
    "\n",
    "# (4) train/val 분할 기준에서 이론상 최대 개수\n",
    "train_max = int(total_possible * split_ratio)\n",
    "val_max   = total_possible - train_max\n",
    "\n",
    "print(f\"▶ 이론상 전체 가능 시퀀스: {total_possible}\")\n",
    "print(f\"▶ 이론상 Train 최대 샘플: {train_max}\")\n",
    "print(f\"▶ 이론상 Val   최대 샘플: {val_max}\")\n"
   ]
  },
  {
   "cell_type": "code",
   "execution_count": 32,
   "id": "ff85e07d",
   "metadata": {},
   "outputs": [
    {
     "name": "stdout",
     "output_type": "stream",
     "text": [
      "▶ 실제 전체 샘플 수: 334272\n",
      "▶ 실제   Train 샘플 수: 200563   → 배치 수: 6268\n",
      "▶ 실제   Val   샘플 수: 133709   → 배치 수: 4179\n"
     ]
    }
   ],
   "source": [
    "import numpy as np\n",
    "\n",
    "# 전체 실제 샘플 수\n",
    "N_total   = X.shape[0]\n",
    "# 실제 train/val 샘플 수\n",
    "N_train   = X_tr.shape[0]\n",
    "N_val     = X_va.shape[0]\n",
    "\n",
    "# 실제 배치 수 (올림)\n",
    "bsize     = batch_size\n",
    "B_train   = int(np.ceil(N_train / bsize))\n",
    "B_val     = int(np.ceil(N_val   / bsize))\n",
    "\n",
    "print(f\"▶ 실제 전체 샘플 수: {N_total}\")\n",
    "print(f\"▶ 실제   Train 샘플 수: {N_train}   → 배치 수: {B_train}\")\n",
    "print(f\"▶ 실제   Val   샘플 수: {N_val}   → 배치 수: {B_val}\")\n"
   ]
  },
  {
   "cell_type": "markdown",
   "id": "4cf6bac8",
   "metadata": {},
   "source": [
    "# 아래 코드 구조\n",
    "┌──────────────────────────────────────────────────────────────┐\n",
    "│ input_ids  (B, seq_len, element_length)  ─┐                 │\n",
    "│ masked_pos (B, num_mask)                  ├─>  LWM backbone │\n",
    "│                                           │    (12-층 트랜스포머)  \n",
    "└────────────────────────────────────────────┘         │\n",
    "            logits_lm  (B, num_mask, element_length)  │   enc_output (B, seq_len, d_model)\n",
    "                                                      ▼\n",
    "                        ┌─[풀링]───────────────┐      ←── feat (B, d_model)\n",
    "                        │ 첫 토큰(0번) 선택    │\n",
    "                        │   or 평균/최대 풀링 │\n",
    "                        └──────────────────────┘\n",
    "                                      ▼\n",
    "                       FC 헤드  (d_model → hidden_dim → out_dim)\n",
    "                                      ▼\n",
    "                                out (B, out_dim)\n",
    "\n",
    "# 시각적비유\n",
    "\n",
    "[패치 프로젝터]──▶[Transformer ×12]──▶[LayerNorm]──┐\n",
    "                                                  ├─▶ 64-차 벡터 (CLS 또는 풀링) ─▶ MLP ─▶ out                                                \n",
    "[Positional Embedding]─────────────────────────────┘\n"
   ]
  },
  {
   "cell_type": "code",
   "execution_count": 33,
   "id": "7d882a4d",
   "metadata": {},
   "outputs": [],
   "source": [
    "\"\"\"\n",
    "LWMWithHead: 사전학습된 LWM(Transformer encoder)을 ‘백본(backbone)’으로 사용하고,\n",
    "             그 뒤에 새로운 완전연결(FC) 헤드(head)를 붙여 다운스트림 작업\n",
    "             (회귀·분류 등)에 사용할 수 있도록 만든 래퍼(wrapper) 클래스입니다.\n",
    "\n",
    "변경점:\n",
    "- input_dim: 실제 데이터 차원 (예: 64)\n",
    "- patch_length: backbone이 기대하는 패치 길이 (예: 16)\n",
    "- 기존 element_length 파라미터 대신 위 두 개로 명확히 분리\n",
    "- forward()에서 투영 레이어(self.input_proj) 적용\n",
    "\"\"\"\n",
    "\n",
    "import torch\n",
    "import torch.nn as nn\n",
    "from lwm_model import lwm   # 기존 LWM 모델 클래스\n",
    "\n",
    "class LWMWithHead(nn.Module):\n",
    "    def __init__(\n",
    "        self,\n",
    "        input_dim:      int,    # 실제 입력 벡터 차원, 예: 64 (real+imag 합친 길이)\n",
    "        patch_length:   int,    # backbone in_features, 예: 16 (사전학습된 패치 길이)\n",
    "        d_model:        int = 64,# backbone hidden size (사전학습된 d_model)\n",
    "        max_len:        int = 129,# 포지셔널 인코딩 최대 길이\n",
    "        n_layers:       int = 12,# transformer encoder 층 수\n",
    "        hidden_dim:     int = 256,# 헤드 FC 중간 차원\n",
    "        out_dim:        int = 64, # 최종 출력 차원\n",
    "        freeze_backbone: bool = True,  # 백본 동결 여부\n",
    "        ckpt_path:      str | None = \"./model_weights.pth\", \n",
    "        device:         str = \"cuda\",\n",
    "    ):\n",
    "        super().__init__()\n",
    "\n",
    "        # ────────────────────────────────────\n",
    "        # ➊ 입력 투영 레이어\n",
    "        #   • 실제 데이터(input_dim) → patch_length 차원으로 줄여줌\n",
    "        #   • backbone이 기대하는 in_features 길이에 맞추기 위함\n",
    "        # ────────────────────────────────────\n",
    "        self.input_proj = nn.Linear(input_dim, patch_length)\n",
    "\n",
    "        # ────────────────────────────────────\n",
    "        # ➋ 백본(backbone) 초기화\n",
    "        # ────────────────────────────────────\n",
    "        if ckpt_path is None:\n",
    "            # 랜덤 초기화된 backbone\n",
    "            self.backbone = lwm(\n",
    "                element_length=patch_length,\n",
    "                d_model=d_model,\n",
    "                max_len=max_len,\n",
    "                n_layers=n_layers\n",
    "            ).to(device)\n",
    "        else:\n",
    "            # 사전학습 가중치 로드\n",
    "            self.backbone = lwm.from_pretrained(\n",
    "                ckpt_name=ckpt_path,\n",
    "                device=device\n",
    "            )\n",
    "        # 백본 동결(gradient off)\n",
    "        if freeze_backbone:\n",
    "            for p in self.backbone.parameters():\n",
    "                p.requires_grad = False\n",
    "\n",
    "        # ────────────────────────────────────\n",
    "        # ➌ 다운스트림 FC 헤드 정의\n",
    "        #   • d_model → hidden_dim → out_dim\n",
    "        # ────────────────────────────────────\n",
    "        self.head = nn.Sequential(\n",
    "            nn.Linear(d_model, hidden_dim),\n",
    "            nn.ReLU(),\n",
    "            nn.Linear(hidden_dim, out_dim)\n",
    "        )\n",
    "\n",
    "    def forward(self, input_ids, masked_pos):\n",
    "        \"\"\"\n",
    "        Parameters\n",
    "        ----------\n",
    "        input_ids : Tensor  (B, seq_len, input_dim)\n",
    "            원본 채널 시퀀스, 예: (B, 5, 64)\n",
    "        masked_pos: Tensor  (B, num_mask)\n",
    "            backbone의 masked position 인덱스\n",
    "\n",
    "        Returns\n",
    "        -------\n",
    "        out : Tensor  (B, out_dim)\n",
    "            최종 FC 헤드를 거친 예측값\n",
    "        \"\"\"\n",
    "        # ────────────────────────────────────\n",
    "        # 1) 입력 투영: (B, L, 64) → (B, L, 16)\n",
    "        # ────────────────────────────────────\n",
    "        x = self.input_proj(input_ids)\n",
    "\n",
    "        # ────────────────────────────────────\n",
    "        # 2) backbone forward\n",
    "        #    • logits_lm (unused), enc_output: (B, L, d_model)\n",
    "        # ────────────────────────────────────\n",
    "        _, enc_output = self.backbone(x, masked_pos)\n",
    "\n",
    "        # ────────────────────────────────────\n",
    "        # 3) 특징 추출: CLS 토큰 벡터 (첫 번째 토큰)\n",
    "        #    • feat: (B, d_model)\n",
    "        # ────────────────────────────────────\n",
    "        feat = enc_output[:, 0, :]\n",
    "\n",
    "        # ────────────────────────────────────\n",
    "        # 4) FC 헤드 통과\n",
    "        #    • out: (B, out_dim)\n",
    "        # ────────────────────────────────────\n",
    "        out = self.head(feat)\n",
    "        return out\n"
   ]
  },
  {
   "cell_type": "markdown",
   "id": "0f3cec5b",
   "metadata": {},
   "source": [
    "## input_size\n",
    "-input_size = (scene - seq_len) * U * S -> (10-5)+69040*64 = 22092800  \n",
    "-batch_size = 32  \n",
    "-배치 수 = input_size / batch_size = 690400배치"
   ]
  },
  {
   "cell_type": "code",
   "execution_count": 34,
   "id": "6d041ddd-88c1-412e-ab42-cd4326695f3a",
   "metadata": {},
   "outputs": [
    {
     "data": {
      "text/plain": [
       "(200563, 5, 64)"
      ]
     },
     "execution_count": 34,
     "metadata": {},
     "output_type": "execute_result"
    }
   ],
   "source": [
    "X_tr_s.shape"
   ]
  },
  {
   "cell_type": "code",
   "execution_count": 35,
   "id": "b37383cc",
   "metadata": {},
   "outputs": [
    {
     "name": "stdout",
     "output_type": "stream",
     "text": [
      "Model loaded successfully from ./model_weights.pth to cuda\n"
     ]
    }
   ],
   "source": [
    "# ─────────────────────────────────────────────\n",
    "# 모델 초기화 (새로운 생성자 시그니처에 맞춰 수정)\n",
    "# ─────────────────────────────────────────────\n",
    "from torch.optim import Adam\n",
    "\n",
    "batch_size, seq_len, D = X_tr_s.shape  # D = 64\n",
    "hidden_dim = 256\n",
    "\n",
    "model = LWMWithHead(\n",
    "    input_dim     = D,      # 실제 채널 벡터 차원 (real+imag=64)\n",
    "    patch_length  = 16,     # pretrained 백본이 기대하는 패치 길이\n",
    "    d_model       = 64,     # pretrained 백본 hidden size\n",
    "    max_len       = seq_len,\n",
    "    n_layers      = 12,\n",
    "    hidden_dim    = hidden_dim,\n",
    "    out_dim       = D,      # downstream 예측 차원 (64)\n",
    "    freeze_backbone = True,\n",
    "    ckpt_path     = \"./model_weights.pth\",\n",
    "    device        = device\n",
    ").to(device)\n",
    "# ─────────────────────────────────────────────\n",
    "\n",
    "# 손실함수 & 옵티마이저는 그대로\n",
    "criterion = nn.MSELoss()\n",
    "optimizer = Adam(model.parameters(), lr=1e-4)\n"
   ]
  },
  {
   "cell_type": "code",
   "execution_count": 36,
   "id": "47b92345-e8e1-4683-a722-ff290e5d0644",
   "metadata": {},
   "outputs": [
    {
     "name": "stdout",
     "output_type": "stream",
     "text": [
      "Backbone requires_grad flags:\n",
      "  decoder_bias                            : False\n",
      "  embedding.proj.weight                   : False\n",
      "  embedding.proj.bias                     : False\n",
      "  embedding.pos_embed.weight              : False\n",
      "  embedding.norm.alpha                    : False\n",
      "  embedding.norm.bias                     : False\n",
      "  layers.0.enc_self_attn.W_Q.weight       : False\n",
      "  layers.0.enc_self_attn.W_Q.bias         : False\n",
      "  layers.0.enc_self_attn.W_K.weight       : False\n",
      "  layers.0.enc_self_attn.W_K.bias         : False\n",
      "  layers.0.enc_self_attn.W_V.weight       : False\n",
      "  layers.0.enc_self_attn.W_V.bias         : False\n",
      "  layers.0.enc_self_attn.linear.weight    : False\n",
      "  layers.0.enc_self_attn.linear.bias      : False\n",
      "  layers.0.enc_self_attn.norm.alpha       : False\n",
      "  layers.0.enc_self_attn.norm.bias        : False\n",
      "  layers.0.pos_ffn.fc1.weight             : False\n",
      "  layers.0.pos_ffn.fc1.bias               : False\n",
      "  layers.0.pos_ffn.fc2.weight             : False\n",
      "  layers.0.pos_ffn.fc2.bias               : False\n",
      "  layers.0.pos_ffn.norm.alpha             : False\n",
      "  layers.0.pos_ffn.norm.bias              : False\n",
      "  layers.0.norm.alpha                     : False\n",
      "  layers.0.norm.bias                      : False\n",
      "  layers.1.enc_self_attn.W_Q.weight       : False\n",
      "  layers.1.enc_self_attn.W_Q.bias         : False\n",
      "  layers.1.enc_self_attn.W_K.weight       : False\n",
      "  layers.1.enc_self_attn.W_K.bias         : False\n",
      "  layers.1.enc_self_attn.W_V.weight       : False\n",
      "  layers.1.enc_self_attn.W_V.bias         : False\n",
      "  layers.1.enc_self_attn.linear.weight    : False\n",
      "  layers.1.enc_self_attn.linear.bias      : False\n",
      "  layers.1.enc_self_attn.norm.alpha       : False\n",
      "  layers.1.enc_self_attn.norm.bias        : False\n",
      "  layers.1.pos_ffn.fc1.weight             : False\n",
      "  layers.1.pos_ffn.fc1.bias               : False\n",
      "  layers.1.pos_ffn.fc2.weight             : False\n",
      "  layers.1.pos_ffn.fc2.bias               : False\n",
      "  layers.1.pos_ffn.norm.alpha             : False\n",
      "  layers.1.pos_ffn.norm.bias              : False\n",
      "  layers.1.norm.alpha                     : False\n",
      "  layers.1.norm.bias                      : False\n",
      "  layers.2.enc_self_attn.W_Q.weight       : False\n",
      "  layers.2.enc_self_attn.W_Q.bias         : False\n",
      "  layers.2.enc_self_attn.W_K.weight       : False\n",
      "  layers.2.enc_self_attn.W_K.bias         : False\n",
      "  layers.2.enc_self_attn.W_V.weight       : False\n",
      "  layers.2.enc_self_attn.W_V.bias         : False\n",
      "  layers.2.enc_self_attn.linear.weight    : False\n",
      "  layers.2.enc_self_attn.linear.bias      : False\n",
      "  layers.2.enc_self_attn.norm.alpha       : False\n",
      "  layers.2.enc_self_attn.norm.bias        : False\n",
      "  layers.2.pos_ffn.fc1.weight             : False\n",
      "  layers.2.pos_ffn.fc1.bias               : False\n",
      "  layers.2.pos_ffn.fc2.weight             : False\n",
      "  layers.2.pos_ffn.fc2.bias               : False\n",
      "  layers.2.pos_ffn.norm.alpha             : False\n",
      "  layers.2.pos_ffn.norm.bias              : False\n",
      "  layers.2.norm.alpha                     : False\n",
      "  layers.2.norm.bias                      : False\n",
      "  layers.3.enc_self_attn.W_Q.weight       : False\n",
      "  layers.3.enc_self_attn.W_Q.bias         : False\n",
      "  layers.3.enc_self_attn.W_K.weight       : False\n",
      "  layers.3.enc_self_attn.W_K.bias         : False\n",
      "  layers.3.enc_self_attn.W_V.weight       : False\n",
      "  layers.3.enc_self_attn.W_V.bias         : False\n",
      "  layers.3.enc_self_attn.linear.weight    : False\n",
      "  layers.3.enc_self_attn.linear.bias      : False\n",
      "  layers.3.enc_self_attn.norm.alpha       : False\n",
      "  layers.3.enc_self_attn.norm.bias        : False\n",
      "  layers.3.pos_ffn.fc1.weight             : False\n",
      "  layers.3.pos_ffn.fc1.bias               : False\n",
      "  layers.3.pos_ffn.fc2.weight             : False\n",
      "  layers.3.pos_ffn.fc2.bias               : False\n",
      "  layers.3.pos_ffn.norm.alpha             : False\n",
      "  layers.3.pos_ffn.norm.bias              : False\n",
      "  layers.3.norm.alpha                     : False\n",
      "  layers.3.norm.bias                      : False\n",
      "  layers.4.enc_self_attn.W_Q.weight       : False\n",
      "  layers.4.enc_self_attn.W_Q.bias         : False\n",
      "  layers.4.enc_self_attn.W_K.weight       : False\n",
      "  layers.4.enc_self_attn.W_K.bias         : False\n",
      "  layers.4.enc_self_attn.W_V.weight       : False\n",
      "  layers.4.enc_self_attn.W_V.bias         : False\n",
      "  layers.4.enc_self_attn.linear.weight    : False\n",
      "  layers.4.enc_self_attn.linear.bias      : False\n",
      "  layers.4.enc_self_attn.norm.alpha       : False\n",
      "  layers.4.enc_self_attn.norm.bias        : False\n",
      "  layers.4.pos_ffn.fc1.weight             : False\n",
      "  layers.4.pos_ffn.fc1.bias               : False\n",
      "  layers.4.pos_ffn.fc2.weight             : False\n",
      "  layers.4.pos_ffn.fc2.bias               : False\n",
      "  layers.4.pos_ffn.norm.alpha             : False\n",
      "  layers.4.pos_ffn.norm.bias              : False\n",
      "  layers.4.norm.alpha                     : False\n",
      "  layers.4.norm.bias                      : False\n",
      "  layers.5.enc_self_attn.W_Q.weight       : False\n",
      "  layers.5.enc_self_attn.W_Q.bias         : False\n",
      "  layers.5.enc_self_attn.W_K.weight       : False\n",
      "  layers.5.enc_self_attn.W_K.bias         : False\n",
      "  layers.5.enc_self_attn.W_V.weight       : False\n",
      "  layers.5.enc_self_attn.W_V.bias         : False\n",
      "  layers.5.enc_self_attn.linear.weight    : False\n",
      "  layers.5.enc_self_attn.linear.bias      : False\n",
      "  layers.5.enc_self_attn.norm.alpha       : False\n",
      "  layers.5.enc_self_attn.norm.bias        : False\n",
      "  layers.5.pos_ffn.fc1.weight             : False\n",
      "  layers.5.pos_ffn.fc1.bias               : False\n",
      "  layers.5.pos_ffn.fc2.weight             : False\n",
      "  layers.5.pos_ffn.fc2.bias               : False\n",
      "  layers.5.pos_ffn.norm.alpha             : False\n",
      "  layers.5.pos_ffn.norm.bias              : False\n",
      "  layers.5.norm.alpha                     : False\n",
      "  layers.5.norm.bias                      : False\n",
      "  layers.6.enc_self_attn.W_Q.weight       : False\n",
      "  layers.6.enc_self_attn.W_Q.bias         : False\n",
      "  layers.6.enc_self_attn.W_K.weight       : False\n",
      "  layers.6.enc_self_attn.W_K.bias         : False\n",
      "  layers.6.enc_self_attn.W_V.weight       : False\n",
      "  layers.6.enc_self_attn.W_V.bias         : False\n",
      "  layers.6.enc_self_attn.linear.weight    : False\n",
      "  layers.6.enc_self_attn.linear.bias      : False\n",
      "  layers.6.enc_self_attn.norm.alpha       : False\n",
      "  layers.6.enc_self_attn.norm.bias        : False\n",
      "  layers.6.pos_ffn.fc1.weight             : False\n",
      "  layers.6.pos_ffn.fc1.bias               : False\n",
      "  layers.6.pos_ffn.fc2.weight             : False\n",
      "  layers.6.pos_ffn.fc2.bias               : False\n",
      "  layers.6.pos_ffn.norm.alpha             : False\n",
      "  layers.6.pos_ffn.norm.bias              : False\n",
      "  layers.6.norm.alpha                     : False\n",
      "  layers.6.norm.bias                      : False\n",
      "  layers.7.enc_self_attn.W_Q.weight       : False\n",
      "  layers.7.enc_self_attn.W_Q.bias         : False\n",
      "  layers.7.enc_self_attn.W_K.weight       : False\n",
      "  layers.7.enc_self_attn.W_K.bias         : False\n",
      "  layers.7.enc_self_attn.W_V.weight       : False\n",
      "  layers.7.enc_self_attn.W_V.bias         : False\n",
      "  layers.7.enc_self_attn.linear.weight    : False\n",
      "  layers.7.enc_self_attn.linear.bias      : False\n",
      "  layers.7.enc_self_attn.norm.alpha       : False\n",
      "  layers.7.enc_self_attn.norm.bias        : False\n",
      "  layers.7.pos_ffn.fc1.weight             : False\n",
      "  layers.7.pos_ffn.fc1.bias               : False\n",
      "  layers.7.pos_ffn.fc2.weight             : False\n",
      "  layers.7.pos_ffn.fc2.bias               : False\n",
      "  layers.7.pos_ffn.norm.alpha             : False\n",
      "  layers.7.pos_ffn.norm.bias              : False\n",
      "  layers.7.norm.alpha                     : False\n",
      "  layers.7.norm.bias                      : False\n",
      "  layers.8.enc_self_attn.W_Q.weight       : False\n",
      "  layers.8.enc_self_attn.W_Q.bias         : False\n",
      "  layers.8.enc_self_attn.W_K.weight       : False\n",
      "  layers.8.enc_self_attn.W_K.bias         : False\n",
      "  layers.8.enc_self_attn.W_V.weight       : False\n",
      "  layers.8.enc_self_attn.W_V.bias         : False\n",
      "  layers.8.enc_self_attn.linear.weight    : False\n",
      "  layers.8.enc_self_attn.linear.bias      : False\n",
      "  layers.8.enc_self_attn.norm.alpha       : False\n",
      "  layers.8.enc_self_attn.norm.bias        : False\n",
      "  layers.8.pos_ffn.fc1.weight             : False\n",
      "  layers.8.pos_ffn.fc1.bias               : False\n",
      "  layers.8.pos_ffn.fc2.weight             : False\n",
      "  layers.8.pos_ffn.fc2.bias               : False\n",
      "  layers.8.pos_ffn.norm.alpha             : False\n",
      "  layers.8.pos_ffn.norm.bias              : False\n",
      "  layers.8.norm.alpha                     : False\n",
      "  layers.8.norm.bias                      : False\n",
      "  layers.9.enc_self_attn.W_Q.weight       : False\n",
      "  layers.9.enc_self_attn.W_Q.bias         : False\n",
      "  layers.9.enc_self_attn.W_K.weight       : False\n",
      "  layers.9.enc_self_attn.W_K.bias         : False\n",
      "  layers.9.enc_self_attn.W_V.weight       : False\n",
      "  layers.9.enc_self_attn.W_V.bias         : False\n",
      "  layers.9.enc_self_attn.linear.weight    : False\n",
      "  layers.9.enc_self_attn.linear.bias      : False\n",
      "  layers.9.enc_self_attn.norm.alpha       : False\n",
      "  layers.9.enc_self_attn.norm.bias        : False\n",
      "  layers.9.pos_ffn.fc1.weight             : False\n",
      "  layers.9.pos_ffn.fc1.bias               : False\n",
      "  layers.9.pos_ffn.fc2.weight             : False\n",
      "  layers.9.pos_ffn.fc2.bias               : False\n",
      "  layers.9.pos_ffn.norm.alpha             : False\n",
      "  layers.9.pos_ffn.norm.bias              : False\n",
      "  layers.9.norm.alpha                     : False\n",
      "  layers.9.norm.bias                      : False\n",
      "  layers.10.enc_self_attn.W_Q.weight      : False\n",
      "  layers.10.enc_self_attn.W_Q.bias        : False\n",
      "  layers.10.enc_self_attn.W_K.weight      : False\n",
      "  layers.10.enc_self_attn.W_K.bias        : False\n",
      "  layers.10.enc_self_attn.W_V.weight      : False\n",
      "  layers.10.enc_self_attn.W_V.bias        : False\n",
      "  layers.10.enc_self_attn.linear.weight   : False\n",
      "  layers.10.enc_self_attn.linear.bias     : False\n",
      "  layers.10.enc_self_attn.norm.alpha      : False\n",
      "  layers.10.enc_self_attn.norm.bias       : False\n",
      "  layers.10.pos_ffn.fc1.weight            : False\n",
      "  layers.10.pos_ffn.fc1.bias              : False\n",
      "  layers.10.pos_ffn.fc2.weight            : False\n",
      "  layers.10.pos_ffn.fc2.bias              : False\n",
      "  layers.10.pos_ffn.norm.alpha            : False\n",
      "  layers.10.pos_ffn.norm.bias             : False\n",
      "  layers.10.norm.alpha                    : False\n",
      "  layers.10.norm.bias                     : False\n",
      "  layers.11.enc_self_attn.W_Q.weight      : False\n",
      "  layers.11.enc_self_attn.W_Q.bias        : False\n",
      "  layers.11.enc_self_attn.W_K.weight      : False\n",
      "  layers.11.enc_self_attn.W_K.bias        : False\n",
      "  layers.11.enc_self_attn.W_V.weight      : False\n",
      "  layers.11.enc_self_attn.W_V.bias        : False\n",
      "  layers.11.enc_self_attn.linear.weight   : False\n",
      "  layers.11.enc_self_attn.linear.bias     : False\n",
      "  layers.11.enc_self_attn.norm.alpha      : False\n",
      "  layers.11.enc_self_attn.norm.bias       : False\n",
      "  layers.11.pos_ffn.fc1.weight            : False\n",
      "  layers.11.pos_ffn.fc1.bias              : False\n",
      "  layers.11.pos_ffn.fc2.weight            : False\n",
      "  layers.11.pos_ffn.fc2.bias              : False\n",
      "  layers.11.pos_ffn.norm.alpha            : False\n",
      "  layers.11.pos_ffn.norm.bias             : False\n",
      "  layers.11.norm.alpha                    : False\n",
      "  layers.11.norm.bias                     : False\n",
      "  linear.weight                           : False\n",
      "  linear.bias                             : False\n",
      "  norm.alpha                              : False\n",
      "  norm.bias                               : False\n",
      "  decoder.weight                          : False\n",
      "\n",
      "→ Is backbone fully frozen? True\n"
     ]
    }
   ],
   "source": [
    "# model: LWMWithHead 인스턴스\n",
    "print(\"Backbone requires_grad flags:\")\n",
    "for name, param in model.backbone.named_parameters():\n",
    "    print(f\"  {name:40s}: {param.requires_grad}\")\n",
    "\n",
    "# 또한 전체가 동결됐는지 한 줄로 요약하려면:\n",
    "all_frozen = all(not p.requires_grad for p in model.backbone.parameters())\n",
    "print(f\"\\n→ Is backbone fully frozen? {all_frozen}\")\n"
   ]
  },
  {
   "cell_type": "code",
   "execution_count": 37,
   "id": "a6a78d36",
   "metadata": {},
   "outputs": [],
   "source": [
    "# 모델 평가 함수\n",
    "import torch\n",
    "import torch.nn.functional as F\n",
    "\n",
    "# ─────────────────────────────────────────\n",
    "# 1. 배치 단위 RMSE, NMSE 함수\n",
    "# ─────────────────────────────────────────\n",
    "def rmse(pred: torch.Tensor, target: torch.Tensor) -> torch.Tensor:\n",
    "    \"\"\"\n",
    "    Root-Mean-Squared Error\n",
    "    returns: 스칼라 (배치 평균)\n",
    "    \"\"\"\n",
    "    return torch.sqrt(F.mse_loss(pred, target, reduction=\"mean\"))   # √MSE\n",
    "\n",
    "def nmse(pred: torch.Tensor, target: torch.Tensor, eps : float = 1e-12) -> torch.Tensor:\n",
    "    \"\"\"\n",
    "    Normalized MSE  =  E[‖ŷ − y‖²] / E[‖y‖²]\n",
    "      · 채널 예측 분야에서 흔히 쓰는 지표\n",
    "    returns: 스칼라 (배치 평균)\n",
    "    \"\"\"\n",
    "    # (B, …) → (B,)  : 각 샘플별 제곱합\n",
    "    mse_per_sample   = ((pred - target)**2).view(pred.size(0), -1).sum(dim=1)\n",
    "    power_per_sample = (target**2).view(target.size(0), -1).sum(dim=1) + eps\n",
    "    return (mse_per_sample / power_per_sample).mean()\n",
    "\n",
    "\n",
    "# ─────────────────────────────────────────\n",
    "# 2. 검증 루프 예시\n",
    "# ─────────────────────────────────────────\n",
    "def evaluate(model, loader, device=\"cuda\"):\n",
    "    \"\"\"\n",
    "    Validation loop for IterableDataset.\n",
    "    Returns average RMSE and NMSE over all samples.\n",
    "    \"\"\"\n",
    "    model.eval()\n",
    "    total_rmse, total_nmse, total_samples = 0.0, 0.0, 0\n",
    "\n",
    "    with torch.no_grad():\n",
    "        for input_ids, masked_pos, target in loader:\n",
    "            # Move to device\n",
    "            input_ids, masked_pos, target = (\n",
    "                input_ids.to(device),\n",
    "                masked_pos.to(device),\n",
    "                target.to(device),\n",
    "            )\n",
    "            # Batch size\n",
    "            bs = input_ids.size(0)\n",
    "\n",
    "            # Forward\n",
    "            pred = model(input_ids, masked_pos)\n",
    "\n",
    "            # Accumulate batch metrics\n",
    "            total_rmse    += rmse(pred, target).item() * bs\n",
    "            total_nmse    += nmse(pred, target).item() * bs\n",
    "            total_samples += bs\n",
    "\n",
    "    # Compute averages\n",
    "    return {\n",
    "        \"RMSE\": total_rmse / total_samples,\n",
    "        \"NMSE\": total_nmse / total_samples\n",
    "    }\n",
    "\n"
   ]
  },
  {
   "cell_type": "markdown",
   "id": "8a06b20a",
   "metadata": {},
   "source": [
    "# model training"
   ]
  },
  {
   "cell_type": "code",
   "execution_count": null,
   "id": "1f7ce629",
   "metadata": {},
   "outputs": [
    {
     "name": "stderr",
     "output_type": "stream",
     "text": [
      "[01/10] train:   0%|                                                                          | 0/6268 [00:00<?, ?it/s]"
     ]
    }
   ],
   "source": [
    "from tqdm import tqdm\n",
    "import time, torch\n",
    "\n",
    "num_epochs   = 10                      # 원하는 epoch 수\n",
    "start_time   = time.time()\n",
    "\n",
    "for epoch in range(1, num_epochs+1):\n",
    "\n",
    "    # ① TRAIN ────────────────────────────────\n",
    "    model.train()\n",
    "    run_loss = 0.0\n",
    "\n",
    "    tq = tqdm(train_loader, desc=f\"[{epoch:02d}/{num_epochs}] train\", leave=False)\n",
    "    for b, (inp, mpos, tgt) in enumerate(tq, 1):\n",
    "        inp, mpos, tgt = inp.to(device), mpos.to(device), tgt.to(device)\n",
    "\n",
    "        optimizer.zero_grad()\n",
    "        pred  = model(inp, mpos).squeeze(-1)\n",
    "        loss  = criterion(pred, tgt)\n",
    "        loss.backward()\n",
    "        optimizer.step()\n",
    "\n",
    "        run_loss += loss.item()\n",
    "        if b % 100 == 0:                   # 100 배치마다 진행바에 표시\n",
    "            tq.set_postfix(loss=run_loss/b)\n",
    "\n",
    "    avg_train_loss = run_loss / b\n",
    "\n",
    "    # ② VALID ────────────────────────────────\n",
    "    metrics   = evaluate(model, val_loader, device)\n",
    "    val_rmse  = metrics[\"RMSE\"]\n",
    "    val_nmse  = metrics[\"NMSE\"]\n",
    "    val_nmse_db = 10 * torch.log10(torch.tensor(val_nmse)).item()\n",
    "\n",
    "    print(\n",
    "    f\"[{epoch:02d}/{num_epochs}] \"\n",
    "    f\"Train Loss: {avg_train_loss:.4f}  \"\n",
    "    f\"Val RMSE: {val_rmse:.4f}  \"\n",
    "    f\"Val NMSE: {val_nmse:.4e}  \"\n",
    "    f\"Val NMSE_dB: {val_nmse_db:.1f} dB\"\n",
    ")\n",
    "print(f\"Total training time: {time.time() - start_time:.2f}s\")"
   ]
  },
  {
   "cell_type": "code",
   "execution_count": null,
   "id": "5e7b169d",
   "metadata": {},
   "outputs": [],
   "source": []
  },
  {
   "cell_type": "code",
   "execution_count": null,
   "id": "f6932b03",
   "metadata": {},
   "outputs": [],
   "source": []
  },
  {
   "cell_type": "code",
   "execution_count": null,
   "id": "b5a9fbc8",
   "metadata": {},
   "outputs": [],
   "source": []
  },
  {
   "cell_type": "code",
   "execution_count": null,
   "id": "68711972-6378-452d-9ab4-592f63fa4d68",
   "metadata": {},
   "outputs": [],
   "source": []
  },
  {
   "cell_type": "code",
   "execution_count": null,
   "id": "e512fd9c-7e73-4543-af98-dcd07ecd5d78",
   "metadata": {},
   "outputs": [],
   "source": []
  }
 ],
 "metadata": {
  "kernelspec": {
   "display_name": "Python 3 (ipykernel)",
   "language": "python",
   "name": "python3"
  },
  "language_info": {
   "codemirror_mode": {
    "name": "ipython",
    "version": 3
   },
   "file_extension": ".py",
   "mimetype": "text/x-python",
   "name": "python",
   "nbconvert_exporter": "python",
   "pygments_lexer": "ipython3",
   "version": "3.12.7"
  }
 },
 "nbformat": 4,
 "nbformat_minor": 5
}
